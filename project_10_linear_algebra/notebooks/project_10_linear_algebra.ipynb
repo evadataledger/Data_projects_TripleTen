{
 "cells": [
  {
   "cell_type": "markdown",
   "id": "842c89f4-3632-45a9-b127-b173cb6aeef2",
   "metadata": {},
   "source": [
    "# Project 10: Linear Algebra - Sure Tomorrow"
   ]
  },
  {
   "cell_type": "markdown",
   "id": "b27d8c9b",
   "metadata": {},
   "source": [
    "# Statement"
   ]
  },
  {
   "cell_type": "markdown",
   "id": "6ab645b3",
   "metadata": {},
   "source": [
    "The Sure Tomorrow insurance company wants to solve several tasks with the help of Machine Learning and you are asked to evaluate that possibility.\n",
    "\n",
    "- Task 1: Find customers who are similar to a given customer. This will help the company's agents with marketing.\n",
    "- Task 2: Predict whether a new customer is likely to receive an insurance benefit. Can a prediction model do better than a dummy model?\n",
    "- Task 3: Predict the number of insurance benefits a new customer is likely to receive using a linear regression model.\n",
    "- Task 4: Protect clients' personal data without breaking the model from the previous task. It's necessary to develop a data transformation algorithm that would make it hard to recover personal information if the data fell into the wrong hands. This is called data masking, or data obfuscation. But the data should be protected in such a way that the quality of machine learning models doesn't suffer. You don't need to pick the best model, just prove that the algorithm works correctly."
   ]
  },
  {
   "cell_type": "markdown",
   "id": "b20e15bd-9f55-4932-b787-c5a82517003c",
   "metadata": {},
   "source": [
    "\n",
    "# Project Introduction\n",
    "The project requires handling customer similarity, classification, regression, and data protection.\n",
    "- ✅ Task 1: Find customers who are similar to a given customer. This will help the company's agents with marketing.\n",
    "    - The end-goal: to find **customers similar** to given customer based on Gender, Age, Salary, Number of Family Members. \n",
    "    - Key Question: If a company wants to market new products, how can they identify customers who are most similar to a given person? \n",
    "- ✅Task 2: Predict whether a new customer is likely to receive an insurance benefit. Can a trained prediction model do better than an untrained dummy model? Can it do worse? Explain your logic.\n",
    "- ✅Task 3: Predict the number of insurance benefits a new customer is likely to receive using a linear regression model.\n",
    "- ✅Task 4: Protect clients' personal data without breaking the model from the previous task.\n"
   ]
  },
  {
   "cell_type": "markdown",
   "id": "c3eb417d",
   "metadata": {},
   "source": [
    "# Data Preprocessing & Exploration\n",
    "\n",
    "## Initialization"
   ]
  },
  {
   "cell_type": "code",
   "execution_count": 1,
   "id": "d90aa866-2710-4364-9217-13a72118eb2b",
   "metadata": {},
   "outputs": [],
   "source": [
    "import pandas as pd\n",
    "import matplotlib.pyplot as plt\n",
    "import seaborn as sns\n",
    "import numpy as np\n",
    "import hashlib\n",
    "import sklearn.preprocessing\n",
    "import math\n",
    "import sklearn.metrics\n",
    "import matplotlib.pyplot as plt\n",
    "\n",
    "from sklearn.preprocessing import StandardScaler, MaxAbsScaler\n",
    "from sklearn.metrics.pairwise import euclidean_distances, manhattan_distances\n",
    "from sklearn.neighbors import NearestNeighbors, KNeighborsClassifier\n",
    "\n",
    "from sklearn.model_selection import train_test_split\n",
    "from sklearn.ensemble import RandomForestClassifier, RandomForestRegressor\n",
    "from sklearn.dummy import DummyClassifier\n",
    "from sklearn.metrics import accuracy_score, classification_report, mean_squared_error, r2_score, f1_score, confusion_matrix\n",
    "\n",
    "from sklearn.tree import DecisionTreeClassifier\n",
    "from sklearn.linear_model import LogisticRegression, LinearRegression\n",
    "\n",
    "from numpy.linalg import inv, det\n"
   ]
  },
  {
   "cell_type": "markdown",
   "id": "434c277b-c73c-421f-87ec-88da97cf4b7b",
   "metadata": {},
   "source": [
    "# Load & Explore the Data: \n",
    "- Upload '/datasets/insurance_us.csv', and check for missing values, extreme values, and overall structure.\n",
    "- Load data and conduct a basic check that it's free from obvious issues."
   ]
  },
  {
   "cell_type": "code",
   "execution_count": 2,
   "id": "6de24a49-535f-48d7-825b-f3f32faf4a9b",
   "metadata": {},
   "outputs": [],
   "source": [
    "# Open the files and look into the data. Provide a path to the CVS file: Relative Path\n",
    "# import the source dataset \n",
    "# sure_tomorrow_insurance_us = ('extracted_files/insurance_us.csv')\n",
    "sure_tomorrow_insurance_us = ('/datasets/insurance_us.csv')"
   ]
  },
  {
   "cell_type": "code",
   "execution_count": 3,
   "id": "45a1ea31-76e6-4764-8bad-156c0461ffba",
   "metadata": {},
   "outputs": [],
   "source": [
    "# load the source dataset \n",
    "insurance_us = pd.read_csv(sure_tomorrow_insurance_us)"
   ]
  },
  {
   "cell_type": "markdown",
   "id": "d5b87919",
   "metadata": {},
   "source": [
    "We rename the colums to make the code look more consistent with its style."
   ]
  },
  {
   "cell_type": "code",
   "execution_count": 4,
   "id": "e2bb29cc",
   "metadata": {},
   "outputs": [],
   "source": [
    "insurance_us = insurance_us.rename(columns={'Gender': 'gender', \n",
    "                                  'Age': 'age', 'Salary': \n",
    "                                  'income', 'Family members': \n",
    "                                  'family_members', \n",
    "                                  'Insurance benefits': 'insurance_benefits'})"
   ]
  },
  {
   "cell_type": "code",
   "execution_count": 5,
   "id": "2557ec9a",
   "metadata": {},
   "outputs": [
    {
     "data": {
      "text/html": [
       "<div>\n",
       "<style scoped>\n",
       "    .dataframe tbody tr th:only-of-type {\n",
       "        vertical-align: middle;\n",
       "    }\n",
       "\n",
       "    .dataframe tbody tr th {\n",
       "        vertical-align: top;\n",
       "    }\n",
       "\n",
       "    .dataframe thead th {\n",
       "        text-align: right;\n",
       "    }\n",
       "</style>\n",
       "<table border=\"1\" class=\"dataframe\">\n",
       "  <thead>\n",
       "    <tr style=\"text-align: right;\">\n",
       "      <th></th>\n",
       "      <th>gender</th>\n",
       "      <th>age</th>\n",
       "      <th>income</th>\n",
       "      <th>family_members</th>\n",
       "      <th>insurance_benefits</th>\n",
       "    </tr>\n",
       "  </thead>\n",
       "  <tbody>\n",
       "    <tr>\n",
       "      <th>698</th>\n",
       "      <td>0</td>\n",
       "      <td>32.0</td>\n",
       "      <td>41900.0</td>\n",
       "      <td>1</td>\n",
       "      <td>0</td>\n",
       "    </tr>\n",
       "    <tr>\n",
       "      <th>4622</th>\n",
       "      <td>0</td>\n",
       "      <td>19.0</td>\n",
       "      <td>48000.0</td>\n",
       "      <td>0</td>\n",
       "      <td>0</td>\n",
       "    </tr>\n",
       "    <tr>\n",
       "      <th>2742</th>\n",
       "      <td>1</td>\n",
       "      <td>31.0</td>\n",
       "      <td>43200.0</td>\n",
       "      <td>2</td>\n",
       "      <td>0</td>\n",
       "    </tr>\n",
       "    <tr>\n",
       "      <th>2528</th>\n",
       "      <td>1</td>\n",
       "      <td>36.0</td>\n",
       "      <td>38000.0</td>\n",
       "      <td>0</td>\n",
       "      <td>0</td>\n",
       "    </tr>\n",
       "    <tr>\n",
       "      <th>260</th>\n",
       "      <td>1</td>\n",
       "      <td>42.0</td>\n",
       "      <td>46700.0</td>\n",
       "      <td>0</td>\n",
       "      <td>1</td>\n",
       "    </tr>\n",
       "    <tr>\n",
       "      <th>4664</th>\n",
       "      <td>0</td>\n",
       "      <td>28.0</td>\n",
       "      <td>39900.0</td>\n",
       "      <td>0</td>\n",
       "      <td>0</td>\n",
       "    </tr>\n",
       "    <tr>\n",
       "      <th>117</th>\n",
       "      <td>1</td>\n",
       "      <td>52.0</td>\n",
       "      <td>32000.0</td>\n",
       "      <td>0</td>\n",
       "      <td>2</td>\n",
       "    </tr>\n",
       "    <tr>\n",
       "      <th>4774</th>\n",
       "      <td>0</td>\n",
       "      <td>31.0</td>\n",
       "      <td>32800.0</td>\n",
       "      <td>1</td>\n",
       "      <td>0</td>\n",
       "    </tr>\n",
       "    <tr>\n",
       "      <th>93</th>\n",
       "      <td>1</td>\n",
       "      <td>20.0</td>\n",
       "      <td>25700.0</td>\n",
       "      <td>4</td>\n",
       "      <td>0</td>\n",
       "    </tr>\n",
       "    <tr>\n",
       "      <th>191</th>\n",
       "      <td>1</td>\n",
       "      <td>38.0</td>\n",
       "      <td>44400.0</td>\n",
       "      <td>0</td>\n",
       "      <td>0</td>\n",
       "    </tr>\n",
       "  </tbody>\n",
       "</table>\n",
       "</div>"
      ],
      "text/plain": [
       "      gender   age   income  family_members  insurance_benefits\n",
       "698        0  32.0  41900.0               1                   0\n",
       "4622       0  19.0  48000.0               0                   0\n",
       "2742       1  31.0  43200.0               2                   0\n",
       "2528       1  36.0  38000.0               0                   0\n",
       "260        1  42.0  46700.0               0                   1\n",
       "4664       0  28.0  39900.0               0                   0\n",
       "117        1  52.0  32000.0               0                   2\n",
       "4774       0  31.0  32800.0               1                   0\n",
       "93         1  20.0  25700.0               4                   0\n",
       "191        1  38.0  44400.0               0                   0"
      ]
     },
     "execution_count": 5,
     "metadata": {},
     "output_type": "execute_result"
    }
   ],
   "source": [
    "insurance_us.sample(10)"
   ]
  },
  {
   "cell_type": "code",
   "execution_count": 6,
   "id": "3970e45a-9151-4f3c-9265-46a4ac2db134",
   "metadata": {},
   "outputs": [
    {
     "data": {
      "text/html": [
       "<div>\n",
       "<style scoped>\n",
       "    .dataframe tbody tr th:only-of-type {\n",
       "        vertical-align: middle;\n",
       "    }\n",
       "\n",
       "    .dataframe tbody tr th {\n",
       "        vertical-align: top;\n",
       "    }\n",
       "\n",
       "    .dataframe thead th {\n",
       "        text-align: right;\n",
       "    }\n",
       "</style>\n",
       "<table border=\"1\" class=\"dataframe\">\n",
       "  <thead>\n",
       "    <tr style=\"text-align: right;\">\n",
       "      <th></th>\n",
       "      <th>gender</th>\n",
       "      <th>age</th>\n",
       "      <th>income</th>\n",
       "      <th>family_members</th>\n",
       "      <th>insurance_benefits</th>\n",
       "    </tr>\n",
       "  </thead>\n",
       "  <tbody>\n",
       "    <tr>\n",
       "      <th>0</th>\n",
       "      <td>1</td>\n",
       "      <td>41.0</td>\n",
       "      <td>49600.0</td>\n",
       "      <td>1</td>\n",
       "      <td>0</td>\n",
       "    </tr>\n",
       "    <tr>\n",
       "      <th>1</th>\n",
       "      <td>0</td>\n",
       "      <td>46.0</td>\n",
       "      <td>38000.0</td>\n",
       "      <td>1</td>\n",
       "      <td>1</td>\n",
       "    </tr>\n",
       "    <tr>\n",
       "      <th>2</th>\n",
       "      <td>0</td>\n",
       "      <td>29.0</td>\n",
       "      <td>21000.0</td>\n",
       "      <td>0</td>\n",
       "      <td>0</td>\n",
       "    </tr>\n",
       "    <tr>\n",
       "      <th>3</th>\n",
       "      <td>0</td>\n",
       "      <td>21.0</td>\n",
       "      <td>41700.0</td>\n",
       "      <td>2</td>\n",
       "      <td>0</td>\n",
       "    </tr>\n",
       "    <tr>\n",
       "      <th>4</th>\n",
       "      <td>1</td>\n",
       "      <td>28.0</td>\n",
       "      <td>26100.0</td>\n",
       "      <td>0</td>\n",
       "      <td>0</td>\n",
       "    </tr>\n",
       "  </tbody>\n",
       "</table>\n",
       "</div>"
      ],
      "text/plain": [
       "   gender   age   income  family_members  insurance_benefits\n",
       "0       1  41.0  49600.0               1                   0\n",
       "1       0  46.0  38000.0               1                   1\n",
       "2       0  29.0  21000.0               0                   0\n",
       "3       0  21.0  41700.0               2                   0\n",
       "4       1  28.0  26100.0               0                   0"
      ]
     },
     "execution_count": 6,
     "metadata": {},
     "output_type": "execute_result"
    }
   ],
   "source": [
    "# preview the data. Get a quick look at the first five rows of each dataset to understand the variables/attibutes\n",
    "insurance_us.head()"
   ]
  },
  {
   "cell_type": "code",
   "execution_count": 7,
   "id": "766a993f-7642-41f8-8334-62892cc03dcf",
   "metadata": {},
   "outputs": [
    {
     "name": "stdout",
     "output_type": "stream",
     "text": [
      "<class 'pandas.core.frame.DataFrame'>\n",
      "RangeIndex: 5000 entries, 0 to 4999\n",
      "Data columns (total 5 columns):\n",
      " #   Column              Non-Null Count  Dtype  \n",
      "---  ------              --------------  -----  \n",
      " 0   gender              5000 non-null   int64  \n",
      " 1   age                 5000 non-null   float64\n",
      " 2   income              5000 non-null   float64\n",
      " 3   family_members      5000 non-null   int64  \n",
      " 4   insurance_benefits  5000 non-null   int64  \n",
      "dtypes: float64(2), int64(3)\n",
      "memory usage: 195.4 KB\n"
     ]
    }
   ],
   "source": [
    "# preview the general information for the Sure Tomrrow dataset to understand the variables/attibutes\n",
    "insurance_us.info()"
   ]
  },
  {
   "cell_type": "code",
   "execution_count": 8,
   "id": "07c840ab",
   "metadata": {},
   "outputs": [],
   "source": [
    "# we may want to fix the age type (from float to int) though this is not critical\n",
    "\n",
    "# write your conversion here if you choose:\n",
    "# Changing \"Age\" from float64 to int32 is not necessary at this time, I do not believe it will affect the model's performance or predictions. \n",
    "# 'Age' is already a whole number, so converting from float 54 to int32 would only affect memory usage, not the data itself. "
   ]
  },
  {
   "cell_type": "code",
   "execution_count": 9,
   "id": "1d24761a",
   "metadata": {},
   "outputs": [],
   "source": [
    "# now have a look at the data's descriptive statistics. \n",
    "# Does everything look okay?\n",
    "# See the respone in the cell (above)"
   ]
  },
  {
   "cell_type": "code",
   "execution_count": 10,
   "id": "098057cd-c5f0-4ef7-a8d1-30258e4c2da1",
   "metadata": {},
   "outputs": [
    {
     "data": {
      "text/plain": [
       "gender                0\n",
       "age                   0\n",
       "income                0\n",
       "family_members        0\n",
       "insurance_benefits    0\n",
       "dtype: int64"
      ]
     },
     "metadata": {},
     "output_type": "display_data"
    }
   ],
   "source": [
    "# count null values in each column for the full set\n",
    "null_count = insurance_us.isna().sum()\n",
    "display(null_count)"
   ]
  },
  {
   "cell_type": "code",
   "execution_count": 11,
   "id": "2635c1f1-098b-4516-be78-20527dafdbf3",
   "metadata": {},
   "outputs": [
    {
     "data": {
      "text/plain": [
       "(5000, 5)"
      ]
     },
     "execution_count": 11,
     "metadata": {},
     "output_type": "execute_result"
    }
   ],
   "source": [
    "# original shapes, for reference, before any processing\n",
    "insurance_us.shape"
   ]
  },
  {
   "cell_type": "code",
   "execution_count": 12,
   "id": "5241d51a-2fd2-48fb-9176-686d4e5c6f69",
   "metadata": {},
   "outputs": [
    {
     "data": {
      "text/html": [
       "<div>\n",
       "<style scoped>\n",
       "    .dataframe tbody tr th:only-of-type {\n",
       "        vertical-align: middle;\n",
       "    }\n",
       "\n",
       "    .dataframe tbody tr th {\n",
       "        vertical-align: top;\n",
       "    }\n",
       "\n",
       "    .dataframe thead th {\n",
       "        text-align: right;\n",
       "    }\n",
       "</style>\n",
       "<table border=\"1\" class=\"dataframe\">\n",
       "  <thead>\n",
       "    <tr style=\"text-align: right;\">\n",
       "      <th></th>\n",
       "      <th>gender</th>\n",
       "      <th>age</th>\n",
       "      <th>income</th>\n",
       "      <th>family_members</th>\n",
       "      <th>insurance_benefits</th>\n",
       "    </tr>\n",
       "  </thead>\n",
       "  <tbody>\n",
       "    <tr>\n",
       "      <th>count</th>\n",
       "      <td>5000.000000</td>\n",
       "      <td>5000.000000</td>\n",
       "      <td>5000.000000</td>\n",
       "      <td>5000.000000</td>\n",
       "      <td>5000.000000</td>\n",
       "    </tr>\n",
       "    <tr>\n",
       "      <th>mean</th>\n",
       "      <td>0.499000</td>\n",
       "      <td>30.952800</td>\n",
       "      <td>39916.360000</td>\n",
       "      <td>1.194200</td>\n",
       "      <td>0.148000</td>\n",
       "    </tr>\n",
       "    <tr>\n",
       "      <th>std</th>\n",
       "      <td>0.500049</td>\n",
       "      <td>8.440807</td>\n",
       "      <td>9900.083569</td>\n",
       "      <td>1.091387</td>\n",
       "      <td>0.463183</td>\n",
       "    </tr>\n",
       "    <tr>\n",
       "      <th>min</th>\n",
       "      <td>0.000000</td>\n",
       "      <td>18.000000</td>\n",
       "      <td>5300.000000</td>\n",
       "      <td>0.000000</td>\n",
       "      <td>0.000000</td>\n",
       "    </tr>\n",
       "    <tr>\n",
       "      <th>25%</th>\n",
       "      <td>0.000000</td>\n",
       "      <td>24.000000</td>\n",
       "      <td>33300.000000</td>\n",
       "      <td>0.000000</td>\n",
       "      <td>0.000000</td>\n",
       "    </tr>\n",
       "    <tr>\n",
       "      <th>50%</th>\n",
       "      <td>0.000000</td>\n",
       "      <td>30.000000</td>\n",
       "      <td>40200.000000</td>\n",
       "      <td>1.000000</td>\n",
       "      <td>0.000000</td>\n",
       "    </tr>\n",
       "    <tr>\n",
       "      <th>75%</th>\n",
       "      <td>1.000000</td>\n",
       "      <td>37.000000</td>\n",
       "      <td>46600.000000</td>\n",
       "      <td>2.000000</td>\n",
       "      <td>0.000000</td>\n",
       "    </tr>\n",
       "    <tr>\n",
       "      <th>max</th>\n",
       "      <td>1.000000</td>\n",
       "      <td>65.000000</td>\n",
       "      <td>79000.000000</td>\n",
       "      <td>6.000000</td>\n",
       "      <td>5.000000</td>\n",
       "    </tr>\n",
       "  </tbody>\n",
       "</table>\n",
       "</div>"
      ],
      "text/plain": [
       "            gender          age        income  family_members  \\\n",
       "count  5000.000000  5000.000000   5000.000000     5000.000000   \n",
       "mean      0.499000    30.952800  39916.360000        1.194200   \n",
       "std       0.500049     8.440807   9900.083569        1.091387   \n",
       "min       0.000000    18.000000   5300.000000        0.000000   \n",
       "25%       0.000000    24.000000  33300.000000        0.000000   \n",
       "50%       0.000000    30.000000  40200.000000        1.000000   \n",
       "75%       1.000000    37.000000  46600.000000        2.000000   \n",
       "max       1.000000    65.000000  79000.000000        6.000000   \n",
       "\n",
       "       insurance_benefits  \n",
       "count         5000.000000  \n",
       "mean             0.148000  \n",
       "std              0.463183  \n",
       "min              0.000000  \n",
       "25%              0.000000  \n",
       "50%              0.000000  \n",
       "75%              0.000000  \n",
       "max              5.000000  "
      ]
     },
     "metadata": {},
     "output_type": "display_data"
    }
   ],
   "source": [
    "display(insurance_us.describe())"
   ]
  },
  {
   "cell_type": "markdown",
   "id": "a61ac6e4-7522-4b13-8ffd-c75c4f4c9dc4",
   "metadata": {},
   "source": [
    "**Descriptive Statistics Key Insights**\n",
    "\n",
    "- Gender: mean is 0.499000 (~50) --> Balanced dataset (almost equal male and female)\n",
    "- Age:\n",
    "  - Min: 18 ---->  Youngest insured person.\n",
    "  - Max: 64 ---->  Oldest insured person.\n",
    "  - Mean: 30.95 ---->  Most insured are in their early 30s.\n",
    "- Salary:\n",
    "  - Min: 5,000; Max: $79,000.\n",
    "  - Mean: 39,916 ----> Most insured earn around 40k.\n",
    "- Family Members:\n",
    "  - Min: 0; Max: 6\n",
    "  - Mean: 1.19 ---->  Most insured have 1 family member.\n",
    "- Insurance Benefits:\n",
    "  - Min: 0; Max: 5\n",
    "  - Mean: 0.148 ---->  Most people do not receive benefits."
   ]
  },
  {
   "cell_type": "code",
   "execution_count": 13,
   "id": "4a44bdc0-d18a-4b6d-ae25-dcfe229dcee4",
   "metadata": {},
   "outputs": [
    {
     "name": "stdout",
     "output_type": "stream",
     "text": [
      "\n",
      "Missing Values in Insurance (US) Dataset:\n",
      " Series([], dtype: int64)\n"
     ]
    }
   ],
   "source": [
    "# Count missing values in insurance_us dataset\n",
    "missing_values_insurance = insurance_us.isna().sum()\n",
    "\n",
    "# Display columns with missing values only\n",
    "print(\"\\nMissing Values in Insurance (US) Dataset:\\n\", missing_values_insurance[missing_values_insurance > 0])"
   ]
  },
  {
   "cell_type": "markdown",
   "id": "252ef233-5beb-4452-8bf2-92232e5504ce",
   "metadata": {},
   "source": [
    "**Analysis:**\n",
    "\n",
    "Dataset Overview\n",
    "- ✅ 5,000 rows, 5 columns\n",
    "- ✅ All columns have 0 missing values → ✅ No data imputation needed.\n",
    "- ✅ Column breakdown:\n",
    "  - **Gender** (int64): Encoded as 0 (Female) and 1 (Male).\n",
    "  - **Age** (float64): Age of the insured person.\n",
    "  - **Salary** (float64): Annual salary in dollars.\n",
    "  - **Family Members** (int64): Number of family members.\n",
    "  - **Insurance Benefits** (int64): Number of benefits received in the last 5 years (**Target Variable**)."
   ]
  },
  {
   "cell_type": "code",
   "execution_count": 14,
   "id": "e1f65b1a",
   "metadata": {},
   "outputs": [
    {
     "data": {
      "text/plain": [
       "Index(['gender', 'age', 'income', 'family_members', 'insurance_benefits'], dtype='object')"
      ]
     },
     "execution_count": 14,
     "metadata": {},
     "output_type": "execute_result"
    }
   ],
   "source": [
    "insurance_us.columns"
   ]
  },
  {
   "cell_type": "code",
   "execution_count": 15,
   "id": "3a78c7a7-16cb-4540-baa1-d72978e3e25c",
   "metadata": {},
   "outputs": [
    {
     "data": {
      "image/png": "[encoded data removed]",
      "text/plain": [
       "<Figure size 1500x500 with 4 Axes>"
      ]
     },
     "metadata": {},
     "output_type": "display_data"
    }
   ],
   "source": [
    "# Data Visualization\n",
    "# list of numerical features to check for outliers\n",
    "numerical_features = ['age', 'income', 'family_members', 'insurance_benefits']\n",
    "\n",
    "# set figure size for better readability \n",
    "plt.figure(figsize=(15,5))\n",
    "\n",
    "# generate boxplots for each numerical features\n",
    "for i, feature in enumerate(numerical_features, 1):\n",
    "    plt.subplot(1, len(numerical_features), i)\n",
    "    sns.boxplot(y=insurance_us[feature])\n",
    "    plt.title(f'Boxplot of {feature}')\n",
    "\n",
    "# adjust layout and display\n",
    "plt.tight_layout()\n",
    "plt.show()"
   ]
  },
  {
   "cell_type": "markdown",
   "id": "bf52a3fa-ba0f-44df-815b-5b8e7c2c084d",
   "metadata": {},
   "source": [
    "**Outlier Detection Results (Boxplots)**\n",
    "- Age:\n",
    "  - No extreme outliers.\n",
    "  - Data is within a reasonable range (18–65 years).\n",
    "- Salary:\n",
    "  - A few higher-end salaries (~$79,000) appear as outliers.\n",
    "  - Might be worth investigating whether these are valid high earners or data entry errors.\n",
    "- Family Members:\n",
    "  - Some people have 6 family members, which seems high but plausible.\n",
    "  - No extreme outliers.\n",
    "- Insurance Benefits:\n",
    "  - Majority of values are 0 (most customers don’t receive benefits).\n",
    "  - A few individuals received 5 benefits (outliers but expected for high-need customers)."
   ]
  },
  {
   "cell_type": "code",
   "execution_count": 16,
   "id": "49a91be0",
   "metadata": {},
   "outputs": [
    {
     "name": "stdout",
     "output_type": "stream",
     "text": [
      "Number of Income Outliers: 37\n"
     ]
    },
    {
     "data": {
      "text/html": [
       "<div>\n",
       "<style scoped>\n",
       "    .dataframe tbody tr th:only-of-type {\n",
       "        vertical-align: middle;\n",
       "    }\n",
       "\n",
       "    .dataframe tbody tr th {\n",
       "        vertical-align: top;\n",
       "    }\n",
       "\n",
       "    .dataframe thead th {\n",
       "        text-align: right;\n",
       "    }\n",
       "</style>\n",
       "<table border=\"1\" class=\"dataframe\">\n",
       "  <thead>\n",
       "    <tr style=\"text-align: right;\">\n",
       "      <th></th>\n",
       "      <th>gender</th>\n",
       "      <th>age</th>\n",
       "      <th>income</th>\n",
       "      <th>family_members</th>\n",
       "      <th>insurance_benefits</th>\n",
       "    </tr>\n",
       "  </thead>\n",
       "  <tbody>\n",
       "    <tr>\n",
       "      <th>42</th>\n",
       "      <td>1</td>\n",
       "      <td>42.0</td>\n",
       "      <td>69200.0</td>\n",
       "      <td>0</td>\n",
       "      <td>1</td>\n",
       "    </tr>\n",
       "    <tr>\n",
       "      <th>425</th>\n",
       "      <td>1</td>\n",
       "      <td>30.0</td>\n",
       "      <td>67700.0</td>\n",
       "      <td>0</td>\n",
       "      <td>0</td>\n",
       "    </tr>\n",
       "    <tr>\n",
       "      <th>437</th>\n",
       "      <td>0</td>\n",
       "      <td>28.0</td>\n",
       "      <td>8900.0</td>\n",
       "      <td>4</td>\n",
       "      <td>0</td>\n",
       "    </tr>\n",
       "    <tr>\n",
       "      <th>483</th>\n",
       "      <td>0</td>\n",
       "      <td>29.0</td>\n",
       "      <td>9800.0</td>\n",
       "      <td>2</td>\n",
       "      <td>0</td>\n",
       "    </tr>\n",
       "    <tr>\n",
       "      <th>726</th>\n",
       "      <td>1</td>\n",
       "      <td>20.0</td>\n",
       "      <td>5300.0</td>\n",
       "      <td>1</td>\n",
       "      <td>0</td>\n",
       "    </tr>\n",
       "  </tbody>\n",
       "</table>\n",
       "</div>"
      ],
      "text/plain": [
       "     gender   age   income  family_members  insurance_benefits\n",
       "42        1  42.0  69200.0               0                   1\n",
       "425       1  30.0  67700.0               0                   0\n",
       "437       0  28.0   8900.0               4                   0\n",
       "483       0  29.0   9800.0               2                   0\n",
       "726       1  20.0   5300.0               1                   0"
      ]
     },
     "execution_count": 16,
     "metadata": {},
     "output_type": "execute_result"
    }
   ],
   "source": [
    "# identify potential salary outliers using IQR method \n",
    "Q1 = insurance_us['income'].quantile(0.25)\n",
    "Q3 = insurance_us['income'].quantile(0.75)\n",
    "IQR = Q3 - Q1\n",
    "\n",
    "# define the lower and upper bounds for outliers\n",
    "lower_bound = Q1 - 1.5 * IQR\n",
    "upper_bound = Q3 + 1.5 * IQR\n",
    "\n",
    "# find outliers \n",
    "outliers = insurance_us[(insurance_us['income'] < lower_bound) | (insurance_us['income'] > upper_bound)]\n",
    "\n",
    "# diplay the number and details of outliers \n",
    "num_outliers = outliers.shape[0]\n",
    "print(f\"Number of Income Outliers: {num_outliers}\")\n",
    "\n",
    "# Show the first few salary outliers\n",
    "outliers.head()\n"
   ]
  },
  {
   "cell_type": "code",
   "execution_count": 17,
   "id": "f0238eeb",
   "metadata": {},
   "outputs": [
    {
     "data": {
      "image/png": "[encoded data removed]",
      "text/plain": [
       "<Figure size 800x500 with 1 Axes>"
      ]
     },
     "metadata": {},
     "output_type": "display_data"
    }
   ],
   "source": [
    "# histogram of Insurance benefits (target variable)\n",
    "plt.figure(figsize=(8, 5))\n",
    "plt.hist(insurance_us['insurance_benefits'], bins=range(7), edgecolor='black', alpha=0.7)\n",
    "plt.xticks(range(6))\n",
    "plt.xlabel(\"Number of Insurance Benefits\")\n",
    "plt.ylabel(\"Count\")\n",
    "plt.title(\"Distribution of Insurance Benefits\")\n",
    "plt.show()"
   ]
  },
  {
   "cell_type": "markdown",
   "id": "bf60d347",
   "metadata": {},
   "source": [
    "**Histogram of Insurance Benefits (Target Variable):**\n",
    "- Histogram shows how insurance benefits are distibuted among customers. \n",
    "- Highly imbalanced distrubtion. Most customer received 0 benefits. \n",
    "- The number of customers rapidly decreases as the number of benefits increases. \n",
    "- Only a small percentage of customers received 3+ benefits. "
   ]
  },
  {
   "cell_type": "markdown",
   "id": "0fff5b9d",
   "metadata": {},
   "source": [
    "## EDA"
   ]
  },
  {
   "cell_type": "markdown",
   "id": "685e7326",
   "metadata": {},
   "source": [
    "Let's quickly check whether there are certain groups of customers by looking at the pair plot."
   ]
  },
  {
   "cell_type": "code",
   "execution_count": 18,
   "id": "032db011",
   "metadata": {},
   "outputs": [
    {
     "data": {
      "image/png": "[encoded data removed]",
      "text/plain": [
       "<Figure size 1200x1200 with 30 Axes>"
      ]
     },
     "metadata": {},
     "output_type": "display_data"
    }
   ],
   "source": [
    "g = sns.pairplot(insurance_us, kind='hist')\n",
    "g.fig.set_size_inches(12,12)"
   ]
  },
  {
   "cell_type": "markdown",
   "id": "f8560d83",
   "metadata": {},
   "source": [
    "Ok, it is a bit difficult to spot obvious groups (clusters) as it is difficult to combine several variables simultaneously (to analyze multivariate distributions). That's where LA and ML can be quite handy."
   ]
  },
  {
   "cell_type": "markdown",
   "id": "3413fdc6",
   "metadata": {},
   "source": [
    "Notation for Learning Process (histogram plotting): \n",
    "\n",
    "1. Pairwise distribution Visualation. \n",
    "2. Generated histograms for all numerical feature pairs, showing how variables relate to each other. \n",
    "**Too much information at once, since 'insurance_us' has multiple numerical features, the pairplot becomes cluttered and hard to interpret. Every feature is compared against all others, leading to an overwhelming visualization.**\n"
   ]
  },
  {
   "cell_type": "markdown",
   "id": "9c064bdd-1bbf-499a-b503-dd473c7ae8bd",
   "metadata": {},
   "source": [
    "\n",
    "# Task 1: Find customers who are similar to a given customer. This will help the company's agents with marketing."
   ]
  },
  {
   "cell_type": "markdown",
   "id": "a008d537",
   "metadata": {},
   "source": [
    "In the language of ML, it is necessary to develop a procedure that returns k nearest neighbors (objects) for a given object based on the distance between the objects.\n",
    "\n",
    "You may want to review the following lessons (chapter -> lesson)\n",
    "- Distance Between Vectors -> Euclidean Distance\n",
    "- Distance Between Vectors -> Manhattan Distance\n",
    "\n",
    "To solve the task, we can try different distance metrics."
   ]
  },
  {
   "cell_type": "markdown",
   "id": "a1c4af94",
   "metadata": {},
   "source": [
    "Write a function that returns k nearest neighbors for an $n^{th}$ object based on a specified distance metric. The number of received insurance benefits should not be taken into account for this task. \n",
    "\n",
    "You can use a ready implementation of the kNN algorithm from scikit-learn (check [the link](https://scikit-learn.org/stable/modules/generated/sklearn.neighbors.NearestNeighbors.html#sklearn.neighbors.NearestNeighbors)) or use your own.\n",
    "\n",
    "Test it for four combination of two cases\n",
    "- Scaling\n",
    "  - the data is not scaled\n",
    "  - the data is scaled with the [MaxAbsScaler](https://scikit-learn.org/stable/modules/generated/sklearn.preprocessing.MaxAbsScaler.html) scaler\n",
    "- Distance Metrics\n",
    "  - Euclidean\n",
    "  - Manhattan\n",
    "\n",
    "Answer these questions:\n",
    "- Does the data being not scaled affect the kNN algorithm? If so, how does that appear?\n",
    "- How similar are the results using the Manhattan distance metric (regardless of the scaling)?"
   ]
  },
  {
   "cell_type": "code",
   "execution_count": 19,
   "id": "38b04fe0",
   "metadata": {},
   "outputs": [],
   "source": [
    "# define features columns\n",
    "feature_names = ['gender', 'age', 'income', 'family_members']"
   ]
  },
  {
   "cell_type": "code",
   "execution_count": 20,
   "id": "3527605c",
   "metadata": {},
   "outputs": [],
   "source": [
    "# function to find k nearest neighbors\n",
    "def get_knn(df, n, k, metric):\n",
    "    \n",
    "    \"\"\"\n",
    "    Returns k nearest neighbors\n",
    "\n",
    "    :param df: pandas DataFrame used to find similar objects within\n",
    "    :param n: object no for which the nearest neighbours are looked for\n",
    "    :param k: the number of the nearest neighbours to return\n",
    "    :param metric: name of distance metric\n",
    "    \"\"\"\n",
    "    # initialize kNN model with selected distance metric\n",
    "    nbrs = NearestNeighbors(n_neighbors=k, metric=metric)\n",
    "    nbrs.fit(df[feature_names])\n",
    "    # get distances and indices of k nearest neighbors\n",
    "    nbrs_distances, nbrs_indices = nbrs.kneighbors([df.iloc[n][feature_names]], k, return_distance=True)\n",
    "    \n",
    "    # combine results into a DataFrame\n",
    "    df_res = pd.concat([\n",
    "        df.iloc[nbrs_indices[0]], \n",
    "        pd.DataFrame(nbrs_distances.T, index=nbrs_indices[0], columns=['distance'])\n",
    "        ], axis=1)\n",
    "    \n",
    "    return df_res"
   ]
  },
  {
   "cell_type": "markdown",
   "id": "b4687cfd",
   "metadata": {},
   "source": [
    "Scaling the data. (MaxAbsScaler)\n",
    "- The project requires both scaled and unscaled data:\n",
    "    1. Create a scaled version of the dataset using MaxAbsScaler\n",
    "    2. Test the kNN function on both versions"
   ]
  },
  {
   "cell_type": "code",
   "execution_count": 21,
   "id": "67813c18",
   "metadata": {},
   "outputs": [],
   "source": [
    "# this is redundant, but it is part of the template, will keep\n",
    "feature_names = ['gender', 'age', 'income', 'family_members']\n",
    "\n",
    "# apply MaxAbsScaler for scaling\n",
    "transformer_mas = sklearn.preprocessing.MaxAbsScaler().fit(insurance_us[feature_names].to_numpy())\n",
    "\n",
    "# created a scaled copy of the dataset\n",
    "insurance_us_scaled = insurance_us.copy()\n",
    "insurance_us_scaled.loc[:, feature_names] = transformer_mas.transform(insurance_us[feature_names].to_numpy())"
   ]
  },
  {
   "cell_type": "code",
   "execution_count": 22,
   "id": "facd1a31",
   "metadata": {},
   "outputs": [
    {
     "data": {
      "text/html": [
       "<div>\n",
       "<style scoped>\n",
       "    .dataframe tbody tr th:only-of-type {\n",
       "        vertical-align: middle;\n",
       "    }\n",
       "\n",
       "    .dataframe tbody tr th {\n",
       "        vertical-align: top;\n",
       "    }\n",
       "\n",
       "    .dataframe thead th {\n",
       "        text-align: right;\n",
       "    }\n",
       "</style>\n",
       "<table border=\"1\" class=\"dataframe\">\n",
       "  <thead>\n",
       "    <tr style=\"text-align: right;\">\n",
       "      <th></th>\n",
       "      <th>gender</th>\n",
       "      <th>age</th>\n",
       "      <th>income</th>\n",
       "      <th>family_members</th>\n",
       "      <th>insurance_benefits</th>\n",
       "    </tr>\n",
       "  </thead>\n",
       "  <tbody>\n",
       "    <tr>\n",
       "      <th>4399</th>\n",
       "      <td>1.0</td>\n",
       "      <td>0.323077</td>\n",
       "      <td>0.386076</td>\n",
       "      <td>0.166667</td>\n",
       "      <td>0</td>\n",
       "    </tr>\n",
       "    <tr>\n",
       "      <th>3520</th>\n",
       "      <td>1.0</td>\n",
       "      <td>0.338462</td>\n",
       "      <td>0.759494</td>\n",
       "      <td>0.000000</td>\n",
       "      <td>0</td>\n",
       "    </tr>\n",
       "    <tr>\n",
       "      <th>1810</th>\n",
       "      <td>0.0</td>\n",
       "      <td>0.353846</td>\n",
       "      <td>0.459494</td>\n",
       "      <td>0.166667</td>\n",
       "      <td>0</td>\n",
       "    </tr>\n",
       "    <tr>\n",
       "      <th>3034</th>\n",
       "      <td>1.0</td>\n",
       "      <td>0.523077</td>\n",
       "      <td>0.750633</td>\n",
       "      <td>0.166667</td>\n",
       "      <td>0</td>\n",
       "    </tr>\n",
       "    <tr>\n",
       "      <th>731</th>\n",
       "      <td>1.0</td>\n",
       "      <td>0.292308</td>\n",
       "      <td>0.450633</td>\n",
       "      <td>0.333333</td>\n",
       "      <td>0</td>\n",
       "    </tr>\n",
       "  </tbody>\n",
       "</table>\n",
       "</div>"
      ],
      "text/plain": [
       "      gender       age    income  family_members  insurance_benefits\n",
       "4399     1.0  0.323077  0.386076        0.166667                   0\n",
       "3520     1.0  0.338462  0.759494        0.000000                   0\n",
       "1810     0.0  0.353846  0.459494        0.166667                   0\n",
       "3034     1.0  0.523077  0.750633        0.166667                   0\n",
       "731      1.0  0.292308  0.450633        0.333333                   0"
      ]
     },
     "execution_count": 22,
     "metadata": {},
     "output_type": "execute_result"
    }
   ],
   "source": [
    "insurance_us_scaled.sample(5)"
   ]
  },
  {
   "cell_type": "markdown",
   "id": "6e51454f",
   "metadata": {},
   "source": [
    "Now, let's get similar records for a given one for every combination"
   ]
  },
  {
   "cell_type": "markdown",
   "id": "61dc0a88",
   "metadata": {},
   "source": [
    "**Understanding each column**"
   ]
  },
  {
   "cell_type": "markdown",
   "id": "ab5fdd3c",
   "metadata": {},
   "source": [
    "*Columns*:\n",
    "- gender  ----  0=Female, 1=Male\n",
    "- age  ----  Age of the customer\n",
    "- income  ---- Annual income of the customer\n",
    "- family_members  ---- Number of family members\n",
    "- insurance_benefits  ---- Number of benefits received \n",
    "- distance  ---- **Euclidean distance from the target customer (n=10)**\n",
    "- Unscaled data means that large numbers (like income) may dominate the distance calculations - this is why we later test scaling (MaxAbsScaler).\n"
   ]
  },
  {
   "cell_type": "code",
   "execution_count": 23,
   "id": "7636c8e3",
   "metadata": {},
   "outputs": [],
   "source": [
    "# select a random cluster from testing (e.g., customer at index 10)\n",
    "n = 10\n",
    "k = 5 # number of nearest neighbors"
   ]
  },
  {
   "cell_type": "code",
   "execution_count": 24,
   "id": "0112dcc4",
   "metadata": {},
   "outputs": [
    {
     "name": "stdout",
     "output_type": "stream",
     "text": [
      "\n",
      "=== Unscaled Data + Euclidean Distance ===\n",
      "      gender   age   income  family_members  insurance_benefits  distance\n",
      "10         1  25.0  36600.0               1                   0  0.000000\n",
      "4039       1  25.0  36600.0               2                   0  1.000000\n",
      "2037       1  26.0  36600.0               0                   0  1.414214\n",
      "3247       1  26.0  36600.0               2                   0  1.414214\n",
      "1508       0  26.0  36600.0               0                   0  1.732051\n"
     ]
    }
   ],
   "source": [
    "print(\"\\n=== Unscaled Data + Euclidean Distance ===\")\n",
    "print(get_knn(insurance_us, n, k, 'euclidean'))"
   ]
  },
  {
   "cell_type": "code",
   "execution_count": 25,
   "id": "7a1bfbc3",
   "metadata": {
    "scrolled": true
   },
   "outputs": [
    {
     "name": "stdout",
     "output_type": "stream",
     "text": [
      "\n",
      "=== Unscaled Data + Manhattan Distance ===\n",
      "      gender   age   income  family_members  insurance_benefits  distance\n",
      "10         1  25.0  36600.0               1                   0       0.0\n",
      "4039       1  25.0  36600.0               2                   0       1.0\n",
      "2037       1  26.0  36600.0               0                   0       2.0\n",
      "3247       1  26.0  36600.0               2                   0       2.0\n",
      "1508       0  26.0  36600.0               0                   0       3.0\n"
     ]
    }
   ],
   "source": [
    "print(\"\\n=== Unscaled Data + Manhattan Distance ===\")\n",
    "print(get_knn(insurance_us, n, k, 'manhattan'))"
   ]
  },
  {
   "cell_type": "markdown",
   "id": "c23ee4be",
   "metadata": {},
   "source": [
    "**Differences Between Unscaled Euclidean & Manhattan Distance**\n",
    "* Same first nearest neighbor (index 10)\t\n",
    "    - Euclidean Distance:  0.000000\t\n",
    "    - Manhattan Distance 0.0\n",
    "* Closest neighbor (index 4039)             \n",
    "    - Euclidean Distance:  1.000000\n",
    "    - Manhattan Distance 1.0\n",
    "* Next two neighbors (indexes 2037 & 3247)\n",
    "    - Euclidean Distance:  1.414214\n",
    "    - Manhattan Distance 2.0\n",
    "* Fifth neighbor (index 1508)\n",
    "    - Euclidean Distance:  1.732051\n",
    "    - Manhattan Distance: 3.0"
   ]
  },
  {
   "cell_type": "code",
   "execution_count": 26,
   "id": "df73510c",
   "metadata": {},
   "outputs": [
    {
     "name": "stdout",
     "output_type": "stream",
     "text": [
      "\n",
      "=== Scaled Data + Euclidean Distance ===\n",
      "      gender       age    income  family_members  insurance_benefits  distance\n",
      "10       1.0  0.384615  0.463291        0.166667                   0  0.000000\n",
      "4377     1.0  0.384615  0.473418        0.166667                   0  0.010127\n",
      "1389     1.0  0.369231  0.464557        0.166667                   0  0.015437\n",
      "760      1.0  0.369231  0.462025        0.166667                   0  0.015437\n",
      "2254     1.0  0.400000  0.455696        0.166667                   0  0.017157\n"
     ]
    }
   ],
   "source": [
    "print(\"\\n=== Scaled Data + Euclidean Distance ===\")\n",
    "print(get_knn(insurance_us_scaled, n, k, 'euclidean'))"
   ]
  },
  {
   "cell_type": "code",
   "execution_count": 27,
   "id": "ca591539",
   "metadata": {},
   "outputs": [
    {
     "name": "stdout",
     "output_type": "stream",
     "text": [
      "\n",
      "=== Scaled Data + Manhattan Distance ===\n",
      "      gender       age    income  family_members  insurance_benefits  distance\n",
      "10       1.0  0.384615  0.463291        0.166667                   0  0.000000\n",
      "4377     1.0  0.384615  0.473418        0.166667                   0  0.010127\n",
      "1389     1.0  0.369231  0.464557        0.166667                   0  0.016650\n",
      "760      1.0  0.369231  0.462025        0.166667                   0  0.016650\n",
      "2254     1.0  0.400000  0.455696        0.166667                   0  0.022980\n"
     ]
    }
   ],
   "source": [
    "print(\"\\n=== Scaled Data + Manhattan Distance ===\")\n",
    "print(get_knn(insurance_us_scaled, n, k, 'manhattan'))\n"
   ]
  },
  {
   "cell_type": "markdown",
   "id": "7ecbc4ce",
   "metadata": {},
   "source": [
    "**Differences Between Euclidean & Manhattan Distance**\n",
    "* Nearest neighbor (index 4377)\t\n",
    "    - Euclidean Distance:  0.010127\n",
    "    - Manhattan Distance 0.010127\n",
    "* Second & Third nearest neighbors (indexes 1389, 760)             \n",
    "    - Euclidean Distance:  0.015437\n",
    "    - Manhattan Distance 0.016650\n",
    "* Fourth nearest neighbors (index 2254)\n",
    "    - Euclidean Distance:  0.017157\n",
    "    - Manhattan Distance 0.022980\n",
    "* Distance Gaps between neighbors\n",
    "    - Euclidean Distance:  Smaller (gradual increase)\n",
    "    - Manhattan Distance: Larger (more distinct jumps)"
   ]
  },
  {
   "cell_type": "markdown",
   "id": "02add24b",
   "metadata": {},
   "source": [
    "**Answers to the questions**"
   ]
  },
  {
   "cell_type": "markdown",
   "id": "a81d9842",
   "metadata": {},
   "source": [
    "**Does the data being not scaled affect the kNN algorithm? If so, how does that appear?**\n",
    "\n",
    "**Put your answer here.**\n",
    "\n",
    "Yes, not scaling the data affects the kNN algorithm.  \n",
    "\n",
    "* When data is not scaled, features with larger numerical values (e.g. Income) dominate the distance calculations, making smaller-scle features (e.g., Age, Family Members) less influential. \n",
    "* Euclidean Distance is more affected because it squares differences between feature values. This mean that without scaling, kNN prioritizes features with larger numerical ranges. \n",
    "* Manhatan Distance is less affected by scaling, but still shows some minor variations. \n",
    "\n",
    "*Scaling ensures all features contribute equally, preventing bias from large-value features.*"
   ]
  },
  {
   "cell_type": "markdown",
   "id": "37fc9ae3",
   "metadata": {},
   "source": [
    "**How similar are the results using the Manhattan distance metric (regardless of the scaling)?**\n",
    "\n",
    "**Put your answer here.**\n",
    "\n",
    "The results using Manhattan Distance are very similiar, whether the data is scaled or not. \n",
    "\n",
    "* The nearest neighbors remain the same in both scaled and unscaled data. \n",
    "* Unlike Euclidean Distance, which changes significantly after scaling, Manhattan Distance maintains a structured ranking of nearest neighbors. \n",
    "* The distances become smaller after scaling, but the relative order of neighbors does not change much. \n",
    "\n",
    "*Manhattan Distance is more robust to scaling than Euclidean Distance, making it a good choice when different features have varying scales.*"
   ]
  },
  {
   "cell_type": "markdown",
   "id": "c44759b1-5314-4e95-aacf-9bc449530e35",
   "metadata": {},
   "source": [
    "**Euclidean Distances:**"
   ]
  },
  {
   "cell_type": "code",
   "execution_count": 28,
   "id": "f524c937-06fe-4695-a9f0-5a3ed617303a",
   "metadata": {},
   "outputs": [
    {
     "data": {
      "text/plain": [
       "['gender', 'age', 'income', 'family_members']"
      ]
     },
     "metadata": {},
     "output_type": "display_data"
    }
   ],
   "source": [
    "# selected features for similarity calculation (excluding 'Insurance benefits' since it's the target variable)\n",
    "features_for_similarity = ['gender', 'age', 'income', 'family_members']\n",
    "# check \n",
    "display(features_for_similarity)"
   ]
  },
  {
   "cell_type": "code",
   "execution_count": 29,
   "id": "758a8ff9",
   "metadata": {},
   "outputs": [],
   "source": [
    "# split data into training and test sets BEFORE scaling to prevent data leakage\n",
    "X_train, X_test = train_test_split(insurance_us[features_for_similarity], test_size=0.2, random_state=42)"
   ]
  },
  {
   "cell_type": "code",
   "execution_count": 30,
   "id": "1d34c47a-864a-4198-a116-abafec4e17f2",
   "metadata": {},
   "outputs": [],
   "source": [
    "# initialize the StandardScaler\n",
    "scaler = StandardScaler()"
   ]
  },
  {
   "cell_type": "code",
   "execution_count": 31,
   "id": "17ad7868",
   "metadata": {},
   "outputs": [],
   "source": [
    "# fit onthe training set only\n",
    "X_train_scaled = scaler.fit_transform(X_train)"
   ]
  },
  {
   "cell_type": "code",
   "execution_count": 32,
   "id": "1a4397d2",
   "metadata": {},
   "outputs": [],
   "source": [
    "# transform the test set using the same scaler (without refitting)\n",
    "X_test_scaled = scaler.transform(X_test)"
   ]
  },
  {
   "cell_type": "code",
   "execution_count": 33,
   "id": "0be528ef",
   "metadata": {},
   "outputs": [],
   "source": [
    "# convert back to df for better readability\n",
    "X_train_scaled_df = pd.DataFrame(X_train_scaled, columns=features_for_similarity, index=X_train.index)\n",
    "X_test_scaled_df = pd.DataFrame(X_test_scaled, columns=features_for_similarity, index=X_test.index)"
   ]
  },
  {
   "cell_type": "code",
   "execution_count": 34,
   "id": "91a3abd9",
   "metadata": {},
   "outputs": [
    {
     "data": {
      "text/html": [
       "<div>\n",
       "<style scoped>\n",
       "    .dataframe tbody tr th:only-of-type {\n",
       "        vertical-align: middle;\n",
       "    }\n",
       "\n",
       "    .dataframe tbody tr th {\n",
       "        vertical-align: top;\n",
       "    }\n",
       "\n",
       "    .dataframe thead th {\n",
       "        text-align: right;\n",
       "    }\n",
       "</style>\n",
       "<table border=\"1\" class=\"dataframe\">\n",
       "  <thead>\n",
       "    <tr style=\"text-align: right;\">\n",
       "      <th></th>\n",
       "      <th>gender</th>\n",
       "      <th>age</th>\n",
       "      <th>income</th>\n",
       "      <th>family_members</th>\n",
       "    </tr>\n",
       "  </thead>\n",
       "  <tbody>\n",
       "    <tr>\n",
       "      <th>4227</th>\n",
       "      <td>-1.005013</td>\n",
       "      <td>-1.567769</td>\n",
       "      <td>0.945441</td>\n",
       "      <td>-0.175363</td>\n",
       "    </tr>\n",
       "    <tr>\n",
       "      <th>4676</th>\n",
       "      <td>0.995012</td>\n",
       "      <td>0.940231</td>\n",
       "      <td>2.356698</td>\n",
       "      <td>-0.175363</td>\n",
       "    </tr>\n",
       "    <tr>\n",
       "      <th>800</th>\n",
       "      <td>-1.005013</td>\n",
       "      <td>1.179089</td>\n",
       "      <td>-1.090801</td>\n",
       "      <td>-0.175363</td>\n",
       "    </tr>\n",
       "    <tr>\n",
       "      <th>3671</th>\n",
       "      <td>-1.005013</td>\n",
       "      <td>1.537374</td>\n",
       "      <td>-0.284368</td>\n",
       "      <td>-0.175363</td>\n",
       "    </tr>\n",
       "    <tr>\n",
       "      <th>4193</th>\n",
       "      <td>-1.005013</td>\n",
       "      <td>-0.612340</td>\n",
       "      <td>-0.133162</td>\n",
       "      <td>-1.082804</td>\n",
       "    </tr>\n",
       "  </tbody>\n",
       "</table>\n",
       "</div>"
      ],
      "text/plain": [
       "        gender       age    income  family_members\n",
       "4227 -1.005013 -1.567769  0.945441       -0.175363\n",
       "4676  0.995012  0.940231  2.356698       -0.175363\n",
       "800  -1.005013  1.179089 -1.090801       -0.175363\n",
       "3671 -1.005013  1.537374 -0.284368       -0.175363\n",
       "4193 -1.005013 -0.612340 -0.133162       -1.082804"
      ]
     },
     "metadata": {},
     "output_type": "display_data"
    }
   ],
   "source": [
    "# check scaled data output\n",
    "display(X_train_scaled_df.head())\n"
   ]
  },
  {
   "cell_type": "code",
   "execution_count": 35,
   "id": "a1464539",
   "metadata": {},
   "outputs": [
    {
     "data": {
      "text/html": [
       "<div>\n",
       "<style scoped>\n",
       "    .dataframe tbody tr th:only-of-type {\n",
       "        vertical-align: middle;\n",
       "    }\n",
       "\n",
       "    .dataframe tbody tr th {\n",
       "        vertical-align: top;\n",
       "    }\n",
       "\n",
       "    .dataframe thead th {\n",
       "        text-align: right;\n",
       "    }\n",
       "</style>\n",
       "<table border=\"1\" class=\"dataframe\">\n",
       "  <thead>\n",
       "    <tr style=\"text-align: right;\">\n",
       "      <th></th>\n",
       "      <th>gender</th>\n",
       "      <th>age</th>\n",
       "      <th>income</th>\n",
       "      <th>family_members</th>\n",
       "    </tr>\n",
       "  </thead>\n",
       "  <tbody>\n",
       "    <tr>\n",
       "      <th>1501</th>\n",
       "      <td>0.995012</td>\n",
       "      <td>-0.373483</td>\n",
       "      <td>1.620828</td>\n",
       "      <td>-1.082804</td>\n",
       "    </tr>\n",
       "    <tr>\n",
       "      <th>2586</th>\n",
       "      <td>0.995012</td>\n",
       "      <td>0.104231</td>\n",
       "      <td>0.189411</td>\n",
       "      <td>0.732078</td>\n",
       "    </tr>\n",
       "    <tr>\n",
       "      <th>2653</th>\n",
       "      <td>0.995012</td>\n",
       "      <td>-0.134626</td>\n",
       "      <td>-1.383132</td>\n",
       "      <td>-1.082804</td>\n",
       "    </tr>\n",
       "    <tr>\n",
       "      <th>1055</th>\n",
       "      <td>0.995012</td>\n",
       "      <td>-0.134626</td>\n",
       "      <td>-0.274288</td>\n",
       "      <td>0.732078</td>\n",
       "    </tr>\n",
       "    <tr>\n",
       "      <th>705</th>\n",
       "      <td>-1.005013</td>\n",
       "      <td>1.537374</td>\n",
       "      <td>-1.010157</td>\n",
       "      <td>-0.175363</td>\n",
       "    </tr>\n",
       "  </tbody>\n",
       "</table>\n",
       "</div>"
      ],
      "text/plain": [
       "        gender       age    income  family_members\n",
       "1501  0.995012 -0.373483  1.620828       -1.082804\n",
       "2586  0.995012  0.104231  0.189411        0.732078\n",
       "2653  0.995012 -0.134626 -1.383132       -1.082804\n",
       "1055  0.995012 -0.134626 -0.274288        0.732078\n",
       "705  -1.005013  1.537374 -1.010157       -0.175363"
      ]
     },
     "metadata": {},
     "output_type": "display_data"
    }
   ],
   "source": [
    "# check scaled data output\n",
    "display(X_test_scaled_df.head())"
   ]
  },
  {
   "cell_type": "code",
   "execution_count": 36,
   "id": "e3c5b096-cab5-419b-8a59-e6178e5869a3",
   "metadata": {},
   "outputs": [
    {
     "data": {
      "text/plain": [
       "array([[0.        , 1.42389529, 1.09221012, ..., 1.08242863, 0.49225847,\n",
       "        0.230171  ],\n",
       "       [1.42389529, 0.        , 1.06887175, ..., 1.09108719, 1.50064764,\n",
       "        1.44144703],\n",
       "       [1.09221012, 1.06887175, 0.        , ..., 0.396165  , 1.13293054,\n",
       "        1.04382408],\n",
       "       ...,\n",
       "       [1.08242863, 1.09108719, 0.396165  , ..., 0.        , 1.01437432,\n",
       "        1.02475288],\n",
       "       [0.49225847, 1.50064764, 1.13293054, ..., 1.01437432, 0.        ,\n",
       "        0.36004419],\n",
       "       [0.230171  , 1.44144703, 1.04382408, ..., 1.02475288, 0.36004419,\n",
       "        0.        ]])"
      ]
     },
     "metadata": {},
     "output_type": "display_data"
    }
   ],
   "source": [
    "# compute Euclidean distances between all customers\n",
    "euclidean_distance_matrix = euclidean_distances(insurance_us_scaled)\n",
    "# check\n",
    "display(euclidean_distance_matrix)"
   ]
  },
  {
   "cell_type": "code",
   "execution_count": 37,
   "id": "88491894-04a0-4714-822d-63f5ca351412",
   "metadata": {},
   "outputs": [
    {
     "data": {
      "text/html": [
       "<div>\n",
       "<style scoped>\n",
       "    .dataframe tbody tr th:only-of-type {\n",
       "        vertical-align: middle;\n",
       "    }\n",
       "\n",
       "    .dataframe tbody tr th {\n",
       "        vertical-align: top;\n",
       "    }\n",
       "\n",
       "    .dataframe thead th {\n",
       "        text-align: right;\n",
       "    }\n",
       "</style>\n",
       "<table border=\"1\" class=\"dataframe\">\n",
       "  <thead>\n",
       "    <tr style=\"text-align: right;\">\n",
       "      <th></th>\n",
       "      <th>0</th>\n",
       "      <th>1</th>\n",
       "      <th>2</th>\n",
       "      <th>3</th>\n",
       "      <th>4</th>\n",
       "      <th>5</th>\n",
       "      <th>6</th>\n",
       "      <th>7</th>\n",
       "      <th>8</th>\n",
       "      <th>9</th>\n",
       "      <th>...</th>\n",
       "      <th>4990</th>\n",
       "      <th>4991</th>\n",
       "      <th>4992</th>\n",
       "      <th>4993</th>\n",
       "      <th>4994</th>\n",
       "      <th>4995</th>\n",
       "      <th>4996</th>\n",
       "      <th>4997</th>\n",
       "      <th>4998</th>\n",
       "      <th>4999</th>\n",
       "    </tr>\n",
       "  </thead>\n",
       "  <tbody>\n",
       "    <tr>\n",
       "      <th>0</th>\n",
       "      <td>0.000000</td>\n",
       "      <td>1.423895</td>\n",
       "      <td>1.092210</td>\n",
       "      <td>1.064167</td>\n",
       "      <td>0.395304</td>\n",
       "      <td>1.020086</td>\n",
       "      <td>0.210781</td>\n",
       "      <td>0.574439</td>\n",
       "      <td>0.076933</td>\n",
       "      <td>0.140990</td>\n",
       "      <td>...</td>\n",
       "      <td>1.045825</td>\n",
       "      <td>1.107360</td>\n",
       "      <td>1.426734</td>\n",
       "      <td>0.220925</td>\n",
       "      <td>0.285572</td>\n",
       "      <td>1.048206</td>\n",
       "      <td>1.006406</td>\n",
       "      <td>1.082429</td>\n",
       "      <td>0.492258</td>\n",
       "      <td>0.230171</td>\n",
       "    </tr>\n",
       "    <tr>\n",
       "      <th>1</th>\n",
       "      <td>1.423895</td>\n",
       "      <td>0.000000</td>\n",
       "      <td>1.068872</td>\n",
       "      <td>1.085311</td>\n",
       "      <td>1.458477</td>\n",
       "      <td>1.015554</td>\n",
       "      <td>1.428229</td>\n",
       "      <td>1.534417</td>\n",
       "      <td>1.430246</td>\n",
       "      <td>1.440994</td>\n",
       "      <td>...</td>\n",
       "      <td>1.092229</td>\n",
       "      <td>1.122076</td>\n",
       "      <td>0.268640</td>\n",
       "      <td>1.430745</td>\n",
       "      <td>1.466705</td>\n",
       "      <td>1.051338</td>\n",
       "      <td>1.033106</td>\n",
       "      <td>1.091087</td>\n",
       "      <td>1.500648</td>\n",
       "      <td>1.441447</td>\n",
       "    </tr>\n",
       "    <tr>\n",
       "      <th>2</th>\n",
       "      <td>1.092210</td>\n",
       "      <td>1.068872</td>\n",
       "      <td>0.000000</td>\n",
       "      <td>0.441493</td>\n",
       "      <td>1.002200</td>\n",
       "      <td>1.490501</td>\n",
       "      <td>1.091243</td>\n",
       "      <td>1.223873</td>\n",
       "      <td>1.082292</td>\n",
       "      <td>1.086703</td>\n",
       "      <td>...</td>\n",
       "      <td>0.494705</td>\n",
       "      <td>0.559556</td>\n",
       "      <td>1.114220</td>\n",
       "      <td>1.032453</td>\n",
       "      <td>1.072478</td>\n",
       "      <td>0.382063</td>\n",
       "      <td>0.437808</td>\n",
       "      <td>0.396165</td>\n",
       "      <td>1.132931</td>\n",
       "      <td>1.043824</td>\n",
       "    </tr>\n",
       "    <tr>\n",
       "      <th>3</th>\n",
       "      <td>1.064167</td>\n",
       "      <td>1.085311</td>\n",
       "      <td>0.441493</td>\n",
       "      <td>0.000000</td>\n",
       "      <td>1.077823</td>\n",
       "      <td>1.454178</td>\n",
       "      <td>1.037944</td>\n",
       "      <td>1.056616</td>\n",
       "      <td>1.044647</td>\n",
       "      <td>1.035587</td>\n",
       "      <td>...</td>\n",
       "      <td>0.254064</td>\n",
       "      <td>0.172134</td>\n",
       "      <td>1.128763</td>\n",
       "      <td>1.030351</td>\n",
       "      <td>1.064004</td>\n",
       "      <td>0.131780</td>\n",
       "      <td>0.293467</td>\n",
       "      <td>0.099926</td>\n",
       "      <td>1.020291</td>\n",
       "      <td>1.019593</td>\n",
       "    </tr>\n",
       "    <tr>\n",
       "      <th>4</th>\n",
       "      <td>0.395304</td>\n",
       "      <td>1.458477</td>\n",
       "      <td>1.002200</td>\n",
       "      <td>1.077823</td>\n",
       "      <td>0.000000</td>\n",
       "      <td>1.095417</td>\n",
       "      <td>0.411566</td>\n",
       "      <td>0.686739</td>\n",
       "      <td>0.363549</td>\n",
       "      <td>0.369559</td>\n",
       "      <td>...</td>\n",
       "      <td>1.089640</td>\n",
       "      <td>1.133775</td>\n",
       "      <td>1.482751</td>\n",
       "      <td>0.217414</td>\n",
       "      <td>0.321728</td>\n",
       "      <td>1.061074</td>\n",
       "      <td>1.071041</td>\n",
       "      <td>1.065837</td>\n",
       "      <td>0.515267</td>\n",
       "      <td>0.247924</td>\n",
       "    </tr>\n",
       "    <tr>\n",
       "      <th>...</th>\n",
       "      <td>...</td>\n",
       "      <td>...</td>\n",
       "      <td>...</td>\n",
       "      <td>...</td>\n",
       "      <td>...</td>\n",
       "      <td>...</td>\n",
       "      <td>...</td>\n",
       "      <td>...</td>\n",
       "      <td>...</td>\n",
       "      <td>...</td>\n",
       "      <td>...</td>\n",
       "      <td>...</td>\n",
       "      <td>...</td>\n",
       "      <td>...</td>\n",
       "      <td>...</td>\n",
       "      <td>...</td>\n",
       "      <td>...</td>\n",
       "      <td>...</td>\n",
       "      <td>...</td>\n",
       "      <td>...</td>\n",
       "      <td>...</td>\n",
       "    </tr>\n",
       "    <tr>\n",
       "      <th>4995</th>\n",
       "      <td>1.048206</td>\n",
       "      <td>1.051338</td>\n",
       "      <td>0.382063</td>\n",
       "      <td>0.131780</td>\n",
       "      <td>1.061074</td>\n",
       "      <td>1.434488</td>\n",
       "      <td>1.015482</td>\n",
       "      <td>1.055741</td>\n",
       "      <td>1.036499</td>\n",
       "      <td>1.035656</td>\n",
       "      <td>...</td>\n",
       "      <td>0.328077</td>\n",
       "      <td>0.201143</td>\n",
       "      <td>1.112092</td>\n",
       "      <td>1.015667</td>\n",
       "      <td>1.073104</td>\n",
       "      <td>0.000000</td>\n",
       "      <td>0.284579</td>\n",
       "      <td>0.125168</td>\n",
       "      <td>1.018696</td>\n",
       "      <td>1.015689</td>\n",
       "    </tr>\n",
       "    <tr>\n",
       "      <th>4996</th>\n",
       "      <td>1.006406</td>\n",
       "      <td>1.033106</td>\n",
       "      <td>0.437808</td>\n",
       "      <td>0.293467</td>\n",
       "      <td>1.071041</td>\n",
       "      <td>1.437975</td>\n",
       "      <td>1.029339</td>\n",
       "      <td>1.140038</td>\n",
       "      <td>1.001057</td>\n",
       "      <td>1.000512</td>\n",
       "      <td>...</td>\n",
       "      <td>0.192834</td>\n",
       "      <td>0.427746</td>\n",
       "      <td>1.028199</td>\n",
       "      <td>1.021784</td>\n",
       "      <td>1.021316</td>\n",
       "      <td>0.284579</td>\n",
       "      <td>0.000000</td>\n",
       "      <td>0.359176</td>\n",
       "      <td>1.098807</td>\n",
       "      <td>1.015299</td>\n",
       "    </tr>\n",
       "    <tr>\n",
       "      <th>4997</th>\n",
       "      <td>1.082429</td>\n",
       "      <td>1.091087</td>\n",
       "      <td>0.396165</td>\n",
       "      <td>0.099926</td>\n",
       "      <td>1.065837</td>\n",
       "      <td>1.460577</td>\n",
       "      <td>1.044430</td>\n",
       "      <td>1.058569</td>\n",
       "      <td>1.062247</td>\n",
       "      <td>1.054812</td>\n",
       "      <td>...</td>\n",
       "      <td>0.335784</td>\n",
       "      <td>0.176399</td>\n",
       "      <td>1.152258</td>\n",
       "      <td>1.030809</td>\n",
       "      <td>1.081065</td>\n",
       "      <td>0.125168</td>\n",
       "      <td>0.359176</td>\n",
       "      <td>0.000000</td>\n",
       "      <td>1.014374</td>\n",
       "      <td>1.024753</td>\n",
       "    </tr>\n",
       "    <tr>\n",
       "      <th>4998</th>\n",
       "      <td>0.492258</td>\n",
       "      <td>1.500648</td>\n",
       "      <td>1.132931</td>\n",
       "      <td>1.020291</td>\n",
       "      <td>0.515267</td>\n",
       "      <td>1.069203</td>\n",
       "      <td>0.322539</td>\n",
       "      <td>0.188376</td>\n",
       "      <td>0.451451</td>\n",
       "      <td>0.438888</td>\n",
       "      <td>...</td>\n",
       "      <td>1.097349</td>\n",
       "      <td>1.002627</td>\n",
       "      <td>1.565904</td>\n",
       "      <td>0.369492</td>\n",
       "      <td>0.556613</td>\n",
       "      <td>1.018696</td>\n",
       "      <td>1.098807</td>\n",
       "      <td>1.014374</td>\n",
       "      <td>0.000000</td>\n",
       "      <td>0.360044</td>\n",
       "    </tr>\n",
       "    <tr>\n",
       "      <th>4999</th>\n",
       "      <td>0.230171</td>\n",
       "      <td>1.441447</td>\n",
       "      <td>1.043824</td>\n",
       "      <td>1.019593</td>\n",
       "      <td>0.247924</td>\n",
       "      <td>1.039739</td>\n",
       "      <td>0.237795</td>\n",
       "      <td>0.502763</td>\n",
       "      <td>0.168572</td>\n",
       "      <td>0.153392</td>\n",
       "      <td>...</td>\n",
       "      <td>1.024974</td>\n",
       "      <td>1.059979</td>\n",
       "      <td>1.458624</td>\n",
       "      <td>0.084720</td>\n",
       "      <td>0.217747</td>\n",
       "      <td>1.015689</td>\n",
       "      <td>1.015299</td>\n",
       "      <td>1.024753</td>\n",
       "      <td>0.360044</td>\n",
       "      <td>0.000000</td>\n",
       "    </tr>\n",
       "  </tbody>\n",
       "</table>\n",
       "<p>5000 rows × 5000 columns</p>\n",
       "</div>"
      ],
      "text/plain": [
       "          0         1         2         3         4         5         6     \\\n",
       "0     0.000000  1.423895  1.092210  1.064167  0.395304  1.020086  0.210781   \n",
       "1     1.423895  0.000000  1.068872  1.085311  1.458477  1.015554  1.428229   \n",
       "2     1.092210  1.068872  0.000000  0.441493  1.002200  1.490501  1.091243   \n",
       "3     1.064167  1.085311  0.441493  0.000000  1.077823  1.454178  1.037944   \n",
       "4     0.395304  1.458477  1.002200  1.077823  0.000000  1.095417  0.411566   \n",
       "...        ...       ...       ...       ...       ...       ...       ...   \n",
       "4995  1.048206  1.051338  0.382063  0.131780  1.061074  1.434488  1.015482   \n",
       "4996  1.006406  1.033106  0.437808  0.293467  1.071041  1.437975  1.029339   \n",
       "4997  1.082429  1.091087  0.396165  0.099926  1.065837  1.460577  1.044430   \n",
       "4998  0.492258  1.500648  1.132931  1.020291  0.515267  1.069203  0.322539   \n",
       "4999  0.230171  1.441447  1.043824  1.019593  0.247924  1.039739  0.237795   \n",
       "\n",
       "          7         8         9     ...      4990      4991      4992  \\\n",
       "0     0.574439  0.076933  0.140990  ...  1.045825  1.107360  1.426734   \n",
       "1     1.534417  1.430246  1.440994  ...  1.092229  1.122076  0.268640   \n",
       "2     1.223873  1.082292  1.086703  ...  0.494705  0.559556  1.114220   \n",
       "3     1.056616  1.044647  1.035587  ...  0.254064  0.172134  1.128763   \n",
       "4     0.686739  0.363549  0.369559  ...  1.089640  1.133775  1.482751   \n",
       "...        ...       ...       ...  ...       ...       ...       ...   \n",
       "4995  1.055741  1.036499  1.035656  ...  0.328077  0.201143  1.112092   \n",
       "4996  1.140038  1.001057  1.000512  ...  0.192834  0.427746  1.028199   \n",
       "4997  1.058569  1.062247  1.054812  ...  0.335784  0.176399  1.152258   \n",
       "4998  0.188376  0.451451  0.438888  ...  1.097349  1.002627  1.565904   \n",
       "4999  0.502763  0.168572  0.153392  ...  1.024974  1.059979  1.458624   \n",
       "\n",
       "          4993      4994      4995      4996      4997      4998      4999  \n",
       "0     0.220925  0.285572  1.048206  1.006406  1.082429  0.492258  0.230171  \n",
       "1     1.430745  1.466705  1.051338  1.033106  1.091087  1.500648  1.441447  \n",
       "2     1.032453  1.072478  0.382063  0.437808  0.396165  1.132931  1.043824  \n",
       "3     1.030351  1.064004  0.131780  0.293467  0.099926  1.020291  1.019593  \n",
       "4     0.217414  0.321728  1.061074  1.071041  1.065837  0.515267  0.247924  \n",
       "...        ...       ...       ...       ...       ...       ...       ...  \n",
       "4995  1.015667  1.073104  0.000000  0.284579  0.125168  1.018696  1.015689  \n",
       "4996  1.021784  1.021316  0.284579  0.000000  0.359176  1.098807  1.015299  \n",
       "4997  1.030809  1.081065  0.125168  0.359176  0.000000  1.014374  1.024753  \n",
       "4998  0.369492  0.556613  1.018696  1.098807  1.014374  0.000000  0.360044  \n",
       "4999  0.084720  0.217747  1.015689  1.015299  1.024753  0.360044  0.000000  \n",
       "\n",
       "[5000 rows x 5000 columns]"
      ]
     },
     "metadata": {},
     "output_type": "display_data"
    }
   ],
   "source": [
    "# convert to DataFrame for better readability\n",
    "euclidean_distance_df = pd.DataFrame(euclidean_distance_matrix, \n",
    "                                     index=insurance_us.index, \n",
    "                                     columns=insurance_us.index)\n",
    "# check\n",
    "display(euclidean_distance_df)"
   ]
  },
  {
   "cell_type": "markdown",
   "id": "a7b6fcd2",
   "metadata": {},
   "source": [
    "**Manhattan Distances:**"
   ]
  },
  {
   "cell_type": "code",
   "execution_count": 38,
   "id": "8b9d1a51",
   "metadata": {},
   "outputs": [],
   "source": [
    "# computing Manhattan distances between all customers\n",
    "manhattan_distance_matrix = manhattan_distances(insurance_us_scaled)\n",
    "\n",
    "# convert to DataFrame for readability\n",
    "manhattan_distance_df = pd.DataFrame(manhattan_distance_matrix,\n",
    "                                    index= insurance_us.index,\n",
    "                                    columns=insurance_us.index)"
   ]
  },
  {
   "cell_type": "code",
   "execution_count": 39,
   "id": "5ba805dd",
   "metadata": {},
   "outputs": [],
   "source": [
    "manhattan_distance_df.index = range(len(manhattan_distance_df))\n",
    "manhattan_distance_df.columns = range(len(manhattan_distance_df))\n",
    "\n",
    "euclidean_distance_df.index = range(len(euclidean_distance_df))\n",
    "euclidean_distance_df.columns = range(len(euclidean_distance_df))"
   ]
  },
  {
   "cell_type": "code",
   "execution_count": 40,
   "id": "36b407fd",
   "metadata": {},
   "outputs": [
    {
     "name": "stdout",
     "output_type": "stream",
     "text": [
      "Comparison of Top 5 Similar Customers (Manhattan vs. Euclidean Distance):\n",
      "   Customer ID Manhattan Distance Euclidean Distance\n",
      "0         2689               0.01               0.01\n",
      "1          133               0.02               0.02\n",
      "2         2103               0.03               0.03\n",
      "3         3365               0.03               0.03\n",
      "4         4305               0.04       Not in Top 5\n",
      "5         1567       Not in Top 5               0.03\n"
     ]
    }
   ],
   "source": [
    "# lets compare the simlarity rankings\n",
    "# function to get the top 5 most similar customers using a given distance matrix\n",
    "def get_top_similar_customers(customers_df, customer_id, top_n=5):\n",
    "    sorted_similarities = customers_df.loc[customer_id].sort_values()\n",
    "    return sorted_similarities.iloc[1:top_n+1].round(2)  # Exclude self\n",
    "\n",
    "# select a sample customer (e.g., customer ID 0) for comparison\n",
    "customer_id = 0\n",
    "\n",
    "# retrieve top 5 similar customers using Manhattan distance\n",
    "top_manhattan = get_top_similar_customers(manhattan_distance_df, customer_id).reset_index()\n",
    "top_manhattan.columns = [\"Customer ID\", \"Manhattan Distance\"]\n",
    "\n",
    "# retrieve top 5 similar customers using Manhattan distance\n",
    "top_euclidean = get_top_similar_customers(euclidean_distance_df, customer_id).reset_index()\n",
    "top_euclidean.columns = [\"Customer ID\", \"Euclidean Distance\"]\n",
    "\n",
    "# combine results for side-by-side comparison\n",
    "comparison_df = pd.merge(top_manhattan, top_euclidean, on=\"Customer ID\", how=\"outer\")\n",
    "\n",
    "# fill missing values with appropriate distances for better interpretation\n",
    "# comparison_df.fillna(\"-\", inplace=True)\n",
    "\n",
    "# replace missing values with a more meaningful placeholder instead of \"-\"\n",
    "comparison_df[\"Manhattan Distance\"].fillna(\"Not in Top 5\", inplace=True)\n",
    "comparison_df[\"Euclidean Distance\"].fillna(\"Not in Top 5\", inplace=True)\n",
    "\n",
    "\n",
    "# display the comparison\n",
    "print(\"Comparison of Top 5 Similar Customers (Manhattan vs. Euclidean Distance):\")\n",
    "print(comparison_df)"
   ]
  },
  {
   "cell_type": "markdown",
   "id": "3c62175e",
   "metadata": {},
   "source": [
    "**Customer Similarity Analysis (Customer ID:0)**\n",
    "The Comparions of Top 5 Similar Customers show the top 5 most similar customers to Customer 0 using both Manhattan and Euclidean distances.  Some customers appear in both rankings, meaning both metrics agree on their similarity.  A few customer only appear in one ranking, highlighting differences in how Manhattan and Euclidean distance define \"closeness\". NaN values indicate customs who are similar under one metric but not the other.\n",
    "\n",
    "1. Customers 2689, 133, and 4869 Appear in Both Rankings\n",
    "   - Both Manhattan and Euclidean distance agree that these customers are similar to Customer 0.\n",
    "   - Distance values differ slightly, showing how Manhattan and Euclidean measure similarity differently.\n",
    "\n",
    "\n",
    "2. Customers 2103 and 3365 Only Appear in the Manhattan List\n",
    "   - Manhattan distance ranks them as similar, but Euclidean distance does not.\n",
    "   - This suggests that Manhattan Distance captures similarity based on individual feature differences, rather than overall geometric closeness.\n",
    "\n",
    "\n",
    "3. Customers 3275 and 1567 Only Appear in the Euclidean List\n",
    "   - Euclidean distance ranks them as similar, but Manhattan distance does not.\n",
    "   - This suggests that Euclidean Distance is more sensitive to small cumulative changes across all features.\n",
    "\n",
    "\n",
    "Both methods find mostly similar customers but differ on a few cases:\n",
    "- Manhattan Distance is more robust for categorical and mixed data.\n",
    "- Euclidean Distance is better when relationships follow straight-line geometric patterns.\n",
    "- If scaling is applied, Euclidean Distance becomes more comparable to Manhattan Distance."
   ]
  },
  {
   "cell_type": "code",
   "execution_count": 41,
   "id": "c7c450a1",
   "metadata": {},
   "outputs": [],
   "source": [
    "# compute overlap between Manhattan and Euclidean rankings\n",
    "manhattan_top_ids = set(top_manhattan[\"Customer ID\"])\n",
    "euclidean_top_ids = set(top_euclidean[\"Customer ID\"])"
   ]
  },
  {
   "cell_type": "code",
   "execution_count": 42,
   "id": "a8e2a5f3",
   "metadata": {},
   "outputs": [],
   "source": [
    "# compute overlap percentage\n",
    "overlap_count = len(manhattan_top_ids.intersection(euclidean_top_ids))\n",
    "total_customers = len(manhattan_top_ids.union(euclidean_top_ids))\n",
    "overlap_percentage = (overlap_count / total_customers) * 100"
   ]
  },
  {
   "cell_type": "code",
   "execution_count": 43,
   "id": "fbca824b",
   "metadata": {},
   "outputs": [],
   "source": [
    "# convert distance columns to float (handling any possible string issues)\n",
    "comparison_df[\"Manhattan Distance\"] = pd.to_numeric(comparison_df[\"Manhattan Distance\"], errors=\"coerce\")\n",
    "comparison_df[\"Euclidean Distance\"] = pd.to_numeric(comparison_df[\"Euclidean Distance\"], errors=\"coerce\")"
   ]
  },
  {
   "cell_type": "code",
   "execution_count": 44,
   "id": "b71e228b",
   "metadata": {},
   "outputs": [],
   "source": [
    "# compute the average absolute difference in distance values \n",
    "comparison_df_filtered = comparison_df.dropna().copy()\n",
    "comparison_df_filtered[\"Distance Difference\"] = abs(comparison_df_filtered[\"Manhattan Distance\"] - comparison_df_filtered[\"Euclidean Distance\"])\n",
    "average_difference = comparison_df_filtered[\"Distance Difference\"].mean()\n"
   ]
  },
  {
   "cell_type": "code",
   "execution_count": 45,
   "id": "30102f46",
   "metadata": {},
   "outputs": [
    {
     "name": "stdout",
     "output_type": "stream",
     "text": [
      "   Customer ID  Manhattan Distance  Euclidean Distance  Distance Difference\n",
      "0         2689                0.01                0.01                  0.0\n",
      "1          133                0.02                0.02                  0.0\n",
      "2         2103                0.03                0.03                  0.0\n",
      "3         3365                0.03                0.03                  0.0\n",
      "\n",
      "Average Absolute Distance Difference: 0.0\n"
     ]
    }
   ],
   "source": [
    "# display the fixed comparison dataframe\n",
    "print(comparison_df_filtered)\n",
    "print(f\"\\nAverage Absolute Distance Difference: {round(average_difference, 4)}\")\n"
   ]
  },
  {
   "cell_type": "code",
   "execution_count": 46,
   "id": "6653850b",
   "metadata": {},
   "outputs": [],
   "source": [
    "# Prepare summary insights\n",
    "distance_analysis_summary = pd.DataFrame([{\n",
    "    \"Total Customers Compared\": total_customers,\n",
    "    \"Overlap in Top 5 Rankings (%)\": round(overlap_percentage, 2),\n",
    "    \"Average Absolute Distance Difference\": round(average_difference, 4)\n",
    "}])"
   ]
  },
  {
   "cell_type": "code",
   "execution_count": 47,
   "id": "58dda048",
   "metadata": {},
   "outputs": [
    {
     "name": "stdout",
     "output_type": "stream",
     "text": [
      "Distance Metric Analysis:\n",
      "   Total Customers Compared  Overlap in Top 5 Rankings (%)  \\\n",
      "0                         6                          66.67   \n",
      "\n",
      "   Average Absolute Distance Difference  \n",
      "0                                   0.0  \n"
     ]
    }
   ],
   "source": [
    "# Display the distance analysis\n",
    "print(\"Distance Metric Analysis:\")\n",
    "print(distance_analysis_summary)\n"
   ]
  },
  {
   "cell_type": "code",
   "execution_count": 48,
   "id": "17a53a85",
   "metadata": {},
   "outputs": [],
   "source": [
    "# function to retrieve detailed similarity scores for a specific customer\n",
    "def analyze_customer_similarity(customer_id, top_n=5):\n",
    "    # Get top similar customers using Manhattan distance\n",
    "    top_manhattan = get_top_similar_customers(manhattan_distance_df, customer_id, top_n).reset_index()\n",
    "    top_manhattan.columns = [\"Customer ID\", \"Manhattan Distance\"]\n",
    "    \n",
    "    # Get top similar customers using Euclidean distance\n",
    "    top_euclidean = get_top_similar_customers(euclidean_distance_df, customer_id, top_n).reset_index()\n",
    "    top_euclidean.columns = [\"Customer ID\", \"Euclidean Distance\"]\n",
    "    \n",
    "    # Merge results for side-by-side comparison\n",
    "    detailed_comparison = pd.merge(top_manhattan, top_euclidean, on=\"Customer ID\", how=\"outer\")\n",
    "    \n",
    "    # Ensure proper data types\n",
    "    detailed_comparison[\"Manhattan Distance\"] = pd.to_numeric(detailed_comparison[\"Manhattan Distance\"], errors=\"coerce\")\n",
    "    detailed_comparison[\"Euclidean Distance\"] = pd.to_numeric(detailed_comparison[\"Euclidean Distance\"], errors=\"coerce\")\n",
    "\n",
    "    return detailed_comparison\n",
    "\n",
    "# select a sample customer (can be changed as needed)\n",
    "customer_id = 0\n",
    "\n",
    "# retrieve detailed similarity analysis\n",
    "customer_similarity_results = analyze_customer_similarity(customer_id)\n"
   ]
  },
  {
   "cell_type": "code",
   "execution_count": 49,
   "id": "2eaa868c",
   "metadata": {},
   "outputs": [
    {
     "data": {
      "image/png": "[encoded data removed]",
      "text/plain": [
       "<Figure size 800x500 with 1 Axes>"
      ]
     },
     "metadata": {},
     "output_type": "display_data"
    }
   ],
   "source": [
    "# scatter plot to compare Manhattan and Euclidean distances\n",
    "plt.figure(figsize=(8, 5))\n",
    "plt.scatter(customer_similarity_results[\"Manhattan Distance\"], \n",
    "            customer_similarity_results[\"Euclidean Distance\"], \n",
    "            color=\"blue\", alpha=0.7)\n",
    "\n",
    "plt.xlabel(\"Manhattan Distance\")\n",
    "plt.ylabel(\"Euclidean Distance\")\n",
    "plt.title(f\"Comparison of Similarity Metrics for Customer {customer_id}\")\n",
    "plt.axline((0, 0), slope=1, color='red', linestyle=\"--\", label=\"y=x (Perfect Agreement)\")\n",
    "plt.legend()\n",
    "plt.show()"
   ]
  },
  {
   "cell_type": "markdown",
   "id": "2f7ce147",
   "metadata": {},
   "source": [
    "**Scatter Plot (Manhattan vs. Euclidean Distances)**\n",
    "- Each point represents a customer’s similarity score under both distance metrics.\n",
    "- The red dashed line (y=x) represents perfect agreement between the two metrics.\n",
    "- Deviations from the line show cases where the two distances rank similarity differently."
   ]
  },
  {
   "cell_type": "code",
   "execution_count": 50,
   "id": "346631f6",
   "metadata": {},
   "outputs": [
    {
     "data": {
      "image/png": "[encoded data removed]",
      "text/plain": [
       "<Figure size 800x500 with 1 Axes>"
      ]
     },
     "metadata": {},
     "output_type": "display_data"
    }
   ],
   "source": [
    "# histogram to visualize the distribution of Manhattan vs. Euclidean distances\n",
    "plt.figure(figsize=(8, 5))\n",
    "plt.hist(customer_similarity_results[\"Manhattan Distance\"], bins=10, alpha=0.5, \n",
    "         label=\"Manhattan\", color=\"blue\", edgecolor=\"black\")\n",
    "plt.hist(customer_similarity_results[\"Euclidean Distance\"].dropna(), bins=10, alpha=0.5, \n",
    "         label=\"Euclidean\", color=\"orange\", edgecolor=\"black\")\n",
    "\n",
    "plt.xlabel(\"Distance Value\")\n",
    "plt.ylabel(\"Frequency\")\n",
    "plt.title(\"Distribution of Manhattan vs. Euclidean Distances\")\n",
    "plt.legend()\n",
    "plt.show()\n"
   ]
  },
  {
   "cell_type": "markdown",
   "id": "e746c418",
   "metadata": {},
   "source": [
    "**Histogram (Distribution of Distance Scores)**\n",
    "- Blue bars → Distribution of Manhattan distances.\n",
    "- Orange bars → Distribution of Euclidean distances.\n",
    "- Overlap in distributions suggests that both metrics often give similar results, but with some differences in frequency."
   ]
  },
  {
   "cell_type": "markdown",
   "id": "7942af15",
   "metadata": {},
   "source": [
    "**Task 1 Analysis**\n",
    "- Customers with smaller distances are the best marketing targets.\n",
    "- The choice of distance metric impacts which customers are considered most similar.\n",
    "- Manhattan and Euclidean mostly agree, but some customers differ between the rankings.\n",
    "- Sure Tomorrow Insurance can use this analysis to find the best marketing targets based on which metric they trust more."
   ]
  },
  {
   "cell_type": "markdown",
   "id": "a838ecae",
   "metadata": {},
   "source": [
    "**Methodology**:\n",
    "- Manhattan and Euclidean Distances were used to measure customer similarity.\n",
    "- The Manhattan Distance metric produced more meaningful results."
   ]
  },
  {
   "cell_type": "markdown",
   "id": "3604c1dc",
   "metadata": {},
   "source": [
    "**Key Findings**:\n",
    "* The most similar customers were identified based on their distance scores.\n",
    "* Manhattan Distance performed better, as it accounts for differences in absolute feature values."
   ]
  },
  {
   "cell_type": "markdown",
   "id": "0ae792cd-969e-41c4-96cf-9e0e1e39c081",
   "metadata": {},
   "source": [
    "# Task 2: Predict whether a new customer is likely to receive an insurance benefit. Can a trained prediction model do better than an untrained dummy model? Can it do worse? Explain your logic.  Is Customer Likely to Receive Insurance Benefit?"
   ]
  },
  {
   "cell_type": "markdown",
   "id": "a78baf0b",
   "metadata": {},
   "source": [
    "In terms of machine learning we can look at this like a binary classification task."
   ]
  },
  {
   "cell_type": "markdown",
   "id": "bd14a256",
   "metadata": {},
   "source": [
    "With `insurance_benefits` being more than zero as the target, evaluate whether the kNN classification approach can do better than a dummy model.\n",
    "\n",
    "Instructions:\n",
    "- Build a KNN-based classifier and measure its quality with the F1 metric for k=1..10 for both the original data and the scaled one. That'd be interesting to see how k may influence the evaluation metric, and whether scaling the data makes any difference. You can use a ready implemention of the kNN classification algorithm from scikit-learn (check [the link](https://scikit-learn.org/stable/modules/generated/sklearn.neighbors.KNeighborsClassifier.html)) or use your own.\n",
    "- Build the dummy model which is just random for this case. It should return \"1\" with some probability. Let's test the model with four probability values: 0, the probability of paying any insurance benefit, 0.5, 1.\n",
    "\n",
    "The probability of paying any insurance benefit can be defined as\n",
    "\n",
    "$$\n",
    "P\\{\\text{insurance benefit received}\\}=\\frac{\\text{number of clients received any insurance benefit}}{\\text{total number of clients}}.\n",
    "$$\n",
    "\n",
    "Split the whole data in the 70:30 proportion for the training/testing parts."
   ]
  },
  {
   "cell_type": "markdown",
   "id": "afef0e22",
   "metadata": {},
   "source": [
    "**Define the Binary Target Variable**\n",
    "\n",
    "Since 'insurance_benefits' is a count of benefits received, the variable will be converted into a binary classification problem. \n",
    "* 1 if insurance_benefits > 0 (customer received at least one benefit).\n",
    "* 0 if insurance_benefits == 0 (customer did not receive any benefit)."
   ]
  },
  {
   "cell_type": "code",
   "execution_count": 51,
   "id": "9e77baa9",
   "metadata": {},
   "outputs": [],
   "source": [
    "# calculate the target - create the binary target variable\n",
    "\n",
    "insurance_us['insurance_benefits_received'] = (insurance_us['insurance_benefits'] > 0).astype(int)"
   ]
  },
  {
   "cell_type": "code",
   "execution_count": 52,
   "id": "f5b9f5b4",
   "metadata": {},
   "outputs": [
    {
     "name": "stdout",
     "output_type": "stream",
     "text": [
      "Class Distribution:\n",
      "0    0.8872\n",
      "1    0.1128\n",
      "Name: insurance_benefits_received, dtype: float64\n"
     ]
    }
   ],
   "source": [
    "# check for the class imbalance with value_counts()\n",
    "\n",
    "# <your code here>\n",
    "\n",
    "print(\"Class Distribution:\")\n",
    "print(insurance_us['insurance_benefits_received'].value_counts(normalize=True))"
   ]
  },
  {
   "cell_type": "code",
   "execution_count": 53,
   "id": "000e8e7b",
   "metadata": {},
   "outputs": [],
   "source": [
    "# split the data into training and testing sets (70:30 split)"
   ]
  },
  {
   "cell_type": "code",
   "execution_count": 54,
   "id": "1fd7f669",
   "metadata": {},
   "outputs": [],
   "source": [
    "# define features and target variable\n",
    "features = ['gender','age','income','family_members']\n",
    "target = 'insurance_benefits_received'"
   ]
  },
  {
   "cell_type": "code",
   "execution_count": 55,
   "id": "2c98f580",
   "metadata": {},
   "outputs": [],
   "source": [
    "# perform 70:30 train-test split\n",
    "X_train, X_test, y_train, y_test = train_test_split(insurance_us[features], insurance_us[target], test_size=0.3, random_state=42)"
   ]
  },
  {
   "cell_type": "code",
   "execution_count": 56,
   "id": "3f114d94",
   "metadata": {},
   "outputs": [
    {
     "name": "stdout",
     "output_type": "stream",
     "text": [
      "Train set size: (3500, 4), Test set size: (1500, 4)\n"
     ]
    }
   ],
   "source": [
    "# check the shapes\n",
    "print(f'Train set size: {X_train.shape}, Test set size: {X_test.shape}')"
   ]
  },
  {
   "cell_type": "code",
   "execution_count": 57,
   "id": "b8eb54ec",
   "metadata": {},
   "outputs": [],
   "source": [
    "# scale the data (using MaxAbsScaler)"
   ]
  },
  {
   "cell_type": "code",
   "execution_count": 58,
   "id": "74c0075c",
   "metadata": {},
   "outputs": [],
   "source": [
    "# initialize and fit scaler on training data\n",
    "scaler = MaxAbsScaler()\n",
    "X_train_scaled = scaler.fit_transform(X_train)\n",
    "X_test_scaled = scaler.transform(X_test) # using the same scaler to transform test data"
   ]
  },
  {
   "cell_type": "code",
   "execution_count": 59,
   "id": "0c924021",
   "metadata": {},
   "outputs": [],
   "source": [
    "# train and evaluate the kNN classifier"
   ]
  },
  {
   "cell_type": "code",
   "execution_count": 60,
   "id": "d8a96e49",
   "metadata": {},
   "outputs": [
    {
     "name": "stdout",
     "output_type": "stream",
     "text": [
      "k=1: Original F1=0.65, Scaled F1=0.93\n",
      "k=2: Original F1=0.38, Scaled F1=0.91\n",
      "k=3: Original F1=0.39, Scaled F1=0.94\n",
      "k=4: Original F1=0.16, Scaled F1=0.92\n",
      "k=5: Original F1=0.17, Scaled F1=0.95\n",
      "k=6: Original F1=0.09, Scaled F1=0.92\n",
      "k=7: Original F1=0.12, Scaled F1=0.93\n",
      "k=8: Original F1=0.02, Scaled F1=0.92\n",
      "k=9: Original F1=0.04, Scaled F1=0.93\n",
      "k=10: Original F1=0.04, Scaled F1=0.92\n"
     ]
    }
   ],
   "source": [
    "# lists to store F1 scores\n",
    "f1_scores_original = []\n",
    "f1_scores_scaled = []\n",
    "\n",
    "# iterate over k values\n",
    "for k in range(1, 11):\n",
    "    # Original data\n",
    "    knn = KNeighborsClassifier(n_neighbors=k)\n",
    "    knn.fit(X_train, y_train)\n",
    "    y_pred = knn.predict(X_test)\n",
    "    f1_original = f1_score(y_test, y_pred)\n",
    "    f1_scores_original.append(f1_original)\n",
    "    \n",
    "    # Scaled data\n",
    "    knn_scaled = KNeighborsClassifier(n_neighbors=k)\n",
    "    knn_scaled.fit(X_train_scaled, y_train)\n",
    "    y_pred_scaled = knn_scaled.predict(X_test_scaled)\n",
    "    f1_scaled = f1_score(y_test, y_pred_scaled)\n",
    "    f1_scores_scaled.append(f1_scaled)\n",
    "    \n",
    "    print(f\"k={k}: Original F1={f1_original:.2f}, Scaled F1={f1_scaled:.2f}\")\n"
   ]
  },
  {
   "cell_type": "code",
   "execution_count": 61,
   "id": "c5db3591",
   "metadata": {},
   "outputs": [],
   "source": [
    "# analyze train and evaluate the kNN classifier "
   ]
  },
  {
   "cell_type": "markdown",
   "id": "226fbf72",
   "metadata": {},
   "source": [
    "* F1 Score on Unscaled Data is terrible (except for k=1), but it's unstable.\n",
    "* F1 Score on Scaled Data is consistently high (above 0.90) across all k values.\n",
    "* k = 1: Nearest neighbor is used, meaning predictions are highly sensitive to noise. \n",
    "* k = 3 - k = 5: This is the sweet spot, where kNN balances between underfitting and overfitting. \n",
    "* K > 5: More nieghbors intoruced more misclassifications, lowering the F1 score slightly. \n",
    "* **Scaled Data** consistently performs well at k=3, k=5, and k=7\n",
    "**Best choice**: k=5, Highest F1 Score (0.95) on Scaled Data. "
   ]
  },
  {
   "cell_type": "code",
   "execution_count": 62,
   "id": "4ddd44a7",
   "metadata": {},
   "outputs": [
    {
     "data": {
      "image/png": "[encoded data removed]",
      "text/plain": [
       "<Figure size 1000x600 with 1 Axes>"
      ]
     },
     "metadata": {},
     "output_type": "display_data"
    }
   ],
   "source": [
    "# Plotting\n",
    "\n",
    "plt.figure(figsize=(10, 6))\n",
    "plt.plot(range(1, 11), f1_scores_original, marker='o', label='Original Data')\n",
    "plt.plot(range(1, 11), f1_scores_scaled, marker='o', label='Scaled Data')\n",
    "plt.title(\"F1 Score vs. k in kNN Classifier\")\n",
    "plt.xlabel(\"Number of Neighbors (k)\")\n",
    "plt.ylabel(\"F1 Score\")\n",
    "plt.legend()\n",
    "plt.grid(True)\n",
    "plt.tight_layout()\n",
    "plt.show()"
   ]
  },
  {
   "cell_type": "code",
   "execution_count": 63,
   "id": "d8b129f2",
   "metadata": {},
   "outputs": [],
   "source": [
    "# function to evaluate classifiers\n",
    "def eval_classifier(y_true, y_pred):\n",
    "    f1_score = sklearn.metrics.f1_score(y_true, y_pred)\n",
    "    print(f'F1: {f1_score:.2f}')\n",
    "    \n",
    "# if you have an issue with the following line, restart the kernel and run the notebook again\n",
    "    cm = sklearn.metrics.confusion_matrix(y_true, y_pred, normalize='all') # converts the CM to percentages instead of raw counts\n",
    "    print('Confusion Matrix')\n",
    "    print(cm)"
   ]
  },
  {
   "cell_type": "code",
   "execution_count": 64,
   "id": "92e9ae70",
   "metadata": {},
   "outputs": [],
   "source": [
    "# function to generate predictions using a random model\n",
    "# generating output of a random model\n",
    "\n",
    "def rnd_model_predict(P, size, seed=42):\n",
    "\n",
    "    rng = np.random.default_rng(seed=seed)\n",
    "    return rng.binomial(n=1, p=P, size=size)"
   ]
  },
  {
   "cell_type": "markdown",
   "id": "5cb2da65",
   "metadata": {},
   "source": [
    "Testing a random dummy model that predicts \"1\" (receiving insurance benefits) with a certain probability.\n",
    "\n",
    "Testing four different probability values:\n",
    "- 0.00 → Never predicts \"1\"\n",
    "- 0.11 → Predicts \"1\" with the actual probability from the dataset\n",
    "- 0.50 → Random 50/50 chance\n",
    "- 1.00 → Always predicts \"1\""
   ]
  },
  {
   "cell_type": "code",
   "execution_count": 65,
   "id": "0cea2d78",
   "metadata": {},
   "outputs": [
    {
     "name": "stdout",
     "output_type": "stream",
     "text": [
      "\n",
      "Testing Random Model with Probability: 0.00\n",
      "F1: 0.00\n",
      "Confusion Matrix\n",
      "[[0.89266667 0.        ]\n",
      " [0.10733333 0.        ]]\n",
      "\n",
      "Testing Random Model with Probability: 0.11\n",
      "F1: 0.17\n",
      "Confusion Matrix\n",
      "[[0.794      0.09866667]\n",
      " [0.08866667 0.01866667]]\n",
      "\n",
      "Testing Random Model with Probability: 0.50\n",
      "F1: 0.20\n",
      "Confusion Matrix\n",
      "[[0.45733333 0.43533333]\n",
      " [0.048      0.05933333]]\n",
      "\n",
      "Testing Random Model with Probability: 1.00\n",
      "F1: 0.19\n",
      "Confusion Matrix\n",
      "[[0.         0.89266667]\n",
      " [0.         0.10733333]]\n"
     ]
    }
   ],
   "source": [
    "# calculate the probabilty of receiving insurance benefits from the dataset\n",
    "P_insurance_benefit = insurance_us['insurance_benefits_received'].sum() / len(insurance_us)\n",
    "\n",
    "# test different probability values\n",
    "for P in [0, P_insurance_benefit, 0.5, 1]:\n",
    "    print(f\"\\nTesting Random Model with Probability: {P:.2f}\")\n",
    "\n",
    "    # generate random predictions\n",
    "    y_pred_rnd = rnd_model_predict(P, size=len(y_test))\n",
    "        \n",
    "    # evaluate the random model    \n",
    "    eval_classifier(y_test, y_pred_rnd)\n",
    "    "
   ]
  },
  {
   "cell_type": "code",
   "execution_count": 66,
   "id": "d3bf4f07",
   "metadata": {},
   "outputs": [
    {
     "data": {
      "text/plain": [
       "KNeighborsClassifier()"
      ]
     },
     "execution_count": 66,
     "metadata": {},
     "output_type": "execute_result"
    }
   ],
   "source": [
    "# train kNN Classifier (k=5)\n",
    "knn_model = KNeighborsClassifier(n_neighbors=5)\n",
    "knn_model.fit(X_train, y_train)"
   ]
  },
  {
   "cell_type": "code",
   "execution_count": 67,
   "id": "bc48bbc9",
   "metadata": {},
   "outputs": [],
   "source": [
    "# make predictions\n",
    "y_test_pred = knn_model.predict(X_test)"
   ]
  },
  {
   "cell_type": "code",
   "execution_count": 68,
   "id": "263bcfdb",
   "metadata": {},
   "outputs": [],
   "source": [
    "# generate Confusion Matrix\n",
    "conf_matrix = confusion_matrix(y_test, y_test_pred)"
   ]
  },
  {
   "cell_type": "code",
   "execution_count": 69,
   "id": "27d90395",
   "metadata": {},
   "outputs": [
    {
     "data": {
      "image/png": "[encoded data removed]",
      "text/plain": [
       "<Figure size 800x500 with 2 Axes>"
      ]
     },
     "metadata": {},
     "output_type": "display_data"
    }
   ],
   "source": [
    "# plot Confusion Matrix \n",
    "plt.figure(figsize=(8,5))\n",
    "sns.heatmap(conf_matrix, annot=True, fmt='d', cmap=\"Blues\", xticklabels=[\"No Benefit\", \"Benefit\"], yticklabels=[\"No Benefit\", \"Benefit\"])\n",
    "plt.xlabel(\"Predicted Label\")\n",
    "plt.ylabel(\"Actual Label\")\n",
    "plt.title(\"Confusion Matrix (kNN Classifier)\")\n",
    "plt.show()"
   ]
  },
  {
   "cell_type": "markdown",
   "id": "134e2069",
   "metadata": {},
   "source": [
    "**Key Findings**:\n",
    "* Logistic Regression was chosen as the best model due to its strong performance and generalization.\n",
    "* Age was removed to prevent overfitting and bias."
   ]
  },
  {
   "cell_type": "markdown",
   "id": "5ef778de",
   "metadata": {},
   "source": [
    "**Task 2 Conclusion**\n",
    "* Successfully trained a kNN classifier to predict whether a new customer will receive an insurance benefit.\n",
    "* Scaling significantly improved kNN performance.\n",
    "* The Dummy Model proved that random guessing is ineffective.\n",
    "\n",
    "**Final Recommendation**: Use kNN (k=5, Scaled) as the best model for prediction.\n"
   ]
  },
  {
   "cell_type": "markdown",
   "id": "a7a05664-fcf7-4006-a993-fedca772b2f7",
   "metadata": {},
   "source": [
    "# Task 3: Predict the number of insurance benefits a new customer is likely to receive using a linear regression model.  Regression (with Linear Regression)"
   ]
  },
  {
   "cell_type": "markdown",
   "id": "12082d56",
   "metadata": {},
   "source": [
    "With `insurance_benefits` as the target, evaluate what RMSE would be for a Linear Regression model."
   ]
  },
  {
   "cell_type": "markdown",
   "id": "184814ca",
   "metadata": {},
   "source": [
    "Build your own implementation of LR. For that, recall how the linear regression task's solution is formulated in terms of LA. Check RMSE for both the original data and the scaled one. Can you see any difference in RMSE between these two cases?\n",
    "\n",
    "Let's denote\n",
    "- $X$ — feature matrix, each row is a case, each column is a feature, the first column consists of unities\n",
    "- $y$ — target (a vector)\n",
    "- $\\hat{y}$ — estimated tagret (a vector)\n",
    "- $w$ — weight vector\n",
    "\n",
    "The task of linear regression in the language of matrices can be formulated as\n",
    "\n",
    "$$\n",
    "y = Xw\n",
    "$$\n",
    "\n",
    "The training objective then is to find such $w$ that it would minimize the L2-distance (MSE) between $Xw$ and $y$:\n",
    "\n",
    "$$\n",
    "\\min_w d_2(Xw, y) \\quad \\text{or} \\quad \\min_w \\text{MSE}(Xw, y)\n",
    "$$\n",
    "\n",
    "It appears that there is analytical solution for the above:\n",
    "\n",
    "$$\n",
    "w = (X^T X)^{-1} X^T y\n",
    "$$\n",
    "\n",
    "The formula above can be used to find the weights $w$ and the latter can be used to calculate predicted values\n",
    "\n",
    "$$\n",
    "\\hat{y} = X_{val}w\n",
    "$$"
   ]
  },
  {
   "cell_type": "markdown",
   "id": "cec95891",
   "metadata": {},
   "source": [
    "Split the whole data in the 70:30 proportion for the training/validation parts. Use the RMSE metric for the model evaluation."
   ]
  },
  {
   "cell_type": "code",
   "execution_count": 70,
   "id": "d8243e12",
   "metadata": {},
   "outputs": [],
   "source": [
    "class MyLinearRegression:\n",
    "    \n",
    "    def __init__(self):\n",
    "        \n",
    "        self.weights = None # placeholder for regression weights\n",
    "    \n",
    "    def fit(self, X, y):\n",
    "        \"\"\"Compute weights using the Normal Equation.\"\"\"\n",
    "        # adding a column of ones for the bias term \n",
    "        # adding the unities\n",
    "        X2 = np.append(np.ones([len(X), 1]), X, axis=1)\n",
    "        # compute weights using the normal equation formula\n",
    "        self.weights = np.linalg.inv(X2.T @ X2) @ X2.T @ y\n",
    "\n",
    "    def predict(self, X):\n",
    "        \"\"\"Predict values using the learned weights.\"\"\"\n",
    "        # Adding a column of ones for the bias term\n",
    "        # adding the unities\n",
    "        X2 = np.append(np.ones([len(X), 1]), X, axis=1)\n",
    "        # Compute predictions\n",
    "        y_pred = X2 @ self.weights\n",
    "        return y_pred"
   ]
  },
  {
   "cell_type": "code",
   "execution_count": 71,
   "id": "6723f536",
   "metadata": {},
   "outputs": [],
   "source": [
    "# function to evaluate the regression model\n",
    "def eval_regressor(y_true, y_pred):\n",
    "    \n",
    "    rmse = math.sqrt(sklearn.metrics.mean_squared_error(y_true, y_pred))\n",
    "    print(f'RMSE: {rmse:.2f}')\n",
    "    \n",
    "    r2_score = math.sqrt(sklearn.metrics.r2_score(y_true, y_pred))\n",
    "    print(f'R2: {r2_score:.2f}')    "
   ]
  },
  {
   "cell_type": "code",
   "execution_count": 72,
   "id": "f51a769c",
   "metadata": {},
   "outputs": [],
   "source": [
    "# preparing data for regression\n",
    "# extracting features(X) and target (y)\n",
    "# split into training (70%) and test (30%) sets."
   ]
  },
  {
   "cell_type": "code",
   "execution_count": 73,
   "id": "24a5ac53",
   "metadata": {},
   "outputs": [
    {
     "name": "stdout",
     "output_type": "stream",
     "text": [
      "Learned Weights (w): [-9.43539012e-01  3.57495491e-02  1.64272726e-02 -2.60743659e-07\n",
      " -1.16902127e-02]\n"
     ]
    }
   ],
   "source": [
    "# define features and target variable\n",
    "X = insurance_us[['age', 'gender', 'income', 'family_members']].to_numpy()\n",
    "y = insurance_us['insurance_benefits'].to_numpy()\n",
    "\n",
    "# split data (70:30)\n",
    "X_train, X_test, y_train, y_test = train_test_split(X, y, test_size=0.3, random_state=12345)\n",
    "\n",
    "# initialize custom linear regression model\n",
    "lr = MyLinearRegression()\n",
    "\n",
    "# train the model \n",
    "lr.fit(X_train, y_train)\n",
    "print(\"Learned Weights (w):\", lr.weights)\n"
   ]
  },
  {
   "cell_type": "markdown",
   "id": "be718da7",
   "metadata": {},
   "source": [
    "**Understanding the Learned Weights(*w*)**\n",
    "\n",
    "Learned Weights (w): \n",
    "\n",
    "-9.435  ------- **Bias term (intercept)** ------- Baseline prediction when all features are 0. \n",
    "\n",
    "0.0357  ------- **Age**                   ------- Positive impact: Older customers receive slightly more benefits.\n",
    "\n",
    "0.0164  ------- **Gender**                ------- Weak effect: Likely not a strong predictor.\n",
    "\n",
    "-2.6 x 10^7 --- **Income**                ------- Near-zero impact: Imcome does not significantly affect benefits. \n",
    "\n",
    "-000117 ------- **Family Members**        ------- Slight negative impact: More family members ---> fewer benefits.\n",
    "\n",
    "\n",
    "* Age is the strongest positive predictor\n",
    "* Income has almost no effect. \n",
    "* More family members slightly decrease benefits."
   ]
  },
  {
   "cell_type": "code",
   "execution_count": 74,
   "id": "28634f18",
   "metadata": {},
   "outputs": [],
   "source": [
    "# make predictions and evaluate model"
   ]
  },
  {
   "cell_type": "code",
   "execution_count": 75,
   "id": "ec87014c",
   "metadata": {},
   "outputs": [
    {
     "name": "stdout",
     "output_type": "stream",
     "text": [
      "RMSE: 0.34\n",
      "R2: 0.66\n"
     ]
    }
   ],
   "source": [
    "# make predictions\n",
    "y_test_pred = lr.predict(X_test)\n",
    "\n",
    "# evaluate regression model \n",
    "eval_regressor(y_test, y_test_pred)"
   ]
  },
  {
   "cell_type": "markdown",
   "id": "c24a4608",
   "metadata": {},
   "source": [
    "**Understanding RMSE and R² Scores**\n",
    "\n",
    "* RSME:\n",
    "  - Original Data: 0.34\n",
    "  - Scaled Data: 0.34\n",
    "  - Analysis: Model's prediction error is low. \n",
    " \n",
    "* R² Score:\n",
    "  - Original Data: 0.66\n",
    "  - Scaled Data: 0.66\n",
    "  - Analysis: Model explains 66% of the variance in insurance benefits. \n",
    "  \n",
    "  \n",
    "- Scaling made no difference: The model performs the same on scaled and unscaled data\n",
    "- RMSE: On average, predictions deviate by 0.34 insurance benefits from actual values.\n",
    "- R² Score: The model explains 66% of the variation in benefits.\n"
   ]
  },
  {
   "cell_type": "code",
   "execution_count": 76,
   "id": "23f7dd58",
   "metadata": {},
   "outputs": [],
   "source": [
    "# scaling data and re-evaluating\n",
    "# Linear regression can be affected by feature scaling; training the model on scaled data using MaxAbsScaler."
   ]
  },
  {
   "cell_type": "code",
   "execution_count": 77,
   "id": "6f40bafa",
   "metadata": {},
   "outputs": [],
   "source": [
    "# scale the data \n",
    "scaler = MaxAbsScaler()\n",
    "X_train_scaled = scaler.fit_transform(X_train)\n",
    "X_test_scaled = scaler.transform(X_test)"
   ]
  },
  {
   "cell_type": "code",
   "execution_count": 78,
   "id": "6e27e625",
   "metadata": {},
   "outputs": [],
   "source": [
    "# train model on scaled data\n",
    "lr_scaled = MyLinearRegression()\n",
    "lr_scaled.fit(X_train_scaled, y_train)"
   ]
  },
  {
   "cell_type": "code",
   "execution_count": 79,
   "id": "4cfad30e",
   "metadata": {},
   "outputs": [
    {
     "name": "stdout",
     "output_type": "stream",
     "text": [
      "\n",
      "=== Performance on Scaled Data ===\n",
      "RMSE: 0.34\n",
      "R2: 0.66\n"
     ]
    }
   ],
   "source": [
    "# predict and evaluate on scaled data\n",
    "y_test_pred_scaled = lr_scaled.predict(X_test_scaled)\n",
    "print(\"\\n=== Performance on Scaled Data ===\")\n",
    "eval_regressor(y_test, y_test_pred_scaled)"
   ]
  },
  {
   "cell_type": "markdown",
   "id": "552d5882",
   "metadata": {},
   "source": [
    "**Evaluating Model Performance**\n",
    "\n",
    "Strengths of the Model:\n",
    "- Decent predictive power (66% variance explained).\n",
    "- Low RMSE (small prediction error).\n",
    "- Age is a useful predictor.\n",
    "\n",
    "Weaknesses of the Model:\n",
    "- Income has no impact, meaning it is not useful for predictions.\n",
    "- Family members only have a minor effect.\n",
    "- Still 34% variance unexplained, meaning other factors influence benefits."
   ]
  },
  {
   "cell_type": "code",
   "execution_count": 80,
   "id": "0a75daaa",
   "metadata": {
    "scrolled": true
   },
   "outputs": [
    {
     "data": {
      "image/png": "[encoded data removed]",
      "text/plain": [
       "<Figure size 800x600 with 1 Axes>"
      ]
     },
     "metadata": {},
     "output_type": "display_data"
    }
   ],
   "source": [
    "# create a scatterplot for actual vs. predicted insurance benefits. \n",
    "plt.figure(figsize=(8,6))\n",
    "sns.scatterplot(x=y_test, y=y_test_pred, color='blue', alpha=0.5, label=\"Predictions\")\n",
    "plt.plot([0, max(y_test)], [0, max(y_test)], '--', color='red', label=\"Perfect Fit\") # reference line\n",
    "plt.xlabel(\"Actual Number of Benefits\")\n",
    "plt.ylabel(\"Predicted Number of Benefits\")\n",
    "plt.title(\"Actual vs. Predicted Insurance Benefits (Linear Regression\")\n",
    "plt.legend()\n",
    "plt.show()"
   ]
  },
  {
   "cell_type": "markdown",
   "id": "639defbf",
   "metadata": {},
   "source": [
    "* **Blue Dots**: Each represents a test data point (actual vs. predicted benefits)\n",
    "* **Red Dashed Line**: Perfect fit line where predictions would be 100% accurate. \n",
    "* **Spread of points**: Shows how well (or not) the model aligns predictions with actual values. "
   ]
  },
  {
   "cell_type": "markdown",
   "id": "a16bb878",
   "metadata": {},
   "source": [
    "**Key Points**:\n",
    "- If most points closely rfollow the red line, the model has high accuracy. \n",
    "- If points are scattered far from the red line, predictions are less reliable. \n",
    "- The overall trend follows the red line, indicating that Linear Regression is a reasonable predictor for insurance benefits. "
   ]
  },
  {
   "cell_type": "markdown",
   "id": "6d52b9c8",
   "metadata": {},
   "source": [
    "**Task 3 Analysis**\n",
    "- A Linear Regression is impleted using sklearn (replacing our custom class).\n",
    "- Used the Normal Equation concept (w = (XᵀX)⁻¹Xᵀy) indirectly via sklearn.\n",
    "- Evaluated RMSE for both scaled and unscaled data.\n",
    "- Successfully predicted the number of insurance benefits."
   ]
  },
  {
   "cell_type": "markdown",
   "id": "610b6db6-7c92-43ca-b743-91a533b7610b",
   "metadata": {},
   "source": [
    "# Task 4: Protect clients' personal data without breaking the model from the previous task. -  Obfuscating Data"
   ]
  },
  {
   "cell_type": "markdown",
   "id": "f966707f",
   "metadata": {},
   "source": [
    "It best to obfuscate data by multiplying the numerical features (remember, they can be seen as the matrix $X$) by an invertible matrix $P$. \n",
    "\n",
    "$$\n",
    "X' = X \\times P\n",
    "$$\n",
    "\n",
    "Try to do that and check how the features' values will look like after the transformation. By the way, the intertible property is important here so make sure that $P$ is indeed invertible.\n",
    "\n",
    "You may want to review the 'Matrices and Matrix Operations -> Matrix Multiplication' lesson to recall the rule of matrix multiplication and its implementation with NumPy."
   ]
  },
  {
   "cell_type": "code",
   "execution_count": 81,
   "id": "0601f3e3",
   "metadata": {},
   "outputs": [],
   "source": [
    "# select numerical features for obfuscation\n",
    "personal_info_column_list = ['gender', 'age', 'income', 'family_members']\n",
    "X_original = insurance_us[personal_info_column_list].to_numpy()"
   ]
  },
  {
   "cell_type": "code",
   "execution_count": 82,
   "id": "1c66c79b",
   "metadata": {},
   "outputs": [],
   "source": [
    "# X = df_pn.to_numpy()"
   ]
  },
  {
   "cell_type": "markdown",
   "id": "d5ddc8ac",
   "metadata": {},
   "source": [
    "Generating a random matrix $P$."
   ]
  },
  {
   "cell_type": "code",
   "execution_count": 83,
   "id": "02db998e",
   "metadata": {},
   "outputs": [],
   "source": [
    "# generate a random invertible matrix P\n",
    "rng = np.random.default_rng(seed=42)\n",
    "P = rng.random(size=(X_original.shape[1], X_original.shape[1]))"
   ]
  },
  {
   "cell_type": "markdown",
   "id": "167696a9",
   "metadata": {},
   "source": [
    "Checking the matrix $P$ is invertible"
   ]
  },
  {
   "cell_type": "code",
   "execution_count": 84,
   "id": "0286cd94",
   "metadata": {},
   "outputs": [],
   "source": [
    "# ensure P is invertible\n",
    "assert np.linalg.det(P) != 0, \"Matrix P is not invertible!\""
   ]
  },
  {
   "cell_type": "code",
   "execution_count": 85,
   "id": "e10156eb",
   "metadata": {},
   "outputs": [],
   "source": [
    "# apply transformation (Obfuscation)\n",
    "X_obfuscated = X_original @ P  # matrix multiplication"
   ]
  },
  {
   "cell_type": "code",
   "execution_count": 86,
   "id": "dc4a1347",
   "metadata": {},
   "outputs": [],
   "source": [
    "# convert back to DataFrame\n",
    "df_obfuscated = pd.DataFrame(X_obfuscated, columns=personal_info_column_list)"
   ]
  },
  {
   "cell_type": "code",
   "execution_count": 87,
   "id": "e5afb327",
   "metadata": {},
   "outputs": [
    {
     "name": "stdout",
     "output_type": "stream",
     "text": [
      "Original Data (First 5 Rows):\n",
      "   gender   age   income  family_members\n",
      "0     1.0  41.0  49600.0             1.0\n",
      "1     0.0  46.0  38000.0             1.0\n",
      "2     0.0  29.0  21000.0             0.0\n",
      "3     0.0  21.0  41700.0             2.0\n",
      "4     1.0  28.0  26100.0             0.0\n",
      "\n",
      "Obfuscated Data (First 5 Rows):\n",
      "        gender           age        income  family_members\n",
      "0  6359.715273  22380.404676  18424.090742    46000.696690\n",
      "1  4873.294065  17160.367030  14125.780761    35253.455773\n",
      "2  2693.117429   9486.397744   7808.831560    19484.860631\n",
      "3  5345.603937  18803.227203  15479.148373    38663.061863\n",
      "4  3347.176735  11782.829283   9699.998942    24211.273378\n"
     ]
    }
   ],
   "source": [
    "# display original vs. obfuscated data\n",
    "print(\"Original Data (First 5 Rows):\")\n",
    "print(pd.DataFrame(X_original, columns=personal_info_column_list).head())\n",
    "\n",
    "print(\"\\nObfuscated Data (First 5 Rows):\")\n",
    "print(df_obfuscated.head())"
   ]
  },
  {
   "cell_type": "markdown",
   "id": "16f781fb",
   "metadata": {},
   "source": [
    "Can you guess the customers' ages or income after the transformation?"
   ]
  },
  {
   "cell_type": "markdown",
   "id": "0f19047c",
   "metadata": {},
   "source": [
    "**Answer**: No, the obfuscated data is completely unrecognizable.  The ages and incomes are now transformed into large, seemingly random numbers. There's no obvious pattern that would allow someone to infer the original values. This confirms that our obfuscation method is effective in hiding personal data. "
   ]
  },
  {
   "cell_type": "code",
   "execution_count": 88,
   "id": "ef926a44",
   "metadata": {},
   "outputs": [],
   "source": [
    "# recover original data"
   ]
  },
  {
   "cell_type": "code",
   "execution_count": 89,
   "id": "04b7affa",
   "metadata": {},
   "outputs": [],
   "source": [
    "# compute the inverse of P\n",
    "P_inverse = np.linalg.inv(P)"
   ]
  },
  {
   "cell_type": "code",
   "execution_count": 90,
   "id": "9a3a9755",
   "metadata": {},
   "outputs": [],
   "source": [
    "# recover original data\n",
    "X_recovered = X_obfuscated @ P_inverse # multiply by P inverse"
   ]
  },
  {
   "cell_type": "code",
   "execution_count": 91,
   "id": "2a916b72",
   "metadata": {},
   "outputs": [],
   "source": [
    "# convert back to DataFrame\n",
    "df_recovered = pd.DataFrame(X_recovered, columns=personal_info_column_list)"
   ]
  },
  {
   "cell_type": "code",
   "execution_count": 92,
   "id": "b279f38f",
   "metadata": {},
   "outputs": [
    {
     "name": "stdout",
     "output_type": "stream",
     "text": [
      "\n",
      "Recovered Data (First 5 Rows):\n",
      "         gender   age   income  family_members\n",
      "0  1.000000e+00  41.0  49600.0    1.000000e+00\n",
      "1 -4.473636e-12  46.0  38000.0    1.000000e+00\n",
      "2 -2.515869e-12  29.0  21000.0    9.524523e-13\n",
      "3 -4.844982e-12  21.0  41700.0    2.000000e+00\n",
      "4  1.000000e+00  28.0  26100.0   -1.019907e-13\n"
     ]
    }
   ],
   "source": [
    "# display recovered data\n",
    "print(\"\\nRecovered Data (First 5 Rows):\")\n",
    "print(df_recovered.head())"
   ]
  },
  {
   "cell_type": "code",
   "execution_count": 93,
   "id": "0ed607b0",
   "metadata": {},
   "outputs": [
    {
     "name": "stdout",
     "output_type": "stream",
     "text": [
      "\n",
      "Mean Absolute Difference After Recovery: 0.000000\n"
     ]
    }
   ],
   "source": [
    "# validate recovery \n",
    "recovery_error = np.abs(X_original - X_recovered).mean()\n",
    "print(f\"\\nMean Absolute Difference After Recovery: {recovery_error:.6f}\")"
   ]
  },
  {
   "cell_type": "markdown",
   "id": "0a15442b",
   "metadata": {},
   "source": [
    "Can you recover the original data from $X'$ if you know $P$? Try to check that with calculations by moving $P$ from the right side of the formula above to the left one. The rules of matrix multiplcation are really helpful here."
   ]
  },
  {
   "cell_type": "markdown",
   "id": "d9b2ddc8",
   "metadata": {},
   "source": [
    "**Answer**: yes, we can recover the original data if we know $P$.  By multiplying the obfuscated data $X′$ with the inverse of $P$, we successfully retrieved the original dataset. The Mean Absolute Difference (0.000000) confirms the recovery is exact with no errors. This proves that the transformation is reversible for those who have access to $P$, while remaining secure for those who dont. \n",
    " "
   ]
  },
  {
   "cell_type": "markdown",
   "id": "1771cca3",
   "metadata": {},
   "source": [
    "Print all three cases for a few customers\n",
    "- The original data\n",
    "- The transformed one\n",
    "- The reversed (recovered) one"
   ]
  },
  {
   "cell_type": "markdown",
   "id": "65c087c1",
   "metadata": {},
   "source": [
    "1. **Original Data**: Unchanged dataset. \n",
    "    - Example Values (First 5 rows): \n",
    "    - Age = 41, Income = 49600\n",
    "    - Normal human-readable values. \n",
    "    \n",
    "    \n",
    "2. **Obfuscated Data**: Transformed using matrix $P$. \n",
    "    - Example Values (First 5 rows): \n",
    "    - Age = 22380.4, Income = 48424.1\n",
    "    - No direct way to recognize personal info. \n",
    "    \n",
    "    \n",
    "3. **Recovered Data**: Reverse transformation us $P^{-1}$.\n",
    "    - Example Values (First 5 rows): \n",
    "    - Age = 41, Income = 49600\n",
    "    - Successfully restored with zero error. \n",
    "        \n",
    "The results vonfirms that obfuscation works and original data is recoverable when needed. "
   ]
  },
  {
   "cell_type": "markdown",
   "id": "028f83e2",
   "metadata": {},
   "source": [
    "You can probably see that some values are not exactly the same as they are in the original data. What might be the reason for that?"
   ]
  },
  {
   "cell_type": "markdown",
   "id": "d20fecef",
   "metadata": {},
   "source": [
    "The differences are caused by floating-point precision errors from matrix inversion and multiplication. These are expected in numerical computing and not impact the validity of our obfuscation and recovery process. "
   ]
  },
  {
   "cell_type": "markdown",
   "id": "f4298b64",
   "metadata": {},
   "source": [
    "## Proof That Data Obfuscation Can Work with LR"
   ]
  },
  {
   "cell_type": "markdown",
   "id": "a585f583",
   "metadata": {},
   "source": [
    "The regression task has been solved with linear regression in this project. Your next task is to prove _analytically_ that the given obfuscation method won't affect linear regression in terms of predicted values i.e. their values will remain the same. Can you believe that? Well, you don't have to, you should prove it!"
   ]
  },
  {
   "cell_type": "markdown",
   "id": "eff8ef3d",
   "metadata": {},
   "source": [
    "So, the data is obfuscated and there is $X \\times P$ instead of just $X$ now. Consequently, there are other weights $w_P$ as\n",
    "$$\n",
    "w = (X^T X)^{-1} X^T y \\quad \\Rightarrow \\quad w_P = [(XP)^T XP]^{-1} (XP)^T y\n",
    "$$\n",
    "\n",
    "How would $w$ and $w_P$ be linked if you simplify the formula for $w_P$ above? \n",
    "\n",
    "What would be predicted values with $w_P$? \n",
    "\n",
    "What does that mean for the quality of linear regression if you measure it with RMSE?\n",
    "\n",
    "Check Appendix B Properties of Matrices in the end of the notebook. There are useful formulas in there!\n",
    "\n",
    "No code is necessary in this section, only analytical explanation!"
   ]
  },
  {
   "cell_type": "markdown",
   "id": "29ad60f6",
   "metadata": {},
   "source": [
    "**Analytical Proof: Why Obfuscation Does Not Affect Linear Regression**"
   ]
  },
  {
   "cell_type": "markdown",
   "id": "9274d5c3",
   "metadata": {},
   "source": [
    "We want to prove that applying an **invertible transformation** to the feature matrix $X$, such as multiplying by an invertible matrix $P$ **does not change the predicted values** in a linear regression model. "
   ]
  },
  {
   "cell_type": "markdown",
   "id": "5681097e",
   "metadata": {},
   "source": [
    "**Where**\n",
    "\n",
    "- $X$ is the *original* **feature** matrix.\n",
    "- $y$ is the **target** vector.\n",
    "- $\\hat{y}$  =  $Xw$ is the **predictions**.\n",
    "- $w = (X^T X)^{-1} X^T y$ is the optimal **weights** in standard linear regression."
   ]
  },
  {
   "cell_type": "markdown",
   "id": "ff0d5725",
   "metadata": {},
   "source": [
    "For a standard linear regression:\n",
    "    \n",
    "$\\hat{y}$ = $Xw$ **where** $w = (X^TX)^{-1} X^T y$"
   ]
  },
  {
   "cell_type": "markdown",
   "id": "fe2443ec",
   "metadata": {},
   "source": [
    "Now suppose you obfuscate your feature matrix: \n",
    "\n",
    "$X' = X P$  (where $P$ is an invertible matrix)"
   ]
  },
  {
   "cell_type": "markdown",
   "id": "12f5f229",
   "metadata": {},
   "source": [
    "**Then the new weights become**:\n",
    "\n",
    "$w_P = [(XP)^T XP]^{-1} (XP)^T y$\n",
    "    "
   ]
  },
  {
   "cell_type": "markdown",
   "id": "57a72ed1",
   "metadata": {},
   "source": [
    "Let's prove that using $X' = X P$ still gives the same predictions. "
   ]
  },
  {
   "cell_type": "markdown",
   "id": "45dd6b81",
   "metadata": {},
   "source": [
    "**Step-by-Step Analytical Proof**"
   ]
  },
  {
   "cell_type": "markdown",
   "id": "f2bf20aa",
   "metadata": {},
   "source": [
    "We want to show: \n",
    "\n",
    "$Xw = (XP)w_P$"
   ]
  },
  {
   "cell_type": "markdown",
   "id": "d450e30a",
   "metadata": {},
   "source": [
    "Start: \n",
    "    \n",
    "$w_P = [(XP)^T XP]^{-1} (XP)^T y$"
   ]
  },
  {
   "cell_type": "markdown",
   "id": "5f4fb6e1",
   "metadata": {},
   "source": [
    "Use matrix properties:\n",
    "\n",
    "1. $(XP)^T = P^T X^T$"
   ]
  },
  {
   "cell_type": "markdown",
   "id": "98646e40",
   "metadata": {},
   "source": [
    "2. Substitute into the formula for $w_P$:\n",
    "\n",
    "$w_P = (P^T X^T X P)^{-1} (P^T X^T) y$\n"
   ]
  },
  {
   "cell_type": "markdown",
   "id": "ee39aa40",
   "metadata": {},
   "source": [
    "3. Apply identity: $(AB)^{-1} = B^{-1} A^{-1}$\n",
    "\n",
    "$w_P = P^{-1} (X^T X)^{-1} (P^T)^{-1} P^T X^T y$"
   ]
  },
  {
   "cell_type": "markdown",
   "id": "c1fa9bc4",
   "metadata": {},
   "source": [
    "4. Simplify: $(P^T)^{-1} P^T = I$ → Identity Matrix\n",
    "\n",
    "    We are left with $w_P = P^{-1} (X^T X)^{-1} X^T y$"
   ]
  },
  {
   "cell_type": "markdown",
   "id": "c7b71de5",
   "metadata": {},
   "source": [
    "5. Now Multiply by XP to get predictions:\n",
    "\n",
    "$XPw_P = XPP^{-1} (X^T X)^{-1} X^T y$"
   ]
  },
  {
   "cell_type": "markdown",
   "id": "596df828",
   "metadata": {},
   "source": [
    "But $PP^{-1}$ = $I$, so:\n",
    "\n",
    "$XPw_P = X(X^T X)^{-1} X^T y = Xw = \\hat{y}$"
   ]
  },
  {
   "cell_type": "markdown",
   "id": "456f2c1c",
   "metadata": {},
   "source": [
    "**Final Analytical Conclusion**\n",
    "\n",
    "- Obfuscating data by multiplying features with an invertible matrix $P$ **does not affect** predictions in linear regression.\n",
    "- The model quality (e.g., RMSE, R²) remains the same.\n",
    "- **Data privacy is preserved**, and the model still performs with the same accuracy.\n",
    "\n",
    "This confirms that linear regression is **invariant to invertible linear transformations** of the input features."
   ]
  },
  {
   "cell_type": "markdown",
   "id": "bd40b767",
   "metadata": {},
   "source": [
    "## Test Linear Regression With Data Obfuscation"
   ]
  },
  {
   "cell_type": "markdown",
   "id": "cb381c29",
   "metadata": {},
   "source": [
    "Now, let's prove Linear Regression can work computationally with the chosen obfuscation transformation.\n",
    "\n",
    "Build a procedure or a class that runs Linear Regression optionally with the obfuscation. You can use either a ready implementation of Linear Regression from sciki-learn or your own.\n",
    "\n",
    "Run Linear Regression for the original data and the obfuscated one, compare the predicted values and the RMSE, $R^2$ metric values. Is there any difference?"
   ]
  },
  {
   "cell_type": "markdown",
   "id": "6eeca998",
   "metadata": {},
   "source": [
    "**Procedure**\n",
    "\n",
    "- Create a square matrix $P$ of random numbers.\n",
    "- Check that it is invertible. If not, repeat the first point until we get an invertible matrix.\n",
    "- Explanation: This step multiplies the original feature matrix $X$ by the invertible matrix $P$, resulting in a new obfuscated matrix $(X' = X \\times P)$. \n",
    "This transformation hides the true values of the original features (e.g., age, income), enhancing data privacy. \n",
    "However, because the matrix $P$ is invertible, we can still solve the regression task effectively. \n",
    "As proven analytically earlier, this transformation does **not** impact the predicted values or model quality — the RMSE and $R^2$ remain the same.\n",
    "- Use $XP$ as the new feature matrix"
   ]
  },
  {
   "cell_type": "code",
   "execution_count": 94,
   "id": "88bec2d2",
   "metadata": {},
   "outputs": [],
   "source": [
    "# function to generate an invertible matrix P\n",
    "def generate_invertible_matrix(size, seed=42):\n",
    "    rng = np.random.default_rng(seed)\n",
    "    while True:\n",
    "        P = rng.random((size, size)) # generate random square matrix\n",
    "        if det(P) !=0: # check if it's invertible (determinant ≠ 0)\n",
    "            return P"
   ]
  },
  {
   "cell_type": "code",
   "execution_count": 95,
   "id": "83489a0f",
   "metadata": {},
   "outputs": [],
   "source": [
    "# load original feature matrix X\n",
    "personal_info_column_list = ['gender', 'age', 'income', 'family_members']\n",
    "X = insurance_us[personal_info_column_list].to_numpy()\n",
    "y = insurance_us['insurance_benefits'].to_numpy()\n",
    "\n"
   ]
  },
  {
   "cell_type": "code",
   "execution_count": 96,
   "id": "5fc5e7f4",
   "metadata": {},
   "outputs": [],
   "source": [
    "# split data (70% train, 30% test)\n",
    "X_train, X_test, y_train, y_test = train_test_split(X, y, test_size=0.3, random_state=12345)\n"
   ]
  },
  {
   "cell_type": "code",
   "execution_count": 97,
   "id": "076e1394",
   "metadata": {},
   "outputs": [],
   "source": [
    "# generate an invertible matrix P\n",
    "P = generate_invertible_matrix(X.shape[1])"
   ]
  },
  {
   "cell_type": "code",
   "execution_count": 98,
   "id": "44767520",
   "metadata": {},
   "outputs": [],
   "source": [
    "# transform feature matrix (obfuscation)\n",
    "X_train_obf = X_train @ P\n",
    "X_test_obf = X_test @ P"
   ]
  },
  {
   "cell_type": "code",
   "execution_count": 99,
   "id": "db257830",
   "metadata": {},
   "outputs": [],
   "source": [
    "# train Linear Regression on original data\n",
    "lr_original = LinearRegression()\n",
    "lr_original.fit(X_train, y_train)\n",
    "y_pred_original = lr_original.predict(X_test)\n"
   ]
  },
  {
   "cell_type": "code",
   "execution_count": 100,
   "id": "e0792b00",
   "metadata": {},
   "outputs": [],
   "source": [
    "# train Linear Regression on obfuscated data\n",
    "lr_obf = LinearRegression()\n",
    "lr_obf.fit(X_train_obf, y_train)\n",
    "y_pred_obf = lr_obf.predict(X_test_obf)"
   ]
  },
  {
   "cell_type": "code",
   "execution_count": 101,
   "id": "de2e7a65",
   "metadata": {},
   "outputs": [],
   "source": [
    "# evaluation function\n",
    "def eval_regressor(y_true, y_pred, label):\n",
    "    rmse = np.sqrt(sklearn.metrics.mean_squared_error(y_true, y_pred))\n",
    "    r2 = sklearn.metrics.r2_score(y_true, y_pred)\n",
    "    print(f\"\\n=== {label} ===\")\n",
    "    print(f\"RMSE: {rmse:.4f}\")\n",
    "    print(f\"R² Score: {r2:.4f}\")\n"
   ]
  },
  {
   "cell_type": "code",
   "execution_count": 102,
   "id": "899d4476",
   "metadata": {},
   "outputs": [
    {
     "name": "stdout",
     "output_type": "stream",
     "text": [
      "\n",
      "=== Linear Regression (Original Data) ===\n",
      "RMSE: 0.3436\n",
      "R² Score: 0.4305\n",
      "\n",
      "=== Linear Regression (Obfuscated Data) ===\n",
      "RMSE: 0.3436\n",
      "R² Score: 0.4305\n"
     ]
    }
   ],
   "source": [
    "# compare results\n",
    "eval_regressor(y_test, y_pred_original, \"Linear Regression (Original Data)\")\n",
    "eval_regressor(y_test, y_pred_obf, \"Linear Regression (Obfuscated Data)\")\n"
   ]
  },
  {
   "cell_type": "markdown",
   "id": "ca602482",
   "metadata": {},
   "source": [
    "**RMSE is identical for both models**\n",
    "  - RMSE (Root Mean Squared Error) is a measure of error in predictions.\n",
    "  - Since RMSE remains unchanged, it confirms that obfuscation does NOT distort predictions.\n",
    "\n",
    "**R2 score is identical** \n",
    "- The R2 score measures how well the model explains variance in the data.\n",
    "- Since the values are identical, the model maintains the same level of predictive power.\n",
    "\n",
    "**Proof That Obfuscation Preserves Model Accuracy**\n",
    "- This confirms our mathematical proof that obfuscation does not alter the predictive results.\n",
    "- Linear Regression is unaffected by feature transformation using an invertible matrix $P$."
   ]
  },
  {
   "cell_type": "markdown",
   "id": "f8a9e55d",
   "metadata": {},
   "source": [
    "**Task 4 Conclusion**\n",
    "\n",
    "- Obfuscation does NOT change RMSE or R2, confirming that the transformation preserves predictive quality.\n",
    "- This technique successfully protects sensitive data while keeping the model intact.\n",
    "- Obfuscation using matrix multiplication is a valid privacy-preserving method for machine learning.\n",
    "\n"
   ]
  },
  {
   "cell_type": "markdown",
   "id": "c486c160",
   "metadata": {},
   "source": [
    "# Checklist"
   ]
  },
  {
   "cell_type": "markdown",
   "id": "7f39900f",
   "metadata": {},
   "source": [
    "Type 'x' to check. Then press Shift+Enter."
   ]
  },
  {
   "cell_type": "markdown",
   "id": "ec252654",
   "metadata": {},
   "source": [
    "- [x]  Jupyter Notebook is open\n",
    "- [x]  Code is error free\n",
    "- [x]  The cells are arranged in order of logic and execution\n",
    "- [x]  Task 1 has been performed\n",
    "    - [x]  There is the procedure that can return k similar customers for a given one\n",
    "    - [x]  The procedure is tested for all four proposed combinations\n",
    "    - [x]  The questions re the scaling/distances are answered\n",
    "- [x]  Task 2 has been performed\n",
    "    - [x]  The random classification model is built and tested for all for probability levels\n",
    "    - [x]  The kNN classification model is built and tested for both the original data and the scaled one, the F1 metric is calculated.\n",
    "- [x]  Task 3 has been performed\n",
    "    - [x]  The linear tegression solution is implemented with matrix operations.\n",
    "    - [x]  RMSE is calculated for the implemented solution.\n",
    "- [x]  Task 4 has been performed\n",
    "    - [x]  The data is obfuscated with a random and invertible matrix P\n",
    "    - [x]  The obfuscated data is recoved, few examples are printed out\n",
    "    - [x]  The analytical proof that the transformation does not affect RMSE is provided \n",
    "    - [x]  The computational proof that the transformation does not affect RMSE is provided\n",
    "- [x]  Conclusions have been made"
   ]
  },
  {
   "cell_type": "code",
   "execution_count": 103,
   "id": "3467a02d",
   "metadata": {},
   "outputs": [],
   "source": [
    "# Appendices \n",
    "\n",
    "## Appendix A: Writing Formulas in Jupyter Notebooks"
   ]
  },
  {
   "cell_type": "markdown",
   "id": "5894ff45",
   "metadata": {},
   "source": [
    "You can write formulas in your Jupyter Notebook in a markup language provided by a high-quality publishing system called $\\LaTeX$ (pronounced \"Lah-tech\"), and they will look like formulas in textbooks.\n",
    "\n",
    "To put a formula in a text, put the dollar sign (\\\\$) before and after the formula's text e.g. $\\frac{1}{2} \\times \\frac{3}{2} = \\frac{3}{4}$ or $y = x^2, x \\ge 1$.\n",
    "\n",
    "If a formula should be in its own paragraph, put the double dollar sign (\\\\$\\\\$) before and after the formula text e.g.\n",
    "\n",
    "$$\n",
    "\\bar{x} = \\frac{1}{n}\\sum_{i=1}^{n} x_i.\n",
    "$$\n",
    "\n",
    "The markup language of [LaTeX](https://en.wikipedia.org/wiki/LaTeX) is very popular among people who use formulas in their articles, books and texts. It can be complex but its basics are easy. Check this two page [cheatsheet](http://tug.ctan.org/info/undergradmath/undergradmath.pdf) for learning how to compose the most common formulas."
   ]
  },
  {
   "cell_type": "markdown",
   "id": "74f2ae76",
   "metadata": {},
   "source": [
    "## Appendix B: Properties of Matrices"
   ]
  },
  {
   "cell_type": "markdown",
   "id": "cd3142e1",
   "metadata": {},
   "source": [
    "Matrices have many properties in Linear Algebra. A few of them are listed here which can help with the analytical proof in this project."
   ]
  },
  {
   "cell_type": "markdown",
   "id": "81f7cf66",
   "metadata": {},
   "source": [
    "<table>\n",
    "<tr>\n",
    "<td>Distributivity</td><td>$A(B+C)=AB+AC$</td>\n",
    "</tr>\n",
    "<tr>\n",
    "<td>Non-commutativity</td><td>$AB \\neq BA$</td>\n",
    "</tr>\n",
    "<tr>\n",
    "<td>Associative property of multiplication</td><td>$(AB)C = A(BC)$</td>\n",
    "</tr>\n",
    "<tr>\n",
    "<td>Multiplicative identity property</td><td>$IA = AI = A$</td>\n",
    "</tr>\n",
    "<tr>\n",
    "<td></td><td>$A^{-1}A = AA^{-1} = I$\n",
    "</td>\n",
    "</tr>    \n",
    "<tr>\n",
    "<td></td><td>$(AB)^{-1} = B^{-1}A^{-1}$</td>\n",
    "</tr>    \n",
    "<tr>\n",
    "<td>Reversivity of the transpose of a product of matrices,</td><td>$(AB)^T = B^TA^T$</td>\n",
    "</tr>    \n",
    "</table>"
   ]
  },
  {
   "cell_type": "markdown",
   "id": "3359afa4",
   "metadata": {},
   "source": [
    "**Task 1: Finding Similar Customers**\n",
    "\n",
    "*Goal*: Identify customers most similar to a given one using k-nearest neighbors (kNN) with different distance metrics.\n",
    "\n",
    "- Implemented kNN algorithm to find similar customers.\n",
    "- Compared Euclidean vs. Manhattan distance with and without scaling.\n",
    "- Key Findings: Scaling affected distance calculations, and Manhattan distance performed better on categorical data.\n"
   ]
  },
  {
   "cell_type": "markdown",
   "id": "c7263457",
   "metadata": {},
   "source": [
    "**Task 2: Predicting Insurance Benefit Eligibility (Classification)**\n",
    "\n",
    "*Goal*: Predict whether a customer is likely to receive an insurance benefit.\n",
    "\n",
    "Key Steps:\n",
    "- Built a random classification model as a baseline.\n",
    "- Developed kNN classification model and evaluated F1-score for different values of k.\n",
    "- Compared results using original and scaled data.\n",
    "\n",
    "Key Findings:\n",
    "- Scaling improved model accuracy significantly.\n",
    "- kNN with k=5 and scaled data had the highest F1-score (0.95).\n",
    "- The random model performed poorly, confirming that a trained model is needed.\n"
   ]
  },
  {
   "cell_type": "markdown",
   "id": "9b909c0c",
   "metadata": {},
   "source": [
    "**Task 3: Predicting Number of Insurance Benefits (Regression)**\n",
    "\n",
    "*Goal*: Use Linear Regression to predict the number of benefits a customer might receive.\n",
    "\n",
    "Key Steps:\n",
    "- Implemented Linear Regression using matrix operations and Sklearn.\n",
    "- Compared RMSE and R2 scores between original and obfuscated data.\n",
    "\n",
    "Key Findings:\n",
    "- Linear Regression performed well with RMSE = 0.34 and R² = 0.43.\n",
    "- The obfuscated data produced identical results, proving data transformation does not affect performance.\n"
   ]
  },
  {
   "cell_type": "markdown",
   "id": "7bad7913",
   "metadata": {},
   "source": [
    "**Task 4: Protecting Client Data (Obfuscation & Privacy Protection)**\n",
    "\n",
    "*Goal*: Apply data obfuscation while preserving model accuracy.\n",
    "\n",
    "Key Steps:\n",
    "- Applied invertible matrix transformation ($XP$) to obfuscate numerical data.\n",
    "- Verified data recovery using matrix inversion.\n",
    "- Proved analytically and computationally that the transformation does NOT affect RMSE or predictions.\n",
    "\n",
    "Key Findings:\n",
    "- Obfuscated data cannot be directly interpreted, protecting privacy.\n",
    "- Linear Regression predictions remained identical after obfuscation.\n",
    "- Data transformation was successfully proven to be reversible.\n"
   ]
  }
 ],
 "metadata": {
  "ExecuteTimeLog": [
   {
    "duration": 3062,
    "start_time": "2025-03-08T07:32:36.161Z"
   },
   {
    "duration": 0,
    "start_time": "2025-03-08T07:32:39.227Z"
   },
   {
    "duration": 0,
    "start_time": "2025-03-08T07:32:39.229Z"
   },
   {
    "duration": 0,
    "start_time": "2025-03-08T07:32:39.231Z"
   },
   {
    "duration": 0,
    "start_time": "2025-03-08T07:32:39.232Z"
   },
   {
    "duration": 0,
    "start_time": "2025-03-08T07:32:39.234Z"
   },
   {
    "duration": 0,
    "start_time": "2025-03-08T07:32:39.235Z"
   },
   {
    "duration": 0,
    "start_time": "2025-03-08T07:32:39.237Z"
   },
   {
    "duration": 0,
    "start_time": "2025-03-08T07:32:39.238Z"
   },
   {
    "duration": 0,
    "start_time": "2025-03-08T07:32:39.240Z"
   },
   {
    "duration": 0,
    "start_time": "2025-03-08T07:32:39.240Z"
   },
   {
    "duration": 0,
    "start_time": "2025-03-08T07:32:39.270Z"
   },
   {
    "duration": 0,
    "start_time": "2025-03-08T07:32:39.271Z"
   },
   {
    "duration": 0,
    "start_time": "2025-03-08T07:32:39.272Z"
   },
   {
    "duration": 0,
    "start_time": "2025-03-08T07:32:39.273Z"
   },
   {
    "duration": 0,
    "start_time": "2025-03-08T07:32:39.275Z"
   },
   {
    "duration": 0,
    "start_time": "2025-03-08T07:32:39.276Z"
   },
   {
    "duration": 0,
    "start_time": "2025-03-08T07:32:39.277Z"
   },
   {
    "duration": 0,
    "start_time": "2025-03-08T07:32:39.278Z"
   },
   {
    "duration": 0,
    "start_time": "2025-03-08T07:32:39.279Z"
   },
   {
    "duration": 0,
    "start_time": "2025-03-08T07:32:39.280Z"
   },
   {
    "duration": 0,
    "start_time": "2025-03-08T07:32:39.281Z"
   },
   {
    "duration": 0,
    "start_time": "2025-03-08T07:32:39.282Z"
   },
   {
    "duration": 0,
    "start_time": "2025-03-08T07:32:39.283Z"
   },
   {
    "duration": 0,
    "start_time": "2025-03-08T07:32:39.284Z"
   },
   {
    "duration": 0,
    "start_time": "2025-03-08T07:32:39.285Z"
   },
   {
    "duration": 0,
    "start_time": "2025-03-08T07:32:39.287Z"
   },
   {
    "duration": 0,
    "start_time": "2025-03-08T07:32:39.289Z"
   },
   {
    "duration": 0,
    "start_time": "2025-03-08T07:32:39.291Z"
   },
   {
    "duration": 0,
    "start_time": "2025-03-08T07:32:39.292Z"
   },
   {
    "duration": 0,
    "start_time": "2025-03-08T07:32:39.293Z"
   },
   {
    "duration": 0,
    "start_time": "2025-03-08T07:32:39.294Z"
   },
   {
    "duration": 0,
    "start_time": "2025-03-08T07:32:39.295Z"
   },
   {
    "duration": 0,
    "start_time": "2025-03-08T07:32:39.296Z"
   },
   {
    "duration": 0,
    "start_time": "2025-03-08T07:32:39.297Z"
   },
   {
    "duration": 0,
    "start_time": "2025-03-08T07:32:39.298Z"
   },
   {
    "duration": 0,
    "start_time": "2025-03-08T07:32:39.299Z"
   },
   {
    "duration": 0,
    "start_time": "2025-03-08T07:32:39.300Z"
   },
   {
    "duration": 0,
    "start_time": "2025-03-08T07:32:39.301Z"
   },
   {
    "duration": 0,
    "start_time": "2025-03-08T07:32:39.303Z"
   },
   {
    "duration": 0,
    "start_time": "2025-03-08T07:32:39.304Z"
   },
   {
    "duration": 0,
    "start_time": "2025-03-08T07:32:39.305Z"
   },
   {
    "duration": 0,
    "start_time": "2025-03-08T07:32:39.306Z"
   },
   {
    "duration": 0,
    "start_time": "2025-03-08T07:32:39.309Z"
   },
   {
    "duration": 0,
    "start_time": "2025-03-08T07:32:39.311Z"
   },
   {
    "duration": 0,
    "start_time": "2025-03-08T07:32:39.311Z"
   },
   {
    "duration": 0,
    "start_time": "2025-03-08T07:32:39.312Z"
   },
   {
    "duration": 0,
    "start_time": "2025-03-08T07:32:39.313Z"
   },
   {
    "duration": 0,
    "start_time": "2025-03-08T07:32:39.370Z"
   },
   {
    "duration": 0,
    "start_time": "2025-03-08T07:32:39.371Z"
   },
   {
    "duration": 0,
    "start_time": "2025-03-08T07:32:39.372Z"
   },
   {
    "duration": 0,
    "start_time": "2025-03-08T07:32:39.374Z"
   },
   {
    "duration": 0,
    "start_time": "2025-03-08T07:32:39.375Z"
   },
   {
    "duration": 0,
    "start_time": "2025-03-08T07:32:39.377Z"
   },
   {
    "duration": 0,
    "start_time": "2025-03-08T07:32:39.378Z"
   },
   {
    "duration": 0,
    "start_time": "2025-03-08T07:32:39.380Z"
   },
   {
    "duration": 0,
    "start_time": "2025-03-08T07:32:39.382Z"
   },
   {
    "duration": 0,
    "start_time": "2025-03-08T07:32:39.383Z"
   },
   {
    "duration": 0,
    "start_time": "2025-03-08T07:32:39.385Z"
   },
   {
    "duration": 0,
    "start_time": "2025-03-08T07:32:39.386Z"
   },
   {
    "duration": 0,
    "start_time": "2025-03-08T07:32:39.387Z"
   },
   {
    "duration": 0,
    "start_time": "2025-03-08T07:32:39.389Z"
   },
   {
    "duration": 0,
    "start_time": "2025-03-08T07:32:39.390Z"
   },
   {
    "duration": 0,
    "start_time": "2025-03-08T07:32:39.392Z"
   },
   {
    "duration": 0,
    "start_time": "2025-03-08T07:32:39.393Z"
   },
   {
    "duration": 0,
    "start_time": "2025-03-08T07:32:39.394Z"
   },
   {
    "duration": 0,
    "start_time": "2025-03-08T07:32:39.395Z"
   },
   {
    "duration": 2993,
    "start_time": "2025-03-08T19:40:28.841Z"
   },
   {
    "duration": 3,
    "start_time": "2025-03-08T20:05:05.514Z"
   },
   {
    "duration": 8,
    "start_time": "2025-03-08T20:08:42.149Z"
   },
   {
    "duration": 10,
    "start_time": "2025-03-08T20:08:42.837Z"
   },
   {
    "duration": 8,
    "start_time": "2025-03-08T20:08:45.451Z"
   },
   {
    "duration": 6,
    "start_time": "2025-03-08T20:08:46.266Z"
   },
   {
    "duration": 3,
    "start_time": "2025-03-08T20:08:46.971Z"
   },
   {
    "duration": 18,
    "start_time": "2025-03-08T20:08:48.998Z"
   },
   {
    "duration": 12,
    "start_time": "2025-03-08T20:08:54.201Z"
   },
   {
    "duration": 1235,
    "start_time": "2025-03-08T20:09:03.500Z"
   },
   {
    "duration": 0,
    "start_time": "2025-03-08T20:09:04.739Z"
   },
   {
    "duration": 0,
    "start_time": "2025-03-08T20:09:04.740Z"
   },
   {
    "duration": 0,
    "start_time": "2025-03-08T20:09:04.742Z"
   },
   {
    "duration": 0,
    "start_time": "2025-03-08T20:09:04.744Z"
   },
   {
    "duration": 0,
    "start_time": "2025-03-08T20:09:04.745Z"
   },
   {
    "duration": 0,
    "start_time": "2025-03-08T20:09:04.746Z"
   },
   {
    "duration": 0,
    "start_time": "2025-03-08T20:09:04.748Z"
   },
   {
    "duration": 0,
    "start_time": "2025-03-08T20:09:04.749Z"
   },
   {
    "duration": 0,
    "start_time": "2025-03-08T20:09:04.751Z"
   },
   {
    "duration": 0,
    "start_time": "2025-03-08T20:09:04.752Z"
   },
   {
    "duration": 0,
    "start_time": "2025-03-08T20:09:04.754Z"
   },
   {
    "duration": 0,
    "start_time": "2025-03-08T20:09:04.755Z"
   },
   {
    "duration": 0,
    "start_time": "2025-03-08T20:09:04.756Z"
   },
   {
    "duration": 0,
    "start_time": "2025-03-08T20:09:04.758Z"
   },
   {
    "duration": 0,
    "start_time": "2025-03-08T20:09:04.759Z"
   },
   {
    "duration": 0,
    "start_time": "2025-03-08T20:09:04.761Z"
   },
   {
    "duration": 0,
    "start_time": "2025-03-08T20:09:04.763Z"
   },
   {
    "duration": 0,
    "start_time": "2025-03-08T20:09:04.764Z"
   },
   {
    "duration": 0,
    "start_time": "2025-03-08T20:09:04.765Z"
   },
   {
    "duration": 0,
    "start_time": "2025-03-08T20:09:04.767Z"
   },
   {
    "duration": 0,
    "start_time": "2025-03-08T20:09:04.768Z"
   },
   {
    "duration": 0,
    "start_time": "2025-03-08T20:09:04.808Z"
   },
   {
    "duration": 0,
    "start_time": "2025-03-08T20:09:04.809Z"
   },
   {
    "duration": 0,
    "start_time": "2025-03-08T20:09:04.810Z"
   },
   {
    "duration": 0,
    "start_time": "2025-03-08T20:09:04.811Z"
   },
   {
    "duration": 0,
    "start_time": "2025-03-08T20:09:04.813Z"
   },
   {
    "duration": 0,
    "start_time": "2025-03-08T20:09:04.814Z"
   },
   {
    "duration": 0,
    "start_time": "2025-03-08T20:09:04.815Z"
   },
   {
    "duration": 0,
    "start_time": "2025-03-08T20:09:04.816Z"
   },
   {
    "duration": 0,
    "start_time": "2025-03-08T20:09:04.817Z"
   },
   {
    "duration": 0,
    "start_time": "2025-03-08T20:09:04.818Z"
   },
   {
    "duration": 0,
    "start_time": "2025-03-08T20:09:04.819Z"
   },
   {
    "duration": 0,
    "start_time": "2025-03-08T20:09:04.820Z"
   },
   {
    "duration": 0,
    "start_time": "2025-03-08T20:09:04.821Z"
   },
   {
    "duration": 0,
    "start_time": "2025-03-08T20:09:04.823Z"
   },
   {
    "duration": 0,
    "start_time": "2025-03-08T20:09:04.827Z"
   },
   {
    "duration": 0,
    "start_time": "2025-03-08T20:09:04.828Z"
   },
   {
    "duration": 0,
    "start_time": "2025-03-08T20:09:04.829Z"
   },
   {
    "duration": 0,
    "start_time": "2025-03-08T20:09:04.831Z"
   },
   {
    "duration": 0,
    "start_time": "2025-03-08T20:09:04.832Z"
   },
   {
    "duration": 0,
    "start_time": "2025-03-08T20:09:04.834Z"
   },
   {
    "duration": 0,
    "start_time": "2025-03-08T20:09:04.835Z"
   },
   {
    "duration": 0,
    "start_time": "2025-03-08T20:09:04.837Z"
   },
   {
    "duration": 0,
    "start_time": "2025-03-08T20:09:04.838Z"
   },
   {
    "duration": 0,
    "start_time": "2025-03-08T20:09:04.839Z"
   },
   {
    "duration": 0,
    "start_time": "2025-03-08T20:09:04.840Z"
   },
   {
    "duration": 0,
    "start_time": "2025-03-08T20:09:04.841Z"
   },
   {
    "duration": 0,
    "start_time": "2025-03-08T20:09:04.842Z"
   },
   {
    "duration": 0,
    "start_time": "2025-03-08T20:09:04.843Z"
   },
   {
    "duration": 0,
    "start_time": "2025-03-08T20:09:04.845Z"
   },
   {
    "duration": 0,
    "start_time": "2025-03-08T20:09:04.846Z"
   },
   {
    "duration": 0,
    "start_time": "2025-03-08T20:09:04.909Z"
   },
   {
    "duration": 0,
    "start_time": "2025-03-08T20:09:04.910Z"
   },
   {
    "duration": 0,
    "start_time": "2025-03-08T20:09:04.911Z"
   },
   {
    "duration": 0,
    "start_time": "2025-03-08T20:09:04.912Z"
   },
   {
    "duration": 0,
    "start_time": "2025-03-08T20:09:04.913Z"
   },
   {
    "duration": 0,
    "start_time": "2025-03-08T20:09:04.914Z"
   },
   {
    "duration": 0,
    "start_time": "2025-03-08T20:09:04.915Z"
   },
   {
    "duration": 0,
    "start_time": "2025-03-08T20:09:04.916Z"
   },
   {
    "duration": 0,
    "start_time": "2025-03-08T20:09:04.917Z"
   },
   {
    "duration": 0,
    "start_time": "2025-03-08T20:09:04.919Z"
   },
   {
    "duration": 0,
    "start_time": "2025-03-08T20:09:04.920Z"
   },
   {
    "duration": 0,
    "start_time": "2025-03-08T20:09:04.921Z"
   },
   {
    "duration": 0,
    "start_time": "2025-03-08T20:09:04.923Z"
   },
   {
    "duration": 0,
    "start_time": "2025-03-08T20:09:04.924Z"
   },
   {
    "duration": 0,
    "start_time": "2025-03-08T20:09:04.925Z"
   },
   {
    "duration": 14,
    "start_time": "2025-03-08T20:09:16.096Z"
   },
   {
    "duration": 0,
    "start_time": "2025-03-08T20:09:16.112Z"
   },
   {
    "duration": 0,
    "start_time": "2025-03-08T20:09:16.114Z"
   },
   {
    "duration": 0,
    "start_time": "2025-03-08T20:09:16.115Z"
   },
   {
    "duration": 0,
    "start_time": "2025-03-08T20:09:16.116Z"
   },
   {
    "duration": 0,
    "start_time": "2025-03-08T20:09:16.117Z"
   },
   {
    "duration": 0,
    "start_time": "2025-03-08T20:09:16.119Z"
   },
   {
    "duration": 18,
    "start_time": "2025-03-08T20:09:16.122Z"
   },
   {
    "duration": 0,
    "start_time": "2025-03-08T20:09:16.142Z"
   },
   {
    "duration": 0,
    "start_time": "2025-03-08T20:09:16.143Z"
   },
   {
    "duration": 0,
    "start_time": "2025-03-08T20:09:16.144Z"
   },
   {
    "duration": 0,
    "start_time": "2025-03-08T20:09:16.145Z"
   },
   {
    "duration": 0,
    "start_time": "2025-03-08T20:09:16.146Z"
   },
   {
    "duration": 0,
    "start_time": "2025-03-08T20:09:16.147Z"
   },
   {
    "duration": 0,
    "start_time": "2025-03-08T20:09:16.148Z"
   },
   {
    "duration": 0,
    "start_time": "2025-03-08T20:09:16.149Z"
   },
   {
    "duration": 63,
    "start_time": "2025-03-08T20:09:16.151Z"
   },
   {
    "duration": 0,
    "start_time": "2025-03-08T20:09:16.217Z"
   },
   {
    "duration": 0,
    "start_time": "2025-03-08T20:09:16.218Z"
   },
   {
    "duration": 0,
    "start_time": "2025-03-08T20:09:16.218Z"
   },
   {
    "duration": 0,
    "start_time": "2025-03-08T20:09:16.220Z"
   },
   {
    "duration": 0,
    "start_time": "2025-03-08T20:09:16.221Z"
   },
   {
    "duration": 0,
    "start_time": "2025-03-08T20:09:16.222Z"
   },
   {
    "duration": 0,
    "start_time": "2025-03-08T20:09:16.223Z"
   },
   {
    "duration": 0,
    "start_time": "2025-03-08T20:09:16.223Z"
   },
   {
    "duration": 0,
    "start_time": "2025-03-08T20:09:16.224Z"
   },
   {
    "duration": 0,
    "start_time": "2025-03-08T20:09:16.226Z"
   },
   {
    "duration": 0,
    "start_time": "2025-03-08T20:09:16.227Z"
   },
   {
    "duration": 0,
    "start_time": "2025-03-08T20:09:16.229Z"
   },
   {
    "duration": 0,
    "start_time": "2025-03-08T20:09:16.230Z"
   },
   {
    "duration": 0,
    "start_time": "2025-03-08T20:09:16.232Z"
   },
   {
    "duration": 0,
    "start_time": "2025-03-08T20:09:16.233Z"
   },
   {
    "duration": 0,
    "start_time": "2025-03-08T20:09:16.235Z"
   },
   {
    "duration": 0,
    "start_time": "2025-03-08T20:09:16.236Z"
   },
   {
    "duration": 0,
    "start_time": "2025-03-08T20:09:16.237Z"
   },
   {
    "duration": 0,
    "start_time": "2025-03-08T20:09:16.238Z"
   },
   {
    "duration": 0,
    "start_time": "2025-03-08T20:09:16.239Z"
   },
   {
    "duration": 0,
    "start_time": "2025-03-08T20:09:16.241Z"
   },
   {
    "duration": 0,
    "start_time": "2025-03-08T20:09:16.242Z"
   },
   {
    "duration": 0,
    "start_time": "2025-03-08T20:09:16.243Z"
   },
   {
    "duration": 65,
    "start_time": "2025-03-08T20:09:16.246Z"
   },
   {
    "duration": 17,
    "start_time": "2025-03-08T20:09:16.313Z"
   },
   {
    "duration": 0,
    "start_time": "2025-03-08T20:09:16.334Z"
   },
   {
    "duration": 0,
    "start_time": "2025-03-08T20:09:16.335Z"
   },
   {
    "duration": 0,
    "start_time": "2025-03-08T20:09:16.336Z"
   },
   {
    "duration": 0,
    "start_time": "2025-03-08T20:09:16.338Z"
   },
   {
    "duration": 0,
    "start_time": "2025-03-08T20:09:16.339Z"
   },
   {
    "duration": 0,
    "start_time": "2025-03-08T20:09:16.340Z"
   },
   {
    "duration": 0,
    "start_time": "2025-03-08T20:09:16.342Z"
   },
   {
    "duration": 0,
    "start_time": "2025-03-08T20:09:16.343Z"
   },
   {
    "duration": 0,
    "start_time": "2025-03-08T20:09:16.344Z"
   },
   {
    "duration": 0,
    "start_time": "2025-03-08T20:09:16.346Z"
   },
   {
    "duration": 0,
    "start_time": "2025-03-08T20:09:16.347Z"
   },
   {
    "duration": 0,
    "start_time": "2025-03-08T20:09:16.348Z"
   },
   {
    "duration": 0,
    "start_time": "2025-03-08T20:09:16.350Z"
   },
   {
    "duration": 0,
    "start_time": "2025-03-08T20:09:16.351Z"
   },
   {
    "duration": 0,
    "start_time": "2025-03-08T20:09:16.353Z"
   },
   {
    "duration": 0,
    "start_time": "2025-03-08T20:09:16.354Z"
   },
   {
    "duration": 0,
    "start_time": "2025-03-08T20:09:16.354Z"
   },
   {
    "duration": 0,
    "start_time": "2025-03-08T20:09:16.408Z"
   },
   {
    "duration": 0,
    "start_time": "2025-03-08T20:09:16.410Z"
   },
   {
    "duration": 0,
    "start_time": "2025-03-08T20:09:16.411Z"
   },
   {
    "duration": 0,
    "start_time": "2025-03-08T20:09:16.412Z"
   },
   {
    "duration": 1,
    "start_time": "2025-03-08T20:09:16.414Z"
   },
   {
    "duration": 0,
    "start_time": "2025-03-08T20:09:16.416Z"
   },
   {
    "duration": 0,
    "start_time": "2025-03-08T20:09:16.418Z"
   },
   {
    "duration": 0,
    "start_time": "2025-03-08T20:09:16.419Z"
   },
   {
    "duration": 3,
    "start_time": "2025-03-08T20:09:33.960Z"
   },
   {
    "duration": 3,
    "start_time": "2025-03-08T20:09:37.573Z"
   },
   {
    "duration": 2,
    "start_time": "2025-03-08T20:09:37.580Z"
   },
   {
    "duration": 8,
    "start_time": "2025-03-08T20:09:37.584Z"
   },
   {
    "duration": 10,
    "start_time": "2025-03-08T20:09:37.593Z"
   },
   {
    "duration": 10,
    "start_time": "2025-03-08T20:09:37.604Z"
   },
   {
    "duration": 6,
    "start_time": "2025-03-08T20:09:37.617Z"
   },
   {
    "duration": 3,
    "start_time": "2025-03-08T20:09:37.625Z"
   },
   {
    "duration": 17,
    "start_time": "2025-03-08T20:09:37.630Z"
   },
   {
    "duration": 6,
    "start_time": "2025-03-08T20:09:37.649Z"
   },
   {
    "duration": 458,
    "start_time": "2025-03-08T20:09:37.656Z"
   },
   {
    "duration": 4,
    "start_time": "2025-03-08T20:09:38.116Z"
   },
   {
    "duration": 8,
    "start_time": "2025-03-08T20:09:38.124Z"
   },
   {
    "duration": 281,
    "start_time": "2025-03-08T20:09:38.133Z"
   },
   {
    "duration": 20,
    "start_time": "2025-03-08T20:09:38.415Z"
   },
   {
    "duration": 3,
    "start_time": "2025-03-08T20:09:38.437Z"
   },
   {
    "duration": 16,
    "start_time": "2025-03-08T20:09:38.441Z"
   },
   {
    "duration": 11,
    "start_time": "2025-03-08T20:09:38.458Z"
   },
   {
    "duration": 3,
    "start_time": "2025-03-08T20:09:38.471Z"
   },
   {
    "duration": 34,
    "start_time": "2025-03-08T20:09:38.476Z"
   },
   {
    "duration": 5,
    "start_time": "2025-03-08T20:09:38.513Z"
   },
   {
    "duration": 3,
    "start_time": "2025-03-08T20:09:38.520Z"
   },
   {
    "duration": 8,
    "start_time": "2025-03-08T20:09:38.525Z"
   },
   {
    "duration": 3,
    "start_time": "2025-03-08T20:09:38.534Z"
   },
   {
    "duration": 12,
    "start_time": "2025-03-08T20:09:38.538Z"
   },
   {
    "duration": 714,
    "start_time": "2025-03-08T20:09:38.552Z"
   },
   {
    "duration": 2,
    "start_time": "2025-03-08T20:09:39.268Z"
   },
   {
    "duration": 5,
    "start_time": "2025-03-08T20:09:39.272Z"
   },
   {
    "duration": 5,
    "start_time": "2025-03-08T20:09:39.278Z"
   },
   {
    "duration": 259,
    "start_time": "2025-03-08T20:09:39.289Z"
   },
   {
    "duration": 4,
    "start_time": "2025-03-08T20:09:39.549Z"
   },
   {
    "duration": 4,
    "start_time": "2025-03-08T20:09:39.555Z"
   },
   {
    "duration": 5,
    "start_time": "2025-03-08T20:09:39.560Z"
   },
   {
    "duration": 12,
    "start_time": "2025-03-08T20:09:39.566Z"
   },
   {
    "duration": 33,
    "start_time": "2025-03-08T20:09:39.580Z"
   },
   {
    "duration": 17,
    "start_time": "2025-03-08T20:09:39.614Z"
   },
   {
    "duration": 4,
    "start_time": "2025-03-08T20:09:39.633Z"
   },
   {
    "duration": 18,
    "start_time": "2025-03-08T20:09:39.639Z"
   },
   {
    "duration": 0,
    "start_time": "2025-03-08T20:09:39.659Z"
   },
   {
    "duration": 0,
    "start_time": "2025-03-08T20:09:39.660Z"
   },
   {
    "duration": 0,
    "start_time": "2025-03-08T20:09:39.661Z"
   },
   {
    "duration": 0,
    "start_time": "2025-03-08T20:09:39.662Z"
   },
   {
    "duration": 0,
    "start_time": "2025-03-08T20:09:39.663Z"
   },
   {
    "duration": 0,
    "start_time": "2025-03-08T20:09:39.664Z"
   },
   {
    "duration": 0,
    "start_time": "2025-03-08T20:09:39.665Z"
   },
   {
    "duration": 0,
    "start_time": "2025-03-08T20:09:39.666Z"
   },
   {
    "duration": 0,
    "start_time": "2025-03-08T20:09:39.667Z"
   },
   {
    "duration": 0,
    "start_time": "2025-03-08T20:09:39.709Z"
   },
   {
    "duration": 0,
    "start_time": "2025-03-08T20:09:39.711Z"
   },
   {
    "duration": 0,
    "start_time": "2025-03-08T20:09:39.713Z"
   },
   {
    "duration": 0,
    "start_time": "2025-03-08T20:09:39.715Z"
   },
   {
    "duration": 0,
    "start_time": "2025-03-08T20:09:39.717Z"
   },
   {
    "duration": 0,
    "start_time": "2025-03-08T20:09:39.718Z"
   },
   {
    "duration": 0,
    "start_time": "2025-03-08T20:09:39.720Z"
   },
   {
    "duration": 0,
    "start_time": "2025-03-08T20:09:39.721Z"
   },
   {
    "duration": 0,
    "start_time": "2025-03-08T20:09:39.722Z"
   },
   {
    "duration": 0,
    "start_time": "2025-03-08T20:09:39.723Z"
   },
   {
    "duration": 0,
    "start_time": "2025-03-08T20:09:39.725Z"
   },
   {
    "duration": 0,
    "start_time": "2025-03-08T20:09:39.727Z"
   },
   {
    "duration": 0,
    "start_time": "2025-03-08T20:09:39.729Z"
   },
   {
    "duration": 0,
    "start_time": "2025-03-08T20:09:39.730Z"
   },
   {
    "duration": 0,
    "start_time": "2025-03-08T20:09:39.732Z"
   },
   {
    "duration": 0,
    "start_time": "2025-03-08T20:09:39.734Z"
   },
   {
    "duration": 0,
    "start_time": "2025-03-08T20:09:39.735Z"
   },
   {
    "duration": 0,
    "start_time": "2025-03-08T20:09:39.736Z"
   },
   {
    "duration": 0,
    "start_time": "2025-03-08T20:09:39.738Z"
   },
   {
    "duration": 0,
    "start_time": "2025-03-08T20:09:39.740Z"
   },
   {
    "duration": 0,
    "start_time": "2025-03-08T20:09:39.741Z"
   },
   {
    "duration": 3145,
    "start_time": "2025-03-13T16:20:02.005Z"
   },
   {
    "duration": 799,
    "start_time": "2025-03-13T16:20:56.330Z"
   },
   {
    "duration": 3,
    "start_time": "2025-03-13T16:21:30.870Z"
   },
   {
    "duration": 1003,
    "start_time": "2025-03-13T17:30:56.217Z"
   },
   {
    "duration": 5,
    "start_time": "2025-03-13T17:31:22.289Z"
   },
   {
    "duration": 22,
    "start_time": "2025-03-13T17:36:11.259Z"
   },
   {
    "duration": 17,
    "start_time": "2025-03-13T17:36:12.942Z"
   },
   {
    "duration": 17,
    "start_time": "2025-03-13T17:36:47.792Z"
   },
   {
    "duration": 9,
    "start_time": "2025-03-13T17:37:14.194Z"
   },
   {
    "duration": 4,
    "start_time": "2025-03-13T17:37:45.256Z"
   },
   {
    "duration": 27,
    "start_time": "2025-03-13T17:37:59.390Z"
   },
   {
    "duration": 19,
    "start_time": "2025-03-13T17:38:18.409Z"
   },
   {
    "duration": 510,
    "start_time": "2025-03-13T17:39:02.628Z"
   },
   {
    "duration": 5,
    "start_time": "2025-03-13T17:41:33.693Z"
   },
   {
    "duration": 422,
    "start_time": "2025-03-13T17:42:09.471Z"
   },
   {
    "duration": 41,
    "start_time": "2025-03-13T17:42:38.015Z"
   },
   {
    "duration": 184,
    "start_time": "2025-03-13T17:42:42.147Z"
   },
   {
    "duration": 10,
    "start_time": "2025-03-13T17:42:47.828Z"
   },
   {
    "duration": 335,
    "start_time": "2025-03-13T17:43:02.746Z"
   },
   {
    "duration": 34,
    "start_time": "2025-03-13T17:43:21.271Z"
   },
   {
    "duration": 18,
    "start_time": "2025-03-13T17:43:33.081Z"
   },
   {
    "duration": 36,
    "start_time": "2025-03-13T17:43:41.008Z"
   },
   {
    "duration": 19,
    "start_time": "2025-03-13T17:43:43.117Z"
   },
   {
    "duration": 115,
    "start_time": "2025-03-13T17:53:21.156Z"
   },
   {
    "duration": 10,
    "start_time": "2025-03-13T17:55:11.316Z"
   },
   {
    "duration": 48,
    "start_time": "2025-03-13T17:55:17.330Z"
   },
   {
    "duration": 412,
    "start_time": "2025-03-13T17:55:37.472Z"
   },
   {
    "duration": 470,
    "start_time": "2025-03-13T17:55:39.860Z"
   },
   {
    "duration": 667,
    "start_time": "2025-03-13T17:58:34.736Z"
   },
   {
    "duration": 504,
    "start_time": "2025-03-13T18:00:25.561Z"
   },
   {
    "duration": 807,
    "start_time": "2025-03-13T18:04:57.136Z"
   },
   {
    "duration": 903,
    "start_time": "2025-03-13T18:04:58.648Z"
   },
   {
    "duration": 1078,
    "start_time": "2025-03-13T18:05:09.685Z"
   },
   {
    "duration": 629,
    "start_time": "2025-03-13T18:05:10.776Z"
   },
   {
    "duration": 1441,
    "start_time": "2025-03-13T18:17:15.738Z"
   },
   {
    "duration": 12,
    "start_time": "2025-03-13T18:17:17.183Z"
   },
   {
    "duration": 14,
    "start_time": "2025-03-13T18:17:18.468Z"
   },
   {
    "duration": 12,
    "start_time": "2025-03-13T18:17:18.777Z"
   },
   {
    "duration": 23,
    "start_time": "2025-03-13T18:17:19.039Z"
   },
   {
    "duration": 16,
    "start_time": "2025-03-13T18:17:19.255Z"
   },
   {
    "duration": 7,
    "start_time": "2025-03-13T18:17:19.936Z"
   },
   {
    "duration": 21,
    "start_time": "2025-03-13T18:17:20.373Z"
   },
   {
    "duration": 10,
    "start_time": "2025-03-13T18:17:22.248Z"
   },
   {
    "duration": 541,
    "start_time": "2025-03-13T18:17:23.176Z"
   },
   {
    "duration": 157,
    "start_time": "2025-03-13T18:20:59.272Z"
   },
   {
    "duration": 5,
    "start_time": "2025-03-13T18:46:53.888Z"
   },
   {
    "duration": 12,
    "start_time": "2025-03-13T18:47:11.270Z"
   },
   {
    "duration": 5,
    "start_time": "2025-03-13T18:48:05.963Z"
   },
   {
    "duration": 17,
    "start_time": "2025-03-13T18:48:15.630Z"
   },
   {
    "duration": 17,
    "start_time": "2025-03-13T18:48:50.383Z"
   },
   {
    "duration": 16,
    "start_time": "2025-03-13T18:53:20.589Z"
   },
   {
    "duration": 342,
    "start_time": "2025-03-13T18:54:22.858Z"
   },
   {
    "duration": 22,
    "start_time": "2025-03-13T18:54:35.171Z"
   },
   {
    "duration": 4,
    "start_time": "2025-03-13T18:55:13.441Z"
   },
   {
    "duration": 10,
    "start_time": "2025-03-13T18:55:48.238Z"
   },
   {
    "duration": 46,
    "start_time": "2025-03-13T18:56:02.450Z"
   },
   {
    "duration": 19,
    "start_time": "2025-03-13T19:22:30.252Z"
   },
   {
    "duration": 5,
    "start_time": "2025-03-13T19:22:56.600Z"
   },
   {
    "duration": 13,
    "start_time": "2025-03-13T19:23:27.572Z"
   },
   {
    "duration": 306,
    "start_time": "2025-03-13T19:24:10.524Z"
   },
   {
    "duration": 271,
    "start_time": "2025-03-13T19:24:18.868Z"
   },
   {
    "duration": 26,
    "start_time": "2025-03-13T19:25:05.767Z"
   },
   {
    "duration": 73,
    "start_time": "2025-03-13T19:25:16.019Z"
   },
   {
    "duration": 4,
    "start_time": "2025-03-13T19:51:33.072Z"
   },
   {
    "duration": 120,
    "start_time": "2025-03-13T19:52:52.955Z"
   },
   {
    "duration": 30,
    "start_time": "2025-03-13T19:58:16.089Z"
   },
   {
    "duration": 31,
    "start_time": "2025-03-13T19:58:32.099Z"
   },
   {
    "duration": 23,
    "start_time": "2025-03-13T19:59:01.863Z"
   },
   {
    "duration": 562,
    "start_time": "2025-03-13T19:59:22.226Z"
   },
   {
    "duration": 84,
    "start_time": "2025-03-13T19:59:59.663Z"
   },
   {
    "duration": 80,
    "start_time": "2025-03-13T20:00:08.553Z"
   },
   {
    "duration": 90,
    "start_time": "2025-03-13T20:01:10.009Z"
   },
   {
    "duration": 85,
    "start_time": "2025-03-13T20:01:41.152Z"
   },
   {
    "duration": 5,
    "start_time": "2025-03-13T20:02:19.571Z"
   },
   {
    "duration": 36,
    "start_time": "2025-03-13T20:02:20.454Z"
   },
   {
    "duration": 1325,
    "start_time": "2025-03-13T20:02:35.682Z"
   },
   {
    "duration": 3,
    "start_time": "2025-03-13T20:20:10.257Z"
   },
   {
    "duration": 10,
    "start_time": "2025-03-13T20:20:11.433Z"
   },
   {
    "duration": 13,
    "start_time": "2025-03-13T20:20:11.767Z"
   },
   {
    "duration": 11,
    "start_time": "2025-03-13T20:20:11.903Z"
   },
   {
    "duration": 6,
    "start_time": "2025-03-13T20:20:12.003Z"
   },
   {
    "duration": 4,
    "start_time": "2025-03-13T20:20:12.198Z"
   },
   {
    "duration": 28,
    "start_time": "2025-03-13T20:20:12.393Z"
   },
   {
    "duration": 15,
    "start_time": "2025-03-13T20:20:12.792Z"
   },
   {
    "duration": 506,
    "start_time": "2025-03-13T20:20:13.985Z"
   },
   {
    "duration": 56,
    "start_time": "2025-03-13T20:20:15.206Z"
   },
   {
    "duration": 145,
    "start_time": "2025-03-13T20:20:16.046Z"
   },
   {
    "duration": 8,
    "start_time": "2025-03-13T20:20:21.294Z"
   },
   {
    "duration": 8,
    "start_time": "2025-03-13T20:20:27.559Z"
   },
   {
    "duration": 264,
    "start_time": "2025-03-13T20:20:28.530Z"
   },
   {
    "duration": 19,
    "start_time": "2025-03-13T20:20:29.644Z"
   },
   {
    "duration": 102,
    "start_time": "2025-03-13T20:20:30.585Z"
   },
   {
    "duration": 5,
    "start_time": "2025-03-13T20:20:31.529Z"
   },
   {
    "duration": 11,
    "start_time": "2025-03-13T20:20:32.559Z"
   },
   {
    "duration": 1491,
    "start_time": "2025-03-13T20:22:33.468Z"
   },
   {
    "duration": 6,
    "start_time": "2025-03-13T20:22:35.050Z"
   },
   {
    "duration": 10,
    "start_time": "2025-03-13T20:22:37.092Z"
   },
   {
    "duration": 27,
    "start_time": "2025-03-13T20:22:37.579Z"
   },
   {
    "duration": 19,
    "start_time": "2025-03-13T20:22:38.072Z"
   },
   {
    "duration": 14,
    "start_time": "2025-03-13T20:22:38.861Z"
   },
   {
    "duration": 6,
    "start_time": "2025-03-13T20:22:39.576Z"
   },
   {
    "duration": 41,
    "start_time": "2025-03-13T20:22:40.644Z"
   },
   {
    "duration": 7,
    "start_time": "2025-03-13T20:22:42.088Z"
   },
   {
    "duration": 529,
    "start_time": "2025-03-13T20:22:43.451Z"
   },
   {
    "duration": 87,
    "start_time": "2025-03-13T20:22:47.722Z"
   },
   {
    "duration": 182,
    "start_time": "2025-03-13T20:22:48.667Z"
   },
   {
    "duration": 5,
    "start_time": "2025-03-13T20:22:57.964Z"
   },
   {
    "duration": 11,
    "start_time": "2025-03-13T20:22:59.118Z"
   },
   {
    "duration": 302,
    "start_time": "2025-03-13T20:23:04.883Z"
   },
   {
    "duration": 27,
    "start_time": "2025-03-13T20:23:05.507Z"
   },
   {
    "duration": 112,
    "start_time": "2025-03-13T20:23:25.284Z"
   },
   {
    "duration": 4,
    "start_time": "2025-03-13T20:23:40.485Z"
   },
   {
    "duration": 11,
    "start_time": "2025-03-13T20:24:39.533Z"
   },
   {
    "duration": 39,
    "start_time": "2025-03-13T20:24:51.573Z"
   },
   {
    "duration": 3,
    "start_time": "2025-03-13T20:33:52.946Z"
   },
   {
    "duration": 341,
    "start_time": "2025-03-13T20:35:33.736Z"
   },
   {
    "duration": 3,
    "start_time": "2025-03-13T20:35:44.858Z"
   },
   {
    "duration": 281,
    "start_time": "2025-03-13T20:36:43.483Z"
   },
   {
    "duration": 84,
    "start_time": "2025-03-13T20:37:06.714Z"
   },
   {
    "duration": 2,
    "start_time": "2025-03-13T20:38:28.894Z"
   },
   {
    "duration": 4,
    "start_time": "2025-03-13T20:39:39.291Z"
   },
   {
    "duration": 11,
    "start_time": "2025-03-13T20:39:40.026Z"
   },
   {
    "duration": 6,
    "start_time": "2025-03-13T20:39:54.356Z"
   },
   {
    "duration": 5,
    "start_time": "2025-03-13T20:40:12.379Z"
   },
   {
    "duration": 6,
    "start_time": "2025-03-13T20:40:13.115Z"
   },
   {
    "duration": 6,
    "start_time": "2025-03-13T20:41:06.659Z"
   },
   {
    "duration": 156,
    "start_time": "2025-03-13T20:41:19.407Z"
   },
   {
    "duration": 1050,
    "start_time": "2025-03-13T20:41:30.474Z"
   },
   {
    "duration": 4,
    "start_time": "2025-03-13T20:41:31.618Z"
   },
   {
    "duration": 7,
    "start_time": "2025-03-13T20:41:32.719Z"
   },
   {
    "duration": 12,
    "start_time": "2025-03-13T20:41:32.909Z"
   },
   {
    "duration": 9,
    "start_time": "2025-03-13T20:41:33.298Z"
   },
   {
    "duration": 5,
    "start_time": "2025-03-13T20:41:33.921Z"
   },
   {
    "duration": 3,
    "start_time": "2025-03-13T20:41:34.223Z"
   },
   {
    "duration": 22,
    "start_time": "2025-03-13T20:41:34.475Z"
   },
   {
    "duration": 5,
    "start_time": "2025-03-13T20:41:34.856Z"
   },
   {
    "duration": 421,
    "start_time": "2025-03-13T20:41:35.822Z"
   },
   {
    "duration": 48,
    "start_time": "2025-03-13T20:41:37.220Z"
   },
   {
    "duration": 113,
    "start_time": "2025-03-13T20:41:38.219Z"
   },
   {
    "duration": 5,
    "start_time": "2025-03-13T20:41:41.152Z"
   },
   {
    "duration": 10,
    "start_time": "2025-03-13T20:41:41.333Z"
   },
   {
    "duration": 262,
    "start_time": "2025-03-13T20:41:41.551Z"
   },
   {
    "duration": 29,
    "start_time": "2025-03-13T20:41:41.816Z"
   },
   {
    "duration": 78,
    "start_time": "2025-03-13T20:41:42.001Z"
   },
   {
    "duration": 3,
    "start_time": "2025-03-13T20:41:42.243Z"
   },
   {
    "duration": 15,
    "start_time": "2025-03-13T20:41:42.940Z"
   },
   {
    "duration": 3,
    "start_time": "2025-03-13T20:41:43.782Z"
   },
   {
    "duration": 3,
    "start_time": "2025-03-13T20:41:44.837Z"
   },
   {
    "duration": 5,
    "start_time": "2025-03-13T20:41:45.532Z"
   },
   {
    "duration": 7,
    "start_time": "2025-03-13T20:41:46.389Z"
   },
   {
    "duration": 6,
    "start_time": "2025-03-13T20:41:47.136Z"
   },
   {
    "duration": 4,
    "start_time": "2025-03-13T20:41:47.969Z"
   },
   {
    "duration": 7,
    "start_time": "2025-03-13T20:41:49.291Z"
   },
   {
    "duration": 376,
    "start_time": "2025-03-13T20:51:32.554Z"
   },
   {
    "duration": 25,
    "start_time": "2025-03-13T20:51:45.707Z"
   },
   {
    "duration": 103,
    "start_time": "2025-03-13T20:52:38.607Z"
   },
   {
    "duration": 221,
    "start_time": "2025-03-13T20:52:45.147Z"
   },
   {
    "duration": 200,
    "start_time": "2025-03-13T20:56:02.814Z"
   },
   {
    "duration": 244,
    "start_time": "2025-03-13T20:56:32.957Z"
   },
   {
    "duration": 33,
    "start_time": "2025-03-13T20:57:01.931Z"
   },
   {
    "duration": 16,
    "start_time": "2025-03-13T20:58:55.383Z"
   },
   {
    "duration": 180,
    "start_time": "2025-03-13T20:58:56.335Z"
   },
   {
    "duration": 218,
    "start_time": "2025-03-13T20:58:57.384Z"
   },
   {
    "duration": 9,
    "start_time": "2025-03-13T21:11:26.349Z"
   },
   {
    "duration": 11,
    "start_time": "2025-03-13T21:41:51.364Z"
   },
   {
    "duration": 4,
    "start_time": "2025-03-13T21:52:49.589Z"
   },
   {
    "duration": 5,
    "start_time": "2025-03-13T21:53:05.835Z"
   },
   {
    "duration": 10,
    "start_time": "2025-03-13T21:53:13.842Z"
   },
   {
    "duration": 4,
    "start_time": "2025-03-13T21:53:14.636Z"
   },
   {
    "duration": 185,
    "start_time": "2025-03-13T21:53:15.691Z"
   },
   {
    "duration": 196,
    "start_time": "2025-03-13T21:53:31.089Z"
   },
   {
    "duration": 184,
    "start_time": "2025-03-13T21:53:39.650Z"
   },
   {
    "duration": 4,
    "start_time": "2025-03-13T21:53:40.169Z"
   },
   {
    "duration": 4,
    "start_time": "2025-03-13T21:54:09.987Z"
   },
   {
    "duration": 14,
    "start_time": "2025-03-13T21:54:10.673Z"
   },
   {
    "duration": 7,
    "start_time": "2025-03-13T21:54:23.813Z"
   },
   {
    "duration": 12,
    "start_time": "2025-03-13T21:54:28.216Z"
   },
   {
    "duration": 122,
    "start_time": "2025-03-13T21:54:29.428Z"
   },
   {
    "duration": 12,
    "start_time": "2025-03-13T21:56:35.969Z"
   },
   {
    "duration": 4,
    "start_time": "2025-03-13T21:56:37.479Z"
   },
   {
    "duration": 6,
    "start_time": "2025-03-13T21:56:38.087Z"
   },
   {
    "duration": 14,
    "start_time": "2025-03-14T02:07:42.812Z"
   },
   {
    "duration": 1058,
    "start_time": "2025-03-14T02:08:11.171Z"
   },
   {
    "duration": 3,
    "start_time": "2025-03-14T02:08:12.231Z"
   },
   {
    "duration": 7,
    "start_time": "2025-03-14T02:08:12.236Z"
   },
   {
    "duration": 10,
    "start_time": "2025-03-14T02:08:12.246Z"
   },
   {
    "duration": 9,
    "start_time": "2025-03-14T02:08:12.258Z"
   },
   {
    "duration": 6,
    "start_time": "2025-03-14T02:08:12.269Z"
   },
   {
    "duration": 4,
    "start_time": "2025-03-14T02:08:12.276Z"
   },
   {
    "duration": 52,
    "start_time": "2025-03-14T02:08:12.283Z"
   },
   {
    "duration": 5,
    "start_time": "2025-03-14T02:08:12.338Z"
   },
   {
    "duration": 502,
    "start_time": "2025-03-14T02:08:12.347Z"
   },
   {
    "duration": 49,
    "start_time": "2025-03-14T02:08:12.851Z"
   },
   {
    "duration": 134,
    "start_time": "2025-03-14T02:08:12.902Z"
   },
   {
    "duration": 4,
    "start_time": "2025-03-14T02:08:13.038Z"
   },
   {
    "duration": 8,
    "start_time": "2025-03-14T02:08:13.044Z"
   },
   {
    "duration": 252,
    "start_time": "2025-03-14T02:08:13.054Z"
   },
   {
    "duration": 31,
    "start_time": "2025-03-14T02:08:13.308Z"
   },
   {
    "duration": 112,
    "start_time": "2025-03-14T02:08:13.343Z"
   },
   {
    "duration": 5,
    "start_time": "2025-03-14T02:08:13.457Z"
   },
   {
    "duration": 12,
    "start_time": "2025-03-14T02:08:13.464Z"
   },
   {
    "duration": 3,
    "start_time": "2025-03-14T02:08:13.478Z"
   },
   {
    "duration": 4,
    "start_time": "2025-03-14T02:08:13.483Z"
   },
   {
    "duration": 4,
    "start_time": "2025-03-14T02:08:13.489Z"
   },
   {
    "duration": 31,
    "start_time": "2025-03-14T02:08:13.494Z"
   },
   {
    "duration": 5,
    "start_time": "2025-03-14T02:08:13.526Z"
   },
   {
    "duration": 4,
    "start_time": "2025-03-14T02:08:13.533Z"
   },
   {
    "duration": 5,
    "start_time": "2025-03-14T02:08:13.539Z"
   },
   {
    "duration": 11,
    "start_time": "2025-03-14T02:08:13.545Z"
   },
   {
    "duration": 197,
    "start_time": "2025-03-14T02:08:13.561Z"
   },
   {
    "duration": 214,
    "start_time": "2025-03-14T02:08:13.760Z"
   },
   {
    "duration": 5,
    "start_time": "2025-03-14T02:08:13.977Z"
   },
   {
    "duration": 5,
    "start_time": "2025-03-14T02:08:13.986Z"
   },
   {
    "duration": 4,
    "start_time": "2025-03-14T02:08:13.994Z"
   },
   {
    "duration": 153,
    "start_time": "2025-03-14T02:08:14.001Z"
   },
   {
    "duration": 4,
    "start_time": "2025-03-14T02:08:14.156Z"
   },
   {
    "duration": 11,
    "start_time": "2025-03-14T02:08:14.162Z"
   },
   {
    "duration": 5,
    "start_time": "2025-03-14T02:08:14.174Z"
   },
   {
    "duration": 7,
    "start_time": "2025-03-14T02:08:14.180Z"
   },
   {
    "duration": 114,
    "start_time": "2025-03-14T02:08:14.189Z"
   },
   {
    "duration": 307,
    "start_time": "2025-03-14T02:08:27.053Z"
   },
   {
    "duration": 8,
    "start_time": "2025-03-14T02:08:36.877Z"
   },
   {
    "duration": 6,
    "start_time": "2025-03-14T02:08:38.146Z"
   },
   {
    "duration": 4,
    "start_time": "2025-03-14T02:08:39.301Z"
   },
   {
    "duration": 117,
    "start_time": "2025-03-14T02:08:46.458Z"
   },
   {
    "duration": 102,
    "start_time": "2025-03-14T02:08:54.688Z"
   },
   {
    "duration": 98,
    "start_time": "2025-03-14T02:29:49.428Z"
   },
   {
    "duration": 131,
    "start_time": "2025-03-14T02:30:21.803Z"
   },
   {
    "duration": 3,
    "start_time": "2025-03-14T03:43:35.376Z"
   },
   {
    "duration": 3,
    "start_time": "2025-03-14T05:02:47.136Z"
   },
   {
    "duration": 7,
    "start_time": "2025-03-14T05:02:47.736Z"
   },
   {
    "duration": 81,
    "start_time": "2025-03-14T05:02:48.390Z"
   },
   {
    "duration": 11,
    "start_time": "2025-03-14T05:02:49.193Z"
   },
   {
    "duration": 5,
    "start_time": "2025-03-14T05:02:50.892Z"
   },
   {
    "duration": 4,
    "start_time": "2025-03-14T05:02:51.773Z"
   },
   {
    "duration": 4,
    "start_time": "2025-03-14T05:02:52.788Z"
   },
   {
    "duration": 5,
    "start_time": "2025-03-14T05:02:54.671Z"
   },
   {
    "duration": 113,
    "start_time": "2025-03-14T05:02:55.839Z"
   },
   {
    "duration": 19,
    "start_time": "2025-03-14T05:22:57.468Z"
   },
   {
    "duration": 10,
    "start_time": "2025-03-14T05:22:58.202Z"
   },
   {
    "duration": 3,
    "start_time": "2025-03-14T05:22:58.890Z"
   },
   {
    "duration": 5,
    "start_time": "2025-03-14T05:22:59.614Z"
   },
   {
    "duration": 269,
    "start_time": "2025-03-14T05:24:01.108Z"
   },
   {
    "duration": 117,
    "start_time": "2025-03-14T05:24:06.178Z"
   },
   {
    "duration": 5,
    "start_time": "2025-03-14T05:27:23.446Z"
   },
   {
    "duration": 3,
    "start_time": "2025-03-14T05:27:24.206Z"
   },
   {
    "duration": 7,
    "start_time": "2025-03-14T05:27:24.809Z"
   },
   {
    "duration": 7,
    "start_time": "2025-03-14T05:27:25.453Z"
   },
   {
    "duration": 90,
    "start_time": "2025-03-14T05:27:26.080Z"
   },
   {
    "duration": 4,
    "start_time": "2025-03-14T05:27:27.832Z"
   },
   {
    "duration": 2717,
    "start_time": "2025-03-14T22:25:44.913Z"
   },
   {
    "duration": 5,
    "start_time": "2025-03-14T22:25:47.632Z"
   },
   {
    "duration": 28,
    "start_time": "2025-03-14T22:25:47.638Z"
   },
   {
    "duration": 12,
    "start_time": "2025-03-14T22:25:47.669Z"
   },
   {
    "duration": 10,
    "start_time": "2025-03-14T22:25:47.683Z"
   },
   {
    "duration": 7,
    "start_time": "2025-03-14T22:25:47.696Z"
   },
   {
    "duration": 3,
    "start_time": "2025-03-14T22:25:47.705Z"
   },
   {
    "duration": 31,
    "start_time": "2025-03-14T22:25:47.710Z"
   },
   {
    "duration": 9,
    "start_time": "2025-03-14T22:25:47.743Z"
   },
   {
    "duration": 481,
    "start_time": "2025-03-14T22:25:47.755Z"
   },
   {
    "duration": 72,
    "start_time": "2025-03-14T22:25:48.238Z"
   },
   {
    "duration": 102,
    "start_time": "2025-03-14T22:25:48.312Z"
   },
   {
    "duration": 4,
    "start_time": "2025-03-14T22:25:48.415Z"
   },
   {
    "duration": 14,
    "start_time": "2025-03-14T22:25:48.421Z"
   },
   {
    "duration": 280,
    "start_time": "2025-03-14T22:25:48.437Z"
   },
   {
    "duration": 28,
    "start_time": "2025-03-14T22:25:48.719Z"
   },
   {
    "duration": 95,
    "start_time": "2025-03-14T22:25:48.749Z"
   },
   {
    "duration": 4,
    "start_time": "2025-03-14T22:25:48.846Z"
   },
   {
    "duration": 12,
    "start_time": "2025-03-14T22:25:48.853Z"
   },
   {
    "duration": 3,
    "start_time": "2025-03-14T22:25:48.867Z"
   },
   {
    "duration": 3,
    "start_time": "2025-03-14T22:25:48.871Z"
   },
   {
    "duration": 4,
    "start_time": "2025-03-14T22:25:48.876Z"
   },
   {
    "duration": 6,
    "start_time": "2025-03-14T22:25:48.882Z"
   },
   {
    "duration": 6,
    "start_time": "2025-03-14T22:25:48.889Z"
   },
   {
    "duration": 37,
    "start_time": "2025-03-14T22:25:48.896Z"
   },
   {
    "duration": 5,
    "start_time": "2025-03-14T22:25:48.935Z"
   },
   {
    "duration": 9,
    "start_time": "2025-03-14T22:25:48.941Z"
   },
   {
    "duration": 158,
    "start_time": "2025-03-14T22:25:48.956Z"
   },
   {
    "duration": 177,
    "start_time": "2025-03-14T22:25:49.116Z"
   },
   {
    "duration": 4,
    "start_time": "2025-03-14T22:25:49.295Z"
   },
   {
    "duration": 6,
    "start_time": "2025-03-14T22:25:49.300Z"
   },
   {
    "duration": 3,
    "start_time": "2025-03-14T22:25:49.308Z"
   },
   {
    "duration": 140,
    "start_time": "2025-03-14T22:25:49.331Z"
   },
   {
    "duration": 6,
    "start_time": "2025-03-14T22:25:49.472Z"
   },
   {
    "duration": 9,
    "start_time": "2025-03-14T22:25:49.479Z"
   },
   {
    "duration": 4,
    "start_time": "2025-03-14T22:25:49.489Z"
   },
   {
    "duration": 6,
    "start_time": "2025-03-14T22:25:49.495Z"
   },
   {
    "duration": 112,
    "start_time": "2025-03-14T22:25:49.502Z"
   },
   {
    "duration": 7,
    "start_time": "2025-03-14T22:25:49.616Z"
   },
   {
    "duration": 4,
    "start_time": "2025-03-14T22:25:49.631Z"
   },
   {
    "duration": 5,
    "start_time": "2025-03-14T22:25:49.637Z"
   },
   {
    "duration": 124,
    "start_time": "2025-03-14T22:25:49.644Z"
   },
   {
    "duration": 4,
    "start_time": "2025-03-14T22:25:49.770Z"
   },
   {
    "duration": 116,
    "start_time": "2025-03-14T22:25:49.777Z"
   },
   {
    "duration": 118,
    "start_time": "2025-03-14T22:25:49.895Z"
   },
   {
    "duration": 3,
    "start_time": "2025-03-14T22:25:50.016Z"
   },
   {
    "duration": 14,
    "start_time": "2025-03-14T22:25:50.021Z"
   },
   {
    "duration": 78,
    "start_time": "2025-03-14T22:25:50.037Z"
   },
   {
    "duration": 23,
    "start_time": "2025-03-14T22:25:50.117Z"
   },
   {
    "duration": 5,
    "start_time": "2025-03-14T22:25:50.142Z"
   },
   {
    "duration": 4,
    "start_time": "2025-03-14T22:25:50.150Z"
   },
   {
    "duration": 4,
    "start_time": "2025-03-14T22:25:50.155Z"
   },
   {
    "duration": 6,
    "start_time": "2025-03-14T22:25:50.161Z"
   },
   {
    "duration": 141,
    "start_time": "2025-03-14T22:25:50.169Z"
   },
   {
    "duration": 27,
    "start_time": "2025-03-14T22:25:50.311Z"
   },
   {
    "duration": 9,
    "start_time": "2025-03-14T22:25:50.339Z"
   },
   {
    "duration": 7,
    "start_time": "2025-03-14T22:25:50.349Z"
   },
   {
    "duration": 76,
    "start_time": "2025-03-14T22:25:50.359Z"
   },
   {
    "duration": 310,
    "start_time": "2025-03-14T22:25:50.436Z"
   },
   {
    "duration": 116,
    "start_time": "2025-03-14T22:25:50.748Z"
   },
   {
    "duration": 6,
    "start_time": "2025-03-14T22:25:50.866Z"
   },
   {
    "duration": 4,
    "start_time": "2025-03-14T22:25:50.873Z"
   },
   {
    "duration": 6,
    "start_time": "2025-03-14T22:25:50.878Z"
   },
   {
    "duration": 6,
    "start_time": "2025-03-14T22:25:50.885Z"
   },
   {
    "duration": 116,
    "start_time": "2025-03-14T22:25:50.894Z"
   },
   {
    "duration": 3,
    "start_time": "2025-03-14T22:25:51.012Z"
   },
   {
    "duration": 4,
    "start_time": "2025-03-14T22:53:22.548Z"
   },
   {
    "duration": 5,
    "start_time": "2025-03-14T23:09:34.617Z"
   },
   {
    "duration": 7,
    "start_time": "2025-03-14T23:09:35.420Z"
   },
   {
    "duration": 344,
    "start_time": "2025-03-14T23:09:36.238Z"
   },
   {
    "duration": 23,
    "start_time": "2025-03-14T23:10:02.722Z"
   },
   {
    "duration": 4,
    "start_time": "2025-03-14T23:13:41.571Z"
   },
   {
    "duration": 1114,
    "start_time": "2025-03-14T23:14:25.524Z"
   },
   {
    "duration": 3,
    "start_time": "2025-03-14T23:14:26.640Z"
   },
   {
    "duration": 9,
    "start_time": "2025-03-14T23:14:26.645Z"
   },
   {
    "duration": 11,
    "start_time": "2025-03-14T23:14:26.657Z"
   },
   {
    "duration": 10,
    "start_time": "2025-03-14T23:14:26.670Z"
   },
   {
    "duration": 6,
    "start_time": "2025-03-14T23:14:26.683Z"
   },
   {
    "duration": 4,
    "start_time": "2025-03-14T23:14:26.690Z"
   },
   {
    "duration": 57,
    "start_time": "2025-03-14T23:14:26.696Z"
   },
   {
    "duration": 6,
    "start_time": "2025-03-14T23:14:26.755Z"
   },
   {
    "duration": 519,
    "start_time": "2025-03-14T23:14:26.765Z"
   },
   {
    "duration": 55,
    "start_time": "2025-03-14T23:14:27.287Z"
   },
   {
    "duration": 105,
    "start_time": "2025-03-14T23:14:27.344Z"
   },
   {
    "duration": 5,
    "start_time": "2025-03-14T23:14:27.451Z"
   },
   {
    "duration": 12,
    "start_time": "2025-03-14T23:14:27.458Z"
   },
   {
    "duration": 340,
    "start_time": "2025-03-14T23:14:27.472Z"
   },
   {
    "duration": 30,
    "start_time": "2025-03-14T23:14:27.814Z"
   },
   {
    "duration": 116,
    "start_time": "2025-03-14T23:14:27.846Z"
   },
   {
    "duration": 3,
    "start_time": "2025-03-14T23:14:27.964Z"
   },
   {
    "duration": 14,
    "start_time": "2025-03-14T23:14:27.969Z"
   },
   {
    "duration": 2,
    "start_time": "2025-03-14T23:14:27.985Z"
   },
   {
    "duration": 3,
    "start_time": "2025-03-14T23:14:27.989Z"
   },
   {
    "duration": 3,
    "start_time": "2025-03-14T23:14:27.994Z"
   },
   {
    "duration": 35,
    "start_time": "2025-03-14T23:14:27.999Z"
   },
   {
    "duration": 8,
    "start_time": "2025-03-14T23:14:28.036Z"
   },
   {
    "duration": 5,
    "start_time": "2025-03-14T23:14:28.046Z"
   },
   {
    "duration": 5,
    "start_time": "2025-03-14T23:14:28.053Z"
   },
   {
    "duration": 9,
    "start_time": "2025-03-14T23:14:28.060Z"
   },
   {
    "duration": 198,
    "start_time": "2025-03-14T23:14:28.073Z"
   },
   {
    "duration": 184,
    "start_time": "2025-03-14T23:14:28.273Z"
   },
   {
    "duration": 4,
    "start_time": "2025-03-14T23:14:28.459Z"
   },
   {
    "duration": 5,
    "start_time": "2025-03-14T23:14:28.465Z"
   },
   {
    "duration": 3,
    "start_time": "2025-03-14T23:14:28.472Z"
   },
   {
    "duration": 201,
    "start_time": "2025-03-14T23:14:28.477Z"
   },
   {
    "duration": 4,
    "start_time": "2025-03-14T23:14:28.680Z"
   },
   {
    "duration": 9,
    "start_time": "2025-03-14T23:14:28.685Z"
   },
   {
    "duration": 4,
    "start_time": "2025-03-14T23:14:28.696Z"
   },
   {
    "duration": 7,
    "start_time": "2025-03-14T23:14:28.701Z"
   },
   {
    "duration": 142,
    "start_time": "2025-03-14T23:14:28.711Z"
   },
   {
    "duration": 7,
    "start_time": "2025-03-14T23:14:28.856Z"
   },
   {
    "duration": 4,
    "start_time": "2025-03-14T23:14:28.865Z"
   },
   {
    "duration": 6,
    "start_time": "2025-03-14T23:14:28.870Z"
   },
   {
    "duration": 131,
    "start_time": "2025-03-14T23:14:28.878Z"
   },
   {
    "duration": 3,
    "start_time": "2025-03-14T23:14:29.011Z"
   },
   {
    "duration": 138,
    "start_time": "2025-03-14T23:14:29.017Z"
   },
   {
    "duration": 177,
    "start_time": "2025-03-14T23:14:29.157Z"
   },
   {
    "duration": 4,
    "start_time": "2025-03-14T23:14:29.336Z"
   },
   {
    "duration": 7,
    "start_time": "2025-03-14T23:14:29.342Z"
   },
   {
    "duration": 99,
    "start_time": "2025-03-14T23:14:29.351Z"
   },
   {
    "duration": 12,
    "start_time": "2025-03-14T23:14:29.452Z"
   },
   {
    "duration": 6,
    "start_time": "2025-03-14T23:14:29.466Z"
   },
   {
    "duration": 4,
    "start_time": "2025-03-14T23:14:29.475Z"
   },
   {
    "duration": 3,
    "start_time": "2025-03-14T23:14:29.480Z"
   },
   {
    "duration": 4,
    "start_time": "2025-03-14T23:14:29.485Z"
   },
   {
    "duration": 240,
    "start_time": "2025-03-14T23:14:29.491Z"
   },
   {
    "duration": 17,
    "start_time": "2025-03-14T23:14:29.733Z"
   },
   {
    "duration": 9,
    "start_time": "2025-03-14T23:14:29.755Z"
   },
   {
    "duration": 64,
    "start_time": "2025-03-14T23:14:29.768Z"
   },
   {
    "duration": 8,
    "start_time": "2025-03-14T23:14:29.834Z"
   },
   {
    "duration": 306,
    "start_time": "2025-03-14T23:14:29.847Z"
   },
   {
    "duration": 120,
    "start_time": "2025-03-14T23:14:30.155Z"
   },
   {
    "duration": 6,
    "start_time": "2025-03-14T23:14:30.277Z"
   },
   {
    "duration": 3,
    "start_time": "2025-03-14T23:14:30.285Z"
   },
   {
    "duration": 6,
    "start_time": "2025-03-14T23:14:30.290Z"
   },
   {
    "duration": 7,
    "start_time": "2025-03-14T23:14:30.298Z"
   },
   {
    "duration": 134,
    "start_time": "2025-03-14T23:14:30.307Z"
   },
   {
    "duration": 4,
    "start_time": "2025-03-14T23:14:30.443Z"
   },
   {
    "duration": 4,
    "start_time": "2025-03-14T23:14:35.057Z"
   },
   {
    "duration": 6,
    "start_time": "2025-03-14T23:14:36.153Z"
   },
   {
    "duration": 7,
    "start_time": "2025-03-14T23:14:36.843Z"
   },
   {
    "duration": 268,
    "start_time": "2025-03-14T23:14:37.583Z"
   },
   {
    "duration": 4,
    "start_time": "2025-03-14T23:15:01.692Z"
   },
   {
    "duration": 13,
    "start_time": "2025-03-14T23:15:07.236Z"
   },
   {
    "duration": 7,
    "start_time": "2025-03-14T23:15:08.137Z"
   },
   {
    "duration": 4,
    "start_time": "2025-03-14T23:15:08.828Z"
   },
   {
    "duration": 13,
    "start_time": "2025-03-14T23:21:17.238Z"
   },
   {
    "duration": 4,
    "start_time": "2025-03-14T23:22:18.388Z"
   },
   {
    "duration": 4,
    "start_time": "2025-03-14T23:22:43.096Z"
   },
   {
    "duration": 5,
    "start_time": "2025-03-14T23:22:43.765Z"
   },
   {
    "duration": 132,
    "start_time": "2025-03-14T23:22:44.358Z"
   },
   {
    "duration": 9,
    "start_time": "2025-03-14T23:22:48.391Z"
   },
   {
    "duration": 6,
    "start_time": "2025-03-14T23:22:49.101Z"
   },
   {
    "duration": 3,
    "start_time": "2025-03-14T23:22:49.823Z"
   },
   {
    "duration": 18,
    "start_time": "2025-03-14T23:23:17.041Z"
   },
   {
    "duration": 4,
    "start_time": "2025-03-15T00:52:34.809Z"
   },
   {
    "duration": 8,
    "start_time": "2025-03-15T00:52:35.779Z"
   },
   {
    "duration": 10,
    "start_time": "2025-03-15T00:52:36.430Z"
   },
   {
    "duration": 3,
    "start_time": "2025-03-15T00:52:37.229Z"
   },
   {
    "duration": 7,
    "start_time": "2025-03-15T00:54:12.457Z"
   },
   {
    "duration": 4,
    "start_time": "2025-03-15T00:54:12.960Z"
   },
   {
    "duration": 4,
    "start_time": "2025-03-15T00:54:13.491Z"
   },
   {
    "duration": 114,
    "start_time": "2025-03-15T00:54:18.203Z"
   },
   {
    "duration": 6,
    "start_time": "2025-03-15T00:54:52.184Z"
   },
   {
    "duration": 4,
    "start_time": "2025-03-15T00:54:53.078Z"
   },
   {
    "duration": 4,
    "start_time": "2025-03-15T01:05:04.341Z"
   },
   {
    "duration": 5,
    "start_time": "2025-03-15T01:05:56.407Z"
   },
   {
    "duration": 431,
    "start_time": "2025-03-15T01:06:52.585Z"
   },
   {
    "duration": 22,
    "start_time": "2025-03-15T01:07:28.007Z"
   },
   {
    "duration": 6,
    "start_time": "2025-03-15T01:08:15.343Z"
   },
   {
    "duration": 3,
    "start_time": "2025-03-15T01:08:27.825Z"
   },
   {
    "duration": 13,
    "start_time": "2025-03-15T01:18:35.240Z"
   },
   {
    "duration": 6,
    "start_time": "2025-03-15T01:30:52.937Z"
   },
   {
    "duration": 3,
    "start_time": "2025-03-15T01:35:36.994Z"
   },
   {
    "duration": 3,
    "start_time": "2025-03-15T01:35:37.763Z"
   },
   {
    "duration": 3,
    "start_time": "2025-03-15T01:35:38.476Z"
   },
   {
    "duration": 24,
    "start_time": "2025-03-15T01:35:39.419Z"
   },
   {
    "duration": 5,
    "start_time": "2025-03-15T01:35:40.078Z"
   },
   {
    "duration": 5,
    "start_time": "2025-03-15T01:37:35.163Z"
   },
   {
    "duration": 5,
    "start_time": "2025-03-15T01:37:36.020Z"
   },
   {
    "duration": 7,
    "start_time": "2025-03-15T01:37:36.537Z"
   },
   {
    "duration": 5,
    "start_time": "2025-03-15T01:37:37.019Z"
   },
   {
    "duration": 4,
    "start_time": "2025-03-15T01:37:39.177Z"
   },
   {
    "duration": 3,
    "start_time": "2025-03-15T02:41:47.388Z"
   },
   {
    "duration": 3,
    "start_time": "2025-03-15T02:41:48.282Z"
   },
   {
    "duration": 7,
    "start_time": "2025-03-15T02:41:48.955Z"
   },
   {
    "duration": 8,
    "start_time": "2025-03-15T02:41:49.478Z"
   },
   {
    "duration": 12,
    "start_time": "2025-03-15T02:41:50.047Z"
   },
   {
    "duration": 5,
    "start_time": "2025-03-15T02:44:00.804Z"
   },
   {
    "duration": 5,
    "start_time": "2025-03-15T02:44:02.229Z"
   },
   {
    "duration": 15,
    "start_time": "2025-03-15T02:44:02.842Z"
   },
   {
    "duration": 7,
    "start_time": "2025-03-15T02:44:04.008Z"
   },
   {
    "duration": 3,
    "start_time": "2025-03-15T02:44:05.003Z"
   },
   {
    "duration": 1163,
    "start_time": "2025-03-15T06:17:15.352Z"
   },
   {
    "duration": 3,
    "start_time": "2025-03-15T06:17:22.806Z"
   },
   {
    "duration": 13,
    "start_time": "2025-03-15T06:17:23.886Z"
   },
   {
    "duration": 2791,
    "start_time": "2025-03-17T20:55:20.441Z"
   },
   {
    "duration": 2,
    "start_time": "2025-03-17T20:55:44.241Z"
   },
   {
    "duration": 3,
    "start_time": "2025-03-17T20:55:48.115Z"
   },
   {
    "duration": 2,
    "start_time": "2025-03-17T20:56:06.753Z"
   },
   {
    "duration": 13,
    "start_time": "2025-03-17T20:56:17.693Z"
   },
   {
    "duration": 4,
    "start_time": "2025-03-17T20:57:21.339Z"
   },
   {
    "duration": 293,
    "start_time": "2025-03-17T20:57:25.791Z"
   },
   {
    "duration": 3,
    "start_time": "2025-03-17T20:57:31.479Z"
   },
   {
    "duration": 9,
    "start_time": "2025-03-17T20:57:39.074Z"
   },
   {
    "duration": 8,
    "start_time": "2025-03-17T20:58:04.858Z"
   },
   {
    "duration": 11,
    "start_time": "2025-03-17T20:58:33.909Z"
   },
   {
    "duration": 2,
    "start_time": "2025-03-17T21:04:33.145Z"
   },
   {
    "duration": 2,
    "start_time": "2025-03-17T21:34:06.164Z"
   },
   {
    "duration": 5,
    "start_time": "2025-03-17T21:34:10.432Z"
   },
   {
    "duration": 4,
    "start_time": "2025-03-17T21:34:13.509Z"
   },
   {
    "duration": 17,
    "start_time": "2025-03-17T21:34:15.016Z"
   },
   {
    "duration": 11,
    "start_time": "2025-03-17T21:34:21.048Z"
   },
   {
    "duration": 512,
    "start_time": "2025-03-17T21:34:25.647Z"
   },
   {
    "duration": 144,
    "start_time": "2025-03-17T21:35:53.994Z"
   },
   {
    "duration": 3,
    "start_time": "2025-03-17T21:36:17.664Z"
   },
   {
    "duration": 56,
    "start_time": "2025-03-17T21:36:50.370Z"
   },
   {
    "duration": 124,
    "start_time": "2025-03-17T21:36:58.686Z"
   },
   {
    "duration": 180,
    "start_time": "2025-03-17T21:38:18.910Z"
   },
   {
    "duration": 3,
    "start_time": "2025-03-17T21:39:18.702Z"
   },
   {
    "duration": 181,
    "start_time": "2025-03-17T21:39:23.911Z"
   },
   {
    "duration": 3,
    "start_time": "2025-03-17T21:39:31.938Z"
   },
   {
    "duration": 5,
    "start_time": "2025-03-17T21:39:45.419Z"
   },
   {
    "duration": 385,
    "start_time": "2025-03-17T21:40:05.330Z"
   },
   {
    "duration": 46,
    "start_time": "2025-03-17T21:40:21.730Z"
   },
   {
    "duration": 49,
    "start_time": "2025-03-17T21:40:35.873Z"
   },
   {
    "duration": 528,
    "start_time": "2025-03-17T21:42:11.263Z"
   },
   {
    "duration": 56,
    "start_time": "2025-03-17T21:47:00.556Z"
   },
   {
    "duration": 13,
    "start_time": "2025-03-17T21:47:42.369Z"
   },
   {
    "duration": 100,
    "start_time": "2025-03-17T21:48:05.956Z"
   },
   {
    "duration": 5,
    "start_time": "2025-03-17T21:48:38.780Z"
   },
   {
    "duration": 17,
    "start_time": "2025-03-17T21:49:16.214Z"
   },
   {
    "duration": 15,
    "start_time": "2025-03-17T21:49:21.221Z"
   },
   {
    "duration": 2608,
    "start_time": "2025-03-17T21:49:25.726Z"
   },
   {
    "duration": 5,
    "start_time": "2025-03-17T21:50:24.161Z"
   },
   {
    "duration": 5,
    "start_time": "2025-03-17T21:50:28.645Z"
   },
   {
    "duration": 6,
    "start_time": "2025-03-17T23:06:48.323Z"
   },
   {
    "duration": 1000,
    "start_time": "2025-03-17T23:49:07.103Z"
   },
   {
    "duration": 2,
    "start_time": "2025-03-17T23:49:11.220Z"
   },
   {
    "duration": 9,
    "start_time": "2025-03-17T23:49:11.967Z"
   },
   {
    "duration": 3,
    "start_time": "2025-03-17T23:49:20.436Z"
   },
   {
    "duration": 11,
    "start_time": "2025-03-18T00:25:07.496Z"
   },
   {
    "duration": 7,
    "start_time": "2025-03-18T00:25:13.039Z"
   },
   {
    "duration": 9,
    "start_time": "2025-03-18T00:25:15.121Z"
   },
   {
    "duration": 2,
    "start_time": "2025-03-18T00:25:24.747Z"
   },
   {
    "duration": 2,
    "start_time": "2025-03-18T00:25:26.049Z"
   },
   {
    "duration": 5,
    "start_time": "2025-03-18T00:25:29.125Z"
   },
   {
    "duration": 4,
    "start_time": "2025-03-18T00:25:33.738Z"
   },
   {
    "duration": 19,
    "start_time": "2025-03-18T00:25:38.242Z"
   },
   {
    "duration": 10,
    "start_time": "2025-03-18T00:27:43.497Z"
   },
   {
    "duration": 4,
    "start_time": "2025-03-18T00:27:52.267Z"
   },
   {
    "duration": 427,
    "start_time": "2025-03-18T00:31:11.760Z"
   },
   {
    "duration": 12,
    "start_time": "2025-03-18T00:31:21.120Z"
   },
   {
    "duration": 108,
    "start_time": "2025-03-18T00:32:21.975Z"
   },
   {
    "duration": 2728,
    "start_time": "2025-03-18T00:33:13.086Z"
   },
   {
    "duration": 5,
    "start_time": "2025-03-18T00:45:29.946Z"
   },
   {
    "duration": 4,
    "start_time": "2025-03-18T00:45:53.903Z"
   },
   {
    "duration": 2,
    "start_time": "2025-03-18T00:46:14.862Z"
   },
   {
    "duration": 2,
    "start_time": "2025-03-18T00:46:36.640Z"
   },
   {
    "duration": 6,
    "start_time": "2025-03-18T00:50:49.311Z"
   },
   {
    "duration": 4,
    "start_time": "2025-03-18T00:51:06.147Z"
   },
   {
    "duration": 235,
    "start_time": "2025-03-18T00:52:59.531Z"
   },
   {
    "duration": 15,
    "start_time": "2025-03-18T00:53:06.761Z"
   },
   {
    "duration": 9,
    "start_time": "2025-03-18T00:53:11.071Z"
   },
   {
    "duration": 8,
    "start_time": "2025-03-18T00:53:51.932Z"
   },
   {
    "duration": 9,
    "start_time": "2025-03-18T00:54:07.177Z"
   },
   {
    "duration": 2,
    "start_time": "2025-03-18T00:55:33.720Z"
   },
   {
    "duration": 23,
    "start_time": "2025-03-18T00:55:34.562Z"
   },
   {
    "duration": 3,
    "start_time": "2025-03-18T00:55:49.376Z"
   },
   {
    "duration": 20,
    "start_time": "2025-03-18T00:55:50.546Z"
   },
   {
    "duration": 23,
    "start_time": "2025-03-18T00:55:51.193Z"
   },
   {
    "duration": 4,
    "start_time": "2025-03-18T00:57:53.505Z"
   },
   {
    "duration": 8,
    "start_time": "2025-03-18T00:57:55.571Z"
   },
   {
    "duration": 9,
    "start_time": "2025-03-18T00:57:56.419Z"
   },
   {
    "duration": 2,
    "start_time": "2025-03-18T00:57:57.977Z"
   },
   {
    "duration": 14,
    "start_time": "2025-03-18T00:57:58.963Z"
   },
   {
    "duration": 11,
    "start_time": "2025-03-18T00:58:00.626Z"
   },
   {
    "duration": 20,
    "start_time": "2025-03-18T00:58:01.668Z"
   },
   {
    "duration": 22,
    "start_time": "2025-03-18T00:58:02.443Z"
   },
   {
    "duration": 3,
    "start_time": "2025-03-18T04:04:57.722Z"
   },
   {
    "duration": 4,
    "start_time": "2025-03-18T04:05:29.407Z"
   },
   {
    "duration": 9,
    "start_time": "2025-03-18T04:05:33.248Z"
   },
   {
    "duration": 1046,
    "start_time": "2025-03-18T04:08:51.080Z"
   },
   {
    "duration": 3,
    "start_time": "2025-03-18T04:08:52.128Z"
   },
   {
    "duration": 14,
    "start_time": "2025-03-18T04:08:52.133Z"
   },
   {
    "duration": 4,
    "start_time": "2025-03-18T04:08:52.149Z"
   },
   {
    "duration": 12,
    "start_time": "2025-03-18T04:08:52.154Z"
   },
   {
    "duration": 6,
    "start_time": "2025-03-18T04:08:52.168Z"
   },
   {
    "duration": 30,
    "start_time": "2025-03-18T04:08:52.176Z"
   },
   {
    "duration": 2,
    "start_time": "2025-03-18T04:08:52.208Z"
   },
   {
    "duration": 4,
    "start_time": "2025-03-18T04:08:52.212Z"
   },
   {
    "duration": 5,
    "start_time": "2025-03-18T04:08:52.221Z"
   },
   {
    "duration": 3,
    "start_time": "2025-03-18T04:08:52.228Z"
   },
   {
    "duration": 16,
    "start_time": "2025-03-18T04:08:52.232Z"
   },
   {
    "duration": 5,
    "start_time": "2025-03-18T04:08:52.250Z"
   },
   {
    "duration": 3,
    "start_time": "2025-03-18T04:08:52.257Z"
   },
   {
    "duration": 451,
    "start_time": "2025-03-18T04:08:52.262Z"
   },
   {
    "duration": 14,
    "start_time": "2025-03-18T04:08:52.716Z"
   },
   {
    "duration": 121,
    "start_time": "2025-03-18T04:08:52.731Z"
   },
   {
    "duration": 2592,
    "start_time": "2025-03-18T04:08:52.854Z"
   },
   {
    "duration": 3,
    "start_time": "2025-03-18T04:08:55.448Z"
   },
   {
    "duration": 4,
    "start_time": "2025-03-18T04:08:55.452Z"
   },
   {
    "duration": 8,
    "start_time": "2025-03-18T04:08:55.458Z"
   },
   {
    "duration": 7,
    "start_time": "2025-03-18T04:08:55.468Z"
   },
   {
    "duration": 2,
    "start_time": "2025-03-18T04:08:55.477Z"
   },
   {
    "duration": 29,
    "start_time": "2025-03-18T04:08:55.482Z"
   },
   {
    "duration": 10,
    "start_time": "2025-03-18T04:08:55.512Z"
   },
   {
    "duration": 18,
    "start_time": "2025-03-18T04:08:55.524Z"
   },
   {
    "duration": 17,
    "start_time": "2025-03-18T04:08:55.544Z"
   },
   {
    "duration": 237,
    "start_time": "2025-03-18T04:13:46.734Z"
   },
   {
    "duration": 4,
    "start_time": "2025-03-18T04:14:23.381Z"
   },
   {
    "duration": 6,
    "start_time": "2025-03-18T04:14:24.947Z"
   },
   {
    "duration": 3,
    "start_time": "2025-03-18T04:14:26.020Z"
   },
   {
    "duration": 7,
    "start_time": "2025-03-18T04:14:27.295Z"
   },
   {
    "duration": 4,
    "start_time": "2025-03-18T04:14:28.171Z"
   },
   {
    "duration": 471,
    "start_time": "2025-03-18T04:14:29.462Z"
   },
   {
    "duration": 3,
    "start_time": "2025-03-18T04:14:44.648Z"
   },
   {
    "duration": 11,
    "start_time": "2025-03-18T04:14:46.657Z"
   },
   {
    "duration": 6,
    "start_time": "2025-03-18T04:15:27.290Z"
   },
   {
    "duration": 7,
    "start_time": "2025-03-18T04:15:28.158Z"
   },
   {
    "duration": 7,
    "start_time": "2025-03-18T04:15:31.997Z"
   },
   {
    "duration": 263,
    "start_time": "2025-03-18T04:18:28.495Z"
   },
   {
    "duration": 18,
    "start_time": "2025-03-18T04:18:34.606Z"
   },
   {
    "duration": 92,
    "start_time": "2025-03-18T04:18:42.442Z"
   },
   {
    "duration": 3,
    "start_time": "2025-03-18T04:18:44.212Z"
   },
   {
    "duration": 13,
    "start_time": "2025-03-18T04:18:45.340Z"
   },
   {
    "duration": 1105,
    "start_time": "2025-03-18T04:26:01.523Z"
   },
   {
    "duration": 7,
    "start_time": "2025-03-18T04:26:02.630Z"
   },
   {
    "duration": 13,
    "start_time": "2025-03-18T04:26:02.639Z"
   },
   {
    "duration": 4,
    "start_time": "2025-03-18T04:26:02.654Z"
   },
   {
    "duration": 12,
    "start_time": "2025-03-18T04:26:02.659Z"
   },
   {
    "duration": 6,
    "start_time": "2025-03-18T04:26:02.672Z"
   },
   {
    "duration": 26,
    "start_time": "2025-03-18T04:26:02.680Z"
   },
   {
    "duration": 3,
    "start_time": "2025-03-18T04:26:02.708Z"
   },
   {
    "duration": 1,
    "start_time": "2025-03-18T04:26:02.715Z"
   },
   {
    "duration": 5,
    "start_time": "2025-03-18T04:26:02.721Z"
   },
   {
    "duration": 4,
    "start_time": "2025-03-18T04:26:02.728Z"
   },
   {
    "duration": 16,
    "start_time": "2025-03-18T04:26:02.733Z"
   },
   {
    "duration": 5,
    "start_time": "2025-03-18T04:26:02.751Z"
   },
   {
    "duration": 4,
    "start_time": "2025-03-18T04:26:02.758Z"
   },
   {
    "duration": 448,
    "start_time": "2025-03-18T04:26:02.763Z"
   },
   {
    "duration": 13,
    "start_time": "2025-03-18T04:26:03.213Z"
   },
   {
    "duration": 117,
    "start_time": "2025-03-18T04:26:03.228Z"
   },
   {
    "duration": 2607,
    "start_time": "2025-03-18T04:26:03.347Z"
   },
   {
    "duration": 3,
    "start_time": "2025-03-18T04:26:05.956Z"
   },
   {
    "duration": 4,
    "start_time": "2025-03-18T04:26:05.960Z"
   },
   {
    "duration": 9,
    "start_time": "2025-03-18T04:26:05.966Z"
   },
   {
    "duration": 8,
    "start_time": "2025-03-18T04:26:05.976Z"
   },
   {
    "duration": 3,
    "start_time": "2025-03-18T04:26:05.985Z"
   },
   {
    "duration": 24,
    "start_time": "2025-03-18T04:26:05.990Z"
   },
   {
    "duration": 10,
    "start_time": "2025-03-18T04:26:06.015Z"
   },
   {
    "duration": 18,
    "start_time": "2025-03-18T04:26:06.027Z"
   },
   {
    "duration": 17,
    "start_time": "2025-03-18T04:26:06.047Z"
   },
   {
    "duration": 3,
    "start_time": "2025-03-18T04:26:06.068Z"
   },
   {
    "duration": 33,
    "start_time": "2025-03-18T04:26:06.073Z"
   },
   {
    "duration": 2,
    "start_time": "2025-03-18T04:26:06.108Z"
   },
   {
    "duration": 6,
    "start_time": "2025-03-18T04:26:06.112Z"
   },
   {
    "duration": 3,
    "start_time": "2025-03-18T04:26:06.120Z"
   },
   {
    "duration": 4,
    "start_time": "2025-03-18T04:26:06.124Z"
   },
   {
    "duration": 6,
    "start_time": "2025-03-18T04:26:06.131Z"
   },
   {
    "duration": 7,
    "start_time": "2025-03-18T04:26:06.139Z"
   },
   {
    "duration": 299,
    "start_time": "2025-03-18T04:26:06.147Z"
   },
   {
    "duration": 18,
    "start_time": "2025-03-18T04:26:06.448Z"
   },
   {
    "duration": 249,
    "start_time": "2025-03-18T04:31:24.988Z"
   },
   {
    "duration": 85,
    "start_time": "2025-03-18T04:31:35.115Z"
   },
   {
    "duration": 2,
    "start_time": "2025-03-18T04:31:36.024Z"
   },
   {
    "duration": 13,
    "start_time": "2025-03-18T04:31:37.012Z"
   },
   {
    "duration": 3,
    "start_time": "2025-03-18T04:46:21.430Z"
   },
   {
    "duration": 2,
    "start_time": "2025-03-18T04:46:22.488Z"
   },
   {
    "duration": 3,
    "start_time": "2025-03-18T04:46:23.530Z"
   },
   {
    "duration": 6,
    "start_time": "2025-03-18T04:46:24.568Z"
   },
   {
    "duration": 4,
    "start_time": "2025-03-18T04:46:25.949Z"
   },
   {
    "duration": 3,
    "start_time": "2025-03-18T04:46:28.574Z"
   },
   {
    "duration": 4,
    "start_time": "2025-03-18T04:46:31.238Z"
   },
   {
    "duration": 12,
    "start_time": "2025-03-18T04:46:36.703Z"
   },
   {
    "duration": 147,
    "start_time": "2025-03-18T04:46:38.690Z"
   },
   {
    "duration": 241,
    "start_time": "2025-03-18T04:46:43.318Z"
   },
   {
    "duration": 4,
    "start_time": "2025-03-18T05:07:03.982Z"
   },
   {
    "duration": 3,
    "start_time": "2025-03-18T05:12:19.799Z"
   },
   {
    "duration": 4,
    "start_time": "2025-03-18T05:24:46.032Z"
   },
   {
    "duration": 3,
    "start_time": "2025-03-18T05:24:53.867Z"
   },
   {
    "duration": 3,
    "start_time": "2025-03-18T05:25:01.397Z"
   },
   {
    "duration": 5,
    "start_time": "2025-03-18T05:25:04.361Z"
   },
   {
    "duration": 3,
    "start_time": "2025-03-18T05:25:07.122Z"
   },
   {
    "duration": 3,
    "start_time": "2025-03-18T05:25:08.345Z"
   },
   {
    "duration": 7,
    "start_time": "2025-03-18T05:25:09.975Z"
   },
   {
    "duration": 4,
    "start_time": "2025-03-18T05:25:12.024Z"
   },
   {
    "duration": 3,
    "start_time": "2025-03-18T05:25:22.043Z"
   },
   {
    "duration": 2,
    "start_time": "2025-03-18T05:25:27.525Z"
   },
   {
    "duration": 8,
    "start_time": "2025-03-18T05:25:28.076Z"
   },
   {
    "duration": 2721,
    "start_time": "2025-03-19T15:36:08.202Z"
   },
   {
    "duration": 4,
    "start_time": "2025-03-19T15:36:10.925Z"
   },
   {
    "duration": 13,
    "start_time": "2025-03-19T15:36:10.930Z"
   },
   {
    "duration": 3,
    "start_time": "2025-03-19T15:36:10.944Z"
   },
   {
    "duration": 10,
    "start_time": "2025-03-19T15:36:10.949Z"
   },
   {
    "duration": 6,
    "start_time": "2025-03-19T15:36:10.966Z"
   },
   {
    "duration": 8,
    "start_time": "2025-03-19T15:36:10.974Z"
   },
   {
    "duration": 2,
    "start_time": "2025-03-19T15:36:10.984Z"
   },
   {
    "duration": 4,
    "start_time": "2025-03-19T15:36:10.988Z"
   },
   {
    "duration": 4,
    "start_time": "2025-03-19T15:36:10.996Z"
   },
   {
    "duration": 4,
    "start_time": "2025-03-19T15:36:11.001Z"
   },
   {
    "duration": 15,
    "start_time": "2025-03-19T15:36:11.007Z"
   },
   {
    "duration": 5,
    "start_time": "2025-03-19T15:36:11.024Z"
   },
   {
    "duration": 4,
    "start_time": "2025-03-19T15:36:11.071Z"
   },
   {
    "duration": 400,
    "start_time": "2025-03-19T15:36:11.076Z"
   },
   {
    "duration": 12,
    "start_time": "2025-03-19T15:36:11.479Z"
   },
   {
    "duration": 118,
    "start_time": "2025-03-19T15:36:11.492Z"
   },
   {
    "duration": 2466,
    "start_time": "2025-03-19T15:36:11.612Z"
   },
   {
    "duration": 3,
    "start_time": "2025-03-19T15:36:14.080Z"
   },
   {
    "duration": 4,
    "start_time": "2025-03-19T15:36:14.084Z"
   },
   {
    "duration": 9,
    "start_time": "2025-03-19T15:36:14.089Z"
   },
   {
    "duration": 8,
    "start_time": "2025-03-19T15:36:14.099Z"
   },
   {
    "duration": 2,
    "start_time": "2025-03-19T15:36:14.108Z"
   },
   {
    "duration": 103,
    "start_time": "2025-03-19T15:36:14.112Z"
   },
   {
    "duration": 11,
    "start_time": "2025-03-19T15:36:14.216Z"
   },
   {
    "duration": 18,
    "start_time": "2025-03-19T15:36:14.229Z"
   },
   {
    "duration": 34,
    "start_time": "2025-03-19T15:36:14.249Z"
   },
   {
    "duration": 4,
    "start_time": "2025-03-19T15:36:14.287Z"
   },
   {
    "duration": 5,
    "start_time": "2025-03-19T15:36:14.292Z"
   },
   {
    "duration": 3,
    "start_time": "2025-03-19T15:36:14.298Z"
   },
   {
    "duration": 6,
    "start_time": "2025-03-19T15:36:14.302Z"
   },
   {
    "duration": 4,
    "start_time": "2025-03-19T15:36:14.309Z"
   },
   {
    "duration": 4,
    "start_time": "2025-03-19T15:36:14.315Z"
   },
   {
    "duration": 7,
    "start_time": "2025-03-19T15:36:14.320Z"
   },
   {
    "duration": 44,
    "start_time": "2025-03-19T15:36:14.329Z"
   },
   {
    "duration": 278,
    "start_time": "2025-03-19T15:36:14.374Z"
   },
   {
    "duration": 26,
    "start_time": "2025-03-19T15:36:14.654Z"
   },
   {
    "duration": 93,
    "start_time": "2025-03-19T15:36:14.682Z"
   },
   {
    "duration": 3,
    "start_time": "2025-03-19T15:36:14.777Z"
   },
   {
    "duration": 14,
    "start_time": "2025-03-19T15:36:14.782Z"
   },
   {
    "duration": 4,
    "start_time": "2025-03-19T15:36:14.797Z"
   },
   {
    "duration": 2,
    "start_time": "2025-03-19T15:36:14.804Z"
   },
   {
    "duration": 4,
    "start_time": "2025-03-19T15:36:14.808Z"
   },
   {
    "duration": 7,
    "start_time": "2025-03-19T15:36:14.813Z"
   },
   {
    "duration": 6,
    "start_time": "2025-03-19T15:36:14.821Z"
   },
   {
    "duration": 4,
    "start_time": "2025-03-19T15:36:14.828Z"
   },
   {
    "duration": 40,
    "start_time": "2025-03-19T15:36:14.833Z"
   },
   {
    "duration": 10,
    "start_time": "2025-03-19T15:36:14.875Z"
   },
   {
    "duration": 168,
    "start_time": "2025-03-19T15:36:14.886Z"
   },
   {
    "duration": 160,
    "start_time": "2025-03-19T15:36:15.055Z"
   },
   {
    "duration": 4,
    "start_time": "2025-03-19T15:36:15.217Z"
   },
   {
    "duration": 5,
    "start_time": "2025-03-19T15:36:15.223Z"
   },
   {
    "duration": 2,
    "start_time": "2025-03-19T15:36:15.230Z"
   },
   {
    "duration": 3,
    "start_time": "2025-03-19T15:36:15.234Z"
   },
   {
    "duration": 31,
    "start_time": "2025-03-19T15:36:15.239Z"
   },
   {
    "duration": 3,
    "start_time": "2025-03-19T15:36:15.272Z"
   },
   {
    "duration": 3,
    "start_time": "2025-03-19T15:36:15.277Z"
   },
   {
    "duration": 7,
    "start_time": "2025-03-19T15:36:15.281Z"
   },
   {
    "duration": 3,
    "start_time": "2025-03-19T15:39:12.791Z"
   },
   {
    "duration": 2,
    "start_time": "2025-03-19T15:39:14.633Z"
   },
   {
    "duration": 260,
    "start_time": "2025-03-19T15:40:13.589Z"
   },
   {
    "duration": 266,
    "start_time": "2025-03-19T15:40:52.883Z"
   },
   {
    "duration": 278,
    "start_time": "2025-03-19T15:41:26.067Z"
   },
   {
    "duration": 590,
    "start_time": "2025-03-19T15:42:25.431Z"
   },
   {
    "duration": 7,
    "start_time": "2025-03-19T15:42:53.031Z"
   },
   {
    "duration": 294,
    "start_time": "2025-03-19T15:43:00.516Z"
   },
   {
    "duration": 73,
    "start_time": "2025-03-19T15:43:05.400Z"
   },
   {
    "duration": 606,
    "start_time": "2025-03-19T15:43:29.849Z"
   },
   {
    "duration": 3,
    "start_time": "2025-03-19T15:49:22.568Z"
   },
   {
    "duration": 4,
    "start_time": "2025-03-19T15:49:23.208Z"
   },
   {
    "duration": 3,
    "start_time": "2025-03-19T15:49:24.014Z"
   },
   {
    "duration": 14,
    "start_time": "2025-03-19T15:49:26.680Z"
   },
   {
    "duration": 357,
    "start_time": "2025-03-19T15:49:44.289Z"
   },
   {
    "duration": 4,
    "start_time": "2025-03-19T15:50:03.689Z"
   },
   {
    "duration": 5,
    "start_time": "2025-03-19T15:50:06.128Z"
   },
   {
    "duration": 4,
    "start_time": "2025-03-19T15:50:07.120Z"
   },
   {
    "duration": 135,
    "start_time": "2025-03-19T15:50:08.175Z"
   },
   {
    "duration": 4,
    "start_time": "2025-03-19T15:50:09.650Z"
   },
   {
    "duration": 9,
    "start_time": "2025-03-19T15:50:10.426Z"
   },
   {
    "duration": 4,
    "start_time": "2025-03-19T15:50:11.628Z"
   },
   {
    "duration": 5,
    "start_time": "2025-03-19T15:50:12.857Z"
   },
   {
    "duration": 92,
    "start_time": "2025-03-19T15:50:14.329Z"
   },
   {
    "duration": 6,
    "start_time": "2025-03-19T15:50:22.339Z"
   },
   {
    "duration": 4,
    "start_time": "2025-03-19T15:50:23.104Z"
   },
   {
    "duration": 4,
    "start_time": "2025-03-19T15:50:23.810Z"
   },
   {
    "duration": 107,
    "start_time": "2025-03-19T15:50:27.752Z"
   },
   {
    "duration": 2,
    "start_time": "2025-03-19T15:50:31.776Z"
   },
   {
    "duration": 207,
    "start_time": "2025-03-19T15:50:32.588Z"
   },
   {
    "duration": 2,
    "start_time": "2025-03-19T16:23:02.228Z"
   },
   {
    "duration": 2,
    "start_time": "2025-03-19T17:23:41.952Z"
   },
   {
    "duration": 2,
    "start_time": "2025-03-19T17:23:42.391Z"
   },
   {
    "duration": 3,
    "start_time": "2025-03-19T17:23:42.744Z"
   },
   {
    "duration": 2,
    "start_time": "2025-03-19T17:23:43.042Z"
   },
   {
    "duration": 3,
    "start_time": "2025-03-19T17:23:43.590Z"
   },
   {
    "duration": 2,
    "start_time": "2025-03-19T17:23:44.014Z"
   },
   {
    "duration": 2,
    "start_time": "2025-03-19T17:23:44.573Z"
   },
   {
    "duration": 3,
    "start_time": "2025-03-19T17:23:45.000Z"
   },
   {
    "duration": 2,
    "start_time": "2025-03-19T17:23:46.148Z"
   },
   {
    "duration": 3,
    "start_time": "2025-03-19T17:23:47.032Z"
   },
   {
    "duration": 2,
    "start_time": "2025-03-19T17:23:52.317Z"
   },
   {
    "duration": 2,
    "start_time": "2025-03-19T17:23:52.816Z"
   },
   {
    "duration": 2,
    "start_time": "2025-03-19T17:23:53.723Z"
   },
   {
    "duration": 2,
    "start_time": "2025-03-19T17:23:59.667Z"
   },
   {
    "duration": 47,
    "start_time": "2025-03-19T17:24:49.396Z"
   },
   {
    "duration": 95,
    "start_time": "2025-03-19T17:25:04.149Z"
   },
   {
    "duration": 107,
    "start_time": "2025-03-19T17:25:14.256Z"
   },
   {
    "duration": 32,
    "start_time": "2025-03-19T17:25:50.883Z"
   },
   {
    "duration": 2,
    "start_time": "2025-03-19T17:25:57.239Z"
   },
   {
    "duration": 5,
    "start_time": "2025-03-19T18:48:54.216Z"
   },
   {
    "duration": 2905,
    "start_time": "2025-03-20T17:47:06.334Z"
   },
   {
    "duration": 3,
    "start_time": "2025-03-20T17:47:09.241Z"
   },
   {
    "duration": 13,
    "start_time": "2025-03-20T17:47:09.246Z"
   },
   {
    "duration": 1072,
    "start_time": "2025-03-20T17:48:16.420Z"
   },
   {
    "duration": 2,
    "start_time": "2025-03-20T17:48:19.875Z"
   },
   {
    "duration": 7,
    "start_time": "2025-03-20T17:48:20.467Z"
   },
   {
    "duration": 3,
    "start_time": "2025-03-20T17:48:23.461Z"
   },
   {
    "duration": 11,
    "start_time": "2025-03-20T17:48:24.344Z"
   },
   {
    "duration": 8,
    "start_time": "2025-03-20T17:48:24.553Z"
   },
   {
    "duration": 10,
    "start_time": "2025-03-20T17:48:24.909Z"
   },
   {
    "duration": 3,
    "start_time": "2025-03-20T17:48:25.164Z"
   },
   {
    "duration": 2,
    "start_time": "2025-03-20T17:48:25.302Z"
   },
   {
    "duration": 9,
    "start_time": "2025-03-20T17:48:25.487Z"
   },
   {
    "duration": 4,
    "start_time": "2025-03-20T17:48:25.739Z"
   },
   {
    "duration": 21,
    "start_time": "2025-03-20T17:48:25.993Z"
   },
   {
    "duration": 5,
    "start_time": "2025-03-20T17:48:26.365Z"
   },
   {
    "duration": 5,
    "start_time": "2025-03-20T17:48:26.668Z"
   },
   {
    "duration": 442,
    "start_time": "2025-03-20T17:48:26.871Z"
   },
   {
    "duration": 13,
    "start_time": "2025-03-20T17:48:27.369Z"
   },
   {
    "duration": 118,
    "start_time": "2025-03-20T17:48:27.489Z"
   },
   {
    "duration": 2699,
    "start_time": "2025-03-20T17:48:28.569Z"
   },
   {
    "duration": 2,
    "start_time": "2025-03-20T17:48:31.271Z"
   },
   {
    "duration": 5,
    "start_time": "2025-03-20T17:48:31.275Z"
   },
   {
    "duration": 8,
    "start_time": "2025-03-20T17:48:31.282Z"
   },
   {
    "duration": 10,
    "start_time": "2025-03-20T17:48:31.292Z"
   },
   {
    "duration": 2,
    "start_time": "2025-03-20T17:48:31.343Z"
   },
   {
    "duration": 12,
    "start_time": "2025-03-20T17:48:32.301Z"
   },
   {
    "duration": 11,
    "start_time": "2025-03-20T17:48:32.511Z"
   },
   {
    "duration": 19,
    "start_time": "2025-03-20T17:48:32.923Z"
   },
   {
    "duration": 19,
    "start_time": "2025-03-20T17:48:33.162Z"
   },
   {
    "duration": 4,
    "start_time": "2025-03-20T17:48:34.750Z"
   },
   {
    "duration": 5,
    "start_time": "2025-03-20T17:48:35.211Z"
   },
   {
    "duration": 2,
    "start_time": "2025-03-20T17:48:36.488Z"
   },
   {
    "duration": 7,
    "start_time": "2025-03-20T17:48:36.694Z"
   },
   {
    "duration": 3,
    "start_time": "2025-03-20T17:48:36.924Z"
   },
   {
    "duration": 3,
    "start_time": "2025-03-20T17:48:37.123Z"
   },
   {
    "duration": 7,
    "start_time": "2025-03-20T17:48:37.363Z"
   },
   {
    "duration": 7,
    "start_time": "2025-03-20T17:48:37.590Z"
   },
   {
    "duration": 266,
    "start_time": "2025-03-20T17:48:40.032Z"
   },
   {
    "duration": 20,
    "start_time": "2025-03-20T17:48:40.620Z"
   },
   {
    "duration": 84,
    "start_time": "2025-03-20T17:48:41.377Z"
   },
   {
    "duration": 3,
    "start_time": "2025-03-20T17:48:41.587Z"
   },
   {
    "duration": 13,
    "start_time": "2025-03-20T17:48:41.830Z"
   },
   {
    "duration": 3,
    "start_time": "2025-03-20T17:48:42.641Z"
   },
   {
    "duration": 3,
    "start_time": "2025-03-20T17:48:43.472Z"
   },
   {
    "duration": 3,
    "start_time": "2025-03-20T17:48:44.061Z"
   },
   {
    "duration": 7,
    "start_time": "2025-03-20T17:48:44.379Z"
   },
   {
    "duration": 7,
    "start_time": "2025-03-20T17:48:44.691Z"
   },
   {
    "duration": 3,
    "start_time": "2025-03-20T17:48:45.049Z"
   },
   {
    "duration": 4,
    "start_time": "2025-03-20T17:48:45.672Z"
   },
   {
    "duration": 10,
    "start_time": "2025-03-20T17:48:51.069Z"
   },
   {
    "duration": 149,
    "start_time": "2025-03-20T17:48:52.195Z"
   },
   {
    "duration": 145,
    "start_time": "2025-03-20T17:48:53.648Z"
   },
   {
    "duration": 3,
    "start_time": "2025-03-20T17:48:58.249Z"
   },
   {
    "duration": 5,
    "start_time": "2025-03-20T17:48:58.464Z"
   },
   {
    "duration": 2,
    "start_time": "2025-03-20T17:48:58.671Z"
   },
   {
    "duration": 2,
    "start_time": "2025-03-20T17:48:58.873Z"
   },
   {
    "duration": 5,
    "start_time": "2025-03-20T17:48:59.155Z"
   },
   {
    "duration": 3,
    "start_time": "2025-03-20T17:48:59.325Z"
   },
   {
    "duration": 2,
    "start_time": "2025-03-20T17:48:59.531Z"
   },
   {
    "duration": 9,
    "start_time": "2025-03-20T17:48:59.764Z"
   },
   {
    "duration": 2,
    "start_time": "2025-03-20T17:48:59.977Z"
   },
   {
    "duration": 623,
    "start_time": "2025-03-20T17:49:00.219Z"
   },
   {
    "duration": 2,
    "start_time": "2025-03-20T17:49:03.091Z"
   },
   {
    "duration": 3,
    "start_time": "2025-03-20T17:49:04.120Z"
   },
   {
    "duration": 3,
    "start_time": "2025-03-20T17:49:04.646Z"
   },
   {
    "duration": 12,
    "start_time": "2025-03-20T17:49:07.029Z"
   },
   {
    "duration": 2,
    "start_time": "2025-03-20T17:49:22.216Z"
   },
   {
    "duration": 2,
    "start_time": "2025-03-20T17:49:24.004Z"
   },
   {
    "duration": 3,
    "start_time": "2025-03-20T17:49:26.719Z"
   },
   {
    "duration": 3,
    "start_time": "2025-03-20T17:49:27.294Z"
   },
   {
    "duration": 3,
    "start_time": "2025-03-20T17:49:28.165Z"
   },
   {
    "duration": 2,
    "start_time": "2025-03-20T17:49:29.146Z"
   },
   {
    "duration": 2,
    "start_time": "2025-03-20T17:49:29.681Z"
   },
   {
    "duration": 2,
    "start_time": "2025-03-20T17:49:30.249Z"
   },
   {
    "duration": 2,
    "start_time": "2025-03-20T17:49:31.008Z"
   },
   {
    "duration": 2,
    "start_time": "2025-03-20T17:49:31.745Z"
   },
   {
    "duration": 2,
    "start_time": "2025-03-20T17:49:32.048Z"
   },
   {
    "duration": 2,
    "start_time": "2025-03-20T17:49:32.609Z"
   },
   {
    "duration": 2,
    "start_time": "2025-03-20T17:49:33.345Z"
   },
   {
    "duration": 2,
    "start_time": "2025-03-20T17:49:34.290Z"
   },
   {
    "duration": 2,
    "start_time": "2025-03-20T17:49:34.752Z"
   },
   {
    "duration": 308,
    "start_time": "2025-03-20T17:49:35.357Z"
   },
   {
    "duration": 18,
    "start_time": "2025-03-20T17:49:51.059Z"
   },
   {
    "duration": 2,
    "start_time": "2025-03-20T17:50:15.489Z"
   },
   {
    "duration": 2,
    "start_time": "2025-03-20T17:50:16.017Z"
   },
   {
    "duration": 3,
    "start_time": "2025-03-20T17:50:25.670Z"
   },
   {
    "duration": 2,
    "start_time": "2025-03-20T17:50:26.034Z"
   },
   {
    "duration": 2,
    "start_time": "2025-03-20T17:50:26.254Z"
   },
   {
    "duration": 3,
    "start_time": "2025-03-20T17:50:26.567Z"
   },
   {
    "duration": 2,
    "start_time": "2025-03-20T17:50:26.755Z"
   },
   {
    "duration": 2,
    "start_time": "2025-03-20T17:50:26.934Z"
   },
   {
    "duration": 2,
    "start_time": "2025-03-20T17:50:27.108Z"
   },
   {
    "duration": 3,
    "start_time": "2025-03-20T17:50:27.764Z"
   },
   {
    "duration": 3,
    "start_time": "2025-03-20T17:50:27.983Z"
   },
   {
    "duration": 3,
    "start_time": "2025-03-20T17:50:28.179Z"
   },
   {
    "duration": 5,
    "start_time": "2025-03-20T17:50:28.873Z"
   },
   {
    "duration": 2,
    "start_time": "2025-03-20T17:50:29.212Z"
   },
   {
    "duration": 2,
    "start_time": "2025-03-20T17:50:29.718Z"
   },
   {
    "duration": 2,
    "start_time": "2025-03-20T17:50:30.367Z"
   },
   {
    "duration": 2,
    "start_time": "2025-03-20T17:50:30.738Z"
   },
   {
    "duration": 2,
    "start_time": "2025-03-20T17:50:31.395Z"
   },
   {
    "duration": 2,
    "start_time": "2025-03-20T17:50:32.297Z"
   },
   {
    "duration": 2,
    "start_time": "2025-03-20T17:50:32.526Z"
   },
   {
    "duration": 2,
    "start_time": "2025-03-20T17:50:32.712Z"
   },
   {
    "duration": 2,
    "start_time": "2025-03-20T17:50:32.884Z"
   },
   {
    "duration": 2,
    "start_time": "2025-03-20T17:50:33.062Z"
   },
   {
    "duration": 6,
    "start_time": "2025-03-20T18:02:58.173Z"
   },
   {
    "duration": 6,
    "start_time": "2025-03-20T18:17:26.756Z"
   },
   {
    "duration": 4,
    "start_time": "2025-03-20T18:18:24.819Z"
   },
   {
    "duration": 4,
    "start_time": "2025-03-20T18:18:32.491Z"
   },
   {
    "duration": 3,
    "start_time": "2025-03-20T18:18:59.255Z"
   },
   {
    "duration": 4,
    "start_time": "2025-03-20T18:19:05.730Z"
   },
   {
    "duration": 3,
    "start_time": "2025-03-20T18:22:28.538Z"
   },
   {
    "duration": 2,
    "start_time": "2025-03-20T18:23:30.404Z"
   },
   {
    "duration": 10,
    "start_time": "2025-03-20T18:27:30.934Z"
   },
   {
    "duration": 2,
    "start_time": "2025-03-20T18:28:37.191Z"
   },
   {
    "duration": 5,
    "start_time": "2025-03-20T18:28:37.822Z"
   },
   {
    "duration": 2,
    "start_time": "2025-03-20T18:33:34.152Z"
   },
   {
    "duration": 3,
    "start_time": "2025-03-20T18:33:34.804Z"
   },
   {
    "duration": 5,
    "start_time": "2025-03-20T18:33:35.405Z"
   },
   {
    "duration": 15,
    "start_time": "2025-03-20T18:33:36.397Z"
   },
   {
    "duration": 4,
    "start_time": "2025-03-20T18:34:44.186Z"
   },
   {
    "duration": 165,
    "start_time": "2025-03-20T19:03:24.690Z"
   },
   {
    "duration": 22,
    "start_time": "2025-03-20T19:36:24.652Z"
   },
   {
    "duration": 151,
    "start_time": "2025-03-20T19:36:47.765Z"
   },
   {
    "duration": 17,
    "start_time": "2025-03-20T19:36:48.648Z"
   },
   {
    "duration": 1265,
    "start_time": "2025-03-20T19:38:37.966Z"
   },
   {
    "duration": 3,
    "start_time": "2025-03-20T19:38:39.235Z"
   },
   {
    "duration": 9,
    "start_time": "2025-03-20T19:38:39.241Z"
   },
   {
    "duration": 5,
    "start_time": "2025-03-20T19:38:39.257Z"
   },
   {
    "duration": 14,
    "start_time": "2025-03-20T19:38:39.265Z"
   },
   {
    "duration": 10,
    "start_time": "2025-03-20T19:38:39.281Z"
   },
   {
    "duration": 42,
    "start_time": "2025-03-20T19:38:39.293Z"
   },
   {
    "duration": 2,
    "start_time": "2025-03-20T19:38:39.339Z"
   },
   {
    "duration": 4,
    "start_time": "2025-03-20T19:38:39.343Z"
   },
   {
    "duration": 7,
    "start_time": "2025-03-20T19:38:39.349Z"
   },
   {
    "duration": 4,
    "start_time": "2025-03-20T19:38:39.358Z"
   },
   {
    "duration": 21,
    "start_time": "2025-03-20T19:38:39.365Z"
   },
   {
    "duration": 40,
    "start_time": "2025-03-20T19:38:39.388Z"
   },
   {
    "duration": 5,
    "start_time": "2025-03-20T19:38:39.434Z"
   },
   {
    "duration": 474,
    "start_time": "2025-03-20T19:38:39.440Z"
   },
   {
    "duration": 18,
    "start_time": "2025-03-20T19:38:39.916Z"
   },
   {
    "duration": 132,
    "start_time": "2025-03-20T19:38:39.936Z"
   },
   {
    "duration": 2827,
    "start_time": "2025-03-20T19:38:40.070Z"
   },
   {
    "duration": 3,
    "start_time": "2025-03-20T19:38:42.899Z"
   },
   {
    "duration": 4,
    "start_time": "2025-03-20T19:38:42.904Z"
   },
   {
    "duration": 16,
    "start_time": "2025-03-20T19:38:42.910Z"
   },
   {
    "duration": 10,
    "start_time": "2025-03-20T19:38:42.928Z"
   },
   {
    "duration": 2,
    "start_time": "2025-03-20T19:38:42.940Z"
   },
   {
    "duration": 15,
    "start_time": "2025-03-20T19:38:42.944Z"
   },
   {
    "duration": 15,
    "start_time": "2025-03-20T19:38:42.961Z"
   },
   {
    "duration": 58,
    "start_time": "2025-03-20T19:38:42.977Z"
   },
   {
    "duration": 21,
    "start_time": "2025-03-20T19:38:43.037Z"
   },
   {
    "duration": 5,
    "start_time": "2025-03-20T19:38:43.060Z"
   },
   {
    "duration": 5,
    "start_time": "2025-03-20T19:38:43.067Z"
   },
   {
    "duration": 3,
    "start_time": "2025-03-20T19:38:43.074Z"
   },
   {
    "duration": 6,
    "start_time": "2025-03-20T19:38:43.079Z"
   },
   {
    "duration": 37,
    "start_time": "2025-03-20T19:38:43.087Z"
   },
   {
    "duration": 4,
    "start_time": "2025-03-20T19:38:43.127Z"
   },
   {
    "duration": 8,
    "start_time": "2025-03-20T19:38:43.133Z"
   },
   {
    "duration": 8,
    "start_time": "2025-03-20T19:38:43.143Z"
   },
   {
    "duration": 293,
    "start_time": "2025-03-20T19:38:43.153Z"
   },
   {
    "duration": 20,
    "start_time": "2025-03-20T19:38:43.448Z"
   },
   {
    "duration": 121,
    "start_time": "2025-03-20T19:38:43.470Z"
   },
   {
    "duration": 5,
    "start_time": "2025-03-20T19:38:43.593Z"
   },
   {
    "duration": 24,
    "start_time": "2025-03-20T19:38:43.601Z"
   },
   {
    "duration": 3,
    "start_time": "2025-03-20T19:38:43.633Z"
   },
   {
    "duration": 4,
    "start_time": "2025-03-20T19:38:43.641Z"
   },
   {
    "duration": 5,
    "start_time": "2025-03-20T19:38:43.647Z"
   },
   {
    "duration": 7,
    "start_time": "2025-03-20T19:38:43.654Z"
   },
   {
    "duration": 9,
    "start_time": "2025-03-20T19:38:43.662Z"
   },
   {
    "duration": 4,
    "start_time": "2025-03-20T19:38:43.673Z"
   },
   {
    "duration": 5,
    "start_time": "2025-03-20T19:38:43.678Z"
   },
   {
    "duration": 38,
    "start_time": "2025-03-20T19:38:43.686Z"
   },
   {
    "duration": 198,
    "start_time": "2025-03-20T19:38:43.726Z"
   },
   {
    "duration": 185,
    "start_time": "2025-03-20T19:38:43.926Z"
   },
   {
    "duration": 11,
    "start_time": "2025-03-20T19:38:44.113Z"
   },
   {
    "duration": 5,
    "start_time": "2025-03-20T19:38:44.126Z"
   },
   {
    "duration": 2,
    "start_time": "2025-03-20T19:38:44.135Z"
   },
   {
    "duration": 3,
    "start_time": "2025-03-20T19:38:44.139Z"
   },
   {
    "duration": 7,
    "start_time": "2025-03-20T19:38:44.144Z"
   },
   {
    "duration": 3,
    "start_time": "2025-03-20T19:38:44.153Z"
   },
   {
    "duration": 2,
    "start_time": "2025-03-20T19:38:44.159Z"
   },
   {
    "duration": 8,
    "start_time": "2025-03-20T19:38:44.164Z"
   },
   {
    "duration": 2,
    "start_time": "2025-03-20T19:38:44.176Z"
   },
   {
    "duration": 740,
    "start_time": "2025-03-20T19:38:44.228Z"
   },
   {
    "duration": 3,
    "start_time": "2025-03-20T19:38:44.970Z"
   },
   {
    "duration": 4,
    "start_time": "2025-03-20T19:38:44.974Z"
   },
   {
    "duration": 3,
    "start_time": "2025-03-20T19:38:44.980Z"
   },
   {
    "duration": 15,
    "start_time": "2025-03-20T19:38:44.985Z"
   },
   {
    "duration": 10,
    "start_time": "2025-03-20T19:38:49.305Z"
   },
   {
    "duration": 29,
    "start_time": "2025-03-20T19:38:50.750Z"
   },
   {
    "duration": 5,
    "start_time": "2025-03-20T19:38:56.150Z"
   },
   {
    "duration": 163,
    "start_time": "2025-03-20T19:38:57.254Z"
   },
   {
    "duration": 173,
    "start_time": "2025-03-20T19:39:15.602Z"
   },
   {
    "duration": 258,
    "start_time": "2025-03-20T19:39:27.555Z"
   },
   {
    "duration": 9,
    "start_time": "2025-03-20T19:40:00.788Z"
   },
   {
    "duration": 228,
    "start_time": "2025-03-20T19:40:12.482Z"
   },
   {
    "duration": 21,
    "start_time": "2025-03-20T19:53:33.850Z"
   },
   {
    "duration": 4,
    "start_time": "2025-03-20T19:53:48.906Z"
   },
   {
    "duration": 2,
    "start_time": "2025-03-20T19:53:49.647Z"
   },
   {
    "duration": 4,
    "start_time": "2025-03-20T19:53:50.927Z"
   },
   {
    "duration": 5,
    "start_time": "2025-03-20T19:53:53.436Z"
   },
   {
    "duration": 6,
    "start_time": "2025-03-20T19:53:59.273Z"
   },
   {
    "duration": 3,
    "start_time": "2025-03-20T19:54:21.728Z"
   },
   {
    "duration": 3,
    "start_time": "2025-03-20T19:55:20.517Z"
   },
   {
    "duration": 2,
    "start_time": "2025-03-20T19:56:21.687Z"
   },
   {
    "duration": 20,
    "start_time": "2025-03-20T19:57:51.949Z"
   },
   {
    "duration": 3,
    "start_time": "2025-03-20T21:43:45.589Z"
   },
   {
    "duration": 3,
    "start_time": "2025-03-20T21:45:20.094Z"
   },
   {
    "duration": 3,
    "start_time": "2025-03-20T21:45:20.863Z"
   },
   {
    "duration": 16,
    "start_time": "2025-03-20T21:45:21.486Z"
   },
   {
    "duration": 4,
    "start_time": "2025-03-20T21:45:25.988Z"
   },
   {
    "duration": 6,
    "start_time": "2025-03-20T21:45:28.432Z"
   },
   {
    "duration": 4,
    "start_time": "2025-03-20T21:45:32.100Z"
   },
   {
    "duration": 4,
    "start_time": "2025-03-20T21:45:45.789Z"
   },
   {
    "duration": 1208,
    "start_time": "2025-03-20T22:12:13.649Z"
   },
   {
    "duration": 2,
    "start_time": "2025-03-20T22:12:14.860Z"
   },
   {
    "duration": 10,
    "start_time": "2025-03-20T22:12:14.864Z"
   },
   {
    "duration": 3,
    "start_time": "2025-03-20T22:12:14.876Z"
   },
   {
    "duration": 11,
    "start_time": "2025-03-20T22:12:14.881Z"
   },
   {
    "duration": 31,
    "start_time": "2025-03-20T22:12:14.893Z"
   },
   {
    "duration": 10,
    "start_time": "2025-03-20T22:12:14.926Z"
   },
   {
    "duration": 2,
    "start_time": "2025-03-20T22:12:14.939Z"
   },
   {
    "duration": 4,
    "start_time": "2025-03-20T22:12:14.943Z"
   },
   {
    "duration": 6,
    "start_time": "2025-03-20T22:12:14.951Z"
   },
   {
    "duration": 4,
    "start_time": "2025-03-20T22:12:14.959Z"
   },
   {
    "duration": 18,
    "start_time": "2025-03-20T22:12:14.964Z"
   },
   {
    "duration": 44,
    "start_time": "2025-03-20T22:12:14.983Z"
   },
   {
    "duration": 4,
    "start_time": "2025-03-20T22:12:15.029Z"
   },
   {
    "duration": 437,
    "start_time": "2025-03-20T22:12:15.035Z"
   },
   {
    "duration": 13,
    "start_time": "2025-03-20T22:12:15.474Z"
   },
   {
    "duration": 115,
    "start_time": "2025-03-20T22:12:15.488Z"
   },
   {
    "duration": 2672,
    "start_time": "2025-03-20T22:12:15.605Z"
   },
   {
    "duration": 2,
    "start_time": "2025-03-20T22:12:18.279Z"
   },
   {
    "duration": 5,
    "start_time": "2025-03-20T22:12:18.283Z"
   },
   {
    "duration": 9,
    "start_time": "2025-03-20T22:12:18.290Z"
   },
   {
    "duration": 9,
    "start_time": "2025-03-20T22:12:18.300Z"
   },
   {
    "duration": 16,
    "start_time": "2025-03-20T22:12:18.311Z"
   },
   {
    "duration": 13,
    "start_time": "2025-03-20T22:12:18.328Z"
   },
   {
    "duration": 13,
    "start_time": "2025-03-20T22:12:18.342Z"
   },
   {
    "duration": 20,
    "start_time": "2025-03-20T22:12:18.357Z"
   },
   {
    "duration": 49,
    "start_time": "2025-03-20T22:12:18.380Z"
   },
   {
    "duration": 5,
    "start_time": "2025-03-20T22:12:18.435Z"
   },
   {
    "duration": 5,
    "start_time": "2025-03-20T22:12:18.442Z"
   },
   {
    "duration": 3,
    "start_time": "2025-03-20T22:12:18.448Z"
   },
   {
    "duration": 6,
    "start_time": "2025-03-20T22:12:18.453Z"
   },
   {
    "duration": 4,
    "start_time": "2025-03-20T22:12:18.461Z"
   },
   {
    "duration": 4,
    "start_time": "2025-03-20T22:12:18.467Z"
   },
   {
    "duration": 9,
    "start_time": "2025-03-20T22:12:18.472Z"
   },
   {
    "duration": 44,
    "start_time": "2025-03-20T22:12:18.483Z"
   },
   {
    "duration": 284,
    "start_time": "2025-03-20T22:12:18.529Z"
   },
   {
    "duration": 18,
    "start_time": "2025-03-20T22:12:18.824Z"
   },
   {
    "duration": 98,
    "start_time": "2025-03-20T22:12:18.844Z"
   },
   {
    "duration": 4,
    "start_time": "2025-03-20T22:12:18.944Z"
   },
   {
    "duration": 12,
    "start_time": "2025-03-20T22:12:18.950Z"
   },
   {
    "duration": 3,
    "start_time": "2025-03-20T22:12:18.964Z"
   },
   {
    "duration": 5,
    "start_time": "2025-03-20T22:12:18.968Z"
   },
   {
    "duration": 4,
    "start_time": "2025-03-20T22:12:18.975Z"
   },
   {
    "duration": 7,
    "start_time": "2025-03-20T22:12:18.981Z"
   },
   {
    "duration": 39,
    "start_time": "2025-03-20T22:12:18.989Z"
   },
   {
    "duration": 5,
    "start_time": "2025-03-20T22:12:19.030Z"
   },
   {
    "duration": 5,
    "start_time": "2025-03-20T22:12:19.037Z"
   },
   {
    "duration": 9,
    "start_time": "2025-03-20T22:12:19.044Z"
   },
   {
    "duration": 194,
    "start_time": "2025-03-20T22:12:19.055Z"
   },
   {
    "duration": 165,
    "start_time": "2025-03-20T22:12:19.251Z"
   },
   {
    "duration": 7,
    "start_time": "2025-03-20T22:12:19.418Z"
   },
   {
    "duration": 5,
    "start_time": "2025-03-20T22:12:19.427Z"
   },
   {
    "duration": 3,
    "start_time": "2025-03-20T22:12:19.434Z"
   },
   {
    "duration": 2,
    "start_time": "2025-03-20T22:12:19.439Z"
   },
   {
    "duration": 6,
    "start_time": "2025-03-20T22:12:19.443Z"
   },
   {
    "duration": 4,
    "start_time": "2025-03-20T22:12:19.450Z"
   },
   {
    "duration": 3,
    "start_time": "2025-03-20T22:12:19.455Z"
   },
   {
    "duration": 7,
    "start_time": "2025-03-20T22:12:19.460Z"
   },
   {
    "duration": 2,
    "start_time": "2025-03-20T22:12:19.468Z"
   },
   {
    "duration": 700,
    "start_time": "2025-03-20T22:12:19.472Z"
   },
   {
    "duration": 4,
    "start_time": "2025-03-20T22:12:20.174Z"
   },
   {
    "duration": 3,
    "start_time": "2025-03-20T22:12:20.180Z"
   },
   {
    "duration": 4,
    "start_time": "2025-03-20T22:12:20.184Z"
   },
   {
    "duration": 12,
    "start_time": "2025-03-20T22:12:20.190Z"
   },
   {
    "duration": 8,
    "start_time": "2025-03-20T22:12:20.225Z"
   },
   {
    "duration": 28,
    "start_time": "2025-03-20T22:12:20.234Z"
   },
   {
    "duration": 5,
    "start_time": "2025-03-20T22:12:20.264Z"
   },
   {
    "duration": 165,
    "start_time": "2025-03-20T22:12:20.270Z"
   },
   {
    "duration": 2,
    "start_time": "2025-03-20T22:12:20.437Z"
   },
   {
    "duration": 3,
    "start_time": "2025-03-20T22:12:20.441Z"
   },
   {
    "duration": 3,
    "start_time": "2025-03-20T22:12:20.446Z"
   },
   {
    "duration": 3,
    "start_time": "2025-03-20T22:12:20.450Z"
   },
   {
    "duration": 3,
    "start_time": "2025-03-20T22:12:20.455Z"
   },
   {
    "duration": 3,
    "start_time": "2025-03-20T22:12:20.460Z"
   },
   {
    "duration": 2,
    "start_time": "2025-03-20T22:12:20.465Z"
   },
   {
    "duration": 3,
    "start_time": "2025-03-20T22:12:20.469Z"
   },
   {
    "duration": 4,
    "start_time": "2025-03-20T22:12:20.474Z"
   },
   {
    "duration": 4,
    "start_time": "2025-03-20T22:12:20.479Z"
   },
   {
    "duration": 3,
    "start_time": "2025-03-20T22:12:20.484Z"
   },
   {
    "duration": 3,
    "start_time": "2025-03-20T22:12:20.524Z"
   },
   {
    "duration": 3,
    "start_time": "2025-03-20T22:12:20.530Z"
   },
   {
    "duration": 2,
    "start_time": "2025-03-20T22:12:20.542Z"
   },
   {
    "duration": 3,
    "start_time": "2025-03-20T22:12:20.546Z"
   },
   {
    "duration": 4,
    "start_time": "2025-03-20T22:12:20.550Z"
   },
   {
    "duration": 4,
    "start_time": "2025-03-20T22:12:20.555Z"
   },
   {
    "duration": 3,
    "start_time": "2025-03-20T22:12:20.561Z"
   },
   {
    "duration": 4,
    "start_time": "2025-03-20T22:12:20.565Z"
   },
   {
    "duration": 3,
    "start_time": "2025-03-20T22:12:20.570Z"
   },
   {
    "duration": 3,
    "start_time": "2025-03-20T22:12:20.575Z"
   },
   {
    "duration": 2,
    "start_time": "2025-03-20T22:12:20.580Z"
   },
   {
    "duration": 42,
    "start_time": "2025-03-20T22:12:20.583Z"
   },
   {
    "duration": 3,
    "start_time": "2025-03-20T22:12:20.627Z"
   },
   {
    "duration": 2,
    "start_time": "2025-03-20T22:12:20.632Z"
   },
   {
    "duration": 3,
    "start_time": "2025-03-20T22:12:20.636Z"
   },
   {
    "duration": 4,
    "start_time": "2025-03-20T22:12:20.641Z"
   },
   {
    "duration": 3,
    "start_time": "2025-03-20T22:12:20.647Z"
   },
   {
    "duration": 4,
    "start_time": "2025-03-20T22:12:20.651Z"
   },
   {
    "duration": 3,
    "start_time": "2025-03-20T22:12:20.656Z"
   },
   {
    "duration": 3,
    "start_time": "2025-03-20T22:12:20.661Z"
   },
   {
    "duration": 3,
    "start_time": "2025-03-20T22:12:20.666Z"
   },
   {
    "duration": 3,
    "start_time": "2025-03-20T22:12:20.671Z"
   },
   {
    "duration": 4,
    "start_time": "2025-03-20T22:12:20.675Z"
   },
   {
    "duration": 3,
    "start_time": "2025-03-20T22:12:20.724Z"
   },
   {
    "duration": 3,
    "start_time": "2025-03-20T22:12:20.729Z"
   },
   {
    "duration": 3,
    "start_time": "2025-03-20T22:12:20.734Z"
   },
   {
    "duration": 3,
    "start_time": "2025-03-20T22:12:20.739Z"
   },
   {
    "duration": 5,
    "start_time": "2025-03-20T22:12:20.744Z"
   },
   {
    "duration": 3,
    "start_time": "2025-03-20T22:12:20.751Z"
   },
   {
    "duration": 4,
    "start_time": "2025-03-20T22:12:20.756Z"
   },
   {
    "duration": 11,
    "start_time": "2025-03-20T22:12:20.762Z"
   },
   {
    "duration": 6,
    "start_time": "2025-03-20T22:12:20.826Z"
   },
   {
    "duration": 7,
    "start_time": "2025-03-20T22:12:20.834Z"
   },
   {
    "duration": 4,
    "start_time": "2025-03-20T22:12:20.844Z"
   },
   {
    "duration": 4,
    "start_time": "2025-03-20T22:12:20.925Z"
   },
   {
    "duration": 5,
    "start_time": "2025-03-20T22:12:20.930Z"
   },
   {
    "duration": 4,
    "start_time": "2025-03-20T22:12:20.937Z"
   },
   {
    "duration": 285,
    "start_time": "2025-03-20T22:12:20.943Z"
   },
   {
    "duration": 2,
    "start_time": "2025-03-20T22:12:21.230Z"
   },
   {
    "duration": 3,
    "start_time": "2025-03-20T22:12:21.234Z"
   },
   {
    "duration": 2,
    "start_time": "2025-03-20T22:12:21.240Z"
   },
   {
    "duration": 4,
    "start_time": "2025-03-20T22:12:21.243Z"
   },
   {
    "duration": 6,
    "start_time": "2025-03-20T22:12:21.248Z"
   },
   {
    "duration": 3,
    "start_time": "2025-03-20T22:12:21.255Z"
   },
   {
    "duration": 2,
    "start_time": "2025-03-20T22:12:21.260Z"
   },
   {
    "duration": 3,
    "start_time": "2025-03-20T22:12:21.264Z"
   },
   {
    "duration": 2,
    "start_time": "2025-03-20T22:12:21.269Z"
   },
   {
    "duration": 3,
    "start_time": "2025-03-20T22:12:21.273Z"
   },
   {
    "duration": 3,
    "start_time": "2025-03-20T22:12:21.279Z"
   },
   {
    "duration": 2,
    "start_time": "2025-03-20T22:12:21.324Z"
   },
   {
    "duration": 3,
    "start_time": "2025-03-20T22:12:21.328Z"
   },
   {
    "duration": 4,
    "start_time": "2025-03-20T22:12:21.333Z"
   },
   {
    "duration": 3,
    "start_time": "2025-03-20T22:12:21.338Z"
   },
   {
    "duration": 3,
    "start_time": "2025-03-20T22:12:21.343Z"
   },
   {
    "duration": 4,
    "start_time": "2025-03-20T22:12:21.347Z"
   },
   {
    "duration": 4,
    "start_time": "2025-03-20T22:12:21.352Z"
   },
   {
    "duration": 3,
    "start_time": "2025-03-20T22:12:21.357Z"
   },
   {
    "duration": 3,
    "start_time": "2025-03-20T22:12:21.362Z"
   },
   {
    "duration": 3,
    "start_time": "2025-03-20T22:12:21.367Z"
   },
   {
    "duration": 3,
    "start_time": "2025-03-20T22:12:21.371Z"
   },
   {
    "duration": 4,
    "start_time": "2025-03-20T22:12:21.376Z"
   },
   {
    "duration": 9,
    "start_time": "2025-03-20T22:12:21.381Z"
   },
   {
    "duration": 3,
    "start_time": "2025-03-20T22:12:21.425Z"
   },
   {
    "duration": 3,
    "start_time": "2025-03-20T22:12:21.524Z"
   },
   {
    "duration": 3,
    "start_time": "2025-03-20T22:12:21.529Z"
   },
   {
    "duration": 4,
    "start_time": "2025-03-20T22:12:21.533Z"
   },
   {
    "duration": 4,
    "start_time": "2025-03-20T22:12:21.539Z"
   },
   {
    "duration": 3,
    "start_time": "2025-03-20T22:12:21.545Z"
   },
   {
    "duration": 4,
    "start_time": "2025-03-20T22:12:21.550Z"
   },
   {
    "duration": 3,
    "start_time": "2025-03-20T22:12:21.556Z"
   },
   {
    "duration": 3,
    "start_time": "2025-03-20T22:12:21.561Z"
   },
   {
    "duration": 4,
    "start_time": "2025-03-20T22:12:21.565Z"
   },
   {
    "duration": 8,
    "start_time": "2025-03-20T22:12:21.570Z"
   },
   {
    "duration": 3,
    "start_time": "2025-03-20T22:12:21.623Z"
   },
   {
    "duration": 5,
    "start_time": "2025-03-20T22:12:21.627Z"
   },
   {
    "duration": 8,
    "start_time": "2025-03-20T22:12:21.633Z"
   },
   {
    "duration": 5,
    "start_time": "2025-03-20T22:12:21.642Z"
   },
   {
    "duration": 76,
    "start_time": "2025-03-20T22:12:21.648Z"
   },
   {
    "duration": 3,
    "start_time": "2025-03-20T22:12:21.726Z"
   },
   {
    "duration": 5,
    "start_time": "2025-03-20T22:19:51.366Z"
   },
   {
    "duration": 2,
    "start_time": "2025-03-20T22:36:28.780Z"
   },
   {
    "duration": 5,
    "start_time": "2025-03-20T22:41:51.413Z"
   },
   {
    "duration": 4,
    "start_time": "2025-03-20T22:59:37.980Z"
   },
   {
    "duration": 3,
    "start_time": "2025-03-20T22:59:43.160Z"
   },
   {
    "duration": 244,
    "start_time": "2025-03-20T22:59:44.652Z"
   },
   {
    "duration": 4,
    "start_time": "2025-03-20T23:00:00.148Z"
   },
   {
    "duration": 3,
    "start_time": "2025-03-20T23:00:03.116Z"
   },
   {
    "duration": 25,
    "start_time": "2025-03-20T23:00:04.272Z"
   },
   {
    "duration": 2,
    "start_time": "2025-03-20T23:01:06.082Z"
   },
   {
    "duration": 5,
    "start_time": "2025-03-20T23:01:06.747Z"
   },
   {
    "duration": 3,
    "start_time": "2025-03-20T23:01:07.358Z"
   },
   {
    "duration": 3,
    "start_time": "2025-03-20T23:01:08.192Z"
   },
   {
    "duration": 2,
    "start_time": "2025-03-20T23:01:11.718Z"
   },
   {
    "duration": 4,
    "start_time": "2025-03-20T23:01:12.515Z"
   },
   {
    "duration": 3,
    "start_time": "2025-03-20T23:01:13.208Z"
   },
   {
    "duration": 20,
    "start_time": "2025-03-20T23:01:14.123Z"
   },
   {
    "duration": 11,
    "start_time": "2025-03-20T23:01:15.232Z"
   },
   {
    "duration": 15,
    "start_time": "2025-03-20T23:02:29.975Z"
   },
   {
    "duration": 26,
    "start_time": "2025-03-20T23:02:39.020Z"
   },
   {
    "duration": 3,
    "start_time": "2025-03-20T23:03:18.669Z"
   },
   {
    "duration": 3,
    "start_time": "2025-03-20T23:03:19.499Z"
   },
   {
    "duration": 3,
    "start_time": "2025-03-20T23:03:20.102Z"
   },
   {
    "duration": 6,
    "start_time": "2025-03-20T23:03:20.421Z"
   },
   {
    "duration": 5,
    "start_time": "2025-03-20T23:03:20.685Z"
   },
   {
    "duration": 16,
    "start_time": "2025-03-20T23:03:21.021Z"
   },
   {
    "duration": 3,
    "start_time": "2025-03-20T23:03:21.670Z"
   },
   {
    "duration": 4,
    "start_time": "2025-03-20T23:03:22.246Z"
   },
   {
    "duration": 3,
    "start_time": "2025-03-20T23:06:57.772Z"
   },
   {
    "duration": 2,
    "start_time": "2025-03-20T23:07:09.890Z"
   },
   {
    "duration": 1078,
    "start_time": "2025-03-20T23:18:33.681Z"
   },
   {
    "duration": 2,
    "start_time": "2025-03-20T23:18:34.761Z"
   },
   {
    "duration": 9,
    "start_time": "2025-03-20T23:18:34.765Z"
   },
   {
    "duration": 3,
    "start_time": "2025-03-20T23:18:34.776Z"
   },
   {
    "duration": 11,
    "start_time": "2025-03-20T23:18:34.781Z"
   },
   {
    "duration": 31,
    "start_time": "2025-03-20T23:18:34.793Z"
   },
   {
    "duration": 10,
    "start_time": "2025-03-20T23:18:34.826Z"
   },
   {
    "duration": 4,
    "start_time": "2025-03-20T23:18:34.837Z"
   },
   {
    "duration": 3,
    "start_time": "2025-03-20T23:18:34.842Z"
   },
   {
    "duration": 4,
    "start_time": "2025-03-20T23:18:34.849Z"
   },
   {
    "duration": 3,
    "start_time": "2025-03-20T23:18:34.855Z"
   },
   {
    "duration": 16,
    "start_time": "2025-03-20T23:18:34.860Z"
   },
   {
    "duration": 6,
    "start_time": "2025-03-20T23:18:34.877Z"
   },
   {
    "duration": 42,
    "start_time": "2025-03-20T23:18:34.884Z"
   },
   {
    "duration": 412,
    "start_time": "2025-03-20T23:18:34.928Z"
   },
   {
    "duration": 13,
    "start_time": "2025-03-20T23:18:35.341Z"
   },
   {
    "duration": 118,
    "start_time": "2025-03-20T23:18:35.355Z"
   },
   {
    "duration": 2587,
    "start_time": "2025-03-20T23:18:35.474Z"
   },
   {
    "duration": 2,
    "start_time": "2025-03-20T23:18:38.063Z"
   },
   {
    "duration": 4,
    "start_time": "2025-03-20T23:18:38.066Z"
   },
   {
    "duration": 9,
    "start_time": "2025-03-20T23:18:38.072Z"
   },
   {
    "duration": 7,
    "start_time": "2025-03-20T23:18:38.083Z"
   },
   {
    "duration": 3,
    "start_time": "2025-03-20T23:18:38.092Z"
   },
   {
    "duration": 27,
    "start_time": "2025-03-20T23:18:38.097Z"
   },
   {
    "duration": 13,
    "start_time": "2025-03-20T23:18:38.127Z"
   },
   {
    "duration": 17,
    "start_time": "2025-03-20T23:18:38.142Z"
   },
   {
    "duration": 17,
    "start_time": "2025-03-20T23:18:38.161Z"
   },
   {
    "duration": 6,
    "start_time": "2025-03-20T23:18:38.183Z"
   },
   {
    "duration": 11,
    "start_time": "2025-03-20T23:18:38.190Z"
   },
   {
    "duration": 2,
    "start_time": "2025-03-20T23:18:38.227Z"
   },
   {
    "duration": 6,
    "start_time": "2025-03-20T23:18:38.231Z"
   },
   {
    "duration": 4,
    "start_time": "2025-03-20T23:18:38.238Z"
   },
   {
    "duration": 3,
    "start_time": "2025-03-20T23:18:38.244Z"
   },
   {
    "duration": 7,
    "start_time": "2025-03-20T23:18:38.251Z"
   },
   {
    "duration": 6,
    "start_time": "2025-03-20T23:18:38.260Z"
   },
   {
    "duration": 298,
    "start_time": "2025-03-20T23:18:38.267Z"
   },
   {
    "duration": 17,
    "start_time": "2025-03-20T23:18:38.567Z"
   },
   {
    "duration": 98,
    "start_time": "2025-03-20T23:18:38.586Z"
   },
   {
    "duration": 4,
    "start_time": "2025-03-20T23:18:38.686Z"
   },
   {
    "duration": 12,
    "start_time": "2025-03-20T23:18:38.692Z"
   },
   {
    "duration": 3,
    "start_time": "2025-03-20T23:18:38.705Z"
   },
   {
    "duration": 3,
    "start_time": "2025-03-20T23:18:38.723Z"
   },
   {
    "duration": 4,
    "start_time": "2025-03-20T23:18:38.728Z"
   },
   {
    "duration": 6,
    "start_time": "2025-03-20T23:18:38.733Z"
   },
   {
    "duration": 5,
    "start_time": "2025-03-20T23:18:38.740Z"
   },
   {
    "duration": 4,
    "start_time": "2025-03-20T23:18:38.747Z"
   },
   {
    "duration": 5,
    "start_time": "2025-03-20T23:18:38.752Z"
   },
   {
    "duration": 9,
    "start_time": "2025-03-20T23:18:38.759Z"
   },
   {
    "duration": 175,
    "start_time": "2025-03-20T23:18:38.769Z"
   },
   {
    "duration": 163,
    "start_time": "2025-03-20T23:18:38.946Z"
   },
   {
    "duration": 4,
    "start_time": "2025-03-20T23:18:39.110Z"
   },
   {
    "duration": 11,
    "start_time": "2025-03-20T23:18:39.116Z"
   },
   {
    "duration": 2,
    "start_time": "2025-03-20T23:18:39.129Z"
   },
   {
    "duration": 3,
    "start_time": "2025-03-20T23:18:39.133Z"
   },
   {
    "duration": 5,
    "start_time": "2025-03-20T23:18:39.138Z"
   },
   {
    "duration": 2,
    "start_time": "2025-03-20T23:18:39.145Z"
   },
   {
    "duration": 2,
    "start_time": "2025-03-20T23:18:39.150Z"
   },
   {
    "duration": 6,
    "start_time": "2025-03-20T23:18:39.154Z"
   },
   {
    "duration": 2,
    "start_time": "2025-03-20T23:18:39.162Z"
   },
   {
    "duration": 672,
    "start_time": "2025-03-20T23:18:39.167Z"
   },
   {
    "duration": 2,
    "start_time": "2025-03-20T23:18:39.841Z"
   },
   {
    "duration": 3,
    "start_time": "2025-03-20T23:18:39.845Z"
   },
   {
    "duration": 3,
    "start_time": "2025-03-20T23:18:39.850Z"
   },
   {
    "duration": 12,
    "start_time": "2025-03-20T23:18:39.855Z"
   },
   {
    "duration": 7,
    "start_time": "2025-03-20T23:18:39.869Z"
   },
   {
    "duration": 55,
    "start_time": "2025-03-20T23:18:39.878Z"
   },
   {
    "duration": 4,
    "start_time": "2025-03-20T23:18:39.935Z"
   },
   {
    "duration": 140,
    "start_time": "2025-03-20T23:18:39.940Z"
   },
   {
    "duration": 2,
    "start_time": "2025-03-20T23:18:40.082Z"
   },
   {
    "duration": 3,
    "start_time": "2025-03-20T23:18:40.086Z"
   },
   {
    "duration": 4,
    "start_time": "2025-03-20T23:18:40.090Z"
   },
   {
    "duration": 2,
    "start_time": "2025-03-20T23:18:40.096Z"
   },
   {
    "duration": 23,
    "start_time": "2025-03-20T23:18:40.100Z"
   },
   {
    "duration": 2,
    "start_time": "2025-03-20T23:18:40.126Z"
   },
   {
    "duration": 3,
    "start_time": "2025-03-20T23:18:40.130Z"
   },
   {
    "duration": 3,
    "start_time": "2025-03-20T23:18:40.134Z"
   },
   {
    "duration": 4,
    "start_time": "2025-03-20T23:18:40.139Z"
   },
   {
    "duration": 3,
    "start_time": "2025-03-20T23:18:40.144Z"
   },
   {
    "duration": 3,
    "start_time": "2025-03-20T23:18:40.149Z"
   },
   {
    "duration": 4,
    "start_time": "2025-03-20T23:18:40.153Z"
   },
   {
    "duration": 4,
    "start_time": "2025-03-20T23:18:40.158Z"
   },
   {
    "duration": 2,
    "start_time": "2025-03-20T23:18:40.172Z"
   },
   {
    "duration": 2,
    "start_time": "2025-03-20T23:18:40.176Z"
   },
   {
    "duration": 45,
    "start_time": "2025-03-20T23:18:40.180Z"
   },
   {
    "duration": 3,
    "start_time": "2025-03-20T23:18:40.227Z"
   },
   {
    "duration": 3,
    "start_time": "2025-03-20T23:18:40.232Z"
   },
   {
    "duration": 3,
    "start_time": "2025-03-20T23:18:40.237Z"
   },
   {
    "duration": 3,
    "start_time": "2025-03-20T23:18:40.241Z"
   },
   {
    "duration": 4,
    "start_time": "2025-03-20T23:18:40.246Z"
   },
   {
    "duration": 3,
    "start_time": "2025-03-20T23:18:40.251Z"
   },
   {
    "duration": 2,
    "start_time": "2025-03-20T23:18:40.256Z"
   },
   {
    "duration": 3,
    "start_time": "2025-03-20T23:18:40.260Z"
   },
   {
    "duration": 3,
    "start_time": "2025-03-20T23:18:40.265Z"
   },
   {
    "duration": 3,
    "start_time": "2025-03-20T23:18:40.269Z"
   },
   {
    "duration": 4,
    "start_time": "2025-03-20T23:18:40.274Z"
   },
   {
    "duration": 4,
    "start_time": "2025-03-20T23:18:40.279Z"
   },
   {
    "duration": 41,
    "start_time": "2025-03-20T23:18:40.284Z"
   },
   {
    "duration": 3,
    "start_time": "2025-03-20T23:18:40.326Z"
   },
   {
    "duration": 4,
    "start_time": "2025-03-20T23:18:40.330Z"
   },
   {
    "duration": 3,
    "start_time": "2025-03-20T23:18:40.335Z"
   },
   {
    "duration": 4,
    "start_time": "2025-03-20T23:18:40.339Z"
   },
   {
    "duration": 3,
    "start_time": "2025-03-20T23:18:40.344Z"
   },
   {
    "duration": 4,
    "start_time": "2025-03-20T23:18:40.349Z"
   },
   {
    "duration": 6,
    "start_time": "2025-03-20T23:18:40.354Z"
   },
   {
    "duration": 4,
    "start_time": "2025-03-20T23:18:40.361Z"
   },
   {
    "duration": 3,
    "start_time": "2025-03-20T23:18:40.366Z"
   },
   {
    "duration": 4,
    "start_time": "2025-03-20T23:18:40.371Z"
   },
   {
    "duration": 3,
    "start_time": "2025-03-20T23:18:40.378Z"
   },
   {
    "duration": 40,
    "start_time": "2025-03-20T23:18:40.383Z"
   },
   {
    "duration": 12,
    "start_time": "2025-03-20T23:18:40.425Z"
   },
   {
    "duration": 2,
    "start_time": "2025-03-20T23:18:40.441Z"
   },
   {
    "duration": 5,
    "start_time": "2025-03-20T23:18:40.444Z"
   },
   {
    "duration": 2,
    "start_time": "2025-03-20T23:18:40.450Z"
   },
   {
    "duration": 71,
    "start_time": "2025-03-20T23:18:40.455Z"
   },
   {
    "duration": 8,
    "start_time": "2025-03-20T23:18:40.527Z"
   },
   {
    "duration": 4,
    "start_time": "2025-03-20T23:18:40.537Z"
   },
   {
    "duration": 277,
    "start_time": "2025-03-20T23:18:40.544Z"
   },
   {
    "duration": 2,
    "start_time": "2025-03-20T23:18:40.823Z"
   },
   {
    "duration": 3,
    "start_time": "2025-03-20T23:18:40.827Z"
   },
   {
    "duration": 3,
    "start_time": "2025-03-20T23:18:40.832Z"
   },
   {
    "duration": 4,
    "start_time": "2025-03-20T23:18:40.836Z"
   },
   {
    "duration": 4,
    "start_time": "2025-03-20T23:18:40.841Z"
   },
   {
    "duration": 3,
    "start_time": "2025-03-20T23:18:40.847Z"
   },
   {
    "duration": 3,
    "start_time": "2025-03-20T23:18:40.852Z"
   },
   {
    "duration": 2,
    "start_time": "2025-03-20T23:18:40.857Z"
   },
   {
    "duration": 3,
    "start_time": "2025-03-20T23:18:40.861Z"
   },
   {
    "duration": 3,
    "start_time": "2025-03-20T23:18:40.866Z"
   },
   {
    "duration": 2,
    "start_time": "2025-03-20T23:18:40.871Z"
   },
   {
    "duration": 3,
    "start_time": "2025-03-20T23:18:40.875Z"
   },
   {
    "duration": 46,
    "start_time": "2025-03-20T23:18:40.879Z"
   },
   {
    "duration": 3,
    "start_time": "2025-03-20T23:18:40.926Z"
   },
   {
    "duration": 5,
    "start_time": "2025-03-20T23:18:40.930Z"
   },
   {
    "duration": 4,
    "start_time": "2025-03-20T23:18:40.936Z"
   },
   {
    "duration": 3,
    "start_time": "2025-03-20T23:18:40.943Z"
   },
   {
    "duration": 3,
    "start_time": "2025-03-20T23:18:40.947Z"
   },
   {
    "duration": 3,
    "start_time": "2025-03-20T23:18:40.952Z"
   },
   {
    "duration": 3,
    "start_time": "2025-03-20T23:18:40.956Z"
   },
   {
    "duration": 2,
    "start_time": "2025-03-20T23:18:40.961Z"
   },
   {
    "duration": 3,
    "start_time": "2025-03-20T23:18:40.965Z"
   },
   {
    "duration": 4,
    "start_time": "2025-03-20T23:18:40.969Z"
   },
   {
    "duration": 3,
    "start_time": "2025-03-20T23:18:40.975Z"
   },
   {
    "duration": 3,
    "start_time": "2025-03-20T23:18:41.103Z"
   },
   {
    "duration": 3,
    "start_time": "2025-03-20T23:18:41.107Z"
   },
   {
    "duration": 3,
    "start_time": "2025-03-20T23:18:41.123Z"
   },
   {
    "duration": 3,
    "start_time": "2025-03-20T23:18:41.128Z"
   },
   {
    "duration": 5,
    "start_time": "2025-03-20T23:18:41.132Z"
   },
   {
    "duration": 3,
    "start_time": "2025-03-20T23:18:41.139Z"
   },
   {
    "duration": 4,
    "start_time": "2025-03-20T23:18:41.144Z"
   },
   {
    "duration": 4,
    "start_time": "2025-03-20T23:18:41.149Z"
   },
   {
    "duration": 3,
    "start_time": "2025-03-20T23:18:41.154Z"
   },
   {
    "duration": 4,
    "start_time": "2025-03-20T23:18:41.158Z"
   },
   {
    "duration": 10,
    "start_time": "2025-03-20T23:18:41.163Z"
   },
   {
    "duration": 6,
    "start_time": "2025-03-20T23:18:41.175Z"
   },
   {
    "duration": 43,
    "start_time": "2025-03-20T23:18:41.183Z"
   },
   {
    "duration": 5,
    "start_time": "2025-03-20T23:18:41.227Z"
   },
   {
    "duration": 4,
    "start_time": "2025-03-20T23:18:41.234Z"
   },
   {
    "duration": 8,
    "start_time": "2025-03-20T23:18:41.240Z"
   },
   {
    "duration": 77,
    "start_time": "2025-03-20T23:18:41.250Z"
   },
   {
    "duration": 3,
    "start_time": "2025-03-20T23:18:41.329Z"
   },
   {
    "duration": 4,
    "start_time": "2025-03-20T23:18:41.333Z"
   },
   {
    "duration": 4,
    "start_time": "2025-03-20T23:18:41.338Z"
   },
   {
    "duration": 3,
    "start_time": "2025-03-20T23:18:41.344Z"
   },
   {
    "duration": 3,
    "start_time": "2025-03-20T23:18:41.349Z"
   },
   {
    "duration": 4,
    "start_time": "2025-03-20T23:18:41.353Z"
   },
   {
    "duration": 3,
    "start_time": "2025-03-20T23:18:41.359Z"
   },
   {
    "duration": 4,
    "start_time": "2025-03-20T23:18:41.364Z"
   },
   {
    "duration": 5,
    "start_time": "2025-03-20T23:18:41.369Z"
   },
   {
    "duration": 49,
    "start_time": "2025-03-20T23:18:41.376Z"
   },
   {
    "duration": 3,
    "start_time": "2025-03-20T23:18:41.427Z"
   },
   {
    "duration": 3,
    "start_time": "2025-03-20T23:18:41.431Z"
   },
   {
    "duration": 3,
    "start_time": "2025-03-20T23:18:41.436Z"
   },
   {
    "duration": 4,
    "start_time": "2025-03-20T23:18:41.440Z"
   },
   {
    "duration": 4,
    "start_time": "2025-03-20T23:18:41.445Z"
   },
   {
    "duration": 3,
    "start_time": "2025-03-20T23:18:41.450Z"
   },
   {
    "duration": 3,
    "start_time": "2025-03-20T23:18:41.455Z"
   },
   {
    "duration": 3,
    "start_time": "2025-03-20T23:18:41.460Z"
   },
   {
    "duration": 3,
    "start_time": "2025-03-20T23:18:41.465Z"
   },
   {
    "duration": 3,
    "start_time": "2025-03-20T23:18:41.470Z"
   },
   {
    "duration": 2,
    "start_time": "2025-03-20T23:18:41.476Z"
   },
   {
    "duration": 3,
    "start_time": "2025-03-20T23:18:41.479Z"
   },
   {
    "duration": 2,
    "start_time": "2025-03-20T23:18:41.525Z"
   },
   {
    "duration": 3,
    "start_time": "2025-03-20T23:18:41.529Z"
   },
   {
    "duration": 3,
    "start_time": "2025-03-20T23:18:41.534Z"
   },
   {
    "duration": 3,
    "start_time": "2025-03-20T23:18:41.538Z"
   },
   {
    "duration": 2,
    "start_time": "2025-03-20T23:18:41.543Z"
   },
   {
    "duration": 3,
    "start_time": "2025-03-20T23:18:41.547Z"
   },
   {
    "duration": 4,
    "start_time": "2025-03-20T23:18:41.552Z"
   },
   {
    "duration": 3,
    "start_time": "2025-03-20T23:18:41.558Z"
   },
   {
    "duration": 1165,
    "start_time": "2025-03-21T05:10:28.278Z"
   },
   {
    "duration": 4,
    "start_time": "2025-03-21T05:10:29.446Z"
   },
   {
    "duration": 12,
    "start_time": "2025-03-21T05:10:29.452Z"
   },
   {
    "duration": 3,
    "start_time": "2025-03-21T05:10:29.465Z"
   },
   {
    "duration": 11,
    "start_time": "2025-03-21T05:10:29.471Z"
   },
   {
    "duration": 6,
    "start_time": "2025-03-21T05:10:29.483Z"
   },
   {
    "duration": 9,
    "start_time": "2025-03-21T05:10:29.491Z"
   },
   {
    "duration": 2,
    "start_time": "2025-03-21T05:10:29.502Z"
   },
   {
    "duration": 4,
    "start_time": "2025-03-21T05:10:29.506Z"
   },
   {
    "duration": 5,
    "start_time": "2025-03-21T05:10:29.543Z"
   },
   {
    "duration": 5,
    "start_time": "2025-03-21T05:10:29.550Z"
   },
   {
    "duration": 16,
    "start_time": "2025-03-21T05:10:29.556Z"
   },
   {
    "duration": 6,
    "start_time": "2025-03-21T05:10:29.573Z"
   },
   {
    "duration": 3,
    "start_time": "2025-03-21T05:10:29.582Z"
   },
   {
    "duration": 446,
    "start_time": "2025-03-21T05:10:29.587Z"
   },
   {
    "duration": 15,
    "start_time": "2025-03-21T05:10:30.035Z"
   },
   {
    "duration": 112,
    "start_time": "2025-03-21T05:10:30.052Z"
   },
   {
    "duration": 2581,
    "start_time": "2025-03-21T05:10:30.166Z"
   },
   {
    "duration": 3,
    "start_time": "2025-03-21T05:10:32.749Z"
   },
   {
    "duration": 4,
    "start_time": "2025-03-21T05:10:32.754Z"
   },
   {
    "duration": 8,
    "start_time": "2025-03-21T05:10:32.760Z"
   },
   {
    "duration": 9,
    "start_time": "2025-03-21T05:10:32.769Z"
   },
   {
    "duration": 4,
    "start_time": "2025-03-21T05:10:32.779Z"
   },
   {
    "duration": 11,
    "start_time": "2025-03-21T05:10:32.784Z"
   },
   {
    "duration": 46,
    "start_time": "2025-03-21T05:10:32.797Z"
   },
   {
    "duration": 21,
    "start_time": "2025-03-21T05:10:32.845Z"
   },
   {
    "duration": 18,
    "start_time": "2025-03-21T05:10:32.868Z"
   },
   {
    "duration": 4,
    "start_time": "2025-03-21T05:10:32.887Z"
   },
   {
    "duration": 4,
    "start_time": "2025-03-21T05:10:32.893Z"
   },
   {
    "duration": 3,
    "start_time": "2025-03-21T05:10:32.898Z"
   },
   {
    "duration": 6,
    "start_time": "2025-03-21T05:10:32.902Z"
   },
   {
    "duration": 35,
    "start_time": "2025-03-21T05:10:32.910Z"
   },
   {
    "duration": 4,
    "start_time": "2025-03-21T05:10:32.946Z"
   },
   {
    "duration": 9,
    "start_time": "2025-03-21T05:10:32.952Z"
   },
   {
    "duration": 9,
    "start_time": "2025-03-21T05:10:32.963Z"
   },
   {
    "duration": 257,
    "start_time": "2025-03-21T05:10:32.974Z"
   },
   {
    "duration": 19,
    "start_time": "2025-03-21T05:10:33.243Z"
   },
   {
    "duration": 97,
    "start_time": "2025-03-21T05:10:33.263Z"
   },
   {
    "duration": 3,
    "start_time": "2025-03-21T05:10:33.362Z"
   },
   {
    "duration": 12,
    "start_time": "2025-03-21T05:10:33.367Z"
   },
   {
    "duration": 3,
    "start_time": "2025-03-21T05:10:33.385Z"
   },
   {
    "duration": 4,
    "start_time": "2025-03-21T05:10:33.389Z"
   },
   {
    "duration": 4,
    "start_time": "2025-03-21T05:10:33.394Z"
   },
   {
    "duration": 7,
    "start_time": "2025-03-21T05:10:33.399Z"
   },
   {
    "duration": 37,
    "start_time": "2025-03-21T05:10:33.408Z"
   },
   {
    "duration": 4,
    "start_time": "2025-03-21T05:10:33.447Z"
   },
   {
    "duration": 4,
    "start_time": "2025-03-21T05:10:33.452Z"
   },
   {
    "duration": 10,
    "start_time": "2025-03-21T05:10:33.458Z"
   },
   {
    "duration": 156,
    "start_time": "2025-03-21T05:10:33.470Z"
   },
   {
    "duration": 170,
    "start_time": "2025-03-21T05:10:33.628Z"
   },
   {
    "duration": 4,
    "start_time": "2025-03-21T05:10:33.799Z"
   },
   {
    "duration": 4,
    "start_time": "2025-03-21T05:10:33.805Z"
   },
   {
    "duration": 3,
    "start_time": "2025-03-21T05:10:33.811Z"
   },
   {
    "duration": 3,
    "start_time": "2025-03-21T05:10:33.816Z"
   },
   {
    "duration": 26,
    "start_time": "2025-03-21T05:10:33.820Z"
   },
   {
    "duration": 3,
    "start_time": "2025-03-21T05:10:33.848Z"
   },
   {
    "duration": 2,
    "start_time": "2025-03-21T05:10:33.853Z"
   },
   {
    "duration": 7,
    "start_time": "2025-03-21T05:10:33.857Z"
   },
   {
    "duration": 2,
    "start_time": "2025-03-21T05:10:33.866Z"
   },
   {
    "duration": 650,
    "start_time": "2025-03-21T05:10:33.870Z"
   },
   {
    "duration": 2,
    "start_time": "2025-03-21T05:10:34.522Z"
   },
   {
    "duration": 18,
    "start_time": "2025-03-21T05:10:34.526Z"
   },
   {
    "duration": 3,
    "start_time": "2025-03-21T05:10:34.546Z"
   },
   {
    "duration": 13,
    "start_time": "2025-03-21T05:10:34.551Z"
   },
   {
    "duration": 7,
    "start_time": "2025-03-21T05:10:34.565Z"
   },
   {
    "duration": 27,
    "start_time": "2025-03-21T05:10:34.573Z"
   },
   {
    "duration": 4,
    "start_time": "2025-03-21T05:10:34.601Z"
   },
   {
    "duration": 173,
    "start_time": "2025-03-21T05:10:34.607Z"
   },
   {
    "duration": 3,
    "start_time": "2025-03-21T05:10:34.782Z"
   },
   {
    "duration": 3,
    "start_time": "2025-03-21T05:10:34.787Z"
   },
   {
    "duration": 3,
    "start_time": "2025-03-21T05:10:34.792Z"
   },
   {
    "duration": 3,
    "start_time": "2025-03-21T05:10:34.797Z"
   },
   {
    "duration": 3,
    "start_time": "2025-03-21T05:10:34.801Z"
   },
   {
    "duration": 3,
    "start_time": "2025-03-21T05:10:34.806Z"
   },
   {
    "duration": 4,
    "start_time": "2025-03-21T05:10:34.810Z"
   },
   {
    "duration": 28,
    "start_time": "2025-03-21T05:10:34.815Z"
   },
   {
    "duration": 2,
    "start_time": "2025-03-21T05:10:34.845Z"
   },
   {
    "duration": 3,
    "start_time": "2025-03-21T05:10:34.849Z"
   },
   {
    "duration": 3,
    "start_time": "2025-03-21T05:10:34.854Z"
   },
   {
    "duration": 4,
    "start_time": "2025-03-21T05:10:34.858Z"
   },
   {
    "duration": 3,
    "start_time": "2025-03-21T05:10:34.863Z"
   },
   {
    "duration": 3,
    "start_time": "2025-03-21T05:10:34.868Z"
   },
   {
    "duration": 2,
    "start_time": "2025-03-21T05:10:34.873Z"
   },
   {
    "duration": 3,
    "start_time": "2025-03-21T05:10:34.877Z"
   },
   {
    "duration": 4,
    "start_time": "2025-03-21T05:10:34.881Z"
   },
   {
    "duration": 3,
    "start_time": "2025-03-21T05:10:34.887Z"
   },
   {
    "duration": 4,
    "start_time": "2025-03-21T05:10:34.891Z"
   },
   {
    "duration": 47,
    "start_time": "2025-03-21T05:10:34.896Z"
   },
   {
    "duration": 2,
    "start_time": "2025-03-21T05:10:34.944Z"
   },
   {
    "duration": 3,
    "start_time": "2025-03-21T05:10:34.948Z"
   },
   {
    "duration": 3,
    "start_time": "2025-03-21T05:10:34.952Z"
   },
   {
    "duration": 3,
    "start_time": "2025-03-21T05:10:34.957Z"
   },
   {
    "duration": 3,
    "start_time": "2025-03-21T05:10:34.961Z"
   },
   {
    "duration": 3,
    "start_time": "2025-03-21T05:10:34.966Z"
   },
   {
    "duration": 5,
    "start_time": "2025-03-21T05:10:34.970Z"
   },
   {
    "duration": 2,
    "start_time": "2025-03-21T05:10:34.977Z"
   },
   {
    "duration": 2,
    "start_time": "2025-03-21T05:10:34.981Z"
   },
   {
    "duration": 3,
    "start_time": "2025-03-21T05:10:34.985Z"
   },
   {
    "duration": 4,
    "start_time": "2025-03-21T05:10:34.989Z"
   },
   {
    "duration": 3,
    "start_time": "2025-03-21T05:10:34.994Z"
   },
   {
    "duration": 3,
    "start_time": "2025-03-21T05:10:35.042Z"
   },
   {
    "duration": 4,
    "start_time": "2025-03-21T05:10:35.046Z"
   },
   {
    "duration": 4,
    "start_time": "2025-03-21T05:10:35.051Z"
   },
   {
    "duration": 3,
    "start_time": "2025-03-21T05:10:35.057Z"
   },
   {
    "duration": 3,
    "start_time": "2025-03-21T05:10:35.062Z"
   },
   {
    "duration": 3,
    "start_time": "2025-03-21T05:10:35.066Z"
   },
   {
    "duration": 4,
    "start_time": "2025-03-21T05:10:35.071Z"
   },
   {
    "duration": 4,
    "start_time": "2025-03-21T05:10:35.076Z"
   },
   {
    "duration": 4,
    "start_time": "2025-03-21T05:10:35.081Z"
   },
   {
    "duration": 57,
    "start_time": "2025-03-21T05:10:35.087Z"
   },
   {
    "duration": 2,
    "start_time": "2025-03-21T05:10:35.145Z"
   },
   {
    "duration": 5,
    "start_time": "2025-03-21T05:10:35.149Z"
   },
   {
    "duration": 3,
    "start_time": "2025-03-21T05:10:35.155Z"
   },
   {
    "duration": 4,
    "start_time": "2025-03-21T05:10:35.160Z"
   },
   {
    "duration": 79,
    "start_time": "2025-03-21T05:10:35.166Z"
   },
   {
    "duration": 6,
    "start_time": "2025-03-21T05:10:35.248Z"
   },
   {
    "duration": 253,
    "start_time": "2025-03-21T05:10:35.257Z"
   },
   {
    "duration": 3,
    "start_time": "2025-03-21T05:10:35.512Z"
   },
   {
    "duration": 3,
    "start_time": "2025-03-21T05:10:35.517Z"
   },
   {
    "duration": 3,
    "start_time": "2025-03-21T05:10:35.522Z"
   },
   {
    "duration": 2,
    "start_time": "2025-03-21T05:10:35.543Z"
   },
   {
    "duration": 2,
    "start_time": "2025-03-21T05:10:35.643Z"
   },
   {
    "duration": 3,
    "start_time": "2025-03-21T05:10:35.647Z"
   },
   {
    "duration": 4,
    "start_time": "2025-03-21T05:10:35.651Z"
   },
   {
    "duration": 3,
    "start_time": "2025-03-21T05:10:35.657Z"
   },
   {
    "duration": 3,
    "start_time": "2025-03-21T05:10:35.662Z"
   },
   {
    "duration": 3,
    "start_time": "2025-03-21T05:10:35.666Z"
   },
   {
    "duration": 3,
    "start_time": "2025-03-21T05:10:35.671Z"
   },
   {
    "duration": 3,
    "start_time": "2025-03-21T05:10:35.675Z"
   },
   {
    "duration": 3,
    "start_time": "2025-03-21T05:10:35.680Z"
   },
   {
    "duration": 4,
    "start_time": "2025-03-21T05:10:35.684Z"
   },
   {
    "duration": 3,
    "start_time": "2025-03-21T05:10:35.690Z"
   },
   {
    "duration": 4,
    "start_time": "2025-03-21T05:10:35.694Z"
   },
   {
    "duration": 3,
    "start_time": "2025-03-21T05:10:35.699Z"
   },
   {
    "duration": 41,
    "start_time": "2025-03-21T05:10:35.703Z"
   },
   {
    "duration": 2,
    "start_time": "2025-03-21T05:10:35.746Z"
   },
   {
    "duration": 3,
    "start_time": "2025-03-21T05:10:35.750Z"
   },
   {
    "duration": 5,
    "start_time": "2025-03-21T05:10:35.755Z"
   },
   {
    "duration": 3,
    "start_time": "2025-03-21T05:10:35.761Z"
   },
   {
    "duration": 4,
    "start_time": "2025-03-21T05:10:35.766Z"
   },
   {
    "duration": 4,
    "start_time": "2025-03-21T05:10:35.771Z"
   },
   {
    "duration": 2,
    "start_time": "2025-03-21T05:10:35.778Z"
   },
   {
    "duration": 2,
    "start_time": "2025-03-21T05:10:35.782Z"
   },
   {
    "duration": 3,
    "start_time": "2025-03-21T05:10:35.786Z"
   },
   {
    "duration": 2,
    "start_time": "2025-03-21T05:10:35.792Z"
   },
   {
    "duration": 47,
    "start_time": "2025-03-21T05:10:35.797Z"
   },
   {
    "duration": 3,
    "start_time": "2025-03-21T05:10:35.846Z"
   },
   {
    "duration": 4,
    "start_time": "2025-03-21T05:10:35.850Z"
   },
   {
    "duration": 4,
    "start_time": "2025-03-21T05:10:35.855Z"
   },
   {
    "duration": 3,
    "start_time": "2025-03-21T05:10:35.861Z"
   },
   {
    "duration": 2,
    "start_time": "2025-03-21T05:10:35.866Z"
   },
   {
    "duration": 7,
    "start_time": "2025-03-21T05:10:35.870Z"
   },
   {
    "duration": 3,
    "start_time": "2025-03-21T05:10:35.878Z"
   },
   {
    "duration": 3,
    "start_time": "2025-03-21T05:10:35.883Z"
   },
   {
    "duration": 56,
    "start_time": "2025-03-21T05:10:35.892Z"
   },
   {
    "duration": 4,
    "start_time": "2025-03-21T05:10:35.949Z"
   },
   {
    "duration": 5,
    "start_time": "2025-03-21T05:10:35.955Z"
   },
   {
    "duration": 4,
    "start_time": "2025-03-21T05:10:35.962Z"
   },
   {
    "duration": 77,
    "start_time": "2025-03-21T05:10:35.968Z"
   },
   {
    "duration": 5,
    "start_time": "2025-03-21T05:10:36.046Z"
   },
   {
    "duration": 4,
    "start_time": "2025-03-21T05:10:36.052Z"
   },
   {
    "duration": 2,
    "start_time": "2025-03-21T05:10:36.058Z"
   },
   {
    "duration": 3,
    "start_time": "2025-03-21T05:10:36.062Z"
   },
   {
    "duration": 4,
    "start_time": "2025-03-21T05:10:36.067Z"
   },
   {
    "duration": 4,
    "start_time": "2025-03-21T05:10:36.072Z"
   },
   {
    "duration": 3,
    "start_time": "2025-03-21T05:10:36.077Z"
   },
   {
    "duration": 4,
    "start_time": "2025-03-21T05:10:36.082Z"
   },
   {
    "duration": 4,
    "start_time": "2025-03-21T05:10:36.087Z"
   },
   {
    "duration": 3,
    "start_time": "2025-03-21T05:10:36.093Z"
   },
   {
    "duration": 2,
    "start_time": "2025-03-21T05:10:36.143Z"
   },
   {
    "duration": 3,
    "start_time": "2025-03-21T05:10:36.147Z"
   },
   {
    "duration": 3,
    "start_time": "2025-03-21T05:10:36.151Z"
   },
   {
    "duration": 3,
    "start_time": "2025-03-21T05:10:36.156Z"
   },
   {
    "duration": 4,
    "start_time": "2025-03-21T05:10:36.160Z"
   },
   {
    "duration": 3,
    "start_time": "2025-03-21T05:10:36.165Z"
   },
   {
    "duration": 3,
    "start_time": "2025-03-21T05:10:36.170Z"
   },
   {
    "duration": 4,
    "start_time": "2025-03-21T05:10:36.174Z"
   },
   {
    "duration": 4,
    "start_time": "2025-03-21T05:10:36.179Z"
   },
   {
    "duration": 3,
    "start_time": "2025-03-21T05:10:36.184Z"
   },
   {
    "duration": 3,
    "start_time": "2025-03-21T05:10:36.189Z"
   },
   {
    "duration": 3,
    "start_time": "2025-03-21T05:10:36.194Z"
   },
   {
    "duration": 3,
    "start_time": "2025-03-21T05:10:36.199Z"
   },
   {
    "duration": 3,
    "start_time": "2025-03-21T05:10:36.247Z"
   },
   {
    "duration": 3,
    "start_time": "2025-03-21T05:10:36.252Z"
   },
   {
    "duration": 3,
    "start_time": "2025-03-21T05:10:36.257Z"
   },
   {
    "duration": 3,
    "start_time": "2025-03-21T05:10:36.261Z"
   },
   {
    "duration": 3,
    "start_time": "2025-03-21T05:10:36.266Z"
   },
   {
    "duration": 3,
    "start_time": "2025-03-21T05:10:36.271Z"
   },
   {
    "duration": 2690,
    "start_time": "2025-03-22T01:54:47.776Z"
   },
   {
    "duration": 3,
    "start_time": "2025-03-22T01:54:54.192Z"
   },
   {
    "duration": 13,
    "start_time": "2025-03-22T01:54:55.062Z"
   },
   {
    "duration": 3,
    "start_time": "2025-03-22T01:54:58.505Z"
   },
   {
    "duration": 12,
    "start_time": "2025-03-22T01:54:59.224Z"
   },
   {
    "duration": 7,
    "start_time": "2025-03-22T01:55:00.146Z"
   },
   {
    "duration": 9,
    "start_time": "2025-03-22T01:55:04.539Z"
   },
   {
    "duration": 2,
    "start_time": "2025-03-22T01:55:05.412Z"
   },
   {
    "duration": 2,
    "start_time": "2025-03-22T01:55:06.087Z"
   },
   {
    "duration": 5,
    "start_time": "2025-03-22T01:55:06.663Z"
   },
   {
    "duration": 4,
    "start_time": "2025-03-22T01:55:07.185Z"
   },
   {
    "duration": 19,
    "start_time": "2025-03-22T01:55:07.633Z"
   },
   {
    "duration": 6,
    "start_time": "2025-03-22T01:55:08.297Z"
   },
   {
    "duration": 3,
    "start_time": "2025-03-22T01:55:09.031Z"
   },
   {
    "duration": 483,
    "start_time": "2025-03-22T01:55:09.227Z"
   },
   {
    "duration": 16,
    "start_time": "2025-03-22T01:55:09.712Z"
   },
   {
    "duration": 105,
    "start_time": "2025-03-22T01:55:09.838Z"
   },
   {
    "duration": 2559,
    "start_time": "2025-03-22T01:55:10.834Z"
   },
   {
    "duration": 2,
    "start_time": "2025-03-22T01:55:13.395Z"
   },
   {
    "duration": 5,
    "start_time": "2025-03-22T01:55:13.399Z"
   },
   {
    "duration": 7,
    "start_time": "2025-03-22T01:55:13.406Z"
   },
   {
    "duration": 8,
    "start_time": "2025-03-22T01:55:13.460Z"
   },
   {
    "duration": 3,
    "start_time": "2025-03-22T01:55:14.493Z"
   },
   {
    "duration": 10,
    "start_time": "2025-03-22T01:55:14.721Z"
   },
   {
    "duration": 11,
    "start_time": "2025-03-22T01:55:14.968Z"
   },
   {
    "duration": 19,
    "start_time": "2025-03-22T01:55:15.591Z"
   },
   {
    "duration": 18,
    "start_time": "2025-03-22T01:55:15.826Z"
   },
   {
    "duration": 4,
    "start_time": "2025-03-22T01:55:17.172Z"
   },
   {
    "duration": 5,
    "start_time": "2025-03-22T01:55:17.402Z"
   },
   {
    "duration": 2,
    "start_time": "2025-03-22T01:55:17.631Z"
   },
   {
    "duration": 7,
    "start_time": "2025-03-22T01:55:17.850Z"
   },
   {
    "duration": 5,
    "start_time": "2025-03-22T01:55:18.102Z"
   },
   {
    "duration": 3,
    "start_time": "2025-03-22T01:55:19.536Z"
   },
   {
    "duration": 8,
    "start_time": "2025-03-22T01:55:19.752Z"
   },
   {
    "duration": 7,
    "start_time": "2025-03-22T01:55:19.946Z"
   },
   {
    "duration": 261,
    "start_time": "2025-03-22T01:55:21.835Z"
   },
   {
    "duration": 30,
    "start_time": "2025-03-22T01:55:22.098Z"
   },
   {
    "duration": 84,
    "start_time": "2025-03-22T01:55:23.127Z"
   },
   {
    "duration": 2,
    "start_time": "2025-03-22T01:55:23.370Z"
   },
   {
    "duration": 13,
    "start_time": "2025-03-22T01:55:23.609Z"
   },
   {
    "duration": 3,
    "start_time": "2025-03-22T01:55:26.828Z"
   },
   {
    "duration": 3,
    "start_time": "2025-03-22T01:55:27.215Z"
   },
   {
    "duration": 8,
    "start_time": "2025-03-22T01:55:27.724Z"
   },
   {
    "duration": 6,
    "start_time": "2025-03-22T01:55:28.244Z"
   },
   {
    "duration": 5,
    "start_time": "2025-03-22T01:55:28.866Z"
   },
   {
    "duration": 3,
    "start_time": "2025-03-22T01:55:30.873Z"
   },
   {
    "duration": 5,
    "start_time": "2025-03-22T01:55:31.336Z"
   },
   {
    "duration": 10,
    "start_time": "2025-03-22T01:55:34.441Z"
   },
   {
    "duration": 138,
    "start_time": "2025-03-22T01:55:34.954Z"
   },
   {
    "duration": 158,
    "start_time": "2025-03-22T01:55:38.272Z"
   },
   {
    "duration": 4,
    "start_time": "2025-03-22T01:55:48.830Z"
   },
   {
    "duration": 5,
    "start_time": "2025-03-22T01:55:49.370Z"
   },
   {
    "duration": 3,
    "start_time": "2025-03-22T01:55:50.123Z"
   },
   {
    "duration": 2,
    "start_time": "2025-03-22T01:55:50.761Z"
   },
   {
    "duration": 6,
    "start_time": "2025-03-22T01:55:52.509Z"
   },
   {
    "duration": 3,
    "start_time": "2025-03-22T01:55:53.030Z"
   },
   {
    "duration": 2,
    "start_time": "2025-03-22T01:55:53.624Z"
   },
   {
    "duration": 7,
    "start_time": "2025-03-22T01:55:54.166Z"
   },
   {
    "duration": 2,
    "start_time": "2025-03-22T01:55:56.165Z"
   },
   {
    "duration": 607,
    "start_time": "2025-03-22T02:00:56.905Z"
   },
   {
    "duration": 935,
    "start_time": "2025-03-22T02:03:09.362Z"
   },
   {
    "duration": 163,
    "start_time": "2025-03-22T02:03:29.421Z"
   },
   {
    "duration": 711,
    "start_time": "2025-03-22T02:04:34.601Z"
   },
   {
    "duration": 2,
    "start_time": "2025-03-22T02:04:35.588Z"
   },
   {
    "duration": 236,
    "start_time": "2025-03-22T02:04:37.591Z"
   },
   {
    "duration": 4,
    "start_time": "2025-03-22T02:06:34.657Z"
   },
   {
    "duration": 3,
    "start_time": "2025-03-22T02:06:35.337Z"
   },
   {
    "duration": 12,
    "start_time": "2025-03-22T02:06:36.757Z"
   },
   {
    "duration": 7,
    "start_time": "2025-03-22T02:06:37.212Z"
   },
   {
    "duration": 30,
    "start_time": "2025-03-22T02:06:37.966Z"
   },
   {
    "duration": 4,
    "start_time": "2025-03-22T02:06:38.704Z"
   },
   {
    "duration": 133,
    "start_time": "2025-03-22T02:06:39.305Z"
   },
   {
    "duration": 4,
    "start_time": "2025-03-22T02:06:51.872Z"
   },
   {
    "duration": 3,
    "start_time": "2025-03-22T02:06:52.607Z"
   },
   {
    "duration": 3,
    "start_time": "2025-03-22T02:06:53.134Z"
   },
   {
    "duration": 20,
    "start_time": "2025-03-22T02:06:53.851Z"
   },
   {
    "duration": 2,
    "start_time": "2025-03-22T02:06:55.520Z"
   },
   {
    "duration": 4,
    "start_time": "2025-03-22T02:06:56.149Z"
   },
   {
    "duration": 4,
    "start_time": "2025-03-22T02:06:57.540Z"
   },
   {
    "duration": 3,
    "start_time": "2025-03-22T02:06:58.079Z"
   },
   {
    "duration": 3,
    "start_time": "2025-03-22T02:06:58.518Z"
   },
   {
    "duration": 4,
    "start_time": "2025-03-22T02:06:59.091Z"
   },
   {
    "duration": 170,
    "start_time": "2025-03-22T02:07:03.510Z"
   },
   {
    "duration": 4,
    "start_time": "2025-03-22T02:08:45.165Z"
   },
   {
    "duration": 2,
    "start_time": "2025-03-22T02:08:46.045Z"
   },
   {
    "duration": 3,
    "start_time": "2025-03-22T02:08:47.754Z"
   },
   {
    "duration": 2,
    "start_time": "2025-03-22T02:08:49.289Z"
   },
   {
    "duration": 2,
    "start_time": "2025-03-22T02:08:49.844Z"
   },
   {
    "duration": 2,
    "start_time": "2025-03-22T02:08:50.354Z"
   },
   {
    "duration": 8,
    "start_time": "2025-03-22T02:08:50.997Z"
   },
   {
    "duration": 4,
    "start_time": "2025-03-22T02:08:58.024Z"
   },
   {
    "duration": 5,
    "start_time": "2025-03-22T02:08:58.526Z"
   },
   {
    "duration": 2,
    "start_time": "2025-03-22T02:08:59.120Z"
   },
   {
    "duration": 3,
    "start_time": "2025-03-22T02:09:00.656Z"
   },
   {
    "duration": 5,
    "start_time": "2025-03-22T02:09:01.195Z"
   },
   {
    "duration": 3,
    "start_time": "2025-03-22T02:09:01.972Z"
   },
   {
    "duration": 3,
    "start_time": "2025-03-22T03:59:20.213Z"
   },
   {
    "duration": 4,
    "start_time": "2025-03-22T03:59:21.206Z"
   },
   {
    "duration": 3,
    "start_time": "2025-03-22T03:59:21.911Z"
   },
   {
    "duration": 3,
    "start_time": "2025-03-22T03:59:22.481Z"
   },
   {
    "duration": 3,
    "start_time": "2025-03-22T03:59:23.022Z"
   },
   {
    "duration": 4,
    "start_time": "2025-03-22T03:59:23.942Z"
   },
   {
    "duration": 5,
    "start_time": "2025-03-22T03:59:24.750Z"
   },
   {
    "duration": 3,
    "start_time": "2025-03-22T03:59:25.454Z"
   },
   {
    "duration": 5,
    "start_time": "2025-03-22T03:59:27.894Z"
   },
   {
    "duration": 2,
    "start_time": "2025-03-22T03:59:57.134Z"
   },
   {
    "duration": 1084,
    "start_time": "2025-03-22T04:00:45.128Z"
   },
   {
    "duration": 11,
    "start_time": "2025-03-22T04:00:46.214Z"
   },
   {
    "duration": 8,
    "start_time": "2025-03-22T04:00:46.227Z"
   },
   {
    "duration": 3,
    "start_time": "2025-03-22T04:00:46.238Z"
   },
   {
    "duration": 13,
    "start_time": "2025-03-22T04:00:46.243Z"
   },
   {
    "duration": 6,
    "start_time": "2025-03-22T04:00:46.259Z"
   },
   {
    "duration": 9,
    "start_time": "2025-03-22T04:00:46.267Z"
   },
   {
    "duration": 2,
    "start_time": "2025-03-22T04:00:46.278Z"
   },
   {
    "duration": 5,
    "start_time": "2025-03-22T04:00:46.281Z"
   },
   {
    "duration": 36,
    "start_time": "2025-03-22T04:00:46.289Z"
   },
   {
    "duration": 4,
    "start_time": "2025-03-22T04:00:46.326Z"
   },
   {
    "duration": 17,
    "start_time": "2025-03-22T04:00:46.332Z"
   },
   {
    "duration": 5,
    "start_time": "2025-03-22T04:00:46.350Z"
   },
   {
    "duration": 4,
    "start_time": "2025-03-22T04:00:46.357Z"
   },
   {
    "duration": 430,
    "start_time": "2025-03-22T04:00:46.362Z"
   },
   {
    "duration": 10,
    "start_time": "2025-03-22T04:00:46.795Z"
   },
   {
    "duration": 126,
    "start_time": "2025-03-22T04:00:46.807Z"
   },
   {
    "duration": 2594,
    "start_time": "2025-03-22T04:00:46.934Z"
   },
   {
    "duration": 3,
    "start_time": "2025-03-22T04:00:49.530Z"
   },
   {
    "duration": 5,
    "start_time": "2025-03-22T04:00:49.534Z"
   },
   {
    "duration": 8,
    "start_time": "2025-03-22T04:00:49.540Z"
   },
   {
    "duration": 8,
    "start_time": "2025-03-22T04:00:49.550Z"
   },
   {
    "duration": 3,
    "start_time": "2025-03-22T04:00:49.560Z"
   },
   {
    "duration": 11,
    "start_time": "2025-03-22T04:00:49.564Z"
   },
   {
    "duration": 10,
    "start_time": "2025-03-22T04:00:49.577Z"
   },
   {
    "duration": 46,
    "start_time": "2025-03-22T04:00:49.589Z"
   },
   {
    "duration": 17,
    "start_time": "2025-03-22T04:00:49.637Z"
   },
   {
    "duration": 3,
    "start_time": "2025-03-22T04:00:49.659Z"
   },
   {
    "duration": 4,
    "start_time": "2025-03-22T04:00:49.664Z"
   },
   {
    "duration": 3,
    "start_time": "2025-03-22T04:00:49.670Z"
   },
   {
    "duration": 6,
    "start_time": "2025-03-22T04:00:49.674Z"
   },
   {
    "duration": 3,
    "start_time": "2025-03-22T04:00:49.682Z"
   },
   {
    "duration": 37,
    "start_time": "2025-03-22T04:00:49.687Z"
   },
   {
    "duration": 6,
    "start_time": "2025-03-22T04:00:49.726Z"
   },
   {
    "duration": 7,
    "start_time": "2025-03-22T04:00:49.733Z"
   },
   {
    "duration": 287,
    "start_time": "2025-03-22T04:00:49.742Z"
   },
   {
    "duration": 19,
    "start_time": "2025-03-22T04:00:50.030Z"
   },
   {
    "duration": 103,
    "start_time": "2025-03-22T04:00:50.050Z"
   },
   {
    "duration": 3,
    "start_time": "2025-03-22T04:00:50.154Z"
   },
   {
    "duration": 13,
    "start_time": "2025-03-22T04:00:50.159Z"
   },
   {
    "duration": 2,
    "start_time": "2025-03-22T04:00:50.174Z"
   },
   {
    "duration": 3,
    "start_time": "2025-03-22T04:00:50.178Z"
   },
   {
    "duration": 4,
    "start_time": "2025-03-22T04:00:50.183Z"
   },
   {
    "duration": 36,
    "start_time": "2025-03-22T04:00:50.188Z"
   },
   {
    "duration": 4,
    "start_time": "2025-03-22T04:00:50.227Z"
   },
   {
    "duration": 4,
    "start_time": "2025-03-22T04:00:50.233Z"
   },
   {
    "duration": 5,
    "start_time": "2025-03-22T04:00:50.238Z"
   },
   {
    "duration": 9,
    "start_time": "2025-03-22T04:00:50.245Z"
   },
   {
    "duration": 163,
    "start_time": "2025-03-22T04:00:50.255Z"
   },
   {
    "duration": 149,
    "start_time": "2025-03-22T04:00:50.424Z"
   },
   {
    "duration": 3,
    "start_time": "2025-03-22T04:00:50.575Z"
   },
   {
    "duration": 5,
    "start_time": "2025-03-22T04:00:50.580Z"
   },
   {
    "duration": 2,
    "start_time": "2025-03-22T04:00:50.587Z"
   },
   {
    "duration": 3,
    "start_time": "2025-03-22T04:00:50.590Z"
   },
   {
    "duration": 29,
    "start_time": "2025-03-22T04:00:50.595Z"
   },
   {
    "duration": 3,
    "start_time": "2025-03-22T04:00:50.625Z"
   },
   {
    "duration": 2,
    "start_time": "2025-03-22T04:00:50.630Z"
   },
   {
    "duration": 7,
    "start_time": "2025-03-22T04:00:50.634Z"
   },
   {
    "duration": 2,
    "start_time": "2025-03-22T04:00:50.643Z"
   },
   {
    "duration": 686,
    "start_time": "2025-03-22T04:00:50.647Z"
   },
   {
    "duration": 2,
    "start_time": "2025-03-22T04:00:51.335Z"
   },
   {
    "duration": 252,
    "start_time": "2025-03-22T04:00:51.339Z"
   },
   {
    "duration": 3,
    "start_time": "2025-03-22T04:00:51.594Z"
   },
   {
    "duration": 4,
    "start_time": "2025-03-22T04:00:51.598Z"
   },
   {
    "duration": 28,
    "start_time": "2025-03-22T04:00:51.603Z"
   },
   {
    "duration": 8,
    "start_time": "2025-03-22T04:00:51.632Z"
   },
   {
    "duration": 26,
    "start_time": "2025-03-22T04:00:51.642Z"
   },
   {
    "duration": 4,
    "start_time": "2025-03-22T04:00:51.670Z"
   },
   {
    "duration": 154,
    "start_time": "2025-03-22T04:00:51.675Z"
   },
   {
    "duration": 4,
    "start_time": "2025-03-22T04:00:51.831Z"
   },
   {
    "duration": 3,
    "start_time": "2025-03-22T04:00:51.836Z"
   },
   {
    "duration": 4,
    "start_time": "2025-03-22T04:00:51.841Z"
   },
   {
    "duration": 10,
    "start_time": "2025-03-22T04:00:51.846Z"
   },
   {
    "duration": 2,
    "start_time": "2025-03-22T04:00:51.858Z"
   },
   {
    "duration": 4,
    "start_time": "2025-03-22T04:00:51.861Z"
   },
   {
    "duration": 59,
    "start_time": "2025-03-22T04:00:51.867Z"
   },
   {
    "duration": 4,
    "start_time": "2025-03-22T04:00:51.928Z"
   },
   {
    "duration": 3,
    "start_time": "2025-03-22T04:00:51.933Z"
   },
   {
    "duration": 4,
    "start_time": "2025-03-22T04:00:51.938Z"
   },
   {
    "duration": 396,
    "start_time": "2025-03-22T04:00:51.943Z"
   },
   {
    "duration": 3,
    "start_time": "2025-03-22T04:00:52.342Z"
   },
   {
    "duration": 2,
    "start_time": "2025-03-22T04:00:52.352Z"
   },
   {
    "duration": 3,
    "start_time": "2025-03-22T04:00:52.356Z"
   },
   {
    "duration": 3,
    "start_time": "2025-03-22T04:00:52.361Z"
   },
   {
    "duration": 3,
    "start_time": "2025-03-22T04:00:52.365Z"
   },
   {
    "duration": 3,
    "start_time": "2025-03-22T04:00:52.370Z"
   },
   {
    "duration": 7,
    "start_time": "2025-03-22T04:00:52.374Z"
   },
   {
    "duration": 43,
    "start_time": "2025-03-22T04:00:52.382Z"
   },
   {
    "duration": 9,
    "start_time": "2025-03-22T04:00:52.427Z"
   },
   {
    "duration": 3,
    "start_time": "2025-03-22T04:00:52.438Z"
   },
   {
    "duration": 4,
    "start_time": "2025-03-22T04:00:52.442Z"
   },
   {
    "duration": 76,
    "start_time": "2025-03-22T04:00:52.447Z"
   },
   {
    "duration": 4,
    "start_time": "2025-03-22T04:00:52.527Z"
   },
   {
    "duration": 3,
    "start_time": "2025-03-22T04:00:52.533Z"
   },
   {
    "duration": 5,
    "start_time": "2025-03-22T04:00:52.537Z"
   },
   {
    "duration": 4,
    "start_time": "2025-03-22T04:00:52.543Z"
   },
   {
    "duration": 3,
    "start_time": "2025-03-22T04:00:52.549Z"
   },
   {
    "duration": 4,
    "start_time": "2025-03-22T04:00:52.553Z"
   },
   {
    "duration": 4,
    "start_time": "2025-03-22T04:00:52.558Z"
   },
   {
    "duration": 4,
    "start_time": "2025-03-22T04:00:52.564Z"
   },
   {
    "duration": 56,
    "start_time": "2025-03-22T04:00:52.569Z"
   },
   {
    "duration": 5,
    "start_time": "2025-03-22T04:00:52.627Z"
   },
   {
    "duration": 2,
    "start_time": "2025-03-22T04:00:52.633Z"
   }
  ],
  "kernelspec": {
   "display_name": "Python 3 (ipykernel)",
   "language": "python",
   "name": "python3"
  },
  "language_info": {
   "codemirror_mode": {
    "name": "ipython",
    "version": 3
   },
   "file_extension": ".py",
   "mimetype": "text/x-python",
   "name": "python",
   "nbconvert_exporter": "python",
   "pygments_lexer": "ipython3",
   "version": "3.12.7"
  },
  "toc": {
   "base_numbering": 1,
   "nav_menu": {},
   "number_sections": true,
   "sideBar": true,
   "skip_h1_title": true,
   "title_cell": "Table of Contents",
   "title_sidebar": "Contents",
   "toc_cell": false,
   "toc_position": {
    "height": "calc(100% - 180px)",
    "left": "10px",
    "top": "150px",
    "width": "241.6px"
   },
   "toc_section_display": true,
   "toc_window_display": true
  }
 },
 "nbformat": 4,
 "nbformat_minor": 5
}
