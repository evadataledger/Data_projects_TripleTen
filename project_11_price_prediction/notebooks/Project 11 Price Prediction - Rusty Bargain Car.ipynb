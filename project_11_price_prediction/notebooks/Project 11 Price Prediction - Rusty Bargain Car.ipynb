{
 "cells": [
  {
   "cell_type": "markdown",
   "metadata": {},
   "source": [
    "# Project 11: Price Prediction - Rusty Bargain Car "
   ]
  },
  {
   "cell_type": "markdown",
   "metadata": {},
   "source": [
    "🎯  **Project Goal**\n",
    "\n",
    "Predict used car prices based on historical data to help users estimate the market value of their vehicles quickly and accurately. "
   ]
  },
  {
   "cell_type": "markdown",
   "metadata": {},
   "source": [
    "Rusty Bargain used car sales service is developing an app to attract new customers. In that app, you can quickly find out the market value of your car. You have access to historical data: technical specifications, trim versions, and prices. You need to build the model to determine the value. \n",
    "\n",
    "Rusty Bargain is interested in:\n",
    "\n",
    "- the quality of the prediction;\n",
    "- the speed of the prediction;\n",
    "- the time required for training"
   ]
  },
  {
   "cell_type": "markdown",
   "metadata": {},
   "source": [
    "# Import the Standard, Model & Metrics Libraries"
   ]
  },
  {
   "cell_type": "code",
   "execution_count": 10,
   "metadata": {},
   "outputs": [],
   "source": [
    "# standard libraries\n",
    "import os\n",
    "import pandas as pd\n",
    "import numpy as np\n",
    "import matplotlib.pyplot as plt\n",
    "\n",
    "from lightgbm import LGBMRegressor\n",
    "from catboost import CatBoostRegressor\n",
    "from math import sqrt\n",
    "import time\n",
    "import joblib\n",
    "\n",
    "# modeling & metrics \n",
    "from sklearn.model_selection import train_test_split\n",
    "from sklearn.metrics import mean_squared_error\n",
    "from sklearn.linear_model import LinearRegression\n",
    "from sklearn.tree import DecisionTreeRegressor\n",
    "from sklearn.ensemble import RandomForestRegressor\n",
    "from sklearn.preprocessing import StandardScaler\n"
   ]
  },
  {
   "cell_type": "code",
   "execution_count": 16,
   "metadata": {},
   "outputs": [
    {
     "name": "stdout",
     "output_type": "stream",
     "text": [
      "C:\\Users\\Eva Brown\\github_projects_datasets_02\n"
     ]
    }
   ],
   "source": [
    "print(os.getcwd())"
   ]
  },
  {
   "cell_type": "markdown",
   "metadata": {},
   "source": [
    "## Data preparation"
   ]
  },
  {
   "cell_type": "markdown",
   "metadata": {},
   "source": [
    "*Goal*: Clean and explore the dataset to get it modeling ready. "
   ]
  },
  {
   "cell_type": "markdown",
   "metadata": {},
   "source": [
    "### **Load the Dataset (and display first few rows)**"
   ]
  },
  {
   "cell_type": "code",
   "execution_count": 26,
   "metadata": {},
   "outputs": [],
   "source": [
    "cars_data = pd.read_csv('datasets/car_data.csv')"
   ]
  },
  {
   "cell_type": "code",
   "execution_count": 28,
   "metadata": {},
   "outputs": [
    {
     "data": {
      "text/html": [
       "<div>\n",
       "<style scoped>\n",
       "    .dataframe tbody tr th:only-of-type {\n",
       "        vertical-align: middle;\n",
       "    }\n",
       "\n",
       "    .dataframe tbody tr th {\n",
       "        vertical-align: top;\n",
       "    }\n",
       "\n",
       "    .dataframe thead th {\n",
       "        text-align: right;\n",
       "    }\n",
       "</style>\n",
       "<table border=\"1\" class=\"dataframe\">\n",
       "  <thead>\n",
       "    <tr style=\"text-align: right;\">\n",
       "      <th></th>\n",
       "      <th>DateCrawled</th>\n",
       "      <th>Price</th>\n",
       "      <th>VehicleType</th>\n",
       "      <th>RegistrationYear</th>\n",
       "      <th>Gearbox</th>\n",
       "      <th>Power</th>\n",
       "      <th>Model</th>\n",
       "      <th>Mileage</th>\n",
       "      <th>RegistrationMonth</th>\n",
       "      <th>FuelType</th>\n",
       "      <th>Brand</th>\n",
       "      <th>NotRepaired</th>\n",
       "      <th>DateCreated</th>\n",
       "      <th>NumberOfPictures</th>\n",
       "      <th>PostalCode</th>\n",
       "      <th>LastSeen</th>\n",
       "    </tr>\n",
       "  </thead>\n",
       "  <tbody>\n",
       "    <tr>\n",
       "      <th>0</th>\n",
       "      <td>24/03/2016 11:52</td>\n",
       "      <td>480</td>\n",
       "      <td>NaN</td>\n",
       "      <td>1993</td>\n",
       "      <td>manual</td>\n",
       "      <td>0</td>\n",
       "      <td>golf</td>\n",
       "      <td>150000</td>\n",
       "      <td>0</td>\n",
       "      <td>petrol</td>\n",
       "      <td>volkswagen</td>\n",
       "      <td>NaN</td>\n",
       "      <td>24/03/2016 00:00</td>\n",
       "      <td>0</td>\n",
       "      <td>70435</td>\n",
       "      <td>07/04/2016 03:16</td>\n",
       "    </tr>\n",
       "    <tr>\n",
       "      <th>1</th>\n",
       "      <td>24/03/2016 10:58</td>\n",
       "      <td>18300</td>\n",
       "      <td>coupe</td>\n",
       "      <td>2011</td>\n",
       "      <td>manual</td>\n",
       "      <td>190</td>\n",
       "      <td>NaN</td>\n",
       "      <td>125000</td>\n",
       "      <td>5</td>\n",
       "      <td>gasoline</td>\n",
       "      <td>audi</td>\n",
       "      <td>yes</td>\n",
       "      <td>24/03/2016 00:00</td>\n",
       "      <td>0</td>\n",
       "      <td>66954</td>\n",
       "      <td>07/04/2016 01:46</td>\n",
       "    </tr>\n",
       "    <tr>\n",
       "      <th>2</th>\n",
       "      <td>14/03/2016 12:52</td>\n",
       "      <td>9800</td>\n",
       "      <td>suv</td>\n",
       "      <td>2004</td>\n",
       "      <td>auto</td>\n",
       "      <td>163</td>\n",
       "      <td>grand</td>\n",
       "      <td>125000</td>\n",
       "      <td>8</td>\n",
       "      <td>gasoline</td>\n",
       "      <td>jeep</td>\n",
       "      <td>NaN</td>\n",
       "      <td>14/03/2016 00:00</td>\n",
       "      <td>0</td>\n",
       "      <td>90480</td>\n",
       "      <td>05/04/2016 12:47</td>\n",
       "    </tr>\n",
       "    <tr>\n",
       "      <th>3</th>\n",
       "      <td>17/03/2016 16:54</td>\n",
       "      <td>1500</td>\n",
       "      <td>small</td>\n",
       "      <td>2001</td>\n",
       "      <td>manual</td>\n",
       "      <td>75</td>\n",
       "      <td>golf</td>\n",
       "      <td>150000</td>\n",
       "      <td>6</td>\n",
       "      <td>petrol</td>\n",
       "      <td>volkswagen</td>\n",
       "      <td>no</td>\n",
       "      <td>17/03/2016 00:00</td>\n",
       "      <td>0</td>\n",
       "      <td>91074</td>\n",
       "      <td>17/03/2016 17:40</td>\n",
       "    </tr>\n",
       "    <tr>\n",
       "      <th>4</th>\n",
       "      <td>31/03/2016 17:25</td>\n",
       "      <td>3600</td>\n",
       "      <td>small</td>\n",
       "      <td>2008</td>\n",
       "      <td>manual</td>\n",
       "      <td>69</td>\n",
       "      <td>fabia</td>\n",
       "      <td>90000</td>\n",
       "      <td>7</td>\n",
       "      <td>gasoline</td>\n",
       "      <td>skoda</td>\n",
       "      <td>no</td>\n",
       "      <td>31/03/2016 00:00</td>\n",
       "      <td>0</td>\n",
       "      <td>60437</td>\n",
       "      <td>06/04/2016 10:17</td>\n",
       "    </tr>\n",
       "  </tbody>\n",
       "</table>\n",
       "</div>"
      ],
      "text/plain": [
       "        DateCrawled  Price VehicleType  RegistrationYear Gearbox  Power  \\\n",
       "0  24/03/2016 11:52    480         NaN              1993  manual      0   \n",
       "1  24/03/2016 10:58  18300       coupe              2011  manual    190   \n",
       "2  14/03/2016 12:52   9800         suv              2004    auto    163   \n",
       "3  17/03/2016 16:54   1500       small              2001  manual     75   \n",
       "4  31/03/2016 17:25   3600       small              2008  manual     69   \n",
       "\n",
       "   Model  Mileage  RegistrationMonth  FuelType       Brand NotRepaired  \\\n",
       "0   golf   150000                  0    petrol  volkswagen         NaN   \n",
       "1    NaN   125000                  5  gasoline        audi         yes   \n",
       "2  grand   125000                  8  gasoline        jeep         NaN   \n",
       "3   golf   150000                  6    petrol  volkswagen          no   \n",
       "4  fabia    90000                  7  gasoline       skoda          no   \n",
       "\n",
       "        DateCreated  NumberOfPictures  PostalCode          LastSeen  \n",
       "0  24/03/2016 00:00                 0       70435  07/04/2016 03:16  \n",
       "1  24/03/2016 00:00                 0       66954  07/04/2016 01:46  \n",
       "2  14/03/2016 00:00                 0       90480  05/04/2016 12:47  \n",
       "3  17/03/2016 00:00                 0       91074  17/03/2016 17:40  \n",
       "4  31/03/2016 00:00                 0       60437  06/04/2016 10:17  "
      ]
     },
     "execution_count": 28,
     "metadata": {},
     "output_type": "execute_result"
    }
   ],
   "source": [
    "cars_data.head()"
   ]
  },
  {
   "cell_type": "code",
   "execution_count": 30,
   "metadata": {},
   "outputs": [
    {
     "data": {
      "text/plain": [
       "Index(['DateCrawled', 'Price', 'VehicleType', 'RegistrationYear', 'Gearbox',\n",
       "       'Power', 'Model', 'Mileage', 'RegistrationMonth', 'FuelType', 'Brand',\n",
       "       'NotRepaired', 'DateCreated', 'NumberOfPictures', 'PostalCode',\n",
       "       'LastSeen'],\n",
       "      dtype='object')"
      ]
     },
     "execution_count": 30,
     "metadata": {},
     "output_type": "execute_result"
    }
   ],
   "source": [
    "cars_data.columns"
   ]
  },
  {
   "cell_type": "code",
   "execution_count": 32,
   "metadata": {},
   "outputs": [],
   "source": [
    "# Version before changes.\n",
    "cars_data_backup = cars_data.copy()"
   ]
  },
  {
   "cell_type": "code",
   "execution_count": 34,
   "metadata": {},
   "outputs": [],
   "source": [
    "cars_data.columns = cars_data.columns.str.lower()"
   ]
  },
  {
   "cell_type": "code",
   "execution_count": 36,
   "metadata": {},
   "outputs": [
    {
     "data": {
      "text/plain": [
       "Index(['datecrawled', 'price', 'vehicletype', 'registrationyear', 'gearbox',\n",
       "       'power', 'model', 'mileage', 'registrationmonth', 'fueltype', 'brand',\n",
       "       'notrepaired', 'datecreated', 'numberofpictures', 'postalcode',\n",
       "       'lastseen'],\n",
       "      dtype='object')"
      ]
     },
     "execution_count": 36,
     "metadata": {},
     "output_type": "execute_result"
    }
   ],
   "source": [
    "cars_data.columns"
   ]
  },
  {
   "cell_type": "markdown",
   "metadata": {},
   "source": [
    "### **Check for Missing Values**"
   ]
  },
  {
   "cell_type": "code",
   "execution_count": 39,
   "metadata": {},
   "outputs": [
    {
     "name": "stdout",
     "output_type": "stream",
     "text": [
      "<class 'pandas.core.frame.DataFrame'>\n",
      "RangeIndex: 354369 entries, 0 to 354368\n",
      "Data columns (total 16 columns):\n",
      " #   Column             Non-Null Count   Dtype \n",
      "---  ------             --------------   ----- \n",
      " 0   datecrawled        354369 non-null  object\n",
      " 1   price              354369 non-null  int64 \n",
      " 2   vehicletype        316879 non-null  object\n",
      " 3   registrationyear   354369 non-null  int64 \n",
      " 4   gearbox            334536 non-null  object\n",
      " 5   power              354369 non-null  int64 \n",
      " 6   model              334664 non-null  object\n",
      " 7   mileage            354369 non-null  int64 \n",
      " 8   registrationmonth  354369 non-null  int64 \n",
      " 9   fueltype           321474 non-null  object\n",
      " 10  brand              354369 non-null  object\n",
      " 11  notrepaired        283215 non-null  object\n",
      " 12  datecreated        354369 non-null  object\n",
      " 13  numberofpictures   354369 non-null  int64 \n",
      " 14  postalcode         354369 non-null  int64 \n",
      " 15  lastseen           354369 non-null  object\n",
      "dtypes: int64(7), object(9)\n",
      "memory usage: 43.3+ MB\n"
     ]
    }
   ],
   "source": [
    "cars_data.info()"
   ]
  },
  {
   "cell_type": "code",
   "execution_count": 41,
   "metadata": {},
   "outputs": [
    {
     "data": {
      "text/plain": [
       "datecrawled              0\n",
       "price                    0\n",
       "vehicletype          37490\n",
       "registrationyear         0\n",
       "gearbox              19833\n",
       "power                    0\n",
       "model                19705\n",
       "mileage                  0\n",
       "registrationmonth        0\n",
       "fueltype             32895\n",
       "brand                    0\n",
       "notrepaired          71154\n",
       "datecreated              0\n",
       "numberofpictures         0\n",
       "postalcode               0\n",
       "lastseen                 0\n",
       "dtype: int64"
      ]
     },
     "execution_count": 41,
     "metadata": {},
     "output_type": "execute_result"
    }
   ],
   "source": [
    "# calculate missing values \n",
    "cars_data.isna().sum()"
   ]
  },
  {
   "cell_type": "code",
   "execution_count": 43,
   "metadata": {},
   "outputs": [],
   "source": [
    "# calculate total and percentage of missing values \n",
    "missing_total = cars_data.isna().sum()\n",
    "missing_percentage = (missing_total / len(cars_data)) * 100"
   ]
  },
  {
   "cell_type": "code",
   "execution_count": 45,
   "metadata": {},
   "outputs": [],
   "source": [
    "# missing values dataframe\n",
    "missing_df = pd.DataFrame({\n",
    "    'missing_values': missing_total, \n",
    "    \"percent_missing\": missing_percentage.round(2)\n",
    "})"
   ]
  },
  {
   "cell_type": "code",
   "execution_count": 47,
   "metadata": {},
   "outputs": [],
   "source": [
    "# add \"Notes\" (Categorical/Numerical)\n",
    "# use dtypes to assign a 'note'\n",
    "missing_df['notes'] = cars_data.dtypes.apply(\n",
    "lambda  dtype: 'categorical' if dtype == 'object' else 'numerical')"
   ]
  },
  {
   "cell_type": "code",
   "execution_count": 49,
   "metadata": {},
   "outputs": [],
   "source": [
    "# filter to show only columns with missing values \n",
    "missing_df  = missing_df[missing_df['missing_values'] > 0].sort_values(by='percent_missing', ascending=False)"
   ]
  },
  {
   "cell_type": "code",
   "execution_count": 51,
   "metadata": {},
   "outputs": [
    {
     "data": {
      "text/html": [
       "<div>\n",
       "<style scoped>\n",
       "    .dataframe tbody tr th:only-of-type {\n",
       "        vertical-align: middle;\n",
       "    }\n",
       "\n",
       "    .dataframe tbody tr th {\n",
       "        vertical-align: top;\n",
       "    }\n",
       "\n",
       "    .dataframe thead th {\n",
       "        text-align: right;\n",
       "    }\n",
       "</style>\n",
       "<table border=\"1\" class=\"dataframe\">\n",
       "  <thead>\n",
       "    <tr style=\"text-align: right;\">\n",
       "      <th></th>\n",
       "      <th>missing_values</th>\n",
       "      <th>percent_missing</th>\n",
       "      <th>notes</th>\n",
       "    </tr>\n",
       "  </thead>\n",
       "  <tbody>\n",
       "    <tr>\n",
       "      <th>notrepaired</th>\n",
       "      <td>71154</td>\n",
       "      <td>20.08</td>\n",
       "      <td>categorical</td>\n",
       "    </tr>\n",
       "    <tr>\n",
       "      <th>vehicletype</th>\n",
       "      <td>37490</td>\n",
       "      <td>10.58</td>\n",
       "      <td>categorical</td>\n",
       "    </tr>\n",
       "    <tr>\n",
       "      <th>fueltype</th>\n",
       "      <td>32895</td>\n",
       "      <td>9.28</td>\n",
       "      <td>categorical</td>\n",
       "    </tr>\n",
       "    <tr>\n",
       "      <th>gearbox</th>\n",
       "      <td>19833</td>\n",
       "      <td>5.60</td>\n",
       "      <td>categorical</td>\n",
       "    </tr>\n",
       "    <tr>\n",
       "      <th>model</th>\n",
       "      <td>19705</td>\n",
       "      <td>5.56</td>\n",
       "      <td>categorical</td>\n",
       "    </tr>\n",
       "  </tbody>\n",
       "</table>\n",
       "</div>"
      ],
      "text/plain": [
       "             missing_values  percent_missing        notes\n",
       "notrepaired           71154            20.08  categorical\n",
       "vehicletype           37490            10.58  categorical\n",
       "fueltype              32895             9.28  categorical\n",
       "gearbox               19833             5.60  categorical\n",
       "model                 19705             5.56  categorical"
      ]
     },
     "metadata": {},
     "output_type": "display_data"
    }
   ],
   "source": [
    "# display the missing_df table\n",
    "display(missing_df)"
   ]
  },
  {
   "cell_type": "markdown",
   "metadata": {},
   "source": [
    "### **Handle Missing Data & Analyze data types (catergorical, numerical)**"
   ]
  },
  {
   "cell_type": "code",
   "execution_count": 54,
   "metadata": {},
   "outputs": [],
   "source": [
    "# impute missing values in categorical columns with 'unknown', for now\n",
    "cols_to_impute = ['vehicletype', 'gearbox', 'model', 'fueltype', 'notrepaired']\n",
    "\n",
    "cars_data[cols_to_impute] = cars_data[cols_to_impute].fillna('unknown')"
   ]
  },
  {
   "cell_type": "code",
   "execution_count": 56,
   "metadata": {},
   "outputs": [
    {
     "name": "stdout",
     "output_type": "stream",
     "text": [
      "Columns exist: True\n"
     ]
    }
   ],
   "source": [
    "# Sanity Check on columns to impute\n",
    "print(\"Columns exist:\", all(col in cars_data.columns for col in cols_to_impute))"
   ]
  },
  {
   "cell_type": "code",
   "execution_count": 58,
   "metadata": {},
   "outputs": [
    {
     "name": "stdout",
     "output_type": "stream",
     "text": [
      "\n",
      " Column Data Types:\n",
      "vehicletype    object\n",
      "gearbox        object\n",
      "model          object\n",
      "fueltype       object\n",
      "notrepaired    object\n",
      "dtype: object\n"
     ]
    }
   ],
   "source": [
    "# check their data types\n",
    "print('\\n Column Data Types:')\n",
    "print(cars_data[cols_to_impute].dtypes)"
   ]
  },
  {
   "cell_type": "code",
   "execution_count": 60,
   "metadata": {},
   "outputs": [
    {
     "name": "stdout",
     "output_type": "stream",
     "text": [
      "\n",
      " Missing Values Remaining:\n",
      "vehicletype    0\n",
      "gearbox        0\n",
      "model          0\n",
      "fueltype       0\n",
      "notrepaired    0\n",
      "dtype: int64\n"
     ]
    }
   ],
   "source": [
    "# check missing values AFTER imputation\n",
    "print('\\n Missing Values Remaining:')\n",
    "print(cars_data[cols_to_impute].isna().sum())"
   ]
  },
  {
   "cell_type": "code",
   "execution_count": 62,
   "metadata": {},
   "outputs": [
    {
     "name": "stdout",
     "output_type": "stream",
     "text": [
      "\n",
      " Sample Values Check:\n",
      "\n",
      "vehicletype sample values:\n",
      "vehicletype\n",
      "sedan    91457\n",
      "small    79831\n",
      "wagon    65166\n",
      "Name: count, dtype: int64\n",
      "\n",
      "gearbox sample values:\n",
      "gearbox\n",
      "manual     268251\n",
      "auto        66285\n",
      "unknown     19833\n",
      "Name: count, dtype: int64\n",
      "\n",
      "model sample values:\n",
      "model\n",
      "golf     29232\n",
      "other    24421\n",
      "3er      19761\n",
      "Name: count, dtype: int64\n",
      "\n",
      "fueltype sample values:\n",
      "fueltype\n",
      "petrol      216352\n",
      "gasoline     98720\n",
      "unknown      32895\n",
      "Name: count, dtype: int64\n",
      "\n",
      "notrepaired sample values:\n",
      "notrepaired\n",
      "no         247161\n",
      "unknown     71154\n",
      "yes         36054\n",
      "Name: count, dtype: int64\n"
     ]
    }
   ],
   "source": [
    "#  Preview sample values to confirm 'unknown' was filled\n",
    "print(\"\\n Sample Values Check:\")\n",
    "for col in cols_to_impute:\n",
    "    print(f\"\\n{col} sample values:\")\n",
    "    print(cars_data[col].value_counts(dropna=False).head(3))"
   ]
  },
  {
   "cell_type": "code",
   "execution_count": 64,
   "metadata": {},
   "outputs": [
    {
     "name": "stdout",
     "output_type": "stream",
     "text": [
      "<class 'pandas.core.frame.DataFrame'>\n",
      "RangeIndex: 354369 entries, 0 to 354368\n",
      "Data columns (total 16 columns):\n",
      " #   Column             Non-Null Count   Dtype \n",
      "---  ------             --------------   ----- \n",
      " 0   datecrawled        354369 non-null  object\n",
      " 1   price              354369 non-null  int64 \n",
      " 2   vehicletype        354369 non-null  object\n",
      " 3   registrationyear   354369 non-null  int64 \n",
      " 4   gearbox            354369 non-null  object\n",
      " 5   power              354369 non-null  int64 \n",
      " 6   model              354369 non-null  object\n",
      " 7   mileage            354369 non-null  int64 \n",
      " 8   registrationmonth  354369 non-null  int64 \n",
      " 9   fueltype           354369 non-null  object\n",
      " 10  brand              354369 non-null  object\n",
      " 11  notrepaired        354369 non-null  object\n",
      " 12  datecreated        354369 non-null  object\n",
      " 13  numberofpictures   354369 non-null  int64 \n",
      " 14  postalcode         354369 non-null  int64 \n",
      " 15  lastseen           354369 non-null  object\n",
      "dtypes: int64(7), object(9)\n",
      "memory usage: 43.3+ MB\n"
     ]
    }
   ],
   "source": [
    "# sanity check post-imputation & Pre-encoding\n",
    "cars_data.info()"
   ]
  },
  {
   "cell_type": "code",
   "execution_count": 66,
   "metadata": {},
   "outputs": [],
   "source": [
    "# list of columns to drop\n",
    "cols_to_drop = ['datecrawled','datecreated', 'lastseen', 'numberofpictures', 'postalcode']\n",
    "\n",
    "# drop them in-place\n",
    "cars_data.drop(columns=cols_to_drop, inplace=True)"
   ]
  },
  {
   "cell_type": "code",
   "execution_count": 68,
   "metadata": {},
   "outputs": [
    {
     "name": "stdout",
     "output_type": "stream",
     "text": [
      "Remaining columns:\n",
      "Index(['price', 'vehicletype', 'registrationyear', 'gearbox', 'power', 'model',\n",
      "       'mileage', 'registrationmonth', 'fueltype', 'brand', 'notrepaired'],\n",
      "      dtype='object')\n"
     ]
    }
   ],
   "source": [
    "# sanity check\n",
    "print(\"Remaining columns:\")\n",
    "print(cars_data.columns)"
   ]
  },
  {
   "cell_type": "markdown",
   "metadata": {},
   "source": [
    "### **Encode categorical variables (as needed per model)**"
   ]
  },
  {
   "cell_type": "code",
   "execution_count": 71,
   "metadata": {},
   "outputs": [
    {
     "name": "stdout",
     "output_type": "stream",
     "text": [
      "Categorical columns: ['vehicletype', 'gearbox', 'model', 'fueltype', 'brand', 'notrepaired']\n"
     ]
    }
   ],
   "source": [
    "# identify categorical columns (still dtype ==object)\n",
    "categorical_cols = cars_data.select_dtypes(include='object').columns.tolist()\n",
    "print(\"Categorical columns:\", categorical_cols)"
   ]
  },
  {
   "cell_type": "code",
   "execution_count": 73,
   "metadata": {},
   "outputs": [],
   "source": [
    "# one-hot encoding (for linear models & XGBoost)\n",
    "cars_encoded = pd.get_dummies(cars_data, columns=categorical_cols, drop_first=True)"
   ]
  },
  {
   "cell_type": "code",
   "execution_count": 74,
   "metadata": {},
   "outputs": [
    {
     "name": "stdout",
     "output_type": "stream",
     "text": [
      "\n",
      "Encoded dataset shape: (354369, 313)\n"
     ]
    }
   ],
   "source": [
    "# sanity check\n",
    "print(\"\\nEncoded dataset shape:\", cars_encoded.shape)"
   ]
  },
  {
   "cell_type": "code",
   "execution_count": 77,
   "metadata": {},
   "outputs": [
    {
     "name": "stdout",
     "output_type": "stream",
     "text": [
      "All data types are now numeric: True\n"
     ]
    }
   ],
   "source": [
    "print(\"All data types are now numeric:\", all(cars_encoded.dtypes !='object'))"
   ]
  },
  {
   "cell_type": "markdown",
   "metadata": {},
   "source": [
    "### **Features selection and engineering (if applicable)**"
   ]
  },
  {
   "cell_type": "code",
   "execution_count": 80,
   "metadata": {},
   "outputs": [
    {
     "data": {
      "text/plain": [
       "Index(['price', 'vehicletype', 'registrationyear', 'gearbox', 'power', 'model',\n",
       "       'mileage', 'registrationmonth', 'fueltype', 'brand', 'notrepaired'],\n",
       "      dtype='object')"
      ]
     },
     "execution_count": 80,
     "metadata": {},
     "output_type": "execute_result"
    }
   ],
   "source": [
    "# sanity check\n",
    "cars_data.columns"
   ]
  },
  {
   "cell_type": "code",
   "execution_count": 82,
   "metadata": {},
   "outputs": [],
   "source": [
    "# build detailed summary table for visibility\n",
    "column_summary = pd.DataFrame({\n",
    "    'column': cars_data.columns,\n",
    "    'missing_count': cars_data.isnull().sum(),\n",
    "    'dtype': cars_data.dtypes.values,\n",
    "    'type': ['Categorical' if str(dt) == 'object' else 'Numerical' for dt in cars_data.dtypes]\n",
    "})"
   ]
  },
  {
   "cell_type": "code",
   "execution_count": 84,
   "metadata": {},
   "outputs": [],
   "source": [
    "# record columns for clarity\n",
    "column_summary = column_summary[['column', 'dtype', 'type', 'missing_count']]"
   ]
  },
  {
   "cell_type": "code",
   "execution_count": 86,
   "metadata": {},
   "outputs": [],
   "source": [
    "# sort by column type or missing values \n",
    "column_summary.sort_values(by='type', ascending=True, inplace=True)"
   ]
  },
  {
   "cell_type": "code",
   "execution_count": 88,
   "metadata": {},
   "outputs": [],
   "source": [
    "# include additional info like unique values\n",
    "column_summary['unique_values'] = cars_data.nunique().values"
   ]
  },
  {
   "cell_type": "code",
   "execution_count": 90,
   "metadata": {},
   "outputs": [
    {
     "data": {
      "text/html": [
       "<div>\n",
       "<style scoped>\n",
       "    .dataframe tbody tr th:only-of-type {\n",
       "        vertical-align: middle;\n",
       "    }\n",
       "\n",
       "    .dataframe tbody tr th {\n",
       "        vertical-align: top;\n",
       "    }\n",
       "\n",
       "    .dataframe thead th {\n",
       "        text-align: right;\n",
       "    }\n",
       "</style>\n",
       "<table border=\"1\" class=\"dataframe\">\n",
       "  <thead>\n",
       "    <tr style=\"text-align: right;\">\n",
       "      <th></th>\n",
       "      <th>column</th>\n",
       "      <th>dtype</th>\n",
       "      <th>type</th>\n",
       "      <th>missing_count</th>\n",
       "      <th>unique_values</th>\n",
       "    </tr>\n",
       "  </thead>\n",
       "  <tbody>\n",
       "    <tr>\n",
       "      <th>vehicletype</th>\n",
       "      <td>vehicletype</td>\n",
       "      <td>object</td>\n",
       "      <td>Categorical</td>\n",
       "      <td>0</td>\n",
       "      <td>3731</td>\n",
       "    </tr>\n",
       "    <tr>\n",
       "      <th>gearbox</th>\n",
       "      <td>gearbox</td>\n",
       "      <td>object</td>\n",
       "      <td>Categorical</td>\n",
       "      <td>0</td>\n",
       "      <td>9</td>\n",
       "    </tr>\n",
       "    <tr>\n",
       "      <th>model</th>\n",
       "      <td>model</td>\n",
       "      <td>object</td>\n",
       "      <td>Categorical</td>\n",
       "      <td>0</td>\n",
       "      <td>151</td>\n",
       "    </tr>\n",
       "    <tr>\n",
       "      <th>fueltype</th>\n",
       "      <td>fueltype</td>\n",
       "      <td>object</td>\n",
       "      <td>Categorical</td>\n",
       "      <td>0</td>\n",
       "      <td>3</td>\n",
       "    </tr>\n",
       "    <tr>\n",
       "      <th>brand</th>\n",
       "      <td>brand</td>\n",
       "      <td>object</td>\n",
       "      <td>Categorical</td>\n",
       "      <td>0</td>\n",
       "      <td>712</td>\n",
       "    </tr>\n",
       "    <tr>\n",
       "      <th>notrepaired</th>\n",
       "      <td>notrepaired</td>\n",
       "      <td>object</td>\n",
       "      <td>Categorical</td>\n",
       "      <td>0</td>\n",
       "      <td>251</td>\n",
       "    </tr>\n",
       "    <tr>\n",
       "      <th>price</th>\n",
       "      <td>price</td>\n",
       "      <td>int64</td>\n",
       "      <td>Numerical</td>\n",
       "      <td>0</td>\n",
       "      <td>13</td>\n",
       "    </tr>\n",
       "    <tr>\n",
       "      <th>registrationyear</th>\n",
       "      <td>registrationyear</td>\n",
       "      <td>int64</td>\n",
       "      <td>Numerical</td>\n",
       "      <td>0</td>\n",
       "      <td>13</td>\n",
       "    </tr>\n",
       "    <tr>\n",
       "      <th>power</th>\n",
       "      <td>power</td>\n",
       "      <td>int64</td>\n",
       "      <td>Numerical</td>\n",
       "      <td>0</td>\n",
       "      <td>8</td>\n",
       "    </tr>\n",
       "    <tr>\n",
       "      <th>mileage</th>\n",
       "      <td>mileage</td>\n",
       "      <td>int64</td>\n",
       "      <td>Numerical</td>\n",
       "      <td>0</td>\n",
       "      <td>40</td>\n",
       "    </tr>\n",
       "    <tr>\n",
       "      <th>registrationmonth</th>\n",
       "      <td>registrationmonth</td>\n",
       "      <td>int64</td>\n",
       "      <td>Numerical</td>\n",
       "      <td>0</td>\n",
       "      <td>3</td>\n",
       "    </tr>\n",
       "  </tbody>\n",
       "</table>\n",
       "</div>"
      ],
      "text/plain": [
       "                              column   dtype         type  missing_count  \\\n",
       "vehicletype              vehicletype  object  Categorical              0   \n",
       "gearbox                      gearbox  object  Categorical              0   \n",
       "model                          model  object  Categorical              0   \n",
       "fueltype                    fueltype  object  Categorical              0   \n",
       "brand                          brand  object  Categorical              0   \n",
       "notrepaired              notrepaired  object  Categorical              0   \n",
       "price                          price   int64    Numerical              0   \n",
       "registrationyear    registrationyear   int64    Numerical              0   \n",
       "power                          power   int64    Numerical              0   \n",
       "mileage                      mileage   int64    Numerical              0   \n",
       "registrationmonth  registrationmonth   int64    Numerical              0   \n",
       "\n",
       "                   unique_values  \n",
       "vehicletype                 3731  \n",
       "gearbox                        9  \n",
       "model                        151  \n",
       "fueltype                       3  \n",
       "brand                        712  \n",
       "notrepaired                  251  \n",
       "price                         13  \n",
       "registrationyear              13  \n",
       "power                          8  \n",
       "mileage                       40  \n",
       "registrationmonth              3  "
      ]
     },
     "metadata": {},
     "output_type": "display_data"
    }
   ],
   "source": [
    "# display the table\n",
    "display(column_summary)"
   ]
  },
  {
   "cell_type": "code",
   "execution_count": 92,
   "metadata": {},
   "outputs": [],
   "source": [
    "# save the summary  for reference\n",
    "column_summary.to_csv(\"column_summary.csv\", index=False)"
   ]
  },
  {
   "cell_type": "markdown",
   "metadata": {},
   "source": [
    "### **Split data into features and target (Price)**"
   ]
  },
  {
   "cell_type": "markdown",
   "metadata": {},
   "source": [
    "**What's the Goal?\"**\n",
    "We want to split the dataset into: \n",
    "\n",
    "**Target (y)**: The variable we want to predict\n",
    "\n",
    "    🎯 y = cars_data['price']\n",
    "\n",
    "\n",
    "**Features (X): All other columns used to predict price**\n",
    "\n",
    "    🧩 X = all features except 'price'"
   ]
  },
  {
   "cell_type": "code",
   "execution_count": 96,
   "metadata": {},
   "outputs": [],
   "source": [
    "# features variable\n",
    "y = cars_encoded['price']"
   ]
  },
  {
   "cell_type": "code",
   "execution_count": 98,
   "metadata": {},
   "outputs": [],
   "source": [
    "# target variable\n",
    "X = cars_encoded.drop('price', axis=1)"
   ]
  },
  {
   "cell_type": "code",
   "execution_count": 100,
   "metadata": {},
   "outputs": [
    {
     "data": {
      "text/plain": [
       "(354369, 312)"
      ]
     },
     "execution_count": 100,
     "metadata": {},
     "output_type": "execute_result"
    }
   ],
   "source": [
    "# sanity check\n",
    "X.shape "
   ]
  },
  {
   "cell_type": "code",
   "execution_count": 102,
   "metadata": {},
   "outputs": [
    {
     "data": {
      "text/plain": [
       "(354369,)"
      ]
     },
     "execution_count": 102,
     "metadata": {},
     "output_type": "execute_result"
    }
   ],
   "source": [
    "# sanity check\n",
    "y.shape"
   ]
  },
  {
   "cell_type": "markdown",
   "metadata": {},
   "source": [
    "### **Create train-test split**"
   ]
  },
  {
   "cell_type": "markdown",
   "metadata": {},
   "source": [
    "Prepare the machine learning model for success by giving it a training set to learn from, and a test set to evaluate how well it performs on unseen data. "
   ]
  },
  {
   "cell_type": "code",
   "execution_count": 106,
   "metadata": {},
   "outputs": [],
   "source": [
    "# split the features and target into training and testing set (75%/25%) \n",
    "X_train, X_test, y_train, y_test = train_test_split(X, y, test_size=0.25, random_state=42)"
   ]
  },
  {
   "cell_type": "code",
   "execution_count": 107,
   "metadata": {},
   "outputs": [
    {
     "name": "stdout",
     "output_type": "stream",
     "text": [
      "Training set size: (265776, 312)\n",
      "Test set size: (88593, 312)\n"
     ]
    }
   ],
   "source": [
    "# sanity check\n",
    "print(\"Training set size:\", X_train.shape)\n",
    "print(\"Test set size:\", X_test.shape)"
   ]
  },
  {
   "cell_type": "code",
   "execution_count": 110,
   "metadata": {},
   "outputs": [],
   "source": [
    "# ensure both sets maintain the same distribution of prices\n",
    "# stratify=y # Not applicable for regression"
   ]
  },
  {
   "cell_type": "markdown",
   "metadata": {},
   "source": [
    "**Analysis**\n",
    "\n",
    "The data is split, and the train-test split looks perfectly balanced like all good ML model should be:\n",
    "- Training Set: 265,776 rows for the model to learn from.\n",
    "- Test Set: 88,593 row to test how smart the model became. \n",
    "\n",
    "This is perfectly balance because: \n",
    "\n",
    "- Using the majority (75%) for training - plenty for the model to learn patterns\n",
    "- Holding back a solid 25% as unseen data — enough for an honest evaluation of model performance.\n",
    "- The random splitting (with random_state=42) ensures the distribution of data (e.g., high/low prices, different car types) is preserved across both sets."
   ]
  },
  {
   "cell_type": "markdown",
   "metadata": {},
   "source": [
    "### **Data Cleansing & Preparation Notes**"
   ]
  },
  {
   "cell_type": "markdown",
   "metadata": {},
   "source": [
    "#### Data Cleaning and Preprocessing Summary"
   ]
  },
  {
   "cell_type": "markdown",
   "metadata": {},
   "source": [
    "**Column Name Formatting**\n",
    "- All column names were converted to lowercase for consistency.\n",
    "- Kept column names without underscores to improve readability and prevent isues with overformatting"
   ]
  },
  {
   "cell_type": "markdown",
   "metadata": {},
   "source": [
    "**Missing Values**\n",
    "\n",
    "*Columns*: \n",
    "- vehicletype, missing values: 37,490\n",
    "- gearbox, missing values: 19,833\n",
    "- model, missing values: 19,705\n",
    "- fueltype, missing values: 32,895\n",
    "- notrepaired\tmissing values: 71,154\n",
    "\n",
    "All columns filled with 'unknown'. Decision Rationale: Unused 'unknown' instead of stopping rows to preserve valuable data and prevent reducing the training set. This appraoch works well with three-based models and gradient boosting, which can dale categorical \"unknowns.\""
   ]
  },
  {
   "cell_type": "markdown",
   "metadata": {},
   "source": [
    "**Categorical Encoding**\n",
    "- Used one-hot encoding for all categorical features (e.g., brad_audi, gearbox_auto, etc.)\n",
    "- Preserved 'price' as the target variable and excluded it from the encoded feature matrix X."
   ]
  },
  {
   "cell_type": "markdown",
   "metadata": {},
   "source": [
    "**Columns Dropped  (Irrelevant or Metadata)**\n",
    "\n",
    "Dropped Column: \n",
    "\n",
    "- datecrawled, Reason: Metadata, not useful for modeling\n",
    "- datecreated, Reason: Metadata\n",
    "- lastseen, Reason: Metadata\n",
    "- numberofpictures, Reason: Contains all 0s\n",
    "- postalcode, Reason: Unique per user; no predictive power"
   ]
  },
  {
   "cell_type": "markdown",
   "metadata": {},
   "source": [
    "**Features & Target Split**\n",
    "- Target variable: 'price'\n",
    "- Feature matrix (X): all other columns exclusing 'price'"
   ]
  },
  {
   "cell_type": "markdown",
   "metadata": {},
   "source": [
    "**Train-Test Split**\n",
    "- Used 'train_test_split(); with 'test_size=0.25' and 'random_state=42'\n",
    "- Training set: 265,776 rows\n",
    "- Test set: 88,593 rows\n",
    "- This provides a balanced, fair evaluation structure. "
   ]
  },
  {
   "cell_type": "markdown",
   "metadata": {},
   "source": [
    "## Model training"
   ]
  },
  {
   "cell_type": "markdown",
   "metadata": {},
   "source": [
    "*Goal*: Train at least 3 models with hyperparameter tuning. "
   ]
  },
  {
   "cell_type": "markdown",
   "metadata": {},
   "source": [
    "### **Linear Regression (as a baseline sanity check)**\n"
   ]
  },
  {
   "cell_type": "markdown",
   "metadata": {},
   "source": [
    "**Goal:** Use Linear Regression to set a performance baseline for comparison. If any model performs worse than this one, something is wrong."
   ]
  },
  {
   "cell_type": "code",
   "execution_count": 125,
   "metadata": {},
   "outputs": [
    {
     "name": "stdout",
     "output_type": "stream",
     "text": [
      "price                  int64\n",
      "registrationyear       int64\n",
      "power                  int64\n",
      "mileage                int64\n",
      "registrationmonth      int64\n",
      "                       ...  \n",
      "brand_trabant           bool\n",
      "brand_volkswagen        bool\n",
      "brand_volvo             bool\n",
      "notrepaired_unknown     bool\n",
      "notrepaired_yes         bool\n",
      "Length: 313, dtype: object\n"
     ]
    }
   ],
   "source": [
    "print(cars_encoded.dtypes)"
   ]
  },
  {
   "cell_type": "code",
   "execution_count": 127,
   "metadata": {},
   "outputs": [],
   "source": [
    "# Start a timer (optional) to track how long it takes using %time or time()\n",
    "start_time = time.time()"
   ]
  },
  {
   "cell_type": "code",
   "execution_count": 129,
   "metadata": {},
   "outputs": [
    {
     "data": {
      "text/html": [
       "<style>#sk-container-id-1 {\n",
       "  /* Definition of color scheme common for light and dark mode */\n",
       "  --sklearn-color-text: black;\n",
       "  --sklearn-color-line: gray;\n",
       "  /* Definition of color scheme for unfitted estimators */\n",
       "  --sklearn-color-unfitted-level-0: #fff5e6;\n",
       "  --sklearn-color-unfitted-level-1: #f6e4d2;\n",
       "  --sklearn-color-unfitted-level-2: #ffe0b3;\n",
       "  --sklearn-color-unfitted-level-3: chocolate;\n",
       "  /* Definition of color scheme for fitted estimators */\n",
       "  --sklearn-color-fitted-level-0: #f0f8ff;\n",
       "  --sklearn-color-fitted-level-1: #d4ebff;\n",
       "  --sklearn-color-fitted-level-2: #b3dbfd;\n",
       "  --sklearn-color-fitted-level-3: cornflowerblue;\n",
       "\n",
       "  /* Specific color for light theme */\n",
       "  --sklearn-color-text-on-default-background: var(--sg-text-color, var(--theme-code-foreground, var(--jp-content-font-color1, black)));\n",
       "  --sklearn-color-background: var(--sg-background-color, var(--theme-background, var(--jp-layout-color0, white)));\n",
       "  --sklearn-color-border-box: var(--sg-text-color, var(--theme-code-foreground, var(--jp-content-font-color1, black)));\n",
       "  --sklearn-color-icon: #696969;\n",
       "\n",
       "  @media (prefers-color-scheme: dark) {\n",
       "    /* Redefinition of color scheme for dark theme */\n",
       "    --sklearn-color-text-on-default-background: var(--sg-text-color, var(--theme-code-foreground, var(--jp-content-font-color1, white)));\n",
       "    --sklearn-color-background: var(--sg-background-color, var(--theme-background, var(--jp-layout-color0, #111)));\n",
       "    --sklearn-color-border-box: var(--sg-text-color, var(--theme-code-foreground, var(--jp-content-font-color1, white)));\n",
       "    --sklearn-color-icon: #878787;\n",
       "  }\n",
       "}\n",
       "\n",
       "#sk-container-id-1 {\n",
       "  color: var(--sklearn-color-text);\n",
       "}\n",
       "\n",
       "#sk-container-id-1 pre {\n",
       "  padding: 0;\n",
       "}\n",
       "\n",
       "#sk-container-id-1 input.sk-hidden--visually {\n",
       "  border: 0;\n",
       "  clip: rect(1px 1px 1px 1px);\n",
       "  clip: rect(1px, 1px, 1px, 1px);\n",
       "  height: 1px;\n",
       "  margin: -1px;\n",
       "  overflow: hidden;\n",
       "  padding: 0;\n",
       "  position: absolute;\n",
       "  width: 1px;\n",
       "}\n",
       "\n",
       "#sk-container-id-1 div.sk-dashed-wrapped {\n",
       "  border: 1px dashed var(--sklearn-color-line);\n",
       "  margin: 0 0.4em 0.5em 0.4em;\n",
       "  box-sizing: border-box;\n",
       "  padding-bottom: 0.4em;\n",
       "  background-color: var(--sklearn-color-background);\n",
       "}\n",
       "\n",
       "#sk-container-id-1 div.sk-container {\n",
       "  /* jupyter's `normalize.less` sets `[hidden] { display: none; }`\n",
       "     but bootstrap.min.css set `[hidden] { display: none !important; }`\n",
       "     so we also need the `!important` here to be able to override the\n",
       "     default hidden behavior on the sphinx rendered scikit-learn.org.\n",
       "     See: https://github.com/scikit-learn/scikit-learn/issues/21755 */\n",
       "  display: inline-block !important;\n",
       "  position: relative;\n",
       "}\n",
       "\n",
       "#sk-container-id-1 div.sk-text-repr-fallback {\n",
       "  display: none;\n",
       "}\n",
       "\n",
       "div.sk-parallel-item,\n",
       "div.sk-serial,\n",
       "div.sk-item {\n",
       "  /* draw centered vertical line to link estimators */\n",
       "  background-image: linear-gradient(var(--sklearn-color-text-on-default-background), var(--sklearn-color-text-on-default-background));\n",
       "  background-size: 2px 100%;\n",
       "  background-repeat: no-repeat;\n",
       "  background-position: center center;\n",
       "}\n",
       "\n",
       "/* Parallel-specific style estimator block */\n",
       "\n",
       "#sk-container-id-1 div.sk-parallel-item::after {\n",
       "  content: \"\";\n",
       "  width: 100%;\n",
       "  border-bottom: 2px solid var(--sklearn-color-text-on-default-background);\n",
       "  flex-grow: 1;\n",
       "}\n",
       "\n",
       "#sk-container-id-1 div.sk-parallel {\n",
       "  display: flex;\n",
       "  align-items: stretch;\n",
       "  justify-content: center;\n",
       "  background-color: var(--sklearn-color-background);\n",
       "  position: relative;\n",
       "}\n",
       "\n",
       "#sk-container-id-1 div.sk-parallel-item {\n",
       "  display: flex;\n",
       "  flex-direction: column;\n",
       "}\n",
       "\n",
       "#sk-container-id-1 div.sk-parallel-item:first-child::after {\n",
       "  align-self: flex-end;\n",
       "  width: 50%;\n",
       "}\n",
       "\n",
       "#sk-container-id-1 div.sk-parallel-item:last-child::after {\n",
       "  align-self: flex-start;\n",
       "  width: 50%;\n",
       "}\n",
       "\n",
       "#sk-container-id-1 div.sk-parallel-item:only-child::after {\n",
       "  width: 0;\n",
       "}\n",
       "\n",
       "/* Serial-specific style estimator block */\n",
       "\n",
       "#sk-container-id-1 div.sk-serial {\n",
       "  display: flex;\n",
       "  flex-direction: column;\n",
       "  align-items: center;\n",
       "  background-color: var(--sklearn-color-background);\n",
       "  padding-right: 1em;\n",
       "  padding-left: 1em;\n",
       "}\n",
       "\n",
       "\n",
       "/* Toggleable style: style used for estimator/Pipeline/ColumnTransformer box that is\n",
       "clickable and can be expanded/collapsed.\n",
       "- Pipeline and ColumnTransformer use this feature and define the default style\n",
       "- Estimators will overwrite some part of the style using the `sk-estimator` class\n",
       "*/\n",
       "\n",
       "/* Pipeline and ColumnTransformer style (default) */\n",
       "\n",
       "#sk-container-id-1 div.sk-toggleable {\n",
       "  /* Default theme specific background. It is overwritten whether we have a\n",
       "  specific estimator or a Pipeline/ColumnTransformer */\n",
       "  background-color: var(--sklearn-color-background);\n",
       "}\n",
       "\n",
       "/* Toggleable label */\n",
       "#sk-container-id-1 label.sk-toggleable__label {\n",
       "  cursor: pointer;\n",
       "  display: block;\n",
       "  width: 100%;\n",
       "  margin-bottom: 0;\n",
       "  padding: 0.5em;\n",
       "  box-sizing: border-box;\n",
       "  text-align: center;\n",
       "}\n",
       "\n",
       "#sk-container-id-1 label.sk-toggleable__label-arrow:before {\n",
       "  /* Arrow on the left of the label */\n",
       "  content: \"▸\";\n",
       "  float: left;\n",
       "  margin-right: 0.25em;\n",
       "  color: var(--sklearn-color-icon);\n",
       "}\n",
       "\n",
       "#sk-container-id-1 label.sk-toggleable__label-arrow:hover:before {\n",
       "  color: var(--sklearn-color-text);\n",
       "}\n",
       "\n",
       "/* Toggleable content - dropdown */\n",
       "\n",
       "#sk-container-id-1 div.sk-toggleable__content {\n",
       "  max-height: 0;\n",
       "  max-width: 0;\n",
       "  overflow: hidden;\n",
       "  text-align: left;\n",
       "  /* unfitted */\n",
       "  background-color: var(--sklearn-color-unfitted-level-0);\n",
       "}\n",
       "\n",
       "#sk-container-id-1 div.sk-toggleable__content.fitted {\n",
       "  /* fitted */\n",
       "  background-color: var(--sklearn-color-fitted-level-0);\n",
       "}\n",
       "\n",
       "#sk-container-id-1 div.sk-toggleable__content pre {\n",
       "  margin: 0.2em;\n",
       "  border-radius: 0.25em;\n",
       "  color: var(--sklearn-color-text);\n",
       "  /* unfitted */\n",
       "  background-color: var(--sklearn-color-unfitted-level-0);\n",
       "}\n",
       "\n",
       "#sk-container-id-1 div.sk-toggleable__content.fitted pre {\n",
       "  /* unfitted */\n",
       "  background-color: var(--sklearn-color-fitted-level-0);\n",
       "}\n",
       "\n",
       "#sk-container-id-1 input.sk-toggleable__control:checked~div.sk-toggleable__content {\n",
       "  /* Expand drop-down */\n",
       "  max-height: 200px;\n",
       "  max-width: 100%;\n",
       "  overflow: auto;\n",
       "}\n",
       "\n",
       "#sk-container-id-1 input.sk-toggleable__control:checked~label.sk-toggleable__label-arrow:before {\n",
       "  content: \"▾\";\n",
       "}\n",
       "\n",
       "/* Pipeline/ColumnTransformer-specific style */\n",
       "\n",
       "#sk-container-id-1 div.sk-label input.sk-toggleable__control:checked~label.sk-toggleable__label {\n",
       "  color: var(--sklearn-color-text);\n",
       "  background-color: var(--sklearn-color-unfitted-level-2);\n",
       "}\n",
       "\n",
       "#sk-container-id-1 div.sk-label.fitted input.sk-toggleable__control:checked~label.sk-toggleable__label {\n",
       "  background-color: var(--sklearn-color-fitted-level-2);\n",
       "}\n",
       "\n",
       "/* Estimator-specific style */\n",
       "\n",
       "/* Colorize estimator box */\n",
       "#sk-container-id-1 div.sk-estimator input.sk-toggleable__control:checked~label.sk-toggleable__label {\n",
       "  /* unfitted */\n",
       "  background-color: var(--sklearn-color-unfitted-level-2);\n",
       "}\n",
       "\n",
       "#sk-container-id-1 div.sk-estimator.fitted input.sk-toggleable__control:checked~label.sk-toggleable__label {\n",
       "  /* fitted */\n",
       "  background-color: var(--sklearn-color-fitted-level-2);\n",
       "}\n",
       "\n",
       "#sk-container-id-1 div.sk-label label.sk-toggleable__label,\n",
       "#sk-container-id-1 div.sk-label label {\n",
       "  /* The background is the default theme color */\n",
       "  color: var(--sklearn-color-text-on-default-background);\n",
       "}\n",
       "\n",
       "/* On hover, darken the color of the background */\n",
       "#sk-container-id-1 div.sk-label:hover label.sk-toggleable__label {\n",
       "  color: var(--sklearn-color-text);\n",
       "  background-color: var(--sklearn-color-unfitted-level-2);\n",
       "}\n",
       "\n",
       "/* Label box, darken color on hover, fitted */\n",
       "#sk-container-id-1 div.sk-label.fitted:hover label.sk-toggleable__label.fitted {\n",
       "  color: var(--sklearn-color-text);\n",
       "  background-color: var(--sklearn-color-fitted-level-2);\n",
       "}\n",
       "\n",
       "/* Estimator label */\n",
       "\n",
       "#sk-container-id-1 div.sk-label label {\n",
       "  font-family: monospace;\n",
       "  font-weight: bold;\n",
       "  display: inline-block;\n",
       "  line-height: 1.2em;\n",
       "}\n",
       "\n",
       "#sk-container-id-1 div.sk-label-container {\n",
       "  text-align: center;\n",
       "}\n",
       "\n",
       "/* Estimator-specific */\n",
       "#sk-container-id-1 div.sk-estimator {\n",
       "  font-family: monospace;\n",
       "  border: 1px dotted var(--sklearn-color-border-box);\n",
       "  border-radius: 0.25em;\n",
       "  box-sizing: border-box;\n",
       "  margin-bottom: 0.5em;\n",
       "  /* unfitted */\n",
       "  background-color: var(--sklearn-color-unfitted-level-0);\n",
       "}\n",
       "\n",
       "#sk-container-id-1 div.sk-estimator.fitted {\n",
       "  /* fitted */\n",
       "  background-color: var(--sklearn-color-fitted-level-0);\n",
       "}\n",
       "\n",
       "/* on hover */\n",
       "#sk-container-id-1 div.sk-estimator:hover {\n",
       "  /* unfitted */\n",
       "  background-color: var(--sklearn-color-unfitted-level-2);\n",
       "}\n",
       "\n",
       "#sk-container-id-1 div.sk-estimator.fitted:hover {\n",
       "  /* fitted */\n",
       "  background-color: var(--sklearn-color-fitted-level-2);\n",
       "}\n",
       "\n",
       "/* Specification for estimator info (e.g. \"i\" and \"?\") */\n",
       "\n",
       "/* Common style for \"i\" and \"?\" */\n",
       "\n",
       ".sk-estimator-doc-link,\n",
       "a:link.sk-estimator-doc-link,\n",
       "a:visited.sk-estimator-doc-link {\n",
       "  float: right;\n",
       "  font-size: smaller;\n",
       "  line-height: 1em;\n",
       "  font-family: monospace;\n",
       "  background-color: var(--sklearn-color-background);\n",
       "  border-radius: 1em;\n",
       "  height: 1em;\n",
       "  width: 1em;\n",
       "  text-decoration: none !important;\n",
       "  margin-left: 1ex;\n",
       "  /* unfitted */\n",
       "  border: var(--sklearn-color-unfitted-level-1) 1pt solid;\n",
       "  color: var(--sklearn-color-unfitted-level-1);\n",
       "}\n",
       "\n",
       ".sk-estimator-doc-link.fitted,\n",
       "a:link.sk-estimator-doc-link.fitted,\n",
       "a:visited.sk-estimator-doc-link.fitted {\n",
       "  /* fitted */\n",
       "  border: var(--sklearn-color-fitted-level-1) 1pt solid;\n",
       "  color: var(--sklearn-color-fitted-level-1);\n",
       "}\n",
       "\n",
       "/* On hover */\n",
       "div.sk-estimator:hover .sk-estimator-doc-link:hover,\n",
       ".sk-estimator-doc-link:hover,\n",
       "div.sk-label-container:hover .sk-estimator-doc-link:hover,\n",
       ".sk-estimator-doc-link:hover {\n",
       "  /* unfitted */\n",
       "  background-color: var(--sklearn-color-unfitted-level-3);\n",
       "  color: var(--sklearn-color-background);\n",
       "  text-decoration: none;\n",
       "}\n",
       "\n",
       "div.sk-estimator.fitted:hover .sk-estimator-doc-link.fitted:hover,\n",
       ".sk-estimator-doc-link.fitted:hover,\n",
       "div.sk-label-container:hover .sk-estimator-doc-link.fitted:hover,\n",
       ".sk-estimator-doc-link.fitted:hover {\n",
       "  /* fitted */\n",
       "  background-color: var(--sklearn-color-fitted-level-3);\n",
       "  color: var(--sklearn-color-background);\n",
       "  text-decoration: none;\n",
       "}\n",
       "\n",
       "/* Span, style for the box shown on hovering the info icon */\n",
       ".sk-estimator-doc-link span {\n",
       "  display: none;\n",
       "  z-index: 9999;\n",
       "  position: relative;\n",
       "  font-weight: normal;\n",
       "  right: .2ex;\n",
       "  padding: .5ex;\n",
       "  margin: .5ex;\n",
       "  width: min-content;\n",
       "  min-width: 20ex;\n",
       "  max-width: 50ex;\n",
       "  color: var(--sklearn-color-text);\n",
       "  box-shadow: 2pt 2pt 4pt #999;\n",
       "  /* unfitted */\n",
       "  background: var(--sklearn-color-unfitted-level-0);\n",
       "  border: .5pt solid var(--sklearn-color-unfitted-level-3);\n",
       "}\n",
       "\n",
       ".sk-estimator-doc-link.fitted span {\n",
       "  /* fitted */\n",
       "  background: var(--sklearn-color-fitted-level-0);\n",
       "  border: var(--sklearn-color-fitted-level-3);\n",
       "}\n",
       "\n",
       ".sk-estimator-doc-link:hover span {\n",
       "  display: block;\n",
       "}\n",
       "\n",
       "/* \"?\"-specific style due to the `<a>` HTML tag */\n",
       "\n",
       "#sk-container-id-1 a.estimator_doc_link {\n",
       "  float: right;\n",
       "  font-size: 1rem;\n",
       "  line-height: 1em;\n",
       "  font-family: monospace;\n",
       "  background-color: var(--sklearn-color-background);\n",
       "  border-radius: 1rem;\n",
       "  height: 1rem;\n",
       "  width: 1rem;\n",
       "  text-decoration: none;\n",
       "  /* unfitted */\n",
       "  color: var(--sklearn-color-unfitted-level-1);\n",
       "  border: var(--sklearn-color-unfitted-level-1) 1pt solid;\n",
       "}\n",
       "\n",
       "#sk-container-id-1 a.estimator_doc_link.fitted {\n",
       "  /* fitted */\n",
       "  border: var(--sklearn-color-fitted-level-1) 1pt solid;\n",
       "  color: var(--sklearn-color-fitted-level-1);\n",
       "}\n",
       "\n",
       "/* On hover */\n",
       "#sk-container-id-1 a.estimator_doc_link:hover {\n",
       "  /* unfitted */\n",
       "  background-color: var(--sklearn-color-unfitted-level-3);\n",
       "  color: var(--sklearn-color-background);\n",
       "  text-decoration: none;\n",
       "}\n",
       "\n",
       "#sk-container-id-1 a.estimator_doc_link.fitted:hover {\n",
       "  /* fitted */\n",
       "  background-color: var(--sklearn-color-fitted-level-3);\n",
       "}\n",
       "</style><div id=\"sk-container-id-1\" class=\"sk-top-container\"><div class=\"sk-text-repr-fallback\"><pre>LinearRegression()</pre><b>In a Jupyter environment, please rerun this cell to show the HTML representation or trust the notebook. <br />On GitHub, the HTML representation is unable to render, please try loading this page with nbviewer.org.</b></div><div class=\"sk-container\" hidden><div class=\"sk-item\"><div class=\"sk-estimator fitted sk-toggleable\"><input class=\"sk-toggleable__control sk-hidden--visually\" id=\"sk-estimator-id-1\" type=\"checkbox\" checked><label for=\"sk-estimator-id-1\" class=\"sk-toggleable__label fitted sk-toggleable__label-arrow fitted\">&nbsp;&nbsp;LinearRegression<a class=\"sk-estimator-doc-link fitted\" rel=\"noreferrer\" target=\"_blank\" href=\"https://scikit-learn.org/1.5/modules/generated/sklearn.linear_model.LinearRegression.html\">?<span>Documentation for LinearRegression</span></a><span class=\"sk-estimator-doc-link fitted\">i<span>Fitted</span></span></label><div class=\"sk-toggleable__content fitted\"><pre>LinearRegression()</pre></div> </div></div></div></div>"
      ],
      "text/plain": [
       "LinearRegression()"
      ]
     },
     "execution_count": 129,
     "metadata": {},
     "output_type": "execute_result"
    }
   ],
   "source": [
    "# train Linear Regression\n",
    "lr_model = LinearRegression()\n",
    "lr_model.fit(X_train, y_train)"
   ]
  },
  {
   "cell_type": "code",
   "execution_count": 130,
   "metadata": {},
   "outputs": [
    {
     "name": "stdout",
     "output_type": "stream",
     "text": [
      "Training time: 8.51 seconds\n"
     ]
    }
   ],
   "source": [
    "end_time = time.time()\n",
    "print(f\"Training time: {end_time - start_time:.2f} seconds\")"
   ]
  },
  {
   "cell_type": "code",
   "execution_count": 131,
   "metadata": {},
   "outputs": [],
   "source": [
    "# predict\n",
    "y_pred_train = lr_model.predict(X_train)\n",
    "y_pred_test = lr_model.predict(X_test)"
   ]
  },
  {
   "cell_type": "code",
   "execution_count": 132,
   "metadata": {},
   "outputs": [],
   "source": [
    "# evaluate with RMSE\n",
    "rmse_train = sqrt(mean_squared_error(y_train, y_pred_train))\n",
    "rmse_test = sqrt(mean_squared_error(y_test, y_pred_test))"
   ]
  },
  {
   "cell_type": "code",
   "execution_count": 133,
   "metadata": {},
   "outputs": [
    {
     "name": "stdout",
     "output_type": "stream",
     "text": [
      "Linear Regression Performance:\n",
      "Training RMSE: 3159.38\n",
      "Testing RMSE: 3200.34\n",
      "Training time: 8.51 seconds\n"
     ]
    }
   ],
   "source": [
    "# print results\n",
    "print(\"Linear Regression Performance:\")\n",
    "print(f\"Training RMSE: {rmse_train:.2f}\")\n",
    "print(f\"Testing RMSE: {rmse_test:.2f}\")\n",
    "print(f\"Training time: {end_time - start_time:.2f} seconds\")"
   ]
  },
  {
   "cell_type": "markdown",
   "metadata": {},
   "source": [
    "**Linear Regression - Results Analysis**\n",
    "\n",
    "- **Metric**: Training RMS \n",
    "- **Value**: 3159.38\n",
    "- **Interpretation**: The average error on the training data. Fairly low - that's good.\n",
    "\n",
    "\n",
    "- **Metric**: Testing RMS \n",
    "- **Value**: 3200.34\n",
    "- **Interpretation**: Pretty clsoe to training error - no major overfitting, model generalizes well. \n",
    "\n",
    "\n",
    "- **Metric**: Training Time\n",
    "- **Value**: 13.43 sec\n",
    "- **Interpretation**: Super fast, as expected from Linear Regression."
   ]
  },
  {
   "cell_type": "markdown",
   "metadata": {},
   "source": [
    "*Baseline RSME*: \"Linear Repression baseline RMSE: 3159 (Train) / 3200 (Test)"
   ]
  },
  {
   "cell_type": "markdown",
   "metadata": {},
   "source": [
    "### **Decision Tree (with hyperparameter tuning)**\n"
   ]
  },
  {
   "cell_type": "code",
   "execution_count": 142,
   "metadata": {},
   "outputs": [],
   "source": [
    "# track training time \n",
    "start_time = time.time()"
   ]
  },
  {
   "cell_type": "code",
   "execution_count": 144,
   "metadata": {},
   "outputs": [
    {
     "data": {
      "text/html": [
       "<style>#sk-container-id-2 {\n",
       "  /* Definition of color scheme common for light and dark mode */\n",
       "  --sklearn-color-text: black;\n",
       "  --sklearn-color-line: gray;\n",
       "  /* Definition of color scheme for unfitted estimators */\n",
       "  --sklearn-color-unfitted-level-0: #fff5e6;\n",
       "  --sklearn-color-unfitted-level-1: #f6e4d2;\n",
       "  --sklearn-color-unfitted-level-2: #ffe0b3;\n",
       "  --sklearn-color-unfitted-level-3: chocolate;\n",
       "  /* Definition of color scheme for fitted estimators */\n",
       "  --sklearn-color-fitted-level-0: #f0f8ff;\n",
       "  --sklearn-color-fitted-level-1: #d4ebff;\n",
       "  --sklearn-color-fitted-level-2: #b3dbfd;\n",
       "  --sklearn-color-fitted-level-3: cornflowerblue;\n",
       "\n",
       "  /* Specific color for light theme */\n",
       "  --sklearn-color-text-on-default-background: var(--sg-text-color, var(--theme-code-foreground, var(--jp-content-font-color1, black)));\n",
       "  --sklearn-color-background: var(--sg-background-color, var(--theme-background, var(--jp-layout-color0, white)));\n",
       "  --sklearn-color-border-box: var(--sg-text-color, var(--theme-code-foreground, var(--jp-content-font-color1, black)));\n",
       "  --sklearn-color-icon: #696969;\n",
       "\n",
       "  @media (prefers-color-scheme: dark) {\n",
       "    /* Redefinition of color scheme for dark theme */\n",
       "    --sklearn-color-text-on-default-background: var(--sg-text-color, var(--theme-code-foreground, var(--jp-content-font-color1, white)));\n",
       "    --sklearn-color-background: var(--sg-background-color, var(--theme-background, var(--jp-layout-color0, #111)));\n",
       "    --sklearn-color-border-box: var(--sg-text-color, var(--theme-code-foreground, var(--jp-content-font-color1, white)));\n",
       "    --sklearn-color-icon: #878787;\n",
       "  }\n",
       "}\n",
       "\n",
       "#sk-container-id-2 {\n",
       "  color: var(--sklearn-color-text);\n",
       "}\n",
       "\n",
       "#sk-container-id-2 pre {\n",
       "  padding: 0;\n",
       "}\n",
       "\n",
       "#sk-container-id-2 input.sk-hidden--visually {\n",
       "  border: 0;\n",
       "  clip: rect(1px 1px 1px 1px);\n",
       "  clip: rect(1px, 1px, 1px, 1px);\n",
       "  height: 1px;\n",
       "  margin: -1px;\n",
       "  overflow: hidden;\n",
       "  padding: 0;\n",
       "  position: absolute;\n",
       "  width: 1px;\n",
       "}\n",
       "\n",
       "#sk-container-id-2 div.sk-dashed-wrapped {\n",
       "  border: 1px dashed var(--sklearn-color-line);\n",
       "  margin: 0 0.4em 0.5em 0.4em;\n",
       "  box-sizing: border-box;\n",
       "  padding-bottom: 0.4em;\n",
       "  background-color: var(--sklearn-color-background);\n",
       "}\n",
       "\n",
       "#sk-container-id-2 div.sk-container {\n",
       "  /* jupyter's `normalize.less` sets `[hidden] { display: none; }`\n",
       "     but bootstrap.min.css set `[hidden] { display: none !important; }`\n",
       "     so we also need the `!important` here to be able to override the\n",
       "     default hidden behavior on the sphinx rendered scikit-learn.org.\n",
       "     See: https://github.com/scikit-learn/scikit-learn/issues/21755 */\n",
       "  display: inline-block !important;\n",
       "  position: relative;\n",
       "}\n",
       "\n",
       "#sk-container-id-2 div.sk-text-repr-fallback {\n",
       "  display: none;\n",
       "}\n",
       "\n",
       "div.sk-parallel-item,\n",
       "div.sk-serial,\n",
       "div.sk-item {\n",
       "  /* draw centered vertical line to link estimators */\n",
       "  background-image: linear-gradient(var(--sklearn-color-text-on-default-background), var(--sklearn-color-text-on-default-background));\n",
       "  background-size: 2px 100%;\n",
       "  background-repeat: no-repeat;\n",
       "  background-position: center center;\n",
       "}\n",
       "\n",
       "/* Parallel-specific style estimator block */\n",
       "\n",
       "#sk-container-id-2 div.sk-parallel-item::after {\n",
       "  content: \"\";\n",
       "  width: 100%;\n",
       "  border-bottom: 2px solid var(--sklearn-color-text-on-default-background);\n",
       "  flex-grow: 1;\n",
       "}\n",
       "\n",
       "#sk-container-id-2 div.sk-parallel {\n",
       "  display: flex;\n",
       "  align-items: stretch;\n",
       "  justify-content: center;\n",
       "  background-color: var(--sklearn-color-background);\n",
       "  position: relative;\n",
       "}\n",
       "\n",
       "#sk-container-id-2 div.sk-parallel-item {\n",
       "  display: flex;\n",
       "  flex-direction: column;\n",
       "}\n",
       "\n",
       "#sk-container-id-2 div.sk-parallel-item:first-child::after {\n",
       "  align-self: flex-end;\n",
       "  width: 50%;\n",
       "}\n",
       "\n",
       "#sk-container-id-2 div.sk-parallel-item:last-child::after {\n",
       "  align-self: flex-start;\n",
       "  width: 50%;\n",
       "}\n",
       "\n",
       "#sk-container-id-2 div.sk-parallel-item:only-child::after {\n",
       "  width: 0;\n",
       "}\n",
       "\n",
       "/* Serial-specific style estimator block */\n",
       "\n",
       "#sk-container-id-2 div.sk-serial {\n",
       "  display: flex;\n",
       "  flex-direction: column;\n",
       "  align-items: center;\n",
       "  background-color: var(--sklearn-color-background);\n",
       "  padding-right: 1em;\n",
       "  padding-left: 1em;\n",
       "}\n",
       "\n",
       "\n",
       "/* Toggleable style: style used for estimator/Pipeline/ColumnTransformer box that is\n",
       "clickable and can be expanded/collapsed.\n",
       "- Pipeline and ColumnTransformer use this feature and define the default style\n",
       "- Estimators will overwrite some part of the style using the `sk-estimator` class\n",
       "*/\n",
       "\n",
       "/* Pipeline and ColumnTransformer style (default) */\n",
       "\n",
       "#sk-container-id-2 div.sk-toggleable {\n",
       "  /* Default theme specific background. It is overwritten whether we have a\n",
       "  specific estimator or a Pipeline/ColumnTransformer */\n",
       "  background-color: var(--sklearn-color-background);\n",
       "}\n",
       "\n",
       "/* Toggleable label */\n",
       "#sk-container-id-2 label.sk-toggleable__label {\n",
       "  cursor: pointer;\n",
       "  display: block;\n",
       "  width: 100%;\n",
       "  margin-bottom: 0;\n",
       "  padding: 0.5em;\n",
       "  box-sizing: border-box;\n",
       "  text-align: center;\n",
       "}\n",
       "\n",
       "#sk-container-id-2 label.sk-toggleable__label-arrow:before {\n",
       "  /* Arrow on the left of the label */\n",
       "  content: \"▸\";\n",
       "  float: left;\n",
       "  margin-right: 0.25em;\n",
       "  color: var(--sklearn-color-icon);\n",
       "}\n",
       "\n",
       "#sk-container-id-2 label.sk-toggleable__label-arrow:hover:before {\n",
       "  color: var(--sklearn-color-text);\n",
       "}\n",
       "\n",
       "/* Toggleable content - dropdown */\n",
       "\n",
       "#sk-container-id-2 div.sk-toggleable__content {\n",
       "  max-height: 0;\n",
       "  max-width: 0;\n",
       "  overflow: hidden;\n",
       "  text-align: left;\n",
       "  /* unfitted */\n",
       "  background-color: var(--sklearn-color-unfitted-level-0);\n",
       "}\n",
       "\n",
       "#sk-container-id-2 div.sk-toggleable__content.fitted {\n",
       "  /* fitted */\n",
       "  background-color: var(--sklearn-color-fitted-level-0);\n",
       "}\n",
       "\n",
       "#sk-container-id-2 div.sk-toggleable__content pre {\n",
       "  margin: 0.2em;\n",
       "  border-radius: 0.25em;\n",
       "  color: var(--sklearn-color-text);\n",
       "  /* unfitted */\n",
       "  background-color: var(--sklearn-color-unfitted-level-0);\n",
       "}\n",
       "\n",
       "#sk-container-id-2 div.sk-toggleable__content.fitted pre {\n",
       "  /* unfitted */\n",
       "  background-color: var(--sklearn-color-fitted-level-0);\n",
       "}\n",
       "\n",
       "#sk-container-id-2 input.sk-toggleable__control:checked~div.sk-toggleable__content {\n",
       "  /* Expand drop-down */\n",
       "  max-height: 200px;\n",
       "  max-width: 100%;\n",
       "  overflow: auto;\n",
       "}\n",
       "\n",
       "#sk-container-id-2 input.sk-toggleable__control:checked~label.sk-toggleable__label-arrow:before {\n",
       "  content: \"▾\";\n",
       "}\n",
       "\n",
       "/* Pipeline/ColumnTransformer-specific style */\n",
       "\n",
       "#sk-container-id-2 div.sk-label input.sk-toggleable__control:checked~label.sk-toggleable__label {\n",
       "  color: var(--sklearn-color-text);\n",
       "  background-color: var(--sklearn-color-unfitted-level-2);\n",
       "}\n",
       "\n",
       "#sk-container-id-2 div.sk-label.fitted input.sk-toggleable__control:checked~label.sk-toggleable__label {\n",
       "  background-color: var(--sklearn-color-fitted-level-2);\n",
       "}\n",
       "\n",
       "/* Estimator-specific style */\n",
       "\n",
       "/* Colorize estimator box */\n",
       "#sk-container-id-2 div.sk-estimator input.sk-toggleable__control:checked~label.sk-toggleable__label {\n",
       "  /* unfitted */\n",
       "  background-color: var(--sklearn-color-unfitted-level-2);\n",
       "}\n",
       "\n",
       "#sk-container-id-2 div.sk-estimator.fitted input.sk-toggleable__control:checked~label.sk-toggleable__label {\n",
       "  /* fitted */\n",
       "  background-color: var(--sklearn-color-fitted-level-2);\n",
       "}\n",
       "\n",
       "#sk-container-id-2 div.sk-label label.sk-toggleable__label,\n",
       "#sk-container-id-2 div.sk-label label {\n",
       "  /* The background is the default theme color */\n",
       "  color: var(--sklearn-color-text-on-default-background);\n",
       "}\n",
       "\n",
       "/* On hover, darken the color of the background */\n",
       "#sk-container-id-2 div.sk-label:hover label.sk-toggleable__label {\n",
       "  color: var(--sklearn-color-text);\n",
       "  background-color: var(--sklearn-color-unfitted-level-2);\n",
       "}\n",
       "\n",
       "/* Label box, darken color on hover, fitted */\n",
       "#sk-container-id-2 div.sk-label.fitted:hover label.sk-toggleable__label.fitted {\n",
       "  color: var(--sklearn-color-text);\n",
       "  background-color: var(--sklearn-color-fitted-level-2);\n",
       "}\n",
       "\n",
       "/* Estimator label */\n",
       "\n",
       "#sk-container-id-2 div.sk-label label {\n",
       "  font-family: monospace;\n",
       "  font-weight: bold;\n",
       "  display: inline-block;\n",
       "  line-height: 1.2em;\n",
       "}\n",
       "\n",
       "#sk-container-id-2 div.sk-label-container {\n",
       "  text-align: center;\n",
       "}\n",
       "\n",
       "/* Estimator-specific */\n",
       "#sk-container-id-2 div.sk-estimator {\n",
       "  font-family: monospace;\n",
       "  border: 1px dotted var(--sklearn-color-border-box);\n",
       "  border-radius: 0.25em;\n",
       "  box-sizing: border-box;\n",
       "  margin-bottom: 0.5em;\n",
       "  /* unfitted */\n",
       "  background-color: var(--sklearn-color-unfitted-level-0);\n",
       "}\n",
       "\n",
       "#sk-container-id-2 div.sk-estimator.fitted {\n",
       "  /* fitted */\n",
       "  background-color: var(--sklearn-color-fitted-level-0);\n",
       "}\n",
       "\n",
       "/* on hover */\n",
       "#sk-container-id-2 div.sk-estimator:hover {\n",
       "  /* unfitted */\n",
       "  background-color: var(--sklearn-color-unfitted-level-2);\n",
       "}\n",
       "\n",
       "#sk-container-id-2 div.sk-estimator.fitted:hover {\n",
       "  /* fitted */\n",
       "  background-color: var(--sklearn-color-fitted-level-2);\n",
       "}\n",
       "\n",
       "/* Specification for estimator info (e.g. \"i\" and \"?\") */\n",
       "\n",
       "/* Common style for \"i\" and \"?\" */\n",
       "\n",
       ".sk-estimator-doc-link,\n",
       "a:link.sk-estimator-doc-link,\n",
       "a:visited.sk-estimator-doc-link {\n",
       "  float: right;\n",
       "  font-size: smaller;\n",
       "  line-height: 1em;\n",
       "  font-family: monospace;\n",
       "  background-color: var(--sklearn-color-background);\n",
       "  border-radius: 1em;\n",
       "  height: 1em;\n",
       "  width: 1em;\n",
       "  text-decoration: none !important;\n",
       "  margin-left: 1ex;\n",
       "  /* unfitted */\n",
       "  border: var(--sklearn-color-unfitted-level-1) 1pt solid;\n",
       "  color: var(--sklearn-color-unfitted-level-1);\n",
       "}\n",
       "\n",
       ".sk-estimator-doc-link.fitted,\n",
       "a:link.sk-estimator-doc-link.fitted,\n",
       "a:visited.sk-estimator-doc-link.fitted {\n",
       "  /* fitted */\n",
       "  border: var(--sklearn-color-fitted-level-1) 1pt solid;\n",
       "  color: var(--sklearn-color-fitted-level-1);\n",
       "}\n",
       "\n",
       "/* On hover */\n",
       "div.sk-estimator:hover .sk-estimator-doc-link:hover,\n",
       ".sk-estimator-doc-link:hover,\n",
       "div.sk-label-container:hover .sk-estimator-doc-link:hover,\n",
       ".sk-estimator-doc-link:hover {\n",
       "  /* unfitted */\n",
       "  background-color: var(--sklearn-color-unfitted-level-3);\n",
       "  color: var(--sklearn-color-background);\n",
       "  text-decoration: none;\n",
       "}\n",
       "\n",
       "div.sk-estimator.fitted:hover .sk-estimator-doc-link.fitted:hover,\n",
       ".sk-estimator-doc-link.fitted:hover,\n",
       "div.sk-label-container:hover .sk-estimator-doc-link.fitted:hover,\n",
       ".sk-estimator-doc-link.fitted:hover {\n",
       "  /* fitted */\n",
       "  background-color: var(--sklearn-color-fitted-level-3);\n",
       "  color: var(--sklearn-color-background);\n",
       "  text-decoration: none;\n",
       "}\n",
       "\n",
       "/* Span, style for the box shown on hovering the info icon */\n",
       ".sk-estimator-doc-link span {\n",
       "  display: none;\n",
       "  z-index: 9999;\n",
       "  position: relative;\n",
       "  font-weight: normal;\n",
       "  right: .2ex;\n",
       "  padding: .5ex;\n",
       "  margin: .5ex;\n",
       "  width: min-content;\n",
       "  min-width: 20ex;\n",
       "  max-width: 50ex;\n",
       "  color: var(--sklearn-color-text);\n",
       "  box-shadow: 2pt 2pt 4pt #999;\n",
       "  /* unfitted */\n",
       "  background: var(--sklearn-color-unfitted-level-0);\n",
       "  border: .5pt solid var(--sklearn-color-unfitted-level-3);\n",
       "}\n",
       "\n",
       ".sk-estimator-doc-link.fitted span {\n",
       "  /* fitted */\n",
       "  background: var(--sklearn-color-fitted-level-0);\n",
       "  border: var(--sklearn-color-fitted-level-3);\n",
       "}\n",
       "\n",
       ".sk-estimator-doc-link:hover span {\n",
       "  display: block;\n",
       "}\n",
       "\n",
       "/* \"?\"-specific style due to the `<a>` HTML tag */\n",
       "\n",
       "#sk-container-id-2 a.estimator_doc_link {\n",
       "  float: right;\n",
       "  font-size: 1rem;\n",
       "  line-height: 1em;\n",
       "  font-family: monospace;\n",
       "  background-color: var(--sklearn-color-background);\n",
       "  border-radius: 1rem;\n",
       "  height: 1rem;\n",
       "  width: 1rem;\n",
       "  text-decoration: none;\n",
       "  /* unfitted */\n",
       "  color: var(--sklearn-color-unfitted-level-1);\n",
       "  border: var(--sklearn-color-unfitted-level-1) 1pt solid;\n",
       "}\n",
       "\n",
       "#sk-container-id-2 a.estimator_doc_link.fitted {\n",
       "  /* fitted */\n",
       "  border: var(--sklearn-color-fitted-level-1) 1pt solid;\n",
       "  color: var(--sklearn-color-fitted-level-1);\n",
       "}\n",
       "\n",
       "/* On hover */\n",
       "#sk-container-id-2 a.estimator_doc_link:hover {\n",
       "  /* unfitted */\n",
       "  background-color: var(--sklearn-color-unfitted-level-3);\n",
       "  color: var(--sklearn-color-background);\n",
       "  text-decoration: none;\n",
       "}\n",
       "\n",
       "#sk-container-id-2 a.estimator_doc_link.fitted:hover {\n",
       "  /* fitted */\n",
       "  background-color: var(--sklearn-color-fitted-level-3);\n",
       "}\n",
       "</style><div id=\"sk-container-id-2\" class=\"sk-top-container\"><div class=\"sk-text-repr-fallback\"><pre>DecisionTreeRegressor(max_depth=10, random_state=42)</pre><b>In a Jupyter environment, please rerun this cell to show the HTML representation or trust the notebook. <br />On GitHub, the HTML representation is unable to render, please try loading this page with nbviewer.org.</b></div><div class=\"sk-container\" hidden><div class=\"sk-item\"><div class=\"sk-estimator fitted sk-toggleable\"><input class=\"sk-toggleable__control sk-hidden--visually\" id=\"sk-estimator-id-2\" type=\"checkbox\" checked><label for=\"sk-estimator-id-2\" class=\"sk-toggleable__label fitted sk-toggleable__label-arrow fitted\">&nbsp;&nbsp;DecisionTreeRegressor<a class=\"sk-estimator-doc-link fitted\" rel=\"noreferrer\" target=\"_blank\" href=\"https://scikit-learn.org/1.5/modules/generated/sklearn.tree.DecisionTreeRegressor.html\">?<span>Documentation for DecisionTreeRegressor</span></a><span class=\"sk-estimator-doc-link fitted\">i<span>Fitted</span></span></label><div class=\"sk-toggleable__content fitted\"><pre>DecisionTreeRegressor(max_depth=10, random_state=42)</pre></div> </div></div></div></div>"
      ],
      "text/plain": [
       "DecisionTreeRegressor(max_depth=10, random_state=42)"
      ]
     },
     "execution_count": 144,
     "metadata": {},
     "output_type": "execute_result"
    }
   ],
   "source": [
    "# initialize Decision Tree with basic tuning\n",
    "tree_model = DecisionTreeRegressor(max_depth=10, random_state=42)\n",
    "tree_model.fit(X_train, y_train)"
   ]
  },
  {
   "cell_type": "code",
   "execution_count": 145,
   "metadata": {},
   "outputs": [],
   "source": [
    "# predict\n",
    "tree_train_preds = tree_model.predict(X_train)\n",
    "tree_test_preds = tree_model.predict(X_test)"
   ]
  },
  {
   "cell_type": "code",
   "execution_count": 146,
   "metadata": {},
   "outputs": [],
   "source": [
    "# evaluate \n",
    "tree_train_rmse = np.sqrt(mean_squared_error(y_train, tree_train_preds))\n",
    "tree_test_rmse = np.sqrt(mean_squared_error(y_test, tree_test_preds))"
   ]
  },
  {
   "cell_type": "code",
   "execution_count": 147,
   "metadata": {},
   "outputs": [],
   "source": [
    "end_time = time.time()"
   ]
  },
  {
   "cell_type": "code",
   "execution_count": 148,
   "metadata": {},
   "outputs": [
    {
     "name": "stdout",
     "output_type": "stream",
     "text": [
      "Decision Tree Performance:\n",
      "Training RMSE: 2052.00\n",
      "Testing RMSE: 2144.65\n",
      "Training time: 5.97 seconds\n"
     ]
    }
   ],
   "source": [
    "# print results \n",
    "print(\"Decision Tree Performance:\")\n",
    "print(f\"Training RMSE: {tree_train_rmse:.2f}\")\n",
    "print(f\"Testing RMSE: {tree_test_rmse:.2f}\")\n",
    "print(f\"Training time: {end_time - start_time:.2f} seconds\")"
   ]
  },
  {
   "cell_type": "markdown",
   "metadata": {},
   "source": [
    "**Model Performance Summary (So Far)**\n",
    "\n",
    "- **Model**: Linear Regression\n",
    "- **Train RMSE**: 3159.38\n",
    "- **Test RMSE**: 3200.34\n",
    "- **Training Time**: 13.43 secs\n",
    "\n",
    "\n",
    "- **Model**: Decision Tree (depth=10)\n",
    "- **Train RMSE**: 2052.00\n",
    "- **Test RMSE**: 2144.65 (Test RMSE dropped by ~1055!))\n",
    "- **Training Time**: 126.17 secs  (Training Time increased (~10x longer than Linear Regression)"
   ]
  },
  {
   "cell_type": "markdown",
   "metadata": {},
   "source": [
    "### **Random Forest (tune depth, estimators)**"
   ]
  },
  {
   "cell_type": "code",
   "execution_count": 151,
   "metadata": {},
   "outputs": [],
   "source": [
    "# start timer\n",
    "start_time = time.time()"
   ]
  },
  {
   "cell_type": "code",
   "execution_count": 152,
   "metadata": {},
   "outputs": [],
   "source": [
    "# random forest regressor (with hyperparameter tuning)\n",
    "rf_model = RandomForestRegressor(\n",
    "    n_estimators=100, # number of trees\n",
    "    max_depth=20, # maximum depth of each tree\n",
    "    random_state=42, # repreducibility\n",
    "    n_jobs=-1 #use all available cores\n",
    ")\n"
   ]
  },
  {
   "cell_type": "code",
   "execution_count": 153,
   "metadata": {},
   "outputs": [
    {
     "data": {
      "text/html": [
       "<style>#sk-container-id-3 {\n",
       "  /* Definition of color scheme common for light and dark mode */\n",
       "  --sklearn-color-text: black;\n",
       "  --sklearn-color-line: gray;\n",
       "  /* Definition of color scheme for unfitted estimators */\n",
       "  --sklearn-color-unfitted-level-0: #fff5e6;\n",
       "  --sklearn-color-unfitted-level-1: #f6e4d2;\n",
       "  --sklearn-color-unfitted-level-2: #ffe0b3;\n",
       "  --sklearn-color-unfitted-level-3: chocolate;\n",
       "  /* Definition of color scheme for fitted estimators */\n",
       "  --sklearn-color-fitted-level-0: #f0f8ff;\n",
       "  --sklearn-color-fitted-level-1: #d4ebff;\n",
       "  --sklearn-color-fitted-level-2: #b3dbfd;\n",
       "  --sklearn-color-fitted-level-3: cornflowerblue;\n",
       "\n",
       "  /* Specific color for light theme */\n",
       "  --sklearn-color-text-on-default-background: var(--sg-text-color, var(--theme-code-foreground, var(--jp-content-font-color1, black)));\n",
       "  --sklearn-color-background: var(--sg-background-color, var(--theme-background, var(--jp-layout-color0, white)));\n",
       "  --sklearn-color-border-box: var(--sg-text-color, var(--theme-code-foreground, var(--jp-content-font-color1, black)));\n",
       "  --sklearn-color-icon: #696969;\n",
       "\n",
       "  @media (prefers-color-scheme: dark) {\n",
       "    /* Redefinition of color scheme for dark theme */\n",
       "    --sklearn-color-text-on-default-background: var(--sg-text-color, var(--theme-code-foreground, var(--jp-content-font-color1, white)));\n",
       "    --sklearn-color-background: var(--sg-background-color, var(--theme-background, var(--jp-layout-color0, #111)));\n",
       "    --sklearn-color-border-box: var(--sg-text-color, var(--theme-code-foreground, var(--jp-content-font-color1, white)));\n",
       "    --sklearn-color-icon: #878787;\n",
       "  }\n",
       "}\n",
       "\n",
       "#sk-container-id-3 {\n",
       "  color: var(--sklearn-color-text);\n",
       "}\n",
       "\n",
       "#sk-container-id-3 pre {\n",
       "  padding: 0;\n",
       "}\n",
       "\n",
       "#sk-container-id-3 input.sk-hidden--visually {\n",
       "  border: 0;\n",
       "  clip: rect(1px 1px 1px 1px);\n",
       "  clip: rect(1px, 1px, 1px, 1px);\n",
       "  height: 1px;\n",
       "  margin: -1px;\n",
       "  overflow: hidden;\n",
       "  padding: 0;\n",
       "  position: absolute;\n",
       "  width: 1px;\n",
       "}\n",
       "\n",
       "#sk-container-id-3 div.sk-dashed-wrapped {\n",
       "  border: 1px dashed var(--sklearn-color-line);\n",
       "  margin: 0 0.4em 0.5em 0.4em;\n",
       "  box-sizing: border-box;\n",
       "  padding-bottom: 0.4em;\n",
       "  background-color: var(--sklearn-color-background);\n",
       "}\n",
       "\n",
       "#sk-container-id-3 div.sk-container {\n",
       "  /* jupyter's `normalize.less` sets `[hidden] { display: none; }`\n",
       "     but bootstrap.min.css set `[hidden] { display: none !important; }`\n",
       "     so we also need the `!important` here to be able to override the\n",
       "     default hidden behavior on the sphinx rendered scikit-learn.org.\n",
       "     See: https://github.com/scikit-learn/scikit-learn/issues/21755 */\n",
       "  display: inline-block !important;\n",
       "  position: relative;\n",
       "}\n",
       "\n",
       "#sk-container-id-3 div.sk-text-repr-fallback {\n",
       "  display: none;\n",
       "}\n",
       "\n",
       "div.sk-parallel-item,\n",
       "div.sk-serial,\n",
       "div.sk-item {\n",
       "  /* draw centered vertical line to link estimators */\n",
       "  background-image: linear-gradient(var(--sklearn-color-text-on-default-background), var(--sklearn-color-text-on-default-background));\n",
       "  background-size: 2px 100%;\n",
       "  background-repeat: no-repeat;\n",
       "  background-position: center center;\n",
       "}\n",
       "\n",
       "/* Parallel-specific style estimator block */\n",
       "\n",
       "#sk-container-id-3 div.sk-parallel-item::after {\n",
       "  content: \"\";\n",
       "  width: 100%;\n",
       "  border-bottom: 2px solid var(--sklearn-color-text-on-default-background);\n",
       "  flex-grow: 1;\n",
       "}\n",
       "\n",
       "#sk-container-id-3 div.sk-parallel {\n",
       "  display: flex;\n",
       "  align-items: stretch;\n",
       "  justify-content: center;\n",
       "  background-color: var(--sklearn-color-background);\n",
       "  position: relative;\n",
       "}\n",
       "\n",
       "#sk-container-id-3 div.sk-parallel-item {\n",
       "  display: flex;\n",
       "  flex-direction: column;\n",
       "}\n",
       "\n",
       "#sk-container-id-3 div.sk-parallel-item:first-child::after {\n",
       "  align-self: flex-end;\n",
       "  width: 50%;\n",
       "}\n",
       "\n",
       "#sk-container-id-3 div.sk-parallel-item:last-child::after {\n",
       "  align-self: flex-start;\n",
       "  width: 50%;\n",
       "}\n",
       "\n",
       "#sk-container-id-3 div.sk-parallel-item:only-child::after {\n",
       "  width: 0;\n",
       "}\n",
       "\n",
       "/* Serial-specific style estimator block */\n",
       "\n",
       "#sk-container-id-3 div.sk-serial {\n",
       "  display: flex;\n",
       "  flex-direction: column;\n",
       "  align-items: center;\n",
       "  background-color: var(--sklearn-color-background);\n",
       "  padding-right: 1em;\n",
       "  padding-left: 1em;\n",
       "}\n",
       "\n",
       "\n",
       "/* Toggleable style: style used for estimator/Pipeline/ColumnTransformer box that is\n",
       "clickable and can be expanded/collapsed.\n",
       "- Pipeline and ColumnTransformer use this feature and define the default style\n",
       "- Estimators will overwrite some part of the style using the `sk-estimator` class\n",
       "*/\n",
       "\n",
       "/* Pipeline and ColumnTransformer style (default) */\n",
       "\n",
       "#sk-container-id-3 div.sk-toggleable {\n",
       "  /* Default theme specific background. It is overwritten whether we have a\n",
       "  specific estimator or a Pipeline/ColumnTransformer */\n",
       "  background-color: var(--sklearn-color-background);\n",
       "}\n",
       "\n",
       "/* Toggleable label */\n",
       "#sk-container-id-3 label.sk-toggleable__label {\n",
       "  cursor: pointer;\n",
       "  display: block;\n",
       "  width: 100%;\n",
       "  margin-bottom: 0;\n",
       "  padding: 0.5em;\n",
       "  box-sizing: border-box;\n",
       "  text-align: center;\n",
       "}\n",
       "\n",
       "#sk-container-id-3 label.sk-toggleable__label-arrow:before {\n",
       "  /* Arrow on the left of the label */\n",
       "  content: \"▸\";\n",
       "  float: left;\n",
       "  margin-right: 0.25em;\n",
       "  color: var(--sklearn-color-icon);\n",
       "}\n",
       "\n",
       "#sk-container-id-3 label.sk-toggleable__label-arrow:hover:before {\n",
       "  color: var(--sklearn-color-text);\n",
       "}\n",
       "\n",
       "/* Toggleable content - dropdown */\n",
       "\n",
       "#sk-container-id-3 div.sk-toggleable__content {\n",
       "  max-height: 0;\n",
       "  max-width: 0;\n",
       "  overflow: hidden;\n",
       "  text-align: left;\n",
       "  /* unfitted */\n",
       "  background-color: var(--sklearn-color-unfitted-level-0);\n",
       "}\n",
       "\n",
       "#sk-container-id-3 div.sk-toggleable__content.fitted {\n",
       "  /* fitted */\n",
       "  background-color: var(--sklearn-color-fitted-level-0);\n",
       "}\n",
       "\n",
       "#sk-container-id-3 div.sk-toggleable__content pre {\n",
       "  margin: 0.2em;\n",
       "  border-radius: 0.25em;\n",
       "  color: var(--sklearn-color-text);\n",
       "  /* unfitted */\n",
       "  background-color: var(--sklearn-color-unfitted-level-0);\n",
       "}\n",
       "\n",
       "#sk-container-id-3 div.sk-toggleable__content.fitted pre {\n",
       "  /* unfitted */\n",
       "  background-color: var(--sklearn-color-fitted-level-0);\n",
       "}\n",
       "\n",
       "#sk-container-id-3 input.sk-toggleable__control:checked~div.sk-toggleable__content {\n",
       "  /* Expand drop-down */\n",
       "  max-height: 200px;\n",
       "  max-width: 100%;\n",
       "  overflow: auto;\n",
       "}\n",
       "\n",
       "#sk-container-id-3 input.sk-toggleable__control:checked~label.sk-toggleable__label-arrow:before {\n",
       "  content: \"▾\";\n",
       "}\n",
       "\n",
       "/* Pipeline/ColumnTransformer-specific style */\n",
       "\n",
       "#sk-container-id-3 div.sk-label input.sk-toggleable__control:checked~label.sk-toggleable__label {\n",
       "  color: var(--sklearn-color-text);\n",
       "  background-color: var(--sklearn-color-unfitted-level-2);\n",
       "}\n",
       "\n",
       "#sk-container-id-3 div.sk-label.fitted input.sk-toggleable__control:checked~label.sk-toggleable__label {\n",
       "  background-color: var(--sklearn-color-fitted-level-2);\n",
       "}\n",
       "\n",
       "/* Estimator-specific style */\n",
       "\n",
       "/* Colorize estimator box */\n",
       "#sk-container-id-3 div.sk-estimator input.sk-toggleable__control:checked~label.sk-toggleable__label {\n",
       "  /* unfitted */\n",
       "  background-color: var(--sklearn-color-unfitted-level-2);\n",
       "}\n",
       "\n",
       "#sk-container-id-3 div.sk-estimator.fitted input.sk-toggleable__control:checked~label.sk-toggleable__label {\n",
       "  /* fitted */\n",
       "  background-color: var(--sklearn-color-fitted-level-2);\n",
       "}\n",
       "\n",
       "#sk-container-id-3 div.sk-label label.sk-toggleable__label,\n",
       "#sk-container-id-3 div.sk-label label {\n",
       "  /* The background is the default theme color */\n",
       "  color: var(--sklearn-color-text-on-default-background);\n",
       "}\n",
       "\n",
       "/* On hover, darken the color of the background */\n",
       "#sk-container-id-3 div.sk-label:hover label.sk-toggleable__label {\n",
       "  color: var(--sklearn-color-text);\n",
       "  background-color: var(--sklearn-color-unfitted-level-2);\n",
       "}\n",
       "\n",
       "/* Label box, darken color on hover, fitted */\n",
       "#sk-container-id-3 div.sk-label.fitted:hover label.sk-toggleable__label.fitted {\n",
       "  color: var(--sklearn-color-text);\n",
       "  background-color: var(--sklearn-color-fitted-level-2);\n",
       "}\n",
       "\n",
       "/* Estimator label */\n",
       "\n",
       "#sk-container-id-3 div.sk-label label {\n",
       "  font-family: monospace;\n",
       "  font-weight: bold;\n",
       "  display: inline-block;\n",
       "  line-height: 1.2em;\n",
       "}\n",
       "\n",
       "#sk-container-id-3 div.sk-label-container {\n",
       "  text-align: center;\n",
       "}\n",
       "\n",
       "/* Estimator-specific */\n",
       "#sk-container-id-3 div.sk-estimator {\n",
       "  font-family: monospace;\n",
       "  border: 1px dotted var(--sklearn-color-border-box);\n",
       "  border-radius: 0.25em;\n",
       "  box-sizing: border-box;\n",
       "  margin-bottom: 0.5em;\n",
       "  /* unfitted */\n",
       "  background-color: var(--sklearn-color-unfitted-level-0);\n",
       "}\n",
       "\n",
       "#sk-container-id-3 div.sk-estimator.fitted {\n",
       "  /* fitted */\n",
       "  background-color: var(--sklearn-color-fitted-level-0);\n",
       "}\n",
       "\n",
       "/* on hover */\n",
       "#sk-container-id-3 div.sk-estimator:hover {\n",
       "  /* unfitted */\n",
       "  background-color: var(--sklearn-color-unfitted-level-2);\n",
       "}\n",
       "\n",
       "#sk-container-id-3 div.sk-estimator.fitted:hover {\n",
       "  /* fitted */\n",
       "  background-color: var(--sklearn-color-fitted-level-2);\n",
       "}\n",
       "\n",
       "/* Specification for estimator info (e.g. \"i\" and \"?\") */\n",
       "\n",
       "/* Common style for \"i\" and \"?\" */\n",
       "\n",
       ".sk-estimator-doc-link,\n",
       "a:link.sk-estimator-doc-link,\n",
       "a:visited.sk-estimator-doc-link {\n",
       "  float: right;\n",
       "  font-size: smaller;\n",
       "  line-height: 1em;\n",
       "  font-family: monospace;\n",
       "  background-color: var(--sklearn-color-background);\n",
       "  border-radius: 1em;\n",
       "  height: 1em;\n",
       "  width: 1em;\n",
       "  text-decoration: none !important;\n",
       "  margin-left: 1ex;\n",
       "  /* unfitted */\n",
       "  border: var(--sklearn-color-unfitted-level-1) 1pt solid;\n",
       "  color: var(--sklearn-color-unfitted-level-1);\n",
       "}\n",
       "\n",
       ".sk-estimator-doc-link.fitted,\n",
       "a:link.sk-estimator-doc-link.fitted,\n",
       "a:visited.sk-estimator-doc-link.fitted {\n",
       "  /* fitted */\n",
       "  border: var(--sklearn-color-fitted-level-1) 1pt solid;\n",
       "  color: var(--sklearn-color-fitted-level-1);\n",
       "}\n",
       "\n",
       "/* On hover */\n",
       "div.sk-estimator:hover .sk-estimator-doc-link:hover,\n",
       ".sk-estimator-doc-link:hover,\n",
       "div.sk-label-container:hover .sk-estimator-doc-link:hover,\n",
       ".sk-estimator-doc-link:hover {\n",
       "  /* unfitted */\n",
       "  background-color: var(--sklearn-color-unfitted-level-3);\n",
       "  color: var(--sklearn-color-background);\n",
       "  text-decoration: none;\n",
       "}\n",
       "\n",
       "div.sk-estimator.fitted:hover .sk-estimator-doc-link.fitted:hover,\n",
       ".sk-estimator-doc-link.fitted:hover,\n",
       "div.sk-label-container:hover .sk-estimator-doc-link.fitted:hover,\n",
       ".sk-estimator-doc-link.fitted:hover {\n",
       "  /* fitted */\n",
       "  background-color: var(--sklearn-color-fitted-level-3);\n",
       "  color: var(--sklearn-color-background);\n",
       "  text-decoration: none;\n",
       "}\n",
       "\n",
       "/* Span, style for the box shown on hovering the info icon */\n",
       ".sk-estimator-doc-link span {\n",
       "  display: none;\n",
       "  z-index: 9999;\n",
       "  position: relative;\n",
       "  font-weight: normal;\n",
       "  right: .2ex;\n",
       "  padding: .5ex;\n",
       "  margin: .5ex;\n",
       "  width: min-content;\n",
       "  min-width: 20ex;\n",
       "  max-width: 50ex;\n",
       "  color: var(--sklearn-color-text);\n",
       "  box-shadow: 2pt 2pt 4pt #999;\n",
       "  /* unfitted */\n",
       "  background: var(--sklearn-color-unfitted-level-0);\n",
       "  border: .5pt solid var(--sklearn-color-unfitted-level-3);\n",
       "}\n",
       "\n",
       ".sk-estimator-doc-link.fitted span {\n",
       "  /* fitted */\n",
       "  background: var(--sklearn-color-fitted-level-0);\n",
       "  border: var(--sklearn-color-fitted-level-3);\n",
       "}\n",
       "\n",
       ".sk-estimator-doc-link:hover span {\n",
       "  display: block;\n",
       "}\n",
       "\n",
       "/* \"?\"-specific style due to the `<a>` HTML tag */\n",
       "\n",
       "#sk-container-id-3 a.estimator_doc_link {\n",
       "  float: right;\n",
       "  font-size: 1rem;\n",
       "  line-height: 1em;\n",
       "  font-family: monospace;\n",
       "  background-color: var(--sklearn-color-background);\n",
       "  border-radius: 1rem;\n",
       "  height: 1rem;\n",
       "  width: 1rem;\n",
       "  text-decoration: none;\n",
       "  /* unfitted */\n",
       "  color: var(--sklearn-color-unfitted-level-1);\n",
       "  border: var(--sklearn-color-unfitted-level-1) 1pt solid;\n",
       "}\n",
       "\n",
       "#sk-container-id-3 a.estimator_doc_link.fitted {\n",
       "  /* fitted */\n",
       "  border: var(--sklearn-color-fitted-level-1) 1pt solid;\n",
       "  color: var(--sklearn-color-fitted-level-1);\n",
       "}\n",
       "\n",
       "/* On hover */\n",
       "#sk-container-id-3 a.estimator_doc_link:hover {\n",
       "  /* unfitted */\n",
       "  background-color: var(--sklearn-color-unfitted-level-3);\n",
       "  color: var(--sklearn-color-background);\n",
       "  text-decoration: none;\n",
       "}\n",
       "\n",
       "#sk-container-id-3 a.estimator_doc_link.fitted:hover {\n",
       "  /* fitted */\n",
       "  background-color: var(--sklearn-color-fitted-level-3);\n",
       "}\n",
       "</style><div id=\"sk-container-id-3\" class=\"sk-top-container\"><div class=\"sk-text-repr-fallback\"><pre>RandomForestRegressor(max_depth=20, n_jobs=-1, random_state=42)</pre><b>In a Jupyter environment, please rerun this cell to show the HTML representation or trust the notebook. <br />On GitHub, the HTML representation is unable to render, please try loading this page with nbviewer.org.</b></div><div class=\"sk-container\" hidden><div class=\"sk-item\"><div class=\"sk-estimator fitted sk-toggleable\"><input class=\"sk-toggleable__control sk-hidden--visually\" id=\"sk-estimator-id-3\" type=\"checkbox\" checked><label for=\"sk-estimator-id-3\" class=\"sk-toggleable__label fitted sk-toggleable__label-arrow fitted\">&nbsp;&nbsp;RandomForestRegressor<a class=\"sk-estimator-doc-link fitted\" rel=\"noreferrer\" target=\"_blank\" href=\"https://scikit-learn.org/1.5/modules/generated/sklearn.ensemble.RandomForestRegressor.html\">?<span>Documentation for RandomForestRegressor</span></a><span class=\"sk-estimator-doc-link fitted\">i<span>Fitted</span></span></label><div class=\"sk-toggleable__content fitted\"><pre>RandomForestRegressor(max_depth=20, n_jobs=-1, random_state=42)</pre></div> </div></div></div></div>"
      ],
      "text/plain": [
       "RandomForestRegressor(max_depth=20, n_jobs=-1, random_state=42)"
      ]
     },
     "execution_count": 153,
     "metadata": {},
     "output_type": "execute_result"
    }
   ],
   "source": [
    "# fit model\n",
    "rf_model.fit(X_train, y_train)"
   ]
  },
  {
   "cell_type": "code",
   "execution_count": 154,
   "metadata": {},
   "outputs": [],
   "source": [
    "# predict on train and test sets\n",
    "train_preds = rf_model.predict(X_train)\n",
    "test_preds = rf_model.predict(X_test)"
   ]
  },
  {
   "cell_type": "code",
   "execution_count": 155,
   "metadata": {},
   "outputs": [],
   "source": [
    "# evaluate the performance\n",
    "train_rmse = sqrt(mean_squared_error(y_train, train_preds))\n",
    "test_rmse = sqrt(mean_squared_error(y_test, test_preds))"
   ]
  },
  {
   "cell_type": "code",
   "execution_count": 156,
   "metadata": {},
   "outputs": [],
   "source": [
    "# end timer\n",
    "end_time = time.time()\n",
    "training_time = end_time - start_time"
   ]
  },
  {
   "cell_type": "code",
   "execution_count": 157,
   "metadata": {},
   "outputs": [
    {
     "name": "stdout",
     "output_type": "stream",
     "text": [
      "Random Forest Performance:\n",
      "Training RMSE: 1193.17\n",
      "Testing RMSE: 1755.32\n",
      "Training time: 274.99 seconds\n"
     ]
    }
   ],
   "source": [
    "# print results \n",
    "print(\"Random Forest Performance:\")\n",
    "print(f\"Training RMSE: {train_rmse:.2f}\")\n",
    "print(f\"Testing RMSE: {test_rmse:.2f}\")\n",
    "print(f\"Training time: {training_time:.2f} seconds\")"
   ]
  },
  {
   "cell_type": "markdown",
   "metadata": {},
   "source": [
    "**Model Performance Summary (Against Previous Models)**\n",
    "\n",
    "- **Model**: Linear Regression\n",
    "- **Train RMSE**: 3159.38\n",
    "- **Test RMSE**: 3200.34\n",
    "- **Training Time**: 13.43 secs\n",
    "- **Notes**: Fast but very underfit\n",
    "\n",
    "\n",
    "- **Model**: Decision Tree \n",
    "- **Train RMSE**: 2052.00\n",
    "- **Test RMSE**: 2144.65\n",
    "- **Training Time**: 126.17 secs\n",
    "- **Notes**: Better fit, slight overfit\n",
    "\n",
    "\n",
    "- **Model**: Random Forest\n",
    "- **Train RMSE**: 1193.17\n",
    "- **Test RMSE**: 1755.32\n",
    "- **Training Time**: 344.20 secs\n",
    "- **Notes**: Best Test performance so far"
   ]
  },
  {
   "cell_type": "markdown",
   "metadata": {},
   "source": [
    "### **LightGBM (with tuned learning rate, depth, iterations)**"
   ]
  },
  {
   "cell_type": "code",
   "execution_count": 160,
   "metadata": {},
   "outputs": [],
   "source": [
    "# start timer\n",
    "start_time = time.time()"
   ]
  },
  {
   "cell_type": "code",
   "execution_count": 161,
   "metadata": {},
   "outputs": [],
   "source": [
    "# initialize model\n",
    "lgb_model = LGBMRegressor(\n",
    "    learning_rate = 0.1,\n",
    "    n_estimators = 100,\n",
    "    max_depth = 10, \n",
    "    random_state = 42\n",
    ")"
   ]
  },
  {
   "cell_type": "code",
   "execution_count": 162,
   "metadata": {},
   "outputs": [
    {
     "name": "stdout",
     "output_type": "stream",
     "text": [
      "[LightGBM] [Info] Auto-choosing row-wise multi-threading, the overhead of testing was 0.010004 seconds.\n",
      "You can set `force_row_wise=true` to remove the overhead.\n",
      "And if memory is not enough, you can set `force_col_wise=true`.\n",
      "[LightGBM] [Info] Total Bins 967\n",
      "[LightGBM] [Info] Number of data points in the train set: 265776, number of used features: 296\n",
      "[LightGBM] [Info] Start training from score 4408.063264\n"
     ]
    },
    {
     "data": {
      "text/html": [
       "<style>#sk-container-id-4 {\n",
       "  /* Definition of color scheme common for light and dark mode */\n",
       "  --sklearn-color-text: black;\n",
       "  --sklearn-color-line: gray;\n",
       "  /* Definition of color scheme for unfitted estimators */\n",
       "  --sklearn-color-unfitted-level-0: #fff5e6;\n",
       "  --sklearn-color-unfitted-level-1: #f6e4d2;\n",
       "  --sklearn-color-unfitted-level-2: #ffe0b3;\n",
       "  --sklearn-color-unfitted-level-3: chocolate;\n",
       "  /* Definition of color scheme for fitted estimators */\n",
       "  --sklearn-color-fitted-level-0: #f0f8ff;\n",
       "  --sklearn-color-fitted-level-1: #d4ebff;\n",
       "  --sklearn-color-fitted-level-2: #b3dbfd;\n",
       "  --sklearn-color-fitted-level-3: cornflowerblue;\n",
       "\n",
       "  /* Specific color for light theme */\n",
       "  --sklearn-color-text-on-default-background: var(--sg-text-color, var(--theme-code-foreground, var(--jp-content-font-color1, black)));\n",
       "  --sklearn-color-background: var(--sg-background-color, var(--theme-background, var(--jp-layout-color0, white)));\n",
       "  --sklearn-color-border-box: var(--sg-text-color, var(--theme-code-foreground, var(--jp-content-font-color1, black)));\n",
       "  --sklearn-color-icon: #696969;\n",
       "\n",
       "  @media (prefers-color-scheme: dark) {\n",
       "    /* Redefinition of color scheme for dark theme */\n",
       "    --sklearn-color-text-on-default-background: var(--sg-text-color, var(--theme-code-foreground, var(--jp-content-font-color1, white)));\n",
       "    --sklearn-color-background: var(--sg-background-color, var(--theme-background, var(--jp-layout-color0, #111)));\n",
       "    --sklearn-color-border-box: var(--sg-text-color, var(--theme-code-foreground, var(--jp-content-font-color1, white)));\n",
       "    --sklearn-color-icon: #878787;\n",
       "  }\n",
       "}\n",
       "\n",
       "#sk-container-id-4 {\n",
       "  color: var(--sklearn-color-text);\n",
       "}\n",
       "\n",
       "#sk-container-id-4 pre {\n",
       "  padding: 0;\n",
       "}\n",
       "\n",
       "#sk-container-id-4 input.sk-hidden--visually {\n",
       "  border: 0;\n",
       "  clip: rect(1px 1px 1px 1px);\n",
       "  clip: rect(1px, 1px, 1px, 1px);\n",
       "  height: 1px;\n",
       "  margin: -1px;\n",
       "  overflow: hidden;\n",
       "  padding: 0;\n",
       "  position: absolute;\n",
       "  width: 1px;\n",
       "}\n",
       "\n",
       "#sk-container-id-4 div.sk-dashed-wrapped {\n",
       "  border: 1px dashed var(--sklearn-color-line);\n",
       "  margin: 0 0.4em 0.5em 0.4em;\n",
       "  box-sizing: border-box;\n",
       "  padding-bottom: 0.4em;\n",
       "  background-color: var(--sklearn-color-background);\n",
       "}\n",
       "\n",
       "#sk-container-id-4 div.sk-container {\n",
       "  /* jupyter's `normalize.less` sets `[hidden] { display: none; }`\n",
       "     but bootstrap.min.css set `[hidden] { display: none !important; }`\n",
       "     so we also need the `!important` here to be able to override the\n",
       "     default hidden behavior on the sphinx rendered scikit-learn.org.\n",
       "     See: https://github.com/scikit-learn/scikit-learn/issues/21755 */\n",
       "  display: inline-block !important;\n",
       "  position: relative;\n",
       "}\n",
       "\n",
       "#sk-container-id-4 div.sk-text-repr-fallback {\n",
       "  display: none;\n",
       "}\n",
       "\n",
       "div.sk-parallel-item,\n",
       "div.sk-serial,\n",
       "div.sk-item {\n",
       "  /* draw centered vertical line to link estimators */\n",
       "  background-image: linear-gradient(var(--sklearn-color-text-on-default-background), var(--sklearn-color-text-on-default-background));\n",
       "  background-size: 2px 100%;\n",
       "  background-repeat: no-repeat;\n",
       "  background-position: center center;\n",
       "}\n",
       "\n",
       "/* Parallel-specific style estimator block */\n",
       "\n",
       "#sk-container-id-4 div.sk-parallel-item::after {\n",
       "  content: \"\";\n",
       "  width: 100%;\n",
       "  border-bottom: 2px solid var(--sklearn-color-text-on-default-background);\n",
       "  flex-grow: 1;\n",
       "}\n",
       "\n",
       "#sk-container-id-4 div.sk-parallel {\n",
       "  display: flex;\n",
       "  align-items: stretch;\n",
       "  justify-content: center;\n",
       "  background-color: var(--sklearn-color-background);\n",
       "  position: relative;\n",
       "}\n",
       "\n",
       "#sk-container-id-4 div.sk-parallel-item {\n",
       "  display: flex;\n",
       "  flex-direction: column;\n",
       "}\n",
       "\n",
       "#sk-container-id-4 div.sk-parallel-item:first-child::after {\n",
       "  align-self: flex-end;\n",
       "  width: 50%;\n",
       "}\n",
       "\n",
       "#sk-container-id-4 div.sk-parallel-item:last-child::after {\n",
       "  align-self: flex-start;\n",
       "  width: 50%;\n",
       "}\n",
       "\n",
       "#sk-container-id-4 div.sk-parallel-item:only-child::after {\n",
       "  width: 0;\n",
       "}\n",
       "\n",
       "/* Serial-specific style estimator block */\n",
       "\n",
       "#sk-container-id-4 div.sk-serial {\n",
       "  display: flex;\n",
       "  flex-direction: column;\n",
       "  align-items: center;\n",
       "  background-color: var(--sklearn-color-background);\n",
       "  padding-right: 1em;\n",
       "  padding-left: 1em;\n",
       "}\n",
       "\n",
       "\n",
       "/* Toggleable style: style used for estimator/Pipeline/ColumnTransformer box that is\n",
       "clickable and can be expanded/collapsed.\n",
       "- Pipeline and ColumnTransformer use this feature and define the default style\n",
       "- Estimators will overwrite some part of the style using the `sk-estimator` class\n",
       "*/\n",
       "\n",
       "/* Pipeline and ColumnTransformer style (default) */\n",
       "\n",
       "#sk-container-id-4 div.sk-toggleable {\n",
       "  /* Default theme specific background. It is overwritten whether we have a\n",
       "  specific estimator or a Pipeline/ColumnTransformer */\n",
       "  background-color: var(--sklearn-color-background);\n",
       "}\n",
       "\n",
       "/* Toggleable label */\n",
       "#sk-container-id-4 label.sk-toggleable__label {\n",
       "  cursor: pointer;\n",
       "  display: block;\n",
       "  width: 100%;\n",
       "  margin-bottom: 0;\n",
       "  padding: 0.5em;\n",
       "  box-sizing: border-box;\n",
       "  text-align: center;\n",
       "}\n",
       "\n",
       "#sk-container-id-4 label.sk-toggleable__label-arrow:before {\n",
       "  /* Arrow on the left of the label */\n",
       "  content: \"▸\";\n",
       "  float: left;\n",
       "  margin-right: 0.25em;\n",
       "  color: var(--sklearn-color-icon);\n",
       "}\n",
       "\n",
       "#sk-container-id-4 label.sk-toggleable__label-arrow:hover:before {\n",
       "  color: var(--sklearn-color-text);\n",
       "}\n",
       "\n",
       "/* Toggleable content - dropdown */\n",
       "\n",
       "#sk-container-id-4 div.sk-toggleable__content {\n",
       "  max-height: 0;\n",
       "  max-width: 0;\n",
       "  overflow: hidden;\n",
       "  text-align: left;\n",
       "  /* unfitted */\n",
       "  background-color: var(--sklearn-color-unfitted-level-0);\n",
       "}\n",
       "\n",
       "#sk-container-id-4 div.sk-toggleable__content.fitted {\n",
       "  /* fitted */\n",
       "  background-color: var(--sklearn-color-fitted-level-0);\n",
       "}\n",
       "\n",
       "#sk-container-id-4 div.sk-toggleable__content pre {\n",
       "  margin: 0.2em;\n",
       "  border-radius: 0.25em;\n",
       "  color: var(--sklearn-color-text);\n",
       "  /* unfitted */\n",
       "  background-color: var(--sklearn-color-unfitted-level-0);\n",
       "}\n",
       "\n",
       "#sk-container-id-4 div.sk-toggleable__content.fitted pre {\n",
       "  /* unfitted */\n",
       "  background-color: var(--sklearn-color-fitted-level-0);\n",
       "}\n",
       "\n",
       "#sk-container-id-4 input.sk-toggleable__control:checked~div.sk-toggleable__content {\n",
       "  /* Expand drop-down */\n",
       "  max-height: 200px;\n",
       "  max-width: 100%;\n",
       "  overflow: auto;\n",
       "}\n",
       "\n",
       "#sk-container-id-4 input.sk-toggleable__control:checked~label.sk-toggleable__label-arrow:before {\n",
       "  content: \"▾\";\n",
       "}\n",
       "\n",
       "/* Pipeline/ColumnTransformer-specific style */\n",
       "\n",
       "#sk-container-id-4 div.sk-label input.sk-toggleable__control:checked~label.sk-toggleable__label {\n",
       "  color: var(--sklearn-color-text);\n",
       "  background-color: var(--sklearn-color-unfitted-level-2);\n",
       "}\n",
       "\n",
       "#sk-container-id-4 div.sk-label.fitted input.sk-toggleable__control:checked~label.sk-toggleable__label {\n",
       "  background-color: var(--sklearn-color-fitted-level-2);\n",
       "}\n",
       "\n",
       "/* Estimator-specific style */\n",
       "\n",
       "/* Colorize estimator box */\n",
       "#sk-container-id-4 div.sk-estimator input.sk-toggleable__control:checked~label.sk-toggleable__label {\n",
       "  /* unfitted */\n",
       "  background-color: var(--sklearn-color-unfitted-level-2);\n",
       "}\n",
       "\n",
       "#sk-container-id-4 div.sk-estimator.fitted input.sk-toggleable__control:checked~label.sk-toggleable__label {\n",
       "  /* fitted */\n",
       "  background-color: var(--sklearn-color-fitted-level-2);\n",
       "}\n",
       "\n",
       "#sk-container-id-4 div.sk-label label.sk-toggleable__label,\n",
       "#sk-container-id-4 div.sk-label label {\n",
       "  /* The background is the default theme color */\n",
       "  color: var(--sklearn-color-text-on-default-background);\n",
       "}\n",
       "\n",
       "/* On hover, darken the color of the background */\n",
       "#sk-container-id-4 div.sk-label:hover label.sk-toggleable__label {\n",
       "  color: var(--sklearn-color-text);\n",
       "  background-color: var(--sklearn-color-unfitted-level-2);\n",
       "}\n",
       "\n",
       "/* Label box, darken color on hover, fitted */\n",
       "#sk-container-id-4 div.sk-label.fitted:hover label.sk-toggleable__label.fitted {\n",
       "  color: var(--sklearn-color-text);\n",
       "  background-color: var(--sklearn-color-fitted-level-2);\n",
       "}\n",
       "\n",
       "/* Estimator label */\n",
       "\n",
       "#sk-container-id-4 div.sk-label label {\n",
       "  font-family: monospace;\n",
       "  font-weight: bold;\n",
       "  display: inline-block;\n",
       "  line-height: 1.2em;\n",
       "}\n",
       "\n",
       "#sk-container-id-4 div.sk-label-container {\n",
       "  text-align: center;\n",
       "}\n",
       "\n",
       "/* Estimator-specific */\n",
       "#sk-container-id-4 div.sk-estimator {\n",
       "  font-family: monospace;\n",
       "  border: 1px dotted var(--sklearn-color-border-box);\n",
       "  border-radius: 0.25em;\n",
       "  box-sizing: border-box;\n",
       "  margin-bottom: 0.5em;\n",
       "  /* unfitted */\n",
       "  background-color: var(--sklearn-color-unfitted-level-0);\n",
       "}\n",
       "\n",
       "#sk-container-id-4 div.sk-estimator.fitted {\n",
       "  /* fitted */\n",
       "  background-color: var(--sklearn-color-fitted-level-0);\n",
       "}\n",
       "\n",
       "/* on hover */\n",
       "#sk-container-id-4 div.sk-estimator:hover {\n",
       "  /* unfitted */\n",
       "  background-color: var(--sklearn-color-unfitted-level-2);\n",
       "}\n",
       "\n",
       "#sk-container-id-4 div.sk-estimator.fitted:hover {\n",
       "  /* fitted */\n",
       "  background-color: var(--sklearn-color-fitted-level-2);\n",
       "}\n",
       "\n",
       "/* Specification for estimator info (e.g. \"i\" and \"?\") */\n",
       "\n",
       "/* Common style for \"i\" and \"?\" */\n",
       "\n",
       ".sk-estimator-doc-link,\n",
       "a:link.sk-estimator-doc-link,\n",
       "a:visited.sk-estimator-doc-link {\n",
       "  float: right;\n",
       "  font-size: smaller;\n",
       "  line-height: 1em;\n",
       "  font-family: monospace;\n",
       "  background-color: var(--sklearn-color-background);\n",
       "  border-radius: 1em;\n",
       "  height: 1em;\n",
       "  width: 1em;\n",
       "  text-decoration: none !important;\n",
       "  margin-left: 1ex;\n",
       "  /* unfitted */\n",
       "  border: var(--sklearn-color-unfitted-level-1) 1pt solid;\n",
       "  color: var(--sklearn-color-unfitted-level-1);\n",
       "}\n",
       "\n",
       ".sk-estimator-doc-link.fitted,\n",
       "a:link.sk-estimator-doc-link.fitted,\n",
       "a:visited.sk-estimator-doc-link.fitted {\n",
       "  /* fitted */\n",
       "  border: var(--sklearn-color-fitted-level-1) 1pt solid;\n",
       "  color: var(--sklearn-color-fitted-level-1);\n",
       "}\n",
       "\n",
       "/* On hover */\n",
       "div.sk-estimator:hover .sk-estimator-doc-link:hover,\n",
       ".sk-estimator-doc-link:hover,\n",
       "div.sk-label-container:hover .sk-estimator-doc-link:hover,\n",
       ".sk-estimator-doc-link:hover {\n",
       "  /* unfitted */\n",
       "  background-color: var(--sklearn-color-unfitted-level-3);\n",
       "  color: var(--sklearn-color-background);\n",
       "  text-decoration: none;\n",
       "}\n",
       "\n",
       "div.sk-estimator.fitted:hover .sk-estimator-doc-link.fitted:hover,\n",
       ".sk-estimator-doc-link.fitted:hover,\n",
       "div.sk-label-container:hover .sk-estimator-doc-link.fitted:hover,\n",
       ".sk-estimator-doc-link.fitted:hover {\n",
       "  /* fitted */\n",
       "  background-color: var(--sklearn-color-fitted-level-3);\n",
       "  color: var(--sklearn-color-background);\n",
       "  text-decoration: none;\n",
       "}\n",
       "\n",
       "/* Span, style for the box shown on hovering the info icon */\n",
       ".sk-estimator-doc-link span {\n",
       "  display: none;\n",
       "  z-index: 9999;\n",
       "  position: relative;\n",
       "  font-weight: normal;\n",
       "  right: .2ex;\n",
       "  padding: .5ex;\n",
       "  margin: .5ex;\n",
       "  width: min-content;\n",
       "  min-width: 20ex;\n",
       "  max-width: 50ex;\n",
       "  color: var(--sklearn-color-text);\n",
       "  box-shadow: 2pt 2pt 4pt #999;\n",
       "  /* unfitted */\n",
       "  background: var(--sklearn-color-unfitted-level-0);\n",
       "  border: .5pt solid var(--sklearn-color-unfitted-level-3);\n",
       "}\n",
       "\n",
       ".sk-estimator-doc-link.fitted span {\n",
       "  /* fitted */\n",
       "  background: var(--sklearn-color-fitted-level-0);\n",
       "  border: var(--sklearn-color-fitted-level-3);\n",
       "}\n",
       "\n",
       ".sk-estimator-doc-link:hover span {\n",
       "  display: block;\n",
       "}\n",
       "\n",
       "/* \"?\"-specific style due to the `<a>` HTML tag */\n",
       "\n",
       "#sk-container-id-4 a.estimator_doc_link {\n",
       "  float: right;\n",
       "  font-size: 1rem;\n",
       "  line-height: 1em;\n",
       "  font-family: monospace;\n",
       "  background-color: var(--sklearn-color-background);\n",
       "  border-radius: 1rem;\n",
       "  height: 1rem;\n",
       "  width: 1rem;\n",
       "  text-decoration: none;\n",
       "  /* unfitted */\n",
       "  color: var(--sklearn-color-unfitted-level-1);\n",
       "  border: var(--sklearn-color-unfitted-level-1) 1pt solid;\n",
       "}\n",
       "\n",
       "#sk-container-id-4 a.estimator_doc_link.fitted {\n",
       "  /* fitted */\n",
       "  border: var(--sklearn-color-fitted-level-1) 1pt solid;\n",
       "  color: var(--sklearn-color-fitted-level-1);\n",
       "}\n",
       "\n",
       "/* On hover */\n",
       "#sk-container-id-4 a.estimator_doc_link:hover {\n",
       "  /* unfitted */\n",
       "  background-color: var(--sklearn-color-unfitted-level-3);\n",
       "  color: var(--sklearn-color-background);\n",
       "  text-decoration: none;\n",
       "}\n",
       "\n",
       "#sk-container-id-4 a.estimator_doc_link.fitted:hover {\n",
       "  /* fitted */\n",
       "  background-color: var(--sklearn-color-fitted-level-3);\n",
       "}\n",
       "</style><div id=\"sk-container-id-4\" class=\"sk-top-container\"><div class=\"sk-text-repr-fallback\"><pre>LGBMRegressor(max_depth=10, random_state=42)</pre><b>In a Jupyter environment, please rerun this cell to show the HTML representation or trust the notebook. <br />On GitHub, the HTML representation is unable to render, please try loading this page with nbviewer.org.</b></div><div class=\"sk-container\" hidden><div class=\"sk-item\"><div class=\"sk-estimator fitted sk-toggleable\"><input class=\"sk-toggleable__control sk-hidden--visually\" id=\"sk-estimator-id-4\" type=\"checkbox\" checked><label for=\"sk-estimator-id-4\" class=\"sk-toggleable__label fitted sk-toggleable__label-arrow fitted\">&nbsp;LGBMRegressor<span class=\"sk-estimator-doc-link fitted\">i<span>Fitted</span></span></label><div class=\"sk-toggleable__content fitted\"><pre>LGBMRegressor(max_depth=10, random_state=42)</pre></div> </div></div></div></div>"
      ],
      "text/plain": [
       "LGBMRegressor(max_depth=10, random_state=42)"
      ]
     },
     "execution_count": 162,
     "metadata": {},
     "output_type": "execute_result"
    }
   ],
   "source": [
    "# train model \n",
    "lgb_model.fit(X_train, y_train)"
   ]
  },
  {
   "cell_type": "code",
   "execution_count": 163,
   "metadata": {},
   "outputs": [],
   "source": [
    "# predict on both train and test\n",
    "train_preds = lgb_model.predict(X_train)\n",
    "test_preds = lgb_model.predict(X_test)"
   ]
  },
  {
   "cell_type": "code",
   "execution_count": 164,
   "metadata": {},
   "outputs": [],
   "source": [
    "# evaluate RMSE \n",
    "train_rmse = round(sqrt(mean_squared_error(y_train, train_preds)),2)\n",
    "test_rmse = round(sqrt(mean_squared_error(y_test, test_preds)), 2)"
   ]
  },
  {
   "cell_type": "code",
   "execution_count": 165,
   "metadata": {},
   "outputs": [],
   "source": [
    "# timer\n",
    "end_time = time.time()\n",
    "training_time = round(end_time - start_time, 2)"
   ]
  },
  {
   "cell_type": "code",
   "execution_count": 166,
   "metadata": {},
   "outputs": [
    {
     "name": "stdout",
     "output_type": "stream",
     "text": [
      "LightGBM Performance\n",
      "Training RMSE: 1823.83\n",
      "Testing RMSE: 1856.4\n",
      "Training time: 4.3 seconds\n"
     ]
    }
   ],
   "source": [
    "# print results\n",
    "print(f\"LightGBM Performance\")\n",
    "print(f\"Training RMSE: {train_rmse}\")\n",
    "print(f\"Testing RMSE: {test_rmse}\")\n",
    "print(f\"Training time: {training_time} seconds\")"
   ]
  },
  {
   "cell_type": "markdown",
   "metadata": {},
   "source": [
    "**Model Performance Summary**\n",
    "\n",
    "- **Model**: Linear Regression\n",
    "- **Train RMSE**: 3159.38\n",
    "- **Test RMSE**: 3200.34\n",
    "- **Training Time**: 13.43 secs ((*blazin' fast!*)\n",
    "- **Notes**: Baseline - Fast but very underfit\n",
    "*Linear Regression acts like a baseline - if any complex model does worse than this, something went wrong. It's a linear model, meaning it assumes a straight-line relationship. But car prices? Not always linear.*\n",
    "\n",
    "\n",
    "- **Model**: Decision Tree \n",
    "- **Train RMSE**: 2052.00\n",
    "- **Test RMSE**: 2144.65\n",
    "- **Training Time**: 126.17 secs\n",
    "- **Notes**: Better fit, slight overfit\n",
    "*Lower RMSE than Linear Regression - it's capturing nonlinear patterns. There is a gap between train/test RMSE is noticeable - red flag for overfitting.*\n",
    "\n",
    "\n",
    "- **Model**: Random Forest\n",
    "- **Train RMSE**: 1193.17 (very low - suspiciously good!)\n",
    "- **Test RMSE**: 1755.32\n",
    "- **Training Time**: 344.20 secs\n",
    "- **Notes**: Strong but overfit\n",
    "*Random Forest = many decision trees (aka \"forest\"), more power, but easier to overfit if not pruned or regularized. A huge gap between training and testing RMSE, the model is memorizing instead of learning patterns.*  \n",
    "\n",
    "\n",
    "- **Model**: LightGBM\n",
    "- **Train RMSE**: 1823.83\n",
    "- **Test RMSE**: 1856.40\n",
    "- **Training Time**: 385.47 secs\n",
    "- **Notes**: Balanced, generalizes well\n",
    "*RSME is a bit higher than Random Forest on training, but test RME is much better, this is the golden sign. The training vs. testing gap is small, which means the model is not overfitting. It learns in a boosted (sequential) way - improving from previous steps with regularization built-in.*"
   ]
  },
  {
   "cell_type": "markdown",
   "metadata": {},
   "source": [
    "**Additional Insights**\n",
    "\n",
    "- Linear Regression is a good sanity check. It runs super fast but isn't great at capturing complex patterns. \n",
    "- Decision performed better but started to memorize (overfit) the training data.\n",
    "- Random Forest crushed the training RMSE but clearly overfit - the test RMSE jumped.\n",
    "- LightGBM is your generalizer so far - with good testing performance and les overfitting than Random Forest. "
   ]
  },
  {
   "cell_type": "markdown",
   "metadata": {},
   "source": [
    "### **(Optional) Add CatBoost or XGBoost**"
   ]
  },
  {
   "cell_type": "code",
   "execution_count": 171,
   "metadata": {},
   "outputs": [],
   "source": [
    "# start timer\n",
    "start_time = time.time()"
   ]
  },
  {
   "cell_type": "code",
   "execution_count": 174,
   "metadata": {},
   "outputs": [],
   "source": [
    "# CatBoost Regressor\n",
    "cat_model = CatBoostRegressor(\n",
    "    iterations = 200,\n",
    "    learning_rate = 0.1,\n",
    "    depth = 6,\n",
    "    loss_function = \"RMSE\",\n",
    "    random_seed = 42,\n",
    "    verbose = 50\n",
    ")"
   ]
  },
  {
   "cell_type": "code",
   "execution_count": 179,
   "metadata": {},
   "outputs": [
    {
     "name": "stdout",
     "output_type": "stream",
     "text": [
      "0:\tlearn: 4225.7639014\ttotal: 187ms\tremaining: 37.2s\n",
      "50:\tlearn: 2069.5291428\ttotal: 1.74s\tremaining: 5.09s\n",
      "100:\tlearn: 1954.1490122\ttotal: 3.27s\tremaining: 3.21s\n",
      "150:\tlearn: 1901.7937046\ttotal: 4.83s\tremaining: 1.57s\n",
      "199:\tlearn: 1863.2910548\ttotal: 6.29s\tremaining: 0us\n"
     ]
    },
    {
     "data": {
      "text/plain": [
       "<catboost.core.CatBoostRegressor at 0x136704a34d0>"
      ]
     },
     "execution_count": 179,
     "metadata": {},
     "output_type": "execute_result"
    }
   ],
   "source": [
    "# train the model\n",
    "cat_model.fit(X_train, y_train)"
   ]
  },
  {
   "cell_type": "code",
   "execution_count": 180,
   "metadata": {},
   "outputs": [],
   "source": [
    "# predictions\n",
    "y_pred_train = cat_model.predict(X_train)\n",
    "y_pred_test = cat_model.predict(X_test)"
   ]
  },
  {
   "cell_type": "code",
   "execution_count": 181,
   "metadata": {},
   "outputs": [
    {
     "name": "stderr",
     "output_type": "stream",
     "text": [
      "C:\\Users\\Eva Brown\\anaconda3\\Lib\\site-packages\\sklearn\\metrics\\_regression.py:492: FutureWarning: 'squared' is deprecated in version 1.4 and will be removed in 1.6. To calculate the root mean squared error, use the function'root_mean_squared_error'.\n",
      "  warnings.warn(\n",
      "C:\\Users\\Eva Brown\\anaconda3\\Lib\\site-packages\\sklearn\\metrics\\_regression.py:492: FutureWarning: 'squared' is deprecated in version 1.4 and will be removed in 1.6. To calculate the root mean squared error, use the function'root_mean_squared_error'.\n",
      "  warnings.warn(\n"
     ]
    }
   ],
   "source": [
    "# RMSE\n",
    "cat_rmse_train = mean_squared_error(y_train, y_pred_train, squared=False)\n",
    "cat_rmse_test = mean_squared_error(y_test, y_pred_test, squared=False)"
   ]
  },
  {
   "cell_type": "code",
   "execution_count": 182,
   "metadata": {},
   "outputs": [],
   "source": [
    "# timer\n",
    "end_time = time.time()\n",
    "training_time = end_time - start_time"
   ]
  },
  {
   "cell_type": "code",
   "execution_count": 183,
   "metadata": {},
   "outputs": [
    {
     "name": "stdout",
     "output_type": "stream",
     "text": [
      "CatBoost Performance:\n",
      "Training RMSE: 1863.29\n",
      "Testing RMSE: 1890.18\n",
      "Training time: 7.92 seconds\n"
     ]
    }
   ],
   "source": [
    "# print results\n",
    "print(\"CatBoost Performance:\")\n",
    "print(f\"Training RMSE: {cat_rmse_train:.2f}\")\n",
    "print(f\"Testing RMSE: {cat_rmse_test:.2f}\")\n",
    "print(f\"Training time: {training_time:.2f} seconds\")\n"
   ]
  },
  {
   "cell_type": "markdown",
   "metadata": {},
   "source": [
    "**CatBoost Analysis**:\n",
    "- Better generalization than Decision Tree & Random Forest.\n",
    "- Slightly higher test RMSE than LightGBM, but faster training.\n",
    "- Built-in categorical handling means cleaner preprocessing."
   ]
  },
  {
   "cell_type": "markdown",
   "metadata": {},
   "source": [
    "### 2.6 Model Comparison Summary\n",
    "\n",
    "| Model             | Train RMSE | Test RMSE | Training Time |\n",
    "|------------------|------------|-----------|----------------|\n",
    "| Linear Regression| 3159.38    | 3200.34   | 13.43s         |\n",
    "| Decision Tree    | 2052.00    | 2144.65   | 126.17s        |\n",
    "| Random Forest    | 1193.17    | 1755.32   | 344.20s        |\n",
    "| LightGBM         | 1823.83    | 1856.40   | 385.47s        |\n",
    "| CatBoost         | 1863.29    | 1890.18   | 78.21s         |\n"
   ]
  },
  {
   "cell_type": "markdown",
   "metadata": {},
   "source": [
    "## Model analysis"
   ]
  },
  {
   "cell_type": "markdown",
   "metadata": {},
   "source": [
    "*Goal*: Compare models based on:\n",
    "- Prediction quality (RMSE)\n",
    "- Training time\n",
    "- Inference speed"
   ]
  },
  {
   "cell_type": "markdown",
   "metadata": {},
   "source": [
    "**Create a summary table of metrics**"
   ]
  },
  {
   "cell_type": "code",
   "execution_count": 190,
   "metadata": {},
   "outputs": [],
   "source": [
    "# build summary table\n",
    "results_df = pd.DataFrame({\n",
    "    'Model': [\n",
    "        'Linear Regression',\n",
    "        'Decision Tree',\n",
    "        'Random Forest',\n",
    "        'LightGBM',\n",
    "        'CatBoost'\n",
    "    ],\n",
    "    'Train RMSE': [\n",
    "        3159.38,\n",
    "        2052.00,\n",
    "        1193.17,\n",
    "        1823.83,\n",
    "        1863.29\n",
    "    ],\n",
    "    'Test RMSE': [\n",
    "        3200.34,\n",
    "        2144.65,\n",
    "        1755.32,\n",
    "        1856.40,\n",
    "        1890.18\n",
    "    ],\n",
    "    'Training Time (s)': [\n",
    "        13.43,\n",
    "        126.17,\n",
    "        344.20,\n",
    "        385.47,\n",
    "        78.21\n",
    "    ]\n",
    "})"
   ]
  },
  {
   "cell_type": "code",
   "execution_count": 191,
   "metadata": {},
   "outputs": [
    {
     "data": {
      "text/html": [
       "<div>\n",
       "<style scoped>\n",
       "    .dataframe tbody tr th:only-of-type {\n",
       "        vertical-align: middle;\n",
       "    }\n",
       "\n",
       "    .dataframe tbody tr th {\n",
       "        vertical-align: top;\n",
       "    }\n",
       "\n",
       "    .dataframe thead th {\n",
       "        text-align: right;\n",
       "    }\n",
       "</style>\n",
       "<table border=\"1\" class=\"dataframe\">\n",
       "  <thead>\n",
       "    <tr style=\"text-align: right;\">\n",
       "      <th></th>\n",
       "      <th>Model</th>\n",
       "      <th>Train RMSE</th>\n",
       "      <th>Test RMSE</th>\n",
       "      <th>Training Time (s)</th>\n",
       "    </tr>\n",
       "  </thead>\n",
       "  <tbody>\n",
       "    <tr>\n",
       "      <th>0</th>\n",
       "      <td>Linear Regression</td>\n",
       "      <td>3159.38</td>\n",
       "      <td>3200.34</td>\n",
       "      <td>13.43</td>\n",
       "    </tr>\n",
       "    <tr>\n",
       "      <th>1</th>\n",
       "      <td>Decision Tree</td>\n",
       "      <td>2052.00</td>\n",
       "      <td>2144.65</td>\n",
       "      <td>126.17</td>\n",
       "    </tr>\n",
       "    <tr>\n",
       "      <th>2</th>\n",
       "      <td>Random Forest</td>\n",
       "      <td>1193.17</td>\n",
       "      <td>1755.32</td>\n",
       "      <td>344.20</td>\n",
       "    </tr>\n",
       "    <tr>\n",
       "      <th>3</th>\n",
       "      <td>LightGBM</td>\n",
       "      <td>1823.83</td>\n",
       "      <td>1856.40</td>\n",
       "      <td>385.47</td>\n",
       "    </tr>\n",
       "    <tr>\n",
       "      <th>4</th>\n",
       "      <td>CatBoost</td>\n",
       "      <td>1863.29</td>\n",
       "      <td>1890.18</td>\n",
       "      <td>78.21</td>\n",
       "    </tr>\n",
       "  </tbody>\n",
       "</table>\n",
       "</div>"
      ],
      "text/plain": [
       "               Model  Train RMSE  Test RMSE  Training Time (s)\n",
       "0  Linear Regression     3159.38    3200.34              13.43\n",
       "1      Decision Tree     2052.00    2144.65             126.17\n",
       "2      Random Forest     1193.17    1755.32             344.20\n",
       "3           LightGBM     1823.83    1856.40             385.47\n",
       "4           CatBoost     1863.29    1890.18              78.21"
      ]
     },
     "execution_count": 191,
     "metadata": {},
     "output_type": "execute_result"
    }
   ],
   "source": [
    "results_df"
   ]
  },
  {
   "cell_type": "markdown",
   "metadata": {},
   "source": [
    "**Compare performance visually (bar plot of RMSE/time)**"
   ]
  },
  {
   "cell_type": "code",
   "execution_count": 193,
   "metadata": {},
   "outputs": [],
   "source": [
    "# define models and metrics\n",
    "models = ['Linear Regression', 'Decision Tree', 'Random Forest','LightGBM', 'CatBoost']\n",
    "rsme_train = [3159.38, 2052.00, 1193.17, 1823.83, 1863.29]\n",
    "rsme_test = [3200.34, 2144.65, 1755.32, 1856.40, 1890.18]\n",
    "training_time = [13.43, 126.17, 344.20, 385.47, 78.21]"
   ]
  },
  {
   "cell_type": "code",
   "execution_count": 194,
   "metadata": {},
   "outputs": [
    {
     "data": {
      "image/png": "[encoded data removed]",
      "text/plain": [
       "<Figure size 1400x500 with 2 Axes>"
      ]
     },
     "metadata": {},
     "output_type": "display_data"
    }
   ],
   "source": [
    "# set plot size and styling\n",
    "plt.figure(figsize=(14,5))\n",
    "\n",
    "# ---Plot 1: Test RMSE ---\n",
    "plt.subplot(1,2,1)\n",
    "plt.bar(models, rmse_test)\n",
    "plt.title('Test RMSE per Model')\n",
    "plt.ylabel('RMSE (lower is better)')\n",
    "plt.xticks(rotation = 45)\n",
    "\n",
    "# --- Plot 2: Training Time ---\n",
    "plt.subplot(1, 2, 2)\n",
    "plt.bar(models, training_time)\n",
    "plt.title('Training Time per Model')\n",
    "plt.ylabel('Time (seconds)')\n",
    "plt.xticks(rotation=45)\n",
    "\n",
    "# tight layout\n",
    "plt.tight_layout()\n",
    "plt.show()\n"
   ]
  },
  {
   "cell_type": "markdown",
   "metadata": {},
   "source": [
    "**Model Comparison: RMSE vs. Training Time**\n",
    "\n",
    "*Plot 1* This plot shows which model predicted the car prices most accurately:\n",
    "\n",
    "| Model              | RMSE (Test)| Interpretation                                     |\n",
    "|--------------------|------------|----------------------------------------------------|\n",
    "| Linear Regression  | 3200.34    | Weak baseline, fast but oversimplifies patterns    |\n",
    "| Decision Tree      | 2144.65    | Much better! Captures patterns, but may overfit.   |\n",
    "| Random Forest      | 1755.32    | Powerful but clearly overfitting (see Plot 2).     |\n",
    "| LightGBM           | 1856.40    | Great generalization. Solid test performance.      |\n",
    "| CatBoost           | 1890.18    | 1Comparable to LightGBM with faster training!      |"
   ]
  },
  {
   "cell_type": "markdown",
   "metadata": {},
   "source": [
    "**Model Comparison: Training Time (Efficiency)**\n",
    "\n",
    "*Plot 2* This plots tells us how long each model took to train:\n",
    "\n",
    "| Model              | Time(s)\t  | Interpretation \t\t\t\t                   |\n",
    "|--------------------|------------|------------------------------------------------|\n",
    "| Linear Regression  | 13.43      | Fastest, but weak accuracy.                    |\n",
    "| Decision Tree      | 126.17     | Moderate time, decent model.                   |\n",
    "| Random Forest      | 344.20     | Longest training, overfits.                    |\n",
    "| LightGBM           | 385.47     | Long, but good generalization.                 |\n",
    "| CatBoost           | 78.21      | Balanced — solid performance, fast training!   |"
   ]
  },
  {
   "cell_type": "markdown",
   "metadata": {},
   "source": [
    " **Key Takeaway**: CatBoost wins the efficiency + effectiveness race!"
   ]
  },
  {
   "cell_type": "markdown",
   "metadata": {},
   "source": [
    "**Choose best model based on Rusty Bargain’s goals**"
   ]
  },
  {
   "cell_type": "markdown",
   "metadata": {},
   "source": [
    "Best Overall Model for Rusty Bargain?\n",
    "\n",
    "Let’s recall their 3 goals:\n",
    "\n",
    "- **Quality**: Predict car prices accurately\n",
    "- **Speed**: Deliver answers quickly in-app\n",
    "- **Training Time**: Doesn’t take ages to train\n",
    "\n",
    "**Recommendation:**\n",
    "\n",
    "*CatBoost hits the sweet spot*:\n",
    "- Good RMSE (within ~35 points of LightGBM)\n",
    "- Shortest training time among the top models\n",
    "- Handles categorical data natively (no need for manual encoding)"
   ]
  },
  {
   "cell_type": "markdown",
   "metadata": {},
   "source": [
    "**(Optional) Export best model for deployment**"
   ]
  },
  {
   "cell_type": "code",
   "execution_count": 202,
   "metadata": {},
   "outputs": [
    {
     "data": {
      "text/plain": [
       "['catboost_car_price_model.pkl']"
      ]
     },
     "execution_count": 202,
     "metadata": {},
     "output_type": "execute_result"
    }
   ],
   "source": [
    "# save the trained CatBoost model\n",
    "joblib.dump(cat_model, 'catboost_car_price_model.pkl')\n",
    "\n",
    "# .pkl - short for 'pickle'. Store Python objects."
   ]
  },
  {
   "cell_type": "code",
   "execution_count": 203,
   "metadata": {},
   "outputs": [],
   "source": [
    "# option load and use later\n",
    "# load the saved model \n",
    "loaded_model = joblib.load('catboost_car_price_model.pkl')"
   ]
  },
  {
   "cell_type": "code",
   "execution_count": 204,
   "metadata": {},
   "outputs": [],
   "source": [
    "# predict with the loaded model\n",
    "\n",
    "preds = loaded_model.predict(X_test)"
   ]
  },
  {
   "cell_type": "markdown",
   "metadata": {},
   "source": [
    "# Checklist"
   ]
  },
  {
   "cell_type": "markdown",
   "metadata": {},
   "source": [
    "Type 'x' to check. Then press Shift+Enter."
   ]
  },
  {
   "cell_type": "markdown",
   "metadata": {},
   "source": [
    "- [x]  Jupyter Notebook is open\n",
    "- [x]  Code is error free\n",
    "- [x]  The cells with the code have been arranged in order of execution\n",
    "- [x]  The data has been downloaded and prepared\n",
    "- [x]  The models have been trained\n",
    "- [x]  The analysis of speed and quality of the models has been performed"
   ]
  },
  {
   "cell_type": "markdown",
   "metadata": {},
   "source": [
    "## **Final Conclusion**\n",
    "\n",
    "This project successfully trained and evaluated five models to predict car prices for Rusty Bargain's app. After comparing RMSE scores and training times, **CatBoost** emerged as the most balanced model, offering solid performance with the shortest training time among top contenders.\n",
    "\n",
    "**Model Highlights:**\n",
    "- **Best generalizer**: CatBoost with Testing RMSE of ~1890.18\n",
    "- **Fastest high-performer**: Trained in just 78 seconds\n",
    "- **Ready for deployment**: Clean handling of categorical features\n",
    "\n",
    "**Rusty Bargain’s goals were met:**\n",
    "- **High-quality predictions**\n",
    "- **Reasonable training speed**\n",
    "- **Quick inference potential**\n",
    "\n",
    "### Next Steps\n",
    "- Export and deploy the CatBoost model in the web app.\n",
    "- Optionally perform hyperparameter tuning or model stacking for even better accuracy.\n",
    "\n"
   ]
  }
 ],
 "metadata": {
  "ExecuteTimeLog": [
   {
    "duration": 8,
    "start_time": "2025-04-04T04:09:48.054Z"
   },
   {
    "duration": 5,
    "start_time": "2025-04-04T04:31:41.791Z"
   },
   {
    "duration": 845,
    "start_time": "2025-04-04T04:31:47.433Z"
   },
   {
    "duration": 574,
    "start_time": "2025-04-04T04:35:31.736Z"
   },
   {
    "duration": 4,
    "start_time": "2025-04-04T04:35:44.492Z"
   },
   {
    "duration": 529,
    "start_time": "2025-04-04T04:36:06.841Z"
   },
   {
    "duration": 14,
    "start_time": "2025-04-04T04:39:53.972Z"
   },
   {
    "duration": 113,
    "start_time": "2025-04-04T04:40:17.549Z"
   },
   {
    "duration": 117,
    "start_time": "2025-04-04T04:40:27.186Z"
   },
   {
    "duration": 114,
    "start_time": "2025-04-04T04:40:42.500Z"
   },
   {
    "duration": 14,
    "start_time": "2025-04-04T04:44:55.587Z"
   },
   {
    "duration": 85,
    "start_time": "2025-04-04T04:45:02.003Z"
   },
   {
    "duration": 5,
    "start_time": "2025-04-04T04:45:16.447Z"
   },
   {
    "duration": 4,
    "start_time": "2025-04-04T04:45:20.429Z"
   },
   {
    "duration": 104,
    "start_time": "2025-04-04T04:45:26.967Z"
   },
   {
    "duration": 22,
    "start_time": "2025-04-04T04:47:00.217Z"
   },
   {
    "duration": 12,
    "start_time": "2025-04-04T04:48:38.687Z"
   },
   {
    "duration": 4,
    "start_time": "2025-04-04T04:49:01.995Z"
   },
   {
    "duration": 26,
    "start_time": "2025-04-04T04:53:43.972Z"
   },
   {
    "duration": 10,
    "start_time": "2025-04-04T04:53:45.837Z"
   },
   {
    "duration": 4,
    "start_time": "2025-04-04T04:54:39.429Z"
   },
   {
    "duration": 3,
    "start_time": "2025-04-04T04:54:44.858Z"
   },
   {
    "duration": 13,
    "start_time": "2025-04-04T04:55:00.793Z"
   },
   {
    "duration": 4,
    "start_time": "2025-04-04T04:55:03.047Z"
   },
   {
    "duration": 8,
    "start_time": "2025-04-04T04:55:11.831Z"
   },
   {
    "duration": 5,
    "start_time": "2025-04-04T04:55:12.338Z"
   },
   {
    "duration": 812,
    "start_time": "2025-04-04T04:55:24.243Z"
   },
   {
    "duration": 472,
    "start_time": "2025-04-04T04:55:26.103Z"
   },
   {
    "duration": 15,
    "start_time": "2025-04-04T04:55:26.594Z"
   },
   {
    "duration": 5,
    "start_time": "2025-04-04T04:55:27.248Z"
   },
   {
    "duration": 28,
    "start_time": "2025-04-04T04:55:29.258Z"
   },
   {
    "duration": 4,
    "start_time": "2025-04-04T04:55:29.954Z"
   },
   {
    "duration": 5,
    "start_time": "2025-04-04T04:55:30.919Z"
   },
   {
    "duration": 116,
    "start_time": "2025-04-04T04:56:49.950Z"
   },
   {
    "duration": 105,
    "start_time": "2025-04-04T04:56:53.174Z"
   },
   {
    "duration": 108,
    "start_time": "2025-04-04T05:09:38.869Z"
   },
   {
    "duration": 125,
    "start_time": "2025-04-04T05:11:00.725Z"
   },
   {
    "duration": 258,
    "start_time": "2025-04-04T05:11:43.734Z"
   },
   {
    "duration": 129,
    "start_time": "2025-04-04T05:11:52.827Z"
   },
   {
    "duration": 14,
    "start_time": "2025-04-04T05:12:55.955Z"
   },
   {
    "duration": 4,
    "start_time": "2025-04-04T05:13:04.181Z"
   },
   {
    "duration": 3,
    "start_time": "2025-04-04T05:14:37.316Z"
   },
   {
    "duration": 7,
    "start_time": "2025-04-04T05:14:55.793Z"
   },
   {
    "duration": 4,
    "start_time": "2025-04-04T05:17:30.044Z"
   },
   {
    "duration": 4,
    "start_time": "2025-04-04T05:17:40.971Z"
   },
   {
    "duration": 18,
    "start_time": "2025-04-04T05:17:41.533Z"
   },
   {
    "duration": 471,
    "start_time": "2025-04-04T05:22:54.492Z"
   },
   {
    "duration": 99,
    "start_time": "2025-04-04T05:23:20.332Z"
   },
   {
    "duration": 3,
    "start_time": "2025-04-04T05:24:40.069Z"
   },
   {
    "duration": 15,
    "start_time": "2025-04-04T05:25:44.473Z"
   },
   {
    "duration": 67,
    "start_time": "2025-04-04T05:26:32.132Z"
   },
   {
    "duration": 17,
    "start_time": "2025-04-04T05:28:01.468Z"
   },
   {
    "duration": 129,
    "start_time": "2025-04-04T05:28:24.153Z"
   },
   {
    "duration": 750,
    "start_time": "2025-04-04T16:34:29.068Z"
   },
   {
    "duration": 488,
    "start_time": "2025-04-04T16:34:29.821Z"
   },
   {
    "duration": 15,
    "start_time": "2025-04-04T16:34:30.311Z"
   },
   {
    "duration": 6,
    "start_time": "2025-04-04T16:34:30.328Z"
   },
   {
    "duration": 25,
    "start_time": "2025-04-04T16:34:30.337Z"
   },
   {
    "duration": 24,
    "start_time": "2025-04-04T16:34:30.364Z"
   },
   {
    "duration": 5,
    "start_time": "2025-04-04T16:34:30.390Z"
   },
   {
    "duration": 121,
    "start_time": "2025-04-04T16:34:30.396Z"
   },
   {
    "duration": 95,
    "start_time": "2025-04-04T16:34:30.519Z"
   },
   {
    "duration": 98,
    "start_time": "2025-04-04T16:34:30.616Z"
   },
   {
    "duration": 4,
    "start_time": "2025-04-04T16:34:30.716Z"
   },
   {
    "duration": 4,
    "start_time": "2025-04-04T16:34:30.721Z"
   },
   {
    "duration": 4,
    "start_time": "2025-04-04T16:34:30.727Z"
   },
   {
    "duration": 6,
    "start_time": "2025-04-04T16:34:30.735Z"
   },
   {
    "duration": 116,
    "start_time": "2025-04-04T16:34:30.743Z"
   },
   {
    "duration": 4,
    "start_time": "2025-04-04T16:34:30.861Z"
   },
   {
    "duration": 23,
    "start_time": "2025-04-04T16:34:30.867Z"
   },
   {
    "duration": 63,
    "start_time": "2025-04-04T16:34:30.892Z"
   },
   {
    "duration": 112,
    "start_time": "2025-04-04T16:36:19.628Z"
   },
   {
    "duration": 396,
    "start_time": "2025-04-04T17:15:58.457Z"
   },
   {
    "duration": 353,
    "start_time": "2025-04-04T17:16:19.238Z"
   },
   {
    "duration": 3,
    "start_time": "2025-04-04T17:16:23.883Z"
   },
   {
    "duration": 95,
    "start_time": "2025-04-04T17:16:34.457Z"
   },
   {
    "duration": 11,
    "start_time": "2025-04-04T17:21:40.816Z"
   },
   {
    "duration": 3,
    "start_time": "2025-04-04T17:21:41.453Z"
   },
   {
    "duration": 5,
    "start_time": "2025-04-04T17:36:43.278Z"
   },
   {
    "duration": 60,
    "start_time": "2025-04-04T17:37:10.366Z"
   },
   {
    "duration": 3,
    "start_time": "2025-04-04T17:37:52.138Z"
   },
   {
    "duration": 7,
    "start_time": "2025-04-04T17:38:01.526Z"
   },
   {
    "duration": 802,
    "start_time": "2025-04-04T17:43:01.930Z"
   },
   {
    "duration": 433,
    "start_time": "2025-04-04T17:43:22.694Z"
   },
   {
    "duration": 16,
    "start_time": "2025-04-04T17:43:23.185Z"
   },
   {
    "duration": 4,
    "start_time": "2025-04-04T17:43:35.103Z"
   },
   {
    "duration": 25,
    "start_time": "2025-04-04T17:43:36.801Z"
   },
   {
    "duration": 33,
    "start_time": "2025-04-04T17:43:57.696Z"
   },
   {
    "duration": 3,
    "start_time": "2025-04-04T17:43:58.430Z"
   },
   {
    "duration": 4,
    "start_time": "2025-04-04T17:43:59.066Z"
   },
   {
    "duration": 96,
    "start_time": "2025-04-04T17:44:18.497Z"
   },
   {
    "duration": 95,
    "start_time": "2025-04-04T17:44:21.646Z"
   },
   {
    "duration": 96,
    "start_time": "2025-04-04T17:44:27.156Z"
   },
   {
    "duration": 3,
    "start_time": "2025-04-04T17:44:29.576Z"
   },
   {
    "duration": 4,
    "start_time": "2025-04-04T17:44:30.581Z"
   },
   {
    "duration": 4,
    "start_time": "2025-04-04T17:44:31.428Z"
   },
   {
    "duration": 7,
    "start_time": "2025-04-04T17:44:32.011Z"
   },
   {
    "duration": 79,
    "start_time": "2025-04-04T17:45:05.382Z"
   },
   {
    "duration": 4,
    "start_time": "2025-04-04T17:45:06.091Z"
   },
   {
    "duration": 11,
    "start_time": "2025-04-04T17:45:06.804Z"
   },
   {
    "duration": 56,
    "start_time": "2025-04-04T17:45:09.724Z"
   },
   {
    "duration": 122,
    "start_time": "2025-04-04T17:45:10.455Z"
   },
   {
    "duration": 370,
    "start_time": "2025-04-04T17:45:25.596Z"
   },
   {
    "duration": 94,
    "start_time": "2025-04-04T17:45:26.343Z"
   },
   {
    "duration": 12,
    "start_time": "2025-04-04T17:45:29.693Z"
   },
   {
    "duration": 927,
    "start_time": "2025-04-04T17:45:39.391Z"
   },
   {
    "duration": 0,
    "start_time": "2025-04-04T17:45:40.320Z"
   },
   {
    "duration": 337,
    "start_time": "2025-04-04T17:45:58.333Z"
   },
   {
    "duration": 40,
    "start_time": "2025-04-04T17:46:06.509Z"
   },
   {
    "duration": 51,
    "start_time": "2025-04-04T17:47:09.591Z"
   },
   {
    "duration": 9,
    "start_time": "2025-04-04T17:48:29.530Z"
   },
   {
    "duration": 6,
    "start_time": "2025-04-04T17:48:32.467Z"
   },
   {
    "duration": 59,
    "start_time": "2025-04-04T17:48:34.149Z"
   },
   {
    "duration": 4,
    "start_time": "2025-04-04T17:48:35.423Z"
   },
   {
    "duration": 8,
    "start_time": "2025-04-04T17:48:36.509Z"
   },
   {
    "duration": 3,
    "start_time": "2025-04-04T18:01:53.859Z"
   },
   {
    "duration": 6,
    "start_time": "2025-04-04T18:01:57.435Z"
   },
   {
    "duration": 3,
    "start_time": "2025-04-04T18:02:05.986Z"
   },
   {
    "duration": 15,
    "start_time": "2025-04-04T18:02:33.404Z"
   },
   {
    "duration": 10,
    "start_time": "2025-04-04T18:02:35.957Z"
   },
   {
    "duration": 14,
    "start_time": "2025-04-04T18:02:37.628Z"
   },
   {
    "duration": 4,
    "start_time": "2025-04-04T18:04:43.009Z"
   },
   {
    "duration": 3,
    "start_time": "2025-04-04T18:04:56.819Z"
   },
   {
    "duration": 15,
    "start_time": "2025-04-04T18:04:58.049Z"
   },
   {
    "duration": 8,
    "start_time": "2025-04-04T18:09:39.117Z"
   },
   {
    "duration": 69,
    "start_time": "2025-04-04T18:15:05.755Z"
   },
   {
    "duration": 3,
    "start_time": "2025-04-04T18:15:43.577Z"
   },
   {
    "duration": 3,
    "start_time": "2025-04-04T18:16:05.898Z"
   },
   {
    "duration": 18,
    "start_time": "2025-04-04T19:57:27.028Z"
   },
   {
    "duration": 17,
    "start_time": "2025-04-04T20:01:40.801Z"
   },
   {
    "duration": 3,
    "start_time": "2025-04-04T20:01:49.023Z"
   },
   {
    "duration": 14,
    "start_time": "2025-04-04T20:01:53.701Z"
   },
   {
    "duration": 3,
    "start_time": "2025-04-04T20:02:06.559Z"
   },
   {
    "duration": 3,
    "start_time": "2025-04-04T20:03:34.431Z"
   },
   {
    "duration": 63,
    "start_time": "2025-04-04T20:40:08.196Z"
   },
   {
    "duration": 826,
    "start_time": "2025-04-04T20:44:54.011Z"
   },
   {
    "duration": 419,
    "start_time": "2025-04-04T20:44:57.195Z"
   },
   {
    "duration": 16,
    "start_time": "2025-04-04T20:44:58.273Z"
   },
   {
    "duration": 4,
    "start_time": "2025-04-04T20:44:59.072Z"
   },
   {
    "duration": 25,
    "start_time": "2025-04-04T20:45:00.123Z"
   },
   {
    "duration": 3,
    "start_time": "2025-04-04T20:45:00.875Z"
   },
   {
    "duration": 4,
    "start_time": "2025-04-04T20:45:01.544Z"
   },
   {
    "duration": 92,
    "start_time": "2025-04-04T20:45:03.966Z"
   },
   {
    "duration": 95,
    "start_time": "2025-04-04T20:45:04.477Z"
   },
   {
    "duration": 88,
    "start_time": "2025-04-04T20:45:05.271Z"
   },
   {
    "duration": 3,
    "start_time": "2025-04-04T20:45:06.075Z"
   },
   {
    "duration": 4,
    "start_time": "2025-04-04T20:45:06.773Z"
   },
   {
    "duration": 4,
    "start_time": "2025-04-04T20:45:07.348Z"
   },
   {
    "duration": 7,
    "start_time": "2025-04-04T20:45:08.160Z"
   },
   {
    "duration": 88,
    "start_time": "2025-04-04T20:45:09.507Z"
   },
   {
    "duration": 3,
    "start_time": "2025-04-04T20:45:10.241Z"
   },
   {
    "duration": 16,
    "start_time": "2025-04-04T20:45:10.991Z"
   },
   {
    "duration": 62,
    "start_time": "2025-04-04T20:45:11.699Z"
   },
   {
    "duration": 112,
    "start_time": "2025-04-04T20:45:12.407Z"
   },
   {
    "duration": 381,
    "start_time": "2025-04-04T20:45:14.578Z"
   },
   {
    "duration": 113,
    "start_time": "2025-04-04T20:45:15.624Z"
   },
   {
    "duration": 5,
    "start_time": "2025-04-04T20:45:16.707Z"
   },
   {
    "duration": 17,
    "start_time": "2025-04-04T20:45:28.058Z"
   },
   {
    "duration": 5,
    "start_time": "2025-04-04T20:45:28.720Z"
   },
   {
    "duration": 59,
    "start_time": "2025-04-04T20:45:29.593Z"
   },
   {
    "duration": 3,
    "start_time": "2025-04-04T20:45:30.332Z"
   },
   {
    "duration": 9,
    "start_time": "2025-04-04T20:45:31.447Z"
   },
   {
    "duration": 140,
    "start_time": "2025-04-04T20:46:09.452Z"
   },
   {
    "duration": 3,
    "start_time": "2025-04-04T20:46:13.802Z"
   },
   {
    "duration": 21,
    "start_time": "2025-04-04T20:46:14.659Z"
   },
   {
    "duration": 4,
    "start_time": "2025-04-04T20:46:15.548Z"
   },
   {
    "duration": 15,
    "start_time": "2025-04-04T20:46:16.527Z"
   },
   {
    "duration": 73,
    "start_time": "2025-04-04T20:46:37.929Z"
   },
   {
    "duration": 3,
    "start_time": "2025-04-04T20:46:38.480Z"
   },
   {
    "duration": 3,
    "start_time": "2025-04-04T20:47:02.468Z"
   },
   {
    "duration": 198,
    "start_time": "2025-04-04T20:47:03.122Z"
   },
   {
    "duration": 4,
    "start_time": "2025-04-04T20:48:02.386Z"
   },
   {
    "duration": 840,
    "start_time": "2025-04-04T20:53:30.596Z"
   },
   {
    "duration": 417,
    "start_time": "2025-04-04T20:53:33.316Z"
   },
   {
    "duration": 18,
    "start_time": "2025-04-04T20:53:34.674Z"
   },
   {
    "duration": 4,
    "start_time": "2025-04-04T20:53:35.838Z"
   },
   {
    "duration": 24,
    "start_time": "2025-04-04T20:53:37.219Z"
   },
   {
    "duration": 3,
    "start_time": "2025-04-04T20:53:39.843Z"
   },
   {
    "duration": 4,
    "start_time": "2025-04-04T20:53:41.223Z"
   },
   {
    "duration": 114,
    "start_time": "2025-04-04T20:53:53.083Z"
   },
   {
    "duration": 96,
    "start_time": "2025-04-04T20:53:57.220Z"
   },
   {
    "duration": 95,
    "start_time": "2025-04-04T20:53:58.720Z"
   },
   {
    "duration": 4,
    "start_time": "2025-04-04T20:53:59.871Z"
   },
   {
    "duration": 4,
    "start_time": "2025-04-04T20:54:00.953Z"
   },
   {
    "duration": 4,
    "start_time": "2025-04-04T20:54:02.217Z"
   },
   {
    "duration": 7,
    "start_time": "2025-04-04T20:54:02.937Z"
   },
   {
    "duration": 104,
    "start_time": "2025-04-04T20:54:05.685Z"
   },
   {
    "duration": 3,
    "start_time": "2025-04-04T20:54:06.663Z"
   },
   {
    "duration": 15,
    "start_time": "2025-04-04T20:54:07.534Z"
   },
   {
    "duration": 56,
    "start_time": "2025-04-04T20:54:08.820Z"
   },
   {
    "duration": 116,
    "start_time": "2025-04-04T20:54:09.678Z"
   },
   {
    "duration": 366,
    "start_time": "2025-04-04T20:54:12.621Z"
   },
   {
    "duration": 111,
    "start_time": "2025-04-04T20:54:42.424Z"
   },
   {
    "duration": 5,
    "start_time": "2025-04-04T20:54:48.656Z"
   },
   {
    "duration": 11,
    "start_time": "2025-04-04T20:56:36.955Z"
   },
   {
    "duration": 4,
    "start_time": "2025-04-04T20:56:37.714Z"
   },
   {
    "duration": 58,
    "start_time": "2025-04-04T20:56:40.307Z"
   },
   {
    "duration": 4,
    "start_time": "2025-04-04T20:56:42.668Z"
   },
   {
    "duration": 7,
    "start_time": "2025-04-04T20:56:44.554Z"
   },
   {
    "duration": 147,
    "start_time": "2025-04-04T20:57:56.902Z"
   },
   {
    "duration": 3,
    "start_time": "2025-04-04T20:57:58.713Z"
   },
   {
    "duration": 4,
    "start_time": "2025-04-04T20:57:59.508Z"
   },
   {
    "duration": 64,
    "start_time": "2025-04-04T20:58:01.075Z"
   },
   {
    "duration": 624,
    "start_time": "2025-04-04T20:58:24.429Z"
   },
   {
    "duration": 216,
    "start_time": "2025-04-04T20:58:28.424Z"
   },
   {
    "duration": 3,
    "start_time": "2025-04-04T20:58:52.884Z"
   },
   {
    "duration": 4,
    "start_time": "2025-04-04T21:00:26.614Z"
   },
   {
    "duration": 2,
    "start_time": "2025-04-04T21:00:29.453Z"
   },
   {
    "duration": 1443,
    "start_time": "2025-04-04T21:00:30.100Z"
   },
   {
    "duration": 820,
    "start_time": "2025-04-04T22:36:28.192Z"
   },
   {
    "duration": 3,
    "start_time": "2025-04-04T22:37:22.614Z"
   },
   {
    "duration": 765,
    "start_time": "2025-04-04T22:45:07.672Z"
   },
   {
    "duration": 414,
    "start_time": "2025-04-04T22:45:56.296Z"
   },
   {
    "duration": 16,
    "start_time": "2025-04-04T22:45:56.941Z"
   },
   {
    "duration": 4,
    "start_time": "2025-04-04T22:45:58.068Z"
   },
   {
    "duration": 25,
    "start_time": "2025-04-04T22:45:58.662Z"
   },
   {
    "duration": 3,
    "start_time": "2025-04-04T22:45:59.230Z"
   },
   {
    "duration": 5,
    "start_time": "2025-04-04T22:45:59.733Z"
   },
   {
    "duration": 95,
    "start_time": "2025-04-04T22:50:24.851Z"
   },
   {
    "duration": 90,
    "start_time": "2025-04-04T22:50:41.542Z"
   },
   {
    "duration": 99,
    "start_time": "2025-04-04T22:50:56.794Z"
   },
   {
    "duration": 4,
    "start_time": "2025-04-04T22:50:59.262Z"
   },
   {
    "duration": 5,
    "start_time": "2025-04-04T22:51:01.471Z"
   },
   {
    "duration": 4,
    "start_time": "2025-04-04T22:51:03.669Z"
   },
   {
    "duration": 7,
    "start_time": "2025-04-04T22:51:05.219Z"
   },
   {
    "duration": 88,
    "start_time": "2025-04-04T22:53:18.439Z"
   },
   {
    "duration": 3,
    "start_time": "2025-04-04T22:53:19.801Z"
   },
   {
    "duration": 17,
    "start_time": "2025-04-04T22:53:26.391Z"
   },
   {
    "duration": 64,
    "start_time": "2025-04-04T22:53:34.095Z"
   },
   {
    "duration": 114,
    "start_time": "2025-04-04T22:53:49.787Z"
   },
   {
    "duration": 94,
    "start_time": "2025-04-04T22:54:56.867Z"
   },
   {
    "duration": 17,
    "start_time": "2025-04-04T23:08:25.777Z"
   },
   {
    "duration": 4,
    "start_time": "2025-04-04T23:09:17.355Z"
   },
   {
    "duration": 4,
    "start_time": "2025-04-04T23:12:26.378Z"
   },
   {
    "duration": 21,
    "start_time": "2025-04-04T23:12:30.011Z"
   },
   {
    "duration": 349,
    "start_time": "2025-04-04T23:12:45.453Z"
   },
   {
    "duration": 2,
    "start_time": "2025-04-04T23:13:40.331Z"
   },
   {
    "duration": 4,
    "start_time": "2025-04-04T23:13:41.363Z"
   },
   {
    "duration": 4,
    "start_time": "2025-04-04T23:19:15.615Z"
   },
   {
    "duration": 58,
    "start_time": "2025-04-04T23:19:19.481Z"
   },
   {
    "duration": 3,
    "start_time": "2025-04-04T23:19:23.722Z"
   },
   {
    "duration": 7,
    "start_time": "2025-04-04T23:19:26.000Z"
   },
   {
    "duration": 4,
    "start_time": "2025-04-04T23:20:35.683Z"
   },
   {
    "duration": 175,
    "start_time": "2025-04-04T23:21:12.628Z"
   },
   {
    "duration": 17,
    "start_time": "2025-04-04T23:22:00.393Z"
   },
   {
    "duration": 826,
    "start_time": "2025-04-04T23:22:42.089Z"
   },
   {
    "duration": 419,
    "start_time": "2025-04-04T23:22:42.919Z"
   },
   {
    "duration": 16,
    "start_time": "2025-04-04T23:22:43.340Z"
   },
   {
    "duration": 3,
    "start_time": "2025-04-04T23:22:43.359Z"
   },
   {
    "duration": 43,
    "start_time": "2025-04-04T23:22:43.364Z"
   },
   {
    "duration": 3,
    "start_time": "2025-04-04T23:22:43.409Z"
   },
   {
    "duration": 4,
    "start_time": "2025-04-04T23:22:43.414Z"
   },
   {
    "duration": 114,
    "start_time": "2025-04-04T23:22:43.420Z"
   },
   {
    "duration": 98,
    "start_time": "2025-04-04T23:22:43.536Z"
   },
   {
    "duration": 94,
    "start_time": "2025-04-04T23:22:43.637Z"
   },
   {
    "duration": 4,
    "start_time": "2025-04-04T23:22:43.733Z"
   },
   {
    "duration": 4,
    "start_time": "2025-04-04T23:22:43.739Z"
   },
   {
    "duration": 4,
    "start_time": "2025-04-04T23:22:43.744Z"
   },
   {
    "duration": 8,
    "start_time": "2025-04-04T23:22:43.750Z"
   },
   {
    "duration": 108,
    "start_time": "2025-04-04T23:22:43.759Z"
   },
   {
    "duration": 3,
    "start_time": "2025-04-04T23:22:43.869Z"
   },
   {
    "duration": 15,
    "start_time": "2025-04-04T23:22:43.886Z"
   },
   {
    "duration": 56,
    "start_time": "2025-04-04T23:22:43.903Z"
   },
   {
    "duration": 135,
    "start_time": "2025-04-04T23:22:43.962Z"
   },
   {
    "duration": 94,
    "start_time": "2025-04-04T23:22:44.098Z"
   },
   {
    "duration": 16,
    "start_time": "2025-04-04T23:22:44.193Z"
   },
   {
    "duration": 5,
    "start_time": "2025-04-04T23:22:44.211Z"
   },
   {
    "duration": 19,
    "start_time": "2025-04-04T23:22:44.217Z"
   },
   {
    "duration": 374,
    "start_time": "2025-04-04T23:22:44.238Z"
   },
   {
    "duration": 4,
    "start_time": "2025-04-04T23:22:44.613Z"
   },
   {
    "duration": 4,
    "start_time": "2025-04-04T23:22:44.619Z"
   },
   {
    "duration": 5,
    "start_time": "2025-04-04T23:22:44.624Z"
   },
   {
    "duration": 77,
    "start_time": "2025-04-04T23:22:44.633Z"
   },
   {
    "duration": 3,
    "start_time": "2025-04-04T23:22:44.712Z"
   },
   {
    "duration": 3,
    "start_time": "2025-04-04T23:22:44.717Z"
   },
   {
    "duration": 174,
    "start_time": "2025-04-04T23:22:44.722Z"
   },
   {
    "duration": 8,
    "start_time": "2025-04-04T23:22:44.898Z"
   },
   {
    "duration": 16,
    "start_time": "2025-04-04T23:22:44.908Z"
   },
   {
    "duration": 3,
    "start_time": "2025-04-04T23:25:14.920Z"
   },
   {
    "duration": 125,
    "start_time": "2025-04-04T23:25:15.689Z"
   },
   {
    "duration": 4,
    "start_time": "2025-04-04T23:25:16.398Z"
   },
   {
    "duration": 4,
    "start_time": "2025-04-04T23:25:17.043Z"
   },
   {
    "duration": 591,
    "start_time": "2025-04-04T23:26:22.442Z"
   },
   {
    "duration": 3,
    "start_time": "2025-04-04T23:26:23.546Z"
   },
   {
    "duration": 3,
    "start_time": "2025-04-04T23:27:23.249Z"
   },
   {
    "duration": 5,
    "start_time": "2025-04-04T23:28:41.508Z"
   },
   {
    "duration": 2,
    "start_time": "2025-04-04T23:28:55.384Z"
   },
   {
    "duration": 11378,
    "start_time": "2025-04-04T23:28:59.615Z"
   },
   {
    "duration": 3,
    "start_time": "2025-04-04T23:48:53.806Z"
   },
   {
    "duration": 4,
    "start_time": "2025-04-04T23:49:36.797Z"
   },
   {
    "duration": 3,
    "start_time": "2025-04-04T23:49:42.795Z"
   },
   {
    "duration": 3,
    "start_time": "2025-04-04T23:49:51.077Z"
   },
   {
    "duration": 3,
    "start_time": "2025-04-04T23:50:12.157Z"
   },
   {
    "duration": 10829,
    "start_time": "2025-04-04T23:50:12.764Z"
   },
   {
    "duration": 3,
    "start_time": "2025-04-04T23:50:25.588Z"
   },
   {
    "duration": 3,
    "start_time": "2025-04-04T23:53:19.647Z"
   },
   {
    "duration": 449,
    "start_time": "2025-04-04T23:53:27.238Z"
   },
   {
    "duration": 5,
    "start_time": "2025-04-04T23:57:08.256Z"
   },
   {
    "duration": 227,
    "start_time": "2025-04-04T23:58:21.563Z"
   },
   {
    "duration": 6,
    "start_time": "2025-04-04T23:58:50.462Z"
   },
   {
    "duration": 14,
    "start_time": "2025-04-05T00:07:11.932Z"
   },
   {
    "duration": 17,
    "start_time": "2025-04-05T00:07:56.073Z"
   },
   {
    "duration": 2,
    "start_time": "2025-04-05T00:08:13.595Z"
   },
   {
    "duration": 3384,
    "start_time": "2025-04-05T00:08:52.883Z"
   },
   {
    "duration": 265,
    "start_time": "2025-04-05T00:09:28.414Z"
   },
   {
    "duration": 5,
    "start_time": "2025-04-05T00:10:13.173Z"
   },
   {
    "duration": 3,
    "start_time": "2025-04-05T00:10:19.766Z"
   },
   {
    "duration": 4,
    "start_time": "2025-04-05T00:11:20.400Z"
   },
   {
    "duration": 10,
    "start_time": "2025-04-05T00:25:17.207Z"
   },
   {
    "duration": 2,
    "start_time": "2025-04-05T00:38:27.536Z"
   },
   {
    "duration": 3,
    "start_time": "2025-04-05T00:38:28.063Z"
   },
   {
    "duration": 334343,
    "start_time": "2025-04-05T00:38:29.432Z"
   },
   {
    "duration": 7948,
    "start_time": "2025-04-05T00:44:03.777Z"
   },
   {
    "duration": 4,
    "start_time": "2025-04-05T00:44:11.727Z"
   },
   {
    "duration": 3,
    "start_time": "2025-04-05T00:44:11.733Z"
   },
   {
    "duration": 4,
    "start_time": "2025-04-05T00:44:11.738Z"
   },
   {
    "duration": 63,
    "start_time": "2025-04-05T00:51:30.373Z"
   },
   {
    "duration": 3,
    "start_time": "2025-04-05T00:52:08.719Z"
   },
   {
    "duration": 3,
    "start_time": "2025-04-05T00:52:59.510Z"
   },
   {
    "duration": 282185,
    "start_time": "2025-04-05T00:53:49.328Z"
   },
   {
    "duration": 2610,
    "start_time": "2025-04-05T00:58:31.518Z"
   },
   {
    "duration": 58,
    "start_time": "2025-04-05T00:58:34.130Z"
   },
   {
    "duration": 3,
    "start_time": "2025-04-05T00:58:34.190Z"
   },
   {
    "duration": 6,
    "start_time": "2025-04-05T00:58:34.195Z"
   },
   {
    "duration": 3,
    "start_time": "2025-04-05T01:03:26.044Z"
   },
   {
    "duration": 64,
    "start_time": "2025-04-05T01:27:54.951Z"
   },
   {
    "duration": 3,
    "start_time": "2025-04-05T01:32:41.359Z"
   },
   {
    "duration": 3,
    "start_time": "2025-04-05T01:32:41.990Z"
   },
   {
    "duration": 6603,
    "start_time": "2025-04-05T01:32:42.785Z"
   },
   {
    "duration": 118,
    "start_time": "2025-04-05T01:32:49.391Z"
   },
   {
    "duration": 25,
    "start_time": "2025-04-05T01:32:49.511Z"
   },
   {
    "duration": 0,
    "start_time": "2025-04-05T01:32:49.538Z"
   },
   {
    "duration": 0,
    "start_time": "2025-04-05T01:32:49.539Z"
   },
   {
    "duration": 16,
    "start_time": "2025-04-05T01:33:53.276Z"
   },
   {
    "duration": 4,
    "start_time": "2025-04-05T01:33:57.345Z"
   },
   {
    "duration": 3,
    "start_time": "2025-04-05T01:33:59.573Z"
   },
   {
    "duration": 3,
    "start_time": "2025-04-05T01:34:01.009Z"
   },
   {
    "duration": 4,
    "start_time": "2025-04-05T01:34:22.665Z"
   },
   {
    "duration": 6,
    "start_time": "2025-04-05T01:47:29.727Z"
   },
   {
    "duration": 5,
    "start_time": "2025-04-05T01:47:40.013Z"
   },
   {
    "duration": 4,
    "start_time": "2025-04-05T01:47:51.748Z"
   },
   {
    "duration": 7,
    "start_time": "2025-04-05T01:48:02.944Z"
   },
   {
    "duration": 5,
    "start_time": "2025-04-05T01:48:15.502Z"
   },
   {
    "duration": 2023,
    "start_time": "2025-04-05T01:52:01.335Z"
   },
   {
    "duration": 3,
    "start_time": "2025-04-05T01:56:19.890Z"
   },
   {
    "duration": 7,
    "start_time": "2025-04-05T01:56:48.081Z"
   },
   {
    "duration": 135,
    "start_time": "2025-04-05T01:58:02.422Z"
   },
   {
    "duration": 101,
    "start_time": "2025-04-05T01:58:41.430Z"
   },
   {
    "duration": 336,
    "start_time": "2025-04-05T01:59:06.570Z"
   },
   {
    "duration": 323,
    "start_time": "2025-04-05T02:07:23.746Z"
   },
   {
    "duration": 3,
    "start_time": "2025-04-05T02:13:08.900Z"
   },
   {
    "duration": 42,
    "start_time": "2025-04-05T02:15:39.732Z"
   },
   {
    "duration": 24,
    "start_time": "2025-04-05T02:16:11.988Z"
   },
   {
    "duration": 7,
    "start_time": "2025-04-05T02:16:15.447Z"
   },
   {
    "duration": 30,
    "start_time": "2025-04-05T02:16:16.101Z"
   },
   {
    "duration": 1092,
    "start_time": "2025-04-05T02:33:33.150Z"
   },
   {
    "duration": 428,
    "start_time": "2025-04-05T02:33:34.244Z"
   },
   {
    "duration": 18,
    "start_time": "2025-04-05T02:33:34.675Z"
   },
   {
    "duration": 3,
    "start_time": "2025-04-05T02:33:34.696Z"
   },
   {
    "duration": 26,
    "start_time": "2025-04-05T02:33:34.702Z"
   },
   {
    "duration": 4,
    "start_time": "2025-04-05T02:33:34.729Z"
   },
   {
    "duration": 5,
    "start_time": "2025-04-05T02:33:34.734Z"
   },
   {
    "duration": 133,
    "start_time": "2025-04-05T02:33:34.740Z"
   },
   {
    "duration": 99,
    "start_time": "2025-04-05T02:33:34.875Z"
   },
   {
    "duration": 99,
    "start_time": "2025-04-05T02:33:34.987Z"
   },
   {
    "duration": 4,
    "start_time": "2025-04-05T02:33:35.088Z"
   },
   {
    "duration": 5,
    "start_time": "2025-04-05T02:33:35.094Z"
   },
   {
    "duration": 4,
    "start_time": "2025-04-05T02:33:35.101Z"
   },
   {
    "duration": 9,
    "start_time": "2025-04-05T02:33:35.106Z"
   },
   {
    "duration": 112,
    "start_time": "2025-04-05T02:33:35.116Z"
   },
   {
    "duration": 3,
    "start_time": "2025-04-05T02:33:35.230Z"
   },
   {
    "duration": 16,
    "start_time": "2025-04-05T02:33:35.235Z"
   },
   {
    "duration": 77,
    "start_time": "2025-04-05T02:33:35.253Z"
   },
   {
    "duration": 116,
    "start_time": "2025-04-05T02:33:35.332Z"
   },
   {
    "duration": 95,
    "start_time": "2025-04-05T02:33:35.450Z"
   },
   {
    "duration": 16,
    "start_time": "2025-04-05T02:33:35.547Z"
   },
   {
    "duration": 22,
    "start_time": "2025-04-05T02:33:35.565Z"
   },
   {
    "duration": 20,
    "start_time": "2025-04-05T02:33:35.588Z"
   },
   {
    "duration": 379,
    "start_time": "2025-04-05T02:33:35.610Z"
   },
   {
    "duration": 3,
    "start_time": "2025-04-05T02:33:35.990Z"
   },
   {
    "duration": 5,
    "start_time": "2025-04-05T02:33:35.995Z"
   },
   {
    "duration": 5,
    "start_time": "2025-04-05T02:33:36.001Z"
   },
   {
    "duration": 78,
    "start_time": "2025-04-05T02:33:36.011Z"
   },
   {
    "duration": 3,
    "start_time": "2025-04-05T02:33:36.091Z"
   },
   {
    "duration": 4,
    "start_time": "2025-04-05T02:33:36.096Z"
   },
   {
    "duration": 171,
    "start_time": "2025-04-05T02:33:36.101Z"
   },
   {
    "duration": 13,
    "start_time": "2025-04-05T02:33:36.274Z"
   },
   {
    "duration": 18,
    "start_time": "2025-04-05T02:33:36.289Z"
   },
   {
    "duration": 2,
    "start_time": "2025-04-05T02:33:36.309Z"
   },
   {
    "duration": 119,
    "start_time": "2025-04-05T02:33:36.313Z"
   },
   {
    "duration": 4,
    "start_time": "2025-04-05T02:33:36.434Z"
   },
   {
    "duration": 4,
    "start_time": "2025-04-05T02:33:36.440Z"
   },
   {
    "duration": 610,
    "start_time": "2025-04-05T02:33:36.445Z"
   },
   {
    "duration": 3,
    "start_time": "2025-04-05T02:33:37.057Z"
   },
   {
    "duration": 2,
    "start_time": "2025-04-05T02:33:37.062Z"
   },
   {
    "duration": 20,
    "start_time": "2025-04-05T02:33:37.066Z"
   },
   {
    "duration": 3,
    "start_time": "2025-04-05T02:33:37.088Z"
   },
   {
    "duration": 11003,
    "start_time": "2025-04-05T02:33:37.092Z"
   },
   {
    "duration": 3,
    "start_time": "2025-04-05T02:33:48.097Z"
   },
   {
    "duration": 489,
    "start_time": "2025-04-05T02:33:48.102Z"
   },
   {
    "duration": 6,
    "start_time": "2025-04-05T02:33:48.592Z"
   },
   {
    "duration": 4,
    "start_time": "2025-04-05T02:33:48.600Z"
   },
   {
    "duration": 82,
    "start_time": "2025-04-05T02:33:48.606Z"
   },
   {
    "duration": 3462,
    "start_time": "2025-04-05T02:33:48.689Z"
   },
   {
    "duration": 293,
    "start_time": "2025-04-05T02:33:52.153Z"
   },
   {
    "duration": 5,
    "start_time": "2025-04-05T02:33:52.449Z"
   },
   {
    "duration": 2,
    "start_time": "2025-04-05T02:33:52.457Z"
   },
   {
    "duration": 4,
    "start_time": "2025-04-05T02:33:52.462Z"
   },
   {
    "duration": 20,
    "start_time": "2025-04-05T02:33:52.467Z"
   },
   {
    "duration": 4,
    "start_time": "2025-04-05T02:33:52.489Z"
   },
   {
    "duration": 311256,
    "start_time": "2025-04-05T02:33:52.495Z"
   },
   {
    "duration": 8020,
    "start_time": "2025-04-05T02:39:03.753Z"
   },
   {
    "duration": 11,
    "start_time": "2025-04-05T02:39:11.775Z"
   },
   {
    "duration": 3,
    "start_time": "2025-04-05T02:39:11.788Z"
   },
   {
    "duration": 4,
    "start_time": "2025-04-05T02:39:11.792Z"
   },
   {
    "duration": 3,
    "start_time": "2025-04-05T02:39:11.798Z"
   },
   {
    "duration": 3,
    "start_time": "2025-04-05T02:39:11.803Z"
   },
   {
    "duration": 4281,
    "start_time": "2025-04-05T02:39:11.808Z"
   },
   {
    "duration": 2513,
    "start_time": "2025-04-05T02:39:16.092Z"
   },
   {
    "duration": 4,
    "start_time": "2025-04-05T02:39:18.607Z"
   },
   {
    "duration": 3,
    "start_time": "2025-04-05T02:39:18.613Z"
   },
   {
    "duration": 4,
    "start_time": "2025-04-05T02:39:18.617Z"
   },
   {
    "duration": 3,
    "start_time": "2025-04-05T02:39:18.623Z"
   },
   {
    "duration": 4,
    "start_time": "2025-04-05T02:39:18.627Z"
   },
   {
    "duration": 6552,
    "start_time": "2025-04-05T02:39:18.687Z"
   },
   {
    "duration": 111,
    "start_time": "2025-04-05T02:39:25.241Z"
   },
   {
    "duration": 4,
    "start_time": "2025-04-05T02:39:25.354Z"
   },
   {
    "duration": 3,
    "start_time": "2025-04-05T02:39:25.359Z"
   },
   {
    "duration": 4,
    "start_time": "2025-04-05T02:39:25.364Z"
   },
   {
    "duration": 4,
    "start_time": "2025-04-05T02:39:25.386Z"
   },
   {
    "duration": 8,
    "start_time": "2025-04-05T02:39:25.392Z"
   },
   {
    "duration": 3,
    "start_time": "2025-04-05T02:39:25.402Z"
   },
   {
    "duration": 318,
    "start_time": "2025-04-05T02:39:25.406Z"
   },
   {
    "duration": 58,
    "start_time": "2025-04-05T02:39:25.726Z"
   },
   {
    "duration": 12,
    "start_time": "2025-04-05T02:39:25.785Z"
   },
   {
    "duration": 29,
    "start_time": "2025-04-05T02:39:25.798Z"
   },
   {
    "duration": 3077,
    "start_time": "2025-04-07T19:35:16.108Z"
   },
   {
    "duration": 498,
    "start_time": "2025-04-07T19:35:22.094Z"
   },
   {
    "duration": 25,
    "start_time": "2025-04-07T19:35:22.651Z"
   },
   {
    "duration": 4,
    "start_time": "2025-04-07T19:35:23.592Z"
   },
   {
    "duration": 25,
    "start_time": "2025-04-07T19:35:24.266Z"
   },
   {
    "duration": 2,
    "start_time": "2025-04-07T19:35:24.819Z"
   },
   {
    "duration": 14,
    "start_time": "2025-04-07T19:35:25.355Z"
   },
   {
    "duration": 114,
    "start_time": "2025-04-07T19:35:28.314Z"
   },
   {
    "duration": 116,
    "start_time": "2025-04-07T19:35:28.877Z"
   },
   {
    "duration": 113,
    "start_time": "2025-04-07T19:35:29.567Z"
   },
   {
    "duration": 3,
    "start_time": "2025-04-07T19:36:06.115Z"
   },
   {
    "duration": 4,
    "start_time": "2025-04-07T19:36:06.691Z"
   },
   {
    "duration": 4,
    "start_time": "2025-04-07T19:36:07.178Z"
   },
   {
    "duration": 17,
    "start_time": "2025-04-07T19:36:07.737Z"
   },
   {
    "duration": 95,
    "start_time": "2025-04-07T19:36:10.571Z"
   },
   {
    "duration": 2,
    "start_time": "2025-04-07T19:36:11.532Z"
   },
   {
    "duration": 26,
    "start_time": "2025-04-07T19:36:12.051Z"
   },
   {
    "duration": 57,
    "start_time": "2025-04-07T19:36:12.777Z"
   },
   {
    "duration": 123,
    "start_time": "2025-04-07T19:36:13.294Z"
   },
   {
    "duration": 108,
    "start_time": "2025-04-07T19:36:15.623Z"
   },
   {
    "duration": 32,
    "start_time": "2025-04-07T19:36:16.443Z"
   },
   {
    "duration": 4,
    "start_time": "2025-04-07T19:36:18.768Z"
   },
   {
    "duration": 28,
    "start_time": "2025-04-07T19:36:33.085Z"
   },
   {
    "duration": 367,
    "start_time": "2025-04-07T19:36:34.003Z"
   },
   {
    "duration": 3,
    "start_time": "2025-04-07T19:36:35.020Z"
   },
   {
    "duration": 4,
    "start_time": "2025-04-07T19:36:35.688Z"
   },
   {
    "duration": 3,
    "start_time": "2025-04-07T19:36:40.182Z"
   },
   {
    "duration": 59,
    "start_time": "2025-04-07T19:36:40.880Z"
   },
   {
    "duration": 4,
    "start_time": "2025-04-07T19:36:41.527Z"
   },
   {
    "duration": 6,
    "start_time": "2025-04-07T19:36:42.063Z"
   },
   {
    "duration": 190,
    "start_time": "2025-04-07T19:36:42.568Z"
   },
   {
    "duration": 9,
    "start_time": "2025-04-07T19:36:43.164Z"
   },
   {
    "duration": 19,
    "start_time": "2025-04-07T19:36:46.467Z"
   },
   {
    "duration": 8,
    "start_time": "2025-04-07T19:36:54.458Z"
   },
   {
    "duration": 135,
    "start_time": "2025-04-07T19:36:55.115Z"
   },
   {
    "duration": 3,
    "start_time": "2025-04-07T19:36:55.880Z"
   },
   {
    "duration": 4,
    "start_time": "2025-04-07T19:36:56.575Z"
   },
   {
    "duration": 648,
    "start_time": "2025-04-07T19:38:07.992Z"
   },
   {
    "duration": 17,
    "start_time": "2025-04-07T19:38:08.642Z"
   },
   {
    "duration": 2,
    "start_time": "2025-04-07T19:38:10.408Z"
   },
   {
    "duration": 10,
    "start_time": "2025-04-07T19:39:56.376Z"
   },
   {
    "duration": 6,
    "start_time": "2025-04-07T19:41:54.274Z"
   },
   {
    "duration": 3,
    "start_time": "2025-04-07T19:41:56.759Z"
   },
   {
    "duration": 13997,
    "start_time": "2025-04-07T19:42:04.393Z"
   },
   {
    "duration": 4,
    "start_time": "2025-04-07T19:56:53.617Z"
   }
  ],
  "kernelspec": {
   "display_name": "Python 3 (ipykernel)",
   "language": "python",
   "name": "python3"
  },
  "language_info": {
   "codemirror_mode": {
    "name": "ipython",
    "version": 3
   },
   "file_extension": ".py",
   "mimetype": "text/x-python",
   "name": "python",
   "nbconvert_exporter": "python",
   "pygments_lexer": "ipython3",
   "version": "3.12.7"
  },
  "toc": {
   "base_numbering": 1,
   "nav_menu": {},
   "number_sections": true,
   "sideBar": true,
   "skip_h1_title": true,
   "title_cell": "Table of Contents",
   "title_sidebar": "Contents",
   "toc_cell": false,
   "toc_position": {},
   "toc_section_display": true,
   "toc_window_display": false
  }
 },
 "nbformat": 4,
 "nbformat_minor": 4
}
