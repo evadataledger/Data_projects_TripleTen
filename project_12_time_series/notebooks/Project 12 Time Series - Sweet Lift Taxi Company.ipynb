{
 "cells": [
  {
   "cell_type": "markdown",
   "metadata": {},
   "source": [
    "# Project 12: Time Series - Sweet Lift Taxi Company"
   ]
  },
  {
   "cell_type": "markdown",
   "metadata": {},
   "source": [
    "# Project description\n",
    "\n",
    "Sweet Lift Taxi company has collected historical data on taxi orders at airports. To attract more drivers during peak hours, we need to predict the amount of taxi orders for the next hour. Build a model for such a prediction.\n",
    "\n",
    "The RMSE metric on the test set should not be more than 48.\n",
    "\n",
    "## Project instructions\n",
    "\n",
    "1. Download the data and resample it by one hour.\n",
    "2. Analyze the data.\n",
    "3. Train different models with different hyperparameters. The test sample should be 10% of the initial dataset. \n",
    "4. Test the data using the test sample and provide a conclusion.\n",
    "\n",
    "## Data description\n",
    "\n",
    "The data is stored in file `taxi.csv`. The number of orders is in the '*num_orders*' column."
   ]
  },
  {
   "cell_type": "markdown",
   "metadata": {},
   "source": [
    "## Preparation"
   ]
  },
  {
   "cell_type": "code",
   "execution_count": 1,
   "metadata": {},
   "outputs": [],
   "source": [
    "# import libraries and tools\n",
    "import pandas as pd\n",
    "import numpy as np\n",
    "import matplotlib.pyplot as plt\n",
    "\n",
    "#Scikit-learn imports for modeling and evaluation\n",
    "from sklearn.model_selection import train_test_split, TimeSeriesSplit, GridSearchCV\n",
    "from sklearn.linear_model import LinearRegression, Ridge\n",
    "from sklearn.metrics import mean_squared_error\n",
    "from sklearn.ensemble import RandomForestRegressor, GradientBoostingRegressor\n",
    "from statsmodels.tsa.seasonal import seasonal_decompose\n",
    "from sklearn.preprocessing import OneHotEncoder, StandardScaler\n",
    "from sklearn.compose import ColumnTransformer\n",
    "from sklearn.pipeline import Pipeline"
   ]
  },
  {
   "cell_type": "code",
   "execution_count": 2,
   "metadata": {},
   "outputs": [],
   "source": [
    "# load the dataset 'taxi.csv'\n",
    "taxi_df = pd.read_csv('/datasets/taxi.csv', index_col='datetime', parse_dates=['datetime'])"
   ]
  },
  {
   "cell_type": "code",
   "execution_count": 3,
   "metadata": {},
   "outputs": [
    {
     "data": {
      "text/html": [
       "<div>\n",
       "<style scoped>\n",
       "    .dataframe tbody tr th:only-of-type {\n",
       "        vertical-align: middle;\n",
       "    }\n",
       "\n",
       "    .dataframe tbody tr th {\n",
       "        vertical-align: top;\n",
       "    }\n",
       "\n",
       "    .dataframe thead th {\n",
       "        text-align: right;\n",
       "    }\n",
       "</style>\n",
       "<table border=\"1\" class=\"dataframe\">\n",
       "  <thead>\n",
       "    <tr style=\"text-align: right;\">\n",
       "      <th></th>\n",
       "      <th>num_orders</th>\n",
       "    </tr>\n",
       "    <tr>\n",
       "      <th>datetime</th>\n",
       "      <th></th>\n",
       "    </tr>\n",
       "  </thead>\n",
       "  <tbody>\n",
       "    <tr>\n",
       "      <th>2018-03-01 00:00:00</th>\n",
       "      <td>9</td>\n",
       "    </tr>\n",
       "    <tr>\n",
       "      <th>2018-03-01 00:10:00</th>\n",
       "      <td>14</td>\n",
       "    </tr>\n",
       "    <tr>\n",
       "      <th>2018-03-01 00:20:00</th>\n",
       "      <td>28</td>\n",
       "    </tr>\n",
       "    <tr>\n",
       "      <th>2018-03-01 00:30:00</th>\n",
       "      <td>20</td>\n",
       "    </tr>\n",
       "    <tr>\n",
       "      <th>2018-03-01 00:40:00</th>\n",
       "      <td>32</td>\n",
       "    </tr>\n",
       "  </tbody>\n",
       "</table>\n",
       "</div>"
      ],
      "text/plain": [
       "                     num_orders\n",
       "datetime                       \n",
       "2018-03-01 00:00:00           9\n",
       "2018-03-01 00:10:00          14\n",
       "2018-03-01 00:20:00          28\n",
       "2018-03-01 00:30:00          20\n",
       "2018-03-01 00:40:00          32"
      ]
     },
     "execution_count": 3,
     "metadata": {},
     "output_type": "execute_result"
    }
   ],
   "source": [
    "# sanity check\n",
    "taxi_df.head()"
   ]
  },
  {
   "cell_type": "code",
   "execution_count": 4,
   "metadata": {},
   "outputs": [
    {
     "name": "stdout",
     "output_type": "stream",
     "text": [
      "<class 'pandas.core.frame.DataFrame'>\n",
      "DatetimeIndex: 26496 entries, 2018-03-01 00:00:00 to 2018-08-31 23:50:00\n",
      "Data columns (total 1 columns):\n",
      " #   Column      Non-Null Count  Dtype\n",
      "---  ------      --------------  -----\n",
      " 0   num_orders  26496 non-null  int64\n",
      "dtypes: int64(1)\n",
      "memory usage: 414.0 KB\n"
     ]
    }
   ],
   "source": [
    "# general dataset info \n",
    "taxi_df.info()"
   ]
  },
  {
   "cell_type": "markdown",
   "metadata": {},
   "source": [
    "**Analysis**\n",
    " \n",
    "1. Converted the 'datetime' column to proper datetime64[ns].\n",
    "2. Set the index in anticipation of, *for example*: **.resample('1H')**, **.rolling(window=24)**, and **.shift()** through time! "
   ]
  },
  {
   "cell_type": "markdown",
   "metadata": {},
   "source": [
    "## Analysis"
   ]
  },
  {
   "cell_type": "code",
   "execution_count": 5,
   "metadata": {},
   "outputs": [],
   "source": [
    "# exploratory data analysis"
   ]
  },
  {
   "cell_type": "code",
   "execution_count": 6,
   "metadata": {},
   "outputs": [
    {
     "data": {
      "text/html": [
       "<div>\n",
       "<style scoped>\n",
       "    .dataframe tbody tr th:only-of-type {\n",
       "        vertical-align: middle;\n",
       "    }\n",
       "\n",
       "    .dataframe tbody tr th {\n",
       "        vertical-align: top;\n",
       "    }\n",
       "\n",
       "    .dataframe thead th {\n",
       "        text-align: right;\n",
       "    }\n",
       "</style>\n",
       "<table border=\"1\" class=\"dataframe\">\n",
       "  <thead>\n",
       "    <tr style=\"text-align: right;\">\n",
       "      <th></th>\n",
       "      <th>num_orders</th>\n",
       "    </tr>\n",
       "  </thead>\n",
       "  <tbody>\n",
       "    <tr>\n",
       "      <th>count</th>\n",
       "      <td>26496.000000</td>\n",
       "    </tr>\n",
       "    <tr>\n",
       "      <th>mean</th>\n",
       "      <td>14.070463</td>\n",
       "    </tr>\n",
       "    <tr>\n",
       "      <th>std</th>\n",
       "      <td>9.211330</td>\n",
       "    </tr>\n",
       "    <tr>\n",
       "      <th>min</th>\n",
       "      <td>0.000000</td>\n",
       "    </tr>\n",
       "    <tr>\n",
       "      <th>25%</th>\n",
       "      <td>8.000000</td>\n",
       "    </tr>\n",
       "    <tr>\n",
       "      <th>50%</th>\n",
       "      <td>13.000000</td>\n",
       "    </tr>\n",
       "    <tr>\n",
       "      <th>75%</th>\n",
       "      <td>19.000000</td>\n",
       "    </tr>\n",
       "    <tr>\n",
       "      <th>max</th>\n",
       "      <td>119.000000</td>\n",
       "    </tr>\n",
       "  </tbody>\n",
       "</table>\n",
       "</div>"
      ],
      "text/plain": [
       "         num_orders\n",
       "count  26496.000000\n",
       "mean      14.070463\n",
       "std        9.211330\n",
       "min        0.000000\n",
       "25%        8.000000\n",
       "50%       13.000000\n",
       "75%       19.000000\n",
       "max      119.000000"
      ]
     },
     "execution_count": 6,
     "metadata": {},
     "output_type": "execute_result"
    }
   ],
   "source": [
    "# statistical summary\n",
    "taxi_df.describe()"
   ]
  },
  {
   "cell_type": "markdown",
   "metadata": {},
   "source": [
    "**Notes**: \n",
    "\n",
    "- Right-skewed distribution: max = 119, but median = 13 → potential outliers during peaks.\n",
    "- Could investigate rush hour patterns or event-based spikes."
   ]
  },
  {
   "cell_type": "code",
   "execution_count": 7,
   "metadata": {},
   "outputs": [
    {
     "data": {
      "text/plain": [
       "num_orders\n",
       "9             1373\n",
       "11            1365\n",
       "12            1317\n",
       "10            1316\n",
       "8             1253\n",
       "              ... \n",
       "94               1\n",
       "95               1\n",
       "98               1\n",
       "99               1\n",
       "81               1\n",
       "Length: 81, dtype: int64"
      ]
     },
     "execution_count": 7,
     "metadata": {},
     "output_type": "execute_result"
    }
   ],
   "source": [
    "# value count\n",
    "taxi_df.value_counts()"
   ]
  },
  {
   "cell_type": "code",
   "execution_count": 8,
   "metadata": {},
   "outputs": [
    {
     "data": {
      "text/plain": [
       "datetime\n",
       "2018-04-29 06:30:00      0\n",
       "2018-05-31 07:00:00      0\n",
       "2018-04-25 06:40:00      0\n",
       "2018-04-13 07:10:00      0\n",
       "2018-04-01 06:20:00      0\n",
       "                      ... \n",
       "2018-08-30 17:50:00     95\n",
       "2018-08-27 02:00:00     98\n",
       "2018-08-13 02:30:00     99\n",
       "2018-08-13 02:20:00    119\n",
       "2018-08-27 02:10:00    119\n",
       "Name: num_orders, Length: 26496, dtype: int64"
      ]
     },
     "execution_count": 8,
     "metadata": {},
     "output_type": "execute_result"
    }
   ],
   "source": [
    "# value count\n",
    "taxi_df['num_orders'].sort_values()"
   ]
  },
  {
   "cell_type": "code",
   "execution_count": 9,
   "metadata": {},
   "outputs": [
    {
     "data": {
      "image/png": "[encoded data removed]",
      "text/plain": [
       "<Figure size 1500x500 with 1 Axes>"
      ]
     },
     "metadata": {},
     "output_type": "display_data"
    }
   ],
   "source": [
    "# foundational visualization, let's determine where we are at. \n",
    "\n",
    "taxi_df['num_orders'].plot(figsize=(15,5))\n",
    "plt.title('Taxi Demand Over Time (10-min intervals)')\n",
    "plt.xlabel('Datetime')\n",
    "plt.ylabel('Number of Orders')\n",
    "plt.grid()\n",
    "plt.show()"
   ]
  },
  {
   "cell_type": "markdown",
   "metadata": {},
   "source": [
    "**Taxi Demand Over Time Analysis**\n",
    "\n",
    "1. **X-axis**: March to August 2018\n",
    "2. **Y-axis**: Number of taxi order (10-minute intervals)\n",
    "3. **Pattern Observations**: \n",
    "- Feature: Gradual increase over time.\n",
    "- Potential Pattern: More Order as months pass. \n",
    "- Implication: Business growth or seasonality.\n",
    "\n",
    "\n",
    "- Feature: High-frequency spikes.\n",
    "- Potential Pattern: Random or peak-hour surges.\n",
    "- Implication: Special events or rush hour.\n",
    "\n",
    "\n",
    "- Feature: Short-term fluctuations.\n",
    "- Potential Pattern: Day/night demand shifts.\n",
    "- Implication: Natural urban rhythem (circadian cycles).\n",
    "\n",
    "\n",
    "- Feature: August peaks.\n",
    "- Potential Pattern: Lots of high spikes near end.\n",
    "- Implication: Possibly vacation season, airport surge.\n",
    "    \n",
    "    "
   ]
  },
  {
   "cell_type": "code",
   "execution_count": 10,
   "metadata": {},
   "outputs": [],
   "source": [
    "# resample from 10-min to hourly by summing order counts\n",
    "taxi_hourly = taxi_df.resample('1H').sum()"
   ]
  },
  {
   "cell_type": "code",
   "execution_count": 11,
   "metadata": {},
   "outputs": [
    {
     "data": {
      "image/png": "[encoded data removed]",
      "text/plain": [
       "<Figure size 1500x500 with 1 Axes>"
      ]
     },
     "metadata": {},
     "output_type": "display_data"
    }
   ],
   "source": [
    "# plot again for sanity check\n",
    "taxi_df['num_orders'].plot(figsize=(15,5))\n",
    "plt.title('Taxi Demand Over Time (Hourly)')\n",
    "plt.xlabel('Datetime')\n",
    "plt.ylabel('Number of Orders')\n",
    "plt.grid()\n",
    "plt.show()"
   ]
  },
  {
   "cell_type": "code",
   "execution_count": 12,
   "metadata": {},
   "outputs": [
    {
     "data": {
      "text/html": [
       "<div>\n",
       "<style scoped>\n",
       "    .dataframe tbody tr th:only-of-type {\n",
       "        vertical-align: middle;\n",
       "    }\n",
       "\n",
       "    .dataframe tbody tr th {\n",
       "        vertical-align: top;\n",
       "    }\n",
       "\n",
       "    .dataframe thead th {\n",
       "        text-align: right;\n",
       "    }\n",
       "</style>\n",
       "<table border=\"1\" class=\"dataframe\">\n",
       "  <thead>\n",
       "    <tr style=\"text-align: right;\">\n",
       "      <th></th>\n",
       "      <th>num_orders</th>\n",
       "    </tr>\n",
       "  </thead>\n",
       "  <tbody>\n",
       "    <tr>\n",
       "      <th>count</th>\n",
       "      <td>4416.000000</td>\n",
       "    </tr>\n",
       "    <tr>\n",
       "      <th>mean</th>\n",
       "      <td>84.422781</td>\n",
       "    </tr>\n",
       "    <tr>\n",
       "      <th>std</th>\n",
       "      <td>45.023853</td>\n",
       "    </tr>\n",
       "    <tr>\n",
       "      <th>min</th>\n",
       "      <td>0.000000</td>\n",
       "    </tr>\n",
       "    <tr>\n",
       "      <th>25%</th>\n",
       "      <td>54.000000</td>\n",
       "    </tr>\n",
       "    <tr>\n",
       "      <th>50%</th>\n",
       "      <td>78.000000</td>\n",
       "    </tr>\n",
       "    <tr>\n",
       "      <th>75%</th>\n",
       "      <td>107.000000</td>\n",
       "    </tr>\n",
       "    <tr>\n",
       "      <th>max</th>\n",
       "      <td>462.000000</td>\n",
       "    </tr>\n",
       "  </tbody>\n",
       "</table>\n",
       "</div>"
      ],
      "text/plain": [
       "        num_orders\n",
       "count  4416.000000\n",
       "mean     84.422781\n",
       "std      45.023853\n",
       "min       0.000000\n",
       "25%      54.000000\n",
       "50%      78.000000\n",
       "75%     107.000000\n",
       "max     462.000000"
      ]
     },
     "execution_count": 12,
     "metadata": {},
     "output_type": "execute_result"
    }
   ],
   "source": [
    "taxi_hourly.describe()"
   ]
  },
  {
   "cell_type": "markdown",
   "metadata": {},
   "source": [
    "**Notes**:\n",
    "- Significant variability → worth exploring with a volatility (rolling std) feature later.\n",
    "- Max = 462 orders/hr — likely a special event or rush hour.\n",
    "- Plenty of \"normal\" hours around 78–84 orders."
   ]
  },
  {
   "cell_type": "code",
   "execution_count": 13,
   "metadata": {},
   "outputs": [],
   "source": [
    "# smooth with a 24-hour rolling mean\n",
    "taxi_hourly['rolling_mean'] = taxi_hourly['num_orders'].rolling(24).mean()"
   ]
  },
  {
   "cell_type": "code",
   "execution_count": 14,
   "metadata": {},
   "outputs": [
    {
     "data": {
      "image/png": "[encoded data removed]",
      "text/plain": [
       "<Figure size 1500x500 with 1 Axes>"
      ]
     },
     "metadata": {},
     "output_type": "display_data"
    }
   ],
   "source": [
    "# plot smoothed vs original \n",
    "taxi_hourly[['num_orders', 'rolling_mean']].plot(figsize=(15, 5))\n",
    "plt.title('Taxi Demand Over Time (Hourly + 24hr Rolling Average)')\n",
    "plt.xlabel('Datetime')\n",
    "plt.ylabel('Number of Orders')\n",
    "plt.grid()\n",
    "plt.show()"
   ]
  },
  {
   "cell_type": "markdown",
   "metadata": {},
   "source": [
    "**Plot 'Rolling Mean' Analysis**\n",
    "\n",
    "**Blue Line** = Raw hourly taxi demand\n",
    "- Still full of noise and sudden spikes (recall the implications to consider are event, rush hours, weather). \n",
    "\n",
    "**Orange Line** = 24-hour rolling average\n",
    "- Reveals long-term trend and general growth in taxi demand over time. \n",
    "- We can clearly see a seasonal ramp-up around August. The implication, could be summer tourism, events, airport activity. \n",
    "\n",
    "**Notes**:\n",
    "- The smoothed curve shows broader trends - makes it easier to see general demand flow.\n",
    "- Raw data hs more noise and spikes - harder to interpret visually. "
   ]
  },
  {
   "cell_type": "code",
   "execution_count": 15,
   "metadata": {},
   "outputs": [],
   "source": [
    "# decompose the time series\n",
    "decomposed = seasonal_decompose(taxi_df['num_orders'], model='additive', period=24) # data is hourly, the expectation daily seasonality"
   ]
  },
  {
   "cell_type": "code",
   "execution_count": 16,
   "metadata": {},
   "outputs": [
    {
     "data": {
      "image/png": "[encoded data removed]",
      "text/plain": [
       "<Figure size 1500x1000 with 4 Axes>"
      ]
     },
     "metadata": {},
     "output_type": "display_data"
    }
   ],
   "source": [
    "# plot the decomposed components with clear visuals\n",
    "plt.figure(figsize=(15, 10))\n",
    "plt.suptitle(\"Seasonal Decomposition (Clear View)\", fontsize=16, y=1.02)\n",
    "\n",
    "# observed\n",
    "plt.subplot(411)\n",
    "plt.plot(decomposed.observed, label='Observed', color='slategray')\n",
    "plt.legend(loc='upper right')\n",
    "plt.grid(True)\n",
    "\n",
    "# trend\n",
    "plt.subplot(412)\n",
    "plt.plot(decomposed.trend, label='Trend', color='darkorange')\n",
    "plt.legend(loc='upper right')\n",
    "plt.grid(True)\n",
    "\n",
    "# seasonal\n",
    "plt.subplot(413)\n",
    "plt.plot(decomposed.seasonal, label='Seasonal (Daily Pattern)', color='forestgreen')\n",
    "plt.legend(loc='upper right')\n",
    "plt.grid(True)\n",
    "\n",
    "# residual\n",
    "plt.subplot(414)\n",
    "plt.plot(decomposed.resid, label='Residual', color='crimson')\n",
    "plt.legend(loc='upper right')\n",
    "plt.grid(True)\n",
    "\n",
    "plt.tight_layout()\n",
    "plt.subplots_adjust(top=0.93)\n",
    "plt.show()\n"
   ]
  },
  {
   "cell_type": "code",
   "execution_count": 17,
   "metadata": {},
   "outputs": [],
   "source": [
    "# data preprocessing"
   ]
  },
  {
   "cell_type": "code",
   "execution_count": 18,
   "metadata": {},
   "outputs": [],
   "source": [
    "# resample the data to hourly frequency\n",
    "taxi_df = taxi_df.resample('1H').sum()"
   ]
  },
  {
   "cell_type": "code",
   "execution_count": 19,
   "metadata": {},
   "outputs": [],
   "source": [
    "# updated features to function to resolve redundant cells"
   ]
  },
  {
   "cell_type": "code",
   "execution_count": 20,
   "metadata": {},
   "outputs": [],
   "source": [
    "\n",
    "# define feature engineering function \n",
    "def create_features(df):\n",
    "    df['hour'] = df.index.hour\n",
    "    df['dayofweek'] = df.index.dayofweek\n",
    "    df['rolling_mean_24'] = df['num_orders'].shift(1).rolling(24).mean()\n",
    "    df['rolling_std_24'] = df['num_orders'].shift(1).rolling(24).std()\n",
    "    df['lag_1'] = df['num_orders'].shift(1)\n",
    "    df['lag_2'] = df['num_orders'].shift(2)\n",
    "    df['lag_3'] = df['num_orders'].shift(3)\n",
    "    df['lag_24'] = df['num_orders'].shift(24)\n",
    "    return df.dropna()  # cleaner than inplace=True\n"
   ]
  },
  {
   "cell_type": "code",
   "execution_count": 21,
   "metadata": {},
   "outputs": [],
   "source": [
    "# apply function\n",
    "taxi_df = create_features(taxi_df)"
   ]
  },
  {
   "cell_type": "code",
   "execution_count": 22,
   "metadata": {},
   "outputs": [
    {
     "data": {
      "text/plain": [
       "Index(['num_orders', 'hour', 'dayofweek', 'rolling_mean_24', 'rolling_std_24',\n",
       "       'lag_1', 'lag_2', 'lag_3', 'lag_24'],\n",
       "      dtype='object')"
      ]
     },
     "execution_count": 22,
     "metadata": {},
     "output_type": "execute_result"
    }
   ],
   "source": [
    "# sanity check \n",
    "taxi_df.columns"
   ]
  },
  {
   "cell_type": "code",
   "execution_count": 23,
   "metadata": {},
   "outputs": [
    {
     "data": {
      "text/html": [
       "<div>\n",
       "<style scoped>\n",
       "    .dataframe tbody tr th:only-of-type {\n",
       "        vertical-align: middle;\n",
       "    }\n",
       "\n",
       "    .dataframe tbody tr th {\n",
       "        vertical-align: top;\n",
       "    }\n",
       "\n",
       "    .dataframe thead th {\n",
       "        text-align: right;\n",
       "    }\n",
       "</style>\n",
       "<table border=\"1\" class=\"dataframe\">\n",
       "  <thead>\n",
       "    <tr style=\"text-align: right;\">\n",
       "      <th></th>\n",
       "      <th>num_orders</th>\n",
       "      <th>hour</th>\n",
       "      <th>dayofweek</th>\n",
       "      <th>rolling_mean_24</th>\n",
       "      <th>rolling_std_24</th>\n",
       "      <th>lag_1</th>\n",
       "      <th>lag_2</th>\n",
       "      <th>lag_3</th>\n",
       "      <th>lag_24</th>\n",
       "    </tr>\n",
       "    <tr>\n",
       "      <th>datetime</th>\n",
       "      <th></th>\n",
       "      <th></th>\n",
       "      <th></th>\n",
       "      <th></th>\n",
       "      <th></th>\n",
       "      <th></th>\n",
       "      <th></th>\n",
       "      <th></th>\n",
       "      <th></th>\n",
       "    </tr>\n",
       "  </thead>\n",
       "  <tbody>\n",
       "    <tr>\n",
       "      <th>2018-03-02 00:00:00</th>\n",
       "      <td>90</td>\n",
       "      <td>0</td>\n",
       "      <td>4</td>\n",
       "      <td>56.833333</td>\n",
       "      <td>29.409650</td>\n",
       "      <td>58.0</td>\n",
       "      <td>113.0</td>\n",
       "      <td>66.0</td>\n",
       "      <td>124.0</td>\n",
       "    </tr>\n",
       "    <tr>\n",
       "      <th>2018-03-02 01:00:00</th>\n",
       "      <td>120</td>\n",
       "      <td>1</td>\n",
       "      <td>4</td>\n",
       "      <td>55.416667</td>\n",
       "      <td>26.730404</td>\n",
       "      <td>90.0</td>\n",
       "      <td>58.0</td>\n",
       "      <td>113.0</td>\n",
       "      <td>85.0</td>\n",
       "    </tr>\n",
       "    <tr>\n",
       "      <th>2018-03-02 02:00:00</th>\n",
       "      <td>75</td>\n",
       "      <td>2</td>\n",
       "      <td>4</td>\n",
       "      <td>56.875000</td>\n",
       "      <td>29.250511</td>\n",
       "      <td>120.0</td>\n",
       "      <td>90.0</td>\n",
       "      <td>58.0</td>\n",
       "      <td>71.0</td>\n",
       "    </tr>\n",
       "    <tr>\n",
       "      <th>2018-03-02 03:00:00</th>\n",
       "      <td>64</td>\n",
       "      <td>3</td>\n",
       "      <td>4</td>\n",
       "      <td>57.041667</td>\n",
       "      <td>29.345734</td>\n",
       "      <td>75.0</td>\n",
       "      <td>120.0</td>\n",
       "      <td>90.0</td>\n",
       "      <td>66.0</td>\n",
       "    </tr>\n",
       "    <tr>\n",
       "      <th>2018-03-02 04:00:00</th>\n",
       "      <td>20</td>\n",
       "      <td>4</td>\n",
       "      <td>4</td>\n",
       "      <td>56.958333</td>\n",
       "      <td>29.322019</td>\n",
       "      <td>64.0</td>\n",
       "      <td>75.0</td>\n",
       "      <td>120.0</td>\n",
       "      <td>43.0</td>\n",
       "    </tr>\n",
       "  </tbody>\n",
       "</table>\n",
       "</div>"
      ],
      "text/plain": [
       "                     num_orders  hour  dayofweek  rolling_mean_24  \\\n",
       "datetime                                                            \n",
       "2018-03-02 00:00:00          90     0          4        56.833333   \n",
       "2018-03-02 01:00:00         120     1          4        55.416667   \n",
       "2018-03-02 02:00:00          75     2          4        56.875000   \n",
       "2018-03-02 03:00:00          64     3          4        57.041667   \n",
       "2018-03-02 04:00:00          20     4          4        56.958333   \n",
       "\n",
       "                     rolling_std_24  lag_1  lag_2  lag_3  lag_24  \n",
       "datetime                                                          \n",
       "2018-03-02 00:00:00       29.409650   58.0  113.0   66.0   124.0  \n",
       "2018-03-02 01:00:00       26.730404   90.0   58.0  113.0    85.0  \n",
       "2018-03-02 02:00:00       29.250511  120.0   90.0   58.0    71.0  \n",
       "2018-03-02 03:00:00       29.345734   75.0  120.0   90.0    66.0  \n",
       "2018-03-02 04:00:00       29.322019   64.0   75.0  120.0    43.0  "
      ]
     },
     "execution_count": 23,
     "metadata": {},
     "output_type": "execute_result"
    }
   ],
   "source": [
    "# check all columns\n",
    "taxi_df.head()\n"
   ]
  },
  {
   "cell_type": "code",
   "execution_count": 24,
   "metadata": {},
   "outputs": [
    {
     "data": {
      "text/plain": [
       "num_orders         0\n",
       "hour               0\n",
       "dayofweek          0\n",
       "rolling_mean_24    0\n",
       "rolling_std_24     0\n",
       "lag_1              0\n",
       "lag_2              0\n",
       "lag_3              0\n",
       "lag_24             0\n",
       "dtype: int64"
      ]
     },
     "execution_count": 24,
     "metadata": {},
     "output_type": "execute_result"
    }
   ],
   "source": [
    "# check for missing values (no NaNs)\n",
    "taxi_df.isna().sum()"
   ]
  },
  {
   "cell_type": "code",
   "execution_count": 25,
   "metadata": {},
   "outputs": [
    {
     "data": {
      "text/plain": [
       "num_orders           int64\n",
       "hour                 int64\n",
       "dayofweek            int64\n",
       "rolling_mean_24    float64\n",
       "rolling_std_24     float64\n",
       "lag_1              float64\n",
       "lag_2              float64\n",
       "lag_3              float64\n",
       "lag_24             float64\n",
       "dtype: object"
      ]
     },
     "execution_count": 25,
     "metadata": {},
     "output_type": "execute_result"
    }
   ],
   "source": [
    "# check data types \n",
    "taxi_df.dtypes"
   ]
  },
  {
   "cell_type": "code",
   "execution_count": 26,
   "metadata": {},
   "outputs": [
    {
     "data": {
      "text/plain": [
       "DatetimeIndex(['2018-03-02 00:00:00', '2018-03-02 01:00:00',\n",
       "               '2018-03-02 02:00:00', '2018-03-02 03:00:00',\n",
       "               '2018-03-02 04:00:00', '2018-03-02 05:00:00',\n",
       "               '2018-03-02 06:00:00', '2018-03-02 07:00:00',\n",
       "               '2018-03-02 08:00:00', '2018-03-02 09:00:00',\n",
       "               ...\n",
       "               '2018-08-31 14:00:00', '2018-08-31 15:00:00',\n",
       "               '2018-08-31 16:00:00', '2018-08-31 17:00:00',\n",
       "               '2018-08-31 18:00:00', '2018-08-31 19:00:00',\n",
       "               '2018-08-31 20:00:00', '2018-08-31 21:00:00',\n",
       "               '2018-08-31 22:00:00', '2018-08-31 23:00:00'],\n",
       "              dtype='datetime64[ns]', name='datetime', length=4392, freq='H')"
      ]
     },
     "execution_count": 26,
     "metadata": {},
     "output_type": "execute_result"
    }
   ],
   "source": [
    "# check time-based indexing \n",
    "taxi_df.index"
   ]
  },
  {
   "cell_type": "code",
   "execution_count": 27,
   "metadata": {
    "scrolled": true
   },
   "outputs": [
    {
     "name": "stdout",
     "output_type": "stream",
     "text": [
      "Current hour: 30\n",
      "1 hour ago: 49\n",
      "24 hours ago: 34\n"
     ]
    }
   ],
   "source": [
    "# additional sanity check \n",
    "sample_index = taxi_df.index[100]\n",
    "\n",
    "print(\"Current hour:\", taxi_df.loc[sample_index, 'num_orders'])\n",
    "print(\"1 hour ago:\", taxi_df.loc[sample_index - pd.Timedelta(hours=1), 'num_orders'])\n",
    "print(\"24 hours ago:\", taxi_df.loc[sample_index - pd.Timedelta(hours=24), 'num_orders'])\n"
   ]
  },
  {
   "cell_type": "markdown",
   "metadata": {},
   "source": [
    "## Training"
   ]
  },
  {
   "cell_type": "code",
   "execution_count": 28,
   "metadata": {},
   "outputs": [],
   "source": [
    "# model training (train/test split + linear regression)\n",
    "# train a Linear Regression model \n",
    "# evaluate the RMSE (must be <= 48)"
   ]
  },
  {
   "cell_type": "code",
   "execution_count": 29,
   "metadata": {},
   "outputs": [],
   "source": [
    "# recreate features using the function (no duplication!)\n",
    "taxi_df = create_features(taxi_df)"
   ]
  },
  {
   "cell_type": "code",
   "execution_count": 30,
   "metadata": {},
   "outputs": [],
   "source": [
    "# Define target and features\n",
    "target = 'num_orders'\n",
    "categorical_features = ['hour', 'dayofweek']\n",
    "numerical_features = ['lag_1', 'lag_2', 'lag_3']  # matches the function"
   ]
  },
  {
   "cell_type": "code",
   "execution_count": 31,
   "metadata": {},
   "outputs": [],
   "source": [
    "# define full feature list\n",
    "features = categorical_features + numerical_features + ['rolling_mean_24', 'rolling_std_24']"
   ]
  },
  {
   "cell_type": "code",
   "execution_count": 32,
   "metadata": {},
   "outputs": [],
   "source": [
    "# define X and y\n",
    "X = taxi_df[features]\n",
    "y = taxi_df[target]"
   ]
  },
  {
   "cell_type": "code",
   "execution_count": 33,
   "metadata": {},
   "outputs": [],
   "source": [
    "preprocessor_scaled = ColumnTransformer(transformers=[\n",
    "    ('cat', OneHotEncoder(handle_unknown='ignore'), categorical_features),\n",
    "    ('num', StandardScaler(), numerical_features + ['rolling_mean_24', 'rolling_std_24'])\n",
    "])"
   ]
  },
  {
   "cell_type": "code",
   "execution_count": 34,
   "metadata": {},
   "outputs": [],
   "source": [
    "# (revised) new split into 3 subsets \n",
    "# split 1: hold out 10% for final test set\n",
    "X_train_full, X_test_final, y_train_full, y_test_final = train_test_split(X, y, test_size=0.10, shuffle=False)\n",
    "\n",
    "# split 3 - split train_full into smaller train + validation\n",
    "X_train, X_valid, y_train, y_valid = train_test_split(X_train_full, y_train_full, test_size=0.10, shuffle=False)\n"
   ]
  },
  {
   "cell_type": "code",
   "execution_count": 35,
   "metadata": {},
   "outputs": [],
   "source": [
    "# train models on X_train, evalute on X_valid, and save X_test_final for the very end. "
   ]
  },
  {
   "cell_type": "code",
   "execution_count": 36,
   "metadata": {},
   "outputs": [
    {
     "name": "stdout",
     "output_type": "stream",
     "text": [
      "Train size: 3537\n",
      "Validation size: 394\n",
      "Test size (untouched!): 437\n"
     ]
    }
   ],
   "source": [
    "print(f\"Train size: {X_train.shape[0]}\")\n",
    "print(f\"Validation size: {X_valid.shape[0]}\")\n",
    "print(f\"Test size (untouched!): {X_test_final.shape[0]}\")"
   ]
  },
  {
   "cell_type": "code",
   "execution_count": 37,
   "metadata": {},
   "outputs": [],
   "source": [
    "# linear regression with One-Hot Encoding (OHE)\n",
    "# linear models need help interpreting catergorical values like 'dayofweek', we we encode them using OneHotEncoder."
   ]
  },
  {
   "cell_type": "code",
   "execution_count": 38,
   "metadata": {},
   "outputs": [],
   "source": [
    "# build pipeline\n",
    "linear_pipeline = Pipeline(steps=[\n",
    "    ('preprocessor', preprocessor_scaled),\n",
    "    ('regressor', LinearRegression())\n",
    "])"
   ]
  },
  {
   "cell_type": "code",
   "execution_count": 39,
   "metadata": {
    "scrolled": true
   },
   "outputs": [
    {
     "data": {
      "text/plain": [
       "Pipeline(steps=[('preprocessor',\n",
       "                 ColumnTransformer(transformers=[('cat',\n",
       "                                                  OneHotEncoder(handle_unknown='ignore'),\n",
       "                                                  ['hour', 'dayofweek']),\n",
       "                                                 ('num', StandardScaler(),\n",
       "                                                  ['lag_1', 'lag_2', 'lag_3',\n",
       "                                                   'rolling_mean_24',\n",
       "                                                   'rolling_std_24'])])),\n",
       "                ('regressor', LinearRegression())])"
      ]
     },
     "execution_count": 39,
     "metadata": {},
     "output_type": "execute_result"
    }
   ],
   "source": [
    "# fit the model\n",
    "linear_pipeline.fit(X_train, y_train)\n"
   ]
  },
  {
   "cell_type": "code",
   "execution_count": 40,
   "metadata": {},
   "outputs": [],
   "source": [
    "# predict on validation set\n",
    "y_valid_pred = linear_pipeline.predict(X_valid)"
   ]
  },
  {
   "cell_type": "code",
   "execution_count": 41,
   "metadata": {},
   "outputs": [
    {
     "name": "stdout",
     "output_type": "stream",
     "text": [
      "Linear Regression Validation RMSE: 32.73\n"
     ]
    }
   ],
   "source": [
    "# evaluate using RSME\n",
    "linear_rmse = mean_squared_error(y_valid, y_valid_pred, squared=False)\n",
    "print('Linear Regression Validation RMSE:', round(linear_rmse, 2))"
   ]
  },
  {
   "cell_type": "code",
   "execution_count": 42,
   "metadata": {},
   "outputs": [],
   "source": [
    "# Ridge Regression with Regularization\n",
    "# Ridge add regularization - so we need to scale numeric features"
   ]
  },
  {
   "cell_type": "code",
   "execution_count": 43,
   "metadata": {},
   "outputs": [],
   "source": [
    "# build pipeline\n",
    "ridge_pipeline = Pipeline(steps=[\n",
    "    ('preprocessor', preprocessor_scaled),\n",
    "    ('regressor', Ridge(alpha=1.0)) # note we can tune alpha\n",
    "])"
   ]
  },
  {
   "cell_type": "code",
   "execution_count": 44,
   "metadata": {},
   "outputs": [
    {
     "data": {
      "text/plain": [
       "Pipeline(steps=[('preprocessor',\n",
       "                 ColumnTransformer(transformers=[('cat',\n",
       "                                                  OneHotEncoder(handle_unknown='ignore'),\n",
       "                                                  ['hour', 'dayofweek']),\n",
       "                                                 ('num', StandardScaler(),\n",
       "                                                  ['lag_1', 'lag_2', 'lag_3',\n",
       "                                                   'rolling_mean_24',\n",
       "                                                   'rolling_std_24'])])),\n",
       "                ('regressor', Ridge())])"
      ]
     },
     "execution_count": 44,
     "metadata": {},
     "output_type": "execute_result"
    }
   ],
   "source": [
    "# fit ridge model\n",
    "ridge_pipeline.fit(X_train, y_train)"
   ]
  },
  {
   "cell_type": "code",
   "execution_count": 45,
   "metadata": {},
   "outputs": [],
   "source": [
    "# predict on validation set\n",
    "y_valid_pred_ridge = ridge_pipeline.predict(X_valid)"
   ]
  },
  {
   "cell_type": "code",
   "execution_count": 46,
   "metadata": {},
   "outputs": [],
   "source": [
    "# evaluate \n",
    "ridge_rmse = mean_squared_error(y_valid, y_valid_pred_ridge, squared=False)"
   ]
  },
  {
   "cell_type": "code",
   "execution_count": 47,
   "metadata": {
    "scrolled": true
   },
   "outputs": [
    {
     "name": "stdout",
     "output_type": "stream",
     "text": [
      "Ridge Regression Validation RMSE: 32.75\n"
     ]
    }
   ],
   "source": [
    "# display results\n",
    "print('Ridge Regression Validation RMSE:', round(ridge_rmse,2))"
   ]
  },
  {
   "cell_type": "markdown",
   "metadata": {},
   "source": [
    "**Analysis**\n",
    "\n",
    "- The difference is negligible: Ridge didn't improve it, but it also didn't hurt.\n",
    "- This confirms that the features are solid and not overfitting\n",
    "- Ridge helps when there's muticollinearity or lots of noisy features - but here, the lag + time features are nicely tuned. "
   ]
  },
  {
   "cell_type": "markdown",
   "metadata": {},
   "source": [
    "| Model             | Validation RMSE  |\n",
    "|-------------------|------------------|\n",
    "| Linear Regression | 35.73            |\n",
    "| Ridge Regression  | 35.75            |"
   ]
  },
  {
   "cell_type": "markdown",
   "metadata": {},
   "source": [
    "**Analysis of Ridge Regression**\n",
    "\n",
    "Linear Regression and Ridge Regerssion ended up neck-and-neck on results, with the same RMSEs."
   ]
  },
  {
   "cell_type": "code",
   "execution_count": 48,
   "metadata": {},
   "outputs": [],
   "source": [
    "# Random Forest Regressor. Instead of one tree, training many decision trees to average their results. "
   ]
  },
  {
   "cell_type": "code",
   "execution_count": 49,
   "metadata": {},
   "outputs": [],
   "source": [
    "# create the pipeline for Random Forest\n",
    "forest_pipeline = Pipeline(steps=[\n",
    "    ('preprocessor', preprocessor_scaled),\n",
    "    ('regressor', RandomForestRegressor(\n",
    "    n_estimators=100,\n",
    "    max_depth=10,\n",
    "    random_state=42))\n",
    "])"
   ]
  },
  {
   "cell_type": "code",
   "execution_count": 50,
   "metadata": {},
   "outputs": [
    {
     "data": {
      "text/plain": [
       "Pipeline(steps=[('preprocessor',\n",
       "                 ColumnTransformer(transformers=[('cat',\n",
       "                                                  OneHotEncoder(handle_unknown='ignore'),\n",
       "                                                  ['hour', 'dayofweek']),\n",
       "                                                 ('num', StandardScaler(),\n",
       "                                                  ['lag_1', 'lag_2', 'lag_3',\n",
       "                                                   'rolling_mean_24',\n",
       "                                                   'rolling_std_24'])])),\n",
       "                ('regressor',\n",
       "                 RandomForestRegressor(max_depth=10, random_state=42))])"
      ]
     },
     "execution_count": 50,
     "metadata": {},
     "output_type": "execute_result"
    }
   ],
   "source": [
    "# fit the model on training subset only\n",
    "forest_pipeline.fit(X_train, y_train)"
   ]
  },
  {
   "cell_type": "code",
   "execution_count": 51,
   "metadata": {},
   "outputs": [],
   "source": [
    "# make predictions on validation subset only \n",
    "forest_val_pred = forest_pipeline.predict(X_valid)"
   ]
  },
  {
   "cell_type": "markdown",
   "metadata": {},
   "source": [
    "<div class=\"alert alert-danger\" style=\"border-radius: 15px; box-shadow: 4px 4px 4px; border: 1px solid \">\n",
    "<b> Reviewer's comment</b>\n",
    "    \n",
    "Same issue: we should not use test subset here. \n",
    "</div>\n"
   ]
  },
  {
   "cell_type": "code",
   "execution_count": 52,
   "metadata": {},
   "outputs": [],
   "source": [
    "# evaluate\n",
    "forest_val_rmse = mean_squared_error(y_valid, forest_val_pred, squared=False)"
   ]
  },
  {
   "cell_type": "code",
   "execution_count": 53,
   "metadata": {
    "scrolled": true
   },
   "outputs": [
    {
     "name": "stdout",
     "output_type": "stream",
     "text": [
      "Random Forest Validation RMSE: 34.06\n"
     ]
    }
   ],
   "source": [
    "# display results\n",
    "print(\"Random Forest Validation RMSE:\", round(forest_val_rmse, 2))"
   ]
  },
  {
   "cell_type": "markdown",
   "metadata": {},
   "source": [
    "| Model               | Validation RMSE |\n",
    "|--------------------|------------------|\n",
    "| Linear Regression  | 35.31            |\n",
    "| Ridge Regression   | 35.34            |\n",
    "| Random Forest      | 34.06            |\n"
   ]
  },
  {
   "cell_type": "markdown",
   "metadata": {},
   "source": [
    "**Analysis**\n",
    "\n",
    "- Achieved RMSE ≈ 37.96.\n",
    "- Under Project goal of 48."
   ]
  },
  {
   "cell_type": "code",
   "execution_count": 54,
   "metadata": {},
   "outputs": [],
   "source": [
    "# Gradient Boosting Regressor"
   ]
  },
  {
   "cell_type": "code",
   "execution_count": 55,
   "metadata": {},
   "outputs": [
    {
     "data": {
      "text/plain": [
       "Pipeline(steps=[('preproocessor',\n",
       "                 ColumnTransformer(transformers=[('cat',\n",
       "                                                  OneHotEncoder(handle_unknown='ignore'),\n",
       "                                                  ['hour', 'dayofweek']),\n",
       "                                                 ('num', StandardScaler(),\n",
       "                                                  ['lag_1', 'lag_2', 'lag_3',\n",
       "                                                   'rolling_mean_24',\n",
       "                                                   'rolling_std_24'])])),\n",
       "                ('regressor',\n",
       "                 GradientBoostingRegressor(max_depth=5, min_samples_leaf=8,\n",
       "                                           n_estimators=500, random_state=42,\n",
       "                                           subsample=0.8))])"
      ]
     },
     "execution_count": 55,
     "metadata": {},
     "output_type": "execute_result"
    }
   ],
   "source": [
    "gboost_pipeline = Pipeline(steps=[\n",
    "    ('preproocessor', preprocessor_scaled),\n",
    "    ('regressor', GradientBoostingRegressor(\n",
    "    n_estimators=500,\n",
    "    learning_rate=0.1,\n",
    "    max_depth=5,\n",
    "    subsample=0.8,\n",
    "    min_samples_leaf=8,\n",
    "    random_state=42\n",
    "))\n",
    "])\n",
    "\n",
    "gboost_pipeline.fit(X_train, y_train)"
   ]
  },
  {
   "cell_type": "code",
   "execution_count": 56,
   "metadata": {},
   "outputs": [],
   "source": [
    "# predict\n",
    "gboost_valid_preds = gboost_pipeline.predict(X_valid)"
   ]
  },
  {
   "cell_type": "code",
   "execution_count": 57,
   "metadata": {},
   "outputs": [],
   "source": [
    "# evalute\n",
    "gboost_rmse = mean_squared_error(y_valid, gboost_valid_preds, squared=False)"
   ]
  },
  {
   "cell_type": "code",
   "execution_count": 58,
   "metadata": {},
   "outputs": [
    {
     "name": "stdout",
     "output_type": "stream",
     "text": [
      "Gradient Boosting Validation RMSE: 31.19\n"
     ]
    }
   ],
   "source": [
    "# display results\n",
    "print(\"Gradient Boosting Validation RMSE:\", round(gboost_rmse,2))\n"
   ]
  },
  {
   "cell_type": "markdown",
   "metadata": {},
   "source": [
    "| Model                         | Validation RMSE |\n",
    "|-------------------------------|-----------------|\n",
    "| Linear Regression             | 32.73           |\n",
    "| Ridge Regression              | 32.75           |\n",
    "| Random Forest                 | 34.06           |\n",
    "| Gradient Boosting Validation  | 31.19           |"
   ]
  },
  {
   "cell_type": "code",
   "execution_count": 59,
   "metadata": {},
   "outputs": [],
   "source": [
    "# create a hyperparameter grid and apply GridSearchCV with TimeSeriesSplit"
   ]
  },
  {
   "cell_type": "code",
   "execution_count": 60,
   "metadata": {},
   "outputs": [],
   "source": [
    "# define TimeSeriesSplit\n",
    "\n",
    "# set up time-based CV (e.g., 5 folds)\n",
    "tscv = TimeSeriesSplit(n_splits=5)"
   ]
  },
  {
   "cell_type": "code",
   "execution_count": 61,
   "metadata": {},
   "outputs": [],
   "source": [
    "# define parameter grid\n",
    "param_grid = {\n",
    "    'regressor__n_estimators': [100, 300],\n",
    "    'regressor__learning_rate': [0.05, 0.1],\n",
    "    'regressor__max_depth': [3, 5],\n",
    "    'regressor__subsample': [0.8, 1.0],\n",
    "}\n"
   ]
  },
  {
   "cell_type": "code",
   "execution_count": 62,
   "metadata": {},
   "outputs": [
    {
     "name": "stdout",
     "output_type": "stream",
     "text": [
      "Fitting 5 folds for each of 16 candidates, totalling 80 fits\n"
     ]
    },
    {
     "data": {
      "text/plain": [
       "GridSearchCV(cv=TimeSeriesSplit(gap=0, max_train_size=None, n_splits=5, test_size=None),\n",
       "             estimator=Pipeline(steps=[('preproocessor',\n",
       "                                        ColumnTransformer(transformers=[('cat',\n",
       "                                                                         OneHotEncoder(handle_unknown='ignore'),\n",
       "                                                                         ['hour',\n",
       "                                                                          'dayofweek']),\n",
       "                                                                        ('num',\n",
       "                                                                         StandardScaler(),\n",
       "                                                                         ['lag_1',\n",
       "                                                                          'lag_2',\n",
       "                                                                          'lag_3',\n",
       "                                                                          'rolling_mean_24',\n",
       "                                                                          'rolling_std_24'])])),\n",
       "                                       ('regressor',\n",
       "                                        GradientBoostingRegressor(max_depth=5,\n",
       "                                                                  min_samples_leaf=8,\n",
       "                                                                  n_estimators=500,\n",
       "                                                                  random_state=42,\n",
       "                                                                  subsample=0.8))]),\n",
       "             n_jobs=-1,\n",
       "             param_grid={'regressor__learning_rate': [0.05, 0.1],\n",
       "                         'regressor__max_depth': [3, 5],\n",
       "                         'regressor__n_estimators': [100, 300],\n",
       "                         'regressor__subsample': [0.8, 1.0]},\n",
       "             scoring='neg_root_mean_squared_error', verbose=1)"
      ]
     },
     "execution_count": 62,
     "metadata": {},
     "output_type": "execute_result"
    }
   ],
   "source": [
    "# GridSearchCV with TimeSeriesSplit\n",
    "grid_search = GridSearchCV(\n",
    "    gboost_pipeline,\n",
    "    param_grid,\n",
    "    scoring='neg_root_mean_squared_error',\n",
    "    cv=tscv,\n",
    "    n_jobs=-1,\n",
    "    verbose=1\n",
    ")\n",
    "\n",
    "grid_search.fit(X_train, y_train)\n"
   ]
  },
  {
   "cell_type": "code",
   "execution_count": 68,
   "metadata": {},
   "outputs": [],
   "source": [
    "best_model = grid_search.best_estimator_"
   ]
  },
  {
   "cell_type": "code",
   "execution_count": 69,
   "metadata": {},
   "outputs": [],
   "source": [
    "# predict\n",
    "val_preds = best_model.predict(X_valid)"
   ]
  },
  {
   "cell_type": "code",
   "execution_count": 70,
   "metadata": {},
   "outputs": [],
   "source": [
    "val_rmse = mean_squared_error(y_valid, val_preds, squared=False)"
   ]
  },
  {
   "cell_type": "code",
   "execution_count": 71,
   "metadata": {},
   "outputs": [
    {
     "name": "stdout",
     "output_type": "stream",
     "text": [
      "Best Params: {'regressor__learning_rate': 0.05, 'regressor__max_depth': 3, 'regressor__n_estimators': 300, 'regressor__subsample': 1.0}\n",
      "Tuned Gradient Boosting Validation RMSE: 30.98\n"
     ]
    }
   ],
   "source": [
    "# display results\n",
    "print('Best Params:', grid_search.best_params_)\n",
    "print(\"Tuned Gradient Boosting Validation RMSE:\", round(val_rmse, 2))"
   ]
  },
  {
   "cell_type": "markdown",
   "metadata": {},
   "source": [
    "| Model                         | Validation RMSE |\n",
    "|-------------------------------|-----------------|\n",
    "| Linear Regression             | 32.73           |\n",
    "| Ridge Regression              | 32.75           |\n",
    "| Random Forest                 | 34.06           |\n",
    "| Gradient Boosting (Base)      | 31.19           |\n",
    "| Tuned Gradient Boosting       | 30.98           |"
   ]
  },
  {
   "cell_type": "markdown",
   "metadata": {},
   "source": [
    "**The Tuned Gradient Boosting** is the best model. It beat the project goal of RMSE <= 48."
   ]
  },
  {
   "cell_type": "markdown",
   "metadata": {},
   "source": [
    "## Testing"
   ]
  },
  {
   "cell_type": "code",
   "execution_count": 72,
   "metadata": {},
   "outputs": [],
   "source": [
    "# no need to repeat feature engineering – already done:\n",
    "# taxi_df = create_features(taxi_df)\n",
    "# X, y, X_train_full, X_test_final, etc. are already defined.\n"
   ]
  },
  {
   "cell_type": "code",
   "execution_count": 78,
   "metadata": {},
   "outputs": [],
   "source": [
    "# final 90/10 time-based split (no shuffle)\n",
    "# reusing what's already cleanly split, above\n",
    "# X_test_final and y_test_final already exist\n"
   ]
  },
  {
   "cell_type": "code",
   "execution_count": 79,
   "metadata": {},
   "outputs": [],
   "source": [
    "# final enhanced Random Forest Regressor - \n",
    "# based on Reviewer comment, Gradient Boosting (tuned) had the lowest RMSE → it must be the final model."
   ]
  },
  {
   "cell_type": "code",
   "execution_count": 80,
   "metadata": {},
   "outputs": [],
   "source": [
    "#  predict and evaluate (tuned Gradient Boosting)\n",
    "train_preds = best_model.predict(X_train)\n",
    "test_preds = best_model.predict(X_test_final)\n"
   ]
  },
  {
   "cell_type": "code",
   "execution_count": 81,
   "metadata": {},
   "outputs": [],
   "source": [
    "# evaluate RMSE\n",
    "train_rmse = mean_squared_error(y_train, train_preds, squared=False)\n",
    "test_rmse = mean_squared_error(y_test_final, test_preds, squared=False)\n"
   ]
  },
  {
   "cell_type": "code",
   "execution_count": 82,
   "metadata": {},
   "outputs": [
    {
     "name": "stdout",
     "output_type": "stream",
     "text": [
      "Tuned Gradient Boosting Train RMSE: 19.25\n",
      "Tuned Gradient Boosting Test RMSE:  45.47\n"
     ]
    }
   ],
   "source": [
    "# display results\n",
    "print(f\"Tuned Gradient Boosting Train RMSE: {train_rmse:.2f}\")\n",
    "print(f\"Tuned Gradient Boosting Test RMSE:  {test_rmse:.2f}\")\n"
   ]
  },
  {
   "cell_type": "markdown",
   "metadata": {},
   "source": [
    "\n",
    "|Metric      |Result\t|Analysis                                                                   |\n",
    "|------------|----------|---------------------------------------------------------------------------|\n",
    "|Train RMSE  |\t19.25\t|  Nice and low — the model fits the training data well without overfitting.|\n",
    "|Test RMSE   | \t45.47\t|  BELOW the project’s required maximum RMSE of 48.                         |\n"
   ]
  },
  {
   "cell_type": "markdown",
   "metadata": {},
   "source": [
    "## Final Conclusion: Time Series Taxi Demand Forecasting\n"
   ]
  },
  {
   "cell_type": "markdown",
   "metadata": {},
   "source": [
    "In this project, a robust forecasting pipeline is built to predict hourly taxi demand for Sweet Lift Taxi, leveraging historical airport ride data. The goal was to achieve a test RMSE under 48 — and we succeeded, combining structure, signal extraction, and statistical finesse."
   ]
  },
  {
   "cell_type": "markdown",
   "metadata": {},
   "source": [
    "### Summary of Work\n",
    "\n",
    "1. Data Collection & Preparation\n",
    "- Loaded taxi.csv, parsed datetime, and set it as the index.\n",
    "- Resampled data to hourly intervals to align with business goals.\n",
    "\n",
    "2. Exploratory Data Analysis (EDA)\n",
    "- Visualized hourly demand and uncovered recurring daily patterns.\n",
    "- Identified temporal dynamics that informed feature design.\n",
    "\n",
    "3. Feature Engineering\n",
    "- Calendar-based features: hour, dayofweek.\n",
    "- Trend & volatility features: rolling_mean_24, rolling_std_24.\n",
    "- Lag features: lag_1, lag_2, lag_3 to capture autoregressive behavior.\n",
    "\n",
    "4. Model Training & Validation\n",
    "- Implemented and compared several models, applying best practices:\n",
    "- Feature scaling for numeric inputs.\n",
    "- One-hot encoding for categorical time features.\n",
    "- TimeSeriesSplit and GridSearchCV for hyperparameter tuning.\n",
    "\n",
    "**Models Evaluated**:\n",
    "- Linear Regression\n",
    "- Ridge Regression\n",
    "- Random Forest (Baseline)\n",
    "- Gradient Boosting (Tuned, selected as final)"
   ]
  },
  {
   "cell_type": "markdown",
   "metadata": {},
   "source": [
    "### Final Model Performance\n",
    "\n",
    "Enhanced Random Forest Regressor (with rolling features):\n",
    "\n",
    "\n",
    "|Metric\tValue   |     |\n",
    "|---------------|-----|\n",
    "|Train RMSE\t|19.25|\n",
    "|Test RMSE\t|45.47|\n",
    "\n",
    "\n",
    "*Passed the project requirement with a test RMSE well below the 48 threshold.*"
   ]
  },
  {
   "cell_type": "markdown",
   "metadata": {},
   "source": [
    "### Final Verdict\n",
    "\n",
    "The final model demonstrates:\n",
    "\n",
    "* Strong generalization (low train/test variance)\n",
    "\n",
    "* Practical deployment readiness\n",
    "\n",
    "* Scalability for additional features and operational use\n",
    "\n",
    "The pipeline is clean, modular, and ready for integration into a real-time dispatch optimization system."
   ]
  },
  {
   "cell_type": "markdown",
   "metadata": {},
   "source": [
    "## Recommonded Next Steps (Optional Enhancements)\n",
    "\n",
    "* Add exogenous variables (e.g., weather, holiday schedule, events).\n",
    "* Try LightGBM or CatBoost with native categorical support.\n",
    "* Build an API to deploy the model for real-time taxi dispatch optimization.\n",
    "* Explore seasonal decomposition for long-term planning."
   ]
  },
  {
   "cell_type": "markdown",
   "metadata": {},
   "source": [
    "# Review checklist"
   ]
  },
  {
   "cell_type": "markdown",
   "metadata": {},
   "source": [
    "- [x]  Jupyter Notebook is open\n",
    "- [x]  The code is error-free\n",
    "- [x]  The cells with the code have been arranged in order of execution\n",
    "- [x]  The data has been downloaded and prepared\n",
    "- [x]  The data has been analyzed\n",
    "- [x]  The model has been trained and hyperparameters have been selected\n",
    "- [x]  The models have been evaluated. Conclusion has been provided\n",
    "- [x] *RMSE* for the test set is not more than 48"
   ]
  }
 ],
 "metadata": {
  "ExecuteTimeLog": [
   {
    "duration": 294,
    "start_time": "2025-04-16T04:31:20.978Z"
   },
   {
    "duration": 23,
    "start_time": "2025-04-16T04:32:40.761Z"
   },
   {
    "duration": 11,
    "start_time": "2025-04-16T04:32:41.390Z"
   },
   {
    "duration": 6,
    "start_time": "2025-04-16T04:37:21.279Z"
   },
   {
    "duration": 11,
    "start_time": "2025-04-16T04:38:25.982Z"
   },
   {
    "duration": 20,
    "start_time": "2025-04-16T04:42:42.937Z"
   },
   {
    "duration": 6,
    "start_time": "2025-04-16T04:42:43.524Z"
   },
   {
    "duration": 10,
    "start_time": "2025-04-16T04:42:44.329Z"
   },
   {
    "duration": 335,
    "start_time": "2025-04-16T04:49:12.913Z"
   },
   {
    "duration": 21,
    "start_time": "2025-04-16T04:49:13.379Z"
   },
   {
    "duration": 10,
    "start_time": "2025-04-16T04:49:14.008Z"
   },
   {
    "duration": 10,
    "start_time": "2025-04-16T04:49:14.936Z"
   },
   {
    "duration": 11,
    "start_time": "2025-04-16T05:07:37.914Z"
   },
   {
    "duration": 7,
    "start_time": "2025-04-16T05:08:29.539Z"
   },
   {
    "duration": 2556,
    "start_time": "2025-04-16T05:11:44.836Z"
   },
   {
    "duration": 2,
    "start_time": "2025-04-16T05:12:19.375Z"
   },
   {
    "duration": 454,
    "start_time": "2025-04-16T05:12:22.612Z"
   },
   {
    "duration": 465,
    "start_time": "2025-04-16T05:21:56.420Z"
   },
   {
    "duration": 6,
    "start_time": "2025-04-16T05:22:32.707Z"
   },
   {
    "duration": 411,
    "start_time": "2025-04-16T05:22:35.151Z"
   },
   {
    "duration": 5,
    "start_time": "2025-04-16T05:25:36.554Z"
   },
   {
    "duration": 6,
    "start_time": "2025-04-16T05:25:37.425Z"
   },
   {
    "duration": 334,
    "start_time": "2025-04-16T05:25:42.847Z"
   },
   {
    "duration": 247,
    "start_time": "2025-04-16T05:25:53.238Z"
   },
   {
    "duration": 5,
    "start_time": "2025-04-16T05:34:09.307Z"
   },
   {
    "duration": 2,
    "start_time": "2025-04-16T05:34:35.167Z"
   },
   {
    "duration": 5,
    "start_time": "2025-04-16T05:34:35.726Z"
   },
   {
    "duration": 5,
    "start_time": "2025-04-16T05:36:16.098Z"
   },
   {
    "duration": 3,
    "start_time": "2025-04-16T05:37:05.196Z"
   },
   {
    "duration": 5,
    "start_time": "2025-04-16T05:37:49.752Z"
   },
   {
    "duration": 3,
    "start_time": "2025-04-16T05:39:48.620Z"
   },
   {
    "duration": 7,
    "start_time": "2025-04-16T05:40:05.773Z"
   },
   {
    "duration": 6,
    "start_time": "2025-04-16T05:40:26.120Z"
   },
   {
    "duration": 7,
    "start_time": "2025-04-16T05:41:03.104Z"
   },
   {
    "duration": 5,
    "start_time": "2025-04-16T05:41:46.014Z"
   },
   {
    "duration": 6,
    "start_time": "2025-04-16T05:42:11.308Z"
   },
   {
    "duration": 4,
    "start_time": "2025-04-16T05:43:01.201Z"
   },
   {
    "duration": 2179,
    "start_time": "2025-04-18T15:59:26.496Z"
   },
   {
    "duration": 203,
    "start_time": "2025-04-18T15:59:28.677Z"
   },
   {
    "duration": 0,
    "start_time": "2025-04-18T15:59:28.882Z"
   },
   {
    "duration": 0,
    "start_time": "2025-04-18T15:59:28.884Z"
   },
   {
    "duration": 0,
    "start_time": "2025-04-18T15:59:28.886Z"
   },
   {
    "duration": 0,
    "start_time": "2025-04-18T15:59:28.887Z"
   },
   {
    "duration": 0,
    "start_time": "2025-04-18T15:59:28.888Z"
   },
   {
    "duration": 0,
    "start_time": "2025-04-18T15:59:28.890Z"
   },
   {
    "duration": 0,
    "start_time": "2025-04-18T15:59:28.891Z"
   },
   {
    "duration": 0,
    "start_time": "2025-04-18T15:59:28.893Z"
   },
   {
    "duration": 0,
    "start_time": "2025-04-18T15:59:28.894Z"
   },
   {
    "duration": 0,
    "start_time": "2025-04-18T15:59:28.896Z"
   },
   {
    "duration": 0,
    "start_time": "2025-04-18T15:59:28.897Z"
   },
   {
    "duration": 0,
    "start_time": "2025-04-18T15:59:28.899Z"
   },
   {
    "duration": 0,
    "start_time": "2025-04-18T15:59:28.901Z"
   },
   {
    "duration": 0,
    "start_time": "2025-04-18T15:59:28.902Z"
   },
   {
    "duration": 0,
    "start_time": "2025-04-18T15:59:28.904Z"
   },
   {
    "duration": 0,
    "start_time": "2025-04-18T15:59:28.905Z"
   },
   {
    "duration": 1,
    "start_time": "2025-04-18T15:59:28.906Z"
   },
   {
    "duration": 0,
    "start_time": "2025-04-18T15:59:28.908Z"
   },
   {
    "duration": 0,
    "start_time": "2025-04-18T15:59:28.909Z"
   },
   {
    "duration": 0,
    "start_time": "2025-04-18T15:59:28.911Z"
   },
   {
    "duration": 0,
    "start_time": "2025-04-18T15:59:28.913Z"
   },
   {
    "duration": 3,
    "start_time": "2025-04-18T15:59:39.150Z"
   },
   {
    "duration": 17,
    "start_time": "2025-04-18T15:59:39.155Z"
   },
   {
    "duration": 0,
    "start_time": "2025-04-18T15:59:39.174Z"
   },
   {
    "duration": 0,
    "start_time": "2025-04-18T15:59:39.175Z"
   },
   {
    "duration": 0,
    "start_time": "2025-04-18T15:59:39.176Z"
   },
   {
    "duration": 0,
    "start_time": "2025-04-18T15:59:39.177Z"
   },
   {
    "duration": 0,
    "start_time": "2025-04-18T15:59:39.179Z"
   },
   {
    "duration": 0,
    "start_time": "2025-04-18T15:59:39.179Z"
   },
   {
    "duration": 0,
    "start_time": "2025-04-18T15:59:39.180Z"
   },
   {
    "duration": 0,
    "start_time": "2025-04-18T15:59:39.181Z"
   },
   {
    "duration": 0,
    "start_time": "2025-04-18T15:59:39.183Z"
   },
   {
    "duration": 0,
    "start_time": "2025-04-18T15:59:39.183Z"
   },
   {
    "duration": 0,
    "start_time": "2025-04-18T15:59:39.184Z"
   },
   {
    "duration": 12,
    "start_time": "2025-04-18T15:59:39.212Z"
   },
   {
    "duration": 0,
    "start_time": "2025-04-18T15:59:39.226Z"
   },
   {
    "duration": 0,
    "start_time": "2025-04-18T15:59:39.227Z"
   },
   {
    "duration": 0,
    "start_time": "2025-04-18T15:59:39.228Z"
   },
   {
    "duration": 0,
    "start_time": "2025-04-18T15:59:39.229Z"
   },
   {
    "duration": 0,
    "start_time": "2025-04-18T15:59:39.230Z"
   },
   {
    "duration": 0,
    "start_time": "2025-04-18T15:59:39.231Z"
   },
   {
    "duration": 0,
    "start_time": "2025-04-18T15:59:39.232Z"
   },
   {
    "duration": 1,
    "start_time": "2025-04-18T15:59:39.233Z"
   },
   {
    "duration": 3,
    "start_time": "2025-04-18T15:59:48.476Z"
   },
   {
    "duration": 17,
    "start_time": "2025-04-18T15:59:48.481Z"
   },
   {
    "duration": 0,
    "start_time": "2025-04-18T15:59:48.501Z"
   },
   {
    "duration": 0,
    "start_time": "2025-04-18T15:59:48.502Z"
   },
   {
    "duration": 0,
    "start_time": "2025-04-18T15:59:48.504Z"
   },
   {
    "duration": 0,
    "start_time": "2025-04-18T15:59:48.505Z"
   },
   {
    "duration": 0,
    "start_time": "2025-04-18T15:59:48.507Z"
   },
   {
    "duration": 0,
    "start_time": "2025-04-18T15:59:48.508Z"
   },
   {
    "duration": 0,
    "start_time": "2025-04-18T15:59:48.510Z"
   },
   {
    "duration": 0,
    "start_time": "2025-04-18T15:59:48.511Z"
   },
   {
    "duration": 0,
    "start_time": "2025-04-18T15:59:48.512Z"
   },
   {
    "duration": 0,
    "start_time": "2025-04-18T15:59:48.514Z"
   },
   {
    "duration": 0,
    "start_time": "2025-04-18T15:59:48.516Z"
   },
   {
    "duration": 0,
    "start_time": "2025-04-18T15:59:48.517Z"
   },
   {
    "duration": 0,
    "start_time": "2025-04-18T15:59:48.519Z"
   },
   {
    "duration": 0,
    "start_time": "2025-04-18T15:59:48.520Z"
   },
   {
    "duration": 0,
    "start_time": "2025-04-18T15:59:48.521Z"
   },
   {
    "duration": 0,
    "start_time": "2025-04-18T15:59:48.522Z"
   },
   {
    "duration": 0,
    "start_time": "2025-04-18T15:59:48.523Z"
   },
   {
    "duration": 48,
    "start_time": "2025-04-18T15:59:48.570Z"
   },
   {
    "duration": 0,
    "start_time": "2025-04-18T15:59:48.620Z"
   },
   {
    "duration": 0,
    "start_time": "2025-04-18T15:59:48.621Z"
   },
   {
    "duration": 0,
    "start_time": "2025-04-18T15:59:48.622Z"
   },
   {
    "duration": 2,
    "start_time": "2025-04-18T15:59:53.564Z"
   },
   {
    "duration": 21,
    "start_time": "2025-04-18T15:59:53.569Z"
   },
   {
    "duration": 0,
    "start_time": "2025-04-18T15:59:53.592Z"
   },
   {
    "duration": 0,
    "start_time": "2025-04-18T15:59:53.593Z"
   },
   {
    "duration": 0,
    "start_time": "2025-04-18T15:59:53.594Z"
   },
   {
    "duration": 0,
    "start_time": "2025-04-18T15:59:53.595Z"
   },
   {
    "duration": 0,
    "start_time": "2025-04-18T15:59:53.596Z"
   },
   {
    "duration": 0,
    "start_time": "2025-04-18T15:59:53.597Z"
   },
   {
    "duration": 0,
    "start_time": "2025-04-18T15:59:53.598Z"
   },
   {
    "duration": 0,
    "start_time": "2025-04-18T15:59:53.599Z"
   },
   {
    "duration": 0,
    "start_time": "2025-04-18T15:59:53.600Z"
   },
   {
    "duration": 0,
    "start_time": "2025-04-18T15:59:53.601Z"
   },
   {
    "duration": 0,
    "start_time": "2025-04-18T15:59:53.603Z"
   },
   {
    "duration": 0,
    "start_time": "2025-04-18T15:59:53.603Z"
   },
   {
    "duration": 0,
    "start_time": "2025-04-18T15:59:53.605Z"
   },
   {
    "duration": 17,
    "start_time": "2025-04-18T15:59:53.608Z"
   },
   {
    "duration": 0,
    "start_time": "2025-04-18T15:59:53.671Z"
   },
   {
    "duration": 0,
    "start_time": "2025-04-18T15:59:53.672Z"
   },
   {
    "duration": 0,
    "start_time": "2025-04-18T15:59:53.674Z"
   },
   {
    "duration": 0,
    "start_time": "2025-04-18T15:59:53.676Z"
   },
   {
    "duration": 0,
    "start_time": "2025-04-18T15:59:53.677Z"
   },
   {
    "duration": 1,
    "start_time": "2025-04-18T15:59:53.677Z"
   },
   {
    "duration": 3,
    "start_time": "2025-04-18T15:59:59.964Z"
   },
   {
    "duration": 17,
    "start_time": "2025-04-18T15:59:59.969Z"
   },
   {
    "duration": 0,
    "start_time": "2025-04-18T15:59:59.989Z"
   },
   {
    "duration": 0,
    "start_time": "2025-04-18T15:59:59.990Z"
   },
   {
    "duration": 0,
    "start_time": "2025-04-18T15:59:59.992Z"
   },
   {
    "duration": 0,
    "start_time": "2025-04-18T15:59:59.993Z"
   },
   {
    "duration": 0,
    "start_time": "2025-04-18T15:59:59.994Z"
   },
   {
    "duration": 0,
    "start_time": "2025-04-18T15:59:59.995Z"
   },
   {
    "duration": 0,
    "start_time": "2025-04-18T15:59:59.996Z"
   },
   {
    "duration": 0,
    "start_time": "2025-04-18T15:59:59.997Z"
   },
   {
    "duration": 0,
    "start_time": "2025-04-18T15:59:59.998Z"
   },
   {
    "duration": 0,
    "start_time": "2025-04-18T15:59:59.999Z"
   },
   {
    "duration": 4,
    "start_time": "2025-04-18T16:00:00.002Z"
   },
   {
    "duration": 64,
    "start_time": "2025-04-18T16:00:00.007Z"
   },
   {
    "duration": 0,
    "start_time": "2025-04-18T16:00:00.073Z"
   },
   {
    "duration": 0,
    "start_time": "2025-04-18T16:00:00.074Z"
   },
   {
    "duration": 0,
    "start_time": "2025-04-18T16:00:00.076Z"
   },
   {
    "duration": 0,
    "start_time": "2025-04-18T16:00:00.076Z"
   },
   {
    "duration": 0,
    "start_time": "2025-04-18T16:00:00.077Z"
   },
   {
    "duration": 0,
    "start_time": "2025-04-18T16:00:00.078Z"
   },
   {
    "duration": 0,
    "start_time": "2025-04-18T16:00:00.079Z"
   },
   {
    "duration": 0,
    "start_time": "2025-04-18T16:00:00.080Z"
   },
   {
    "duration": 0,
    "start_time": "2025-04-18T16:00:00.081Z"
   },
   {
    "duration": 402,
    "start_time": "2025-04-18T16:00:12.629Z"
   },
   {
    "duration": 242,
    "start_time": "2025-04-18T16:00:13.695Z"
   },
   {
    "duration": 3,
    "start_time": "2025-04-18T16:00:32.509Z"
   },
   {
    "duration": 36,
    "start_time": "2025-04-18T16:00:33.243Z"
   },
   {
    "duration": 8,
    "start_time": "2025-04-18T16:00:35.114Z"
   },
   {
    "duration": 9,
    "start_time": "2025-04-18T16:00:35.878Z"
   },
   {
    "duration": 2,
    "start_time": "2025-04-18T16:00:38.182Z"
   },
   {
    "duration": 10,
    "start_time": "2025-04-18T16:00:38.729Z"
   },
   {
    "duration": 8,
    "start_time": "2025-04-18T16:00:39.465Z"
   },
   {
    "duration": 432,
    "start_time": "2025-04-18T16:00:40.135Z"
   },
   {
    "duration": 7,
    "start_time": "2025-04-18T16:00:42.330Z"
   },
   {
    "duration": 433,
    "start_time": "2025-04-18T16:00:42.833Z"
   },
   {
    "duration": 5,
    "start_time": "2025-04-18T16:00:43.348Z"
   },
   {
    "duration": 245,
    "start_time": "2025-04-18T16:00:44.433Z"
   },
   {
    "duration": 3,
    "start_time": "2025-04-18T16:00:47.444Z"
   },
   {
    "duration": 5,
    "start_time": "2025-04-18T16:00:47.890Z"
   },
   {
    "duration": 5,
    "start_time": "2025-04-18T16:00:48.385Z"
   },
   {
    "duration": 4,
    "start_time": "2025-04-18T16:00:48.939Z"
   },
   {
    "duration": 5,
    "start_time": "2025-04-18T16:00:49.638Z"
   },
   {
    "duration": 4,
    "start_time": "2025-04-18T16:00:50.360Z"
   },
   {
    "duration": 8,
    "start_time": "2025-04-18T16:00:50.803Z"
   },
   {
    "duration": 5,
    "start_time": "2025-04-18T16:00:51.350Z"
   },
   {
    "duration": 5,
    "start_time": "2025-04-18T16:01:01.555Z"
   },
   {
    "duration": 5,
    "start_time": "2025-04-18T16:01:02.102Z"
   },
   {
    "duration": 4,
    "start_time": "2025-04-18T16:01:02.868Z"
   },
   {
    "duration": 530,
    "start_time": "2025-04-18T16:28:03.311Z"
   },
   {
    "duration": 2,
    "start_time": "2025-04-18T16:30:56.371Z"
   },
   {
    "duration": 3,
    "start_time": "2025-04-18T16:30:57.034Z"
   },
   {
    "duration": 59,
    "start_time": "2025-04-18T16:30:57.618Z"
   },
   {
    "duration": 5,
    "start_time": "2025-04-18T16:31:09.515Z"
   },
   {
    "duration": 7,
    "start_time": "2025-04-18T16:31:34.278Z"
   },
   {
    "duration": 7,
    "start_time": "2025-04-18T16:35:06.039Z"
   },
   {
    "duration": 4,
    "start_time": "2025-04-18T16:43:12.000Z"
   },
   {
    "duration": 3,
    "start_time": "2025-04-18T16:44:06.410Z"
   },
   {
    "duration": 2,
    "start_time": "2025-04-18T17:11:54.304Z"
   },
   {
    "duration": 2,
    "start_time": "2025-04-18T17:13:33.509Z"
   },
   {
    "duration": 6,
    "start_time": "2025-04-18T17:14:24.478Z"
   },
   {
    "duration": 8,
    "start_time": "2025-04-18T17:16:09.106Z"
   },
   {
    "duration": 4,
    "start_time": "2025-04-18T17:16:54.792Z"
   },
   {
    "duration": 3,
    "start_time": "2025-04-18T17:17:30.375Z"
   },
   {
    "duration": 6,
    "start_time": "2025-04-18T17:20:42.882Z"
   },
   {
    "duration": 6,
    "start_time": "2025-04-18T17:20:43.815Z"
   },
   {
    "duration": 3,
    "start_time": "2025-04-18T17:20:44.521Z"
   },
   {
    "duration": 2,
    "start_time": "2025-04-18T17:20:45.344Z"
   },
   {
    "duration": 6,
    "start_time": "2025-04-18T17:20:57.038Z"
   },
   {
    "duration": 4,
    "start_time": "2025-04-18T17:20:57.734Z"
   },
   {
    "duration": 5,
    "start_time": "2025-04-18T17:20:58.333Z"
   },
   {
    "duration": 2,
    "start_time": "2025-04-18T17:20:58.944Z"
   },
   {
    "duration": 3,
    "start_time": "2025-04-18T17:21:30.712Z"
   },
   {
    "duration": 73,
    "start_time": "2025-04-18T17:21:30.717Z"
   },
   {
    "duration": 6,
    "start_time": "2025-04-18T17:21:30.791Z"
   },
   {
    "duration": 8,
    "start_time": "2025-04-18T17:21:30.799Z"
   },
   {
    "duration": 2,
    "start_time": "2025-04-18T17:21:30.808Z"
   },
   {
    "duration": 9,
    "start_time": "2025-04-18T17:21:30.812Z"
   },
   {
    "duration": 7,
    "start_time": "2025-04-18T17:21:30.822Z"
   },
   {
    "duration": 413,
    "start_time": "2025-04-18T17:21:30.831Z"
   },
   {
    "duration": 5,
    "start_time": "2025-04-18T17:21:31.247Z"
   },
   {
    "duration": 447,
    "start_time": "2025-04-18T17:21:31.254Z"
   },
   {
    "duration": 4,
    "start_time": "2025-04-18T17:21:31.703Z"
   },
   {
    "duration": 261,
    "start_time": "2025-04-18T17:21:31.709Z"
   },
   {
    "duration": 2,
    "start_time": "2025-04-18T17:21:31.972Z"
   },
   {
    "duration": 5,
    "start_time": "2025-04-18T17:21:31.976Z"
   },
   {
    "duration": 4,
    "start_time": "2025-04-18T17:21:31.983Z"
   },
   {
    "duration": 4,
    "start_time": "2025-04-18T17:21:31.989Z"
   },
   {
    "duration": 5,
    "start_time": "2025-04-18T17:21:31.994Z"
   },
   {
    "duration": 4,
    "start_time": "2025-04-18T17:21:32.000Z"
   },
   {
    "duration": 7,
    "start_time": "2025-04-18T17:21:32.006Z"
   },
   {
    "duration": 5,
    "start_time": "2025-04-18T17:21:32.015Z"
   },
   {
    "duration": 52,
    "start_time": "2025-04-18T17:21:32.021Z"
   },
   {
    "duration": 4,
    "start_time": "2025-04-18T17:21:32.075Z"
   },
   {
    "duration": 4,
    "start_time": "2025-04-18T17:21:32.080Z"
   },
   {
    "duration": 3,
    "start_time": "2025-04-18T17:21:32.088Z"
   },
   {
    "duration": 3,
    "start_time": "2025-04-18T17:21:32.092Z"
   },
   {
    "duration": 4,
    "start_time": "2025-04-18T17:21:32.097Z"
   },
   {
    "duration": 5,
    "start_time": "2025-04-18T17:21:32.103Z"
   },
   {
    "duration": 5,
    "start_time": "2025-04-18T17:21:32.110Z"
   },
   {
    "duration": 59,
    "start_time": "2025-04-18T17:21:32.117Z"
   },
   {
    "duration": 5,
    "start_time": "2025-04-18T17:21:32.178Z"
   },
   {
    "duration": 6,
    "start_time": "2025-04-18T17:21:36.541Z"
   },
   {
    "duration": 5,
    "start_time": "2025-04-18T17:21:37.838Z"
   },
   {
    "duration": 3,
    "start_time": "2025-04-18T17:21:38.980Z"
   },
   {
    "duration": 3,
    "start_time": "2025-04-18T17:21:39.645Z"
   },
   {
    "duration": 6,
    "start_time": "2025-04-18T17:21:50.022Z"
   },
   {
    "duration": 6,
    "start_time": "2025-04-18T17:22:00.307Z"
   },
   {
    "duration": 7,
    "start_time": "2025-04-18T17:22:01.055Z"
   },
   {
    "duration": 4,
    "start_time": "2025-04-18T17:22:01.535Z"
   },
   {
    "duration": 3,
    "start_time": "2025-04-18T17:22:01.987Z"
   },
   {
    "duration": 8,
    "start_time": "2025-04-18T17:22:23.184Z"
   },
   {
    "duration": 18,
    "start_time": "2025-04-18T17:22:24.040Z"
   },
   {
    "duration": 3,
    "start_time": "2025-04-18T17:22:24.533Z"
   },
   {
    "duration": 3,
    "start_time": "2025-04-18T17:22:25.120Z"
   },
   {
    "duration": 2,
    "start_time": "2025-04-18T17:24:53.075Z"
   },
   {
    "duration": 20,
    "start_time": "2025-04-18T17:40:58.771Z"
   },
   {
    "duration": 455,
    "start_time": "2025-04-18T17:42:06.739Z"
   },
   {
    "duration": 39,
    "start_time": "2025-04-18T17:42:43.267Z"
   },
   {
    "duration": 128,
    "start_time": "2025-04-18T17:43:25.137Z"
   },
   {
    "duration": 4,
    "start_time": "2025-04-18T17:43:48.296Z"
   },
   {
    "duration": 3,
    "start_time": "2025-04-18T17:44:37.031Z"
   },
   {
    "duration": 1161,
    "start_time": "2025-04-18T17:50:10.965Z"
   },
   {
    "duration": 191,
    "start_time": "2025-04-18T17:50:16.471Z"
   },
   {
    "duration": 4,
    "start_time": "2025-04-18T17:50:55.973Z"
   },
   {
    "duration": 3,
    "start_time": "2025-04-18T17:50:56.633Z"
   },
   {
    "duration": 3,
    "start_time": "2025-04-18T18:18:13.247Z"
   },
   {
    "duration": 1220,
    "start_time": "2025-04-18T18:18:13.640Z"
   },
   {
    "duration": 183,
    "start_time": "2025-04-18T18:18:39.409Z"
   },
   {
    "duration": 3,
    "start_time": "2025-04-18T18:19:00.416Z"
   },
   {
    "duration": 3,
    "start_time": "2025-04-18T18:19:01.260Z"
   },
   {
    "duration": 1486,
    "start_time": "2025-04-18T18:23:25.266Z"
   },
   {
    "duration": 216,
    "start_time": "2025-04-18T18:23:50.619Z"
   },
   {
    "duration": 1485,
    "start_time": "2025-04-18T18:24:15.725Z"
   },
   {
    "duration": 229,
    "start_time": "2025-04-18T18:24:17.212Z"
   },
   {
    "duration": 3,
    "start_time": "2025-04-18T18:24:17.443Z"
   },
   {
    "duration": 3,
    "start_time": "2025-04-18T18:24:17.851Z"
   },
   {
    "duration": 885,
    "start_time": "2025-04-18T18:24:27.582Z"
   },
   {
    "duration": 21,
    "start_time": "2025-04-18T18:24:28.469Z"
   },
   {
    "duration": 8,
    "start_time": "2025-04-18T18:24:28.492Z"
   },
   {
    "duration": 7,
    "start_time": "2025-04-18T18:24:28.502Z"
   },
   {
    "duration": 2,
    "start_time": "2025-04-18T18:24:28.511Z"
   },
   {
    "duration": 80,
    "start_time": "2025-04-18T18:24:28.515Z"
   },
   {
    "duration": 6,
    "start_time": "2025-04-18T18:24:28.597Z"
   },
   {
    "duration": 457,
    "start_time": "2025-04-18T18:24:28.605Z"
   },
   {
    "duration": 7,
    "start_time": "2025-04-18T18:24:29.064Z"
   },
   {
    "duration": 399,
    "start_time": "2025-04-18T18:24:29.075Z"
   },
   {
    "duration": 5,
    "start_time": "2025-04-18T18:24:29.476Z"
   },
   {
    "duration": 311,
    "start_time": "2025-04-18T18:24:29.482Z"
   },
   {
    "duration": 2,
    "start_time": "2025-04-18T18:24:29.795Z"
   },
   {
    "duration": 6,
    "start_time": "2025-04-18T18:24:29.799Z"
   },
   {
    "duration": 4,
    "start_time": "2025-04-18T18:24:29.806Z"
   },
   {
    "duration": 3,
    "start_time": "2025-04-18T18:24:29.812Z"
   },
   {
    "duration": 5,
    "start_time": "2025-04-18T18:24:29.817Z"
   },
   {
    "duration": 3,
    "start_time": "2025-04-18T18:24:29.824Z"
   },
   {
    "duration": 42,
    "start_time": "2025-04-18T18:24:29.829Z"
   },
   {
    "duration": 5,
    "start_time": "2025-04-18T18:24:29.873Z"
   },
   {
    "duration": 4,
    "start_time": "2025-04-18T18:24:29.880Z"
   },
   {
    "duration": 5,
    "start_time": "2025-04-18T18:24:29.885Z"
   },
   {
    "duration": 5,
    "start_time": "2025-04-18T18:24:29.892Z"
   },
   {
    "duration": 2,
    "start_time": "2025-04-18T18:24:29.901Z"
   },
   {
    "duration": 3,
    "start_time": "2025-04-18T18:24:29.905Z"
   },
   {
    "duration": 4,
    "start_time": "2025-04-18T18:24:29.910Z"
   },
   {
    "duration": 6,
    "start_time": "2025-04-18T18:24:29.916Z"
   },
   {
    "duration": 12,
    "start_time": "2025-04-18T18:24:29.970Z"
   },
   {
    "duration": 5,
    "start_time": "2025-04-18T18:24:29.983Z"
   },
   {
    "duration": 3,
    "start_time": "2025-04-18T18:24:29.990Z"
   },
   {
    "duration": 2,
    "start_time": "2025-04-18T18:24:29.995Z"
   },
   {
    "duration": 77,
    "start_time": "2025-04-18T18:24:29.999Z"
   },
   {
    "duration": 8,
    "start_time": "2025-04-18T18:24:30.079Z"
   },
   {
    "duration": 4,
    "start_time": "2025-04-18T18:24:30.089Z"
   },
   {
    "duration": 75,
    "start_time": "2025-04-18T18:24:30.095Z"
   },
   {
    "duration": 4,
    "start_time": "2025-04-18T18:24:30.172Z"
   },
   {
    "duration": 497,
    "start_time": "2025-04-18T18:24:30.177Z"
   },
   {
    "duration": 38,
    "start_time": "2025-04-18T18:24:30.676Z"
   },
   {
    "duration": 3,
    "start_time": "2025-04-18T18:24:30.716Z"
   },
   {
    "duration": 3,
    "start_time": "2025-04-18T18:24:30.721Z"
   },
   {
    "duration": 1179,
    "start_time": "2025-04-18T18:24:30.726Z"
   },
   {
    "duration": 201,
    "start_time": "2025-04-18T18:24:31.908Z"
   },
   {
    "duration": 4,
    "start_time": "2025-04-18T18:24:32.111Z"
   },
   {
    "duration": 3,
    "start_time": "2025-04-18T18:24:32.117Z"
   },
   {
    "duration": 2,
    "start_time": "2025-04-18T18:24:32.122Z"
   },
   {
    "duration": 1493,
    "start_time": "2025-04-18T18:24:32.126Z"
   },
   {
    "duration": 225,
    "start_time": "2025-04-18T18:24:33.621Z"
   },
   {
    "duration": 4,
    "start_time": "2025-04-18T18:24:33.847Z"
   },
   {
    "duration": 16,
    "start_time": "2025-04-18T18:24:33.853Z"
   },
   {
    "duration": 244,
    "start_time": "2025-04-18T18:32:23.887Z"
   },
   {
    "duration": 2,
    "start_time": "2025-04-18T18:32:26.933Z"
   },
   {
    "duration": 2,
    "start_time": "2025-04-18T18:32:31.850Z"
   },
   {
    "duration": 1543,
    "start_time": "2025-04-18T18:32:35.406Z"
   },
   {
    "duration": 32,
    "start_time": "2025-04-18T18:32:46.837Z"
   },
   {
    "duration": 4,
    "start_time": "2025-04-18T18:32:55.071Z"
   },
   {
    "duration": 3,
    "start_time": "2025-04-18T18:33:03.897Z"
   },
   {
    "duration": 2,
    "start_time": "2025-04-19T01:15:49.954Z"
   },
   {
    "duration": 4,
    "start_time": "2025-04-19T01:15:50.682Z"
   },
   {
    "duration": 3,
    "start_time": "2025-04-19T01:15:51.307Z"
   },
   {
    "duration": 4,
    "start_time": "2025-04-19T01:15:51.855Z"
   },
   {
    "duration": 5,
    "start_time": "2025-04-19T01:15:52.584Z"
   },
   {
    "duration": 937,
    "start_time": "2025-04-19T01:21:04.942Z"
   },
   {
    "duration": 21,
    "start_time": "2025-04-19T01:21:05.881Z"
   },
   {
    "duration": 8,
    "start_time": "2025-04-19T01:21:05.903Z"
   },
   {
    "duration": 8,
    "start_time": "2025-04-19T01:21:05.913Z"
   },
   {
    "duration": 4,
    "start_time": "2025-04-19T01:21:05.927Z"
   },
   {
    "duration": 69,
    "start_time": "2025-04-19T01:21:05.934Z"
   },
   {
    "duration": 6,
    "start_time": "2025-04-19T01:21:06.005Z"
   },
   {
    "duration": 453,
    "start_time": "2025-04-19T01:21:06.013Z"
   },
   {
    "duration": 7,
    "start_time": "2025-04-19T01:21:06.468Z"
   },
   {
    "duration": 419,
    "start_time": "2025-04-19T01:21:06.476Z"
   },
   {
    "duration": 5,
    "start_time": "2025-04-19T01:21:06.897Z"
   },
   {
    "duration": 324,
    "start_time": "2025-04-19T01:21:06.904Z"
   },
   {
    "duration": 3,
    "start_time": "2025-04-19T01:21:07.230Z"
   },
   {
    "duration": 6,
    "start_time": "2025-04-19T01:21:07.237Z"
   },
   {
    "duration": 5,
    "start_time": "2025-04-19T01:21:07.244Z"
   },
   {
    "duration": 4,
    "start_time": "2025-04-19T01:21:07.271Z"
   },
   {
    "duration": 7,
    "start_time": "2025-04-19T01:21:07.276Z"
   },
   {
    "duration": 5,
    "start_time": "2025-04-19T01:21:07.284Z"
   },
   {
    "duration": 8,
    "start_time": "2025-04-19T01:21:07.290Z"
   },
   {
    "duration": 4,
    "start_time": "2025-04-19T01:21:07.301Z"
   },
   {
    "duration": 5,
    "start_time": "2025-04-19T01:21:07.307Z"
   },
   {
    "duration": 4,
    "start_time": "2025-04-19T01:21:07.313Z"
   },
   {
    "duration": 4,
    "start_time": "2025-04-19T01:21:07.320Z"
   },
   {
    "duration": 46,
    "start_time": "2025-04-19T01:21:07.325Z"
   },
   {
    "duration": 4,
    "start_time": "2025-04-19T01:21:07.373Z"
   },
   {
    "duration": 4,
    "start_time": "2025-04-19T01:21:07.379Z"
   },
   {
    "duration": 7,
    "start_time": "2025-04-19T01:21:07.384Z"
   },
   {
    "duration": 6,
    "start_time": "2025-04-19T01:21:07.393Z"
   },
   {
    "duration": 6,
    "start_time": "2025-04-19T01:21:07.401Z"
   },
   {
    "duration": 3,
    "start_time": "2025-04-19T01:21:07.409Z"
   },
   {
    "duration": 3,
    "start_time": "2025-04-19T01:21:07.471Z"
   },
   {
    "duration": 7,
    "start_time": "2025-04-19T01:21:07.475Z"
   },
   {
    "duration": 7,
    "start_time": "2025-04-19T01:21:07.484Z"
   },
   {
    "duration": 79,
    "start_time": "2025-04-19T01:21:07.493Z"
   },
   {
    "duration": 3,
    "start_time": "2025-04-19T01:21:07.574Z"
   },
   {
    "duration": 3,
    "start_time": "2025-04-19T01:21:07.579Z"
   },
   {
    "duration": 516,
    "start_time": "2025-04-19T01:21:07.583Z"
   },
   {
    "duration": 37,
    "start_time": "2025-04-19T01:21:08.102Z"
   },
   {
    "duration": 3,
    "start_time": "2025-04-19T01:21:08.141Z"
   },
   {
    "duration": 3,
    "start_time": "2025-04-19T01:21:08.146Z"
   },
   {
    "duration": 1165,
    "start_time": "2025-04-19T01:21:08.174Z"
   },
   {
    "duration": 197,
    "start_time": "2025-04-19T01:21:09.341Z"
   },
   {
    "duration": 3,
    "start_time": "2025-04-19T01:21:09.540Z"
   },
   {
    "duration": 3,
    "start_time": "2025-04-19T01:21:09.545Z"
   },
   {
    "duration": 20,
    "start_time": "2025-04-19T01:21:09.550Z"
   },
   {
    "duration": 1477,
    "start_time": "2025-04-19T01:21:09.572Z"
   },
   {
    "duration": 229,
    "start_time": "2025-04-19T01:21:11.050Z"
   },
   {
    "duration": 4,
    "start_time": "2025-04-19T01:21:11.281Z"
   },
   {
    "duration": 3,
    "start_time": "2025-04-19T01:21:11.287Z"
   },
   {
    "duration": 2,
    "start_time": "2025-04-19T01:21:11.292Z"
   },
   {
    "duration": 1577,
    "start_time": "2025-04-19T01:21:11.296Z"
   },
   {
    "duration": 32,
    "start_time": "2025-04-19T01:21:12.875Z"
   },
   {
    "duration": 4,
    "start_time": "2025-04-19T01:21:12.909Z"
   },
   {
    "duration": 4,
    "start_time": "2025-04-19T01:21:12.914Z"
   },
   {
    "duration": 2,
    "start_time": "2025-04-19T02:14:49.318Z"
   },
   {
    "duration": 4,
    "start_time": "2025-04-19T02:14:50.050Z"
   },
   {
    "duration": 3,
    "start_time": "2025-04-19T02:14:50.647Z"
   },
   {
    "duration": 4,
    "start_time": "2025-04-19T02:14:51.407Z"
   },
   {
    "duration": 5,
    "start_time": "2025-04-19T02:14:52.248Z"
   },
   {
    "duration": 6,
    "start_time": "2025-04-19T02:14:52.852Z"
   },
   {
    "duration": 2,
    "start_time": "2025-04-19T02:14:53.425Z"
   },
   {
    "duration": 2,
    "start_time": "2025-04-19T02:14:54.040Z"
   },
   {
    "duration": 3,
    "start_time": "2025-04-19T02:14:54.602Z"
   },
   {
    "duration": 2,
    "start_time": "2025-04-19T02:14:55.204Z"
   },
   {
    "duration": 226,
    "start_time": "2025-04-19T02:14:55.944Z"
   },
   {
    "duration": 3,
    "start_time": "2025-04-19T02:15:58.315Z"
   },
   {
    "duration": 419,
    "start_time": "2025-04-19T02:15:58.844Z"
   },
   {
    "duration": 4,
    "start_time": "2025-04-19T02:16:09.911Z"
   },
   {
    "duration": 2813,
    "start_time": "2025-04-19T02:16:13.183Z"
   },
   {
    "duration": 211,
    "start_time": "2025-04-19T02:16:19.747Z"
   },
   {
    "duration": 5,
    "start_time": "2025-04-19T02:16:20.875Z"
   },
   {
    "duration": 3,
    "start_time": "2025-04-19T02:16:21.803Z"
   },
   {
    "duration": 2880,
    "start_time": "2025-04-20T02:43:48.749Z"
   },
   {
    "duration": 17,
    "start_time": "2025-04-20T02:44:02.965Z"
   },
   {
    "duration": 33,
    "start_time": "2025-04-20T02:44:08.308Z"
   },
   {
    "duration": 9,
    "start_time": "2025-04-20T02:44:09.065Z"
   },
   {
    "duration": 9,
    "start_time": "2025-04-20T02:44:14.639Z"
   },
   {
    "duration": 2,
    "start_time": "2025-04-20T02:44:22.373Z"
   },
   {
    "duration": 10,
    "start_time": "2025-04-20T02:44:23.003Z"
   },
   {
    "duration": 7,
    "start_time": "2025-04-20T02:44:23.897Z"
   },
   {
    "duration": 487,
    "start_time": "2025-04-20T02:45:24.349Z"
   },
   {
    "duration": 7,
    "start_time": "2025-04-20T02:45:44.891Z"
   },
   {
    "duration": 407,
    "start_time": "2025-04-20T02:45:54.216Z"
   },
   {
    "duration": 5,
    "start_time": "2025-04-20T02:45:58.646Z"
   },
   {
    "duration": 256,
    "start_time": "2025-04-20T02:46:00.212Z"
   },
   {
    "duration": 5,
    "start_time": "2025-04-20T02:48:17.648Z"
   },
   {
    "duration": 951,
    "start_time": "2025-04-20T02:54:22.639Z"
   },
   {
    "duration": 793,
    "start_time": "2025-04-20T02:55:49.785Z"
   },
   {
    "duration": 547,
    "start_time": "2025-04-20T02:57:50.065Z"
   },
   {
    "duration": 6,
    "start_time": "2025-04-20T03:03:07.326Z"
   },
   {
    "duration": 2,
    "start_time": "2025-04-20T03:03:10.196Z"
   },
   {
    "duration": 6,
    "start_time": "2025-04-20T03:03:10.692Z"
   },
   {
    "duration": 5,
    "start_time": "2025-04-20T03:03:11.557Z"
   },
   {
    "duration": 4,
    "start_time": "2025-04-20T03:03:12.203Z"
   },
   {
    "duration": 4,
    "start_time": "2025-04-20T03:03:14.383Z"
   },
   {
    "duration": 8,
    "start_time": "2025-04-20T03:03:37.678Z"
   },
   {
    "duration": 5,
    "start_time": "2025-04-20T03:03:41.368Z"
   },
   {
    "duration": 6,
    "start_time": "2025-04-20T03:03:52.180Z"
   },
   {
    "duration": 6,
    "start_time": "2025-04-20T03:06:00.309Z"
   },
   {
    "duration": 4,
    "start_time": "2025-04-20T03:06:18.288Z"
   },
   {
    "duration": 8,
    "start_time": "2025-04-20T03:06:18.941Z"
   },
   {
    "duration": 7,
    "start_time": "2025-04-20T03:06:19.654Z"
   },
   {
    "duration": 5,
    "start_time": "2025-04-20T03:06:20.525Z"
   },
   {
    "duration": 5,
    "start_time": "2025-04-20T03:06:21.215Z"
   },
   {
    "duration": 4,
    "start_time": "2025-04-20T03:06:21.914Z"
   },
   {
    "duration": 2,
    "start_time": "2025-04-20T03:06:59.344Z"
   },
   {
    "duration": 4,
    "start_time": "2025-04-20T03:06:59.973Z"
   },
   {
    "duration": 5,
    "start_time": "2025-04-20T03:07:01.584Z"
   },
   {
    "duration": 22,
    "start_time": "2025-04-20T03:15:09.678Z"
   },
   {
    "duration": 3,
    "start_time": "2025-04-20T03:15:48.370Z"
   },
   {
    "duration": 966,
    "start_time": "2025-04-20T03:21:08.602Z"
   },
   {
    "duration": 22,
    "start_time": "2025-04-20T03:21:09.571Z"
   },
   {
    "duration": 7,
    "start_time": "2025-04-20T03:21:09.594Z"
   },
   {
    "duration": 15,
    "start_time": "2025-04-20T03:21:09.603Z"
   },
   {
    "duration": 2,
    "start_time": "2025-04-20T03:21:09.621Z"
   },
   {
    "duration": 9,
    "start_time": "2025-04-20T03:21:09.625Z"
   },
   {
    "duration": 5,
    "start_time": "2025-04-20T03:21:09.636Z"
   },
   {
    "duration": 469,
    "start_time": "2025-04-20T03:21:09.643Z"
   },
   {
    "duration": 7,
    "start_time": "2025-04-20T03:21:10.114Z"
   },
   {
    "duration": 414,
    "start_time": "2025-04-20T03:21:10.122Z"
   },
   {
    "duration": 5,
    "start_time": "2025-04-20T03:21:10.538Z"
   },
   {
    "duration": 315,
    "start_time": "2025-04-20T03:21:10.544Z"
   },
   {
    "duration": 6,
    "start_time": "2025-04-20T03:21:10.861Z"
   },
   {
    "duration": 891,
    "start_time": "2025-04-20T03:21:10.871Z"
   },
   {
    "duration": 2,
    "start_time": "2025-04-20T03:21:11.764Z"
   },
   {
    "duration": 5,
    "start_time": "2025-04-20T03:21:11.768Z"
   },
   {
    "duration": 4,
    "start_time": "2025-04-20T03:21:11.775Z"
   },
   {
    "duration": 4,
    "start_time": "2025-04-20T03:21:11.780Z"
   },
   {
    "duration": 26,
    "start_time": "2025-04-20T03:21:11.786Z"
   },
   {
    "duration": 5,
    "start_time": "2025-04-20T03:21:11.813Z"
   },
   {
    "duration": 4,
    "start_time": "2025-04-20T03:21:11.819Z"
   },
   {
    "duration": 7,
    "start_time": "2025-04-20T03:21:11.825Z"
   },
   {
    "duration": 5,
    "start_time": "2025-04-20T03:21:11.834Z"
   },
   {
    "duration": 5,
    "start_time": "2025-04-20T03:21:11.841Z"
   },
   {
    "duration": 4,
    "start_time": "2025-04-20T03:21:11.847Z"
   },
   {
    "duration": 4,
    "start_time": "2025-04-20T03:21:11.852Z"
   },
   {
    "duration": 2,
    "start_time": "2025-04-20T03:21:11.858Z"
   },
   {
    "duration": 4,
    "start_time": "2025-04-20T03:21:11.862Z"
   },
   {
    "duration": 48,
    "start_time": "2025-04-20T03:21:11.867Z"
   },
   {
    "duration": 7,
    "start_time": "2025-04-20T03:21:11.917Z"
   },
   {
    "duration": 10,
    "start_time": "2025-04-20T03:21:11.927Z"
   },
   {
    "duration": 3,
    "start_time": "2025-04-20T03:21:11.939Z"
   },
   {
    "duration": 4,
    "start_time": "2025-04-20T03:21:11.944Z"
   },
   {
    "duration": 3,
    "start_time": "2025-04-20T03:21:12.011Z"
   },
   {
    "duration": 7,
    "start_time": "2025-04-20T03:21:12.016Z"
   },
   {
    "duration": 6,
    "start_time": "2025-04-20T03:21:12.025Z"
   },
   {
    "duration": 3,
    "start_time": "2025-04-20T03:21:12.033Z"
   },
   {
    "duration": 3,
    "start_time": "2025-04-20T03:21:12.112Z"
   },
   {
    "duration": 3,
    "start_time": "2025-04-20T03:21:12.117Z"
   },
   {
    "duration": 648,
    "start_time": "2025-04-20T03:21:12.122Z"
   },
   {
    "duration": 46,
    "start_time": "2025-04-20T03:21:12.776Z"
   },
   {
    "duration": 3,
    "start_time": "2025-04-20T03:21:12.824Z"
   },
   {
    "duration": 4,
    "start_time": "2025-04-20T03:21:12.828Z"
   },
   {
    "duration": 1636,
    "start_time": "2025-04-20T03:21:12.833Z"
   },
   {
    "duration": 198,
    "start_time": "2025-04-20T03:21:14.471Z"
   },
   {
    "duration": 3,
    "start_time": "2025-04-20T03:21:14.671Z"
   },
   {
    "duration": 3,
    "start_time": "2025-04-20T03:21:14.676Z"
   },
   {
    "duration": 2,
    "start_time": "2025-04-20T03:21:14.681Z"
   },
   {
    "duration": 2083,
    "start_time": "2025-04-20T03:21:14.684Z"
   },
   {
    "duration": 229,
    "start_time": "2025-04-20T03:21:16.769Z"
   },
   {
    "duration": 3,
    "start_time": "2025-04-20T03:21:16.999Z"
   },
   {
    "duration": 5,
    "start_time": "2025-04-20T03:21:17.012Z"
   },
   {
    "duration": 3,
    "start_time": "2025-04-20T03:21:17.019Z"
   },
   {
    "duration": 1956,
    "start_time": "2025-04-20T03:21:17.023Z"
   },
   {
    "duration": 41,
    "start_time": "2025-04-20T03:21:18.981Z"
   },
   {
    "duration": 4,
    "start_time": "2025-04-20T03:21:19.024Z"
   },
   {
    "duration": 5,
    "start_time": "2025-04-20T03:21:19.029Z"
   },
   {
    "duration": 3,
    "start_time": "2025-04-20T03:21:19.035Z"
   },
   {
    "duration": 4,
    "start_time": "2025-04-20T03:21:19.040Z"
   },
   {
    "duration": 3,
    "start_time": "2025-04-20T03:21:19.045Z"
   },
   {
    "duration": 4,
    "start_time": "2025-04-20T03:21:19.049Z"
   },
   {
    "duration": 4,
    "start_time": "2025-04-20T03:21:19.055Z"
   },
   {
    "duration": 4,
    "start_time": "2025-04-20T03:21:19.061Z"
   },
   {
    "duration": 2,
    "start_time": "2025-04-20T03:21:19.068Z"
   },
   {
    "duration": 2,
    "start_time": "2025-04-20T03:21:19.073Z"
   },
   {
    "duration": 3,
    "start_time": "2025-04-20T03:21:19.112Z"
   },
   {
    "duration": 4,
    "start_time": "2025-04-20T03:21:19.116Z"
   },
   {
    "duration": 4,
    "start_time": "2025-04-20T03:21:19.122Z"
   },
   {
    "duration": 2828,
    "start_time": "2025-04-20T03:21:19.127Z"
   },
   {
    "duration": 219,
    "start_time": "2025-04-20T03:21:21.957Z"
   },
   {
    "duration": 4,
    "start_time": "2025-04-20T03:21:22.177Z"
   },
   {
    "duration": 4,
    "start_time": "2025-04-20T03:21:22.182Z"
   },
   {
    "duration": 2,
    "start_time": "2025-04-20T03:32:55.044Z"
   },
   {
    "duration": 3,
    "start_time": "2025-04-20T03:32:55.717Z"
   },
   {
    "duration": 6,
    "start_time": "2025-04-20T03:32:56.359Z"
   },
   {
    "duration": 2,
    "start_time": "2025-04-20T03:33:04.111Z"
   },
   {
    "duration": 983,
    "start_time": "2025-04-20T03:35:50.152Z"
   },
   {
    "duration": 22,
    "start_time": "2025-04-20T03:35:51.138Z"
   },
   {
    "duration": 9,
    "start_time": "2025-04-20T03:35:51.161Z"
   },
   {
    "duration": 7,
    "start_time": "2025-04-20T03:35:51.173Z"
   },
   {
    "duration": 2,
    "start_time": "2025-04-20T03:35:51.182Z"
   },
   {
    "duration": 27,
    "start_time": "2025-04-20T03:35:51.186Z"
   },
   {
    "duration": 7,
    "start_time": "2025-04-20T03:35:51.215Z"
   },
   {
    "duration": 449,
    "start_time": "2025-04-20T03:35:51.223Z"
   },
   {
    "duration": 7,
    "start_time": "2025-04-20T03:35:51.674Z"
   },
   {
    "duration": 406,
    "start_time": "2025-04-20T03:35:51.684Z"
   },
   {
    "duration": 6,
    "start_time": "2025-04-20T03:35:52.091Z"
   },
   {
    "duration": 320,
    "start_time": "2025-04-20T03:35:52.099Z"
   },
   {
    "duration": 6,
    "start_time": "2025-04-20T03:35:52.421Z"
   },
   {
    "duration": 914,
    "start_time": "2025-04-20T03:35:52.428Z"
   },
   {
    "duration": 3,
    "start_time": "2025-04-20T03:35:53.344Z"
   },
   {
    "duration": 6,
    "start_time": "2025-04-20T03:35:53.348Z"
   },
   {
    "duration": 5,
    "start_time": "2025-04-20T03:35:53.355Z"
   },
   {
    "duration": 4,
    "start_time": "2025-04-20T03:35:53.361Z"
   },
   {
    "duration": 3,
    "start_time": "2025-04-20T03:35:53.366Z"
   },
   {
    "duration": 6,
    "start_time": "2025-04-20T03:35:53.371Z"
   },
   {
    "duration": 36,
    "start_time": "2025-04-20T03:35:53.378Z"
   },
   {
    "duration": 7,
    "start_time": "2025-04-20T03:35:53.416Z"
   },
   {
    "duration": 5,
    "start_time": "2025-04-20T03:35:53.425Z"
   },
   {
    "duration": 5,
    "start_time": "2025-04-20T03:35:53.431Z"
   },
   {
    "duration": 4,
    "start_time": "2025-04-20T03:35:53.437Z"
   },
   {
    "duration": 3,
    "start_time": "2025-04-20T03:35:53.443Z"
   },
   {
    "duration": 3,
    "start_time": "2025-04-20T03:35:53.448Z"
   },
   {
    "duration": 3,
    "start_time": "2025-04-20T03:35:53.455Z"
   },
   {
    "duration": 5,
    "start_time": "2025-04-20T03:35:53.459Z"
   },
   {
    "duration": 3,
    "start_time": "2025-04-20T03:35:59.817Z"
   },
   {
    "duration": 4,
    "start_time": "2025-04-20T03:37:38.804Z"
   },
   {
    "duration": 2,
    "start_time": "2025-04-20T03:51:21.721Z"
   },
   {
    "duration": 2,
    "start_time": "2025-04-20T03:51:22.533Z"
   },
   {
    "duration": 227,
    "start_time": "2025-04-20T03:51:23.679Z"
   },
   {
    "duration": 3,
    "start_time": "2025-04-20T03:51:32.592Z"
   },
   {
    "duration": 14,
    "start_time": "2025-04-20T03:51:43.596Z"
   },
   {
    "duration": 3,
    "start_time": "2025-04-20T03:52:02.420Z"
   },
   {
    "duration": 2,
    "start_time": "2025-04-20T03:52:03.613Z"
   },
   {
    "duration": 409,
    "start_time": "2025-04-20T03:52:05.661Z"
   },
   {
    "duration": 80,
    "start_time": "2025-04-20T03:52:25.030Z"
   },
   {
    "duration": 942,
    "start_time": "2025-04-20T03:54:03.813Z"
   },
   {
    "duration": 22,
    "start_time": "2025-04-20T03:54:04.757Z"
   },
   {
    "duration": 8,
    "start_time": "2025-04-20T03:54:05.545Z"
   },
   {
    "duration": 8,
    "start_time": "2025-04-20T03:54:06.116Z"
   },
   {
    "duration": 2,
    "start_time": "2025-04-20T03:54:07.759Z"
   },
   {
    "duration": 10,
    "start_time": "2025-04-20T03:54:08.039Z"
   },
   {
    "duration": 6,
    "start_time": "2025-04-20T03:54:08.314Z"
   },
   {
    "duration": 438,
    "start_time": "2025-04-20T03:54:08.530Z"
   },
   {
    "duration": 7,
    "start_time": "2025-04-20T03:54:09.879Z"
   },
   {
    "duration": 399,
    "start_time": "2025-04-20T03:54:10.658Z"
   },
   {
    "duration": 5,
    "start_time": "2025-04-20T03:54:11.059Z"
   },
   {
    "duration": 306,
    "start_time": "2025-04-20T03:54:11.228Z"
   },
   {
    "duration": 5,
    "start_time": "2025-04-20T03:54:12.725Z"
   },
   {
    "duration": 871,
    "start_time": "2025-04-20T03:54:13.253Z"
   },
   {
    "duration": 2,
    "start_time": "2025-04-20T03:54:14.127Z"
   },
   {
    "duration": 5,
    "start_time": "2025-04-20T03:54:14.286Z"
   },
   {
    "duration": 4,
    "start_time": "2025-04-20T03:54:15.036Z"
   },
   {
    "duration": 5,
    "start_time": "2025-04-20T03:54:15.666Z"
   },
   {
    "duration": 5,
    "start_time": "2025-04-20T03:54:17.206Z"
   },
   {
    "duration": 6,
    "start_time": "2025-04-20T03:54:18.806Z"
   },
   {
    "duration": 4,
    "start_time": "2025-04-20T03:54:21.976Z"
   },
   {
    "duration": 8,
    "start_time": "2025-04-20T03:54:23.216Z"
   },
   {
    "duration": 5,
    "start_time": "2025-04-20T03:54:23.993Z"
   },
   {
    "duration": 4,
    "start_time": "2025-04-20T03:54:24.510Z"
   },
   {
    "duration": 4,
    "start_time": "2025-04-20T03:54:25.040Z"
   },
   {
    "duration": 4,
    "start_time": "2025-04-20T03:54:25.681Z"
   },
   {
    "duration": 2,
    "start_time": "2025-04-20T03:54:26.892Z"
   },
   {
    "duration": 3,
    "start_time": "2025-04-20T03:54:27.542Z"
   },
   {
    "duration": 5,
    "start_time": "2025-04-20T03:54:29.449Z"
   },
   {
    "duration": 2,
    "start_time": "2025-04-20T03:54:30.602Z"
   },
   {
    "duration": 3,
    "start_time": "2025-04-20T03:54:31.268Z"
   },
   {
    "duration": 2,
    "start_time": "2025-04-20T03:54:35.726Z"
   },
   {
    "duration": 5,
    "start_time": "2025-04-20T03:54:36.266Z"
   },
   {
    "duration": 5,
    "start_time": "2025-04-20T03:54:36.948Z"
   },
   {
    "duration": 2,
    "start_time": "2025-04-20T03:54:37.522Z"
   },
   {
    "duration": 3,
    "start_time": "2025-04-20T03:54:38.170Z"
   },
   {
    "duration": 2,
    "start_time": "2025-04-20T03:54:39.162Z"
   },
   {
    "duration": 613,
    "start_time": "2025-04-20T03:54:39.883Z"
   },
   {
    "duration": 4,
    "start_time": "2025-04-20T03:56:51.399Z"
   },
   {
    "duration": 9,
    "start_time": "2025-04-20T03:56:51.722Z"
   },
   {
    "duration": 5,
    "start_time": "2025-04-20T03:56:52.045Z"
   },
   {
    "duration": 4,
    "start_time": "2025-04-20T03:56:52.332Z"
   },
   {
    "duration": 4,
    "start_time": "2025-04-20T03:56:52.573Z"
   },
   {
    "duration": 3,
    "start_time": "2025-04-20T03:56:52.776Z"
   },
   {
    "duration": 2,
    "start_time": "2025-04-20T03:56:53.203Z"
   },
   {
    "duration": 4,
    "start_time": "2025-04-20T03:56:53.396Z"
   },
   {
    "duration": 5,
    "start_time": "2025-04-20T03:56:53.620Z"
   },
   {
    "duration": 4,
    "start_time": "2025-04-20T03:56:53.890Z"
   },
   {
    "duration": 5,
    "start_time": "2025-04-20T03:56:54.392Z"
   },
   {
    "duration": 2,
    "start_time": "2025-04-20T03:56:54.638Z"
   },
   {
    "duration": 2,
    "start_time": "2025-04-20T03:56:54.861Z"
   },
   {
    "duration": 2,
    "start_time": "2025-04-20T03:56:55.974Z"
   },
   {
    "duration": 2,
    "start_time": "2025-04-20T03:56:56.593Z"
   },
   {
    "duration": 3,
    "start_time": "2025-04-20T03:56:57.466Z"
   },
   {
    "duration": 3,
    "start_time": "2025-04-20T03:56:58.339Z"
   },
   {
    "duration": 15,
    "start_time": "2025-04-20T03:57:00.353Z"
   },
   {
    "duration": 2,
    "start_time": "2025-04-20T03:57:39.978Z"
   },
   {
    "duration": 4,
    "start_time": "2025-04-20T03:57:40.437Z"
   },
   {
    "duration": 5,
    "start_time": "2025-04-20T03:57:40.879Z"
   },
   {
    "duration": 3,
    "start_time": "2025-04-20T03:57:41.353Z"
   },
   {
    "duration": 6,
    "start_time": "2025-04-20T03:57:41.967Z"
   },
   {
    "duration": 3,
    "start_time": "2025-04-20T03:57:42.573Z"
   },
   {
    "duration": 3,
    "start_time": "2025-04-20T03:57:43.212Z"
   },
   {
    "duration": 1015,
    "start_time": "2025-04-20T03:58:18.115Z"
   },
   {
    "duration": 21,
    "start_time": "2025-04-20T03:58:19.132Z"
   },
   {
    "duration": 8,
    "start_time": "2025-04-20T03:58:19.154Z"
   },
   {
    "duration": 8,
    "start_time": "2025-04-20T03:58:19.164Z"
   },
   {
    "duration": 3,
    "start_time": "2025-04-20T03:58:19.173Z"
   },
   {
    "duration": 8,
    "start_time": "2025-04-20T03:58:19.178Z"
   },
   {
    "duration": 28,
    "start_time": "2025-04-20T03:58:19.188Z"
   },
   {
    "duration": 435,
    "start_time": "2025-04-20T03:58:19.217Z"
   },
   {
    "duration": 7,
    "start_time": "2025-04-20T03:58:19.654Z"
   },
   {
    "duration": 405,
    "start_time": "2025-04-20T03:58:19.664Z"
   },
   {
    "duration": 5,
    "start_time": "2025-04-20T03:58:20.070Z"
   },
   {
    "duration": 300,
    "start_time": "2025-04-20T03:58:20.078Z"
   },
   {
    "duration": 6,
    "start_time": "2025-04-20T03:58:20.379Z"
   },
   {
    "duration": 878,
    "start_time": "2025-04-20T03:58:20.386Z"
   },
   {
    "duration": 3,
    "start_time": "2025-04-20T03:58:21.265Z"
   },
   {
    "duration": 4,
    "start_time": "2025-04-20T03:58:21.270Z"
   },
   {
    "duration": 5,
    "start_time": "2025-04-20T03:58:21.276Z"
   },
   {
    "duration": 4,
    "start_time": "2025-04-20T03:58:21.282Z"
   },
   {
    "duration": 27,
    "start_time": "2025-04-20T03:58:21.287Z"
   },
   {
    "duration": 5,
    "start_time": "2025-04-20T03:58:21.315Z"
   },
   {
    "duration": 4,
    "start_time": "2025-04-20T03:58:21.321Z"
   },
   {
    "duration": 8,
    "start_time": "2025-04-20T03:58:21.327Z"
   },
   {
    "duration": 5,
    "start_time": "2025-04-20T03:58:21.337Z"
   },
   {
    "duration": 4,
    "start_time": "2025-04-20T03:58:21.343Z"
   },
   {
    "duration": 4,
    "start_time": "2025-04-20T03:58:21.349Z"
   },
   {
    "duration": 4,
    "start_time": "2025-04-20T03:58:21.355Z"
   },
   {
    "duration": 2,
    "start_time": "2025-04-20T03:58:21.361Z"
   },
   {
    "duration": 5,
    "start_time": "2025-04-20T03:58:21.412Z"
   },
   {
    "duration": 5,
    "start_time": "2025-04-20T03:58:21.418Z"
   },
   {
    "duration": 4,
    "start_time": "2025-04-20T03:58:21.426Z"
   },
   {
    "duration": 5,
    "start_time": "2025-04-20T03:58:21.432Z"
   },
   {
    "duration": 2,
    "start_time": "2025-04-20T03:58:21.439Z"
   },
   {
    "duration": 3,
    "start_time": "2025-04-20T03:58:21.443Z"
   },
   {
    "duration": 2,
    "start_time": "2025-04-20T03:58:33.165Z"
   },
   {
    "duration": 3,
    "start_time": "2025-04-20T03:58:33.906Z"
   },
   {
    "duration": 3,
    "start_time": "2025-04-20T03:58:34.637Z"
   },
   {
    "duration": 2,
    "start_time": "2025-04-20T03:58:35.332Z"
   },
   {
    "duration": 14,
    "start_time": "2025-04-20T03:58:35.999Z"
   },
   {
    "duration": 7,
    "start_time": "2025-04-20T03:59:35.322Z"
   },
   {
    "duration": 3,
    "start_time": "2025-04-20T03:59:38.989Z"
   },
   {
    "duration": 3,
    "start_time": "2025-04-20T04:07:29.139Z"
   },
   {
    "duration": 3,
    "start_time": "2025-04-20T04:07:29.632Z"
   },
   {
    "duration": 3,
    "start_time": "2025-04-20T04:07:31.997Z"
   },
   {
    "duration": 16,
    "start_time": "2025-04-20T04:07:32.844Z"
   },
   {
    "duration": 7,
    "start_time": "2025-04-20T04:07:34.047Z"
   },
   {
    "duration": 5,
    "start_time": "2025-04-20T04:07:35.018Z"
   },
   {
    "duration": 2,
    "start_time": "2025-04-20T04:07:35.557Z"
   },
   {
    "duration": 8,
    "start_time": "2025-04-21T18:53:34.488Z"
   },
   {
    "duration": 2,
    "start_time": "2025-04-21T19:33:40.651Z"
   },
   {
    "duration": 153,
    "start_time": "2025-04-21T19:33:41.311Z"
   },
   {
    "duration": 12,
    "start_time": "2025-04-21T19:33:46.343Z"
   },
   {
    "duration": 12,
    "start_time": "2025-04-21T19:33:49.393Z"
   },
   {
    "duration": 2919,
    "start_time": "2025-04-21T19:34:16.317Z"
   },
   {
    "duration": 25,
    "start_time": "2025-04-21T19:34:20.145Z"
   },
   {
    "duration": 12,
    "start_time": "2025-04-21T19:34:20.706Z"
   },
   {
    "duration": 9,
    "start_time": "2025-04-21T19:34:21.111Z"
   },
   {
    "duration": 2,
    "start_time": "2025-04-21T19:34:22.453Z"
   },
   {
    "duration": 11,
    "start_time": "2025-04-21T19:34:22.759Z"
   },
   {
    "duration": 7,
    "start_time": "2025-04-21T19:34:23.067Z"
   },
   {
    "duration": 446,
    "start_time": "2025-04-21T19:34:23.384Z"
   },
   {
    "duration": 7,
    "start_time": "2025-04-21T19:34:24.979Z"
   },
   {
    "duration": 474,
    "start_time": "2025-04-21T19:34:25.375Z"
   },
   {
    "duration": 6,
    "start_time": "2025-04-21T19:34:25.851Z"
   },
   {
    "duration": 255,
    "start_time": "2025-04-21T19:34:25.860Z"
   },
   {
    "duration": 6,
    "start_time": "2025-04-21T19:34:26.962Z"
   },
   {
    "duration": 879,
    "start_time": "2025-04-21T19:34:27.204Z"
   },
   {
    "duration": 3,
    "start_time": "2025-04-21T19:34:28.085Z"
   },
   {
    "duration": 16,
    "start_time": "2025-04-21T19:34:28.089Z"
   },
   {
    "duration": 3,
    "start_time": "2025-04-21T19:34:28.109Z"
   },
   {
    "duration": 4,
    "start_time": "2025-04-21T19:34:28.407Z"
   },
   {
    "duration": 4,
    "start_time": "2025-04-21T19:34:29.467Z"
   },
   {
    "duration": 5,
    "start_time": "2025-04-21T19:34:31.040Z"
   },
   {
    "duration": 4,
    "start_time": "2025-04-21T19:34:32.060Z"
   },
   {
    "duration": 9,
    "start_time": "2025-04-21T19:34:32.610Z"
   },
   {
    "duration": 5,
    "start_time": "2025-04-21T19:34:33.216Z"
   },
   {
    "duration": 5,
    "start_time": "2025-04-21T19:34:33.787Z"
   },
   {
    "duration": 5,
    "start_time": "2025-04-21T19:34:34.415Z"
   },
   {
    "duration": 4,
    "start_time": "2025-04-21T19:34:35.031Z"
   },
   {
    "duration": 2,
    "start_time": "2025-04-21T19:34:36.225Z"
   },
   {
    "duration": 7,
    "start_time": "2025-04-21T19:34:37.176Z"
   },
   {
    "duration": 6,
    "start_time": "2025-04-21T19:34:39.012Z"
   },
   {
    "duration": 3,
    "start_time": "2025-04-21T19:34:39.087Z"
   },
   {
    "duration": 5,
    "start_time": "2025-04-21T19:34:39.641Z"
   },
   {
    "duration": 2,
    "start_time": "2025-04-21T19:34:40.267Z"
   },
   {
    "duration": 3,
    "start_time": "2025-04-21T19:34:40.731Z"
   },
   {
    "duration": 2,
    "start_time": "2025-04-21T19:34:41.939Z"
   },
   {
    "duration": 3,
    "start_time": "2025-04-21T19:34:42.390Z"
   },
   {
    "duration": 3,
    "start_time": "2025-04-21T19:34:42.915Z"
   },
   {
    "duration": 3,
    "start_time": "2025-04-21T19:34:43.471Z"
   },
   {
    "duration": 18,
    "start_time": "2025-04-21T19:34:44.053Z"
   },
   {
    "duration": 7,
    "start_time": "2025-04-21T19:34:45.826Z"
   },
   {
    "duration": 5,
    "start_time": "2025-04-21T19:34:46.304Z"
   },
   {
    "duration": 2,
    "start_time": "2025-04-21T19:34:47.506Z"
   },
   {
    "duration": 3,
    "start_time": "2025-04-21T19:34:48.026Z"
   },
   {
    "duration": 3,
    "start_time": "2025-04-21T19:34:49.698Z"
   },
   {
    "duration": 17,
    "start_time": "2025-04-21T19:34:50.434Z"
   },
   {
    "duration": 8,
    "start_time": "2025-04-21T19:34:51.074Z"
   },
   {
    "duration": 3,
    "start_time": "2025-04-21T19:34:52.007Z"
   },
   {
    "duration": 3,
    "start_time": "2025-04-21T19:34:53.339Z"
   },
   {
    "duration": 2,
    "start_time": "2025-04-21T19:35:04.573Z"
   },
   {
    "duration": 339,
    "start_time": "2025-04-21T19:35:05.223Z"
   },
   {
    "duration": 3,
    "start_time": "2025-04-21T19:35:21.523Z"
   },
   {
    "duration": 3,
    "start_time": "2025-04-21T19:35:24.814Z"
   },
   {
    "duration": 896,
    "start_time": "2025-04-21T19:35:32.701Z"
   },
   {
    "duration": 13,
    "start_time": "2025-04-21T19:35:34.614Z"
   },
   {
    "duration": 13,
    "start_time": "2025-04-21T19:35:44.023Z"
   },
   {
    "duration": 12,
    "start_time": "2025-04-21T19:36:31.490Z"
   },
   {
    "duration": 3,
    "start_time": "2025-04-21T19:36:40.146Z"
   },
   {
    "duration": 3,
    "start_time": "2025-04-21T19:36:44.551Z"
   },
   {
    "duration": 5,
    "start_time": "2025-04-21T23:26:58.284Z"
   },
   {
    "duration": 5,
    "start_time": "2025-04-21T23:42:28.163Z"
   },
   {
    "duration": 3,
    "start_time": "2025-04-21T23:44:57.354Z"
   },
   {
    "duration": 3,
    "start_time": "2025-04-22T00:05:56.112Z"
   },
   {
    "duration": 4,
    "start_time": "2025-04-22T00:07:50.522Z"
   },
   {
    "duration": 949,
    "start_time": "2025-04-22T00:51:09.064Z"
   },
   {
    "duration": 47,
    "start_time": "2025-04-22T00:51:10.759Z"
   },
   {
    "duration": 8,
    "start_time": "2025-04-22T00:51:11.550Z"
   },
   {
    "duration": 9,
    "start_time": "2025-04-22T00:51:12.492Z"
   },
   {
    "duration": 2,
    "start_time": "2025-04-22T00:51:15.066Z"
   },
   {
    "duration": 11,
    "start_time": "2025-04-22T00:51:15.634Z"
   },
   {
    "duration": 7,
    "start_time": "2025-04-22T00:51:16.384Z"
   },
   {
    "duration": 476,
    "start_time": "2025-04-22T00:51:17.198Z"
   },
   {
    "duration": 8,
    "start_time": "2025-04-22T00:51:20.321Z"
   },
   {
    "duration": 416,
    "start_time": "2025-04-22T00:51:21.758Z"
   },
   {
    "duration": 5,
    "start_time": "2025-04-22T00:51:22.472Z"
   },
   {
    "duration": 301,
    "start_time": "2025-04-22T00:51:23.267Z"
   },
   {
    "duration": 5,
    "start_time": "2025-04-22T00:51:26.169Z"
   },
   {
    "duration": 892,
    "start_time": "2025-04-22T00:51:26.684Z"
   },
   {
    "duration": 2,
    "start_time": "2025-04-22T00:51:27.941Z"
   },
   {
    "duration": 6,
    "start_time": "2025-04-22T00:51:28.843Z"
   },
   {
    "duration": 5,
    "start_time": "2025-04-22T00:51:29.434Z"
   },
   {
    "duration": 4,
    "start_time": "2025-04-22T00:51:30.947Z"
   },
   {
    "duration": 5,
    "start_time": "2025-04-22T00:51:32.715Z"
   },
   {
    "duration": 5,
    "start_time": "2025-04-22T00:51:35.313Z"
   },
   {
    "duration": 3,
    "start_time": "2025-04-22T00:51:37.569Z"
   },
   {
    "duration": 8,
    "start_time": "2025-04-22T00:51:38.755Z"
   },
   {
    "duration": 5,
    "start_time": "2025-04-22T00:51:44.022Z"
   },
   {
    "duration": 4,
    "start_time": "2025-04-22T00:51:44.987Z"
   },
   {
    "duration": 4,
    "start_time": "2025-04-22T00:51:45.815Z"
   },
   {
    "duration": 4,
    "start_time": "2025-04-22T00:51:46.603Z"
   },
   {
    "duration": 5,
    "start_time": "2025-04-22T00:51:50.497Z"
   },
   {
    "duration": 5,
    "start_time": "2025-04-22T00:51:51.402Z"
   },
   {
    "duration": 3,
    "start_time": "2025-04-22T00:51:52.059Z"
   },
   {
    "duration": 239,
    "start_time": "2025-04-22T00:51:52.707Z"
   },
   {
    "duration": 18,
    "start_time": "2025-04-22T00:52:07.222Z"
   },
   {
    "duration": 3,
    "start_time": "2025-04-22T00:52:37.918Z"
   },
   {
    "duration": 3,
    "start_time": "2025-04-22T00:53:08.120Z"
   },
   {
    "duration": 3,
    "start_time": "2025-04-22T00:53:42.519Z"
   },
   {
    "duration": 6,
    "start_time": "2025-04-22T00:53:43.022Z"
   },
   {
    "duration": 3,
    "start_time": "2025-04-22T00:53:44.383Z"
   },
   {
    "duration": 3,
    "start_time": "2025-04-22T00:53:45.489Z"
   },
   {
    "duration": 2,
    "start_time": "2025-04-22T00:55:03.116Z"
   },
   {
    "duration": 3,
    "start_time": "2025-04-22T00:55:04.848Z"
   },
   {
    "duration": 2,
    "start_time": "2025-04-22T00:55:05.653Z"
   },
   {
    "duration": 16,
    "start_time": "2025-04-22T00:55:14.225Z"
   },
   {
    "duration": 9,
    "start_time": "2025-04-22T00:55:21.151Z"
   },
   {
    "duration": 15,
    "start_time": "2025-04-22T00:56:01.057Z"
   },
   {
    "duration": 4,
    "start_time": "2025-04-22T00:56:05.598Z"
   },
   {
    "duration": 3,
    "start_time": "2025-04-22T00:56:33.953Z"
   },
   {
    "duration": 3,
    "start_time": "2025-04-22T00:57:06.513Z"
   },
   {
    "duration": 16,
    "start_time": "2025-04-22T00:57:07.231Z"
   },
   {
    "duration": 8,
    "start_time": "2025-04-22T00:57:09.112Z"
   },
   {
    "duration": 3,
    "start_time": "2025-04-22T00:57:09.690Z"
   },
   {
    "duration": 2,
    "start_time": "2025-04-22T00:57:43.733Z"
   },
   {
    "duration": 54,
    "start_time": "2025-04-22T00:57:44.244Z"
   },
   {
    "duration": 3,
    "start_time": "2025-04-22T00:57:54.803Z"
   },
   {
    "duration": 3,
    "start_time": "2025-04-22T00:57:57.630Z"
   },
   {
    "duration": 16,
    "start_time": "2025-04-22T00:57:58.367Z"
   },
   {
    "duration": 6,
    "start_time": "2025-04-22T00:57:59.347Z"
   },
   {
    "duration": 3,
    "start_time": "2025-04-22T00:58:01.103Z"
   },
   {
    "duration": 3,
    "start_time": "2025-04-22T00:58:25.824Z"
   },
   {
    "duration": 5,
    "start_time": "2025-04-22T00:58:37.190Z"
   },
   {
    "duration": 3,
    "start_time": "2025-04-22T00:58:41.008Z"
   },
   {
    "duration": 6,
    "start_time": "2025-04-22T00:58:54.174Z"
   },
   {
    "duration": 916,
    "start_time": "2025-04-22T00:58:54.745Z"
   },
   {
    "duration": 13,
    "start_time": "2025-04-22T00:59:04.549Z"
   },
   {
    "duration": 3,
    "start_time": "2025-04-22T00:59:09.735Z"
   },
   {
    "duration": 5,
    "start_time": "2025-04-22T00:59:30.566Z"
   },
   {
    "duration": 4,
    "start_time": "2025-04-22T00:59:43.498Z"
   },
   {
    "duration": 2,
    "start_time": "2025-04-22T01:06:39.815Z"
   },
   {
    "duration": 10,
    "start_time": "2025-04-22T01:06:40.302Z"
   },
   {
    "duration": 21,
    "start_time": "2025-04-22T01:06:41.571Z"
   },
   {
    "duration": 8,
    "start_time": "2025-04-22T01:06:46.165Z"
   },
   {
    "duration": 7,
    "start_time": "2025-04-22T01:06:46.817Z"
   },
   {
    "duration": 8,
    "start_time": "2025-04-22T01:08:24.396Z"
   },
   {
    "duration": 17,
    "start_time": "2025-04-22T01:08:25.185Z"
   },
   {
    "duration": 10,
    "start_time": "2025-04-22T01:08:26.090Z"
   },
   {
    "duration": 3,
    "start_time": "2025-04-22T01:08:26.643Z"
   },
   {
    "duration": 2,
    "start_time": "2025-04-22T01:08:29.940Z"
   },
   {
    "duration": 1001,
    "start_time": "2025-04-22T01:08:51.900Z"
   },
   {
    "duration": 29,
    "start_time": "2025-04-22T01:08:52.903Z"
   },
   {
    "duration": 9,
    "start_time": "2025-04-22T01:08:52.937Z"
   },
   {
    "duration": 15,
    "start_time": "2025-04-22T01:08:52.949Z"
   },
   {
    "duration": 3,
    "start_time": "2025-04-22T01:08:52.969Z"
   },
   {
    "duration": 12,
    "start_time": "2025-04-22T01:08:52.974Z"
   },
   {
    "duration": 8,
    "start_time": "2025-04-22T01:08:52.987Z"
   },
   {
    "duration": 540,
    "start_time": "2025-04-22T01:08:52.997Z"
   },
   {
    "duration": 8,
    "start_time": "2025-04-22T01:08:53.539Z"
   },
   {
    "duration": 516,
    "start_time": "2025-04-22T01:08:53.551Z"
   },
   {
    "duration": 5,
    "start_time": "2025-04-22T01:08:54.069Z"
   },
   {
    "duration": 455,
    "start_time": "2025-04-22T01:08:54.077Z"
   },
   {
    "duration": 18,
    "start_time": "2025-04-22T01:08:54.543Z"
   },
   {
    "duration": 1026,
    "start_time": "2025-04-22T01:08:54.564Z"
   },
   {
    "duration": 3,
    "start_time": "2025-04-22T01:08:55.592Z"
   },
   {
    "duration": 6,
    "start_time": "2025-04-22T01:08:55.597Z"
   },
   {
    "duration": 19,
    "start_time": "2025-04-22T01:08:55.605Z"
   },
   {
    "duration": 8,
    "start_time": "2025-04-22T01:08:55.625Z"
   },
   {
    "duration": 17,
    "start_time": "2025-04-22T01:08:55.634Z"
   },
   {
    "duration": 6,
    "start_time": "2025-04-22T01:08:55.653Z"
   },
   {
    "duration": 4,
    "start_time": "2025-04-22T01:08:55.661Z"
   },
   {
    "duration": 8,
    "start_time": "2025-04-22T01:08:55.668Z"
   },
   {
    "duration": 6,
    "start_time": "2025-04-22T01:08:55.678Z"
   },
   {
    "duration": 4,
    "start_time": "2025-04-22T01:08:55.686Z"
   },
   {
    "duration": 13,
    "start_time": "2025-04-22T01:08:55.693Z"
   },
   {
    "duration": 4,
    "start_time": "2025-04-22T01:08:55.711Z"
   },
   {
    "duration": 4,
    "start_time": "2025-04-22T01:08:55.718Z"
   },
   {
    "duration": 6,
    "start_time": "2025-04-22T01:08:55.728Z"
   },
   {
    "duration": 6,
    "start_time": "2025-04-22T01:08:55.738Z"
   },
   {
    "duration": 8,
    "start_time": "2025-04-22T01:08:55.746Z"
   },
   {
    "duration": 4,
    "start_time": "2025-04-22T01:08:55.759Z"
   },
   {
    "duration": 12,
    "start_time": "2025-04-22T01:08:55.765Z"
   },
   {
    "duration": 2,
    "start_time": "2025-04-22T01:08:55.780Z"
   },
   {
    "duration": 4,
    "start_time": "2025-04-22T01:08:55.785Z"
   },
   {
    "duration": 4,
    "start_time": "2025-04-22T01:09:15.196Z"
   },
   {
    "duration": 3,
    "start_time": "2025-04-22T01:09:15.858Z"
   },
   {
    "duration": 20,
    "start_time": "2025-04-22T01:09:16.550Z"
   },
   {
    "duration": 13,
    "start_time": "2025-04-22T01:09:18.610Z"
   },
   {
    "duration": 4,
    "start_time": "2025-04-22T01:09:19.279Z"
   },
   {
    "duration": 12,
    "start_time": "2025-04-22T01:09:22.631Z"
   },
   {
    "duration": 5,
    "start_time": "2025-04-22T01:09:23.726Z"
   },
   {
    "duration": 27,
    "start_time": "2025-04-22T01:09:24.338Z"
   },
   {
    "duration": 9,
    "start_time": "2025-04-22T01:09:25.086Z"
   },
   {
    "duration": 6,
    "start_time": "2025-04-22T01:09:25.834Z"
   },
   {
    "duration": 3,
    "start_time": "2025-04-22T01:09:26.480Z"
   },
   {
    "duration": 2,
    "start_time": "2025-04-22T01:14:19.284Z"
   },
   {
    "duration": 3,
    "start_time": "2025-04-22T01:14:19.884Z"
   },
   {
    "duration": 891,
    "start_time": "2025-04-22T01:14:20.400Z"
   },
   {
    "duration": 21,
    "start_time": "2025-04-22T01:14:21.293Z"
   },
   {
    "duration": 3,
    "start_time": "2025-04-22T01:14:26.176Z"
   },
   {
    "duration": 3,
    "start_time": "2025-04-22T01:14:26.768Z"
   },
   {
    "duration": 2,
    "start_time": "2025-04-22T02:14:29.025Z"
   },
   {
    "duration": 1824,
    "start_time": "2025-04-22T02:14:29.377Z"
   },
   {
    "duration": 1831,
    "start_time": "2025-04-22T02:15:30.863Z"
   },
   {
    "duration": 16,
    "start_time": "2025-04-22T02:16:10.632Z"
   },
   {
    "duration": 3,
    "start_time": "2025-04-22T02:16:11.477Z"
   },
   {
    "duration": 265,
    "start_time": "2025-04-22T02:16:12.169Z"
   },
   {
    "duration": 24,
    "start_time": "2025-04-22T02:16:45.216Z"
   },
   {
    "duration": 3,
    "start_time": "2025-04-22T02:17:01.527Z"
   },
   {
    "duration": 7,
    "start_time": "2025-04-22T02:17:02.021Z"
   },
   {
    "duration": 5,
    "start_time": "2025-04-22T02:21:40.288Z"
   },
   {
    "duration": 3,
    "start_time": "2025-04-22T02:42:41.767Z"
   },
   {
    "duration": 3,
    "start_time": "2025-04-22T02:42:42.474Z"
   },
   {
    "duration": 3,
    "start_time": "2025-04-22T02:42:43.091Z"
   },
   {
    "duration": 435,
    "start_time": "2025-04-22T02:42:44.993Z"
   },
   {
    "duration": 93,
    "start_time": "2025-04-22T02:43:06.192Z"
   },
   {
    "duration": 14,
    "start_time": "2025-04-22T02:45:27.104Z"
   },
   {
    "duration": 101,
    "start_time": "2025-04-22T02:45:27.776Z"
   },
   {
    "duration": 3,
    "start_time": "2025-04-22T02:45:51.383Z"
   },
   {
    "duration": 28380,
    "start_time": "2025-04-22T02:45:52.956Z"
   },
   {
    "duration": 2,
    "start_time": "2025-04-22T02:47:27.386Z"
   },
   {
    "duration": 33,
    "start_time": "2025-04-22T02:47:28.102Z"
   },
   {
    "duration": 3,
    "start_time": "2025-04-22T02:47:28.752Z"
   },
   {
    "duration": 3,
    "start_time": "2025-04-22T02:47:29.254Z"
   },
   {
    "duration": 2,
    "start_time": "2025-04-22T04:21:00.460Z"
   },
   {
    "duration": 4,
    "start_time": "2025-04-22T04:21:01.068Z"
   },
   {
    "duration": 4,
    "start_time": "2025-04-22T04:21:01.754Z"
   },
   {
    "duration": 5,
    "start_time": "2025-04-22T04:21:02.362Z"
   },
   {
    "duration": 7,
    "start_time": "2025-04-22T04:21:02.949Z"
   },
   {
    "duration": 5,
    "start_time": "2025-04-22T04:21:03.668Z"
   },
   {
    "duration": 4,
    "start_time": "2025-04-22T04:21:04.142Z"
   },
   {
    "duration": 3,
    "start_time": "2025-04-22T04:21:04.561Z"
   },
   {
    "duration": 3,
    "start_time": "2025-04-22T04:21:05.087Z"
   },
   {
    "duration": 4,
    "start_time": "2025-04-22T04:21:05.658Z"
   },
   {
    "duration": 3,
    "start_time": "2025-04-22T04:21:06.296Z"
   },
   {
    "duration": 3260,
    "start_time": "2025-04-22T04:21:06.964Z"
   },
   {
    "duration": 258,
    "start_time": "2025-04-22T04:21:10.232Z"
   },
   {
    "duration": 4,
    "start_time": "2025-04-22T04:21:10.492Z"
   },
   {
    "duration": 5,
    "start_time": "2025-04-22T04:21:10.509Z"
   },
   {
    "duration": 1373,
    "start_time": "2025-04-22T04:28:58.897Z"
   },
   {
    "duration": 56,
    "start_time": "2025-04-22T04:29:00.276Z"
   },
   {
    "duration": 18,
    "start_time": "2025-04-22T04:29:00.338Z"
   },
   {
    "duration": 15,
    "start_time": "2025-04-22T04:29:00.361Z"
   },
   {
    "duration": 4,
    "start_time": "2025-04-22T04:29:00.382Z"
   },
   {
    "duration": 12,
    "start_time": "2025-04-22T04:29:00.391Z"
   },
   {
    "duration": 19,
    "start_time": "2025-04-22T04:29:00.405Z"
   },
   {
    "duration": 749,
    "start_time": "2025-04-22T04:29:00.427Z"
   },
   {
    "duration": 14,
    "start_time": "2025-04-22T04:29:01.178Z"
   },
   {
    "duration": 644,
    "start_time": "2025-04-22T04:29:01.200Z"
   },
   {
    "duration": 5,
    "start_time": "2025-04-22T04:29:01.849Z"
   },
   {
    "duration": 386,
    "start_time": "2025-04-22T04:29:01.859Z"
   },
   {
    "duration": 13,
    "start_time": "2025-04-22T04:29:02.249Z"
   },
   {
    "duration": 1126,
    "start_time": "2025-04-22T04:29:02.266Z"
   },
   {
    "duration": 3,
    "start_time": "2025-04-22T04:29:03.397Z"
   },
   {
    "duration": 18,
    "start_time": "2025-04-22T04:29:03.402Z"
   },
   {
    "duration": 27,
    "start_time": "2025-04-22T04:29:03.421Z"
   },
   {
    "duration": 8,
    "start_time": "2025-04-22T04:29:03.461Z"
   },
   {
    "duration": 4,
    "start_time": "2025-04-22T04:29:03.470Z"
   },
   {
    "duration": 8,
    "start_time": "2025-04-22T04:29:03.478Z"
   },
   {
    "duration": 4,
    "start_time": "2025-04-22T04:29:03.487Z"
   },
   {
    "duration": 8,
    "start_time": "2025-04-22T04:29:03.493Z"
   },
   {
    "duration": 19,
    "start_time": "2025-04-22T04:29:03.503Z"
   },
   {
    "duration": 35,
    "start_time": "2025-04-22T04:29:03.537Z"
   },
   {
    "duration": 5,
    "start_time": "2025-04-22T04:29:03.577Z"
   },
   {
    "duration": 6,
    "start_time": "2025-04-22T04:29:03.584Z"
   },
   {
    "duration": 2,
    "start_time": "2025-04-22T04:29:03.592Z"
   },
   {
    "duration": 11,
    "start_time": "2025-04-22T04:29:03.600Z"
   },
   {
    "duration": 7,
    "start_time": "2025-04-22T04:29:03.612Z"
   },
   {
    "duration": 7,
    "start_time": "2025-04-22T04:29:03.621Z"
   },
   {
    "duration": 8,
    "start_time": "2025-04-22T04:29:03.632Z"
   },
   {
    "duration": 15,
    "start_time": "2025-04-22T04:29:03.642Z"
   },
   {
    "duration": 17,
    "start_time": "2025-04-22T04:29:03.664Z"
   },
   {
    "duration": 3,
    "start_time": "2025-04-22T04:29:03.685Z"
   },
   {
    "duration": 3,
    "start_time": "2025-04-22T04:29:03.690Z"
   },
   {
    "duration": 3,
    "start_time": "2025-04-22T04:29:03.696Z"
   },
   {
    "duration": 27,
    "start_time": "2025-04-22T04:29:03.702Z"
   },
   {
    "duration": 18,
    "start_time": "2025-04-22T04:29:03.731Z"
   },
   {
    "duration": 10,
    "start_time": "2025-04-22T04:29:03.753Z"
   },
   {
    "duration": 4,
    "start_time": "2025-04-22T04:29:03.765Z"
   },
   {
    "duration": 5,
    "start_time": "2025-04-22T04:29:03.772Z"
   },
   {
    "duration": 19,
    "start_time": "2025-04-22T04:29:03.779Z"
   },
   {
    "duration": 14,
    "start_time": "2025-04-22T04:29:03.800Z"
   },
   {
    "duration": 13,
    "start_time": "2025-04-22T04:29:03.816Z"
   },
   {
    "duration": 21,
    "start_time": "2025-04-22T04:29:03.831Z"
   },
   {
    "duration": 4,
    "start_time": "2025-04-22T04:29:03.861Z"
   },
   {
    "duration": 9,
    "start_time": "2025-04-22T04:29:03.867Z"
   },
   {
    "duration": 1346,
    "start_time": "2025-04-22T04:29:03.878Z"
   },
   {
    "duration": 25,
    "start_time": "2025-04-22T04:29:05.226Z"
   },
   {
    "duration": 3,
    "start_time": "2025-04-22T04:29:05.254Z"
   },
   {
    "duration": 13,
    "start_time": "2025-04-22T04:29:05.259Z"
   },
   {
    "duration": 6,
    "start_time": "2025-04-22T04:29:05.274Z"
   },
   {
    "duration": 2182,
    "start_time": "2025-04-22T04:29:05.282Z"
   },
   {
    "duration": 32,
    "start_time": "2025-04-22T04:29:07.466Z"
   },
   {
    "duration": 4,
    "start_time": "2025-04-22T04:29:07.500Z"
   },
   {
    "duration": 19,
    "start_time": "2025-04-22T04:29:07.517Z"
   },
   {
    "duration": 3,
    "start_time": "2025-04-22T04:29:07.539Z"
   },
   {
    "duration": 2,
    "start_time": "2025-04-22T04:29:07.548Z"
   },
   {
    "duration": 3,
    "start_time": "2025-04-22T04:29:07.554Z"
   },
   {
    "duration": 34403,
    "start_time": "2025-04-22T04:29:07.561Z"
   },
   {
    "duration": 10,
    "start_time": "2025-04-22T04:29:41.975Z"
   },
   {
    "duration": 9,
    "start_time": "2025-04-22T04:29:41.987Z"
   },
   {
    "duration": 2,
    "start_time": "2025-04-22T04:29:41.998Z"
   },
   {
    "duration": 8,
    "start_time": "2025-04-22T04:29:42.002Z"
   },
   {
    "duration": 14,
    "start_time": "2025-04-22T04:29:42.011Z"
   },
   {
    "duration": 6,
    "start_time": "2025-04-22T04:29:42.041Z"
   },
   {
    "duration": 12,
    "start_time": "2025-04-22T04:29:42.049Z"
   },
   {
    "duration": 19,
    "start_time": "2025-04-22T04:29:42.065Z"
   },
   {
    "duration": 8,
    "start_time": "2025-04-22T04:29:42.086Z"
   },
   {
    "duration": 5,
    "start_time": "2025-04-22T04:29:42.096Z"
   },
   {
    "duration": 16,
    "start_time": "2025-04-22T04:29:42.103Z"
   },
   {
    "duration": 2,
    "start_time": "2025-04-22T04:29:42.121Z"
   },
   {
    "duration": 3,
    "start_time": "2025-04-22T04:29:42.125Z"
   },
   {
    "duration": 8,
    "start_time": "2025-04-22T04:29:42.131Z"
   },
   {
    "duration": 7,
    "start_time": "2025-04-22T04:29:42.141Z"
   },
   {
    "duration": 3570,
    "start_time": "2025-04-22T04:29:42.149Z"
   },
   {
    "duration": 172,
    "start_time": "2025-04-22T04:29:45.728Z"
   },
   {
    "duration": 11,
    "start_time": "2025-04-22T04:29:45.904Z"
   },
   {
    "duration": 4,
    "start_time": "2025-04-22T04:29:45.921Z"
   },
   {
    "duration": 2731,
    "start_time": "2025-04-23T15:59:45.438Z"
   },
   {
    "duration": 35,
    "start_time": "2025-04-23T15:59:48.171Z"
   },
   {
    "duration": 8,
    "start_time": "2025-04-23T15:59:48.207Z"
   },
   {
    "duration": 7,
    "start_time": "2025-04-23T15:59:48.217Z"
   },
   {
    "duration": 3,
    "start_time": "2025-04-23T15:59:48.226Z"
   },
   {
    "duration": 10,
    "start_time": "2025-04-23T15:59:48.231Z"
   },
   {
    "duration": 6,
    "start_time": "2025-04-23T15:59:48.243Z"
   },
   {
    "duration": 545,
    "start_time": "2025-04-23T15:59:48.251Z"
   },
   {
    "duration": 7,
    "start_time": "2025-04-23T15:59:48.798Z"
   },
   {
    "duration": 429,
    "start_time": "2025-04-23T15:59:48.808Z"
   },
   {
    "duration": 6,
    "start_time": "2025-04-23T15:59:49.238Z"
   },
   {
    "duration": 269,
    "start_time": "2025-04-23T15:59:49.245Z"
   },
   {
    "duration": 5,
    "start_time": "2025-04-23T15:59:49.516Z"
   },
   {
    "duration": 962,
    "start_time": "2025-04-23T15:59:49.524Z"
   },
   {
    "duration": 3,
    "start_time": "2025-04-23T15:59:50.487Z"
   },
   {
    "duration": 6,
    "start_time": "2025-04-23T15:59:50.491Z"
   },
   {
    "duration": 5,
    "start_time": "2025-04-23T15:59:50.511Z"
   },
   {
    "duration": 3,
    "start_time": "2025-04-23T15:59:50.519Z"
   },
   {
    "duration": 5,
    "start_time": "2025-04-23T15:59:50.524Z"
   },
   {
    "duration": 5,
    "start_time": "2025-04-23T15:59:50.530Z"
   },
   {
    "duration": 5,
    "start_time": "2025-04-23T15:59:50.536Z"
   },
   {
    "duration": 9,
    "start_time": "2025-04-23T15:59:50.543Z"
   },
   {
    "duration": 5,
    "start_time": "2025-04-23T15:59:50.553Z"
   },
   {
    "duration": 5,
    "start_time": "2025-04-23T15:59:50.560Z"
   },
   {
    "duration": 50,
    "start_time": "2025-04-23T15:59:50.566Z"
   },
   {
    "duration": 5,
    "start_time": "2025-04-23T15:59:50.618Z"
   },
   {
    "duration": 2,
    "start_time": "2025-04-23T16:01:20.897Z"
   },
   {
    "duration": 6,
    "start_time": "2025-04-23T16:01:21.944Z"
   },
   {
    "duration": 7,
    "start_time": "2025-04-23T16:01:22.502Z"
   },
   {
    "duration": 4,
    "start_time": "2025-04-23T16:01:25.916Z"
   },
   {
    "duration": 3,
    "start_time": "2025-04-23T16:01:28.562Z"
   },
   {
    "duration": 3,
    "start_time": "2025-04-23T16:01:39.265Z"
   },
   {
    "duration": 6,
    "start_time": "2025-04-23T16:01:45.999Z"
   },
   {
    "duration": 3,
    "start_time": "2025-04-23T16:01:46.811Z"
   },
   {
    "duration": 3,
    "start_time": "2025-04-23T16:01:47.527Z"
   },
   {
    "duration": 2,
    "start_time": "2025-04-23T16:01:50.841Z"
   },
   {
    "duration": 3,
    "start_time": "2025-04-23T16:01:52.777Z"
   },
   {
    "duration": 17,
    "start_time": "2025-04-23T16:01:53.541Z"
   },
   {
    "duration": 8,
    "start_time": "2025-04-23T16:02:07.501Z"
   },
   {
    "duration": 4,
    "start_time": "2025-04-23T16:02:08.377Z"
   },
   {
    "duration": 3,
    "start_time": "2025-04-23T16:02:11.413Z"
   },
   {
    "duration": 229,
    "start_time": "2025-04-23T16:02:15.202Z"
   },
   {
    "duration": 3,
    "start_time": "2025-04-23T16:02:41.659Z"
   },
   {
    "duration": 1003,
    "start_time": "2025-04-23T16:02:57.287Z"
   },
   {
    "duration": 25,
    "start_time": "2025-04-23T16:02:58.292Z"
   },
   {
    "duration": 9,
    "start_time": "2025-04-23T16:02:58.318Z"
   },
   {
    "duration": 8,
    "start_time": "2025-04-23T16:02:58.329Z"
   },
   {
    "duration": 2,
    "start_time": "2025-04-23T16:02:58.339Z"
   },
   {
    "duration": 10,
    "start_time": "2025-04-23T16:02:58.343Z"
   },
   {
    "duration": 7,
    "start_time": "2025-04-23T16:02:58.354Z"
   },
   {
    "duration": 502,
    "start_time": "2025-04-23T16:02:58.362Z"
   },
   {
    "duration": 6,
    "start_time": "2025-04-23T16:02:58.867Z"
   },
   {
    "duration": 419,
    "start_time": "2025-04-23T16:02:58.877Z"
   },
   {
    "duration": 5,
    "start_time": "2025-04-23T16:02:59.298Z"
   },
   {
    "duration": 331,
    "start_time": "2025-04-23T16:02:59.304Z"
   },
   {
    "duration": 6,
    "start_time": "2025-04-23T16:02:59.637Z"
   },
   {
    "duration": 937,
    "start_time": "2025-04-23T16:02:59.644Z"
   },
   {
    "duration": 2,
    "start_time": "2025-04-23T16:03:00.583Z"
   },
   {
    "duration": 6,
    "start_time": "2025-04-23T16:03:00.587Z"
   },
   {
    "duration": 19,
    "start_time": "2025-04-23T16:03:00.594Z"
   },
   {
    "duration": 4,
    "start_time": "2025-04-23T16:03:00.615Z"
   },
   {
    "duration": 4,
    "start_time": "2025-04-23T16:03:00.621Z"
   },
   {
    "duration": 5,
    "start_time": "2025-04-23T16:03:00.627Z"
   },
   {
    "duration": 4,
    "start_time": "2025-04-23T16:03:00.634Z"
   },
   {
    "duration": 10,
    "start_time": "2025-04-23T16:03:00.639Z"
   },
   {
    "duration": 5,
    "start_time": "2025-04-23T16:03:00.650Z"
   },
   {
    "duration": 5,
    "start_time": "2025-04-23T16:03:00.657Z"
   },
   {
    "duration": 4,
    "start_time": "2025-04-23T16:03:00.664Z"
   },
   {
    "duration": 45,
    "start_time": "2025-04-23T16:03:00.669Z"
   },
   {
    "duration": 3,
    "start_time": "2025-04-23T16:03:00.716Z"
   },
   {
    "duration": 6,
    "start_time": "2025-04-23T16:03:00.725Z"
   },
   {
    "duration": 6,
    "start_time": "2025-04-23T16:03:00.732Z"
   },
   {
    "duration": 3,
    "start_time": "2025-04-23T16:03:00.741Z"
   },
   {
    "duration": 3,
    "start_time": "2025-04-23T16:03:00.746Z"
   },
   {
    "duration": 3,
    "start_time": "2025-04-23T16:03:00.751Z"
   },
   {
    "duration": 7,
    "start_time": "2025-04-23T16:03:00.755Z"
   },
   {
    "duration": 2,
    "start_time": "2025-04-23T16:03:00.764Z"
   },
   {
    "duration": 48,
    "start_time": "2025-04-23T16:03:00.767Z"
   },
   {
    "duration": 3,
    "start_time": "2025-04-23T16:03:00.817Z"
   },
   {
    "duration": 242,
    "start_time": "2025-04-23T16:03:00.821Z"
   },
   {
    "duration": 0,
    "start_time": "2025-04-23T16:03:01.065Z"
   },
   {
    "duration": 0,
    "start_time": "2025-04-23T16:03:01.065Z"
   },
   {
    "duration": 0,
    "start_time": "2025-04-23T16:03:01.067Z"
   },
   {
    "duration": 0,
    "start_time": "2025-04-23T16:03:01.069Z"
   },
   {
    "duration": 0,
    "start_time": "2025-04-23T16:03:01.070Z"
   },
   {
    "duration": 0,
    "start_time": "2025-04-23T16:03:01.072Z"
   },
   {
    "duration": 0,
    "start_time": "2025-04-23T16:03:01.074Z"
   },
   {
    "duration": 0,
    "start_time": "2025-04-23T16:03:01.075Z"
   },
   {
    "duration": 0,
    "start_time": "2025-04-23T16:03:01.077Z"
   },
   {
    "duration": 0,
    "start_time": "2025-04-23T16:03:01.078Z"
   },
   {
    "duration": 0,
    "start_time": "2025-04-23T16:03:01.080Z"
   },
   {
    "duration": 0,
    "start_time": "2025-04-23T16:03:01.081Z"
   },
   {
    "duration": 0,
    "start_time": "2025-04-23T16:03:01.083Z"
   },
   {
    "duration": 0,
    "start_time": "2025-04-23T16:03:01.112Z"
   },
   {
    "duration": 0,
    "start_time": "2025-04-23T16:03:01.114Z"
   },
   {
    "duration": 0,
    "start_time": "2025-04-23T16:03:01.115Z"
   },
   {
    "duration": 0,
    "start_time": "2025-04-23T16:03:01.117Z"
   },
   {
    "duration": 0,
    "start_time": "2025-04-23T16:03:01.118Z"
   },
   {
    "duration": 0,
    "start_time": "2025-04-23T16:03:01.120Z"
   },
   {
    "duration": 0,
    "start_time": "2025-04-23T16:03:01.122Z"
   },
   {
    "duration": 0,
    "start_time": "2025-04-23T16:03:01.123Z"
   },
   {
    "duration": 0,
    "start_time": "2025-04-23T16:03:01.124Z"
   },
   {
    "duration": 0,
    "start_time": "2025-04-23T16:03:01.126Z"
   },
   {
    "duration": 0,
    "start_time": "2025-04-23T16:03:01.128Z"
   },
   {
    "duration": 0,
    "start_time": "2025-04-23T16:03:01.129Z"
   },
   {
    "duration": 0,
    "start_time": "2025-04-23T16:03:01.130Z"
   },
   {
    "duration": 0,
    "start_time": "2025-04-23T16:03:01.132Z"
   },
   {
    "duration": 0,
    "start_time": "2025-04-23T16:03:01.133Z"
   },
   {
    "duration": 0,
    "start_time": "2025-04-23T16:03:01.134Z"
   },
   {
    "duration": 1,
    "start_time": "2025-04-23T16:03:01.135Z"
   },
   {
    "duration": 0,
    "start_time": "2025-04-23T16:03:01.137Z"
   },
   {
    "duration": 0,
    "start_time": "2025-04-23T16:03:01.138Z"
   },
   {
    "duration": 0,
    "start_time": "2025-04-23T16:03:01.140Z"
   },
   {
    "duration": 0,
    "start_time": "2025-04-23T16:03:01.141Z"
   },
   {
    "duration": 0,
    "start_time": "2025-04-23T16:03:01.142Z"
   },
   {
    "duration": 0,
    "start_time": "2025-04-23T16:03:01.143Z"
   },
   {
    "duration": 0,
    "start_time": "2025-04-23T16:03:01.144Z"
   },
   {
    "duration": 0,
    "start_time": "2025-04-23T16:03:01.145Z"
   },
   {
    "duration": 0,
    "start_time": "2025-04-23T16:03:01.146Z"
   },
   {
    "duration": 0,
    "start_time": "2025-04-23T16:03:01.149Z"
   },
   {
    "duration": 0,
    "start_time": "2025-04-23T16:03:01.150Z"
   },
   {
    "duration": 0,
    "start_time": "2025-04-23T16:03:01.152Z"
   },
   {
    "duration": 0,
    "start_time": "2025-04-23T16:03:01.212Z"
   },
   {
    "duration": 1020,
    "start_time": "2025-04-23T16:03:12.240Z"
   },
   {
    "duration": 20,
    "start_time": "2025-04-23T16:03:13.262Z"
   },
   {
    "duration": 7,
    "start_time": "2025-04-23T16:03:13.283Z"
   },
   {
    "duration": 20,
    "start_time": "2025-04-23T16:03:13.292Z"
   },
   {
    "duration": 3,
    "start_time": "2025-04-23T16:03:13.314Z"
   },
   {
    "duration": 10,
    "start_time": "2025-04-23T16:03:13.318Z"
   },
   {
    "duration": 6,
    "start_time": "2025-04-23T16:03:13.329Z"
   },
   {
    "duration": 459,
    "start_time": "2025-04-23T16:03:13.337Z"
   },
   {
    "duration": 7,
    "start_time": "2025-04-23T16:03:13.798Z"
   },
   {
    "duration": 408,
    "start_time": "2025-04-23T16:03:13.809Z"
   },
   {
    "duration": 6,
    "start_time": "2025-04-23T16:03:14.219Z"
   },
   {
    "duration": 310,
    "start_time": "2025-04-23T16:03:14.226Z"
   },
   {
    "duration": 5,
    "start_time": "2025-04-23T16:03:14.538Z"
   },
   {
    "duration": 896,
    "start_time": "2025-04-23T16:03:14.546Z"
   },
   {
    "duration": 2,
    "start_time": "2025-04-23T16:03:15.444Z"
   },
   {
    "duration": 5,
    "start_time": "2025-04-23T16:03:15.449Z"
   },
   {
    "duration": 4,
    "start_time": "2025-04-23T16:03:15.455Z"
   },
   {
    "duration": 4,
    "start_time": "2025-04-23T16:03:15.461Z"
   },
   {
    "duration": 3,
    "start_time": "2025-04-23T16:03:15.467Z"
   },
   {
    "duration": 5,
    "start_time": "2025-04-23T16:03:15.472Z"
   },
   {
    "duration": 34,
    "start_time": "2025-04-23T16:03:15.479Z"
   },
   {
    "duration": 8,
    "start_time": "2025-04-23T16:03:15.515Z"
   },
   {
    "duration": 5,
    "start_time": "2025-04-23T16:03:15.525Z"
   },
   {
    "duration": 4,
    "start_time": "2025-04-23T16:03:15.532Z"
   },
   {
    "duration": 3,
    "start_time": "2025-04-23T16:03:15.538Z"
   },
   {
    "duration": 4,
    "start_time": "2025-04-23T16:03:15.543Z"
   },
   {
    "duration": 2,
    "start_time": "2025-04-23T16:03:27.582Z"
   },
   {
    "duration": 6,
    "start_time": "2025-04-23T16:03:28.530Z"
   },
   {
    "duration": 5,
    "start_time": "2025-04-23T16:03:30.422Z"
   },
   {
    "duration": 4,
    "start_time": "2025-04-23T16:03:31.564Z"
   },
   {
    "duration": 3,
    "start_time": "2025-04-23T16:03:32.092Z"
   },
   {
    "duration": 3,
    "start_time": "2025-04-23T16:03:33.384Z"
   },
   {
    "duration": 6,
    "start_time": "2025-04-23T16:03:35.000Z"
   },
   {
    "duration": 3,
    "start_time": "2025-04-23T16:03:35.888Z"
   },
   {
    "duration": 4,
    "start_time": "2025-04-23T16:03:36.612Z"
   },
   {
    "duration": 2,
    "start_time": "2025-04-23T16:03:38.702Z"
   },
   {
    "duration": 230,
    "start_time": "2025-04-23T16:03:40.413Z"
   },
   {
    "duration": 3,
    "start_time": "2025-04-23T16:03:47.408Z"
   },
   {
    "duration": 17,
    "start_time": "2025-04-23T16:03:49.811Z"
   },
   {
    "duration": 7,
    "start_time": "2025-04-23T16:03:53.737Z"
   },
   {
    "duration": 4,
    "start_time": "2025-04-23T16:03:54.615Z"
   },
   {
    "duration": 3,
    "start_time": "2025-04-23T16:03:56.404Z"
   },
   {
    "duration": 3,
    "start_time": "2025-04-23T16:03:57.865Z"
   },
   {
    "duration": 16,
    "start_time": "2025-04-23T16:03:59.981Z"
   },
   {
    "duration": 8,
    "start_time": "2025-04-23T16:04:02.620Z"
   },
   {
    "duration": 16,
    "start_time": "2025-04-23T16:04:03.454Z"
   },
   {
    "duration": 3,
    "start_time": "2025-04-23T16:05:17.442Z"
   },
   {
    "duration": 3,
    "start_time": "2025-04-23T16:05:20.436Z"
   },
   {
    "duration": 2,
    "start_time": "2025-04-23T16:05:52.027Z"
   },
   {
    "duration": 6,
    "start_time": "2025-04-23T16:05:53.102Z"
   },
   {
    "duration": 929,
    "start_time": "2025-04-23T16:05:54.081Z"
   },
   {
    "duration": 22,
    "start_time": "2025-04-23T16:05:55.012Z"
   },
   {
    "duration": 13,
    "start_time": "2025-04-23T16:05:59.111Z"
   },
   {
    "duration": 3,
    "start_time": "2025-04-23T16:06:04.521Z"
   },
   {
    "duration": 3,
    "start_time": "2025-04-23T16:06:07.458Z"
   },
   {
    "duration": 2,
    "start_time": "2025-04-23T16:12:31.077Z"
   },
   {
    "duration": 1763,
    "start_time": "2025-04-23T16:12:31.936Z"
   },
   {
    "duration": 16,
    "start_time": "2025-04-23T16:12:33.852Z"
   },
   {
    "duration": 3,
    "start_time": "2025-04-23T16:12:35.961Z"
   },
   {
    "duration": 3,
    "start_time": "2025-04-23T16:12:36.715Z"
   },
   {
    "duration": 3,
    "start_time": "2025-04-23T16:13:13.646Z"
   },
   {
    "duration": 2,
    "start_time": "2025-04-23T16:13:14.268Z"
   },
   {
    "duration": 3,
    "start_time": "2025-04-23T16:13:15.013Z"
   },
   {
    "duration": 26169,
    "start_time": "2025-04-23T16:13:16.530Z"
   },
   {
    "duration": 2,
    "start_time": "2025-04-23T16:14:29.038Z"
   },
   {
    "duration": 9,
    "start_time": "2025-04-23T16:14:29.792Z"
   },
   {
    "duration": 4,
    "start_time": "2025-04-23T16:14:31.016Z"
   },
   {
    "duration": 3,
    "start_time": "2025-04-23T16:14:32.253Z"
   },
   {
    "duration": 3,
    "start_time": "2025-04-23T16:29:06.957Z"
   },
   {
    "duration": 2,
    "start_time": "2025-04-23T16:29:45.546Z"
   },
   {
    "duration": 2,
    "start_time": "2025-04-23T16:29:45.901Z"
   },
   {
    "duration": 3,
    "start_time": "2025-04-23T16:29:46.170Z"
   },
   {
    "duration": 2,
    "start_time": "2025-04-23T16:29:46.383Z"
   },
   {
    "duration": 2,
    "start_time": "2025-04-23T16:29:46.601Z"
   },
   {
    "duration": 3,
    "start_time": "2025-04-23T16:29:47.097Z"
   },
   {
    "duration": 2,
    "start_time": "2025-04-23T16:29:47.688Z"
   },
   {
    "duration": 2,
    "start_time": "2025-04-23T16:29:48.436Z"
   },
   {
    "duration": 2,
    "start_time": "2025-04-23T16:29:49.152Z"
   },
   {
    "duration": 343,
    "start_time": "2025-04-23T16:29:49.713Z"
   },
   {
    "duration": 1036,
    "start_time": "2025-04-23T16:30:26.192Z"
   },
   {
    "duration": 24,
    "start_time": "2025-04-23T16:30:27.230Z"
   },
   {
    "duration": 8,
    "start_time": "2025-04-23T16:30:27.256Z"
   },
   {
    "duration": 10,
    "start_time": "2025-04-23T16:30:27.266Z"
   },
   {
    "duration": 2,
    "start_time": "2025-04-23T16:30:27.279Z"
   },
   {
    "duration": 35,
    "start_time": "2025-04-23T16:30:27.283Z"
   },
   {
    "duration": 9,
    "start_time": "2025-04-23T16:30:27.321Z"
   },
   {
    "duration": 437,
    "start_time": "2025-04-23T16:30:27.331Z"
   },
   {
    "duration": 8,
    "start_time": "2025-04-23T16:30:27.770Z"
   },
   {
    "duration": 504,
    "start_time": "2025-04-23T16:30:27.779Z"
   },
   {
    "duration": 5,
    "start_time": "2025-04-23T16:30:28.285Z"
   },
   {
    "duration": 341,
    "start_time": "2025-04-23T16:30:28.292Z"
   },
   {
    "duration": 6,
    "start_time": "2025-04-23T16:30:28.635Z"
   },
   {
    "duration": 985,
    "start_time": "2025-04-23T16:30:28.645Z"
   },
   {
    "duration": 2,
    "start_time": "2025-04-23T16:30:29.632Z"
   },
   {
    "duration": 6,
    "start_time": "2025-04-23T16:30:29.636Z"
   },
   {
    "duration": 5,
    "start_time": "2025-04-23T16:30:29.643Z"
   },
   {
    "duration": 6,
    "start_time": "2025-04-23T16:30:29.650Z"
   },
   {
    "duration": 2,
    "start_time": "2025-04-23T16:30:29.658Z"
   },
   {
    "duration": 3,
    "start_time": "2025-04-23T16:30:29.662Z"
   },
   {
    "duration": 6,
    "start_time": "2025-04-23T16:30:29.667Z"
   },
   {
    "duration": 37,
    "start_time": "2025-04-23T16:30:29.675Z"
   },
   {
    "duration": 7,
    "start_time": "2025-04-23T16:30:29.715Z"
   },
   {
    "duration": 5,
    "start_time": "2025-04-23T16:30:29.725Z"
   },
   {
    "duration": 7,
    "start_time": "2025-04-23T16:30:29.733Z"
   },
   {
    "duration": 6,
    "start_time": "2025-04-23T16:30:29.742Z"
   },
   {
    "duration": 4,
    "start_time": "2025-04-23T16:30:29.752Z"
   },
   {
    "duration": 3,
    "start_time": "2025-04-23T16:30:29.758Z"
   },
   {
    "duration": 5,
    "start_time": "2025-04-23T16:30:29.763Z"
   },
   {
    "duration": 47,
    "start_time": "2025-04-23T16:30:29.770Z"
   },
   {
    "duration": 650,
    "start_time": "2025-04-23T16:30:29.819Z"
   },
   {
    "duration": 0,
    "start_time": "2025-04-23T16:30:30.472Z"
   },
   {
    "duration": 0,
    "start_time": "2025-04-23T16:30:30.473Z"
   },
   {
    "duration": 0,
    "start_time": "2025-04-23T16:30:30.474Z"
   },
   {
    "duration": 0,
    "start_time": "2025-04-23T16:30:30.475Z"
   },
   {
    "duration": 0,
    "start_time": "2025-04-23T16:30:30.476Z"
   },
   {
    "duration": 0,
    "start_time": "2025-04-23T16:30:30.476Z"
   },
   {
    "duration": 0,
    "start_time": "2025-04-23T16:30:30.477Z"
   },
   {
    "duration": 0,
    "start_time": "2025-04-23T16:30:30.478Z"
   },
   {
    "duration": 0,
    "start_time": "2025-04-23T16:30:30.479Z"
   },
   {
    "duration": 0,
    "start_time": "2025-04-23T16:30:30.480Z"
   },
   {
    "duration": 0,
    "start_time": "2025-04-23T16:30:30.481Z"
   },
   {
    "duration": 0,
    "start_time": "2025-04-23T16:30:30.482Z"
   },
   {
    "duration": 0,
    "start_time": "2025-04-23T16:30:30.484Z"
   },
   {
    "duration": 0,
    "start_time": "2025-04-23T16:30:30.485Z"
   },
   {
    "duration": 0,
    "start_time": "2025-04-23T16:30:30.486Z"
   },
   {
    "duration": 0,
    "start_time": "2025-04-23T16:30:30.486Z"
   },
   {
    "duration": 0,
    "start_time": "2025-04-23T16:30:30.512Z"
   },
   {
    "duration": 0,
    "start_time": "2025-04-23T16:30:30.513Z"
   },
   {
    "duration": 0,
    "start_time": "2025-04-23T16:30:30.515Z"
   },
   {
    "duration": 0,
    "start_time": "2025-04-23T16:30:30.516Z"
   },
   {
    "duration": 0,
    "start_time": "2025-04-23T16:30:30.517Z"
   },
   {
    "duration": 0,
    "start_time": "2025-04-23T16:30:30.517Z"
   },
   {
    "duration": 0,
    "start_time": "2025-04-23T16:30:30.518Z"
   },
   {
    "duration": 0,
    "start_time": "2025-04-23T16:30:30.519Z"
   },
   {
    "duration": 0,
    "start_time": "2025-04-23T16:30:30.520Z"
   },
   {
    "duration": 0,
    "start_time": "2025-04-23T16:30:30.522Z"
   },
   {
    "duration": 0,
    "start_time": "2025-04-23T16:30:30.526Z"
   },
   {
    "duration": 0,
    "start_time": "2025-04-23T16:30:30.529Z"
   },
   {
    "duration": 0,
    "start_time": "2025-04-23T16:30:30.530Z"
   },
   {
    "duration": 0,
    "start_time": "2025-04-23T16:30:30.531Z"
   },
   {
    "duration": 0,
    "start_time": "2025-04-23T16:30:30.532Z"
   },
   {
    "duration": 0,
    "start_time": "2025-04-23T16:30:30.536Z"
   },
   {
    "duration": 0,
    "start_time": "2025-04-23T16:30:30.537Z"
   },
   {
    "duration": 0,
    "start_time": "2025-04-23T16:30:30.538Z"
   },
   {
    "duration": 0,
    "start_time": "2025-04-23T16:30:30.539Z"
   },
   {
    "duration": 0,
    "start_time": "2025-04-23T16:30:30.540Z"
   },
   {
    "duration": 0,
    "start_time": "2025-04-23T16:30:30.541Z"
   },
   {
    "duration": 0,
    "start_time": "2025-04-23T16:30:30.542Z"
   },
   {
    "duration": 0,
    "start_time": "2025-04-23T16:30:30.543Z"
   },
   {
    "duration": 0,
    "start_time": "2025-04-23T16:30:30.544Z"
   },
   {
    "duration": 0,
    "start_time": "2025-04-23T16:30:30.544Z"
   },
   {
    "duration": 0,
    "start_time": "2025-04-23T16:30:30.545Z"
   },
   {
    "duration": 0,
    "start_time": "2025-04-23T16:30:30.548Z"
   },
   {
    "duration": 0,
    "start_time": "2025-04-23T16:30:30.549Z"
   },
   {
    "duration": 0,
    "start_time": "2025-04-23T16:30:30.550Z"
   },
   {
    "duration": 1048,
    "start_time": "2025-04-23T16:33:49.736Z"
   },
   {
    "duration": 21,
    "start_time": "2025-04-23T16:33:50.788Z"
   },
   {
    "duration": 9,
    "start_time": "2025-04-23T16:33:50.811Z"
   },
   {
    "duration": 9,
    "start_time": "2025-04-23T16:33:50.823Z"
   },
   {
    "duration": 2,
    "start_time": "2025-04-23T16:33:50.835Z"
   },
   {
    "duration": 11,
    "start_time": "2025-04-23T16:33:50.839Z"
   },
   {
    "duration": 8,
    "start_time": "2025-04-23T16:33:50.852Z"
   },
   {
    "duration": 466,
    "start_time": "2025-04-23T16:33:50.862Z"
   },
   {
    "duration": 8,
    "start_time": "2025-04-23T16:33:51.330Z"
   },
   {
    "duration": 405,
    "start_time": "2025-04-23T16:33:51.343Z"
   },
   {
    "duration": 9,
    "start_time": "2025-04-23T16:33:51.750Z"
   },
   {
    "duration": 377,
    "start_time": "2025-04-23T16:33:51.760Z"
   },
   {
    "duration": 12,
    "start_time": "2025-04-23T16:33:52.139Z"
   },
   {
    "duration": 921,
    "start_time": "2025-04-23T16:33:52.153Z"
   },
   {
    "duration": 4,
    "start_time": "2025-04-23T16:33:53.076Z"
   },
   {
    "duration": 6,
    "start_time": "2025-04-23T16:33:53.082Z"
   },
   {
    "duration": 22,
    "start_time": "2025-04-23T16:33:53.090Z"
   },
   {
    "duration": 4,
    "start_time": "2025-04-23T16:33:53.114Z"
   },
   {
    "duration": 2,
    "start_time": "2025-04-23T16:33:53.120Z"
   },
   {
    "duration": 2,
    "start_time": "2025-04-23T16:33:53.124Z"
   },
   {
    "duration": 5,
    "start_time": "2025-04-23T16:33:53.128Z"
   },
   {
    "duration": 7,
    "start_time": "2025-04-23T16:33:53.136Z"
   },
   {
    "duration": 8,
    "start_time": "2025-04-23T16:33:53.145Z"
   },
   {
    "duration": 6,
    "start_time": "2025-04-23T16:33:53.154Z"
   },
   {
    "duration": 4,
    "start_time": "2025-04-23T16:33:53.161Z"
   },
   {
    "duration": 4,
    "start_time": "2025-04-23T16:33:53.167Z"
   },
   {
    "duration": 4,
    "start_time": "2025-04-23T16:33:59.498Z"
   },
   {
    "duration": 5,
    "start_time": "2025-04-23T16:34:09.719Z"
   },
   {
    "duration": 6,
    "start_time": "2025-04-23T16:34:10.376Z"
   },
   {
    "duration": 6,
    "start_time": "2025-04-23T16:34:11.374Z"
   },
   {
    "duration": 12,
    "start_time": "2025-04-23T16:34:12.646Z"
   },
   {
    "duration": 3,
    "start_time": "2025-04-23T16:34:14.770Z"
   },
   {
    "duration": 280,
    "start_time": "2025-04-23T16:34:15.452Z"
   },
   {
    "duration": 4,
    "start_time": "2025-04-23T16:34:36.249Z"
   },
   {
    "duration": 3,
    "start_time": "2025-04-23T16:34:37.144Z"
   },
   {
    "duration": 107,
    "start_time": "2025-04-23T16:34:39.801Z"
   },
   {
    "duration": 3,
    "start_time": "2025-04-23T16:34:44.801Z"
   },
   {
    "duration": 16,
    "start_time": "2025-04-23T16:34:45.347Z"
   },
   {
    "duration": 3,
    "start_time": "2025-04-23T16:34:46.438Z"
   },
   {
    "duration": 3,
    "start_time": "2025-04-23T16:34:46.796Z"
   },
   {
    "duration": 17,
    "start_time": "2025-04-23T16:34:47.005Z"
   },
   {
    "duration": 20,
    "start_time": "2025-04-23T16:34:47.898Z"
   },
   {
    "duration": 15,
    "start_time": "2025-04-23T16:34:48.110Z"
   },
   {
    "duration": 5,
    "start_time": "2025-04-23T16:34:48.533Z"
   },
   {
    "duration": 3,
    "start_time": "2025-04-23T16:34:48.938Z"
   },
   {
    "duration": 89,
    "start_time": "2025-04-23T16:34:49.351Z"
   },
   {
    "duration": 15,
    "start_time": "2025-04-23T16:34:49.552Z"
   },
   {
    "duration": 15,
    "start_time": "2025-04-23T16:34:49.760Z"
   },
   {
    "duration": 13,
    "start_time": "2025-04-23T16:34:49.967Z"
   },
   {
    "duration": 3,
    "start_time": "2025-04-23T16:34:51.204Z"
   },
   {
    "duration": 6,
    "start_time": "2025-04-23T16:34:51.409Z"
   },
   {
    "duration": 15,
    "start_time": "2025-04-23T16:34:51.616Z"
   },
   {
    "duration": 16,
    "start_time": "2025-04-23T16:34:51.818Z"
   },
   {
    "duration": 15,
    "start_time": "2025-04-23T16:34:52.450Z"
   },
   {
    "duration": 15,
    "start_time": "2025-04-23T16:34:52.660Z"
   },
   {
    "duration": 3,
    "start_time": "2025-04-23T16:34:54.175Z"
   },
   {
    "duration": 15,
    "start_time": "2025-04-23T16:34:54.384Z"
   },
   {
    "duration": 15,
    "start_time": "2025-04-23T16:34:54.620Z"
   },
   {
    "duration": 18,
    "start_time": "2025-04-23T16:34:54.823Z"
   },
   {
    "duration": 21,
    "start_time": "2025-04-23T16:34:55.047Z"
   },
   {
    "duration": 2,
    "start_time": "2025-04-23T16:34:55.694Z"
   },
   {
    "duration": 3,
    "start_time": "2025-04-23T16:34:55.918Z"
   },
   {
    "duration": 4,
    "start_time": "2025-04-23T16:34:56.144Z"
   },
   {
    "duration": 20,
    "start_time": "2025-04-23T16:34:56.350Z"
   },
   {
    "duration": 13,
    "start_time": "2025-04-23T16:34:56.751Z"
   },
   {
    "duration": 16,
    "start_time": "2025-04-23T16:34:56.972Z"
   },
   {
    "duration": 21,
    "start_time": "2025-04-23T16:34:57.199Z"
   },
   {
    "duration": 13,
    "start_time": "2025-04-23T16:34:57.440Z"
   },
   {
    "duration": 4,
    "start_time": "2025-04-23T16:34:58.774Z"
   },
   {
    "duration": 3,
    "start_time": "2025-04-23T16:34:59.029Z"
   },
   {
    "duration": 5,
    "start_time": "2025-04-23T16:34:59.245Z"
   },
   {
    "duration": 2,
    "start_time": "2025-04-23T16:34:59.468Z"
   },
   {
    "duration": 8,
    "start_time": "2025-04-23T16:34:59.661Z"
   },
   {
    "duration": 3,
    "start_time": "2025-04-23T16:35:00.089Z"
   },
   {
    "duration": 5,
    "start_time": "2025-04-23T16:35:00.094Z"
   },
   {
    "duration": 5,
    "start_time": "2025-04-23T16:35:00.321Z"
   },
   {
    "duration": 19,
    "start_time": "2025-04-23T16:35:00.543Z"
   },
   {
    "duration": 19,
    "start_time": "2025-04-23T16:35:00.985Z"
   },
   {
    "duration": 21,
    "start_time": "2025-04-23T16:35:01.207Z"
   },
   {
    "duration": 14,
    "start_time": "2025-04-23T16:35:01.670Z"
   },
   {
    "duration": 16,
    "start_time": "2025-04-23T16:35:01.888Z"
   },
   {
    "duration": 21,
    "start_time": "2025-04-23T16:35:02.114Z"
   },
   {
    "duration": 1415,
    "start_time": "2025-04-24T00:03:52.138Z"
   },
   {
    "duration": 79,
    "start_time": "2025-04-24T00:03:53.555Z"
   },
   {
    "duration": 11,
    "start_time": "2025-04-24T00:03:54.592Z"
   },
   {
    "duration": 8,
    "start_time": "2025-04-24T00:03:57.544Z"
   },
   {
    "duration": 5,
    "start_time": "2025-04-24T00:05:22.334Z"
   },
   {
    "duration": 10,
    "start_time": "2025-04-24T00:05:23.012Z"
   },
   {
    "duration": 13,
    "start_time": "2025-04-24T00:18:16.132Z"
   },
   {
    "duration": 233,
    "start_time": "2025-04-24T00:25:53.779Z"
   },
   {
    "duration": 14,
    "start_time": "2025-04-24T00:26:14.918Z"
   },
   {
    "duration": 562,
    "start_time": "2025-04-24T00:30:26.931Z"
   },
   {
    "duration": 8,
    "start_time": "2025-04-24T00:42:27.850Z"
   },
   {
    "duration": 591,
    "start_time": "2025-04-24T00:43:46.872Z"
   },
   {
    "duration": 14,
    "start_time": "2025-04-24T00:44:38.810Z"
   },
   {
    "duration": 10,
    "start_time": "2025-04-24T00:44:53.516Z"
   },
   {
    "duration": 11,
    "start_time": "2025-04-24T01:30:35.241Z"
   },
   {
    "duration": 5,
    "start_time": "2025-04-24T01:50:48.272Z"
   },
   {
    "duration": 278,
    "start_time": "2025-04-24T01:50:48.753Z"
   },
   {
    "duration": 7,
    "start_time": "2025-04-24T01:58:18.154Z"
   },
   {
    "duration": 1020,
    "start_time": "2025-04-24T01:58:19.051Z"
   },
   {
    "duration": 760,
    "start_time": "2025-04-24T02:01:31.079Z"
   },
   {
    "duration": 780,
    "start_time": "2025-04-24T02:01:48.918Z"
   },
   {
    "duration": 821,
    "start_time": "2025-04-24T02:02:02.774Z"
   },
   {
    "duration": 2,
    "start_time": "2025-04-24T03:22:46.727Z"
   },
   {
    "duration": 5,
    "start_time": "2025-04-24T03:22:47.259Z"
   },
   {
    "duration": 4,
    "start_time": "2025-04-24T03:22:48.179Z"
   },
   {
    "duration": 25,
    "start_time": "2025-04-24T03:22:50.067Z"
   },
   {
    "duration": 4,
    "start_time": "2025-04-24T03:23:37.000Z"
   },
   {
    "duration": 8,
    "start_time": "2025-04-24T03:23:37.764Z"
   },
   {
    "duration": 2,
    "start_time": "2025-04-24T03:24:22.666Z"
   },
   {
    "duration": 3,
    "start_time": "2025-04-24T03:24:50.736Z"
   },
   {
    "duration": 10,
    "start_time": "2025-04-24T03:25:18.490Z"
   },
   {
    "duration": 6,
    "start_time": "2025-04-24T03:25:47.870Z"
   },
   {
    "duration": 5,
    "start_time": "2025-04-24T03:25:55.935Z"
   },
   {
    "duration": 5,
    "start_time": "2025-04-24T03:26:16.463Z"
   },
   {
    "duration": 586,
    "start_time": "2025-04-24T03:26:41.363Z"
   },
   {
    "duration": 4,
    "start_time": "2025-04-24T03:32:42.566Z"
   },
   {
    "duration": 3,
    "start_time": "2025-04-24T03:36:29.177Z"
   },
   {
    "duration": 8,
    "start_time": "2025-04-24T03:36:32.416Z"
   },
   {
    "duration": 4,
    "start_time": "2025-04-24T03:36:35.643Z"
   },
   {
    "duration": 10,
    "start_time": "2025-04-24T03:36:36.403Z"
   },
   {
    "duration": 6,
    "start_time": "2025-04-24T03:36:38.826Z"
   },
   {
    "duration": 4,
    "start_time": "2025-04-24T03:36:40.128Z"
   },
   {
    "duration": 5,
    "start_time": "2025-04-24T03:36:42.884Z"
   },
   {
    "duration": 5,
    "start_time": "2025-04-24T03:36:44.293Z"
   },
   {
    "duration": 960,
    "start_time": "2025-04-24T03:36:57.121Z"
   },
   {
    "duration": 22,
    "start_time": "2025-04-24T03:36:58.083Z"
   },
   {
    "duration": 8,
    "start_time": "2025-04-24T03:36:58.106Z"
   },
   {
    "duration": 8,
    "start_time": "2025-04-24T03:36:58.116Z"
   },
   {
    "duration": 3,
    "start_time": "2025-04-24T03:36:58.125Z"
   },
   {
    "duration": 10,
    "start_time": "2025-04-24T03:36:58.129Z"
   },
   {
    "duration": 6,
    "start_time": "2025-04-24T03:36:58.140Z"
   },
   {
    "duration": 6,
    "start_time": "2025-04-24T03:36:58.147Z"
   },
   {
    "duration": 481,
    "start_time": "2025-04-24T03:36:58.155Z"
   },
   {
    "duration": 6,
    "start_time": "2025-04-24T03:36:58.640Z"
   },
   {
    "duration": 414,
    "start_time": "2025-04-24T03:36:58.647Z"
   },
   {
    "duration": 9,
    "start_time": "2025-04-24T03:36:59.063Z"
   },
   {
    "duration": 4,
    "start_time": "2025-04-24T03:36:59.074Z"
   },
   {
    "duration": 323,
    "start_time": "2025-04-24T03:36:59.079Z"
   },
   {
    "duration": 10,
    "start_time": "2025-04-24T03:36:59.403Z"
   },
   {
    "duration": 772,
    "start_time": "2025-04-24T03:36:59.414Z"
   },
   {
    "duration": 2,
    "start_time": "2025-04-24T03:37:00.187Z"
   },
   {
    "duration": 6,
    "start_time": "2025-04-24T03:37:00.191Z"
   },
   {
    "duration": 15,
    "start_time": "2025-04-24T03:37:00.198Z"
   },
   {
    "duration": 4,
    "start_time": "2025-04-24T03:37:00.214Z"
   },
   {
    "duration": 10,
    "start_time": "2025-04-24T03:37:00.220Z"
   },
   {
    "duration": 4,
    "start_time": "2025-04-24T03:37:00.231Z"
   },
   {
    "duration": 10,
    "start_time": "2025-04-24T03:37:00.237Z"
   },
   {
    "duration": 6,
    "start_time": "2025-04-24T03:37:00.248Z"
   },
   {
    "duration": 4,
    "start_time": "2025-04-24T03:37:00.255Z"
   },
   {
    "duration": 5,
    "start_time": "2025-04-24T03:37:00.261Z"
   },
   {
    "duration": 45,
    "start_time": "2025-04-24T03:37:00.267Z"
   },
   {
    "duration": 2,
    "start_time": "2025-04-24T03:48:06.879Z"
   },
   {
    "duration": 7,
    "start_time": "2025-04-24T03:49:35.722Z"
   },
   {
    "duration": 3,
    "start_time": "2025-04-24T03:49:36.877Z"
   },
   {
    "duration": 2,
    "start_time": "2025-04-24T03:49:38.009Z"
   },
   {
    "duration": 3,
    "start_time": "2025-04-24T03:49:42.339Z"
   },
   {
    "duration": 3,
    "start_time": "2025-04-24T03:49:43.510Z"
   },
   {
    "duration": 5,
    "start_time": "2025-04-24T03:49:47.774Z"
   },
   {
    "duration": 3,
    "start_time": "2025-04-24T03:49:48.634Z"
   },
   {
    "duration": 3,
    "start_time": "2025-04-24T03:49:49.289Z"
   },
   {
    "duration": 2,
    "start_time": "2025-04-24T03:50:03.178Z"
   },
   {
    "duration": 2,
    "start_time": "2025-04-24T03:50:04.084Z"
   },
   {
    "duration": 19,
    "start_time": "2025-04-24T03:50:05.312Z"
   },
   {
    "duration": 7,
    "start_time": "2025-04-24T03:50:09.806Z"
   },
   {
    "duration": 4,
    "start_time": "2025-04-24T03:50:10.496Z"
   },
   {
    "duration": 2,
    "start_time": "2025-04-24T03:50:16.111Z"
   },
   {
    "duration": 2,
    "start_time": "2025-04-24T03:50:18.548Z"
   },
   {
    "duration": 18,
    "start_time": "2025-04-24T03:50:23.273Z"
   },
   {
    "duration": 7,
    "start_time": "2025-04-24T03:50:24.152Z"
   },
   {
    "duration": 4,
    "start_time": "2025-04-24T03:50:25.001Z"
   },
   {
    "duration": 3,
    "start_time": "2025-04-24T03:50:25.861Z"
   },
   {
    "duration": 2,
    "start_time": "2025-04-24T03:51:06.132Z"
   },
   {
    "duration": 3,
    "start_time": "2025-04-24T03:51:06.950Z"
   },
   {
    "duration": 1409,
    "start_time": "2025-04-24T03:51:08.703Z"
   },
   {
    "duration": 12,
    "start_time": "2025-04-24T03:51:10.114Z"
   },
   {
    "duration": 4,
    "start_time": "2025-04-24T03:51:13.405Z"
   },
   {
    "duration": 3,
    "start_time": "2025-04-24T03:51:14.112Z"
   },
   {
    "duration": 3,
    "start_time": "2025-04-24T03:51:34.493Z"
   },
   {
    "duration": 2784,
    "start_time": "2025-04-24T03:51:35.041Z"
   },
   {
    "duration": 15,
    "start_time": "2025-04-24T03:51:41.425Z"
   },
   {
    "duration": 3,
    "start_time": "2025-04-24T03:51:42.033Z"
   },
   {
    "duration": 3,
    "start_time": "2025-04-24T03:51:42.627Z"
   },
   {
    "duration": 2,
    "start_time": "2025-04-24T03:57:16.035Z"
   },
   {
    "duration": 2,
    "start_time": "2025-04-24T03:57:16.794Z"
   },
   {
    "duration": 3,
    "start_time": "2025-04-24T03:57:17.389Z"
   },
   {
    "duration": 40545,
    "start_time": "2025-04-24T03:57:18.256Z"
   },
   {
    "duration": 2,
    "start_time": "2025-04-24T03:57:58.803Z"
   },
   {
    "duration": 2,
    "start_time": "2025-04-24T03:58:55.204Z"
   },
   {
    "duration": 9,
    "start_time": "2025-04-24T03:58:56.330Z"
   },
   {
    "duration": 4,
    "start_time": "2025-04-24T03:58:56.976Z"
   },
   {
    "duration": 4,
    "start_time": "2025-04-24T03:58:57.602Z"
   },
   {
    "duration": 2,
    "start_time": "2025-04-24T04:18:50.228Z"
   },
   {
    "duration": 8,
    "start_time": "2025-04-24T04:18:50.917Z"
   },
   {
    "duration": 3,
    "start_time": "2025-04-24T04:18:51.580Z"
   },
   {
    "duration": 4,
    "start_time": "2025-04-24T04:18:52.280Z"
   },
   {
    "duration": 2,
    "start_time": "2025-04-24T04:19:00.024Z"
   },
   {
    "duration": 2,
    "start_time": "2025-04-24T04:19:01.808Z"
   },
   {
    "duration": 3,
    "start_time": "2025-04-24T04:19:04.699Z"
   },
   {
    "duration": 222,
    "start_time": "2025-04-24T04:19:06.657Z"
   },
   {
    "duration": 14,
    "start_time": "2025-04-24T04:21:55.435Z"
   },
   {
    "duration": 26,
    "start_time": "2025-04-24T04:22:03.081Z"
   },
   {
    "duration": 2,
    "start_time": "2025-04-24T04:24:39.024Z"
   },
   {
    "duration": 2,
    "start_time": "2025-04-24T04:24:39.655Z"
   },
   {
    "duration": 25,
    "start_time": "2025-04-24T04:24:41.368Z"
   },
   {
    "duration": 5,
    "start_time": "2025-04-24T04:24:42.107Z"
   },
   {
    "duration": 3,
    "start_time": "2025-04-24T04:24:42.744Z"
   },
   {
    "duration": 6,
    "start_time": "2025-04-24T04:39:54.989Z"
   }
  ],
  "kernelspec": {
   "display_name": "Python 3 (ipykernel)",
   "language": "python",
   "name": "python3"
  },
  "language_info": {
   "codemirror_mode": {
    "name": "ipython",
    "version": 3
   },
   "file_extension": ".py",
   "mimetype": "text/x-python",
   "name": "python",
   "nbconvert_exporter": "python",
   "pygments_lexer": "ipython3",
   "version": "3.12.7"
  },
  "toc": {
   "base_numbering": 1,
   "nav_menu": {},
   "number_sections": true,
   "sideBar": true,
   "skip_h1_title": true,
   "title_cell": "Table of Contents",
   "title_sidebar": "Contents",
   "toc_cell": false,
   "toc_position": {},
   "toc_section_display": true,
   "toc_window_display": false
  }
 },
 "nbformat": 4,
 "nbformat_minor": 4
}
