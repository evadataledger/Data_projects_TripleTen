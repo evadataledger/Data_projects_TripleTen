{
 "cells": [
  {
   "cell_type": "markdown",
   "id": "f85a80d2",
   "metadata": {},
   "source": [
    "# Project 1: Basic Python - IMDb 21st Century Rating Analysis"
   ]
  },
  {
   "cell_type": "markdown",
   "id": "a1262df4",
   "metadata": {},
   "source": [
    "## Introduction\n",
    "\n",
    "In this project, you will work with data from the entertainment industry. You will study a dataset with records on popular movies released from 1999 onward. The research will focus on the modern era of cinema and explore whether popularity (number of IMDb votes) aligns with viewer quality ratings.\n",
    "\n",
    "The aim of this project is to determine the following:  \n",
    "\n",
    "**Do the most highly-rated movies of the 21st century also receive the most IMDb votes?**  \n",
    "\n",
    "The project will focus on movies from 1999 onward and explore the relationship between IMDb rating (quality) and number of votes (popularity).\n",
    "\n",
    "### Stages\n",
    "\n",
    "Data on movies is stored in the `imdb_top_1000.csv` file. You will explore the dataset to assess data quality and analyze the relationship between IMDb ratings and the number of votes.\n",
    "\n",
    "Your project will consist of three stages:\n",
    "- Stage 1 – Data Overview\n",
    "- Stage 2 – Data Preprocessing\n",
    "- Stage 3 – Data Analysis\n"
   ]
  },
  {
   "cell_type": "markdown",
   "id": "ac0593ac",
   "metadata": {},
   "source": [
    "## Stage 1 - Data overview \n",
    "\n",
    "Open and explore the data."
   ]
  },
  {
   "cell_type": "markdown",
   "id": "e86ed00e",
   "metadata": {},
   "source": [
    "You'll need `pandas`, so import it."
   ]
  },
  {
   "cell_type": "code",
   "execution_count": 1,
   "id": "1727d3f8",
   "metadata": {},
   "outputs": [],
   "source": [
    "# importing libraries\n",
    "import os\n",
    "\n",
    "import pandas as pd\n",
    "import matplotlib.pyplot as plt"
   ]
  },
  {
   "cell_type": "code",
   "execution_count": 2,
   "id": "9650973b-f350-45cb-b641-e70f8d09d3b9",
   "metadata": {},
   "outputs": [
    {
     "data": {
      "text/plain": [
       "'C:\\\\Users\\\\Eva Brown\\\\github_projects_datasets_02'"
      ]
     },
     "execution_count": 2,
     "metadata": {},
     "output_type": "execute_result"
    }
   ],
   "source": [
    "os.getcwd()"
   ]
  },
  {
   "cell_type": "markdown",
   "id": "9821beeb",
   "metadata": {},
   "source": [
    "Read the `imdb_top_1000.csv`and save it in the `df` variable:"
   ]
  },
  {
   "cell_type": "code",
   "execution_count": 6,
   "id": "fc5a1402",
   "metadata": {},
   "outputs": [],
   "source": [
    "# Placeholder: Loading Data \n",
    "df = pd.read_csv('datasets/imdb_top_1000.csv', )"
   ]
  },
  {
   "cell_type": "markdown",
   "id": "1cd0a96d",
   "metadata": {},
   "source": [
    "Print the first 10 table rows:"
   ]
  },
  {
   "cell_type": "code",
   "execution_count": 9,
   "id": "acd92001",
   "metadata": {},
   "outputs": [
    {
     "data": {
      "text/html": [
       "<div>\n",
       "<style scoped>\n",
       "    .dataframe tbody tr th:only-of-type {\n",
       "        vertical-align: middle;\n",
       "    }\n",
       "\n",
       "    .dataframe tbody tr th {\n",
       "        vertical-align: top;\n",
       "    }\n",
       "\n",
       "    .dataframe thead th {\n",
       "        text-align: right;\n",
       "    }\n",
       "</style>\n",
       "<table border=\"1\" class=\"dataframe\">\n",
       "  <thead>\n",
       "    <tr style=\"text-align: right;\">\n",
       "      <th></th>\n",
       "      <th>Poster_Link</th>\n",
       "      <th>Series_Title</th>\n",
       "      <th>Released_Year</th>\n",
       "      <th>Certificate</th>\n",
       "      <th>Runtime</th>\n",
       "      <th>Genre</th>\n",
       "      <th>IMDB_Rating</th>\n",
       "      <th>Overview</th>\n",
       "      <th>Meta_score</th>\n",
       "      <th>Director</th>\n",
       "      <th>Star1</th>\n",
       "      <th>Star2</th>\n",
       "      <th>Star3</th>\n",
       "      <th>Star4</th>\n",
       "      <th>No_of_Votes</th>\n",
       "      <th>Gross</th>\n",
       "    </tr>\n",
       "  </thead>\n",
       "  <tbody>\n",
       "    <tr>\n",
       "      <th>0</th>\n",
       "      <td>https://m.media-amazon.com/images/M/MV5BMDFkYT...</td>\n",
       "      <td>The Shawshank Redemption</td>\n",
       "      <td>1994</td>\n",
       "      <td>A</td>\n",
       "      <td>142 min</td>\n",
       "      <td>Drama</td>\n",
       "      <td>9.3</td>\n",
       "      <td>Two imprisoned men bond over a number of years...</td>\n",
       "      <td>80.0</td>\n",
       "      <td>Frank Darabont</td>\n",
       "      <td>Tim Robbins</td>\n",
       "      <td>Morgan Freeman</td>\n",
       "      <td>Bob Gunton</td>\n",
       "      <td>William Sadler</td>\n",
       "      <td>2343110</td>\n",
       "      <td>28,341,469</td>\n",
       "    </tr>\n",
       "    <tr>\n",
       "      <th>1</th>\n",
       "      <td>https://m.media-amazon.com/images/M/MV5BM2MyNj...</td>\n",
       "      <td>The Godfather</td>\n",
       "      <td>1972</td>\n",
       "      <td>A</td>\n",
       "      <td>175 min</td>\n",
       "      <td>Crime, Drama</td>\n",
       "      <td>9.2</td>\n",
       "      <td>An organized crime dynasty's aging patriarch t...</td>\n",
       "      <td>100.0</td>\n",
       "      <td>Francis Ford Coppola</td>\n",
       "      <td>Marlon Brando</td>\n",
       "      <td>Al Pacino</td>\n",
       "      <td>James Caan</td>\n",
       "      <td>Diane Keaton</td>\n",
       "      <td>1620367</td>\n",
       "      <td>134,966,411</td>\n",
       "    </tr>\n",
       "    <tr>\n",
       "      <th>2</th>\n",
       "      <td>https://m.media-amazon.com/images/M/MV5BMTMxNT...</td>\n",
       "      <td>The Dark Knight</td>\n",
       "      <td>2008</td>\n",
       "      <td>UA</td>\n",
       "      <td>152 min</td>\n",
       "      <td>Action, Crime, Drama</td>\n",
       "      <td>9.0</td>\n",
       "      <td>When the menace known as the Joker wreaks havo...</td>\n",
       "      <td>84.0</td>\n",
       "      <td>Christopher Nolan</td>\n",
       "      <td>Christian Bale</td>\n",
       "      <td>Heath Ledger</td>\n",
       "      <td>Aaron Eckhart</td>\n",
       "      <td>Michael Caine</td>\n",
       "      <td>2303232</td>\n",
       "      <td>534,858,444</td>\n",
       "    </tr>\n",
       "    <tr>\n",
       "      <th>3</th>\n",
       "      <td>https://m.media-amazon.com/images/M/MV5BMWMwMG...</td>\n",
       "      <td>The Godfather: Part II</td>\n",
       "      <td>1974</td>\n",
       "      <td>A</td>\n",
       "      <td>202 min</td>\n",
       "      <td>Crime, Drama</td>\n",
       "      <td>9.0</td>\n",
       "      <td>The early life and career of Vito Corleone in ...</td>\n",
       "      <td>90.0</td>\n",
       "      <td>Francis Ford Coppola</td>\n",
       "      <td>Al Pacino</td>\n",
       "      <td>Robert De Niro</td>\n",
       "      <td>Robert Duvall</td>\n",
       "      <td>Diane Keaton</td>\n",
       "      <td>1129952</td>\n",
       "      <td>57,300,000</td>\n",
       "    </tr>\n",
       "    <tr>\n",
       "      <th>4</th>\n",
       "      <td>https://m.media-amazon.com/images/M/MV5BMWU4N2...</td>\n",
       "      <td>12 Angry Men</td>\n",
       "      <td>1957</td>\n",
       "      <td>U</td>\n",
       "      <td>96 min</td>\n",
       "      <td>Crime, Drama</td>\n",
       "      <td>9.0</td>\n",
       "      <td>A jury holdout attempts to prevent a miscarria...</td>\n",
       "      <td>96.0</td>\n",
       "      <td>Sidney Lumet</td>\n",
       "      <td>Henry Fonda</td>\n",
       "      <td>Lee J. Cobb</td>\n",
       "      <td>Martin Balsam</td>\n",
       "      <td>John Fiedler</td>\n",
       "      <td>689845</td>\n",
       "      <td>4,360,000</td>\n",
       "    </tr>\n",
       "    <tr>\n",
       "      <th>5</th>\n",
       "      <td>https://m.media-amazon.com/images/M/MV5BNzA5ZD...</td>\n",
       "      <td>The Lord of the Rings: The Return of the King</td>\n",
       "      <td>2003</td>\n",
       "      <td>U</td>\n",
       "      <td>201 min</td>\n",
       "      <td>Action, Adventure, Drama</td>\n",
       "      <td>8.9</td>\n",
       "      <td>Gandalf and Aragorn lead the World of Men agai...</td>\n",
       "      <td>94.0</td>\n",
       "      <td>Peter Jackson</td>\n",
       "      <td>Elijah Wood</td>\n",
       "      <td>Viggo Mortensen</td>\n",
       "      <td>Ian McKellen</td>\n",
       "      <td>Orlando Bloom</td>\n",
       "      <td>1642758</td>\n",
       "      <td>377,845,905</td>\n",
       "    </tr>\n",
       "    <tr>\n",
       "      <th>6</th>\n",
       "      <td>https://m.media-amazon.com/images/M/MV5BNGNhMD...</td>\n",
       "      <td>Pulp Fiction</td>\n",
       "      <td>1994</td>\n",
       "      <td>A</td>\n",
       "      <td>154 min</td>\n",
       "      <td>Crime, Drama</td>\n",
       "      <td>8.9</td>\n",
       "      <td>The lives of two mob hitmen, a boxer, a gangst...</td>\n",
       "      <td>94.0</td>\n",
       "      <td>Quentin Tarantino</td>\n",
       "      <td>John Travolta</td>\n",
       "      <td>Uma Thurman</td>\n",
       "      <td>Samuel L. Jackson</td>\n",
       "      <td>Bruce Willis</td>\n",
       "      <td>1826188</td>\n",
       "      <td>107,928,762</td>\n",
       "    </tr>\n",
       "    <tr>\n",
       "      <th>7</th>\n",
       "      <td>https://m.media-amazon.com/images/M/MV5BNDE4OT...</td>\n",
       "      <td>Schindler's List</td>\n",
       "      <td>1993</td>\n",
       "      <td>A</td>\n",
       "      <td>195 min</td>\n",
       "      <td>Biography, Drama, History</td>\n",
       "      <td>8.9</td>\n",
       "      <td>In German-occupied Poland during World War II,...</td>\n",
       "      <td>94.0</td>\n",
       "      <td>Steven Spielberg</td>\n",
       "      <td>Liam Neeson</td>\n",
       "      <td>Ralph Fiennes</td>\n",
       "      <td>Ben Kingsley</td>\n",
       "      <td>Caroline Goodall</td>\n",
       "      <td>1213505</td>\n",
       "      <td>96,898,818</td>\n",
       "    </tr>\n",
       "    <tr>\n",
       "      <th>8</th>\n",
       "      <td>https://m.media-amazon.com/images/M/MV5BMjAxMz...</td>\n",
       "      <td>Inception</td>\n",
       "      <td>2010</td>\n",
       "      <td>UA</td>\n",
       "      <td>148 min</td>\n",
       "      <td>Action, Adventure, Sci-Fi</td>\n",
       "      <td>8.8</td>\n",
       "      <td>A thief who steals corporate secrets through t...</td>\n",
       "      <td>74.0</td>\n",
       "      <td>Christopher Nolan</td>\n",
       "      <td>Leonardo DiCaprio</td>\n",
       "      <td>Joseph Gordon-Levitt</td>\n",
       "      <td>Elliot Page</td>\n",
       "      <td>Ken Watanabe</td>\n",
       "      <td>2067042</td>\n",
       "      <td>292,576,195</td>\n",
       "    </tr>\n",
       "    <tr>\n",
       "      <th>9</th>\n",
       "      <td>https://m.media-amazon.com/images/M/MV5BMmEzNT...</td>\n",
       "      <td>Fight Club</td>\n",
       "      <td>1999</td>\n",
       "      <td>A</td>\n",
       "      <td>139 min</td>\n",
       "      <td>Drama</td>\n",
       "      <td>8.8</td>\n",
       "      <td>An insomniac office worker and a devil-may-car...</td>\n",
       "      <td>66.0</td>\n",
       "      <td>David Fincher</td>\n",
       "      <td>Brad Pitt</td>\n",
       "      <td>Edward Norton</td>\n",
       "      <td>Meat Loaf</td>\n",
       "      <td>Zach Grenier</td>\n",
       "      <td>1854740</td>\n",
       "      <td>37,030,102</td>\n",
       "    </tr>\n",
       "  </tbody>\n",
       "</table>\n",
       "</div>"
      ],
      "text/plain": [
       "                                         Poster_Link  \\\n",
       "0  https://m.media-amazon.com/images/M/MV5BMDFkYT...   \n",
       "1  https://m.media-amazon.com/images/M/MV5BM2MyNj...   \n",
       "2  https://m.media-amazon.com/images/M/MV5BMTMxNT...   \n",
       "3  https://m.media-amazon.com/images/M/MV5BMWMwMG...   \n",
       "4  https://m.media-amazon.com/images/M/MV5BMWU4N2...   \n",
       "5  https://m.media-amazon.com/images/M/MV5BNzA5ZD...   \n",
       "6  https://m.media-amazon.com/images/M/MV5BNGNhMD...   \n",
       "7  https://m.media-amazon.com/images/M/MV5BNDE4OT...   \n",
       "8  https://m.media-amazon.com/images/M/MV5BMjAxMz...   \n",
       "9  https://m.media-amazon.com/images/M/MV5BMmEzNT...   \n",
       "\n",
       "                                    Series_Title Released_Year Certificate  \\\n",
       "0                       The Shawshank Redemption          1994           A   \n",
       "1                                  The Godfather          1972           A   \n",
       "2                                The Dark Knight          2008          UA   \n",
       "3                         The Godfather: Part II          1974           A   \n",
       "4                                   12 Angry Men          1957           U   \n",
       "5  The Lord of the Rings: The Return of the King          2003           U   \n",
       "6                                   Pulp Fiction          1994           A   \n",
       "7                               Schindler's List          1993           A   \n",
       "8                                      Inception          2010          UA   \n",
       "9                                     Fight Club          1999           A   \n",
       "\n",
       "   Runtime                      Genre  IMDB_Rating  \\\n",
       "0  142 min                      Drama          9.3   \n",
       "1  175 min               Crime, Drama          9.2   \n",
       "2  152 min       Action, Crime, Drama          9.0   \n",
       "3  202 min               Crime, Drama          9.0   \n",
       "4   96 min               Crime, Drama          9.0   \n",
       "5  201 min   Action, Adventure, Drama          8.9   \n",
       "6  154 min               Crime, Drama          8.9   \n",
       "7  195 min  Biography, Drama, History          8.9   \n",
       "8  148 min  Action, Adventure, Sci-Fi          8.8   \n",
       "9  139 min                      Drama          8.8   \n",
       "\n",
       "                                            Overview  Meta_score  \\\n",
       "0  Two imprisoned men bond over a number of years...        80.0   \n",
       "1  An organized crime dynasty's aging patriarch t...       100.0   \n",
       "2  When the menace known as the Joker wreaks havo...        84.0   \n",
       "3  The early life and career of Vito Corleone in ...        90.0   \n",
       "4  A jury holdout attempts to prevent a miscarria...        96.0   \n",
       "5  Gandalf and Aragorn lead the World of Men agai...        94.0   \n",
       "6  The lives of two mob hitmen, a boxer, a gangst...        94.0   \n",
       "7  In German-occupied Poland during World War II,...        94.0   \n",
       "8  A thief who steals corporate secrets through t...        74.0   \n",
       "9  An insomniac office worker and a devil-may-car...        66.0   \n",
       "\n",
       "               Director              Star1                 Star2  \\\n",
       "0        Frank Darabont        Tim Robbins        Morgan Freeman   \n",
       "1  Francis Ford Coppola      Marlon Brando             Al Pacino   \n",
       "2     Christopher Nolan     Christian Bale          Heath Ledger   \n",
       "3  Francis Ford Coppola          Al Pacino        Robert De Niro   \n",
       "4          Sidney Lumet        Henry Fonda           Lee J. Cobb   \n",
       "5         Peter Jackson        Elijah Wood       Viggo Mortensen   \n",
       "6     Quentin Tarantino      John Travolta           Uma Thurman   \n",
       "7      Steven Spielberg        Liam Neeson         Ralph Fiennes   \n",
       "8     Christopher Nolan  Leonardo DiCaprio  Joseph Gordon-Levitt   \n",
       "9         David Fincher          Brad Pitt         Edward Norton   \n",
       "\n",
       "               Star3             Star4  No_of_Votes        Gross  \n",
       "0         Bob Gunton    William Sadler      2343110   28,341,469  \n",
       "1         James Caan      Diane Keaton      1620367  134,966,411  \n",
       "2      Aaron Eckhart     Michael Caine      2303232  534,858,444  \n",
       "3      Robert Duvall      Diane Keaton      1129952   57,300,000  \n",
       "4      Martin Balsam      John Fiedler       689845    4,360,000  \n",
       "5       Ian McKellen     Orlando Bloom      1642758  377,845,905  \n",
       "6  Samuel L. Jackson      Bruce Willis      1826188  107,928,762  \n",
       "7       Ben Kingsley  Caroline Goodall      1213505   96,898,818  \n",
       "8        Elliot Page      Ken Watanabe      2067042  292,576,195  \n",
       "9          Meat Loaf      Zach Grenier      1854740   37,030,102  "
      ]
     },
     "execution_count": 9,
     "metadata": {},
     "output_type": "execute_result"
    }
   ],
   "source": [
    "# obtaining the first 10 rows from the df table\n",
    "# hint: you can use head() and tail() in Jupyter Notebook without wrapping them into print()\n",
    "df.head(10)"
   ]
  },
  {
   "cell_type": "code",
   "execution_count": 11,
   "id": "eaacfea5-d5d3-47a4-b181-85b696761a41",
   "metadata": {},
   "outputs": [],
   "source": [
    "df.columns = df.columns.str.lower()"
   ]
  },
  {
   "cell_type": "code",
   "execution_count": 13,
   "id": "646d3a7b-04db-4488-91b2-71cd33b69297",
   "metadata": {},
   "outputs": [
    {
     "data": {
      "text/plain": [
       "Index(['poster_link', 'series_title', 'released_year', 'certificate',\n",
       "       'runtime', 'genre', 'imdb_rating', 'overview', 'meta_score', 'director',\n",
       "       'star1', 'star2', 'star3', 'star4', 'no_of_votes', 'gross'],\n",
       "      dtype='object')"
      ]
     },
     "execution_count": 13,
     "metadata": {},
     "output_type": "execute_result"
    }
   ],
   "source": [
    "# sanity check\n",
    "df.columns"
   ]
  },
  {
   "cell_type": "markdown",
   "id": "e579aa91",
   "metadata": {},
   "source": [
    "Obtain the general information about the table with one command:"
   ]
  },
  {
   "cell_type": "code",
   "execution_count": 16,
   "id": "7bf66d2a",
   "metadata": {
    "scrolled": true
   },
   "outputs": [
    {
     "name": "stdout",
     "output_type": "stream",
     "text": [
      "<class 'pandas.core.frame.DataFrame'>\n",
      "RangeIndex: 1000 entries, 0 to 999\n",
      "Data columns (total 16 columns):\n",
      " #   Column         Non-Null Count  Dtype  \n",
      "---  ------         --------------  -----  \n",
      " 0   poster_link    1000 non-null   object \n",
      " 1   series_title   1000 non-null   object \n",
      " 2   released_year  1000 non-null   object \n",
      " 3   certificate    899 non-null    object \n",
      " 4   runtime        1000 non-null   object \n",
      " 5   genre          1000 non-null   object \n",
      " 6   imdb_rating    1000 non-null   float64\n",
      " 7   overview       1000 non-null   object \n",
      " 8   meta_score     843 non-null    float64\n",
      " 9   director       1000 non-null   object \n",
      " 10  star1          1000 non-null   object \n",
      " 11  star2          1000 non-null   object \n",
      " 12  star3          1000 non-null   object \n",
      " 13  star4          1000 non-null   object \n",
      " 14  no_of_votes    1000 non-null   int64  \n",
      " 15  gross          831 non-null    object \n",
      "dtypes: float64(2), int64(1), object(13)\n",
      "memory usage: 125.1+ KB\n"
     ]
    }
   ],
   "source": [
    "# obtaining general information about the data in df\n",
    "df.info()"
   ]
  },
  {
   "cell_type": "markdown",
   "id": "4355de7b",
   "metadata": {},
   "source": [
    "**Numeric Columns (For Analysis):**\n",
    "|Column\t|Type\t|Non-null Count\t|Notes|\n",
    "|-------------|------------|------|------|\n",
    "|imdb_rating\t|float64\t|1000\t|Great! Clean and ready to use |\n",
    "|meta_score\t|float64\t|**843**\t|**Missing 157 values**|\n",
    "|no_of_votes\t|int64\t|1000\t |Clean and essential for analysis |\n"
   ]
  },
  {
   "cell_type": "markdown",
   "id": "abe98119-1b97-4b59-802d-7eae05d9b15d",
   "metadata": {},
   "source": [
    "**Additional Missing Values:**\n",
    "|Column\t|Type\t|Nulls?\t|Notes|\n",
    "|-------------|------------|------|------|\n",
    "|certificate\t|object\t|101 missing\t|movie rating/certification |\n",
    "|meta_score\t|float64\t|157 missing\t|critic score (optional for now)|\n",
    "|gross\t|object\t|169 missing\t |revenue - not needed yet |\n"
   ]
  },
  {
   "cell_type": "markdown",
   "id": "106aa851-79db-493e-8a1f-5268e4d8e3ea",
   "metadata": {},
   "source": [
    "**Object columns to Consider Cleaning Late**\n",
    "- `released_year` is stored as an **object**, but should be numeric (to be fixed in preprocessing).\n",
    "- `runtime` and `gross` are also **object**, but contain numbers with symbols (e.g., \"142 min\", \"$123M\")\n",
    "\n",
    "These can be cleaned up in Stage 2: Preprocessing. "
   ]
  },
  {
   "cell_type": "markdown",
   "id": "6433c4b2-1b3e-420b-b25c-c021bd0504c4",
   "metadata": {},
   "source": [
    "### Stage 1: Data Overview \n",
    "\n",
    "The dataset contains 1,000 rows and 16 columns. Most of the columns are stored as object types, with a few key columns in numeric format: \n",
    "- `imdb_rating` (float64) and `no_of_votes` (int64) will be used for analysis.\n",
    "- `meta_score` is also numeric but contains 157 missing values.\n",
    "- `released_year` is stored as an object and will need to be converted to numeric. \n",
    "\n",
    "Missing values are present in the following columns:\n",
    "- `certificate`: 101 missing\n",
    "- `meta_score`: 157 missing\n",
    "- `gross`: 169 missing\n",
    "\n",
    "These gaps do not affect the primary goal of this project, which focuses on the relationship between IMDB ratins and vote counts. "
   ]
  },
  {
   "cell_type": "code",
   "execution_count": 22,
   "id": "26979791-8888-49d9-9579-1908823eb8b7",
   "metadata": {},
   "outputs": [
    {
     "data": {
      "text/html": [
       "<div>\n",
       "<style scoped>\n",
       "    .dataframe tbody tr th:only-of-type {\n",
       "        vertical-align: middle;\n",
       "    }\n",
       "\n",
       "    .dataframe tbody tr th {\n",
       "        vertical-align: top;\n",
       "    }\n",
       "\n",
       "    .dataframe thead th {\n",
       "        text-align: right;\n",
       "    }\n",
       "</style>\n",
       "<table border=\"1\" class=\"dataframe\">\n",
       "  <thead>\n",
       "    <tr style=\"text-align: right;\">\n",
       "      <th></th>\n",
       "      <th>imdb_rating</th>\n",
       "      <th>meta_score</th>\n",
       "      <th>no_of_votes</th>\n",
       "    </tr>\n",
       "  </thead>\n",
       "  <tbody>\n",
       "    <tr>\n",
       "      <th>count</th>\n",
       "      <td>1000.000000</td>\n",
       "      <td>843.000000</td>\n",
       "      <td>1.000000e+03</td>\n",
       "    </tr>\n",
       "    <tr>\n",
       "      <th>mean</th>\n",
       "      <td>7.949300</td>\n",
       "      <td>77.971530</td>\n",
       "      <td>2.736929e+05</td>\n",
       "    </tr>\n",
       "    <tr>\n",
       "      <th>std</th>\n",
       "      <td>0.275491</td>\n",
       "      <td>12.376099</td>\n",
       "      <td>3.273727e+05</td>\n",
       "    </tr>\n",
       "    <tr>\n",
       "      <th>min</th>\n",
       "      <td>7.600000</td>\n",
       "      <td>28.000000</td>\n",
       "      <td>2.508800e+04</td>\n",
       "    </tr>\n",
       "    <tr>\n",
       "      <th>25%</th>\n",
       "      <td>7.700000</td>\n",
       "      <td>70.000000</td>\n",
       "      <td>5.552625e+04</td>\n",
       "    </tr>\n",
       "    <tr>\n",
       "      <th>50%</th>\n",
       "      <td>7.900000</td>\n",
       "      <td>79.000000</td>\n",
       "      <td>1.385485e+05</td>\n",
       "    </tr>\n",
       "    <tr>\n",
       "      <th>75%</th>\n",
       "      <td>8.100000</td>\n",
       "      <td>87.000000</td>\n",
       "      <td>3.741612e+05</td>\n",
       "    </tr>\n",
       "    <tr>\n",
       "      <th>max</th>\n",
       "      <td>9.300000</td>\n",
       "      <td>100.000000</td>\n",
       "      <td>2.343110e+06</td>\n",
       "    </tr>\n",
       "  </tbody>\n",
       "</table>\n",
       "</div>"
      ],
      "text/plain": [
       "       imdb_rating  meta_score   no_of_votes\n",
       "count  1000.000000  843.000000  1.000000e+03\n",
       "mean      7.949300   77.971530  2.736929e+05\n",
       "std       0.275491   12.376099  3.273727e+05\n",
       "min       7.600000   28.000000  2.508800e+04\n",
       "25%       7.700000   70.000000  5.552625e+04\n",
       "50%       7.900000   79.000000  1.385485e+05\n",
       "75%       8.100000   87.000000  3.741612e+05\n",
       "max       9.300000  100.000000  2.343110e+06"
      ]
     },
     "execution_count": 22,
     "metadata": {},
     "output_type": "execute_result"
    }
   ],
   "source": [
    "df.describe()"
   ]
  },
  {
   "cell_type": "markdown",
   "id": "6ba94414-98a5-48ed-97dc-b5bf0e32c9b8",
   "metadata": {},
   "source": [
    "## Data Summary – Statistical Overview\n",
    "\n",
    "### IMDb Rating:\n",
    "- All movies are well-rated, between 7.6 and 9.3.\n",
    "- The average rating is ~7.95 with a low standard deviation.\n",
    "- This indicates the dataset is highly curated, and ratings are clustered tightly.\n",
    "\n",
    "### Meta Score:\n",
    "- Critical review scores range from 28 to 100.\n",
    "- ~16% of values are missing and may require imputation or exclusion.\n",
    "- The broader spread suggests greater variability in critic opinions.\n",
    "\n",
    "### Number of Votes:\n",
    "- Vote counts range from ~25K to over 2.3 million.\n",
    "- The distribution is highly skewed with a large standard deviation.\n",
    "- A log scale is recommended for plotting and interpretation.\n",
    "\n"
   ]
  },
  {
   "cell_type": "markdown",
   "id": "925937f6-db00-4c65-bdd3-414b5548bb68",
   "metadata": {},
   "source": [
    "## Stage 2: Data Preprocessing"
   ]
  },
  {
   "cell_type": "code",
   "execution_count": 26,
   "id": "21c427f2",
   "metadata": {},
   "outputs": [
    {
     "data": {
      "text/plain": [
       "poster_link        0\n",
       "series_title       0\n",
       "released_year      0\n",
       "certificate      101\n",
       "runtime            0\n",
       "genre              0\n",
       "imdb_rating        0\n",
       "overview           0\n",
       "meta_score       157\n",
       "director           0\n",
       "star1              0\n",
       "star2              0\n",
       "star3              0\n",
       "star4              0\n",
       "no_of_votes        0\n",
       "gross            169\n",
       "dtype: int64"
      ]
     },
     "execution_count": 26,
     "metadata": {},
     "output_type": "execute_result"
    }
   ],
   "source": [
    "# calculating missing values \n",
    "#isna Detect missing values in a DataFrame.\n",
    "df.isna().sum()"
   ]
  },
  {
   "cell_type": "code",
   "execution_count": 28,
   "id": "fd154153-4b55-4db0-9fde-bc98981a1874",
   "metadata": {},
   "outputs": [],
   "source": [
    "# impute missing values \n",
    "df['meta_score'] = df['meta_score'].fillna(df['meta_score'].median())"
   ]
  },
  {
   "cell_type": "code",
   "execution_count": 30,
   "id": "64b1a9a4-a635-4a34-b63c-fab0527e394a",
   "metadata": {},
   "outputs": [],
   "source": [
    "# The 'certificate' column is categorical, for any missing values the cateogry 'Not Rated' will be added. \n",
    "df['certificate'] = df['certificate'].fillna('Not Rated')"
   ]
  },
  {
   "cell_type": "code",
   "execution_count": 32,
   "id": "3b0463a2-b95f-4d0f-b412-9a3598ca89fd",
   "metadata": {},
   "outputs": [
    {
     "data": {
      "text/plain": [
       "poster_link        0\n",
       "series_title       0\n",
       "released_year      0\n",
       "certificate        0\n",
       "runtime            0\n",
       "genre              0\n",
       "imdb_rating        0\n",
       "overview           0\n",
       "meta_score         0\n",
       "director           0\n",
       "star1              0\n",
       "star2              0\n",
       "star3              0\n",
       "star4              0\n",
       "no_of_votes        0\n",
       "gross            169\n",
       "dtype: int64"
      ]
     },
     "execution_count": 32,
     "metadata": {},
     "output_type": "execute_result"
    }
   ],
   "source": [
    "# sanity check\n",
    "df.isna().sum()"
   ]
  },
  {
   "cell_type": "markdown",
   "id": "a8d65bba-bb1a-4f1f-b04a-c0ed8400be16",
   "metadata": {},
   "source": [
    "### Stage 2: Handling Missing Values\n",
    "\n",
    "Three columns had missing values:\n",
    "- `certificate`: 101 missing (filled with 'Not Rated')\n",
    "- `meta_score`: 157 missing (filled with column median)\n",
    "- `gross`: 169 missing (left as-is and not used in this analysis.\n",
    "\n",
    "These changes ensure that our key features (`imdb_rating` and `no_of_votes` remain unaffected, while still retaining the richness of supporting columns."
   ]
  },
  {
   "cell_type": "markdown",
   "id": "a7dc7aa0",
   "metadata": {},
   "source": [
    "### Check for Duplicates \n",
    "Find the number of duplicate rows in the table using one command:"
   ]
  },
  {
   "cell_type": "code",
   "execution_count": 36,
   "id": "9227df01",
   "metadata": {
    "scrolled": true
   },
   "outputs": [
    {
     "data": {
      "text/plain": [
       "0"
      ]
     },
     "execution_count": 36,
     "metadata": {},
     "output_type": "execute_result"
    }
   ],
   "source": [
    "# counting duplicate rows\n",
    "df.duplicated().sum()"
   ]
  },
  {
   "cell_type": "code",
   "execution_count": 38,
   "id": "947dc743",
   "metadata": {},
   "outputs": [
    {
     "data": {
      "text/plain": [
       "poster_link      1000\n",
       "series_title     1000\n",
       "released_year    1000\n",
       "certificate      1000\n",
       "runtime          1000\n",
       "genre            1000\n",
       "imdb_rating      1000\n",
       "overview         1000\n",
       "meta_score       1000\n",
       "director         1000\n",
       "star1            1000\n",
       "star2            1000\n",
       "star3            1000\n",
       "star4            1000\n",
       "no_of_votes      1000\n",
       "gross             831\n",
       "dtype: int64"
      ]
     },
     "execution_count": 38,
     "metadata": {},
     "output_type": "execute_result"
    }
   ],
   "source": [
    "df.count()"
   ]
  },
  {
   "cell_type": "code",
   "execution_count": 40,
   "id": "526deea9-8ea6-4bed-9a2d-2b4c390a10ee",
   "metadata": {},
   "outputs": [
    {
     "data": {
      "text/plain": [
       "1"
      ]
     },
     "execution_count": 40,
     "metadata": {},
     "output_type": "execute_result"
    }
   ],
   "source": [
    "# Check for duplicates based on 'series_title'\n",
    "\n",
    "df['series_title'].duplicated().sum()\n"
   ]
  },
  {
   "cell_type": "code",
   "execution_count": 42,
   "id": "2f4a7529-2e0f-405e-8cc1-10b3dc765ff9",
   "metadata": {},
   "outputs": [
    {
     "data": {
      "text/html": [
       "<div>\n",
       "<style scoped>\n",
       "    .dataframe tbody tr th:only-of-type {\n",
       "        vertical-align: middle;\n",
       "    }\n",
       "\n",
       "    .dataframe tbody tr th {\n",
       "        vertical-align: top;\n",
       "    }\n",
       "\n",
       "    .dataframe thead th {\n",
       "        text-align: right;\n",
       "    }\n",
       "</style>\n",
       "<table border=\"1\" class=\"dataframe\">\n",
       "  <thead>\n",
       "    <tr style=\"text-align: right;\">\n",
       "      <th></th>\n",
       "      <th>poster_link</th>\n",
       "      <th>series_title</th>\n",
       "      <th>released_year</th>\n",
       "      <th>certificate</th>\n",
       "      <th>runtime</th>\n",
       "      <th>genre</th>\n",
       "      <th>imdb_rating</th>\n",
       "      <th>overview</th>\n",
       "      <th>meta_score</th>\n",
       "      <th>director</th>\n",
       "      <th>star1</th>\n",
       "      <th>star2</th>\n",
       "      <th>star3</th>\n",
       "      <th>star4</th>\n",
       "      <th>no_of_votes</th>\n",
       "      <th>gross</th>\n",
       "    </tr>\n",
       "  </thead>\n",
       "  <tbody>\n",
       "    <tr>\n",
       "      <th>87</th>\n",
       "      <td>https://m.media-amazon.com/images/M/MV5BYmY3Mz...</td>\n",
       "      <td>Drishyam</td>\n",
       "      <td>2013</td>\n",
       "      <td>U</td>\n",
       "      <td>160 min</td>\n",
       "      <td>Crime, Drama, Thriller</td>\n",
       "      <td>8.3</td>\n",
       "      <td>A man goes to extreme lengths to save his fami...</td>\n",
       "      <td>79.0</td>\n",
       "      <td>Jeethu Joseph</td>\n",
       "      <td>Mohanlal</td>\n",
       "      <td>Meena</td>\n",
       "      <td>Asha Sharath</td>\n",
       "      <td>Ansiba</td>\n",
       "      <td>30722</td>\n",
       "      <td>NaN</td>\n",
       "    </tr>\n",
       "    <tr>\n",
       "      <th>136</th>\n",
       "      <td>https://m.media-amazon.com/images/M/MV5BYmJhZm...</td>\n",
       "      <td>Drishyam</td>\n",
       "      <td>2015</td>\n",
       "      <td>UA</td>\n",
       "      <td>163 min</td>\n",
       "      <td>Crime, Drama, Mystery</td>\n",
       "      <td>8.2</td>\n",
       "      <td>Desperate measures are taken by a man who trie...</td>\n",
       "      <td>79.0</td>\n",
       "      <td>Nishikant Kamat</td>\n",
       "      <td>Ajay Devgn</td>\n",
       "      <td>Shriya Saran</td>\n",
       "      <td>Tabu</td>\n",
       "      <td>Rajat Kapoor</td>\n",
       "      <td>70367</td>\n",
       "      <td>739,478</td>\n",
       "    </tr>\n",
       "  </tbody>\n",
       "</table>\n",
       "</div>"
      ],
      "text/plain": [
       "                                           poster_link series_title  \\\n",
       "87   https://m.media-amazon.com/images/M/MV5BYmY3Mz...     Drishyam   \n",
       "136  https://m.media-amazon.com/images/M/MV5BYmJhZm...     Drishyam   \n",
       "\n",
       "    released_year certificate  runtime                   genre  imdb_rating  \\\n",
       "87           2013           U  160 min  Crime, Drama, Thriller          8.3   \n",
       "136          2015          UA  163 min   Crime, Drama, Mystery          8.2   \n",
       "\n",
       "                                              overview  meta_score  \\\n",
       "87   A man goes to extreme lengths to save his fami...        79.0   \n",
       "136  Desperate measures are taken by a man who trie...        79.0   \n",
       "\n",
       "            director       star1         star2         star3         star4  \\\n",
       "87     Jeethu Joseph    Mohanlal         Meena  Asha Sharath        Ansiba   \n",
       "136  Nishikant Kamat  Ajay Devgn  Shriya Saran          Tabu  Rajat Kapoor   \n",
       "\n",
       "     no_of_votes    gross  \n",
       "87         30722      NaN  \n",
       "136        70367  739,478  "
      ]
     },
     "execution_count": 42,
     "metadata": {},
     "output_type": "execute_result"
    }
   ],
   "source": [
    "df[df['series_title'].duplicated(keep=False)]\n"
   ]
  },
  {
   "cell_type": "markdown",
   "id": "f0698343-05dd-417d-a3a7-0d1fb7867251",
   "metadata": {},
   "source": [
    "### Duplicate Title Analysis\n",
    "\n",
    "The dataset contained one duplicated movie title: **Drishyam**.\n",
    "\n",
    "Upon inspection, the two entries refer to different movies:\n",
    "- Released in different years (2013 and 2015)\n",
    "- Directed by different individuals\n",
    "- Classified under slightly different genres\n",
    "\n",
    "As such, both entries were retained.\n"
   ]
  },
  {
   "cell_type": "markdown",
   "id": "1aa0f1b1",
   "metadata": {},
   "source": [
    "## Stage 3 - Data analysis <a id='hypotheses'></a>"
   ]
  },
  {
   "cell_type": "markdown",
   "id": "f8fb6a0e",
   "metadata": {},
   "source": [
    "At this stage, it is important to test the project's core assumption: \n",
    "\n",
    "**Do highly-rated movies from the 21st century also receive the most IMDb votes?** \n",
    "\n",
    "*(Quality vs Popularity)*\n",
    "\n",
    "Using filtering, visualizing, and interpreting. "
   ]
  },
  {
   "cell_type": "code",
   "execution_count": 47,
   "id": "6a704aa1",
   "metadata": {},
   "outputs": [],
   "source": [
    "# Filter dataset to 1999+\n",
    "df['released_year'] = pd.to_numeric(df['released_year'], errors='coerce')\n",
    "df_filtered = df[df['released_year'] >= 1999]"
   ]
  },
  {
   "cell_type": "code",
   "execution_count": 49,
   "id": "87af493a-b3ec-4e5d-b8ce-6db95650833c",
   "metadata": {},
   "outputs": [
    {
     "data": {
      "text/html": [
       "<div>\n",
       "<style scoped>\n",
       "    .dataframe tbody tr th:only-of-type {\n",
       "        vertical-align: middle;\n",
       "    }\n",
       "\n",
       "    .dataframe tbody tr th {\n",
       "        vertical-align: top;\n",
       "    }\n",
       "\n",
       "    .dataframe thead th {\n",
       "        text-align: right;\n",
       "    }\n",
       "</style>\n",
       "<table border=\"1\" class=\"dataframe\">\n",
       "  <thead>\n",
       "    <tr style=\"text-align: right;\">\n",
       "      <th></th>\n",
       "      <th>poster_link</th>\n",
       "      <th>series_title</th>\n",
       "      <th>released_year</th>\n",
       "      <th>certificate</th>\n",
       "      <th>runtime</th>\n",
       "      <th>genre</th>\n",
       "      <th>imdb_rating</th>\n",
       "      <th>overview</th>\n",
       "      <th>meta_score</th>\n",
       "      <th>director</th>\n",
       "      <th>star1</th>\n",
       "      <th>star2</th>\n",
       "      <th>star3</th>\n",
       "      <th>star4</th>\n",
       "      <th>no_of_votes</th>\n",
       "      <th>gross</th>\n",
       "    </tr>\n",
       "  </thead>\n",
       "  <tbody>\n",
       "    <tr>\n",
       "      <th>2</th>\n",
       "      <td>https://m.media-amazon.com/images/M/MV5BMTMxNT...</td>\n",
       "      <td>The Dark Knight</td>\n",
       "      <td>2008.0</td>\n",
       "      <td>UA</td>\n",
       "      <td>152 min</td>\n",
       "      <td>Action, Crime, Drama</td>\n",
       "      <td>9.0</td>\n",
       "      <td>When the menace known as the Joker wreaks havo...</td>\n",
       "      <td>84.0</td>\n",
       "      <td>Christopher Nolan</td>\n",
       "      <td>Christian Bale</td>\n",
       "      <td>Heath Ledger</td>\n",
       "      <td>Aaron Eckhart</td>\n",
       "      <td>Michael Caine</td>\n",
       "      <td>2303232</td>\n",
       "      <td>534,858,444</td>\n",
       "    </tr>\n",
       "    <tr>\n",
       "      <th>5</th>\n",
       "      <td>https://m.media-amazon.com/images/M/MV5BNzA5ZD...</td>\n",
       "      <td>The Lord of the Rings: The Return of the King</td>\n",
       "      <td>2003.0</td>\n",
       "      <td>U</td>\n",
       "      <td>201 min</td>\n",
       "      <td>Action, Adventure, Drama</td>\n",
       "      <td>8.9</td>\n",
       "      <td>Gandalf and Aragorn lead the World of Men agai...</td>\n",
       "      <td>94.0</td>\n",
       "      <td>Peter Jackson</td>\n",
       "      <td>Elijah Wood</td>\n",
       "      <td>Viggo Mortensen</td>\n",
       "      <td>Ian McKellen</td>\n",
       "      <td>Orlando Bloom</td>\n",
       "      <td>1642758</td>\n",
       "      <td>377,845,905</td>\n",
       "    </tr>\n",
       "    <tr>\n",
       "      <th>8</th>\n",
       "      <td>https://m.media-amazon.com/images/M/MV5BMjAxMz...</td>\n",
       "      <td>Inception</td>\n",
       "      <td>2010.0</td>\n",
       "      <td>UA</td>\n",
       "      <td>148 min</td>\n",
       "      <td>Action, Adventure, Sci-Fi</td>\n",
       "      <td>8.8</td>\n",
       "      <td>A thief who steals corporate secrets through t...</td>\n",
       "      <td>74.0</td>\n",
       "      <td>Christopher Nolan</td>\n",
       "      <td>Leonardo DiCaprio</td>\n",
       "      <td>Joseph Gordon-Levitt</td>\n",
       "      <td>Elliot Page</td>\n",
       "      <td>Ken Watanabe</td>\n",
       "      <td>2067042</td>\n",
       "      <td>292,576,195</td>\n",
       "    </tr>\n",
       "    <tr>\n",
       "      <th>9</th>\n",
       "      <td>https://m.media-amazon.com/images/M/MV5BMmEzNT...</td>\n",
       "      <td>Fight Club</td>\n",
       "      <td>1999.0</td>\n",
       "      <td>A</td>\n",
       "      <td>139 min</td>\n",
       "      <td>Drama</td>\n",
       "      <td>8.8</td>\n",
       "      <td>An insomniac office worker and a devil-may-car...</td>\n",
       "      <td>66.0</td>\n",
       "      <td>David Fincher</td>\n",
       "      <td>Brad Pitt</td>\n",
       "      <td>Edward Norton</td>\n",
       "      <td>Meat Loaf</td>\n",
       "      <td>Zach Grenier</td>\n",
       "      <td>1854740</td>\n",
       "      <td>37,030,102</td>\n",
       "    </tr>\n",
       "    <tr>\n",
       "      <th>10</th>\n",
       "      <td>https://m.media-amazon.com/images/M/MV5BN2EyZj...</td>\n",
       "      <td>The Lord of the Rings: The Fellowship of the Ring</td>\n",
       "      <td>2001.0</td>\n",
       "      <td>U</td>\n",
       "      <td>178 min</td>\n",
       "      <td>Action, Adventure, Drama</td>\n",
       "      <td>8.8</td>\n",
       "      <td>A meek Hobbit from the Shire and eight compani...</td>\n",
       "      <td>92.0</td>\n",
       "      <td>Peter Jackson</td>\n",
       "      <td>Elijah Wood</td>\n",
       "      <td>Ian McKellen</td>\n",
       "      <td>Orlando Bloom</td>\n",
       "      <td>Sean Bean</td>\n",
       "      <td>1661481</td>\n",
       "      <td>315,544,750</td>\n",
       "    </tr>\n",
       "  </tbody>\n",
       "</table>\n",
       "</div>"
      ],
      "text/plain": [
       "                                          poster_link  \\\n",
       "2   https://m.media-amazon.com/images/M/MV5BMTMxNT...   \n",
       "5   https://m.media-amazon.com/images/M/MV5BNzA5ZD...   \n",
       "8   https://m.media-amazon.com/images/M/MV5BMjAxMz...   \n",
       "9   https://m.media-amazon.com/images/M/MV5BMmEzNT...   \n",
       "10  https://m.media-amazon.com/images/M/MV5BN2EyZj...   \n",
       "\n",
       "                                         series_title  released_year  \\\n",
       "2                                     The Dark Knight         2008.0   \n",
       "5       The Lord of the Rings: The Return of the King         2003.0   \n",
       "8                                           Inception         2010.0   \n",
       "9                                          Fight Club         1999.0   \n",
       "10  The Lord of the Rings: The Fellowship of the Ring         2001.0   \n",
       "\n",
       "   certificate  runtime                      genre  imdb_rating  \\\n",
       "2           UA  152 min       Action, Crime, Drama          9.0   \n",
       "5            U  201 min   Action, Adventure, Drama          8.9   \n",
       "8           UA  148 min  Action, Adventure, Sci-Fi          8.8   \n",
       "9            A  139 min                      Drama          8.8   \n",
       "10           U  178 min   Action, Adventure, Drama          8.8   \n",
       "\n",
       "                                             overview  meta_score  \\\n",
       "2   When the menace known as the Joker wreaks havo...        84.0   \n",
       "5   Gandalf and Aragorn lead the World of Men agai...        94.0   \n",
       "8   A thief who steals corporate secrets through t...        74.0   \n",
       "9   An insomniac office worker and a devil-may-car...        66.0   \n",
       "10  A meek Hobbit from the Shire and eight compani...        92.0   \n",
       "\n",
       "             director              star1                 star2          star3  \\\n",
       "2   Christopher Nolan     Christian Bale          Heath Ledger  Aaron Eckhart   \n",
       "5       Peter Jackson        Elijah Wood       Viggo Mortensen   Ian McKellen   \n",
       "8   Christopher Nolan  Leonardo DiCaprio  Joseph Gordon-Levitt    Elliot Page   \n",
       "9       David Fincher          Brad Pitt         Edward Norton      Meat Loaf   \n",
       "10      Peter Jackson        Elijah Wood          Ian McKellen  Orlando Bloom   \n",
       "\n",
       "            star4  no_of_votes        gross  \n",
       "2   Michael Caine      2303232  534,858,444  \n",
       "5   Orlando Bloom      1642758  377,845,905  \n",
       "8    Ken Watanabe      2067042  292,576,195  \n",
       "9    Zach Grenier      1854740   37,030,102  \n",
       "10      Sean Bean      1661481  315,544,750  "
      ]
     },
     "execution_count": 49,
     "metadata": {},
     "output_type": "execute_result"
    }
   ],
   "source": [
    "# sanity check \n",
    "df_filtered.head()"
   ]
  },
  {
   "cell_type": "markdown",
   "id": "d5908c0d-7574-42c1-b104-8dd2ec327a9f",
   "metadata": {},
   "source": [
    "#### Visualization: Create a Scatterplot\n",
    "\n",
    "- X-axis = `no_of_voites` (log scale for skew)\n",
    "- y-axis = `imdb_rating`\n"
   ]
  },
  {
   "cell_type": "code",
   "execution_count": 51,
   "id": "86b4cdf7-7f4d-45a9-a66c-04287344c4bb",
   "metadata": {},
   "outputs": [
    {
     "data": {
      "image/png": "[encoded data removed]",
      "text/plain": [
       "<Figure size 1000x600 with 1 Axes>"
      ]
     },
     "metadata": {},
     "output_type": "display_data"
    }
   ],
   "source": [
    "\n",
    "plt.figure(figsize=(10, 6))\n",
    "plt.scatter(df_filtered['no_of_votes'], df_filtered['imdb_rating'], alpha=0.6, color='orange')\n",
    "plt.xscale('log')\n",
    "plt.xlabel('Number of IMDb Votes (log scale)')\n",
    "plt.ylabel('IMDb Rating')\n",
    "plt.title('IMDb Rating vs Number of Votes (1999–Present)')\n",
    "plt.grid(True)\n",
    "plt.tight_layout()\n",
    "plt.show()\n"
   ]
  },
  {
   "cell_type": "code",
   "execution_count": 53,
   "id": "dfbfdda2-d8a1-47a0-b564-71bc9721be77",
   "metadata": {},
   "outputs": [
    {
     "data": {
      "text/html": [
       "<div>\n",
       "<style scoped>\n",
       "    .dataframe tbody tr th:only-of-type {\n",
       "        vertical-align: middle;\n",
       "    }\n",
       "\n",
       "    .dataframe tbody tr th {\n",
       "        vertical-align: top;\n",
       "    }\n",
       "\n",
       "    .dataframe thead th {\n",
       "        text-align: right;\n",
       "    }\n",
       "</style>\n",
       "<table border=\"1\" class=\"dataframe\">\n",
       "  <thead>\n",
       "    <tr style=\"text-align: right;\">\n",
       "      <th></th>\n",
       "      <th>imdb_rating</th>\n",
       "      <th>no_of_votes</th>\n",
       "    </tr>\n",
       "  </thead>\n",
       "  <tbody>\n",
       "    <tr>\n",
       "      <th>imdb_rating</th>\n",
       "      <td>1.000000</td>\n",
       "      <td>0.452202</td>\n",
       "    </tr>\n",
       "    <tr>\n",
       "      <th>no_of_votes</th>\n",
       "      <td>0.452202</td>\n",
       "      <td>1.000000</td>\n",
       "    </tr>\n",
       "  </tbody>\n",
       "</table>\n",
       "</div>"
      ],
      "text/plain": [
       "             imdb_rating  no_of_votes\n",
       "imdb_rating     1.000000     0.452202\n",
       "no_of_votes     0.452202     1.000000"
      ]
     },
     "execution_count": 53,
     "metadata": {},
     "output_type": "execute_result"
    }
   ],
   "source": [
    "# calculate correlation\n",
    "df_filtered[['imdb_rating', 'no_of_votes']].corr()"
   ]
  },
  {
   "cell_type": "markdown",
   "id": "1230a995-0c35-4e00-ba09-214ac48c88a6",
   "metadata": {},
   "source": [
    "`imdb_rating` vs `no_of_votes` = 0.4522"
   ]
  },
  {
   "cell_type": "markdown",
   "id": "acd1c947-fa35-42c7-a39c-712b185a16c2",
   "metadata": {},
   "source": [
    "- The correlation coefficient is +0.45\n",
    "- That’s a **moderate positive relationship** (not weak, not strong)\n",
    "\n",
    "**Interpretation:**\n",
    "\n",
    "Higher popularity is associated with higher ratings, but it's not a guarnatee - other factors matter too (like genre, fanbase, exposure). "
   ]
  },
  {
   "cell_type": "markdown",
   "id": "fbd1fddd-a264-4c4d-8282-85c63a03ceaa",
   "metadata": {},
   "source": [
    "### Stage 3: Analysis of IMDb Rating vs. Number of Votes\n",
    "\n",
    "A scatterplot was created to explore the relationship between IMDb rating and numer of votes for movies released from 1999 onward. \n",
    "\n",
    "- A logarithmic scale was used for vote counts to better visualize the wide range of values.\n",
    "- The correlation coefficient between IMDbrating and number of votes is approximately **0.45**, indicating a moderate positive relationship.\n",
    "- This suggests that more popular films tend to be rated slightly higher, but the relationship is not perfectly linear.\n",
    "\n",
    "Noteably, some high-rated filmes received fewer votes, while others with high vote counts had average ratings. "
   ]
  },
  {
   "cell_type": "markdown",
   "id": "84e29a37",
   "metadata": {},
   "source": [
    "## Final Conclusion "
   ]
  },
  {
   "cell_type": "markdown",
   "id": "e187af84-6681-4ac2-a3dc-33cbf1c5f666",
   "metadata": {},
   "source": [
    "This project explored the relationship between a movie's **IMDb rating** and its **popularity**, measured by the number of votes, using the publicly available IMDb top 1000 datset. \n",
    "\n",
    "**Key Findings:**\n",
    "- All movies int he dataset are highly rated (7.6 - 9.3), due to the curated nature of IMDb's Top 1000.\n",
    "- The number of votes varied significantly from ~25K to 2M+), requiring the use of a logarithmic scale to visualize.\n",
    "- The correlation between rating and votes was **moderate** (r = 0.45).\n",
    "  - Popular movies tend to receive slightly higher ratings.\n",
    "  - However, quality and popularity are not perfectly aligned."
   ]
  },
  {
   "cell_type": "markdown",
   "id": "5ef699d7-eb65-4c53-9b28-76c2e66fb599",
   "metadata": {},
   "source": [
    "### Reflection \n",
    "\n",
    "This project highlights that **user-driven ratings** reflect more than just quality - they reflect visibility, fandom, and access.\n",
    "\n",
    "Popularity is influenced by many external factors beyond a film's perceived merit. \n",
    "\n",
    "This version of Project 1 builds on the original TripleTen version by applying:\n",
    "- A public dataset\n",
    "- Flexible filtering\n",
    "- Custom EDA and visualization decisions. "
   ]
  }
 ],
 "metadata": {
  "ExecuteTimeLog": [
   {
    "duration": 481,
    "start_time": "2024-07-12T15:16:16.093Z"
   },
   {
    "duration": 8,
    "start_time": "2024-07-12T15:27:36.417Z"
   },
   {
    "duration": 6,
    "start_time": "2024-07-12T15:28:03.730Z"
   },
   {
    "duration": 5,
    "start_time": "2024-07-12T15:28:30.995Z"
   },
   {
    "duration": 259,
    "start_time": "2024-07-12T15:29:09.830Z"
   },
   {
    "duration": 336,
    "start_time": "2024-07-12T15:32:42.028Z"
   },
   {
    "duration": 23,
    "start_time": "2024-07-12T15:32:55.114Z"
   },
   {
    "duration": 21,
    "start_time": "2024-07-12T15:34:33.852Z"
   },
   {
    "duration": 20,
    "start_time": "2024-07-12T15:40:00.839Z"
   },
   {
    "duration": 23,
    "start_time": "2024-07-12T16:35:33.351Z"
   },
   {
    "duration": 50,
    "start_time": "2024-07-12T16:39:32.950Z"
   },
   {
    "duration": 5,
    "start_time": "2024-07-12T17:01:11.404Z"
   },
   {
    "duration": 6,
    "start_time": "2024-07-12T17:07:00.782Z"
   },
   {
    "duration": 13,
    "start_time": "2024-07-12T17:07:19.054Z"
   },
   {
    "duration": 6,
    "start_time": "2024-07-12T17:07:51.545Z"
   },
   {
    "duration": 48,
    "start_time": "2024-07-12T17:15:20.895Z"
   },
   {
    "duration": 39,
    "start_time": "2024-07-12T17:20:14.019Z"
   },
   {
    "duration": 43,
    "start_time": "2024-07-12T18:09:22.710Z"
   },
   {
    "duration": 25,
    "start_time": "2024-07-12T18:09:47.774Z"
   },
   {
    "duration": 7,
    "start_time": "2024-07-12T18:15:39.414Z"
   },
   {
    "duration": 3,
    "start_time": "2024-07-12T18:15:46.446Z"
   },
   {
    "duration": 9,
    "start_time": "2024-07-12T18:16:09.025Z"
   },
   {
    "duration": 9,
    "start_time": "2024-07-12T18:18:10.560Z"
   },
   {
    "duration": 9,
    "start_time": "2024-07-12T18:18:24.553Z"
   },
   {
    "duration": 14,
    "start_time": "2024-07-12T18:18:55.301Z"
   },
   {
    "duration": 71,
    "start_time": "2024-07-12T18:19:44.630Z"
   },
   {
    "duration": 71,
    "start_time": "2024-07-12T18:20:17.402Z"
   },
   {
    "duration": 99,
    "start_time": "2024-07-12T18:20:26.155Z"
   },
   {
    "duration": 70,
    "start_time": "2024-07-12T18:22:16.135Z"
   },
   {
    "duration": 93,
    "start_time": "2024-07-12T18:23:00.618Z"
   },
   {
    "duration": 77,
    "start_time": "2024-07-12T18:23:07.842Z"
   },
   {
    "duration": 74,
    "start_time": "2024-07-12T18:23:15.598Z"
   },
   {
    "duration": 92,
    "start_time": "2024-07-12T18:23:48.973Z"
   },
   {
    "duration": 72,
    "start_time": "2024-07-12T18:25:24.329Z"
   },
   {
    "duration": 89,
    "start_time": "2024-07-12T18:25:26.534Z"
   },
   {
    "duration": 81,
    "start_time": "2024-07-12T18:27:06.917Z"
   },
   {
    "duration": 87,
    "start_time": "2024-07-12T18:28:45.051Z"
   },
   {
    "duration": 75,
    "start_time": "2024-07-12T18:29:04.811Z"
   },
   {
    "duration": 69,
    "start_time": "2024-07-12T18:34:57.743Z"
   },
   {
    "duration": 79,
    "start_time": "2024-07-12T18:35:13.450Z"
   },
   {
    "duration": 5,
    "start_time": "2024-07-12T18:38:34.286Z"
   },
   {
    "duration": 25,
    "start_time": "2024-07-12T18:38:46.086Z"
   },
   {
    "duration": 25,
    "start_time": "2024-07-12T18:42:49.532Z"
   },
   {
    "duration": 5,
    "start_time": "2024-07-12T18:44:18.999Z"
   },
   {
    "duration": 25,
    "start_time": "2024-07-12T18:44:24.668Z"
   },
   {
    "duration": 22,
    "start_time": "2024-07-12T18:45:16.655Z"
   },
   {
    "duration": 25,
    "start_time": "2024-07-12T18:46:03.865Z"
   },
   {
    "duration": 36,
    "start_time": "2024-07-12T18:46:13.927Z"
   },
   {
    "duration": 4,
    "start_time": "2024-07-12T18:46:21.033Z"
   },
   {
    "duration": 231,
    "start_time": "2024-07-12T18:46:21.056Z"
   },
   {
    "duration": 29,
    "start_time": "2024-07-12T18:46:21.291Z"
   },
   {
    "duration": 42,
    "start_time": "2024-07-12T18:46:21.323Z"
   },
   {
    "duration": 6,
    "start_time": "2024-07-12T18:46:21.370Z"
   },
   {
    "duration": 11,
    "start_time": "2024-07-12T18:46:21.410Z"
   },
   {
    "duration": 7,
    "start_time": "2024-07-12T18:46:21.424Z"
   },
   {
    "duration": 42,
    "start_time": "2024-07-12T18:46:21.434Z"
   },
   {
    "duration": 77,
    "start_time": "2024-07-12T18:46:21.479Z"
   },
   {
    "duration": 27,
    "start_time": "2024-07-12T18:46:21.558Z"
   },
   {
    "duration": 101,
    "start_time": "2024-07-12T18:46:21.613Z"
   },
   {
    "duration": 4,
    "start_time": "2024-07-12T18:46:21.717Z"
   },
   {
    "duration": 3,
    "start_time": "2024-07-12T18:46:21.725Z"
   },
   {
    "duration": 4,
    "start_time": "2024-07-12T18:46:21.731Z"
   },
   {
    "duration": 4,
    "start_time": "2024-07-12T18:46:21.738Z"
   },
   {
    "duration": 4,
    "start_time": "2024-07-12T18:46:21.745Z"
   },
   {
    "duration": 4,
    "start_time": "2024-07-12T18:46:21.752Z"
   },
   {
    "duration": 3,
    "start_time": "2024-07-12T18:46:21.760Z"
   },
   {
    "duration": 43,
    "start_time": "2024-07-12T18:46:21.767Z"
   },
   {
    "duration": 4,
    "start_time": "2024-07-12T18:46:21.814Z"
   },
   {
    "duration": 5,
    "start_time": "2024-07-12T18:46:21.823Z"
   },
   {
    "duration": 4,
    "start_time": "2024-07-12T18:46:21.833Z"
   },
   {
    "duration": 3,
    "start_time": "2024-07-12T18:46:21.840Z"
   },
   {
    "duration": 4,
    "start_time": "2024-07-12T18:46:21.846Z"
   },
   {
    "duration": 4,
    "start_time": "2024-07-12T18:47:24.449Z"
   },
   {
    "duration": 13,
    "start_time": "2024-07-12T18:47:42.635Z"
   },
   {
    "duration": 33,
    "start_time": "2024-07-12T18:48:03.220Z"
   },
   {
    "duration": 14,
    "start_time": "2024-07-12T18:48:06.936Z"
   },
   {
    "duration": 6,
    "start_time": "2024-07-12T18:48:10.035Z"
   },
   {
    "duration": 67,
    "start_time": "2024-07-12T18:49:37.732Z"
   },
   {
    "duration": 79,
    "start_time": "2024-07-12T18:51:49.015Z"
   },
   {
    "duration": 30,
    "start_time": "2024-07-12T18:55:31.322Z"
   },
   {
    "duration": 12,
    "start_time": "2024-07-12T18:55:36.748Z"
   },
   {
    "duration": 5,
    "start_time": "2024-07-12T18:55:58.937Z"
   },
   {
    "duration": 5,
    "start_time": "2024-07-12T18:56:07.668Z"
   },
   {
    "duration": 10,
    "start_time": "2024-07-12T18:56:14.964Z"
   },
   {
    "duration": 10,
    "start_time": "2024-07-12T18:56:57.711Z"
   },
   {
    "duration": 11,
    "start_time": "2024-07-12T18:57:10.979Z"
   },
   {
    "duration": 11,
    "start_time": "2024-07-12T18:57:16.516Z"
   },
   {
    "duration": 7,
    "start_time": "2024-07-12T18:57:42.033Z"
   },
   {
    "duration": 9,
    "start_time": "2024-07-12T18:57:47.464Z"
   },
   {
    "duration": 8,
    "start_time": "2024-07-12T18:58:07.243Z"
   },
   {
    "duration": 12,
    "start_time": "2024-07-12T18:58:28.430Z"
   },
   {
    "duration": 6,
    "start_time": "2024-07-12T18:58:54.823Z"
   },
   {
    "duration": 10,
    "start_time": "2024-07-12T18:59:12.195Z"
   },
   {
    "duration": 12,
    "start_time": "2024-07-12T18:59:20.511Z"
   },
   {
    "duration": 12,
    "start_time": "2024-07-12T18:59:35.343Z"
   },
   {
    "duration": 8,
    "start_time": "2024-07-12T18:59:52.037Z"
   },
   {
    "duration": 9,
    "start_time": "2024-07-12T19:00:05.638Z"
   },
   {
    "duration": 12,
    "start_time": "2024-07-12T19:00:42.935Z"
   },
   {
    "duration": 8,
    "start_time": "2024-07-12T19:01:10.813Z"
   },
   {
    "duration": 7,
    "start_time": "2024-07-12T19:01:20.246Z"
   },
   {
    "duration": 25,
    "start_time": "2024-07-12T19:24:11.905Z"
   },
   {
    "duration": 3,
    "start_time": "2024-07-12T19:24:20.319Z"
   },
   {
    "duration": 73,
    "start_time": "2024-07-12T19:24:43.957Z"
   },
   {
    "duration": 77,
    "start_time": "2024-07-12T19:24:58.953Z"
   },
   {
    "duration": 66,
    "start_time": "2024-07-12T19:25:31.735Z"
   },
   {
    "duration": 9,
    "start_time": "2024-07-12T19:26:18.118Z"
   },
   {
    "duration": 84,
    "start_time": "2024-07-12T19:29:15.868Z"
   },
   {
    "duration": 27,
    "start_time": "2024-07-12T19:31:09.367Z"
   },
   {
    "duration": 78,
    "start_time": "2024-07-12T19:31:50.626Z"
   },
   {
    "duration": 82,
    "start_time": "2024-07-12T21:13:39.439Z"
   },
   {
    "duration": 85,
    "start_time": "2024-07-12T21:14:08.938Z"
   },
   {
    "duration": 20,
    "start_time": "2024-07-12T21:15:37.938Z"
   },
   {
    "duration": 99,
    "start_time": "2024-07-12T21:15:43.912Z"
   },
   {
    "duration": 20,
    "start_time": "2024-07-12T21:20:30.710Z"
   },
   {
    "duration": 3,
    "start_time": "2024-07-12T21:21:50.715Z"
   },
   {
    "duration": 63,
    "start_time": "2024-07-12T21:22:26.801Z"
   },
   {
    "duration": 68,
    "start_time": "2024-07-12T21:22:59.498Z"
   },
   {
    "duration": 77,
    "start_time": "2024-07-12T21:25:12.246Z"
   },
   {
    "duration": 76,
    "start_time": "2024-07-12T21:26:24.730Z"
   },
   {
    "duration": 82,
    "start_time": "2024-07-12T21:26:44.762Z"
   },
   {
    "duration": 7,
    "start_time": "2024-07-12T21:27:13.920Z"
   },
   {
    "duration": 11,
    "start_time": "2024-07-12T21:27:41.162Z"
   },
   {
    "duration": 78,
    "start_time": "2024-07-12T21:28:03.950Z"
   },
   {
    "duration": 67,
    "start_time": "2024-07-12T21:32:35.823Z"
   },
   {
    "duration": 4,
    "start_time": "2024-07-12T21:33:12.312Z"
   },
   {
    "duration": 228,
    "start_time": "2024-07-12T21:33:12.320Z"
   },
   {
    "duration": 18,
    "start_time": "2024-07-12T21:33:12.551Z"
   },
   {
    "duration": 48,
    "start_time": "2024-07-12T21:33:12.572Z"
   },
   {
    "duration": 5,
    "start_time": "2024-07-12T21:33:12.626Z"
   },
   {
    "duration": 11,
    "start_time": "2024-07-12T21:33:12.635Z"
   },
   {
    "duration": 6,
    "start_time": "2024-07-12T21:33:12.649Z"
   },
   {
    "duration": 94,
    "start_time": "2024-07-12T21:33:12.658Z"
   },
   {
    "duration": 61,
    "start_time": "2024-07-12T21:33:12.755Z"
   },
   {
    "duration": 26,
    "start_time": "2024-07-12T21:33:12.818Z"
   },
   {
    "duration": 94,
    "start_time": "2024-07-12T21:33:12.846Z"
   },
   {
    "duration": 90,
    "start_time": "2024-07-12T21:33:12.946Z"
   },
   {
    "duration": 3,
    "start_time": "2024-07-12T21:33:13.041Z"
   },
   {
    "duration": 4,
    "start_time": "2024-07-12T21:33:13.048Z"
   },
   {
    "duration": 3,
    "start_time": "2024-07-12T21:33:13.056Z"
   },
   {
    "duration": 4,
    "start_time": "2024-07-12T21:33:13.063Z"
   },
   {
    "duration": 4,
    "start_time": "2024-07-12T21:33:13.111Z"
   },
   {
    "duration": 4,
    "start_time": "2024-07-12T21:33:13.118Z"
   },
   {
    "duration": 7,
    "start_time": "2024-07-12T21:33:13.127Z"
   },
   {
    "duration": 3,
    "start_time": "2024-07-12T21:33:13.139Z"
   },
   {
    "duration": 4,
    "start_time": "2024-07-12T21:33:13.145Z"
   },
   {
    "duration": 3,
    "start_time": "2024-07-12T21:33:13.153Z"
   },
   {
    "duration": 52,
    "start_time": "2024-07-12T21:33:13.159Z"
   },
   {
    "duration": 3,
    "start_time": "2024-07-12T21:33:13.216Z"
   },
   {
    "duration": 15,
    "start_time": "2024-07-12T21:33:43.026Z"
   },
   {
    "duration": 13,
    "start_time": "2024-07-12T21:34:03.165Z"
   },
   {
    "duration": 3,
    "start_time": "2024-07-12T21:34:18.878Z"
   },
   {
    "duration": 221,
    "start_time": "2024-07-12T21:34:18.886Z"
   },
   {
    "duration": 19,
    "start_time": "2024-07-12T21:34:19.111Z"
   },
   {
    "duration": 34,
    "start_time": "2024-07-12T21:34:19.133Z"
   },
   {
    "duration": 6,
    "start_time": "2024-07-12T21:34:19.170Z"
   },
   {
    "duration": 10,
    "start_time": "2024-07-12T21:34:19.212Z"
   },
   {
    "duration": 6,
    "start_time": "2024-07-12T21:34:19.225Z"
   },
   {
    "duration": 73,
    "start_time": "2024-07-12T21:34:19.235Z"
   },
   {
    "duration": 34,
    "start_time": "2024-07-12T21:34:19.311Z"
   },
   {
    "duration": 25,
    "start_time": "2024-07-12T21:34:19.348Z"
   },
   {
    "duration": 92,
    "start_time": "2024-07-12T21:34:19.376Z"
   },
   {
    "duration": 89,
    "start_time": "2024-07-12T21:34:19.470Z"
   },
   {
    "duration": 3,
    "start_time": "2024-07-12T21:34:19.562Z"
   },
   {
    "duration": 4,
    "start_time": "2024-07-12T21:34:19.568Z"
   },
   {
    "duration": 3,
    "start_time": "2024-07-12T21:34:19.578Z"
   },
   {
    "duration": 3,
    "start_time": "2024-07-12T21:34:19.610Z"
   },
   {
    "duration": 3,
    "start_time": "2024-07-12T21:34:19.617Z"
   },
   {
    "duration": 3,
    "start_time": "2024-07-12T21:34:19.623Z"
   },
   {
    "duration": 3,
    "start_time": "2024-07-12T21:34:19.630Z"
   },
   {
    "duration": 4,
    "start_time": "2024-07-12T21:34:19.636Z"
   },
   {
    "duration": 3,
    "start_time": "2024-07-12T21:34:19.644Z"
   },
   {
    "duration": 58,
    "start_time": "2024-07-12T21:34:19.650Z"
   },
   {
    "duration": 4,
    "start_time": "2024-07-12T21:34:19.711Z"
   },
   {
    "duration": 6,
    "start_time": "2024-07-12T21:34:19.719Z"
   },
   {
    "duration": 7,
    "start_time": "2024-07-12T21:36:21.674Z"
   },
   {
    "duration": 3,
    "start_time": "2024-07-12T21:37:46.062Z"
   },
   {
    "duration": 6,
    "start_time": "2024-07-12T21:38:35.699Z"
   },
   {
    "duration": 4,
    "start_time": "2024-07-12T21:39:30.441Z"
   },
   {
    "duration": 14,
    "start_time": "2024-07-12T21:40:15.742Z"
   },
   {
    "duration": 33,
    "start_time": "2024-07-12T21:41:17.500Z"
   },
   {
    "duration": 31,
    "start_time": "2024-07-12T21:41:38.629Z"
   },
   {
    "duration": 32,
    "start_time": "2024-07-12T21:41:42.222Z"
   },
   {
    "duration": 40,
    "start_time": "2024-07-12T21:42:04.165Z"
   },
   {
    "duration": 33,
    "start_time": "2024-07-12T21:42:13.462Z"
   },
   {
    "duration": 126,
    "start_time": "2024-07-12T21:42:47.175Z"
   },
   {
    "duration": 97,
    "start_time": "2024-07-12T21:43:03.152Z"
   },
   {
    "duration": 79,
    "start_time": "2024-07-12T21:46:02.161Z"
   },
   {
    "duration": 68,
    "start_time": "2024-07-12T21:47:04.189Z"
   },
   {
    "duration": 11,
    "start_time": "2024-07-12T21:47:08.261Z"
   },
   {
    "duration": 73,
    "start_time": "2024-07-12T21:47:22.993Z"
   },
   {
    "duration": 59,
    "start_time": "2024-07-12T21:48:42.206Z"
   },
   {
    "duration": 14,
    "start_time": "2024-07-13T00:57:10.745Z"
   },
   {
    "duration": 21,
    "start_time": "2024-07-13T01:37:07.562Z"
   },
   {
    "duration": 496,
    "start_time": "2024-07-13T16:45:51.720Z"
   },
   {
    "duration": 246,
    "start_time": "2024-07-13T16:46:17.204Z"
   },
   {
    "duration": 24,
    "start_time": "2024-07-13T16:46:49.841Z"
   },
   {
    "duration": 54,
    "start_time": "2024-07-13T16:49:32.016Z"
   },
   {
    "duration": 65,
    "start_time": "2024-07-13T16:53:49.841Z"
   },
   {
    "duration": 34,
    "start_time": "2024-07-13T16:54:19.755Z"
   },
   {
    "duration": 344,
    "start_time": "2024-07-13T16:55:34.417Z"
   },
   {
    "duration": 34,
    "start_time": "2024-07-13T16:55:42.328Z"
   },
   {
    "duration": 33,
    "start_time": "2024-07-13T16:57:59.149Z"
   },
   {
    "duration": 58,
    "start_time": "2024-07-13T16:58:13.725Z"
   },
   {
    "duration": 35,
    "start_time": "2024-07-13T16:58:49.651Z"
   },
   {
    "duration": 463,
    "start_time": "2024-07-13T17:01:23.241Z"
   },
   {
    "duration": 215,
    "start_time": "2024-07-13T17:01:23.708Z"
   },
   {
    "duration": 26,
    "start_time": "2024-07-13T17:01:23.926Z"
   },
   {
    "duration": 77,
    "start_time": "2024-07-13T17:01:23.955Z"
   },
   {
    "duration": 12,
    "start_time": "2024-07-13T17:01:24.037Z"
   },
   {
    "duration": 10,
    "start_time": "2024-07-13T17:01:24.053Z"
   },
   {
    "duration": 7,
    "start_time": "2024-07-13T17:01:24.067Z"
   },
   {
    "duration": 89,
    "start_time": "2024-07-13T17:01:24.078Z"
   },
   {
    "duration": 60,
    "start_time": "2024-07-13T17:01:24.171Z"
   },
   {
    "duration": 30,
    "start_time": "2024-07-13T17:01:24.234Z"
   },
   {
    "duration": 398,
    "start_time": "2024-07-13T17:01:24.268Z"
   },
   {
    "duration": 0,
    "start_time": "2024-07-13T17:01:24.670Z"
   },
   {
    "duration": 0,
    "start_time": "2024-07-13T17:01:24.673Z"
   },
   {
    "duration": 0,
    "start_time": "2024-07-13T17:01:24.676Z"
   },
   {
    "duration": 0,
    "start_time": "2024-07-13T17:01:24.679Z"
   },
   {
    "duration": 0,
    "start_time": "2024-07-13T17:01:24.682Z"
   },
   {
    "duration": 0,
    "start_time": "2024-07-13T17:01:24.684Z"
   },
   {
    "duration": 0,
    "start_time": "2024-07-13T17:01:24.686Z"
   },
   {
    "duration": 0,
    "start_time": "2024-07-13T17:01:24.689Z"
   },
   {
    "duration": 0,
    "start_time": "2024-07-13T17:01:24.691Z"
   },
   {
    "duration": 36,
    "start_time": "2024-07-13T17:01:24.693Z"
   },
   {
    "duration": 0,
    "start_time": "2024-07-13T17:01:24.732Z"
   },
   {
    "duration": 1,
    "start_time": "2024-07-13T17:01:24.733Z"
   },
   {
    "duration": 0,
    "start_time": "2024-07-13T17:01:24.735Z"
   },
   {
    "duration": 28,
    "start_time": "2024-07-13T17:10:20.926Z"
   },
   {
    "duration": 4,
    "start_time": "2024-07-13T17:10:50.424Z"
   },
   {
    "duration": 6,
    "start_time": "2024-07-13T17:10:58.710Z"
   },
   {
    "duration": 7,
    "start_time": "2024-07-14T00:01:33.726Z"
   },
   {
    "duration": 349,
    "start_time": "2024-07-14T00:01:51.109Z"
   },
   {
    "duration": 354,
    "start_time": "2024-07-14T00:04:30.507Z"
   },
   {
    "duration": 462,
    "start_time": "2024-07-14T00:04:40.963Z"
   },
   {
    "duration": 261,
    "start_time": "2024-07-14T00:04:44.719Z"
   },
   {
    "duration": 4,
    "start_time": "2024-07-14T00:04:50.124Z"
   },
   {
    "duration": 245,
    "start_time": "2024-07-14T00:04:50.133Z"
   },
   {
    "duration": 25,
    "start_time": "2024-07-14T00:04:50.381Z"
   },
   {
    "duration": 70,
    "start_time": "2024-07-14T00:04:50.409Z"
   },
   {
    "duration": 6,
    "start_time": "2024-07-14T00:04:50.483Z"
   },
   {
    "duration": 6,
    "start_time": "2024-07-14T00:04:50.492Z"
   },
   {
    "duration": 39,
    "start_time": "2024-07-14T00:04:50.501Z"
   },
   {
    "duration": 46,
    "start_time": "2024-07-14T00:04:50.543Z"
   },
   {
    "duration": 60,
    "start_time": "2024-07-14T00:04:50.592Z"
   },
   {
    "duration": 30,
    "start_time": "2024-07-14T00:04:50.656Z"
   },
   {
    "duration": 94,
    "start_time": "2024-07-14T00:04:50.689Z"
   },
   {
    "duration": 0,
    "start_time": "2024-07-14T00:04:50.788Z"
   },
   {
    "duration": 0,
    "start_time": "2024-07-14T00:04:50.789Z"
   },
   {
    "duration": 0,
    "start_time": "2024-07-14T00:04:50.791Z"
   },
   {
    "duration": 0,
    "start_time": "2024-07-14T00:04:50.792Z"
   },
   {
    "duration": 0,
    "start_time": "2024-07-14T00:04:50.794Z"
   },
   {
    "duration": 0,
    "start_time": "2024-07-14T00:04:50.796Z"
   },
   {
    "duration": 0,
    "start_time": "2024-07-14T00:04:50.798Z"
   },
   {
    "duration": 0,
    "start_time": "2024-07-14T00:04:50.800Z"
   },
   {
    "duration": 0,
    "start_time": "2024-07-14T00:04:50.802Z"
   },
   {
    "duration": 0,
    "start_time": "2024-07-14T00:04:50.805Z"
   },
   {
    "duration": 0,
    "start_time": "2024-07-14T00:04:50.831Z"
   },
   {
    "duration": 0,
    "start_time": "2024-07-14T00:04:50.833Z"
   },
   {
    "duration": 0,
    "start_time": "2024-07-14T00:04:50.839Z"
   },
   {
    "duration": 16,
    "start_time": "2024-07-14T00:05:04.928Z"
   },
   {
    "duration": 7,
    "start_time": "2024-07-14T00:05:48.955Z"
   },
   {
    "duration": 6,
    "start_time": "2024-07-14T00:05:55.660Z"
   },
   {
    "duration": 24,
    "start_time": "2024-07-14T00:06:29.243Z"
   },
   {
    "duration": 9,
    "start_time": "2024-07-14T00:06:33.207Z"
   },
   {
    "duration": 3,
    "start_time": "2024-07-14T00:06:51.223Z"
   },
   {
    "duration": 251,
    "start_time": "2024-07-14T00:06:53.203Z"
   },
   {
    "duration": 31,
    "start_time": "2024-07-14T00:06:55.314Z"
   },
   {
    "duration": 40,
    "start_time": "2024-07-14T00:07:00.899Z"
   },
   {
    "duration": 38,
    "start_time": "2024-07-14T00:07:04.786Z"
   },
   {
    "duration": 5,
    "start_time": "2024-07-14T00:07:13.863Z"
   },
   {
    "duration": 8,
    "start_time": "2024-07-14T00:07:39.999Z"
   },
   {
    "duration": 5,
    "start_time": "2024-07-14T00:07:42.363Z"
   },
   {
    "duration": 6,
    "start_time": "2024-07-14T00:09:12.463Z"
   },
   {
    "duration": 6,
    "start_time": "2024-07-14T00:10:19.684Z"
   },
   {
    "duration": 6,
    "start_time": "2024-07-14T00:10:24.002Z"
   },
   {
    "duration": 21,
    "start_time": "2024-07-14T00:10:26.800Z"
   },
   {
    "duration": 27,
    "start_time": "2024-07-14T00:10:45.283Z"
   },
   {
    "duration": 3,
    "start_time": "2024-07-14T00:18:11.837Z"
   },
   {
    "duration": 190,
    "start_time": "2024-07-14T00:18:14.703Z"
   },
   {
    "duration": 17,
    "start_time": "2024-07-14T00:18:19.774Z"
   },
   {
    "duration": 33,
    "start_time": "2024-07-14T00:18:33.477Z"
   },
   {
    "duration": 6,
    "start_time": "2024-07-14T00:18:53.383Z"
   },
   {
    "duration": 8,
    "start_time": "2024-07-14T00:19:02.314Z"
   },
   {
    "duration": 5,
    "start_time": "2024-07-14T00:19:05.050Z"
   },
   {
    "duration": 37,
    "start_time": "2024-07-14T00:19:14.337Z"
   },
   {
    "duration": 12,
    "start_time": "2024-07-14T01:07:35.491Z"
   },
   {
    "duration": 6,
    "start_time": "2024-07-14T01:08:12.022Z"
   },
   {
    "duration": 10,
    "start_time": "2024-07-14T01:10:17.186Z"
   },
   {
    "duration": 6,
    "start_time": "2024-07-14T01:10:21.118Z"
   },
   {
    "duration": 10,
    "start_time": "2024-07-14T01:13:36.841Z"
   },
   {
    "duration": 6,
    "start_time": "2024-07-14T01:13:39.426Z"
   },
   {
    "duration": 10,
    "start_time": "2024-07-14T01:13:49.449Z"
   },
   {
    "duration": 6,
    "start_time": "2024-07-14T01:14:11.418Z"
   },
   {
    "duration": 39,
    "start_time": "2024-07-14T01:20:56.025Z"
   },
   {
    "duration": 30,
    "start_time": "2024-07-14T01:21:08.792Z"
   },
   {
    "duration": 40,
    "start_time": "2024-07-14T01:23:41.129Z"
   },
   {
    "duration": 36,
    "start_time": "2024-07-14T01:23:54.858Z"
   },
   {
    "duration": 32,
    "start_time": "2024-07-14T01:31:59.521Z"
   },
   {
    "duration": 47,
    "start_time": "2024-07-14T01:34:35.366Z"
   },
   {
    "duration": 71,
    "start_time": "2024-07-14T01:34:48.219Z"
   },
   {
    "duration": 64,
    "start_time": "2024-07-14T01:35:08.811Z"
   },
   {
    "duration": 36,
    "start_time": "2024-07-14T01:35:22.269Z"
   },
   {
    "duration": 33,
    "start_time": "2024-07-14T03:31:32.860Z"
   },
   {
    "duration": 38,
    "start_time": "2024-07-14T03:31:36.025Z"
   },
   {
    "duration": 318,
    "start_time": "2024-07-14T16:26:40.754Z"
   },
   {
    "duration": 454,
    "start_time": "2024-07-14T16:27:08.220Z"
   },
   {
    "duration": 230,
    "start_time": "2024-07-14T16:27:10.527Z"
   },
   {
    "duration": 25,
    "start_time": "2024-07-14T16:27:12.535Z"
   },
   {
    "duration": 35,
    "start_time": "2024-07-14T16:27:17.272Z"
   },
   {
    "duration": 6,
    "start_time": "2024-07-14T16:27:23.246Z"
   },
   {
    "duration": 10,
    "start_time": "2024-07-14T16:27:28.665Z"
   },
   {
    "duration": 7,
    "start_time": "2024-07-14T16:27:30.908Z"
   },
   {
    "duration": 32,
    "start_time": "2024-07-14T16:27:36.472Z"
   },
   {
    "duration": 881,
    "start_time": "2024-07-14T16:27:40.382Z"
   },
   {
    "duration": 10,
    "start_time": "2024-07-14T16:28:43.611Z"
   },
   {
    "duration": 86,
    "start_time": "2024-07-14T16:29:23.127Z"
   },
   {
    "duration": 10,
    "start_time": "2024-07-14T16:29:42.299Z"
   },
   {
    "duration": 30,
    "start_time": "2024-07-14T16:29:45.469Z"
   },
   {
    "duration": 20,
    "start_time": "2024-07-14T16:30:38.402Z"
   },
   {
    "duration": 26,
    "start_time": "2024-07-14T16:31:25.534Z"
   },
   {
    "duration": 38,
    "start_time": "2024-07-14T16:31:27.980Z"
   },
   {
    "duration": 34,
    "start_time": "2024-07-14T16:31:47.470Z"
   },
   {
    "duration": 24,
    "start_time": "2024-07-14T16:31:55.582Z"
   },
   {
    "duration": 35,
    "start_time": "2024-07-14T16:31:59.396Z"
   },
   {
    "duration": 22,
    "start_time": "2024-07-14T16:32:08.040Z"
   },
   {
    "duration": 40,
    "start_time": "2024-07-14T16:50:46.114Z"
   },
   {
    "duration": 68,
    "start_time": "2024-07-14T16:50:59.308Z"
   },
   {
    "duration": 34,
    "start_time": "2024-07-14T16:51:03.646Z"
   },
   {
    "duration": 33,
    "start_time": "2024-07-14T16:51:15.127Z"
   },
   {
    "duration": 22,
    "start_time": "2024-07-14T16:51:23.026Z"
   },
   {
    "duration": 4,
    "start_time": "2024-07-14T16:52:08.960Z"
   },
   {
    "duration": 37,
    "start_time": "2024-07-14T16:54:13.533Z"
   },
   {
    "duration": 4,
    "start_time": "2024-07-14T16:57:18.713Z"
   },
   {
    "duration": 13,
    "start_time": "2024-07-14T16:57:43.022Z"
   },
   {
    "duration": 4,
    "start_time": "2024-07-14T17:02:53.718Z"
   },
   {
    "duration": 12,
    "start_time": "2024-07-14T17:03:03.179Z"
   },
   {
    "duration": 102,
    "start_time": "2024-07-14T17:03:31.546Z"
   },
   {
    "duration": 122,
    "start_time": "2024-07-14T17:04:13.215Z"
   },
   {
    "duration": 91,
    "start_time": "2024-07-14T17:04:52.118Z"
   },
   {
    "duration": 91,
    "start_time": "2024-07-14T17:05:00.605Z"
   },
   {
    "duration": 96,
    "start_time": "2024-07-14T17:05:11.675Z"
   },
   {
    "duration": 3,
    "start_time": "2024-07-14T17:05:23.067Z"
   },
   {
    "duration": 196,
    "start_time": "2024-07-14T17:05:23.074Z"
   },
   {
    "duration": 35,
    "start_time": "2024-07-14T17:05:23.274Z"
   },
   {
    "duration": 39,
    "start_time": "2024-07-14T17:05:23.312Z"
   },
   {
    "duration": 7,
    "start_time": "2024-07-14T17:05:23.354Z"
   },
   {
    "duration": 47,
    "start_time": "2024-07-14T17:05:23.364Z"
   },
   {
    "duration": 6,
    "start_time": "2024-07-14T17:05:23.414Z"
   },
   {
    "duration": 28,
    "start_time": "2024-07-14T17:05:23.424Z"
   },
   {
    "duration": 67,
    "start_time": "2024-07-14T17:05:23.456Z"
   },
   {
    "duration": 25,
    "start_time": "2024-07-14T17:05:23.527Z"
   },
   {
    "duration": 98,
    "start_time": "2024-07-14T17:05:23.558Z"
   },
   {
    "duration": 93,
    "start_time": "2024-07-14T17:05:23.661Z"
   },
   {
    "duration": 84,
    "start_time": "2024-07-14T17:05:23.758Z"
   },
   {
    "duration": 67,
    "start_time": "2024-07-14T17:05:23.846Z"
   },
   {
    "duration": 13,
    "start_time": "2024-07-14T17:05:23.916Z"
   },
   {
    "duration": 19,
    "start_time": "2024-07-14T17:05:23.932Z"
   },
   {
    "duration": 4,
    "start_time": "2024-07-14T17:05:23.954Z"
   },
   {
    "duration": 49,
    "start_time": "2024-07-14T17:05:23.961Z"
   },
   {
    "duration": 3,
    "start_time": "2024-07-14T17:05:24.014Z"
   },
   {
    "duration": 4,
    "start_time": "2024-07-14T17:05:24.020Z"
   },
   {
    "duration": 4,
    "start_time": "2024-07-14T17:05:24.027Z"
   },
   {
    "duration": 6,
    "start_time": "2024-07-14T17:05:24.034Z"
   },
   {
    "duration": 5,
    "start_time": "2024-07-14T17:05:24.043Z"
   },
   {
    "duration": 57,
    "start_time": "2024-07-14T17:05:24.052Z"
   },
   {
    "duration": 77,
    "start_time": "2024-07-14T17:28:50.222Z"
   },
   {
    "duration": 54,
    "start_time": "2024-07-14T17:32:02.071Z"
   },
   {
    "duration": 68,
    "start_time": "2024-07-14T17:32:19.206Z"
   },
   {
    "duration": 60,
    "start_time": "2024-07-14T17:32:39.006Z"
   },
   {
    "duration": 11,
    "start_time": "2024-07-14T17:34:47.980Z"
   },
   {
    "duration": 12,
    "start_time": "2024-07-14T17:34:52.154Z"
   },
   {
    "duration": 11,
    "start_time": "2024-07-14T17:35:10.007Z"
   },
   {
    "duration": 10,
    "start_time": "2024-07-14T17:49:50.687Z"
   },
   {
    "duration": 8,
    "start_time": "2024-07-14T17:55:27.754Z"
   },
   {
    "duration": 5,
    "start_time": "2024-07-14T17:55:32.259Z"
   },
   {
    "duration": 6,
    "start_time": "2024-07-14T17:55:41.970Z"
   },
   {
    "duration": 6,
    "start_time": "2024-07-14T17:55:48.451Z"
   },
   {
    "duration": 5,
    "start_time": "2024-07-14T17:55:57.301Z"
   },
   {
    "duration": 7,
    "start_time": "2024-07-14T17:56:37.635Z"
   },
   {
    "duration": 7,
    "start_time": "2024-07-14T17:56:49.275Z"
   },
   {
    "duration": 8,
    "start_time": "2024-07-14T17:56:59.346Z"
   },
   {
    "duration": 5,
    "start_time": "2024-07-14T17:57:05.479Z"
   },
   {
    "duration": 4,
    "start_time": "2024-07-14T17:57:08.271Z"
   },
   {
    "duration": 11,
    "start_time": "2024-07-14T17:57:51.522Z"
   },
   {
    "duration": 16,
    "start_time": "2024-07-14T17:59:43.855Z"
   },
   {
    "duration": 18,
    "start_time": "2024-07-14T18:00:30.551Z"
   },
   {
    "duration": 14,
    "start_time": "2024-07-14T18:01:21.815Z"
   },
   {
    "duration": 5,
    "start_time": "2024-07-14T18:05:52.760Z"
   },
   {
    "duration": 5,
    "start_time": "2024-07-14T18:06:06.454Z"
   },
   {
    "duration": 89,
    "start_time": "2024-07-14T18:06:31.679Z"
   },
   {
    "duration": 101,
    "start_time": "2024-07-14T18:06:56.119Z"
   },
   {
    "duration": 6,
    "start_time": "2024-07-14T18:07:06.902Z"
   },
   {
    "duration": 7,
    "start_time": "2024-07-14T18:08:01.270Z"
   },
   {
    "duration": 6,
    "start_time": "2024-07-14T18:09:01.492Z"
   },
   {
    "duration": 203,
    "start_time": "2024-07-14T18:23:07.578Z"
   },
   {
    "duration": 211,
    "start_time": "2024-07-14T18:23:16.171Z"
   },
   {
    "duration": 18,
    "start_time": "2024-07-14T18:23:34.234Z"
   },
   {
    "duration": 4,
    "start_time": "2024-07-14T18:23:37.027Z"
   },
   {
    "duration": 209,
    "start_time": "2024-07-14T18:23:37.038Z"
   },
   {
    "duration": 17,
    "start_time": "2024-07-14T18:23:37.251Z"
   },
   {
    "duration": 61,
    "start_time": "2024-07-14T18:23:37.271Z"
   },
   {
    "duration": 7,
    "start_time": "2024-07-14T18:23:37.336Z"
   },
   {
    "duration": 9,
    "start_time": "2024-07-14T18:23:37.350Z"
   },
   {
    "duration": 11,
    "start_time": "2024-07-14T18:23:37.362Z"
   },
   {
    "duration": 32,
    "start_time": "2024-07-14T18:23:37.408Z"
   },
   {
    "duration": 37,
    "start_time": "2024-07-14T18:23:37.443Z"
   },
   {
    "duration": 47,
    "start_time": "2024-07-14T18:23:37.484Z"
   },
   {
    "duration": 87,
    "start_time": "2024-07-14T18:23:37.534Z"
   },
   {
    "duration": 66,
    "start_time": "2024-07-14T18:23:37.624Z"
   },
   {
    "duration": 70,
    "start_time": "2024-07-14T18:23:37.709Z"
   },
   {
    "duration": 67,
    "start_time": "2024-07-14T18:23:37.782Z"
   },
   {
    "duration": 12,
    "start_time": "2024-07-14T18:23:37.854Z"
   },
   {
    "duration": 7,
    "start_time": "2024-07-14T18:23:37.869Z"
   },
   {
    "duration": 0,
    "start_time": "2024-07-14T18:23:37.879Z"
   },
   {
    "duration": 0,
    "start_time": "2024-07-14T18:23:37.908Z"
   },
   {
    "duration": 0,
    "start_time": "2024-07-14T18:23:37.910Z"
   },
   {
    "duration": 0,
    "start_time": "2024-07-14T18:23:37.912Z"
   },
   {
    "duration": 0,
    "start_time": "2024-07-14T18:23:37.916Z"
   },
   {
    "duration": 0,
    "start_time": "2024-07-14T18:23:37.918Z"
   },
   {
    "duration": 0,
    "start_time": "2024-07-14T18:23:37.920Z"
   },
   {
    "duration": 0,
    "start_time": "2024-07-14T18:23:37.923Z"
   },
   {
    "duration": 32,
    "start_time": "2024-07-14T18:24:19.918Z"
   },
   {
    "duration": 31,
    "start_time": "2024-07-14T18:24:34.112Z"
   },
   {
    "duration": 3,
    "start_time": "2024-07-14T18:24:55.274Z"
   },
   {
    "duration": 233,
    "start_time": "2024-07-14T18:24:55.282Z"
   },
   {
    "duration": 20,
    "start_time": "2024-07-14T18:24:55.519Z"
   },
   {
    "duration": 35,
    "start_time": "2024-07-14T18:24:55.542Z"
   },
   {
    "duration": 32,
    "start_time": "2024-07-14T18:24:55.581Z"
   },
   {
    "duration": 9,
    "start_time": "2024-07-14T18:24:55.616Z"
   },
   {
    "duration": 6,
    "start_time": "2024-07-14T18:24:55.628Z"
   },
   {
    "duration": 70,
    "start_time": "2024-07-14T18:24:55.638Z"
   },
   {
    "duration": 40,
    "start_time": "2024-07-14T18:24:55.711Z"
   },
   {
    "duration": 25,
    "start_time": "2024-07-14T18:24:55.754Z"
   },
   {
    "duration": 63,
    "start_time": "2024-07-14T18:24:55.808Z"
   },
   {
    "duration": 82,
    "start_time": "2024-07-14T18:24:55.874Z"
   },
   {
    "duration": 84,
    "start_time": "2024-07-14T18:24:55.959Z"
   },
   {
    "duration": 62,
    "start_time": "2024-07-14T18:24:56.046Z"
   },
   {
    "duration": 12,
    "start_time": "2024-07-14T18:24:56.111Z"
   },
   {
    "duration": 6,
    "start_time": "2024-07-14T18:24:56.127Z"
   },
   {
    "duration": 0,
    "start_time": "2024-07-14T18:24:56.136Z"
   },
   {
    "duration": 0,
    "start_time": "2024-07-14T18:24:56.138Z"
   },
   {
    "duration": 0,
    "start_time": "2024-07-14T18:24:56.140Z"
   },
   {
    "duration": 0,
    "start_time": "2024-07-14T18:24:56.141Z"
   },
   {
    "duration": 0,
    "start_time": "2024-07-14T18:24:56.143Z"
   },
   {
    "duration": 0,
    "start_time": "2024-07-14T18:24:56.146Z"
   },
   {
    "duration": 0,
    "start_time": "2024-07-14T18:24:56.150Z"
   },
   {
    "duration": 0,
    "start_time": "2024-07-14T18:24:56.152Z"
   },
   {
    "duration": 3,
    "start_time": "2024-07-14T18:25:09.444Z"
   },
   {
    "duration": 209,
    "start_time": "2024-07-14T18:25:12.051Z"
   },
   {
    "duration": 17,
    "start_time": "2024-07-14T18:25:18.552Z"
   },
   {
    "duration": 34,
    "start_time": "2024-07-14T18:25:26.356Z"
   },
   {
    "duration": 7,
    "start_time": "2024-07-14T18:25:34.567Z"
   },
   {
    "duration": 7,
    "start_time": "2024-07-14T18:25:54.766Z"
   },
   {
    "duration": 23,
    "start_time": "2024-07-14T18:26:00.361Z"
   },
   {
    "duration": 5,
    "start_time": "2024-07-14T18:26:15.483Z"
   },
   {
    "duration": 33,
    "start_time": "2024-07-14T18:26:25.902Z"
   },
   {
    "duration": 6,
    "start_time": "2024-07-14T18:27:25.735Z"
   },
   {
    "duration": 6,
    "start_time": "2024-07-14T18:27:39.459Z"
   },
   {
    "duration": 9,
    "start_time": "2024-07-14T18:28:00.118Z"
   },
   {
    "duration": 28,
    "start_time": "2024-07-14T18:28:06.778Z"
   },
   {
    "duration": 6,
    "start_time": "2024-07-14T18:28:19.511Z"
   },
   {
    "duration": 29,
    "start_time": "2024-07-14T18:30:50.387Z"
   },
   {
    "duration": 46,
    "start_time": "2024-07-14T18:31:46.771Z"
   },
   {
    "duration": 25,
    "start_time": "2024-07-14T18:32:17.772Z"
   },
   {
    "duration": 78,
    "start_time": "2024-07-14T18:33:38.299Z"
   },
   {
    "duration": 62,
    "start_time": "2024-07-14T18:33:43.246Z"
   },
   {
    "duration": 61,
    "start_time": "2024-07-14T18:33:59.294Z"
   },
   {
    "duration": 27,
    "start_time": "2024-07-14T18:34:38.210Z"
   },
   {
    "duration": 19,
    "start_time": "2024-07-14T18:34:42.662Z"
   },
   {
    "duration": 116,
    "start_time": "2024-07-14T18:35:13.784Z"
   },
   {
    "duration": 96,
    "start_time": "2024-07-14T18:37:35.494Z"
   },
   {
    "duration": 86,
    "start_time": "2024-07-14T18:38:00.099Z"
   },
   {
    "duration": 69,
    "start_time": "2024-07-14T18:38:19.487Z"
   },
   {
    "duration": 69,
    "start_time": "2024-07-14T18:38:31.370Z"
   },
   {
    "duration": 5,
    "start_time": "2024-07-14T18:39:10.515Z"
   },
   {
    "duration": 51,
    "start_time": "2024-07-14T18:39:19.839Z"
   },
   {
    "duration": 7,
    "start_time": "2024-07-14T18:41:37.218Z"
   },
   {
    "duration": 9,
    "start_time": "2024-07-14T18:42:18.533Z"
   },
   {
    "duration": 76,
    "start_time": "2024-07-14T18:45:16.091Z"
   },
   {
    "duration": 75,
    "start_time": "2024-07-14T18:46:15.434Z"
   },
   {
    "duration": 105,
    "start_time": "2024-07-14T18:46:27.590Z"
   },
   {
    "duration": 7,
    "start_time": "2024-07-14T18:51:36.327Z"
   },
   {
    "duration": 6,
    "start_time": "2024-07-14T18:51:43.226Z"
   },
   {
    "duration": 75,
    "start_time": "2024-07-14T18:51:47.059Z"
   },
   {
    "duration": 76,
    "start_time": "2024-07-14T18:51:58.467Z"
   },
   {
    "duration": 77,
    "start_time": "2024-07-14T18:52:14.058Z"
   },
   {
    "duration": 87,
    "start_time": "2024-07-14T18:52:26.515Z"
   },
   {
    "duration": 76,
    "start_time": "2024-07-14T18:54:15.934Z"
   },
   {
    "duration": 81,
    "start_time": "2024-07-14T18:54:32.850Z"
   },
   {
    "duration": 79,
    "start_time": "2024-07-14T18:54:43.426Z"
   },
   {
    "duration": 74,
    "start_time": "2024-07-14T18:55:04.094Z"
   },
   {
    "duration": 72,
    "start_time": "2024-07-14T18:58:57.207Z"
   },
   {
    "duration": 86,
    "start_time": "2024-07-14T18:59:16.415Z"
   },
   {
    "duration": 7,
    "start_time": "2024-07-14T19:03:40.971Z"
   },
   {
    "duration": 7,
    "start_time": "2024-07-14T19:05:02.370Z"
   },
   {
    "duration": 9,
    "start_time": "2024-07-14T19:05:15.226Z"
   },
   {
    "duration": 5,
    "start_time": "2024-07-14T19:07:21.670Z"
   },
   {
    "duration": 26,
    "start_time": "2024-07-14T19:07:29.246Z"
   },
   {
    "duration": 9,
    "start_time": "2024-07-14T19:07:42.316Z"
   },
   {
    "duration": 10,
    "start_time": "2024-07-14T19:07:47.397Z"
   },
   {
    "duration": 8,
    "start_time": "2024-07-14T19:08:58.616Z"
   },
   {
    "duration": 5,
    "start_time": "2024-07-14T19:09:40.818Z"
   },
   {
    "duration": 7,
    "start_time": "2024-07-14T19:09:56.875Z"
   },
   {
    "duration": 7,
    "start_time": "2024-07-14T19:10:08.012Z"
   },
   {
    "duration": 6,
    "start_time": "2024-07-14T19:15:02.768Z"
   },
   {
    "duration": 12,
    "start_time": "2024-07-14T19:15:14.712Z"
   },
   {
    "duration": 5,
    "start_time": "2024-07-14T19:15:20.075Z"
   },
   {
    "duration": 10,
    "start_time": "2024-07-14T19:15:31.896Z"
   },
   {
    "duration": 6,
    "start_time": "2024-07-14T19:32:41.375Z"
   },
   {
    "duration": 8,
    "start_time": "2024-07-14T19:33:45.893Z"
   },
   {
    "duration": 6,
    "start_time": "2024-07-14T19:33:52.025Z"
   },
   {
    "duration": 801,
    "start_time": "2024-07-14T19:36:15.138Z"
   },
   {
    "duration": 3,
    "start_time": "2024-07-14T23:08:32.535Z"
   },
   {
    "duration": 4,
    "start_time": "2024-07-14T23:33:59.703Z"
   },
   {
    "duration": 5,
    "start_time": "2024-07-14T23:34:12.446Z"
   },
   {
    "duration": 5,
    "start_time": "2024-07-14T23:36:25.774Z"
   },
   {
    "duration": 7,
    "start_time": "2024-07-14T23:36:33.878Z"
   },
   {
    "duration": 4,
    "start_time": "2024-07-14T23:39:44.927Z"
   },
   {
    "duration": 3,
    "start_time": "2024-07-14T23:39:51.956Z"
   },
   {
    "duration": 4,
    "start_time": "2024-07-14T23:39:55.358Z"
   },
   {
    "duration": 24,
    "start_time": "2024-07-14T23:40:12.042Z"
   },
   {
    "duration": 5,
    "start_time": "2024-07-14T23:40:31.782Z"
   },
   {
    "duration": 6,
    "start_time": "2024-07-14T23:40:37.418Z"
   },
   {
    "duration": 7,
    "start_time": "2024-07-14T23:40:39.214Z"
   },
   {
    "duration": 4,
    "start_time": "2024-07-14T23:40:51.239Z"
   },
   {
    "duration": 8,
    "start_time": "2024-07-14T23:40:54.605Z"
   },
   {
    "duration": 4,
    "start_time": "2024-07-14T23:47:50.039Z"
   },
   {
    "duration": 4,
    "start_time": "2024-07-14T23:49:46.623Z"
   },
   {
    "duration": 5,
    "start_time": "2024-07-14T23:50:07.294Z"
   },
   {
    "duration": 6,
    "start_time": "2024-07-14T23:50:15.728Z"
   },
   {
    "duration": 96,
    "start_time": "2024-07-15T00:11:52.205Z"
   },
   {
    "duration": 54,
    "start_time": "2024-07-15T00:12:03.842Z"
   },
   {
    "duration": 10,
    "start_time": "2024-07-15T00:13:04.467Z"
   },
   {
    "duration": 5,
    "start_time": "2024-07-15T00:16:28.574Z"
   },
   {
    "duration": 7,
    "start_time": "2024-07-15T00:29:11.243Z"
   },
   {
    "duration": 6,
    "start_time": "2024-07-15T00:29:18.569Z"
   },
   {
    "duration": 5,
    "start_time": "2024-07-15T00:29:28.654Z"
   },
   {
    "duration": 5,
    "start_time": "2024-07-15T00:29:57.830Z"
   },
   {
    "duration": 6,
    "start_time": "2024-07-15T00:30:11.418Z"
   },
   {
    "duration": 34,
    "start_time": "2024-07-15T00:30:39.931Z"
   },
   {
    "duration": 7,
    "start_time": "2024-07-15T00:45:26.378Z"
   },
   {
    "duration": 5,
    "start_time": "2024-07-15T00:45:44.675Z"
   },
   {
    "duration": 6,
    "start_time": "2024-07-15T00:45:50.654Z"
   },
   {
    "duration": 5,
    "start_time": "2024-07-15T00:45:52.718Z"
   },
   {
    "duration": 5,
    "start_time": "2024-07-15T00:48:00.164Z"
   },
   {
    "duration": 3,
    "start_time": "2024-07-15T00:48:10.519Z"
   },
   {
    "duration": 5,
    "start_time": "2024-07-15T00:48:44.935Z"
   },
   {
    "duration": 6,
    "start_time": "2024-07-15T00:48:48.588Z"
   },
   {
    "duration": 3,
    "start_time": "2024-07-15T00:48:53.642Z"
   },
   {
    "duration": 5,
    "start_time": "2024-07-15T00:50:04.402Z"
   },
   {
    "duration": 3,
    "start_time": "2024-07-15T00:50:17.550Z"
   },
   {
    "duration": 225,
    "start_time": "2024-07-15T00:50:17.557Z"
   },
   {
    "duration": 27,
    "start_time": "2024-07-15T00:50:17.785Z"
   },
   {
    "duration": 34,
    "start_time": "2024-07-15T00:50:17.815Z"
   },
   {
    "duration": 5,
    "start_time": "2024-07-15T00:50:17.854Z"
   },
   {
    "duration": 67,
    "start_time": "2024-07-15T00:50:17.862Z"
   },
   {
    "duration": 7,
    "start_time": "2024-07-15T00:50:17.932Z"
   },
   {
    "duration": 30,
    "start_time": "2024-07-15T00:50:17.942Z"
   },
   {
    "duration": 80,
    "start_time": "2024-07-15T00:50:17.976Z"
   },
   {
    "duration": 26,
    "start_time": "2024-07-15T00:50:18.058Z"
   },
   {
    "duration": 83,
    "start_time": "2024-07-15T00:50:18.086Z"
   },
   {
    "duration": 108,
    "start_time": "2024-07-15T00:50:18.173Z"
   },
   {
    "duration": 88,
    "start_time": "2024-07-15T00:50:18.284Z"
   },
   {
    "duration": 69,
    "start_time": "2024-07-15T00:50:18.378Z"
   },
   {
    "duration": 103,
    "start_time": "2024-07-15T00:50:18.450Z"
   },
   {
    "duration": 3,
    "start_time": "2024-07-15T00:50:18.556Z"
   },
   {
    "duration": 4,
    "start_time": "2024-07-15T00:50:18.563Z"
   },
   {
    "duration": 4,
    "start_time": "2024-07-15T00:50:18.570Z"
   },
   {
    "duration": 34,
    "start_time": "2024-07-15T00:50:18.576Z"
   },
   {
    "duration": 4,
    "start_time": "2024-07-15T00:50:18.612Z"
   },
   {
    "duration": 5,
    "start_time": "2024-07-15T00:50:18.620Z"
   },
   {
    "duration": 7,
    "start_time": "2024-07-15T00:50:18.628Z"
   },
   {
    "duration": 5,
    "start_time": "2024-07-15T00:50:18.639Z"
   },
   {
    "duration": 4,
    "start_time": "2024-07-15T00:50:18.649Z"
   },
   {
    "duration": 4,
    "start_time": "2024-07-15T00:50:35.415Z"
   },
   {
    "duration": 216,
    "start_time": "2024-07-15T00:50:37.635Z"
   },
   {
    "duration": 18,
    "start_time": "2024-07-15T00:50:42.964Z"
   },
   {
    "duration": 35,
    "start_time": "2024-07-15T00:50:48.041Z"
   },
   {
    "duration": 6,
    "start_time": "2024-07-15T00:50:54.976Z"
   },
   {
    "duration": 25,
    "start_time": "2024-07-15T00:51:00.063Z"
   },
   {
    "duration": 6,
    "start_time": "2024-07-15T00:51:47.751Z"
   },
   {
    "duration": 30,
    "start_time": "2024-07-15T00:51:51.101Z"
   },
   {
    "duration": 49,
    "start_time": "2024-07-15T00:51:57.182Z"
   },
   {
    "duration": 25,
    "start_time": "2024-07-15T00:52:04.151Z"
   },
   {
    "duration": 66,
    "start_time": "2024-07-15T00:52:13.033Z"
   },
   {
    "duration": 91,
    "start_time": "2024-07-15T00:52:18.060Z"
   },
   {
    "duration": 91,
    "start_time": "2024-07-15T00:52:26.698Z"
   },
   {
    "duration": 56,
    "start_time": "2024-07-15T00:52:33.731Z"
   },
   {
    "duration": 96,
    "start_time": "2024-07-15T00:52:44.185Z"
   },
   {
    "duration": 7,
    "start_time": "2024-07-15T01:09:49.698Z"
   },
   {
    "duration": 5,
    "start_time": "2024-07-15T01:10:02.498Z"
   },
   {
    "duration": 4,
    "start_time": "2024-07-15T01:10:02.554Z"
   },
   {
    "duration": 6,
    "start_time": "2024-07-15T01:10:07.635Z"
   },
   {
    "duration": 5,
    "start_time": "2024-07-15T01:10:16.079Z"
   },
   {
    "duration": 5,
    "start_time": "2024-07-15T01:10:19.639Z"
   },
   {
    "duration": 5,
    "start_time": "2024-07-15T01:11:35.691Z"
   },
   {
    "duration": 5,
    "start_time": "2024-07-15T01:11:54.754Z"
   },
   {
    "duration": 9,
    "start_time": "2024-07-15T01:11:57.529Z"
   },
   {
    "duration": 431,
    "start_time": "2024-07-15T14:39:11.168Z"
   },
   {
    "duration": 268,
    "start_time": "2024-07-15T14:39:11.603Z"
   },
   {
    "duration": 19,
    "start_time": "2024-07-15T14:39:11.874Z"
   },
   {
    "duration": 51,
    "start_time": "2024-07-15T14:39:11.898Z"
   },
   {
    "duration": 7,
    "start_time": "2024-07-15T14:39:11.952Z"
   },
   {
    "duration": 59,
    "start_time": "2024-07-15T14:39:11.963Z"
   },
   {
    "duration": 6,
    "start_time": "2024-07-15T14:39:12.025Z"
   },
   {
    "duration": 29,
    "start_time": "2024-07-15T14:39:12.034Z"
   },
   {
    "duration": 82,
    "start_time": "2024-07-15T14:39:12.066Z"
   },
   {
    "duration": 25,
    "start_time": "2024-07-15T14:39:12.154Z"
   },
   {
    "duration": 96,
    "start_time": "2024-07-15T14:39:12.181Z"
   },
   {
    "duration": 110,
    "start_time": "2024-07-15T14:39:12.281Z"
   },
   {
    "duration": 96,
    "start_time": "2024-07-15T14:39:12.393Z"
   },
   {
    "duration": 59,
    "start_time": "2024-07-15T14:39:12.492Z"
   },
   {
    "duration": 101,
    "start_time": "2024-07-15T14:39:12.554Z"
   },
   {
    "duration": 5,
    "start_time": "2024-07-15T14:39:12.658Z"
   },
   {
    "duration": 4,
    "start_time": "2024-07-15T14:39:12.666Z"
   },
   {
    "duration": 4,
    "start_time": "2024-07-15T14:39:12.673Z"
   },
   {
    "duration": 44,
    "start_time": "2024-07-15T14:39:12.681Z"
   },
   {
    "duration": 4,
    "start_time": "2024-07-15T14:39:12.727Z"
   },
   {
    "duration": 4,
    "start_time": "2024-07-15T14:39:12.734Z"
   },
   {
    "duration": 3,
    "start_time": "2024-07-15T14:39:12.741Z"
   },
   {
    "duration": 3,
    "start_time": "2024-07-15T14:39:12.748Z"
   },
   {
    "duration": 4,
    "start_time": "2024-07-15T14:39:12.755Z"
   },
   {
    "duration": 7,
    "start_time": "2024-07-15T14:43:06.484Z"
   },
   {
    "duration": 396,
    "start_time": "2024-07-15T14:43:16.332Z"
   },
   {
    "duration": 7,
    "start_time": "2024-07-15T15:09:22.404Z"
   },
   {
    "duration": 8,
    "start_time": "2024-07-15T15:10:35.808Z"
   },
   {
    "duration": 7,
    "start_time": "2024-07-15T15:10:49.425Z"
   },
   {
    "duration": 8,
    "start_time": "2024-07-15T15:17:07.632Z"
   },
   {
    "duration": 7,
    "start_time": "2024-07-15T15:17:33.476Z"
   },
   {
    "duration": 5,
    "start_time": "2024-07-15T15:17:43.229Z"
   },
   {
    "duration": 11,
    "start_time": "2024-07-15T15:18:16.980Z"
   },
   {
    "duration": 4,
    "start_time": "2024-07-15T15:19:00.348Z"
   },
   {
    "duration": 9,
    "start_time": "2024-07-15T15:19:16.690Z"
   },
   {
    "duration": 25,
    "start_time": "2024-07-15T15:20:17.098Z"
   },
   {
    "duration": 29,
    "start_time": "2024-07-15T15:20:27.928Z"
   },
   {
    "duration": 10,
    "start_time": "2024-07-15T15:20:51.801Z"
   },
   {
    "duration": 11,
    "start_time": "2024-07-15T15:22:19.865Z"
   },
   {
    "duration": 5,
    "start_time": "2024-07-15T15:26:27.498Z"
   },
   {
    "duration": 11,
    "start_time": "2024-07-15T15:26:43.112Z"
   },
   {
    "duration": 14,
    "start_time": "2024-07-15T15:30:33.704Z"
   },
   {
    "duration": 6,
    "start_time": "2024-07-15T15:31:05.058Z"
   },
   {
    "duration": 8,
    "start_time": "2024-07-15T15:31:21.008Z"
   },
   {
    "duration": 6,
    "start_time": "2024-07-15T15:31:29.736Z"
   },
   {
    "duration": 5,
    "start_time": "2024-07-15T15:31:42.321Z"
   },
   {
    "duration": 5,
    "start_time": "2024-07-15T15:33:25.285Z"
   },
   {
    "duration": 6,
    "start_time": "2024-07-15T15:33:27.712Z"
   },
   {
    "duration": 6,
    "start_time": "2024-07-15T15:33:32.956Z"
   },
   {
    "duration": 6,
    "start_time": "2024-07-15T15:33:35.936Z"
   },
   {
    "duration": 8,
    "start_time": "2024-07-15T15:38:11.532Z"
   },
   {
    "duration": 5,
    "start_time": "2024-07-15T15:39:29.117Z"
   },
   {
    "duration": 6,
    "start_time": "2024-07-15T15:39:41.481Z"
   },
   {
    "duration": 7,
    "start_time": "2024-07-15T15:48:28.374Z"
   },
   {
    "duration": 4,
    "start_time": "2024-07-15T15:48:34.462Z"
   },
   {
    "duration": 4,
    "start_time": "2024-07-15T15:48:45.664Z"
   },
   {
    "duration": 4,
    "start_time": "2024-07-15T15:52:45.662Z"
   },
   {
    "duration": 28,
    "start_time": "2024-07-15T15:52:49.676Z"
   },
   {
    "duration": 5,
    "start_time": "2024-07-15T15:53:08.224Z"
   },
   {
    "duration": 4,
    "start_time": "2024-07-15T15:53:13.751Z"
   },
   {
    "duration": 5,
    "start_time": "2024-07-15T15:53:22.826Z"
   },
   {
    "duration": 5,
    "start_time": "2024-07-15T15:53:27.254Z"
   },
   {
    "duration": 19,
    "start_time": "2024-07-15T15:53:33.829Z"
   },
   {
    "duration": 4,
    "start_time": "2024-07-15T15:54:54.475Z"
   },
   {
    "duration": 4,
    "start_time": "2024-07-15T15:55:03.695Z"
   },
   {
    "duration": 7,
    "start_time": "2024-07-15T15:55:10.390Z"
   },
   {
    "duration": 8,
    "start_time": "2024-07-15T15:55:16.864Z"
   },
   {
    "duration": 7,
    "start_time": "2024-07-15T17:34:41.032Z"
   },
   {
    "duration": 6,
    "start_time": "2024-07-15T17:34:44.140Z"
   },
   {
    "duration": 4,
    "start_time": "2024-07-15T17:34:50.950Z"
   },
   {
    "duration": 5,
    "start_time": "2024-07-15T17:34:58.539Z"
   },
   {
    "duration": 8,
    "start_time": "2024-07-15T17:35:02.152Z"
   },
   {
    "duration": 8,
    "start_time": "2024-07-15T17:36:35.478Z"
   },
   {
    "duration": 7,
    "start_time": "2024-07-15T18:11:09.558Z"
   },
   {
    "duration": 7,
    "start_time": "2024-07-15T18:11:26.254Z"
   },
   {
    "duration": 8,
    "start_time": "2024-07-15T18:11:35.477Z"
   },
   {
    "duration": 6,
    "start_time": "2024-07-15T18:11:57.962Z"
   },
   {
    "duration": 9,
    "start_time": "2024-07-15T18:12:11.867Z"
   },
   {
    "duration": 40,
    "start_time": "2024-07-15T18:13:17.823Z"
   },
   {
    "duration": 40,
    "start_time": "2024-07-15T18:13:25.903Z"
   },
   {
    "duration": 27,
    "start_time": "2024-07-15T18:13:42.939Z"
   },
   {
    "duration": 3,
    "start_time": "2024-07-15T18:23:28.365Z"
   },
   {
    "duration": 27,
    "start_time": "2024-07-15T18:25:37.224Z"
   },
   {
    "duration": 13,
    "start_time": "2024-07-15T18:26:12.031Z"
   },
   {
    "duration": 6,
    "start_time": "2024-07-15T18:27:16.756Z"
   },
   {
    "duration": 5,
    "start_time": "2024-07-15T18:27:21.251Z"
   },
   {
    "duration": 5,
    "start_time": "2024-07-15T18:27:32.435Z"
   },
   {
    "duration": 6,
    "start_time": "2024-07-15T18:35:19.913Z"
   },
   {
    "duration": 5,
    "start_time": "2024-07-15T18:35:29.079Z"
   },
   {
    "duration": 16,
    "start_time": "2024-07-15T18:37:56.036Z"
   },
   {
    "duration": 27,
    "start_time": "2024-07-15T18:40:22.534Z"
   },
   {
    "duration": 5,
    "start_time": "2024-07-15T18:57:04.690Z"
   },
   {
    "duration": 5,
    "start_time": "2024-07-15T18:57:18.764Z"
   },
   {
    "duration": 18,
    "start_time": "2024-07-15T18:57:37.623Z"
   },
   {
    "duration": 826,
    "start_time": "2024-07-15T18:58:33.974Z"
   },
   {
    "duration": 10,
    "start_time": "2024-07-15T20:16:48.171Z"
   },
   {
    "duration": 4,
    "start_time": "2024-07-15T20:17:16.024Z"
   },
   {
    "duration": 5,
    "start_time": "2024-07-15T20:17:28.236Z"
   },
   {
    "duration": 4,
    "start_time": "2024-07-15T20:17:41.559Z"
   },
   {
    "duration": 4,
    "start_time": "2024-07-15T20:19:29.796Z"
   },
   {
    "duration": 7,
    "start_time": "2024-07-15T21:30:18.301Z"
   },
   {
    "duration": 8,
    "start_time": "2024-07-15T21:30:50.743Z"
   },
   {
    "duration": 5,
    "start_time": "2024-07-15T21:30:55.446Z"
   },
   {
    "duration": 11,
    "start_time": "2024-07-15T21:30:59.695Z"
   },
   {
    "duration": 4,
    "start_time": "2024-07-15T21:31:06.107Z"
   },
   {
    "duration": 5,
    "start_time": "2024-07-15T21:31:11.235Z"
   },
   {
    "duration": 4,
    "start_time": "2024-07-15T21:31:22.533Z"
   },
   {
    "duration": 26,
    "start_time": "2024-07-15T21:31:31.074Z"
   },
   {
    "duration": 6,
    "start_time": "2024-07-15T21:31:38.202Z"
   },
   {
    "duration": 6,
    "start_time": "2024-07-15T21:33:29.663Z"
   },
   {
    "duration": 5,
    "start_time": "2024-07-15T21:34:04.587Z"
   },
   {
    "duration": 7,
    "start_time": "2024-07-15T21:34:09.802Z"
   },
   {
    "duration": 55,
    "start_time": "2024-07-15T21:50:59.394Z"
   },
   {
    "duration": 58,
    "start_time": "2024-07-15T21:51:37.132Z"
   },
   {
    "duration": 70,
    "start_time": "2024-07-15T21:52:15.243Z"
   },
   {
    "duration": 67,
    "start_time": "2024-07-15T21:52:28.187Z"
   },
   {
    "duration": 65,
    "start_time": "2024-07-15T21:53:12.644Z"
   },
   {
    "duration": 71,
    "start_time": "2024-07-15T21:56:28.639Z"
   },
   {
    "duration": 66,
    "start_time": "2024-07-15T21:56:57.462Z"
   },
   {
    "duration": 5,
    "start_time": "2024-07-15T21:57:14.363Z"
   },
   {
    "duration": 122,
    "start_time": "2024-07-15T21:57:21.831Z"
   },
   {
    "duration": 69,
    "start_time": "2024-07-15T22:07:25.181Z"
   },
   {
    "duration": 85,
    "start_time": "2024-07-15T22:07:33.604Z"
   },
   {
    "duration": 76,
    "start_time": "2024-07-15T22:07:47.995Z"
   },
   {
    "duration": 57,
    "start_time": "2024-07-15T22:46:22.435Z"
   },
   {
    "duration": 67,
    "start_time": "2024-07-15T22:46:49.647Z"
   },
   {
    "duration": 10,
    "start_time": "2024-07-15T22:49:55.459Z"
   },
   {
    "duration": 8,
    "start_time": "2024-07-15T23:41:02.123Z"
   },
   {
    "duration": 10,
    "start_time": "2024-07-16T00:24:36.247Z"
   },
   {
    "duration": 11,
    "start_time": "2024-07-16T00:24:53.214Z"
   },
   {
    "duration": 9,
    "start_time": "2024-07-16T00:34:26.735Z"
   },
   {
    "duration": 8,
    "start_time": "2024-07-16T00:34:38.550Z"
   },
   {
    "duration": 10,
    "start_time": "2024-07-16T00:34:48.806Z"
   },
   {
    "duration": 11,
    "start_time": "2024-07-16T00:34:59.041Z"
   },
   {
    "duration": 15,
    "start_time": "2024-07-16T00:35:01.656Z"
   },
   {
    "duration": 11,
    "start_time": "2024-07-16T04:01:32.551Z"
   },
   {
    "duration": 11,
    "start_time": "2024-07-16T04:02:04.896Z"
   },
   {
    "duration": 11,
    "start_time": "2024-07-16T04:02:10.381Z"
   },
   {
    "duration": 11,
    "start_time": "2024-07-16T04:02:39.746Z"
   },
   {
    "duration": 11,
    "start_time": "2024-07-16T04:03:03.670Z"
   },
   {
    "duration": 11,
    "start_time": "2024-07-16T04:03:09.594Z"
   },
   {
    "duration": 11,
    "start_time": "2024-07-16T04:11:59.451Z"
   },
   {
    "duration": 9,
    "start_time": "2024-07-16T04:12:08.279Z"
   },
   {
    "duration": 11,
    "start_time": "2024-07-16T04:12:17.198Z"
   },
   {
    "duration": 9,
    "start_time": "2024-07-16T04:15:13.133Z"
   },
   {
    "duration": 12,
    "start_time": "2024-07-16T04:15:28.144Z"
   },
   {
    "duration": 10,
    "start_time": "2024-07-16T04:20:32.255Z"
   },
   {
    "duration": 11,
    "start_time": "2024-07-16T04:20:47.616Z"
   },
   {
    "duration": 13,
    "start_time": "2024-07-16T04:21:39.832Z"
   },
   {
    "duration": 15,
    "start_time": "2024-07-16T04:23:44.639Z"
   },
   {
    "duration": 32,
    "start_time": "2024-07-16T04:23:57.542Z"
   },
   {
    "duration": 12,
    "start_time": "2024-07-16T04:24:12.954Z"
   },
   {
    "duration": 10,
    "start_time": "2024-07-16T04:25:12.278Z"
   },
   {
    "duration": 11,
    "start_time": "2024-07-16T04:25:27.202Z"
   },
   {
    "duration": 12,
    "start_time": "2024-07-16T04:25:46.636Z"
   },
   {
    "duration": 28,
    "start_time": "2024-07-16T04:33:26.695Z"
   },
   {
    "duration": 7,
    "start_time": "2024-07-16T04:37:02.143Z"
   },
   {
    "duration": 5,
    "start_time": "2024-07-16T04:37:18.639Z"
   },
   {
    "duration": 6,
    "start_time": "2024-07-16T04:37:44.882Z"
   },
   {
    "duration": 8,
    "start_time": "2024-07-16T04:38:00.087Z"
   },
   {
    "duration": 6,
    "start_time": "2024-07-16T04:38:16.206Z"
   },
   {
    "duration": 6,
    "start_time": "2024-07-16T04:40:44.883Z"
   },
   {
    "duration": 7,
    "start_time": "2024-07-16T04:40:49.814Z"
   },
   {
    "duration": 35,
    "start_time": "2024-07-16T04:41:04.342Z"
   },
   {
    "duration": 38,
    "start_time": "2024-07-16T04:41:48.351Z"
   },
   {
    "duration": 4,
    "start_time": "2024-07-16T04:41:58.682Z"
   },
   {
    "duration": 8,
    "start_time": "2024-07-16T04:42:10.026Z"
   },
   {
    "duration": 8,
    "start_time": "2024-07-16T04:43:13.614Z"
   },
   {
    "duration": 7,
    "start_time": "2024-07-16T04:43:22.774Z"
   },
   {
    "duration": 10,
    "start_time": "2024-07-16T04:44:11.095Z"
   },
   {
    "duration": 15,
    "start_time": "2024-07-16T04:44:26.159Z"
   },
   {
    "duration": 9,
    "start_time": "2024-07-16T04:45:01.396Z"
   },
   {
    "duration": 11,
    "start_time": "2024-07-16T04:45:42.594Z"
   },
   {
    "duration": 12,
    "start_time": "2024-07-16T04:46:49.298Z"
   },
   {
    "duration": 51,
    "start_time": "2024-07-16T04:47:04.655Z"
   },
   {
    "duration": 5,
    "start_time": "2024-07-16T05:04:42.379Z"
   },
   {
    "duration": 7,
    "start_time": "2024-07-16T05:05:30.943Z"
   },
   {
    "duration": 7,
    "start_time": "2024-07-16T05:07:35.024Z"
   },
   {
    "duration": 7,
    "start_time": "2024-07-16T05:07:42.293Z"
   },
   {
    "duration": 5,
    "start_time": "2024-07-16T05:07:56.214Z"
   },
   {
    "duration": 7,
    "start_time": "2024-07-16T05:08:05.300Z"
   },
   {
    "duration": 7,
    "start_time": "2024-07-16T05:08:14.999Z"
   },
   {
    "duration": 11,
    "start_time": "2024-07-16T16:06:55.660Z"
   },
   {
    "duration": 4,
    "start_time": "2024-07-16T17:07:59.835Z"
   },
   {
    "duration": 307,
    "start_time": "2024-07-16T17:08:12.624Z"
   },
   {
    "duration": 21,
    "start_time": "2024-07-16T17:41:11.036Z"
   },
   {
    "duration": 4,
    "start_time": "2024-07-16T17:41:20.791Z"
   },
   {
    "duration": 4,
    "start_time": "2024-07-16T17:41:27.909Z"
   },
   {
    "duration": 4,
    "start_time": "2024-07-16T17:41:55.360Z"
   },
   {
    "duration": 3,
    "start_time": "2024-07-16T17:41:59.840Z"
   },
   {
    "duration": 4,
    "start_time": "2024-07-16T17:42:04.880Z"
   },
   {
    "duration": 22,
    "start_time": "2024-07-16T17:42:06.994Z"
   },
   {
    "duration": 22,
    "start_time": "2024-07-16T17:42:15.423Z"
   },
   {
    "duration": 8,
    "start_time": "2024-07-16T17:42:34.643Z"
   },
   {
    "duration": 5,
    "start_time": "2024-07-16T17:42:38.725Z"
   },
   {
    "duration": 472,
    "start_time": "2024-07-16T17:42:51.253Z"
   },
   {
    "duration": 256,
    "start_time": "2024-07-16T17:42:53.327Z"
   },
   {
    "duration": 250,
    "start_time": "2024-07-16T17:45:43.188Z"
   },
   {
    "duration": 207,
    "start_time": "2024-07-16T17:45:53.732Z"
   },
   {
    "duration": 443,
    "start_time": "2024-07-16T17:46:38.550Z"
   },
   {
    "duration": 208,
    "start_time": "2024-07-16T17:47:19.234Z"
   },
   {
    "duration": 434,
    "start_time": "2024-07-16T17:47:41.572Z"
   },
   {
    "duration": 17,
    "start_time": "2024-07-16T17:48:02.032Z"
   },
   {
    "duration": 36,
    "start_time": "2024-07-16T17:48:30.304Z"
   },
   {
    "duration": 5,
    "start_time": "2024-07-16T17:56:08.704Z"
   },
   {
    "duration": 25,
    "start_time": "2024-07-16T18:16:35.712Z"
   },
   {
    "duration": 6,
    "start_time": "2024-07-16T18:17:16.523Z"
   },
   {
    "duration": 30,
    "start_time": "2024-07-16T18:18:32.080Z"
   },
   {
    "duration": 73,
    "start_time": "2024-07-16T18:21:44.155Z"
   },
   {
    "duration": 48,
    "start_time": "2024-07-16T18:24:41.930Z"
   },
   {
    "duration": 31,
    "start_time": "2024-07-16T18:24:53.921Z"
   },
   {
    "duration": 27,
    "start_time": "2024-07-16T18:25:15.086Z"
   },
   {
    "duration": 25,
    "start_time": "2024-07-16T18:32:36.648Z"
   },
   {
    "duration": 22,
    "start_time": "2024-07-16T18:33:25.413Z"
   },
   {
    "duration": 6,
    "start_time": "2024-07-16T18:35:14.730Z"
   },
   {
    "duration": 7,
    "start_time": "2024-07-16T18:35:32.016Z"
   },
   {
    "duration": 22,
    "start_time": "2024-07-16T18:35:51.244Z"
   },
   {
    "duration": 49,
    "start_time": "2024-07-16T18:37:04.613Z"
   },
   {
    "duration": 27,
    "start_time": "2024-07-16T18:37:14.455Z"
   },
   {
    "duration": 68,
    "start_time": "2024-07-16T18:38:04.123Z"
   },
   {
    "duration": 64,
    "start_time": "2024-07-16T18:38:39.525Z"
   },
   {
    "duration": 62,
    "start_time": "2024-07-16T18:38:52.106Z"
   },
   {
    "duration": 61,
    "start_time": "2024-07-16T18:39:19.416Z"
   },
   {
    "duration": 70,
    "start_time": "2024-07-16T18:41:16.107Z"
   },
   {
    "duration": 124,
    "start_time": "2024-07-16T18:41:56.432Z"
   },
   {
    "duration": 3,
    "start_time": "2024-07-16T18:47:36.523Z"
   },
   {
    "duration": 78,
    "start_time": "2024-07-16T18:48:02.285Z"
   },
   {
    "duration": 430,
    "start_time": "2024-07-16T18:48:09.124Z"
   },
   {
    "duration": 81,
    "start_time": "2024-07-16T18:48:13.932Z"
   },
   {
    "duration": 6,
    "start_time": "2024-07-16T18:48:33.118Z"
   },
   {
    "duration": 71,
    "start_time": "2024-07-16T18:49:45.868Z"
   },
   {
    "duration": 9,
    "start_time": "2024-07-16T18:50:43.232Z"
   },
   {
    "duration": 429,
    "start_time": "2024-07-16T18:50:53.825Z"
   },
   {
    "duration": 11,
    "start_time": "2024-07-16T18:50:58.082Z"
   },
   {
    "duration": 23,
    "start_time": "2024-07-16T18:52:42.256Z"
   },
   {
    "duration": 21,
    "start_time": "2024-07-16T18:52:51.022Z"
   },
   {
    "duration": 22,
    "start_time": "2024-07-16T18:52:59.248Z"
   },
   {
    "duration": 41,
    "start_time": "2024-07-16T18:54:57.000Z"
   },
   {
    "duration": 51,
    "start_time": "2024-07-16T18:55:11.310Z"
   },
   {
    "duration": 57,
    "start_time": "2024-07-16T18:55:15.416Z"
   },
   {
    "duration": 36,
    "start_time": "2024-07-16T18:55:23.668Z"
   },
   {
    "duration": 74,
    "start_time": "2024-07-16T18:55:32.764Z"
   },
   {
    "duration": 29,
    "start_time": "2024-07-16T18:55:40.119Z"
   },
   {
    "duration": 57,
    "start_time": "2024-07-16T18:55:46.285Z"
   },
   {
    "duration": 53,
    "start_time": "2024-07-16T18:55:49.339Z"
   },
   {
    "duration": 31,
    "start_time": "2024-07-16T18:55:56.592Z"
   },
   {
    "duration": 72,
    "start_time": "2024-07-16T18:56:02.925Z"
   },
   {
    "duration": 29,
    "start_time": "2024-07-16T18:56:09.445Z"
   },
   {
    "duration": 3,
    "start_time": "2024-07-16T18:56:16.939Z"
   },
   {
    "duration": 247,
    "start_time": "2024-07-16T18:56:18.639Z"
   },
   {
    "duration": 247,
    "start_time": "2024-07-16T18:56:28.261Z"
   },
   {
    "duration": 27,
    "start_time": "2024-07-16T18:56:33.893Z"
   },
   {
    "duration": 35,
    "start_time": "2024-07-16T18:56:36.573Z"
   },
   {
    "duration": 6,
    "start_time": "2024-07-16T18:56:44.328Z"
   },
   {
    "duration": 26,
    "start_time": "2024-07-16T18:56:49.963Z"
   },
   {
    "duration": 7,
    "start_time": "2024-07-16T18:56:55.836Z"
   },
   {
    "duration": 29,
    "start_time": "2024-07-16T18:56:59.860Z"
   },
   {
    "duration": 47,
    "start_time": "2024-07-16T18:57:05.164Z"
   },
   {
    "duration": 25,
    "start_time": "2024-07-16T18:57:13.227Z"
   },
   {
    "duration": 66,
    "start_time": "2024-07-16T18:57:18.416Z"
   },
   {
    "duration": 25,
    "start_time": "2024-07-16T19:03:46.210Z"
   },
   {
    "duration": 448,
    "start_time": "2024-07-17T01:15:22.724Z"
   },
   {
    "duration": 271,
    "start_time": "2024-07-17T01:15:23.176Z"
   },
   {
    "duration": 20,
    "start_time": "2024-07-17T01:15:23.450Z"
   },
   {
    "duration": 58,
    "start_time": "2024-07-17T01:15:23.474Z"
   },
   {
    "duration": 7,
    "start_time": "2024-07-17T01:15:23.535Z"
   },
   {
    "duration": 63,
    "start_time": "2024-07-17T01:15:23.546Z"
   },
   {
    "duration": 7,
    "start_time": "2024-07-17T01:15:23.612Z"
   },
   {
    "duration": 31,
    "start_time": "2024-07-17T01:15:23.622Z"
   },
   {
    "duration": 78,
    "start_time": "2024-07-17T01:15:23.657Z"
   },
   {
    "duration": 49,
    "start_time": "2024-07-17T01:15:23.742Z"
   },
   {
    "duration": 68,
    "start_time": "2024-07-17T01:15:23.795Z"
   },
   {
    "duration": 165,
    "start_time": "2024-07-17T01:15:23.866Z"
   },
   {
    "duration": 0,
    "start_time": "2024-07-17T01:15:24.034Z"
   },
   {
    "duration": 0,
    "start_time": "2024-07-17T01:15:24.036Z"
   },
   {
    "duration": 0,
    "start_time": "2024-07-17T01:15:24.039Z"
   },
   {
    "duration": 0,
    "start_time": "2024-07-17T01:15:24.042Z"
   },
   {
    "duration": 0,
    "start_time": "2024-07-17T01:15:24.043Z"
   },
   {
    "duration": 0,
    "start_time": "2024-07-17T01:15:24.045Z"
   },
   {
    "duration": 0,
    "start_time": "2024-07-17T01:15:24.046Z"
   },
   {
    "duration": 0,
    "start_time": "2024-07-17T01:15:24.048Z"
   },
   {
    "duration": 0,
    "start_time": "2024-07-17T01:15:24.052Z"
   },
   {
    "duration": 0,
    "start_time": "2024-07-17T01:15:24.053Z"
   },
   {
    "duration": 0,
    "start_time": "2024-07-17T01:15:24.055Z"
   },
   {
    "duration": 0,
    "start_time": "2024-07-17T01:15:24.091Z"
   },
   {
    "duration": 3,
    "start_time": "2024-07-17T01:15:31.274Z"
   },
   {
    "duration": 224,
    "start_time": "2024-07-17T01:15:48.533Z"
   },
   {
    "duration": 19,
    "start_time": "2024-07-17T01:15:53.269Z"
   },
   {
    "duration": 35,
    "start_time": "2024-07-17T01:15:58.701Z"
   },
   {
    "duration": 13,
    "start_time": "2024-07-17T01:22:20.838Z"
   },
   {
    "duration": 5,
    "start_time": "2024-07-17T01:23:40.722Z"
   },
   {
    "duration": 31,
    "start_time": "2024-07-17T01:23:57.578Z"
   },
   {
    "duration": 238,
    "start_time": "2024-07-17T01:33:47.929Z"
   },
   {
    "duration": 30,
    "start_time": "2024-07-17T01:33:51.863Z"
   },
   {
    "duration": 48,
    "start_time": "2024-07-17T03:13:01.041Z"
   },
   {
    "duration": 46,
    "start_time": "2024-07-17T03:13:34.578Z"
   },
   {
    "duration": 25,
    "start_time": "2024-07-17T03:14:01.068Z"
   },
   {
    "duration": 62,
    "start_time": "2024-07-17T03:15:47.367Z"
   },
   {
    "duration": 4,
    "start_time": "2024-07-17T03:16:13.664Z"
   },
   {
    "duration": 8,
    "start_time": "2024-07-17T03:19:37.301Z"
   },
   {
    "duration": 24,
    "start_time": "2024-07-17T03:21:34.496Z"
   },
   {
    "duration": 102,
    "start_time": "2024-07-17T03:23:11.144Z"
   },
   {
    "duration": 107,
    "start_time": "2024-07-17T03:23:19.392Z"
   },
   {
    "duration": 23,
    "start_time": "2024-07-17T03:33:08.125Z"
   },
   {
    "duration": 24,
    "start_time": "2024-07-17T03:33:26.612Z"
   },
   {
    "duration": 87,
    "start_time": "2024-07-17T03:34:05.796Z"
   },
   {
    "duration": 10,
    "start_time": "2024-07-17T03:36:54.955Z"
   },
   {
    "duration": 88,
    "start_time": "2024-07-17T03:37:00.048Z"
   },
   {
    "duration": 25,
    "start_time": "2024-07-17T03:38:33.424Z"
   },
   {
    "duration": 112,
    "start_time": "2024-07-17T03:41:00.693Z"
   },
   {
    "duration": 68,
    "start_time": "2024-07-17T03:41:48.524Z"
   },
   {
    "duration": 99,
    "start_time": "2024-07-17T03:43:44.780Z"
   },
   {
    "duration": 3,
    "start_time": "2024-07-17T04:28:33.128Z"
   },
   {
    "duration": 224,
    "start_time": "2024-07-17T04:28:33.138Z"
   },
   {
    "duration": 28,
    "start_time": "2024-07-17T04:28:33.365Z"
   },
   {
    "duration": 39,
    "start_time": "2024-07-17T04:28:33.396Z"
   },
   {
    "duration": 8,
    "start_time": "2024-07-17T04:28:33.438Z"
   },
   {
    "duration": 45,
    "start_time": "2024-07-17T04:28:33.451Z"
   },
   {
    "duration": 7,
    "start_time": "2024-07-17T04:28:33.499Z"
   },
   {
    "duration": 29,
    "start_time": "2024-07-17T04:28:33.510Z"
   },
   {
    "duration": 87,
    "start_time": "2024-07-17T04:28:33.541Z"
   },
   {
    "duration": 26,
    "start_time": "2024-07-17T04:28:33.631Z"
   },
   {
    "duration": 81,
    "start_time": "2024-07-17T04:28:33.660Z"
   },
   {
    "duration": 108,
    "start_time": "2024-07-17T04:28:33.744Z"
   },
   {
    "duration": 115,
    "start_time": "2024-07-17T04:28:33.855Z"
   },
   {
    "duration": 74,
    "start_time": "2024-07-17T04:28:33.973Z"
   },
   {
    "duration": 108,
    "start_time": "2024-07-17T04:28:34.053Z"
   },
   {
    "duration": 6,
    "start_time": "2024-07-17T04:28:34.165Z"
   },
   {
    "duration": 0,
    "start_time": "2024-07-17T04:28:34.190Z"
   },
   {
    "duration": 0,
    "start_time": "2024-07-17T04:28:34.192Z"
   },
   {
    "duration": 0,
    "start_time": "2024-07-17T04:28:34.195Z"
   },
   {
    "duration": 0,
    "start_time": "2024-07-17T04:28:34.198Z"
   },
   {
    "duration": 0,
    "start_time": "2024-07-17T04:28:34.202Z"
   },
   {
    "duration": 0,
    "start_time": "2024-07-17T04:28:34.204Z"
   },
   {
    "duration": 0,
    "start_time": "2024-07-17T04:28:34.207Z"
   },
   {
    "duration": 0,
    "start_time": "2024-07-17T04:28:34.208Z"
   },
   {
    "duration": 5,
    "start_time": "2024-07-17T04:30:03.376Z"
   },
   {
    "duration": 3,
    "start_time": "2024-07-17T04:30:03.463Z"
   },
   {
    "duration": 6,
    "start_time": "2024-07-17T04:30:25.215Z"
   },
   {
    "duration": 6,
    "start_time": "2024-07-17T04:30:32.585Z"
   },
   {
    "duration": 6,
    "start_time": "2024-07-17T04:30:52.647Z"
   },
   {
    "duration": 7,
    "start_time": "2024-07-17T04:32:01.928Z"
   },
   {
    "duration": 5,
    "start_time": "2024-07-17T04:32:10.457Z"
   },
   {
    "duration": 5,
    "start_time": "2024-07-17T04:32:16.017Z"
   },
   {
    "duration": 7,
    "start_time": "2024-07-17T04:35:31.219Z"
   },
   {
    "duration": 6,
    "start_time": "2024-07-17T04:35:53.807Z"
   },
   {
    "duration": 6,
    "start_time": "2024-07-17T04:36:00.329Z"
   },
   {
    "duration": 6,
    "start_time": "2024-07-17T04:36:15.499Z"
   },
   {
    "duration": 6,
    "start_time": "2024-07-17T04:36:23.191Z"
   },
   {
    "duration": 5,
    "start_time": "2024-07-17T04:36:37.685Z"
   },
   {
    "duration": 5,
    "start_time": "2024-07-17T04:36:42.365Z"
   },
   {
    "duration": 3,
    "start_time": "2024-07-17T04:36:49.565Z"
   },
   {
    "duration": 5,
    "start_time": "2024-07-17T04:37:04.380Z"
   },
   {
    "duration": 5,
    "start_time": "2024-07-17T04:37:08.033Z"
   },
   {
    "duration": 5,
    "start_time": "2024-07-17T04:37:16.348Z"
   },
   {
    "duration": 5,
    "start_time": "2024-07-17T04:37:29.032Z"
   },
   {
    "duration": 6,
    "start_time": "2024-07-17T04:39:27.439Z"
   },
   {
    "duration": 5,
    "start_time": "2024-07-17T04:40:53.132Z"
   },
   {
    "duration": 4,
    "start_time": "2024-07-17T04:42:26.348Z"
   },
   {
    "duration": 221,
    "start_time": "2024-07-17T04:42:26.355Z"
   },
   {
    "duration": 24,
    "start_time": "2024-07-17T04:42:26.579Z"
   },
   {
    "duration": 36,
    "start_time": "2024-07-17T04:42:26.607Z"
   },
   {
    "duration": 6,
    "start_time": "2024-07-17T04:42:26.646Z"
   },
   {
    "duration": 44,
    "start_time": "2024-07-17T04:42:26.655Z"
   },
   {
    "duration": 6,
    "start_time": "2024-07-17T04:42:26.701Z"
   },
   {
    "duration": 29,
    "start_time": "2024-07-17T04:42:26.710Z"
   },
   {
    "duration": 85,
    "start_time": "2024-07-17T04:42:26.744Z"
   },
   {
    "duration": 26,
    "start_time": "2024-07-17T04:42:26.832Z"
   },
   {
    "duration": 89,
    "start_time": "2024-07-17T04:42:26.861Z"
   },
   {
    "duration": 106,
    "start_time": "2024-07-17T04:42:26.953Z"
   },
   {
    "duration": 114,
    "start_time": "2024-07-17T04:42:27.062Z"
   },
   {
    "duration": 69,
    "start_time": "2024-07-17T04:42:27.179Z"
   },
   {
    "duration": 112,
    "start_time": "2024-07-17T04:42:27.251Z"
   },
   {
    "duration": 6,
    "start_time": "2024-07-17T04:42:27.366Z"
   },
   {
    "duration": 0,
    "start_time": "2024-07-17T04:42:27.391Z"
   },
   {
    "duration": 0,
    "start_time": "2024-07-17T04:42:27.395Z"
   },
   {
    "duration": 0,
    "start_time": "2024-07-17T04:42:27.397Z"
   },
   {
    "duration": 0,
    "start_time": "2024-07-17T04:42:27.400Z"
   },
   {
    "duration": 0,
    "start_time": "2024-07-17T04:42:27.402Z"
   },
   {
    "duration": 0,
    "start_time": "2024-07-17T04:42:27.404Z"
   },
   {
    "duration": 0,
    "start_time": "2024-07-17T04:42:27.406Z"
   },
   {
    "duration": 0,
    "start_time": "2024-07-17T04:42:27.407Z"
   },
   {
    "duration": 5,
    "start_time": "2024-07-17T04:42:51.416Z"
   },
   {
    "duration": 7,
    "start_time": "2024-07-17T04:50:47.587Z"
   },
   {
    "duration": 7,
    "start_time": "2024-07-17T04:51:10.656Z"
   },
   {
    "duration": 8,
    "start_time": "2024-07-17T04:51:42.938Z"
   },
   {
    "duration": 5,
    "start_time": "2024-07-17T04:51:48.876Z"
   },
   {
    "duration": 5,
    "start_time": "2024-07-17T04:52:09.528Z"
   },
   {
    "duration": 5,
    "start_time": "2024-07-17T04:52:16.387Z"
   },
   {
    "duration": 6,
    "start_time": "2024-07-17T04:53:18.206Z"
   },
   {
    "duration": 6,
    "start_time": "2024-07-17T04:53:28.181Z"
   },
   {
    "duration": 8,
    "start_time": "2024-07-17T04:53:33.551Z"
   },
   {
    "duration": 32,
    "start_time": "2024-07-17T04:54:52.641Z"
   },
   {
    "duration": 4,
    "start_time": "2024-07-17T04:54:57.571Z"
   },
   {
    "duration": 475,
    "start_time": "2024-07-17T15:47:00.837Z"
   },
   {
    "duration": 290,
    "start_time": "2024-07-17T15:47:07.490Z"
   },
   {
    "duration": 214,
    "start_time": "2024-07-17T15:50:36.699Z"
   },
   {
    "duration": 218,
    "start_time": "2024-07-17T15:50:52.218Z"
   },
   {
    "duration": 208,
    "start_time": "2024-07-17T15:51:07.267Z"
   },
   {
    "duration": 221,
    "start_time": "2024-07-17T15:51:19.157Z"
   },
   {
    "duration": 209,
    "start_time": "2024-07-17T15:51:28.992Z"
   },
   {
    "duration": 206,
    "start_time": "2024-07-17T15:51:38.573Z"
   },
   {
    "duration": 228,
    "start_time": "2024-07-17T15:51:47.867Z"
   },
   {
    "duration": 21,
    "start_time": "2024-07-17T15:52:06.591Z"
   },
   {
    "duration": 22,
    "start_time": "2024-07-17T15:52:31.113Z"
   },
   {
    "duration": 17,
    "start_time": "2024-07-17T15:52:39.444Z"
   },
   {
    "duration": 37,
    "start_time": "2024-07-17T15:52:54.669Z"
   },
   {
    "duration": 6,
    "start_time": "2024-07-17T15:54:34.003Z"
   },
   {
    "duration": 10,
    "start_time": "2024-07-17T15:54:42.489Z"
   },
   {
    "duration": 16,
    "start_time": "2024-07-17T15:55:16.184Z"
   },
   {
    "duration": 6,
    "start_time": "2024-07-17T15:55:18.540Z"
   },
   {
    "duration": 51,
    "start_time": "2024-07-17T15:58:33.317Z"
   },
   {
    "duration": 70,
    "start_time": "2024-07-17T17:46:49.743Z"
   },
   {
    "duration": 9,
    "start_time": "2024-07-17T17:47:36.994Z"
   },
   {
    "duration": 351,
    "start_time": "2024-07-17T17:49:49.607Z"
   },
   {
    "duration": 68,
    "start_time": "2024-07-17T17:49:57.728Z"
   },
   {
    "duration": 28,
    "start_time": "2024-07-17T17:51:13.106Z"
   },
   {
    "duration": 69,
    "start_time": "2024-07-17T18:29:09.667Z"
   },
   {
    "duration": 105,
    "start_time": "2024-07-17T18:30:36.180Z"
   },
   {
    "duration": 91,
    "start_time": "2024-07-17T18:30:52.385Z"
   },
   {
    "duration": 116,
    "start_time": "2024-07-17T18:31:22.719Z"
   },
   {
    "duration": 118,
    "start_time": "2024-07-17T18:32:01.571Z"
   },
   {
    "duration": 722,
    "start_time": "2024-07-17T18:38:44.556Z"
   },
   {
    "duration": 4,
    "start_time": "2024-07-17T18:40:13.306Z"
   },
   {
    "duration": 27,
    "start_time": "2024-07-17T18:40:45.040Z"
   },
   {
    "duration": 26,
    "start_time": "2024-07-17T18:41:16.097Z"
   },
   {
    "duration": 120,
    "start_time": "2024-07-17T18:41:42.551Z"
   },
   {
    "duration": 110,
    "start_time": "2024-07-17T18:42:35.277Z"
   },
   {
    "duration": 10,
    "start_time": "2024-07-17T18:43:12.700Z"
   },
   {
    "duration": 10,
    "start_time": "2024-07-17T18:43:24.391Z"
   },
   {
    "duration": 100,
    "start_time": "2024-07-17T18:43:27.014Z"
   },
   {
    "duration": 119,
    "start_time": "2024-07-17T18:43:45.879Z"
   },
   {
    "duration": 13,
    "start_time": "2024-07-17T18:43:52.424Z"
   },
   {
    "duration": 79,
    "start_time": "2024-07-17T18:44:19.239Z"
   },
   {
    "duration": 89,
    "start_time": "2024-07-17T18:44:22.232Z"
   },
   {
    "duration": 115,
    "start_time": "2024-07-17T18:44:30.515Z"
   },
   {
    "duration": 10,
    "start_time": "2024-07-17T18:44:45.929Z"
   },
   {
    "duration": 11,
    "start_time": "2024-07-17T18:44:58.212Z"
   },
   {
    "duration": 81,
    "start_time": "2024-07-17T18:45:03.064Z"
   },
   {
    "duration": 13,
    "start_time": "2024-07-17T18:45:07.281Z"
   },
   {
    "duration": 117,
    "start_time": "2024-07-17T18:45:27.636Z"
   },
   {
    "duration": 8,
    "start_time": "2024-07-17T18:45:30.336Z"
   },
   {
    "duration": 80,
    "start_time": "2024-07-17T18:45:55.672Z"
   },
   {
    "duration": 118,
    "start_time": "2024-07-17T18:46:04.891Z"
   },
   {
    "duration": 104,
    "start_time": "2024-07-17T18:47:08.628Z"
   },
   {
    "duration": 96,
    "start_time": "2024-07-17T18:47:25.478Z"
   },
   {
    "duration": 83,
    "start_time": "2024-07-17T18:47:31.560Z"
   },
   {
    "duration": 525,
    "start_time": "2024-07-17T18:48:07.376Z"
   },
   {
    "duration": 27,
    "start_time": "2024-07-17T18:52:35.261Z"
   },
   {
    "duration": 29,
    "start_time": "2024-07-17T18:56:05.395Z"
   },
   {
    "duration": 14,
    "start_time": "2024-07-17T18:56:14.064Z"
   },
   {
    "duration": 15,
    "start_time": "2024-07-17T18:56:24.578Z"
   },
   {
    "duration": 28,
    "start_time": "2024-07-17T18:57:05.056Z"
   },
   {
    "duration": 27,
    "start_time": "2024-07-17T18:57:19.032Z"
   },
   {
    "duration": 108,
    "start_time": "2024-07-17T18:57:31.660Z"
   },
   {
    "duration": 105,
    "start_time": "2024-07-17T18:57:48.841Z"
   },
   {
    "duration": 212,
    "start_time": "2024-07-17T18:58:58.727Z"
   },
   {
    "duration": 98,
    "start_time": "2024-07-17T19:00:38.483Z"
   },
   {
    "duration": 103,
    "start_time": "2024-07-17T19:01:04.103Z"
   },
   {
    "duration": 25,
    "start_time": "2024-07-17T19:01:58.259Z"
   },
   {
    "duration": 128,
    "start_time": "2024-07-17T19:03:25.328Z"
   },
   {
    "duration": 114,
    "start_time": "2024-07-17T19:03:41.039Z"
   },
   {
    "duration": 185,
    "start_time": "2024-07-17T19:03:55.859Z"
   },
   {
    "duration": 9,
    "start_time": "2024-07-17T19:07:49.883Z"
   },
   {
    "duration": 27,
    "start_time": "2024-07-17T19:08:30.626Z"
   },
   {
    "duration": 123,
    "start_time": "2024-07-17T19:09:01.672Z"
   },
   {
    "duration": 226,
    "start_time": "2024-07-17T19:09:32.512Z"
   },
   {
    "duration": 194,
    "start_time": "2024-07-17T19:09:42.440Z"
   },
   {
    "duration": 184,
    "start_time": "2024-07-17T19:10:47.367Z"
   },
   {
    "duration": 273,
    "start_time": "2024-07-17T19:11:03.993Z"
   },
   {
    "duration": 11,
    "start_time": "2024-07-17T19:11:59.391Z"
   },
   {
    "duration": 182,
    "start_time": "2024-07-17T19:12:02.888Z"
   },
   {
    "duration": 93,
    "start_time": "2024-07-17T19:14:04.765Z"
   },
   {
    "duration": 90,
    "start_time": "2024-07-17T19:14:15.671Z"
   },
   {
    "duration": 90,
    "start_time": "2024-07-17T19:14:47.315Z"
   },
   {
    "duration": 85,
    "start_time": "2024-07-17T19:14:56.657Z"
   },
   {
    "duration": 84,
    "start_time": "2024-07-17T19:18:06.003Z"
   },
   {
    "duration": 105,
    "start_time": "2024-07-17T19:18:13.100Z"
   },
   {
    "duration": 116,
    "start_time": "2024-07-17T19:18:57.663Z"
   },
   {
    "duration": 151,
    "start_time": "2024-07-17T19:19:04.648Z"
   },
   {
    "duration": 133,
    "start_time": "2024-07-17T19:19:49.122Z"
   },
   {
    "duration": 137,
    "start_time": "2024-07-17T19:19:59.530Z"
   },
   {
    "duration": 109,
    "start_time": "2024-07-17T19:22:45.698Z"
   },
   {
    "duration": 146,
    "start_time": "2024-07-17T19:22:53.550Z"
   },
   {
    "duration": 116,
    "start_time": "2024-07-17T19:23:32.145Z"
   },
   {
    "duration": 119,
    "start_time": "2024-07-17T19:23:59.635Z"
   },
   {
    "duration": 24,
    "start_time": "2024-07-17T19:24:55.455Z"
   },
   {
    "duration": 24,
    "start_time": "2024-07-17T19:26:24.771Z"
   },
   {
    "duration": 114,
    "start_time": "2024-07-17T19:26:30.287Z"
   },
   {
    "duration": 90,
    "start_time": "2024-07-17T19:31:03.814Z"
   },
   {
    "duration": 107,
    "start_time": "2024-07-17T20:07:59.256Z"
   },
   {
    "duration": 116,
    "start_time": "2024-07-17T20:08:14.250Z"
   },
   {
    "duration": 7,
    "start_time": "2024-07-17T20:15:10.140Z"
   },
   {
    "duration": 7,
    "start_time": "2024-07-17T20:15:24.848Z"
   },
   {
    "duration": 8,
    "start_time": "2024-07-17T20:15:44.426Z"
   },
   {
    "duration": 8,
    "start_time": "2024-07-17T20:15:51.173Z"
   },
   {
    "duration": 7,
    "start_time": "2024-07-17T20:16:04.395Z"
   },
   {
    "duration": 8,
    "start_time": "2024-07-17T20:16:11.720Z"
   },
   {
    "duration": 6,
    "start_time": "2024-07-17T20:16:18.453Z"
   },
   {
    "duration": 4,
    "start_time": "2024-07-17T20:16:24.316Z"
   },
   {
    "duration": 5,
    "start_time": "2024-07-17T20:17:24.866Z"
   },
   {
    "duration": 6,
    "start_time": "2024-07-17T20:17:33.043Z"
   },
   {
    "duration": 100,
    "start_time": "2024-07-17T20:17:52.249Z"
   },
   {
    "duration": 7,
    "start_time": "2024-07-17T20:18:21.329Z"
   },
   {
    "duration": 7,
    "start_time": "2024-07-17T20:18:36.945Z"
   },
   {
    "duration": 6,
    "start_time": "2024-07-17T20:24:33.754Z"
   },
   {
    "duration": 28,
    "start_time": "2024-07-17T20:24:49.825Z"
   },
   {
    "duration": 6,
    "start_time": "2024-07-17T20:25:00.233Z"
   },
   {
    "duration": 6,
    "start_time": "2024-07-17T20:25:06.610Z"
   },
   {
    "duration": 97,
    "start_time": "2024-07-17T20:26:07.753Z"
   },
   {
    "duration": 26,
    "start_time": "2024-07-17T20:26:43.569Z"
   },
   {
    "duration": 7,
    "start_time": "2024-07-17T20:26:57.570Z"
   },
   {
    "duration": 7,
    "start_time": "2024-07-17T20:27:09.525Z"
   },
   {
    "duration": 27,
    "start_time": "2024-07-17T20:27:12.345Z"
   },
   {
    "duration": 6,
    "start_time": "2024-07-17T20:27:20.214Z"
   },
   {
    "duration": 6,
    "start_time": "2024-07-17T20:29:12.313Z"
   },
   {
    "duration": 6,
    "start_time": "2024-07-17T20:29:30.232Z"
   },
   {
    "duration": 7,
    "start_time": "2024-07-17T20:29:37.031Z"
   },
   {
    "duration": 6,
    "start_time": "2024-07-17T20:29:47.135Z"
   },
   {
    "duration": 13,
    "start_time": "2024-07-17T20:30:45.552Z"
   },
   {
    "duration": 26,
    "start_time": "2024-07-17T20:30:57.750Z"
   },
   {
    "duration": 13,
    "start_time": "2024-07-17T20:31:03.222Z"
   },
   {
    "duration": 13,
    "start_time": "2024-07-17T20:33:47.081Z"
   },
   {
    "duration": 53,
    "start_time": "2024-07-17T20:34:45.102Z"
   },
   {
    "duration": 7,
    "start_time": "2024-07-17T20:53:58.476Z"
   },
   {
    "duration": 6,
    "start_time": "2024-07-17T21:09:56.474Z"
   },
   {
    "duration": 6,
    "start_time": "2024-07-17T21:10:10.472Z"
   },
   {
    "duration": 9,
    "start_time": "2024-07-17T21:10:45.924Z"
   },
   {
    "duration": 6,
    "start_time": "2024-07-17T21:10:55.412Z"
   },
   {
    "duration": 43,
    "start_time": "2024-07-17T21:13:11.917Z"
   },
   {
    "duration": 11,
    "start_time": "2024-07-17T21:18:14.263Z"
   },
   {
    "duration": 33,
    "start_time": "2024-07-17T21:18:30.845Z"
   },
   {
    "duration": 17,
    "start_time": "2024-07-17T21:18:36.749Z"
   },
   {
    "duration": 28,
    "start_time": "2024-07-17T21:18:44.784Z"
   },
   {
    "duration": 34,
    "start_time": "2024-07-17T21:23:13.727Z"
   },
   {
    "duration": 20,
    "start_time": "2024-07-17T21:23:44.052Z"
   },
   {
    "duration": 28,
    "start_time": "2024-07-17T21:26:53.621Z"
   },
   {
    "duration": 11,
    "start_time": "2024-07-17T21:26:56.010Z"
   },
   {
    "duration": 23,
    "start_time": "2024-07-17T23:30:12.560Z"
   },
   {
    "duration": 80,
    "start_time": "2024-07-17T23:53:40.799Z"
   },
   {
    "duration": 38,
    "start_time": "2024-07-17T23:54:32.915Z"
   },
   {
    "duration": 31,
    "start_time": "2024-07-17T23:55:01.301Z"
   },
   {
    "duration": 3,
    "start_time": "2024-07-17T23:55:44.376Z"
   },
   {
    "duration": 376,
    "start_time": "2024-07-17T23:56:35.757Z"
   },
   {
    "duration": 3,
    "start_time": "2024-07-17T23:57:19.407Z"
   },
   {
    "duration": 23,
    "start_time": "2024-07-18T00:01:13.689Z"
   },
   {
    "duration": 311,
    "start_time": "2024-07-18T00:04:23.862Z"
   },
   {
    "duration": 271,
    "start_time": "2024-07-18T00:04:38.047Z"
   },
   {
    "duration": 72,
    "start_time": "2024-07-18T00:04:47.264Z"
   },
   {
    "duration": 73,
    "start_time": "2024-07-18T00:04:56.119Z"
   },
   {
    "duration": 3,
    "start_time": "2024-07-18T00:05:00.597Z"
   },
   {
    "duration": 74,
    "start_time": "2024-07-18T00:06:06.193Z"
   },
   {
    "duration": 5,
    "start_time": "2024-07-18T00:09:47.092Z"
   },
   {
    "duration": 27,
    "start_time": "2024-07-18T00:11:58.763Z"
   },
   {
    "duration": 3,
    "start_time": "2024-07-18T04:22:46.151Z"
   },
   {
    "duration": 208,
    "start_time": "2024-07-18T04:22:46.161Z"
   },
   {
    "duration": 19,
    "start_time": "2024-07-18T04:22:46.372Z"
   },
   {
    "duration": 55,
    "start_time": "2024-07-18T04:22:46.394Z"
   },
   {
    "duration": 7,
    "start_time": "2024-07-18T04:22:46.452Z"
   },
   {
    "duration": 12,
    "start_time": "2024-07-18T04:22:46.464Z"
   },
   {
    "duration": 6,
    "start_time": "2024-07-18T04:22:46.479Z"
   },
   {
    "duration": 69,
    "start_time": "2024-07-18T04:22:46.488Z"
   },
   {
    "duration": 49,
    "start_time": "2024-07-18T04:22:46.560Z"
   },
   {
    "duration": 27,
    "start_time": "2024-07-18T04:22:46.631Z"
   },
   {
    "duration": 78,
    "start_time": "2024-07-18T04:22:46.660Z"
   },
   {
    "duration": 131,
    "start_time": "2024-07-18T04:22:46.742Z"
   },
   {
    "duration": 106,
    "start_time": "2024-07-18T04:22:46.876Z"
   },
   {
    "duration": 73,
    "start_time": "2024-07-18T04:22:46.985Z"
   },
   {
    "duration": 103,
    "start_time": "2024-07-18T04:22:47.064Z"
   },
   {
    "duration": 30,
    "start_time": "2024-07-18T04:22:47.170Z"
   },
   {
    "duration": 4,
    "start_time": "2024-07-18T04:22:47.204Z"
   },
   {
    "duration": 14,
    "start_time": "2024-07-18T04:22:47.233Z"
   },
   {
    "duration": 26,
    "start_time": "2024-07-18T04:22:47.250Z"
   },
   {
    "duration": 4,
    "start_time": "2024-07-18T04:22:47.278Z"
   },
   {
    "duration": 44,
    "start_time": "2024-07-18T04:22:47.286Z"
   },
   {
    "duration": 4,
    "start_time": "2024-07-18T04:22:47.333Z"
   },
   {
    "duration": 4,
    "start_time": "2024-07-18T04:22:47.340Z"
   },
   {
    "duration": 3,
    "start_time": "2024-07-18T04:22:47.347Z"
   },
   {
    "duration": 15,
    "start_time": "2024-07-18T05:05:45.341Z"
   },
   {
    "duration": 54,
    "start_time": "2024-07-18T05:08:43.985Z"
   },
   {
    "duration": 40,
    "start_time": "2024-07-18T05:09:41.899Z"
   },
   {
    "duration": 27,
    "start_time": "2024-07-18T05:10:10.295Z"
   },
   {
    "duration": 15,
    "start_time": "2024-07-18T05:10:53.178Z"
   },
   {
    "duration": 22,
    "start_time": "2024-07-18T05:19:04.007Z"
   },
   {
    "duration": 28,
    "start_time": "2024-07-18T05:21:38.251Z"
   },
   {
    "duration": 101,
    "start_time": "2024-07-18T05:25:55.351Z"
   },
   {
    "duration": 69,
    "start_time": "2024-07-18T05:26:13.016Z"
   },
   {
    "duration": 21,
    "start_time": "2024-07-18T05:28:01.936Z"
   },
   {
    "duration": 69,
    "start_time": "2024-07-18T05:28:10.003Z"
   },
   {
    "duration": 16,
    "start_time": "2024-07-18T05:36:18.531Z"
   },
   {
    "duration": 4,
    "start_time": "2024-07-18T05:46:21.556Z"
   },
   {
    "duration": 3,
    "start_time": "2024-07-18T05:48:39.447Z"
   },
   {
    "duration": 5,
    "start_time": "2024-07-18T05:49:10.188Z"
   },
   {
    "duration": 23,
    "start_time": "2024-07-18T05:49:26.531Z"
   },
   {
    "duration": 24,
    "start_time": "2024-07-18T05:49:39.367Z"
   },
   {
    "duration": 16,
    "start_time": "2024-07-18T05:50:30.152Z"
   },
   {
    "duration": 10,
    "start_time": "2024-07-18T05:53:56.447Z"
   },
   {
    "duration": 24,
    "start_time": "2024-07-18T05:54:26.823Z"
   },
   {
    "duration": 11,
    "start_time": "2024-07-18T05:54:39.472Z"
   },
   {
    "duration": 486,
    "start_time": "2024-07-18T16:38:46.250Z"
   },
   {
    "duration": 255,
    "start_time": "2024-07-18T16:38:46.741Z"
   },
   {
    "duration": 19,
    "start_time": "2024-07-18T16:38:46.999Z"
   },
   {
    "duration": 36,
    "start_time": "2024-07-18T16:38:47.033Z"
   },
   {
    "duration": 7,
    "start_time": "2024-07-18T16:38:47.072Z"
   },
   {
    "duration": 11,
    "start_time": "2024-07-18T16:38:47.082Z"
   },
   {
    "duration": 6,
    "start_time": "2024-07-18T16:38:47.132Z"
   },
   {
    "duration": 31,
    "start_time": "2024-07-18T16:38:47.141Z"
   },
   {
    "duration": 102,
    "start_time": "2024-07-18T16:38:47.174Z"
   },
   {
    "duration": 61,
    "start_time": "2024-07-18T16:38:47.282Z"
   },
   {
    "duration": 34,
    "start_time": "2024-07-18T16:38:47.346Z"
   },
   {
    "duration": 52,
    "start_time": "2024-07-18T16:38:47.383Z"
   },
   {
    "duration": 16,
    "start_time": "2024-07-18T16:38:47.438Z"
   },
   {
    "duration": 97,
    "start_time": "2024-07-18T16:38:47.457Z"
   },
   {
    "duration": 22,
    "start_time": "2024-07-18T16:38:47.558Z"
   },
   {
    "duration": 49,
    "start_time": "2024-07-18T16:38:47.582Z"
   },
   {
    "duration": 140,
    "start_time": "2024-07-18T16:38:47.635Z"
   },
   {
    "duration": 110,
    "start_time": "2024-07-18T16:38:47.777Z"
   },
   {
    "duration": 83,
    "start_time": "2024-07-18T16:38:47.890Z"
   },
   {
    "duration": 89,
    "start_time": "2024-07-18T16:38:47.976Z"
   },
   {
    "duration": 101,
    "start_time": "2024-07-18T16:38:48.068Z"
   },
   {
    "duration": 6,
    "start_time": "2024-07-18T16:38:48.172Z"
   },
   {
    "duration": 15,
    "start_time": "2024-07-18T16:38:48.181Z"
   },
   {
    "duration": 33,
    "start_time": "2024-07-18T16:38:48.199Z"
   },
   {
    "duration": 26,
    "start_time": "2024-07-18T16:38:48.235Z"
   },
   {
    "duration": 15,
    "start_time": "2024-07-18T16:38:48.264Z"
   },
   {
    "duration": 52,
    "start_time": "2024-07-18T16:38:48.282Z"
   },
   {
    "duration": 14,
    "start_time": "2024-07-18T16:38:48.340Z"
   },
   {
    "duration": 28,
    "start_time": "2024-07-18T16:38:48.356Z"
   },
   {
    "duration": 3,
    "start_time": "2024-07-18T16:38:48.388Z"
   },
   {
    "duration": 5,
    "start_time": "2024-07-18T16:38:48.430Z"
   },
   {
    "duration": 4,
    "start_time": "2024-07-18T16:38:48.438Z"
   },
   {
    "duration": 5,
    "start_time": "2024-07-18T16:38:48.444Z"
   },
   {
    "duration": 4,
    "start_time": "2024-07-18T16:38:48.451Z"
   },
   {
    "duration": 53,
    "start_time": "2024-07-18T16:46:16.453Z"
   },
   {
    "duration": 27,
    "start_time": "2024-07-18T16:48:43.464Z"
   },
   {
    "duration": 77,
    "start_time": "2024-07-18T17:18:06.773Z"
   },
   {
    "duration": 81,
    "start_time": "2024-07-18T17:18:22.029Z"
   },
   {
    "duration": 78,
    "start_time": "2024-07-18T17:18:41.306Z"
   },
   {
    "duration": 79,
    "start_time": "2024-07-18T17:23:12.154Z"
   },
   {
    "duration": 27,
    "start_time": "2024-07-18T17:23:26.072Z"
   },
   {
    "duration": 100,
    "start_time": "2024-07-18T17:27:09.649Z"
   },
   {
    "duration": 86,
    "start_time": "2024-07-18T17:27:26.844Z"
   },
   {
    "duration": 4,
    "start_time": "2024-07-18T18:16:45.194Z"
   },
   {
    "duration": 5,
    "start_time": "2024-07-18T18:16:51.144Z"
   },
   {
    "duration": 5,
    "start_time": "2024-07-18T18:20:04.109Z"
   },
   {
    "duration": 5,
    "start_time": "2024-07-18T18:20:18.646Z"
   },
   {
    "duration": 19,
    "start_time": "2024-07-18T18:20:25.006Z"
   },
   {
    "duration": 3,
    "start_time": "2024-07-18T18:52:20.282Z"
   },
   {
    "duration": 320,
    "start_time": "2024-07-18T18:52:27.014Z"
   },
   {
    "duration": 4,
    "start_time": "2024-07-18T18:55:04.775Z"
   },
   {
    "duration": 3,
    "start_time": "2024-07-18T18:55:10.272Z"
   },
   {
    "duration": 3,
    "start_time": "2024-07-18T18:55:11.840Z"
   },
   {
    "duration": 22,
    "start_time": "2024-07-18T18:55:23.320Z"
   },
   {
    "duration": 5,
    "start_time": "2024-07-18T18:55:46.089Z"
   },
   {
    "duration": 25,
    "start_time": "2024-07-18T18:55:58.128Z"
   },
   {
    "duration": 22,
    "start_time": "2024-07-18T18:56:25.932Z"
   },
   {
    "duration": 22,
    "start_time": "2024-07-18T18:57:27.020Z"
   },
   {
    "duration": 22,
    "start_time": "2024-07-18T18:58:05.611Z"
   },
   {
    "duration": 22,
    "start_time": "2024-07-18T18:58:18.985Z"
   },
   {
    "duration": 23,
    "start_time": "2024-07-18T18:58:29.507Z"
   },
   {
    "duration": 23,
    "start_time": "2024-07-18T18:58:33.160Z"
   },
   {
    "duration": 11,
    "start_time": "2024-07-18T18:58:56.301Z"
   },
   {
    "duration": 3,
    "start_time": "2024-07-18T18:58:58.281Z"
   },
   {
    "duration": 226,
    "start_time": "2024-07-18T18:58:58.288Z"
   },
   {
    "duration": 23,
    "start_time": "2024-07-18T18:58:58.517Z"
   },
   {
    "duration": 34,
    "start_time": "2024-07-18T18:58:58.543Z"
   },
   {
    "duration": 6,
    "start_time": "2024-07-18T18:58:58.582Z"
   },
   {
    "duration": 47,
    "start_time": "2024-07-18T18:58:58.591Z"
   },
   {
    "duration": 6,
    "start_time": "2024-07-18T18:58:58.641Z"
   },
   {
    "duration": 29,
    "start_time": "2024-07-18T18:58:58.651Z"
   },
   {
    "duration": 53,
    "start_time": "2024-07-18T18:58:58.682Z"
   },
   {
    "duration": 56,
    "start_time": "2024-07-18T18:58:58.738Z"
   },
   {
    "duration": 56,
    "start_time": "2024-07-18T18:58:58.800Z"
   },
   {
    "duration": 29,
    "start_time": "2024-07-18T18:58:58.859Z"
   },
   {
    "duration": 44,
    "start_time": "2024-07-18T18:58:58.892Z"
   },
   {
    "duration": 76,
    "start_time": "2024-07-18T18:58:58.938Z"
   },
   {
    "duration": 23,
    "start_time": "2024-07-18T18:58:59.031Z"
   },
   {
    "duration": 22,
    "start_time": "2024-07-18T18:58:59.057Z"
   },
   {
    "duration": 160,
    "start_time": "2024-07-18T18:58:59.083Z"
   },
   {
    "duration": 101,
    "start_time": "2024-07-18T18:58:59.246Z"
   },
   {
    "duration": 81,
    "start_time": "2024-07-18T18:58:59.350Z"
   },
   {
    "duration": 70,
    "start_time": "2024-07-18T18:58:59.435Z"
   },
   {
    "duration": 101,
    "start_time": "2024-07-18T18:58:59.508Z"
   },
   {
    "duration": 19,
    "start_time": "2024-07-18T18:58:59.612Z"
   },
   {
    "duration": 16,
    "start_time": "2024-07-18T18:58:59.634Z"
   },
   {
    "duration": 5,
    "start_time": "2024-07-18T18:58:59.653Z"
   },
   {
    "duration": 25,
    "start_time": "2024-07-18T18:58:59.661Z"
   },
   {
    "duration": 51,
    "start_time": "2024-07-18T18:58:59.689Z"
   },
   {
    "duration": 24,
    "start_time": "2024-07-18T18:58:59.743Z"
   },
   {
    "duration": 11,
    "start_time": "2024-07-18T18:58:59.770Z"
   },
   {
    "duration": 47,
    "start_time": "2024-07-18T18:58:59.787Z"
   },
   {
    "duration": 24,
    "start_time": "2024-07-18T18:58:59.837Z"
   },
   {
    "duration": 3,
    "start_time": "2024-07-18T18:58:59.864Z"
   },
   {
    "duration": 4,
    "start_time": "2024-07-18T18:58:59.871Z"
   },
   {
    "duration": 4,
    "start_time": "2024-07-18T18:58:59.878Z"
   },
   {
    "duration": 50,
    "start_time": "2024-07-18T18:58:59.884Z"
   },
   {
    "duration": 2,
    "start_time": "2024-07-18T18:58:59.938Z"
   },
   {
    "duration": 4,
    "start_time": "2024-07-18T18:58:59.943Z"
   },
   {
    "duration": 4,
    "start_time": "2024-07-18T18:59:04.673Z"
   },
   {
    "duration": 219,
    "start_time": "2024-07-18T18:59:04.687Z"
   },
   {
    "duration": 26,
    "start_time": "2024-07-18T18:59:04.909Z"
   },
   {
    "duration": 35,
    "start_time": "2024-07-18T18:59:04.938Z"
   },
   {
    "duration": 6,
    "start_time": "2024-07-18T18:59:04.978Z"
   },
   {
    "duration": 46,
    "start_time": "2024-07-18T18:59:04.989Z"
   },
   {
    "duration": 7,
    "start_time": "2024-07-18T18:59:05.039Z"
   },
   {
    "duration": 38,
    "start_time": "2024-07-18T18:59:05.049Z"
   },
   {
    "duration": 46,
    "start_time": "2024-07-18T18:59:05.090Z"
   },
   {
    "duration": 52,
    "start_time": "2024-07-18T18:59:05.139Z"
   },
   {
    "duration": 59,
    "start_time": "2024-07-18T18:59:05.194Z"
   },
   {
    "duration": 29,
    "start_time": "2024-07-18T18:59:05.256Z"
   },
   {
    "duration": 42,
    "start_time": "2024-07-18T18:59:05.288Z"
   },
   {
    "duration": 75,
    "start_time": "2024-07-18T18:59:05.333Z"
   },
   {
    "duration": 22,
    "start_time": "2024-07-18T18:59:05.432Z"
   },
   {
    "duration": 22,
    "start_time": "2024-07-18T18:59:05.457Z"
   },
   {
    "duration": 155,
    "start_time": "2024-07-18T18:59:05.482Z"
   },
   {
    "duration": 122,
    "start_time": "2024-07-18T18:59:05.642Z"
   },
   {
    "duration": 95,
    "start_time": "2024-07-18T18:59:05.767Z"
   },
   {
    "duration": 84,
    "start_time": "2024-07-18T18:59:05.865Z"
   },
   {
    "duration": 99,
    "start_time": "2024-07-18T18:59:05.953Z"
   },
   {
    "duration": 4,
    "start_time": "2024-07-18T18:59:06.055Z"
   },
   {
    "duration": 15,
    "start_time": "2024-07-18T18:59:06.062Z"
   },
   {
    "duration": 4,
    "start_time": "2024-07-18T18:59:06.081Z"
   },
   {
    "duration": 62,
    "start_time": "2024-07-18T18:59:06.088Z"
   },
   {
    "duration": 14,
    "start_time": "2024-07-18T18:59:06.153Z"
   },
   {
    "duration": 25,
    "start_time": "2024-07-18T18:59:06.170Z"
   },
   {
    "duration": 35,
    "start_time": "2024-07-18T18:59:06.198Z"
   },
   {
    "duration": 16,
    "start_time": "2024-07-18T18:59:06.237Z"
   },
   {
    "duration": 22,
    "start_time": "2024-07-18T18:59:06.256Z"
   },
   {
    "duration": 3,
    "start_time": "2024-07-18T18:59:06.281Z"
   },
   {
    "duration": 45,
    "start_time": "2024-07-18T18:59:06.287Z"
   },
   {
    "duration": 4,
    "start_time": "2024-07-18T18:59:06.334Z"
   },
   {
    "duration": 5,
    "start_time": "2024-07-18T18:59:06.342Z"
   },
   {
    "duration": 4,
    "start_time": "2024-07-18T18:59:06.349Z"
   },
   {
    "duration": 4,
    "start_time": "2024-07-18T18:59:06.355Z"
   },
   {
    "duration": 21,
    "start_time": "2024-07-18T18:59:39.504Z"
   },
   {
    "duration": 3,
    "start_time": "2024-07-18T18:59:54.601Z"
   },
   {
    "duration": 23,
    "start_time": "2024-07-18T19:00:44.811Z"
   },
   {
    "duration": 22,
    "start_time": "2024-07-18T19:01:01.802Z"
   },
   {
    "duration": 5,
    "start_time": "2024-07-18T19:01:11.881Z"
   },
   {
    "duration": 29,
    "start_time": "2024-07-18T19:01:27.661Z"
   },
   {
    "duration": 1031,
    "start_time": "2024-07-18T19:01:46.544Z"
   },
   {
    "duration": 39,
    "start_time": "2024-07-18T19:01:52.063Z"
   },
   {
    "duration": 20,
    "start_time": "2024-07-18T19:02:24.802Z"
   },
   {
    "duration": 12,
    "start_time": "2024-07-18T19:02:42.416Z"
   },
   {
    "duration": 29,
    "start_time": "2024-07-18T19:04:01.195Z"
   },
   {
    "duration": 30,
    "start_time": "2024-07-18T19:06:51.848Z"
   },
   {
    "duration": 578,
    "start_time": "2024-07-18T19:09:11.918Z"
   },
   {
    "duration": 74,
    "start_time": "2024-07-18T19:10:20.243Z"
   },
   {
    "duration": 3,
    "start_time": "2024-07-18T19:11:08.868Z"
   },
   {
    "duration": 7,
    "start_time": "2024-07-18T19:11:41.446Z"
   },
   {
    "duration": 7,
    "start_time": "2024-07-18T19:11:53.676Z"
   },
   {
    "duration": 23,
    "start_time": "2024-07-18T19:11:58.268Z"
   },
   {
    "duration": 34,
    "start_time": "2024-07-18T19:12:18.404Z"
   },
   {
    "duration": 5,
    "start_time": "2024-07-19T00:29:50.594Z"
   },
   {
    "duration": 5,
    "start_time": "2024-07-19T00:51:01.811Z"
   },
   {
    "duration": 17,
    "start_time": "2024-07-19T00:51:08.514Z"
   },
   {
    "duration": 15,
    "start_time": "2024-07-19T01:07:09.679Z"
   },
   {
    "duration": 30,
    "start_time": "2024-07-19T01:11:38.524Z"
   },
   {
    "duration": 494,
    "start_time": "2024-07-21T20:02:04.847Z"
   },
   {
    "duration": 270,
    "start_time": "2024-07-21T20:02:05.344Z"
   },
   {
    "duration": 20,
    "start_time": "2024-07-21T20:02:05.616Z"
   },
   {
    "duration": 53,
    "start_time": "2024-07-21T20:02:05.639Z"
   },
   {
    "duration": 6,
    "start_time": "2024-07-21T20:02:05.697Z"
   },
   {
    "duration": 11,
    "start_time": "2024-07-21T20:02:05.706Z"
   },
   {
    "duration": 6,
    "start_time": "2024-07-21T20:02:05.719Z"
   },
   {
    "duration": 67,
    "start_time": "2024-07-21T20:02:05.728Z"
   },
   {
    "duration": 96,
    "start_time": "2024-07-21T20:02:05.798Z"
   },
   {
    "duration": 71,
    "start_time": "2024-07-21T20:02:05.897Z"
   },
   {
    "duration": 37,
    "start_time": "2024-07-21T20:02:05.971Z"
   },
   {
    "duration": 28,
    "start_time": "2024-07-21T20:02:06.011Z"
   },
   {
    "duration": 17,
    "start_time": "2024-07-21T20:02:06.069Z"
   },
   {
    "duration": 101,
    "start_time": "2024-07-21T20:02:06.093Z"
   },
   {
    "duration": 22,
    "start_time": "2024-07-21T20:02:06.197Z"
   },
   {
    "duration": 54,
    "start_time": "2024-07-21T20:02:06.222Z"
   },
   {
    "duration": 136,
    "start_time": "2024-07-21T20:02:06.279Z"
   },
   {
    "duration": 114,
    "start_time": "2024-07-21T20:02:06.419Z"
   },
   {
    "duration": 93,
    "start_time": "2024-07-21T20:02:06.536Z"
   },
   {
    "duration": 103,
    "start_time": "2024-07-21T20:02:06.633Z"
   },
   {
    "duration": 102,
    "start_time": "2024-07-21T20:02:06.740Z"
   },
   {
    "duration": 4,
    "start_time": "2024-07-21T20:02:06.846Z"
   },
   {
    "duration": 18,
    "start_time": "2024-07-21T20:02:06.868Z"
   },
   {
    "duration": 5,
    "start_time": "2024-07-21T20:02:06.890Z"
   },
   {
    "duration": 28,
    "start_time": "2024-07-21T20:02:06.897Z"
   },
   {
    "duration": 47,
    "start_time": "2024-07-21T20:02:06.927Z"
   },
   {
    "duration": 26,
    "start_time": "2024-07-21T20:02:06.977Z"
   },
   {
    "duration": 11,
    "start_time": "2024-07-21T20:02:07.005Z"
   },
   {
    "duration": 52,
    "start_time": "2024-07-21T20:02:07.019Z"
   },
   {
    "duration": 25,
    "start_time": "2024-07-21T20:02:07.074Z"
   },
   {
    "duration": 30,
    "start_time": "2024-07-21T20:02:07.102Z"
   },
   {
    "duration": 18,
    "start_time": "2024-07-21T20:02:07.170Z"
   },
   {
    "duration": 26,
    "start_time": "2024-07-21T20:02:07.191Z"
   },
   {
    "duration": 323,
    "start_time": "2024-07-21T20:02:07.220Z"
   },
   {
    "duration": 0,
    "start_time": "2024-07-21T20:02:07.546Z"
   },
   {
    "duration": 0,
    "start_time": "2024-07-21T20:02:07.550Z"
   },
   {
    "duration": 0,
    "start_time": "2024-07-21T20:02:07.553Z"
   },
   {
    "duration": 28,
    "start_time": "2024-07-21T20:03:15.093Z"
   },
   {
    "duration": 22,
    "start_time": "2024-07-21T20:03:21.021Z"
   },
   {
    "duration": 22,
    "start_time": "2024-07-21T20:03:32.317Z"
   },
   {
    "duration": 3,
    "start_time": "2024-07-21T20:03:53.955Z"
   },
   {
    "duration": 215,
    "start_time": "2024-07-21T20:03:56.418Z"
   },
   {
    "duration": 17,
    "start_time": "2024-07-21T20:04:02.221Z"
   },
   {
    "duration": 33,
    "start_time": "2024-07-21T20:04:06.702Z"
   },
   {
    "duration": 7,
    "start_time": "2024-07-21T20:04:14.097Z"
   },
   {
    "duration": 6,
    "start_time": "2024-07-21T20:04:16.829Z"
   },
   {
    "duration": 11,
    "start_time": "2024-07-21T20:04:21.377Z"
   },
   {
    "duration": 6,
    "start_time": "2024-07-21T20:04:23.585Z"
   },
   {
    "duration": 39,
    "start_time": "2024-07-21T20:04:28.170Z"
   },
   {
    "duration": 62,
    "start_time": "2024-07-21T20:04:33.598Z"
   },
   {
    "duration": 34,
    "start_time": "2024-07-21T20:04:37.788Z"
   },
   {
    "duration": 54,
    "start_time": "2024-07-21T20:04:43.370Z"
   },
   {
    "duration": 29,
    "start_time": "2024-07-21T20:05:18.194Z"
   },
   {
    "duration": 28,
    "start_time": "2024-07-21T20:06:19.206Z"
   },
   {
    "duration": 79,
    "start_time": "2024-07-21T20:06:24.565Z"
   },
   {
    "duration": 23,
    "start_time": "2024-07-21T20:06:59.386Z"
   },
   {
    "duration": 112,
    "start_time": "2024-07-21T20:07:09.545Z"
   },
   {
    "duration": 97,
    "start_time": "2024-07-21T20:07:16.829Z"
   },
   {
    "duration": 73,
    "start_time": "2024-07-21T20:07:23.741Z"
   },
   {
    "duration": 87,
    "start_time": "2024-07-21T20:07:26.750Z"
   },
   {
    "duration": 92,
    "start_time": "2024-07-21T20:07:32.277Z"
   },
   {
    "duration": 4,
    "start_time": "2024-07-21T20:07:37.443Z"
   },
   {
    "duration": 4,
    "start_time": "2024-07-21T20:07:46.461Z"
   },
   {
    "duration": 25,
    "start_time": "2024-07-21T20:07:48.608Z"
   },
   {
    "duration": 18,
    "start_time": "2024-07-21T20:07:51.071Z"
   },
   {
    "duration": 23,
    "start_time": "2024-07-21T20:07:59.372Z"
   },
   {
    "duration": 11,
    "start_time": "2024-07-21T20:08:01.969Z"
   },
   {
    "duration": 24,
    "start_time": "2024-07-22T00:36:40.870Z"
   },
   {
    "duration": 32,
    "start_time": "2024-07-22T00:36:46.586Z"
   },
   {
    "duration": 18,
    "start_time": "2024-07-22T00:36:53.073Z"
   },
   {
    "duration": 4,
    "start_time": "2024-07-22T00:46:40.611Z"
   },
   {
    "duration": 4,
    "start_time": "2024-07-22T00:46:45.498Z"
   },
   {
    "duration": 24,
    "start_time": "2024-07-22T01:01:07.735Z"
   },
   {
    "duration": 3,
    "start_time": "2024-07-22T01:01:18.938Z"
   },
   {
    "duration": 22,
    "start_time": "2024-07-22T01:05:04.689Z"
   },
   {
    "duration": 24,
    "start_time": "2024-07-22T01:05:19.801Z"
   },
   {
    "duration": 7,
    "start_time": "2024-07-22T01:07:03.334Z"
   },
   {
    "duration": 5,
    "start_time": "2024-07-22T01:07:37.617Z"
   },
   {
    "duration": 4,
    "start_time": "2024-07-22T01:07:59.474Z"
   },
   {
    "duration": 4,
    "start_time": "2024-07-22T01:08:04.330Z"
   },
   {
    "duration": 8,
    "start_time": "2024-07-22T01:08:11.782Z"
   },
   {
    "duration": 6,
    "start_time": "2024-07-22T01:08:40.687Z"
   },
   {
    "duration": 322,
    "start_time": "2024-07-22T01:14:33.095Z"
   },
   {
    "duration": 22,
    "start_time": "2024-07-22T01:16:26.491Z"
   },
   {
    "duration": 21,
    "start_time": "2024-07-22T01:17:19.627Z"
   },
   {
    "duration": 8,
    "start_time": "2024-07-22T01:17:24.482Z"
   },
   {
    "duration": 20,
    "start_time": "2024-07-22T01:17:28.822Z"
   },
   {
    "duration": 422,
    "start_time": "2024-07-22T01:17:40.731Z"
   },
   {
    "duration": 229,
    "start_time": "2024-07-22T01:17:41.157Z"
   },
   {
    "duration": 18,
    "start_time": "2024-07-22T01:17:41.389Z"
   },
   {
    "duration": 35,
    "start_time": "2024-07-22T01:17:41.410Z"
   },
   {
    "duration": 5,
    "start_time": "2024-07-22T01:17:41.471Z"
   },
   {
    "duration": 15,
    "start_time": "2024-07-22T01:17:41.479Z"
   },
   {
    "duration": 6,
    "start_time": "2024-07-22T01:17:41.497Z"
   },
   {
    "duration": 72,
    "start_time": "2024-07-22T01:17:41.506Z"
   },
   {
    "duration": 16,
    "start_time": "2024-07-22T01:17:41.583Z"
   },
   {
    "duration": 78,
    "start_time": "2024-07-22T01:17:41.602Z"
   },
   {
    "duration": 36,
    "start_time": "2024-07-22T01:17:41.684Z"
   },
   {
    "duration": 49,
    "start_time": "2024-07-22T01:17:41.723Z"
   },
   {
    "duration": 16,
    "start_time": "2024-07-22T01:17:41.774Z"
   },
   {
    "duration": 105,
    "start_time": "2024-07-22T01:17:41.797Z"
   },
   {
    "duration": 25,
    "start_time": "2024-07-22T01:17:41.905Z"
   },
   {
    "duration": 52,
    "start_time": "2024-07-22T01:17:41.933Z"
   },
   {
    "duration": 128,
    "start_time": "2024-07-22T01:17:41.988Z"
   },
   {
    "duration": 135,
    "start_time": "2024-07-22T01:17:42.119Z"
   },
   {
    "duration": 85,
    "start_time": "2024-07-22T01:17:42.261Z"
   },
   {
    "duration": 91,
    "start_time": "2024-07-22T01:17:42.349Z"
   },
   {
    "duration": 101,
    "start_time": "2024-07-22T01:17:42.444Z"
   },
   {
    "duration": 4,
    "start_time": "2024-07-22T01:17:42.548Z"
   },
   {
    "duration": 14,
    "start_time": "2024-07-22T01:17:42.569Z"
   },
   {
    "duration": 7,
    "start_time": "2024-07-22T01:17:42.587Z"
   },
   {
    "duration": 26,
    "start_time": "2024-07-22T01:17:42.597Z"
   },
   {
    "duration": 48,
    "start_time": "2024-07-22T01:17:42.625Z"
   },
   {
    "duration": 7,
    "start_time": "2024-07-22T01:17:42.676Z"
   },
   {
    "duration": 11,
    "start_time": "2024-07-22T01:17:42.686Z"
   },
   {
    "duration": 5,
    "start_time": "2024-07-22T01:17:42.700Z"
   },
   {
    "duration": 0,
    "start_time": "2024-07-22T01:17:42.707Z"
   },
   {
    "duration": 0,
    "start_time": "2024-07-22T01:17:42.709Z"
   },
   {
    "duration": 0,
    "start_time": "2024-07-22T01:17:42.711Z"
   },
   {
    "duration": 0,
    "start_time": "2024-07-22T01:17:42.714Z"
   },
   {
    "duration": 0,
    "start_time": "2024-07-22T01:17:42.767Z"
   },
   {
    "duration": 0,
    "start_time": "2024-07-22T01:17:42.769Z"
   },
   {
    "duration": 0,
    "start_time": "2024-07-22T01:17:42.771Z"
   },
   {
    "duration": 0,
    "start_time": "2024-07-22T01:17:42.774Z"
   },
   {
    "duration": 0,
    "start_time": "2024-07-22T01:17:42.776Z"
   },
   {
    "duration": 3,
    "start_time": "2024-07-22T01:17:52.143Z"
   },
   {
    "duration": 7,
    "start_time": "2024-07-22T01:18:00.235Z"
   },
   {
    "duration": 4,
    "start_time": "2024-07-22T01:18:09.652Z"
   },
   {
    "duration": 419,
    "start_time": "2024-07-22T01:28:21.412Z"
   },
   {
    "duration": 5,
    "start_time": "2024-07-22T01:30:27.460Z"
   },
   {
    "duration": 181,
    "start_time": "2024-07-22T01:30:49.688Z"
   },
   {
    "duration": 3,
    "start_time": "2024-07-22T01:31:58.699Z"
   },
   {
    "duration": 210,
    "start_time": "2024-07-22T01:32:00.491Z"
   },
   {
    "duration": 17,
    "start_time": "2024-07-22T01:32:05.371Z"
   },
   {
    "duration": 36,
    "start_time": "2024-07-22T01:32:10.178Z"
   },
   {
    "duration": 6,
    "start_time": "2024-07-22T01:32:15.143Z"
   },
   {
    "duration": 12,
    "start_time": "2024-07-22T01:32:17.439Z"
   },
   {
    "duration": 5,
    "start_time": "2024-07-22T01:32:21.223Z"
   },
   {
    "duration": 29,
    "start_time": "2024-07-22T01:32:23.159Z"
   },
   {
    "duration": 56,
    "start_time": "2024-07-22T01:32:28.631Z"
   },
   {
    "duration": 34,
    "start_time": "2024-07-22T01:32:33.819Z"
   },
   {
    "duration": 30,
    "start_time": "2024-07-22T01:32:38.205Z"
   },
   {
    "duration": 86,
    "start_time": "2024-07-22T01:32:44.252Z"
   },
   {
    "duration": 25,
    "start_time": "2024-07-22T01:32:52.991Z"
   },
   {
    "duration": 120,
    "start_time": "2024-07-22T01:33:33.528Z"
   },
   {
    "duration": 115,
    "start_time": "2024-07-22T01:33:45.007Z"
   },
   {
    "duration": 79,
    "start_time": "2024-07-22T01:33:54.607Z"
   },
   {
    "duration": 79,
    "start_time": "2024-07-22T01:34:01.867Z"
   },
   {
    "duration": 93,
    "start_time": "2024-07-22T01:35:08.879Z"
   },
   {
    "duration": 3,
    "start_time": "2024-07-22T01:35:15.706Z"
   },
   {
    "duration": 7,
    "start_time": "2024-07-22T01:35:18.415Z"
   },
   {
    "duration": 26,
    "start_time": "2024-07-22T01:35:27.084Z"
   },
   {
    "duration": 14,
    "start_time": "2024-07-22T01:35:29.515Z"
   },
   {
    "duration": 8,
    "start_time": "2024-07-22T01:35:34.691Z"
   },
   {
    "duration": 10,
    "start_time": "2024-07-22T01:35:40.727Z"
   },
   {
    "duration": 26,
    "start_time": "2024-07-22T01:36:34.188Z"
   },
   {
    "duration": 24,
    "start_time": "2024-07-22T01:36:38.397Z"
   },
   {
    "duration": 19,
    "start_time": "2024-07-22T01:36:48.560Z"
   },
   {
    "duration": 11,
    "start_time": "2024-07-22T01:37:47.197Z"
   },
   {
    "duration": 12,
    "start_time": "2024-07-22T01:38:53.599Z"
   },
   {
    "duration": 12,
    "start_time": "2024-07-22T01:39:03.304Z"
   },
   {
    "duration": 11,
    "start_time": "2024-07-22T01:39:09.220Z"
   },
   {
    "duration": 4,
    "start_time": "2024-07-22T01:39:44.373Z"
   },
   {
    "duration": 3,
    "start_time": "2024-07-22T01:39:58.191Z"
   },
   {
    "duration": 6,
    "start_time": "2024-07-22T01:42:38.564Z"
   },
   {
    "duration": 3,
    "start_time": "2024-07-22T01:43:07.024Z"
   },
   {
    "duration": 27,
    "start_time": "2024-07-22T01:43:10.343Z"
   },
   {
    "duration": 4,
    "start_time": "2024-07-22T01:47:28.881Z"
   },
   {
    "duration": 5,
    "start_time": "2024-07-22T01:47:57.386Z"
   },
   {
    "duration": 7,
    "start_time": "2024-07-22T01:58:56.764Z"
   },
   {
    "duration": 15,
    "start_time": "2024-07-22T01:59:09.471Z"
   },
   {
    "duration": 40,
    "start_time": "2024-07-22T02:04:59.439Z"
   },
   {
    "duration": 16,
    "start_time": "2024-07-22T02:05:07.872Z"
   },
   {
    "duration": 5,
    "start_time": "2024-07-22T02:05:12.112Z"
   },
   {
    "duration": 18,
    "start_time": "2024-07-22T02:05:14.249Z"
   },
   {
    "duration": 8,
    "start_time": "2024-07-22T02:06:23.108Z"
   },
   {
    "duration": 14,
    "start_time": "2024-07-22T02:06:31.344Z"
   },
   {
    "duration": 33,
    "start_time": "2024-07-22T02:06:38.218Z"
   },
   {
    "duration": 8,
    "start_time": "2024-07-22T02:09:09.891Z"
   },
   {
    "duration": 28,
    "start_time": "2024-07-22T02:09:18.134Z"
   },
   {
    "duration": 6,
    "start_time": "2024-07-22T02:09:25.307Z"
   },
   {
    "duration": 27,
    "start_time": "2024-07-22T02:09:30.599Z"
   },
   {
    "duration": 8,
    "start_time": "2024-07-22T02:10:57.187Z"
   },
   {
    "duration": 38,
    "start_time": "2024-07-22T02:11:18.065Z"
   },
   {
    "duration": 32,
    "start_time": "2024-07-22T02:12:28.729Z"
   },
   {
    "duration": 34,
    "start_time": "2024-07-22T02:12:33.259Z"
   },
   {
    "duration": 16,
    "start_time": "2024-07-22T03:33:32.295Z"
   },
   {
    "duration": 4,
    "start_time": "2024-07-22T03:38:14.411Z"
   },
   {
    "duration": 10,
    "start_time": "2024-07-22T03:38:18.763Z"
   },
   {
    "duration": 13,
    "start_time": "2024-07-22T03:38:29.727Z"
   },
   {
    "duration": 10,
    "start_time": "2024-07-22T03:38:39.004Z"
   },
   {
    "duration": 231,
    "start_time": "2024-07-22T03:39:02.747Z"
   },
   {
    "duration": 52,
    "start_time": "2024-07-22T03:39:14.087Z"
   },
   {
    "duration": 10,
    "start_time": "2024-07-22T03:39:21.547Z"
   },
   {
    "duration": 50,
    "start_time": "2024-07-22T03:39:30.772Z"
   },
   {
    "duration": 8,
    "start_time": "2024-07-22T03:39:59.738Z"
   },
   {
    "duration": 12,
    "start_time": "2024-07-22T03:40:14.960Z"
   },
   {
    "duration": 11,
    "start_time": "2024-07-22T03:40:28.128Z"
   },
   {
    "duration": 10,
    "start_time": "2024-07-22T03:40:48.071Z"
   },
   {
    "duration": 10,
    "start_time": "2024-07-22T03:40:56.016Z"
   },
   {
    "duration": 14,
    "start_time": "2024-07-22T03:41:02.141Z"
   },
   {
    "duration": 18,
    "start_time": "2024-07-22T03:41:07.669Z"
   },
   {
    "duration": 23,
    "start_time": "2024-07-22T03:41:11.619Z"
   },
   {
    "duration": 21,
    "start_time": "2024-07-22T03:44:17.826Z"
   },
   {
    "duration": 24,
    "start_time": "2024-07-22T03:44:22.204Z"
   },
   {
    "duration": 34,
    "start_time": "2024-07-22T03:44:32.983Z"
   },
   {
    "duration": 30,
    "start_time": "2024-07-22T03:45:16.407Z"
   },
   {
    "duration": 30,
    "start_time": "2024-07-22T03:47:54.242Z"
   },
   {
    "duration": 983,
    "start_time": "2024-07-22T03:48:06.063Z"
   },
   {
    "duration": 28,
    "start_time": "2024-07-22T03:48:17.484Z"
   },
   {
    "duration": 28,
    "start_time": "2024-07-22T03:48:26.787Z"
   },
   {
    "duration": 31,
    "start_time": "2024-07-22T03:49:38.019Z"
   },
   {
    "duration": 901,
    "start_time": "2024-07-22T03:49:55.567Z"
   },
   {
    "duration": 43,
    "start_time": "2024-07-22T03:49:59.139Z"
   },
   {
    "duration": 34,
    "start_time": "2024-07-22T03:50:05.535Z"
   },
   {
    "duration": 6,
    "start_time": "2024-07-22T03:50:14.899Z"
   },
   {
    "duration": 43,
    "start_time": "2024-07-22T03:50:20.563Z"
   },
   {
    "duration": 23,
    "start_time": "2024-07-22T03:53:50.200Z"
   },
   {
    "duration": 6,
    "start_time": "2024-07-22T03:53:54.799Z"
   },
   {
    "duration": 8,
    "start_time": "2024-07-22T03:56:27.315Z"
   },
   {
    "duration": 6,
    "start_time": "2024-07-22T03:57:17.709Z"
   },
   {
    "duration": 6,
    "start_time": "2024-07-22T03:57:25.467Z"
   },
   {
    "duration": 5,
    "start_time": "2024-07-22T03:57:40.293Z"
   },
   {
    "duration": 28,
    "start_time": "2024-07-22T03:57:47.495Z"
   },
   {
    "duration": 24,
    "start_time": "2024-07-22T03:58:07.918Z"
   },
   {
    "duration": 22,
    "start_time": "2024-07-22T03:58:13.647Z"
   },
   {
    "duration": 24,
    "start_time": "2024-07-22T03:58:27.598Z"
   },
   {
    "duration": 26,
    "start_time": "2024-07-22T03:58:34.715Z"
   },
   {
    "duration": 3,
    "start_time": "2024-07-22T04:00:43.299Z"
   },
   {
    "duration": 3,
    "start_time": "2024-07-22T04:00:49.416Z"
   },
   {
    "duration": 25,
    "start_time": "2024-07-22T04:01:16.817Z"
   },
   {
    "duration": 4,
    "start_time": "2024-07-22T04:01:31.071Z"
   },
   {
    "duration": 31,
    "start_time": "2024-07-22T04:01:35.135Z"
   },
   {
    "duration": 3,
    "start_time": "2024-07-22T04:01:45.563Z"
   },
   {
    "duration": 25,
    "start_time": "2024-07-22T04:02:16.368Z"
   },
   {
    "duration": 14,
    "start_time": "2024-07-22T04:03:04.731Z"
   },
   {
    "duration": 2,
    "start_time": "2024-07-22T04:03:13.764Z"
   },
   {
    "duration": 59,
    "start_time": "2024-07-22T04:04:28.451Z"
   },
   {
    "duration": 7,
    "start_time": "2024-07-22T04:05:06.411Z"
   },
   {
    "duration": 27,
    "start_time": "2024-07-22T04:05:22.686Z"
   },
   {
    "duration": 5,
    "start_time": "2024-07-22T04:06:20.393Z"
   },
   {
    "duration": 5,
    "start_time": "2024-07-22T04:06:33.293Z"
   },
   {
    "duration": 7,
    "start_time": "2024-07-22T04:06:40.978Z"
   },
   {
    "duration": 24,
    "start_time": "2024-07-22T04:08:05.459Z"
   },
   {
    "duration": 4,
    "start_time": "2024-07-22T04:08:10.011Z"
   },
   {
    "duration": 7,
    "start_time": "2024-07-22T04:08:20.459Z"
   },
   {
    "duration": 4,
    "start_time": "2024-07-22T04:13:39.715Z"
   },
   {
    "duration": 22,
    "start_time": "2024-07-22T04:13:43.355Z"
   },
   {
    "duration": 3,
    "start_time": "2024-07-22T04:13:59.619Z"
   },
   {
    "duration": 22,
    "start_time": "2024-07-22T04:14:47.298Z"
   },
   {
    "duration": 34,
    "start_time": "2024-07-22T04:14:51.821Z"
   },
   {
    "duration": 130,
    "start_time": "2024-07-22T04:15:12.237Z"
   },
   {
    "duration": 40,
    "start_time": "2024-07-22T04:15:35.034Z"
   },
   {
    "duration": 17,
    "start_time": "2024-07-22T04:16:41.067Z"
   },
   {
    "duration": 16,
    "start_time": "2024-07-22T04:19:26.290Z"
   },
   {
    "duration": 19,
    "start_time": "2024-07-22T04:19:30.211Z"
   },
   {
    "duration": 24,
    "start_time": "2024-07-22T04:20:05.706Z"
   },
   {
    "duration": 40,
    "start_time": "2024-07-22T04:20:12.643Z"
   },
   {
    "duration": 31,
    "start_time": "2024-07-22T04:21:31.115Z"
   },
   {
    "duration": 25,
    "start_time": "2024-07-22T04:21:37.614Z"
   },
   {
    "duration": 5,
    "start_time": "2024-07-22T04:22:11.252Z"
   },
   {
    "duration": 5,
    "start_time": "2024-07-22T04:22:15.011Z"
   },
   {
    "duration": 6,
    "start_time": "2024-07-22T04:24:04.838Z"
   },
   {
    "duration": 5,
    "start_time": "2024-07-22T04:24:14.661Z"
   },
   {
    "duration": 24,
    "start_time": "2024-07-22T04:24:19.715Z"
   },
   {
    "duration": 36,
    "start_time": "2024-07-22T04:24:28.034Z"
   },
   {
    "duration": 15,
    "start_time": "2024-07-22T04:25:08.708Z"
   },
   {
    "duration": 23,
    "start_time": "2024-07-22T04:25:16.559Z"
   },
   {
    "duration": 5,
    "start_time": "2024-07-22T04:32:35.375Z"
   },
   {
    "duration": 23,
    "start_time": "2024-07-22T04:32:38.176Z"
   },
   {
    "duration": 23,
    "start_time": "2024-07-22T04:32:48.434Z"
   },
   {
    "duration": 21,
    "start_time": "2024-07-22T04:32:52.129Z"
   },
   {
    "duration": 3,
    "start_time": "2024-07-22T04:32:54.612Z"
   },
   {
    "duration": 26,
    "start_time": "2024-07-22T04:34:20.486Z"
   },
   {
    "duration": 5,
    "start_time": "2024-07-22T04:34:40.297Z"
   },
   {
    "duration": 10,
    "start_time": "2024-07-22T04:34:45.136Z"
   },
   {
    "duration": 5,
    "start_time": "2024-07-22T04:40:37.636Z"
   },
   {
    "duration": 7,
    "start_time": "2024-07-22T04:40:39.624Z"
   },
   {
    "duration": 5,
    "start_time": "2024-07-22T04:40:44.931Z"
   },
   {
    "duration": 11,
    "start_time": "2024-07-22T04:40:47.579Z"
   },
   {
    "duration": 9,
    "start_time": "2024-07-22T04:41:30.059Z"
   },
   {
    "duration": 21,
    "start_time": "2024-07-22T04:41:31.955Z"
   },
   {
    "duration": 10,
    "start_time": "2024-07-22T04:41:39.859Z"
   },
   {
    "duration": 22,
    "start_time": "2024-07-22T04:47:11.234Z"
   },
   {
    "duration": 20,
    "start_time": "2024-07-22T04:47:47.155Z"
   },
   {
    "duration": 231,
    "start_time": "2024-07-22T04:48:10.136Z"
   },
   {
    "duration": 5,
    "start_time": "2024-07-22T04:48:27.299Z"
   },
   {
    "duration": 6,
    "start_time": "2024-07-22T04:48:46.447Z"
   },
   {
    "duration": 6,
    "start_time": "2024-07-22T04:48:58.313Z"
   },
   {
    "duration": 6,
    "start_time": "2024-07-22T04:49:02.762Z"
   },
   {
    "duration": 10,
    "start_time": "2024-07-22T04:49:49.217Z"
   },
   {
    "duration": 316,
    "start_time": "2024-07-22T04:51:13.787Z"
   },
   {
    "duration": 25,
    "start_time": "2024-07-22T04:51:16.550Z"
   },
   {
    "duration": 486,
    "start_time": "2024-07-22T04:51:37.513Z"
   },
   {
    "duration": 258,
    "start_time": "2024-07-22T04:51:38.003Z"
   },
   {
    "duration": 19,
    "start_time": "2024-07-22T04:51:38.264Z"
   },
   {
    "duration": 37,
    "start_time": "2024-07-22T04:51:38.288Z"
   },
   {
    "duration": 41,
    "start_time": "2024-07-22T04:51:38.328Z"
   },
   {
    "duration": 13,
    "start_time": "2024-07-22T04:51:38.373Z"
   },
   {
    "duration": 7,
    "start_time": "2024-07-22T04:51:38.389Z"
   },
   {
    "duration": 29,
    "start_time": "2024-07-22T04:51:38.399Z"
   },
   {
    "duration": 20,
    "start_time": "2024-07-22T04:51:38.468Z"
   },
   {
    "duration": 75,
    "start_time": "2024-07-22T04:51:38.495Z"
   },
   {
    "duration": 37,
    "start_time": "2024-07-22T04:51:38.577Z"
   },
   {
    "duration": 48,
    "start_time": "2024-07-22T04:51:38.619Z"
   },
   {
    "duration": 18,
    "start_time": "2024-07-22T04:51:38.672Z"
   },
   {
    "duration": 98,
    "start_time": "2024-07-22T04:51:38.693Z"
   },
   {
    "duration": 25,
    "start_time": "2024-07-22T04:51:38.798Z"
   },
   {
    "duration": 57,
    "start_time": "2024-07-22T04:51:38.826Z"
   },
   {
    "duration": 139,
    "start_time": "2024-07-22T04:51:38.886Z"
   },
   {
    "duration": 114,
    "start_time": "2024-07-22T04:51:39.028Z"
   },
   {
    "duration": 90,
    "start_time": "2024-07-22T04:51:39.147Z"
   },
   {
    "duration": 90,
    "start_time": "2024-07-22T04:51:39.241Z"
   },
   {
    "duration": 104,
    "start_time": "2024-07-22T04:51:39.334Z"
   },
   {
    "duration": 3,
    "start_time": "2024-07-22T04:51:39.441Z"
   },
   {
    "duration": 31,
    "start_time": "2024-07-22T04:51:39.447Z"
   },
   {
    "duration": 8,
    "start_time": "2024-07-22T04:51:39.481Z"
   },
   {
    "duration": 25,
    "start_time": "2024-07-22T04:51:39.493Z"
   },
   {
    "duration": 47,
    "start_time": "2024-07-22T04:51:39.521Z"
   },
   {
    "duration": 7,
    "start_time": "2024-07-22T04:51:39.572Z"
   },
   {
    "duration": 12,
    "start_time": "2024-07-22T04:51:39.587Z"
   },
   {
    "duration": 3,
    "start_time": "2024-07-22T04:51:39.602Z"
   },
   {
    "duration": 3,
    "start_time": "2024-07-22T04:51:39.609Z"
   },
   {
    "duration": 105,
    "start_time": "2024-07-22T04:51:39.616Z"
   },
   {
    "duration": 0,
    "start_time": "2024-07-22T04:51:39.724Z"
   },
   {
    "duration": 0,
    "start_time": "2024-07-22T04:51:39.725Z"
   },
   {
    "duration": 0,
    "start_time": "2024-07-22T04:51:39.727Z"
   },
   {
    "duration": 0,
    "start_time": "2024-07-22T04:51:39.730Z"
   },
   {
    "duration": 0,
    "start_time": "2024-07-22T04:51:39.731Z"
   },
   {
    "duration": 0,
    "start_time": "2024-07-22T04:51:39.733Z"
   },
   {
    "duration": 24,
    "start_time": "2024-07-22T04:51:50.636Z"
   },
   {
    "duration": 324,
    "start_time": "2024-07-22T04:52:08.050Z"
   },
   {
    "duration": 510,
    "start_time": "2024-07-22T04:55:28.143Z"
   },
   {
    "duration": 269,
    "start_time": "2024-07-22T04:55:30.189Z"
   },
   {
    "duration": 240,
    "start_time": "2024-07-22T04:55:37.739Z"
   },
   {
    "duration": 204,
    "start_time": "2024-07-22T04:55:42.166Z"
   },
   {
    "duration": 18,
    "start_time": "2024-07-22T04:55:44.313Z"
   },
   {
    "duration": 37,
    "start_time": "2024-07-22T04:55:50.674Z"
   },
   {
    "duration": 5,
    "start_time": "2024-07-22T04:56:00.787Z"
   },
   {
    "duration": 12,
    "start_time": "2024-07-22T04:56:06.910Z"
   },
   {
    "duration": 6,
    "start_time": "2024-07-22T04:56:09.261Z"
   },
   {
    "duration": 36,
    "start_time": "2024-07-22T04:56:14.184Z"
   },
   {
    "duration": 19,
    "start_time": "2024-07-22T04:56:18.482Z"
   },
   {
    "duration": 63,
    "start_time": "2024-07-22T04:56:24.274Z"
   },
   {
    "duration": 39,
    "start_time": "2024-07-22T04:56:27.233Z"
   },
   {
    "duration": 27,
    "start_time": "2024-07-22T04:56:31.378Z"
   },
   {
    "duration": 89,
    "start_time": "2024-07-22T04:56:36.094Z"
   },
   {
    "duration": 22,
    "start_time": "2024-07-22T04:56:40.625Z"
   },
   {
    "duration": 21,
    "start_time": "2024-07-22T04:56:44.842Z"
   },
   {
    "duration": 113,
    "start_time": "2024-07-22T04:56:49.954Z"
   },
   {
    "duration": 128,
    "start_time": "2024-07-22T04:59:35.458Z"
   },
   {
    "duration": 104,
    "start_time": "2024-07-22T04:59:39.529Z"
   },
   {
    "duration": 82,
    "start_time": "2024-07-22T04:59:43.741Z"
   },
   {
    "duration": 81,
    "start_time": "2024-07-22T04:59:48.738Z"
   },
   {
    "duration": 102,
    "start_time": "2024-07-22T04:59:53.570Z"
   },
   {
    "duration": 4,
    "start_time": "2024-07-22T05:00:00.379Z"
   },
   {
    "duration": 6,
    "start_time": "2024-07-22T05:00:03.745Z"
   },
   {
    "duration": 25,
    "start_time": "2024-07-22T05:00:08.606Z"
   },
   {
    "duration": 14,
    "start_time": "2024-07-22T05:00:10.861Z"
   },
   {
    "duration": 7,
    "start_time": "2024-07-22T05:00:13.424Z"
   },
   {
    "duration": 11,
    "start_time": "2024-07-22T05:00:20.354Z"
   },
   {
    "duration": 321,
    "start_time": "2024-07-22T05:00:45.773Z"
   },
   {
    "duration": 24,
    "start_time": "2024-07-22T05:05:22.386Z"
   },
   {
    "duration": 23,
    "start_time": "2024-07-22T05:06:33.461Z"
   },
   {
    "duration": 23,
    "start_time": "2024-07-22T05:07:00.151Z"
   },
   {
    "duration": 24,
    "start_time": "2024-07-22T05:08:50.937Z"
   },
   {
    "duration": 495,
    "start_time": "2024-07-22T05:08:55.783Z"
   },
   {
    "duration": 231,
    "start_time": "2024-07-22T05:08:56.282Z"
   },
   {
    "duration": 25,
    "start_time": "2024-07-22T05:08:56.515Z"
   },
   {
    "duration": 52,
    "start_time": "2024-07-22T05:08:56.544Z"
   },
   {
    "duration": 6,
    "start_time": "2024-07-22T05:08:56.599Z"
   },
   {
    "duration": 11,
    "start_time": "2024-07-22T05:08:56.608Z"
   },
   {
    "duration": 6,
    "start_time": "2024-07-22T05:08:56.621Z"
   },
   {
    "duration": 30,
    "start_time": "2024-07-22T05:08:56.669Z"
   },
   {
    "duration": 15,
    "start_time": "2024-07-22T05:08:56.703Z"
   },
   {
    "duration": 83,
    "start_time": "2024-07-22T05:08:56.724Z"
   },
   {
    "duration": 36,
    "start_time": "2024-07-22T05:08:56.811Z"
   },
   {
    "duration": 34,
    "start_time": "2024-07-22T05:08:56.869Z"
   },
   {
    "duration": 18,
    "start_time": "2024-07-22T05:08:56.907Z"
   },
   {
    "duration": 107,
    "start_time": "2024-07-22T05:08:56.930Z"
   },
   {
    "duration": 45,
    "start_time": "2024-07-22T05:08:57.039Z"
   },
   {
    "duration": 22,
    "start_time": "2024-07-22T05:08:57.087Z"
   },
   {
    "duration": 139,
    "start_time": "2024-07-22T05:08:57.112Z"
   },
   {
    "duration": 119,
    "start_time": "2024-07-22T05:08:57.254Z"
   },
   {
    "duration": 96,
    "start_time": "2024-07-22T05:08:57.376Z"
   },
   {
    "duration": 93,
    "start_time": "2024-07-22T05:08:57.476Z"
   },
   {
    "duration": 102,
    "start_time": "2024-07-22T05:08:57.572Z"
   },
   {
    "duration": 5,
    "start_time": "2024-07-22T05:08:57.677Z"
   },
   {
    "duration": 15,
    "start_time": "2024-07-22T05:08:57.686Z"
   },
   {
    "duration": 7,
    "start_time": "2024-07-22T05:08:57.704Z"
   },
   {
    "duration": 66,
    "start_time": "2024-07-22T05:08:57.714Z"
   },
   {
    "duration": 14,
    "start_time": "2024-07-22T05:08:57.783Z"
   },
   {
    "duration": 7,
    "start_time": "2024-07-22T05:08:57.801Z"
   },
   {
    "duration": 12,
    "start_time": "2024-07-22T05:08:57.815Z"
   },
   {
    "duration": 4,
    "start_time": "2024-07-22T05:08:57.830Z"
   },
   {
    "duration": 5,
    "start_time": "2024-07-22T05:08:57.871Z"
   },
   {
    "duration": 14,
    "start_time": "2024-07-22T05:08:57.881Z"
   },
   {
    "duration": 11,
    "start_time": "2024-07-22T05:08:57.898Z"
   },
   {
    "duration": 4,
    "start_time": "2024-07-22T05:08:57.912Z"
   },
   {
    "duration": 57,
    "start_time": "2024-07-22T05:08:57.919Z"
   },
   {
    "duration": 4,
    "start_time": "2024-07-22T05:08:57.979Z"
   },
   {
    "duration": 4,
    "start_time": "2024-07-22T05:08:57.987Z"
   },
   {
    "duration": 3,
    "start_time": "2024-07-22T05:08:57.995Z"
   },
   {
    "duration": 10,
    "start_time": "2024-07-22T05:09:21.734Z"
   },
   {
    "duration": 1145,
    "start_time": "2024-07-22T05:09:58.970Z"
   },
   {
    "duration": 11,
    "start_time": "2024-07-22T05:10:08.589Z"
   },
   {
    "duration": 9,
    "start_time": "2024-07-22T05:23:37.197Z"
   },
   {
    "duration": 10,
    "start_time": "2024-07-22T05:23:59.248Z"
   },
   {
    "duration": 15,
    "start_time": "2024-07-22T05:25:55.619Z"
   },
   {
    "duration": 17,
    "start_time": "2024-07-22T05:26:01.533Z"
   },
   {
    "duration": 17,
    "start_time": "2024-07-22T05:26:03.531Z"
   },
   {
    "duration": 8,
    "start_time": "2024-07-22T05:26:42.423Z"
   },
   {
    "duration": 31,
    "start_time": "2024-07-22T05:26:45.903Z"
   },
   {
    "duration": 165,
    "start_time": "2024-07-22T05:26:53.062Z"
   },
   {
    "duration": 17,
    "start_time": "2024-07-22T05:26:58.345Z"
   },
   {
    "duration": 4,
    "start_time": "2024-07-22T05:27:10.886Z"
   },
   {
    "duration": 4,
    "start_time": "2024-07-22T05:27:18.993Z"
   },
   {
    "duration": 327,
    "start_time": "2024-07-22T05:29:43.599Z"
   },
   {
    "duration": 22,
    "start_time": "2024-07-22T05:29:48.207Z"
   },
   {
    "duration": 24,
    "start_time": "2024-07-22T05:29:55.558Z"
   },
   {
    "duration": 512,
    "start_time": "2024-07-22T05:29:58.206Z"
   },
   {
    "duration": 251,
    "start_time": "2024-07-22T05:29:58.722Z"
   },
   {
    "duration": 28,
    "start_time": "2024-07-22T05:29:58.976Z"
   },
   {
    "duration": 72,
    "start_time": "2024-07-22T05:29:59.008Z"
   },
   {
    "duration": 7,
    "start_time": "2024-07-22T05:29:59.088Z"
   },
   {
    "duration": 14,
    "start_time": "2024-07-22T05:29:59.099Z"
   },
   {
    "duration": 7,
    "start_time": "2024-07-22T05:29:59.117Z"
   },
   {
    "duration": 67,
    "start_time": "2024-07-22T05:29:59.129Z"
   },
   {
    "duration": 15,
    "start_time": "2024-07-22T05:29:59.199Z"
   },
   {
    "duration": 82,
    "start_time": "2024-07-22T05:29:59.218Z"
   },
   {
    "duration": 33,
    "start_time": "2024-07-22T05:29:59.304Z"
   },
   {
    "duration": 52,
    "start_time": "2024-07-22T05:29:59.341Z"
   },
   {
    "duration": 15,
    "start_time": "2024-07-22T05:29:59.396Z"
   },
   {
    "duration": 116,
    "start_time": "2024-07-22T05:29:59.420Z"
   },
   {
    "duration": 41,
    "start_time": "2024-07-22T05:29:59.540Z"
   },
   {
    "duration": 25,
    "start_time": "2024-07-22T05:29:59.584Z"
   },
   {
    "duration": 165,
    "start_time": "2024-07-22T05:29:59.612Z"
   },
   {
    "duration": 120,
    "start_time": "2024-07-22T05:29:59.780Z"
   },
   {
    "duration": 100,
    "start_time": "2024-07-22T05:29:59.909Z"
   },
   {
    "duration": 99,
    "start_time": "2024-07-22T05:30:00.015Z"
   },
   {
    "duration": 133,
    "start_time": "2024-07-22T05:30:00.117Z"
   },
   {
    "duration": 7,
    "start_time": "2024-07-22T05:30:00.270Z"
   },
   {
    "duration": 23,
    "start_time": "2024-07-22T05:30:00.281Z"
   },
   {
    "duration": 7,
    "start_time": "2024-07-22T05:30:00.308Z"
   },
   {
    "duration": 66,
    "start_time": "2024-07-22T05:30:00.319Z"
   },
   {
    "duration": 21,
    "start_time": "2024-07-22T05:30:00.389Z"
   },
   {
    "duration": 8,
    "start_time": "2024-07-22T05:30:00.414Z"
   },
   {
    "duration": 43,
    "start_time": "2024-07-22T05:30:00.426Z"
   },
   {
    "duration": 3,
    "start_time": "2024-07-22T05:30:00.473Z"
   },
   {
    "duration": 3,
    "start_time": "2024-07-22T05:30:00.479Z"
   },
   {
    "duration": 6,
    "start_time": "2024-07-22T05:30:00.485Z"
   },
   {
    "duration": 111,
    "start_time": "2024-07-22T05:30:00.495Z"
   },
   {
    "duration": 0,
    "start_time": "2024-07-22T05:30:00.610Z"
   },
   {
    "duration": 0,
    "start_time": "2024-07-22T05:30:00.613Z"
   },
   {
    "duration": 0,
    "start_time": "2024-07-22T05:30:00.616Z"
   },
   {
    "duration": 0,
    "start_time": "2024-07-22T05:30:00.618Z"
   },
   {
    "duration": 0,
    "start_time": "2024-07-22T05:30:00.619Z"
   },
   {
    "duration": 0,
    "start_time": "2024-07-22T05:30:00.621Z"
   },
   {
    "duration": 30,
    "start_time": "2024-07-22T05:30:09.582Z"
   },
   {
    "duration": 12,
    "start_time": "2024-07-22T05:30:17.008Z"
   },
   {
    "duration": 12,
    "start_time": "2024-07-22T05:30:19.460Z"
   },
   {
    "duration": 7,
    "start_time": "2024-07-22T05:55:54.357Z"
   },
   {
    "duration": 11,
    "start_time": "2024-07-22T05:56:05.283Z"
   },
   {
    "duration": 23,
    "start_time": "2024-07-22T06:08:13.430Z"
   },
   {
    "duration": 831,
    "start_time": "2024-07-22T06:08:51.793Z"
   },
   {
    "duration": 26,
    "start_time": "2024-07-22T06:09:01.281Z"
   },
   {
    "duration": 25,
    "start_time": "2024-07-22T06:09:09.446Z"
   },
   {
    "duration": 27,
    "start_time": "2024-07-22T06:09:12.142Z"
   },
   {
    "duration": 23,
    "start_time": "2024-07-22T06:09:27.490Z"
   },
   {
    "duration": 5,
    "start_time": "2024-07-22T06:09:32.901Z"
   },
   {
    "duration": 4,
    "start_time": "2024-07-22T06:10:00.346Z"
   },
   {
    "duration": 24,
    "start_time": "2024-07-22T06:10:03.972Z"
   },
   {
    "duration": 7,
    "start_time": "2024-07-22T06:10:21.728Z"
   },
   {
    "duration": 5,
    "start_time": "2024-07-22T06:15:59.228Z"
   },
   {
    "duration": 487,
    "start_time": "2024-07-22T15:40:16.927Z"
   },
   {
    "duration": 237,
    "start_time": "2024-07-22T15:40:17.419Z"
   },
   {
    "duration": 43,
    "start_time": "2024-07-22T15:40:17.658Z"
   },
   {
    "duration": 39,
    "start_time": "2024-07-22T15:40:17.705Z"
   },
   {
    "duration": 6,
    "start_time": "2024-07-22T15:40:17.749Z"
   },
   {
    "duration": 43,
    "start_time": "2024-07-22T15:40:17.758Z"
   },
   {
    "duration": 6,
    "start_time": "2024-07-22T15:40:17.805Z"
   },
   {
    "duration": 30,
    "start_time": "2024-07-22T15:40:17.815Z"
   },
   {
    "duration": 111,
    "start_time": "2024-07-22T15:40:17.848Z"
   },
   {
    "duration": 73,
    "start_time": "2024-07-22T15:40:17.962Z"
   },
   {
    "duration": 33,
    "start_time": "2024-07-22T15:40:18.038Z"
   },
   {
    "duration": 48,
    "start_time": "2024-07-22T15:40:18.074Z"
   },
   {
    "duration": 15,
    "start_time": "2024-07-22T15:40:18.125Z"
   },
   {
    "duration": 115,
    "start_time": "2024-07-22T15:40:18.147Z"
   },
   {
    "duration": 39,
    "start_time": "2024-07-22T15:40:18.265Z"
   },
   {
    "duration": 24,
    "start_time": "2024-07-22T15:40:18.307Z"
   },
   {
    "duration": 149,
    "start_time": "2024-07-22T15:40:18.334Z"
   },
   {
    "duration": 118,
    "start_time": "2024-07-22T15:40:18.487Z"
   },
   {
    "duration": 79,
    "start_time": "2024-07-22T15:40:18.608Z"
   },
   {
    "duration": 79,
    "start_time": "2024-07-22T15:40:18.704Z"
   },
   {
    "duration": 102,
    "start_time": "2024-07-22T15:40:18.802Z"
   },
   {
    "duration": 4,
    "start_time": "2024-07-22T15:40:18.907Z"
   },
   {
    "duration": 16,
    "start_time": "2024-07-22T15:40:18.914Z"
   },
   {
    "duration": 7,
    "start_time": "2024-07-22T15:40:18.934Z"
   },
   {
    "duration": 75,
    "start_time": "2024-07-22T15:40:18.944Z"
   },
   {
    "duration": 16,
    "start_time": "2024-07-22T15:40:19.023Z"
   },
   {
    "duration": 10,
    "start_time": "2024-07-22T15:40:19.043Z"
   },
   {
    "duration": 46,
    "start_time": "2024-07-22T15:40:19.057Z"
   },
   {
    "duration": 3,
    "start_time": "2024-07-22T15:40:19.107Z"
   },
   {
    "duration": 3,
    "start_time": "2024-07-22T15:40:19.115Z"
   },
   {
    "duration": 6,
    "start_time": "2024-07-22T15:40:19.121Z"
   },
   {
    "duration": 7,
    "start_time": "2024-07-22T15:40:19.130Z"
   },
   {
    "duration": 0,
    "start_time": "2024-07-22T15:40:19.141Z"
   },
   {
    "duration": 0,
    "start_time": "2024-07-22T15:40:19.143Z"
   },
   {
    "duration": 0,
    "start_time": "2024-07-22T15:40:19.145Z"
   },
   {
    "duration": 0,
    "start_time": "2024-07-22T15:40:19.149Z"
   },
   {
    "duration": 0,
    "start_time": "2024-07-22T15:40:19.150Z"
   },
   {
    "duration": 12,
    "start_time": "2024-07-22T15:40:25.745Z"
   },
   {
    "duration": 5,
    "start_time": "2024-07-22T15:40:31.275Z"
   },
   {
    "duration": 1019,
    "start_time": "2024-07-22T16:01:14.205Z"
   },
   {
    "duration": 3,
    "start_time": "2024-07-22T16:02:07.568Z"
   },
   {
    "duration": 205,
    "start_time": "2024-07-22T16:02:12.246Z"
   },
   {
    "duration": 18,
    "start_time": "2024-07-22T16:02:15.056Z"
   },
   {
    "duration": 17,
    "start_time": "2024-07-22T16:02:49.465Z"
   },
   {
    "duration": 39,
    "start_time": "2024-07-22T16:02:56.800Z"
   },
   {
    "duration": 6,
    "start_time": "2024-07-22T16:03:43.968Z"
   },
   {
    "duration": 13,
    "start_time": "2024-07-22T16:03:48.913Z"
   },
   {
    "duration": 16,
    "start_time": "2024-07-22T16:04:13.996Z"
   },
   {
    "duration": 7,
    "start_time": "2024-07-22T16:07:13.414Z"
   },
   {
    "duration": 30,
    "start_time": "2024-07-22T16:07:18.356Z"
   },
   {
    "duration": 30,
    "start_time": "2024-07-22T16:07:22.656Z"
   },
   {
    "duration": 53,
    "start_time": "2024-07-22T16:09:11.473Z"
   },
   {
    "duration": 82,
    "start_time": "2024-07-22T16:12:46.016Z"
   },
   {
    "duration": 81,
    "start_time": "2024-07-22T16:13:17.921Z"
   },
   {
    "duration": 76,
    "start_time": "2024-07-22T16:13:25.984Z"
   },
   {
    "duration": 78,
    "start_time": "2024-07-22T16:13:44.736Z"
   },
   {
    "duration": 24,
    "start_time": "2024-07-22T16:14:08.528Z"
   },
   {
    "duration": 24,
    "start_time": "2024-07-22T16:14:19.783Z"
   },
   {
    "duration": 103,
    "start_time": "2024-07-22T16:17:02.469Z"
   },
   {
    "duration": 80,
    "start_time": "2024-07-22T16:17:19.283Z"
   },
   {
    "duration": 79,
    "start_time": "2024-07-22T16:17:32.361Z"
   },
   {
    "duration": 12,
    "start_time": "2024-07-22T16:21:33.516Z"
   },
   {
    "duration": 11,
    "start_time": "2024-07-22T16:22:08.765Z"
   },
   {
    "duration": 11,
    "start_time": "2024-07-22T16:22:16.708Z"
   },
   {
    "duration": 543,
    "start_time": "2024-07-22T16:23:32.636Z"
   },
   {
    "duration": 37,
    "start_time": "2024-07-22T16:27:01.964Z"
   },
   {
    "duration": 16,
    "start_time": "2024-07-22T16:27:24.559Z"
   },
   {
    "duration": 56,
    "start_time": "2024-07-22T16:28:21.517Z"
   },
   {
    "duration": 4,
    "start_time": "2024-07-22T16:31:12.749Z"
   },
   {
    "duration": 3,
    "start_time": "2024-07-22T16:31:18.159Z"
   },
   {
    "duration": 34,
    "start_time": "2024-07-22T16:31:26.276Z"
   },
   {
    "duration": 22,
    "start_time": "2024-07-22T16:31:53.854Z"
   },
   {
    "duration": 24,
    "start_time": "2024-07-22T16:32:05.981Z"
   },
   {
    "duration": 6,
    "start_time": "2024-07-22T16:43:04.924Z"
   },
   {
    "duration": 5,
    "start_time": "2024-07-22T16:43:10.804Z"
   },
   {
    "duration": 5,
    "start_time": "2024-07-22T16:43:33.476Z"
   },
   {
    "duration": 33,
    "start_time": "2024-07-22T16:43:37.832Z"
   },
   {
    "duration": 7,
    "start_time": "2024-07-22T16:43:51.209Z"
   },
   {
    "duration": 35,
    "start_time": "2024-07-22T16:43:57.387Z"
   },
   {
    "duration": 16,
    "start_time": "2024-07-22T16:51:43.807Z"
   },
   {
    "duration": 23,
    "start_time": "2024-07-22T16:51:50.169Z"
   },
   {
    "duration": 32,
    "start_time": "2024-07-22T16:53:20.590Z"
   },
   {
    "duration": 19,
    "start_time": "2024-07-22T16:53:23.372Z"
   },
   {
    "duration": 24,
    "start_time": "2024-07-22T16:53:33.231Z"
   },
   {
    "duration": 24,
    "start_time": "2024-07-22T16:54:11.877Z"
   },
   {
    "duration": 324,
    "start_time": "2024-07-22T16:55:03.114Z"
   },
   {
    "duration": 85,
    "start_time": "2024-07-22T16:55:06.268Z"
   },
   {
    "duration": 727,
    "start_time": "2024-07-22T16:55:13.292Z"
   },
   {
    "duration": 17,
    "start_time": "2024-07-22T16:55:21.299Z"
   },
   {
    "duration": 30,
    "start_time": "2024-07-22T16:55:38.702Z"
   },
   {
    "duration": 36,
    "start_time": "2024-07-22T16:56:17.093Z"
   },
   {
    "duration": 38,
    "start_time": "2024-07-22T16:56:33.789Z"
   },
   {
    "duration": 12,
    "start_time": "2024-07-22T16:59:41.624Z"
   },
   {
    "duration": 12,
    "start_time": "2024-07-22T16:59:43.904Z"
   },
   {
    "duration": 11,
    "start_time": "2024-07-22T17:00:44.440Z"
   },
   {
    "duration": 10,
    "start_time": "2024-07-22T17:00:56.668Z"
   },
   {
    "duration": 4,
    "start_time": "2024-07-22T17:02:46.564Z"
   },
   {
    "duration": 6,
    "start_time": "2024-07-22T17:02:52.768Z"
   },
   {
    "duration": 4,
    "start_time": "2024-07-22T17:05:12.148Z"
   },
   {
    "duration": 6,
    "start_time": "2024-07-22T17:05:14.513Z"
   },
   {
    "duration": 42,
    "start_time": "2024-07-22T17:05:22.925Z"
   },
   {
    "duration": 12,
    "start_time": "2024-07-22T17:05:24.937Z"
   },
   {
    "duration": 29,
    "start_time": "2024-07-22T17:07:15.149Z"
   },
   {
    "duration": 24,
    "start_time": "2024-07-22T17:07:20.032Z"
   },
   {
    "duration": 34,
    "start_time": "2024-07-22T17:07:28.480Z"
   },
   {
    "duration": 24,
    "start_time": "2024-07-22T17:07:30.983Z"
   },
   {
    "duration": 15,
    "start_time": "2024-07-22T17:07:34.206Z"
   },
   {
    "duration": 11,
    "start_time": "2024-07-22T17:10:45.981Z"
   },
   {
    "duration": 11,
    "start_time": "2024-07-22T17:10:59.673Z"
   },
   {
    "duration": 15,
    "start_time": "2024-07-22T17:11:11.221Z"
   },
   {
    "duration": 38,
    "start_time": "2024-07-22T17:11:23.012Z"
   },
   {
    "duration": 13,
    "start_time": "2024-07-22T17:11:25.042Z"
   },
   {
    "duration": 10,
    "start_time": "2024-07-22T17:11:45.664Z"
   },
   {
    "duration": 12,
    "start_time": "2024-07-22T17:11:49.209Z"
   },
   {
    "duration": 16,
    "start_time": "2024-07-22T17:11:54.693Z"
   },
   {
    "duration": 39,
    "start_time": "2024-07-22T17:12:00.377Z"
   },
   {
    "duration": 15,
    "start_time": "2024-07-22T17:12:03.384Z"
   },
   {
    "duration": 45,
    "start_time": "2024-07-22T17:13:48.969Z"
   },
   {
    "duration": 346,
    "start_time": "2024-07-22T17:14:37.444Z"
   },
   {
    "duration": 36,
    "start_time": "2024-07-22T17:14:43.143Z"
   },
   {
    "duration": 16,
    "start_time": "2024-07-22T17:14:52.384Z"
   },
   {
    "duration": 94,
    "start_time": "2024-07-22T17:15:10.308Z"
   },
   {
    "duration": 44,
    "start_time": "2024-07-22T17:15:16.089Z"
   },
   {
    "duration": 13,
    "start_time": "2024-07-22T17:15:28.484Z"
   },
   {
    "duration": 254,
    "start_time": "2024-07-22T17:16:33.493Z"
   },
   {
    "duration": 37,
    "start_time": "2024-07-22T17:16:38.417Z"
   },
   {
    "duration": 14,
    "start_time": "2024-07-22T17:18:27.367Z"
   },
   {
    "duration": 5,
    "start_time": "2024-07-22T17:19:35.531Z"
   },
   {
    "duration": 78,
    "start_time": "2024-07-22T17:23:48.905Z"
   },
   {
    "duration": 22,
    "start_time": "2024-07-22T17:24:05.426Z"
   },
   {
    "duration": 23,
    "start_time": "2024-07-22T17:24:41.717Z"
   },
   {
    "duration": 290,
    "start_time": "2024-07-22T17:24:45.616Z"
   },
   {
    "duration": 294,
    "start_time": "2024-07-22T17:24:56.664Z"
   },
   {
    "duration": 3,
    "start_time": "2024-07-22T17:25:23.154Z"
   },
   {
    "duration": 24,
    "start_time": "2024-07-22T17:25:42.288Z"
   },
   {
    "duration": 24,
    "start_time": "2024-07-22T17:26:08.572Z"
   },
   {
    "duration": 12,
    "start_time": "2024-07-22T17:26:20.102Z"
   },
   {
    "duration": 11,
    "start_time": "2024-07-22T17:26:27.136Z"
   },
   {
    "duration": 276,
    "start_time": "2024-07-22T17:26:52.486Z"
   },
   {
    "duration": 265,
    "start_time": "2024-07-22T17:27:40.188Z"
   },
   {
    "duration": 12,
    "start_time": "2024-07-22T17:29:10.402Z"
   },
   {
    "duration": 22,
    "start_time": "2024-07-22T17:30:04.781Z"
   },
   {
    "duration": 24,
    "start_time": "2024-07-22T17:40:32.564Z"
   },
   {
    "duration": 6,
    "start_time": "2024-07-22T17:40:50.526Z"
   },
   {
    "duration": 6,
    "start_time": "2024-07-22T17:41:07.380Z"
   },
   {
    "duration": 10,
    "start_time": "2024-07-22T17:41:22.719Z"
   },
   {
    "duration": 9,
    "start_time": "2024-07-22T17:41:24.268Z"
   },
   {
    "duration": 21,
    "start_time": "2024-07-22T17:47:01.514Z"
   },
   {
    "duration": 24,
    "start_time": "2024-07-22T17:47:03.453Z"
   },
   {
    "duration": 14,
    "start_time": "2024-07-22T17:49:38.664Z"
   },
   {
    "duration": 8,
    "start_time": "2024-07-22T18:16:01.710Z"
   },
   {
    "duration": 14,
    "start_time": "2024-07-22T18:16:14.164Z"
   },
   {
    "duration": 33,
    "start_time": "2024-07-22T18:16:20.774Z"
   },
   {
    "duration": 30,
    "start_time": "2024-07-22T18:18:04.917Z"
   },
   {
    "duration": 22,
    "start_time": "2024-07-22T18:28:23.457Z"
   },
   {
    "duration": 7,
    "start_time": "2024-07-22T18:28:24.907Z"
   },
   {
    "duration": 7,
    "start_time": "2024-07-22T18:28:39.731Z"
   },
   {
    "duration": 21,
    "start_time": "2024-07-22T18:29:00.726Z"
   },
   {
    "duration": 24,
    "start_time": "2024-07-22T18:29:02.788Z"
   },
   {
    "duration": 33,
    "start_time": "2024-07-22T18:31:46.951Z"
   },
   {
    "duration": 31,
    "start_time": "2024-07-22T18:31:57.231Z"
   },
   {
    "duration": 31,
    "start_time": "2024-07-22T18:32:04.957Z"
   },
   {
    "duration": 40,
    "start_time": "2024-07-22T18:36:01.849Z"
   },
   {
    "duration": 47,
    "start_time": "2024-07-22T18:36:10.639Z"
   },
   {
    "duration": 12,
    "start_time": "2024-07-22T18:36:39.028Z"
   },
   {
    "duration": 80,
    "start_time": "2024-07-22T19:59:32.380Z"
   },
   {
    "duration": 80,
    "start_time": "2024-07-22T19:59:44.574Z"
   },
   {
    "duration": 9,
    "start_time": "2024-07-22T20:00:15.117Z"
   },
   {
    "duration": 6,
    "start_time": "2024-07-22T20:10:25.481Z"
   },
   {
    "duration": 26,
    "start_time": "2024-07-22T20:10:34.900Z"
   },
   {
    "duration": 7,
    "start_time": "2024-07-22T20:17:19.805Z"
   },
   {
    "duration": 224,
    "start_time": "2024-07-22T20:17:33.879Z"
   },
   {
    "duration": 149,
    "start_time": "2024-07-22T20:19:00.267Z"
   },
   {
    "duration": 13,
    "start_time": "2024-07-22T20:19:37.729Z"
   },
   {
    "duration": 8,
    "start_time": "2024-07-22T20:22:40.612Z"
   },
   {
    "duration": 8,
    "start_time": "2024-07-22T20:23:17.984Z"
   },
   {
    "duration": 5,
    "start_time": "2024-07-22T20:23:45.133Z"
   },
   {
    "duration": 21,
    "start_time": "2024-07-22T20:26:20.990Z"
   },
   {
    "duration": 19,
    "start_time": "2024-07-22T20:26:30.036Z"
   },
   {
    "duration": 5,
    "start_time": "2024-07-22T20:27:46.177Z"
   },
   {
    "duration": 8,
    "start_time": "2024-07-22T20:27:48.874Z"
   },
   {
    "duration": 10,
    "start_time": "2024-07-22T20:28:24.885Z"
   },
   {
    "duration": 26,
    "start_time": "2024-07-22T20:28:52.605Z"
   },
   {
    "duration": 11,
    "start_time": "2024-07-22T20:29:02.012Z"
   },
   {
    "duration": 24,
    "start_time": "2024-07-22T20:29:13.000Z"
   },
   {
    "duration": 9,
    "start_time": "2024-07-22T20:29:46.932Z"
   },
   {
    "duration": 7,
    "start_time": "2024-07-22T20:35:13.100Z"
   },
   {
    "duration": 6,
    "start_time": "2024-07-22T20:35:23.690Z"
   },
   {
    "duration": 9,
    "start_time": "2024-07-22T20:35:27.501Z"
   },
   {
    "duration": 10,
    "start_time": "2024-07-22T20:35:51.424Z"
   },
   {
    "duration": 8,
    "start_time": "2024-07-22T20:36:13.812Z"
   },
   {
    "duration": 120,
    "start_time": "2024-07-22T20:36:50.565Z"
   },
   {
    "duration": 9,
    "start_time": "2024-07-22T20:37:15.428Z"
   },
   {
    "duration": 11,
    "start_time": "2024-07-22T20:37:22.988Z"
   },
   {
    "duration": 25,
    "start_time": "2024-07-22T20:38:07.673Z"
   },
   {
    "duration": 13,
    "start_time": "2024-07-22T20:38:19.312Z"
   },
   {
    "duration": 23,
    "start_time": "2024-07-22T20:38:30.688Z"
   },
   {
    "duration": 7,
    "start_time": "2024-07-22T20:39:20.819Z"
   },
   {
    "duration": 14,
    "start_time": "2024-07-22T20:39:40.129Z"
   },
   {
    "duration": 34,
    "start_time": "2024-07-22T20:42:58.411Z"
   },
   {
    "duration": 37,
    "start_time": "2024-07-22T20:46:35.701Z"
   },
   {
    "duration": 51,
    "start_time": "2024-07-22T20:46:41.132Z"
   },
   {
    "duration": 77,
    "start_time": "2024-07-22T20:47:59.727Z"
   },
   {
    "duration": 53,
    "start_time": "2024-07-22T20:48:04.258Z"
   },
   {
    "duration": 0,
    "start_time": "2024-07-22T20:48:56.022Z"
   },
   {
    "duration": 85,
    "start_time": "2024-07-22T20:49:00.275Z"
   },
   {
    "duration": 22,
    "start_time": "2024-07-22T20:49:09.984Z"
   },
   {
    "duration": 83,
    "start_time": "2024-07-22T20:49:14.788Z"
   },
   {
    "duration": 13,
    "start_time": "2024-07-22T20:49:20.224Z"
   },
   {
    "duration": 105,
    "start_time": "2024-07-22T20:50:09.734Z"
   },
   {
    "duration": 12,
    "start_time": "2024-07-22T20:52:09.049Z"
   },
   {
    "duration": 5,
    "start_time": "2024-07-22T20:52:36.281Z"
   },
   {
    "duration": 16,
    "start_time": "2024-07-22T20:52:41.177Z"
   },
   {
    "duration": 24,
    "start_time": "2024-07-22T20:56:38.996Z"
   },
   {
    "duration": 20,
    "start_time": "2024-07-22T20:56:56.806Z"
   },
   {
    "duration": 22,
    "start_time": "2024-07-22T20:57:19.164Z"
   },
   {
    "duration": 20,
    "start_time": "2024-07-22T20:57:25.478Z"
   },
   {
    "duration": 13,
    "start_time": "2024-07-22T20:57:55.825Z"
   },
   {
    "duration": 16,
    "start_time": "2024-07-22T20:58:14.660Z"
   },
   {
    "duration": 39,
    "start_time": "2024-07-22T20:58:47.451Z"
   },
   {
    "duration": 16,
    "start_time": "2024-07-22T20:58:56.854Z"
   },
   {
    "duration": 9,
    "start_time": "2024-07-22T20:59:56.950Z"
   },
   {
    "duration": 23,
    "start_time": "2024-07-22T21:02:01.204Z"
   },
   {
    "duration": 24,
    "start_time": "2024-07-22T21:02:05.081Z"
   },
   {
    "duration": 23,
    "start_time": "2024-07-22T21:02:32.010Z"
   },
   {
    "duration": 5,
    "start_time": "2024-07-22T21:03:23.276Z"
   },
   {
    "duration": 8,
    "start_time": "2024-07-22T21:03:28.608Z"
   },
   {
    "duration": 6,
    "start_time": "2024-07-22T21:04:49.182Z"
   },
   {
    "duration": 5,
    "start_time": "2024-07-22T21:05:10.048Z"
   },
   {
    "duration": 6,
    "start_time": "2024-07-22T21:09:30.481Z"
   },
   {
    "duration": 26,
    "start_time": "2024-07-22T21:09:49.670Z"
   },
   {
    "duration": 23,
    "start_time": "2024-07-22T21:10:05.092Z"
   },
   {
    "duration": 24,
    "start_time": "2024-07-22T21:10:30.469Z"
   },
   {
    "duration": 17,
    "start_time": "2024-07-22T21:10:55.248Z"
   },
   {
    "duration": 8,
    "start_time": "2024-07-22T21:11:00.934Z"
   },
   {
    "duration": 7,
    "start_time": "2024-07-22T21:11:17.529Z"
   },
   {
    "duration": 15,
    "start_time": "2024-07-22T21:11:19.713Z"
   },
   {
    "duration": 6,
    "start_time": "2024-07-22T21:11:40.128Z"
   },
   {
    "duration": 29,
    "start_time": "2024-07-22T21:11:56.348Z"
   },
   {
    "duration": 7,
    "start_time": "2024-07-22T21:12:04.205Z"
   },
   {
    "duration": 17,
    "start_time": "2024-07-22T21:12:06.866Z"
   },
   {
    "duration": 23,
    "start_time": "2024-07-22T21:12:28.996Z"
   },
   {
    "duration": 25,
    "start_time": "2024-07-22T21:12:54.648Z"
   },
   {
    "duration": 11,
    "start_time": "2024-07-22T21:14:28.894Z"
   },
   {
    "duration": 10,
    "start_time": "2024-07-22T21:14:32.837Z"
   },
   {
    "duration": 20,
    "start_time": "2024-07-22T21:21:47.661Z"
   },
   {
    "duration": 8,
    "start_time": "2024-07-22T21:21:50.925Z"
   },
   {
    "duration": 15,
    "start_time": "2024-07-22T21:22:08.740Z"
   },
   {
    "duration": 14,
    "start_time": "2024-07-22T21:22:19.254Z"
   },
   {
    "duration": 12,
    "start_time": "2024-07-22T21:22:28.142Z"
   },
   {
    "duration": 18,
    "start_time": "2024-07-22T21:22:40.213Z"
   },
   {
    "duration": 12,
    "start_time": "2024-07-22T21:22:57.163Z"
   },
   {
    "duration": 20,
    "start_time": "2024-07-22T21:31:02.088Z"
   },
   {
    "duration": 4,
    "start_time": "2024-07-22T21:31:08.643Z"
   },
   {
    "duration": 6,
    "start_time": "2024-07-22T21:31:16.983Z"
   },
   {
    "duration": 6,
    "start_time": "2024-07-22T21:31:29.155Z"
   },
   {
    "duration": 3,
    "start_time": "2024-07-22T21:32:05.147Z"
   },
   {
    "duration": 6,
    "start_time": "2024-07-22T21:32:10.655Z"
   },
   {
    "duration": 7,
    "start_time": "2024-07-22T21:32:19.261Z"
   },
   {
    "duration": 14,
    "start_time": "2024-07-22T21:32:26.713Z"
   },
   {
    "duration": 50,
    "start_time": "2024-07-22T21:32:35.703Z"
   },
   {
    "duration": 32,
    "start_time": "2024-07-22T21:33:51.207Z"
   },
   {
    "duration": 52,
    "start_time": "2024-07-22T21:34:19.317Z"
   },
   {
    "duration": 49,
    "start_time": "2024-07-22T21:34:24.035Z"
   },
   {
    "duration": 21,
    "start_time": "2024-07-22T21:34:33.352Z"
   },
   {
    "duration": 6,
    "start_time": "2024-07-22T21:35:01.702Z"
   },
   {
    "duration": 23,
    "start_time": "2024-07-22T21:35:33.752Z"
   },
   {
    "duration": 12,
    "start_time": "2024-07-22T21:35:55.369Z"
   },
   {
    "duration": 14,
    "start_time": "2024-07-22T21:36:28.883Z"
   },
   {
    "duration": 34,
    "start_time": "2024-07-22T21:36:43.575Z"
   },
   {
    "duration": 13,
    "start_time": "2024-07-22T21:37:09.499Z"
   },
   {
    "duration": 35,
    "start_time": "2024-07-22T21:37:27.459Z"
   },
   {
    "duration": 13,
    "start_time": "2024-07-22T21:37:42.479Z"
   },
   {
    "duration": 34,
    "start_time": "2024-07-22T21:37:56.571Z"
   },
   {
    "duration": 33,
    "start_time": "2024-07-22T21:38:00.151Z"
   },
   {
    "duration": 13,
    "start_time": "2024-07-22T21:38:04.655Z"
   },
   {
    "duration": 8,
    "start_time": "2024-07-22T21:38:13.955Z"
   },
   {
    "duration": 26,
    "start_time": "2024-07-22T21:39:33.908Z"
   },
   {
    "duration": 7,
    "start_time": "2024-07-22T21:40:08.344Z"
   },
   {
    "duration": 6,
    "start_time": "2024-07-22T21:40:14.263Z"
   },
   {
    "duration": 6,
    "start_time": "2024-07-22T21:40:33.176Z"
   },
   {
    "duration": 19,
    "start_time": "2024-07-22T21:40:37.119Z"
   },
   {
    "duration": 12,
    "start_time": "2024-07-22T21:40:44.152Z"
   },
   {
    "duration": 20,
    "start_time": "2024-07-22T21:45:00.985Z"
   },
   {
    "duration": 20,
    "start_time": "2024-07-22T21:45:08.348Z"
   },
   {
    "duration": 24,
    "start_time": "2024-07-22T21:45:18.209Z"
   },
   {
    "duration": 12,
    "start_time": "2024-07-22T21:45:32.424Z"
   },
   {
    "duration": 8,
    "start_time": "2024-07-22T21:45:46.219Z"
   },
   {
    "duration": 60,
    "start_time": "2024-07-22T21:46:00.076Z"
   },
   {
    "duration": 8,
    "start_time": "2024-07-22T21:46:03.656Z"
   },
   {
    "duration": 33,
    "start_time": "2024-07-22T21:46:14.399Z"
   },
   {
    "duration": 8,
    "start_time": "2024-07-22T21:46:18.840Z"
   },
   {
    "duration": 50,
    "start_time": "2024-07-22T21:48:14.091Z"
   },
   {
    "duration": 26,
    "start_time": "2024-07-22T21:48:31.078Z"
   },
   {
    "duration": 25,
    "start_time": "2024-07-22T21:49:28.147Z"
   },
   {
    "duration": 45,
    "start_time": "2024-07-22T21:50:25.580Z"
   },
   {
    "duration": 25,
    "start_time": "2024-07-22T21:50:34.775Z"
   },
   {
    "duration": 14,
    "start_time": "2024-07-22T21:50:43.500Z"
   },
   {
    "duration": 5,
    "start_time": "2024-07-22T21:52:30.839Z"
   },
   {
    "duration": 6,
    "start_time": "2024-07-22T21:52:59.436Z"
   },
   {
    "duration": 34,
    "start_time": "2024-07-22T21:53:03.659Z"
   },
   {
    "duration": 39,
    "start_time": "2024-07-22T21:53:11.740Z"
   },
   {
    "duration": 32,
    "start_time": "2024-07-22T21:53:28.257Z"
   },
   {
    "duration": 30,
    "start_time": "2024-07-22T21:53:34.226Z"
   },
   {
    "duration": 12,
    "start_time": "2024-07-22T21:53:42.759Z"
   },
   {
    "duration": 8,
    "start_time": "2024-07-22T21:53:46.042Z"
   },
   {
    "duration": 20,
    "start_time": "2024-07-22T21:54:11.319Z"
   },
   {
    "duration": 19,
    "start_time": "2024-07-22T21:54:13.460Z"
   },
   {
    "duration": 8,
    "start_time": "2024-07-22T21:54:16.636Z"
   },
   {
    "duration": 59,
    "start_time": "2024-07-22T22:00:45.071Z"
   },
   {
    "duration": 253,
    "start_time": "2024-07-22T22:00:52.851Z"
   },
   {
    "duration": 0,
    "start_time": "2024-07-22T22:04:52.505Z"
   },
   {
    "duration": 8092,
    "start_time": "2024-07-22T22:04:56.011Z"
   },
   {
    "duration": 4198,
    "start_time": "2024-07-22T22:05:08.779Z"
   },
   {
    "duration": 0,
    "start_time": "2024-07-22T22:05:17.781Z"
   },
   {
    "duration": 0,
    "start_time": "2024-07-22T22:06:03.902Z"
   },
   {
    "duration": 4074,
    "start_time": "2024-07-22T22:06:17.772Z"
   },
   {
    "duration": 27,
    "start_time": "2024-07-22T22:07:35.269Z"
   },
   {
    "duration": 15,
    "start_time": "2024-07-22T22:07:37.247Z"
   },
   {
    "duration": 30,
    "start_time": "2024-07-22T22:07:54.783Z"
   },
   {
    "duration": 29,
    "start_time": "2024-07-22T22:08:00.324Z"
   },
   {
    "duration": 28,
    "start_time": "2024-07-22T22:08:05.648Z"
   },
   {
    "duration": 472,
    "start_time": "2024-07-23T05:19:18.924Z"
   },
   {
    "duration": 236,
    "start_time": "2024-07-23T05:19:19.399Z"
   },
   {
    "duration": 25,
    "start_time": "2024-07-23T05:19:19.638Z"
   },
   {
    "duration": 37,
    "start_time": "2024-07-23T05:19:19.667Z"
   },
   {
    "duration": 6,
    "start_time": "2024-07-23T05:19:19.727Z"
   },
   {
    "duration": 12,
    "start_time": "2024-07-23T05:19:19.737Z"
   },
   {
    "duration": 6,
    "start_time": "2024-07-23T05:19:19.752Z"
   },
   {
    "duration": 71,
    "start_time": "2024-07-23T05:19:19.762Z"
   },
   {
    "duration": 99,
    "start_time": "2024-07-23T05:19:19.836Z"
   },
   {
    "duration": 54,
    "start_time": "2024-07-23T05:19:19.940Z"
   },
   {
    "duration": 50,
    "start_time": "2024-07-23T05:19:19.997Z"
   },
   {
    "duration": 27,
    "start_time": "2024-07-23T05:19:20.050Z"
   },
   {
    "duration": 14,
    "start_time": "2024-07-23T05:19:20.080Z"
   },
   {
    "duration": 108,
    "start_time": "2024-07-23T05:19:20.097Z"
   },
   {
    "duration": 38,
    "start_time": "2024-07-23T05:19:20.208Z"
   },
   {
    "duration": 23,
    "start_time": "2024-07-23T05:19:20.249Z"
   },
   {
    "duration": 153,
    "start_time": "2024-07-23T05:19:20.275Z"
   },
   {
    "duration": 123,
    "start_time": "2024-07-23T05:19:20.431Z"
   },
   {
    "duration": 97,
    "start_time": "2024-07-23T05:19:20.557Z"
   },
   {
    "duration": 92,
    "start_time": "2024-07-23T05:19:20.657Z"
   },
   {
    "duration": 100,
    "start_time": "2024-07-23T05:19:20.752Z"
   },
   {
    "duration": 4,
    "start_time": "2024-07-23T05:19:20.855Z"
   },
   {
    "duration": 16,
    "start_time": "2024-07-23T05:19:20.862Z"
   },
   {
    "duration": 8,
    "start_time": "2024-07-23T05:19:20.880Z"
   },
   {
    "duration": 25,
    "start_time": "2024-07-23T05:19:20.925Z"
   },
   {
    "duration": 25,
    "start_time": "2024-07-23T05:19:20.953Z"
   },
   {
    "duration": 16,
    "start_time": "2024-07-23T05:19:20.981Z"
   },
   {
    "duration": 7,
    "start_time": "2024-07-23T05:19:21.032Z"
   },
   {
    "duration": 12,
    "start_time": "2024-07-23T05:19:21.042Z"
   },
   {
    "duration": 4111,
    "start_time": "2024-07-23T05:19:21.056Z"
   },
   {
    "duration": 0,
    "start_time": "2024-07-23T05:19:25.170Z"
   },
   {
    "duration": 0,
    "start_time": "2024-07-23T05:19:25.172Z"
   },
   {
    "duration": 0,
    "start_time": "2024-07-23T05:19:25.173Z"
   },
   {
    "duration": 0,
    "start_time": "2024-07-23T05:19:25.175Z"
   },
   {
    "duration": 0,
    "start_time": "2024-07-23T05:19:25.177Z"
   },
   {
    "duration": 0,
    "start_time": "2024-07-23T05:19:25.178Z"
   },
   {
    "duration": 0,
    "start_time": "2024-07-23T05:19:25.181Z"
   },
   {
    "duration": 0,
    "start_time": "2024-07-23T05:19:25.183Z"
   },
   {
    "duration": 0,
    "start_time": "2024-07-23T05:19:25.184Z"
   },
   {
    "duration": 0,
    "start_time": "2024-07-23T05:19:25.186Z"
   },
   {
    "duration": 0,
    "start_time": "2024-07-23T05:19:25.188Z"
   },
   {
    "duration": 0,
    "start_time": "2024-07-23T05:19:25.190Z"
   },
   {
    "duration": 0,
    "start_time": "2024-07-23T05:19:25.192Z"
   },
   {
    "duration": 0,
    "start_time": "2024-07-23T05:19:25.193Z"
   },
   {
    "duration": 0,
    "start_time": "2024-07-23T05:19:25.226Z"
   },
   {
    "duration": 0,
    "start_time": "2024-07-23T05:19:25.227Z"
   },
   {
    "duration": 0,
    "start_time": "2024-07-23T05:19:25.230Z"
   },
   {
    "duration": 308,
    "start_time": "2024-07-23T17:08:17.649Z"
   },
   {
    "duration": 19,
    "start_time": "2024-07-23T17:08:33.577Z"
   },
   {
    "duration": 421,
    "start_time": "2024-07-23T17:08:41.979Z"
   },
   {
    "duration": 235,
    "start_time": "2024-07-23T17:08:45.584Z"
   },
   {
    "duration": 25,
    "start_time": "2024-07-23T17:08:47.630Z"
   },
   {
    "duration": 37,
    "start_time": "2024-07-23T17:08:52.291Z"
   },
   {
    "duration": 5,
    "start_time": "2024-07-23T17:08:58.038Z"
   },
   {
    "duration": 11,
    "start_time": "2024-07-23T17:09:03.895Z"
   },
   {
    "duration": 6,
    "start_time": "2024-07-23T17:09:06.025Z"
   },
   {
    "duration": 28,
    "start_time": "2024-07-23T17:09:11.669Z"
   },
   {
    "duration": 15,
    "start_time": "2024-07-23T17:09:17.065Z"
   },
   {
    "duration": 79,
    "start_time": "2024-07-23T17:09:20.598Z"
   },
   {
    "duration": 39,
    "start_time": "2024-07-23T17:11:29.529Z"
   },
   {
    "duration": 28,
    "start_time": "2024-07-23T17:46:44.129Z"
   },
   {
    "duration": 15,
    "start_time": "2024-07-23T17:48:30.681Z"
   },
   {
    "duration": 88,
    "start_time": "2024-07-23T17:48:47.985Z"
   },
   {
    "duration": 23,
    "start_time": "2024-07-23T17:49:50.279Z"
   },
   {
    "duration": 23,
    "start_time": "2024-07-23T17:50:41.281Z"
   },
   {
    "duration": 106,
    "start_time": "2024-07-23T17:50:58.944Z"
   },
   {
    "duration": 93,
    "start_time": "2024-07-23T17:52:47.498Z"
   },
   {
    "duration": 90,
    "start_time": "2024-07-23T17:53:05.178Z"
   },
   {
    "duration": 24,
    "start_time": "2024-07-23T17:54:56.122Z"
   },
   {
    "duration": 9,
    "start_time": "2024-07-23T17:58:27.581Z"
   },
   {
    "duration": 7,
    "start_time": "2024-07-23T18:00:45.190Z"
   },
   {
    "duration": 6,
    "start_time": "2024-07-23T18:01:26.409Z"
   },
   {
    "duration": 8,
    "start_time": "2024-07-23T18:02:56.137Z"
   },
   {
    "duration": 7,
    "start_time": "2024-07-23T18:07:31.281Z"
   },
   {
    "duration": 7,
    "start_time": "2024-07-23T18:08:52.629Z"
   },
   {
    "duration": 22,
    "start_time": "2024-07-23T18:22:54.166Z"
   },
   {
    "duration": 16,
    "start_time": "2024-07-23T18:24:04.861Z"
   },
   {
    "duration": 22,
    "start_time": "2024-07-23T18:24:13.647Z"
   },
   {
    "duration": 19,
    "start_time": "2024-07-23T18:24:27.926Z"
   },
   {
    "duration": 6,
    "start_time": "2024-07-23T18:25:27.618Z"
   },
   {
    "duration": 84,
    "start_time": "2024-07-23T18:27:26.198Z"
   },
   {
    "duration": 80,
    "start_time": "2024-07-23T18:27:32.562Z"
   },
   {
    "duration": 80,
    "start_time": "2024-07-23T18:27:45.776Z"
   },
   {
    "duration": 80,
    "start_time": "2024-07-23T18:28:08.390Z"
   },
   {
    "duration": 6,
    "start_time": "2024-07-23T18:28:47.533Z"
   },
   {
    "duration": 7,
    "start_time": "2024-07-23T18:28:49.822Z"
   },
   {
    "duration": 57,
    "start_time": "2024-07-23T18:29:51.979Z"
   },
   {
    "duration": 19,
    "start_time": "2024-07-23T18:29:57.199Z"
   },
   {
    "duration": 7,
    "start_time": "2024-07-23T18:30:08.365Z"
   },
   {
    "duration": 15,
    "start_time": "2024-07-23T18:35:39.902Z"
   },
   {
    "duration": 99,
    "start_time": "2024-07-23T19:10:03.041Z"
   },
   {
    "duration": 73,
    "start_time": "2024-07-23T19:11:39.160Z"
   },
   {
    "duration": 76,
    "start_time": "2024-07-23T19:12:21.717Z"
   },
   {
    "duration": 80,
    "start_time": "2024-07-23T19:15:14.254Z"
   },
   {
    "duration": 93,
    "start_time": "2024-07-23T19:19:58.311Z"
   },
   {
    "duration": 76,
    "start_time": "2024-07-23T19:21:22.441Z"
   },
   {
    "duration": 76,
    "start_time": "2024-07-23T19:22:21.239Z"
   },
   {
    "duration": 75,
    "start_time": "2024-07-23T19:22:54.254Z"
   },
   {
    "duration": 74,
    "start_time": "2024-07-23T19:23:20.309Z"
   },
   {
    "duration": 75,
    "start_time": "2024-07-23T19:23:37.941Z"
   },
   {
    "duration": 75,
    "start_time": "2024-07-23T19:23:48.992Z"
   },
   {
    "duration": 91,
    "start_time": "2024-07-23T19:23:59.806Z"
   },
   {
    "duration": 74,
    "start_time": "2024-07-23T19:24:25.502Z"
   },
   {
    "duration": 4,
    "start_time": "2024-07-23T19:24:47.687Z"
   },
   {
    "duration": 15,
    "start_time": "2024-07-23T19:24:49.170Z"
   },
   {
    "duration": 6,
    "start_time": "2024-07-23T19:24:54.704Z"
   },
   {
    "duration": 24,
    "start_time": "2024-07-23T19:25:16.472Z"
   },
   {
    "duration": 6,
    "start_time": "2024-07-23T19:25:24.900Z"
   },
   {
    "duration": 22,
    "start_time": "2024-07-23T19:25:43.409Z"
   },
   {
    "duration": 73,
    "start_time": "2024-07-23T19:26:12.266Z"
   },
   {
    "duration": 81,
    "start_time": "2024-07-23T19:26:15.815Z"
   },
   {
    "duration": 74,
    "start_time": "2024-07-23T19:26:19.853Z"
   },
   {
    "duration": 71,
    "start_time": "2024-07-23T19:26:29.016Z"
   },
   {
    "duration": 74,
    "start_time": "2024-07-23T19:26:31.416Z"
   },
   {
    "duration": 3,
    "start_time": "2024-07-23T19:26:37.457Z"
   },
   {
    "duration": 16,
    "start_time": "2024-07-23T19:26:39.509Z"
   },
   {
    "duration": 8,
    "start_time": "2024-07-23T19:26:44.624Z"
   },
   {
    "duration": 90,
    "start_time": "2024-07-23T19:27:11.752Z"
   },
   {
    "duration": 72,
    "start_time": "2024-07-23T19:27:19.092Z"
   },
   {
    "duration": 81,
    "start_time": "2024-07-23T19:27:23.240Z"
   },
   {
    "duration": 79,
    "start_time": "2024-07-23T19:27:27.865Z"
   },
   {
    "duration": 74,
    "start_time": "2024-07-23T19:27:38.727Z"
   },
   {
    "duration": 81,
    "start_time": "2024-07-23T19:27:56.553Z"
   },
   {
    "duration": 78,
    "start_time": "2024-07-23T19:28:08.676Z"
   },
   {
    "duration": 75,
    "start_time": "2024-07-23T19:28:14.798Z"
   },
   {
    "duration": 76,
    "start_time": "2024-07-23T19:28:16.766Z"
   },
   {
    "duration": 75,
    "start_time": "2024-07-23T19:28:18.412Z"
   },
   {
    "duration": 7,
    "start_time": "2024-07-23T19:29:13.953Z"
   },
   {
    "duration": 28,
    "start_time": "2024-07-23T19:29:16.896Z"
   },
   {
    "duration": 6,
    "start_time": "2024-07-23T19:30:04.412Z"
   },
   {
    "duration": 4,
    "start_time": "2024-07-23T19:30:10.868Z"
   },
   {
    "duration": 35,
    "start_time": "2024-07-23T19:30:20.100Z"
   },
   {
    "duration": 4,
    "start_time": "2024-07-23T19:30:41.328Z"
   },
   {
    "duration": 75,
    "start_time": "2024-07-23T19:30:52.360Z"
   },
   {
    "duration": 0,
    "start_time": "2024-07-23T19:31:25.509Z"
   },
   {
    "duration": 0,
    "start_time": "2024-07-23T19:31:25.515Z"
   },
   {
    "duration": 5,
    "start_time": "2024-07-23T19:31:27.853Z"
   },
   {
    "duration": 0,
    "start_time": "2024-07-23T19:32:44.773Z"
   },
   {
    "duration": 0,
    "start_time": "2024-07-23T19:32:44.775Z"
   },
   {
    "duration": 26,
    "start_time": "2024-07-23T19:32:47.206Z"
   },
   {
    "duration": 7,
    "start_time": "2024-07-23T19:37:00.291Z"
   },
   {
    "duration": 7,
    "start_time": "2024-07-23T19:37:07.681Z"
   },
   {
    "duration": 25,
    "start_time": "2024-07-23T19:37:12.016Z"
   },
   {
    "duration": 15,
    "start_time": "2024-07-23T19:37:13.784Z"
   },
   {
    "duration": 50,
    "start_time": "2024-07-23T19:37:18.508Z"
   },
   {
    "duration": 33,
    "start_time": "2024-07-23T19:37:25.026Z"
   },
   {
    "duration": 27,
    "start_time": "2024-07-23T19:37:29.224Z"
   },
   {
    "duration": 76,
    "start_time": "2024-07-23T19:37:47.045Z"
   },
   {
    "duration": 7,
    "start_time": "2024-07-23T19:37:52.193Z"
   },
   {
    "duration": 9,
    "start_time": "2024-07-23T19:37:57.074Z"
   },
   {
    "duration": 10,
    "start_time": "2024-07-23T19:38:47.132Z"
   },
   {
    "duration": 9,
    "start_time": "2024-07-23T19:39:11.292Z"
   },
   {
    "duration": 7,
    "start_time": "2024-07-23T19:39:26.704Z"
   },
   {
    "duration": 7,
    "start_time": "2024-07-23T19:39:34.062Z"
   },
   {
    "duration": 6,
    "start_time": "2024-07-23T19:40:38.453Z"
   },
   {
    "duration": 4,
    "start_time": "2024-07-23T19:40:53.920Z"
   },
   {
    "duration": 200,
    "start_time": "2024-07-23T19:40:56.388Z"
   },
   {
    "duration": 18,
    "start_time": "2024-07-23T19:41:01.460Z"
   },
   {
    "duration": 34,
    "start_time": "2024-07-23T19:41:06.792Z"
   },
   {
    "duration": 6,
    "start_time": "2024-07-23T19:41:16.026Z"
   },
   {
    "duration": 11,
    "start_time": "2024-07-23T19:41:21.456Z"
   },
   {
    "duration": 6,
    "start_time": "2024-07-23T19:41:25.157Z"
   },
   {
    "duration": 45,
    "start_time": "2024-07-23T19:41:30.730Z"
   },
   {
    "duration": 15,
    "start_time": "2024-07-23T19:41:37.481Z"
   },
   {
    "duration": 57,
    "start_time": "2024-07-23T19:41:43.212Z"
   },
   {
    "duration": 51,
    "start_time": "2024-07-23T19:42:20.547Z"
   },
   {
    "duration": 21,
    "start_time": "2024-07-23T19:43:01.876Z"
   },
   {
    "duration": 17,
    "start_time": "2024-07-23T19:43:25.273Z"
   },
   {
    "duration": 6,
    "start_time": "2024-07-23T19:44:24.152Z"
   },
   {
    "duration": 3,
    "start_time": "2024-07-23T19:44:35.820Z"
   },
   {
    "duration": 193,
    "start_time": "2024-07-23T19:44:40.655Z"
   },
   {
    "duration": 17,
    "start_time": "2024-07-23T19:44:42.791Z"
   },
   {
    "duration": 35,
    "start_time": "2024-07-23T19:44:47.397Z"
   },
   {
    "duration": 7,
    "start_time": "2024-07-23T19:44:56.999Z"
   },
   {
    "duration": 10,
    "start_time": "2024-07-23T19:45:05.016Z"
   },
   {
    "duration": 5,
    "start_time": "2024-07-23T19:45:29.840Z"
   },
   {
    "duration": 30,
    "start_time": "2024-07-23T19:45:41.453Z"
   },
   {
    "duration": 14,
    "start_time": "2024-07-23T19:49:03.671Z"
   },
   {
    "duration": 56,
    "start_time": "2024-07-23T19:49:09.464Z"
   },
   {
    "duration": 54,
    "start_time": "2024-07-23T19:50:22.812Z"
   },
   {
    "duration": 358,
    "start_time": "2024-07-23T19:52:51.892Z"
   },
   {
    "duration": 27,
    "start_time": "2024-07-23T19:52:58.674Z"
   },
   {
    "duration": 53,
    "start_time": "2024-07-23T19:53:06.948Z"
   },
   {
    "duration": 52,
    "start_time": "2024-07-23T19:53:35.446Z"
   },
   {
    "duration": 4,
    "start_time": "2024-07-23T20:25:09.563Z"
   },
   {
    "duration": 224,
    "start_time": "2024-07-23T20:25:09.570Z"
   },
   {
    "duration": 18,
    "start_time": "2024-07-23T20:25:09.798Z"
   },
   {
    "duration": 35,
    "start_time": "2024-07-23T20:25:09.836Z"
   },
   {
    "duration": 6,
    "start_time": "2024-07-23T20:25:09.876Z"
   },
   {
    "duration": 11,
    "start_time": "2024-07-23T20:25:09.886Z"
   },
   {
    "duration": 6,
    "start_time": "2024-07-23T20:25:09.936Z"
   },
   {
    "duration": 30,
    "start_time": "2024-07-23T20:25:09.945Z"
   },
   {
    "duration": 14,
    "start_time": "2024-07-23T20:25:09.978Z"
   },
   {
    "duration": 98,
    "start_time": "2024-07-23T20:25:09.995Z"
   },
   {
    "duration": 56,
    "start_time": "2024-07-23T20:25:10.099Z"
   },
   {
    "duration": 29,
    "start_time": "2024-07-23T20:25:10.158Z"
   },
   {
    "duration": 45,
    "start_time": "2024-07-23T20:25:10.190Z"
   },
   {
    "duration": 74,
    "start_time": "2024-07-23T20:25:10.237Z"
   },
   {
    "duration": 24,
    "start_time": "2024-07-23T20:25:10.314Z"
   },
   {
    "duration": 15,
    "start_time": "2024-07-23T20:25:10.340Z"
   },
   {
    "duration": 121,
    "start_time": "2024-07-23T20:25:10.358Z"
   },
   {
    "duration": 81,
    "start_time": "2024-07-23T20:25:10.483Z"
   },
   {
    "duration": 90,
    "start_time": "2024-07-23T20:25:10.567Z"
   },
   {
    "duration": 89,
    "start_time": "2024-07-23T20:25:10.660Z"
   },
   {
    "duration": 4,
    "start_time": "2024-07-23T20:25:10.752Z"
   },
   {
    "duration": 16,
    "start_time": "2024-07-23T20:25:10.759Z"
   },
   {
    "duration": 64,
    "start_time": "2024-07-23T20:25:10.778Z"
   },
   {
    "duration": 15,
    "start_time": "2024-07-23T20:25:10.845Z"
   },
   {
    "duration": 9,
    "start_time": "2024-07-23T20:25:10.866Z"
   },
   {
    "duration": 11,
    "start_time": "2024-07-23T20:25:10.878Z"
   },
   {
    "duration": 3487,
    "start_time": "2024-07-23T20:25:10.892Z"
   },
   {
    "duration": 0,
    "start_time": "2024-07-23T20:25:14.382Z"
   },
   {
    "duration": 0,
    "start_time": "2024-07-23T20:25:14.384Z"
   },
   {
    "duration": 0,
    "start_time": "2024-07-23T20:25:14.387Z"
   },
   {
    "duration": 0,
    "start_time": "2024-07-23T20:25:14.388Z"
   },
   {
    "duration": 0,
    "start_time": "2024-07-23T20:25:14.391Z"
   },
   {
    "duration": 0,
    "start_time": "2024-07-23T20:25:14.392Z"
   },
   {
    "duration": 0,
    "start_time": "2024-07-23T20:25:14.394Z"
   },
   {
    "duration": 0,
    "start_time": "2024-07-23T20:25:14.396Z"
   },
   {
    "duration": 0,
    "start_time": "2024-07-23T20:25:14.398Z"
   },
   {
    "duration": 0,
    "start_time": "2024-07-23T20:25:14.400Z"
   },
   {
    "duration": 0,
    "start_time": "2024-07-23T20:25:14.401Z"
   },
   {
    "duration": 0,
    "start_time": "2024-07-23T20:25:14.436Z"
   },
   {
    "duration": 0,
    "start_time": "2024-07-23T20:25:14.439Z"
   },
   {
    "duration": 0,
    "start_time": "2024-07-23T20:25:14.441Z"
   },
   {
    "duration": 0,
    "start_time": "2024-07-23T20:25:14.444Z"
   },
   {
    "duration": 0,
    "start_time": "2024-07-23T20:25:14.446Z"
   },
   {
    "duration": 0,
    "start_time": "2024-07-23T20:25:14.448Z"
   },
   {
    "duration": 5,
    "start_time": "2024-07-23T20:25:26.709Z"
   },
   {
    "duration": 192,
    "start_time": "2024-07-23T20:25:29.268Z"
   },
   {
    "duration": 18,
    "start_time": "2024-07-23T20:25:32.183Z"
   },
   {
    "duration": 35,
    "start_time": "2024-07-23T20:25:37.684Z"
   },
   {
    "duration": 5,
    "start_time": "2024-07-23T20:25:55.387Z"
   },
   {
    "duration": 12,
    "start_time": "2024-07-23T20:26:00.024Z"
   },
   {
    "duration": 5,
    "start_time": "2024-07-23T20:26:02.856Z"
   },
   {
    "duration": 29,
    "start_time": "2024-07-23T20:26:07.283Z"
   },
   {
    "duration": 56,
    "start_time": "2024-07-23T20:27:13.396Z"
   },
   {
    "duration": 56,
    "start_time": "2024-07-23T20:27:33.835Z"
   },
   {
    "duration": 34,
    "start_time": "2024-07-23T20:28:34.072Z"
   },
   {
    "duration": 35,
    "start_time": "2024-07-23T20:28:47.803Z"
   },
   {
    "duration": 39,
    "start_time": "2024-07-23T20:28:58.321Z"
   },
   {
    "duration": 41,
    "start_time": "2024-07-23T20:29:15.711Z"
   },
   {
    "duration": 46,
    "start_time": "2024-07-23T20:30:26.134Z"
   },
   {
    "duration": 28,
    "start_time": "2024-07-23T20:31:05.644Z"
   },
   {
    "duration": 77,
    "start_time": "2024-07-23T20:31:39.265Z"
   },
   {
    "duration": 6,
    "start_time": "2024-07-23T20:33:04.568Z"
   },
   {
    "duration": 42,
    "start_time": "2024-07-23T20:34:56.135Z"
   },
   {
    "duration": 34,
    "start_time": "2024-07-23T20:35:11.312Z"
   },
   {
    "duration": 29,
    "start_time": "2024-07-23T20:35:17.999Z"
   },
   {
    "duration": 99,
    "start_time": "2024-07-23T20:35:27.501Z"
   },
   {
    "duration": 9,
    "start_time": "2024-07-23T20:35:33.093Z"
   },
   {
    "duration": 14,
    "start_time": "2024-07-23T20:35:35.483Z"
   },
   {
    "duration": 18,
    "start_time": "2024-07-23T20:37:15.462Z"
   },
   {
    "duration": 26,
    "start_time": "2024-07-23T20:37:21.085Z"
   },
   {
    "duration": 19,
    "start_time": "2024-07-23T20:37:22.833Z"
   },
   {
    "duration": 75,
    "start_time": "2024-07-23T20:37:38.791Z"
   },
   {
    "duration": 17,
    "start_time": "2024-07-23T20:37:58.912Z"
   },
   {
    "duration": 18,
    "start_time": "2024-07-23T20:38:07.107Z"
   },
   {
    "duration": 109,
    "start_time": "2024-07-23T20:38:35.836Z"
   },
   {
    "duration": 75,
    "start_time": "2024-07-23T20:39:49.392Z"
   },
   {
    "duration": 74,
    "start_time": "2024-07-23T20:40:02.431Z"
   },
   {
    "duration": 22,
    "start_time": "2024-07-23T20:40:49.121Z"
   },
   {
    "duration": 71,
    "start_time": "2024-07-23T20:41:02.996Z"
   },
   {
    "duration": 83,
    "start_time": "2024-07-23T20:46:44.575Z"
   },
   {
    "duration": 3,
    "start_time": "2024-07-23T20:48:13.610Z"
   },
   {
    "duration": 6,
    "start_time": "2024-07-23T20:48:38.222Z"
   },
   {
    "duration": 24,
    "start_time": "2024-07-23T20:48:40.893Z"
   },
   {
    "duration": 18,
    "start_time": "2024-07-23T20:51:30.735Z"
   },
   {
    "duration": 8,
    "start_time": "2024-07-23T20:52:42.380Z"
   },
   {
    "duration": 11,
    "start_time": "2024-07-23T20:53:08.769Z"
   },
   {
    "duration": 7,
    "start_time": "2024-07-23T21:06:37.897Z"
   },
   {
    "duration": 13,
    "start_time": "2024-07-23T21:10:41.839Z"
   },
   {
    "duration": 21,
    "start_time": "2024-07-23T21:11:00.331Z"
   },
   {
    "duration": 33,
    "start_time": "2024-07-23T21:11:07.378Z"
   },
   {
    "duration": 13,
    "start_time": "2024-07-23T23:51:23.700Z"
   },
   {
    "duration": 31,
    "start_time": "2024-07-23T23:51:32.603Z"
   },
   {
    "duration": 13,
    "start_time": "2024-07-23T23:51:44.270Z"
   },
   {
    "duration": 35,
    "start_time": "2024-07-23T23:51:58.108Z"
   },
   {
    "duration": 45,
    "start_time": "2024-07-23T23:52:20.369Z"
   },
   {
    "duration": 16,
    "start_time": "2024-07-23T23:54:55.259Z"
   },
   {
    "duration": 24,
    "start_time": "2024-07-23T23:55:04.286Z"
   },
   {
    "duration": 22,
    "start_time": "2024-07-23T23:57:10.760Z"
   },
   {
    "duration": 13,
    "start_time": "2024-07-23T23:58:58.836Z"
   },
   {
    "duration": 23,
    "start_time": "2024-07-23T23:59:01.241Z"
   },
   {
    "duration": 27,
    "start_time": "2024-07-24T00:02:32.428Z"
   },
   {
    "duration": 24,
    "start_time": "2024-07-24T00:04:16.200Z"
   },
   {
    "duration": 16,
    "start_time": "2024-07-24T00:05:23.867Z"
   },
   {
    "duration": 22,
    "start_time": "2024-07-24T00:05:50.740Z"
   },
   {
    "duration": 17,
    "start_time": "2024-07-24T00:05:54.070Z"
   },
   {
    "duration": 9,
    "start_time": "2024-07-24T00:17:20.042Z"
   },
   {
    "duration": 12,
    "start_time": "2024-07-24T00:17:35.960Z"
   },
   {
    "duration": 8,
    "start_time": "2024-07-24T00:18:01.006Z"
   },
   {
    "duration": 10,
    "start_time": "2024-07-24T00:18:40.553Z"
   },
   {
    "duration": 10,
    "start_time": "2024-07-24T00:18:50.224Z"
   },
   {
    "duration": 8,
    "start_time": "2024-07-24T00:18:55.748Z"
   },
   {
    "duration": 256,
    "start_time": "2024-07-24T00:19:40.702Z"
   },
   {
    "duration": 9,
    "start_time": "2024-07-24T00:19:50.793Z"
   },
   {
    "duration": 22,
    "start_time": "2024-07-24T00:21:31.656Z"
   },
   {
    "duration": 8,
    "start_time": "2024-07-24T00:21:53.544Z"
   },
   {
    "duration": 7,
    "start_time": "2024-07-24T00:22:08.481Z"
   },
   {
    "duration": 9,
    "start_time": "2024-07-24T00:22:22.151Z"
   },
   {
    "duration": 27,
    "start_time": "2024-07-24T00:23:25.633Z"
   },
   {
    "duration": 12,
    "start_time": "2024-07-24T00:23:29.296Z"
   },
   {
    "duration": 23,
    "start_time": "2024-07-24T00:23:35.592Z"
   },
   {
    "duration": 10,
    "start_time": "2024-07-24T00:31:39.209Z"
   },
   {
    "duration": 10,
    "start_time": "2024-07-24T00:31:53.748Z"
   },
   {
    "duration": 7,
    "start_time": "2024-07-24T00:33:07.986Z"
   },
   {
    "duration": 8,
    "start_time": "2024-07-24T00:33:18.740Z"
   },
   {
    "duration": 9,
    "start_time": "2024-07-24T00:33:28.372Z"
   },
   {
    "duration": 9,
    "start_time": "2024-07-24T00:33:34.104Z"
   },
   {
    "duration": 10,
    "start_time": "2024-07-24T00:34:50.704Z"
   },
   {
    "duration": 15,
    "start_time": "2024-07-24T00:34:53.212Z"
   },
   {
    "duration": 8,
    "start_time": "2024-07-24T00:35:20.172Z"
   },
   {
    "duration": 10,
    "start_time": "2024-07-24T00:35:30.361Z"
   },
   {
    "duration": 237,
    "start_time": "2024-07-24T00:35:43.420Z"
   },
   {
    "duration": 11,
    "start_time": "2024-07-24T00:35:51.363Z"
   },
   {
    "duration": 10,
    "start_time": "2024-07-24T00:35:55.088Z"
   },
   {
    "duration": 23,
    "start_time": "2024-07-24T00:38:12.018Z"
   },
   {
    "duration": 7,
    "start_time": "2024-07-24T00:40:34.356Z"
   },
   {
    "duration": 12,
    "start_time": "2024-07-24T00:41:59.588Z"
   },
   {
    "duration": 7,
    "start_time": "2024-07-24T00:43:11.897Z"
   },
   {
    "duration": 32,
    "start_time": "2024-07-24T00:44:12.587Z"
   },
   {
    "duration": 22,
    "start_time": "2024-07-24T00:44:30.869Z"
   },
   {
    "duration": 12,
    "start_time": "2024-07-24T00:45:20.528Z"
   },
   {
    "duration": 7,
    "start_time": "2024-07-24T00:45:48.656Z"
   },
   {
    "duration": 12,
    "start_time": "2024-07-24T00:46:22.933Z"
   },
   {
    "duration": 9,
    "start_time": "2024-07-24T00:46:34.157Z"
   },
   {
    "duration": 25,
    "start_time": "2024-07-24T00:47:44.555Z"
   },
   {
    "duration": 23,
    "start_time": "2024-07-24T00:48:05.711Z"
   },
   {
    "duration": 26,
    "start_time": "2024-07-24T00:48:26.939Z"
   },
   {
    "duration": 22,
    "start_time": "2024-07-24T00:48:38.876Z"
   },
   {
    "duration": 7,
    "start_time": "2024-07-24T00:49:05.772Z"
   },
   {
    "duration": 6,
    "start_time": "2024-07-24T00:49:22.129Z"
   },
   {
    "duration": 6,
    "start_time": "2024-07-24T00:49:27.234Z"
   },
   {
    "duration": 24,
    "start_time": "2024-07-24T00:49:31.947Z"
   },
   {
    "duration": 22,
    "start_time": "2024-07-24T00:49:36.571Z"
   },
   {
    "duration": 22,
    "start_time": "2024-07-24T00:49:42.762Z"
   },
   {
    "duration": 23,
    "start_time": "2024-07-24T00:49:48.085Z"
   },
   {
    "duration": 7,
    "start_time": "2024-07-24T00:50:46.992Z"
   },
   {
    "duration": 33,
    "start_time": "2024-07-24T00:51:54.971Z"
   },
   {
    "duration": 13,
    "start_time": "2024-07-24T00:52:06.038Z"
   },
   {
    "duration": 7,
    "start_time": "2024-07-24T00:53:24.924Z"
   },
   {
    "duration": 23,
    "start_time": "2024-07-24T00:54:29.049Z"
   },
   {
    "duration": 21,
    "start_time": "2024-07-24T00:54:41.532Z"
   },
   {
    "duration": 22,
    "start_time": "2024-07-24T00:54:49.891Z"
   },
   {
    "duration": 23,
    "start_time": "2024-07-24T00:55:10.922Z"
   },
   {
    "duration": 319,
    "start_time": "2024-07-24T00:57:50.153Z"
   },
   {
    "duration": 22,
    "start_time": "2024-07-24T00:59:42.160Z"
   },
   {
    "duration": 77,
    "start_time": "2024-07-24T01:00:38.348Z"
   },
   {
    "duration": 26,
    "start_time": "2024-07-24T01:02:01.049Z"
   },
   {
    "duration": 11,
    "start_time": "2024-07-24T01:03:40.244Z"
   },
   {
    "duration": 24,
    "start_time": "2024-07-24T01:03:49.568Z"
   },
   {
    "duration": 24,
    "start_time": "2024-07-24T01:04:36.084Z"
   },
   {
    "duration": 14,
    "start_time": "2024-07-24T01:04:50.740Z"
   },
   {
    "duration": 49,
    "start_time": "2024-07-24T01:07:02.938Z"
   },
   {
    "duration": 35,
    "start_time": "2024-07-24T01:07:27.677Z"
   },
   {
    "duration": 5,
    "start_time": "2024-07-24T01:08:01.135Z"
   },
   {
    "duration": 20,
    "start_time": "2024-07-24T01:11:27.630Z"
   },
   {
    "duration": 33,
    "start_time": "2024-07-24T01:11:36.232Z"
   },
   {
    "duration": 17,
    "start_time": "2024-07-24T01:13:43.491Z"
   },
   {
    "duration": 18,
    "start_time": "2024-07-24T01:13:52.776Z"
   },
   {
    "duration": 21,
    "start_time": "2024-07-24T01:14:12.307Z"
   },
   {
    "duration": 6,
    "start_time": "2024-07-24T01:17:18.525Z"
   },
   {
    "duration": 10,
    "start_time": "2024-07-24T01:18:27.064Z"
   },
   {
    "duration": 9,
    "start_time": "2024-07-24T01:18:30.216Z"
   },
   {
    "duration": 8,
    "start_time": "2024-07-24T01:18:52.008Z"
   },
   {
    "duration": 9,
    "start_time": "2024-07-24T01:18:58.821Z"
   },
   {
    "duration": 9,
    "start_time": "2024-07-24T01:19:02.980Z"
   },
   {
    "duration": 9,
    "start_time": "2024-07-24T01:19:07.667Z"
   },
   {
    "duration": 5,
    "start_time": "2024-07-24T01:19:17.332Z"
   },
   {
    "duration": 10,
    "start_time": "2024-07-24T01:19:19.516Z"
   },
   {
    "duration": 18,
    "start_time": "2024-07-24T01:19:49.971Z"
   },
   {
    "duration": 18,
    "start_time": "2024-07-24T01:22:19.653Z"
   },
   {
    "duration": 8,
    "start_time": "2024-07-24T01:22:58.935Z"
   },
   {
    "duration": 9,
    "start_time": "2024-07-24T01:23:05.840Z"
   },
   {
    "duration": 11,
    "start_time": "2024-07-24T01:23:11.919Z"
   },
   {
    "duration": 34,
    "start_time": "2024-07-24T01:23:46.941Z"
   },
   {
    "duration": 8,
    "start_time": "2024-07-24T01:24:18.600Z"
   },
   {
    "duration": 34,
    "start_time": "2024-07-24T01:24:52.952Z"
   },
   {
    "duration": 10,
    "start_time": "2024-07-24T01:25:14.272Z"
   },
   {
    "duration": 10,
    "start_time": "2024-07-24T01:25:48.503Z"
   },
   {
    "duration": 26,
    "start_time": "2024-07-24T01:27:00.171Z"
   },
   {
    "duration": 8,
    "start_time": "2024-07-24T01:27:07.407Z"
   },
   {
    "duration": 15,
    "start_time": "2024-07-24T01:27:18.108Z"
   },
   {
    "duration": 11,
    "start_time": "2024-07-24T01:28:58.793Z"
   },
   {
    "duration": 85,
    "start_time": "2024-07-24T01:29:08.014Z"
   },
   {
    "duration": 11,
    "start_time": "2024-07-24T01:29:31.087Z"
   },
   {
    "duration": 11,
    "start_time": "2024-07-24T01:29:37.224Z"
   },
   {
    "duration": 996,
    "start_time": "2024-07-24T01:30:17.174Z"
   },
   {
    "duration": 34,
    "start_time": "2024-07-24T01:31:04.925Z"
   },
   {
    "duration": 9,
    "start_time": "2024-07-24T01:31:25.929Z"
   },
   {
    "duration": 491,
    "start_time": "2024-07-24T01:37:34.943Z"
   },
   {
    "duration": 91,
    "start_time": "2024-07-24T01:37:54.657Z"
   },
   {
    "duration": 89,
    "start_time": "2024-07-24T01:38:01.362Z"
   },
   {
    "duration": 95,
    "start_time": "2024-07-24T01:38:11.915Z"
   },
   {
    "duration": 12,
    "start_time": "2024-07-24T01:43:14.656Z"
   },
   {
    "duration": 13,
    "start_time": "2024-07-24T03:43:21.579Z"
   },
   {
    "duration": 24,
    "start_time": "2024-07-24T03:44:06.402Z"
   },
   {
    "duration": 45,
    "start_time": "2024-07-24T04:06:54.616Z"
   },
   {
    "duration": 113,
    "start_time": "2024-07-24T04:10:09.152Z"
   },
   {
    "duration": 3,
    "start_time": "2024-07-24T04:10:15.641Z"
   },
   {
    "duration": 108,
    "start_time": "2024-07-24T04:10:55.876Z"
   },
   {
    "duration": 128,
    "start_time": "2024-07-24T04:11:11.060Z"
   },
   {
    "duration": 52,
    "start_time": "2024-07-24T04:12:03.035Z"
   },
   {
    "duration": 3,
    "start_time": "2024-07-24T04:12:10.970Z"
   },
   {
    "duration": 4,
    "start_time": "2024-07-24T04:13:29.403Z"
   },
   {
    "duration": 89,
    "start_time": "2024-07-24T04:14:03.672Z"
   },
   {
    "duration": 11,
    "start_time": "2024-07-24T04:14:14.965Z"
   },
   {
    "duration": 3,
    "start_time": "2024-07-24T04:14:28.295Z"
   },
   {
    "duration": 10,
    "start_time": "2024-07-24T04:15:41.656Z"
   },
   {
    "duration": 10,
    "start_time": "2024-07-24T04:20:25.304Z"
   },
   {
    "duration": 3,
    "start_time": "2024-07-24T04:20:34.100Z"
   },
   {
    "duration": 22,
    "start_time": "2024-07-24T04:28:18.550Z"
   },
   {
    "duration": 63,
    "start_time": "2024-07-24T04:28:42.051Z"
   },
   {
    "duration": 63,
    "start_time": "2024-07-24T04:28:51.715Z"
   },
   {
    "duration": 27,
    "start_time": "2024-07-24T04:36:43.266Z"
   },
   {
    "duration": 17,
    "start_time": "2024-07-24T04:36:47.481Z"
   },
   {
    "duration": 24,
    "start_time": "2024-07-24T04:36:58.862Z"
   },
   {
    "duration": 7,
    "start_time": "2024-07-24T04:37:03.912Z"
   },
   {
    "duration": 23,
    "start_time": "2024-07-24T04:37:07.303Z"
   },
   {
    "duration": 7,
    "start_time": "2024-07-24T04:37:53.853Z"
   },
   {
    "duration": 385,
    "start_time": "2024-07-24T04:37:58.854Z"
   },
   {
    "duration": 64,
    "start_time": "2024-07-24T04:38:03.009Z"
   },
   {
    "duration": 27,
    "start_time": "2024-07-24T04:38:06.280Z"
   },
   {
    "duration": 26,
    "start_time": "2024-07-24T04:38:53.239Z"
   },
   {
    "duration": 18,
    "start_time": "2024-07-24T04:39:18.709Z"
   },
   {
    "duration": 18,
    "start_time": "2024-07-24T04:39:26.291Z"
   },
   {
    "duration": 14,
    "start_time": "2024-07-24T04:39:33.429Z"
   },
   {
    "duration": 25,
    "start_time": "2024-07-24T04:39:38.481Z"
   },
   {
    "duration": 16,
    "start_time": "2024-07-24T04:46:26.353Z"
   },
   {
    "duration": 24,
    "start_time": "2024-07-24T04:46:50.947Z"
   },
   {
    "duration": 17,
    "start_time": "2024-07-24T04:47:10.479Z"
   },
   {
    "duration": 34,
    "start_time": "2024-07-24T04:47:37.220Z"
   },
   {
    "duration": 18,
    "start_time": "2024-07-24T04:47:41.391Z"
   },
   {
    "duration": 30,
    "start_time": "2024-07-24T04:47:51.308Z"
   },
   {
    "duration": 17,
    "start_time": "2024-07-24T04:47:57.514Z"
   },
   {
    "duration": 28,
    "start_time": "2024-07-24T04:48:26.476Z"
   },
   {
    "duration": 30,
    "start_time": "2024-07-24T04:59:57.419Z"
   },
   {
    "duration": 38,
    "start_time": "2024-07-24T05:00:03.813Z"
   },
   {
    "duration": 34,
    "start_time": "2024-07-24T05:00:18.360Z"
   },
   {
    "duration": 26,
    "start_time": "2024-07-24T05:04:43.458Z"
   },
   {
    "duration": 10,
    "start_time": "2024-07-24T05:04:52.523Z"
   },
   {
    "duration": 20,
    "start_time": "2024-07-24T05:04:56.281Z"
   },
   {
    "duration": 26,
    "start_time": "2024-07-24T05:05:11.752Z"
   },
   {
    "duration": 23,
    "start_time": "2024-07-24T05:05:18.275Z"
   },
   {
    "duration": 9,
    "start_time": "2024-07-24T05:05:25.044Z"
   },
   {
    "duration": 16,
    "start_time": "2024-07-24T05:05:28.908Z"
   },
   {
    "duration": 26,
    "start_time": "2024-07-24T05:06:11.084Z"
   },
   {
    "duration": 5,
    "start_time": "2024-07-24T05:06:22.305Z"
   },
   {
    "duration": 26,
    "start_time": "2024-07-24T05:06:31.823Z"
   },
   {
    "duration": 60,
    "start_time": "2024-07-24T05:06:41.519Z"
   },
   {
    "duration": 25,
    "start_time": "2024-07-24T05:07:01.284Z"
   },
   {
    "duration": 27,
    "start_time": "2024-07-24T05:07:21.888Z"
   },
   {
    "duration": 26,
    "start_time": "2024-07-24T05:09:00.952Z"
   },
   {
    "duration": 26,
    "start_time": "2024-07-24T05:09:08.787Z"
   },
   {
    "duration": 26,
    "start_time": "2024-07-24T05:09:12.935Z"
   },
   {
    "duration": 5,
    "start_time": "2024-07-24T05:09:18.258Z"
   },
   {
    "duration": 27,
    "start_time": "2024-07-24T05:09:22.392Z"
   },
   {
    "duration": 27,
    "start_time": "2024-07-24T05:18:09.344Z"
   },
   {
    "duration": 9,
    "start_time": "2024-07-24T05:18:34.762Z"
   },
   {
    "duration": 22,
    "start_time": "2024-07-24T05:18:46.519Z"
   },
   {
    "duration": 23,
    "start_time": "2024-07-24T05:19:36.696Z"
   },
   {
    "duration": 9,
    "start_time": "2024-07-24T05:19:53.967Z"
   },
   {
    "duration": 18,
    "start_time": "2024-07-24T05:20:07.875Z"
   },
   {
    "duration": 16,
    "start_time": "2024-07-24T05:20:20.768Z"
   },
   {
    "duration": 22,
    "start_time": "2024-07-24T05:21:37.820Z"
   },
   {
    "duration": 8,
    "start_time": "2024-07-24T05:21:49.627Z"
   },
   {
    "duration": 15,
    "start_time": "2024-07-24T05:21:59.619Z"
   },
   {
    "duration": 12,
    "start_time": "2024-07-24T05:22:27.985Z"
   },
   {
    "duration": 4,
    "start_time": "2024-07-24T05:22:36.015Z"
   },
   {
    "duration": 10,
    "start_time": "2024-07-24T05:22:40.407Z"
   },
   {
    "duration": 26,
    "start_time": "2024-07-24T05:22:55.383Z"
   },
   {
    "duration": 22,
    "start_time": "2024-07-24T05:23:04.257Z"
   },
   {
    "duration": 9,
    "start_time": "2024-07-24T05:23:09.863Z"
   },
   {
    "duration": 16,
    "start_time": "2024-07-24T05:23:15.707Z"
   },
   {
    "duration": 10,
    "start_time": "2024-07-24T05:23:47.006Z"
   },
   {
    "duration": 11,
    "start_time": "2024-07-24T05:24:22.003Z"
   },
   {
    "duration": 7,
    "start_time": "2024-07-24T05:25:12.522Z"
   },
   {
    "duration": 16,
    "start_time": "2024-07-24T05:25:18.422Z"
   },
   {
    "duration": 11,
    "start_time": "2024-07-24T05:25:36.928Z"
   },
   {
    "duration": 11,
    "start_time": "2024-07-24T05:26:23.540Z"
   },
   {
    "duration": 18,
    "start_time": "2024-07-24T05:26:27.839Z"
   },
   {
    "duration": 18,
    "start_time": "2024-07-24T05:31:57.856Z"
   },
   {
    "duration": 20,
    "start_time": "2024-07-24T05:32:36.820Z"
   },
   {
    "duration": 17,
    "start_time": "2024-07-24T05:33:10.500Z"
   },
   {
    "duration": 22,
    "start_time": "2024-07-24T05:33:19.116Z"
   },
   {
    "duration": 22,
    "start_time": "2024-07-24T05:33:30.903Z"
   },
   {
    "duration": 22,
    "start_time": "2024-07-24T05:34:01.235Z"
   },
   {
    "duration": 21,
    "start_time": "2024-07-24T05:34:14.213Z"
   },
   {
    "duration": 44,
    "start_time": "2024-07-24T05:35:01.868Z"
   },
   {
    "duration": 5,
    "start_time": "2024-07-24T05:35:21.892Z"
   },
   {
    "duration": 13,
    "start_time": "2024-07-24T05:35:27.741Z"
   },
   {
    "duration": 43,
    "start_time": "2024-07-24T05:35:35.167Z"
   },
   {
    "duration": 14,
    "start_time": "2024-07-24T05:35:46.045Z"
   },
   {
    "duration": 43,
    "start_time": "2024-07-24T05:35:53.572Z"
   },
   {
    "duration": 12,
    "start_time": "2024-07-24T05:36:58.226Z"
   },
   {
    "duration": 22,
    "start_time": "2024-07-24T05:37:22.059Z"
   },
   {
    "duration": 27,
    "start_time": "2024-07-24T05:39:48.799Z"
   },
   {
    "duration": 28,
    "start_time": "2024-07-24T05:40:34.981Z"
   },
   {
    "duration": 26,
    "start_time": "2024-07-24T05:40:46.821Z"
   },
   {
    "duration": 14,
    "start_time": "2024-07-24T05:41:25.835Z"
   },
   {
    "duration": 22,
    "start_time": "2024-07-24T05:41:34.667Z"
   },
   {
    "duration": 34,
    "start_time": "2024-07-24T05:41:43.292Z"
   },
   {
    "duration": 23,
    "start_time": "2024-07-24T05:42:02.056Z"
   },
   {
    "duration": 9,
    "start_time": "2024-07-24T05:42:31.607Z"
   },
   {
    "duration": 16,
    "start_time": "2024-07-24T05:42:38.502Z"
   },
   {
    "duration": 12,
    "start_time": "2024-07-24T05:42:54.328Z"
   },
   {
    "duration": 44,
    "start_time": "2024-07-24T05:43:48.671Z"
   },
   {
    "duration": 4,
    "start_time": "2024-07-24T05:43:57.299Z"
   },
   {
    "duration": 11,
    "start_time": "2024-07-24T05:45:05.547Z"
   },
   {
    "duration": 44,
    "start_time": "2024-07-24T05:46:39.293Z"
   },
   {
    "duration": 78,
    "start_time": "2024-07-24T05:47:34.481Z"
   },
   {
    "duration": 10,
    "start_time": "2024-07-24T05:48:19.053Z"
   },
   {
    "duration": 12,
    "start_time": "2024-07-24T05:48:36.496Z"
   },
   {
    "duration": 80,
    "start_time": "2024-07-24T05:48:40.691Z"
   },
   {
    "duration": 84,
    "start_time": "2024-07-24T05:49:30.390Z"
   },
   {
    "duration": 16,
    "start_time": "2024-07-24T05:49:40.913Z"
   },
   {
    "duration": 88,
    "start_time": "2024-07-24T05:51:53.404Z"
   },
   {
    "duration": 4,
    "start_time": "2024-07-24T05:52:00.453Z"
   },
   {
    "duration": 14,
    "start_time": "2024-07-24T05:52:16.364Z"
   },
   {
    "duration": 9,
    "start_time": "2024-07-24T05:52:22.391Z"
   },
   {
    "duration": 79,
    "start_time": "2024-07-24T05:53:29.383Z"
   },
   {
    "duration": 44,
    "start_time": "2024-07-24T05:53:50.353Z"
   },
   {
    "duration": 45,
    "start_time": "2024-07-24T05:53:54.447Z"
   },
   {
    "duration": 42,
    "start_time": "2024-07-24T05:54:04.001Z"
   },
   {
    "duration": 384,
    "start_time": "2024-07-24T05:54:49.420Z"
   },
   {
    "duration": 141,
    "start_time": "2024-07-24T05:54:54.011Z"
   },
   {
    "duration": 128,
    "start_time": "2024-07-24T05:55:03.552Z"
   },
   {
    "duration": 43,
    "start_time": "2024-07-24T05:55:12.650Z"
   },
   {
    "duration": 55,
    "start_time": "2024-07-24T05:55:32.111Z"
   },
   {
    "duration": 424,
    "start_time": "2024-07-24T17:51:32.600Z"
   },
   {
    "duration": 238,
    "start_time": "2024-07-24T17:51:37.274Z"
   },
   {
    "duration": 24,
    "start_time": "2024-07-24T17:51:39.492Z"
   },
   {
    "duration": 39,
    "start_time": "2024-07-24T17:51:47.163Z"
   },
   {
    "duration": 6,
    "start_time": "2024-07-24T17:51:54.540Z"
   },
   {
    "duration": 10,
    "start_time": "2024-07-24T17:51:59.714Z"
   },
   {
    "duration": 7,
    "start_time": "2024-07-24T17:52:02.495Z"
   },
   {
    "duration": 29,
    "start_time": "2024-07-24T17:52:08.519Z"
   },
   {
    "duration": 46,
    "start_time": "2024-07-24T17:52:13.852Z"
   },
   {
    "duration": 38,
    "start_time": "2024-07-24T17:52:21.406Z"
   },
   {
    "duration": 28,
    "start_time": "2024-07-24T17:52:26.650Z"
   },
   {
    "duration": 79,
    "start_time": "2024-07-24T17:53:38.828Z"
   },
   {
    "duration": 6,
    "start_time": "2024-07-24T17:53:45.266Z"
   },
   {
    "duration": 77,
    "start_time": "2024-07-24T17:53:55.799Z"
   },
   {
    "duration": 7,
    "start_time": "2024-07-24T17:54:01.602Z"
   },
   {
    "duration": 332,
    "start_time": "2024-07-24T17:54:06.370Z"
   },
   {
    "duration": 3,
    "start_time": "2024-07-24T17:54:16.346Z"
   },
   {
    "duration": 216,
    "start_time": "2024-07-24T17:54:16.353Z"
   },
   {
    "duration": 19,
    "start_time": "2024-07-24T17:54:16.573Z"
   },
   {
    "duration": 54,
    "start_time": "2024-07-24T17:54:16.595Z"
   },
   {
    "duration": 5,
    "start_time": "2024-07-24T17:54:16.654Z"
   },
   {
    "duration": 11,
    "start_time": "2024-07-24T17:54:16.663Z"
   },
   {
    "duration": 6,
    "start_time": "2024-07-24T17:54:16.677Z"
   },
   {
    "duration": 68,
    "start_time": "2024-07-24T17:54:16.687Z"
   },
   {
    "duration": 15,
    "start_time": "2024-07-24T17:54:16.758Z"
   },
   {
    "duration": 63,
    "start_time": "2024-07-24T17:54:16.776Z"
   },
   {
    "duration": 34,
    "start_time": "2024-07-24T17:54:16.845Z"
   },
   {
    "duration": 53,
    "start_time": "2024-07-24T17:54:16.881Z"
   },
   {
    "duration": 15,
    "start_time": "2024-07-24T17:54:16.937Z"
   },
   {
    "duration": 103,
    "start_time": "2024-07-24T17:54:16.954Z"
   },
   {
    "duration": 7,
    "start_time": "2024-07-24T17:54:17.060Z"
   },
   {
    "duration": 21,
    "start_time": "2024-07-24T17:54:17.070Z"
   },
   {
    "duration": 0,
    "start_time": "2024-07-24T17:54:17.096Z"
   },
   {
    "duration": 0,
    "start_time": "2024-07-24T17:54:17.097Z"
   },
   {
    "duration": 0,
    "start_time": "2024-07-24T17:54:17.099Z"
   },
   {
    "duration": 0,
    "start_time": "2024-07-24T17:54:17.133Z"
   },
   {
    "duration": 0,
    "start_time": "2024-07-24T17:54:17.135Z"
   },
   {
    "duration": 0,
    "start_time": "2024-07-24T17:54:17.137Z"
   },
   {
    "duration": 0,
    "start_time": "2024-07-24T17:54:17.139Z"
   },
   {
    "duration": 0,
    "start_time": "2024-07-24T17:54:17.142Z"
   },
   {
    "duration": 0,
    "start_time": "2024-07-24T17:54:17.143Z"
   },
   {
    "duration": 0,
    "start_time": "2024-07-24T17:54:17.145Z"
   },
   {
    "duration": 0,
    "start_time": "2024-07-24T17:54:17.148Z"
   },
   {
    "duration": 0,
    "start_time": "2024-07-24T17:54:17.156Z"
   },
   {
    "duration": 0,
    "start_time": "2024-07-24T17:54:17.158Z"
   },
   {
    "duration": 0,
    "start_time": "2024-07-24T17:54:17.160Z"
   },
   {
    "duration": 0,
    "start_time": "2024-07-24T17:54:17.162Z"
   },
   {
    "duration": 0,
    "start_time": "2024-07-24T17:54:17.165Z"
   },
   {
    "duration": 0,
    "start_time": "2024-07-24T17:54:17.167Z"
   },
   {
    "duration": 0,
    "start_time": "2024-07-24T17:54:17.174Z"
   },
   {
    "duration": 0,
    "start_time": "2024-07-24T17:54:17.177Z"
   },
   {
    "duration": 0,
    "start_time": "2024-07-24T17:54:17.179Z"
   },
   {
    "duration": 1,
    "start_time": "2024-07-24T17:54:17.180Z"
   },
   {
    "duration": 0,
    "start_time": "2024-07-24T17:54:17.232Z"
   },
   {
    "duration": 0,
    "start_time": "2024-07-24T17:54:17.234Z"
   },
   {
    "duration": 0,
    "start_time": "2024-07-24T17:54:17.237Z"
   },
   {
    "duration": 0,
    "start_time": "2024-07-24T17:54:17.240Z"
   },
   {
    "duration": 0,
    "start_time": "2024-07-24T17:54:17.242Z"
   },
   {
    "duration": 0,
    "start_time": "2024-07-24T17:54:17.245Z"
   },
   {
    "duration": 0,
    "start_time": "2024-07-24T17:54:17.247Z"
   },
   {
    "duration": 0,
    "start_time": "2024-07-24T17:54:17.249Z"
   },
   {
    "duration": 0,
    "start_time": "2024-07-24T17:54:17.252Z"
   },
   {
    "duration": 5,
    "start_time": "2024-07-24T17:54:47.555Z"
   },
   {
    "duration": 38,
    "start_time": "2024-07-24T17:58:04.992Z"
   },
   {
    "duration": 35,
    "start_time": "2024-07-24T17:58:29.343Z"
   },
   {
    "duration": 29,
    "start_time": "2024-07-24T17:58:44.191Z"
   },
   {
    "duration": 80,
    "start_time": "2024-07-24T17:59:04.270Z"
   },
   {
    "duration": 6,
    "start_time": "2024-07-24T17:59:10.375Z"
   },
   {
    "duration": 78,
    "start_time": "2024-07-24T17:59:58.153Z"
   },
   {
    "duration": 5,
    "start_time": "2024-07-24T18:00:05.902Z"
   },
   {
    "duration": 76,
    "start_time": "2024-07-24T18:00:34.976Z"
   },
   {
    "duration": 7,
    "start_time": "2024-07-24T18:00:40.507Z"
   },
   {
    "duration": 6,
    "start_time": "2024-07-24T18:01:32.162Z"
   },
   {
    "duration": 12,
    "start_time": "2024-07-24T18:01:37.826Z"
   },
   {
    "duration": 100,
    "start_time": "2024-07-24T18:02:11.853Z"
   },
   {
    "duration": 95,
    "start_time": "2024-07-24T18:03:44.086Z"
   },
   {
    "duration": 84,
    "start_time": "2024-07-24T18:04:11.600Z"
   },
   {
    "duration": 88,
    "start_time": "2024-07-24T18:04:40.920Z"
   },
   {
    "duration": 11,
    "start_time": "2024-07-24T18:05:41.715Z"
   },
   {
    "duration": 79,
    "start_time": "2024-07-24T18:06:12.868Z"
   },
   {
    "duration": 74,
    "start_time": "2024-07-24T18:06:46.073Z"
   },
   {
    "duration": 75,
    "start_time": "2024-07-24T18:07:08.624Z"
   },
   {
    "duration": 77,
    "start_time": "2024-07-24T18:07:15.043Z"
   },
   {
    "duration": 90,
    "start_time": "2024-07-24T18:07:20.918Z"
   },
   {
    "duration": 80,
    "start_time": "2024-07-24T18:09:10.375Z"
   },
   {
    "duration": 16,
    "start_time": "2024-07-24T18:09:23.829Z"
   },
   {
    "duration": 10,
    "start_time": "2024-07-24T18:09:48.679Z"
   },
   {
    "duration": 74,
    "start_time": "2024-07-24T18:09:56.025Z"
   },
   {
    "duration": 4,
    "start_time": "2024-07-24T18:11:58.260Z"
   },
   {
    "duration": 6,
    "start_time": "2024-07-24T18:12:04.978Z"
   },
   {
    "duration": 25,
    "start_time": "2024-07-24T18:12:09.306Z"
   },
   {
    "duration": 15,
    "start_time": "2024-07-24T18:12:16.618Z"
   },
   {
    "duration": 8,
    "start_time": "2024-07-24T18:12:18.938Z"
   },
   {
    "duration": 11,
    "start_time": "2024-07-24T18:12:41.511Z"
   },
   {
    "duration": 33,
    "start_time": "2024-07-24T18:12:52.174Z"
   },
   {
    "duration": 12,
    "start_time": "2024-07-24T18:12:57.106Z"
   },
   {
    "duration": 15,
    "start_time": "2024-07-24T18:13:20.020Z"
   },
   {
    "duration": 35,
    "start_time": "2024-07-24T18:13:24.418Z"
   },
   {
    "duration": 6,
    "start_time": "2024-07-24T18:14:43.023Z"
   },
   {
    "duration": 25,
    "start_time": "2024-07-24T18:14:52.110Z"
   },
   {
    "duration": 22,
    "start_time": "2024-07-24T18:15:44.682Z"
   },
   {
    "duration": 3,
    "start_time": "2024-07-24T18:19:49.711Z"
   },
   {
    "duration": 212,
    "start_time": "2024-07-24T18:19:49.721Z"
   },
   {
    "duration": 18,
    "start_time": "2024-07-24T18:19:49.936Z"
   },
   {
    "duration": 35,
    "start_time": "2024-07-24T18:19:49.957Z"
   },
   {
    "duration": 39,
    "start_time": "2024-07-24T18:19:49.995Z"
   },
   {
    "duration": 10,
    "start_time": "2024-07-24T18:19:50.039Z"
   },
   {
    "duration": 6,
    "start_time": "2024-07-24T18:19:50.052Z"
   },
   {
    "duration": 30,
    "start_time": "2024-07-24T18:19:50.061Z"
   },
   {
    "duration": 14,
    "start_time": "2024-07-24T18:19:50.134Z"
   },
   {
    "duration": 40,
    "start_time": "2024-07-24T18:19:50.151Z"
   },
   {
    "duration": 53,
    "start_time": "2024-07-24T18:19:50.194Z"
   },
   {
    "duration": 27,
    "start_time": "2024-07-24T18:19:50.250Z"
   },
   {
    "duration": 15,
    "start_time": "2024-07-24T18:19:50.280Z"
   },
   {
    "duration": 75,
    "start_time": "2024-07-24T18:19:50.332Z"
   },
   {
    "duration": 22,
    "start_time": "2024-07-24T18:19:50.415Z"
   },
   {
    "duration": 17,
    "start_time": "2024-07-24T18:19:50.440Z"
   },
   {
    "duration": 131,
    "start_time": "2024-07-24T18:19:50.460Z"
   },
   {
    "duration": 86,
    "start_time": "2024-07-24T18:19:50.594Z"
   },
   {
    "duration": 83,
    "start_time": "2024-07-24T18:19:50.683Z"
   },
   {
    "duration": 11,
    "start_time": "2024-07-24T18:19:50.769Z"
   },
   {
    "duration": 105,
    "start_time": "2024-07-24T18:19:50.783Z"
   },
   {
    "duration": 15,
    "start_time": "2024-07-24T18:19:50.891Z"
   },
   {
    "duration": 25,
    "start_time": "2024-07-24T18:19:50.908Z"
   },
   {
    "duration": 16,
    "start_time": "2024-07-24T18:19:50.936Z"
   },
   {
    "duration": 25,
    "start_time": "2024-07-24T18:19:50.955Z"
   },
   {
    "duration": 56,
    "start_time": "2024-07-24T18:19:50.983Z"
   },
   {
    "duration": 15,
    "start_time": "2024-07-24T18:19:51.042Z"
   },
   {
    "duration": 7,
    "start_time": "2024-07-24T18:19:51.060Z"
   },
   {
    "duration": 11,
    "start_time": "2024-07-24T18:19:51.071Z"
   },
   {
    "duration": 55,
    "start_time": "2024-07-24T18:19:51.085Z"
   },
   {
    "duration": 34,
    "start_time": "2024-07-24T18:19:51.143Z"
   },
   {
    "duration": 23,
    "start_time": "2024-07-24T18:19:51.180Z"
   },
   {
    "duration": 0,
    "start_time": "2024-07-24T18:19:51.234Z"
   },
   {
    "duration": 0,
    "start_time": "2024-07-24T18:19:51.236Z"
   },
   {
    "duration": 0,
    "start_time": "2024-07-24T18:19:51.238Z"
   },
   {
    "duration": 0,
    "start_time": "2024-07-24T18:19:51.242Z"
   },
   {
    "duration": 0,
    "start_time": "2024-07-24T18:19:51.244Z"
   },
   {
    "duration": 0,
    "start_time": "2024-07-24T18:19:51.245Z"
   },
   {
    "duration": 0,
    "start_time": "2024-07-24T18:19:51.248Z"
   },
   {
    "duration": 0,
    "start_time": "2024-07-24T18:19:51.250Z"
   },
   {
    "duration": 0,
    "start_time": "2024-07-24T18:19:51.252Z"
   },
   {
    "duration": 0,
    "start_time": "2024-07-24T18:19:51.255Z"
   },
   {
    "duration": 0,
    "start_time": "2024-07-24T18:19:51.257Z"
   },
   {
    "duration": 0,
    "start_time": "2024-07-24T18:19:51.260Z"
   },
   {
    "duration": 0,
    "start_time": "2024-07-24T18:19:51.263Z"
   },
   {
    "duration": 0,
    "start_time": "2024-07-24T18:19:51.266Z"
   },
   {
    "duration": 0,
    "start_time": "2024-07-24T18:19:51.271Z"
   },
   {
    "duration": 0,
    "start_time": "2024-07-24T18:19:51.273Z"
   },
   {
    "duration": 32,
    "start_time": "2024-07-24T18:22:19.638Z"
   },
   {
    "duration": 37,
    "start_time": "2024-07-24T18:23:39.846Z"
   },
   {
    "duration": 29,
    "start_time": "2024-07-24T18:23:51.534Z"
   },
   {
    "duration": 34,
    "start_time": "2024-07-24T18:26:44.783Z"
   },
   {
    "duration": 27,
    "start_time": "2024-07-24T18:30:49.410Z"
   },
   {
    "duration": 86,
    "start_time": "2024-07-24T18:40:22.951Z"
   },
   {
    "duration": 6,
    "start_time": "2024-07-24T18:41:30.342Z"
   },
   {
    "duration": 14,
    "start_time": "2024-07-24T18:42:01.023Z"
   },
   {
    "duration": 6,
    "start_time": "2024-07-24T18:44:33.010Z"
   },
   {
    "duration": 8,
    "start_time": "2024-07-24T18:47:09.414Z"
   },
   {
    "duration": 69,
    "start_time": "2024-07-24T18:47:20.470Z"
   },
   {
    "duration": 70,
    "start_time": "2024-07-24T18:47:24.223Z"
   },
   {
    "duration": 5,
    "start_time": "2024-07-24T18:48:14.074Z"
   },
   {
    "duration": 7,
    "start_time": "2024-07-24T18:48:17.734Z"
   },
   {
    "duration": 6,
    "start_time": "2024-07-24T18:48:47.854Z"
   },
   {
    "duration": 7,
    "start_time": "2024-07-24T18:49:19.968Z"
   },
   {
    "duration": 7,
    "start_time": "2024-07-24T18:49:23.954Z"
   },
   {
    "duration": 10,
    "start_time": "2024-07-24T18:49:52.031Z"
   },
   {
    "duration": 641,
    "start_time": "2024-07-24T18:50:25.076Z"
   },
   {
    "duration": 5,
    "start_time": "2024-07-24T18:50:59.919Z"
   },
   {
    "duration": 7,
    "start_time": "2024-07-24T18:51:05.659Z"
   },
   {
    "duration": 7,
    "start_time": "2024-07-24T18:51:34.190Z"
   },
   {
    "duration": 4,
    "start_time": "2024-07-24T18:51:44.422Z"
   },
   {
    "duration": 7,
    "start_time": "2024-07-24T18:51:49.606Z"
   },
   {
    "duration": 8,
    "start_time": "2024-07-24T18:52:09.038Z"
   },
   {
    "duration": 88,
    "start_time": "2024-07-24T18:52:25.402Z"
   },
   {
    "duration": 22,
    "start_time": "2024-07-24T18:52:39.679Z"
   },
   {
    "duration": 45,
    "start_time": "2024-07-24T18:53:09.889Z"
   },
   {
    "duration": 34,
    "start_time": "2024-07-24T18:53:17.958Z"
   },
   {
    "duration": 29,
    "start_time": "2024-07-24T18:53:32.374Z"
   },
   {
    "duration": 7,
    "start_time": "2024-07-24T18:53:42.810Z"
   },
   {
    "duration": 7,
    "start_time": "2024-07-24T18:53:54.640Z"
   },
   {
    "duration": 7,
    "start_time": "2024-07-24T18:54:10.889Z"
   },
   {
    "duration": 6,
    "start_time": "2024-07-24T18:54:16.107Z"
   },
   {
    "duration": 7,
    "start_time": "2024-07-24T18:54:58.106Z"
   },
   {
    "duration": 8,
    "start_time": "2024-07-24T18:55:06.774Z"
   },
   {
    "duration": 407,
    "start_time": "2024-07-24T18:56:45.689Z"
   },
   {
    "duration": 195,
    "start_time": "2024-07-24T18:56:52.810Z"
   },
   {
    "duration": 26,
    "start_time": "2024-07-24T18:57:16.791Z"
   },
   {
    "duration": 38,
    "start_time": "2024-07-24T18:57:37.992Z"
   },
   {
    "duration": 12,
    "start_time": "2024-07-24T18:58:01.343Z"
   },
   {
    "duration": 12,
    "start_time": "2024-07-24T18:58:14.241Z"
   },
   {
    "duration": 5,
    "start_time": "2024-07-24T18:58:36.479Z"
   },
   {
    "duration": 29,
    "start_time": "2024-07-24T18:58:49.037Z"
   },
   {
    "duration": 31,
    "start_time": "2024-07-24T18:59:11.627Z"
   },
   {
    "duration": 3,
    "start_time": "2024-07-24T18:59:23.794Z"
   },
   {
    "duration": 451,
    "start_time": "2024-07-24T18:59:44.241Z"
   },
   {
    "duration": 338,
    "start_time": "2024-07-24T19:00:00.865Z"
   },
   {
    "duration": 423,
    "start_time": "2024-07-24T19:00:15.293Z"
   },
   {
    "duration": 195,
    "start_time": "2024-07-24T19:00:18.398Z"
   },
   {
    "duration": 25,
    "start_time": "2024-07-24T19:00:20.877Z"
   },
   {
    "duration": 37,
    "start_time": "2024-07-24T19:00:27.602Z"
   },
   {
    "duration": 9,
    "start_time": "2024-07-24T19:00:33.923Z"
   },
   {
    "duration": 12,
    "start_time": "2024-07-24T19:00:38.910Z"
   },
   {
    "duration": 6,
    "start_time": "2024-07-24T19:00:41.545Z"
   },
   {
    "duration": 28,
    "start_time": "2024-07-24T19:00:46.290Z"
   },
   {
    "duration": 63,
    "start_time": "2024-07-24T19:01:55.175Z"
   },
   {
    "duration": 34,
    "start_time": "2024-07-24T19:02:13.149Z"
   },
   {
    "duration": 29,
    "start_time": "2024-07-24T19:02:25.542Z"
   },
   {
    "duration": 71,
    "start_time": "2024-07-24T19:03:17.582Z"
   },
   {
    "duration": 134,
    "start_time": "2024-07-24T19:03:56.437Z"
   },
   {
    "duration": 72,
    "start_time": "2024-07-24T19:04:05.821Z"
   },
   {
    "duration": 28,
    "start_time": "2024-07-24T19:04:26.318Z"
   },
   {
    "duration": 27,
    "start_time": "2024-07-24T19:06:46.687Z"
   },
   {
    "duration": 6,
    "start_time": "2024-07-24T19:08:05.682Z"
   },
   {
    "duration": 102,
    "start_time": "2024-07-24T19:10:00.270Z"
   },
   {
    "duration": 80,
    "start_time": "2024-07-24T19:10:52.266Z"
   },
   {
    "duration": 14,
    "start_time": "2024-07-24T19:12:04.354Z"
   },
   {
    "duration": 101,
    "start_time": "2024-07-24T19:12:56.366Z"
   },
   {
    "duration": 14,
    "start_time": "2024-07-24T19:13:26.046Z"
   },
   {
    "duration": 76,
    "start_time": "2024-07-24T19:14:34.840Z"
   },
   {
    "duration": 77,
    "start_time": "2024-07-24T19:15:15.121Z"
   },
   {
    "duration": 14,
    "start_time": "2024-07-24T19:15:44.075Z"
   },
   {
    "duration": 83,
    "start_time": "2024-07-24T19:16:30.465Z"
   },
   {
    "duration": 18,
    "start_time": "2024-07-24T19:17:34.515Z"
   },
   {
    "duration": 6,
    "start_time": "2024-07-24T19:18:40.798Z"
   },
   {
    "duration": 168,
    "start_time": "2024-07-24T19:19:32.847Z"
   },
   {
    "duration": 22,
    "start_time": "2024-07-24T19:20:08.618Z"
   },
   {
    "duration": 4,
    "start_time": "2024-07-24T19:20:32.422Z"
   },
   {
    "duration": 16,
    "start_time": "2024-07-24T19:20:35.163Z"
   },
   {
    "duration": 4,
    "start_time": "2024-07-24T19:20:39.216Z"
   },
   {
    "duration": 27,
    "start_time": "2024-07-24T19:20:43.466Z"
   },
   {
    "duration": 15,
    "start_time": "2024-07-24T19:21:01.778Z"
   },
   {
    "duration": 8,
    "start_time": "2024-07-24T19:21:34.790Z"
   },
   {
    "duration": 11,
    "start_time": "2024-07-24T19:21:48.626Z"
   },
   {
    "duration": 15,
    "start_time": "2024-07-24T19:22:22.798Z"
   },
   {
    "duration": 34,
    "start_time": "2024-07-24T19:22:27.953Z"
   },
   {
    "duration": 22,
    "start_time": "2024-07-24T19:22:46.820Z"
   },
   {
    "duration": 14,
    "start_time": "2024-07-24T19:23:06.333Z"
   },
   {
    "duration": 36,
    "start_time": "2024-07-24T19:24:06.210Z"
   },
   {
    "duration": 13,
    "start_time": "2024-07-24T19:25:23.781Z"
   },
   {
    "duration": 36,
    "start_time": "2024-07-24T19:25:26.170Z"
   },
   {
    "duration": 15,
    "start_time": "2024-07-24T19:28:30.762Z"
   },
   {
    "duration": 26,
    "start_time": "2024-07-24T19:28:34.394Z"
   },
   {
    "duration": 28,
    "start_time": "2024-07-24T19:28:41.513Z"
   },
   {
    "duration": 25,
    "start_time": "2024-07-24T19:31:48.690Z"
   },
   {
    "duration": 27,
    "start_time": "2024-07-24T19:33:07.701Z"
   },
   {
    "duration": 8,
    "start_time": "2024-07-24T19:34:14.910Z"
   },
   {
    "duration": 29,
    "start_time": "2024-07-24T19:34:22.144Z"
   },
   {
    "duration": 22,
    "start_time": "2024-07-24T19:34:29.442Z"
   },
   {
    "duration": 17,
    "start_time": "2024-07-24T19:36:33.838Z"
   },
   {
    "duration": 11,
    "start_time": "2024-07-24T19:37:22.035Z"
   },
   {
    "duration": 11,
    "start_time": "2024-07-24T19:41:44.173Z"
   },
   {
    "duration": 13,
    "start_time": "2024-07-24T19:42:40.406Z"
   },
   {
    "duration": 15,
    "start_time": "2024-07-24T19:42:48.776Z"
   },
   {
    "duration": 15,
    "start_time": "2024-07-24T19:42:56.866Z"
   },
   {
    "duration": 20,
    "start_time": "2024-07-24T19:43:04.890Z"
   },
   {
    "duration": 13,
    "start_time": "2024-07-24T19:43:13.402Z"
   },
   {
    "duration": 3,
    "start_time": "2024-07-24T19:43:26.074Z"
   },
   {
    "duration": 215,
    "start_time": "2024-07-24T19:43:26.084Z"
   },
   {
    "duration": 33,
    "start_time": "2024-07-24T19:43:26.303Z"
   },
   {
    "duration": 35,
    "start_time": "2024-07-24T19:43:26.339Z"
   },
   {
    "duration": 6,
    "start_time": "2024-07-24T19:43:26.377Z"
   },
   {
    "duration": 48,
    "start_time": "2024-07-24T19:43:26.389Z"
   },
   {
    "duration": 5,
    "start_time": "2024-07-24T19:43:26.441Z"
   },
   {
    "duration": 30,
    "start_time": "2024-07-24T19:43:26.449Z"
   },
   {
    "duration": 51,
    "start_time": "2024-07-24T19:43:26.482Z"
   },
   {
    "duration": 59,
    "start_time": "2024-07-24T19:43:26.535Z"
   },
   {
    "duration": 54,
    "start_time": "2024-07-24T19:43:26.597Z"
   },
   {
    "duration": 27,
    "start_time": "2024-07-24T19:43:26.653Z"
   },
   {
    "duration": 14,
    "start_time": "2024-07-24T19:43:26.683Z"
   },
   {
    "duration": 101,
    "start_time": "2024-07-24T19:43:26.700Z"
   },
   {
    "duration": 44,
    "start_time": "2024-07-24T19:43:26.810Z"
   },
   {
    "duration": 27,
    "start_time": "2024-07-24T19:43:26.858Z"
   },
   {
    "duration": 6,
    "start_time": "2024-07-24T19:43:26.889Z"
   },
   {
    "duration": 48,
    "start_time": "2024-07-24T19:43:26.898Z"
   },
   {
    "duration": 111,
    "start_time": "2024-07-24T19:43:26.949Z"
   },
   {
    "duration": 15,
    "start_time": "2024-07-24T19:43:27.063Z"
   },
   {
    "duration": 113,
    "start_time": "2024-07-24T19:43:27.080Z"
   },
   {
    "duration": 93,
    "start_time": "2024-07-24T19:43:27.197Z"
   },
   {
    "duration": 11,
    "start_time": "2024-07-24T19:43:27.293Z"
   },
   {
    "duration": 102,
    "start_time": "2024-07-24T19:43:27.307Z"
   },
   {
    "duration": 28,
    "start_time": "2024-07-24T19:43:27.413Z"
   },
   {
    "duration": 3,
    "start_time": "2024-07-24T19:43:27.444Z"
   },
   {
    "duration": 16,
    "start_time": "2024-07-24T19:43:27.450Z"
   },
   {
    "duration": 4,
    "start_time": "2024-07-24T19:43:27.469Z"
   },
   {
    "duration": 61,
    "start_time": "2024-07-24T19:43:27.476Z"
   },
   {
    "duration": 14,
    "start_time": "2024-07-24T19:43:27.540Z"
   },
   {
    "duration": 7,
    "start_time": "2024-07-24T19:43:27.557Z"
   },
   {
    "duration": 10,
    "start_time": "2024-07-24T19:43:27.567Z"
   },
   {
    "duration": 58,
    "start_time": "2024-07-24T19:43:27.580Z"
   },
   {
    "duration": 33,
    "start_time": "2024-07-24T19:43:27.641Z"
   },
   {
    "duration": 13,
    "start_time": "2024-07-24T19:43:27.678Z"
   },
   {
    "duration": 61,
    "start_time": "2024-07-24T19:43:27.694Z"
   },
   {
    "duration": 5,
    "start_time": "2024-07-24T19:43:27.758Z"
   },
   {
    "duration": 15,
    "start_time": "2024-07-24T19:43:27.766Z"
   },
   {
    "duration": 57,
    "start_time": "2024-07-24T19:43:27.783Z"
   },
   {
    "duration": 16,
    "start_time": "2024-07-24T19:43:27.842Z"
   },
   {
    "duration": 35,
    "start_time": "2024-07-24T19:43:27.864Z"
   },
   {
    "duration": 22,
    "start_time": "2024-07-24T19:43:27.933Z"
   },
   {
    "duration": 16,
    "start_time": "2024-07-24T19:43:27.958Z"
   },
   {
    "duration": 10,
    "start_time": "2024-07-24T19:43:27.976Z"
   },
   {
    "duration": 47,
    "start_time": "2024-07-24T19:43:27.989Z"
   },
   {
    "duration": 16,
    "start_time": "2024-07-24T19:43:28.040Z"
   },
   {
    "duration": 23,
    "start_time": "2024-07-24T19:43:28.059Z"
   },
   {
    "duration": 0,
    "start_time": "2024-07-24T19:43:28.085Z"
   },
   {
    "duration": 0,
    "start_time": "2024-07-24T19:43:28.087Z"
   },
   {
    "duration": 0,
    "start_time": "2024-07-24T19:43:28.089Z"
   },
   {
    "duration": 0,
    "start_time": "2024-07-24T19:43:28.091Z"
   },
   {
    "duration": 7,
    "start_time": "2024-07-24T19:44:10.630Z"
   },
   {
    "duration": 11,
    "start_time": "2024-07-24T19:44:15.754Z"
   },
   {
    "duration": 15,
    "start_time": "2024-07-24T19:44:21.181Z"
   },
   {
    "duration": 4,
    "start_time": "2024-07-24T19:44:28.186Z"
   },
   {
    "duration": 222,
    "start_time": "2024-07-24T19:44:28.194Z"
   },
   {
    "duration": 19,
    "start_time": "2024-07-24T19:44:28.433Z"
   },
   {
    "duration": 35,
    "start_time": "2024-07-24T19:44:28.455Z"
   },
   {
    "duration": 6,
    "start_time": "2024-07-24T19:44:28.494Z"
   },
   {
    "duration": 14,
    "start_time": "2024-07-24T19:44:28.534Z"
   },
   {
    "duration": 5,
    "start_time": "2024-07-24T19:44:28.553Z"
   },
   {
    "duration": 31,
    "start_time": "2024-07-24T19:44:28.561Z"
   },
   {
    "duration": 50,
    "start_time": "2024-07-24T19:44:28.594Z"
   },
   {
    "duration": 61,
    "start_time": "2024-07-24T19:44:28.647Z"
   },
   {
    "duration": 62,
    "start_time": "2024-07-24T19:44:28.711Z"
   },
   {
    "duration": 28,
    "start_time": "2024-07-24T19:44:28.776Z"
   },
   {
    "duration": 14,
    "start_time": "2024-07-24T19:44:28.837Z"
   },
   {
    "duration": 92,
    "start_time": "2024-07-24T19:44:28.855Z"
   },
   {
    "duration": 29,
    "start_time": "2024-07-24T19:44:28.950Z"
   },
   {
    "duration": 52,
    "start_time": "2024-07-24T19:44:28.982Z"
   },
   {
    "duration": 7,
    "start_time": "2024-07-24T19:44:29.037Z"
   },
   {
    "duration": 17,
    "start_time": "2024-07-24T19:44:29.046Z"
   },
   {
    "duration": 131,
    "start_time": "2024-07-24T19:44:29.067Z"
   },
   {
    "duration": 15,
    "start_time": "2024-07-24T19:44:29.202Z"
   },
   {
    "duration": 74,
    "start_time": "2024-07-24T19:44:29.234Z"
   },
   {
    "duration": 89,
    "start_time": "2024-07-24T19:44:29.311Z"
   },
   {
    "duration": 11,
    "start_time": "2024-07-24T19:44:29.403Z"
   },
   {
    "duration": 80,
    "start_time": "2024-07-24T19:44:29.433Z"
   },
   {
    "duration": 33,
    "start_time": "2024-07-24T19:44:29.515Z"
   },
   {
    "duration": 4,
    "start_time": "2024-07-24T19:44:29.550Z"
   },
   {
    "duration": 15,
    "start_time": "2024-07-24T19:44:29.557Z"
   },
   {
    "duration": 5,
    "start_time": "2024-07-24T19:44:29.575Z"
   },
   {
    "duration": 62,
    "start_time": "2024-07-24T19:44:29.583Z"
   },
   {
    "duration": 14,
    "start_time": "2024-07-24T19:44:29.648Z"
   },
   {
    "duration": 7,
    "start_time": "2024-07-24T19:44:29.665Z"
   },
   {
    "duration": 13,
    "start_time": "2024-07-24T19:44:29.676Z"
   },
   {
    "duration": 16,
    "start_time": "2024-07-24T19:44:29.732Z"
   },
   {
    "duration": 36,
    "start_time": "2024-07-24T19:44:29.751Z"
   },
   {
    "duration": 42,
    "start_time": "2024-07-24T19:44:29.791Z"
   },
   {
    "duration": 35,
    "start_time": "2024-07-24T19:44:29.836Z"
   },
   {
    "duration": 5,
    "start_time": "2024-07-24T19:44:29.881Z"
   },
   {
    "duration": 43,
    "start_time": "2024-07-24T19:44:29.890Z"
   },
   {
    "duration": 23,
    "start_time": "2024-07-24T19:44:29.936Z"
   },
   {
    "duration": 14,
    "start_time": "2024-07-24T19:44:29.962Z"
   },
   {
    "duration": 59,
    "start_time": "2024-07-24T19:44:29.980Z"
   },
   {
    "duration": 25,
    "start_time": "2024-07-24T19:44:30.043Z"
   },
   {
    "duration": 16,
    "start_time": "2024-07-24T19:44:30.071Z"
   },
   {
    "duration": 45,
    "start_time": "2024-07-24T19:44:30.090Z"
   },
   {
    "duration": 12,
    "start_time": "2024-07-24T19:44:30.138Z"
   },
   {
    "duration": 18,
    "start_time": "2024-07-24T19:44:30.153Z"
   },
   {
    "duration": 59,
    "start_time": "2024-07-24T19:44:30.174Z"
   },
   {
    "duration": 0,
    "start_time": "2024-07-24T19:44:30.236Z"
   },
   {
    "duration": 0,
    "start_time": "2024-07-24T19:44:30.238Z"
   },
   {
    "duration": 0,
    "start_time": "2024-07-24T19:44:30.241Z"
   },
   {
    "duration": 0,
    "start_time": "2024-07-24T19:44:30.244Z"
   },
   {
    "duration": 490,
    "start_time": "2024-07-24T21:37:17.929Z"
   },
   {
    "duration": 202,
    "start_time": "2024-07-24T21:37:23.484Z"
   },
   {
    "duration": 25,
    "start_time": "2024-07-24T21:37:25.409Z"
   },
   {
    "duration": 39,
    "start_time": "2024-07-24T21:37:29.337Z"
   },
   {
    "duration": 6,
    "start_time": "2024-07-24T21:37:34.502Z"
   },
   {
    "duration": 12,
    "start_time": "2024-07-24T21:37:39.257Z"
   },
   {
    "duration": 9,
    "start_time": "2024-07-24T21:37:41.348Z"
   },
   {
    "duration": 45,
    "start_time": "2024-07-24T21:37:45.786Z"
   },
   {
    "duration": 77,
    "start_time": "2024-07-24T21:37:52.751Z"
   },
   {
    "duration": 75,
    "start_time": "2024-07-24T21:37:55.629Z"
   },
   {
    "duration": 48,
    "start_time": "2024-07-24T21:38:02.763Z"
   },
   {
    "duration": 28,
    "start_time": "2024-07-24T21:38:06.363Z"
   },
   {
    "duration": 15,
    "start_time": "2024-07-24T21:38:11.017Z"
   },
   {
    "duration": 95,
    "start_time": "2024-07-24T21:38:14.739Z"
   },
   {
    "duration": 30,
    "start_time": "2024-07-24T21:38:20.814Z"
   },
   {
    "duration": 34,
    "start_time": "2024-07-24T21:38:24.909Z"
   },
   {
    "duration": 7,
    "start_time": "2024-07-24T21:38:29.117Z"
   },
   {
    "duration": 18,
    "start_time": "2024-07-24T21:38:46.229Z"
   },
   {
    "duration": 110,
    "start_time": "2024-07-24T21:38:52.199Z"
   },
   {
    "duration": 15,
    "start_time": "2024-07-24T21:39:14.221Z"
   },
   {
    "duration": 82,
    "start_time": "2024-07-24T21:39:17.880Z"
   },
   {
    "duration": 18,
    "start_time": "2024-07-24T21:39:54.111Z"
   },
   {
    "duration": 111,
    "start_time": "2024-07-24T21:40:14.634Z"
   },
   {
    "duration": 17,
    "start_time": "2024-07-24T21:40:21.430Z"
   },
   {
    "duration": 104,
    "start_time": "2024-07-24T21:42:10.382Z"
   },
   {
    "duration": 76,
    "start_time": "2024-07-24T21:42:15.995Z"
   },
   {
    "duration": 85,
    "start_time": "2024-07-24T21:42:30.606Z"
   },
   {
    "duration": 12,
    "start_time": "2024-07-24T21:44:18.718Z"
   },
   {
    "duration": 106,
    "start_time": "2024-07-24T21:44:27.182Z"
   },
   {
    "duration": 74,
    "start_time": "2024-07-24T21:50:29.989Z"
   },
   {
    "duration": 465,
    "start_time": "2024-07-24T21:54:51.729Z"
   },
   {
    "duration": 204,
    "start_time": "2024-07-24T21:55:31.788Z"
   },
   {
    "duration": 24,
    "start_time": "2024-07-24T21:55:35.087Z"
   },
   {
    "duration": 17,
    "start_time": "2024-07-24T21:56:23.854Z"
   },
   {
    "duration": 437,
    "start_time": "2024-07-24T21:56:38.100Z"
   },
   {
    "duration": 205,
    "start_time": "2024-07-24T21:56:40.197Z"
   },
   {
    "duration": 25,
    "start_time": "2024-07-24T21:56:42.533Z"
   },
   {
    "duration": 35,
    "start_time": "2024-07-24T21:57:18.430Z"
   },
   {
    "duration": 7,
    "start_time": "2024-07-24T21:58:01.653Z"
   },
   {
    "duration": 8,
    "start_time": "2024-07-24T21:59:10.365Z"
   },
   {
    "duration": 337,
    "start_time": "2024-07-24T21:59:23.653Z"
   },
   {
    "duration": 13,
    "start_time": "2024-07-24T21:59:49.724Z"
   },
   {
    "duration": 7,
    "start_time": "2024-07-24T22:00:45.301Z"
   },
   {
    "duration": 29,
    "start_time": "2024-07-24T22:01:35.870Z"
   },
   {
    "duration": 15,
    "start_time": "2024-07-24T22:03:31.399Z"
   },
   {
    "duration": 60,
    "start_time": "2024-07-24T22:03:52.149Z"
   },
   {
    "duration": 35,
    "start_time": "2024-07-24T22:04:37.561Z"
   },
   {
    "duration": 39,
    "start_time": "2024-07-24T22:05:49.814Z"
   },
   {
    "duration": 21,
    "start_time": "2024-07-24T22:06:51.845Z"
   },
   {
    "duration": 74,
    "start_time": "2024-07-24T22:07:36.761Z"
   },
   {
    "duration": 74,
    "start_time": "2024-07-24T22:07:43.137Z"
   },
   {
    "duration": 40,
    "start_time": "2024-07-24T22:07:50.454Z"
   },
   {
    "duration": 26,
    "start_time": "2024-07-24T22:09:14.742Z"
   },
   {
    "duration": 6,
    "start_time": "2024-07-24T22:10:12.522Z"
   },
   {
    "duration": 15,
    "start_time": "2024-07-24T22:12:50.654Z"
   },
   {
    "duration": 81,
    "start_time": "2024-07-24T22:14:02.796Z"
   },
   {
    "duration": 13,
    "start_time": "2024-07-24T22:14:06.142Z"
   },
   {
    "duration": 72,
    "start_time": "2024-07-24T22:14:12.583Z"
   },
   {
    "duration": 73,
    "start_time": "2024-07-24T22:14:18.939Z"
   },
   {
    "duration": 13,
    "start_time": "2024-07-24T22:15:18.909Z"
   },
   {
    "duration": 72,
    "start_time": "2024-07-24T22:15:22.779Z"
   },
   {
    "duration": 15,
    "start_time": "2024-07-24T22:16:39.646Z"
   },
   {
    "duration": 4,
    "start_time": "2024-07-24T22:17:55.565Z"
   },
   {
    "duration": 14,
    "start_time": "2024-07-24T22:17:58.519Z"
   },
   {
    "duration": 4,
    "start_time": "2024-07-24T22:18:02.957Z"
   },
   {
    "duration": 24,
    "start_time": "2024-07-24T22:18:05.274Z"
   },
   {
    "duration": 7,
    "start_time": "2024-07-24T22:18:32.877Z"
   },
   {
    "duration": 22,
    "start_time": "2024-07-24T22:18:38.093Z"
   },
   {
    "duration": 69,
    "start_time": "2024-07-24T22:20:06.452Z"
   },
   {
    "duration": 3,
    "start_time": "2024-07-24T22:20:12.454Z"
   },
   {
    "duration": 227,
    "start_time": "2024-07-24T22:20:12.461Z"
   },
   {
    "duration": 18,
    "start_time": "2024-07-24T22:20:12.691Z"
   },
   {
    "duration": 33,
    "start_time": "2024-07-24T22:20:12.732Z"
   },
   {
    "duration": 9,
    "start_time": "2024-07-24T22:20:12.769Z"
   },
   {
    "duration": 13,
    "start_time": "2024-07-24T22:20:12.780Z"
   },
   {
    "duration": 38,
    "start_time": "2024-07-24T22:20:12.796Z"
   },
   {
    "duration": 30,
    "start_time": "2024-07-24T22:20:12.837Z"
   },
   {
    "duration": 15,
    "start_time": "2024-07-24T22:20:12.870Z"
   },
   {
    "duration": 87,
    "start_time": "2024-07-24T22:20:12.888Z"
   },
   {
    "duration": 52,
    "start_time": "2024-07-24T22:20:12.982Z"
   },
   {
    "duration": 28,
    "start_time": "2024-07-24T22:20:13.036Z"
   },
   {
    "duration": 14,
    "start_time": "2024-07-24T22:20:13.067Z"
   },
   {
    "duration": 104,
    "start_time": "2024-07-24T22:20:13.084Z"
   },
   {
    "duration": 43,
    "start_time": "2024-07-24T22:20:13.192Z"
   },
   {
    "duration": 28,
    "start_time": "2024-07-24T22:20:13.237Z"
   },
   {
    "duration": 6,
    "start_time": "2024-07-24T22:20:13.267Z"
   },
   {
    "duration": 16,
    "start_time": "2024-07-24T22:20:13.276Z"
   },
   {
    "duration": 117,
    "start_time": "2024-07-24T22:20:13.294Z"
   },
   {
    "duration": 27,
    "start_time": "2024-07-24T22:20:13.414Z"
   },
   {
    "duration": 72,
    "start_time": "2024-07-24T22:20:13.444Z"
   },
   {
    "duration": 72,
    "start_time": "2024-07-24T22:20:13.535Z"
   },
   {
    "duration": 26,
    "start_time": "2024-07-24T22:20:13.610Z"
   },
   {
    "duration": 99,
    "start_time": "2024-07-24T22:20:13.638Z"
   },
   {
    "duration": 15,
    "start_time": "2024-07-24T22:20:13.740Z"
   },
   {
    "duration": 3,
    "start_time": "2024-07-24T22:20:13.758Z"
   },
   {
    "duration": 14,
    "start_time": "2024-07-24T22:20:13.765Z"
   },
   {
    "duration": 9,
    "start_time": "2024-07-24T22:20:13.782Z"
   },
   {
    "duration": 23,
    "start_time": "2024-07-24T22:20:13.839Z"
   },
   {
    "duration": 13,
    "start_time": "2024-07-24T22:20:13.865Z"
   },
   {
    "duration": 7,
    "start_time": "2024-07-24T22:20:13.882Z"
   },
   {
    "duration": 47,
    "start_time": "2024-07-24T22:20:13.892Z"
   },
   {
    "duration": 15,
    "start_time": "2024-07-24T22:20:13.941Z"
   },
   {
    "duration": 32,
    "start_time": "2024-07-24T22:20:13.960Z"
   },
   {
    "duration": 44,
    "start_time": "2024-07-24T22:20:13.995Z"
   },
   {
    "duration": 33,
    "start_time": "2024-07-24T22:20:14.042Z"
   },
   {
    "duration": 4,
    "start_time": "2024-07-24T22:20:14.078Z"
   },
   {
    "duration": 18,
    "start_time": "2024-07-24T22:20:14.086Z"
   },
   {
    "duration": 25,
    "start_time": "2024-07-24T22:20:14.135Z"
   },
   {
    "duration": 14,
    "start_time": "2024-07-24T22:20:14.162Z"
   },
   {
    "duration": 64,
    "start_time": "2024-07-24T22:20:14.179Z"
   },
   {
    "duration": 23,
    "start_time": "2024-07-24T22:20:14.245Z"
   },
   {
    "duration": 16,
    "start_time": "2024-07-24T22:20:14.271Z"
   },
   {
    "duration": 44,
    "start_time": "2024-07-24T22:20:14.290Z"
   },
   {
    "duration": 12,
    "start_time": "2024-07-24T22:20:14.337Z"
   },
   {
    "duration": 16,
    "start_time": "2024-07-24T22:20:14.352Z"
   },
   {
    "duration": 24,
    "start_time": "2024-07-24T22:20:14.370Z"
   },
   {
    "duration": 0,
    "start_time": "2024-07-24T22:20:14.433Z"
   },
   {
    "duration": 0,
    "start_time": "2024-07-24T22:20:14.435Z"
   },
   {
    "duration": 0,
    "start_time": "2024-07-24T22:20:14.437Z"
   },
   {
    "duration": 1,
    "start_time": "2024-07-24T22:20:14.439Z"
   },
   {
    "duration": 6,
    "start_time": "2024-07-24T22:20:30.959Z"
   },
   {
    "duration": 22,
    "start_time": "2024-07-24T22:20:32.955Z"
   },
   {
    "duration": 24,
    "start_time": "2024-07-24T22:21:24.871Z"
   },
   {
    "duration": 19,
    "start_time": "2024-07-24T22:21:39.642Z"
   },
   {
    "duration": 3,
    "start_time": "2024-07-24T22:21:54.237Z"
   },
   {
    "duration": 3,
    "start_time": "2024-07-24T22:22:22.896Z"
   },
   {
    "duration": 5,
    "start_time": "2024-07-24T22:22:24.922Z"
   },
   {
    "duration": 459,
    "start_time": "2024-07-24T22:23:12.714Z"
   },
   {
    "duration": 195,
    "start_time": "2024-07-24T22:23:16.625Z"
   },
   {
    "duration": 26,
    "start_time": "2024-07-24T22:23:18.349Z"
   },
   {
    "duration": 40,
    "start_time": "2024-07-24T22:23:23.511Z"
   },
   {
    "duration": 49,
    "start_time": "2024-07-24T22:24:52.915Z"
   },
   {
    "duration": 7,
    "start_time": "2024-07-24T22:24:58.586Z"
   },
   {
    "duration": 14,
    "start_time": "2024-07-24T22:25:01.646Z"
   },
   {
    "duration": 6,
    "start_time": "2024-07-24T22:25:06.220Z"
   },
   {
    "duration": 30,
    "start_time": "2024-07-24T22:25:10.255Z"
   },
   {
    "duration": 94,
    "start_time": "2024-07-24T22:25:16.672Z"
   },
   {
    "duration": 87,
    "start_time": "2024-07-24T22:25:27.116Z"
   },
   {
    "duration": 38,
    "start_time": "2024-07-24T22:26:11.055Z"
   },
   {
    "duration": 41,
    "start_time": "2024-07-24T22:26:14.659Z"
   },
   {
    "duration": 20,
    "start_time": "2024-07-24T22:28:01.418Z"
   },
   {
    "duration": 94,
    "start_time": "2024-07-24T22:28:04.943Z"
   },
   {
    "duration": 30,
    "start_time": "2024-07-24T22:28:12.344Z"
   },
   {
    "duration": 33,
    "start_time": "2024-07-24T22:28:27.626Z"
   },
   {
    "duration": 7,
    "start_time": "2024-07-24T22:28:42.707Z"
   },
   {
    "duration": 16,
    "start_time": "2024-07-24T22:31:08.263Z"
   },
   {
    "duration": 84,
    "start_time": "2024-07-24T22:31:40.990Z"
   },
   {
    "duration": 119,
    "start_time": "2024-07-24T22:31:47.292Z"
   },
   {
    "duration": 16,
    "start_time": "2024-07-24T22:31:58.650Z"
   },
   {
    "duration": 73,
    "start_time": "2024-07-24T22:32:03.711Z"
   },
   {
    "duration": 71,
    "start_time": "2024-07-24T22:32:16.582Z"
   },
   {
    "duration": 12,
    "start_time": "2024-07-24T22:32:28.618Z"
   },
   {
    "duration": 92,
    "start_time": "2024-07-24T22:32:31.775Z"
   },
   {
    "duration": 20,
    "start_time": "2024-07-24T22:32:45.459Z"
   },
   {
    "duration": 4,
    "start_time": "2024-07-24T22:34:25.860Z"
   },
   {
    "duration": 7,
    "start_time": "2024-07-24T22:34:39.442Z"
   },
   {
    "duration": 28,
    "start_time": "2024-07-24T22:34:49.298Z"
   },
   {
    "duration": 5,
    "start_time": "2024-07-24T22:35:55.470Z"
   },
   {
    "duration": 21,
    "start_time": "2024-07-24T22:35:58.258Z"
   },
   {
    "duration": 16,
    "start_time": "2024-07-24T22:36:46.624Z"
   },
   {
    "duration": 9,
    "start_time": "2024-07-24T22:37:17.308Z"
   },
   {
    "duration": 13,
    "start_time": "2024-07-24T22:37:54.567Z"
   },
   {
    "duration": 10,
    "start_time": "2024-07-24T22:40:34.641Z"
   },
   {
    "duration": 21,
    "start_time": "2024-07-24T22:40:38.230Z"
   },
   {
    "duration": 36,
    "start_time": "2024-07-24T22:40:53.379Z"
   },
   {
    "duration": 51,
    "start_time": "2024-07-24T22:40:57.868Z"
   },
   {
    "duration": 14,
    "start_time": "2024-07-24T22:41:47.098Z"
   },
   {
    "duration": 53,
    "start_time": "2024-07-24T22:41:52.415Z"
   },
   {
    "duration": 22,
    "start_time": "2024-07-24T22:43:09.130Z"
   },
   {
    "duration": 31,
    "start_time": "2024-07-24T22:43:16.623Z"
   },
   {
    "duration": 27,
    "start_time": "2024-07-24T22:44:54.234Z"
   },
   {
    "duration": 22,
    "start_time": "2024-07-24T22:46:15.019Z"
   },
   {
    "duration": 23,
    "start_time": "2024-07-24T22:46:51.630Z"
   },
   {
    "duration": 10,
    "start_time": "2024-07-24T22:46:56.603Z"
   },
   {
    "duration": 10,
    "start_time": "2024-07-24T22:54:02.305Z"
   },
   {
    "duration": 5,
    "start_time": "2024-07-24T22:54:30.599Z"
   },
   {
    "duration": 10,
    "start_time": "2024-07-24T22:54:35.618Z"
   },
   {
    "duration": 14,
    "start_time": "2024-07-24T23:10:31.439Z"
   },
   {
    "duration": 33,
    "start_time": "2024-07-24T23:10:35.576Z"
   },
   {
    "duration": 14,
    "start_time": "2024-07-24T23:11:20.847Z"
   },
   {
    "duration": 21,
    "start_time": "2024-07-24T23:11:26.302Z"
   },
   {
    "duration": 9,
    "start_time": "2024-07-24T23:12:12.141Z"
   },
   {
    "duration": 26,
    "start_time": "2024-07-24T23:12:19.282Z"
   },
   {
    "duration": 24,
    "start_time": "2024-07-24T23:12:28.667Z"
   },
   {
    "duration": 12,
    "start_time": "2024-07-24T23:24:50.883Z"
   },
   {
    "duration": 12,
    "start_time": "2024-07-24T23:25:20.502Z"
   },
   {
    "duration": 22,
    "start_time": "2024-07-24T23:25:30.367Z"
   },
   {
    "duration": 22,
    "start_time": "2024-07-24T23:25:45.002Z"
   },
   {
    "duration": 15,
    "start_time": "2024-07-24T23:32:44.915Z"
   },
   {
    "duration": 11,
    "start_time": "2024-07-24T23:33:10.275Z"
   },
   {
    "duration": 27,
    "start_time": "2024-07-24T23:33:22.854Z"
   },
   {
    "duration": 17,
    "start_time": "2024-07-24T23:34:47.902Z"
   },
   {
    "duration": 9,
    "start_time": "2024-07-24T23:35:47.864Z"
   },
   {
    "duration": 13,
    "start_time": "2024-07-24T23:39:52.382Z"
   },
   {
    "duration": 23,
    "start_time": "2024-07-24T23:40:31.558Z"
   },
   {
    "duration": 5,
    "start_time": "2024-07-24T23:44:35.866Z"
   },
   {
    "duration": 6,
    "start_time": "2024-07-24T23:45:18.138Z"
   },
   {
    "duration": 17,
    "start_time": "2024-07-24T23:50:13.468Z"
   },
   {
    "duration": 6,
    "start_time": "2024-07-24T23:52:39.450Z"
   },
   {
    "duration": 9,
    "start_time": "2024-07-24T23:52:46.330Z"
   },
   {
    "duration": 3,
    "start_time": "2024-07-25T00:02:19.934Z"
   },
   {
    "duration": 8,
    "start_time": "2024-07-25T00:02:25.515Z"
   },
   {
    "duration": 6,
    "start_time": "2024-07-25T00:03:18.727Z"
   },
   {
    "duration": 490,
    "start_time": "2024-07-25T00:03:30.382Z"
   },
   {
    "duration": 4,
    "start_time": "2024-07-25T00:05:17.642Z"
   },
   {
    "duration": 30,
    "start_time": "2024-07-25T00:05:26.202Z"
   },
   {
    "duration": 6,
    "start_time": "2024-07-25T00:11:18.862Z"
   },
   {
    "duration": 9,
    "start_time": "2024-07-25T00:11:30.026Z"
   },
   {
    "duration": 4,
    "start_time": "2024-07-25T00:14:37.926Z"
   },
   {
    "duration": 10,
    "start_time": "2024-07-25T00:14:42.858Z"
   },
   {
    "duration": 11,
    "start_time": "2024-07-25T00:15:38.977Z"
   },
   {
    "duration": 1487,
    "start_time": "2024-07-25T00:15:51.062Z"
   },
   {
    "duration": 139,
    "start_time": "2024-07-25T00:15:53.468Z"
   },
   {
    "duration": 4,
    "start_time": "2024-07-25T00:15:58.647Z"
   },
   {
    "duration": 9,
    "start_time": "2024-07-25T00:24:39.941Z"
   },
   {
    "duration": 10,
    "start_time": "2024-07-25T00:24:49.894Z"
   },
   {
    "duration": 10,
    "start_time": "2024-07-25T00:24:59.934Z"
   },
   {
    "duration": 18,
    "start_time": "2024-07-25T00:25:51.783Z"
   },
   {
    "duration": 7,
    "start_time": "2024-07-25T00:26:54.210Z"
   },
   {
    "duration": 25,
    "start_time": "2024-07-25T00:27:26.667Z"
   },
   {
    "duration": 25,
    "start_time": "2024-07-25T00:27:34.455Z"
   },
   {
    "duration": 8,
    "start_time": "2024-07-25T00:27:44.898Z"
   },
   {
    "duration": 16,
    "start_time": "2024-07-25T00:27:50.162Z"
   },
   {
    "duration": 216,
    "start_time": "2024-07-25T00:28:16.702Z"
   },
   {
    "duration": 737,
    "start_time": "2024-07-25T00:31:12.512Z"
   },
   {
    "duration": 16,
    "start_time": "2024-07-25T00:31:27.048Z"
   },
   {
    "duration": 44,
    "start_time": "2024-07-25T00:35:07.875Z"
   },
   {
    "duration": 177,
    "start_time": "2024-07-25T00:35:20.237Z"
   },
   {
    "duration": 24,
    "start_time": "2024-07-25T00:35:47.930Z"
   },
   {
    "duration": 22,
    "start_time": "2024-07-25T00:35:51.455Z"
   },
   {
    "duration": 44,
    "start_time": "2024-07-25T00:37:18.715Z"
   },
   {
    "duration": 43,
    "start_time": "2024-07-25T00:37:51.782Z"
   },
   {
    "duration": 45,
    "start_time": "2024-07-25T00:44:02.347Z"
   },
   {
    "duration": 15,
    "start_time": "2024-07-25T00:47:20.526Z"
   },
   {
    "duration": 15,
    "start_time": "2024-07-25T00:47:40.246Z"
   },
   {
    "duration": 44,
    "start_time": "2024-07-25T00:47:54.831Z"
   },
   {
    "duration": 16,
    "start_time": "2024-07-25T00:48:29.204Z"
   },
   {
    "duration": 89,
    "start_time": "2024-07-25T00:50:00.198Z"
   },
   {
    "duration": 90,
    "start_time": "2024-07-25T00:51:47.078Z"
   },
   {
    "duration": 19,
    "start_time": "2024-07-25T00:52:09.761Z"
   },
   {
    "duration": 3,
    "start_time": "2024-07-25T00:52:27.620Z"
   },
   {
    "duration": 23,
    "start_time": "2024-07-25T00:56:17.650Z"
   },
   {
    "duration": 23,
    "start_time": "2024-07-25T00:58:41.091Z"
   },
   {
    "duration": 9,
    "start_time": "2024-07-25T00:59:35.362Z"
   },
   {
    "duration": 25,
    "start_time": "2024-07-25T01:01:26.655Z"
   },
   {
    "duration": 22,
    "start_time": "2024-07-25T01:01:58.115Z"
   },
   {
    "duration": 22,
    "start_time": "2024-07-25T01:02:17.911Z"
   },
   {
    "duration": 23,
    "start_time": "2024-07-25T01:03:56.906Z"
   },
   {
    "duration": 10,
    "start_time": "2024-07-25T01:04:59.314Z"
   },
   {
    "duration": 9,
    "start_time": "2024-07-25T01:05:11.601Z"
   },
   {
    "duration": 6,
    "start_time": "2024-07-25T01:06:11.771Z"
   },
   {
    "duration": 116,
    "start_time": "2024-07-25T01:06:17.766Z"
   },
   {
    "duration": 14,
    "start_time": "2024-07-25T01:09:33.005Z"
   },
   {
    "duration": 5,
    "start_time": "2024-07-25T01:10:45.388Z"
   },
   {
    "duration": 6,
    "start_time": "2024-07-25T01:10:52.051Z"
   },
   {
    "duration": 13,
    "start_time": "2024-07-25T01:11:19.908Z"
   },
   {
    "duration": 8,
    "start_time": "2024-07-25T01:15:55.447Z"
   },
   {
    "duration": 117,
    "start_time": "2024-07-25T01:21:03.947Z"
   },
   {
    "duration": 79,
    "start_time": "2024-07-25T01:21:08.801Z"
   },
   {
    "duration": 441,
    "start_time": "2024-07-25T01:21:19.075Z"
   },
   {
    "duration": 206,
    "start_time": "2024-07-25T01:21:19.519Z"
   },
   {
    "duration": 24,
    "start_time": "2024-07-25T01:21:19.732Z"
   },
   {
    "duration": 40,
    "start_time": "2024-07-25T01:21:19.760Z"
   },
   {
    "duration": 31,
    "start_time": "2024-07-25T01:21:19.803Z"
   },
   {
    "duration": 13,
    "start_time": "2024-07-25T01:21:19.837Z"
   },
   {
    "duration": 6,
    "start_time": "2024-07-25T01:21:19.853Z"
   },
   {
    "duration": 29,
    "start_time": "2024-07-25T01:21:19.863Z"
   },
   {
    "duration": 71,
    "start_time": "2024-07-25T01:21:19.934Z"
   },
   {
    "duration": 77,
    "start_time": "2024-07-25T01:21:20.010Z"
   },
   {
    "duration": 45,
    "start_time": "2024-07-25T01:21:20.090Z"
   },
   {
    "duration": 29,
    "start_time": "2024-07-25T01:21:20.138Z"
   },
   {
    "duration": 14,
    "start_time": "2024-07-25T01:21:20.170Z"
   },
   {
    "duration": 110,
    "start_time": "2024-07-25T01:21:20.187Z"
   },
   {
    "duration": 37,
    "start_time": "2024-07-25T01:21:20.300Z"
   },
   {
    "duration": 28,
    "start_time": "2024-07-25T01:21:20.340Z"
   },
   {
    "duration": 6,
    "start_time": "2024-07-25T01:21:20.371Z"
   },
   {
    "duration": 51,
    "start_time": "2024-07-25T01:21:20.381Z"
   },
   {
    "duration": 111,
    "start_time": "2024-07-25T01:21:20.435Z"
   },
   {
    "duration": 14,
    "start_time": "2024-07-25T01:21:20.549Z"
   },
   {
    "duration": 93,
    "start_time": "2024-07-25T01:21:20.566Z"
   },
   {
    "duration": 89,
    "start_time": "2024-07-25T01:21:20.662Z"
   },
   {
    "duration": 13,
    "start_time": "2024-07-25T01:21:20.754Z"
   },
   {
    "duration": 100,
    "start_time": "2024-07-25T01:21:20.770Z"
   },
   {
    "duration": 17,
    "start_time": "2024-07-25T01:21:20.873Z"
   },
   {
    "duration": 6,
    "start_time": "2024-07-25T01:21:20.893Z"
   },
   {
    "duration": 33,
    "start_time": "2024-07-25T01:21:20.902Z"
   },
   {
    "duration": 23,
    "start_time": "2024-07-25T01:21:20.943Z"
   },
   {
    "duration": 14,
    "start_time": "2024-07-25T01:21:20.970Z"
   },
   {
    "duration": 8,
    "start_time": "2024-07-25T01:21:20.987Z"
   },
   {
    "duration": 11,
    "start_time": "2024-07-25T01:21:21.034Z"
   },
   {
    "duration": 16,
    "start_time": "2024-07-25T01:21:21.047Z"
   },
   {
    "duration": 15,
    "start_time": "2024-07-25T01:21:21.068Z"
   },
   {
    "duration": 65,
    "start_time": "2024-07-25T01:21:21.086Z"
   },
   {
    "duration": 14,
    "start_time": "2024-07-25T01:21:21.153Z"
   },
   {
    "duration": 66,
    "start_time": "2024-07-25T01:21:21.169Z"
   },
   {
    "duration": 7,
    "start_time": "2024-07-25T01:21:21.238Z"
   },
   {
    "duration": 12,
    "start_time": "2024-07-25T01:21:21.248Z"
   },
   {
    "duration": 22,
    "start_time": "2024-07-25T01:21:21.263Z"
   },
   {
    "duration": 64,
    "start_time": "2024-07-25T01:21:21.289Z"
   },
   {
    "duration": 18,
    "start_time": "2024-07-25T01:21:21.355Z"
   },
   {
    "duration": 13,
    "start_time": "2024-07-25T01:21:21.376Z"
   },
   {
    "duration": 75,
    "start_time": "2024-07-25T01:21:21.392Z"
   },
   {
    "duration": 22,
    "start_time": "2024-07-25T01:21:21.470Z"
   },
   {
    "duration": 38,
    "start_time": "2024-07-25T01:21:21.495Z"
   },
   {
    "duration": 5,
    "start_time": "2024-07-25T01:21:21.536Z"
   },
   {
    "duration": 15,
    "start_time": "2024-07-25T01:21:21.545Z"
   },
   {
    "duration": 15,
    "start_time": "2024-07-25T01:21:21.563Z"
   },
   {
    "duration": 327,
    "start_time": "2024-07-25T01:21:21.583Z"
   },
   {
    "duration": 0,
    "start_time": "2024-07-25T01:21:21.913Z"
   },
   {
    "duration": 0,
    "start_time": "2024-07-25T01:21:21.914Z"
   },
   {
    "duration": 3,
    "start_time": "2024-07-25T01:21:28.588Z"
   },
   {
    "duration": 268,
    "start_time": "2024-07-25T01:21:28.595Z"
   },
   {
    "duration": 18,
    "start_time": "2024-07-25T01:21:28.869Z"
   },
   {
    "duration": 54,
    "start_time": "2024-07-25T01:21:28.892Z"
   },
   {
    "duration": 8,
    "start_time": "2024-07-25T01:21:28.951Z"
   },
   {
    "duration": 16,
    "start_time": "2024-07-25T01:21:28.962Z"
   },
   {
    "duration": 7,
    "start_time": "2024-07-25T01:21:28.981Z"
   },
   {
    "duration": 83,
    "start_time": "2024-07-25T01:21:28.991Z"
   },
   {
    "duration": 20,
    "start_time": "2024-07-25T01:21:29.078Z"
   },
   {
    "duration": 114,
    "start_time": "2024-07-25T01:21:29.101Z"
   },
   {
    "duration": 57,
    "start_time": "2024-07-25T01:21:29.222Z"
   },
   {
    "duration": 52,
    "start_time": "2024-07-25T01:21:29.286Z"
   },
   {
    "duration": 19,
    "start_time": "2024-07-25T01:21:29.341Z"
   },
   {
    "duration": 103,
    "start_time": "2024-07-25T01:21:29.363Z"
   },
   {
    "duration": 32,
    "start_time": "2024-07-25T01:21:29.468Z"
   },
   {
    "duration": 50,
    "start_time": "2024-07-25T01:21:29.504Z"
   },
   {
    "duration": 9,
    "start_time": "2024-07-25T01:21:29.558Z"
   },
   {
    "duration": 21,
    "start_time": "2024-07-25T01:21:29.570Z"
   },
   {
    "duration": 125,
    "start_time": "2024-07-25T01:21:29.595Z"
   },
   {
    "duration": 15,
    "start_time": "2024-07-25T01:21:29.733Z"
   },
   {
    "duration": 91,
    "start_time": "2024-07-25T01:21:29.751Z"
   },
   {
    "duration": 73,
    "start_time": "2024-07-25T01:21:29.844Z"
   },
   {
    "duration": 10,
    "start_time": "2024-07-25T01:21:29.934Z"
   },
   {
    "duration": 92,
    "start_time": "2024-07-25T01:21:29.948Z"
   },
   {
    "duration": 14,
    "start_time": "2024-07-25T01:21:30.043Z"
   },
   {
    "duration": 4,
    "start_time": "2024-07-25T01:21:30.060Z"
   },
   {
    "duration": 5,
    "start_time": "2024-07-25T01:21:30.067Z"
   },
   {
    "duration": 59,
    "start_time": "2024-07-25T01:21:30.075Z"
   },
   {
    "duration": 16,
    "start_time": "2024-07-25T01:21:30.144Z"
   },
   {
    "duration": 7,
    "start_time": "2024-07-25T01:21:30.163Z"
   },
   {
    "duration": 10,
    "start_time": "2024-07-25T01:21:30.173Z"
   },
   {
    "duration": 58,
    "start_time": "2024-07-25T01:21:30.186Z"
   },
   {
    "duration": 15,
    "start_time": "2024-07-25T01:21:30.248Z"
   },
   {
    "duration": 32,
    "start_time": "2024-07-25T01:21:30.266Z"
   },
   {
    "duration": 42,
    "start_time": "2024-07-25T01:21:30.301Z"
   },
   {
    "duration": 39,
    "start_time": "2024-07-25T01:21:30.349Z"
   },
   {
    "duration": 4,
    "start_time": "2024-07-25T01:21:30.392Z"
   },
   {
    "duration": 38,
    "start_time": "2024-07-25T01:21:30.400Z"
   },
   {
    "duration": 23,
    "start_time": "2024-07-25T01:21:30.440Z"
   },
   {
    "duration": 23,
    "start_time": "2024-07-25T01:21:30.466Z"
   },
   {
    "duration": 14,
    "start_time": "2024-07-25T01:21:30.532Z"
   },
   {
    "duration": 14,
    "start_time": "2024-07-25T01:21:30.549Z"
   },
   {
    "duration": 43,
    "start_time": "2024-07-25T01:21:30.566Z"
   },
   {
    "duration": 20,
    "start_time": "2024-07-25T01:21:30.635Z"
   },
   {
    "duration": 12,
    "start_time": "2024-07-25T01:21:30.657Z"
   },
   {
    "duration": 5,
    "start_time": "2024-07-25T01:21:30.671Z"
   },
   {
    "duration": 15,
    "start_time": "2024-07-25T01:21:30.680Z"
   },
   {
    "duration": 15,
    "start_time": "2024-07-25T01:21:30.734Z"
   },
   {
    "duration": 23,
    "start_time": "2024-07-25T01:21:30.753Z"
   },
   {
    "duration": 0,
    "start_time": "2024-07-25T01:21:30.778Z"
   },
   {
    "duration": 0,
    "start_time": "2024-07-25T01:21:30.780Z"
   },
   {
    "duration": 455,
    "start_time": "2024-07-25T01:21:53.729Z"
   },
   {
    "duration": 197,
    "start_time": "2024-07-25T01:21:57.871Z"
   },
   {
    "duration": 24,
    "start_time": "2024-07-25T01:21:59.678Z"
   },
   {
    "duration": 36,
    "start_time": "2024-07-25T01:22:04.794Z"
   },
   {
    "duration": 5,
    "start_time": "2024-07-25T01:22:11.366Z"
   },
   {
    "duration": 11,
    "start_time": "2024-07-25T01:22:16.362Z"
   },
   {
    "duration": 6,
    "start_time": "2024-07-25T01:22:18.248Z"
   },
   {
    "duration": 28,
    "start_time": "2024-07-25T01:22:23.272Z"
   },
   {
    "duration": 81,
    "start_time": "2024-07-25T01:22:27.120Z"
   },
   {
    "duration": 33,
    "start_time": "2024-07-25T01:22:38.530Z"
   },
   {
    "duration": 29,
    "start_time": "2024-07-25T01:22:44.862Z"
   },
   {
    "duration": 72,
    "start_time": "2024-07-25T01:22:47.719Z"
   },
   {
    "duration": 29,
    "start_time": "2024-07-25T01:22:53.515Z"
   },
   {
    "duration": 27,
    "start_time": "2024-07-25T01:22:57.203Z"
   },
   {
    "duration": 6,
    "start_time": "2024-07-25T01:23:03.679Z"
   },
   {
    "duration": 100,
    "start_time": "2024-07-25T01:23:11.033Z"
   },
   {
    "duration": 75,
    "start_time": "2024-07-25T01:23:19.542Z"
   },
   {
    "duration": 75,
    "start_time": "2024-07-25T01:23:25.274Z"
   },
   {
    "duration": 11,
    "start_time": "2024-07-25T01:23:31.491Z"
   },
   {
    "duration": 72,
    "start_time": "2024-07-25T01:23:34.117Z"
   },
   {
    "duration": 15,
    "start_time": "2024-07-25T01:23:39.279Z"
   },
   {
    "duration": 4,
    "start_time": "2024-07-25T01:23:45.334Z"
   },
   {
    "duration": 4,
    "start_time": "2024-07-25T01:23:47.543Z"
   },
   {
    "duration": 24,
    "start_time": "2024-07-25T01:23:57.418Z"
   },
   {
    "duration": 14,
    "start_time": "2024-07-25T01:24:17.073Z"
   },
   {
    "duration": 8,
    "start_time": "2024-07-25T01:24:21.365Z"
   },
   {
    "duration": 11,
    "start_time": "2024-07-25T01:24:57.126Z"
   },
   {
    "duration": 31,
    "start_time": "2024-07-25T01:25:06.494Z"
   },
   {
    "duration": 13,
    "start_time": "2024-07-25T01:25:14.670Z"
   },
   {
    "duration": 33,
    "start_time": "2024-07-25T01:25:17.454Z"
   },
   {
    "duration": 12,
    "start_time": "2024-07-25T01:25:23.120Z"
   },
   {
    "duration": 24,
    "start_time": "2024-07-25T01:25:29.042Z"
   },
   {
    "duration": 23,
    "start_time": "2024-07-25T01:25:35.291Z"
   },
   {
    "duration": 13,
    "start_time": "2024-07-25T01:26:00.979Z"
   },
   {
    "duration": 43,
    "start_time": "2024-07-25T01:26:03.814Z"
   },
   {
    "duration": 4,
    "start_time": "2024-07-25T01:26:34.247Z"
   },
   {
    "duration": 4,
    "start_time": "2024-07-25T01:26:38.352Z"
   },
   {
    "duration": 22,
    "start_time": "2024-07-25T01:26:46.822Z"
   },
   {
    "duration": 357,
    "start_time": "2024-07-25T01:27:46.949Z"
   },
   {
    "duration": 25,
    "start_time": "2024-07-25T01:28:07.082Z"
   },
   {
    "duration": 441,
    "start_time": "2024-07-26T14:18:22.674Z"
   },
   {
    "duration": 245,
    "start_time": "2024-07-26T14:18:23.119Z"
   },
   {
    "duration": 25,
    "start_time": "2024-07-26T14:18:23.367Z"
   },
   {
    "duration": 37,
    "start_time": "2024-07-26T14:18:23.413Z"
   },
   {
    "duration": 6,
    "start_time": "2024-07-26T14:18:23.454Z"
   },
   {
    "duration": 47,
    "start_time": "2024-07-26T14:18:23.463Z"
   },
   {
    "duration": 5,
    "start_time": "2024-07-26T14:18:23.513Z"
   },
   {
    "duration": 31,
    "start_time": "2024-07-26T14:18:23.522Z"
   },
   {
    "duration": 106,
    "start_time": "2024-07-26T14:18:23.555Z"
   },
   {
    "duration": 63,
    "start_time": "2024-07-26T14:18:23.667Z"
   },
   {
    "duration": 34,
    "start_time": "2024-07-26T14:18:23.733Z"
   },
   {
    "duration": 48,
    "start_time": "2024-07-26T14:18:23.770Z"
   },
   {
    "duration": 14,
    "start_time": "2024-07-26T14:18:23.821Z"
   },
   {
    "duration": 96,
    "start_time": "2024-07-26T14:18:23.838Z"
   },
   {
    "duration": 29,
    "start_time": "2024-07-26T14:18:23.937Z"
   },
   {
    "duration": 54,
    "start_time": "2024-07-26T14:18:23.968Z"
   },
   {
    "duration": 7,
    "start_time": "2024-07-26T14:18:24.024Z"
   },
   {
    "duration": 15,
    "start_time": "2024-07-26T14:18:24.035Z"
   },
   {
    "duration": 144,
    "start_time": "2024-07-26T14:18:24.053Z"
   },
   {
    "duration": 20,
    "start_time": "2024-07-26T14:18:24.200Z"
   },
   {
    "duration": 89,
    "start_time": "2024-07-26T14:18:24.223Z"
   },
   {
    "duration": 74,
    "start_time": "2024-07-26T14:18:24.315Z"
   },
   {
    "duration": 11,
    "start_time": "2024-07-26T14:18:24.409Z"
   },
   {
    "duration": 100,
    "start_time": "2024-07-26T14:18:24.424Z"
   },
   {
    "duration": 26,
    "start_time": "2024-07-26T14:18:24.528Z"
   },
   {
    "duration": 4,
    "start_time": "2024-07-26T14:18:24.558Z"
   },
   {
    "duration": 51,
    "start_time": "2024-07-26T14:18:24.564Z"
   },
   {
    "duration": 296,
    "start_time": "2024-07-26T14:18:24.627Z"
   },
   {
    "duration": 0,
    "start_time": "2024-07-26T14:18:24.926Z"
   },
   {
    "duration": 0,
    "start_time": "2024-07-26T14:18:24.931Z"
   },
   {
    "duration": 0,
    "start_time": "2024-07-26T14:18:24.933Z"
   },
   {
    "duration": 0,
    "start_time": "2024-07-26T14:18:24.936Z"
   },
   {
    "duration": 0,
    "start_time": "2024-07-26T14:18:24.938Z"
   },
   {
    "duration": 0,
    "start_time": "2024-07-26T14:18:24.941Z"
   },
   {
    "duration": 0,
    "start_time": "2024-07-26T14:18:24.944Z"
   },
   {
    "duration": 0,
    "start_time": "2024-07-26T14:18:24.946Z"
   },
   {
    "duration": 0,
    "start_time": "2024-07-26T14:18:24.948Z"
   },
   {
    "duration": 0,
    "start_time": "2024-07-26T14:18:24.951Z"
   },
   {
    "duration": 0,
    "start_time": "2024-07-26T14:18:24.953Z"
   },
   {
    "duration": 1,
    "start_time": "2024-07-26T14:18:24.955Z"
   },
   {
    "duration": 0,
    "start_time": "2024-07-26T14:18:24.958Z"
   },
   {
    "duration": 0,
    "start_time": "2024-07-26T14:18:24.960Z"
   },
   {
    "duration": 0,
    "start_time": "2024-07-26T14:18:25.011Z"
   },
   {
    "duration": 0,
    "start_time": "2024-07-26T14:18:25.014Z"
   },
   {
    "duration": 0,
    "start_time": "2024-07-26T14:18:25.016Z"
   },
   {
    "duration": 0,
    "start_time": "2024-07-26T14:18:25.018Z"
   },
   {
    "duration": 0,
    "start_time": "2024-07-26T14:18:25.020Z"
   },
   {
    "duration": 1,
    "start_time": "2024-07-26T14:18:25.022Z"
   },
   {
    "duration": 1,
    "start_time": "2024-07-26T14:18:25.025Z"
   },
   {
    "duration": 0,
    "start_time": "2024-07-26T14:18:25.030Z"
   },
   {
    "duration": 0,
    "start_time": "2024-07-26T14:18:25.033Z"
   },
   {
    "duration": 4,
    "start_time": "2024-07-26T14:19:40.141Z"
   },
   {
    "duration": 435,
    "start_time": "2024-07-26T14:19:48.033Z"
   },
   {
    "duration": 197,
    "start_time": "2024-07-26T14:20:00.039Z"
   },
   {
    "duration": 24,
    "start_time": "2024-07-26T14:20:02.821Z"
   },
   {
    "duration": 36,
    "start_time": "2024-07-26T14:20:10.776Z"
   },
   {
    "duration": 6,
    "start_time": "2024-07-26T14:20:46.445Z"
   },
   {
    "duration": 12,
    "start_time": "2024-07-26T14:20:51.862Z"
   },
   {
    "duration": 6,
    "start_time": "2024-07-26T14:20:54.837Z"
   },
   {
    "duration": 29,
    "start_time": "2024-07-26T14:21:01.238Z"
   },
   {
    "duration": 64,
    "start_time": "2024-07-26T14:21:07.249Z"
   },
   {
    "duration": 33,
    "start_time": "2024-07-26T14:21:29.006Z"
   },
   {
    "duration": 27,
    "start_time": "2024-07-26T14:21:35.810Z"
   },
   {
    "duration": 71,
    "start_time": "2024-07-26T14:21:55.572Z"
   },
   {
    "duration": 73,
    "start_time": "2024-07-26T14:23:32.909Z"
   },
   {
    "duration": 29,
    "start_time": "2024-07-26T14:23:35.764Z"
   },
   {
    "duration": 27,
    "start_time": "2024-07-26T14:23:47.556Z"
   },
   {
    "duration": 16,
    "start_time": "2024-07-26T14:27:22.131Z"
   },
   {
    "duration": 5,
    "start_time": "2024-07-26T14:32:53.029Z"
   },
   {
    "duration": 19,
    "start_time": "2024-07-26T14:33:17.353Z"
   },
   {
    "duration": 100,
    "start_time": "2024-07-26T14:35:08.148Z"
   },
   {
    "duration": 15,
    "start_time": "2024-07-26T14:35:19.241Z"
   },
   {
    "duration": 74,
    "start_time": "2024-07-26T14:36:28.993Z"
   },
   {
    "duration": 74,
    "start_time": "2024-07-26T14:36:41.493Z"
   },
   {
    "duration": 11,
    "start_time": "2024-07-26T14:37:45.706Z"
   },
   {
    "duration": 71,
    "start_time": "2024-07-26T14:37:53.182Z"
   },
   {
    "duration": 15,
    "start_time": "2024-07-26T14:38:00.744Z"
   },
   {
    "duration": 4,
    "start_time": "2024-07-26T14:38:08.900Z"
   },
   {
    "duration": 22,
    "start_time": "2024-07-26T14:38:17.797Z"
   },
   {
    "duration": 19,
    "start_time": "2024-07-26T14:45:09.984Z"
   },
   {
    "duration": 437,
    "start_time": "2024-07-26T14:48:36.634Z"
   },
   {
    "duration": 5,
    "start_time": "2024-07-26T14:50:13.350Z"
   },
   {
    "duration": 5,
    "start_time": "2024-07-26T14:50:20.656Z"
   },
   {
    "duration": 4,
    "start_time": "2024-07-26T14:50:24.143Z"
   },
   {
    "duration": 406,
    "start_time": "2024-07-26T14:50:38.673Z"
   },
   {
    "duration": 194,
    "start_time": "2024-07-26T14:52:54.236Z"
   },
   {
    "duration": 24,
    "start_time": "2024-07-26T14:52:58.871Z"
   },
   {
    "duration": 20,
    "start_time": "2024-07-26T14:54:45.314Z"
   },
   {
    "duration": 37,
    "start_time": "2024-07-26T14:54:51.689Z"
   },
   {
    "duration": 11,
    "start_time": "2024-07-26T14:58:27.679Z"
   },
   {
    "duration": 71,
    "start_time": "2024-07-26T14:58:53.692Z"
   },
   {
    "duration": 16,
    "start_time": "2024-07-26T15:00:29.890Z"
   },
   {
    "duration": 6,
    "start_time": "2024-07-26T15:00:38.695Z"
   },
   {
    "duration": 28,
    "start_time": "2024-07-26T15:03:46.274Z"
   },
   {
    "duration": 17,
    "start_time": "2024-07-26T15:05:31.944Z"
   },
   {
    "duration": 60,
    "start_time": "2024-07-26T15:07:12.219Z"
   },
   {
    "duration": 34,
    "start_time": "2024-07-26T15:07:56.246Z"
   },
   {
    "duration": 37,
    "start_time": "2024-07-26T15:08:13.267Z"
   },
   {
    "duration": 53,
    "start_time": "2024-07-26T15:08:18.532Z"
   },
   {
    "duration": 33,
    "start_time": "2024-07-26T15:08:28.634Z"
   },
   {
    "duration": 32,
    "start_time": "2024-07-26T15:09:18.824Z"
   },
   {
    "duration": 64,
    "start_time": "2024-07-26T15:10:25.132Z"
   },
   {
    "duration": 14,
    "start_time": "2024-07-26T15:11:06.889Z"
   },
   {
    "duration": 75,
    "start_time": "2024-07-26T15:14:15.313Z"
   },
   {
    "duration": 32,
    "start_time": "2024-07-26T15:14:22.672Z"
   },
   {
    "duration": 26,
    "start_time": "2024-07-26T15:15:02.335Z"
   },
   {
    "duration": 7,
    "start_time": "2024-07-26T15:15:50.356Z"
   },
   {
    "duration": 14,
    "start_time": "2024-07-26T15:16:46.107Z"
   },
   {
    "duration": 94,
    "start_time": "2024-07-26T15:17:41.362Z"
   },
   {
    "duration": 15,
    "start_time": "2024-07-26T15:18:58.986Z"
   },
   {
    "duration": 74,
    "start_time": "2024-07-26T15:19:10.445Z"
   },
   {
    "duration": 83,
    "start_time": "2024-07-26T15:19:34.770Z"
   },
   {
    "duration": 96,
    "start_time": "2024-07-26T15:19:39.478Z"
   },
   {
    "duration": 74,
    "start_time": "2024-07-26T15:20:27.278Z"
   },
   {
    "duration": 70,
    "start_time": "2024-07-26T15:21:42.845Z"
   },
   {
    "duration": 11,
    "start_time": "2024-07-26T15:22:11.495Z"
   },
   {
    "duration": 69,
    "start_time": "2024-07-26T15:22:18.278Z"
   },
   {
    "duration": 15,
    "start_time": "2024-07-26T15:22:40.115Z"
   },
   {
    "duration": 4,
    "start_time": "2024-07-26T15:23:09.786Z"
   },
   {
    "duration": 4,
    "start_time": "2024-07-26T15:23:13.729Z"
   },
   {
    "duration": 3,
    "start_time": "2024-07-26T15:23:31.375Z"
   },
   {
    "duration": 3,
    "start_time": "2024-07-26T15:23:44.235Z"
   },
   {
    "duration": 5,
    "start_time": "2024-07-26T15:23:59.334Z"
   },
   {
    "duration": 5,
    "start_time": "2024-07-26T15:24:10.434Z"
   },
   {
    "duration": 8,
    "start_time": "2024-07-26T15:24:22.574Z"
   },
   {
    "duration": 5,
    "start_time": "2024-07-26T15:24:40.106Z"
   },
   {
    "duration": 6,
    "start_time": "2024-07-26T15:25:04.549Z"
   },
   {
    "duration": 21,
    "start_time": "2024-07-26T15:25:42.855Z"
   },
   {
    "duration": 23,
    "start_time": "2024-07-26T15:27:17.646Z"
   },
   {
    "duration": 14,
    "start_time": "2024-07-26T15:27:27.012Z"
   },
   {
    "duration": 6,
    "start_time": "2024-07-26T15:29:21.499Z"
   },
   {
    "duration": 924,
    "start_time": "2024-07-26T15:29:28.851Z"
   },
   {
    "duration": 74,
    "start_time": "2024-07-26T15:29:41.523Z"
   },
   {
    "duration": 82,
    "start_time": "2024-07-26T15:29:44.703Z"
   },
   {
    "duration": 78,
    "start_time": "2024-07-26T15:30:17.267Z"
   },
   {
    "duration": 478,
    "start_time": "2024-07-26T15:30:53.491Z"
   },
   {
    "duration": 207,
    "start_time": "2024-07-26T15:30:53.973Z"
   },
   {
    "duration": 34,
    "start_time": "2024-07-26T15:30:54.182Z"
   },
   {
    "duration": 37,
    "start_time": "2024-07-26T15:30:54.219Z"
   },
   {
    "duration": 6,
    "start_time": "2024-07-26T15:30:54.261Z"
   },
   {
    "duration": 41,
    "start_time": "2024-07-26T15:30:54.270Z"
   },
   {
    "duration": 72,
    "start_time": "2024-07-26T15:30:54.314Z"
   },
   {
    "duration": 9,
    "start_time": "2024-07-26T15:30:54.410Z"
   },
   {
    "duration": 28,
    "start_time": "2024-07-26T15:30:54.422Z"
   },
   {
    "duration": 15,
    "start_time": "2024-07-26T15:30:54.453Z"
   },
   {
    "duration": 91,
    "start_time": "2024-07-26T15:30:54.472Z"
   },
   {
    "duration": 56,
    "start_time": "2024-07-26T15:30:54.565Z"
   },
   {
    "duration": 28,
    "start_time": "2024-07-26T15:30:54.625Z"
   },
   {
    "duration": 14,
    "start_time": "2024-07-26T15:30:54.661Z"
   },
   {
    "duration": 79,
    "start_time": "2024-07-26T15:30:54.710Z"
   },
   {
    "duration": 51,
    "start_time": "2024-07-26T15:30:54.792Z"
   },
   {
    "duration": 29,
    "start_time": "2024-07-26T15:30:54.846Z"
   },
   {
    "duration": 46,
    "start_time": "2024-07-26T15:30:54.878Z"
   },
   {
    "duration": 10,
    "start_time": "2024-07-26T15:30:54.928Z"
   },
   {
    "duration": 15,
    "start_time": "2024-07-26T15:30:54.942Z"
   },
   {
    "duration": 134,
    "start_time": "2024-07-26T15:30:54.960Z"
   },
   {
    "duration": 25,
    "start_time": "2024-07-26T15:30:55.097Z"
   },
   {
    "duration": 91,
    "start_time": "2024-07-26T15:30:55.125Z"
   },
   {
    "duration": 87,
    "start_time": "2024-07-26T15:30:55.222Z"
   },
   {
    "duration": 1106,
    "start_time": "2024-07-26T15:30:55.312Z"
   },
   {
    "duration": 0,
    "start_time": "2024-07-26T15:30:56.422Z"
   },
   {
    "duration": 0,
    "start_time": "2024-07-26T15:30:56.424Z"
   },
   {
    "duration": 0,
    "start_time": "2024-07-26T15:30:56.426Z"
   },
   {
    "duration": 0,
    "start_time": "2024-07-26T15:30:56.428Z"
   },
   {
    "duration": 0,
    "start_time": "2024-07-26T15:30:56.430Z"
   },
   {
    "duration": 0,
    "start_time": "2024-07-26T15:30:56.431Z"
   },
   {
    "duration": 0,
    "start_time": "2024-07-26T15:30:56.434Z"
   },
   {
    "duration": 0,
    "start_time": "2024-07-26T15:30:56.435Z"
   },
   {
    "duration": 0,
    "start_time": "2024-07-26T15:30:56.437Z"
   },
   {
    "duration": 0,
    "start_time": "2024-07-26T15:30:56.440Z"
   },
   {
    "duration": 0,
    "start_time": "2024-07-26T15:30:56.441Z"
   },
   {
    "duration": 1,
    "start_time": "2024-07-26T15:30:56.444Z"
   },
   {
    "duration": 0,
    "start_time": "2024-07-26T15:30:56.447Z"
   },
   {
    "duration": 0,
    "start_time": "2024-07-26T15:30:56.449Z"
   },
   {
    "duration": 0,
    "start_time": "2024-07-26T15:30:56.451Z"
   },
   {
    "duration": 0,
    "start_time": "2024-07-26T15:30:56.453Z"
   },
   {
    "duration": 0,
    "start_time": "2024-07-26T15:30:56.455Z"
   },
   {
    "duration": 1,
    "start_time": "2024-07-26T15:30:56.509Z"
   },
   {
    "duration": 0,
    "start_time": "2024-07-26T15:30:56.512Z"
   },
   {
    "duration": 0,
    "start_time": "2024-07-26T15:30:56.514Z"
   },
   {
    "duration": 0,
    "start_time": "2024-07-26T15:30:56.516Z"
   },
   {
    "duration": 0,
    "start_time": "2024-07-26T15:30:56.517Z"
   },
   {
    "duration": 0,
    "start_time": "2024-07-26T15:30:56.520Z"
   },
   {
    "duration": 0,
    "start_time": "2024-07-26T15:30:56.523Z"
   },
   {
    "duration": 0,
    "start_time": "2024-07-26T15:30:56.525Z"
   },
   {
    "duration": 0,
    "start_time": "2024-07-26T15:30:56.529Z"
   },
   {
    "duration": 73,
    "start_time": "2024-07-26T15:31:34.691Z"
   },
   {
    "duration": 446,
    "start_time": "2024-07-26T15:31:51.587Z"
   },
   {
    "duration": 205,
    "start_time": "2024-07-26T15:31:54.445Z"
   },
   {
    "duration": 25,
    "start_time": "2024-07-26T15:31:58.823Z"
   },
   {
    "duration": 36,
    "start_time": "2024-07-26T15:32:01.524Z"
   },
   {
    "duration": 6,
    "start_time": "2024-07-26T15:32:06.212Z"
   },
   {
    "duration": 26,
    "start_time": "2024-07-26T15:32:17.955Z"
   },
   {
    "duration": 345,
    "start_time": "2024-07-26T15:32:34.736Z"
   },
   {
    "duration": 6,
    "start_time": "2024-07-26T15:32:39.942Z"
   },
   {
    "duration": 6,
    "start_time": "2024-07-26T15:32:50.531Z"
   },
   {
    "duration": 35,
    "start_time": "2024-07-26T15:32:55.913Z"
   },
   {
    "duration": 66,
    "start_time": "2024-07-26T15:33:03.943Z"
   },
   {
    "duration": 33,
    "start_time": "2024-07-26T15:33:11.887Z"
   },
   {
    "duration": 29,
    "start_time": "2024-07-26T15:33:14.824Z"
   },
   {
    "duration": 77,
    "start_time": "2024-07-26T15:33:22.840Z"
   },
   {
    "duration": 31,
    "start_time": "2024-07-26T15:33:24.923Z"
   },
   {
    "duration": 30,
    "start_time": "2024-07-26T15:33:30.207Z"
   },
   {
    "duration": 6,
    "start_time": "2024-07-26T15:33:36.331Z"
   },
   {
    "duration": 98,
    "start_time": "2024-07-26T15:33:46.186Z"
   },
   {
    "duration": 74,
    "start_time": "2024-07-26T15:33:58.651Z"
   },
   {
    "duration": 80,
    "start_time": "2024-07-26T15:34:02.468Z"
   },
   {
    "duration": 812,
    "start_time": "2024-07-26T15:36:03.056Z"
   },
   {
    "duration": 22,
    "start_time": "2024-07-26T15:46:45.245Z"
   },
   {
    "duration": 791,
    "start_time": "2024-07-26T15:46:52.357Z"
   },
   {
    "duration": 100,
    "start_time": "2024-07-26T15:46:57.850Z"
   },
   {
    "duration": 96,
    "start_time": "2024-07-26T15:48:18.566Z"
   },
   {
    "duration": 70,
    "start_time": "2024-07-26T15:48:26.608Z"
   },
   {
    "duration": 460,
    "start_time": "2024-07-26T15:48:52.808Z"
   },
   {
    "duration": 209,
    "start_time": "2024-07-26T15:48:55.374Z"
   },
   {
    "duration": 470,
    "start_time": "2024-07-26T15:53:26.700Z"
   },
   {
    "duration": 206,
    "start_time": "2024-07-26T15:53:29.372Z"
   },
   {
    "duration": 23,
    "start_time": "2024-07-26T15:53:33.856Z"
   },
   {
    "duration": 37,
    "start_time": "2024-07-26T15:53:37.519Z"
   },
   {
    "duration": 6,
    "start_time": "2024-07-26T15:53:50.747Z"
   },
   {
    "duration": 28,
    "start_time": "2024-07-26T15:54:15.491Z"
   },
   {
    "duration": 6,
    "start_time": "2024-07-26T15:54:23.460Z"
   },
   {
    "duration": 6,
    "start_time": "2024-07-26T15:54:39.611Z"
   },
   {
    "duration": 29,
    "start_time": "2024-07-26T15:54:55.221Z"
   },
   {
    "duration": 6,
    "start_time": "2024-07-26T15:59:34.348Z"
   },
   {
    "duration": 6,
    "start_time": "2024-07-26T15:59:49.631Z"
   },
   {
    "duration": 5,
    "start_time": "2024-07-26T16:00:01.566Z"
   },
   {
    "duration": 731,
    "start_time": "2024-07-26T16:00:15.555Z"
   },
   {
    "duration": 37,
    "start_time": "2024-07-26T16:00:32.312Z"
   },
   {
    "duration": 44,
    "start_time": "2024-07-26T16:00:58.707Z"
   },
   {
    "duration": 55,
    "start_time": "2024-07-26T16:01:05.256Z"
   },
   {
    "duration": 424,
    "start_time": "2024-07-26T16:02:09.871Z"
   },
   {
    "duration": 195,
    "start_time": "2024-07-26T16:02:13.995Z"
   },
   {
    "duration": 25,
    "start_time": "2024-07-26T16:02:16.344Z"
   },
   {
    "duration": 36,
    "start_time": "2024-07-26T16:02:20.671Z"
   },
   {
    "duration": 6,
    "start_time": "2024-07-26T16:02:26.416Z"
   },
   {
    "duration": 35,
    "start_time": "2024-07-26T16:02:30.852Z"
   },
   {
    "duration": 7,
    "start_time": "2024-07-26T16:02:36.815Z"
   },
   {
    "duration": 6,
    "start_time": "2024-07-26T16:02:39.967Z"
   },
   {
    "duration": 29,
    "start_time": "2024-07-26T16:02:45.348Z"
   },
   {
    "duration": 56,
    "start_time": "2024-07-26T16:02:49.911Z"
   },
   {
    "duration": 33,
    "start_time": "2024-07-26T16:03:08.733Z"
   },
   {
    "duration": 34,
    "start_time": "2024-07-26T16:03:23.519Z"
   },
   {
    "duration": 28,
    "start_time": "2024-07-26T16:06:02.192Z"
   },
   {
    "duration": 28,
    "start_time": "2024-07-26T16:06:10.312Z"
   },
   {
    "duration": 81,
    "start_time": "2024-07-26T16:12:12.971Z"
   },
   {
    "duration": 30,
    "start_time": "2024-07-26T16:12:33.307Z"
   },
   {
    "duration": 11,
    "start_time": "2024-07-26T16:14:51.854Z"
   },
   {
    "duration": 32,
    "start_time": "2024-07-26T16:14:59.631Z"
   },
   {
    "duration": 11,
    "start_time": "2024-07-26T16:15:14.295Z"
   },
   {
    "duration": 30,
    "start_time": "2024-07-26T16:15:27.043Z"
   },
   {
    "duration": 7,
    "start_time": "2024-07-26T16:16:48.179Z"
   },
   {
    "duration": 5,
    "start_time": "2024-07-26T16:17:12.247Z"
   },
   {
    "duration": 6,
    "start_time": "2024-07-26T16:17:21.383Z"
   },
   {
    "duration": 6,
    "start_time": "2024-07-26T16:17:41.291Z"
   },
   {
    "duration": 28,
    "start_time": "2024-07-26T16:18:45.623Z"
   },
   {
    "duration": 20,
    "start_time": "2024-07-26T16:19:35.301Z"
   },
   {
    "duration": 83,
    "start_time": "2024-07-26T16:20:42.371Z"
   },
   {
    "duration": 96,
    "start_time": "2024-07-26T16:20:46.799Z"
   },
   {
    "duration": 70,
    "start_time": "2024-07-26T16:29:27.960Z"
   },
   {
    "duration": 68,
    "start_time": "2024-07-26T16:29:51.978Z"
   },
   {
    "duration": 1117,
    "start_time": "2024-07-26T16:30:05.859Z"
   },
   {
    "duration": 29,
    "start_time": "2024-07-26T16:31:01.183Z"
   },
   {
    "duration": 75,
    "start_time": "2024-07-26T16:33:17.452Z"
   },
   {
    "duration": 52,
    "start_time": "2024-07-26T16:34:39.930Z"
   },
   {
    "duration": 33,
    "start_time": "2024-07-26T16:34:48.194Z"
   },
   {
    "duration": 27,
    "start_time": "2024-07-26T16:34:54.424Z"
   },
   {
    "duration": 76,
    "start_time": "2024-07-26T16:35:01.865Z"
   },
   {
    "duration": 33,
    "start_time": "2024-07-26T16:35:07.519Z"
   },
   {
    "duration": 29,
    "start_time": "2024-07-26T16:35:23.509Z"
   },
   {
    "duration": 15,
    "start_time": "2024-07-26T16:35:30.904Z"
   },
   {
    "duration": 100,
    "start_time": "2024-07-26T16:35:56.647Z"
   },
   {
    "duration": 83,
    "start_time": "2024-07-26T16:36:12.632Z"
   },
   {
    "duration": 77,
    "start_time": "2024-07-26T16:36:22.125Z"
   },
   {
    "duration": 73,
    "start_time": "2024-07-26T16:36:39.290Z"
   },
   {
    "duration": 78,
    "start_time": "2024-07-26T16:36:45.720Z"
   },
   {
    "duration": 98,
    "start_time": "2024-07-26T16:36:57.079Z"
   },
   {
    "duration": 76,
    "start_time": "2024-07-26T16:37:03.127Z"
   },
   {
    "duration": 17,
    "start_time": "2024-07-26T16:37:08.144Z"
   },
   {
    "duration": 76,
    "start_time": "2024-07-26T16:37:12.160Z"
   },
   {
    "duration": 440,
    "start_time": "2024-07-26T16:37:48.737Z"
   },
   {
    "duration": 197,
    "start_time": "2024-07-26T16:37:51.360Z"
   },
   {
    "duration": 24,
    "start_time": "2024-07-26T16:37:55.041Z"
   },
   {
    "duration": 37,
    "start_time": "2024-07-26T16:37:59.156Z"
   },
   {
    "duration": 19,
    "start_time": "2024-07-26T16:38:48.320Z"
   },
   {
    "duration": 5,
    "start_time": "2024-07-26T16:39:14.681Z"
   },
   {
    "duration": 4,
    "start_time": "2024-07-26T16:39:37.297Z"
   },
   {
    "duration": 169,
    "start_time": "2024-07-26T16:40:06.396Z"
   },
   {
    "duration": 39,
    "start_time": "2024-07-26T16:40:26.642Z"
   },
   {
    "duration": 4,
    "start_time": "2024-07-26T16:43:29.979Z"
   },
   {
    "duration": 449,
    "start_time": "2024-07-26T16:43:41.718Z"
   },
   {
    "duration": 196,
    "start_time": "2024-07-26T16:44:11.224Z"
   },
   {
    "duration": 24,
    "start_time": "2024-07-26T16:44:13.277Z"
   },
   {
    "duration": 6,
    "start_time": "2024-07-26T16:45:09.658Z"
   },
   {
    "duration": 4,
    "start_time": "2024-07-26T16:45:13.145Z"
   },
   {
    "duration": 171,
    "start_time": "2024-07-26T16:45:15.360Z"
   },
   {
    "duration": 35,
    "start_time": "2024-07-26T16:46:06.670Z"
   },
   {
    "duration": 6,
    "start_time": "2024-07-26T16:47:16.650Z"
   },
   {
    "duration": 25,
    "start_time": "2024-07-26T16:47:39.695Z"
   },
   {
    "duration": 5,
    "start_time": "2024-07-26T16:48:30.828Z"
   },
   {
    "duration": 7,
    "start_time": "2024-07-26T16:48:39.875Z"
   },
   {
    "duration": 7,
    "start_time": "2024-07-26T16:48:58.032Z"
   },
   {
    "duration": 30,
    "start_time": "2024-07-26T16:49:05.006Z"
   },
   {
    "duration": 6,
    "start_time": "2024-07-26T16:49:10.797Z"
   },
   {
    "duration": 6,
    "start_time": "2024-07-26T16:49:31.507Z"
   },
   {
    "duration": 6,
    "start_time": "2024-07-26T16:49:34.535Z"
   },
   {
    "duration": 27,
    "start_time": "2024-07-26T16:49:48.143Z"
   },
   {
    "duration": 7,
    "start_time": "2024-07-26T16:49:53.388Z"
   },
   {
    "duration": 440,
    "start_time": "2024-07-26T16:50:06.736Z"
   },
   {
    "duration": 202,
    "start_time": "2024-07-26T16:50:11.876Z"
   },
   {
    "duration": 30,
    "start_time": "2024-07-26T16:50:13.900Z"
   },
   {
    "duration": 4,
    "start_time": "2024-07-26T16:50:18.673Z"
   },
   {
    "duration": 169,
    "start_time": "2024-07-26T16:50:20.338Z"
   },
   {
    "duration": 34,
    "start_time": "2024-07-26T16:50:24.844Z"
   },
   {
    "duration": 5,
    "start_time": "2024-07-26T16:50:29.940Z"
   },
   {
    "duration": 25,
    "start_time": "2024-07-26T16:50:34.652Z"
   },
   {
    "duration": 6,
    "start_time": "2024-07-26T16:50:40.125Z"
   },
   {
    "duration": 6,
    "start_time": "2024-07-26T16:50:41.976Z"
   },
   {
    "duration": 6,
    "start_time": "2024-07-26T16:50:45.626Z"
   },
   {
    "duration": 6,
    "start_time": "2024-07-26T16:50:59.853Z"
   },
   {
    "duration": 28,
    "start_time": "2024-07-26T16:51:10.688Z"
   },
   {
    "duration": 6,
    "start_time": "2024-07-26T16:51:55.028Z"
   },
   {
    "duration": 4,
    "start_time": "2024-07-26T17:08:26.073Z"
   },
   {
    "duration": 205,
    "start_time": "2024-07-26T17:08:31.571Z"
   },
   {
    "duration": 18,
    "start_time": "2024-07-26T17:08:33.702Z"
   },
   {
    "duration": 37,
    "start_time": "2024-07-26T17:09:04.930Z"
   },
   {
    "duration": 7,
    "start_time": "2024-07-26T17:09:13.817Z"
   },
   {
    "duration": 27,
    "start_time": "2024-07-26T17:09:39.964Z"
   },
   {
    "duration": 5,
    "start_time": "2024-07-26T17:10:11.705Z"
   },
   {
    "duration": 11,
    "start_time": "2024-07-26T17:10:27.829Z"
   },
   {
    "duration": 8,
    "start_time": "2024-07-26T17:10:30.580Z"
   },
   {
    "duration": 29,
    "start_time": "2024-07-26T17:11:55.328Z"
   },
   {
    "duration": 71,
    "start_time": "2024-07-26T17:12:30.121Z"
   },
   {
    "duration": 34,
    "start_time": "2024-07-26T17:13:00.956Z"
   },
   {
    "duration": 27,
    "start_time": "2024-07-26T17:13:34.816Z"
   },
   {
    "duration": 82,
    "start_time": "2024-07-26T17:13:55.557Z"
   },
   {
    "duration": 31,
    "start_time": "2024-07-26T17:13:57.664Z"
   },
   {
    "duration": 29,
    "start_time": "2024-07-26T17:14:35.020Z"
   },
   {
    "duration": 98,
    "start_time": "2024-07-26T17:16:24.220Z"
   },
   {
    "duration": 102,
    "start_time": "2024-07-26T17:17:44.900Z"
   },
   {
    "duration": 76,
    "start_time": "2024-07-26T17:18:20.693Z"
   },
   {
    "duration": 29,
    "start_time": "2024-07-26T17:18:44.680Z"
   },
   {
    "duration": 103,
    "start_time": "2024-07-26T17:19:40.273Z"
   },
   {
    "duration": 81,
    "start_time": "2024-07-26T17:19:48.853Z"
   },
   {
    "duration": 77,
    "start_time": "2024-07-26T17:20:14.488Z"
   },
   {
    "duration": 42,
    "start_time": "2024-07-26T17:26:18.698Z"
   },
   {
    "duration": 33,
    "start_time": "2024-07-26T17:26:28.033Z"
   },
   {
    "duration": 29,
    "start_time": "2024-07-26T17:26:37.287Z"
   },
   {
    "duration": 85,
    "start_time": "2024-07-26T17:28:58.149Z"
   },
   {
    "duration": 29,
    "start_time": "2024-07-26T17:29:07.869Z"
   },
   {
    "duration": 133,
    "start_time": "2024-07-26T17:32:07.948Z"
   },
   {
    "duration": 97,
    "start_time": "2024-07-26T17:32:14.327Z"
   },
   {
    "duration": 6,
    "start_time": "2024-07-26T17:39:45.262Z"
   },
   {
    "duration": 207,
    "start_time": "2024-07-26T17:39:51.261Z"
   },
   {
    "duration": 90,
    "start_time": "2024-07-26T18:14:00.315Z"
   },
   {
    "duration": 137,
    "start_time": "2024-07-26T18:14:14.736Z"
   },
   {
    "duration": 15,
    "start_time": "2024-07-26T18:14:21.693Z"
   },
   {
    "duration": 101,
    "start_time": "2024-07-26T18:18:29.909Z"
   },
   {
    "duration": 76,
    "start_time": "2024-07-26T18:19:22.196Z"
   },
   {
    "duration": 96,
    "start_time": "2024-07-26T18:19:54.552Z"
   },
   {
    "duration": 71,
    "start_time": "2024-07-26T18:20:42.226Z"
   },
   {
    "duration": 76,
    "start_time": "2024-07-26T18:20:46.939Z"
   },
   {
    "duration": 78,
    "start_time": "2024-07-26T18:21:22.627Z"
   },
   {
    "duration": 77,
    "start_time": "2024-07-26T18:22:20.632Z"
   },
   {
    "duration": 23,
    "start_time": "2024-07-26T18:24:42.577Z"
   },
   {
    "duration": 17,
    "start_time": "2024-07-26T18:25:28.350Z"
   },
   {
    "duration": 21,
    "start_time": "2024-07-26T18:27:23.145Z"
   },
   {
    "duration": 237,
    "start_time": "2024-07-26T18:27:55.560Z"
   },
   {
    "duration": 20,
    "start_time": "2024-07-26T18:27:59.836Z"
   },
   {
    "duration": 32,
    "start_time": "2024-07-26T18:29:28.961Z"
   },
   {
    "duration": 6,
    "start_time": "2024-07-26T18:30:13.408Z"
   },
   {
    "duration": 11,
    "start_time": "2024-07-26T18:33:03.424Z"
   },
   {
    "duration": 4,
    "start_time": "2024-07-26T18:34:40.445Z"
   },
   {
    "duration": 23,
    "start_time": "2024-07-26T18:39:31.113Z"
   },
   {
    "duration": 38,
    "start_time": "2024-07-26T18:40:06.640Z"
   },
   {
    "duration": 22,
    "start_time": "2024-07-26T18:40:12.204Z"
   },
   {
    "duration": 24,
    "start_time": "2024-07-26T18:40:19.596Z"
   },
   {
    "duration": 26,
    "start_time": "2024-07-26T18:41:53.676Z"
   },
   {
    "duration": 24,
    "start_time": "2024-07-26T18:44:06.827Z"
   },
   {
    "duration": 15,
    "start_time": "2024-07-26T18:45:05.100Z"
   },
   {
    "duration": 23,
    "start_time": "2024-07-26T18:55:32.916Z"
   },
   {
    "duration": 81,
    "start_time": "2024-07-26T18:55:39.612Z"
   },
   {
    "duration": 104,
    "start_time": "2024-07-26T18:55:49.314Z"
   },
   {
    "duration": 316,
    "start_time": "2024-07-26T18:56:02.972Z"
   },
   {
    "duration": 86,
    "start_time": "2024-07-26T18:56:47.611Z"
   },
   {
    "duration": 93,
    "start_time": "2024-07-26T18:56:54.467Z"
   },
   {
    "duration": 11,
    "start_time": "2024-07-26T18:58:49.560Z"
   },
   {
    "duration": 13,
    "start_time": "2024-07-26T19:01:10.328Z"
   },
   {
    "duration": 35,
    "start_time": "2024-07-26T19:01:22.227Z"
   },
   {
    "duration": 33,
    "start_time": "2024-07-26T19:02:18.604Z"
   },
   {
    "duration": 31,
    "start_time": "2024-07-26T19:03:38.154Z"
   },
   {
    "duration": 30,
    "start_time": "2024-07-26T19:05:25.901Z"
   },
   {
    "duration": 27,
    "start_time": "2024-07-26T19:08:33.839Z"
   },
   {
    "duration": 5,
    "start_time": "2024-07-26T19:10:13.002Z"
   },
   {
    "duration": 9,
    "start_time": "2024-07-26T19:10:20.685Z"
   },
   {
    "duration": 10,
    "start_time": "2024-07-26T19:10:28.044Z"
   },
   {
    "duration": 10,
    "start_time": "2024-07-26T19:12:06.656Z"
   },
   {
    "duration": 10,
    "start_time": "2024-07-26T19:12:22.660Z"
   },
   {
    "duration": 32,
    "start_time": "2024-07-26T19:13:47.589Z"
   },
   {
    "duration": 10,
    "start_time": "2024-07-26T19:14:04.649Z"
   },
   {
    "duration": 9,
    "start_time": "2024-07-26T19:14:14.440Z"
   },
   {
    "duration": 23,
    "start_time": "2024-07-26T19:15:14.528Z"
   },
   {
    "duration": 22,
    "start_time": "2024-07-26T19:15:31.320Z"
   },
   {
    "duration": 16,
    "start_time": "2024-07-26T19:15:33.754Z"
   },
   {
    "duration": 92,
    "start_time": "2024-07-26T19:18:00.600Z"
   },
   {
    "duration": 10,
    "start_time": "2024-07-26T19:18:05.775Z"
   },
   {
    "duration": 32,
    "start_time": "2024-07-26T19:18:15.601Z"
   },
   {
    "duration": 33,
    "start_time": "2024-07-26T19:18:18.834Z"
   },
   {
    "duration": 33,
    "start_time": "2024-07-26T19:18:25.824Z"
   },
   {
    "duration": 31,
    "start_time": "2024-07-26T19:18:40.134Z"
   },
   {
    "duration": 9,
    "start_time": "2024-07-26T19:18:46.828Z"
   },
   {
    "duration": 9,
    "start_time": "2024-07-26T19:20:59.765Z"
   },
   {
    "duration": 8,
    "start_time": "2024-07-26T19:21:49.338Z"
   },
   {
    "duration": 27,
    "start_time": "2024-07-26T19:21:59.324Z"
   },
   {
    "duration": 25,
    "start_time": "2024-07-26T19:22:29.528Z"
   },
   {
    "duration": 25,
    "start_time": "2024-07-26T19:23:41.233Z"
   },
   {
    "duration": 27,
    "start_time": "2024-07-26T19:24:00.326Z"
   },
   {
    "duration": 26,
    "start_time": "2024-07-26T19:24:18.368Z"
   },
   {
    "duration": 6,
    "start_time": "2024-07-26T19:25:05.112Z"
   },
   {
    "duration": 9,
    "start_time": "2024-07-26T19:25:09.621Z"
   },
   {
    "duration": 26,
    "start_time": "2024-07-26T19:25:17.764Z"
   },
   {
    "duration": 12,
    "start_time": "2024-07-26T19:57:11.530Z"
   },
   {
    "duration": 28,
    "start_time": "2024-07-26T19:58:24.325Z"
   },
   {
    "duration": 26,
    "start_time": "2024-07-26T19:58:51.988Z"
   },
   {
    "duration": 17,
    "start_time": "2024-07-26T20:01:25.296Z"
   },
   {
    "duration": 10,
    "start_time": "2024-07-26T20:01:38.068Z"
   },
   {
    "duration": 17,
    "start_time": "2024-07-26T20:02:08.496Z"
   },
   {
    "duration": 12,
    "start_time": "2024-07-26T20:02:12.716Z"
   },
   {
    "duration": 20,
    "start_time": "2024-07-26T20:02:15.397Z"
   },
   {
    "duration": 10,
    "start_time": "2024-07-26T20:02:16.873Z"
   },
   {
    "duration": 9,
    "start_time": "2024-07-26T20:04:09.960Z"
   },
   {
    "duration": 9,
    "start_time": "2024-07-26T20:04:24.812Z"
   },
   {
    "duration": 16,
    "start_time": "2024-07-26T20:04:36.628Z"
   },
   {
    "duration": 10,
    "start_time": "2024-07-26T20:04:41.213Z"
   },
   {
    "duration": 8,
    "start_time": "2024-07-26T20:09:14.202Z"
   },
   {
    "duration": 663,
    "start_time": "2024-07-26T20:09:42.332Z"
   },
   {
    "duration": 92,
    "start_time": "2024-07-26T20:10:11.149Z"
   },
   {
    "duration": 22,
    "start_time": "2024-07-26T20:12:15.716Z"
   },
   {
    "duration": 96,
    "start_time": "2024-07-26T20:13:08.069Z"
   },
   {
    "duration": 11,
    "start_time": "2024-07-26T20:13:10.904Z"
   },
   {
    "duration": 30,
    "start_time": "2024-07-26T20:13:49.116Z"
   },
   {
    "duration": 34,
    "start_time": "2024-07-26T20:14:46.537Z"
   },
   {
    "duration": 34,
    "start_time": "2024-07-26T20:15:20.457Z"
   },
   {
    "duration": 33,
    "start_time": "2024-07-26T20:16:20.474Z"
   },
   {
    "duration": 10,
    "start_time": "2024-07-26T20:16:30.586Z"
   },
   {
    "duration": 11,
    "start_time": "2024-07-26T20:21:07.705Z"
   },
   {
    "duration": 10,
    "start_time": "2024-07-26T20:21:21.813Z"
   },
   {
    "duration": 3,
    "start_time": "2024-07-26T20:21:54.368Z"
   },
   {
    "duration": 28,
    "start_time": "2024-07-26T20:22:10.016Z"
   },
   {
    "duration": 11,
    "start_time": "2024-07-26T20:23:09.997Z"
   },
   {
    "duration": 35,
    "start_time": "2024-07-26T20:23:28.731Z"
   },
   {
    "duration": 33,
    "start_time": "2024-07-26T20:23:33.100Z"
   },
   {
    "duration": 11,
    "start_time": "2024-07-26T20:23:37.585Z"
   },
   {
    "duration": 10,
    "start_time": "2024-07-26T20:23:48.112Z"
   },
   {
    "duration": 9,
    "start_time": "2024-07-26T20:23:53.276Z"
   },
   {
    "duration": 11,
    "start_time": "2024-07-26T20:25:58.561Z"
   },
   {
    "duration": 38,
    "start_time": "2024-07-26T20:27:34.593Z"
   },
   {
    "duration": 11,
    "start_time": "2024-07-26T20:27:37.176Z"
   },
   {
    "duration": 18,
    "start_time": "2024-07-26T20:27:42.872Z"
   },
   {
    "duration": 18,
    "start_time": "2024-07-26T20:28:02.860Z"
   },
   {
    "duration": 13,
    "start_time": "2024-07-26T20:28:14.780Z"
   },
   {
    "duration": 9,
    "start_time": "2024-07-26T20:28:31.070Z"
   },
   {
    "duration": 33,
    "start_time": "2024-07-26T20:29:28.480Z"
   },
   {
    "duration": 12,
    "start_time": "2024-07-26T20:30:06.432Z"
   },
   {
    "duration": 8,
    "start_time": "2024-07-26T20:32:39.953Z"
   },
   {
    "duration": 6,
    "start_time": "2024-07-26T20:34:08.788Z"
   },
   {
    "duration": 11,
    "start_time": "2024-07-26T20:34:19.915Z"
   },
   {
    "duration": 9,
    "start_time": "2024-07-26T20:34:42.482Z"
   },
   {
    "duration": 34,
    "start_time": "2024-07-26T20:35:37.728Z"
   },
   {
    "duration": 4,
    "start_time": "2024-07-26T20:35:48.368Z"
   },
   {
    "duration": 13,
    "start_time": "2024-07-26T20:36:23.916Z"
   },
   {
    "duration": 12,
    "start_time": "2024-07-26T20:36:27.512Z"
   },
   {
    "duration": 22,
    "start_time": "2024-07-26T20:37:30.697Z"
   },
   {
    "duration": 32,
    "start_time": "2024-07-26T20:37:42.982Z"
   },
   {
    "duration": 10,
    "start_time": "2024-07-26T20:39:35.755Z"
   },
   {
    "duration": 13,
    "start_time": "2024-07-26T20:39:59.817Z"
   },
   {
    "duration": 8,
    "start_time": "2024-07-26T20:44:56.845Z"
   },
   {
    "duration": 28,
    "start_time": "2024-07-26T20:45:06.696Z"
   },
   {
    "duration": 23,
    "start_time": "2024-07-26T20:45:51.345Z"
   },
   {
    "duration": 27,
    "start_time": "2024-07-26T20:46:30.098Z"
   },
   {
    "duration": 7,
    "start_time": "2024-07-26T20:51:24.952Z"
   },
   {
    "duration": 12,
    "start_time": "2024-07-26T20:51:31.404Z"
   },
   {
    "duration": 5,
    "start_time": "2024-07-26T21:23:13.464Z"
   },
   {
    "duration": 438,
    "start_time": "2024-07-26T21:23:22.184Z"
   },
   {
    "duration": 70,
    "start_time": "2024-07-26T21:24:39.585Z"
   },
   {
    "duration": 13,
    "start_time": "2024-07-26T21:24:49.577Z"
   },
   {
    "duration": 22,
    "start_time": "2024-07-26T21:25:53.336Z"
   },
   {
    "duration": 4,
    "start_time": "2024-07-26T21:26:00.647Z"
   },
   {
    "duration": 5,
    "start_time": "2024-07-26T21:27:19.610Z"
   },
   {
    "duration": 152,
    "start_time": "2024-07-26T21:27:34.901Z"
   },
   {
    "duration": 74,
    "start_time": "2024-07-26T21:28:10.641Z"
   },
   {
    "duration": 80,
    "start_time": "2024-07-26T21:28:45.733Z"
   },
   {
    "duration": 74,
    "start_time": "2024-07-26T21:29:26.082Z"
   },
   {
    "duration": 72,
    "start_time": "2024-07-26T21:29:31.439Z"
   },
   {
    "duration": 75,
    "start_time": "2024-07-26T21:29:50.488Z"
   },
   {
    "duration": 14,
    "start_time": "2024-07-26T21:30:19.139Z"
   },
   {
    "duration": 4,
    "start_time": "2024-07-26T21:30:43.745Z"
   },
   {
    "duration": 23,
    "start_time": "2024-07-26T21:31:07.116Z"
   },
   {
    "duration": 13,
    "start_time": "2024-07-26T21:31:22.903Z"
   },
   {
    "duration": 5,
    "start_time": "2024-07-26T21:31:35.047Z"
   },
   {
    "duration": 19,
    "start_time": "2024-07-26T21:31:40.586Z"
   },
   {
    "duration": 27,
    "start_time": "2024-07-26T21:32:34.506Z"
   },
   {
    "duration": 14,
    "start_time": "2024-07-26T21:33:01.987Z"
   },
   {
    "duration": 5,
    "start_time": "2024-07-26T21:33:14.831Z"
   },
   {
    "duration": 5,
    "start_time": "2024-07-26T21:33:26.290Z"
   },
   {
    "duration": 18,
    "start_time": "2024-07-26T21:33:28.463Z"
   },
   {
    "duration": 13,
    "start_time": "2024-07-26T21:33:52.168Z"
   },
   {
    "duration": 5,
    "start_time": "2024-07-26T21:34:02.656Z"
   },
   {
    "duration": 5,
    "start_time": "2024-07-26T21:34:50.672Z"
   },
   {
    "duration": 22,
    "start_time": "2024-07-26T21:34:52.916Z"
   },
   {
    "duration": 5,
    "start_time": "2024-07-26T21:35:23.821Z"
   },
   {
    "duration": 18,
    "start_time": "2024-07-26T21:35:27.095Z"
   },
   {
    "duration": 5,
    "start_time": "2024-07-26T21:35:42.426Z"
   },
   {
    "duration": 6,
    "start_time": "2024-07-26T21:35:59.733Z"
   },
   {
    "duration": 11,
    "start_time": "2024-07-26T21:36:43.669Z"
   },
   {
    "duration": 7,
    "start_time": "2024-07-26T21:36:47.283Z"
   },
   {
    "duration": 4,
    "start_time": "2024-07-26T21:36:57.736Z"
   },
   {
    "duration": 15,
    "start_time": "2024-07-26T21:37:05.404Z"
   },
   {
    "duration": 513,
    "start_time": "2024-07-27T05:42:29.960Z"
   },
   {
    "duration": 240,
    "start_time": "2024-07-27T05:42:30.476Z"
   },
   {
    "duration": 27,
    "start_time": "2024-07-27T05:42:30.718Z"
   },
   {
    "duration": 60,
    "start_time": "2024-07-27T05:42:30.750Z"
   },
   {
    "duration": 6,
    "start_time": "2024-07-27T05:42:30.813Z"
   },
   {
    "duration": 11,
    "start_time": "2024-07-27T05:42:30.822Z"
   },
   {
    "duration": 7,
    "start_time": "2024-07-27T05:42:30.836Z"
   },
   {
    "duration": 68,
    "start_time": "2024-07-27T05:42:30.845Z"
   },
   {
    "duration": 43,
    "start_time": "2024-07-27T05:42:30.916Z"
   },
   {
    "duration": 57,
    "start_time": "2024-07-27T05:42:30.965Z"
   },
   {
    "duration": 29,
    "start_time": "2024-07-27T05:42:31.025Z"
   },
   {
    "duration": 102,
    "start_time": "2024-07-27T05:42:31.056Z"
   },
   {
    "duration": 80,
    "start_time": "2024-07-27T05:42:31.161Z"
   },
   {
    "duration": 29,
    "start_time": "2024-07-27T05:42:31.245Z"
   },
   {
    "duration": 106,
    "start_time": "2024-07-27T05:42:31.276Z"
   },
   {
    "duration": 153,
    "start_time": "2024-07-27T05:42:31.385Z"
   },
   {
    "duration": 16,
    "start_time": "2024-07-27T05:42:31.541Z"
   },
   {
    "duration": 117,
    "start_time": "2024-07-27T05:42:31.560Z"
   },
   {
    "duration": 88,
    "start_time": "2024-07-27T05:42:31.679Z"
   },
   {
    "duration": 95,
    "start_time": "2024-07-27T05:42:31.771Z"
   },
   {
    "duration": 90,
    "start_time": "2024-07-27T05:42:31.869Z"
   },
   {
    "duration": 47,
    "start_time": "2024-07-27T05:42:31.962Z"
   },
   {
    "duration": 11,
    "start_time": "2024-07-27T05:42:32.012Z"
   },
   {
    "duration": 6,
    "start_time": "2024-07-27T05:42:32.026Z"
   },
   {
    "duration": 4,
    "start_time": "2024-07-27T05:42:32.035Z"
   },
   {
    "duration": 66,
    "start_time": "2024-07-27T05:42:32.043Z"
   },
   {
    "duration": 15,
    "start_time": "2024-07-27T05:42:32.111Z"
   },
   {
    "duration": 123,
    "start_time": "2024-07-27T05:42:32.133Z"
   },
   {
    "duration": 46,
    "start_time": "2024-07-27T05:42:32.259Z"
   },
   {
    "duration": 39,
    "start_time": "2024-07-27T05:42:32.308Z"
   },
   {
    "duration": 87,
    "start_time": "2024-07-27T05:42:32.350Z"
   },
   {
    "duration": 77,
    "start_time": "2024-07-27T05:42:32.440Z"
   },
   {
    "duration": 11,
    "start_time": "2024-07-27T05:42:32.520Z"
   },
   {
    "duration": 13,
    "start_time": "2024-07-27T05:42:32.534Z"
   },
   {
    "duration": 81,
    "start_time": "2024-07-27T05:42:32.550Z"
   },
   {
    "duration": 14,
    "start_time": "2024-07-27T05:42:32.633Z"
   },
   {
    "duration": 58,
    "start_time": "2024-07-27T05:42:32.650Z"
   },
   {
    "duration": 6,
    "start_time": "2024-07-27T05:42:32.711Z"
   },
   {
    "duration": 14,
    "start_time": "2024-07-27T05:42:32.719Z"
   },
   {
    "duration": 7,
    "start_time": "2024-07-27T05:42:32.736Z"
   },
   {
    "duration": 95,
    "start_time": "2024-07-27T05:43:36.445Z"
   },
   {
    "duration": 18,
    "start_time": "2024-07-27T05:53:27.827Z"
   },
   {
    "duration": 478,
    "start_time": "2024-07-27T19:30:28.122Z"
   },
   {
    "duration": 235,
    "start_time": "2024-07-27T19:30:28.603Z"
   },
   {
    "duration": 23,
    "start_time": "2024-07-27T19:30:28.841Z"
   },
   {
    "duration": 51,
    "start_time": "2024-07-27T19:30:28.869Z"
   },
   {
    "duration": 6,
    "start_time": "2024-07-27T19:30:28.923Z"
   },
   {
    "duration": 9,
    "start_time": "2024-07-27T19:30:28.932Z"
   },
   {
    "duration": 6,
    "start_time": "2024-07-27T19:30:28.945Z"
   },
   {
    "duration": 69,
    "start_time": "2024-07-27T19:30:28.954Z"
   },
   {
    "duration": 42,
    "start_time": "2024-07-27T19:30:29.026Z"
   },
   {
    "duration": 58,
    "start_time": "2024-07-27T19:30:29.074Z"
   },
   {
    "duration": 27,
    "start_time": "2024-07-27T19:30:29.135Z"
   },
   {
    "duration": 97,
    "start_time": "2024-07-27T19:30:29.166Z"
   },
   {
    "duration": 82,
    "start_time": "2024-07-27T19:30:29.266Z"
   },
   {
    "duration": 29,
    "start_time": "2024-07-27T19:30:29.351Z"
   },
   {
    "duration": 107,
    "start_time": "2024-07-27T19:30:29.383Z"
   },
   {
    "duration": 312,
    "start_time": "2024-07-27T19:30:29.492Z"
   },
   {
    "duration": 0,
    "start_time": "2024-07-27T19:30:29.808Z"
   },
   {
    "duration": 0,
    "start_time": "2024-07-27T19:30:29.812Z"
   },
   {
    "duration": 0,
    "start_time": "2024-07-27T19:30:29.814Z"
   },
   {
    "duration": 0,
    "start_time": "2024-07-27T19:30:29.816Z"
   },
   {
    "duration": 0,
    "start_time": "2024-07-27T19:30:29.818Z"
   },
   {
    "duration": 0,
    "start_time": "2024-07-27T19:30:29.820Z"
   },
   {
    "duration": 0,
    "start_time": "2024-07-27T19:30:29.822Z"
   },
   {
    "duration": 0,
    "start_time": "2024-07-27T19:30:29.823Z"
   },
   {
    "duration": 0,
    "start_time": "2024-07-27T19:30:29.826Z"
   },
   {
    "duration": 0,
    "start_time": "2024-07-27T19:30:29.828Z"
   },
   {
    "duration": 0,
    "start_time": "2024-07-27T19:30:29.830Z"
   },
   {
    "duration": 0,
    "start_time": "2024-07-27T19:30:29.832Z"
   },
   {
    "duration": 0,
    "start_time": "2024-07-27T19:30:29.834Z"
   },
   {
    "duration": 0,
    "start_time": "2024-07-27T19:30:29.836Z"
   },
   {
    "duration": 0,
    "start_time": "2024-07-27T19:30:29.838Z"
   },
   {
    "duration": 1,
    "start_time": "2024-07-27T19:30:29.839Z"
   },
   {
    "duration": 0,
    "start_time": "2024-07-27T19:30:29.842Z"
   },
   {
    "duration": 0,
    "start_time": "2024-07-27T19:30:29.844Z"
   },
   {
    "duration": 0,
    "start_time": "2024-07-27T19:30:29.848Z"
   },
   {
    "duration": 0,
    "start_time": "2024-07-27T19:30:29.850Z"
   },
   {
    "duration": 0,
    "start_time": "2024-07-27T19:30:29.912Z"
   },
   {
    "duration": 0,
    "start_time": "2024-07-27T19:30:29.914Z"
   },
   {
    "duration": 0,
    "start_time": "2024-07-27T19:30:29.917Z"
   },
   {
    "duration": 0,
    "start_time": "2024-07-27T19:30:29.920Z"
   },
   {
    "duration": 0,
    "start_time": "2024-07-27T19:30:29.922Z"
   },
   {
    "duration": 0,
    "start_time": "2024-07-27T19:30:29.925Z"
   },
   {
    "duration": 113,
    "start_time": "2024-07-27T19:32:37.708Z"
   },
   {
    "duration": 79,
    "start_time": "2024-07-27T19:38:50.048Z"
   },
   {
    "duration": 100,
    "start_time": "2024-07-27T19:38:56.129Z"
   },
   {
    "duration": 72,
    "start_time": "2024-07-27T19:40:27.561Z"
   },
   {
    "duration": 73,
    "start_time": "2024-07-27T19:42:05.307Z"
   },
   {
    "duration": 69,
    "start_time": "2024-07-27T19:42:10.729Z"
   },
   {
    "duration": 68,
    "start_time": "2024-07-27T19:42:26.354Z"
   },
   {
    "duration": 33,
    "start_time": "2024-07-27T19:43:49.956Z"
   },
   {
    "duration": 31,
    "start_time": "2024-07-27T19:44:02.504Z"
   },
   {
    "duration": 12,
    "start_time": "2024-07-27T19:44:38.690Z"
   },
   {
    "duration": 26,
    "start_time": "2024-07-27T19:45:10.273Z"
   },
   {
    "duration": 6,
    "start_time": "2024-07-27T19:45:16.884Z"
   },
   {
    "duration": 11,
    "start_time": "2024-07-27T19:49:21.892Z"
   },
   {
    "duration": 22,
    "start_time": "2024-07-27T19:51:52.061Z"
   },
   {
    "duration": 11,
    "start_time": "2024-07-27T19:51:57.128Z"
   },
   {
    "duration": 5,
    "start_time": "2024-07-27T20:14:34.077Z"
   },
   {
    "duration": 24,
    "start_time": "2024-07-27T20:14:46.548Z"
   },
   {
    "duration": 37,
    "start_time": "2024-07-27T20:14:50.376Z"
   },
   {
    "duration": 11,
    "start_time": "2024-07-27T20:14:57.165Z"
   },
   {
    "duration": 35,
    "start_time": "2024-07-27T20:16:16.394Z"
   },
   {
    "duration": 32,
    "start_time": "2024-07-27T20:16:36.204Z"
   },
   {
    "duration": 14,
    "start_time": "2024-07-27T20:17:41.162Z"
   },
   {
    "duration": 14,
    "start_time": "2024-07-27T20:17:54.397Z"
   },
   {
    "duration": 28,
    "start_time": "2024-07-27T20:18:46.316Z"
   },
   {
    "duration": 9,
    "start_time": "2024-07-27T20:18:56.185Z"
   },
   {
    "duration": 11,
    "start_time": "2024-07-27T20:19:09.140Z"
   },
   {
    "duration": 525,
    "start_time": "2024-07-27T20:21:01.314Z"
   },
   {
    "duration": 439,
    "start_time": "2024-07-27T20:21:30.847Z"
   },
   {
    "duration": 82,
    "start_time": "2024-07-27T20:21:44.509Z"
   },
   {
    "duration": 75,
    "start_time": "2024-07-27T20:22:19.014Z"
   },
   {
    "duration": 76,
    "start_time": "2024-07-27T20:23:06.825Z"
   },
   {
    "duration": 80,
    "start_time": "2024-07-27T20:24:52.905Z"
   },
   {
    "duration": 81,
    "start_time": "2024-07-27T20:25:10.846Z"
   },
   {
    "duration": 29,
    "start_time": "2024-07-27T20:25:47.060Z"
   },
   {
    "duration": 39,
    "start_time": "2024-07-27T20:26:03.089Z"
   },
   {
    "duration": 11,
    "start_time": "2024-07-27T20:26:17.280Z"
   },
   {
    "duration": 78,
    "start_time": "2024-07-27T20:26:41.309Z"
   },
   {
    "duration": 22,
    "start_time": "2024-07-27T20:29:01.344Z"
   },
   {
    "duration": 36,
    "start_time": "2024-07-27T20:29:11.720Z"
   },
   {
    "duration": 36,
    "start_time": "2024-07-27T20:29:16.762Z"
   },
   {
    "duration": 20,
    "start_time": "2024-07-27T20:29:26.340Z"
   },
   {
    "duration": 9,
    "start_time": "2024-07-27T20:29:48.732Z"
   },
   {
    "duration": 14,
    "start_time": "2024-07-27T20:30:23.713Z"
   },
   {
    "duration": 14,
    "start_time": "2024-07-27T20:31:17.325Z"
   },
   {
    "duration": 18,
    "start_time": "2024-07-27T20:34:28.317Z"
   },
   {
    "duration": 25,
    "start_time": "2024-07-27T20:36:38.884Z"
   },
   {
    "duration": 13,
    "start_time": "2024-07-27T20:36:56.528Z"
   },
   {
    "duration": 4,
    "start_time": "2024-07-27T20:37:11.554Z"
   },
   {
    "duration": 4,
    "start_time": "2024-07-27T20:37:24.294Z"
   },
   {
    "duration": 11,
    "start_time": "2024-07-27T20:37:35.161Z"
   },
   {
    "duration": 59,
    "start_time": "2024-07-27T20:37:44.718Z"
   },
   {
    "duration": 98,
    "start_time": "2024-07-27T20:38:10.363Z"
   },
   {
    "duration": 4,
    "start_time": "2024-07-27T20:38:24.421Z"
   },
   {
    "duration": 5,
    "start_time": "2024-07-27T20:44:09.157Z"
   },
   {
    "duration": 29,
    "start_time": "2024-07-27T20:44:15.441Z"
   },
   {
    "duration": 30,
    "start_time": "2024-07-27T20:44:25.409Z"
   },
   {
    "duration": 11,
    "start_time": "2024-07-27T20:44:38.560Z"
   },
   {
    "duration": 23,
    "start_time": "2024-07-27T20:45:02.696Z"
   },
   {
    "duration": 5,
    "start_time": "2024-07-27T20:45:07.290Z"
   },
   {
    "duration": 21,
    "start_time": "2024-07-27T20:45:14.920Z"
   },
   {
    "duration": 10,
    "start_time": "2024-07-27T20:45:21.516Z"
   },
   {
    "duration": 28,
    "start_time": "2024-07-27T20:47:46.164Z"
   },
   {
    "duration": 26,
    "start_time": "2024-07-27T20:47:57.100Z"
   },
   {
    "duration": 12,
    "start_time": "2024-07-27T20:48:21.457Z"
   },
   {
    "duration": 27,
    "start_time": "2024-07-27T20:48:26.125Z"
   },
   {
    "duration": 5,
    "start_time": "2024-07-27T20:48:46.416Z"
   },
   {
    "duration": 3,
    "start_time": "2024-07-27T20:48:59.765Z"
   },
   {
    "duration": 5,
    "start_time": "2024-07-27T20:49:14.752Z"
   },
   {
    "duration": 11,
    "start_time": "2024-07-27T20:49:21.993Z"
   },
   {
    "duration": 24,
    "start_time": "2024-07-27T20:49:31.844Z"
   },
   {
    "duration": 4,
    "start_time": "2024-07-27T20:49:59.009Z"
   },
   {
    "duration": 11,
    "start_time": "2024-07-27T20:50:05.298Z"
   },
   {
    "duration": 498,
    "start_time": "2024-07-28T05:40:53.196Z"
   },
   {
    "duration": 218,
    "start_time": "2024-07-28T05:40:53.698Z"
   },
   {
    "duration": 28,
    "start_time": "2024-07-28T05:40:53.918Z"
   },
   {
    "duration": 36,
    "start_time": "2024-07-28T05:40:53.949Z"
   },
   {
    "duration": 8,
    "start_time": "2024-07-28T05:40:53.989Z"
   },
   {
    "duration": 32,
    "start_time": "2024-07-28T05:40:54.000Z"
   },
   {
    "duration": 7,
    "start_time": "2024-07-28T05:40:54.035Z"
   },
   {
    "duration": 32,
    "start_time": "2024-07-28T05:40:54.046Z"
   },
   {
    "duration": 78,
    "start_time": "2024-07-28T05:40:54.081Z"
   },
   {
    "duration": 33,
    "start_time": "2024-07-28T05:40:54.162Z"
   },
   {
    "duration": 49,
    "start_time": "2024-07-28T05:40:54.198Z"
   },
   {
    "duration": 84,
    "start_time": "2024-07-28T05:40:54.250Z"
   },
   {
    "duration": 78,
    "start_time": "2024-07-28T05:40:54.336Z"
   },
   {
    "duration": 29,
    "start_time": "2024-07-28T05:40:54.435Z"
   },
   {
    "duration": 110,
    "start_time": "2024-07-28T05:40:54.467Z"
   },
   {
    "duration": 97,
    "start_time": "2024-07-28T05:40:54.580Z"
   },
   {
    "duration": 106,
    "start_time": "2024-07-28T05:40:54.680Z"
   },
   {
    "duration": 3,
    "start_time": "2024-07-28T05:40:54.789Z"
   },
   {
    "duration": 122,
    "start_time": "2024-07-28T05:40:54.795Z"
   },
   {
    "duration": 79,
    "start_time": "2024-07-28T05:40:54.920Z"
   },
   {
    "duration": 103,
    "start_time": "2024-07-28T05:40:55.002Z"
   },
   {
    "duration": 82,
    "start_time": "2024-07-28T05:40:55.107Z"
   },
   {
    "duration": 53,
    "start_time": "2024-07-28T05:40:55.192Z"
   },
   {
    "duration": 11,
    "start_time": "2024-07-28T05:40:55.248Z"
   },
   {
    "duration": 5,
    "start_time": "2024-07-28T05:40:55.263Z"
   },
   {
    "duration": 4,
    "start_time": "2024-07-28T05:40:55.272Z"
   },
   {
    "duration": 63,
    "start_time": "2024-07-28T05:40:55.279Z"
   },
   {
    "duration": 14,
    "start_time": "2024-07-28T05:40:55.347Z"
   },
   {
    "duration": 119,
    "start_time": "2024-07-28T05:40:55.364Z"
   },
   {
    "duration": 11,
    "start_time": "2024-07-28T05:40:55.486Z"
   },
   {
    "duration": 54,
    "start_time": "2024-07-28T05:40:55.501Z"
   },
   {
    "duration": 33,
    "start_time": "2024-07-28T05:40:55.558Z"
   },
   {
    "duration": 47,
    "start_time": "2024-07-28T05:40:55.594Z"
   },
   {
    "duration": 9,
    "start_time": "2024-07-28T05:40:55.645Z"
   },
   {
    "duration": 18,
    "start_time": "2024-07-28T05:40:55.657Z"
   },
   {
    "duration": 1006,
    "start_time": "2024-07-28T05:40:55.678Z"
   },
   {
    "duration": 0,
    "start_time": "2024-07-28T05:40:56.687Z"
   },
   {
    "duration": 0,
    "start_time": "2024-07-28T05:40:56.689Z"
   },
   {
    "duration": 0,
    "start_time": "2024-07-28T05:40:56.691Z"
   },
   {
    "duration": 0,
    "start_time": "2024-07-28T05:40:56.693Z"
   },
   {
    "duration": 0,
    "start_time": "2024-07-28T05:40:56.695Z"
   },
   {
    "duration": 0,
    "start_time": "2024-07-28T05:40:56.697Z"
   },
   {
    "duration": 17,
    "start_time": "2024-07-28T05:41:07.247Z"
   },
   {
    "duration": 17,
    "start_time": "2024-07-28T05:41:09.913Z"
   },
   {
    "duration": 27,
    "start_time": "2024-07-28T05:41:09.933Z"
   },
   {
    "duration": 13,
    "start_time": "2024-07-28T05:41:09.964Z"
   },
   {
    "duration": 5,
    "start_time": "2024-07-28T05:41:09.980Z"
   },
   {
    "duration": 44,
    "start_time": "2024-07-28T05:41:09.989Z"
   },
   {
    "duration": 12,
    "start_time": "2024-07-28T05:41:10.036Z"
   },
   {
    "duration": 13,
    "start_time": "2024-07-28T05:41:10.051Z"
   },
   {
    "duration": 316,
    "start_time": "2024-07-28T16:17:52.305Z"
   },
   {
    "duration": 22,
    "start_time": "2024-07-28T16:18:06.589Z"
   },
   {
    "duration": 498,
    "start_time": "2024-07-28T16:18:09.181Z"
   },
   {
    "duration": 246,
    "start_time": "2024-07-28T16:18:09.682Z"
   },
   {
    "duration": 25,
    "start_time": "2024-07-28T16:18:09.931Z"
   },
   {
    "duration": 51,
    "start_time": "2024-07-28T16:18:09.961Z"
   },
   {
    "duration": 6,
    "start_time": "2024-07-28T16:18:10.014Z"
   },
   {
    "duration": 8,
    "start_time": "2024-07-28T16:18:10.023Z"
   },
   {
    "duration": 7,
    "start_time": "2024-07-28T16:18:10.034Z"
   },
   {
    "duration": 73,
    "start_time": "2024-07-28T16:18:10.044Z"
   },
   {
    "duration": 44,
    "start_time": "2024-07-28T16:18:10.121Z"
   },
   {
    "duration": 32,
    "start_time": "2024-07-28T16:18:10.194Z"
   },
   {
    "duration": 29,
    "start_time": "2024-07-28T16:18:10.229Z"
   },
   {
    "duration": 42,
    "start_time": "2024-07-28T16:18:10.261Z"
   },
   {
    "duration": 86,
    "start_time": "2024-07-28T16:18:10.307Z"
   },
   {
    "duration": 31,
    "start_time": "2024-07-28T16:18:10.396Z"
   },
   {
    "duration": 115,
    "start_time": "2024-07-28T16:18:10.431Z"
   },
   {
    "duration": 110,
    "start_time": "2024-07-28T16:18:10.549Z"
   },
   {
    "duration": 107,
    "start_time": "2024-07-28T16:18:10.663Z"
   },
   {
    "duration": 17,
    "start_time": "2024-07-28T16:18:10.774Z"
   },
   {
    "duration": 110,
    "start_time": "2024-07-28T16:18:10.794Z"
   },
   {
    "duration": 87,
    "start_time": "2024-07-28T16:18:10.908Z"
   },
   {
    "duration": 75,
    "start_time": "2024-07-28T16:18:10.998Z"
   },
   {
    "duration": 76,
    "start_time": "2024-07-28T16:18:11.093Z"
   },
   {
    "duration": 46,
    "start_time": "2024-07-28T16:18:11.172Z"
   },
   {
    "duration": 11,
    "start_time": "2024-07-28T16:18:11.221Z"
   },
   {
    "duration": 8,
    "start_time": "2024-07-28T16:18:11.235Z"
   },
   {
    "duration": 4,
    "start_time": "2024-07-28T16:18:11.246Z"
   },
   {
    "duration": 64,
    "start_time": "2024-07-28T16:18:11.252Z"
   },
   {
    "duration": 15,
    "start_time": "2024-07-28T16:18:11.325Z"
   },
   {
    "duration": 128,
    "start_time": "2024-07-28T16:18:11.343Z"
   },
   {
    "duration": 21,
    "start_time": "2024-07-28T16:18:11.477Z"
   },
   {
    "duration": 35,
    "start_time": "2024-07-28T16:18:11.501Z"
   },
   {
    "duration": 62,
    "start_time": "2024-07-28T16:18:11.539Z"
   },
   {
    "duration": 21,
    "start_time": "2024-07-28T16:18:11.604Z"
   },
   {
    "duration": 13,
    "start_time": "2024-07-28T16:18:11.628Z"
   },
   {
    "duration": 57,
    "start_time": "2024-07-28T16:18:11.645Z"
   },
   {
    "duration": 20,
    "start_time": "2024-07-28T16:18:11.706Z"
   },
   {
    "duration": 27,
    "start_time": "2024-07-28T16:18:11.729Z"
   },
   {
    "duration": 43,
    "start_time": "2024-07-28T16:18:11.759Z"
   },
   {
    "duration": 6,
    "start_time": "2024-07-28T16:18:11.804Z"
   },
   {
    "duration": 6,
    "start_time": "2024-07-28T16:18:11.813Z"
   },
   {
    "duration": 13,
    "start_time": "2024-07-28T16:18:11.822Z"
   },
   {
    "duration": 62,
    "start_time": "2024-07-28T16:18:11.837Z"
   },
   {
    "duration": 108,
    "start_time": "2024-07-28T16:19:31.709Z"
   },
   {
    "duration": 72,
    "start_time": "2024-07-28T16:19:44.490Z"
   },
   {
    "duration": 71,
    "start_time": "2024-07-28T16:19:51.019Z"
   },
   {
    "duration": 74,
    "start_time": "2024-07-28T16:20:00.705Z"
   },
   {
    "duration": 38,
    "start_time": "2024-07-28T16:20:12.486Z"
   },
   {
    "duration": 7,
    "start_time": "2024-07-28T16:20:27.005Z"
   },
   {
    "duration": 12,
    "start_time": "2024-07-28T16:21:33.306Z"
   },
   {
    "duration": 77,
    "start_time": "2024-07-28T16:23:09.214Z"
   },
   {
    "duration": 70,
    "start_time": "2024-07-28T16:23:14.046Z"
   },
   {
    "duration": 432,
    "start_time": "2024-07-28T16:58:36.740Z"
   },
   {
    "duration": 202,
    "start_time": "2024-07-28T16:58:43.059Z"
   },
   {
    "duration": 25,
    "start_time": "2024-07-28T16:58:46.719Z"
   },
   {
    "duration": 35,
    "start_time": "2024-07-28T16:58:59.491Z"
   },
   {
    "duration": 6,
    "start_time": "2024-07-28T16:59:08.666Z"
   },
   {
    "duration": 6,
    "start_time": "2024-07-28T16:59:19.561Z"
   },
   {
    "duration": 29,
    "start_time": "2024-07-28T16:59:31.426Z"
   },
   {
    "duration": 749,
    "start_time": "2024-07-28T16:59:46.522Z"
   },
   {
    "duration": 38,
    "start_time": "2024-07-28T17:00:01.426Z"
   },
   {
    "duration": 8,
    "start_time": "2024-07-28T17:00:14.050Z"
   },
   {
    "duration": 38,
    "start_time": "2024-07-28T17:00:19.787Z"
   },
   {
    "duration": 41,
    "start_time": "2024-07-28T17:00:30.712Z"
   },
   {
    "duration": 77,
    "start_time": "2024-07-28T17:01:00.327Z"
   },
   {
    "duration": 35,
    "start_time": "2024-07-28T17:01:36.978Z"
   },
   {
    "duration": 28,
    "start_time": "2024-07-28T17:01:56.714Z"
   },
   {
    "duration": 44,
    "start_time": "2024-07-28T17:02:05.870Z"
   },
   {
    "duration": 36,
    "start_time": "2024-07-28T17:02:10.717Z"
   },
   {
    "duration": 27,
    "start_time": "2024-07-28T17:02:17.491Z"
   },
   {
    "duration": 79,
    "start_time": "2024-07-28T17:02:26.558Z"
   },
   {
    "duration": 41,
    "start_time": "2024-07-28T17:06:30.920Z"
   },
   {
    "duration": 34,
    "start_time": "2024-07-28T17:06:33.726Z"
   },
   {
    "duration": 33,
    "start_time": "2024-07-28T17:06:37.803Z"
   },
   {
    "duration": 29,
    "start_time": "2024-07-28T17:06:42.886Z"
   },
   {
    "duration": 71,
    "start_time": "2024-07-28T17:06:45.935Z"
   },
   {
    "duration": 29,
    "start_time": "2024-07-28T17:06:51.071Z"
   },
   {
    "duration": 106,
    "start_time": "2024-07-28T17:06:54.785Z"
   },
   {
    "duration": 3,
    "start_time": "2024-07-28T17:09:10.634Z"
   },
   {
    "duration": 4,
    "start_time": "2024-07-28T17:09:43.867Z"
   },
   {
    "duration": 16,
    "start_time": "2024-07-28T17:09:53.101Z"
   },
   {
    "duration": 247,
    "start_time": "2024-07-28T17:21:41.951Z"
   },
   {
    "duration": 444,
    "start_time": "2024-07-28T17:21:51.159Z"
   },
   {
    "duration": 58,
    "start_time": "2024-07-28T17:22:03.705Z"
   },
   {
    "duration": 5,
    "start_time": "2024-07-28T17:22:19.051Z"
   },
   {
    "duration": 61,
    "start_time": "2024-07-28T17:22:21.970Z"
   },
   {
    "duration": 72,
    "start_time": "2024-07-28T17:22:35.346Z"
   },
   {
    "duration": 37,
    "start_time": "2024-07-28T17:24:30.979Z"
   },
   {
    "duration": 463,
    "start_time": "2024-07-28T17:24:45.071Z"
   },
   {
    "duration": 207,
    "start_time": "2024-07-28T17:24:51.663Z"
   },
   {
    "duration": 26,
    "start_time": "2024-07-28T17:24:53.697Z"
   },
   {
    "duration": 35,
    "start_time": "2024-07-28T17:24:57.834Z"
   },
   {
    "duration": 6,
    "start_time": "2024-07-28T17:25:02.808Z"
   },
   {
    "duration": 8,
    "start_time": "2024-07-28T17:25:17.525Z"
   },
   {
    "duration": 6,
    "start_time": "2024-07-28T17:25:19.733Z"
   },
   {
    "duration": 28,
    "start_time": "2024-07-28T17:25:24.474Z"
   },
   {
    "duration": 21,
    "start_time": "2024-07-28T17:25:29.394Z"
   },
   {
    "duration": 34,
    "start_time": "2024-07-28T17:25:35.601Z"
   },
   {
    "duration": 5,
    "start_time": "2024-07-28T17:26:38.518Z"
   },
   {
    "duration": 4,
    "start_time": "2024-07-28T17:26:46.857Z"
   },
   {
    "duration": 35,
    "start_time": "2024-07-28T17:27:41.175Z"
   },
   {
    "duration": 342,
    "start_time": "2024-07-28T17:27:46.845Z"
   },
   {
    "duration": 4,
    "start_time": "2024-07-28T17:27:52.606Z"
   },
   {
    "duration": 25,
    "start_time": "2024-07-28T17:28:31.453Z"
   },
   {
    "duration": 39,
    "start_time": "2024-07-28T17:28:54.728Z"
   },
   {
    "duration": 28,
    "start_time": "2024-07-28T17:29:06.515Z"
   },
   {
    "duration": 76,
    "start_time": "2024-07-28T17:30:49.393Z"
   },
   {
    "duration": 31,
    "start_time": "2024-07-28T17:30:52.260Z"
   },
   {
    "duration": 95,
    "start_time": "2024-07-28T17:31:05.197Z"
   },
   {
    "duration": 91,
    "start_time": "2024-07-28T17:31:19.483Z"
   },
   {
    "duration": 19,
    "start_time": "2024-07-28T17:32:11.025Z"
   },
   {
    "duration": 95,
    "start_time": "2024-07-28T17:32:57.441Z"
   },
   {
    "duration": 72,
    "start_time": "2024-07-28T17:34:16.258Z"
   },
   {
    "duration": 76,
    "start_time": "2024-07-28T17:34:26.284Z"
   },
   {
    "duration": 77,
    "start_time": "2024-07-28T17:34:38.857Z"
   },
   {
    "duration": 31,
    "start_time": "2024-07-28T17:35:51.437Z"
   },
   {
    "duration": 32,
    "start_time": "2024-07-28T17:36:08.457Z"
   },
   {
    "duration": 9,
    "start_time": "2024-07-28T17:37:40.633Z"
   },
   {
    "duration": 9,
    "start_time": "2024-07-28T17:37:58.531Z"
   },
   {
    "duration": 11,
    "start_time": "2024-07-28T17:38:15.514Z"
   },
   {
    "duration": 6,
    "start_time": "2024-07-28T17:39:07.838Z"
   },
   {
    "duration": 4,
    "start_time": "2024-07-28T17:39:23.680Z"
   },
   {
    "duration": 28,
    "start_time": "2024-07-28T17:39:37.194Z"
   },
   {
    "duration": 8,
    "start_time": "2024-07-28T17:42:37.741Z"
   },
   {
    "duration": 22,
    "start_time": "2024-07-28T17:43:10.512Z"
   },
   {
    "duration": 14,
    "start_time": "2024-07-28T17:44:06.477Z"
   },
   {
    "duration": 13,
    "start_time": "2024-07-28T17:44:16.485Z"
   },
   {
    "duration": 16,
    "start_time": "2024-07-28T17:44:25.193Z"
   },
   {
    "duration": 95,
    "start_time": "2024-07-28T17:45:47.616Z"
   },
   {
    "duration": 23,
    "start_time": "2024-07-28T17:48:19.184Z"
   },
   {
    "duration": 17,
    "start_time": "2024-07-28T17:48:31.211Z"
   },
   {
    "duration": 11,
    "start_time": "2024-07-28T17:48:38.270Z"
   },
   {
    "duration": 13,
    "start_time": "2024-07-28T17:48:55.726Z"
   },
   {
    "duration": 36,
    "start_time": "2024-07-28T17:54:51.671Z"
   },
   {
    "duration": 39,
    "start_time": "2024-07-28T17:55:31.270Z"
   },
   {
    "duration": 39,
    "start_time": "2024-07-28T17:55:42.519Z"
   },
   {
    "duration": 27,
    "start_time": "2024-07-28T17:55:49.557Z"
   },
   {
    "duration": 11,
    "start_time": "2024-07-28T17:55:58.273Z"
   },
   {
    "duration": 19,
    "start_time": "2024-07-28T17:56:03.534Z"
   },
   {
    "duration": 21,
    "start_time": "2024-07-28T17:56:11.421Z"
   },
   {
    "duration": 27,
    "start_time": "2024-07-28T17:56:16.113Z"
   },
   {
    "duration": 13,
    "start_time": "2024-07-28T17:56:23.138Z"
   },
   {
    "duration": 5,
    "start_time": "2024-07-28T17:56:27.426Z"
   },
   {
    "duration": 6,
    "start_time": "2024-07-28T17:56:29.721Z"
   },
   {
    "duration": 31,
    "start_time": "2024-07-28T17:56:39.382Z"
   },
   {
    "duration": 12,
    "start_time": "2024-07-28T17:57:07.925Z"
   },
   {
    "duration": 41,
    "start_time": "2024-07-28T17:58:12.634Z"
   },
   {
    "duration": 39,
    "start_time": "2024-07-28T17:58:46.560Z"
   },
   {
    "duration": 24,
    "start_time": "2024-07-28T17:59:05.865Z"
   },
   {
    "duration": 11,
    "start_time": "2024-07-28T17:59:31.502Z"
   },
   {
    "duration": 24,
    "start_time": "2024-07-28T17:59:53.358Z"
   },
   {
    "duration": 21,
    "start_time": "2024-07-28T18:00:15.797Z"
   },
   {
    "duration": 30,
    "start_time": "2024-07-28T18:00:25.734Z"
   },
   {
    "duration": 14,
    "start_time": "2024-07-28T18:00:59.118Z"
   },
   {
    "duration": 6,
    "start_time": "2024-07-28T18:01:15.580Z"
   },
   {
    "duration": 10,
    "start_time": "2024-07-28T18:01:18.150Z"
   },
   {
    "duration": 16,
    "start_time": "2024-07-28T18:01:21.998Z"
   },
   {
    "duration": 4,
    "start_time": "2024-07-28T18:04:13.665Z"
   },
   {
    "duration": 12,
    "start_time": "2024-07-28T18:04:33.758Z"
   },
   {
    "duration": 12,
    "start_time": "2024-07-28T18:04:47.034Z"
   },
   {
    "duration": 4,
    "start_time": "2024-07-28T18:05:02.734Z"
   },
   {
    "duration": 252,
    "start_time": "2024-07-28T18:05:02.742Z"
   },
   {
    "duration": 20,
    "start_time": "2024-07-28T18:05:02.998Z"
   },
   {
    "duration": 40,
    "start_time": "2024-07-28T18:05:03.021Z"
   },
   {
    "duration": 8,
    "start_time": "2024-07-28T18:05:03.093Z"
   },
   {
    "duration": 11,
    "start_time": "2024-07-28T18:05:03.103Z"
   },
   {
    "duration": 7,
    "start_time": "2024-07-28T18:05:03.116Z"
   },
   {
    "duration": 66,
    "start_time": "2024-07-28T18:05:03.126Z"
   },
   {
    "duration": 36,
    "start_time": "2024-07-28T18:05:03.195Z"
   },
   {
    "duration": 58,
    "start_time": "2024-07-28T18:05:03.234Z"
   },
   {
    "duration": 28,
    "start_time": "2024-07-28T18:05:03.302Z"
   },
   {
    "duration": 15,
    "start_time": "2024-07-28T18:05:03.334Z"
   },
   {
    "duration": 108,
    "start_time": "2024-07-28T18:05:03.353Z"
   },
   {
    "duration": 49,
    "start_time": "2024-07-28T18:05:03.464Z"
   },
   {
    "duration": 105,
    "start_time": "2024-07-28T18:05:03.516Z"
   },
   {
    "duration": 3,
    "start_time": "2024-07-28T18:05:03.624Z"
   },
   {
    "duration": 112,
    "start_time": "2024-07-28T18:05:03.631Z"
   },
   {
    "duration": 15,
    "start_time": "2024-07-28T18:05:03.747Z"
   },
   {
    "duration": 112,
    "start_time": "2024-07-28T18:05:03.765Z"
   },
   {
    "duration": 73,
    "start_time": "2024-07-28T18:05:03.892Z"
   },
   {
    "duration": 90,
    "start_time": "2024-07-28T18:05:03.968Z"
   },
   {
    "duration": 91,
    "start_time": "2024-07-28T18:05:04.061Z"
   },
   {
    "duration": 48,
    "start_time": "2024-07-28T18:05:04.154Z"
   },
   {
    "duration": 12,
    "start_time": "2024-07-28T18:05:04.205Z"
   },
   {
    "duration": 8,
    "start_time": "2024-07-28T18:05:04.220Z"
   },
   {
    "duration": 5,
    "start_time": "2024-07-28T18:05:04.231Z"
   },
   {
    "duration": 10,
    "start_time": "2024-07-28T18:05:04.239Z"
   },
   {
    "duration": 25,
    "start_time": "2024-07-28T18:05:04.292Z"
   },
   {
    "duration": 14,
    "start_time": "2024-07-28T18:05:04.323Z"
   },
   {
    "duration": 10,
    "start_time": "2024-07-28T18:05:04.341Z"
   },
   {
    "duration": 10,
    "start_time": "2024-07-28T18:05:04.392Z"
   },
   {
    "duration": 37,
    "start_time": "2024-07-28T18:05:04.405Z"
   },
   {
    "duration": 61,
    "start_time": "2024-07-28T18:05:04.445Z"
   },
   {
    "duration": 20,
    "start_time": "2024-07-28T18:05:04.509Z"
   },
   {
    "duration": 9,
    "start_time": "2024-07-28T18:05:04.532Z"
   },
   {
    "duration": 58,
    "start_time": "2024-07-28T18:05:04.544Z"
   },
   {
    "duration": 18,
    "start_time": "2024-07-28T18:05:04.606Z"
   },
   {
    "duration": 27,
    "start_time": "2024-07-28T18:05:04.627Z"
   },
   {
    "duration": 49,
    "start_time": "2024-07-28T18:05:04.657Z"
   },
   {
    "duration": 8,
    "start_time": "2024-07-28T18:05:04.709Z"
   },
   {
    "duration": 13,
    "start_time": "2024-07-28T18:05:04.721Z"
   },
   {
    "duration": 15,
    "start_time": "2024-07-28T18:05:04.737Z"
   },
   {
    "duration": 43,
    "start_time": "2024-07-28T18:05:04.755Z"
   },
   {
    "duration": 11,
    "start_time": "2024-07-28T18:05:12.874Z"
   },
   {
    "duration": 24,
    "start_time": "2024-07-28T18:12:01.813Z"
   },
   {
    "duration": 39,
    "start_time": "2024-07-28T18:12:14.438Z"
   },
   {
    "duration": 11,
    "start_time": "2024-07-28T18:13:14.074Z"
   },
   {
    "duration": 22,
    "start_time": "2024-07-28T18:13:43.630Z"
   },
   {
    "duration": 27,
    "start_time": "2024-07-28T18:14:44.907Z"
   },
   {
    "duration": 543,
    "start_time": "2024-07-28T18:15:02.283Z"
   },
   {
    "duration": 238,
    "start_time": "2024-07-28T18:15:02.830Z"
   },
   {
    "duration": 37,
    "start_time": "2024-07-28T18:15:03.071Z"
   },
   {
    "duration": 44,
    "start_time": "2024-07-28T18:15:03.115Z"
   },
   {
    "duration": 36,
    "start_time": "2024-07-28T18:15:03.161Z"
   },
   {
    "duration": 11,
    "start_time": "2024-07-28T18:15:03.203Z"
   },
   {
    "duration": 8,
    "start_time": "2024-07-28T18:15:03.216Z"
   },
   {
    "duration": 75,
    "start_time": "2024-07-28T18:15:03.229Z"
   },
   {
    "duration": 42,
    "start_time": "2024-07-28T18:15:03.308Z"
   },
   {
    "duration": 56,
    "start_time": "2024-07-28T18:15:03.357Z"
   },
   {
    "duration": 36,
    "start_time": "2024-07-28T18:15:03.416Z"
   },
   {
    "duration": 102,
    "start_time": "2024-07-28T18:15:03.456Z"
   },
   {
    "duration": 110,
    "start_time": "2024-07-28T18:15:03.563Z"
   },
   {
    "duration": 45,
    "start_time": "2024-07-28T18:15:03.678Z"
   },
   {
    "duration": 129,
    "start_time": "2024-07-28T18:15:03.726Z"
   },
   {
    "duration": 3,
    "start_time": "2024-07-28T18:15:03.858Z"
   },
   {
    "duration": 111,
    "start_time": "2024-07-28T18:15:03.865Z"
   },
   {
    "duration": 26,
    "start_time": "2024-07-28T18:15:03.979Z"
   },
   {
    "duration": 141,
    "start_time": "2024-07-28T18:15:04.009Z"
   },
   {
    "duration": 93,
    "start_time": "2024-07-28T18:15:04.153Z"
   },
   {
    "duration": 84,
    "start_time": "2024-07-28T18:15:04.252Z"
   },
   {
    "duration": 91,
    "start_time": "2024-07-28T18:15:04.339Z"
   },
   {
    "duration": 42,
    "start_time": "2024-07-28T18:15:04.433Z"
   },
   {
    "duration": 14,
    "start_time": "2024-07-28T18:15:04.493Z"
   },
   {
    "duration": 7,
    "start_time": "2024-07-28T18:15:04.510Z"
   },
   {
    "duration": 5,
    "start_time": "2024-07-28T18:15:04.520Z"
   },
   {
    "duration": 9,
    "start_time": "2024-07-28T18:15:04.528Z"
   },
   {
    "duration": 71,
    "start_time": "2024-07-28T18:15:04.545Z"
   },
   {
    "duration": 18,
    "start_time": "2024-07-28T18:15:04.619Z"
   },
   {
    "duration": 11,
    "start_time": "2024-07-28T18:15:04.640Z"
   },
   {
    "duration": 22,
    "start_time": "2024-07-28T18:15:04.689Z"
   },
   {
    "duration": 49,
    "start_time": "2024-07-28T18:15:04.714Z"
   },
   {
    "duration": 53,
    "start_time": "2024-07-28T18:15:04.774Z"
   },
   {
    "duration": 31,
    "start_time": "2024-07-28T18:15:04.830Z"
   },
   {
    "duration": 25,
    "start_time": "2024-07-28T18:15:04.867Z"
   },
   {
    "duration": 24,
    "start_time": "2024-07-28T18:15:04.896Z"
   },
   {
    "duration": 19,
    "start_time": "2024-07-28T18:15:04.923Z"
   },
   {
    "duration": 63,
    "start_time": "2024-07-28T18:15:04.946Z"
   },
   {
    "duration": 16,
    "start_time": "2024-07-28T18:15:05.013Z"
   },
   {
    "duration": 5,
    "start_time": "2024-07-28T18:15:05.033Z"
   },
   {
    "duration": 5,
    "start_time": "2024-07-28T18:15:05.043Z"
   },
   {
    "duration": 52,
    "start_time": "2024-07-28T18:15:05.050Z"
   },
   {
    "duration": 15,
    "start_time": "2024-07-28T18:15:05.106Z"
   },
   {
    "duration": 13,
    "start_time": "2024-07-28T18:15:18.491Z"
   },
   {
    "duration": 44,
    "start_time": "2024-07-28T18:15:59.604Z"
   },
   {
    "duration": 41,
    "start_time": "2024-07-28T18:16:05.640Z"
   },
   {
    "duration": 21,
    "start_time": "2024-07-28T18:16:12.180Z"
   },
   {
    "duration": 11,
    "start_time": "2024-07-28T18:16:17.112Z"
   },
   {
    "duration": 25,
    "start_time": "2024-07-28T18:16:21.643Z"
   },
   {
    "duration": 311,
    "start_time": "2024-07-28T18:42:07.480Z"
   },
   {
    "duration": 514,
    "start_time": "2024-07-28T18:42:10.533Z"
   },
   {
    "duration": 234,
    "start_time": "2024-07-28T18:42:11.051Z"
   },
   {
    "duration": 38,
    "start_time": "2024-07-28T18:42:11.288Z"
   },
   {
    "duration": 37,
    "start_time": "2024-07-28T18:42:11.331Z"
   },
   {
    "duration": 6,
    "start_time": "2024-07-28T18:42:11.371Z"
   },
   {
    "duration": 47,
    "start_time": "2024-07-28T18:42:11.380Z"
   },
   {
    "duration": 7,
    "start_time": "2024-07-28T18:42:11.430Z"
   },
   {
    "duration": 29,
    "start_time": "2024-07-28T18:42:11.440Z"
   },
   {
    "duration": 68,
    "start_time": "2024-07-28T18:42:11.472Z"
   },
   {
    "duration": 34,
    "start_time": "2024-07-28T18:42:11.545Z"
   },
   {
    "duration": 47,
    "start_time": "2024-07-28T18:42:11.582Z"
   },
   {
    "duration": 16,
    "start_time": "2024-07-28T18:42:11.632Z"
   },
   {
    "duration": 99,
    "start_time": "2024-07-28T18:42:11.651Z"
   },
   {
    "duration": 29,
    "start_time": "2024-07-28T18:42:11.752Z"
   },
   {
    "duration": 115,
    "start_time": "2024-07-28T18:42:11.785Z"
   },
   {
    "duration": 3,
    "start_time": "2024-07-28T18:42:11.904Z"
   },
   {
    "duration": 104,
    "start_time": "2024-07-28T18:42:11.923Z"
   },
   {
    "duration": 16,
    "start_time": "2024-07-28T18:42:12.030Z"
   },
   {
    "duration": 112,
    "start_time": "2024-07-28T18:42:12.049Z"
   },
   {
    "duration": 82,
    "start_time": "2024-07-28T18:42:12.164Z"
   },
   {
    "duration": 90,
    "start_time": "2024-07-28T18:42:12.249Z"
   },
   {
    "duration": 83,
    "start_time": "2024-07-28T18:42:12.341Z"
   },
   {
    "duration": 32,
    "start_time": "2024-07-28T18:42:12.426Z"
   },
   {
    "duration": 11,
    "start_time": "2024-07-28T18:42:12.461Z"
   },
   {
    "duration": 47,
    "start_time": "2024-07-28T18:42:12.475Z"
   }
  ],
  "kernelspec": {
   "display_name": "Python 3 (ipykernel)",
   "language": "python",
   "name": "python3"
  },
  "language_info": {
   "codemirror_mode": {
    "name": "ipython",
    "version": 3
   },
   "file_extension": ".py",
   "mimetype": "text/x-python",
   "name": "python",
   "nbconvert_exporter": "python",
   "pygments_lexer": "ipython3",
   "version": "3.12.7"
  },
  "toc": {
   "base_numbering": 1,
   "nav_menu": {},
   "number_sections": true,
   "sideBar": true,
   "skip_h1_title": true,
   "title_cell": "Table of Contents",
   "title_sidebar": "Contents",
   "toc_cell": false,
   "toc_position": {
    "height": "calc(100% - 180px)",
    "left": "10px",
    "top": "150px",
    "width": "214px"
   },
   "toc_section_display": true,
   "toc_window_display": true
  }
 },
 "nbformat": 4,
 "nbformat_minor": 5
}
