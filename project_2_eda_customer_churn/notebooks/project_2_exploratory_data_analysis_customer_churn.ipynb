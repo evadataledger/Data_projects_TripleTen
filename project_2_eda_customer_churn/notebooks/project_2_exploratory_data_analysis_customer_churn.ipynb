{
 "cells": [
  {
   "cell_type": "markdown",
   "id": "8ee30c87",
   "metadata": {},
   "source": [
    "# Exploratory Data Analysis "
   ]
  },
  {
   "cell_type": "markdown",
   "id": "f05b4c61",
   "metadata": {},
   "source": [
    "For this project, data from Instacart will be analyzed. \n",
    "\n",
    "Instacart is a grocery delivery platform where customers can place a grocery order and have it delivered to them, similar to how Uber Eats and Door Dash work. This particular dataset was publicly released by Instacart in 2017 for a Kaggle competition.\n",
    "\n",
    "The goal of this project is to clean up the data and prepare a report providing insight into the shopping habits of Instacart customers. Respective questions will be answered, along with a brief explanation of the results."
   ]
  },
  {
   "cell_type": "markdown",
   "id": "32a1783d",
   "metadata": {},
   "source": [
    "Data for this project comes from multiple sources and stored in the following files: **/datasets/instacart_orders.csv, /datasets/products.csv, /datasets/aisles.csv, /datasets/departments.csv,** and **/datasets/order_products.csv**. There is no information about the quality of the data, so you will need to explore it before doing the analysis.\n",
    "\n",
    "First, you’ll evaluate the quality of the data and see whether its issues are significant. Then, during\n",
    "data preprocessing, you will try to account for the most critical problems.\n",
    "Your project will consist of three stages: 1. Data overview 2. Data preprocessing 3. Data analysis "
   ]
  },
  {
   "cell_type": "markdown",
   "id": "f0aa3a30",
   "metadata": {},
   "source": [
    "**DATA OVERVIEW**\n",
    "\n",
    "Open and explore the data. Load the data and inspect the data  "
   ]
  },
  {
   "cell_type": "code",
   "execution_count": 279,
   "id": "59e2090f",
   "metadata": {},
   "outputs": [],
   "source": [
    "# import pandas \n",
    "import pandas as pd\n",
    "import os\n",
    "import matplotlib.pyplot as plt"
   ]
  },
  {
   "cell_type": "code",
   "execution_count": 3,
   "id": "20a01410-44e3-448b-acf7-2a957af791e9",
   "metadata": {},
   "outputs": [
    {
     "name": "stdout",
     "output_type": "stream",
     "text": [
      "C:\\Users\\Eva Brown\\github_projects_datasets\n"
     ]
    }
   ],
   "source": [
    "print(os.getcwd())"
   ]
  },
  {
   "cell_type": "code",
   "execution_count": 32,
   "id": "4f1f0b13-bb1d-4690-b2c8-38e7087f525b",
   "metadata": {},
   "outputs": [],
   "source": [
    "# Define the paths to the CSV\n",
    "orders_path = 'datasets/instacart_orders.csv'\n",
    "products_path = 'datasets/products.csv'\n",
    "aisles_path = 'datasets/aisles.csv'\n",
    "departments_path = 'datasets/departments.csv'\n",
    "order_products_path = 'datasets/order_products.csv'"
   ]
  },
  {
   "cell_type": "markdown",
   "id": "a168f0b8",
   "metadata": {},
   "source": [
    "**Load the 'instacart_orders' dataset, inspect the data.**"
   ]
  },
  {
   "cell_type": "code",
   "execution_count": 9,
   "id": "f105d343",
   "metadata": {},
   "outputs": [],
   "source": [
    "# Read the CSV\n",
    "orders_df = pd.read_csv(orders_path, sep=';')"
   ]
  },
  {
   "cell_type": "code",
   "execution_count": 51,
   "id": "9f79d248-5119-42e7-a31e-dce47b791695",
   "metadata": {},
   "outputs": [
    {
     "data": {
      "text/html": [
       "<div>\n",
       "<style scoped>\n",
       "    .dataframe tbody tr th:only-of-type {\n",
       "        vertical-align: middle;\n",
       "    }\n",
       "\n",
       "    .dataframe tbody tr th {\n",
       "        vertical-align: top;\n",
       "    }\n",
       "\n",
       "    .dataframe thead th {\n",
       "        text-align: right;\n",
       "    }\n",
       "</style>\n",
       "<table border=\"1\" class=\"dataframe\">\n",
       "  <thead>\n",
       "    <tr style=\"text-align: right;\">\n",
       "      <th></th>\n",
       "      <th>order_id</th>\n",
       "      <th>user_id</th>\n",
       "      <th>order_number</th>\n",
       "      <th>order_dow</th>\n",
       "      <th>order_hour_of_day</th>\n",
       "      <th>days_since_prior_order</th>\n",
       "    </tr>\n",
       "  </thead>\n",
       "  <tbody>\n",
       "    <tr>\n",
       "      <th>0</th>\n",
       "      <td>1515936</td>\n",
       "      <td>183418</td>\n",
       "      <td>11</td>\n",
       "      <td>6</td>\n",
       "      <td>13</td>\n",
       "      <td>30.0</td>\n",
       "    </tr>\n",
       "    <tr>\n",
       "      <th>1</th>\n",
       "      <td>1690866</td>\n",
       "      <td>163593</td>\n",
       "      <td>5</td>\n",
       "      <td>5</td>\n",
       "      <td>12</td>\n",
       "      <td>9.0</td>\n",
       "    </tr>\n",
       "    <tr>\n",
       "      <th>2</th>\n",
       "      <td>1454967</td>\n",
       "      <td>39980</td>\n",
       "      <td>4</td>\n",
       "      <td>5</td>\n",
       "      <td>19</td>\n",
       "      <td>2.0</td>\n",
       "    </tr>\n",
       "    <tr>\n",
       "      <th>3</th>\n",
       "      <td>1768857</td>\n",
       "      <td>82516</td>\n",
       "      <td>56</td>\n",
       "      <td>0</td>\n",
       "      <td>20</td>\n",
       "      <td>10.0</td>\n",
       "    </tr>\n",
       "    <tr>\n",
       "      <th>4</th>\n",
       "      <td>3007858</td>\n",
       "      <td>196724</td>\n",
       "      <td>2</td>\n",
       "      <td>4</td>\n",
       "      <td>12</td>\n",
       "      <td>17.0</td>\n",
       "    </tr>\n",
       "  </tbody>\n",
       "</table>\n",
       "</div>"
      ],
      "text/plain": [
       "   order_id  user_id  order_number  order_dow  order_hour_of_day  \\\n",
       "0   1515936   183418            11          6                 13   \n",
       "1   1690866   163593             5          5                 12   \n",
       "2   1454967    39980             4          5                 19   \n",
       "3   1768857    82516            56          0                 20   \n",
       "4   3007858   196724             2          4                 12   \n",
       "\n",
       "   days_since_prior_order  \n",
       "0                    30.0  \n",
       "1                     9.0  \n",
       "2                     2.0  \n",
       "3                    10.0  \n",
       "4                    17.0  "
      ]
     },
     "metadata": {},
     "output_type": "display_data"
    },
    {
     "name": "stdout",
     "output_type": "stream",
     "text": [
      "<class 'pandas.core.frame.DataFrame'>\n",
      "RangeIndex: 478967 entries, 0 to 478966\n",
      "Data columns (total 6 columns):\n",
      " #   Column                  Non-Null Count   Dtype  \n",
      "---  ------                  --------------   -----  \n",
      " 0   order_id                478967 non-null  int64  \n",
      " 1   user_id                 478967 non-null  int64  \n",
      " 2   order_number            478967 non-null  int64  \n",
      " 3   order_dow               478967 non-null  int64  \n",
      " 4   order_hour_of_day       478967 non-null  int64  \n",
      " 5   days_since_prior_order  450148 non-null  float64\n",
      "dtypes: float64(1), int64(5)\n",
      "memory usage: 21.9 MB\n"
     ]
    },
    {
     "data": {
      "text/plain": [
       "None"
      ]
     },
     "metadata": {},
     "output_type": "display_data"
    }
   ],
   "source": [
    "# Preview the data\n",
    "display(orders_df.head())\n",
    "display(orders_df.info())"
   ]
  },
  {
   "cell_type": "markdown",
   "id": "59cf255e",
   "metadata": {},
   "source": [
    "**Load the 'products' dataset, inspect the data.** "
   ]
  },
  {
   "cell_type": "code",
   "execution_count": 14,
   "id": "fc88cba1",
   "metadata": {},
   "outputs": [],
   "source": [
    "# read a CSV file and convert it into a pandas DataFrame. \n",
    "products_df = pd.read_csv(products_path, sep=';')"
   ]
  },
  {
   "cell_type": "code",
   "execution_count": 49,
   "id": "f1e1ed52-90bd-4c8f-98b4-8c04b54c4fdb",
   "metadata": {},
   "outputs": [
    {
     "data": {
      "text/html": [
       "<div>\n",
       "<style scoped>\n",
       "    .dataframe tbody tr th:only-of-type {\n",
       "        vertical-align: middle;\n",
       "    }\n",
       "\n",
       "    .dataframe tbody tr th {\n",
       "        vertical-align: top;\n",
       "    }\n",
       "\n",
       "    .dataframe thead th {\n",
       "        text-align: right;\n",
       "    }\n",
       "</style>\n",
       "<table border=\"1\" class=\"dataframe\">\n",
       "  <thead>\n",
       "    <tr style=\"text-align: right;\">\n",
       "      <th></th>\n",
       "      <th>product_id</th>\n",
       "      <th>product_name</th>\n",
       "      <th>aisle_id</th>\n",
       "      <th>department_id</th>\n",
       "    </tr>\n",
       "  </thead>\n",
       "  <tbody>\n",
       "    <tr>\n",
       "      <th>0</th>\n",
       "      <td>1</td>\n",
       "      <td>Chocolate Sandwich Cookies</td>\n",
       "      <td>61</td>\n",
       "      <td>19</td>\n",
       "    </tr>\n",
       "    <tr>\n",
       "      <th>1</th>\n",
       "      <td>2</td>\n",
       "      <td>All-Seasons Salt</td>\n",
       "      <td>104</td>\n",
       "      <td>13</td>\n",
       "    </tr>\n",
       "    <tr>\n",
       "      <th>2</th>\n",
       "      <td>3</td>\n",
       "      <td>Robust Golden Unsweetened Oolong Tea</td>\n",
       "      <td>94</td>\n",
       "      <td>7</td>\n",
       "    </tr>\n",
       "    <tr>\n",
       "      <th>3</th>\n",
       "      <td>4</td>\n",
       "      <td>Smart Ones Classic Favorites Mini Rigatoni Wit...</td>\n",
       "      <td>38</td>\n",
       "      <td>1</td>\n",
       "    </tr>\n",
       "    <tr>\n",
       "      <th>4</th>\n",
       "      <td>5</td>\n",
       "      <td>Green Chile Anytime Sauce</td>\n",
       "      <td>5</td>\n",
       "      <td>13</td>\n",
       "    </tr>\n",
       "  </tbody>\n",
       "</table>\n",
       "</div>"
      ],
      "text/plain": [
       "   product_id                                       product_name  aisle_id  \\\n",
       "0           1                         Chocolate Sandwich Cookies        61   \n",
       "1           2                                   All-Seasons Salt       104   \n",
       "2           3               Robust Golden Unsweetened Oolong Tea        94   \n",
       "3           4  Smart Ones Classic Favorites Mini Rigatoni Wit...        38   \n",
       "4           5                          Green Chile Anytime Sauce         5   \n",
       "\n",
       "   department_id  \n",
       "0             19  \n",
       "1             13  \n",
       "2              7  \n",
       "3              1  \n",
       "4             13  "
      ]
     },
     "metadata": {},
     "output_type": "display_data"
    },
    {
     "name": "stdout",
     "output_type": "stream",
     "text": [
      "<class 'pandas.core.frame.DataFrame'>\n",
      "RangeIndex: 49694 entries, 0 to 49693\n",
      "Data columns (total 4 columns):\n",
      " #   Column         Non-Null Count  Dtype \n",
      "---  ------         --------------  ----- \n",
      " 0   product_id     49694 non-null  int64 \n",
      " 1   product_name   48436 non-null  object\n",
      " 2   aisle_id       49694 non-null  int64 \n",
      " 3   department_id  49694 non-null  int64 \n",
      "dtypes: int64(3), object(1)\n",
      "memory usage: 1.5+ MB\n"
     ]
    },
    {
     "data": {
      "text/plain": [
       "None"
      ]
     },
     "metadata": {},
     "output_type": "display_data"
    }
   ],
   "source": [
    "# Preview the data\n",
    "display(products_df.head())\n",
    "display(products_df.info())"
   ]
  },
  {
   "cell_type": "markdown",
   "id": "ad993e61",
   "metadata": {},
   "source": [
    "**Load the 'aisles' data, inspect the data.**"
   ]
  },
  {
   "cell_type": "code",
   "execution_count": 23,
   "id": "6c4e5da3",
   "metadata": {},
   "outputs": [],
   "source": [
    "# read a CSV file and convert it into a pandas DataFrame. \n",
    "aisles_df = pd.read_csv(aisles_path , sep=';')\n"
   ]
  },
  {
   "cell_type": "code",
   "execution_count": 47,
   "id": "3e6ad58f-ac9a-4988-8b07-bf300b23e9bc",
   "metadata": {},
   "outputs": [
    {
     "data": {
      "text/html": [
       "<div>\n",
       "<style scoped>\n",
       "    .dataframe tbody tr th:only-of-type {\n",
       "        vertical-align: middle;\n",
       "    }\n",
       "\n",
       "    .dataframe tbody tr th {\n",
       "        vertical-align: top;\n",
       "    }\n",
       "\n",
       "    .dataframe thead th {\n",
       "        text-align: right;\n",
       "    }\n",
       "</style>\n",
       "<table border=\"1\" class=\"dataframe\">\n",
       "  <thead>\n",
       "    <tr style=\"text-align: right;\">\n",
       "      <th></th>\n",
       "      <th>aisle_id</th>\n",
       "      <th>aisle</th>\n",
       "    </tr>\n",
       "  </thead>\n",
       "  <tbody>\n",
       "    <tr>\n",
       "      <th>0</th>\n",
       "      <td>1</td>\n",
       "      <td>prepared soups salads</td>\n",
       "    </tr>\n",
       "    <tr>\n",
       "      <th>1</th>\n",
       "      <td>2</td>\n",
       "      <td>specialty cheeses</td>\n",
       "    </tr>\n",
       "    <tr>\n",
       "      <th>2</th>\n",
       "      <td>3</td>\n",
       "      <td>energy granola bars</td>\n",
       "    </tr>\n",
       "    <tr>\n",
       "      <th>3</th>\n",
       "      <td>4</td>\n",
       "      <td>instant foods</td>\n",
       "    </tr>\n",
       "    <tr>\n",
       "      <th>4</th>\n",
       "      <td>5</td>\n",
       "      <td>marinades meat preparation</td>\n",
       "    </tr>\n",
       "  </tbody>\n",
       "</table>\n",
       "</div>"
      ],
      "text/plain": [
       "   aisle_id                       aisle\n",
       "0         1       prepared soups salads\n",
       "1         2           specialty cheeses\n",
       "2         3         energy granola bars\n",
       "3         4               instant foods\n",
       "4         5  marinades meat preparation"
      ]
     },
     "metadata": {},
     "output_type": "display_data"
    },
    {
     "name": "stdout",
     "output_type": "stream",
     "text": [
      "<class 'pandas.core.frame.DataFrame'>\n",
      "RangeIndex: 134 entries, 0 to 133\n",
      "Data columns (total 2 columns):\n",
      " #   Column    Non-Null Count  Dtype \n",
      "---  ------    --------------  ----- \n",
      " 0   aisle_id  134 non-null    int64 \n",
      " 1   aisle     134 non-null    object\n",
      "dtypes: int64(1), object(1)\n",
      "memory usage: 2.2+ KB\n"
     ]
    },
    {
     "data": {
      "text/plain": [
       "None"
      ]
     },
     "metadata": {},
     "output_type": "display_data"
    }
   ],
   "source": [
    "# Preview the data\n",
    "display(aisles_df.head())\n",
    "display(aisles_df.info())"
   ]
  },
  {
   "cell_type": "markdown",
   "id": "b8d9e98d",
   "metadata": {},
   "source": [
    "**Load the 'departments' data, inspect the data.** "
   ]
  },
  {
   "cell_type": "code",
   "execution_count": 28,
   "id": "5e812699",
   "metadata": {},
   "outputs": [],
   "source": [
    "# read a CSV file and convert it into a pandas DataFrame. \n",
    "dept_df = pd.read_csv(departments_path, sep=';')       \n"
   ]
  },
  {
   "cell_type": "code",
   "execution_count": 45,
   "id": "59e56c18-4fd5-4b76-b6e3-ba49ae3af98f",
   "metadata": {},
   "outputs": [
    {
     "data": {
      "text/html": [
       "<div>\n",
       "<style scoped>\n",
       "    .dataframe tbody tr th:only-of-type {\n",
       "        vertical-align: middle;\n",
       "    }\n",
       "\n",
       "    .dataframe tbody tr th {\n",
       "        vertical-align: top;\n",
       "    }\n",
       "\n",
       "    .dataframe thead th {\n",
       "        text-align: right;\n",
       "    }\n",
       "</style>\n",
       "<table border=\"1\" class=\"dataframe\">\n",
       "  <thead>\n",
       "    <tr style=\"text-align: right;\">\n",
       "      <th></th>\n",
       "      <th>department_id</th>\n",
       "      <th>department</th>\n",
       "    </tr>\n",
       "  </thead>\n",
       "  <tbody>\n",
       "    <tr>\n",
       "      <th>0</th>\n",
       "      <td>1</td>\n",
       "      <td>frozen</td>\n",
       "    </tr>\n",
       "    <tr>\n",
       "      <th>1</th>\n",
       "      <td>2</td>\n",
       "      <td>other</td>\n",
       "    </tr>\n",
       "    <tr>\n",
       "      <th>2</th>\n",
       "      <td>3</td>\n",
       "      <td>bakery</td>\n",
       "    </tr>\n",
       "    <tr>\n",
       "      <th>3</th>\n",
       "      <td>4</td>\n",
       "      <td>produce</td>\n",
       "    </tr>\n",
       "    <tr>\n",
       "      <th>4</th>\n",
       "      <td>5</td>\n",
       "      <td>alcohol</td>\n",
       "    </tr>\n",
       "  </tbody>\n",
       "</table>\n",
       "</div>"
      ],
      "text/plain": [
       "   department_id department\n",
       "0              1     frozen\n",
       "1              2      other\n",
       "2              3     bakery\n",
       "3              4    produce\n",
       "4              5    alcohol"
      ]
     },
     "metadata": {},
     "output_type": "display_data"
    },
    {
     "name": "stdout",
     "output_type": "stream",
     "text": [
      "<class 'pandas.core.frame.DataFrame'>\n",
      "RangeIndex: 21 entries, 0 to 20\n",
      "Data columns (total 2 columns):\n",
      " #   Column         Non-Null Count  Dtype \n",
      "---  ------         --------------  ----- \n",
      " 0   department_id  21 non-null     int64 \n",
      " 1   department     21 non-null     object\n",
      "dtypes: int64(1), object(1)\n",
      "memory usage: 468.0+ bytes\n"
     ]
    },
    {
     "data": {
      "text/plain": [
       "None"
      ]
     },
     "metadata": {},
     "output_type": "display_data"
    }
   ],
   "source": [
    "# Preview the data\n",
    "display(dept_df.head())\n",
    "display(dept_df.info())"
   ]
  },
  {
   "cell_type": "markdown",
   "id": "fa146b39",
   "metadata": {},
   "source": [
    "**ORDER_PRODUCTS_DF** Load the data, inspect the data."
   ]
  },
  {
   "cell_type": "code",
   "execution_count": 35,
   "id": "75ee8e51",
   "metadata": {},
   "outputs": [],
   "source": [
    "# read a CSV file and convert it into a pandas DataFrame. \n",
    "order_products_df = pd.read_csv(order_products_path, sep=';')"
   ]
  },
  {
   "cell_type": "code",
   "execution_count": 43,
   "id": "90b9516b-c3e9-4c21-91b5-af97d75d5ec1",
   "metadata": {},
   "outputs": [
    {
     "data": {
      "text/html": [
       "<div>\n",
       "<style scoped>\n",
       "    .dataframe tbody tr th:only-of-type {\n",
       "        vertical-align: middle;\n",
       "    }\n",
       "\n",
       "    .dataframe tbody tr th {\n",
       "        vertical-align: top;\n",
       "    }\n",
       "\n",
       "    .dataframe thead th {\n",
       "        text-align: right;\n",
       "    }\n",
       "</style>\n",
       "<table border=\"1\" class=\"dataframe\">\n",
       "  <thead>\n",
       "    <tr style=\"text-align: right;\">\n",
       "      <th></th>\n",
       "      <th>order_id</th>\n",
       "      <th>product_id</th>\n",
       "      <th>add_to_cart_order</th>\n",
       "      <th>reordered</th>\n",
       "    </tr>\n",
       "  </thead>\n",
       "  <tbody>\n",
       "    <tr>\n",
       "      <th>0</th>\n",
       "      <td>2141543</td>\n",
       "      <td>11440</td>\n",
       "      <td>17.0</td>\n",
       "      <td>0</td>\n",
       "    </tr>\n",
       "    <tr>\n",
       "      <th>1</th>\n",
       "      <td>567889</td>\n",
       "      <td>1560</td>\n",
       "      <td>1.0</td>\n",
       "      <td>1</td>\n",
       "    </tr>\n",
       "    <tr>\n",
       "      <th>2</th>\n",
       "      <td>2261212</td>\n",
       "      <td>26683</td>\n",
       "      <td>1.0</td>\n",
       "      <td>1</td>\n",
       "    </tr>\n",
       "    <tr>\n",
       "      <th>3</th>\n",
       "      <td>491251</td>\n",
       "      <td>8670</td>\n",
       "      <td>35.0</td>\n",
       "      <td>1</td>\n",
       "    </tr>\n",
       "    <tr>\n",
       "      <th>4</th>\n",
       "      <td>2571142</td>\n",
       "      <td>1940</td>\n",
       "      <td>5.0</td>\n",
       "      <td>1</td>\n",
       "    </tr>\n",
       "  </tbody>\n",
       "</table>\n",
       "</div>"
      ],
      "text/plain": [
       "   order_id  product_id  add_to_cart_order  reordered\n",
       "0   2141543       11440               17.0          0\n",
       "1    567889        1560                1.0          1\n",
       "2   2261212       26683                1.0          1\n",
       "3    491251        8670               35.0          1\n",
       "4   2571142        1940                5.0          1"
      ]
     },
     "metadata": {},
     "output_type": "display_data"
    },
    {
     "name": "stdout",
     "output_type": "stream",
     "text": [
      "<class 'pandas.core.frame.DataFrame'>\n",
      "RangeIndex: 4545007 entries, 0 to 4545006\n",
      "Data columns (total 4 columns):\n",
      " #   Column             Non-Null Count    Dtype  \n",
      "---  ------             --------------    -----  \n",
      " 0   order_id           4545007 non-null  int64  \n",
      " 1   product_id         4545007 non-null  int64  \n",
      " 2   add_to_cart_order  4544171 non-null  float64\n",
      " 3   reordered          4545007 non-null  int64  \n",
      "dtypes: float64(1), int64(3)\n",
      "memory usage: 138.7 MB\n"
     ]
    },
    {
     "data": {
      "text/plain": [
       "None"
      ]
     },
     "metadata": {},
     "output_type": "display_data"
    }
   ],
   "source": [
    "# preview data\n",
    "display(order_products_df.head())\n",
    "display(order_products_df.info(show_counts=True))"
   ]
  },
  {
   "cell_type": "markdown",
   "id": "d013b95d",
   "metadata": {},
   "source": [
    "**DATA PROCESSING**\n",
    "\n",
    "Verify and fix data types. "
   ]
  },
  {
   "cell_type": "markdown",
   "id": "b3f153d7",
   "metadata": {},
   "source": [
    "**ORDERS Dataset** \n",
    "\n",
    "Verify and fix data types.  Check for missing values and decide how to handle them."
   ]
  },
  {
   "cell_type": "code",
   "execution_count": 55,
   "id": "8893f23b",
   "metadata": {},
   "outputs": [
    {
     "name": "stdout",
     "output_type": "stream",
     "text": [
      "order_id                    int64\n",
      "user_id                     int64\n",
      "order_number                int64\n",
      "order_dow                   int64\n",
      "order_hour_of_day           int64\n",
      "days_since_prior_order    float64\n",
      "dtype: object \n",
      "\n",
      "order_id                      0\n",
      "user_id                       0\n",
      "order_number                  0\n",
      "order_dow                     0\n",
      "order_hour_of_day             0\n",
      "days_since_prior_order    28819\n",
      "dtype: int64\n"
     ]
    }
   ],
   "source": [
    "# Ensure all ID columns are integers. Return the dtype object of the underlying data.\n",
    "print(orders_df.dtypes, '\\n')\n",
    "# Detect missing values for an array-like object. Object to check for null or missing values.\n",
    "print(orders_df.isna().sum())"
   ]
  },
  {
   "cell_type": "markdown",
   "id": "2dddab22",
   "metadata": {},
   "source": [
    "Missing Values 'days_since_prior_order'    28819     dtype: int64"
   ]
  },
  {
   "cell_type": "markdown",
   "id": "4513544c",
   "metadata": {},
   "source": [
    "**PRODUCTS Dataset** \n",
    "\n",
    "Load the data, inspect the data. Check for missing values. "
   ]
  },
  {
   "cell_type": "code",
   "execution_count": 58,
   "id": "0acb7bd8",
   "metadata": {},
   "outputs": [
    {
     "name": "stdout",
     "output_type": "stream",
     "text": [
      "product_id        int64\n",
      "product_name     object\n",
      "aisle_id          int64\n",
      "department_id     int64\n",
      "dtype: object \n",
      "\n",
      "product_id          0\n",
      "product_name     1258\n",
      "aisle_id            0\n",
      "department_id       0\n",
      "dtype: int64\n"
     ]
    }
   ],
   "source": [
    "# Ensure all ID columns are integers. Return the dtype object of the underlying data.\n",
    "print(products_df.dtypes, '\\n') \n",
    "# Detect missing values for an array-like object. Object to check for null or missing values.\n",
    "print(products_df.isna().sum())"
   ]
  },
  {
   "cell_type": "markdown",
   "id": "224a08ed",
   "metadata": {},
   "source": [
    "**AISLES Dataset** \n",
    "\n",
    "Load the data, inspect the data. Check for missing values. "
   ]
  },
  {
   "cell_type": "code",
   "execution_count": 62,
   "id": "cdb5fbd5",
   "metadata": {},
   "outputs": [
    {
     "name": "stdout",
     "output_type": "stream",
     "text": [
      "aisle_id     int64\n",
      "aisle       object\n",
      "dtype: object \n",
      "\n",
      "aisle_id    0\n",
      "aisle       0\n",
      "dtype: int64\n"
     ]
    }
   ],
   "source": [
    "# Ensure all ID columns are integers. Return the dtype object of the underlying data.\n",
    "print(aisles_df.dtypes, '\\n')\n",
    "# Detect missing values for an array-like object. Object to check for null or missing values.\n",
    "print(aisles_df.isna().sum())"
   ]
  },
  {
   "cell_type": "markdown",
   "id": "08d6a686",
   "metadata": {},
   "source": [
    "**DEPARTMENTS Dataset** \n",
    "\n",
    "Load the data, inspect the data "
   ]
  },
  {
   "cell_type": "code",
   "execution_count": 65,
   "id": "bf381dce",
   "metadata": {},
   "outputs": [
    {
     "name": "stdout",
     "output_type": "stream",
     "text": [
      "department_id     int64\n",
      "department       object\n",
      "dtype: object \n",
      "\n",
      "department_id    0\n",
      "department       0\n",
      "dtype: int64\n"
     ]
    }
   ],
   "source": [
    "# Ensure all ID columns are integers. Return the dtype object of the underlying data.\n",
    "print(dept_df.dtypes, '\\n')\n",
    "# Detect missing values for an array-like object. Object to check for null or missing values.\n",
    "print(dept_df.isna().sum())"
   ]
  },
  {
   "cell_type": "markdown",
   "id": "bde64204",
   "metadata": {},
   "source": [
    "**ORDER_PRODUCTS Dataset** \n",
    "\n",
    "Load the data, inspect the data "
   ]
  },
  {
   "cell_type": "code",
   "execution_count": 69,
   "id": "a1663733",
   "metadata": {},
   "outputs": [
    {
     "name": "stdout",
     "output_type": "stream",
     "text": [
      "order_id               int64\n",
      "product_id             int64\n",
      "add_to_cart_order    float64\n",
      "reordered              int64\n",
      "dtype: object \n",
      "\n",
      "order_id               0\n",
      "product_id             0\n",
      "add_to_cart_order    836\n",
      "reordered              0\n",
      "dtype: int64\n"
     ]
    }
   ],
   "source": [
    "# Ensure all ID columns are integers. Return the dtype object of the underlying data.\n",
    "print(order_products_df.dtypes, '\\n')\n",
    "# Detect missing values for an array-like object. Object to check for null or missing values.\n",
    "print(order_products_df.isna().sum())"
   ]
  },
  {
   "cell_type": "markdown",
   "id": "28c0a390-c753-46ad-8655-61976c655092",
   "metadata": {},
   "source": [
    "## Handling Missing Values"
   ]
  },
  {
   "cell_type": "markdown",
   "id": "5545a6a6",
   "metadata": {},
   "source": [
    "**Orders Dataset** "
   ]
  },
  {
   "cell_type": "code",
   "execution_count": 89,
   "id": "abc87ad0",
   "metadata": {},
   "outputs": [],
   "source": [
    "# Drop the rows where at least one element is missing.\n",
    "orders_df.fillna({'days_since_prior_order': 0}, inplace=True)"
   ]
  },
  {
   "cell_type": "code",
   "execution_count": 91,
   "id": "2e812fbb",
   "metadata": {},
   "outputs": [],
   "source": [
    "# Fill missing values in 'days_since_prior_order' with the mean\n",
    "mean_value = orders_df['days_since_prior_order'].mean()\n",
    "orders_df['days_since_prior_order'] = orders_df['days_since_prior_order'].fillna(mean_value)\n"
   ]
  },
  {
   "cell_type": "code",
   "execution_count": 77,
   "id": "b95546e9",
   "metadata": {},
   "outputs": [
    {
     "data": {
      "text/html": [
       "<div>\n",
       "<style scoped>\n",
       "    .dataframe tbody tr th:only-of-type {\n",
       "        vertical-align: middle;\n",
       "    }\n",
       "\n",
       "    .dataframe tbody tr th {\n",
       "        vertical-align: top;\n",
       "    }\n",
       "\n",
       "    .dataframe thead th {\n",
       "        text-align: right;\n",
       "    }\n",
       "</style>\n",
       "<table border=\"1\" class=\"dataframe\">\n",
       "  <thead>\n",
       "    <tr style=\"text-align: right;\">\n",
       "      <th></th>\n",
       "      <th>order_id</th>\n",
       "      <th>user_id</th>\n",
       "      <th>order_number</th>\n",
       "      <th>order_dow</th>\n",
       "      <th>order_hour_of_day</th>\n",
       "      <th>days_since_prior_order</th>\n",
       "    </tr>\n",
       "  </thead>\n",
       "  <tbody>\n",
       "    <tr>\n",
       "      <th>369416</th>\n",
       "      <td>591214</td>\n",
       "      <td>179950</td>\n",
       "      <td>27</td>\n",
       "      <td>1</td>\n",
       "      <td>7</td>\n",
       "      <td>14.0</td>\n",
       "    </tr>\n",
       "    <tr>\n",
       "      <th>416416</th>\n",
       "      <td>2759035</td>\n",
       "      <td>47038</td>\n",
       "      <td>93</td>\n",
       "      <td>3</td>\n",
       "      <td>12</td>\n",
       "      <td>8.0</td>\n",
       "    </tr>\n",
       "    <tr>\n",
       "      <th>113470</th>\n",
       "      <td>2784139</td>\n",
       "      <td>190428</td>\n",
       "      <td>18</td>\n",
       "      <td>0</td>\n",
       "      <td>11</td>\n",
       "      <td>2.0</td>\n",
       "    </tr>\n",
       "    <tr>\n",
       "      <th>123314</th>\n",
       "      <td>1023472</td>\n",
       "      <td>114355</td>\n",
       "      <td>12</td>\n",
       "      <td>0</td>\n",
       "      <td>10</td>\n",
       "      <td>7.0</td>\n",
       "    </tr>\n",
       "    <tr>\n",
       "      <th>363704</th>\n",
       "      <td>1574034</td>\n",
       "      <td>40616</td>\n",
       "      <td>6</td>\n",
       "      <td>3</td>\n",
       "      <td>16</td>\n",
       "      <td>7.0</td>\n",
       "    </tr>\n",
       "    <tr>\n",
       "      <th>294730</th>\n",
       "      <td>53156</td>\n",
       "      <td>137097</td>\n",
       "      <td>13</td>\n",
       "      <td>6</td>\n",
       "      <td>9</td>\n",
       "      <td>30.0</td>\n",
       "    </tr>\n",
       "    <tr>\n",
       "      <th>428161</th>\n",
       "      <td>1059970</td>\n",
       "      <td>30620</td>\n",
       "      <td>11</td>\n",
       "      <td>4</td>\n",
       "      <td>0</td>\n",
       "      <td>2.0</td>\n",
       "    </tr>\n",
       "    <tr>\n",
       "      <th>335890</th>\n",
       "      <td>3013705</td>\n",
       "      <td>197946</td>\n",
       "      <td>13</td>\n",
       "      <td>1</td>\n",
       "      <td>17</td>\n",
       "      <td>5.0</td>\n",
       "    </tr>\n",
       "    <tr>\n",
       "      <th>49301</th>\n",
       "      <td>574774</td>\n",
       "      <td>82002</td>\n",
       "      <td>52</td>\n",
       "      <td>1</td>\n",
       "      <td>14</td>\n",
       "      <td>0.0</td>\n",
       "    </tr>\n",
       "    <tr>\n",
       "      <th>158343</th>\n",
       "      <td>2576561</td>\n",
       "      <td>79170</td>\n",
       "      <td>10</td>\n",
       "      <td>2</td>\n",
       "      <td>9</td>\n",
       "      <td>8.0</td>\n",
       "    </tr>\n",
       "  </tbody>\n",
       "</table>\n",
       "</div>"
      ],
      "text/plain": [
       "        order_id  user_id  order_number  order_dow  order_hour_of_day  \\\n",
       "369416    591214   179950            27          1                  7   \n",
       "416416   2759035    47038            93          3                 12   \n",
       "113470   2784139   190428            18          0                 11   \n",
       "123314   1023472   114355            12          0                 10   \n",
       "363704   1574034    40616             6          3                 16   \n",
       "294730     53156   137097            13          6                  9   \n",
       "428161   1059970    30620            11          4                  0   \n",
       "335890   3013705   197946            13          1                 17   \n",
       "49301     574774    82002            52          1                 14   \n",
       "158343   2576561    79170            10          2                  9   \n",
       "\n",
       "        days_since_prior_order  \n",
       "369416                    14.0  \n",
       "416416                     8.0  \n",
       "113470                     2.0  \n",
       "123314                     7.0  \n",
       "363704                     7.0  \n",
       "294730                    30.0  \n",
       "428161                     2.0  \n",
       "335890                     5.0  \n",
       "49301                      0.0  \n",
       "158343                     8.0  "
      ]
     },
     "execution_count": 77,
     "metadata": {},
     "output_type": "execute_result"
    }
   ],
   "source": [
    "# Return a random sample of items from an axis of object, use random_state for reproducibility.\n",
    "subset_orders_df = orders_df.sample(10, random_state=1369)\n",
    "subset_orders_df"
   ]
  },
  {
   "cell_type": "code",
   "execution_count": 79,
   "id": "67cdaf6b",
   "metadata": {},
   "outputs": [
    {
     "data": {
      "text/html": [
       "<div>\n",
       "<style scoped>\n",
       "    .dataframe tbody tr th:only-of-type {\n",
       "        vertical-align: middle;\n",
       "    }\n",
       "\n",
       "    .dataframe tbody tr th {\n",
       "        vertical-align: top;\n",
       "    }\n",
       "\n",
       "    .dataframe thead th {\n",
       "        text-align: right;\n",
       "    }\n",
       "</style>\n",
       "<table border=\"1\" class=\"dataframe\">\n",
       "  <thead>\n",
       "    <tr style=\"text-align: right;\">\n",
       "      <th></th>\n",
       "      <th>order_id</th>\n",
       "      <th>user_id</th>\n",
       "      <th>order_number</th>\n",
       "      <th>order_dow</th>\n",
       "      <th>order_hour_of_day</th>\n",
       "      <th>days_since_prior_order</th>\n",
       "    </tr>\n",
       "  </thead>\n",
       "  <tbody>\n",
       "    <tr>\n",
       "      <th>count</th>\n",
       "      <td>4.789670e+05</td>\n",
       "      <td>478967.000000</td>\n",
       "      <td>478967.000000</td>\n",
       "      <td>478967.000000</td>\n",
       "      <td>478967.000000</td>\n",
       "      <td>478967.000000</td>\n",
       "    </tr>\n",
       "    <tr>\n",
       "      <th>mean</th>\n",
       "      <td>1.709947e+06</td>\n",
       "      <td>102966.537475</td>\n",
       "      <td>17.157808</td>\n",
       "      <td>2.775058</td>\n",
       "      <td>13.446676</td>\n",
       "      <td>10.433769</td>\n",
       "    </tr>\n",
       "    <tr>\n",
       "      <th>std</th>\n",
       "      <td>9.869480e+05</td>\n",
       "      <td>59525.328991</td>\n",
       "      <td>17.704688</td>\n",
       "      <td>2.045869</td>\n",
       "      <td>4.224986</td>\n",
       "      <td>9.292125</td>\n",
       "    </tr>\n",
       "    <tr>\n",
       "      <th>min</th>\n",
       "      <td>4.000000e+00</td>\n",
       "      <td>2.000000</td>\n",
       "      <td>1.000000</td>\n",
       "      <td>0.000000</td>\n",
       "      <td>0.000000</td>\n",
       "      <td>0.000000</td>\n",
       "    </tr>\n",
       "    <tr>\n",
       "      <th>25%</th>\n",
       "      <td>8.564685e+05</td>\n",
       "      <td>51414.000000</td>\n",
       "      <td>5.000000</td>\n",
       "      <td>1.000000</td>\n",
       "      <td>10.000000</td>\n",
       "      <td>4.000000</td>\n",
       "    </tr>\n",
       "    <tr>\n",
       "      <th>50%</th>\n",
       "      <td>1.709522e+06</td>\n",
       "      <td>102633.000000</td>\n",
       "      <td>11.000000</td>\n",
       "      <td>3.000000</td>\n",
       "      <td>13.000000</td>\n",
       "      <td>7.000000</td>\n",
       "    </tr>\n",
       "    <tr>\n",
       "      <th>75%</th>\n",
       "      <td>2.562990e+06</td>\n",
       "      <td>154419.000000</td>\n",
       "      <td>23.000000</td>\n",
       "      <td>5.000000</td>\n",
       "      <td>16.000000</td>\n",
       "      <td>15.000000</td>\n",
       "    </tr>\n",
       "    <tr>\n",
       "      <th>max</th>\n",
       "      <td>3.421079e+06</td>\n",
       "      <td>206209.000000</td>\n",
       "      <td>100.000000</td>\n",
       "      <td>6.000000</td>\n",
       "      <td>23.000000</td>\n",
       "      <td>30.000000</td>\n",
       "    </tr>\n",
       "  </tbody>\n",
       "</table>\n",
       "</div>"
      ],
      "text/plain": [
       "           order_id        user_id   order_number      order_dow  \\\n",
       "count  4.789670e+05  478967.000000  478967.000000  478967.000000   \n",
       "mean   1.709947e+06  102966.537475      17.157808       2.775058   \n",
       "std    9.869480e+05   59525.328991      17.704688       2.045869   \n",
       "min    4.000000e+00       2.000000       1.000000       0.000000   \n",
       "25%    8.564685e+05   51414.000000       5.000000       1.000000   \n",
       "50%    1.709522e+06  102633.000000      11.000000       3.000000   \n",
       "75%    2.562990e+06  154419.000000      23.000000       5.000000   \n",
       "max    3.421079e+06  206209.000000     100.000000       6.000000   \n",
       "\n",
       "       order_hour_of_day  days_since_prior_order  \n",
       "count      478967.000000           478967.000000  \n",
       "mean           13.446676               10.433769  \n",
       "std             4.224986                9.292125  \n",
       "min             0.000000                0.000000  \n",
       "25%            10.000000                4.000000  \n",
       "50%            13.000000                7.000000  \n",
       "75%            16.000000               15.000000  \n",
       "max            23.000000               30.000000  "
      ]
     },
     "execution_count": 79,
     "metadata": {},
     "output_type": "execute_result"
    }
   ],
   "source": [
    "# Furthur Data Exploration. \n",
    "# Descriptive statistics include those that summarize the central tendency,  dispersion and shape of a dataset’s distribution, excluding 'NaN' values.\n",
    "orders_df.describe()"
   ]
  },
  {
   "cell_type": "code",
   "execution_count": 81,
   "id": "39e5cc26",
   "metadata": {},
   "outputs": [
    {
     "name": "stdout",
     "output_type": "stream",
     "text": [
      "order_dow\n",
      "0    84090\n",
      "1    82185\n",
      "2    65833\n",
      "5    63488\n",
      "6    62649\n",
      "3    60912\n",
      "4    59810\n",
      "Name: count, dtype: int64\n"
     ]
    }
   ],
   "source": [
    "# Distribution of orders by day of the week\n",
    "# Return a Series containing the frequency of each distinct row in the Dataframe.\n",
    "print(orders_df.value_counts('order_dow'))"
   ]
  },
  {
   "cell_type": "code",
   "execution_count": 83,
   "id": "224aa75b",
   "metadata": {},
   "outputs": [
    {
     "name": "stdout",
     "output_type": "stream",
     "text": [
      "order_hour_of_day\n",
      "10    40578\n",
      "11    40032\n",
      "15    39789\n",
      "14    39631\n",
      "13    39007\n",
      "16    38112\n",
      "12    38034\n",
      "9     35896\n",
      "17    31930\n",
      "18    25510\n",
      "8     25024\n",
      "19    19547\n",
      "20    14624\n",
      "7     13043\n",
      "21    11019\n",
      "22     8512\n",
      "23     5611\n",
      "6      4215\n",
      "0      3180\n",
      "1      1763\n",
      "5      1371\n",
      "2      1004\n",
      "3       770\n",
      "4       765\n",
      "Name: count, dtype: int64\n"
     ]
    }
   ],
   "source": [
    "# Distribution of orders by hour of the day\n",
    "print(orders_df.value_counts('order_hour_of_day'))"
   ]
  },
  {
   "cell_type": "code",
   "execution_count": 85,
   "id": "398646bd",
   "metadata": {},
   "outputs": [],
   "source": [
    "#Time-based Analysis can conversion of 'order_hour_of_day' \"%f\" will parse all the way up to nanoseconds.\n",
    "# Convert the timestamp column to datetime\n",
    "# fixed_date = '2024-01-01'"
   ]
  },
  {
   "cell_type": "code",
   "execution_count": 87,
   "id": "038f6ec4",
   "metadata": {},
   "outputs": [
    {
     "name": "stdout",
     "output_type": "stream",
     "text": [
      "order_hour_of_day\n",
      "10    40578\n",
      "11    40032\n",
      "15    39789\n",
      "14    39631\n",
      "13    39007\n",
      "16    38112\n",
      "12    38034\n",
      "9     35896\n",
      "17    31930\n",
      "18    25510\n",
      "8     25024\n",
      "19    19547\n",
      "20    14624\n",
      "7     13043\n",
      "21    11019\n",
      "22     8512\n",
      "23     5611\n",
      "6      4215\n",
      "0      3180\n",
      "1      1763\n",
      "5      1371\n",
      "2      1004\n",
      "3       770\n",
      "4       765\n",
      "Name: count, dtype: int64\n"
     ]
    }
   ],
   "source": [
    "print(orders_df.value_counts('order_hour_of_day'))"
   ]
  },
  {
   "cell_type": "markdown",
   "id": "07357848-dc64-4156-9cc3-01ff4365226d",
   "metadata": {},
   "source": [
    "## Find and remove duplicate values (and describe why you make your choices)"
   ]
  },
  {
   "cell_type": "markdown",
   "id": "f179f0a9",
   "metadata": {},
   "source": [
    "### `ORDERS` data frame"
   ]
  },
  {
   "cell_type": "code",
   "execution_count": 94,
   "id": "bb220e3e",
   "metadata": {},
   "outputs": [
    {
     "name": "stdout",
     "output_type": "stream",
     "text": [
      "Duplicate Rows:\n",
      "        order_id  user_id  order_number  order_dow  order_hour_of_day  \\\n",
      "145574    794638    50898            24          3                  2   \n",
      "223105   2160484   107525            16          3                  2   \n",
      "230807   1918001   188546            14          3                  2   \n",
      "266232   1782114   106752             1          3                  2   \n",
      "273805   1112182   202304            84          3                  2   \n",
      "284038   2845099    31189            11          3                  2   \n",
      "311713   1021560    53767             3          3                  2   \n",
      "321100    408114    68324             4          3                  2   \n",
      "323900   1919531   191501            32          3                  2   \n",
      "345917   2232988    82565             1          3                  2   \n",
      "371905    391768    57671            19          3                  2   \n",
      "394347    467134    63189            21          3                  2   \n",
      "411408   1286742   183220            48          3                  2   \n",
      "415163   2282673    86751            49          3                  2   \n",
      "441599   2125197    14050            48          3                  2   \n",
      "\n",
      "        days_since_prior_order  \n",
      "145574                     2.0  \n",
      "223105                    30.0  \n",
      "230807                    16.0  \n",
      "266232                     0.0  \n",
      "273805                     6.0  \n",
      "284038                     7.0  \n",
      "311713                     9.0  \n",
      "321100                    18.0  \n",
      "323900                     7.0  \n",
      "345917                     0.0  \n",
      "371905                    10.0  \n",
      "394347                     2.0  \n",
      "411408                     4.0  \n",
      "415163                     2.0  \n",
      "441599                     3.0  \n"
     ]
    }
   ],
   "source": [
    "# Find duplicate rows\n",
    "duplicates_rows = orders_df[orders_df.duplicated()]\n",
    "print(\"Duplicate Rows:\")\n",
    "print(duplicates_rows)"
   ]
  },
  {
   "cell_type": "code",
   "execution_count": 96,
   "id": "d976c169",
   "metadata": {},
   "outputs": [
    {
     "name": "stdout",
     "output_type": "stream",
     "text": [
      "Duplicate Rows Based on Specific Columns:\n",
      "        order_id  user_id  order_number  order_dow  order_hour_of_day  \\\n",
      "6        2511640   148233            40          3                  8   \n",
      "9         446014    15356             2          4                  8   \n",
      "10       1162566    43738            33          4                 11   \n",
      "12       2276302   190167            21          1                 12   \n",
      "14       2843219    74699             4          6                 11   \n",
      "...          ...      ...           ...        ...                ...   \n",
      "478962   3210681     5617             5          1                 14   \n",
      "478963   3270802   112087             2          3                 13   \n",
      "478964    885349    82944            16          2                 11   \n",
      "478965    216274     4391             3          3                  8   \n",
      "478966   2071924     1730            18          1                 14   \n",
      "\n",
      "        days_since_prior_order  \n",
      "6                          2.0  \n",
      "9                         10.0  \n",
      "10                         2.0  \n",
      "12                         2.0  \n",
      "14                        30.0  \n",
      "...                        ...  \n",
      "478962                     7.0  \n",
      "478963                     6.0  \n",
      "478964                     6.0  \n",
      "478965                     8.0  \n",
      "478966                    15.0  \n",
      "\n",
      "[478936 rows x 6 columns]\n"
     ]
    }
   ],
   "source": [
    "# Finding duplicate rows based on specific columns\n",
    "duplicates_columns = orders_df[orders_df.duplicated(subset=['days_since_prior_order'])]\n",
    "print(\"Duplicate Rows Based on Specific Columns:\")\n",
    "print(duplicates_columns)"
   ]
  },
  {
   "cell_type": "code",
   "execution_count": 98,
   "id": "06ca3f49",
   "metadata": {},
   "outputs": [
    {
     "name": "stdout",
     "output_type": "stream",
     "text": [
      "DataFrame After Removing Duplicates:\n",
      "   order_id  user_id  order_number  order_dow  order_hour_of_day  \\\n",
      "0   1515936   183418            11          6                 13   \n",
      "1   1690866   163593             5          5                 12   \n",
      "2   1454967    39980             4          5                 19   \n",
      "3   1768857    82516            56          0                 20   \n",
      "4   3007858   196724             2          4                 12   \n",
      "\n",
      "   days_since_prior_order  \n",
      "0                    30.0  \n",
      "1                     9.0  \n",
      "2                     2.0  \n",
      "3                    10.0  \n",
      "4                    17.0  \n"
     ]
    }
   ],
   "source": [
    "# Return DataFrame with duplicate rows removed. Note: Duplicate rows can skew analyses and lead to incorrect results. \n",
    "# Removing them ensures that each order is represented only once. \n",
    "orders_df_cleaned = orders_df.drop_duplicates()\n",
    "print(\"DataFrame After Removing Duplicates:\")\n",
    "print(orders_df_cleaned.head())"
   ]
  },
  {
   "cell_type": "code",
   "execution_count": 100,
   "id": "8f51531d",
   "metadata": {},
   "outputs": [
    {
     "name": "stdout",
     "output_type": "stream",
     "text": [
      "        order_id  user_id  order_number  order_dow  order_hour_of_day  \\\n",
      "0        1515936   183418            11          6                 13   \n",
      "1        1690866   163593             5          5                 12   \n",
      "2        1454967    39980             4          5                 19   \n",
      "3        1768857    82516            56          0                 20   \n",
      "4        3007858   196724             2          4                 12   \n",
      "...          ...      ...           ...        ...                ...   \n",
      "478962   3210681     5617             5          1                 14   \n",
      "478963   3270802   112087             2          3                 13   \n",
      "478964    885349    82944            16          2                 11   \n",
      "478965    216274     4391             3          3                  8   \n",
      "478966   2071924     1730            18          1                 14   \n",
      "\n",
      "        days_since_prior_order  \n",
      "0                         30.0  \n",
      "1                          9.0  \n",
      "2                          2.0  \n",
      "3                         10.0  \n",
      "4                         17.0  \n",
      "...                        ...  \n",
      "478962                     7.0  \n",
      "478963                     6.0  \n",
      "478964                     6.0  \n",
      "478965                     8.0  \n",
      "478966                    15.0  \n",
      "\n",
      "[478952 rows x 6 columns]\n"
     ]
    }
   ],
   "source": [
    "print(orders_df_cleaned)"
   ]
  },
  {
   "cell_type": "code",
   "execution_count": 102,
   "id": "cfa06eaf",
   "metadata": {},
   "outputs": [
    {
     "data": {
      "text/html": [
       "<div>\n",
       "<style scoped>\n",
       "    .dataframe tbody tr th:only-of-type {\n",
       "        vertical-align: middle;\n",
       "    }\n",
       "\n",
       "    .dataframe tbody tr th {\n",
       "        vertical-align: top;\n",
       "    }\n",
       "\n",
       "    .dataframe thead th {\n",
       "        text-align: right;\n",
       "    }\n",
       "</style>\n",
       "<table border=\"1\" class=\"dataframe\">\n",
       "  <thead>\n",
       "    <tr style=\"text-align: right;\">\n",
       "      <th></th>\n",
       "      <th>order_id</th>\n",
       "      <th>user_id</th>\n",
       "      <th>order_number</th>\n",
       "      <th>order_dow</th>\n",
       "      <th>order_hour_of_day</th>\n",
       "      <th>days_since_prior_order</th>\n",
       "    </tr>\n",
       "  </thead>\n",
       "  <tbody>\n",
       "    <tr>\n",
       "      <th>237015</th>\n",
       "      <td>2168274</td>\n",
       "      <td>2</td>\n",
       "      <td>1</td>\n",
       "      <td>2</td>\n",
       "      <td>11</td>\n",
       "      <td>0.0</td>\n",
       "    </tr>\n",
       "    <tr>\n",
       "      <th>317143</th>\n",
       "      <td>738281</td>\n",
       "      <td>2</td>\n",
       "      <td>4</td>\n",
       "      <td>2</td>\n",
       "      <td>10</td>\n",
       "      <td>8.0</td>\n",
       "    </tr>\n",
       "    <tr>\n",
       "      <th>337248</th>\n",
       "      <td>2030307</td>\n",
       "      <td>4</td>\n",
       "      <td>2</td>\n",
       "      <td>4</td>\n",
       "      <td>11</td>\n",
       "      <td>19.0</td>\n",
       "    </tr>\n",
       "    <tr>\n",
       "      <th>146126</th>\n",
       "      <td>329954</td>\n",
       "      <td>4</td>\n",
       "      <td>6</td>\n",
       "      <td>3</td>\n",
       "      <td>12</td>\n",
       "      <td>30.0</td>\n",
       "    </tr>\n",
       "    <tr>\n",
       "      <th>220959</th>\n",
       "      <td>157374</td>\n",
       "      <td>5</td>\n",
       "      <td>4</td>\n",
       "      <td>1</td>\n",
       "      <td>18</td>\n",
       "      <td>19.0</td>\n",
       "    </tr>\n",
       "    <tr>\n",
       "      <th>...</th>\n",
       "      <td>...</td>\n",
       "      <td>...</td>\n",
       "      <td>...</td>\n",
       "      <td>...</td>\n",
       "      <td>...</td>\n",
       "      <td>...</td>\n",
       "    </tr>\n",
       "    <tr>\n",
       "      <th>288343</th>\n",
       "      <td>183408</td>\n",
       "      <td>206208</td>\n",
       "      <td>27</td>\n",
       "      <td>2</td>\n",
       "      <td>14</td>\n",
       "      <td>7.0</td>\n",
       "    </tr>\n",
       "    <tr>\n",
       "      <th>207730</th>\n",
       "      <td>2254244</td>\n",
       "      <td>206208</td>\n",
       "      <td>33</td>\n",
       "      <td>6</td>\n",
       "      <td>13</td>\n",
       "      <td>7.0</td>\n",
       "    </tr>\n",
       "    <tr>\n",
       "      <th>463119</th>\n",
       "      <td>2017995</td>\n",
       "      <td>206208</td>\n",
       "      <td>34</td>\n",
       "      <td>6</td>\n",
       "      <td>15</td>\n",
       "      <td>7.0</td>\n",
       "    </tr>\n",
       "    <tr>\n",
       "      <th>311845</th>\n",
       "      <td>688306</td>\n",
       "      <td>206209</td>\n",
       "      <td>4</td>\n",
       "      <td>1</td>\n",
       "      <td>10</td>\n",
       "      <td>30.0</td>\n",
       "    </tr>\n",
       "    <tr>\n",
       "      <th>476422</th>\n",
       "      <td>2977660</td>\n",
       "      <td>206209</td>\n",
       "      <td>13</td>\n",
       "      <td>1</td>\n",
       "      <td>12</td>\n",
       "      <td>7.0</td>\n",
       "    </tr>\n",
       "  </tbody>\n",
       "</table>\n",
       "<p>478952 rows × 6 columns</p>\n",
       "</div>"
      ],
      "text/plain": [
       "        order_id  user_id  order_number  order_dow  order_hour_of_day  \\\n",
       "237015   2168274        2             1          2                 11   \n",
       "317143    738281        2             4          2                 10   \n",
       "337248   2030307        4             2          4                 11   \n",
       "146126    329954        4             6          3                 12   \n",
       "220959    157374        5             4          1                 18   \n",
       "...          ...      ...           ...        ...                ...   \n",
       "288343    183408   206208            27          2                 14   \n",
       "207730   2254244   206208            33          6                 13   \n",
       "463119   2017995   206208            34          6                 15   \n",
       "311845    688306   206209             4          1                 10   \n",
       "476422   2977660   206209            13          1                 12   \n",
       "\n",
       "        days_since_prior_order  \n",
       "237015                     0.0  \n",
       "317143                     8.0  \n",
       "337248                    19.0  \n",
       "146126                    30.0  \n",
       "220959                    19.0  \n",
       "...                        ...  \n",
       "288343                     7.0  \n",
       "207730                     7.0  \n",
       "463119                     7.0  \n",
       "311845                    30.0  \n",
       "476422                     7.0  \n",
       "\n",
       "[478952 rows x 6 columns]"
      ]
     },
     "execution_count": 102,
     "metadata": {},
     "output_type": "execute_result"
    }
   ],
   "source": [
    "# Sort by 'user_id' and 'order_number'\n",
    "sorted_orders = orders_df_cleaned.sort_values(by=['user_id', 'order_number'])\n",
    "sorted_orders"
   ]
  },
  {
   "cell_type": "code",
   "execution_count": 104,
   "id": "001e8b67",
   "metadata": {},
   "outputs": [],
   "source": [
    "# Reset index (optional test)\n",
    "sorted_orders.reset_index(drop=True, inplace=True)"
   ]
  },
  {
   "cell_type": "code",
   "execution_count": 106,
   "id": "0d44de5d",
   "metadata": {},
   "outputs": [
    {
     "data": {
      "text/html": [
       "<div>\n",
       "<style scoped>\n",
       "    .dataframe tbody tr th:only-of-type {\n",
       "        vertical-align: middle;\n",
       "    }\n",
       "\n",
       "    .dataframe tbody tr th {\n",
       "        vertical-align: top;\n",
       "    }\n",
       "\n",
       "    .dataframe thead th {\n",
       "        text-align: right;\n",
       "    }\n",
       "</style>\n",
       "<table border=\"1\" class=\"dataframe\">\n",
       "  <thead>\n",
       "    <tr style=\"text-align: right;\">\n",
       "      <th></th>\n",
       "      <th>order_id</th>\n",
       "      <th>user_id</th>\n",
       "      <th>order_number</th>\n",
       "      <th>order_dow</th>\n",
       "      <th>order_hour_of_day</th>\n",
       "      <th>days_since_prior_order</th>\n",
       "    </tr>\n",
       "  </thead>\n",
       "  <tbody>\n",
       "    <tr>\n",
       "      <th>1295</th>\n",
       "      <td>1474941</td>\n",
       "      <td>115569</td>\n",
       "      <td>5</td>\n",
       "      <td>2</td>\n",
       "      <td>2</td>\n",
       "      <td>28.0</td>\n",
       "    </tr>\n",
       "    <tr>\n",
       "      <th>2391</th>\n",
       "      <td>1640269</td>\n",
       "      <td>173965</td>\n",
       "      <td>15</td>\n",
       "      <td>2</td>\n",
       "      <td>2</td>\n",
       "      <td>2.0</td>\n",
       "    </tr>\n",
       "    <tr>\n",
       "      <th>2550</th>\n",
       "      <td>1223696</td>\n",
       "      <td>55276</td>\n",
       "      <td>11</td>\n",
       "      <td>2</td>\n",
       "      <td>2</td>\n",
       "      <td>30.0</td>\n",
       "    </tr>\n",
       "    <tr>\n",
       "      <th>5965</th>\n",
       "      <td>579194</td>\n",
       "      <td>85018</td>\n",
       "      <td>14</td>\n",
       "      <td>2</td>\n",
       "      <td>2</td>\n",
       "      <td>11.0</td>\n",
       "    </tr>\n",
       "    <tr>\n",
       "      <th>17680</th>\n",
       "      <td>2004230</td>\n",
       "      <td>203121</td>\n",
       "      <td>4</td>\n",
       "      <td>2</td>\n",
       "      <td>2</td>\n",
       "      <td>8.0</td>\n",
       "    </tr>\n",
       "    <tr>\n",
       "      <th>...</th>\n",
       "      <td>...</td>\n",
       "      <td>...</td>\n",
       "      <td>...</td>\n",
       "      <td>...</td>\n",
       "      <td>...</td>\n",
       "      <td>...</td>\n",
       "    </tr>\n",
       "    <tr>\n",
       "      <th>457660</th>\n",
       "      <td>1562381</td>\n",
       "      <td>19378</td>\n",
       "      <td>5</td>\n",
       "      <td>2</td>\n",
       "      <td>2</td>\n",
       "      <td>6.0</td>\n",
       "    </tr>\n",
       "    <tr>\n",
       "      <th>460316</th>\n",
       "      <td>1986084</td>\n",
       "      <td>117453</td>\n",
       "      <td>81</td>\n",
       "      <td>2</td>\n",
       "      <td>2</td>\n",
       "      <td>8.0</td>\n",
       "    </tr>\n",
       "    <tr>\n",
       "      <th>462676</th>\n",
       "      <td>1362113</td>\n",
       "      <td>19654</td>\n",
       "      <td>20</td>\n",
       "      <td>2</td>\n",
       "      <td>2</td>\n",
       "      <td>21.0</td>\n",
       "    </tr>\n",
       "    <tr>\n",
       "      <th>472800</th>\n",
       "      <td>1746383</td>\n",
       "      <td>88484</td>\n",
       "      <td>19</td>\n",
       "      <td>2</td>\n",
       "      <td>2</td>\n",
       "      <td>5.0</td>\n",
       "    </tr>\n",
       "    <tr>\n",
       "      <th>472923</th>\n",
       "      <td>1519815</td>\n",
       "      <td>149345</td>\n",
       "      <td>1</td>\n",
       "      <td>2</td>\n",
       "      <td>2</td>\n",
       "      <td>0.0</td>\n",
       "    </tr>\n",
       "  </tbody>\n",
       "</table>\n",
       "<p>136 rows × 6 columns</p>\n",
       "</div>"
      ],
      "text/plain": [
       "        order_id  user_id  order_number  order_dow  order_hour_of_day  \\\n",
       "1295     1474941   115569             5          2                  2   \n",
       "2391     1640269   173965            15          2                  2   \n",
       "2550     1223696    55276            11          2                  2   \n",
       "5965      579194    85018            14          2                  2   \n",
       "17680    2004230   203121             4          2                  2   \n",
       "...          ...      ...           ...        ...                ...   \n",
       "457660   1562381    19378             5          2                  2   \n",
       "460316   1986084   117453            81          2                  2   \n",
       "462676   1362113    19654            20          2                  2   \n",
       "472800   1746383    88484            19          2                  2   \n",
       "472923   1519815   149345             1          2                  2   \n",
       "\n",
       "        days_since_prior_order  \n",
       "1295                      28.0  \n",
       "2391                       2.0  \n",
       "2550                      30.0  \n",
       "5965                      11.0  \n",
       "17680                      8.0  \n",
       "...                        ...  \n",
       "457660                     6.0  \n",
       "460316                     8.0  \n",
       "462676                    21.0  \n",
       "472800                     5.0  \n",
       "472923                     0.0  \n",
       "\n",
       "[136 rows x 6 columns]"
      ]
     },
     "execution_count": 106,
     "metadata": {},
     "output_type": "execute_result"
    }
   ],
   "source": [
    "# Check for all orders placed Wednesday at 2:00 AM\n",
    "# Assuming 'order_dow' is 0-based (0 = Sunday, 1 = Monday, ..., 6 = Saturday)\n",
    "# and 'order_hour_of_day' is an integer representing the hour in a 24-hour format\n",
    "# Filter for orders placed on Wednesday (day_of_week = 2) at 2:00 AM (hour = 2)\n",
    "wednesday_2am_orders = orders_df_cleaned[(orders_df_cleaned['order_dow'] == 2) & (orders_df_cleaned['order_hour_of_day'] == 2)]\n",
    "wednesday_2am_orders"
   ]
  },
  {
   "cell_type": "code",
   "execution_count": 108,
   "id": "f6113ef1",
   "metadata": {},
   "outputs": [
    {
     "name": "stdout",
     "output_type": "stream",
     "text": [
      "Number of duplicate order IDs: 0\n"
     ]
    }
   ],
   "source": [
    "# Double check for duplicate order IDs only\n",
    "duplicate_order_ids = orders_df_cleaned[orders_df_cleaned.duplicated(subset=['order_id'])]\n",
    "print(f\"Number of duplicate order IDs: {duplicate_order_ids.shape[0]}\")"
   ]
  },
  {
   "cell_type": "markdown",
   "id": "45e6bc46",
   "metadata": {},
   "source": [
    "### `PRODUCTS` data frame"
   ]
  },
  {
   "cell_type": "code",
   "execution_count": 111,
   "id": "e41935fa",
   "metadata": {},
   "outputs": [
    {
     "data": {
      "text/html": [
       "<div>\n",
       "<style scoped>\n",
       "    .dataframe tbody tr th:only-of-type {\n",
       "        vertical-align: middle;\n",
       "    }\n",
       "\n",
       "    .dataframe tbody tr th {\n",
       "        vertical-align: top;\n",
       "    }\n",
       "\n",
       "    .dataframe thead th {\n",
       "        text-align: right;\n",
       "    }\n",
       "</style>\n",
       "<table border=\"1\" class=\"dataframe\">\n",
       "  <thead>\n",
       "    <tr style=\"text-align: right;\">\n",
       "      <th></th>\n",
       "      <th>product_id</th>\n",
       "      <th>product_name</th>\n",
       "      <th>aisle_id</th>\n",
       "      <th>department_id</th>\n",
       "    </tr>\n",
       "  </thead>\n",
       "  <tbody>\n",
       "    <tr>\n",
       "      <th>43246</th>\n",
       "      <td>43247</td>\n",
       "      <td>One Mixed Berry Nutritional Shake Drink Mix</td>\n",
       "      <td>65</td>\n",
       "      <td>11</td>\n",
       "    </tr>\n",
       "    <tr>\n",
       "      <th>33874</th>\n",
       "      <td>33875</td>\n",
       "      <td>100% Colombian Medium Dark Roast Ground Coffee</td>\n",
       "      <td>26</td>\n",
       "      <td>7</td>\n",
       "    </tr>\n",
       "    <tr>\n",
       "      <th>24022</th>\n",
       "      <td>24023</td>\n",
       "      <td>Scented Wipes</td>\n",
       "      <td>56</td>\n",
       "      <td>18</td>\n",
       "    </tr>\n",
       "    <tr>\n",
       "      <th>17837</th>\n",
       "      <td>17838</td>\n",
       "      <td>Cream Top Lemon Twist</td>\n",
       "      <td>120</td>\n",
       "      <td>16</td>\n",
       "    </tr>\n",
       "    <tr>\n",
       "      <th>24952</th>\n",
       "      <td>24953</td>\n",
       "      <td>Magic Eraser All Purpose Handy Grip Refills</td>\n",
       "      <td>114</td>\n",
       "      <td>17</td>\n",
       "    </tr>\n",
       "  </tbody>\n",
       "</table>\n",
       "</div>"
      ],
      "text/plain": [
       "       product_id                                    product_name  aisle_id  \\\n",
       "43246       43247     One Mixed Berry Nutritional Shake Drink Mix        65   \n",
       "33874       33875  100% Colombian Medium Dark Roast Ground Coffee        26   \n",
       "24022       24023                                   Scented Wipes        56   \n",
       "17837       17838                           Cream Top Lemon Twist       120   \n",
       "24952       24953     Magic Eraser All Purpose Handy Grip Refills       114   \n",
       "\n",
       "       department_id  \n",
       "43246             11  \n",
       "33874              7  \n",
       "24022             18  \n",
       "17837             16  \n",
       "24952             17  "
      ]
     },
     "execution_count": 111,
     "metadata": {},
     "output_type": "execute_result"
    }
   ],
   "source": [
    "# select random subset of rows for quick data inspection and EDA \n",
    "products_df.sample(5, random_state=1369)"
   ]
  },
  {
   "cell_type": "code",
   "execution_count": 113,
   "id": "21339f64",
   "metadata": {},
   "outputs": [
    {
     "data": {
      "text/plain": [
       "product_id          0\n",
       "product_name     1258\n",
       "aisle_id            0\n",
       "department_id       0\n",
       "dtype: int64"
      ]
     },
     "execution_count": 113,
     "metadata": {},
     "output_type": "execute_result"
    }
   ],
   "source": [
    "# initial check for missing values\n",
    "products_df.isna().sum()"
   ]
  },
  {
   "cell_type": "code",
   "execution_count": 115,
   "id": "d1c50187",
   "metadata": {},
   "outputs": [
    {
     "name": "stdout",
     "output_type": "stream",
     "text": [
      "Number of missing values in 'product_name': 1258\n"
     ]
    }
   ],
   "source": [
    "missing_values = products_df['product_name'].isnull().sum()\n",
    "print(f\"Number of missing values in 'product_name': {missing_values}\")"
   ]
  },
  {
   "cell_type": "code",
   "execution_count": 117,
   "id": "4b51c4f6",
   "metadata": {},
   "outputs": [],
   "source": [
    "# for the object (string) column, 'NaN' is filled with the value 'Unknown'. Filling Missing Values\n",
    "products_df['product_name'] = products_df['product_name'].fillna('Unknown')"
   ]
  },
  {
   "cell_type": "code",
   "execution_count": 119,
   "id": "7e102e46",
   "metadata": {},
   "outputs": [],
   "source": [
    "# Dropping missing values \n",
    "products_df.dropna(subset=['product_name'], inplace=True)"
   ]
  },
  {
   "cell_type": "code",
   "execution_count": 121,
   "id": "5244abf1",
   "metadata": {},
   "outputs": [
    {
     "data": {
      "text/plain": [
       "product_name\n",
       "Unknown                                  1258\n",
       "Chocolate Sandwich Cookies                  1\n",
       "Krinkle Cut Carolina BBQ Potato Chips       1\n",
       "Fresh Ground Turkey- 85% Lean/15% Fat       1\n",
       "Organic Unsweetened Ketchup                 1\n",
       "                                         ... \n",
       "Organic Fresh Carrot Chips                  1\n",
       "Unbleached Jumbo Baking Cups                1\n",
       "Super Glue Gel Control                      1\n",
       "3 Cheese Ravioli                            1\n",
       "BURRITO- STEAK & CHEESE                     1\n",
       "Name: count, Length: 48437, dtype: int64"
      ]
     },
     "execution_count": 121,
     "metadata": {},
     "output_type": "execute_result"
    }
   ],
   "source": [
    "# index represents unique values from the 'product_name' column. This helpds understand the frequency \n",
    "# each value including 'NaN' (Not a Number) occurs in the column. \n",
    "products_df['product_name' ].value_counts(dropna=False)"
   ]
  },
  {
   "cell_type": "code",
   "execution_count": 123,
   "id": "c26557f3",
   "metadata": {},
   "outputs": [
    {
     "name": "stdout",
     "output_type": "stream",
     "text": [
      "Unique aisles: [ 61 104  94  38   5  11  98 116 120 115  31 119  74  56 103  35  79  63\n",
      "  40  20  49  47   3  41 127 121  81 123 107 131 106  69 100  64  78  83\n",
      "  58  66  87  14 105  22 134  23 111 128  50   9  96  92  89  88 130  26\n",
      "  77  65  12  95  19   7   6  97   2 112  10  51  13  75  70  93  34  62\n",
      "  21  29  45 118   4 108  37 109  91  24  67 132  25 129  46  16  52  17\n",
      "  73 122  42  59 126  33   1   8  82 114 124 117  72 110  85  44  80 101\n",
      "  84  30  27  90  48 133  53  28  68  43 125  57  15  55  36  54 102  60\n",
      "  99  18  39  71 113  86  32  76]\n",
      "Unique departments: [19 13  7  1 11 16 17 18 12  9  8 14 15  4 21  6 20  5  3  2 10]\n",
      "Unique product name: ['Chocolate Sandwich Cookies' 'All-Seasons Salt'\n",
      " 'Robust Golden Unsweetened Oolong Tea' ...\n",
      " 'ORGANIC INSTANT OATMEAL LIGHT MAPLE BROWN SUGAR'\n",
      " 'SPRING WATER BODY WASH' 'BURRITO- STEAK & CHEESE']\n"
     ]
    }
   ],
   "source": [
    "#  counts the occurrences of each unique row \n",
    "unique_aisles = products_df['aisle_id'].unique()\n",
    "unique_departments = products_df['department_id'].unique()\n",
    "unique_product_name = products_df['product_name'].unique()\n",
    "print(f\"Unique aisles: {unique_aisles}\")\n",
    "print(f\"Unique departments: {unique_departments}\")\n",
    "print(f\"Unique product name: {unique_product_name}\")"
   ]
  },
  {
   "cell_type": "code",
   "execution_count": 125,
   "id": "b9fd924f",
   "metadata": {},
   "outputs": [
    {
     "data": {
      "text/plain": [
       "product_id        int64\n",
       "product_name     object\n",
       "aisle_id          int64\n",
       "department_id     int64\n",
       "dtype: object"
      ]
     },
     "execution_count": 125,
     "metadata": {},
     "output_type": "execute_result"
    }
   ],
   "source": [
    "# ID column has data type 'int64' (integer)\n",
    "products_df.dtypes"
   ]
  },
  {
   "cell_type": "code",
   "execution_count": 127,
   "id": "5f526b5b-8175-46fa-a0fd-441767d50e64",
   "metadata": {},
   "outputs": [
    {
     "name": "stdout",
     "output_type": "stream",
     "text": [
      "Duplicate Rows:\n",
      "Empty DataFrame\n",
      "Columns: [product_id, product_name, aisle_id, department_id]\n",
      "Index: []\n"
     ]
    }
   ],
   "source": [
    "# Find duplicate rows\n",
    "product_duplicates_rows = products_df[products_df.duplicated()]\n",
    "print(\"Duplicate Rows:\")\n",
    "print(product_duplicates_rows)"
   ]
  },
  {
   "cell_type": "code",
   "execution_count": 129,
   "id": "88daa4f4",
   "metadata": {},
   "outputs": [
    {
     "name": "stdout",
     "output_type": "stream",
     "text": [
      "Duplicate Rows Based on Specific Columns:\n",
      "Empty DataFrame\n",
      "Columns: [product_id, product_name, aisle_id, department_id]\n",
      "Index: []\n"
     ]
    }
   ],
   "source": [
    "# Check for just duplicate product IDs\n",
    "duplicate_product_ids = products_df[products_df.duplicated(subset=['product_id'])]\n",
    "print(\"Duplicate Rows Based on Specific Columns:\")\n",
    "print(duplicate_product_ids)"
   ]
  },
  {
   "cell_type": "code",
   "execution_count": 131,
   "id": "c773f0bf",
   "metadata": {},
   "outputs": [
    {
     "name": "stdout",
     "output_type": "stream",
     "text": [
      "Number of duplicate product names (case-insensitive): 1361\n"
     ]
    }
   ],
   "source": [
    "# Check for just duplicate product names (convert names to lowercase to compare better)\n",
    "products_df['lowercase_product_name'] = products_df['product_name'].str.lower()\n",
    "duplicate_product_names = products_df['lowercase_product_name'].duplicated().sum()\n",
    "print(f\"Number of duplicate product names (case-insensitive): {duplicate_product_names}\")"
   ]
  },
  {
   "cell_type": "code",
   "execution_count": 133,
   "id": "01efd02e",
   "metadata": {},
   "outputs": [
    {
     "name": "stdout",
     "output_type": "stream",
     "text": [
      "Number of duplicate product names that aren't missing: 104\n"
     ]
    }
   ],
   "source": [
    "# Check for duplicate product names that aren't missing\n",
    "non_missing_product_names = products_df[products_df['product_name'] != 'Unknown']\n",
    "duplicate_non_missing_names = non_missing_product_names['lowercase_product_name'].duplicated().sum()\n",
    "print(f\"Number of duplicate product names that aren't missing: {duplicate_non_missing_names}\")"
   ]
  },
  {
   "cell_type": "code",
   "execution_count": 135,
   "id": "9f77d682",
   "metadata": {},
   "outputs": [
    {
     "name": "stdout",
     "output_type": "stream",
     "text": [
      "DataFrame After Removing Duplicates:\n",
      "   product_id                                       product_name  aisle_id  \\\n",
      "0           1                         Chocolate Sandwich Cookies        61   \n",
      "1           2                                   All-Seasons Salt       104   \n",
      "2           3               Robust Golden Unsweetened Oolong Tea        94   \n",
      "3           4  Smart Ones Classic Favorites Mini Rigatoni Wit...        38   \n",
      "4           5                          Green Chile Anytime Sauce         5   \n",
      "\n",
      "   department_id                             lowercase_product_name  \n",
      "0             19                         chocolate sandwich cookies  \n",
      "1             13                                   all-seasons salt  \n",
      "2              7               robust golden unsweetened oolong tea  \n",
      "3              1  smart ones classic favorites mini rigatoni wit...  \n",
      "4             13                          green chile anytime sauce  \n"
     ]
    }
   ],
   "source": [
    "# Return DataFrame with duplicate rows removed. Note: Duplicate rows can skew analyses and lead to incorrect results. \n",
    "# Removing them ensures that each order is represented only once. \n",
    "products_df_cleaned = products_df.drop_duplicates()\n",
    "print(\"DataFrame After Removing Duplicates:\")\n",
    "print(products_df_cleaned.head())"
   ]
  },
  {
   "cell_type": "code",
   "execution_count": 137,
   "id": "997eb61a",
   "metadata": {},
   "outputs": [
    {
     "name": "stdout",
     "output_type": "stream",
     "text": [
      "       product_id                                       product_name  \\\n",
      "0               1                         Chocolate Sandwich Cookies   \n",
      "1               2                                   All-Seasons Salt   \n",
      "2               3               Robust Golden Unsweetened Oolong Tea   \n",
      "3               4  Smart Ones Classic Favorites Mini Rigatoni Wit...   \n",
      "4               5                          Green Chile Anytime Sauce   \n",
      "...           ...                                                ...   \n",
      "49689       49690                      HIGH PERFORMANCE ENERGY DRINK   \n",
      "49690       49691                      ORIGINAL PANCAKE & WAFFLE MIX   \n",
      "49691       49692    ORGANIC INSTANT OATMEAL LIGHT MAPLE BROWN SUGAR   \n",
      "49692       49693                             SPRING WATER BODY WASH   \n",
      "49693       49694                            BURRITO- STEAK & CHEESE   \n",
      "\n",
      "       aisle_id  department_id  \\\n",
      "0            61             19   \n",
      "1           104             13   \n",
      "2            94              7   \n",
      "3            38              1   \n",
      "4             5             13   \n",
      "...         ...            ...   \n",
      "49689        64              7   \n",
      "49690       130             14   \n",
      "49691       130             14   \n",
      "49692       127             11   \n",
      "49693        38              1   \n",
      "\n",
      "                                  lowercase_product_name  \n",
      "0                             chocolate sandwich cookies  \n",
      "1                                       all-seasons salt  \n",
      "2                   robust golden unsweetened oolong tea  \n",
      "3      smart ones classic favorites mini rigatoni wit...  \n",
      "4                              green chile anytime sauce  \n",
      "...                                                  ...  \n",
      "49689                      high performance energy drink  \n",
      "49690                      original pancake & waffle mix  \n",
      "49691    organic instant oatmeal light maple brown sugar  \n",
      "49692                             spring water body wash  \n",
      "49693                            burrito- steak & cheese  \n",
      "\n",
      "[49694 rows x 5 columns]\n"
     ]
    }
   ],
   "source": [
    "print(products_df_cleaned)"
   ]
  },
  {
   "cell_type": "code",
   "execution_count": 139,
   "id": "51af2c73",
   "metadata": {},
   "outputs": [
    {
     "name": "stdout",
     "output_type": "stream",
     "text": [
      "          product_id product_name      aisle_id  department_id  \\\n",
      "count   49694.000000        49694  49694.000000   49694.000000   \n",
      "unique           NaN        48437           NaN            NaN   \n",
      "top              NaN      Unknown           NaN            NaN   \n",
      "freq             NaN         1258           NaN            NaN   \n",
      "mean    24847.500000          NaN     67.773192      11.728478   \n",
      "std     14345.566475          NaN     38.317265       5.850314   \n",
      "min         1.000000          NaN      1.000000       1.000000   \n",
      "25%     12424.250000          NaN     35.000000       7.000000   \n",
      "50%     24847.500000          NaN     69.000000      13.000000   \n",
      "75%     37270.750000          NaN    100.000000      17.000000   \n",
      "max     49694.000000          NaN    134.000000      21.000000   \n",
      "\n",
      "       lowercase_product_name  \n",
      "count                   49694  \n",
      "unique                  48333  \n",
      "top                   unknown  \n",
      "freq                     1258  \n",
      "mean                      NaN  \n",
      "std                       NaN  \n",
      "min                       NaN  \n",
      "25%                       NaN  \n",
      "50%                       NaN  \n",
      "75%                       NaN  \n",
      "max                       NaN  \n"
     ]
    }
   ],
   "source": [
    "products_summary = products_df_cleaned.describe(include='all')\n",
    "print(products_summary)"
   ]
  },
  {
   "cell_type": "markdown",
   "id": "9da8d293",
   "metadata": {},
   "source": []
  },
  {
   "cell_type": "markdown",
   "id": "60f30db1",
   "metadata": {},
   "source": [
    "### `DEPARTMENTS` data frame"
   ]
  },
  {
   "cell_type": "code",
   "execution_count": 144,
   "id": "655bac54",
   "metadata": {},
   "outputs": [
    {
     "data": {
      "text/html": [
       "<div>\n",
       "<style scoped>\n",
       "    .dataframe tbody tr th:only-of-type {\n",
       "        vertical-align: middle;\n",
       "    }\n",
       "\n",
       "    .dataframe tbody tr th {\n",
       "        vertical-align: top;\n",
       "    }\n",
       "\n",
       "    .dataframe thead th {\n",
       "        text-align: right;\n",
       "    }\n",
       "</style>\n",
       "<table border=\"1\" class=\"dataframe\">\n",
       "  <thead>\n",
       "    <tr style=\"text-align: right;\">\n",
       "      <th></th>\n",
       "      <th>department_id</th>\n",
       "      <th>department</th>\n",
       "    </tr>\n",
       "  </thead>\n",
       "  <tbody>\n",
       "    <tr>\n",
       "      <th>0</th>\n",
       "      <td>1</td>\n",
       "      <td>frozen</td>\n",
       "    </tr>\n",
       "    <tr>\n",
       "      <th>19</th>\n",
       "      <td>20</td>\n",
       "      <td>deli</td>\n",
       "    </tr>\n",
       "    <tr>\n",
       "      <th>17</th>\n",
       "      <td>18</td>\n",
       "      <td>babies</td>\n",
       "    </tr>\n",
       "    <tr>\n",
       "      <th>1</th>\n",
       "      <td>2</td>\n",
       "      <td>other</td>\n",
       "    </tr>\n",
       "    <tr>\n",
       "      <th>8</th>\n",
       "      <td>9</td>\n",
       "      <td>dry goods pasta</td>\n",
       "    </tr>\n",
       "  </tbody>\n",
       "</table>\n",
       "</div>"
      ],
      "text/plain": [
       "    department_id       department\n",
       "0               1           frozen\n",
       "19             20             deli\n",
       "17             18           babies\n",
       "1               2            other\n",
       "8               9  dry goods pasta"
      ]
     },
     "execution_count": 144,
     "metadata": {},
     "output_type": "execute_result"
    }
   ],
   "source": [
    "# select random subset of rows for quick data inspection and EDA \n",
    "dept_df.sample(5, random_state=1369)"
   ]
  },
  {
   "cell_type": "code",
   "execution_count": 146,
   "id": "ca09ea44",
   "metadata": {},
   "outputs": [
    {
     "name": "stdout",
     "output_type": "stream",
     "text": [
      "<class 'pandas.core.frame.DataFrame'>\n",
      "RangeIndex: 21 entries, 0 to 20\n",
      "Data columns (total 2 columns):\n",
      " #   Column         Non-Null Count  Dtype \n",
      "---  ------         --------------  ----- \n",
      " 0   department_id  21 non-null     int64 \n",
      " 1   department     21 non-null     object\n",
      "dtypes: int64(1), object(1)\n",
      "memory usage: 468.0+ bytes\n"
     ]
    }
   ],
   "source": [
    "# obtain summary of orders_df, including counts of non-null entries in each column. \n",
    "dept_df.info(show_counts=True)"
   ]
  },
  {
   "cell_type": "code",
   "execution_count": 148,
   "id": "8f65f09e",
   "metadata": {},
   "outputs": [
    {
     "data": {
      "text/plain": [
       "department_id    0\n",
       "department       0\n",
       "dtype: int64"
      ]
     },
     "execution_count": 148,
     "metadata": {},
     "output_type": "execute_result"
    }
   ],
   "source": [
    "# quick view to confirm how many missing values are in each column\n",
    "dept_df.isna().sum()"
   ]
  },
  {
   "cell_type": "code",
   "execution_count": 150,
   "id": "5b86cf1a",
   "metadata": {},
   "outputs": [
    {
     "data": {
      "text/plain": [
       "department_id     int64\n",
       "department       object\n",
       "dtype: object"
      ]
     },
     "execution_count": 150,
     "metadata": {},
     "output_type": "execute_result"
    }
   ],
   "source": [
    "# ID column has data type 'int64' (integer)\n",
    "dept_df.dtypes"
   ]
  },
  {
   "cell_type": "code",
   "execution_count": 152,
   "id": "fb410ad4-0fbf-4b80-bb09-23fdea79afe3",
   "metadata": {},
   "outputs": [
    {
     "name": "stdout",
     "output_type": "stream",
     "text": [
      "Empty DataFrame\n",
      "Columns: [department_id, department]\n",
      "Index: []\n"
     ]
    }
   ],
   "source": [
    "# Check for duplicate rows based on all columns\n",
    "duplicates = dept_df.duplicated()\n",
    "print(dept_df[duplicates])"
   ]
  },
  {
   "cell_type": "code",
   "execution_count": 154,
   "id": "332b12bb",
   "metadata": {},
   "outputs": [],
   "source": [
    "# Remove duplicate rows\n",
    "dept_df_cleaned = dept_df.drop_duplicates()"
   ]
  },
  {
   "cell_type": "code",
   "execution_count": 156,
   "id": "9e2e0630",
   "metadata": {},
   "outputs": [
    {
     "name": "stdout",
     "output_type": "stream",
     "text": [
      "Empty DataFrame\n",
      "Columns: [department_id, department]\n",
      "Index: []\n"
     ]
    }
   ],
   "source": [
    "# Check for duplicate department_id values\n",
    "duplicates_by_id = dept_df['department_id'].duplicated(keep=False)\n",
    "\n",
    "# Display duplicate department_ids\n",
    "print(dept_df[duplicates_by_id])"
   ]
  },
  {
   "cell_type": "markdown",
   "id": "889349c1",
   "metadata": {},
   "source": [
    "### `AISLES` dataframe"
   ]
  },
  {
   "cell_type": "code",
   "execution_count": 160,
   "id": "9fa0cab3",
   "metadata": {},
   "outputs": [
    {
     "data": {
      "text/html": [
       "<div>\n",
       "<style scoped>\n",
       "    .dataframe tbody tr th:only-of-type {\n",
       "        vertical-align: middle;\n",
       "    }\n",
       "\n",
       "    .dataframe tbody tr th {\n",
       "        vertical-align: top;\n",
       "    }\n",
       "\n",
       "    .dataframe thead th {\n",
       "        text-align: right;\n",
       "    }\n",
       "</style>\n",
       "<table border=\"1\" class=\"dataframe\">\n",
       "  <thead>\n",
       "    <tr style=\"text-align: right;\">\n",
       "      <th></th>\n",
       "      <th>aisle_id</th>\n",
       "      <th>aisle</th>\n",
       "    </tr>\n",
       "  </thead>\n",
       "  <tbody>\n",
       "    <tr>\n",
       "      <th>16</th>\n",
       "      <td>17</td>\n",
       "      <td>baking ingredients</td>\n",
       "    </tr>\n",
       "    <tr>\n",
       "      <th>41</th>\n",
       "      <td>42</td>\n",
       "      <td>frozen vegan vegetarian</td>\n",
       "    </tr>\n",
       "    <tr>\n",
       "      <th>127</th>\n",
       "      <td>128</td>\n",
       "      <td>tortillas flat bread</td>\n",
       "    </tr>\n",
       "    <tr>\n",
       "      <th>76</th>\n",
       "      <td>77</td>\n",
       "      <td>soft drinks</td>\n",
       "    </tr>\n",
       "    <tr>\n",
       "      <th>107</th>\n",
       "      <td>108</td>\n",
       "      <td>other creams cheeses</td>\n",
       "    </tr>\n",
       "  </tbody>\n",
       "</table>\n",
       "</div>"
      ],
      "text/plain": [
       "     aisle_id                    aisle\n",
       "16         17       baking ingredients\n",
       "41         42  frozen vegan vegetarian\n",
       "127       128     tortillas flat bread\n",
       "76         77              soft drinks\n",
       "107       108     other creams cheeses"
      ]
     },
     "execution_count": 160,
     "metadata": {},
     "output_type": "execute_result"
    }
   ],
   "source": [
    "# select random subset of rows for quick data inspection and EDA \n",
    "aisles_df.sample(5, random_state=1369)"
   ]
  },
  {
   "cell_type": "code",
   "execution_count": 162,
   "id": "786c75af",
   "metadata": {},
   "outputs": [
    {
     "name": "stdout",
     "output_type": "stream",
     "text": [
      "<class 'pandas.core.frame.DataFrame'>\n",
      "RangeIndex: 134 entries, 0 to 133\n",
      "Data columns (total 2 columns):\n",
      " #   Column    Non-Null Count  Dtype \n",
      "---  ------    --------------  ----- \n",
      " 0   aisle_id  134 non-null    int64 \n",
      " 1   aisle     134 non-null    object\n",
      "dtypes: int64(1), object(1)\n",
      "memory usage: 2.2+ KB\n"
     ]
    }
   ],
   "source": [
    "# obtain summary of orders_df, including counts of non-null entries in each column. \n",
    "aisles_df.info(show_counts=True)"
   ]
  },
  {
   "cell_type": "code",
   "execution_count": 164,
   "id": "15b43d08",
   "metadata": {},
   "outputs": [
    {
     "data": {
      "text/plain": [
       "aisle_id    0\n",
       "aisle       0\n",
       "dtype: int64"
      ]
     },
     "execution_count": 164,
     "metadata": {},
     "output_type": "execute_result"
    }
   ],
   "source": [
    "# quick view to confirm how many missing values are in each column\n",
    "aisles_df.isna().sum()"
   ]
  },
  {
   "cell_type": "code",
   "execution_count": 166,
   "id": "821fc400",
   "metadata": {},
   "outputs": [
    {
     "data": {
      "text/plain": [
       "aisle_id     int64\n",
       "aisle       object\n",
       "dtype: object"
      ]
     },
     "execution_count": 166,
     "metadata": {},
     "output_type": "execute_result"
    }
   ],
   "source": [
    "# ID column has data type 'int64' (integer)\n",
    "aisles_df.dtypes"
   ]
  },
  {
   "cell_type": "code",
   "execution_count": 168,
   "id": "9da89fb9-4679-40f5-ad0d-c34df753a3f8",
   "metadata": {},
   "outputs": [
    {
     "data": {
      "text/html": [
       "<div>\n",
       "<style scoped>\n",
       "    .dataframe tbody tr th:only-of-type {\n",
       "        vertical-align: middle;\n",
       "    }\n",
       "\n",
       "    .dataframe tbody tr th {\n",
       "        vertical-align: top;\n",
       "    }\n",
       "\n",
       "    .dataframe thead th {\n",
       "        text-align: right;\n",
       "    }\n",
       "</style>\n",
       "<table border=\"1\" class=\"dataframe\">\n",
       "  <thead>\n",
       "    <tr style=\"text-align: right;\">\n",
       "      <th></th>\n",
       "      <th>aisle_id</th>\n",
       "      <th>aisle</th>\n",
       "    </tr>\n",
       "  </thead>\n",
       "  <tbody>\n",
       "  </tbody>\n",
       "</table>\n",
       "</div>"
      ],
      "text/plain": [
       "Empty DataFrame\n",
       "Columns: [aisle_id, aisle]\n",
       "Index: []"
      ]
     },
     "execution_count": 168,
     "metadata": {},
     "output_type": "execute_result"
    }
   ],
   "source": [
    "# Check for duplicate rows\n",
    "duplicate_rows = aisles_df[aisles_df.duplicated()]\n",
    "duplicate_rows"
   ]
  },
  {
   "cell_type": "code",
   "execution_count": 170,
   "id": "da7c2822",
   "metadata": {},
   "outputs": [
    {
     "data": {
      "text/plain": [
       "(134, 2)"
      ]
     },
     "execution_count": 170,
     "metadata": {},
     "output_type": "execute_result"
    }
   ],
   "source": [
    "# Remove duplicate rows\n",
    "aisles_df_cleaned = aisles_df.drop_duplicates()\n",
    "aisles_df_cleaned.shape"
   ]
  },
  {
   "cell_type": "code",
   "execution_count": 172,
   "id": "9f12f3d2",
   "metadata": {},
   "outputs": [
    {
     "data": {
      "text/plain": [
       "0"
      ]
     },
     "execution_count": 172,
     "metadata": {},
     "output_type": "execute_result"
    }
   ],
   "source": [
    "aisles_df_cleaned.duplicated().sum()"
   ]
  },
  {
   "cell_type": "markdown",
   "id": "274cd06a",
   "metadata": {},
   "source": [
    "### `ORDER_PRODUCTS` DataFrame"
   ]
  },
  {
   "cell_type": "code",
   "execution_count": 175,
   "id": "e1e7bed6",
   "metadata": {},
   "outputs": [
    {
     "data": {
      "text/html": [
       "<div>\n",
       "<style scoped>\n",
       "    .dataframe tbody tr th:only-of-type {\n",
       "        vertical-align: middle;\n",
       "    }\n",
       "\n",
       "    .dataframe tbody tr th {\n",
       "        vertical-align: top;\n",
       "    }\n",
       "\n",
       "    .dataframe thead th {\n",
       "        text-align: right;\n",
       "    }\n",
       "</style>\n",
       "<table border=\"1\" class=\"dataframe\">\n",
       "  <thead>\n",
       "    <tr style=\"text-align: right;\">\n",
       "      <th></th>\n",
       "      <th>order_id</th>\n",
       "      <th>product_id</th>\n",
       "      <th>add_to_cart_order</th>\n",
       "      <th>reordered</th>\n",
       "    </tr>\n",
       "  </thead>\n",
       "  <tbody>\n",
       "    <tr>\n",
       "      <th>1244166</th>\n",
       "      <td>2533873</td>\n",
       "      <td>44560</td>\n",
       "      <td>11.0</td>\n",
       "      <td>1</td>\n",
       "    </tr>\n",
       "    <tr>\n",
       "      <th>1463143</th>\n",
       "      <td>156772</td>\n",
       "      <td>8743</td>\n",
       "      <td>8.0</td>\n",
       "      <td>1</td>\n",
       "    </tr>\n",
       "    <tr>\n",
       "      <th>1276391</th>\n",
       "      <td>1174798</td>\n",
       "      <td>15613</td>\n",
       "      <td>4.0</td>\n",
       "      <td>0</td>\n",
       "    </tr>\n",
       "    <tr>\n",
       "      <th>1564452</th>\n",
       "      <td>2225339</td>\n",
       "      <td>13870</td>\n",
       "      <td>11.0</td>\n",
       "      <td>0</td>\n",
       "    </tr>\n",
       "    <tr>\n",
       "      <th>272753</th>\n",
       "      <td>612387</td>\n",
       "      <td>47492</td>\n",
       "      <td>4.0</td>\n",
       "      <td>0</td>\n",
       "    </tr>\n",
       "  </tbody>\n",
       "</table>\n",
       "</div>"
      ],
      "text/plain": [
       "         order_id  product_id  add_to_cart_order  reordered\n",
       "1244166   2533873       44560               11.0          1\n",
       "1463143    156772        8743                8.0          1\n",
       "1276391   1174798       15613                4.0          0\n",
       "1564452   2225339       13870               11.0          0\n",
       "272753     612387       47492                4.0          0"
      ]
     },
     "execution_count": 175,
     "metadata": {},
     "output_type": "execute_result"
    }
   ],
   "source": [
    "# select random subset of rows for quick data inspection and EDA \n",
    "order_products_df.sample(5, random_state=1369)"
   ]
  },
  {
   "cell_type": "code",
   "execution_count": 177,
   "id": "c4a1214c",
   "metadata": {},
   "outputs": [
    {
     "name": "stdout",
     "output_type": "stream",
     "text": [
      "<class 'pandas.core.frame.DataFrame'>\n",
      "RangeIndex: 4545007 entries, 0 to 4545006\n",
      "Data columns (total 4 columns):\n",
      " #   Column             Non-Null Count    Dtype  \n",
      "---  ------             --------------    -----  \n",
      " 0   order_id           4545007 non-null  int64  \n",
      " 1   product_id         4545007 non-null  int64  \n",
      " 2   add_to_cart_order  4544171 non-null  float64\n",
      " 3   reordered          4545007 non-null  int64  \n",
      "dtypes: float64(1), int64(3)\n",
      "memory usage: 138.7 MB\n"
     ]
    }
   ],
   "source": [
    "# obtain summary of orders_df, including counts of non-null entries in each column. \n",
    "order_products_df.info(show_counts=True)"
   ]
  },
  {
   "cell_type": "code",
   "execution_count": 179,
   "id": "d97bb02f",
   "metadata": {},
   "outputs": [
    {
     "data": {
      "text/plain": [
       "order_id               0\n",
       "product_id             0\n",
       "add_to_cart_order    836\n",
       "reordered              0\n",
       "dtype: int64"
      ]
     },
     "execution_count": 179,
     "metadata": {},
     "output_type": "execute_result"
    }
   ],
   "source": [
    "# quick view to confirm how many missing values are in each column\n",
    "order_products_df.isna().sum()"
   ]
  },
  {
   "cell_type": "code",
   "execution_count": 181,
   "id": "8e98a18f",
   "metadata": {},
   "outputs": [
    {
     "data": {
      "text/html": [
       "<div>\n",
       "<style scoped>\n",
       "    .dataframe tbody tr th:only-of-type {\n",
       "        vertical-align: middle;\n",
       "    }\n",
       "\n",
       "    .dataframe tbody tr th {\n",
       "        vertical-align: top;\n",
       "    }\n",
       "\n",
       "    .dataframe thead th {\n",
       "        text-align: right;\n",
       "    }\n",
       "</style>\n",
       "<table border=\"1\" class=\"dataframe\">\n",
       "  <thead>\n",
       "    <tr style=\"text-align: right;\">\n",
       "      <th></th>\n",
       "      <th>order_id</th>\n",
       "      <th>product_id</th>\n",
       "      <th>add_to_cart_order</th>\n",
       "      <th>reordered</th>\n",
       "    </tr>\n",
       "  </thead>\n",
       "  <tbody>\n",
       "    <tr>\n",
       "      <th>0</th>\n",
       "      <td>2141543</td>\n",
       "      <td>11440</td>\n",
       "      <td>17</td>\n",
       "      <td>0</td>\n",
       "    </tr>\n",
       "    <tr>\n",
       "      <th>1</th>\n",
       "      <td>567889</td>\n",
       "      <td>1560</td>\n",
       "      <td>1</td>\n",
       "      <td>1</td>\n",
       "    </tr>\n",
       "    <tr>\n",
       "      <th>2</th>\n",
       "      <td>2261212</td>\n",
       "      <td>26683</td>\n",
       "      <td>1</td>\n",
       "      <td>1</td>\n",
       "    </tr>\n",
       "    <tr>\n",
       "      <th>3</th>\n",
       "      <td>491251</td>\n",
       "      <td>8670</td>\n",
       "      <td>35</td>\n",
       "      <td>1</td>\n",
       "    </tr>\n",
       "    <tr>\n",
       "      <th>4</th>\n",
       "      <td>2571142</td>\n",
       "      <td>1940</td>\n",
       "      <td>5</td>\n",
       "      <td>1</td>\n",
       "    </tr>\n",
       "    <tr>\n",
       "      <th>...</th>\n",
       "      <td>...</td>\n",
       "      <td>...</td>\n",
       "      <td>...</td>\n",
       "      <td>...</td>\n",
       "    </tr>\n",
       "    <tr>\n",
       "      <th>4545002</th>\n",
       "      <td>577211</td>\n",
       "      <td>15290</td>\n",
       "      <td>12</td>\n",
       "      <td>1</td>\n",
       "    </tr>\n",
       "    <tr>\n",
       "      <th>4545003</th>\n",
       "      <td>1219554</td>\n",
       "      <td>21914</td>\n",
       "      <td>9</td>\n",
       "      <td>0</td>\n",
       "    </tr>\n",
       "    <tr>\n",
       "      <th>4545004</th>\n",
       "      <td>692640</td>\n",
       "      <td>47766</td>\n",
       "      <td>4</td>\n",
       "      <td>1</td>\n",
       "    </tr>\n",
       "    <tr>\n",
       "      <th>4545005</th>\n",
       "      <td>319435</td>\n",
       "      <td>691</td>\n",
       "      <td>8</td>\n",
       "      <td>1</td>\n",
       "    </tr>\n",
       "    <tr>\n",
       "      <th>4545006</th>\n",
       "      <td>1398151</td>\n",
       "      <td>28733</td>\n",
       "      <td>9</td>\n",
       "      <td>0</td>\n",
       "    </tr>\n",
       "  </tbody>\n",
       "</table>\n",
       "<p>4544171 rows × 4 columns</p>\n",
       "</div>"
      ],
      "text/plain": [
       "         order_id  product_id  add_to_cart_order  reordered\n",
       "0         2141543       11440                 17          0\n",
       "1          567889        1560                  1          1\n",
       "2         2261212       26683                  1          1\n",
       "3          491251        8670                 35          1\n",
       "4         2571142        1940                  5          1\n",
       "...           ...         ...                ...        ...\n",
       "4545002    577211       15290                 12          1\n",
       "4545003   1219554       21914                  9          0\n",
       "4545004    692640       47766                  4          1\n",
       "4545005    319435         691                  8          1\n",
       "4545006   1398151       28733                  9          0\n",
       "\n",
       "[4544171 rows x 4 columns]"
      ]
     },
     "execution_count": 181,
     "metadata": {},
     "output_type": "execute_result"
    }
   ],
   "source": [
    "# address missing values in 'add_to_cart_order' \n",
    "order_products_df = order_products_df.dropna(subset=['add_to_cart_order'])\n",
    "order_products_df['add_to_cart_order'] = order_products_df['add_to_cart_order'].astype('int64')\n",
    "order_products_df"
   ]
  },
  {
   "cell_type": "code",
   "execution_count": 183,
   "id": "af2347ea",
   "metadata": {},
   "outputs": [
    {
     "data": {
      "text/plain": [
       "order_id  product_id  add_to_cart_order  reordered\n",
       "4         10054       5                  1            1\n",
       "2277733   35233       5                  1            1\n",
       "2277734   15233       4                  1            1\n",
       "          11471       2                  1            1\n",
       "          6374        3                  1            1\n",
       "                                                     ..\n",
       "1145037   26790       21                 1            1\n",
       "          27767       10                 1            1\n",
       "          32086       16                 0            1\n",
       "          33572       5                  1            1\n",
       "3421079   30136       1                  0            1\n",
       "Name: count, Length: 4544171, dtype: int64"
      ]
     },
     "execution_count": 183,
     "metadata": {},
     "output_type": "execute_result"
    }
   ],
   "source": [
    "#  counts the occurrences of each unique row \n",
    "order_products_df.value_counts()"
   ]
  },
  {
   "cell_type": "code",
   "execution_count": 184,
   "id": "51be1488",
   "metadata": {},
   "outputs": [
    {
     "name": "stdout",
     "output_type": "stream",
     "text": [
      "<class 'pandas.core.frame.DataFrame'>\n",
      "Index: 4544171 entries, 0 to 4545006\n",
      "Data columns (total 4 columns):\n",
      " #   Column             Dtype\n",
      "---  ------             -----\n",
      " 0   order_id           int64\n",
      " 1   product_id         int64\n",
      " 2   add_to_cart_order  int64\n",
      " 3   reordered          int64\n",
      "dtypes: int64(4)\n",
      "memory usage: 173.3 MB\n"
     ]
    }
   ],
   "source": [
    "order_products_df.info()"
   ]
  },
  {
   "cell_type": "code",
   "execution_count": 185,
   "id": "e9647605",
   "metadata": {},
   "outputs": [
    {
     "data": {
      "text/plain": [
       "order_id             int64\n",
       "product_id           int64\n",
       "add_to_cart_order    int64\n",
       "reordered            int64\n",
       "dtype: object"
      ]
     },
     "execution_count": 185,
     "metadata": {},
     "output_type": "execute_result"
    }
   ],
   "source": [
    "# ID column has data type 'int64' (integer)\n",
    "order_products_df.dtypes"
   ]
  },
  {
   "cell_type": "code",
   "execution_count": 186,
   "id": "52326689-84a8-4b8f-a881-7c68780f62c9",
   "metadata": {},
   "outputs": [
    {
     "name": "stdout",
     "output_type": "stream",
     "text": [
      "Number of fully duplicate rows: 0\n"
     ]
    }
   ],
   "source": [
    "# Check for fully duplicate rows\n",
    "duplicate_rows = order_products_df[order_products_df.duplicated(keep='first')]\n",
    "num_duplicates = len(duplicate_rows)\n",
    "print(f\"Number of fully duplicate rows: {num_duplicates}\")"
   ]
  },
  {
   "cell_type": "code",
   "execution_count": 191,
   "id": "7b861391",
   "metadata": {},
   "outputs": [
    {
     "name": "stdout",
     "output_type": "stream",
     "text": [
      "Number of subset duplicates (based on order_id and product_id): 0\n"
     ]
    }
   ],
   "source": [
    "# Double check for any other tricky duplicates\n",
    "# Check for duplicates based on a subset of columns\n",
    "subset_duplicates = order_products_df[order_products_df.duplicated(subset=['order_id', 'product_id'], keep='first')]\n",
    "\n",
    "# Count of subset duplicates\n",
    "num_subset_duplicates = len(subset_duplicates)\n",
    "print(f\"Number of subset duplicates (based on order_id and product_id): {num_subset_duplicates}\")\n"
   ]
  },
  {
   "cell_type": "code",
   "execution_count": 193,
   "id": "d0306e65",
   "metadata": {},
   "outputs": [
    {
     "name": "stdout",
     "output_type": "stream",
     "text": [
      "count    4.544171e+06\n",
      "mean     8.351669e+00\n",
      "std      7.080368e+00\n",
      "min      1.000000e+00\n",
      "25%      3.000000e+00\n",
      "50%      6.000000e+00\n",
      "75%      1.100000e+01\n",
      "max      6.400000e+01\n",
      "Name: add_to_cart_order, dtype: float64\n",
      "reordered\n",
      "1    2683519\n",
      "0    1860652\n",
      "Name: count, dtype: int64\n"
     ]
    }
   ],
   "source": [
    "# Check the range and unique values in add_to_cart_order and reordered\n",
    "print(order_products_df['add_to_cart_order'].describe())\n",
    "print(order_products_df['reordered'].value_counts())"
   ]
  },
  {
   "cell_type": "markdown",
   "id": "1e46de76",
   "metadata": {},
   "source": [
    "## Find and remove missing values\n"
   ]
  },
  {
   "cell_type": "markdown",
   "id": "c0aebd78",
   "metadata": {},
   "source": [
    "### `PRODUCTS` DataFrame"
   ]
  },
  {
   "cell_type": "code",
   "execution_count": 196,
   "id": "e96167bc",
   "metadata": {},
   "outputs": [
    {
     "data": {
      "text/html": [
       "<div>\n",
       "<style scoped>\n",
       "    .dataframe tbody tr th:only-of-type {\n",
       "        vertical-align: middle;\n",
       "    }\n",
       "\n",
       "    .dataframe tbody tr th {\n",
       "        vertical-align: top;\n",
       "    }\n",
       "\n",
       "    .dataframe thead th {\n",
       "        text-align: right;\n",
       "    }\n",
       "</style>\n",
       "<table border=\"1\" class=\"dataframe\">\n",
       "  <thead>\n",
       "    <tr style=\"text-align: right;\">\n",
       "      <th></th>\n",
       "      <th>product_id</th>\n",
       "      <th>product_name</th>\n",
       "      <th>aisle_id</th>\n",
       "      <th>department_id</th>\n",
       "      <th>lowercase_product_name</th>\n",
       "    </tr>\n",
       "  </thead>\n",
       "  <tbody>\n",
       "    <tr>\n",
       "      <th>37</th>\n",
       "      <td>38</td>\n",
       "      <td>Unknown</td>\n",
       "      <td>100</td>\n",
       "      <td>21</td>\n",
       "      <td>unknown</td>\n",
       "    </tr>\n",
       "    <tr>\n",
       "      <th>71</th>\n",
       "      <td>72</td>\n",
       "      <td>Unknown</td>\n",
       "      <td>100</td>\n",
       "      <td>21</td>\n",
       "      <td>unknown</td>\n",
       "    </tr>\n",
       "    <tr>\n",
       "      <th>109</th>\n",
       "      <td>110</td>\n",
       "      <td>Unknown</td>\n",
       "      <td>100</td>\n",
       "      <td>21</td>\n",
       "      <td>unknown</td>\n",
       "    </tr>\n",
       "    <tr>\n",
       "      <th>296</th>\n",
       "      <td>297</td>\n",
       "      <td>Unknown</td>\n",
       "      <td>100</td>\n",
       "      <td>21</td>\n",
       "      <td>unknown</td>\n",
       "    </tr>\n",
       "    <tr>\n",
       "      <th>416</th>\n",
       "      <td>417</td>\n",
       "      <td>Unknown</td>\n",
       "      <td>100</td>\n",
       "      <td>21</td>\n",
       "      <td>unknown</td>\n",
       "    </tr>\n",
       "    <tr>\n",
       "      <th>...</th>\n",
       "      <td>...</td>\n",
       "      <td>...</td>\n",
       "      <td>...</td>\n",
       "      <td>...</td>\n",
       "      <td>...</td>\n",
       "    </tr>\n",
       "    <tr>\n",
       "      <th>49552</th>\n",
       "      <td>49553</td>\n",
       "      <td>Unknown</td>\n",
       "      <td>100</td>\n",
       "      <td>21</td>\n",
       "      <td>unknown</td>\n",
       "    </tr>\n",
       "    <tr>\n",
       "      <th>49574</th>\n",
       "      <td>49575</td>\n",
       "      <td>Unknown</td>\n",
       "      <td>100</td>\n",
       "      <td>21</td>\n",
       "      <td>unknown</td>\n",
       "    </tr>\n",
       "    <tr>\n",
       "      <th>49640</th>\n",
       "      <td>49641</td>\n",
       "      <td>Unknown</td>\n",
       "      <td>100</td>\n",
       "      <td>21</td>\n",
       "      <td>unknown</td>\n",
       "    </tr>\n",
       "    <tr>\n",
       "      <th>49663</th>\n",
       "      <td>49664</td>\n",
       "      <td>Unknown</td>\n",
       "      <td>100</td>\n",
       "      <td>21</td>\n",
       "      <td>unknown</td>\n",
       "    </tr>\n",
       "    <tr>\n",
       "      <th>49668</th>\n",
       "      <td>49669</td>\n",
       "      <td>Unknown</td>\n",
       "      <td>100</td>\n",
       "      <td>21</td>\n",
       "      <td>unknown</td>\n",
       "    </tr>\n",
       "  </tbody>\n",
       "</table>\n",
       "<p>1258 rows × 5 columns</p>\n",
       "</div>"
      ],
      "text/plain": [
       "       product_id product_name  aisle_id  department_id lowercase_product_name\n",
       "37             38      Unknown       100             21                unknown\n",
       "71             72      Unknown       100             21                unknown\n",
       "109           110      Unknown       100             21                unknown\n",
       "296           297      Unknown       100             21                unknown\n",
       "416           417      Unknown       100             21                unknown\n",
       "...           ...          ...       ...            ...                    ...\n",
       "49552       49553      Unknown       100             21                unknown\n",
       "49574       49575      Unknown       100             21                unknown\n",
       "49640       49641      Unknown       100             21                unknown\n",
       "49663       49664      Unknown       100             21                unknown\n",
       "49668       49669      Unknown       100             21                unknown\n",
       "\n",
       "[1258 rows x 5 columns]"
      ]
     },
     "execution_count": 196,
     "metadata": {},
     "output_type": "execute_result"
    }
   ],
   "source": [
    "# Are all of the missing product names associated with aisle ID 100?\n",
    "unknown_product_names = products_df_cleaned[products_df_cleaned['product_name'] == 'Unknown']\n",
    "unknown_product_names"
   ]
  },
  {
   "cell_type": "markdown",
   "id": "5e59d4f8",
   "metadata": {},
   "source": [
    "The rows are filtered where product_name is 'Unknown'. This creates a DF that includes only the rows where 'product_name' is 'Unknown'."
   ]
  },
  {
   "cell_type": "code",
   "execution_count": 199,
   "id": "1d2137a2",
   "metadata": {},
   "outputs": [
    {
     "name": "stdout",
     "output_type": "stream",
     "text": [
      "Are all missing product names associated with aisle ID 100? False\n"
     ]
    }
   ],
   "source": [
    "#This checks if all 'aisle_id' values in the filered DF are 100.\n",
    "all_unknown_is_aisle_100 = (products_df_cleaned['aisle_id'] == 100).all()\n",
    "print(f\"Are all missing product names associated with aisle ID 100? {all_unknown_is_aisle_100}\")"
   ]
  },
  {
   "cell_type": "markdown",
   "id": "f0a4eaac",
   "metadata": {},
   "source": [
    "The output 'True', show that all missing product names are indeed associated with aisle ID 100. If the output was 'False' it means that not all of the rows with missing 'product_name' values are associated with 'aisle_id' 100.  In other words, there are some rows where 'product_name' is 'Unknown' but the aisle_id is not 100."
   ]
  },
  {
   "cell_type": "code",
   "execution_count": 202,
   "id": "0fbac298",
   "metadata": {},
   "outputs": [
    {
     "name": "stdout",
     "output_type": "stream",
     "text": [
      "Aisle IDs with missing product names:\n"
     ]
    },
    {
     "data": {
      "text/plain": [
       "aisle_id\n",
       "100    1258\n",
       "45     1246\n",
       "37     1091\n",
       "47     1038\n",
       "120    1026\n",
       "       ... \n",
       "113      47\n",
       "82       44\n",
       "32       32\n",
       "68       26\n",
       "18       12\n",
       "Name: count, Length: 134, dtype: int64"
      ]
     },
     "execution_count": 202,
     "metadata": {},
     "output_type": "execute_result"
    }
   ],
   "source": [
    "unknown_product_aisles = products_df_cleaned['aisle_id'].value_counts()\n",
    "print(\"Aisle IDs with missing product names:\")\n",
    "unknown_product_aisles"
   ]
  },
  {
   "cell_type": "markdown",
   "id": "2f700f51",
   "metadata": {},
   "source": [
    "Further invesigation shows which aisle IDs are associated with missing product names and how the distribution is across the different aisle IDs."
   ]
  },
  {
   "cell_type": "code",
   "execution_count": 205,
   "id": "8fd0a541",
   "metadata": {},
   "outputs": [
    {
     "name": "stdout",
     "output_type": "stream",
     "text": [
      "Are all missing product names associated with aisle ID 21? False\n"
     ]
    }
   ],
   "source": [
    "# Are all of the missing product names associated with department ID 21?\n",
    "all_unknown_is_aisle_21 = (products_df_cleaned['department_id'] == 21).all()\n",
    "print(f\"Are all missing product names associated with aisle ID 21? {all_unknown_is_aisle_21}\")"
   ]
  },
  {
   "cell_type": "code",
   "execution_count": 207,
   "id": "58627d49",
   "metadata": {},
   "outputs": [
    {
     "name": "stdout",
     "output_type": "stream",
     "text": [
      "Department IDs with missing product names:\n"
     ]
    },
    {
     "data": {
      "text/plain": [
       "department_id\n",
       "11    6564\n",
       "19    6264\n",
       "13    5372\n",
       "7     4366\n",
       "1     4008\n",
       "16    3449\n",
       "17    3085\n",
       "15    2092\n",
       "9     1858\n",
       "4     1684\n",
       "3     1516\n",
       "20    1322\n",
       "21    1258\n",
       "6     1139\n",
       "14    1117\n",
       "18    1081\n",
       "5     1054\n",
       "8      972\n",
       "12     907\n",
       "2      548\n",
       "10      38\n",
       "Name: count, dtype: int64"
      ]
     },
     "execution_count": 207,
     "metadata": {},
     "output_type": "execute_result"
    }
   ],
   "source": [
    "#Get the department IDs where product_name is 'Unknown'\n",
    "unknown_product_departments = products_df_cleaned['department_id'].value_counts()\n",
    "print(\"Department IDs with missing product names:\")\n",
    "unknown_product_departments"
   ]
  },
  {
   "cell_type": "code",
   "execution_count": 209,
   "id": "325c3464",
   "metadata": {},
   "outputs": [
    {
     "name": "stdout",
     "output_type": "stream",
     "text": [
      "Unique aisle IDs associated with missing product names:\n",
      "[ 61 104  94  38   5  11  98 116 120 115  31 119  74  56 103  35  79  63\n",
      "  40  20  49  47   3  41 127 121  81 123 107 131 106  69 100  64  78  83\n",
      "  58  66  87  14 105  22 134  23 111 128  50   9  96  92  89  88 130  26\n",
      "  77  65  12  95  19   7   6  97   2 112  10  51  13  75  70  93  34  62\n",
      "  21  29  45 118   4 108  37 109  91  24  67 132  25 129  46  16  52  17\n",
      "  73 122  42  59 126  33   1   8  82 114 124 117  72 110  85  44  80 101\n",
      "  84  30  27  90  48 133  53  28  68  43 125  57  15  55  36  54 102  60\n",
      "  99  18  39  71 113  86  32  76]\n"
     ]
    }
   ],
   "source": [
    "# What is this aisle and department?\n",
    "# Find unique aisle_ids associated with missing product names\n",
    "unique_aisle_ids = products_df_cleaned['aisle_id'].unique()\n",
    "print(\"Unique aisle IDs associated with missing product names:\")\n",
    "print(unique_aisle_ids)"
   ]
  },
  {
   "cell_type": "code",
   "execution_count": 211,
   "id": "0c7465e7",
   "metadata": {},
   "outputs": [
    {
     "name": "stdout",
     "output_type": "stream",
     "text": [
      "Aisles associates with missing product names:\n",
      "     aisle_id                       aisle\n",
      "0           1       prepared soups salads\n",
      "1           2           specialty cheeses\n",
      "2           3         energy granola bars\n",
      "3           4               instant foods\n",
      "4           5  marinades meat preparation\n",
      "..        ...                         ...\n",
      "129       130    hot cereal pancake mixes\n",
      "130       131                   dry pasta\n",
      "131       132                      beauty\n",
      "132       133  muscles joints pain relief\n",
      "133       134  specialty wines champagnes\n",
      "\n",
      "[134 rows x 2 columns]\n"
     ]
    }
   ],
   "source": [
    "aisle_info = aisles_df[aisles_df['aisle_id'].isin(unique_aisle_ids)]\n",
    "print(\"Aisles associates with missing product names:\")\n",
    "print(aisle_info)"
   ]
  },
  {
   "cell_type": "code",
   "execution_count": 213,
   "id": "955f9ff5",
   "metadata": {},
   "outputs": [
    {
     "name": "stdout",
     "output_type": "stream",
     "text": [
      "Unique department IDs associated with missing product names:\n",
      "[19 13  7  1 11 16 17 18 12  9  8 14 15  4 21  6 20  5  3  2 10]\n"
     ]
    }
   ],
   "source": [
    "# Find unique department_ids associated with missing product names\n",
    "unique_department_ids = products_df_cleaned['department_id'].unique()\n",
    "print(\"Unique department IDs associated with missing product names:\")\n",
    "print(unique_department_ids)"
   ]
  },
  {
   "cell_type": "code",
   "execution_count": 215,
   "id": "6b295120",
   "metadata": {},
   "outputs": [],
   "source": [
    "# Fill missing product names with 'Unknown'\n",
    "# products_df['product_name'] = products_df['product_name'].fillna('Unknown')"
   ]
  },
  {
   "cell_type": "code",
   "execution_count": 217,
   "id": "a535bea0",
   "metadata": {},
   "outputs": [
    {
     "name": "stdout",
     "output_type": "stream",
     "text": [
      "Details of products with missing names:\n",
      "       product_id product_name  aisle_id  department_id lowercase_product_name\n",
      "37             38      Unknown       100             21                unknown\n",
      "71             72      Unknown       100             21                unknown\n",
      "109           110      Unknown       100             21                unknown\n",
      "296           297      Unknown       100             21                unknown\n",
      "416           417      Unknown       100             21                unknown\n",
      "...           ...          ...       ...            ...                    ...\n",
      "49552       49553      Unknown       100             21                unknown\n",
      "49574       49575      Unknown       100             21                unknown\n",
      "49640       49641      Unknown       100             21                unknown\n",
      "49663       49664      Unknown       100             21                unknown\n",
      "49668       49669      Unknown       100             21                unknown\n",
      "\n",
      "[1258 rows x 5 columns]\n"
     ]
    }
   ],
   "source": [
    "# Display details of products with missing names\n",
    "missing_name_products = products_df_cleaned[products_df_cleaned['product_name'] == 'Unknown']\n",
    "print(\"Details of products with missing names:\")\n",
    "print(missing_name_products)"
   ]
  },
  {
   "cell_type": "code",
   "execution_count": 219,
   "id": "9701f2e5",
   "metadata": {},
   "outputs": [
    {
     "name": "stdout",
     "output_type": "stream",
     "text": [
      "Count of missing product names by aisle:\n",
      "aisle_id\n",
      "100    1258\n",
      "Name: count, dtype: int64\n",
      "\n",
      "Count of missing product names by department:\n",
      "department_id\n",
      "21    1258\n",
      "Name: count, dtype: int64\n"
     ]
    }
   ],
   "source": [
    "aisle_counts = missing_name_products['aisle_id'].value_counts()\n",
    "department_counts = missing_name_products['department_id'].value_counts()\n",
    "print(f\"Count of missing product names by aisle:\")\n",
    "print(aisle_counts)\n",
    "print(\"\\nCount of missing product names by department:\")\n",
    "print(department_counts)"
   ]
  },
  {
   "cell_type": "markdown",
   "id": "fc70e5ad",
   "metadata": {},
   "source": []
  },
  {
   "cell_type": "code",
   "execution_count": 222,
   "id": "de645fb2",
   "metadata": {},
   "outputs": [
    {
     "name": "stdout",
     "output_type": "stream",
     "text": [
      "Summary statistics for missing product names:\n",
      "          product_id product_name  aisle_id  department_id  \\\n",
      "count    1258.000000         1258    1258.0         1258.0   \n",
      "unique           NaN            1       NaN            NaN   \n",
      "top              NaN      Unknown       NaN            NaN   \n",
      "freq             NaN         1258       NaN            NaN   \n",
      "mean    25203.929253          NaN     100.0           21.0   \n",
      "std     14292.033509          NaN       0.0            0.0   \n",
      "min        38.000000          NaN     100.0           21.0   \n",
      "25%     12385.000000          NaN     100.0           21.0   \n",
      "50%     25224.000000          NaN     100.0           21.0   \n",
      "75%     38023.750000          NaN     100.0           21.0   \n",
      "max     49669.000000          NaN     100.0           21.0   \n",
      "\n",
      "       lowercase_product_name  \n",
      "count                    1258  \n",
      "unique                      1  \n",
      "top                   unknown  \n",
      "freq                     1258  \n",
      "mean                      NaN  \n",
      "std                       NaN  \n",
      "min                       NaN  \n",
      "25%                       NaN  \n",
      "50%                       NaN  \n",
      "75%                       NaN  \n",
      "max                       NaN  \n"
     ]
    }
   ],
   "source": [
    "print(\"Summary statistics for missing product names:\")\n",
    "print(missing_name_products.describe(include='all'))"
   ]
  },
  {
   "cell_type": "markdown",
   "id": "7eb45c86",
   "metadata": {},
   "source": [
    "### `ORDERS` DataFrame"
   ]
  },
  {
   "cell_type": "code",
   "execution_count": 225,
   "id": "93e41d96",
   "metadata": {},
   "outputs": [],
   "source": [
    "# Sort by user_id and order_number to determine the first order for each customer\n",
    "orders_df_sorted = orders_df.sort_values(by=['user_id', 'order_number'])\n",
    "orders_df_sorted['is_first_order'] = orders_df_sorted.groupby('user_id').cumcount() == 0"
   ]
  },
  {
   "cell_type": "code",
   "execution_count": 228,
   "id": "166e5a86",
   "metadata": {},
   "outputs": [
    {
     "name": "stdout",
     "output_type": "stream",
     "text": [
      "Number of missing values in 'days_since_prior_order' where it is not the customer's first order: 0\n"
     ]
    }
   ],
   "source": [
    "# Are there any missing values where it's not a customer's first order?\n",
    "# Filter for non-first orders\n",
    "non_first_orders = orders_df_sorted[~orders_df_sorted['is_first_order']]\n",
    "\n",
    "# Check for missing values in 'days_since_prior_order'\n",
    "missing_in_non_first_orders = non_first_orders['days_since_prior_order'].isna().sum()\n",
    "print(f\"Number of missing values in 'days_since_prior_order' where it is not the customer's first order: {missing_in_non_first_orders}\")"
   ]
  },
  {
   "cell_type": "markdown",
   "id": "69dc9ca4",
   "metadata": {},
   "source": [
    "### `ORDER_PRODUCTS` DataFrame"
   ]
  },
  {
   "cell_type": "code",
   "execution_count": 231,
   "id": "9a78e5ee",
   "metadata": {},
   "outputs": [
    {
     "name": "stdout",
     "output_type": "stream",
     "text": [
      "Minimum value in 'add_to_cart_order': 1\n",
      "Maximum value in 'add_to_cart_order': 64\n"
     ]
    }
   ],
   "source": [
    "# What are the min and max values in this column?\n",
    "min_value = order_products_df['add_to_cart_order'].min()\n",
    "max_value = order_products_df['add_to_cart_order'].max()\n",
    "print(f\"Minimum value in 'add_to_cart_order': {min_value}\")\n",
    "print(f\"Maximum value in 'add_to_cart_order': {max_value}\")"
   ]
  },
  {
   "cell_type": "code",
   "execution_count": 233,
   "id": "ab9d0c2b",
   "metadata": {},
   "outputs": [
    {
     "data": {
      "text/html": [
       "<div>\n",
       "<style scoped>\n",
       "    .dataframe tbody tr th:only-of-type {\n",
       "        vertical-align: middle;\n",
       "    }\n",
       "\n",
       "    .dataframe tbody tr th {\n",
       "        vertical-align: top;\n",
       "    }\n",
       "\n",
       "    .dataframe thead th {\n",
       "        text-align: right;\n",
       "    }\n",
       "</style>\n",
       "<table border=\"1\" class=\"dataframe\">\n",
       "  <thead>\n",
       "    <tr style=\"text-align: right;\">\n",
       "      <th></th>\n",
       "      <th>order_id</th>\n",
       "      <th>product_id</th>\n",
       "      <th>add_to_cart_order</th>\n",
       "      <th>reordered</th>\n",
       "    </tr>\n",
       "  </thead>\n",
       "  <tbody>\n",
       "  </tbody>\n",
       "</table>\n",
       "</div>"
      ],
      "text/plain": [
       "Empty DataFrame\n",
       "Columns: [order_id, product_id, add_to_cart_order, reordered]\n",
       "Index: []"
      ]
     },
     "execution_count": 233,
     "metadata": {},
     "output_type": "execute_result"
    }
   ],
   "source": [
    "# Save all order IDs with at least one missing value in 'add_to_cart_order'\n",
    "# First, idenitfy orders with missing 'add_to_cart_order' values\n",
    "orders_with_missing_values = order_products_df[order_products_df['add_to_cart_order'].isna()]\n",
    "orders_with_missing_values"
   ]
  },
  {
   "cell_type": "code",
   "execution_count": 235,
   "id": "acf70009",
   "metadata": {},
   "outputs": [
    {
     "data": {
      "text/plain": [
       "array([], dtype=int64)"
      ]
     },
     "execution_count": 235,
     "metadata": {},
     "output_type": "execute_result"
    }
   ],
   "source": [
    "#Second, extract unique 'order_id' values\n",
    "unique_order_ids_with_missing = orders_with_missing_values['order_id'].unique()\n",
    "unique_order_ids_with_missing"
   ]
  },
  {
   "cell_type": "code",
   "execution_count": 237,
   "id": "54c31695",
   "metadata": {},
   "outputs": [
    {
     "name": "stdout",
     "output_type": "stream",
     "text": [
      "Do all orders with missing values have more than 64 products? True\n"
     ]
    }
   ],
   "source": [
    "# Do all orders with missing values have more than 64 products?\n",
    "order_counts = orders_with_missing_values.groupby('order_id').size()\n",
    "orders_with_more_than_64_products = order_counts[order_counts > 64]\n",
    "all_orders_with_missing_values_have_more_than_64 = len(orders_with_more_than_64_products) == len(order_counts)\n",
    "print(f\"Do all orders with missing values have more than 64 products? {all_orders_with_missing_values_have_more_than_64}\")"
   ]
  },
  {
   "cell_type": "code",
   "execution_count": 241,
   "id": "7a987d08",
   "metadata": {},
   "outputs": [
    {
     "name": "stdout",
     "output_type": "stream",
     "text": [
      "Int64\n",
      "count    4544171.0\n",
      "mean      8.351669\n",
      "std       7.080368\n",
      "min            1.0\n",
      "25%            3.0\n",
      "50%            6.0\n",
      "75%           11.0\n",
      "max           64.0\n",
      "Name: add_to_cart_order, dtype: Float64\n"
     ]
    }
   ],
   "source": [
    "# Replace missing values with 999 and convert column to integer type\n",
    "order_products_df['add_to_cart_order'] = order_products_df['add_to_cart_order'].fillna(999)\n",
    "order_products_df['add_to_cart_order'] = order_products_df['add_to_cart_order'].astype('Int64', errors='ignore')\n",
    "\n",
    "# Check dtype and summary\n",
    "print(order_products_df['add_to_cart_order'].dtype)\n",
    "print(order_products_df['add_to_cart_order'].describe())\n"
   ]
  },
  {
   "cell_type": "markdown",
   "id": "short-capability",
   "metadata": {},
   "source": [
    "### Verify that the `'order_hour_of_day'` and `'order_dow'` values in the `orders` tables are sensible (i.e. `'order_hour_of_day'` ranges from 0 to 23 and `'order_dow'` ranges from 0 to 6)"
   ]
  },
  {
   "cell_type": "code",
   "execution_count": 244,
   "id": "d115ab21",
   "metadata": {},
   "outputs": [
    {
     "name": "stdout",
     "output_type": "stream",
     "text": [
      "Are all 'order_hour_of_day' values within the range 0 to 23?\n",
      "True\n"
     ]
    }
   ],
   "source": [
    "# Verify if all 'order_hour_of_day' values are within the range 0 to 23\n",
    "valid_hours = (orders_df['order_hour_of_day'] >= 0) & (orders_df['order_hour_of_day'] <= 23)\n",
    "all_valid = valid_hours.all()\n",
    "\n",
    "print(\"Are all 'order_hour_of_day' values within the range 0 to 23?\")\n",
    "print(all_valid)"
   ]
  },
  {
   "cell_type": "code",
   "execution_count": 246,
   "id": "4681e9de",
   "metadata": {
    "scrolled": true
   },
   "outputs": [
    {
     "name": "stdout",
     "output_type": "stream",
     "text": [
      "Are all 'order_dow' values within the range 0 to 6?\n",
      "True\n"
     ]
    }
   ],
   "source": [
    "# Verify if all 'order_dow' values are within the range 0 to 6\n",
    "valid_dow = (orders_df['order_dow'] >= 0) & (orders_df['order_dow'] <= 6)\n",
    "all_valid = valid_dow.all()\n",
    "\n",
    "print(\"Are all 'order_dow' values within the range 0 to 6?\")\n",
    "print(all_valid) "
   ]
  },
  {
   "cell_type": "code",
   "execution_count": 248,
   "id": "e9317c46",
   "metadata": {},
   "outputs": [
    {
     "name": "stdout",
     "output_type": "stream",
     "text": [
      "Invalid 'order_dow' values:\n",
      "Empty DataFrame\n",
      "Columns: [order_id, user_id, order_number, order_dow, order_hour_of_day, days_since_prior_order]\n",
      "Index: []\n"
     ]
    }
   ],
   "source": [
    "# Find rows where 'order_dow' is outside the range 0 to 6\n",
    "invalid_values = orders_df[~valid_dow]\n",
    "\n",
    "print(\"Invalid 'order_dow' values:\")\n",
    "print(invalid_values)"
   ]
  },
  {
   "cell_type": "code",
   "execution_count": 250,
   "id": "6cf9ef4f",
   "metadata": {},
   "outputs": [
    {
     "name": "stdout",
     "output_type": "stream",
     "text": [
      "Current data type of 'order_hour_of_day': int64\n"
     ]
    }
   ],
   "source": [
    "# Check the data type of 'order_hour_of_day'\n",
    "print(\"Current data type of 'order_hour_of_day':\", orders_df['order_hour_of_day'].dtype)"
   ]
  },
  {
   "cell_type": "code",
   "execution_count": 252,
   "id": "1f1cf1eb",
   "metadata": {},
   "outputs": [
    {
     "name": "stdout",
     "output_type": "stream",
     "text": [
      "Data after conversion:\n",
      "        order_id  user_id  order_number  order_dow   order_hour_of_day  \\\n",
      "0        1515936   183418            11          6 2024-01-01 13:00:00   \n",
      "1        1690866   163593             5          5 2024-01-01 12:00:00   \n",
      "2        1454967    39980             4          5 2024-01-01 19:00:00   \n",
      "3        1768857    82516            56          0 2024-01-01 20:00:00   \n",
      "4        3007858   196724             2          4 2024-01-01 12:00:00   \n",
      "...          ...      ...           ...        ...                 ...   \n",
      "478962   3210681     5617             5          1 2024-01-01 14:00:00   \n",
      "478963   3270802   112087             2          3 2024-01-01 13:00:00   \n",
      "478964    885349    82944            16          2 2024-01-01 11:00:00   \n",
      "478965    216274     4391             3          3 2024-01-01 08:00:00   \n",
      "478966   2071924     1730            18          1 2024-01-01 14:00:00   \n",
      "\n",
      "        days_since_prior_order  \n",
      "0                         30.0  \n",
      "1                          9.0  \n",
      "2                          2.0  \n",
      "3                         10.0  \n",
      "4                         17.0  \n",
      "...                        ...  \n",
      "478962                     7.0  \n",
      "478963                     6.0  \n",
      "478964                     6.0  \n",
      "478965                     8.0  \n",
      "478966                    15.0  \n",
      "\n",
      "[478967 rows x 6 columns]\n"
     ]
    }
   ],
   "source": [
    "# Convert 'order_hour_of_day' to datetime if not already in datetime format\n",
    "fixed_date = '2024-01-01'\n",
    "orders_df['order_hour_of_day'] = pd.to_datetime(fixed_date + ' ' + orders_df['order_hour_of_day'].astype(str) + ':00:00', format='%Y-%m-%d %H:%M:%S')\n",
    "\n",
    "print(\"Data after conversion:\")\n",
    "print(orders_df)"
   ]
  },
  {
   "cell_type": "code",
   "execution_count": 254,
   "id": "8346e0d1",
   "metadata": {},
   "outputs": [],
   "source": [
    "# Extract the hour from 'order_hour_of_day' for inspection\n",
    "orders_df['order_hour'] = orders_df['order_hour_of_day'].dt.hour"
   ]
  },
  {
   "cell_type": "code",
   "execution_count": 256,
   "id": "31ba0722",
   "metadata": {},
   "outputs": [
    {
     "name": "stdout",
     "output_type": "stream",
     "text": [
      "Unique values in 'order_hour_of_day': <DatetimeArray>\n",
      "['2024-01-01 13:00:00', '2024-01-01 12:00:00', '2024-01-01 19:00:00',\n",
      " '2024-01-01 20:00:00', '2024-01-01 11:00:00', '2024-01-01 08:00:00',\n",
      " '2024-01-01 18:00:00', '2024-01-01 15:00:00', '2024-01-01 16:00:00',\n",
      " '2024-01-01 09:00:00', '2024-01-01 22:00:00', '2024-01-01 10:00:00',\n",
      " '2024-01-01 00:00:00', '2024-01-01 14:00:00', '2024-01-01 17:00:00',\n",
      " '2024-01-01 01:00:00', '2024-01-01 07:00:00', '2024-01-01 06:00:00',\n",
      " '2024-01-01 02:00:00', '2024-01-01 21:00:00', '2024-01-01 03:00:00',\n",
      " '2024-01-01 23:00:00', '2024-01-01 05:00:00', '2024-01-01 04:00:00']\n",
      "Length: 24, dtype: datetime64[ns]\n"
     ]
    }
   ],
   "source": [
    "# Check unique values in 'order_hour_of_day'\n",
    "unique_hours = orders_df['order_hour_of_day'].unique()\n",
    "print(f\"Unique values in 'order_hour_of_day': {unique_hours}\")"
   ]
  },
  {
   "cell_type": "code",
   "execution_count": 258,
   "id": "948bad30",
   "metadata": {},
   "outputs": [
    {
     "name": "stdout",
     "output_type": "stream",
     "text": [
      "Minimum hour value: 0\n",
      "Maximum hour value: 23\n"
     ]
    }
   ],
   "source": [
    "# Find the minimum and maximum hour values\n",
    "min_hour = orders_df['order_hour'].min()\n",
    "max_hour = orders_df['order_hour'].max()\n",
    "\n",
    "print(f\"Minimum hour value: {min_hour}\")\n",
    "print(f\"Maximum hour value: {max_hour}\")"
   ]
  },
  {
   "cell_type": "code",
   "execution_count": 260,
   "id": "117f522f",
   "metadata": {},
   "outputs": [
    {
     "name": "stdout",
     "output_type": "stream",
     "text": [
      "All hours are within the valid range 0 to 23.\n"
     ]
    }
   ],
   "source": [
    "# Check for valid range\n",
    "# Check if min_hour or max_hour are outside the valid range\n",
    "if min_hour < 0 or max_hour > 23:\n",
    "    print(\"Warning: 'order_hour_of_day' contains values outside the range 0 to 23.\")\n",
    "else:\n",
    "    print(\"All hours are within the valid range 0 to 23.\")"
   ]
  },
  {
   "cell_type": "markdown",
   "id": "a6743a70",
   "metadata": {},
   "source": [
    "### What time of day do people shop for groceries?"
   ]
  },
  {
   "cell_type": "code",
   "execution_count": 263,
   "id": "5a51e764",
   "metadata": {},
   "outputs": [],
   "source": [
    "import matplotlib.pyplot as plt"
   ]
  },
  {
   "cell_type": "code",
   "execution_count": 264,
   "id": "a36cca27",
   "metadata": {},
   "outputs": [
    {
     "name": "stdout",
     "output_type": "stream",
     "text": [
      "Number of orders by hour of the day:\n",
      "order_hour_of_day\n",
      "2024-01-01 00:00:00     3180\n",
      "2024-01-01 01:00:00     1763\n",
      "2024-01-01 02:00:00     1004\n",
      "2024-01-01 03:00:00      770\n",
      "2024-01-01 04:00:00      765\n",
      "2024-01-01 05:00:00     1371\n",
      "2024-01-01 06:00:00     4215\n",
      "2024-01-01 07:00:00    13043\n",
      "2024-01-01 08:00:00    25024\n",
      "2024-01-01 09:00:00    35896\n",
      "2024-01-01 10:00:00    40578\n",
      "2024-01-01 11:00:00    40032\n",
      "2024-01-01 12:00:00    38034\n",
      "2024-01-01 13:00:00    39007\n",
      "2024-01-01 14:00:00    39631\n",
      "2024-01-01 15:00:00    39789\n",
      "2024-01-01 16:00:00    38112\n",
      "2024-01-01 17:00:00    31930\n",
      "2024-01-01 18:00:00    25510\n",
      "2024-01-01 19:00:00    19547\n",
      "2024-01-01 20:00:00    14624\n",
      "2024-01-01 21:00:00    11019\n",
      "2024-01-01 22:00:00     8512\n",
      "2024-01-01 23:00:00     5611\n",
      "Name: count, dtype: int64\n"
     ]
    }
   ],
   "source": [
    "# Count the number of orders placed in each hour\n",
    "hourly_counts = orders_df['order_hour_of_day'].value_counts().sort_index()\n",
    "print(\"Number of orders by hour of the day:\")\n",
    "print(hourly_counts)"
   ]
  },
  {
   "cell_type": "code",
   "execution_count": 269,
   "id": "2b2d3155",
   "metadata": {},
   "outputs": [
    {
     "data": {
      "image/png": "[encoded data removed]",
      "text/plain": [
       "<Figure size 1000x600 with 1 Axes>"
      ]
     },
     "metadata": {},
     "output_type": "display_data"
    }
   ],
   "source": [
    "# Plot the number of orders by hour of the day\n",
    "plt.figure(figsize=(10, 6))\n",
    "hourly_counts.plot(kind='bar', color='skyblue')\n",
    "plt.title('Number of Orders by Hour of the Day')\n",
    "plt.xlabel('Hour of Day')\n",
    "plt.ylabel('Number of Orders')\n",
    "plt.xticks(range(24), [f\"{hour}:00\" for hour in range(24)], rotation=45)\n",
    "plt.grid(axis='y', linestyle='--', alpha=0.7)\n",
    "plt.show()"
   ]
  },
  {
   "cell_type": "markdown",
   "id": "f2d36ef7",
   "metadata": {},
   "source": [
    "*POSSIBLE INSIGHTS*: \n",
    "\n",
    "**Peak Shopping Hours**: Orders peak between 6 PM and 10 PM, this identifies the a high shopping period. \n",
    "\n",
    "**Off-Peak Hours**: Hours with the lowest order counts might indicate times when people are less likely to shop for groceries. "
   ]
  },
  {
   "cell_type": "markdown",
   "id": "documented-command",
   "metadata": {},
   "source": [
    "### What day of the week do people shop for groceries?"
   ]
  },
  {
   "cell_type": "code",
   "execution_count": 272,
   "id": "chief-digit",
   "metadata": {},
   "outputs": [
    {
     "name": "stdout",
     "output_type": "stream",
     "text": [
      "Number of orders by day of the week:\n",
      "day_name\n",
      "Friday       63488\n",
      "Monday       82185\n",
      "Saturday     62649\n",
      "Sunday       84090\n",
      "Thursday     59810\n",
      "Tuesday      65833\n",
      "Wednesday    60912\n",
      "Name: count, dtype: int64\n"
     ]
    },
    {
     "data": {
      "image/png": "[encoded data removed]",
      "text/plain": [
       "<Figure size 1000x600 with 1 Axes>"
      ]
     },
     "metadata": {},
     "output_type": "display_data"
    }
   ],
   "source": [
    "# Map days of the week to names\n",
    "day_names = {\n",
    "    0: 'Sunday', \n",
    "    1: 'Monday', \n",
    "    2: 'Tuesday', \n",
    "    3: 'Wednesday', \n",
    "    4: 'Thursday', \n",
    "    5: 'Friday', \n",
    "    6: 'Saturday'\n",
    "}\n",
    "orders_df['day_name'] = orders_df['order_dow'].map(day_names)\n",
    "# Count the number of orders placed on each day of the week\n",
    "day_counts = orders_df['day_name'].value_counts().sort_index()\n",
    "print(\"Number of orders by day of the week:\")\n",
    "print(day_counts)\n",
    "\n",
    "\n",
    "plt.figure(figsize=(10, 6))\n",
    "day_counts.plot(kind='bar', color='lightcoral')\n",
    "plt.title('Number of Orders by Day of the Week')\n",
    "plt.xlabel('Day of the Week')\n",
    "plt.ylabel('Number of Orders')\n",
    "plt.xticks(rotation=45)\n",
    "plt.grid(axis='y', linestyle='--', alpha=0.7)\n",
    "plt.show()"
   ]
  },
  {
   "cell_type": "markdown",
   "id": "2a312311",
   "metadata": {},
   "source": [
    "*POSSIBLE INSIGHTS*: \n",
    "\n",
    "**Peak Shopping Days**: Monday and Sunday have the highest counts, which indicates these are popular shopping days. \n",
    "\n",
    "**Less Busy Days**: Thursday and Wednesday indicate orders might be less popular for shopping. "
   ]
  },
  {
   "cell_type": "markdown",
   "id": "cutting-concert",
   "metadata": {},
   "source": [
    "### How long do people wait until placing another order?"
   ]
  },
  {
   "cell_type": "code",
   "execution_count": 275,
   "id": "c231f523",
   "metadata": {},
   "outputs": [
    {
     "name": "stdout",
     "output_type": "stream",
     "text": [
      "Missing values in 'days_since_prior_order': 0\n",
      "\n",
      "Basic statistics for 'days_since_prior_order':\n",
      "count    478967.000000\n",
      "mean         10.433769\n",
      "std           9.292125\n",
      "min           0.000000\n",
      "25%           4.000000\n",
      "50%           7.000000\n",
      "75%          15.000000\n",
      "max          30.000000\n",
      "Name: days_since_prior_order, dtype: float64\n"
     ]
    },
    {
     "data": {
      "image/png": "[encoded data removed]",
      "text/plain": [
       "<Figure size 1200x600 with 1 Axes>"
      ]
     },
     "metadata": {},
     "output_type": "display_data"
    }
   ],
   "source": [
    "# Check for missing values in 'days_since_prior_order'\n",
    "print(\"Missing values in 'days_since_prior_order':\", orders_df['days_since_prior_order'].isna().sum())\n",
    "\n",
    "# Convert 'days_since_prior_order' to numeric if not already\n",
    "orders_df['days_since_prior_order'] = pd.to_numeric(orders_df['days_since_prior_order'], errors='coerce')\n",
    "\n",
    "# Basic statistics\n",
    "print(\"\\nBasic statistics for 'days_since_prior_order':\")\n",
    "print(orders_df['days_since_prior_order'].describe())\n",
    "\n",
    "plt.figure(figsize=(12, 6))\n",
    "plt.hist(orders_df['days_since_prior_order'], bins=range(0, int(orders_df['days_since_prior_order'].max()) + 2), edgecolor='black')\n",
    "plt.title('Distribution of Days Since Prior Order')\n",
    "plt.xlabel('Days Since Prior Order')\n",
    "plt.ylabel('Number of Orders')\n",
    "plt.grid(axis='y', linestyle='--', alpha=0.7)\n",
    "plt.show()"
   ]
  },
  {
   "cell_type": "markdown",
   "id": "c0311d17",
   "metadata": {},
   "source": [
    "*POSSIBLE INSIGHTS*: \n",
    "\n",
    "**Distribution Pattern**: \n",
    "\n",
    "The distribution is right-skewed, meaning that while most orders are placed relatively frequently (around the median of 7 days) there is along tail of orders with much longer gaps.  This suggests that while the majority of customers order with relatively short intervals, a smaller segment orders much less frequently. \n",
    "\n",
    "**Statistical Measures**: \n",
    "\n",
    "*Count*: Total number of orders in the dataset that have non-missing values for 'days_since_prior_order'.\n",
    "\n",
    "*Mean*: On average, customers wait about 10.43 days before placing another order. \n",
    "\n",
    "*Standard Devitation (std)*: 9.29 indicates the waiting times typically vary by about 9.29 days from the average. A higher standard devitation suggests greater variability in waiting times. \n",
    "\n",
    "*Minimum*: The shortest time between orders is 0 days, meaning some customers place orders on consecutive days.\n",
    "\n",
    "*25th Percentile*: 25% of the orders have a waiting time of 4 days or fewer.\n",
    "\n",
    "*Median* (50%): Half of the orders have a waiting time of 7 days or fewer.\n",
    "\n",
    "*75th Percentile (75%)*: 75% of the orders have a waiting time of 15 days or fewer.\n",
    "\n",
    "*Maximum*: The longest time between orders is 30 days. "
   ]
  },
  {
   "cell_type": "markdown",
   "id": "packed-classic",
   "metadata": {},
   "source": [
    "### Is there a difference in `'order_hour_of_day'` distributions on Wednesdays and Saturdays? Plot the histograms for both days and describe the differences that you see."
   ]
  },
  {
   "cell_type": "code",
   "execution_count": 281,
   "id": "d89b8403",
   "metadata": {},
   "outputs": [],
   "source": [
    "# Filter data for Wednesdays and Saturdays\n",
    "wednesday_data = orders_df_cleaned[orders_df_cleaned['order_dow'] == 2]['order_hour_of_day']\n",
    "saturday_data = orders_df_cleaned[orders_df_cleaned['order_dow'] == 5]['order_hour_of_day']"
   ]
  },
  {
   "cell_type": "code",
   "execution_count": 283,
   "id": "797c90a8",
   "metadata": {},
   "outputs": [
    {
     "data": {
      "image/png": "[encoded data removed]",
      "text/plain": [
       "<Figure size 1200x600 with 2 Axes>"
      ]
     },
     "metadata": {},
     "output_type": "display_data"
    }
   ],
   "source": [
    "# Plot histograms\n",
    "plt.figure(figsize=(12, 6))\n",
    "\n",
    "# Histogram for Wednesdays\n",
    "plt.subplot(1, 2, 1)\n",
    "plt.hist(wednesday_data, bins=24, range=(0, 24), alpha=0.7, color='blue')\n",
    "plt.title('Order Hour Distribution on Wednesdays')\n",
    "plt.xlabel('Hour of the Day')\n",
    "plt.ylabel('Frequency')\n",
    "\n",
    "# Histogram for Saturdays\n",
    "plt.subplot(1, 2, 2)\n",
    "plt.hist(saturday_data, bins=24, range=(0, 24), alpha=0.7, color='green')\n",
    "plt.title('Order Hour Distribution on Saturdays')\n",
    "plt.xlabel('Hour of the Day')\n",
    "plt.ylabel('Frequency')\n",
    "\n",
    "plt.show()"
   ]
  },
  {
   "cell_type": "markdown",
   "id": "abb7760e",
   "metadata": {},
   "source": [
    "*DIFFERENCES*:\n",
    "   \n",
    "  **Peak Hours**: Check is specific hours of the day where orders peak differently on Wednesdays compares to Saturdays. \n",
    "  \n",
    "  **Distribution Shape**: Compaire the distribution, if orders on Wednesdqay are more uniformly distributed throughout the day, while Saturdays have distrinct peaks, this could indicate different shoppingn behaivor on weekends versus weekdays. \n",
    "  \n",
    "  **Variability**: Assess the spread of the distributions. If one day has a broader range of order hours with more variablity, this might suggest less consistent ordering times. \n",
    "   \n",
    "  **Overall Frequency**: If one day has significantly more orders or a different pattern, this could be due to user behavior variations on different days of the week. \n",
    "  \n",
    "**Wednesdays**: Orders might be more concentrated around mid-day, with a peak around lunchtime hours.\n",
    "\n",
    "**Saturdays**: Orders might show a higher frequency in the late afternoon and evening, reflecting typical weekend shopping behavior."
   ]
  },
  {
   "cell_type": "markdown",
   "id": "e3891143",
   "metadata": {},
   "source": [
    "### What's the distribution for the number of orders per customer?"
   ]
  },
  {
   "cell_type": "code",
   "execution_count": 286,
   "id": "d8c26c23",
   "metadata": {},
   "outputs": [],
   "source": [
    "# Group by 'user_id' and count the number of orders\n",
    "orders_per_customer = orders_df_cleaned.groupby('user_id').size()\n"
   ]
  },
  {
   "cell_type": "code",
   "execution_count": 288,
   "id": "00e69a66",
   "metadata": {},
   "outputs": [
    {
     "data": {
      "image/png": "[encoded data removed]",
      "text/plain": [
       "<Figure size 1000x600 with 1 Axes>"
      ]
     },
     "metadata": {},
     "output_type": "display_data"
    }
   ],
   "source": [
    "# Plot the distribution\n",
    "plt.figure(figsize=(10, 6))\n",
    "plt.hist(orders_per_customer, bins=range(1, orders_per_customer.max() + 1), alpha=0.7, color='skyblue')\n",
    "plt.title('Distribution of Number of Orders per Customer')\n",
    "plt.xlabel('Number of Orders')\n",
    "plt.ylabel('Frequency')\n",
    "plt.xticks(range(1, orders_per_customer.max() + 1))\n",
    "plt.grid(axis='y')\n",
    "plt.show()"
   ]
  },
  {
   "cell_type": "markdown",
   "id": "dc054a7f",
   "metadata": {},
   "source": [
    "**Central Tendency**: The peak of the histogram indicates the most common number of orders per customer.\n",
    "\n",
    "**Spread**: A wide spread with many bins filled suggests that there is a significant variance in the number of orders customers make.\n",
    "\n",
    "**Skewness**: Tere are a lot of customers with only one or two orders and a few customers with many orders, the distribution will be right-skewed.\n",
    "\n",
    "**Outliers**: There are no outliers identified."
   ]
  },
  {
   "cell_type": "markdown",
   "id": "54a0319c",
   "metadata": {},
   "source": [
    "### What are the top 20 popular products (display their id and name)?"
   ]
  },
  {
   "cell_type": "code",
   "execution_count": 291,
   "id": "exterior-arizona",
   "metadata": {
    "scrolled": true
   },
   "outputs": [
    {
     "name": "stdout",
     "output_type": "stream",
     "text": [
      "    product_id                                       product_name\n",
      "0            1                         Chocolate Sandwich Cookies\n",
      "1            2                                   All-Seasons Salt\n",
      "2            3               Robust Golden Unsweetened Oolong Tea\n",
      "3            4  Smart Ones Classic Favorites Mini Rigatoni Wit...\n",
      "4            5                          Green Chile Anytime Sauce\n",
      "5            6                                       Dry Nose Oil\n",
      "6            7                     Pure Coconut Water With Orange\n",
      "7            8                  Cut Russet Potatoes Steam N' Mash\n",
      "8            9                  Light Strawberry Blueberry Yogurt\n",
      "9           10     Sparkling Orange Juice & Prickly Pear Beverage\n",
      "10          11                                  Peach Mango Juice\n",
      "11          12                         Chocolate Fudge Layer Cake\n",
      "12          13                                  Saline Nasal Mist\n",
      "13          14                     Fresh Scent Dishwasher Cleaner\n",
      "14          15                           Overnight Diapers Size 6\n",
      "15          16                      Mint Chocolate Flavored Syrup\n",
      "16          17                                  Rendered Duck Fat\n",
      "17          18                Pizza for One Suprema  Frozen Pizza\n",
      "18          19   Gluten Free Quinoa Three Cheese & Mushroom Blend\n",
      "19          20     Pomegranate Cranberry & Aloe Vera Enrich Drink\n"
     ]
    }
   ],
   "source": [
    "top_20_products = products_df_cleaned.head(20)\n",
    "print(top_20_products[['product_id', 'product_name']])"
   ]
  },
  {
   "cell_type": "code",
   "execution_count": 293,
   "id": "universal-facial",
   "metadata": {},
   "outputs": [
    {
     "data": {
      "text/plain": [
       "product_id\n",
       "1        1\n",
       "2        1\n",
       "3        1\n",
       "4        1\n",
       "5        1\n",
       "        ..\n",
       "49690    1\n",
       "49691    1\n",
       "49692    1\n",
       "49693    1\n",
       "49694    1\n",
       "Length: 49694, dtype: int64"
      ]
     },
     "execution_count": 293,
     "metadata": {},
     "output_type": "execute_result"
    }
   ],
   "source": [
    "# Group by Product and Count occurrences of each product \n",
    "product_counts = products_df_cleaned.groupby('product_id').size()\n",
    "product_counts"
   ]
  },
  {
   "cell_type": "code",
   "execution_count": 295,
   "id": "bbcdd20b",
   "metadata": {},
   "outputs": [
    {
     "data": {
      "text/html": [
       "<div>\n",
       "<style scoped>\n",
       "    .dataframe tbody tr th:only-of-type {\n",
       "        vertical-align: middle;\n",
       "    }\n",
       "\n",
       "    .dataframe tbody tr th {\n",
       "        vertical-align: top;\n",
       "    }\n",
       "\n",
       "    .dataframe thead th {\n",
       "        text-align: right;\n",
       "    }\n",
       "</style>\n",
       "<table border=\"1\" class=\"dataframe\">\n",
       "  <thead>\n",
       "    <tr style=\"text-align: right;\">\n",
       "      <th></th>\n",
       "      <th>product_id</th>\n",
       "      <th>count</th>\n",
       "    </tr>\n",
       "  </thead>\n",
       "  <tbody>\n",
       "    <tr>\n",
       "      <th>0</th>\n",
       "      <td>1</td>\n",
       "      <td>1</td>\n",
       "    </tr>\n",
       "    <tr>\n",
       "      <th>1</th>\n",
       "      <td>33146</td>\n",
       "      <td>1</td>\n",
       "    </tr>\n",
       "    <tr>\n",
       "      <th>2</th>\n",
       "      <td>33124</td>\n",
       "      <td>1</td>\n",
       "    </tr>\n",
       "    <tr>\n",
       "      <th>3</th>\n",
       "      <td>33125</td>\n",
       "      <td>1</td>\n",
       "    </tr>\n",
       "    <tr>\n",
       "      <th>4</th>\n",
       "      <td>33126</td>\n",
       "      <td>1</td>\n",
       "    </tr>\n",
       "    <tr>\n",
       "      <th>5</th>\n",
       "      <td>33127</td>\n",
       "      <td>1</td>\n",
       "    </tr>\n",
       "    <tr>\n",
       "      <th>6</th>\n",
       "      <td>33128</td>\n",
       "      <td>1</td>\n",
       "    </tr>\n",
       "    <tr>\n",
       "      <th>7</th>\n",
       "      <td>33129</td>\n",
       "      <td>1</td>\n",
       "    </tr>\n",
       "    <tr>\n",
       "      <th>8</th>\n",
       "      <td>33130</td>\n",
       "      <td>1</td>\n",
       "    </tr>\n",
       "    <tr>\n",
       "      <th>9</th>\n",
       "      <td>33131</td>\n",
       "      <td>1</td>\n",
       "    </tr>\n",
       "    <tr>\n",
       "      <th>10</th>\n",
       "      <td>33132</td>\n",
       "      <td>1</td>\n",
       "    </tr>\n",
       "    <tr>\n",
       "      <th>11</th>\n",
       "      <td>33133</td>\n",
       "      <td>1</td>\n",
       "    </tr>\n",
       "    <tr>\n",
       "      <th>12</th>\n",
       "      <td>33134</td>\n",
       "      <td>1</td>\n",
       "    </tr>\n",
       "    <tr>\n",
       "      <th>13</th>\n",
       "      <td>33135</td>\n",
       "      <td>1</td>\n",
       "    </tr>\n",
       "    <tr>\n",
       "      <th>14</th>\n",
       "      <td>33136</td>\n",
       "      <td>1</td>\n",
       "    </tr>\n",
       "    <tr>\n",
       "      <th>15</th>\n",
       "      <td>33137</td>\n",
       "      <td>1</td>\n",
       "    </tr>\n",
       "    <tr>\n",
       "      <th>16</th>\n",
       "      <td>33138</td>\n",
       "      <td>1</td>\n",
       "    </tr>\n",
       "    <tr>\n",
       "      <th>17</th>\n",
       "      <td>33139</td>\n",
       "      <td>1</td>\n",
       "    </tr>\n",
       "    <tr>\n",
       "      <th>18</th>\n",
       "      <td>33140</td>\n",
       "      <td>1</td>\n",
       "    </tr>\n",
       "    <tr>\n",
       "      <th>19</th>\n",
       "      <td>33141</td>\n",
       "      <td>1</td>\n",
       "    </tr>\n",
       "  </tbody>\n",
       "</table>\n",
       "</div>"
      ],
      "text/plain": [
       "    product_id  count\n",
       "0            1      1\n",
       "1        33146      1\n",
       "2        33124      1\n",
       "3        33125      1\n",
       "4        33126      1\n",
       "5        33127      1\n",
       "6        33128      1\n",
       "7        33129      1\n",
       "8        33130      1\n",
       "9        33131      1\n",
       "10       33132      1\n",
       "11       33133      1\n",
       "12       33134      1\n",
       "13       33135      1\n",
       "14       33136      1\n",
       "15       33137      1\n",
       "16       33138      1\n",
       "17       33139      1\n",
       "18       33140      1\n",
       "19       33141      1"
      ]
     },
     "execution_count": 295,
     "metadata": {},
     "output_type": "execute_result"
    }
   ],
   "source": [
    "# Sort products by count and get top 20\n",
    "top_20_products = product_counts.sort_values(ascending=False).head(20).reset_index(name='count')\n",
    "top_20_products"
   ]
  },
  {
   "cell_type": "code",
   "execution_count": 297,
   "id": "08f22850",
   "metadata": {},
   "outputs": [],
   "source": [
    "# Merge with product names for display\n",
    "top_20_products = top_20_products.merge(products_df_cleaned[['product_id', 'product_name']].drop_duplicates(), on='product_id')"
   ]
  },
  {
   "cell_type": "code",
   "execution_count": 299,
   "id": "f9480ad5",
   "metadata": {},
   "outputs": [
    {
     "name": "stdout",
     "output_type": "stream",
     "text": [
      "    product_id                                      product_name\n",
      "0            1                        Chocolate Sandwich Cookies\n",
      "1        33146                              Revolt Killer Citrus\n",
      "2        33124  Healthy Kids Organic Chocolate Nutritional Shake\n",
      "3        33125              Organic Mini Cheddar Cheese Crackers\n",
      "4        33126                                  Sesame Flatbread\n",
      "5        33127                        No Salt Roasted Pistachios\n",
      "6        33128                         Riccardo Balsamic Vinegar\n",
      "7        33129                                    Classic Hummus\n",
      "8        33130      Organic Salt Free Cabbage Dill Raw Sauerkrat\n",
      "9        33131                        Hair Remover Wax Strip Kit\n",
      "10       33132                               Mild Red Taco Sauce\n",
      "11       33133          Rising Crust Spicy Italian Sausage Pizza\n",
      "12       33134                      Orange Recovery Energy Drink\n",
      "13       33135                           Organic Blueberry Kefir\n",
      "14       33136                       Tissue with Lotion Aloe & E\n",
      "15       33137                         Mexican Style Chili Beans\n",
      "16       33138              Classic Chopped Grill Feast Cat Food\n",
      "17       33139                   Vegetarian Worcestershire Sauce\n",
      "18       33140              Cruisers Diapers Jumbo Pack - Size 6\n",
      "19       33141                                    Stir Fry Sauce\n"
     ]
    }
   ],
   "source": [
    "# Display top 20 products\n",
    "print(top_20_products[['product_id', 'product_name']])"
   ]
  },
  {
   "cell_type": "markdown",
   "id": "romantic-deposit",
   "metadata": {},
   "source": [
    "### How many items do people typically buy in one order? What does the distribution look like?"
   ]
  },
  {
   "cell_type": "code",
   "execution_count": 304,
   "id": "8be23be3",
   "metadata": {},
   "outputs": [
    {
     "data": {
      "text/plain": [
       "Index(['order_id', 'product_id', 'add_to_cart_order', 'reordered'], dtype='object')"
      ]
     },
     "execution_count": 304,
     "metadata": {},
     "output_type": "execute_result"
    }
   ],
   "source": [
    "order_products_df.columns"
   ]
  },
  {
   "cell_type": "code",
   "execution_count": 308,
   "id": "f258e9f5",
   "metadata": {},
   "outputs": [],
   "source": [
    "# Impute missing values in 'add_to_cart_order' with the column's median\n",
    "median_value = order_products_df['add_to_cart_order'].median()\n",
    "order_products_df['add_to_cart_order'] = order_products_df['add_to_cart_order'].fillna(median_value)\n"
   ]
  },
  {
   "cell_type": "code",
   "execution_count": 310,
   "id": "77490aec",
   "metadata": {},
   "outputs": [],
   "source": [
    "# Drop rows where 'add_to_cart_order' is missing\n",
    "order_products_df.dropna(subset=['add_to_cart_order'], inplace=True)"
   ]
  },
  {
   "cell_type": "code",
   "execution_count": 312,
   "id": "c6583ada",
   "metadata": {},
   "outputs": [],
   "source": [
    "# Convert 'add_to_cart_order' to integer\n",
    "order_products_df['add_to_cart_order'] = order_products_df['add_to_cart_order'].astype(int)"
   ]
  },
  {
   "cell_type": "code",
   "execution_count": 314,
   "id": "virtual-punch",
   "metadata": {},
   "outputs": [
    {
     "data": {
      "text/plain": [
       "order_id\n",
       "4          13\n",
       "9          15\n",
       "11          5\n",
       "19          3\n",
       "20          8\n",
       "           ..\n",
       "3421034    17\n",
       "3421053     9\n",
       "3421071     5\n",
       "3421077     4\n",
       "3421079     1\n",
       "Length: 450046, dtype: int64"
      ]
     },
     "execution_count": 314,
     "metadata": {},
     "output_type": "execute_result"
    }
   ],
   "source": [
    "# Calculate the number of items per order\n",
    "items_per_order = order_products_df.groupby('order_id').size()\n",
    "items_per_order"
   ]
  },
  {
   "cell_type": "code",
   "execution_count": 315,
   "id": "sensitive-breathing",
   "metadata": {},
   "outputs": [
    {
     "name": "stdout",
     "output_type": "stream",
     "text": [
      "Summary Statistics for Number of Items per Order:\n",
      "count    450046.000000\n",
      "mean         10.097126\n",
      "std           7.523747\n",
      "min           1.000000\n",
      "25%           5.000000\n",
      "50%           8.000000\n",
      "75%          14.000000\n",
      "max          64.000000\n",
      "dtype: float64\n"
     ]
    }
   ],
   "source": [
    "# Summary statistics\n",
    "summary_stats = items_per_order.describe()\n",
    "\n",
    "print(\"Summary Statistics for Number of Items per Order:\")\n",
    "print(summary_stats)"
   ]
  },
  {
   "cell_type": "code",
   "execution_count": 318,
   "id": "completed-frank",
   "metadata": {},
   "outputs": [
    {
     "data": {
      "image/png": "[encoded data removed]",
      "text/plain": [
       "<Figure size 1200x600 with 2 Axes>"
      ]
     },
     "metadata": {},
     "output_type": "display_data"
    }
   ],
   "source": [
    "# Plot the distribution\n",
    "plt.figure(figsize=(12, 6))\n",
    "\n",
    "# Histogram\n",
    "plt.subplot(1, 2, 1)\n",
    "plt.hist(items_per_order, bins=range(1, items_per_order.max() + 1), edgecolor='black')\n",
    "plt.title('Histogram of Number of Items per Order')\n",
    "plt.xlabel('Number of Items')\n",
    "plt.ylabel('Frequency')\n",
    "\n",
    "# Box Plot\n",
    "plt.subplot(1, 2, 2)\n",
    "plt.boxplot(items_per_order, vert=False)\n",
    "plt.title('Box Plot of Number of Items per Order')\n",
    "plt.xlabel('Number of Items')\n",
    "plt.tight_layout()\n",
    "plt.show()"
   ]
  },
  {
   "cell_type": "markdown",
   "id": "c7dbb8e5",
   "metadata": {},
   "source": [
    "*POSSIBLE INSIGHTS*\n",
    "\n",
    "Typical order size, on average, customers buy about 4 itmes per order, but the median suggests that the majority of orders are slightly smaller, around 3 itmes. The large standard devitation (5.1) indicates that there is a significant amount of varibility in order sizes. The historgram might show that orders tends to cluster around a certain size but with a long tail indicating that some order are much larger. The box plot might reveal several outliers with unusally high numbers of items. "
   ]
  },
  {
   "cell_type": "markdown",
   "id": "5e6b5537",
   "metadata": {},
   "source": [
    "### What are the top 20 items that are reordered most frequently (display their names and product IDs)?"
   ]
  },
  {
   "cell_type": "code",
   "execution_count": 322,
   "id": "9374e55a",
   "metadata": {},
   "outputs": [
    {
     "data": {
      "text/html": [
       "<div>\n",
       "<style scoped>\n",
       "    .dataframe tbody tr th:only-of-type {\n",
       "        vertical-align: middle;\n",
       "    }\n",
       "\n",
       "    .dataframe tbody tr th {\n",
       "        vertical-align: top;\n",
       "    }\n",
       "\n",
       "    .dataframe thead th {\n",
       "        text-align: right;\n",
       "    }\n",
       "</style>\n",
       "<table border=\"1\" class=\"dataframe\">\n",
       "  <thead>\n",
       "    <tr style=\"text-align: right;\">\n",
       "      <th></th>\n",
       "      <th>order_id</th>\n",
       "      <th>product_id</th>\n",
       "      <th>add_to_cart_order</th>\n",
       "      <th>reordered</th>\n",
       "    </tr>\n",
       "  </thead>\n",
       "  <tbody>\n",
       "    <tr>\n",
       "      <th>1</th>\n",
       "      <td>567889</td>\n",
       "      <td>1560</td>\n",
       "      <td>1</td>\n",
       "      <td>1</td>\n",
       "    </tr>\n",
       "    <tr>\n",
       "      <th>2</th>\n",
       "      <td>2261212</td>\n",
       "      <td>26683</td>\n",
       "      <td>1</td>\n",
       "      <td>1</td>\n",
       "    </tr>\n",
       "    <tr>\n",
       "      <th>3</th>\n",
       "      <td>491251</td>\n",
       "      <td>8670</td>\n",
       "      <td>35</td>\n",
       "      <td>1</td>\n",
       "    </tr>\n",
       "    <tr>\n",
       "      <th>4</th>\n",
       "      <td>2571142</td>\n",
       "      <td>1940</td>\n",
       "      <td>5</td>\n",
       "      <td>1</td>\n",
       "    </tr>\n",
       "    <tr>\n",
       "      <th>5</th>\n",
       "      <td>2456893</td>\n",
       "      <td>21616</td>\n",
       "      <td>4</td>\n",
       "      <td>1</td>\n",
       "    </tr>\n",
       "    <tr>\n",
       "      <th>...</th>\n",
       "      <td>...</td>\n",
       "      <td>...</td>\n",
       "      <td>...</td>\n",
       "      <td>...</td>\n",
       "    </tr>\n",
       "    <tr>\n",
       "      <th>4544999</th>\n",
       "      <td>1622300</td>\n",
       "      <td>24852</td>\n",
       "      <td>1</td>\n",
       "      <td>1</td>\n",
       "    </tr>\n",
       "    <tr>\n",
       "      <th>4545000</th>\n",
       "      <td>1125324</td>\n",
       "      <td>40600</td>\n",
       "      <td>6</td>\n",
       "      <td>1</td>\n",
       "    </tr>\n",
       "    <tr>\n",
       "      <th>4545002</th>\n",
       "      <td>577211</td>\n",
       "      <td>15290</td>\n",
       "      <td>12</td>\n",
       "      <td>1</td>\n",
       "    </tr>\n",
       "    <tr>\n",
       "      <th>4545004</th>\n",
       "      <td>692640</td>\n",
       "      <td>47766</td>\n",
       "      <td>4</td>\n",
       "      <td>1</td>\n",
       "    </tr>\n",
       "    <tr>\n",
       "      <th>4545005</th>\n",
       "      <td>319435</td>\n",
       "      <td>691</td>\n",
       "      <td>8</td>\n",
       "      <td>1</td>\n",
       "    </tr>\n",
       "  </tbody>\n",
       "</table>\n",
       "<p>2683519 rows × 4 columns</p>\n",
       "</div>"
      ],
      "text/plain": [
       "         order_id  product_id  add_to_cart_order  reordered\n",
       "1          567889        1560                  1          1\n",
       "2         2261212       26683                  1          1\n",
       "3          491251        8670                 35          1\n",
       "4         2571142        1940                  5          1\n",
       "5         2456893       21616                  4          1\n",
       "...           ...         ...                ...        ...\n",
       "4544999   1622300       24852                  1          1\n",
       "4545000   1125324       40600                  6          1\n",
       "4545002    577211       15290                 12          1\n",
       "4545004    692640       47766                  4          1\n",
       "4545005    319435         691                  8          1\n",
       "\n",
       "[2683519 rows x 4 columns]"
      ]
     },
     "execution_count": 322,
     "metadata": {},
     "output_type": "execute_result"
    }
   ],
   "source": [
    "# Filter to include only reordered items\n",
    "reordered_items = order_products_df[order_products_df['reordered'] == 1]\n",
    "reordered_items"
   ]
  },
  {
   "cell_type": "code",
   "execution_count": 324,
   "id": "possible-change",
   "metadata": {
    "scrolled": true
   },
   "outputs": [
    {
     "data": {
      "text/plain": [
       "product_id\n",
       "1        158\n",
       "3         31\n",
       "4         25\n",
       "7          1\n",
       "8          6\n",
       "        ... \n",
       "49690      4\n",
       "49691     31\n",
       "49692      5\n",
       "49693     11\n",
       "49694      3\n",
       "Length: 36227, dtype: int64"
      ]
     },
     "execution_count": 324,
     "metadata": {},
     "output_type": "execute_result"
    }
   ],
   "source": [
    "# Count the number of reorders for each product\n",
    "reorder_counts = reordered_items.groupby('product_id').size()\n",
    "reorder_counts"
   ]
  },
  {
   "cell_type": "code",
   "execution_count": 326,
   "id": "professional-surfing",
   "metadata": {
    "scrolled": true
   },
   "outputs": [
    {
     "data": {
      "text/html": [
       "<div>\n",
       "<style scoped>\n",
       "    .dataframe tbody tr th:only-of-type {\n",
       "        vertical-align: middle;\n",
       "    }\n",
       "\n",
       "    .dataframe tbody tr th {\n",
       "        vertical-align: top;\n",
       "    }\n",
       "\n",
       "    .dataframe thead th {\n",
       "        text-align: right;\n",
       "    }\n",
       "</style>\n",
       "<table border=\"1\" class=\"dataframe\">\n",
       "  <thead>\n",
       "    <tr style=\"text-align: right;\">\n",
       "      <th></th>\n",
       "      <th>product_id</th>\n",
       "      <th>reorder_count</th>\n",
       "    </tr>\n",
       "  </thead>\n",
       "  <tbody>\n",
       "    <tr>\n",
       "      <th>0</th>\n",
       "      <td>1</td>\n",
       "      <td>158</td>\n",
       "    </tr>\n",
       "    <tr>\n",
       "      <th>1</th>\n",
       "      <td>3</td>\n",
       "      <td>31</td>\n",
       "    </tr>\n",
       "    <tr>\n",
       "      <th>2</th>\n",
       "      <td>4</td>\n",
       "      <td>25</td>\n",
       "    </tr>\n",
       "    <tr>\n",
       "      <th>3</th>\n",
       "      <td>7</td>\n",
       "      <td>1</td>\n",
       "    </tr>\n",
       "    <tr>\n",
       "      <th>4</th>\n",
       "      <td>8</td>\n",
       "      <td>6</td>\n",
       "    </tr>\n",
       "    <tr>\n",
       "      <th>...</th>\n",
       "      <td>...</td>\n",
       "      <td>...</td>\n",
       "    </tr>\n",
       "    <tr>\n",
       "      <th>36222</th>\n",
       "      <td>49690</td>\n",
       "      <td>4</td>\n",
       "    </tr>\n",
       "    <tr>\n",
       "      <th>36223</th>\n",
       "      <td>49691</td>\n",
       "      <td>31</td>\n",
       "    </tr>\n",
       "    <tr>\n",
       "      <th>36224</th>\n",
       "      <td>49692</td>\n",
       "      <td>5</td>\n",
       "    </tr>\n",
       "    <tr>\n",
       "      <th>36225</th>\n",
       "      <td>49693</td>\n",
       "      <td>11</td>\n",
       "    </tr>\n",
       "    <tr>\n",
       "      <th>36226</th>\n",
       "      <td>49694</td>\n",
       "      <td>3</td>\n",
       "    </tr>\n",
       "  </tbody>\n",
       "</table>\n",
       "<p>36227 rows × 2 columns</p>\n",
       "</div>"
      ],
      "text/plain": [
       "       product_id  reorder_count\n",
       "0               1            158\n",
       "1               3             31\n",
       "2               4             25\n",
       "3               7              1\n",
       "4               8              6\n",
       "...           ...            ...\n",
       "36222       49690              4\n",
       "36223       49691             31\n",
       "36224       49692              5\n",
       "36225       49693             11\n",
       "36226       49694              3\n",
       "\n",
       "[36227 rows x 2 columns]"
      ]
     },
     "execution_count": 326,
     "metadata": {},
     "output_type": "execute_result"
    }
   ],
   "source": [
    "# Convert the series to a DataFrame for better handling\n",
    "reorder_counts_df = reorder_counts.reset_index(name='reorder_count')\n",
    "reorder_counts_df"
   ]
  },
  {
   "cell_type": "code",
   "execution_count": 328,
   "id": "48dd3658",
   "metadata": {},
   "outputs": [
    {
     "data": {
      "text/html": [
       "<div>\n",
       "<style scoped>\n",
       "    .dataframe tbody tr th:only-of-type {\n",
       "        vertical-align: middle;\n",
       "    }\n",
       "\n",
       "    .dataframe tbody tr th {\n",
       "        vertical-align: top;\n",
       "    }\n",
       "\n",
       "    .dataframe thead th {\n",
       "        text-align: right;\n",
       "    }\n",
       "</style>\n",
       "<table border=\"1\" class=\"dataframe\">\n",
       "  <thead>\n",
       "    <tr style=\"text-align: right;\">\n",
       "      <th></th>\n",
       "      <th>product_id</th>\n",
       "      <th>reorder_count</th>\n",
       "    </tr>\n",
       "  </thead>\n",
       "  <tbody>\n",
       "    <tr>\n",
       "      <th>18103</th>\n",
       "      <td>24852</td>\n",
       "      <td>55761</td>\n",
       "    </tr>\n",
       "    <tr>\n",
       "      <th>9527</th>\n",
       "      <td>13176</td>\n",
       "      <td>44448</td>\n",
       "    </tr>\n",
       "    <tr>\n",
       "      <th>15367</th>\n",
       "      <td>21137</td>\n",
       "      <td>28637</td>\n",
       "    </tr>\n",
       "    <tr>\n",
       "      <th>15935</th>\n",
       "      <td>21903</td>\n",
       "      <td>26232</td>\n",
       "    </tr>\n",
       "    <tr>\n",
       "      <th>34406</th>\n",
       "      <td>47209</td>\n",
       "      <td>23628</td>\n",
       "    </tr>\n",
       "    <tr>\n",
       "      <th>...</th>\n",
       "      <td>...</td>\n",
       "      <td>...</td>\n",
       "    </tr>\n",
       "    <tr>\n",
       "      <th>12398</th>\n",
       "      <td>17085</td>\n",
       "      <td>1</td>\n",
       "    </tr>\n",
       "    <tr>\n",
       "      <th>20794</th>\n",
       "      <td>28543</td>\n",
       "      <td>1</td>\n",
       "    </tr>\n",
       "    <tr>\n",
       "      <th>16424</th>\n",
       "      <td>22554</td>\n",
       "      <td>1</td>\n",
       "    </tr>\n",
       "    <tr>\n",
       "      <th>8285</th>\n",
       "      <td>11465</td>\n",
       "      <td>1</td>\n",
       "    </tr>\n",
       "    <tr>\n",
       "      <th>17557</th>\n",
       "      <td>24091</td>\n",
       "      <td>1</td>\n",
       "    </tr>\n",
       "  </tbody>\n",
       "</table>\n",
       "<p>36227 rows × 2 columns</p>\n",
       "</div>"
      ],
      "text/plain": [
       "       product_id  reorder_count\n",
       "18103       24852          55761\n",
       "9527        13176          44448\n",
       "15367       21137          28637\n",
       "15935       21903          26232\n",
       "34406       47209          23628\n",
       "...           ...            ...\n",
       "12398       17085              1\n",
       "20794       28543              1\n",
       "16424       22554              1\n",
       "8285        11465              1\n",
       "17557       24091              1\n",
       "\n",
       "[36227 rows x 2 columns]"
      ]
     },
     "execution_count": 328,
     "metadata": {},
     "output_type": "execute_result"
    }
   ],
   "source": [
    "# Sort the DataFrame by reorder_count in descending order\n",
    "reorder_counts_df = reorder_counts_df.sort_values(by='reorder_count', ascending=False)\n",
    "reorder_counts_df"
   ]
  },
  {
   "cell_type": "code",
   "execution_count": 330,
   "id": "71808fbb",
   "metadata": {},
   "outputs": [
    {
     "data": {
      "text/html": [
       "<div>\n",
       "<style scoped>\n",
       "    .dataframe tbody tr th:only-of-type {\n",
       "        vertical-align: middle;\n",
       "    }\n",
       "\n",
       "    .dataframe tbody tr th {\n",
       "        vertical-align: top;\n",
       "    }\n",
       "\n",
       "    .dataframe thead th {\n",
       "        text-align: right;\n",
       "    }\n",
       "</style>\n",
       "<table border=\"1\" class=\"dataframe\">\n",
       "  <thead>\n",
       "    <tr style=\"text-align: right;\">\n",
       "      <th></th>\n",
       "      <th>product_id</th>\n",
       "      <th>reorder_count</th>\n",
       "    </tr>\n",
       "  </thead>\n",
       "  <tbody>\n",
       "    <tr>\n",
       "      <th>18103</th>\n",
       "      <td>24852</td>\n",
       "      <td>55761</td>\n",
       "    </tr>\n",
       "    <tr>\n",
       "      <th>9527</th>\n",
       "      <td>13176</td>\n",
       "      <td>44448</td>\n",
       "    </tr>\n",
       "    <tr>\n",
       "      <th>15367</th>\n",
       "      <td>21137</td>\n",
       "      <td>28637</td>\n",
       "    </tr>\n",
       "    <tr>\n",
       "      <th>15935</th>\n",
       "      <td>21903</td>\n",
       "      <td>26232</td>\n",
       "    </tr>\n",
       "    <tr>\n",
       "      <th>34406</th>\n",
       "      <td>47209</td>\n",
       "      <td>23628</td>\n",
       "    </tr>\n",
       "    <tr>\n",
       "      <th>34827</th>\n",
       "      <td>47766</td>\n",
       "      <td>18743</td>\n",
       "    </tr>\n",
       "    <tr>\n",
       "      <th>20284</th>\n",
       "      <td>27845</td>\n",
       "      <td>16251</td>\n",
       "    </tr>\n",
       "    <tr>\n",
       "      <th>34724</th>\n",
       "      <td>47626</td>\n",
       "      <td>15044</td>\n",
       "    </tr>\n",
       "    <tr>\n",
       "      <th>20374</th>\n",
       "      <td>27966</td>\n",
       "      <td>14747</td>\n",
       "    </tr>\n",
       "    <tr>\n",
       "      <th>12192</th>\n",
       "      <td>16797</td>\n",
       "      <td>13944</td>\n",
       "    </tr>\n",
       "    <tr>\n",
       "      <th>19087</th>\n",
       "      <td>26209</td>\n",
       "      <td>13326</td>\n",
       "    </tr>\n",
       "    <tr>\n",
       "      <th>16699</th>\n",
       "      <td>22935</td>\n",
       "      <td>11144</td>\n",
       "    </tr>\n",
       "    <tr>\n",
       "      <th>18185</th>\n",
       "      <td>24964</td>\n",
       "      <td>10409</td>\n",
       "    </tr>\n",
       "    <tr>\n",
       "      <th>32791</th>\n",
       "      <td>45007</td>\n",
       "      <td>10076</td>\n",
       "    </tr>\n",
       "    <tr>\n",
       "      <th>36218</th>\n",
       "      <td>49683</td>\n",
       "      <td>9538</td>\n",
       "    </tr>\n",
       "    <tr>\n",
       "      <th>20542</th>\n",
       "      <td>28204</td>\n",
       "      <td>8989</td>\n",
       "    </tr>\n",
       "    <tr>\n",
       "      <th>5977</th>\n",
       "      <td>8277</td>\n",
       "      <td>8835</td>\n",
       "    </tr>\n",
       "    <tr>\n",
       "      <th>28606</th>\n",
       "      <td>39275</td>\n",
       "      <td>8799</td>\n",
       "    </tr>\n",
       "    <tr>\n",
       "      <th>4266</th>\n",
       "      <td>5876</td>\n",
       "      <td>8411</td>\n",
       "    </tr>\n",
       "    <tr>\n",
       "      <th>35904</th>\n",
       "      <td>49235</td>\n",
       "      <td>8389</td>\n",
       "    </tr>\n",
       "  </tbody>\n",
       "</table>\n",
       "</div>"
      ],
      "text/plain": [
       "       product_id  reorder_count\n",
       "18103       24852          55761\n",
       "9527        13176          44448\n",
       "15367       21137          28637\n",
       "15935       21903          26232\n",
       "34406       47209          23628\n",
       "34827       47766          18743\n",
       "20284       27845          16251\n",
       "34724       47626          15044\n",
       "20374       27966          14747\n",
       "12192       16797          13944\n",
       "19087       26209          13326\n",
       "16699       22935          11144\n",
       "18185       24964          10409\n",
       "32791       45007          10076\n",
       "36218       49683           9538\n",
       "20542       28204           8989\n",
       "5977         8277           8835\n",
       "28606       39275           8799\n",
       "4266         5876           8411\n",
       "35904       49235           8389"
      ]
     },
     "execution_count": 330,
     "metadata": {},
     "output_type": "execute_result"
    }
   ],
   "source": [
    "# Get the top 20 reordered products\n",
    "top_20_reordered = reorder_counts_df.head(20)\n",
    "top_20_reordered"
   ]
  },
  {
   "cell_type": "markdown",
   "id": "9d312b14",
   "metadata": {},
   "source": [
    "### For each product, what proportion of its orders are reorders?"
   ]
  },
  {
   "cell_type": "code",
   "execution_count": 337,
   "id": "8ae9f4b1",
   "metadata": {},
   "outputs": [],
   "source": [
    "# Calculate the total number of orders for each product\n",
    "total_orders_per_product = order_products_df.groupby('product_id').size()"
   ]
  },
  {
   "cell_type": "code",
   "execution_count": 339,
   "id": "103e7fe1",
   "metadata": {},
   "outputs": [],
   "source": [
    "# Calculate the number of reorders for each product\n",
    "reorders_per_product = order_products_df[order_products_df['reordered'] == 1].groupby('product_id').size()"
   ]
  },
  {
   "cell_type": "code",
   "execution_count": 340,
   "id": "social-individual",
   "metadata": {},
   "outputs": [],
   "source": [
    "# Convert the series to DataFrames for merging\n",
    "total_orders_df = total_orders_per_product.reset_index(name='total_orders')\n",
    "reorders_df = reorders_per_product.reset_index(name='reorders')"
   ]
  },
  {
   "cell_type": "code",
   "execution_count": 343,
   "id": "16be8c9e",
   "metadata": {},
   "outputs": [],
   "source": [
    "# Merge the total orders and reorders DataFrames\n",
    "product_stats = pd.merge(total_orders_df, reorders_df, on='product_id', how='left')"
   ]
  },
  {
   "cell_type": "code",
   "execution_count": 349,
   "id": "55ebf742",
   "metadata": {},
   "outputs": [],
   "source": [
    "# Fill NaN values in 'reorders' with 0 (for products that have no reorders)\n",
    "product_stats['reorders'] = product_stats['reorders'].fillna(0)\n"
   ]
  },
  {
   "cell_type": "code",
   "execution_count": 351,
   "id": "72dcac80",
   "metadata": {},
   "outputs": [],
   "source": [
    "# Calculate the proportion of reorders\n",
    "product_stats['proportion_reordered'] = product_stats['reorders'] / product_stats['total_orders']"
   ]
  },
  {
   "cell_type": "code",
   "execution_count": 353,
   "id": "ce21306c",
   "metadata": {},
   "outputs": [
    {
     "data": {
      "text/html": [
       "<div>\n",
       "<style scoped>\n",
       "    .dataframe tbody tr th:only-of-type {\n",
       "        vertical-align: middle;\n",
       "    }\n",
       "\n",
       "    .dataframe tbody tr th {\n",
       "        vertical-align: top;\n",
       "    }\n",
       "\n",
       "    .dataframe thead th {\n",
       "        text-align: right;\n",
       "    }\n",
       "</style>\n",
       "<table border=\"1\" class=\"dataframe\">\n",
       "  <thead>\n",
       "    <tr style=\"text-align: right;\">\n",
       "      <th></th>\n",
       "      <th>product_id</th>\n",
       "      <th>total_orders</th>\n",
       "      <th>reorders</th>\n",
       "      <th>proportion_reordered</th>\n",
       "    </tr>\n",
       "  </thead>\n",
       "  <tbody>\n",
       "    <tr>\n",
       "      <th>0</th>\n",
       "      <td>1</td>\n",
       "      <td>280</td>\n",
       "      <td>158.0</td>\n",
       "      <td>0.564286</td>\n",
       "    </tr>\n",
       "    <tr>\n",
       "      <th>1</th>\n",
       "      <td>2</td>\n",
       "      <td>11</td>\n",
       "      <td>0.0</td>\n",
       "      <td>0.000000</td>\n",
       "    </tr>\n",
       "    <tr>\n",
       "      <th>2</th>\n",
       "      <td>3</td>\n",
       "      <td>42</td>\n",
       "      <td>31.0</td>\n",
       "      <td>0.738095</td>\n",
       "    </tr>\n",
       "    <tr>\n",
       "      <th>3</th>\n",
       "      <td>4</td>\n",
       "      <td>49</td>\n",
       "      <td>25.0</td>\n",
       "      <td>0.510204</td>\n",
       "    </tr>\n",
       "    <tr>\n",
       "      <th>4</th>\n",
       "      <td>7</td>\n",
       "      <td>2</td>\n",
       "      <td>1.0</td>\n",
       "      <td>0.500000</td>\n",
       "    </tr>\n",
       "    <tr>\n",
       "      <th>...</th>\n",
       "      <td>...</td>\n",
       "      <td>...</td>\n",
       "      <td>...</td>\n",
       "      <td>...</td>\n",
       "    </tr>\n",
       "    <tr>\n",
       "      <th>45567</th>\n",
       "      <td>49690</td>\n",
       "      <td>5</td>\n",
       "      <td>4.0</td>\n",
       "      <td>0.800000</td>\n",
       "    </tr>\n",
       "    <tr>\n",
       "      <th>45568</th>\n",
       "      <td>49691</td>\n",
       "      <td>72</td>\n",
       "      <td>31.0</td>\n",
       "      <td>0.430556</td>\n",
       "    </tr>\n",
       "    <tr>\n",
       "      <th>45569</th>\n",
       "      <td>49692</td>\n",
       "      <td>12</td>\n",
       "      <td>5.0</td>\n",
       "      <td>0.416667</td>\n",
       "    </tr>\n",
       "    <tr>\n",
       "      <th>45570</th>\n",
       "      <td>49693</td>\n",
       "      <td>25</td>\n",
       "      <td>11.0</td>\n",
       "      <td>0.440000</td>\n",
       "    </tr>\n",
       "    <tr>\n",
       "      <th>45571</th>\n",
       "      <td>49694</td>\n",
       "      <td>9</td>\n",
       "      <td>3.0</td>\n",
       "      <td>0.333333</td>\n",
       "    </tr>\n",
       "  </tbody>\n",
       "</table>\n",
       "<p>45572 rows × 4 columns</p>\n",
       "</div>"
      ],
      "text/plain": [
       "       product_id  total_orders  reorders  proportion_reordered\n",
       "0               1           280     158.0              0.564286\n",
       "1               2            11       0.0              0.000000\n",
       "2               3            42      31.0              0.738095\n",
       "3               4            49      25.0              0.510204\n",
       "4               7             2       1.0              0.500000\n",
       "...           ...           ...       ...                   ...\n",
       "45567       49690             5       4.0              0.800000\n",
       "45568       49691            72      31.0              0.430556\n",
       "45569       49692            12       5.0              0.416667\n",
       "45570       49693            25      11.0              0.440000\n",
       "45571       49694             9       3.0              0.333333\n",
       "\n",
       "[45572 rows x 4 columns]"
      ]
     },
     "execution_count": 353,
     "metadata": {},
     "output_type": "execute_result"
    }
   ],
   "source": [
    "product_stats[['product_id', 'total_orders', 'reorders', 'proportion_reordered']]"
   ]
  },
  {
   "cell_type": "markdown",
   "id": "subject-boxing",
   "metadata": {},
   "source": [
    "### For each customer, what proportion of their products ordered are reorders?"
   ]
  },
  {
   "cell_type": "code",
   "execution_count": 357,
   "id": "medical-couple",
   "metadata": {
    "scrolled": true
   },
   "outputs": [],
   "source": [
    "# Calculate the total number of orders and reorders for each customer\n",
    "total_orders_per_customer = order_products_df.groupby('order_id').size()  # Total items per order\n",
    "total_orders_per_customer = total_orders_per_customer.groupby(order_products_df['order_id']).sum()  # Total items per customer\n",
    "\n",
    "reorders_per_customer = order_products_df[order_products_df['reordered'] == 1].groupby('order_id').size()\n",
    "reorders_per_customer = reorders_per_customer.groupby(order_products_df['order_id']).sum()  # Total reorders per customer"
   ]
  },
  {
   "cell_type": "code",
   "execution_count": 359,
   "id": "8892e4b4",
   "metadata": {},
   "outputs": [],
   "source": [
    "# Convert the Series to DataFrames for merging\n",
    "total_orders_df = total_orders_per_customer.reset_index(name='total_orders')\n",
    "reorders_df = reorders_per_customer.reset_index(name='reorders')"
   ]
  },
  {
   "cell_type": "code",
   "execution_count": 361,
   "id": "e4511431",
   "metadata": {},
   "outputs": [],
   "source": [
    "# Merge the total orders and reorders DataFrames\n",
    "customer_stats = pd.merge(total_orders_df, reorders_df, on='order_id', how='left')"
   ]
  },
  {
   "cell_type": "code",
   "execution_count": 367,
   "id": "2779c419",
   "metadata": {},
   "outputs": [],
   "source": [
    "# Fill NaN values in 'reorders' with 0 (for customers with no reorders)\n",
    "customer_stats['reorders'] = customer_stats['reorders'].fillna(0)"
   ]
  },
  {
   "cell_type": "code",
   "execution_count": 369,
   "id": "b5cd5333",
   "metadata": {},
   "outputs": [],
   "source": [
    "# Calculate the proportion of reorders\n",
    "customer_stats['proportion_reordered'] = customer_stats['reorders'] / customer_stats['total_orders']"
   ]
  },
  {
   "cell_type": "code",
   "execution_count": 371,
   "id": "493ec0dd",
   "metadata": {},
   "outputs": [
    {
     "data": {
      "text/html": [
       "<div>\n",
       "<style scoped>\n",
       "    .dataframe tbody tr th:only-of-type {\n",
       "        vertical-align: middle;\n",
       "    }\n",
       "\n",
       "    .dataframe tbody tr th {\n",
       "        vertical-align: top;\n",
       "    }\n",
       "\n",
       "    .dataframe thead th {\n",
       "        text-align: right;\n",
       "    }\n",
       "</style>\n",
       "<table border=\"1\" class=\"dataframe\">\n",
       "  <thead>\n",
       "    <tr style=\"text-align: right;\">\n",
       "      <th></th>\n",
       "      <th>order_id</th>\n",
       "      <th>total_orders</th>\n",
       "      <th>reorders</th>\n",
       "      <th>proportion_reordered</th>\n",
       "    </tr>\n",
       "  </thead>\n",
       "  <tbody>\n",
       "    <tr>\n",
       "      <th>0</th>\n",
       "      <td>4.0</td>\n",
       "      <td>23</td>\n",
       "      <td>14.0</td>\n",
       "      <td>0.608696</td>\n",
       "    </tr>\n",
       "    <tr>\n",
       "      <th>1</th>\n",
       "      <td>9.0</td>\n",
       "      <td>9</td>\n",
       "      <td>8.0</td>\n",
       "      <td>0.888889</td>\n",
       "    </tr>\n",
       "    <tr>\n",
       "      <th>2</th>\n",
       "      <td>11.0</td>\n",
       "      <td>6</td>\n",
       "      <td>0.0</td>\n",
       "      <td>0.000000</td>\n",
       "    </tr>\n",
       "    <tr>\n",
       "      <th>3</th>\n",
       "      <td>31.0</td>\n",
       "      <td>18</td>\n",
       "      <td>14.0</td>\n",
       "      <td>0.777778</td>\n",
       "    </tr>\n",
       "    <tr>\n",
       "      <th>4</th>\n",
       "      <td>48.0</td>\n",
       "      <td>3</td>\n",
       "      <td>1.0</td>\n",
       "      <td>0.333333</td>\n",
       "    </tr>\n",
       "    <tr>\n",
       "      <th>...</th>\n",
       "      <td>...</td>\n",
       "      <td>...</td>\n",
       "      <td>...</td>\n",
       "      <td>...</td>\n",
       "    </tr>\n",
       "    <tr>\n",
       "      <th>254275</th>\n",
       "      <td>3421001.0</td>\n",
       "      <td>13</td>\n",
       "      <td>9.0</td>\n",
       "      <td>0.692308</td>\n",
       "    </tr>\n",
       "    <tr>\n",
       "      <th>254276</th>\n",
       "      <td>3421013.0</td>\n",
       "      <td>15</td>\n",
       "      <td>7.0</td>\n",
       "      <td>0.466667</td>\n",
       "    </tr>\n",
       "    <tr>\n",
       "      <th>254277</th>\n",
       "      <td>3421018.0</td>\n",
       "      <td>19</td>\n",
       "      <td>8.0</td>\n",
       "      <td>0.421053</td>\n",
       "    </tr>\n",
       "    <tr>\n",
       "      <th>254278</th>\n",
       "      <td>3421053.0</td>\n",
       "      <td>7</td>\n",
       "      <td>7.0</td>\n",
       "      <td>1.000000</td>\n",
       "    </tr>\n",
       "    <tr>\n",
       "      <th>254279</th>\n",
       "      <td>3421071.0</td>\n",
       "      <td>11</td>\n",
       "      <td>7.0</td>\n",
       "      <td>0.636364</td>\n",
       "    </tr>\n",
       "  </tbody>\n",
       "</table>\n",
       "<p>254280 rows × 4 columns</p>\n",
       "</div>"
      ],
      "text/plain": [
       "         order_id  total_orders  reorders  proportion_reordered\n",
       "0             4.0            23      14.0              0.608696\n",
       "1             9.0             9       8.0              0.888889\n",
       "2            11.0             6       0.0              0.000000\n",
       "3            31.0            18      14.0              0.777778\n",
       "4            48.0             3       1.0              0.333333\n",
       "...           ...           ...       ...                   ...\n",
       "254275  3421001.0            13       9.0              0.692308\n",
       "254276  3421013.0            15       7.0              0.466667\n",
       "254277  3421018.0            19       8.0              0.421053\n",
       "254278  3421053.0             7       7.0              1.000000\n",
       "254279  3421071.0            11       7.0              0.636364\n",
       "\n",
       "[254280 rows x 4 columns]"
      ]
     },
     "execution_count": 371,
     "metadata": {},
     "output_type": "execute_result"
    }
   ],
   "source": [
    "customer_stats[['order_id', 'total_orders', 'reorders', 'proportion_reordered']]"
   ]
  },
  {
   "cell_type": "markdown",
   "id": "92d35137",
   "metadata": {},
   "source": [
    "### What are the top 20 items that people put in their carts first? "
   ]
  },
  {
   "cell_type": "code",
   "execution_count": 374,
   "id": "9c88270a",
   "metadata": {},
   "outputs": [],
   "source": [
    "# Sort the DataFrame by 'order_id' and 'add_to_cart_order'\n",
    "sorted_df = order_products_df.sort_values(by=['order_id', 'add_to_cart_order'])"
   ]
  },
  {
   "cell_type": "code",
   "execution_count": 375,
   "id": "576a86b3",
   "metadata": {},
   "outputs": [],
   "source": [
    "# Get the first item for each order\n",
    "first_items = sorted_df.groupby('order_id').first().reset_index()"
   ]
  },
  {
   "cell_type": "code",
   "execution_count": 376,
   "id": "1d41fb45",
   "metadata": {},
   "outputs": [],
   "source": [
    "# Count the frequency of each product being the first item\n",
    "first_item_counts = first_items['product_id'].value_counts()"
   ]
  },
  {
   "cell_type": "code",
   "execution_count": 377,
   "id": "1e16e966",
   "metadata": {},
   "outputs": [],
   "source": [
    "# Convert to DataFrame for better handling\n",
    "first_item_counts_df = first_item_counts.reset_index(name='count')\n",
    "first_item_counts_df.columns = ['product_id', 'count']"
   ]
  },
  {
   "cell_type": "code",
   "execution_count": 382,
   "id": "0ae57274",
   "metadata": {},
   "outputs": [
    {
     "data": {
      "text/html": [
       "<div>\n",
       "<style scoped>\n",
       "    .dataframe tbody tr th:only-of-type {\n",
       "        vertical-align: middle;\n",
       "    }\n",
       "\n",
       "    .dataframe tbody tr th {\n",
       "        vertical-align: top;\n",
       "    }\n",
       "\n",
       "    .dataframe thead th {\n",
       "        text-align: right;\n",
       "    }\n",
       "</style>\n",
       "<table border=\"1\" class=\"dataframe\">\n",
       "  <thead>\n",
       "    <tr style=\"text-align: right;\">\n",
       "      <th></th>\n",
       "      <th>product_id</th>\n",
       "      <th>count</th>\n",
       "    </tr>\n",
       "  </thead>\n",
       "  <tbody>\n",
       "    <tr>\n",
       "      <th>0</th>\n",
       "      <td>24852</td>\n",
       "      <td>15562</td>\n",
       "    </tr>\n",
       "    <tr>\n",
       "      <th>1</th>\n",
       "      <td>13176</td>\n",
       "      <td>11026</td>\n",
       "    </tr>\n",
       "    <tr>\n",
       "      <th>2</th>\n",
       "      <td>27845</td>\n",
       "      <td>4363</td>\n",
       "    </tr>\n",
       "    <tr>\n",
       "      <th>3</th>\n",
       "      <td>21137</td>\n",
       "      <td>3946</td>\n",
       "    </tr>\n",
       "    <tr>\n",
       "      <th>4</th>\n",
       "      <td>47209</td>\n",
       "      <td>3390</td>\n",
       "    </tr>\n",
       "    <tr>\n",
       "      <th>5</th>\n",
       "      <td>21903</td>\n",
       "      <td>3336</td>\n",
       "    </tr>\n",
       "    <tr>\n",
       "      <th>6</th>\n",
       "      <td>47766</td>\n",
       "      <td>3044</td>\n",
       "    </tr>\n",
       "    <tr>\n",
       "      <th>7</th>\n",
       "      <td>19660</td>\n",
       "      <td>2336</td>\n",
       "    </tr>\n",
       "    <tr>\n",
       "      <th>8</th>\n",
       "      <td>16797</td>\n",
       "      <td>2308</td>\n",
       "    </tr>\n",
       "    <tr>\n",
       "      <th>9</th>\n",
       "      <td>27966</td>\n",
       "      <td>2024</td>\n",
       "    </tr>\n",
       "    <tr>\n",
       "      <th>10</th>\n",
       "      <td>44632</td>\n",
       "      <td>1914</td>\n",
       "    </tr>\n",
       "    <tr>\n",
       "      <th>11</th>\n",
       "      <td>49235</td>\n",
       "      <td>1797</td>\n",
       "    </tr>\n",
       "    <tr>\n",
       "      <th>12</th>\n",
       "      <td>47626</td>\n",
       "      <td>1737</td>\n",
       "    </tr>\n",
       "    <tr>\n",
       "      <th>13</th>\n",
       "      <td>196</td>\n",
       "      <td>1733</td>\n",
       "    </tr>\n",
       "    <tr>\n",
       "      <th>14</th>\n",
       "      <td>38689</td>\n",
       "      <td>1397</td>\n",
       "    </tr>\n",
       "    <tr>\n",
       "      <th>15</th>\n",
       "      <td>26209</td>\n",
       "      <td>1370</td>\n",
       "    </tr>\n",
       "    <tr>\n",
       "      <th>16</th>\n",
       "      <td>12341</td>\n",
       "      <td>1340</td>\n",
       "    </tr>\n",
       "    <tr>\n",
       "      <th>17</th>\n",
       "      <td>5785</td>\n",
       "      <td>1310</td>\n",
       "    </tr>\n",
       "    <tr>\n",
       "      <th>18</th>\n",
       "      <td>27086</td>\n",
       "      <td>1309</td>\n",
       "    </tr>\n",
       "    <tr>\n",
       "      <th>19</th>\n",
       "      <td>22935</td>\n",
       "      <td>1246</td>\n",
       "    </tr>\n",
       "  </tbody>\n",
       "</table>\n",
       "</div>"
      ],
      "text/plain": [
       "    product_id  count\n",
       "0        24852  15562\n",
       "1        13176  11026\n",
       "2        27845   4363\n",
       "3        21137   3946\n",
       "4        47209   3390\n",
       "5        21903   3336\n",
       "6        47766   3044\n",
       "7        19660   2336\n",
       "8        16797   2308\n",
       "9        27966   2024\n",
       "10       44632   1914\n",
       "11       49235   1797\n",
       "12       47626   1737\n",
       "13         196   1733\n",
       "14       38689   1397\n",
       "15       26209   1370\n",
       "16       12341   1340\n",
       "17        5785   1310\n",
       "18       27086   1309\n",
       "19       22935   1246"
      ]
     },
     "execution_count": 382,
     "metadata": {},
     "output_type": "execute_result"
    }
   ],
   "source": [
    "top_20_first_items = first_item_counts_df.head(20)\n",
    "top_20_first_items"
   ]
  },
  {
   "cell_type": "markdown",
   "id": "f15d5717",
   "metadata": {},
   "source": [
    "# CONCLUSION\n"
   ]
  },
  {
   "cell_type": "markdown",
   "id": "084dee93-b5aa-4101-8693-1e93ce3f711f",
   "metadata": {},
   "source": [
    "In conclusion, each analysis provides valuable insights into customer behavior, shopping patterns, and product preferences, helping to understand and optimize the shopping experience. For example, with peak order volumes occurring between 6 PM and 10 PM, underscoring this time frame as a key period for grocery sales. Conversely, the identified off-peak hours with lower order counts suggest these are less favorable times for shopping. The insights can be leveraged for targeted marketing, better inventory management, and optimizing customer experience.  Understanding these trends can help optimize staffing, inventory management, and marketing strategies to better align with customer activity and maximize efficiency."
   ]
  }
 ],
 "metadata": {
  "ExecuteTimeLog": [
   {
    "duration": 457,
    "start_time": "2024-08-11T18:15:12.229Z"
   },
   {
    "duration": 3,
    "start_time": "2024-08-11T18:15:56.913Z"
   },
   {
    "duration": 5,
    "start_time": "2024-08-11T18:15:56.919Z"
   },
   {
    "duration": 5,
    "start_time": "2024-08-11T18:15:56.928Z"
   },
   {
    "duration": 4,
    "start_time": "2024-08-11T18:15:56.936Z"
   },
   {
    "duration": 3,
    "start_time": "2024-08-11T18:15:56.945Z"
   },
   {
    "duration": 3,
    "start_time": "2024-08-11T18:15:56.951Z"
   },
   {
    "duration": 53,
    "start_time": "2024-08-11T18:15:56.957Z"
   },
   {
    "duration": 4,
    "start_time": "2024-08-11T18:15:57.012Z"
   },
   {
    "duration": 4,
    "start_time": "2024-08-11T18:15:57.019Z"
   },
   {
    "duration": 3,
    "start_time": "2024-08-11T18:15:57.028Z"
   },
   {
    "duration": 5,
    "start_time": "2024-08-11T18:15:57.034Z"
   },
   {
    "duration": 4,
    "start_time": "2024-08-11T18:15:57.042Z"
   },
   {
    "duration": 4,
    "start_time": "2024-08-11T18:15:57.049Z"
   },
   {
    "duration": 3,
    "start_time": "2024-08-11T18:15:57.111Z"
   },
   {
    "duration": 4,
    "start_time": "2024-08-11T18:15:57.117Z"
   },
   {
    "duration": 4,
    "start_time": "2024-08-11T18:15:57.125Z"
   },
   {
    "duration": 4,
    "start_time": "2024-08-11T18:15:57.132Z"
   },
   {
    "duration": 4,
    "start_time": "2024-08-11T18:15:57.139Z"
   },
   {
    "duration": 4,
    "start_time": "2024-08-11T18:15:57.146Z"
   },
   {
    "duration": 4,
    "start_time": "2024-08-11T18:15:57.209Z"
   },
   {
    "duration": 3,
    "start_time": "2024-08-11T18:17:35.792Z"
   },
   {
    "duration": 4,
    "start_time": "2024-08-11T18:20:09.207Z"
   },
   {
    "duration": 349,
    "start_time": "2024-08-11T18:24:54.293Z"
   },
   {
    "duration": 515,
    "start_time": "2024-08-11T18:25:04.281Z"
   },
   {
    "duration": 508,
    "start_time": "2024-08-11T18:26:13.682Z"
   },
   {
    "duration": 3876,
    "start_time": "2024-08-11T18:27:04.295Z"
   },
   {
    "duration": 4,
    "start_time": "2024-08-11T18:27:24.156Z"
   },
   {
    "duration": 38,
    "start_time": "2024-08-11T18:28:34.577Z"
   },
   {
    "duration": 5,
    "start_time": "2024-08-11T18:29:07.325Z"
   },
   {
    "duration": 8,
    "start_time": "2024-08-11T18:29:46.957Z"
   },
   {
    "duration": 3,
    "start_time": "2024-08-11T18:29:51.052Z"
   },
   {
    "duration": 11,
    "start_time": "2024-08-11T18:29:54.249Z"
   },
   {
    "duration": 5,
    "start_time": "2024-08-11T18:31:47.681Z"
   },
   {
    "duration": 29,
    "start_time": "2024-08-11T18:31:50.680Z"
   },
   {
    "duration": 3586,
    "start_time": "2024-08-11T18:35:26.136Z"
   },
   {
    "duration": 27,
    "start_time": "2024-08-11T18:35:29.729Z"
   },
   {
    "duration": 28,
    "start_time": "2024-08-11T18:35:56.808Z"
   },
   {
    "duration": 12,
    "start_time": "2024-08-11T18:51:11.744Z"
   },
   {
    "duration": 13,
    "start_time": "2024-08-11T18:51:45.196Z"
   },
   {
    "duration": 188,
    "start_time": "2024-08-11T18:54:59.109Z"
   },
   {
    "duration": 28,
    "start_time": "2024-08-11T18:55:00.701Z"
   },
   {
    "duration": 53,
    "start_time": "2024-08-11T18:55:45.989Z"
   },
   {
    "duration": 14,
    "start_time": "2024-08-11T18:55:48.095Z"
   },
   {
    "duration": 9,
    "start_time": "2024-08-11T19:00:48.607Z"
   },
   {
    "duration": 13,
    "start_time": "2024-08-11T19:00:50.957Z"
   },
   {
    "duration": 7,
    "start_time": "2024-08-11T19:01:06.273Z"
   },
   {
    "duration": 10,
    "start_time": "2024-08-11T19:01:08.317Z"
   },
   {
    "duration": 7,
    "start_time": "2024-08-11T19:07:39.601Z"
   },
   {
    "duration": 11,
    "start_time": "2024-08-11T19:07:41.982Z"
   },
   {
    "duration": 7,
    "start_time": "2024-08-11T19:08:13.648Z"
   },
   {
    "duration": 9,
    "start_time": "2024-08-11T19:08:15.561Z"
   },
   {
    "duration": 10,
    "start_time": "2024-08-11T19:08:30.313Z"
   },
   {
    "duration": 10,
    "start_time": "2024-08-11T19:08:32.461Z"
   },
   {
    "duration": 3306,
    "start_time": "2024-08-11T19:09:13.737Z"
   },
   {
    "duration": 312,
    "start_time": "2024-08-11T19:09:17.046Z"
   },
   {
    "duration": 1291,
    "start_time": "2024-08-11T19:09:29.126Z"
   },
   {
    "duration": 296,
    "start_time": "2024-08-11T19:09:31.213Z"
   },
   {
    "duration": 15,
    "start_time": "2024-08-11T19:10:28.499Z"
   },
   {
    "duration": 4,
    "start_time": "2024-08-11T20:06:00.249Z"
   },
   {
    "duration": 192,
    "start_time": "2024-08-11T20:06:00.257Z"
   },
   {
    "duration": 29,
    "start_time": "2024-08-11T20:06:00.451Z"
   },
   {
    "duration": 65,
    "start_time": "2024-08-11T20:06:00.484Z"
   },
   {
    "duration": 13,
    "start_time": "2024-08-11T20:06:00.552Z"
   },
   {
    "duration": 8,
    "start_time": "2024-08-11T20:06:00.568Z"
   },
   {
    "duration": 37,
    "start_time": "2024-08-11T20:06:00.579Z"
   },
   {
    "duration": 9,
    "start_time": "2024-08-11T20:06:00.619Z"
   },
   {
    "duration": 10,
    "start_time": "2024-08-11T20:06:00.633Z"
   },
   {
    "duration": 1247,
    "start_time": "2024-08-11T20:06:00.646Z"
   },
   {
    "duration": 314,
    "start_time": "2024-08-11T20:06:01.896Z"
   },
   {
    "duration": 3,
    "start_time": "2024-08-11T20:06:02.213Z"
   },
   {
    "duration": 3,
    "start_time": "2024-08-11T20:06:02.220Z"
   },
   {
    "duration": 4,
    "start_time": "2024-08-11T20:06:02.226Z"
   },
   {
    "duration": 4,
    "start_time": "2024-08-11T20:06:02.233Z"
   },
   {
    "duration": 5,
    "start_time": "2024-08-11T20:06:02.240Z"
   },
   {
    "duration": 4,
    "start_time": "2024-08-11T20:06:02.248Z"
   },
   {
    "duration": 4,
    "start_time": "2024-08-11T20:06:02.309Z"
   },
   {
    "duration": 5,
    "start_time": "2024-08-11T20:06:02.316Z"
   },
   {
    "duration": 5,
    "start_time": "2024-08-11T20:06:02.324Z"
   },
   {
    "duration": 3,
    "start_time": "2024-08-11T20:06:02.332Z"
   },
   {
    "duration": 5,
    "start_time": "2024-08-11T20:06:02.338Z"
   },
   {
    "duration": 4,
    "start_time": "2024-08-11T20:06:02.346Z"
   },
   {
    "duration": 4,
    "start_time": "2024-08-11T20:06:02.410Z"
   },
   {
    "duration": 4,
    "start_time": "2024-08-11T20:06:02.417Z"
   },
   {
    "duration": 4,
    "start_time": "2024-08-11T20:06:02.426Z"
   },
   {
    "duration": 3,
    "start_time": "2024-08-11T20:06:02.434Z"
   },
   {
    "duration": 3,
    "start_time": "2024-08-11T20:06:02.441Z"
   },
   {
    "duration": 4,
    "start_time": "2024-08-11T20:06:02.448Z"
   },
   {
    "duration": 3,
    "start_time": "2024-08-11T20:06:02.510Z"
   },
   {
    "duration": 3,
    "start_time": "2024-08-11T20:06:02.517Z"
   },
   {
    "duration": 183,
    "start_time": "2024-08-11T20:06:56.100Z"
   },
   {
    "duration": 17,
    "start_time": "2024-08-11T20:35:02.162Z"
   },
   {
    "duration": 16,
    "start_time": "2024-08-11T20:35:29.534Z"
   },
   {
    "duration": 13,
    "start_time": "2024-08-11T20:35:50.541Z"
   },
   {
    "duration": 13,
    "start_time": "2024-08-11T20:36:46.437Z"
   },
   {
    "duration": 11,
    "start_time": "2024-08-11T20:37:12.087Z"
   },
   {
    "duration": 184,
    "start_time": "2024-08-11T20:41:38.467Z"
   },
   {
    "duration": 30,
    "start_time": "2024-08-11T20:41:40.385Z"
   },
   {
    "duration": 22,
    "start_time": "2024-08-11T20:41:42.669Z"
   },
   {
    "duration": 11,
    "start_time": "2024-08-11T20:54:12.756Z"
   },
   {
    "duration": 26,
    "start_time": "2024-08-11T20:54:33.482Z"
   },
   {
    "duration": 507,
    "start_time": "2024-08-11T20:54:39.032Z"
   },
   {
    "duration": 11,
    "start_time": "2024-08-11T20:55:42.264Z"
   },
   {
    "duration": 607,
    "start_time": "2024-08-11T20:55:48.481Z"
   },
   {
    "duration": 16,
    "start_time": "2024-08-11T21:10:02.737Z"
   },
   {
    "duration": 23,
    "start_time": "2024-08-11T21:10:19.417Z"
   },
   {
    "duration": 562,
    "start_time": "2024-08-11T21:10:24.365Z"
   },
   {
    "duration": 556,
    "start_time": "2024-08-11T21:36:15.697Z"
   },
   {
    "duration": 17,
    "start_time": "2024-08-11T21:36:17.980Z"
   },
   {
    "duration": 604,
    "start_time": "2024-08-11T21:36:59.065Z"
   },
   {
    "duration": 11,
    "start_time": "2024-08-11T21:50:36.456Z"
   },
   {
    "duration": 163,
    "start_time": "2024-08-11T21:50:49.260Z"
   },
   {
    "duration": 166,
    "start_time": "2024-08-11T21:51:02.701Z"
   },
   {
    "duration": 163,
    "start_time": "2024-08-11T21:51:20.980Z"
   },
   {
    "duration": 157,
    "start_time": "2024-08-11T21:51:23.332Z"
   },
   {
    "duration": 16,
    "start_time": "2024-08-11T22:04:01.276Z"
   },
   {
    "duration": 11,
    "start_time": "2024-08-11T22:04:16.401Z"
   },
   {
    "duration": 16,
    "start_time": "2024-08-11T22:06:33.465Z"
   },
   {
    "duration": 12,
    "start_time": "2024-08-11T22:06:55.834Z"
   },
   {
    "duration": 14,
    "start_time": "2024-08-11T22:07:04.687Z"
   },
   {
    "duration": 38,
    "start_time": "2024-08-11T22:07:11.249Z"
   },
   {
    "duration": 309,
    "start_time": "2024-08-12T17:08:42.188Z"
   },
   {
    "duration": 487,
    "start_time": "2024-08-12T17:08:58.416Z"
   },
   {
    "duration": 251,
    "start_time": "2024-08-12T17:08:58.906Z"
   },
   {
    "duration": 39,
    "start_time": "2024-08-12T17:08:59.160Z"
   },
   {
    "duration": 19,
    "start_time": "2024-08-12T17:08:59.212Z"
   },
   {
    "duration": 1297,
    "start_time": "2024-08-12T17:08:59.236Z"
   },
   {
    "duration": 0,
    "start_time": "2024-08-12T17:09:00.538Z"
   },
   {
    "duration": 0,
    "start_time": "2024-08-12T17:09:00.540Z"
   },
   {
    "duration": 0,
    "start_time": "2024-08-12T17:09:00.543Z"
   },
   {
    "duration": 0,
    "start_time": "2024-08-12T17:09:00.545Z"
   },
   {
    "duration": 0,
    "start_time": "2024-08-12T17:09:00.548Z"
   },
   {
    "duration": 0,
    "start_time": "2024-08-12T17:09:00.550Z"
   },
   {
    "duration": 0,
    "start_time": "2024-08-12T17:09:00.552Z"
   },
   {
    "duration": 0,
    "start_time": "2024-08-12T17:09:00.555Z"
   },
   {
    "duration": 0,
    "start_time": "2024-08-12T17:09:00.557Z"
   },
   {
    "duration": 0,
    "start_time": "2024-08-12T17:09:00.560Z"
   },
   {
    "duration": 0,
    "start_time": "2024-08-12T17:09:00.563Z"
   },
   {
    "duration": 0,
    "start_time": "2024-08-12T17:09:00.565Z"
   },
   {
    "duration": 0,
    "start_time": "2024-08-12T17:09:00.613Z"
   },
   {
    "duration": 0,
    "start_time": "2024-08-12T17:09:00.616Z"
   },
   {
    "duration": 0,
    "start_time": "2024-08-12T17:09:00.618Z"
   },
   {
    "duration": 0,
    "start_time": "2024-08-12T17:09:00.621Z"
   },
   {
    "duration": 0,
    "start_time": "2024-08-12T17:09:00.623Z"
   },
   {
    "duration": 0,
    "start_time": "2024-08-12T17:09:00.626Z"
   },
   {
    "duration": 0,
    "start_time": "2024-08-12T17:09:00.629Z"
   },
   {
    "duration": 0,
    "start_time": "2024-08-12T17:09:00.632Z"
   },
   {
    "duration": 0,
    "start_time": "2024-08-12T17:09:00.634Z"
   },
   {
    "duration": 0,
    "start_time": "2024-08-12T17:09:00.636Z"
   },
   {
    "duration": 0,
    "start_time": "2024-08-12T17:09:00.638Z"
   },
   {
    "duration": 0,
    "start_time": "2024-08-12T17:09:00.640Z"
   },
   {
    "duration": 0,
    "start_time": "2024-08-12T17:09:00.643Z"
   },
   {
    "duration": 0,
    "start_time": "2024-08-12T17:09:00.645Z"
   },
   {
    "duration": 0,
    "start_time": "2024-08-12T17:09:00.646Z"
   },
   {
    "duration": 0,
    "start_time": "2024-08-12T17:09:00.649Z"
   },
   {
    "duration": 0,
    "start_time": "2024-08-12T17:09:00.713Z"
   },
   {
    "duration": 1,
    "start_time": "2024-08-12T17:09:00.715Z"
   },
   {
    "duration": 0,
    "start_time": "2024-08-12T17:09:00.718Z"
   },
   {
    "duration": 0,
    "start_time": "2024-08-12T17:09:00.720Z"
   },
   {
    "duration": 0,
    "start_time": "2024-08-12T17:09:00.721Z"
   },
   {
    "duration": 0,
    "start_time": "2024-08-12T17:09:00.723Z"
   },
   {
    "duration": 0,
    "start_time": "2024-08-12T17:09:00.726Z"
   },
   {
    "duration": 0,
    "start_time": "2024-08-12T17:09:00.727Z"
   },
   {
    "duration": 17,
    "start_time": "2024-08-12T17:09:23.587Z"
   },
   {
    "duration": 11,
    "start_time": "2024-08-12T17:13:01.283Z"
   },
   {
    "duration": 17,
    "start_time": "2024-08-12T17:13:04.715Z"
   },
   {
    "duration": 31,
    "start_time": "2024-08-12T17:18:02.312Z"
   },
   {
    "duration": 95,
    "start_time": "2024-08-12T17:18:13.504Z"
   },
   {
    "duration": 85,
    "start_time": "2024-08-12T17:18:16.648Z"
   },
   {
    "duration": 18,
    "start_time": "2024-08-12T17:18:34.207Z"
   },
   {
    "duration": 82,
    "start_time": "2024-08-12T17:18:42.341Z"
   },
   {
    "duration": 18,
    "start_time": "2024-08-12T17:19:49.144Z"
   },
   {
    "duration": 17,
    "start_time": "2024-08-12T17:19:54.817Z"
   },
   {
    "duration": 17,
    "start_time": "2024-08-12T17:20:27.148Z"
   },
   {
    "duration": 18,
    "start_time": "2024-08-12T17:20:49.325Z"
   },
   {
    "duration": 17,
    "start_time": "2024-08-12T17:21:24.139Z"
   },
   {
    "duration": 558,
    "start_time": "2024-08-12T18:24:03.736Z"
   },
   {
    "duration": 7,
    "start_time": "2024-08-12T18:24:40.072Z"
   },
   {
    "duration": 21,
    "start_time": "2024-08-12T18:24:58.735Z"
   },
   {
    "duration": 21,
    "start_time": "2024-08-12T18:25:07.232Z"
   },
   {
    "duration": 96,
    "start_time": "2024-08-12T18:25:10.263Z"
   },
   {
    "duration": 13,
    "start_time": "2024-08-12T18:25:12.684Z"
   },
   {
    "duration": 19,
    "start_time": "2024-08-12T18:25:14.984Z"
   },
   {
    "duration": 11,
    "start_time": "2024-08-12T18:25:19.885Z"
   },
   {
    "duration": 4,
    "start_time": "2024-08-12T18:25:33.568Z"
   },
   {
    "duration": 205,
    "start_time": "2024-08-12T18:25:33.575Z"
   },
   {
    "duration": 44,
    "start_time": "2024-08-12T18:25:33.783Z"
   },
   {
    "duration": 16,
    "start_time": "2024-08-12T18:25:33.830Z"
   },
   {
    "duration": 12,
    "start_time": "2024-08-12T18:25:33.850Z"
   },
   {
    "duration": 55,
    "start_time": "2024-08-12T18:25:33.866Z"
   },
   {
    "duration": 549,
    "start_time": "2024-08-12T18:25:33.924Z"
   },
   {
    "duration": 7,
    "start_time": "2024-08-12T18:25:34.476Z"
   },
   {
    "duration": 73,
    "start_time": "2024-08-12T18:25:34.486Z"
   },
   {
    "duration": 13,
    "start_time": "2024-08-12T18:25:34.562Z"
   },
   {
    "duration": 41,
    "start_time": "2024-08-12T18:25:34.583Z"
   },
   {
    "duration": 8,
    "start_time": "2024-08-12T18:25:34.626Z"
   },
   {
    "duration": 10,
    "start_time": "2024-08-12T18:25:34.637Z"
   },
   {
    "duration": 11,
    "start_time": "2024-08-12T18:25:34.650Z"
   },
   {
    "duration": 55,
    "start_time": "2024-08-12T18:25:34.664Z"
   },
   {
    "duration": 11,
    "start_time": "2024-08-12T18:25:34.722Z"
   },
   {
    "duration": 10,
    "start_time": "2024-08-12T18:25:34.736Z"
   },
   {
    "duration": 13,
    "start_time": "2024-08-12T18:25:34.750Z"
   },
   {
    "duration": 1375,
    "start_time": "2024-08-12T18:25:34.767Z"
   },
   {
    "duration": 323,
    "start_time": "2024-08-12T18:25:36.145Z"
   },
   {
    "duration": 50,
    "start_time": "2024-08-12T18:25:36.472Z"
   },
   {
    "duration": 168,
    "start_time": "2024-08-12T18:25:36.525Z"
   },
   {
    "duration": 171,
    "start_time": "2024-08-12T18:25:36.696Z"
   },
   {
    "duration": 5,
    "start_time": "2024-08-12T18:25:36.871Z"
   },
   {
    "duration": 3,
    "start_time": "2024-08-12T18:25:36.879Z"
   },
   {
    "duration": 30,
    "start_time": "2024-08-12T18:25:36.885Z"
   },
   {
    "duration": 3,
    "start_time": "2024-08-12T18:25:36.919Z"
   },
   {
    "duration": 3,
    "start_time": "2024-08-12T18:25:36.926Z"
   },
   {
    "duration": 4,
    "start_time": "2024-08-12T18:25:36.937Z"
   },
   {
    "duration": 3,
    "start_time": "2024-08-12T18:25:36.944Z"
   },
   {
    "duration": 4,
    "start_time": "2024-08-12T18:25:36.951Z"
   },
   {
    "duration": 55,
    "start_time": "2024-08-12T18:25:36.959Z"
   },
   {
    "duration": 4,
    "start_time": "2024-08-12T18:25:37.017Z"
   },
   {
    "duration": 4,
    "start_time": "2024-08-12T18:25:37.025Z"
   },
   {
    "duration": 7,
    "start_time": "2024-08-12T18:25:37.032Z"
   },
   {
    "duration": 4,
    "start_time": "2024-08-12T18:25:37.042Z"
   },
   {
    "duration": 4,
    "start_time": "2024-08-12T18:25:37.048Z"
   },
   {
    "duration": 3,
    "start_time": "2024-08-12T18:25:37.056Z"
   },
   {
    "duration": 4,
    "start_time": "2024-08-12T18:25:37.113Z"
   },
   {
    "duration": 4,
    "start_time": "2024-08-12T18:25:37.120Z"
   },
   {
    "duration": 3,
    "start_time": "2024-08-12T18:25:37.127Z"
   },
   {
    "duration": 3,
    "start_time": "2024-08-12T18:25:37.134Z"
   },
   {
    "duration": 7,
    "start_time": "2024-08-12T18:26:55.634Z"
   },
   {
    "duration": 7,
    "start_time": "2024-08-12T18:27:19.595Z"
   },
   {
    "duration": 6,
    "start_time": "2024-08-12T18:27:38.449Z"
   },
   {
    "duration": 27,
    "start_time": "2024-08-12T18:32:21.028Z"
   },
   {
    "duration": 9,
    "start_time": "2024-08-12T18:32:31.206Z"
   },
   {
    "duration": 99,
    "start_time": "2024-08-12T18:32:46.571Z"
   },
   {
    "duration": 11,
    "start_time": "2024-08-12T18:32:50.336Z"
   },
   {
    "duration": 10,
    "start_time": "2024-08-12T18:33:38.440Z"
   },
   {
    "duration": 19,
    "start_time": "2024-08-12T18:33:48.130Z"
   },
   {
    "duration": 13,
    "start_time": "2024-08-12T18:33:54.491Z"
   },
   {
    "duration": 22,
    "start_time": "2024-08-12T18:34:11.897Z"
   },
   {
    "duration": 16,
    "start_time": "2024-08-12T18:34:15.993Z"
   },
   {
    "duration": 13,
    "start_time": "2024-08-12T18:34:54.101Z"
   },
   {
    "duration": 51,
    "start_time": "2024-08-12T19:47:26.476Z"
   },
   {
    "duration": 187,
    "start_time": "2024-08-12T19:49:00.984Z"
   },
   {
    "duration": 16,
    "start_time": "2024-08-12T19:49:12.883Z"
   },
   {
    "duration": 51,
    "start_time": "2024-08-12T19:54:39.184Z"
   },
   {
    "duration": 13,
    "start_time": "2024-08-12T19:54:42.725Z"
   },
   {
    "duration": 17,
    "start_time": "2024-08-12T19:54:47.848Z"
   },
   {
    "duration": 12,
    "start_time": "2024-08-12T19:55:05.613Z"
   },
   {
    "duration": 57,
    "start_time": "2024-08-12T19:55:26.042Z"
   },
   {
    "duration": 103,
    "start_time": "2024-08-12T19:55:47.044Z"
   },
   {
    "duration": 7,
    "start_time": "2024-08-12T19:56:00.040Z"
   },
   {
    "duration": 777,
    "start_time": "2024-08-12T19:56:42.530Z"
   },
   {
    "duration": 9,
    "start_time": "2024-08-12T19:57:26.081Z"
   },
   {
    "duration": 228,
    "start_time": "2024-08-12T19:58:17.200Z"
   },
   {
    "duration": 51,
    "start_time": "2024-08-12T20:00:48.572Z"
   },
   {
    "duration": 6,
    "start_time": "2024-08-12T20:01:20.876Z"
   },
   {
    "duration": 7,
    "start_time": "2024-08-12T20:01:42.572Z"
   },
   {
    "duration": 11,
    "start_time": "2024-08-12T20:01:56.184Z"
   },
   {
    "duration": 16,
    "start_time": "2024-08-12T20:02:11.929Z"
   },
   {
    "duration": 7,
    "start_time": "2024-08-12T20:02:53.264Z"
   },
   {
    "duration": 442,
    "start_time": "2024-08-12T20:03:56.880Z"
   },
   {
    "duration": 203,
    "start_time": "2024-08-12T20:03:59.125Z"
   },
   {
    "duration": 38,
    "start_time": "2024-08-12T20:04:00.827Z"
   },
   {
    "duration": 19,
    "start_time": "2024-08-12T20:04:09.558Z"
   },
   {
    "duration": 11,
    "start_time": "2024-08-12T20:04:16.995Z"
   },
   {
    "duration": 18,
    "start_time": "2024-08-12T20:04:19.343Z"
   },
   {
    "duration": 559,
    "start_time": "2024-08-12T20:04:26.639Z"
   },
   {
    "duration": 7,
    "start_time": "2024-08-12T20:04:29.773Z"
   },
   {
    "duration": 16,
    "start_time": "2024-08-12T20:04:37.360Z"
   },
   {
    "duration": 362,
    "start_time": "2024-08-12T20:05:13.306Z"
   },
   {
    "duration": 59,
    "start_time": "2024-08-12T20:05:21.498Z"
   },
   {
    "duration": 14,
    "start_time": "2024-08-12T20:05:23.357Z"
   },
   {
    "duration": 16,
    "start_time": "2024-08-12T20:05:26.066Z"
   },
   {
    "duration": 11,
    "start_time": "2024-08-12T20:05:31.971Z"
   },
   {
    "duration": 63,
    "start_time": "2024-08-12T20:05:35.006Z"
   },
   {
    "duration": 92,
    "start_time": "2024-08-12T20:05:38.285Z"
   },
   {
    "duration": 91,
    "start_time": "2024-08-12T20:05:45.870Z"
   },
   {
    "duration": 477,
    "start_time": "2024-08-12T20:38:13.688Z"
   },
   {
    "duration": 204,
    "start_time": "2024-08-12T20:38:46.984Z"
   },
   {
    "duration": 37,
    "start_time": "2024-08-12T20:38:49.179Z"
   },
   {
    "duration": 20,
    "start_time": "2024-08-12T20:38:54.663Z"
   },
   {
    "duration": 19,
    "start_time": "2024-08-12T20:43:26.788Z"
   },
   {
    "duration": 12,
    "start_time": "2024-08-12T20:43:33.240Z"
   },
   {
    "duration": 17,
    "start_time": "2024-08-12T20:43:40.641Z"
   },
   {
    "duration": 573,
    "start_time": "2024-08-12T20:43:47.052Z"
   },
   {
    "duration": 7,
    "start_time": "2024-08-12T20:44:05.641Z"
   },
   {
    "duration": 17,
    "start_time": "2024-08-12T20:44:15.083Z"
   },
   {
    "duration": 53,
    "start_time": "2024-08-12T20:44:20.451Z"
   },
   {
    "duration": 15,
    "start_time": "2024-08-12T20:44:23.128Z"
   },
   {
    "duration": 17,
    "start_time": "2024-08-12T20:44:29.576Z"
   },
   {
    "duration": 15,
    "start_time": "2024-08-12T20:44:35.342Z"
   },
   {
    "duration": 53,
    "start_time": "2024-08-12T20:44:40.209Z"
   },
   {
    "duration": 91,
    "start_time": "2024-08-12T20:44:45.061Z"
   },
   {
    "duration": 16,
    "start_time": "2024-08-12T20:45:42.460Z"
   },
   {
    "duration": 12,
    "start_time": "2024-08-12T20:46:12.599Z"
   },
   {
    "duration": 46,
    "start_time": "2024-08-12T20:46:15.220Z"
   },
   {
    "duration": 103,
    "start_time": "2024-08-12T20:46:20.248Z"
   },
   {
    "duration": 17,
    "start_time": "2024-08-12T20:46:22.848Z"
   },
   {
    "duration": 11,
    "start_time": "2024-08-12T20:47:13.957Z"
   },
   {
    "duration": 11,
    "start_time": "2024-08-12T20:47:16.001Z"
   },
   {
    "duration": 13,
    "start_time": "2024-08-12T20:47:18.556Z"
   },
   {
    "duration": 8,
    "start_time": "2024-08-12T20:47:24.899Z"
   },
   {
    "duration": 7,
    "start_time": "2024-08-12T20:47:29.421Z"
   },
   {
    "duration": 9,
    "start_time": "2024-08-12T20:47:52.534Z"
   },
   {
    "duration": 10,
    "start_time": "2024-08-12T20:47:54.900Z"
   },
   {
    "duration": 13,
    "start_time": "2024-08-12T20:48:00.910Z"
   },
   {
    "duration": 9,
    "start_time": "2024-08-12T20:48:06.700Z"
   },
   {
    "duration": 7,
    "start_time": "2024-08-12T20:48:08.992Z"
   },
   {
    "duration": 8,
    "start_time": "2024-08-12T20:48:32.075Z"
   },
   {
    "duration": 1262,
    "start_time": "2024-08-12T20:48:53.885Z"
   },
   {
    "duration": 318,
    "start_time": "2024-08-12T20:48:56.337Z"
   },
   {
    "duration": 44,
    "start_time": "2024-08-12T20:49:06.810Z"
   },
   {
    "duration": 13,
    "start_time": "2024-08-12T20:49:14.493Z"
   },
   {
    "duration": 10,
    "start_time": "2024-08-12T20:53:02.055Z"
   },
   {
    "duration": 208,
    "start_time": "2024-08-12T21:06:49.933Z"
   },
   {
    "duration": 28,
    "start_time": "2024-08-12T21:12:42.496Z"
   },
   {
    "duration": 17,
    "start_time": "2024-08-12T21:12:46.940Z"
   },
   {
    "duration": 11,
    "start_time": "2024-08-12T21:20:37.156Z"
   },
   {
    "duration": 13,
    "start_time": "2024-08-12T21:34:38.652Z"
   },
   {
    "duration": 12,
    "start_time": "2024-08-12T21:34:41.580Z"
   },
   {
    "duration": 28,
    "start_time": "2024-08-12T21:34:59.447Z"
   },
   {
    "duration": 12,
    "start_time": "2024-08-12T21:35:15.588Z"
   },
   {
    "duration": 17,
    "start_time": "2024-08-12T21:39:22.580Z"
   },
   {
    "duration": 529,
    "start_time": "2024-08-12T21:44:15.509Z"
   },
   {
    "duration": 7,
    "start_time": "2024-08-12T21:45:24.157Z"
   },
   {
    "duration": 17,
    "start_time": "2024-08-12T21:47:38.873Z"
   },
   {
    "duration": 52,
    "start_time": "2024-08-12T21:48:50.436Z"
   },
   {
    "duration": 14,
    "start_time": "2024-08-12T21:49:02.560Z"
   },
   {
    "duration": 16,
    "start_time": "2024-08-12T21:49:26.713Z"
   },
   {
    "duration": 11,
    "start_time": "2024-08-12T21:49:47.596Z"
   },
   {
    "duration": 63,
    "start_time": "2024-08-12T21:50:31.865Z"
   },
   {
    "duration": 122,
    "start_time": "2024-08-12T21:50:52.910Z"
   },
   {
    "duration": 8,
    "start_time": "2024-08-12T21:52:00.867Z"
   },
   {
    "duration": 3,
    "start_time": "2024-08-13T00:43:11.823Z"
   },
   {
    "duration": 194,
    "start_time": "2024-08-13T00:43:14.456Z"
   },
   {
    "duration": 42,
    "start_time": "2024-08-13T00:43:18.299Z"
   },
   {
    "duration": 20,
    "start_time": "2024-08-13T00:43:23.422Z"
   },
   {
    "duration": 11,
    "start_time": "2024-08-13T00:43:29.907Z"
   },
   {
    "duration": 11,
    "start_time": "2024-08-13T00:43:32.596Z"
   },
   {
    "duration": 18,
    "start_time": "2024-08-13T00:43:36.811Z"
   },
   {
    "duration": 555,
    "start_time": "2024-08-13T00:43:42.958Z"
   },
   {
    "duration": 8,
    "start_time": "2024-08-13T00:43:46.248Z"
   },
   {
    "duration": 60,
    "start_time": "2024-08-13T00:43:54.367Z"
   },
   {
    "duration": 16,
    "start_time": "2024-08-13T00:44:02.349Z"
   },
   {
    "duration": 4,
    "start_time": "2024-08-13T04:44:29.559Z"
   },
   {
    "duration": 181,
    "start_time": "2024-08-13T04:44:31.745Z"
   },
   {
    "duration": 27,
    "start_time": "2024-08-13T04:44:33.944Z"
   },
   {
    "duration": 17,
    "start_time": "2024-08-13T04:44:36.683Z"
   },
   {
    "duration": 15,
    "start_time": "2024-08-13T04:44:42.601Z"
   },
   {
    "duration": 11,
    "start_time": "2024-08-13T04:44:44.674Z"
   },
   {
    "duration": 12,
    "start_time": "2024-08-13T04:44:50.784Z"
   },
   {
    "duration": 17,
    "start_time": "2024-08-13T04:44:53.757Z"
   },
   {
    "duration": 508,
    "start_time": "2024-08-13T04:44:58.582Z"
   },
   {
    "duration": 7,
    "start_time": "2024-08-13T04:45:02.129Z"
   },
   {
    "duration": 18,
    "start_time": "2024-08-13T04:45:05.865Z"
   },
   {
    "duration": 51,
    "start_time": "2024-08-13T04:45:17.356Z"
   },
   {
    "duration": 12,
    "start_time": "2024-08-13T04:45:19.510Z"
   },
   {
    "duration": 15,
    "start_time": "2024-08-13T04:45:29.014Z"
   },
   {
    "duration": 11,
    "start_time": "2024-08-13T04:45:33.548Z"
   },
   {
    "duration": 11,
    "start_time": "2024-08-13T04:45:37.321Z"
   },
   {
    "duration": 50,
    "start_time": "2024-08-13T04:45:40.541Z"
   },
   {
    "duration": 97,
    "start_time": "2024-08-13T04:45:46.679Z"
   },
   {
    "duration": 6,
    "start_time": "2024-08-13T04:45:48.737Z"
   },
   {
    "duration": 10,
    "start_time": "2024-08-13T04:46:06.035Z"
   },
   {
    "duration": 10,
    "start_time": "2024-08-13T04:46:16.749Z"
   },
   {
    "duration": 14,
    "start_time": "2024-08-13T04:46:30.578Z"
   },
   {
    "duration": 9,
    "start_time": "2024-08-13T04:46:44.812Z"
   },
   {
    "duration": 8,
    "start_time": "2024-08-13T04:47:13.322Z"
   },
   {
    "duration": 9,
    "start_time": "2024-08-13T04:47:26.900Z"
   },
   {
    "duration": 14,
    "start_time": "2024-08-13T04:47:43.019Z"
   },
   {
    "duration": 13,
    "start_time": "2024-08-13T04:47:55.930Z"
   },
   {
    "duration": 8,
    "start_time": "2024-08-13T04:48:31.538Z"
   },
   {
    "duration": 7,
    "start_time": "2024-08-13T04:48:44.877Z"
   },
   {
    "duration": 1245,
    "start_time": "2024-08-13T04:49:02.204Z"
   },
   {
    "duration": 304,
    "start_time": "2024-08-13T04:49:12.236Z"
   },
   {
    "duration": 36,
    "start_time": "2024-08-13T04:49:25.128Z"
   },
   {
    "duration": 29,
    "start_time": "2024-08-13T04:50:09.075Z"
   },
   {
    "duration": 3446,
    "start_time": "2024-08-13T04:50:43.106Z"
   },
   {
    "duration": 7,
    "start_time": "2024-08-13T04:50:57.340Z"
   },
   {
    "duration": 6,
    "start_time": "2024-08-13T04:51:06.266Z"
   },
   {
    "duration": 17,
    "start_time": "2024-08-13T04:59:24.699Z"
   },
   {
    "duration": 8,
    "start_time": "2024-08-13T04:59:53.965Z"
   },
   {
    "duration": 10,
    "start_time": "2024-08-13T05:01:26.422Z"
   },
   {
    "duration": 16,
    "start_time": "2024-08-13T05:01:36.421Z"
   },
   {
    "duration": 10,
    "start_time": "2024-08-13T05:01:58.265Z"
   },
   {
    "duration": 17,
    "start_time": "2024-08-13T05:02:01.613Z"
   },
   {
    "duration": 12,
    "start_time": "2024-08-13T05:02:07.905Z"
   },
   {
    "duration": 15,
    "start_time": "2024-08-13T05:02:10.602Z"
   },
   {
    "duration": 15,
    "start_time": "2024-08-13T05:02:25.114Z"
   },
   {
    "duration": 8,
    "start_time": "2024-08-13T05:02:30.210Z"
   },
   {
    "duration": 16,
    "start_time": "2024-08-13T05:02:32.518Z"
   },
   {
    "duration": 3,
    "start_time": "2024-08-13T05:02:37.578Z"
   },
   {
    "duration": 227,
    "start_time": "2024-08-13T05:02:37.586Z"
   },
   {
    "duration": 28,
    "start_time": "2024-08-13T05:02:37.816Z"
   },
   {
    "duration": 18,
    "start_time": "2024-08-13T05:02:37.846Z"
   },
   {
    "duration": 44,
    "start_time": "2024-08-13T05:02:37.868Z"
   },
   {
    "duration": 8,
    "start_time": "2024-08-13T05:02:37.915Z"
   },
   {
    "duration": 16,
    "start_time": "2024-08-13T05:02:37.926Z"
   },
   {
    "duration": 531,
    "start_time": "2024-08-13T05:02:37.945Z"
   },
   {
    "duration": 7,
    "start_time": "2024-08-13T05:02:38.478Z"
   },
   {
    "duration": 31,
    "start_time": "2024-08-13T05:02:38.489Z"
   },
   {
    "duration": 50,
    "start_time": "2024-08-13T05:02:38.523Z"
   },
   {
    "duration": 38,
    "start_time": "2024-08-13T05:02:38.576Z"
   },
   {
    "duration": 16,
    "start_time": "2024-08-13T05:02:38.621Z"
   },
   {
    "duration": 11,
    "start_time": "2024-08-13T05:02:38.640Z"
   },
   {
    "duration": 78,
    "start_time": "2024-08-13T05:02:38.655Z"
   },
   {
    "duration": 112,
    "start_time": "2024-08-13T05:02:38.736Z"
   },
   {
    "duration": 10,
    "start_time": "2024-08-13T05:02:38.851Z"
   },
   {
    "duration": 9,
    "start_time": "2024-08-13T05:02:38.863Z"
   },
   {
    "duration": 37,
    "start_time": "2024-08-13T05:02:38.875Z"
   },
   {
    "duration": 14,
    "start_time": "2024-08-13T05:02:38.916Z"
   },
   {
    "duration": 8,
    "start_time": "2024-08-13T05:02:38.934Z"
   },
   {
    "duration": 7,
    "start_time": "2024-08-13T05:02:38.945Z"
   },
   {
    "duration": 10,
    "start_time": "2024-08-13T05:02:38.955Z"
   },
   {
    "duration": 53,
    "start_time": "2024-08-13T05:02:38.968Z"
   },
   {
    "duration": 13,
    "start_time": "2024-08-13T05:02:39.024Z"
   },
   {
    "duration": 10,
    "start_time": "2024-08-13T05:02:39.039Z"
   },
   {
    "duration": 7,
    "start_time": "2024-08-13T05:02:39.051Z"
   },
   {
    "duration": 1287,
    "start_time": "2024-08-13T05:02:39.061Z"
   },
   {
    "duration": 306,
    "start_time": "2024-08-13T05:02:40.351Z"
   },
   {
    "duration": 37,
    "start_time": "2024-08-13T05:02:40.660Z"
   },
   {
    "duration": 28,
    "start_time": "2024-08-13T05:02:40.713Z"
   },
   {
    "duration": 3541,
    "start_time": "2024-08-13T05:02:40.744Z"
   },
   {
    "duration": 6,
    "start_time": "2024-08-13T05:02:44.291Z"
   },
   {
    "duration": 146,
    "start_time": "2024-08-13T05:02:44.313Z"
   },
   {
    "duration": 162,
    "start_time": "2024-08-13T05:02:44.462Z"
   },
   {
    "duration": 4,
    "start_time": "2024-08-13T05:02:44.627Z"
   },
   {
    "duration": 2,
    "start_time": "2024-08-13T05:02:44.641Z"
   },
   {
    "duration": 4,
    "start_time": "2024-08-13T05:02:44.646Z"
   },
   {
    "duration": 4,
    "start_time": "2024-08-13T05:02:44.653Z"
   },
   {
    "duration": 3,
    "start_time": "2024-08-13T05:02:44.660Z"
   },
   {
    "duration": 6,
    "start_time": "2024-08-13T05:02:44.712Z"
   },
   {
    "duration": 5,
    "start_time": "2024-08-13T05:02:44.721Z"
   },
   {
    "duration": 4,
    "start_time": "2024-08-13T05:02:44.728Z"
   },
   {
    "duration": 4,
    "start_time": "2024-08-13T05:02:44.735Z"
   },
   {
    "duration": 3,
    "start_time": "2024-08-13T05:02:44.743Z"
   },
   {
    "duration": 3,
    "start_time": "2024-08-13T05:02:44.750Z"
   },
   {
    "duration": 3,
    "start_time": "2024-08-13T05:02:44.756Z"
   },
   {
    "duration": 4,
    "start_time": "2024-08-13T05:02:44.813Z"
   },
   {
    "duration": 4,
    "start_time": "2024-08-13T05:02:44.820Z"
   },
   {
    "duration": 4,
    "start_time": "2024-08-13T05:02:44.827Z"
   },
   {
    "duration": 4,
    "start_time": "2024-08-13T05:02:44.834Z"
   },
   {
    "duration": 6,
    "start_time": "2024-08-13T05:02:44.841Z"
   },
   {
    "duration": 4,
    "start_time": "2024-08-13T05:02:44.850Z"
   },
   {
    "duration": 3,
    "start_time": "2024-08-13T05:02:44.857Z"
   },
   {
    "duration": 356,
    "start_time": "2024-08-13T05:05:43.003Z"
   },
   {
    "duration": 8,
    "start_time": "2024-08-13T05:05:52.817Z"
   },
   {
    "duration": 9,
    "start_time": "2024-08-13T05:06:41.941Z"
   },
   {
    "duration": 16,
    "start_time": "2024-08-13T05:06:54.483Z"
   },
   {
    "duration": 518,
    "start_time": "2024-08-13T05:08:01.626Z"
   },
   {
    "duration": 7,
    "start_time": "2024-08-13T05:08:40.133Z"
   },
   {
    "duration": 8,
    "start_time": "2024-08-13T05:08:42.775Z"
   },
   {
    "duration": 16,
    "start_time": "2024-08-13T05:08:45.513Z"
   },
   {
    "duration": 27,
    "start_time": "2024-08-13T05:09:25.451Z"
   },
   {
    "duration": 17,
    "start_time": "2024-08-13T05:09:27.782Z"
   },
   {
    "duration": 11,
    "start_time": "2024-08-13T05:09:36.937Z"
   },
   {
    "duration": 7,
    "start_time": "2024-08-13T05:09:40.848Z"
   },
   {
    "duration": 9,
    "start_time": "2024-08-13T05:09:47.823Z"
   },
   {
    "duration": 16,
    "start_time": "2024-08-13T05:09:50.886Z"
   },
   {
    "duration": 15,
    "start_time": "2024-08-13T05:10:00.034Z"
   },
   {
    "duration": 765,
    "start_time": "2024-08-13T05:10:44.584Z"
   },
   {
    "duration": 4,
    "start_time": "2024-08-13T05:10:54.603Z"
   },
   {
    "duration": 224,
    "start_time": "2024-08-13T05:10:54.611Z"
   },
   {
    "duration": 29,
    "start_time": "2024-08-13T05:10:54.839Z"
   },
   {
    "duration": 51,
    "start_time": "2024-08-13T05:10:54.872Z"
   },
   {
    "duration": 11,
    "start_time": "2024-08-13T05:10:54.927Z"
   },
   {
    "duration": 9,
    "start_time": "2024-08-13T05:10:54.941Z"
   },
   {
    "duration": 59,
    "start_time": "2024-08-13T05:10:54.953Z"
   },
   {
    "duration": 541,
    "start_time": "2024-08-13T05:10:55.015Z"
   },
   {
    "duration": 8,
    "start_time": "2024-08-13T05:10:55.559Z"
   },
   {
    "duration": 43,
    "start_time": "2024-08-13T05:10:55.570Z"
   },
   {
    "duration": 49,
    "start_time": "2024-08-13T05:10:55.620Z"
   },
   {
    "duration": 14,
    "start_time": "2024-08-13T05:10:55.671Z"
   },
   {
    "duration": 36,
    "start_time": "2024-08-13T05:10:55.688Z"
   },
   {
    "duration": 11,
    "start_time": "2024-08-13T05:10:55.727Z"
   },
   {
    "duration": 82,
    "start_time": "2024-08-13T05:10:55.741Z"
   },
   {
    "duration": 96,
    "start_time": "2024-08-13T05:10:55.825Z"
   },
   {
    "duration": 7,
    "start_time": "2024-08-13T05:10:55.925Z"
   },
   {
    "duration": 8,
    "start_time": "2024-08-13T05:10:55.935Z"
   },
   {
    "duration": 12,
    "start_time": "2024-08-13T05:10:55.945Z"
   },
   {
    "duration": 55,
    "start_time": "2024-08-13T05:10:55.960Z"
   },
   {
    "duration": 8,
    "start_time": "2024-08-13T05:10:56.018Z"
   },
   {
    "duration": 7,
    "start_time": "2024-08-13T05:10:56.030Z"
   },
   {
    "duration": 7,
    "start_time": "2024-08-13T05:10:56.040Z"
   },
   {
    "duration": 10,
    "start_time": "2024-08-13T05:10:56.050Z"
   },
   {
    "duration": 60,
    "start_time": "2024-08-13T05:10:56.063Z"
   },
   {
    "duration": 11,
    "start_time": "2024-08-13T05:10:56.126Z"
   },
   {
    "duration": 7,
    "start_time": "2024-08-13T05:10:56.140Z"
   },
   {
    "duration": 1255,
    "start_time": "2024-08-13T05:10:56.150Z"
   },
   {
    "duration": 312,
    "start_time": "2024-08-13T05:10:57.413Z"
   },
   {
    "duration": 35,
    "start_time": "2024-08-13T05:10:57.728Z"
   },
   {
    "duration": 58,
    "start_time": "2024-08-13T05:10:57.766Z"
   },
   {
    "duration": 3567,
    "start_time": "2024-08-13T05:10:57.826Z"
   },
   {
    "duration": 17,
    "start_time": "2024-08-13T05:11:01.396Z"
   },
   {
    "duration": 163,
    "start_time": "2024-08-13T05:11:01.417Z"
   },
   {
    "duration": 148,
    "start_time": "2024-08-13T05:11:01.583Z"
   },
   {
    "duration": 4,
    "start_time": "2024-08-13T05:11:01.734Z"
   },
   {
    "duration": 3,
    "start_time": "2024-08-13T05:11:01.741Z"
   },
   {
    "duration": 3,
    "start_time": "2024-08-13T05:11:01.748Z"
   },
   {
    "duration": 3,
    "start_time": "2024-08-13T05:11:01.755Z"
   },
   {
    "duration": 4,
    "start_time": "2024-08-13T05:11:01.761Z"
   },
   {
    "duration": 6,
    "start_time": "2024-08-13T05:11:01.812Z"
   },
   {
    "duration": 3,
    "start_time": "2024-08-13T05:11:01.821Z"
   },
   {
    "duration": 4,
    "start_time": "2024-08-13T05:11:01.828Z"
   },
   {
    "duration": 3,
    "start_time": "2024-08-13T05:11:01.835Z"
   },
   {
    "duration": 3,
    "start_time": "2024-08-13T05:11:01.842Z"
   },
   {
    "duration": 4,
    "start_time": "2024-08-13T05:11:01.848Z"
   },
   {
    "duration": 4,
    "start_time": "2024-08-13T05:11:01.855Z"
   },
   {
    "duration": 53,
    "start_time": "2024-08-13T05:11:01.861Z"
   },
   {
    "duration": 4,
    "start_time": "2024-08-13T05:11:01.917Z"
   },
   {
    "duration": 3,
    "start_time": "2024-08-13T05:11:01.925Z"
   },
   {
    "duration": 3,
    "start_time": "2024-08-13T05:11:01.932Z"
   },
   {
    "duration": 3,
    "start_time": "2024-08-13T05:11:01.939Z"
   },
   {
    "duration": 4,
    "start_time": "2024-08-13T05:11:01.946Z"
   },
   {
    "duration": 58,
    "start_time": "2024-08-13T05:11:01.954Z"
   },
   {
    "duration": 33,
    "start_time": "2024-08-13T05:18:55.568Z"
   },
   {
    "duration": 9,
    "start_time": "2024-08-13T05:18:58.946Z"
   },
   {
    "duration": 11,
    "start_time": "2024-08-13T05:19:01.595Z"
   },
   {
    "duration": 7,
    "start_time": "2024-08-13T05:19:18.216Z"
   },
   {
    "duration": 488,
    "start_time": "2024-08-13T05:19:20.943Z"
   },
   {
    "duration": 6,
    "start_time": "2024-08-13T05:19:39.066Z"
   },
   {
    "duration": 15,
    "start_time": "2024-08-13T05:19:42.225Z"
   },
   {
    "duration": 467,
    "start_time": "2024-08-13T16:56:59.739Z"
   },
   {
    "duration": 333,
    "start_time": "2024-08-13T16:57:17.961Z"
   },
   {
    "duration": 233,
    "start_time": "2024-08-13T16:57:21.420Z"
   },
   {
    "duration": 36,
    "start_time": "2024-08-13T16:57:23.472Z"
   },
   {
    "duration": 18,
    "start_time": "2024-08-13T16:57:29.302Z"
   },
   {
    "duration": 11,
    "start_time": "2024-08-13T16:57:39.365Z"
   },
   {
    "duration": 35,
    "start_time": "2024-08-13T16:57:45.779Z"
   },
   {
    "duration": 9,
    "start_time": "2024-08-13T16:57:48.652Z"
   },
   {
    "duration": 13,
    "start_time": "2024-08-13T16:57:51.817Z"
   },
   {
    "duration": 8,
    "start_time": "2024-08-13T16:58:15.327Z"
   },
   {
    "duration": 536,
    "start_time": "2024-08-13T16:58:17.238Z"
   },
   {
    "duration": 7,
    "start_time": "2024-08-13T16:58:23.412Z"
   },
   {
    "duration": 12,
    "start_time": "2024-08-13T16:58:34.815Z"
   },
   {
    "duration": 79,
    "start_time": "2024-08-13T17:01:30.468Z"
   },
   {
    "duration": 13,
    "start_time": "2024-08-13T17:01:33.414Z"
   },
   {
    "duration": 16,
    "start_time": "2024-08-13T17:01:39.478Z"
   },
   {
    "duration": 10,
    "start_time": "2024-08-13T17:01:48.004Z"
   },
   {
    "duration": 12,
    "start_time": "2024-08-13T17:01:54.237Z"
   },
   {
    "duration": 53,
    "start_time": "2024-08-13T17:01:56.644Z"
   },
   {
    "duration": 87,
    "start_time": "2024-08-13T17:02:00.674Z"
   },
   {
    "duration": 7,
    "start_time": "2024-08-13T17:02:07.949Z"
   },
   {
    "duration": 8,
    "start_time": "2024-08-13T17:10:41.376Z"
   },
   {
    "duration": 38,
    "start_time": "2024-08-13T17:10:45.239Z"
   },
   {
    "duration": 10,
    "start_time": "2024-08-13T17:12:31.136Z"
   },
   {
    "duration": 38,
    "start_time": "2024-08-13T17:12:33.500Z"
   },
   {
    "duration": 7,
    "start_time": "2024-08-13T17:12:44.240Z"
   },
   {
    "duration": 39,
    "start_time": "2024-08-13T17:12:46.327Z"
   },
   {
    "duration": 106,
    "start_time": "2024-08-13T17:12:52.409Z"
   },
   {
    "duration": 7,
    "start_time": "2024-08-13T17:12:59.112Z"
   },
   {
    "duration": 10,
    "start_time": "2024-08-13T17:13:08.316Z"
   },
   {
    "duration": 10,
    "start_time": "2024-08-13T17:13:11.532Z"
   },
   {
    "duration": 16,
    "start_time": "2024-08-13T17:13:15.516Z"
   },
   {
    "duration": 13,
    "start_time": "2024-08-13T17:13:20.444Z"
   },
   {
    "duration": 8,
    "start_time": "2024-08-13T17:13:25.572Z"
   },
   {
    "duration": 7,
    "start_time": "2024-08-13T17:13:31.484Z"
   },
   {
    "duration": 7,
    "start_time": "2024-08-13T17:13:43.016Z"
   },
   {
    "duration": 10,
    "start_time": "2024-08-13T17:13:45.352Z"
   },
   {
    "duration": 11,
    "start_time": "2024-08-13T17:13:47.855Z"
   },
   {
    "duration": 12,
    "start_time": "2024-08-13T17:13:50.396Z"
   },
   {
    "duration": 8,
    "start_time": "2024-08-13T17:13:57.178Z"
   },
   {
    "duration": 7,
    "start_time": "2024-08-13T17:14:02.691Z"
   },
   {
    "duration": 1331,
    "start_time": "2024-08-13T17:14:08.773Z"
   },
   {
    "duration": 316,
    "start_time": "2024-08-13T17:14:12.279Z"
   },
   {
    "duration": 40,
    "start_time": "2024-08-13T17:14:24.976Z"
   },
   {
    "duration": 28,
    "start_time": "2024-08-13T17:14:32.214Z"
   },
   {
    "duration": 3451,
    "start_time": "2024-08-13T17:14:35.735Z"
   },
   {
    "duration": 504,
    "start_time": "2024-08-13T17:31:28.818Z"
   },
   {
    "duration": 3,
    "start_time": "2024-08-13T17:42:45.472Z"
   },
   {
    "duration": 200,
    "start_time": "2024-08-13T17:42:45.479Z"
   },
   {
    "duration": 42,
    "start_time": "2024-08-13T17:42:45.683Z"
   },
   {
    "duration": 17,
    "start_time": "2024-08-13T17:42:45.728Z"
   },
   {
    "duration": 11,
    "start_time": "2024-08-13T17:42:45.750Z"
   },
   {
    "duration": 65,
    "start_time": "2024-08-13T17:42:45.764Z"
   },
   {
    "duration": 7,
    "start_time": "2024-08-13T17:42:45.832Z"
   },
   {
    "duration": 12,
    "start_time": "2024-08-13T17:42:45.842Z"
   },
   {
    "duration": 7,
    "start_time": "2024-08-13T17:42:45.857Z"
   },
   {
    "duration": 542,
    "start_time": "2024-08-13T17:42:45.868Z"
   },
   {
    "duration": 10,
    "start_time": "2024-08-13T17:42:46.414Z"
   },
   {
    "duration": 11,
    "start_time": "2024-08-13T17:42:46.426Z"
   },
   {
    "duration": 61,
    "start_time": "2024-08-13T17:42:46.440Z"
   },
   {
    "duration": 24,
    "start_time": "2024-08-13T17:42:46.504Z"
   },
   {
    "duration": 17,
    "start_time": "2024-08-13T17:42:46.531Z"
   },
   {
    "duration": 12,
    "start_time": "2024-08-13T17:42:46.551Z"
   },
   {
    "duration": 62,
    "start_time": "2024-08-13T17:42:46.566Z"
   },
   {
    "duration": 57,
    "start_time": "2024-08-13T17:42:46.633Z"
   },
   {
    "duration": 112,
    "start_time": "2024-08-13T17:42:46.693Z"
   },
   {
    "duration": 19,
    "start_time": "2024-08-13T17:42:46.808Z"
   },
   {
    "duration": 8,
    "start_time": "2024-08-13T17:42:46.830Z"
   },
   {
    "duration": 10,
    "start_time": "2024-08-13T17:42:46.840Z"
   },
   {
    "duration": 14,
    "start_time": "2024-08-13T17:42:46.854Z"
   },
   {
    "duration": 52,
    "start_time": "2024-08-13T17:42:46.871Z"
   },
   {
    "duration": 7,
    "start_time": "2024-08-13T17:42:46.926Z"
   },
   {
    "duration": 8,
    "start_time": "2024-08-13T17:42:46.936Z"
   },
   {
    "duration": 10,
    "start_time": "2024-08-13T17:42:46.946Z"
   },
   {
    "duration": 12,
    "start_time": "2024-08-13T17:42:46.959Z"
   },
   {
    "duration": 7,
    "start_time": "2024-08-13T17:42:46.979Z"
   },
   {
    "duration": 35,
    "start_time": "2024-08-13T17:42:46.989Z"
   },
   {
    "duration": 1312,
    "start_time": "2024-08-13T17:42:47.027Z"
   },
   {
    "duration": 319,
    "start_time": "2024-08-13T17:42:48.342Z"
   },
   {
    "duration": 37,
    "start_time": "2024-08-13T17:42:48.664Z"
   },
   {
    "duration": 44,
    "start_time": "2024-08-13T17:42:48.703Z"
   },
   {
    "duration": 3538,
    "start_time": "2024-08-13T17:42:48.750Z"
   },
   {
    "duration": 7,
    "start_time": "2024-08-13T17:42:52.291Z"
   },
   {
    "duration": 151,
    "start_time": "2024-08-13T17:42:52.301Z"
   },
   {
    "duration": 131,
    "start_time": "2024-08-13T17:42:52.455Z"
   },
   {
    "duration": 3,
    "start_time": "2024-08-13T17:42:52.590Z"
   },
   {
    "duration": 3,
    "start_time": "2024-08-13T17:42:52.597Z"
   },
   {
    "duration": 21,
    "start_time": "2024-08-13T17:42:52.603Z"
   },
   {
    "duration": 3,
    "start_time": "2024-08-13T17:42:52.628Z"
   },
   {
    "duration": 4,
    "start_time": "2024-08-13T17:42:52.634Z"
   },
   {
    "duration": 4,
    "start_time": "2024-08-13T17:42:52.642Z"
   },
   {
    "duration": 4,
    "start_time": "2024-08-13T17:42:52.648Z"
   },
   {
    "duration": 4,
    "start_time": "2024-08-13T17:42:52.656Z"
   },
   {
    "duration": 3,
    "start_time": "2024-08-13T17:42:52.664Z"
   },
   {
    "duration": 3,
    "start_time": "2024-08-13T17:42:52.724Z"
   },
   {
    "duration": 3,
    "start_time": "2024-08-13T17:42:52.732Z"
   },
   {
    "duration": 4,
    "start_time": "2024-08-13T17:42:52.738Z"
   },
   {
    "duration": 4,
    "start_time": "2024-08-13T17:42:52.745Z"
   },
   {
    "duration": 8,
    "start_time": "2024-08-13T17:42:52.751Z"
   },
   {
    "duration": 6,
    "start_time": "2024-08-13T17:42:52.762Z"
   },
   {
    "duration": 53,
    "start_time": "2024-08-13T17:42:52.770Z"
   },
   {
    "duration": 3,
    "start_time": "2024-08-13T17:42:52.827Z"
   },
   {
    "duration": 3,
    "start_time": "2024-08-13T17:42:52.834Z"
   },
   {
    "duration": 3,
    "start_time": "2024-08-13T17:42:52.841Z"
   },
   {
    "duration": 224,
    "start_time": "2024-08-13T17:45:11.711Z"
   },
   {
    "duration": 3428,
    "start_time": "2024-08-13T17:45:21.132Z"
   },
   {
    "duration": 11,
    "start_time": "2024-08-13T17:45:57.554Z"
   },
   {
    "duration": 9,
    "start_time": "2024-08-13T17:46:40.124Z"
   },
   {
    "duration": 25,
    "start_time": "2024-08-13T17:46:45.557Z"
   },
   {
    "duration": 127,
    "start_time": "2024-08-13T17:48:12.679Z"
   },
   {
    "duration": 157,
    "start_time": "2024-08-13T17:50:14.268Z"
   },
   {
    "duration": 150,
    "start_time": "2024-08-13T17:50:30.627Z"
   },
   {
    "duration": 124,
    "start_time": "2024-08-13T17:51:11.660Z"
   },
   {
    "duration": 133,
    "start_time": "2024-08-13T17:51:17.967Z"
   },
   {
    "duration": 24,
    "start_time": "2024-08-13T17:54:10.735Z"
   },
   {
    "duration": 17,
    "start_time": "2024-08-13T17:54:19.339Z"
   },
   {
    "duration": 186,
    "start_time": "2024-08-13T17:56:24.601Z"
   },
   {
    "duration": 226,
    "start_time": "2024-08-13T17:58:15.570Z"
   },
   {
    "duration": 244,
    "start_time": "2024-08-13T17:58:29.698Z"
   },
   {
    "duration": 3,
    "start_time": "2024-08-13T18:01:01.116Z"
   },
   {
    "duration": 162,
    "start_time": "2024-08-13T18:02:23.187Z"
   },
   {
    "duration": 66,
    "start_time": "2024-08-13T18:07:12.677Z"
   },
   {
    "duration": 8,
    "start_time": "2024-08-13T18:08:43.352Z"
   },
   {
    "duration": 59,
    "start_time": "2024-08-13T18:09:43.273Z"
   },
   {
    "duration": 60,
    "start_time": "2024-08-13T18:10:19.188Z"
   },
   {
    "duration": 21,
    "start_time": "2024-08-13T18:15:21.296Z"
   },
   {
    "duration": 169,
    "start_time": "2024-08-13T18:15:27.047Z"
   },
   {
    "duration": 187,
    "start_time": "2024-08-13T18:15:43.884Z"
   },
   {
    "duration": 189,
    "start_time": "2024-08-13T18:16:26.356Z"
   },
   {
    "duration": 211,
    "start_time": "2024-08-13T18:16:38.584Z"
   },
   {
    "duration": 163,
    "start_time": "2024-08-13T18:17:13.716Z"
   },
   {
    "duration": 82,
    "start_time": "2024-08-13T18:17:38.288Z"
   },
   {
    "duration": 61,
    "start_time": "2024-08-13T18:20:58.569Z"
   },
   {
    "duration": 180,
    "start_time": "2024-08-13T18:21:15.391Z"
   },
   {
    "duration": 169,
    "start_time": "2024-08-13T18:21:28.790Z"
   },
   {
    "duration": 90,
    "start_time": "2024-08-13T18:21:32.087Z"
   },
   {
    "duration": 189,
    "start_time": "2024-08-13T18:22:42.500Z"
   },
   {
    "duration": 192,
    "start_time": "2024-08-13T18:22:56.537Z"
   },
   {
    "duration": 4,
    "start_time": "2024-08-13T18:23:16.391Z"
   },
   {
    "duration": 237,
    "start_time": "2024-08-13T18:23:16.401Z"
   },
   {
    "duration": 40,
    "start_time": "2024-08-13T18:23:16.643Z"
   },
   {
    "duration": 17,
    "start_time": "2024-08-13T18:23:16.685Z"
   },
   {
    "duration": 10,
    "start_time": "2024-08-13T18:23:16.722Z"
   },
   {
    "duration": 25,
    "start_time": "2024-08-13T18:23:16.738Z"
   },
   {
    "duration": 8,
    "start_time": "2024-08-13T18:23:16.766Z"
   },
   {
    "duration": 48,
    "start_time": "2024-08-13T18:23:16.777Z"
   },
   {
    "duration": 8,
    "start_time": "2024-08-13T18:23:16.827Z"
   },
   {
    "duration": 521,
    "start_time": "2024-08-13T18:23:16.838Z"
   },
   {
    "duration": 9,
    "start_time": "2024-08-13T18:23:17.362Z"
   },
   {
    "duration": 13,
    "start_time": "2024-08-13T18:23:17.375Z"
   },
   {
    "duration": 77,
    "start_time": "2024-08-13T18:23:17.391Z"
   },
   {
    "duration": 12,
    "start_time": "2024-08-13T18:23:17.471Z"
   },
   {
    "duration": 36,
    "start_time": "2024-08-13T18:23:17.492Z"
   },
   {
    "duration": 10,
    "start_time": "2024-08-13T18:23:17.531Z"
   },
   {
    "duration": 8,
    "start_time": "2024-08-13T18:23:17.544Z"
   },
   {
    "duration": 83,
    "start_time": "2024-08-13T18:23:17.556Z"
   },
   {
    "duration": 106,
    "start_time": "2024-08-13T18:23:17.645Z"
   },
   {
    "duration": 10,
    "start_time": "2024-08-13T18:23:17.754Z"
   },
   {
    "duration": 8,
    "start_time": "2024-08-13T18:23:17.767Z"
   },
   {
    "duration": 10,
    "start_time": "2024-08-13T18:23:17.778Z"
   },
   {
    "duration": 43,
    "start_time": "2024-08-13T18:23:17.791Z"
   },
   {
    "duration": 8,
    "start_time": "2024-08-13T18:23:17.837Z"
   },
   {
    "duration": 8,
    "start_time": "2024-08-13T18:23:17.848Z"
   },
   {
    "duration": 8,
    "start_time": "2024-08-13T18:23:17.859Z"
   },
   {
    "duration": 55,
    "start_time": "2024-08-13T18:23:17.869Z"
   },
   {
    "duration": 14,
    "start_time": "2024-08-13T18:23:17.927Z"
   },
   {
    "duration": 8,
    "start_time": "2024-08-13T18:23:17.944Z"
   },
   {
    "duration": 7,
    "start_time": "2024-08-13T18:23:17.955Z"
   },
   {
    "duration": 1257,
    "start_time": "2024-08-13T18:23:17.965Z"
   },
   {
    "duration": 299,
    "start_time": "2024-08-13T18:23:19.225Z"
   },
   {
    "duration": 36,
    "start_time": "2024-08-13T18:23:19.527Z"
   },
   {
    "duration": 58,
    "start_time": "2024-08-13T18:23:19.566Z"
   },
   {
    "duration": 237,
    "start_time": "2024-08-13T18:23:19.626Z"
   },
   {
    "duration": 3437,
    "start_time": "2024-08-13T18:23:19.867Z"
   },
   {
    "duration": 18,
    "start_time": "2024-08-13T18:23:23.308Z"
   },
   {
    "duration": 7,
    "start_time": "2024-08-13T18:23:23.330Z"
   },
   {
    "duration": 172,
    "start_time": "2024-08-13T18:23:23.342Z"
   },
   {
    "duration": 21,
    "start_time": "2024-08-13T18:23:23.516Z"
   },
   {
    "duration": 31,
    "start_time": "2024-08-13T18:23:23.539Z"
   },
   {
    "duration": 161,
    "start_time": "2024-08-13T18:23:23.578Z"
   },
   {
    "duration": 134,
    "start_time": "2024-08-13T18:23:23.742Z"
   },
   {
    "duration": 79,
    "start_time": "2024-08-13T18:23:23.879Z"
   },
   {
    "duration": 4,
    "start_time": "2024-08-13T18:23:23.961Z"
   },
   {
    "duration": 3,
    "start_time": "2024-08-13T18:23:23.968Z"
   },
   {
    "duration": 4,
    "start_time": "2024-08-13T18:23:23.974Z"
   },
   {
    "duration": 3,
    "start_time": "2024-08-13T18:23:23.981Z"
   },
   {
    "duration": 4,
    "start_time": "2024-08-13T18:23:24.023Z"
   },
   {
    "duration": 3,
    "start_time": "2024-08-13T18:23:24.030Z"
   },
   {
    "duration": 3,
    "start_time": "2024-08-13T18:23:24.037Z"
   },
   {
    "duration": 3,
    "start_time": "2024-08-13T18:23:24.046Z"
   },
   {
    "duration": 8,
    "start_time": "2024-08-13T18:23:24.055Z"
   },
   {
    "duration": 3,
    "start_time": "2024-08-13T18:23:24.067Z"
   },
   {
    "duration": 50,
    "start_time": "2024-08-13T18:23:24.074Z"
   },
   {
    "duration": 4,
    "start_time": "2024-08-13T18:23:24.127Z"
   },
   {
    "duration": 4,
    "start_time": "2024-08-13T18:23:24.134Z"
   },
   {
    "duration": 4,
    "start_time": "2024-08-13T18:23:24.142Z"
   },
   {
    "duration": 3,
    "start_time": "2024-08-13T18:23:24.149Z"
   },
   {
    "duration": 3,
    "start_time": "2024-08-13T18:28:18.209Z"
   },
   {
    "duration": 212,
    "start_time": "2024-08-13T18:28:18.216Z"
   },
   {
    "duration": 27,
    "start_time": "2024-08-13T18:28:18.431Z"
   },
   {
    "duration": 17,
    "start_time": "2024-08-13T18:28:18.461Z"
   },
   {
    "duration": 43,
    "start_time": "2024-08-13T18:28:18.484Z"
   },
   {
    "duration": 27,
    "start_time": "2024-08-13T18:28:18.529Z"
   },
   {
    "duration": 9,
    "start_time": "2024-08-13T18:28:18.558Z"
   },
   {
    "duration": 12,
    "start_time": "2024-08-13T18:28:18.571Z"
   },
   {
    "duration": 42,
    "start_time": "2024-08-13T18:28:18.585Z"
   },
   {
    "duration": 493,
    "start_time": "2024-08-13T18:28:18.631Z"
   },
   {
    "duration": 6,
    "start_time": "2024-08-13T18:28:19.130Z"
   },
   {
    "duration": 14,
    "start_time": "2024-08-13T18:28:19.139Z"
   },
   {
    "duration": 81,
    "start_time": "2024-08-13T18:28:19.156Z"
   },
   {
    "duration": 13,
    "start_time": "2024-08-13T18:28:19.243Z"
   },
   {
    "duration": 18,
    "start_time": "2024-08-13T18:28:19.258Z"
   },
   {
    "duration": 11,
    "start_time": "2024-08-13T18:28:19.278Z"
   },
   {
    "duration": 8,
    "start_time": "2024-08-13T18:28:19.324Z"
   },
   {
    "duration": 39,
    "start_time": "2024-08-13T18:28:19.335Z"
   },
   {
    "duration": 123,
    "start_time": "2024-08-13T18:28:19.377Z"
   },
   {
    "duration": 7,
    "start_time": "2024-08-13T18:28:19.503Z"
   },
   {
    "duration": 15,
    "start_time": "2024-08-13T18:28:19.512Z"
   },
   {
    "duration": 11,
    "start_time": "2024-08-13T18:28:19.530Z"
   },
   {
    "duration": 15,
    "start_time": "2024-08-13T18:28:19.544Z"
   },
   {
    "duration": 10,
    "start_time": "2024-08-13T18:28:19.561Z"
   },
   {
    "duration": 52,
    "start_time": "2024-08-13T18:28:19.573Z"
   },
   {
    "duration": 8,
    "start_time": "2024-08-13T18:28:19.629Z"
   },
   {
    "duration": 10,
    "start_time": "2024-08-13T18:28:19.640Z"
   },
   {
    "duration": 16,
    "start_time": "2024-08-13T18:28:19.653Z"
   },
   {
    "duration": 52,
    "start_time": "2024-08-13T18:28:19.677Z"
   },
   {
    "duration": 8,
    "start_time": "2024-08-13T18:28:19.732Z"
   },
   {
    "duration": 1265,
    "start_time": "2024-08-13T18:28:19.744Z"
   },
   {
    "duration": 304,
    "start_time": "2024-08-13T18:28:21.012Z"
   },
   {
    "duration": 39,
    "start_time": "2024-08-13T18:28:21.318Z"
   },
   {
    "duration": 28,
    "start_time": "2024-08-13T18:28:21.360Z"
   },
   {
    "duration": 259,
    "start_time": "2024-08-13T18:28:21.390Z"
   },
   {
    "duration": 3481,
    "start_time": "2024-08-13T18:28:21.651Z"
   },
   {
    "duration": 10,
    "start_time": "2024-08-13T18:28:25.137Z"
   },
   {
    "duration": 7,
    "start_time": "2024-08-13T18:28:25.151Z"
   },
   {
    "duration": 170,
    "start_time": "2024-08-13T18:28:25.161Z"
   },
   {
    "duration": 17,
    "start_time": "2024-08-13T18:28:25.333Z"
   },
   {
    "duration": 31,
    "start_time": "2024-08-13T18:28:25.352Z"
   },
   {
    "duration": 163,
    "start_time": "2024-08-13T18:28:25.386Z"
   },
   {
    "duration": 133,
    "start_time": "2024-08-13T18:28:25.552Z"
   },
   {
    "duration": 79,
    "start_time": "2024-08-13T18:28:25.688Z"
   },
   {
    "duration": 3,
    "start_time": "2024-08-13T18:28:25.770Z"
   },
   {
    "duration": 6,
    "start_time": "2024-08-13T18:28:25.776Z"
   },
   {
    "duration": 4,
    "start_time": "2024-08-13T18:28:25.786Z"
   },
   {
    "duration": 30,
    "start_time": "2024-08-13T18:28:25.793Z"
   },
   {
    "duration": 3,
    "start_time": "2024-08-13T18:28:25.826Z"
   },
   {
    "duration": 4,
    "start_time": "2024-08-13T18:28:25.833Z"
   },
   {
    "duration": 4,
    "start_time": "2024-08-13T18:28:25.839Z"
   },
   {
    "duration": 4,
    "start_time": "2024-08-13T18:28:25.846Z"
   },
   {
    "duration": 4,
    "start_time": "2024-08-13T18:28:25.853Z"
   },
   {
    "duration": 4,
    "start_time": "2024-08-13T18:28:25.860Z"
   },
   {
    "duration": 56,
    "start_time": "2024-08-13T18:28:25.867Z"
   },
   {
    "duration": 16,
    "start_time": "2024-08-13T18:28:25.927Z"
   },
   {
    "duration": 3,
    "start_time": "2024-08-13T18:28:25.946Z"
   },
   {
    "duration": 3,
    "start_time": "2024-08-13T18:28:25.953Z"
   },
   {
    "duration": 4,
    "start_time": "2024-08-13T18:28:25.960Z"
   },
   {
    "duration": 22,
    "start_time": "2024-08-13T19:53:28.415Z"
   },
   {
    "duration": 6,
    "start_time": "2024-08-13T19:54:08.643Z"
   },
   {
    "duration": 32,
    "start_time": "2024-08-13T19:54:42.901Z"
   },
   {
    "duration": 21,
    "start_time": "2024-08-13T20:02:05.953Z"
   },
   {
    "duration": 5,
    "start_time": "2024-08-13T20:24:28.655Z"
   },
   {
    "duration": 7,
    "start_time": "2024-08-13T20:24:35.599Z"
   },
   {
    "duration": 5,
    "start_time": "2024-08-13T20:27:05.160Z"
   },
   {
    "duration": 6,
    "start_time": "2024-08-13T20:27:23.152Z"
   },
   {
    "duration": 5,
    "start_time": "2024-08-13T20:41:59.222Z"
   },
   {
    "duration": 6,
    "start_time": "2024-08-13T20:42:05.445Z"
   },
   {
    "duration": 7,
    "start_time": "2024-08-13T20:42:26.973Z"
   },
   {
    "duration": 6,
    "start_time": "2024-08-13T20:42:59.658Z"
   },
   {
    "duration": 1215,
    "start_time": "2024-08-13T20:49:13.237Z"
   },
   {
    "duration": 1140,
    "start_time": "2024-08-13T20:49:30.300Z"
   },
   {
    "duration": 5,
    "start_time": "2024-08-13T20:49:39.710Z"
   },
   {
    "duration": 1210,
    "start_time": "2024-08-13T20:50:14.489Z"
   },
   {
    "duration": 994,
    "start_time": "2024-08-13T20:51:12.316Z"
   },
   {
    "duration": 228,
    "start_time": "2024-08-13T20:52:07.101Z"
   },
   {
    "duration": 209,
    "start_time": "2024-08-13T20:52:27.629Z"
   },
   {
    "duration": 22,
    "start_time": "2024-08-13T20:52:38.532Z"
   },
   {
    "duration": 15,
    "start_time": "2024-08-13T21:04:37.753Z"
   },
   {
    "duration": 10,
    "start_time": "2024-08-13T21:04:55.844Z"
   },
   {
    "duration": 13,
    "start_time": "2024-08-13T21:05:39.963Z"
   },
   {
    "duration": 9,
    "start_time": "2024-08-13T21:06:22.455Z"
   },
   {
    "duration": 9,
    "start_time": "2024-08-13T21:06:30.667Z"
   },
   {
    "duration": 16,
    "start_time": "2024-08-13T21:10:48.725Z"
   },
   {
    "duration": 7,
    "start_time": "2024-08-13T21:19:11.365Z"
   },
   {
    "duration": 466,
    "start_time": "2024-08-14T16:00:33.076Z"
   },
   {
    "duration": 242,
    "start_time": "2024-08-14T16:00:33.546Z"
   },
   {
    "duration": 48,
    "start_time": "2024-08-14T16:00:33.791Z"
   },
   {
    "duration": 18,
    "start_time": "2024-08-14T16:00:33.843Z"
   },
   {
    "duration": 11,
    "start_time": "2024-08-14T16:00:33.865Z"
   },
   {
    "duration": 70,
    "start_time": "2024-08-14T16:00:33.879Z"
   },
   {
    "duration": 8,
    "start_time": "2024-08-14T16:00:33.951Z"
   },
   {
    "duration": 11,
    "start_time": "2024-08-14T16:00:33.963Z"
   },
   {
    "duration": 48,
    "start_time": "2024-08-14T16:00:33.978Z"
   },
   {
    "duration": 545,
    "start_time": "2024-08-14T16:00:34.029Z"
   },
   {
    "duration": 9,
    "start_time": "2024-08-14T16:00:34.578Z"
   },
   {
    "duration": 39,
    "start_time": "2024-08-14T16:00:34.590Z"
   },
   {
    "duration": 88,
    "start_time": "2024-08-14T16:00:34.632Z"
   },
   {
    "duration": 12,
    "start_time": "2024-08-14T16:00:34.728Z"
   },
   {
    "duration": 20,
    "start_time": "2024-08-14T16:00:34.743Z"
   },
   {
    "duration": 12,
    "start_time": "2024-08-14T16:00:34.766Z"
   },
   {
    "duration": 49,
    "start_time": "2024-08-14T16:00:34.781Z"
   },
   {
    "duration": 42,
    "start_time": "2024-08-14T16:00:34.833Z"
   },
   {
    "duration": 122,
    "start_time": "2024-08-14T16:00:34.878Z"
   },
   {
    "duration": 8,
    "start_time": "2024-08-14T16:00:35.003Z"
   },
   {
    "duration": 10,
    "start_time": "2024-08-14T16:00:35.027Z"
   },
   {
    "duration": 10,
    "start_time": "2024-08-14T16:00:35.040Z"
   },
   {
    "duration": 15,
    "start_time": "2024-08-14T16:00:35.052Z"
   },
   {
    "duration": 9,
    "start_time": "2024-08-14T16:00:35.070Z"
   },
   {
    "duration": 48,
    "start_time": "2024-08-14T16:00:35.082Z"
   },
   {
    "duration": 9,
    "start_time": "2024-08-14T16:00:35.133Z"
   },
   {
    "duration": 12,
    "start_time": "2024-08-14T16:00:35.144Z"
   },
   {
    "duration": 15,
    "start_time": "2024-08-14T16:00:35.159Z"
   },
   {
    "duration": 51,
    "start_time": "2024-08-14T16:00:35.177Z"
   },
   {
    "duration": 8,
    "start_time": "2024-08-14T16:00:35.231Z"
   },
   {
    "duration": 1343,
    "start_time": "2024-08-14T16:00:35.243Z"
   },
   {
    "duration": 338,
    "start_time": "2024-08-14T16:00:36.588Z"
   },
   {
    "duration": 40,
    "start_time": "2024-08-14T16:00:36.929Z"
   },
   {
    "duration": 28,
    "start_time": "2024-08-14T16:00:36.971Z"
   },
   {
    "duration": 233,
    "start_time": "2024-08-14T16:00:37.027Z"
   },
   {
    "duration": 3569,
    "start_time": "2024-08-14T16:00:37.262Z"
   },
   {
    "duration": 13,
    "start_time": "2024-08-14T16:00:40.834Z"
   },
   {
    "duration": 7,
    "start_time": "2024-08-14T16:00:40.850Z"
   },
   {
    "duration": 187,
    "start_time": "2024-08-14T16:00:40.860Z"
   },
   {
    "duration": 17,
    "start_time": "2024-08-14T16:00:41.050Z"
   },
   {
    "duration": 51,
    "start_time": "2024-08-14T16:00:41.077Z"
   },
   {
    "duration": 158,
    "start_time": "2024-08-14T16:00:41.131Z"
   },
   {
    "duration": 135,
    "start_time": "2024-08-14T16:00:41.291Z"
   },
   {
    "duration": 80,
    "start_time": "2024-08-14T16:00:41.428Z"
   },
   {
    "duration": 37,
    "start_time": "2024-08-14T16:00:41.511Z"
   },
   {
    "duration": 5,
    "start_time": "2024-08-14T16:00:41.551Z"
   },
   {
    "duration": 33,
    "start_time": "2024-08-14T16:00:41.559Z"
   },
   {
    "duration": 21,
    "start_time": "2024-08-14T16:00:41.627Z"
   },
   {
    "duration": 7,
    "start_time": "2024-08-14T16:00:41.651Z"
   },
   {
    "duration": 5,
    "start_time": "2024-08-14T16:00:41.662Z"
   },
   {
    "duration": 5,
    "start_time": "2024-08-14T16:00:41.671Z"
   },
   {
    "duration": 51,
    "start_time": "2024-08-14T16:00:41.679Z"
   },
   {
    "duration": 5,
    "start_time": "2024-08-14T16:00:41.734Z"
   },
   {
    "duration": 5,
    "start_time": "2024-08-14T16:00:41.745Z"
   },
   {
    "duration": 1321,
    "start_time": "2024-08-14T16:00:41.754Z"
   },
   {
    "duration": 1111,
    "start_time": "2024-08-14T16:00:43.078Z"
   },
   {
    "duration": 228,
    "start_time": "2024-08-14T16:00:44.191Z"
   },
   {
    "duration": 10,
    "start_time": "2024-08-14T16:00:44.427Z"
   },
   {
    "duration": 10,
    "start_time": "2024-08-14T16:00:44.440Z"
   },
   {
    "duration": 14,
    "start_time": "2024-08-14T16:00:44.453Z"
   },
   {
    "duration": 8,
    "start_time": "2024-08-14T16:00:44.470Z"
   },
   {
    "duration": 17,
    "start_time": "2024-08-14T16:00:44.525Z"
   },
   {
    "duration": 238,
    "start_time": "2024-08-14T16:00:44.545Z"
   },
   {
    "duration": 4,
    "start_time": "2024-08-14T16:00:44.786Z"
   },
   {
    "duration": 4,
    "start_time": "2024-08-14T16:00:44.793Z"
   },
   {
    "duration": 26,
    "start_time": "2024-08-14T16:00:44.800Z"
   },
   {
    "duration": 4,
    "start_time": "2024-08-14T16:00:44.829Z"
   },
   {
    "duration": 4,
    "start_time": "2024-08-14T16:00:44.836Z"
   },
   {
    "duration": 501,
    "start_time": "2024-08-14T21:48:30.607Z"
   },
   {
    "duration": 238,
    "start_time": "2024-08-14T21:48:31.111Z"
   },
   {
    "duration": 35,
    "start_time": "2024-08-14T21:48:31.352Z"
   },
   {
    "duration": 32,
    "start_time": "2024-08-14T21:48:31.391Z"
   },
   {
    "duration": 11,
    "start_time": "2024-08-14T21:48:31.426Z"
   },
   {
    "duration": 36,
    "start_time": "2024-08-14T21:48:31.440Z"
   },
   {
    "duration": 41,
    "start_time": "2024-08-14T21:48:31.478Z"
   },
   {
    "duration": 11,
    "start_time": "2024-08-14T21:48:31.528Z"
   },
   {
    "duration": 7,
    "start_time": "2024-08-14T21:48:31.543Z"
   },
   {
    "duration": 566,
    "start_time": "2024-08-14T21:48:31.557Z"
   },
   {
    "duration": 7,
    "start_time": "2024-08-14T21:48:32.126Z"
   },
   {
    "duration": 12,
    "start_time": "2024-08-14T21:48:32.137Z"
   },
   {
    "duration": 88,
    "start_time": "2024-08-14T21:48:32.151Z"
   },
   {
    "duration": 13,
    "start_time": "2024-08-14T21:48:32.242Z"
   },
   {
    "duration": 16,
    "start_time": "2024-08-14T21:48:32.258Z"
   },
   {
    "duration": 38,
    "start_time": "2024-08-14T21:48:32.276Z"
   },
   {
    "duration": 11,
    "start_time": "2024-08-14T21:48:32.316Z"
   },
   {
    "duration": 41,
    "start_time": "2024-08-14T21:48:32.330Z"
   },
   {
    "duration": 135,
    "start_time": "2024-08-14T21:48:32.375Z"
   },
   {
    "duration": 7,
    "start_time": "2024-08-14T21:48:32.513Z"
   },
   {
    "duration": 10,
    "start_time": "2024-08-14T21:48:32.525Z"
   },
   {
    "duration": 10,
    "start_time": "2024-08-14T21:48:32.538Z"
   },
   {
    "duration": 14,
    "start_time": "2024-08-14T21:48:32.550Z"
   },
   {
    "duration": 51,
    "start_time": "2024-08-14T21:48:32.567Z"
   },
   {
    "duration": 9,
    "start_time": "2024-08-14T21:48:32.621Z"
   },
   {
    "duration": 11,
    "start_time": "2024-08-14T21:48:32.633Z"
   },
   {
    "duration": 11,
    "start_time": "2024-08-14T21:48:32.647Z"
   },
   {
    "duration": 13,
    "start_time": "2024-08-14T21:48:32.708Z"
   },
   {
    "duration": 9,
    "start_time": "2024-08-14T21:48:32.724Z"
   },
   {
    "duration": 6,
    "start_time": "2024-08-14T21:48:32.736Z"
   },
   {
    "duration": 1357,
    "start_time": "2024-08-14T21:48:32.746Z"
   },
   {
    "duration": 338,
    "start_time": "2024-08-14T21:48:34.105Z"
   },
   {
    "duration": 41,
    "start_time": "2024-08-14T21:48:34.445Z"
   },
   {
    "duration": 44,
    "start_time": "2024-08-14T21:48:34.488Z"
   },
   {
    "duration": 246,
    "start_time": "2024-08-14T21:48:34.535Z"
   },
   {
    "duration": 3546,
    "start_time": "2024-08-14T21:48:34.785Z"
   },
   {
    "duration": 11,
    "start_time": "2024-08-14T21:48:38.334Z"
   },
   {
    "duration": 7,
    "start_time": "2024-08-14T21:48:38.348Z"
   },
   {
    "duration": 182,
    "start_time": "2024-08-14T21:48:38.358Z"
   },
   {
    "duration": 17,
    "start_time": "2024-08-14T21:48:38.544Z"
   },
   {
    "duration": 51,
    "start_time": "2024-08-14T21:48:38.564Z"
   },
   {
    "duration": 169,
    "start_time": "2024-08-14T21:48:38.619Z"
   },
   {
    "duration": 144,
    "start_time": "2024-08-14T21:48:38.792Z"
   },
   {
    "duration": 85,
    "start_time": "2024-08-14T21:48:38.939Z"
   },
   {
    "duration": 24,
    "start_time": "2024-08-14T21:48:39.027Z"
   },
   {
    "duration": 7,
    "start_time": "2024-08-14T21:48:39.055Z"
   },
   {
    "duration": 64,
    "start_time": "2024-08-14T21:48:39.066Z"
   },
   {
    "duration": 21,
    "start_time": "2024-08-14T21:48:39.133Z"
   },
   {
    "duration": 6,
    "start_time": "2024-08-14T21:48:39.158Z"
   },
   {
    "duration": 42,
    "start_time": "2024-08-14T21:48:39.168Z"
   },
   {
    "duration": 6,
    "start_time": "2024-08-14T21:48:39.213Z"
   },
   {
    "duration": 9,
    "start_time": "2024-08-14T21:48:39.222Z"
   },
   {
    "duration": 7,
    "start_time": "2024-08-14T21:48:39.234Z"
   },
   {
    "duration": 7,
    "start_time": "2024-08-14T21:48:39.244Z"
   },
   {
    "duration": 1398,
    "start_time": "2024-08-14T21:48:39.254Z"
   },
   {
    "duration": 1169,
    "start_time": "2024-08-14T21:48:40.655Z"
   },
   {
    "duration": 230,
    "start_time": "2024-08-14T21:48:41.828Z"
   },
   {
    "duration": 11,
    "start_time": "2024-08-14T21:48:42.062Z"
   },
   {
    "duration": 35,
    "start_time": "2024-08-14T21:48:42.076Z"
   },
   {
    "duration": 15,
    "start_time": "2024-08-14T21:48:42.114Z"
   },
   {
    "duration": 9,
    "start_time": "2024-08-14T21:48:42.133Z"
   },
   {
    "duration": 18,
    "start_time": "2024-08-14T21:48:42.145Z"
   },
   {
    "duration": 270,
    "start_time": "2024-08-14T21:48:42.208Z"
   },
   {
    "duration": 4,
    "start_time": "2024-08-14T21:48:42.480Z"
   },
   {
    "duration": 20,
    "start_time": "2024-08-14T21:48:42.488Z"
   },
   {
    "duration": 4,
    "start_time": "2024-08-14T21:48:42.511Z"
   },
   {
    "duration": 4,
    "start_time": "2024-08-14T21:48:42.519Z"
   },
   {
    "duration": 4,
    "start_time": "2024-08-14T21:48:42.528Z"
   },
   {
    "duration": 11,
    "start_time": "2024-08-14T22:28:59.042Z"
   },
   {
    "duration": 4,
    "start_time": "2024-08-14T22:29:11.467Z"
   },
   {
    "duration": 234,
    "start_time": "2024-08-14T22:29:11.475Z"
   },
   {
    "duration": 34,
    "start_time": "2024-08-14T22:29:11.713Z"
   },
   {
    "duration": 17,
    "start_time": "2024-08-14T22:29:11.750Z"
   },
   {
    "duration": 12,
    "start_time": "2024-08-14T22:29:11.808Z"
   },
   {
    "duration": 29,
    "start_time": "2024-08-14T22:29:11.823Z"
   },
   {
    "duration": 9,
    "start_time": "2024-08-14T22:29:11.855Z"
   },
   {
    "duration": 48,
    "start_time": "2024-08-14T22:29:11.868Z"
   },
   {
    "duration": 13,
    "start_time": "2024-08-14T22:29:11.919Z"
   },
   {
    "duration": 9,
    "start_time": "2024-08-14T22:29:11.934Z"
   },
   {
    "duration": 611,
    "start_time": "2024-08-14T22:29:11.950Z"
   },
   {
    "duration": 8,
    "start_time": "2024-08-14T22:29:12.564Z"
   },
   {
    "duration": 34,
    "start_time": "2024-08-14T22:29:12.576Z"
   },
   {
    "duration": 54,
    "start_time": "2024-08-14T22:29:12.613Z"
   },
   {
    "duration": 39,
    "start_time": "2024-08-14T22:29:12.670Z"
   },
   {
    "duration": 20,
    "start_time": "2024-08-14T22:29:12.712Z"
   },
   {
    "duration": 16,
    "start_time": "2024-08-14T22:29:12.736Z"
   },
   {
    "duration": 10,
    "start_time": "2024-08-14T22:29:12.755Z"
   },
   {
    "duration": 85,
    "start_time": "2024-08-14T22:29:12.768Z"
   },
   {
    "duration": 119,
    "start_time": "2024-08-14T22:29:12.857Z"
   },
   {
    "duration": 8,
    "start_time": "2024-08-14T22:29:12.979Z"
   },
   {
    "duration": 25,
    "start_time": "2024-08-14T22:29:12.990Z"
   },
   {
    "duration": 11,
    "start_time": "2024-08-14T22:29:13.017Z"
   },
   {
    "duration": 15,
    "start_time": "2024-08-14T22:29:13.031Z"
   },
   {
    "duration": 7,
    "start_time": "2024-08-14T22:29:13.049Z"
   },
   {
    "duration": 50,
    "start_time": "2024-08-14T22:29:13.059Z"
   },
   {
    "duration": 9,
    "start_time": "2024-08-14T22:29:13.113Z"
   },
   {
    "duration": 16,
    "start_time": "2024-08-14T22:29:13.126Z"
   },
   {
    "duration": 12,
    "start_time": "2024-08-14T22:29:13.153Z"
   },
   {
    "duration": 45,
    "start_time": "2024-08-14T22:29:13.168Z"
   },
   {
    "duration": 8,
    "start_time": "2024-08-14T22:29:13.216Z"
   },
   {
    "duration": 1330,
    "start_time": "2024-08-14T22:29:13.228Z"
   },
   {
    "duration": 326,
    "start_time": "2024-08-14T22:29:14.561Z"
   },
   {
    "duration": 51,
    "start_time": "2024-08-14T22:29:14.890Z"
   },
   {
    "duration": 28,
    "start_time": "2024-08-14T22:29:14.944Z"
   },
   {
    "duration": 252,
    "start_time": "2024-08-14T22:29:14.975Z"
   },
   {
    "duration": 3505,
    "start_time": "2024-08-14T22:29:15.231Z"
   },
   {
    "duration": 11,
    "start_time": "2024-08-14T22:29:18.739Z"
   },
   {
    "duration": 6,
    "start_time": "2024-08-14T22:29:18.753Z"
   },
   {
    "duration": 193,
    "start_time": "2024-08-14T22:29:18.762Z"
   },
   {
    "duration": 18,
    "start_time": "2024-08-14T22:29:18.958Z"
   },
   {
    "duration": 55,
    "start_time": "2024-08-14T22:29:18.979Z"
   },
   {
    "duration": 150,
    "start_time": "2024-08-14T22:29:19.037Z"
   },
   {
    "duration": 134,
    "start_time": "2024-08-14T22:29:19.190Z"
   },
   {
    "duration": 87,
    "start_time": "2024-08-14T22:29:19.327Z"
   },
   {
    "duration": 22,
    "start_time": "2024-08-14T22:29:19.417Z"
   },
   {
    "duration": 7,
    "start_time": "2024-08-14T22:29:19.442Z"
   },
   {
    "duration": 65,
    "start_time": "2024-08-14T22:29:19.453Z"
   },
   {
    "duration": 26,
    "start_time": "2024-08-14T22:29:19.521Z"
   },
   {
    "duration": 8,
    "start_time": "2024-08-14T22:29:19.550Z"
   },
   {
    "duration": 6,
    "start_time": "2024-08-14T22:29:19.561Z"
   },
   {
    "duration": 7,
    "start_time": "2024-08-14T22:29:19.609Z"
   },
   {
    "duration": 8,
    "start_time": "2024-08-14T22:29:19.619Z"
   },
   {
    "duration": 6,
    "start_time": "2024-08-14T22:29:19.630Z"
   },
   {
    "duration": 6,
    "start_time": "2024-08-14T22:29:19.639Z"
   },
   {
    "duration": 1296,
    "start_time": "2024-08-14T22:29:19.648Z"
   },
   {
    "duration": 1079,
    "start_time": "2024-08-14T22:29:20.947Z"
   },
   {
    "duration": 223,
    "start_time": "2024-08-14T22:29:22.029Z"
   },
   {
    "duration": 10,
    "start_time": "2024-08-14T22:29:22.255Z"
   },
   {
    "duration": 10,
    "start_time": "2024-08-14T22:29:22.268Z"
   },
   {
    "duration": 37,
    "start_time": "2024-08-14T22:29:22.281Z"
   },
   {
    "duration": 9,
    "start_time": "2024-08-14T22:29:22.321Z"
   },
   {
    "duration": 18,
    "start_time": "2024-08-14T22:29:22.333Z"
   },
   {
    "duration": 256,
    "start_time": "2024-08-14T22:29:22.354Z"
   },
   {
    "duration": 4,
    "start_time": "2024-08-14T22:29:22.613Z"
   },
   {
    "duration": 4,
    "start_time": "2024-08-14T22:29:22.620Z"
   },
   {
    "duration": 3,
    "start_time": "2024-08-14T22:29:22.627Z"
   },
   {
    "duration": 3,
    "start_time": "2024-08-14T22:29:22.634Z"
   },
   {
    "duration": 3,
    "start_time": "2024-08-14T22:29:22.641Z"
   },
   {
    "duration": 6,
    "start_time": "2024-08-14T22:44:28.252Z"
   },
   {
    "duration": 450,
    "start_time": "2024-08-14T22:44:29.734Z"
   },
   {
    "duration": 564,
    "start_time": "2024-08-15T04:17:51.673Z"
   },
   {
    "duration": 253,
    "start_time": "2024-08-15T04:17:52.241Z"
   },
   {
    "duration": 54,
    "start_time": "2024-08-15T04:17:52.498Z"
   },
   {
    "duration": 48,
    "start_time": "2024-08-15T04:17:52.556Z"
   },
   {
    "duration": 13,
    "start_time": "2024-08-15T04:17:52.608Z"
   },
   {
    "duration": 68,
    "start_time": "2024-08-15T04:17:52.625Z"
   },
   {
    "duration": 13,
    "start_time": "2024-08-15T04:17:52.697Z"
   },
   {
    "duration": 12,
    "start_time": "2024-08-15T04:17:52.715Z"
   },
   {
    "duration": 13,
    "start_time": "2024-08-15T04:17:52.731Z"
   },
   {
    "duration": 10,
    "start_time": "2024-08-15T04:17:52.794Z"
   },
   {
    "duration": 675,
    "start_time": "2024-08-15T04:17:52.809Z"
   },
   {
    "duration": 8,
    "start_time": "2024-08-15T04:17:53.493Z"
   },
   {
    "duration": 15,
    "start_time": "2024-08-15T04:17:53.505Z"
   },
   {
    "duration": 101,
    "start_time": "2024-08-15T04:17:53.525Z"
   },
   {
    "duration": 15,
    "start_time": "2024-08-15T04:17:53.630Z"
   },
   {
    "duration": 41,
    "start_time": "2024-08-15T04:17:53.649Z"
   },
   {
    "duration": 12,
    "start_time": "2024-08-15T04:17:53.694Z"
   },
   {
    "duration": 12,
    "start_time": "2024-08-15T04:17:53.711Z"
   },
   {
    "duration": 95,
    "start_time": "2024-08-15T04:17:53.726Z"
   },
   {
    "duration": 144,
    "start_time": "2024-08-15T04:17:53.825Z"
   },
   {
    "duration": 20,
    "start_time": "2024-08-15T04:17:53.972Z"
   },
   {
    "duration": 12,
    "start_time": "2024-08-15T04:17:53.995Z"
   },
   {
    "duration": 12,
    "start_time": "2024-08-15T04:17:54.010Z"
   },
   {
    "duration": 16,
    "start_time": "2024-08-15T04:17:54.026Z"
   },
   {
    "duration": 51,
    "start_time": "2024-08-15T04:17:54.046Z"
   },
   {
    "duration": 9,
    "start_time": "2024-08-15T04:17:54.101Z"
   },
   {
    "duration": 13,
    "start_time": "2024-08-15T04:17:54.114Z"
   },
   {
    "duration": 54,
    "start_time": "2024-08-15T04:17:54.138Z"
   },
   {
    "duration": 17,
    "start_time": "2024-08-15T04:17:54.196Z"
   },
   {
    "duration": 10,
    "start_time": "2024-08-15T04:17:54.216Z"
   },
   {
    "duration": 8,
    "start_time": "2024-08-15T04:17:54.229Z"
   },
   {
    "duration": 1446,
    "start_time": "2024-08-15T04:17:54.241Z"
   },
   {
    "duration": 424,
    "start_time": "2024-08-15T04:17:55.690Z"
   },
   {
    "duration": 45,
    "start_time": "2024-08-15T04:17:56.117Z"
   },
   {
    "duration": 50,
    "start_time": "2024-08-15T04:17:56.165Z"
   },
   {
    "duration": 269,
    "start_time": "2024-08-15T04:17:56.218Z"
   },
   {
    "duration": 4024,
    "start_time": "2024-08-15T04:17:56.491Z"
   },
   {
    "duration": 14,
    "start_time": "2024-08-15T04:18:00.518Z"
   },
   {
    "duration": 8,
    "start_time": "2024-08-15T04:18:00.536Z"
   },
   {
    "duration": 244,
    "start_time": "2024-08-15T04:18:00.548Z"
   },
   {
    "duration": 20,
    "start_time": "2024-08-15T04:18:00.797Z"
   },
   {
    "duration": 34,
    "start_time": "2024-08-15T04:18:00.819Z"
   },
   {
    "duration": 237,
    "start_time": "2024-08-15T04:18:00.856Z"
   },
   {
    "duration": 206,
    "start_time": "2024-08-15T04:18:01.096Z"
   },
   {
    "duration": 106,
    "start_time": "2024-08-15T04:18:01.304Z"
   },
   {
    "duration": 30,
    "start_time": "2024-08-15T04:18:01.414Z"
   },
   {
    "duration": 9,
    "start_time": "2024-08-15T04:18:01.448Z"
   },
   {
    "duration": 79,
    "start_time": "2024-08-15T04:18:01.460Z"
   },
   {
    "duration": 59,
    "start_time": "2024-08-15T04:18:01.543Z"
   },
   {
    "duration": 10,
    "start_time": "2024-08-15T04:18:01.606Z"
   },
   {
    "duration": 7,
    "start_time": "2024-08-15T04:18:01.620Z"
   },
   {
    "duration": 7,
    "start_time": "2024-08-15T04:18:01.632Z"
   },
   {
    "duration": 52,
    "start_time": "2024-08-15T04:18:01.644Z"
   },
   {
    "duration": 15,
    "start_time": "2024-08-15T04:18:01.700Z"
   },
   {
    "duration": 8,
    "start_time": "2024-08-15T04:18:01.720Z"
   },
   {
    "duration": 1686,
    "start_time": "2024-08-15T04:18:01.731Z"
   },
   {
    "duration": 1332,
    "start_time": "2024-08-15T04:18:03.421Z"
   },
   {
    "duration": 251,
    "start_time": "2024-08-15T04:18:04.757Z"
   },
   {
    "duration": 16,
    "start_time": "2024-08-15T04:18:05.013Z"
   },
   {
    "duration": 13,
    "start_time": "2024-08-15T04:18:05.033Z"
   },
   {
    "duration": 43,
    "start_time": "2024-08-15T04:18:05.050Z"
   },
   {
    "duration": 10,
    "start_time": "2024-08-15T04:18:05.096Z"
   },
   {
    "duration": 19,
    "start_time": "2024-08-15T04:18:05.110Z"
   },
   {
    "duration": 345,
    "start_time": "2024-08-15T04:18:05.132Z"
   },
   {
    "duration": 4,
    "start_time": "2024-08-15T04:18:05.480Z"
   },
   {
    "duration": 6,
    "start_time": "2024-08-15T04:18:05.492Z"
   },
   {
    "duration": 4,
    "start_time": "2024-08-15T04:18:05.502Z"
   },
   {
    "duration": 5,
    "start_time": "2024-08-15T04:18:05.510Z"
   },
   {
    "duration": 5,
    "start_time": "2024-08-15T04:18:05.518Z"
   },
   {
    "duration": 465,
    "start_time": "2024-08-15T15:07:54.045Z"
   },
   {
    "duration": 252,
    "start_time": "2024-08-15T15:07:54.513Z"
   },
   {
    "duration": 35,
    "start_time": "2024-08-15T15:07:54.768Z"
   },
   {
    "duration": 20,
    "start_time": "2024-08-15T15:07:54.823Z"
   },
   {
    "duration": 11,
    "start_time": "2024-08-15T15:07:54.846Z"
   },
   {
    "duration": 63,
    "start_time": "2024-08-15T15:07:54.861Z"
   },
   {
    "duration": 8,
    "start_time": "2024-08-15T15:07:54.927Z"
   },
   {
    "duration": 12,
    "start_time": "2024-08-15T15:07:54.938Z"
   },
   {
    "duration": 12,
    "start_time": "2024-08-15T15:07:54.952Z"
   },
   {
    "duration": 7,
    "start_time": "2024-08-15T15:07:54.971Z"
   },
   {
    "duration": 525,
    "start_time": "2024-08-15T15:07:55.023Z"
   },
   {
    "duration": 8,
    "start_time": "2024-08-15T15:07:55.551Z"
   },
   {
    "duration": 11,
    "start_time": "2024-08-15T15:07:55.562Z"
   },
   {
    "duration": 90,
    "start_time": "2024-08-15T15:07:55.576Z"
   },
   {
    "duration": 16,
    "start_time": "2024-08-15T15:07:55.669Z"
   },
   {
    "duration": 17,
    "start_time": "2024-08-15T15:07:55.687Z"
   },
   {
    "duration": 13,
    "start_time": "2024-08-15T15:07:55.724Z"
   },
   {
    "duration": 13,
    "start_time": "2024-08-15T15:07:55.741Z"
   },
   {
    "duration": 76,
    "start_time": "2024-08-15T15:07:55.759Z"
   },
   {
    "duration": 100,
    "start_time": "2024-08-15T15:07:55.838Z"
   },
   {
    "duration": 7,
    "start_time": "2024-08-15T15:07:55.941Z"
   },
   {
    "duration": 9,
    "start_time": "2024-08-15T15:07:55.952Z"
   },
   {
    "duration": 11,
    "start_time": "2024-08-15T15:07:55.964Z"
   },
   {
    "duration": 50,
    "start_time": "2024-08-15T15:07:55.978Z"
   },
   {
    "duration": 8,
    "start_time": "2024-08-15T15:07:56.031Z"
   },
   {
    "duration": 6,
    "start_time": "2024-08-15T15:07:56.043Z"
   },
   {
    "duration": 12,
    "start_time": "2024-08-15T15:07:56.053Z"
   },
   {
    "duration": 49,
    "start_time": "2024-08-15T15:07:56.073Z"
   },
   {
    "duration": 14,
    "start_time": "2024-08-15T15:07:56.125Z"
   },
   {
    "duration": 8,
    "start_time": "2024-08-15T15:07:56.141Z"
   },
   {
    "duration": 8,
    "start_time": "2024-08-15T15:07:56.153Z"
   },
   {
    "duration": 1317,
    "start_time": "2024-08-15T15:07:56.164Z"
   },
   {
    "duration": 332,
    "start_time": "2024-08-15T15:07:57.485Z"
   },
   {
    "duration": 47,
    "start_time": "2024-08-15T15:07:57.823Z"
   },
   {
    "duration": 51,
    "start_time": "2024-08-15T15:07:57.873Z"
   },
   {
    "duration": 234,
    "start_time": "2024-08-15T15:07:57.926Z"
   },
   {
    "duration": 3543,
    "start_time": "2024-08-15T15:07:58.162Z"
   },
   {
    "duration": 20,
    "start_time": "2024-08-15T15:08:01.709Z"
   },
   {
    "duration": 8,
    "start_time": "2024-08-15T15:08:01.731Z"
   },
   {
    "duration": 172,
    "start_time": "2024-08-15T15:08:01.743Z"
   },
   {
    "duration": 17,
    "start_time": "2024-08-15T15:08:01.918Z"
   },
   {
    "duration": 31,
    "start_time": "2024-08-15T15:08:01.937Z"
   },
   {
    "duration": 183,
    "start_time": "2024-08-15T15:08:01.971Z"
   },
   {
    "duration": 159,
    "start_time": "2024-08-15T15:08:02.156Z"
   },
   {
    "duration": 78,
    "start_time": "2024-08-15T15:08:02.319Z"
   },
   {
    "duration": 35,
    "start_time": "2024-08-15T15:08:02.400Z"
   },
   {
    "duration": 6,
    "start_time": "2024-08-15T15:08:02.438Z"
   },
   {
    "duration": 33,
    "start_time": "2024-08-15T15:08:02.448Z"
   },
   {
    "duration": 54,
    "start_time": "2024-08-15T15:08:02.484Z"
   },
   {
    "duration": 7,
    "start_time": "2024-08-15T15:08:02.541Z"
   },
   {
    "duration": 6,
    "start_time": "2024-08-15T15:08:02.551Z"
   },
   {
    "duration": 8,
    "start_time": "2024-08-15T15:08:02.560Z"
   },
   {
    "duration": 52,
    "start_time": "2024-08-15T15:08:02.571Z"
   },
   {
    "duration": 6,
    "start_time": "2024-08-15T15:08:02.627Z"
   },
   {
    "duration": 7,
    "start_time": "2024-08-15T15:08:02.636Z"
   },
   {
    "duration": 1310,
    "start_time": "2024-08-15T15:08:02.647Z"
   },
   {
    "duration": 1085,
    "start_time": "2024-08-15T15:08:03.960Z"
   },
   {
    "duration": 228,
    "start_time": "2024-08-15T15:08:05.048Z"
   },
   {
    "duration": 10,
    "start_time": "2024-08-15T15:08:05.279Z"
   },
   {
    "duration": 32,
    "start_time": "2024-08-15T15:08:05.293Z"
   },
   {
    "duration": 14,
    "start_time": "2024-08-15T15:08:05.328Z"
   },
   {
    "duration": 9,
    "start_time": "2024-08-15T15:08:05.346Z"
   },
   {
    "duration": 18,
    "start_time": "2024-08-15T15:08:05.358Z"
   },
   {
    "duration": 219,
    "start_time": "2024-08-15T15:08:05.422Z"
   },
   {
    "duration": 4,
    "start_time": "2024-08-15T15:08:05.643Z"
   },
   {
    "duration": 4,
    "start_time": "2024-08-15T15:08:05.649Z"
   },
   {
    "duration": 4,
    "start_time": "2024-08-15T15:08:05.662Z"
   },
   {
    "duration": 7,
    "start_time": "2024-08-15T15:08:05.669Z"
   },
   {
    "duration": 4,
    "start_time": "2024-08-15T15:08:05.679Z"
   },
   {
    "duration": 24,
    "start_time": "2024-08-15T15:23:02.380Z"
   },
   {
    "duration": 3,
    "start_time": "2024-08-15T15:27:05.476Z"
   },
   {
    "duration": 185,
    "start_time": "2024-08-15T15:27:13.325Z"
   },
   {
    "duration": 27,
    "start_time": "2024-08-15T15:27:16.957Z"
   },
   {
    "duration": 26,
    "start_time": "2024-08-15T15:27:19.592Z"
   },
   {
    "duration": 16,
    "start_time": "2024-08-15T15:27:21.923Z"
   },
   {
    "duration": 11,
    "start_time": "2024-08-15T15:27:27.812Z"
   },
   {
    "duration": 26,
    "start_time": "2024-08-15T15:27:31.964Z"
   },
   {
    "duration": 8,
    "start_time": "2024-08-15T15:27:39.072Z"
   },
   {
    "duration": 11,
    "start_time": "2024-08-15T15:27:43.090Z"
   },
   {
    "duration": 11,
    "start_time": "2024-08-15T15:27:50.772Z"
   },
   {
    "duration": 6,
    "start_time": "2024-08-15T15:27:53.225Z"
   },
   {
    "duration": 479,
    "start_time": "2024-08-15T15:27:55.656Z"
   },
   {
    "duration": 519,
    "start_time": "2024-08-15T15:27:59.028Z"
   },
   {
    "duration": 527,
    "start_time": "2024-08-15T15:28:02.510Z"
   },
   {
    "duration": 536,
    "start_time": "2024-08-15T15:28:05.309Z"
   },
   {
    "duration": 488,
    "start_time": "2024-08-15T15:28:26.917Z"
   },
   {
    "duration": 215,
    "start_time": "2024-08-15T15:28:27.408Z"
   },
   {
    "duration": 36,
    "start_time": "2024-08-15T15:28:27.626Z"
   },
   {
    "duration": 19,
    "start_time": "2024-08-15T15:28:27.665Z"
   },
   {
    "duration": 39,
    "start_time": "2024-08-15T15:28:27.690Z"
   },
   {
    "duration": 43,
    "start_time": "2024-08-15T15:28:27.731Z"
   },
   {
    "duration": 8,
    "start_time": "2024-08-15T15:28:27.777Z"
   },
   {
    "duration": 45,
    "start_time": "2024-08-15T15:28:27.789Z"
   },
   {
    "duration": 12,
    "start_time": "2024-08-15T15:28:27.836Z"
   },
   {
    "duration": 7,
    "start_time": "2024-08-15T15:28:27.852Z"
   },
   {
    "duration": 567,
    "start_time": "2024-08-15T15:28:27.862Z"
   },
   {
    "duration": 7,
    "start_time": "2024-08-15T15:28:28.432Z"
   },
   {
    "duration": 11,
    "start_time": "2024-08-15T15:28:28.442Z"
   },
   {
    "duration": 82,
    "start_time": "2024-08-15T15:28:28.461Z"
   },
   {
    "duration": 13,
    "start_time": "2024-08-15T15:28:28.545Z"
   },
   {
    "duration": 17,
    "start_time": "2024-08-15T15:28:28.561Z"
   },
   {
    "duration": 42,
    "start_time": "2024-08-15T15:28:28.583Z"
   },
   {
    "duration": 10,
    "start_time": "2024-08-15T15:28:28.628Z"
   },
   {
    "duration": 50,
    "start_time": "2024-08-15T15:28:28.642Z"
   },
   {
    "duration": 117,
    "start_time": "2024-08-15T15:28:28.695Z"
   },
   {
    "duration": 13,
    "start_time": "2024-08-15T15:28:28.815Z"
   },
   {
    "duration": 8,
    "start_time": "2024-08-15T15:28:28.831Z"
   },
   {
    "duration": 11,
    "start_time": "2024-08-15T15:28:28.842Z"
   },
   {
    "duration": 13,
    "start_time": "2024-08-15T15:28:28.856Z"
   },
   {
    "duration": 54,
    "start_time": "2024-08-15T15:28:28.872Z"
   },
   {
    "duration": 7,
    "start_time": "2024-08-15T15:28:28.928Z"
   },
   {
    "duration": 7,
    "start_time": "2024-08-15T15:28:28.939Z"
   },
   {
    "duration": 11,
    "start_time": "2024-08-15T15:28:28.949Z"
   },
   {
    "duration": 13,
    "start_time": "2024-08-15T15:28:28.963Z"
   },
   {
    "duration": 8,
    "start_time": "2024-08-15T15:28:29.024Z"
   },
   {
    "duration": 7,
    "start_time": "2024-08-15T15:28:29.034Z"
   },
   {
    "duration": 1297,
    "start_time": "2024-08-15T15:28:29.044Z"
   },
   {
    "duration": 333,
    "start_time": "2024-08-15T15:28:30.344Z"
   },
   {
    "duration": 53,
    "start_time": "2024-08-15T15:28:30.682Z"
   },
   {
    "duration": 31,
    "start_time": "2024-08-15T15:28:30.738Z"
   },
   {
    "duration": 259,
    "start_time": "2024-08-15T15:28:30.772Z"
   },
   {
    "duration": 3510,
    "start_time": "2024-08-15T15:28:31.035Z"
   },
   {
    "duration": 11,
    "start_time": "2024-08-15T15:28:34.548Z"
   },
   {
    "duration": 7,
    "start_time": "2024-08-15T15:28:34.562Z"
   },
   {
    "duration": 174,
    "start_time": "2024-08-15T15:28:34.572Z"
   },
   {
    "duration": 18,
    "start_time": "2024-08-15T15:28:34.755Z"
   },
   {
    "duration": 55,
    "start_time": "2024-08-15T15:28:34.776Z"
   },
   {
    "duration": 164,
    "start_time": "2024-08-15T15:28:34.834Z"
   },
   {
    "duration": 136,
    "start_time": "2024-08-15T15:28:35.001Z"
   },
   {
    "duration": 83,
    "start_time": "2024-08-15T15:28:35.140Z"
   },
   {
    "duration": 23,
    "start_time": "2024-08-15T15:28:35.225Z"
   },
   {
    "duration": 5,
    "start_time": "2024-08-15T15:28:35.251Z"
   },
   {
    "duration": 66,
    "start_time": "2024-08-15T15:28:35.259Z"
   },
   {
    "duration": 21,
    "start_time": "2024-08-15T15:28:35.329Z"
   },
   {
    "duration": 7,
    "start_time": "2024-08-15T15:28:35.353Z"
   },
   {
    "duration": 6,
    "start_time": "2024-08-15T15:28:35.364Z"
   },
   {
    "duration": 51,
    "start_time": "2024-08-15T15:28:35.374Z"
   },
   {
    "duration": 7,
    "start_time": "2024-08-15T15:28:35.428Z"
   },
   {
    "duration": 7,
    "start_time": "2024-08-15T15:28:35.438Z"
   },
   {
    "duration": 10,
    "start_time": "2024-08-15T15:28:35.448Z"
   },
   {
    "duration": 1307,
    "start_time": "2024-08-15T15:28:35.461Z"
   },
   {
    "duration": 1109,
    "start_time": "2024-08-15T15:28:36.771Z"
   },
   {
    "duration": 226,
    "start_time": "2024-08-15T15:28:37.883Z"
   },
   {
    "duration": 20,
    "start_time": "2024-08-15T15:28:38.113Z"
   },
   {
    "duration": 10,
    "start_time": "2024-08-15T15:28:38.136Z"
   },
   {
    "duration": 14,
    "start_time": "2024-08-15T15:28:38.149Z"
   },
   {
    "duration": 9,
    "start_time": "2024-08-15T15:28:38.166Z"
   },
   {
    "duration": 56,
    "start_time": "2024-08-15T15:28:38.178Z"
   },
   {
    "duration": 252,
    "start_time": "2024-08-15T15:28:38.237Z"
   },
   {
    "duration": 4,
    "start_time": "2024-08-15T15:28:38.492Z"
   },
   {
    "duration": 24,
    "start_time": "2024-08-15T15:28:38.499Z"
   },
   {
    "duration": 4,
    "start_time": "2024-08-15T15:28:38.525Z"
   },
   {
    "duration": 4,
    "start_time": "2024-08-15T15:28:38.532Z"
   },
   {
    "duration": 4,
    "start_time": "2024-08-15T15:28:38.538Z"
   },
   {
    "duration": 1227,
    "start_time": "2024-08-15T16:11:29.719Z"
   },
   {
    "duration": 10,
    "start_time": "2024-08-15T16:31:02.963Z"
   },
   {
    "duration": 12,
    "start_time": "2024-08-15T16:31:10.399Z"
   },
   {
    "duration": 13,
    "start_time": "2024-08-15T16:31:19.555Z"
   },
   {
    "duration": 128,
    "start_time": "2024-08-15T16:40:58.342Z"
   },
   {
    "duration": 2361,
    "start_time": "2024-08-15T17:25:23.320Z"
   },
   {
    "duration": 337,
    "start_time": "2024-08-15T17:25:47.393Z"
   },
   {
    "duration": 1894,
    "start_time": "2024-08-15T17:26:42.124Z"
   },
   {
    "duration": 3,
    "start_time": "2024-08-15T17:26:51.357Z"
   },
   {
    "duration": 181,
    "start_time": "2024-08-15T17:26:51.365Z"
   },
   {
    "duration": 27,
    "start_time": "2024-08-15T17:26:51.549Z"
   },
   {
    "duration": 43,
    "start_time": "2024-08-15T17:26:51.580Z"
   },
   {
    "duration": 13,
    "start_time": "2024-08-15T17:26:51.626Z"
   },
   {
    "duration": 31,
    "start_time": "2024-08-15T17:26:51.644Z"
   },
   {
    "duration": 8,
    "start_time": "2024-08-15T17:26:51.678Z"
   },
   {
    "duration": 13,
    "start_time": "2024-08-15T17:26:51.724Z"
   },
   {
    "duration": 12,
    "start_time": "2024-08-15T17:26:51.740Z"
   },
   {
    "duration": 7,
    "start_time": "2024-08-15T17:26:51.757Z"
   },
   {
    "duration": 531,
    "start_time": "2024-08-15T17:26:51.767Z"
   },
   {
    "duration": 22,
    "start_time": "2024-08-15T17:26:52.301Z"
   },
   {
    "duration": 14,
    "start_time": "2024-08-15T17:26:52.326Z"
   },
   {
    "duration": 50,
    "start_time": "2024-08-15T17:26:52.345Z"
   },
   {
    "duration": 33,
    "start_time": "2024-08-15T17:26:52.401Z"
   },
   {
    "duration": 17,
    "start_time": "2024-08-15T17:26:52.437Z"
   },
   {
    "duration": 11,
    "start_time": "2024-08-15T17:26:52.456Z"
   },
   {
    "duration": 9,
    "start_time": "2024-08-15T17:26:52.471Z"
   },
   {
    "duration": 45,
    "start_time": "2024-08-15T17:26:52.522Z"
   },
   {
    "duration": 121,
    "start_time": "2024-08-15T17:26:52.570Z"
   },
   {
    "duration": 8,
    "start_time": "2024-08-15T17:26:52.695Z"
   },
   {
    "duration": 24,
    "start_time": "2024-08-15T17:26:52.707Z"
   },
   {
    "duration": 11,
    "start_time": "2024-08-15T17:26:52.734Z"
   },
   {
    "duration": 15,
    "start_time": "2024-08-15T17:26:52.748Z"
   },
   {
    "duration": 11,
    "start_time": "2024-08-15T17:26:52.766Z"
   },
   {
    "duration": 45,
    "start_time": "2024-08-15T17:26:52.780Z"
   },
   {
    "duration": 7,
    "start_time": "2024-08-15T17:26:52.829Z"
   },
   {
    "duration": 10,
    "start_time": "2024-08-15T17:26:52.839Z"
   },
   {
    "duration": 19,
    "start_time": "2024-08-15T17:26:52.851Z"
   },
   {
    "duration": 8,
    "start_time": "2024-08-15T17:26:52.873Z"
   },
   {
    "duration": 8,
    "start_time": "2024-08-15T17:26:52.923Z"
   },
   {
    "duration": 1245,
    "start_time": "2024-08-15T17:26:52.934Z"
   },
   {
    "duration": 304,
    "start_time": "2024-08-15T17:26:54.181Z"
   },
   {
    "duration": 53,
    "start_time": "2024-08-15T17:26:54.488Z"
   },
   {
    "duration": 28,
    "start_time": "2024-08-15T17:26:54.544Z"
   },
   {
    "duration": 253,
    "start_time": "2024-08-15T17:26:54.575Z"
   },
   {
    "duration": 3614,
    "start_time": "2024-08-15T17:26:54.831Z"
   },
   {
    "duration": 11,
    "start_time": "2024-08-15T17:26:58.448Z"
   },
   {
    "duration": 7,
    "start_time": "2024-08-15T17:26:58.463Z"
   },
   {
    "duration": 170,
    "start_time": "2024-08-15T17:26:58.473Z"
   },
   {
    "duration": 19,
    "start_time": "2024-08-15T17:26:58.646Z"
   },
   {
    "duration": 50,
    "start_time": "2024-08-15T17:26:58.675Z"
   },
   {
    "duration": 153,
    "start_time": "2024-08-15T17:26:58.728Z"
   },
   {
    "duration": 139,
    "start_time": "2024-08-15T17:26:58.884Z"
   },
   {
    "duration": 81,
    "start_time": "2024-08-15T17:26:59.026Z"
   },
   {
    "duration": 24,
    "start_time": "2024-08-15T17:26:59.123Z"
   },
   {
    "duration": 6,
    "start_time": "2024-08-15T17:26:59.150Z"
   },
   {
    "duration": 64,
    "start_time": "2024-08-15T17:26:59.159Z"
   },
   {
    "duration": 23,
    "start_time": "2024-08-15T17:26:59.226Z"
   },
   {
    "duration": 7,
    "start_time": "2024-08-15T17:26:59.252Z"
   },
   {
    "duration": 7,
    "start_time": "2024-08-15T17:26:59.261Z"
   },
   {
    "duration": 51,
    "start_time": "2024-08-15T17:26:59.272Z"
   },
   {
    "duration": 7,
    "start_time": "2024-08-15T17:26:59.326Z"
   },
   {
    "duration": 8,
    "start_time": "2024-08-15T17:26:59.337Z"
   },
   {
    "duration": 11,
    "start_time": "2024-08-15T17:26:59.348Z"
   },
   {
    "duration": 1328,
    "start_time": "2024-08-15T17:26:59.364Z"
   },
   {
    "duration": 1087,
    "start_time": "2024-08-15T17:27:00.695Z"
   },
   {
    "duration": 224,
    "start_time": "2024-08-15T17:27:01.785Z"
   },
   {
    "duration": 15,
    "start_time": "2024-08-15T17:27:02.012Z"
   },
   {
    "duration": 12,
    "start_time": "2024-08-15T17:27:02.030Z"
   },
   {
    "duration": 15,
    "start_time": "2024-08-15T17:27:02.045Z"
   },
   {
    "duration": 8,
    "start_time": "2024-08-15T17:27:02.064Z"
   },
   {
    "duration": 61,
    "start_time": "2024-08-15T17:27:02.075Z"
   },
   {
    "duration": 1884,
    "start_time": "2024-08-15T17:27:02.139Z"
   },
   {
    "duration": 1,
    "start_time": "2024-08-15T17:27:04.025Z"
   },
   {
    "duration": 0,
    "start_time": "2024-08-15T17:27:04.027Z"
   },
   {
    "duration": 0,
    "start_time": "2024-08-15T17:27:04.030Z"
   },
   {
    "duration": 0,
    "start_time": "2024-08-15T17:27:04.032Z"
   },
   {
    "duration": 0,
    "start_time": "2024-08-15T17:27:04.034Z"
   },
   {
    "duration": 166,
    "start_time": "2024-08-15T17:27:19.940Z"
   },
   {
    "duration": 24,
    "start_time": "2024-08-15T17:52:20.309Z"
   },
   {
    "duration": 29,
    "start_time": "2024-08-15T17:52:29.497Z"
   },
   {
    "duration": 421,
    "start_time": "2024-08-15T18:14:20.075Z"
   },
   {
    "duration": 243,
    "start_time": "2024-08-15T18:14:23.171Z"
   },
   {
    "duration": 20,
    "start_time": "2024-08-15T18:14:36.563Z"
   },
   {
    "duration": 502,
    "start_time": "2024-08-15T18:14:56.815Z"
   },
   {
    "duration": 209,
    "start_time": "2024-08-15T18:14:57.322Z"
   },
   {
    "duration": 37,
    "start_time": "2024-08-15T18:14:57.534Z"
   },
   {
    "duration": 39,
    "start_time": "2024-08-15T18:14:57.574Z"
   },
   {
    "duration": 11,
    "start_time": "2024-08-15T18:14:57.618Z"
   },
   {
    "duration": 38,
    "start_time": "2024-08-15T18:14:57.632Z"
   },
   {
    "duration": 42,
    "start_time": "2024-08-15T18:14:57.673Z"
   },
   {
    "duration": 12,
    "start_time": "2024-08-15T18:14:57.718Z"
   },
   {
    "duration": 12,
    "start_time": "2024-08-15T18:14:57.733Z"
   },
   {
    "duration": 7,
    "start_time": "2024-08-15T18:14:57.748Z"
   },
   {
    "duration": 606,
    "start_time": "2024-08-15T18:14:57.758Z"
   },
   {
    "duration": 8,
    "start_time": "2024-08-15T18:14:58.367Z"
   },
   {
    "duration": 39,
    "start_time": "2024-08-15T18:14:58.378Z"
   },
   {
    "duration": 84,
    "start_time": "2024-08-15T18:14:58.423Z"
   },
   {
    "duration": 12,
    "start_time": "2024-08-15T18:14:58.510Z"
   },
   {
    "duration": 17,
    "start_time": "2024-08-15T18:14:58.525Z"
   },
   {
    "duration": 12,
    "start_time": "2024-08-15T18:14:58.544Z"
   },
   {
    "duration": 9,
    "start_time": "2024-08-15T18:14:58.558Z"
   },
   {
    "duration": 78,
    "start_time": "2024-08-15T18:14:58.570Z"
   },
   {
    "duration": 121,
    "start_time": "2024-08-15T18:14:58.652Z"
   },
   {
    "duration": 8,
    "start_time": "2024-08-15T18:14:58.776Z"
   },
   {
    "duration": 24,
    "start_time": "2024-08-15T18:14:58.787Z"
   },
   {
    "duration": 10,
    "start_time": "2024-08-15T18:14:58.814Z"
   },
   {
    "duration": 14,
    "start_time": "2024-08-15T18:14:58.828Z"
   },
   {
    "duration": 9,
    "start_time": "2024-08-15T18:14:58.845Z"
   },
   {
    "duration": 6,
    "start_time": "2024-08-15T18:14:58.857Z"
   },
   {
    "duration": 8,
    "start_time": "2024-08-15T18:14:58.914Z"
   },
   {
    "duration": 12,
    "start_time": "2024-08-15T18:14:58.924Z"
   },
   {
    "duration": 15,
    "start_time": "2024-08-15T18:14:58.939Z"
   },
   {
    "duration": 8,
    "start_time": "2024-08-15T18:14:58.957Z"
   },
   {
    "duration": 8,
    "start_time": "2024-08-15T18:14:59.012Z"
   },
   {
    "duration": 1337,
    "start_time": "2024-08-15T18:14:59.024Z"
   },
   {
    "duration": 337,
    "start_time": "2024-08-15T18:15:00.364Z"
   },
   {
    "duration": 42,
    "start_time": "2024-08-15T18:15:00.711Z"
   },
   {
    "duration": 27,
    "start_time": "2024-08-15T18:15:00.758Z"
   },
   {
    "duration": 231,
    "start_time": "2024-08-15T18:15:00.789Z"
   },
   {
    "duration": 3562,
    "start_time": "2024-08-15T18:15:01.023Z"
   },
   {
    "duration": 10,
    "start_time": "2024-08-15T18:15:04.588Z"
   },
   {
    "duration": 8,
    "start_time": "2024-08-15T18:15:04.613Z"
   },
   {
    "duration": 162,
    "start_time": "2024-08-15T18:15:04.624Z"
   },
   {
    "duration": 25,
    "start_time": "2024-08-15T18:15:04.798Z"
   },
   {
    "duration": 30,
    "start_time": "2024-08-15T18:15:04.825Z"
   },
   {
    "duration": 174,
    "start_time": "2024-08-15T18:15:04.859Z"
   },
   {
    "duration": 135,
    "start_time": "2024-08-15T18:15:05.036Z"
   },
   {
    "duration": 84,
    "start_time": "2024-08-15T18:15:05.174Z"
   },
   {
    "duration": 24,
    "start_time": "2024-08-15T18:15:05.263Z"
   },
   {
    "duration": 23,
    "start_time": "2024-08-15T18:15:05.290Z"
   },
   {
    "duration": 34,
    "start_time": "2024-08-15T18:15:05.316Z"
   },
   {
    "duration": 22,
    "start_time": "2024-08-15T18:15:05.352Z"
   },
   {
    "duration": 39,
    "start_time": "2024-08-15T18:15:05.376Z"
   },
   {
    "duration": 5,
    "start_time": "2024-08-15T18:15:05.418Z"
   },
   {
    "duration": 7,
    "start_time": "2024-08-15T18:15:05.426Z"
   },
   {
    "duration": 7,
    "start_time": "2024-08-15T18:15:05.435Z"
   },
   {
    "duration": 6,
    "start_time": "2024-08-15T18:15:05.446Z"
   },
   {
    "duration": 58,
    "start_time": "2024-08-15T18:15:05.456Z"
   },
   {
    "duration": 1299,
    "start_time": "2024-08-15T18:15:05.517Z"
   },
   {
    "duration": 1120,
    "start_time": "2024-08-15T18:15:06.819Z"
   },
   {
    "duration": 224,
    "start_time": "2024-08-15T18:15:07.942Z"
   },
   {
    "duration": 10,
    "start_time": "2024-08-15T18:15:08.169Z"
   },
   {
    "duration": 32,
    "start_time": "2024-08-15T18:15:08.182Z"
   },
   {
    "duration": 13,
    "start_time": "2024-08-15T18:15:08.217Z"
   },
   {
    "duration": 9,
    "start_time": "2024-08-15T18:15:08.234Z"
   },
   {
    "duration": 17,
    "start_time": "2024-08-15T18:15:08.246Z"
   },
   {
    "duration": 377,
    "start_time": "2024-08-15T18:15:08.266Z"
   },
   {
    "duration": 3,
    "start_time": "2024-08-15T18:15:08.646Z"
   },
   {
    "duration": 4,
    "start_time": "2024-08-15T18:15:08.652Z"
   },
   {
    "duration": 3,
    "start_time": "2024-08-15T18:15:08.661Z"
   },
   {
    "duration": 3,
    "start_time": "2024-08-15T18:15:08.667Z"
   },
   {
    "duration": 39,
    "start_time": "2024-08-15T18:15:08.674Z"
   },
   {
    "duration": 423,
    "start_time": "2024-08-15T18:15:30.854Z"
   },
   {
    "duration": 205,
    "start_time": "2024-08-15T18:15:33.600Z"
   },
   {
    "duration": 194,
    "start_time": "2024-08-15T18:15:57.435Z"
   },
   {
    "duration": 38,
    "start_time": "2024-08-15T18:15:59.519Z"
   },
   {
    "duration": 18,
    "start_time": "2024-08-15T18:16:05.055Z"
   },
   {
    "duration": 17,
    "start_time": "2024-08-15T18:16:17.713Z"
   },
   {
    "duration": 11,
    "start_time": "2024-08-15T18:16:24.064Z"
   },
   {
    "duration": 4,
    "start_time": "2024-08-15T18:19:53.720Z"
   },
   {
    "duration": 9,
    "start_time": "2024-08-15T18:20:43.825Z"
   },
   {
    "duration": 6,
    "start_time": "2024-08-15T18:21:13.133Z"
   },
   {
    "duration": 6,
    "start_time": "2024-08-15T18:21:42.399Z"
   },
   {
    "duration": 5,
    "start_time": "2024-08-15T18:21:50.683Z"
   },
   {
    "duration": 6,
    "start_time": "2024-08-15T18:23:36.129Z"
   },
   {
    "duration": 16,
    "start_time": "2024-08-15T18:23:57.135Z"
   },
   {
    "duration": 349,
    "start_time": "2024-08-15T18:27:03.432Z"
   },
   {
    "duration": 10,
    "start_time": "2024-08-15T18:27:15.019Z"
   },
   {
    "duration": 537,
    "start_time": "2024-08-15T18:28:38.845Z"
   },
   {
    "duration": 559,
    "start_time": "2024-08-15T18:28:51.196Z"
   },
   {
    "duration": 22,
    "start_time": "2024-08-15T18:29:36.567Z"
   },
   {
    "duration": 5,
    "start_time": "2024-08-15T18:29:50.401Z"
   },
   {
    "duration": 24,
    "start_time": "2024-08-15T18:30:32.631Z"
   },
   {
    "duration": 304,
    "start_time": "2024-08-15T18:31:02.138Z"
   },
   {
    "duration": 26,
    "start_time": "2024-08-15T18:34:15.682Z"
   },
   {
    "duration": 19,
    "start_time": "2024-08-15T18:34:39.074Z"
   },
   {
    "duration": 495,
    "start_time": "2024-08-15T21:40:45.409Z"
   },
   {
    "duration": 243,
    "start_time": "2024-08-15T21:40:45.907Z"
   },
   {
    "duration": 39,
    "start_time": "2024-08-15T21:40:46.153Z"
   },
   {
    "duration": 35,
    "start_time": "2024-08-15T21:40:46.195Z"
   },
   {
    "duration": 11,
    "start_time": "2024-08-15T21:40:46.233Z"
   },
   {
    "duration": 6,
    "start_time": "2024-08-15T21:40:46.247Z"
   },
   {
    "duration": 17,
    "start_time": "2024-08-15T21:40:46.256Z"
   },
   {
    "duration": 55,
    "start_time": "2024-08-15T21:40:46.276Z"
   },
   {
    "duration": 579,
    "start_time": "2024-08-15T21:40:46.333Z"
   },
   {
    "duration": 7,
    "start_time": "2024-08-15T21:40:46.925Z"
   },
   {
    "duration": 343,
    "start_time": "2024-08-15T21:40:46.935Z"
   },
   {
    "duration": 18,
    "start_time": "2024-08-15T21:40:47.281Z"
   },
   {
    "duration": 80,
    "start_time": "2024-08-15T21:40:47.302Z"
   },
   {
    "duration": 13,
    "start_time": "2024-08-15T21:40:47.385Z"
   },
   {
    "duration": 28,
    "start_time": "2024-08-15T21:40:47.401Z"
   },
   {
    "duration": 10,
    "start_time": "2024-08-15T21:40:47.432Z"
   },
   {
    "duration": 12,
    "start_time": "2024-08-15T21:40:47.445Z"
   },
   {
    "duration": 82,
    "start_time": "2024-08-15T21:40:47.460Z"
   },
   {
    "duration": 117,
    "start_time": "2024-08-15T21:40:47.545Z"
   },
   {
    "duration": 9,
    "start_time": "2024-08-15T21:40:47.665Z"
   },
   {
    "duration": 11,
    "start_time": "2024-08-15T21:40:47.678Z"
   },
   {
    "duration": 36,
    "start_time": "2024-08-15T21:40:47.695Z"
   },
   {
    "duration": 15,
    "start_time": "2024-08-15T21:40:47.734Z"
   },
   {
    "duration": 8,
    "start_time": "2024-08-15T21:40:47.752Z"
   },
   {
    "duration": 8,
    "start_time": "2024-08-15T21:40:47.763Z"
   },
   {
    "duration": 59,
    "start_time": "2024-08-15T21:40:47.774Z"
   },
   {
    "duration": 12,
    "start_time": "2024-08-15T21:40:47.836Z"
   },
   {
    "duration": 13,
    "start_time": "2024-08-15T21:40:47.859Z"
   },
   {
    "duration": 9,
    "start_time": "2024-08-15T21:40:47.876Z"
   },
   {
    "duration": 8,
    "start_time": "2024-08-15T21:40:47.928Z"
   },
   {
    "duration": 1351,
    "start_time": "2024-08-15T21:40:47.939Z"
   },
   {
    "duration": 311,
    "start_time": "2024-08-15T21:40:49.293Z"
   },
   {
    "duration": 46,
    "start_time": "2024-08-15T21:40:49.608Z"
   },
   {
    "duration": 28,
    "start_time": "2024-08-15T21:40:49.657Z"
   },
   {
    "duration": 250,
    "start_time": "2024-08-15T21:40:49.688Z"
   },
   {
    "duration": 3497,
    "start_time": "2024-08-15T21:40:49.941Z"
   },
   {
    "duration": 11,
    "start_time": "2024-08-15T21:40:53.441Z"
   },
   {
    "duration": 9,
    "start_time": "2024-08-15T21:40:53.456Z"
   },
   {
    "duration": 172,
    "start_time": "2024-08-15T21:40:53.468Z"
   },
   {
    "duration": 19,
    "start_time": "2024-08-15T21:40:53.643Z"
   },
   {
    "duration": 32,
    "start_time": "2024-08-15T21:40:53.665Z"
   },
   {
    "duration": 195,
    "start_time": "2024-08-15T21:40:53.699Z"
   },
   {
    "duration": 163,
    "start_time": "2024-08-15T21:40:53.897Z"
   },
   {
    "duration": 91,
    "start_time": "2024-08-15T21:40:54.064Z"
   },
   {
    "duration": 24,
    "start_time": "2024-08-15T21:40:54.159Z"
   },
   {
    "duration": 7,
    "start_time": "2024-08-15T21:40:54.187Z"
   },
   {
    "duration": 36,
    "start_time": "2024-08-15T21:40:54.225Z"
   },
   {
    "duration": 20,
    "start_time": "2024-08-15T21:40:54.264Z"
   },
   {
    "duration": 7,
    "start_time": "2024-08-15T21:40:54.287Z"
   },
   {
    "duration": 5,
    "start_time": "2024-08-15T21:40:54.326Z"
   },
   {
    "duration": 7,
    "start_time": "2024-08-15T21:40:54.334Z"
   },
   {
    "duration": 7,
    "start_time": "2024-08-15T21:40:54.344Z"
   },
   {
    "duration": 6,
    "start_time": "2024-08-15T21:40:54.354Z"
   },
   {
    "duration": 5,
    "start_time": "2024-08-15T21:40:54.364Z"
   },
   {
    "duration": 1301,
    "start_time": "2024-08-15T21:40:54.427Z"
   },
   {
    "duration": 1098,
    "start_time": "2024-08-15T21:40:55.731Z"
   },
   {
    "duration": 222,
    "start_time": "2024-08-15T21:40:56.832Z"
   },
   {
    "duration": 11,
    "start_time": "2024-08-15T21:40:57.056Z"
   },
   {
    "duration": 10,
    "start_time": "2024-08-15T21:40:57.070Z"
   },
   {
    "duration": 44,
    "start_time": "2024-08-15T21:40:57.083Z"
   },
   {
    "duration": 8,
    "start_time": "2024-08-15T21:40:57.130Z"
   },
   {
    "duration": 17,
    "start_time": "2024-08-15T21:40:57.142Z"
   },
   {
    "duration": 343,
    "start_time": "2024-08-15T21:40:57.162Z"
   },
   {
    "duration": 11,
    "start_time": "2024-08-15T21:40:57.508Z"
   },
   {
    "duration": 11,
    "start_time": "2024-08-15T21:40:57.523Z"
   },
   {
    "duration": 3,
    "start_time": "2024-08-15T21:40:57.537Z"
   },
   {
    "duration": 4,
    "start_time": "2024-08-15T21:40:57.543Z"
   },
   {
    "duration": 4,
    "start_time": "2024-08-15T21:40:57.551Z"
   },
   {
    "duration": 18,
    "start_time": "2024-08-15T21:44:06.458Z"
   },
   {
    "duration": 180,
    "start_time": "2024-08-15T21:44:12.277Z"
   },
   {
    "duration": 20,
    "start_time": "2024-08-15T21:44:15.241Z"
   },
   {
    "duration": 15,
    "start_time": "2024-08-15T21:54:45.382Z"
   },
   {
    "duration": 12,
    "start_time": "2024-08-15T21:55:10.742Z"
   },
   {
    "duration": 6,
    "start_time": "2024-08-15T21:55:20.617Z"
   },
   {
    "duration": 457,
    "start_time": "2024-08-15T21:55:34.203Z"
   },
   {
    "duration": 207,
    "start_time": "2024-08-15T21:55:36.643Z"
   },
   {
    "duration": 40,
    "start_time": "2024-08-15T21:55:38.707Z"
   },
   {
    "duration": 23,
    "start_time": "2024-08-15T21:55:44.463Z"
   },
   {
    "duration": 14,
    "start_time": "2024-08-15T21:56:00.020Z"
   },
   {
    "duration": 6,
    "start_time": "2024-08-15T21:56:08.903Z"
   },
   {
    "duration": 19,
    "start_time": "2024-08-15T21:56:11.886Z"
   },
   {
    "duration": 12,
    "start_time": "2024-08-15T21:57:39.842Z"
   },
   {
    "duration": 564,
    "start_time": "2024-08-15T21:57:43.254Z"
   },
   {
    "duration": 7,
    "start_time": "2024-08-15T21:58:02.642Z"
   },
   {
    "duration": 4,
    "start_time": "2024-08-15T21:58:18.870Z"
   },
   {
    "duration": 219,
    "start_time": "2024-08-15T21:58:18.879Z"
   },
   {
    "duration": 29,
    "start_time": "2024-08-15T21:58:19.125Z"
   },
   {
    "duration": 18,
    "start_time": "2024-08-15T21:58:19.156Z"
   },
   {
    "duration": 12,
    "start_time": "2024-08-15T21:58:19.178Z"
   },
   {
    "duration": 38,
    "start_time": "2024-08-15T21:58:19.193Z"
   },
   {
    "duration": 15,
    "start_time": "2024-08-15T21:58:19.234Z"
   },
   {
    "duration": 9,
    "start_time": "2024-08-15T21:58:19.252Z"
   },
   {
    "duration": 591,
    "start_time": "2024-08-15T21:58:19.264Z"
   },
   {
    "duration": 11,
    "start_time": "2024-08-15T21:58:19.859Z"
   },
   {
    "duration": 336,
    "start_time": "2024-08-15T21:58:19.878Z"
   },
   {
    "duration": 53,
    "start_time": "2024-08-15T21:58:20.217Z"
   },
   {
    "duration": 13,
    "start_time": "2024-08-15T21:58:20.273Z"
   },
   {
    "duration": 16,
    "start_time": "2024-08-15T21:58:20.288Z"
   },
   {
    "duration": 13,
    "start_time": "2024-08-15T21:58:20.328Z"
   },
   {
    "duration": 11,
    "start_time": "2024-08-15T21:58:20.344Z"
   },
   {
    "duration": 71,
    "start_time": "2024-08-15T21:58:20.358Z"
   },
   {
    "duration": 106,
    "start_time": "2024-08-15T21:58:20.432Z"
   },
   {
    "duration": 7,
    "start_time": "2024-08-15T21:58:20.541Z"
   },
   {
    "duration": 7,
    "start_time": "2024-08-15T21:58:20.551Z"
   },
   {
    "duration": 11,
    "start_time": "2024-08-15T21:58:20.561Z"
   },
   {
    "duration": 53,
    "start_time": "2024-08-15T21:58:20.575Z"
   },
   {
    "duration": 8,
    "start_time": "2024-08-15T21:58:20.632Z"
   },
   {
    "duration": 9,
    "start_time": "2024-08-15T21:58:20.643Z"
   },
   {
    "duration": 10,
    "start_time": "2024-08-15T21:58:20.655Z"
   },
   {
    "duration": 11,
    "start_time": "2024-08-15T21:58:20.669Z"
   },
   {
    "duration": 21,
    "start_time": "2024-08-15T21:58:20.727Z"
   },
   {
    "duration": 8,
    "start_time": "2024-08-15T21:58:20.751Z"
   },
   {
    "duration": 6,
    "start_time": "2024-08-15T21:58:20.769Z"
   },
   {
    "duration": 1265,
    "start_time": "2024-08-15T21:58:20.779Z"
   },
   {
    "duration": 302,
    "start_time": "2024-08-15T21:58:22.046Z"
   },
   {
    "duration": 36,
    "start_time": "2024-08-15T21:58:22.351Z"
   },
   {
    "duration": 52,
    "start_time": "2024-08-15T21:58:22.390Z"
   },
   {
    "duration": 240,
    "start_time": "2024-08-15T21:58:22.445Z"
   },
   {
    "duration": 3603,
    "start_time": "2024-08-15T21:58:22.688Z"
   },
   {
    "duration": 11,
    "start_time": "2024-08-15T21:58:26.294Z"
   },
   {
    "duration": 7,
    "start_time": "2024-08-15T21:58:26.326Z"
   },
   {
    "duration": 169,
    "start_time": "2024-08-15T21:58:26.336Z"
   },
   {
    "duration": 26,
    "start_time": "2024-08-15T21:58:26.507Z"
   },
   {
    "duration": 32,
    "start_time": "2024-08-15T21:58:26.536Z"
   },
   {
    "duration": 190,
    "start_time": "2024-08-15T21:58:26.572Z"
   },
   {
    "duration": 150,
    "start_time": "2024-08-15T21:58:26.764Z"
   },
   {
    "duration": 79,
    "start_time": "2024-08-15T21:58:26.917Z"
   },
   {
    "duration": 42,
    "start_time": "2024-08-15T21:58:27.000Z"
   },
   {
    "duration": 5,
    "start_time": "2024-08-15T21:58:27.045Z"
   },
   {
    "duration": 35,
    "start_time": "2024-08-15T21:58:27.054Z"
   },
   {
    "duration": 49,
    "start_time": "2024-08-15T21:58:27.093Z"
   },
   {
    "duration": 8,
    "start_time": "2024-08-15T21:58:27.146Z"
   },
   {
    "duration": 6,
    "start_time": "2024-08-15T21:58:27.157Z"
   },
   {
    "duration": 6,
    "start_time": "2024-08-15T21:58:27.167Z"
   },
   {
    "duration": 54,
    "start_time": "2024-08-15T21:58:27.176Z"
   },
   {
    "duration": 7,
    "start_time": "2024-08-15T21:58:27.233Z"
   },
   {
    "duration": 6,
    "start_time": "2024-08-15T21:58:27.243Z"
   },
   {
    "duration": 1347,
    "start_time": "2024-08-15T21:58:27.252Z"
   },
   {
    "duration": 1124,
    "start_time": "2024-08-15T21:58:28.602Z"
   },
   {
    "duration": 305,
    "start_time": "2024-08-15T21:58:29.729Z"
   },
   {
    "duration": 10,
    "start_time": "2024-08-15T21:58:30.037Z"
   },
   {
    "duration": 13,
    "start_time": "2024-08-15T21:58:30.050Z"
   },
   {
    "duration": 14,
    "start_time": "2024-08-15T21:58:30.066Z"
   },
   {
    "duration": 42,
    "start_time": "2024-08-15T21:58:30.083Z"
   },
   {
    "duration": 18,
    "start_time": "2024-08-15T21:58:30.128Z"
   },
   {
    "duration": 329,
    "start_time": "2024-08-15T21:58:30.149Z"
   },
   {
    "duration": 19,
    "start_time": "2024-08-15T21:58:30.480Z"
   },
   {
    "duration": 3,
    "start_time": "2024-08-15T21:58:30.505Z"
   },
   {
    "duration": 4,
    "start_time": "2024-08-15T21:58:30.528Z"
   },
   {
    "duration": 4,
    "start_time": "2024-08-15T21:58:30.535Z"
   },
   {
    "duration": 4,
    "start_time": "2024-08-15T21:58:30.542Z"
   },
   {
    "duration": 466,
    "start_time": "2024-08-15T22:02:15.363Z"
   },
   {
    "duration": 217,
    "start_time": "2024-08-15T22:02:15.832Z"
   },
   {
    "duration": 36,
    "start_time": "2024-08-15T22:02:16.052Z"
   },
   {
    "duration": 40,
    "start_time": "2024-08-15T22:02:16.093Z"
   },
   {
    "duration": 11,
    "start_time": "2024-08-15T22:02:16.136Z"
   },
   {
    "duration": 6,
    "start_time": "2024-08-15T22:02:16.152Z"
   },
   {
    "duration": 15,
    "start_time": "2024-08-15T22:02:16.161Z"
   },
   {
    "duration": 51,
    "start_time": "2024-08-15T22:02:16.179Z"
   },
   {
    "duration": 553,
    "start_time": "2024-08-15T22:02:16.233Z"
   },
   {
    "duration": 7,
    "start_time": "2024-08-15T22:02:16.792Z"
   },
   {
    "duration": 360,
    "start_time": "2024-08-15T22:02:16.802Z"
   },
   {
    "duration": 50,
    "start_time": "2024-08-15T22:02:17.164Z"
   },
   {
    "duration": 13,
    "start_time": "2024-08-15T22:02:17.227Z"
   },
   {
    "duration": 16,
    "start_time": "2024-08-15T22:02:17.243Z"
   },
   {
    "duration": 12,
    "start_time": "2024-08-15T22:02:17.262Z"
   },
   {
    "duration": 9,
    "start_time": "2024-08-15T22:02:17.276Z"
   },
   {
    "duration": 44,
    "start_time": "2024-08-15T22:02:17.327Z"
   },
   {
    "duration": 123,
    "start_time": "2024-08-15T22:02:17.374Z"
   },
   {
    "duration": 10,
    "start_time": "2024-08-15T22:02:17.500Z"
   },
   {
    "duration": 8,
    "start_time": "2024-08-15T22:02:17.526Z"
   },
   {
    "duration": 14,
    "start_time": "2024-08-15T22:02:17.538Z"
   },
   {
    "duration": 13,
    "start_time": "2024-08-15T22:02:17.556Z"
   },
   {
    "duration": 9,
    "start_time": "2024-08-15T22:02:17.572Z"
   },
   {
    "duration": 49,
    "start_time": "2024-08-15T22:02:17.584Z"
   },
   {
    "duration": 12,
    "start_time": "2024-08-15T22:02:17.638Z"
   },
   {
    "duration": 10,
    "start_time": "2024-08-15T22:02:17.654Z"
   },
   {
    "duration": 16,
    "start_time": "2024-08-15T22:02:17.667Z"
   },
   {
    "duration": 10,
    "start_time": "2024-08-15T22:02:17.737Z"
   },
   {
    "duration": 8,
    "start_time": "2024-08-15T22:02:17.750Z"
   },
   {
    "duration": 1273,
    "start_time": "2024-08-15T22:02:17.761Z"
   },
   {
    "duration": 318,
    "start_time": "2024-08-15T22:02:19.037Z"
   },
   {
    "duration": 41,
    "start_time": "2024-08-15T22:02:19.358Z"
   },
   {
    "duration": 47,
    "start_time": "2024-08-15T22:02:19.402Z"
   },
   {
    "duration": 233,
    "start_time": "2024-08-15T22:02:19.452Z"
   },
   {
    "duration": 3562,
    "start_time": "2024-08-15T22:02:19.687Z"
   },
   {
    "duration": 12,
    "start_time": "2024-08-15T22:02:23.253Z"
   },
   {
    "duration": 6,
    "start_time": "2024-08-15T22:02:23.268Z"
   },
   {
    "duration": 497,
    "start_time": "2024-08-15T22:02:23.278Z"
   },
   {
    "duration": 0,
    "start_time": "2024-08-15T22:02:23.778Z"
   },
   {
    "duration": 0,
    "start_time": "2024-08-15T22:02:23.780Z"
   },
   {
    "duration": 0,
    "start_time": "2024-08-15T22:02:23.782Z"
   },
   {
    "duration": 0,
    "start_time": "2024-08-15T22:02:23.785Z"
   },
   {
    "duration": 0,
    "start_time": "2024-08-15T22:02:23.789Z"
   },
   {
    "duration": 0,
    "start_time": "2024-08-15T22:02:23.791Z"
   },
   {
    "duration": 0,
    "start_time": "2024-08-15T22:02:23.794Z"
   },
   {
    "duration": 0,
    "start_time": "2024-08-15T22:02:23.796Z"
   },
   {
    "duration": 0,
    "start_time": "2024-08-15T22:02:23.825Z"
   },
   {
    "duration": 0,
    "start_time": "2024-08-15T22:02:23.827Z"
   },
   {
    "duration": 0,
    "start_time": "2024-08-15T22:02:23.829Z"
   },
   {
    "duration": 0,
    "start_time": "2024-08-15T22:02:23.833Z"
   },
   {
    "duration": 0,
    "start_time": "2024-08-15T22:02:23.835Z"
   },
   {
    "duration": 0,
    "start_time": "2024-08-15T22:02:23.837Z"
   },
   {
    "duration": 0,
    "start_time": "2024-08-15T22:02:23.839Z"
   },
   {
    "duration": 0,
    "start_time": "2024-08-15T22:02:23.841Z"
   },
   {
    "duration": 0,
    "start_time": "2024-08-15T22:02:23.843Z"
   },
   {
    "duration": 0,
    "start_time": "2024-08-15T22:02:23.846Z"
   },
   {
    "duration": 0,
    "start_time": "2024-08-15T22:02:23.851Z"
   },
   {
    "duration": 0,
    "start_time": "2024-08-15T22:02:23.853Z"
   },
   {
    "duration": 0,
    "start_time": "2024-08-15T22:02:23.855Z"
   },
   {
    "duration": 0,
    "start_time": "2024-08-15T22:02:23.857Z"
   },
   {
    "duration": 0,
    "start_time": "2024-08-15T22:02:23.860Z"
   },
   {
    "duration": 0,
    "start_time": "2024-08-15T22:02:23.863Z"
   },
   {
    "duration": 0,
    "start_time": "2024-08-15T22:02:23.865Z"
   },
   {
    "duration": 0,
    "start_time": "2024-08-15T22:02:23.926Z"
   },
   {
    "duration": 0,
    "start_time": "2024-08-15T22:02:23.928Z"
   },
   {
    "duration": 0,
    "start_time": "2024-08-15T22:02:23.931Z"
   },
   {
    "duration": 0,
    "start_time": "2024-08-15T22:02:23.933Z"
   },
   {
    "duration": 0,
    "start_time": "2024-08-15T22:02:23.935Z"
   },
   {
    "duration": 8,
    "start_time": "2024-08-15T22:13:53.393Z"
   },
   {
    "duration": 446,
    "start_time": "2024-08-15T22:16:58.944Z"
   },
   {
    "duration": 216,
    "start_time": "2024-08-15T22:17:01.240Z"
   },
   {
    "duration": 58,
    "start_time": "2024-08-15T22:17:03.628Z"
   },
   {
    "duration": 8,
    "start_time": "2024-08-15T22:17:05.783Z"
   },
   {
    "duration": 1282,
    "start_time": "2024-08-15T22:17:08.502Z"
   },
   {
    "duration": 9,
    "start_time": "2024-08-15T22:17:14.321Z"
   },
   {
    "duration": 34,
    "start_time": "2024-08-15T22:18:00.385Z"
   },
   {
    "duration": 19,
    "start_time": "2024-08-15T22:19:06.212Z"
   },
   {
    "duration": 11,
    "start_time": "2024-08-15T22:20:41.859Z"
   },
   {
    "duration": 6,
    "start_time": "2024-08-15T22:21:53.012Z"
   },
   {
    "duration": 16,
    "start_time": "2024-08-15T23:37:06.208Z"
   },
   {
    "duration": 8,
    "start_time": "2024-08-15T23:37:25.274Z"
   },
   {
    "duration": 5,
    "start_time": "2024-08-15T23:37:40.948Z"
   },
   {
    "duration": 546,
    "start_time": "2024-08-15T23:37:53.145Z"
   },
   {
    "duration": 6,
    "start_time": "2024-08-15T23:38:41.406Z"
   },
   {
    "duration": 287,
    "start_time": "2024-08-15T23:38:45.004Z"
   },
   {
    "duration": 62,
    "start_time": "2024-08-15T23:38:54.012Z"
   },
   {
    "duration": 455,
    "start_time": "2024-08-16T15:54:44.641Z"
   },
   {
    "duration": 257,
    "start_time": "2024-08-16T15:54:46.879Z"
   },
   {
    "duration": 81,
    "start_time": "2024-08-16T15:54:48.783Z"
   },
   {
    "duration": 9,
    "start_time": "2024-08-16T15:54:51.207Z"
   },
   {
    "duration": 9,
    "start_time": "2024-08-16T15:55:04.259Z"
   },
   {
    "duration": 1352,
    "start_time": "2024-08-16T15:55:08.702Z"
   },
   {
    "duration": 34,
    "start_time": "2024-08-16T15:55:14.973Z"
   },
   {
    "duration": 18,
    "start_time": "2024-08-16T15:55:20.651Z"
   },
   {
    "duration": 10,
    "start_time": "2024-08-16T15:55:25.424Z"
   },
   {
    "duration": 6,
    "start_time": "2024-08-16T15:55:31.850Z"
   },
   {
    "duration": 15,
    "start_time": "2024-08-16T15:55:33.884Z"
   },
   {
    "duration": 8,
    "start_time": "2024-08-16T15:55:38.359Z"
   },
   {
    "duration": 5,
    "start_time": "2024-08-16T15:55:40.668Z"
   },
   {
    "duration": 5,
    "start_time": "2024-08-16T15:59:02.945Z"
   },
   {
    "duration": 553,
    "start_time": "2024-08-16T15:59:07.309Z"
   },
   {
    "duration": 6,
    "start_time": "2024-08-16T15:59:20.408Z"
   },
   {
    "duration": 262,
    "start_time": "2024-08-16T15:59:23.076Z"
   },
   {
    "duration": 67,
    "start_time": "2024-08-16T15:59:28.623Z"
   },
   {
    "duration": 460,
    "start_time": "2024-08-16T15:59:32.477Z"
   },
   {
    "duration": 62,
    "start_time": "2024-08-16T15:59:46.699Z"
   },
   {
    "duration": 231,
    "start_time": "2024-08-16T15:59:58.190Z"
   },
   {
    "duration": 159,
    "start_time": "2024-08-16T16:01:47.083Z"
   },
   {
    "duration": 143,
    "start_time": "2024-08-16T16:01:54.623Z"
   },
   {
    "duration": 17,
    "start_time": "2024-08-16T16:02:10.460Z"
   },
   {
    "duration": 32,
    "start_time": "2024-08-16T16:02:14.443Z"
   },
   {
    "duration": 168,
    "start_time": "2024-08-16T16:02:21.580Z"
   },
   {
    "duration": 160,
    "start_time": "2024-08-16T16:02:25.167Z"
   },
   {
    "duration": 86,
    "start_time": "2024-08-16T16:02:30.715Z"
   },
   {
    "duration": 13,
    "start_time": "2024-08-16T16:03:34.191Z"
   },
   {
    "duration": 10,
    "start_time": "2024-08-16T16:04:06.071Z"
   },
   {
    "duration": 8,
    "start_time": "2024-08-16T16:04:21.605Z"
   },
   {
    "duration": 41,
    "start_time": "2024-08-16T16:04:38.239Z"
   },
   {
    "duration": 90,
    "start_time": "2024-08-16T16:04:56.373Z"
   },
   {
    "duration": 7,
    "start_time": "2024-08-16T16:05:14.531Z"
   },
   {
    "duration": 21,
    "start_time": "2024-08-16T16:05:27.007Z"
   },
   {
    "duration": 6,
    "start_time": "2024-08-16T16:05:33.176Z"
   },
   {
    "duration": 33,
    "start_time": "2024-08-16T16:05:37.038Z"
   },
   {
    "duration": 20,
    "start_time": "2024-08-16T16:05:53.330Z"
   },
   {
    "duration": 10,
    "start_time": "2024-08-16T16:06:35.807Z"
   },
   {
    "duration": 14,
    "start_time": "2024-08-16T16:06:45.371Z"
   },
   {
    "duration": 9,
    "start_time": "2024-08-16T16:07:00.315Z"
   },
   {
    "duration": 7,
    "start_time": "2024-08-16T16:07:11.895Z"
   },
   {
    "duration": 6,
    "start_time": "2024-08-16T16:07:17.714Z"
   },
   {
    "duration": 5,
    "start_time": "2024-08-16T16:07:20.302Z"
   },
   {
    "duration": 6,
    "start_time": "2024-08-16T16:07:22.454Z"
   },
   {
    "duration": 11,
    "start_time": "2024-08-16T16:07:55.849Z"
   },
   {
    "duration": 15,
    "start_time": "2024-08-16T16:08:04.237Z"
   },
   {
    "duration": 9,
    "start_time": "2024-08-16T16:08:13.599Z"
   },
   {
    "duration": 7,
    "start_time": "2024-08-16T16:08:20.968Z"
   },
   {
    "duration": 8,
    "start_time": "2024-08-16T16:08:44.519Z"
   },
   {
    "duration": 7,
    "start_time": "2024-08-16T16:08:46.359Z"
   },
   {
    "duration": 5,
    "start_time": "2024-08-16T16:08:48.364Z"
   },
   {
    "duration": 291,
    "start_time": "2024-08-16T16:09:22.401Z"
   },
   {
    "duration": 44,
    "start_time": "2024-08-16T16:09:30.292Z"
   },
   {
    "duration": 27,
    "start_time": "2024-08-16T16:09:40.255Z"
   },
   {
    "duration": 222,
    "start_time": "2024-08-16T16:09:47.520Z"
   },
   {
    "duration": 273,
    "start_time": "2024-08-16T16:09:58.920Z"
   },
   {
    "duration": 3407,
    "start_time": "2024-08-16T16:10:14.195Z"
   },
   {
    "duration": 10,
    "start_time": "2024-08-16T16:10:23.063Z"
   },
   {
    "duration": 1208,
    "start_time": "2024-08-16T16:10:31.239Z"
   },
   {
    "duration": 1087,
    "start_time": "2024-08-16T16:10:33.614Z"
   },
   {
    "duration": 215,
    "start_time": "2024-08-16T16:10:38.418Z"
   },
   {
    "duration": 7,
    "start_time": "2024-08-16T16:11:07.338Z"
   },
   {
    "duration": 1179,
    "start_time": "2024-08-16T16:11:13.022Z"
   },
   {
    "duration": 1056,
    "start_time": "2024-08-16T16:11:16.472Z"
   },
   {
    "duration": 10,
    "start_time": "2024-08-16T16:27:48.788Z"
   },
   {
    "duration": 10,
    "start_time": "2024-08-16T16:27:51.429Z"
   },
   {
    "duration": 22,
    "start_time": "2024-08-16T16:37:32.456Z"
   },
   {
    "duration": 8,
    "start_time": "2024-08-16T16:39:43.736Z"
   },
   {
    "duration": 22,
    "start_time": "2024-08-16T16:39:47.831Z"
   },
   {
    "duration": 24,
    "start_time": "2024-08-16T16:40:52.648Z"
   },
   {
    "duration": 5,
    "start_time": "2024-08-16T16:41:14.855Z"
   },
   {
    "duration": 5,
    "start_time": "2024-08-16T16:43:07.154Z"
   },
   {
    "duration": 812,
    "start_time": "2024-08-16T16:47:42.724Z"
   },
   {
    "duration": 4,
    "start_time": "2024-08-16T16:47:59.412Z"
   },
   {
    "duration": 5,
    "start_time": "2024-08-16T16:48:40.001Z"
   },
   {
    "duration": 9,
    "start_time": "2024-08-16T16:49:09.599Z"
   },
   {
    "duration": 5,
    "start_time": "2024-08-16T16:57:24.311Z"
   },
   {
    "duration": 8,
    "start_time": "2024-08-16T16:57:32.000Z"
   },
   {
    "duration": 8,
    "start_time": "2024-08-16T16:59:44.339Z"
   },
   {
    "duration": 8,
    "start_time": "2024-08-16T17:00:55.873Z"
   },
   {
    "duration": 4,
    "start_time": "2024-08-16T17:02:07.289Z"
   },
   {
    "duration": 5,
    "start_time": "2024-08-16T17:04:14.609Z"
   },
   {
    "duration": 6,
    "start_time": "2024-08-16T17:04:34.315Z"
   },
   {
    "duration": 25,
    "start_time": "2024-08-16T17:05:13.957Z"
   },
   {
    "duration": 5,
    "start_time": "2024-08-16T17:10:16.195Z"
   },
   {
    "duration": 24,
    "start_time": "2024-08-16T17:11:48.879Z"
   },
   {
    "duration": 4,
    "start_time": "2024-08-16T17:14:52.955Z"
   },
   {
    "duration": 15,
    "start_time": "2024-08-16T17:17:28.587Z"
   },
   {
    "duration": 5,
    "start_time": "2024-08-16T17:18:47.487Z"
   },
   {
    "duration": 7,
    "start_time": "2024-08-16T17:19:00.948Z"
   },
   {
    "duration": 8,
    "start_time": "2024-08-16T17:19:13.391Z"
   },
   {
    "duration": 23,
    "start_time": "2024-08-16T17:19:32.446Z"
   },
   {
    "duration": 274,
    "start_time": "2024-08-16T17:22:30.472Z"
   },
   {
    "duration": 75,
    "start_time": "2024-08-16T17:26:59.159Z"
   },
   {
    "duration": 163,
    "start_time": "2024-08-16T17:27:27.051Z"
   },
   {
    "duration": 171,
    "start_time": "2024-08-16T17:27:54.892Z"
   },
   {
    "duration": 131,
    "start_time": "2024-08-16T17:31:32.443Z"
   },
   {
    "duration": 200,
    "start_time": "2024-08-16T17:32:17.847Z"
   },
   {
    "duration": 167,
    "start_time": "2024-08-16T17:32:46.632Z"
   },
   {
    "duration": 19,
    "start_time": "2024-08-16T17:32:48.995Z"
   },
   {
    "duration": 16,
    "start_time": "2024-08-16T17:39:46.827Z"
   },
   {
    "duration": 72,
    "start_time": "2024-08-16T17:41:16.574Z"
   },
   {
    "duration": 5,
    "start_time": "2024-08-16T17:41:50.830Z"
   },
   {
    "duration": 6,
    "start_time": "2024-08-16T17:43:09.390Z"
   },
   {
    "duration": 5,
    "start_time": "2024-08-16T17:43:56.232Z"
   },
   {
    "duration": 8,
    "start_time": "2024-08-16T17:44:06.106Z"
   },
   {
    "duration": 10,
    "start_time": "2024-08-16T17:44:22.993Z"
   },
   {
    "duration": 6,
    "start_time": "2024-08-16T17:44:25.729Z"
   },
   {
    "duration": 25,
    "start_time": "2024-08-16T17:45:56.547Z"
   },
   {
    "duration": 7,
    "start_time": "2024-08-16T17:46:18.507Z"
   },
   {
    "duration": 197,
    "start_time": "2024-08-16T17:47:24.512Z"
   },
   {
    "duration": 39,
    "start_time": "2024-08-16T17:56:26.908Z"
   },
   {
    "duration": 23,
    "start_time": "2024-08-16T17:56:42.573Z"
   },
   {
    "duration": 9,
    "start_time": "2024-08-16T17:56:59.851Z"
   },
   {
    "duration": 24,
    "start_time": "2024-08-16T17:58:21.708Z"
   },
   {
    "duration": 24,
    "start_time": "2024-08-16T17:58:31.430Z"
   },
   {
    "duration": 23,
    "start_time": "2024-08-16T17:58:47.836Z"
   },
   {
    "duration": 271,
    "start_time": "2024-08-16T18:02:40.596Z"
   },
   {
    "duration": 3,
    "start_time": "2024-08-16T18:02:43.524Z"
   },
   {
    "duration": 211,
    "start_time": "2024-08-16T18:02:43.533Z"
   },
   {
    "duration": 74,
    "start_time": "2024-08-16T18:02:43.746Z"
   },
   {
    "duration": 7,
    "start_time": "2024-08-16T18:02:43.824Z"
   },
   {
    "duration": 8,
    "start_time": "2024-08-16T18:02:43.835Z"
   },
   {
    "duration": 1285,
    "start_time": "2024-08-16T18:02:43.846Z"
   },
   {
    "duration": 28,
    "start_time": "2024-08-16T18:02:45.134Z"
   },
   {
    "duration": 18,
    "start_time": "2024-08-16T18:02:45.165Z"
   },
   {
    "duration": 13,
    "start_time": "2024-08-16T18:02:45.209Z"
   },
   {
    "duration": 5,
    "start_time": "2024-08-16T18:02:45.225Z"
   },
   {
    "duration": 15,
    "start_time": "2024-08-16T18:02:45.236Z"
   },
   {
    "duration": 8,
    "start_time": "2024-08-16T18:02:45.254Z"
   },
   {
    "duration": 46,
    "start_time": "2024-08-16T18:02:45.265Z"
   },
   {
    "duration": 516,
    "start_time": "2024-08-16T18:02:45.314Z"
   },
   {
    "duration": 6,
    "start_time": "2024-08-16T18:02:45.833Z"
   },
   {
    "duration": 269,
    "start_time": "2024-08-16T18:02:45.842Z"
   },
   {
    "duration": 63,
    "start_time": "2024-08-16T18:02:46.114Z"
   },
   {
    "duration": 149,
    "start_time": "2024-08-16T18:02:46.180Z"
   },
   {
    "duration": 276,
    "start_time": "2024-08-16T18:02:46.332Z"
   },
   {
    "duration": 590,
    "start_time": "2024-08-16T18:02:46.612Z"
   },
   {
    "duration": 0,
    "start_time": "2024-08-16T18:02:47.213Z"
   },
   {
    "duration": 0,
    "start_time": "2024-08-16T18:02:47.215Z"
   },
   {
    "duration": 0,
    "start_time": "2024-08-16T18:02:47.217Z"
   },
   {
    "duration": 0,
    "start_time": "2024-08-16T18:02:47.220Z"
   },
   {
    "duration": 0,
    "start_time": "2024-08-16T18:02:47.222Z"
   },
   {
    "duration": 0,
    "start_time": "2024-08-16T18:02:47.224Z"
   },
   {
    "duration": 0,
    "start_time": "2024-08-16T18:02:47.226Z"
   },
   {
    "duration": 0,
    "start_time": "2024-08-16T18:02:47.227Z"
   },
   {
    "duration": 0,
    "start_time": "2024-08-16T18:02:47.229Z"
   },
   {
    "duration": 0,
    "start_time": "2024-08-16T18:02:47.231Z"
   },
   {
    "duration": 0,
    "start_time": "2024-08-16T18:02:47.233Z"
   },
   {
    "duration": 0,
    "start_time": "2024-08-16T18:02:47.235Z"
   },
   {
    "duration": 0,
    "start_time": "2024-08-16T18:02:47.237Z"
   },
   {
    "duration": 0,
    "start_time": "2024-08-16T18:02:47.240Z"
   },
   {
    "duration": 0,
    "start_time": "2024-08-16T18:02:47.242Z"
   },
   {
    "duration": 0,
    "start_time": "2024-08-16T18:02:47.244Z"
   },
   {
    "duration": 0,
    "start_time": "2024-08-16T18:02:47.246Z"
   },
   {
    "duration": 0,
    "start_time": "2024-08-16T18:02:47.249Z"
   },
   {
    "duration": 0,
    "start_time": "2024-08-16T18:02:47.313Z"
   },
   {
    "duration": 0,
    "start_time": "2024-08-16T18:02:47.315Z"
   },
   {
    "duration": 0,
    "start_time": "2024-08-16T18:02:47.319Z"
   },
   {
    "duration": 0,
    "start_time": "2024-08-16T18:02:47.322Z"
   },
   {
    "duration": 0,
    "start_time": "2024-08-16T18:02:47.324Z"
   },
   {
    "duration": 0,
    "start_time": "2024-08-16T18:02:47.326Z"
   },
   {
    "duration": 0,
    "start_time": "2024-08-16T18:02:47.328Z"
   },
   {
    "duration": 0,
    "start_time": "2024-08-16T18:02:47.330Z"
   },
   {
    "duration": 0,
    "start_time": "2024-08-16T18:02:47.332Z"
   },
   {
    "duration": 0,
    "start_time": "2024-08-16T18:02:47.335Z"
   },
   {
    "duration": 0,
    "start_time": "2024-08-16T18:02:47.337Z"
   },
   {
    "duration": 0,
    "start_time": "2024-08-16T18:02:47.340Z"
   },
   {
    "duration": 0,
    "start_time": "2024-08-16T18:02:47.342Z"
   },
   {
    "duration": 0,
    "start_time": "2024-08-16T18:02:47.344Z"
   },
   {
    "duration": 0,
    "start_time": "2024-08-16T18:02:47.345Z"
   },
   {
    "duration": 0,
    "start_time": "2024-08-16T18:02:47.347Z"
   },
   {
    "duration": 1,
    "start_time": "2024-08-16T18:02:47.348Z"
   },
   {
    "duration": 0,
    "start_time": "2024-08-16T18:02:47.350Z"
   },
   {
    "duration": 0,
    "start_time": "2024-08-16T18:02:47.409Z"
   },
   {
    "duration": 0,
    "start_time": "2024-08-16T18:02:47.411Z"
   },
   {
    "duration": 0,
    "start_time": "2024-08-16T18:02:47.413Z"
   },
   {
    "duration": 0,
    "start_time": "2024-08-16T18:02:47.416Z"
   },
   {
    "duration": 0,
    "start_time": "2024-08-16T18:02:47.418Z"
   },
   {
    "duration": 0,
    "start_time": "2024-08-16T18:02:47.420Z"
   },
   {
    "duration": 0,
    "start_time": "2024-08-16T18:02:47.422Z"
   },
   {
    "duration": 0,
    "start_time": "2024-08-16T18:02:47.424Z"
   },
   {
    "duration": 0,
    "start_time": "2024-08-16T18:02:47.426Z"
   },
   {
    "duration": 0,
    "start_time": "2024-08-16T18:02:47.428Z"
   },
   {
    "duration": 0,
    "start_time": "2024-08-16T18:02:47.430Z"
   },
   {
    "duration": 0,
    "start_time": "2024-08-16T18:02:47.432Z"
   },
   {
    "duration": 0,
    "start_time": "2024-08-16T18:02:47.433Z"
   },
   {
    "duration": 0,
    "start_time": "2024-08-16T18:02:47.435Z"
   },
   {
    "duration": 0,
    "start_time": "2024-08-16T18:02:47.437Z"
   },
   {
    "duration": 1,
    "start_time": "2024-08-16T18:02:47.438Z"
   },
   {
    "duration": 0,
    "start_time": "2024-08-16T18:02:47.440Z"
   },
   {
    "duration": 0,
    "start_time": "2024-08-16T18:02:47.442Z"
   },
   {
    "duration": 0,
    "start_time": "2024-08-16T18:02:47.444Z"
   },
   {
    "duration": 0,
    "start_time": "2024-08-16T18:02:47.447Z"
   },
   {
    "duration": 0,
    "start_time": "2024-08-16T18:02:47.508Z"
   },
   {
    "duration": 0,
    "start_time": "2024-08-16T18:02:47.510Z"
   },
   {
    "duration": 22,
    "start_time": "2024-08-16T18:02:54.047Z"
   },
   {
    "duration": 4,
    "start_time": "2024-08-16T18:04:02.972Z"
   },
   {
    "duration": 6,
    "start_time": "2024-08-16T18:05:00.107Z"
   },
   {
    "duration": 71,
    "start_time": "2024-08-16T18:05:06.211Z"
   },
   {
    "duration": 45,
    "start_time": "2024-08-16T18:05:17.003Z"
   },
   {
    "duration": 67,
    "start_time": "2024-08-16T18:05:26.983Z"
   },
   {
    "duration": 68,
    "start_time": "2024-08-16T18:05:42.839Z"
   },
   {
    "duration": 816,
    "start_time": "2024-08-16T18:06:54.355Z"
   },
   {
    "duration": 23,
    "start_time": "2024-08-16T18:07:07.443Z"
   },
   {
    "duration": 95,
    "start_time": "2024-08-16T18:07:21.527Z"
   },
   {
    "duration": 3,
    "start_time": "2024-08-16T18:07:32.231Z"
   },
   {
    "duration": 4,
    "start_time": "2024-08-16T18:07:38.287Z"
   },
   {
    "duration": 183,
    "start_time": "2024-08-16T18:07:38.294Z"
   },
   {
    "duration": 71,
    "start_time": "2024-08-16T18:07:38.481Z"
   },
   {
    "duration": 7,
    "start_time": "2024-08-16T18:07:38.555Z"
   },
   {
    "duration": 7,
    "start_time": "2024-08-16T18:07:38.566Z"
   },
   {
    "duration": 1235,
    "start_time": "2024-08-16T18:07:38.576Z"
   },
   {
    "duration": 29,
    "start_time": "2024-08-16T18:07:39.813Z"
   },
   {
    "duration": 16,
    "start_time": "2024-08-16T18:07:39.844Z"
   },
   {
    "duration": 45,
    "start_time": "2024-08-16T18:07:39.863Z"
   },
   {
    "duration": 6,
    "start_time": "2024-08-16T18:07:39.911Z"
   },
   {
    "duration": 15,
    "start_time": "2024-08-16T18:07:39.925Z"
   },
   {
    "duration": 8,
    "start_time": "2024-08-16T18:07:39.943Z"
   },
   {
    "duration": 5,
    "start_time": "2024-08-16T18:07:39.953Z"
   },
   {
    "duration": 550,
    "start_time": "2024-08-16T18:07:39.960Z"
   },
   {
    "duration": 6,
    "start_time": "2024-08-16T18:07:40.512Z"
   },
   {
    "duration": 270,
    "start_time": "2024-08-16T18:07:40.521Z"
   },
   {
    "duration": 72,
    "start_time": "2024-08-16T18:07:40.794Z"
   },
   {
    "duration": 155,
    "start_time": "2024-08-16T18:07:40.870Z"
   },
   {
    "duration": 285,
    "start_time": "2024-08-16T18:07:41.028Z"
   },
   {
    "duration": 54,
    "start_time": "2024-08-16T18:07:41.316Z"
   },
   {
    "duration": 0,
    "start_time": "2024-08-16T18:07:41.377Z"
   },
   {
    "duration": 0,
    "start_time": "2024-08-16T18:07:41.379Z"
   },
   {
    "duration": 0,
    "start_time": "2024-08-16T18:07:41.381Z"
   },
   {
    "duration": 0,
    "start_time": "2024-08-16T18:07:41.408Z"
   },
   {
    "duration": 0,
    "start_time": "2024-08-16T18:07:41.410Z"
   },
   {
    "duration": 0,
    "start_time": "2024-08-16T18:07:41.412Z"
   },
   {
    "duration": 0,
    "start_time": "2024-08-16T18:07:41.414Z"
   },
   {
    "duration": 0,
    "start_time": "2024-08-16T18:07:41.416Z"
   },
   {
    "duration": 0,
    "start_time": "2024-08-16T18:07:41.418Z"
   },
   {
    "duration": 0,
    "start_time": "2024-08-16T18:07:41.421Z"
   },
   {
    "duration": 0,
    "start_time": "2024-08-16T18:07:41.422Z"
   },
   {
    "duration": 0,
    "start_time": "2024-08-16T18:07:41.424Z"
   },
   {
    "duration": 0,
    "start_time": "2024-08-16T18:07:41.426Z"
   },
   {
    "duration": 0,
    "start_time": "2024-08-16T18:07:41.428Z"
   },
   {
    "duration": 0,
    "start_time": "2024-08-16T18:07:41.430Z"
   },
   {
    "duration": 0,
    "start_time": "2024-08-16T18:07:41.432Z"
   },
   {
    "duration": 0,
    "start_time": "2024-08-16T18:07:41.434Z"
   },
   {
    "duration": 0,
    "start_time": "2024-08-16T18:07:41.436Z"
   },
   {
    "duration": 0,
    "start_time": "2024-08-16T18:07:41.437Z"
   },
   {
    "duration": 0,
    "start_time": "2024-08-16T18:07:41.440Z"
   },
   {
    "duration": 0,
    "start_time": "2024-08-16T18:07:41.443Z"
   },
   {
    "duration": 0,
    "start_time": "2024-08-16T18:07:41.508Z"
   },
   {
    "duration": 0,
    "start_time": "2024-08-16T18:07:41.510Z"
   },
   {
    "duration": 0,
    "start_time": "2024-08-16T18:07:41.512Z"
   },
   {
    "duration": 0,
    "start_time": "2024-08-16T18:07:41.514Z"
   },
   {
    "duration": 0,
    "start_time": "2024-08-16T18:07:41.517Z"
   },
   {
    "duration": 0,
    "start_time": "2024-08-16T18:07:41.519Z"
   },
   {
    "duration": 0,
    "start_time": "2024-08-16T18:07:41.522Z"
   },
   {
    "duration": 0,
    "start_time": "2024-08-16T18:07:41.524Z"
   },
   {
    "duration": 1,
    "start_time": "2024-08-16T18:07:41.530Z"
   },
   {
    "duration": 0,
    "start_time": "2024-08-16T18:07:41.533Z"
   },
   {
    "duration": 0,
    "start_time": "2024-08-16T18:07:41.536Z"
   },
   {
    "duration": 0,
    "start_time": "2024-08-16T18:07:41.538Z"
   },
   {
    "duration": 0,
    "start_time": "2024-08-16T18:07:41.540Z"
   },
   {
    "duration": 0,
    "start_time": "2024-08-16T18:07:41.542Z"
   },
   {
    "duration": 0,
    "start_time": "2024-08-16T18:07:41.550Z"
   },
   {
    "duration": 0,
    "start_time": "2024-08-16T18:07:41.552Z"
   },
   {
    "duration": 0,
    "start_time": "2024-08-16T18:07:41.609Z"
   },
   {
    "duration": 0,
    "start_time": "2024-08-16T18:07:41.611Z"
   },
   {
    "duration": 0,
    "start_time": "2024-08-16T18:07:41.613Z"
   },
   {
    "duration": 0,
    "start_time": "2024-08-16T18:07:41.615Z"
   },
   {
    "duration": 0,
    "start_time": "2024-08-16T18:07:41.616Z"
   },
   {
    "duration": 0,
    "start_time": "2024-08-16T18:07:41.618Z"
   },
   {
    "duration": 0,
    "start_time": "2024-08-16T18:07:41.621Z"
   },
   {
    "duration": 0,
    "start_time": "2024-08-16T18:07:41.623Z"
   },
   {
    "duration": 0,
    "start_time": "2024-08-16T18:07:41.626Z"
   },
   {
    "duration": 0,
    "start_time": "2024-08-16T18:07:41.628Z"
   },
   {
    "duration": 0,
    "start_time": "2024-08-16T18:07:41.630Z"
   },
   {
    "duration": 0,
    "start_time": "2024-08-16T18:07:41.632Z"
   },
   {
    "duration": 0,
    "start_time": "2024-08-16T18:07:41.634Z"
   },
   {
    "duration": 0,
    "start_time": "2024-08-16T18:07:41.635Z"
   },
   {
    "duration": 0,
    "start_time": "2024-08-16T18:07:41.638Z"
   },
   {
    "duration": 0,
    "start_time": "2024-08-16T18:07:41.640Z"
   },
   {
    "duration": 1,
    "start_time": "2024-08-16T18:07:41.642Z"
   },
   {
    "duration": 0,
    "start_time": "2024-08-16T18:07:41.645Z"
   },
   {
    "duration": 0,
    "start_time": "2024-08-16T18:07:41.647Z"
   },
   {
    "duration": 0,
    "start_time": "2024-08-16T18:07:41.709Z"
   },
   {
    "duration": 0,
    "start_time": "2024-08-16T18:07:41.712Z"
   },
   {
    "duration": 0,
    "start_time": "2024-08-16T18:07:41.714Z"
   },
   {
    "duration": 0,
    "start_time": "2024-08-16T18:07:41.717Z"
   },
   {
    "duration": 0,
    "start_time": "2024-08-16T18:07:41.719Z"
   },
   {
    "duration": 95,
    "start_time": "2024-08-16T18:07:48.067Z"
   },
   {
    "duration": 100,
    "start_time": "2024-08-16T18:08:09.357Z"
   },
   {
    "duration": 70,
    "start_time": "2024-08-16T18:10:11.456Z"
   },
   {
    "duration": 2,
    "start_time": "2024-08-16T18:10:14.040Z"
   },
   {
    "duration": 181,
    "start_time": "2024-08-16T18:10:14.050Z"
   },
   {
    "duration": 52,
    "start_time": "2024-08-16T18:10:14.234Z"
   },
   {
    "duration": 23,
    "start_time": "2024-08-16T18:10:14.289Z"
   },
   {
    "duration": 7,
    "start_time": "2024-08-16T18:10:14.316Z"
   },
   {
    "duration": 1306,
    "start_time": "2024-08-16T18:10:14.325Z"
   },
   {
    "duration": 38,
    "start_time": "2024-08-16T18:10:15.637Z"
   },
   {
    "duration": 38,
    "start_time": "2024-08-16T18:10:15.678Z"
   },
   {
    "duration": 13,
    "start_time": "2024-08-16T18:10:15.718Z"
   },
   {
    "duration": 6,
    "start_time": "2024-08-16T18:10:15.733Z"
   },
   {
    "duration": 16,
    "start_time": "2024-08-16T18:10:15.745Z"
   },
   {
    "duration": 47,
    "start_time": "2024-08-16T18:10:15.764Z"
   },
   {
    "duration": 7,
    "start_time": "2024-08-16T18:10:15.814Z"
   },
   {
    "duration": 550,
    "start_time": "2024-08-16T18:10:15.824Z"
   },
   {
    "duration": 6,
    "start_time": "2024-08-16T18:10:16.378Z"
   },
   {
    "duration": 289,
    "start_time": "2024-08-16T18:10:16.387Z"
   },
   {
    "duration": 85,
    "start_time": "2024-08-16T18:10:16.679Z"
   },
   {
    "duration": 141,
    "start_time": "2024-08-16T18:10:16.767Z"
   },
   {
    "duration": 275,
    "start_time": "2024-08-16T18:10:16.911Z"
   },
   {
    "duration": 59,
    "start_time": "2024-08-16T18:10:17.188Z"
   },
   {
    "duration": 0,
    "start_time": "2024-08-16T18:10:17.255Z"
   },
   {
    "duration": 0,
    "start_time": "2024-08-16T18:10:17.257Z"
   },
   {
    "duration": 0,
    "start_time": "2024-08-16T18:10:17.260Z"
   },
   {
    "duration": 0,
    "start_time": "2024-08-16T18:10:17.261Z"
   },
   {
    "duration": 0,
    "start_time": "2024-08-16T18:10:17.263Z"
   },
   {
    "duration": 0,
    "start_time": "2024-08-16T18:10:17.265Z"
   },
   {
    "duration": 0,
    "start_time": "2024-08-16T18:10:17.267Z"
   },
   {
    "duration": 0,
    "start_time": "2024-08-16T18:10:17.269Z"
   },
   {
    "duration": 0,
    "start_time": "2024-08-16T18:10:17.272Z"
   },
   {
    "duration": 0,
    "start_time": "2024-08-16T18:10:17.274Z"
   },
   {
    "duration": 0,
    "start_time": "2024-08-16T18:10:17.276Z"
   },
   {
    "duration": 0,
    "start_time": "2024-08-16T18:10:17.310Z"
   },
   {
    "duration": 0,
    "start_time": "2024-08-16T18:10:17.311Z"
   },
   {
    "duration": 0,
    "start_time": "2024-08-16T18:10:17.313Z"
   },
   {
    "duration": 0,
    "start_time": "2024-08-16T18:10:17.315Z"
   },
   {
    "duration": 0,
    "start_time": "2024-08-16T18:10:17.319Z"
   },
   {
    "duration": 0,
    "start_time": "2024-08-16T18:10:17.321Z"
   },
   {
    "duration": 0,
    "start_time": "2024-08-16T18:10:17.323Z"
   },
   {
    "duration": 0,
    "start_time": "2024-08-16T18:10:17.326Z"
   },
   {
    "duration": 0,
    "start_time": "2024-08-16T18:10:17.329Z"
   },
   {
    "duration": 0,
    "start_time": "2024-08-16T18:10:17.331Z"
   },
   {
    "duration": 0,
    "start_time": "2024-08-16T18:10:17.333Z"
   },
   {
    "duration": 1,
    "start_time": "2024-08-16T18:10:17.334Z"
   },
   {
    "duration": 0,
    "start_time": "2024-08-16T18:10:17.341Z"
   },
   {
    "duration": 0,
    "start_time": "2024-08-16T18:10:17.343Z"
   },
   {
    "duration": 0,
    "start_time": "2024-08-16T18:10:17.345Z"
   },
   {
    "duration": 0,
    "start_time": "2024-08-16T18:10:17.346Z"
   },
   {
    "duration": 0,
    "start_time": "2024-08-16T18:10:17.348Z"
   },
   {
    "duration": 0,
    "start_time": "2024-08-16T18:10:17.349Z"
   },
   {
    "duration": 0,
    "start_time": "2024-08-16T18:10:17.410Z"
   },
   {
    "duration": 0,
    "start_time": "2024-08-16T18:10:17.411Z"
   },
   {
    "duration": 0,
    "start_time": "2024-08-16T18:10:17.413Z"
   },
   {
    "duration": 0,
    "start_time": "2024-08-16T18:10:17.416Z"
   },
   {
    "duration": 0,
    "start_time": "2024-08-16T18:10:17.418Z"
   },
   {
    "duration": 0,
    "start_time": "2024-08-16T18:10:17.420Z"
   },
   {
    "duration": 0,
    "start_time": "2024-08-16T18:10:17.422Z"
   },
   {
    "duration": 0,
    "start_time": "2024-08-16T18:10:17.425Z"
   },
   {
    "duration": 0,
    "start_time": "2024-08-16T18:10:17.427Z"
   },
   {
    "duration": 0,
    "start_time": "2024-08-16T18:10:17.429Z"
   },
   {
    "duration": 0,
    "start_time": "2024-08-16T18:10:17.431Z"
   },
   {
    "duration": 0,
    "start_time": "2024-08-16T18:10:17.434Z"
   },
   {
    "duration": 0,
    "start_time": "2024-08-16T18:10:17.435Z"
   },
   {
    "duration": 0,
    "start_time": "2024-08-16T18:10:17.437Z"
   },
   {
    "duration": 0,
    "start_time": "2024-08-16T18:10:17.440Z"
   },
   {
    "duration": 0,
    "start_time": "2024-08-16T18:10:17.443Z"
   },
   {
    "duration": 0,
    "start_time": "2024-08-16T18:10:17.445Z"
   },
   {
    "duration": 0,
    "start_time": "2024-08-16T18:10:17.447Z"
   },
   {
    "duration": 0,
    "start_time": "2024-08-16T18:10:17.449Z"
   },
   {
    "duration": 0,
    "start_time": "2024-08-16T18:10:17.510Z"
   },
   {
    "duration": 0,
    "start_time": "2024-08-16T18:10:17.511Z"
   },
   {
    "duration": 0,
    "start_time": "2024-08-16T18:10:17.515Z"
   },
   {
    "duration": 0,
    "start_time": "2024-08-16T18:10:17.516Z"
   },
   {
    "duration": 0,
    "start_time": "2024-08-16T18:10:17.518Z"
   },
   {
    "duration": 0,
    "start_time": "2024-08-16T18:10:17.521Z"
   },
   {
    "duration": 0,
    "start_time": "2024-08-16T18:10:17.523Z"
   },
   {
    "duration": 0,
    "start_time": "2024-08-16T18:10:17.525Z"
   },
   {
    "duration": 0,
    "start_time": "2024-08-16T18:10:17.527Z"
   },
   {
    "duration": 0,
    "start_time": "2024-08-16T18:10:17.529Z"
   },
   {
    "duration": 0,
    "start_time": "2024-08-16T18:10:17.532Z"
   },
   {
    "duration": 0,
    "start_time": "2024-08-16T18:10:17.534Z"
   },
   {
    "duration": 0,
    "start_time": "2024-08-16T18:10:17.537Z"
   },
   {
    "duration": 22,
    "start_time": "2024-08-16T18:10:50.094Z"
   },
   {
    "duration": 5,
    "start_time": "2024-08-16T18:11:12.090Z"
   },
   {
    "duration": 43,
    "start_time": "2024-08-16T18:11:14.302Z"
   },
   {
    "duration": 140,
    "start_time": "2024-08-16T18:11:16.927Z"
   },
   {
    "duration": 13,
    "start_time": "2024-08-16T18:11:19.143Z"
   },
   {
    "duration": 139,
    "start_time": "2024-08-16T18:11:21.331Z"
   },
   {
    "duration": 23,
    "start_time": "2024-08-16T18:11:32.582Z"
   },
   {
    "duration": 11,
    "start_time": "2024-08-16T18:12:30.471Z"
   },
   {
    "duration": 22,
    "start_time": "2024-08-16T18:12:52.990Z"
   },
   {
    "duration": 3,
    "start_time": "2024-08-16T20:10:30.697Z"
   },
   {
    "duration": 543,
    "start_time": "2024-08-16T20:18:05.339Z"
   },
   {
    "duration": 23,
    "start_time": "2024-08-16T20:18:26.193Z"
   },
   {
    "duration": 107,
    "start_time": "2024-08-16T20:18:42.996Z"
   },
   {
    "duration": 1197,
    "start_time": "2024-08-16T20:18:44.728Z"
   },
   {
    "duration": 1184,
    "start_time": "2024-08-16T20:18:56.812Z"
   },
   {
    "duration": 22,
    "start_time": "2024-08-16T20:19:21.411Z"
   },
   {
    "duration": 11,
    "start_time": "2024-08-16T20:19:23.943Z"
   },
   {
    "duration": 99,
    "start_time": "2024-08-16T20:20:41.993Z"
   },
   {
    "duration": 1291,
    "start_time": "2024-08-16T20:22:48.051Z"
   },
   {
    "duration": 447,
    "start_time": "2024-08-16T20:28:47.190Z"
   },
   {
    "duration": 203,
    "start_time": "2024-08-16T20:28:50.379Z"
   },
   {
    "duration": 56,
    "start_time": "2024-08-16T20:28:52.808Z"
   },
   {
    "duration": 8,
    "start_time": "2024-08-16T20:28:55.253Z"
   },
   {
    "duration": 8,
    "start_time": "2024-08-16T20:28:58.121Z"
   },
   {
    "duration": 1307,
    "start_time": "2024-08-16T20:29:04.385Z"
   },
   {
    "duration": 309,
    "start_time": "2024-08-16T20:49:49.949Z"
   },
   {
    "duration": 425,
    "start_time": "2024-08-16T20:49:53.057Z"
   },
   {
    "duration": 216,
    "start_time": "2024-08-16T20:49:54.905Z"
   },
   {
    "duration": 3,
    "start_time": "2024-08-16T20:50:04.324Z"
   },
   {
    "duration": 89,
    "start_time": "2024-08-16T20:50:07.904Z"
   },
   {
    "duration": 30,
    "start_time": "2024-08-16T20:50:20.633Z"
   },
   {
    "duration": 4,
    "start_time": "2024-08-16T20:50:26.785Z"
   },
   {
    "duration": 199,
    "start_time": "2024-08-16T20:50:28.335Z"
   },
   {
    "duration": 60,
    "start_time": "2024-08-16T20:50:43.560Z"
   },
   {
    "duration": 14,
    "start_time": "2024-08-16T20:51:40.960Z"
   },
   {
    "duration": 13,
    "start_time": "2024-08-16T20:52:02.704Z"
   },
   {
    "duration": 1215,
    "start_time": "2024-08-16T20:52:17.769Z"
   },
   {
    "duration": 202,
    "start_time": "2024-08-16T20:54:55.042Z"
   },
   {
    "duration": 200,
    "start_time": "2024-08-16T20:55:07.964Z"
   },
   {
    "duration": 193,
    "start_time": "2024-08-16T20:55:40.042Z"
   },
   {
    "duration": 192,
    "start_time": "2024-08-16T20:55:50.850Z"
   },
   {
    "duration": 80,
    "start_time": "2024-08-16T20:56:12.698Z"
   },
   {
    "duration": 18,
    "start_time": "2024-08-16T20:56:39.264Z"
   },
   {
    "duration": 5,
    "start_time": "2024-08-16T20:56:59.864Z"
   },
   {
    "duration": 19,
    "start_time": "2024-08-16T20:57:11.365Z"
   },
   {
    "duration": 188,
    "start_time": "2024-08-16T20:57:26.425Z"
   },
   {
    "duration": 63,
    "start_time": "2024-08-16T20:57:33.981Z"
   },
   {
    "duration": 19,
    "start_time": "2024-08-16T20:57:41.016Z"
   },
   {
    "duration": 17,
    "start_time": "2024-08-16T20:57:59.896Z"
   },
   {
    "duration": 1206,
    "start_time": "2024-08-16T20:58:30.683Z"
   },
   {
    "duration": 1246,
    "start_time": "2024-08-16T20:58:45.911Z"
   },
   {
    "duration": 1189,
    "start_time": "2024-08-16T20:59:00.093Z"
   },
   {
    "duration": 1240,
    "start_time": "2024-08-16T20:59:07.883Z"
   },
   {
    "duration": 7,
    "start_time": "2024-08-16T21:05:27.530Z"
   },
   {
    "duration": 5,
    "start_time": "2024-08-16T21:05:32.551Z"
   },
   {
    "duration": 21,
    "start_time": "2024-08-16T21:08:24.484Z"
   },
   {
    "duration": 22,
    "start_time": "2024-08-16T21:08:27.644Z"
   },
   {
    "duration": 22,
    "start_time": "2024-08-16T21:08:31.161Z"
   },
   {
    "duration": 8,
    "start_time": "2024-08-16T21:08:35.221Z"
   },
   {
    "duration": 7,
    "start_time": "2024-08-16T21:08:57.961Z"
   },
   {
    "duration": 6,
    "start_time": "2024-08-16T21:09:14.162Z"
   },
   {
    "duration": 7,
    "start_time": "2024-08-16T21:09:32.541Z"
   },
   {
    "duration": 6,
    "start_time": "2024-08-16T21:09:51.224Z"
   },
   {
    "duration": 8,
    "start_time": "2024-08-16T21:10:02.865Z"
   },
   {
    "duration": 3,
    "start_time": "2024-08-16T21:14:03.156Z"
   },
   {
    "duration": 189,
    "start_time": "2024-08-16T21:14:03.166Z"
   },
   {
    "duration": 83,
    "start_time": "2024-08-16T21:14:03.359Z"
   },
   {
    "duration": 19,
    "start_time": "2024-08-16T21:14:03.445Z"
   },
   {
    "duration": 52,
    "start_time": "2024-08-16T21:14:03.467Z"
   },
   {
    "duration": 1289,
    "start_time": "2024-08-16T21:14:03.525Z"
   },
   {
    "duration": 8,
    "start_time": "2024-08-16T21:14:04.819Z"
   },
   {
    "duration": 8,
    "start_time": "2024-08-16T21:14:04.831Z"
   },
   {
    "duration": 7,
    "start_time": "2024-08-16T21:14:04.842Z"
   },
   {
    "duration": 7,
    "start_time": "2024-08-16T21:14:04.852Z"
   },
   {
    "duration": 53,
    "start_time": "2024-08-16T21:14:04.862Z"
   },
   {
    "duration": 31,
    "start_time": "2024-08-16T21:14:04.921Z"
   },
   {
    "duration": 16,
    "start_time": "2024-08-16T21:14:04.955Z"
   },
   {
    "duration": 45,
    "start_time": "2024-08-16T21:14:04.974Z"
   },
   {
    "duration": 6,
    "start_time": "2024-08-16T21:14:05.026Z"
   },
   {
    "duration": 15,
    "start_time": "2024-08-16T21:14:05.035Z"
   },
   {
    "duration": 8,
    "start_time": "2024-08-16T21:14:05.053Z"
   },
   {
    "duration": 48,
    "start_time": "2024-08-16T21:14:05.063Z"
   },
   {
    "duration": 511,
    "start_time": "2024-08-16T21:14:05.115Z"
   },
   {
    "duration": 8,
    "start_time": "2024-08-16T21:14:05.629Z"
   },
   {
    "duration": 284,
    "start_time": "2024-08-16T21:14:05.640Z"
   },
   {
    "duration": 81,
    "start_time": "2024-08-16T21:14:05.927Z"
   },
   {
    "duration": 141,
    "start_time": "2024-08-16T21:14:06.011Z"
   },
   {
    "duration": 2190,
    "start_time": "2024-08-16T21:14:06.154Z"
   },
   {
    "duration": 280,
    "start_time": "2024-08-16T21:14:08.346Z"
   },
   {
    "duration": 0,
    "start_time": "2024-08-16T21:14:08.632Z"
   },
   {
    "duration": 0,
    "start_time": "2024-08-16T21:14:08.635Z"
   },
   {
    "duration": 0,
    "start_time": "2024-08-16T21:14:08.637Z"
   },
   {
    "duration": 0,
    "start_time": "2024-08-16T21:14:08.640Z"
   },
   {
    "duration": 0,
    "start_time": "2024-08-16T21:14:08.642Z"
   },
   {
    "duration": 0,
    "start_time": "2024-08-16T21:14:08.644Z"
   },
   {
    "duration": 0,
    "start_time": "2024-08-16T21:14:08.646Z"
   },
   {
    "duration": 0,
    "start_time": "2024-08-16T21:14:08.648Z"
   },
   {
    "duration": 0,
    "start_time": "2024-08-16T21:14:08.651Z"
   },
   {
    "duration": 0,
    "start_time": "2024-08-16T21:14:08.653Z"
   },
   {
    "duration": 0,
    "start_time": "2024-08-16T21:14:08.656Z"
   },
   {
    "duration": 0,
    "start_time": "2024-08-16T21:14:08.659Z"
   },
   {
    "duration": 0,
    "start_time": "2024-08-16T21:14:08.710Z"
   },
   {
    "duration": 0,
    "start_time": "2024-08-16T21:14:08.712Z"
   },
   {
    "duration": 0,
    "start_time": "2024-08-16T21:14:08.715Z"
   },
   {
    "duration": 0,
    "start_time": "2024-08-16T21:14:08.717Z"
   },
   {
    "duration": 0,
    "start_time": "2024-08-16T21:14:08.719Z"
   },
   {
    "duration": 0,
    "start_time": "2024-08-16T21:14:08.721Z"
   },
   {
    "duration": 0,
    "start_time": "2024-08-16T21:14:08.723Z"
   },
   {
    "duration": 0,
    "start_time": "2024-08-16T21:14:08.724Z"
   },
   {
    "duration": 0,
    "start_time": "2024-08-16T21:14:08.726Z"
   },
   {
    "duration": 0,
    "start_time": "2024-08-16T21:14:08.738Z"
   },
   {
    "duration": 0,
    "start_time": "2024-08-16T21:14:08.740Z"
   },
   {
    "duration": 0,
    "start_time": "2024-08-16T21:14:08.743Z"
   },
   {
    "duration": 0,
    "start_time": "2024-08-16T21:14:08.745Z"
   },
   {
    "duration": 0,
    "start_time": "2024-08-16T21:14:08.747Z"
   },
   {
    "duration": 0,
    "start_time": "2024-08-16T21:14:08.750Z"
   },
   {
    "duration": 0,
    "start_time": "2024-08-16T21:14:08.752Z"
   },
   {
    "duration": 0,
    "start_time": "2024-08-16T21:14:08.754Z"
   },
   {
    "duration": 0,
    "start_time": "2024-08-16T21:14:08.757Z"
   },
   {
    "duration": 0,
    "start_time": "2024-08-16T21:14:08.808Z"
   },
   {
    "duration": 0,
    "start_time": "2024-08-16T21:14:08.810Z"
   },
   {
    "duration": 0,
    "start_time": "2024-08-16T21:14:08.812Z"
   },
   {
    "duration": 0,
    "start_time": "2024-08-16T21:14:08.815Z"
   },
   {
    "duration": 0,
    "start_time": "2024-08-16T21:14:08.817Z"
   },
   {
    "duration": 0,
    "start_time": "2024-08-16T21:14:08.819Z"
   },
   {
    "duration": 0,
    "start_time": "2024-08-16T21:14:08.821Z"
   },
   {
    "duration": 0,
    "start_time": "2024-08-16T21:14:08.826Z"
   },
   {
    "duration": 0,
    "start_time": "2024-08-16T21:14:08.828Z"
   },
   {
    "duration": 0,
    "start_time": "2024-08-16T21:14:08.831Z"
   },
   {
    "duration": 0,
    "start_time": "2024-08-16T21:14:08.833Z"
   },
   {
    "duration": 0,
    "start_time": "2024-08-16T21:14:08.835Z"
   },
   {
    "duration": 0,
    "start_time": "2024-08-16T21:14:08.837Z"
   },
   {
    "duration": 0,
    "start_time": "2024-08-16T21:14:08.840Z"
   },
   {
    "duration": 0,
    "start_time": "2024-08-16T21:14:08.842Z"
   },
   {
    "duration": 0,
    "start_time": "2024-08-16T21:14:08.844Z"
   },
   {
    "duration": 0,
    "start_time": "2024-08-16T21:14:08.845Z"
   },
   {
    "duration": 0,
    "start_time": "2024-08-16T21:14:08.909Z"
   },
   {
    "duration": 0,
    "start_time": "2024-08-16T21:14:08.911Z"
   },
   {
    "duration": 0,
    "start_time": "2024-08-16T21:14:08.914Z"
   },
   {
    "duration": 0,
    "start_time": "2024-08-16T21:14:08.916Z"
   },
   {
    "duration": 0,
    "start_time": "2024-08-16T21:14:08.918Z"
   },
   {
    "duration": 0,
    "start_time": "2024-08-16T21:14:08.921Z"
   },
   {
    "duration": 0,
    "start_time": "2024-08-16T21:14:08.923Z"
   },
   {
    "duration": 0,
    "start_time": "2024-08-16T21:14:08.925Z"
   },
   {
    "duration": 0,
    "start_time": "2024-08-16T21:14:08.927Z"
   },
   {
    "duration": 0,
    "start_time": "2024-08-16T21:14:08.933Z"
   },
   {
    "duration": 0,
    "start_time": "2024-08-16T21:14:08.935Z"
   },
   {
    "duration": 0,
    "start_time": "2024-08-16T21:14:08.937Z"
   },
   {
    "duration": 0,
    "start_time": "2024-08-16T21:14:08.939Z"
   },
   {
    "duration": 0,
    "start_time": "2024-08-16T21:14:08.941Z"
   },
   {
    "duration": 25,
    "start_time": "2024-08-16T21:15:20.100Z"
   },
   {
    "duration": 23,
    "start_time": "2024-08-16T21:15:29.004Z"
   },
   {
    "duration": 30,
    "start_time": "2024-08-16T21:15:37.500Z"
   },
   {
    "duration": 454,
    "start_time": "2024-08-16T21:15:57.031Z"
   },
   {
    "duration": 215,
    "start_time": "2024-08-16T21:15:59.160Z"
   },
   {
    "duration": 69,
    "start_time": "2024-08-16T21:16:05.744Z"
   },
   {
    "duration": 18,
    "start_time": "2024-08-16T21:16:12.584Z"
   },
   {
    "duration": 18,
    "start_time": "2024-08-16T21:16:19.836Z"
   },
   {
    "duration": 1255,
    "start_time": "2024-08-16T21:16:30.953Z"
   },
   {
    "duration": 10,
    "start_time": "2024-08-16T21:16:40.298Z"
   },
   {
    "duration": 10,
    "start_time": "2024-08-16T21:17:10.385Z"
   },
   {
    "duration": 7,
    "start_time": "2024-08-16T21:17:56.173Z"
   },
   {
    "duration": 10,
    "start_time": "2024-08-16T21:18:16.147Z"
   },
   {
    "duration": 7,
    "start_time": "2024-08-16T21:18:22.400Z"
   },
   {
    "duration": 8,
    "start_time": "2024-08-16T21:18:42.557Z"
   },
   {
    "duration": 29,
    "start_time": "2024-08-16T21:20:12.552Z"
   },
   {
    "duration": 14,
    "start_time": "2024-08-16T21:25:45.600Z"
   },
   {
    "duration": 334,
    "start_time": "2024-08-16T21:29:10.448Z"
   },
   {
    "duration": 25,
    "start_time": "2024-08-16T21:29:17.703Z"
   },
   {
    "duration": 23,
    "start_time": "2024-08-16T21:29:24.286Z"
   },
   {
    "duration": 150,
    "start_time": "2024-08-16T21:29:42.229Z"
   },
   {
    "duration": 169,
    "start_time": "2024-08-16T21:30:17.236Z"
   },
   {
    "duration": 178,
    "start_time": "2024-08-16T21:31:22.545Z"
   },
   {
    "duration": 170,
    "start_time": "2024-08-16T21:31:58.094Z"
   },
   {
    "duration": 266,
    "start_time": "2024-08-16T21:32:51.930Z"
   },
   {
    "duration": 5,
    "start_time": "2024-08-16T21:35:21.705Z"
   },
   {
    "duration": 7,
    "start_time": "2024-08-16T21:36:11.608Z"
   },
   {
    "duration": 5,
    "start_time": "2024-08-16T21:36:20.169Z"
   },
   {
    "duration": 291,
    "start_time": "2024-08-16T21:37:37.678Z"
   },
   {
    "duration": 264,
    "start_time": "2024-08-16T21:38:09.196Z"
   },
   {
    "duration": 6,
    "start_time": "2024-08-16T21:38:18.469Z"
   },
   {
    "duration": 7,
    "start_time": "2024-08-16T21:38:37.613Z"
   },
   {
    "duration": 11,
    "start_time": "2024-08-16T21:38:51.282Z"
   },
   {
    "duration": 3,
    "start_time": "2024-08-16T21:44:46.895Z"
   },
   {
    "duration": 11,
    "start_time": "2024-08-16T21:44:49.550Z"
   },
   {
    "duration": 18,
    "start_time": "2024-08-16T21:46:02.344Z"
   },
   {
    "duration": 6,
    "start_time": "2024-08-16T21:48:29.416Z"
   },
   {
    "duration": 9,
    "start_time": "2024-08-16T21:49:05.529Z"
   },
   {
    "duration": 3,
    "start_time": "2024-08-16T21:49:25.252Z"
   },
   {
    "duration": 9,
    "start_time": "2024-08-16T21:53:13.696Z"
   },
   {
    "duration": 117,
    "start_time": "2024-08-16T21:54:23.077Z"
   },
   {
    "duration": 10,
    "start_time": "2024-08-16T21:54:59.778Z"
   },
   {
    "duration": 10,
    "start_time": "2024-08-16T21:55:19.273Z"
   },
   {
    "duration": 10,
    "start_time": "2024-08-16T21:55:22.068Z"
   },
   {
    "duration": 24,
    "start_time": "2024-08-16T22:05:16.326Z"
   },
   {
    "duration": 36,
    "start_time": "2024-08-16T22:05:25.965Z"
   },
   {
    "duration": 399,
    "start_time": "2024-08-16T22:07:13.465Z"
   },
   {
    "duration": 219,
    "start_time": "2024-08-16T22:07:19.358Z"
   },
   {
    "duration": 72,
    "start_time": "2024-08-16T22:07:24.886Z"
   },
   {
    "duration": 20,
    "start_time": "2024-08-16T22:07:29.572Z"
   },
   {
    "duration": 19,
    "start_time": "2024-08-16T22:07:33.813Z"
   },
   {
    "duration": 1286,
    "start_time": "2024-08-16T22:07:36.293Z"
   },
   {
    "duration": 11,
    "start_time": "2024-08-16T22:07:42.389Z"
   },
   {
    "duration": 10,
    "start_time": "2024-08-16T22:07:47.228Z"
   },
   {
    "duration": 18,
    "start_time": "2024-08-16T22:07:52.928Z"
   },
   {
    "duration": 7,
    "start_time": "2024-08-16T22:07:58.252Z"
   },
   {
    "duration": 29,
    "start_time": "2024-08-16T22:08:02.557Z"
   },
   {
    "duration": 9,
    "start_time": "2024-08-16T22:08:20.132Z"
   },
   {
    "duration": 134,
    "start_time": "2024-08-16T22:08:22.357Z"
   },
   {
    "duration": 10,
    "start_time": "2024-08-16T22:08:27.237Z"
   },
   {
    "duration": 10,
    "start_time": "2024-08-16T22:08:29.580Z"
   },
   {
    "duration": 31,
    "start_time": "2024-08-16T22:08:37.389Z"
   },
   {
    "duration": 55,
    "start_time": "2024-08-16T23:24:15.877Z"
   },
   {
    "duration": 44,
    "start_time": "2024-08-16T23:25:20.201Z"
   },
   {
    "duration": 7,
    "start_time": "2024-08-16T23:25:30.773Z"
   },
   {
    "duration": 113,
    "start_time": "2024-08-16T23:25:33.690Z"
   },
   {
    "duration": 12,
    "start_time": "2024-08-16T23:25:39.421Z"
   },
   {
    "duration": 11,
    "start_time": "2024-08-16T23:25:41.844Z"
   },
   {
    "duration": 38,
    "start_time": "2024-08-16T23:25:47.969Z"
   },
   {
    "duration": 154,
    "start_time": "2024-08-16T23:27:51.373Z"
   },
   {
    "duration": 161,
    "start_time": "2024-08-16T23:28:05.905Z"
   },
   {
    "duration": 6,
    "start_time": "2024-08-16T23:28:17.820Z"
   },
   {
    "duration": 277,
    "start_time": "2024-08-16T23:28:30.677Z"
   },
   {
    "duration": 3,
    "start_time": "2024-08-16T23:28:38.834Z"
   },
   {
    "duration": 12,
    "start_time": "2024-08-16T23:28:48.433Z"
   },
   {
    "duration": 4,
    "start_time": "2024-08-16T23:34:44.424Z"
   },
   {
    "duration": 86,
    "start_time": "2024-08-16T23:35:09.012Z"
   },
   {
    "duration": 72,
    "start_time": "2024-08-16T23:36:07.522Z"
   },
   {
    "duration": 13,
    "start_time": "2024-08-16T23:37:35.643Z"
   },
   {
    "duration": 10,
    "start_time": "2024-08-16T23:37:38.611Z"
   },
   {
    "duration": 334,
    "start_time": "2024-08-16T23:51:46.921Z"
   },
   {
    "duration": 7,
    "start_time": "2024-08-16T23:51:59.474Z"
   },
   {
    "duration": 6,
    "start_time": "2024-08-16T23:52:53.877Z"
   },
   {
    "duration": 12,
    "start_time": "2024-08-16T23:53:55.491Z"
   },
   {
    "duration": 40,
    "start_time": "2024-08-16T23:54:38.158Z"
   },
   {
    "duration": 23,
    "start_time": "2024-08-16T23:55:17.874Z"
   },
   {
    "duration": 7,
    "start_time": "2024-08-16T23:55:27.681Z"
   },
   {
    "duration": 8,
    "start_time": "2024-08-16T23:56:43.640Z"
   },
   {
    "duration": 32,
    "start_time": "2024-08-16T23:58:23.808Z"
   },
   {
    "duration": 8,
    "start_time": "2024-08-16T23:58:45.735Z"
   },
   {
    "duration": 19,
    "start_time": "2024-08-16T23:58:55.329Z"
   },
   {
    "duration": 22,
    "start_time": "2024-08-16T23:59:23.284Z"
   },
   {
    "duration": 6,
    "start_time": "2024-08-16T23:59:26.052Z"
   },
   {
    "duration": 31,
    "start_time": "2024-08-16T23:59:31.725Z"
   },
   {
    "duration": 20,
    "start_time": "2024-08-16T23:59:34.176Z"
   },
   {
    "duration": 23,
    "start_time": "2024-08-17T00:00:02.796Z"
   },
   {
    "duration": 75,
    "start_time": "2024-08-17T00:00:09.980Z"
   },
   {
    "duration": 8,
    "start_time": "2024-08-17T00:02:40.212Z"
   },
   {
    "duration": 40,
    "start_time": "2024-08-17T00:02:42.226Z"
   },
   {
    "duration": 19,
    "start_time": "2024-08-17T00:02:44.985Z"
   },
   {
    "duration": 6,
    "start_time": "2024-08-17T00:02:49.181Z"
   },
   {
    "duration": 32,
    "start_time": "2024-08-17T00:02:51.873Z"
   },
   {
    "duration": 5,
    "start_time": "2024-08-17T00:02:55.020Z"
   },
   {
    "duration": 31,
    "start_time": "2024-08-17T00:02:59.669Z"
   },
   {
    "duration": 18,
    "start_time": "2024-08-17T00:03:01.844Z"
   },
   {
    "duration": 76,
    "start_time": "2024-08-17T00:03:06.812Z"
   },
   {
    "duration": 467,
    "start_time": "2024-08-17T00:06:36.762Z"
   },
   {
    "duration": 241,
    "start_time": "2024-08-17T00:06:37.232Z"
   },
   {
    "duration": 78,
    "start_time": "2024-08-17T00:06:37.477Z"
   },
   {
    "duration": 19,
    "start_time": "2024-08-17T00:06:37.559Z"
   },
   {
    "duration": 37,
    "start_time": "2024-08-17T00:06:37.581Z"
   },
   {
    "duration": 1286,
    "start_time": "2024-08-17T00:06:37.622Z"
   },
   {
    "duration": 11,
    "start_time": "2024-08-17T00:06:38.911Z"
   },
   {
    "duration": 12,
    "start_time": "2024-08-17T00:06:38.925Z"
   },
   {
    "duration": 8,
    "start_time": "2024-08-17T00:06:38.940Z"
   },
   {
    "duration": 7,
    "start_time": "2024-08-17T00:06:38.957Z"
   },
   {
    "duration": 29,
    "start_time": "2024-08-17T00:06:39.010Z"
   },
   {
    "duration": 67,
    "start_time": "2024-08-17T00:06:39.042Z"
   },
   {
    "duration": 10,
    "start_time": "2024-08-17T00:06:39.111Z"
   },
   {
    "duration": 159,
    "start_time": "2024-08-17T00:06:39.123Z"
   },
   {
    "duration": 9,
    "start_time": "2024-08-17T00:06:39.285Z"
   },
   {
    "duration": 9,
    "start_time": "2024-08-17T00:06:39.309Z"
   },
   {
    "duration": 31,
    "start_time": "2024-08-17T00:06:39.324Z"
   },
   {
    "duration": 191,
    "start_time": "2024-08-17T00:06:39.358Z"
   },
   {
    "duration": 190,
    "start_time": "2024-08-17T00:06:39.553Z"
   },
   {
    "duration": 6,
    "start_time": "2024-08-17T00:06:39.747Z"
   },
   {
    "duration": 274,
    "start_time": "2024-08-17T00:06:39.756Z"
   },
   {
    "duration": 4,
    "start_time": "2024-08-17T00:06:40.032Z"
   },
   {
    "duration": 95,
    "start_time": "2024-08-17T00:06:40.039Z"
   },
   {
    "duration": 84,
    "start_time": "2024-08-17T00:06:40.137Z"
   },
   {
    "duration": 12,
    "start_time": "2024-08-17T00:06:40.225Z"
   },
   {
    "duration": 12,
    "start_time": "2024-08-17T00:06:40.240Z"
   },
   {
    "duration": 7,
    "start_time": "2024-08-17T00:06:40.255Z"
   },
   {
    "duration": 8,
    "start_time": "2024-08-17T00:06:40.308Z"
   },
   {
    "duration": 14,
    "start_time": "2024-08-17T00:06:40.318Z"
   },
   {
    "duration": 42,
    "start_time": "2024-08-17T00:06:40.335Z"
   },
   {
    "duration": 19,
    "start_time": "2024-08-17T00:06:40.409Z"
   },
   {
    "duration": 8,
    "start_time": "2024-08-17T00:06:40.431Z"
   },
   {
    "duration": 21,
    "start_time": "2024-08-17T00:06:40.442Z"
   },
   {
    "duration": 45,
    "start_time": "2024-08-17T00:06:40.466Z"
   },
   {
    "duration": 39,
    "start_time": "2024-08-17T00:06:40.513Z"
   },
   {
    "duration": 53,
    "start_time": "2024-08-17T00:06:40.555Z"
   },
   {
    "duration": 76,
    "start_time": "2024-08-17T00:06:40.611Z"
   },
   {
    "duration": 25,
    "start_time": "2024-08-17T00:06:40.689Z"
   },
   {
    "duration": 14,
    "start_time": "2024-08-17T00:06:40.717Z"
   },
   {
    "duration": 9,
    "start_time": "2024-08-17T00:06:40.734Z"
   },
   {
    "duration": 7,
    "start_time": "2024-08-17T00:06:40.745Z"
   },
   {
    "duration": 7,
    "start_time": "2024-08-17T00:06:40.755Z"
   },
   {
    "duration": 5,
    "start_time": "2024-08-17T00:06:40.810Z"
   },
   {
    "duration": 7,
    "start_time": "2024-08-17T00:06:40.818Z"
   },
   {
    "duration": 11,
    "start_time": "2024-08-17T00:06:40.828Z"
   },
   {
    "duration": 14,
    "start_time": "2024-08-17T00:06:40.841Z"
   },
   {
    "duration": 55,
    "start_time": "2024-08-17T00:06:40.859Z"
   },
   {
    "duration": 7,
    "start_time": "2024-08-17T00:06:40.918Z"
   },
   {
    "duration": 8,
    "start_time": "2024-08-17T00:06:40.930Z"
   },
   {
    "duration": 8,
    "start_time": "2024-08-17T00:06:40.940Z"
   },
   {
    "duration": 7,
    "start_time": "2024-08-17T00:06:40.951Z"
   },
   {
    "duration": 292,
    "start_time": "2024-08-17T00:06:41.008Z"
   },
   {
    "duration": 36,
    "start_time": "2024-08-17T00:06:41.309Z"
   },
   {
    "duration": 28,
    "start_time": "2024-08-17T00:06:41.348Z"
   },
   {
    "duration": 261,
    "start_time": "2024-08-17T00:06:41.379Z"
   },
   {
    "duration": 3489,
    "start_time": "2024-08-17T00:06:41.643Z"
   },
   {
    "duration": 11,
    "start_time": "2024-08-17T00:06:45.136Z"
   },
   {
    "duration": 7,
    "start_time": "2024-08-17T00:06:45.150Z"
   },
   {
    "duration": 1274,
    "start_time": "2024-08-17T00:06:45.160Z"
   },
   {
    "duration": 1093,
    "start_time": "2024-08-17T00:06:46.437Z"
   },
   {
    "duration": 226,
    "start_time": "2024-08-17T00:06:47.533Z"
   },
   {
    "duration": 22,
    "start_time": "2024-08-17T00:06:47.762Z"
   },
   {
    "duration": 21,
    "start_time": "2024-08-17T00:06:47.787Z"
   },
   {
    "duration": 10,
    "start_time": "2024-08-17T00:06:47.812Z"
   },
   {
    "duration": 5,
    "start_time": "2024-08-17T00:06:47.825Z"
   },
   {
    "duration": 8,
    "start_time": "2024-08-17T00:06:47.834Z"
   },
   {
    "duration": 6,
    "start_time": "2024-08-17T00:06:47.845Z"
   },
   {
    "duration": 7,
    "start_time": "2024-08-17T00:06:47.909Z"
   },
   {
    "duration": 9,
    "start_time": "2024-08-17T00:06:47.919Z"
   },
   {
    "duration": 4,
    "start_time": "2024-08-17T00:06:47.931Z"
   },
   {
    "duration": 17,
    "start_time": "2024-08-17T00:06:47.938Z"
   },
   {
    "duration": 53,
    "start_time": "2024-08-17T00:06:47.957Z"
   },
   {
    "duration": 28,
    "start_time": "2024-08-17T00:06:48.013Z"
   },
   {
    "duration": 326,
    "start_time": "2024-08-17T00:06:48.045Z"
   },
   {
    "duration": 356,
    "start_time": "2024-08-17T00:06:48.374Z"
   },
   {
    "duration": 0,
    "start_time": "2024-08-17T00:06:48.734Z"
   },
   {
    "duration": 0,
    "start_time": "2024-08-17T00:06:48.735Z"
   },
   {
    "duration": 0,
    "start_time": "2024-08-17T00:06:48.737Z"
   },
   {
    "duration": 0,
    "start_time": "2024-08-17T00:06:48.739Z"
   },
   {
    "duration": 0,
    "start_time": "2024-08-17T00:06:48.742Z"
   },
   {
    "duration": 0,
    "start_time": "2024-08-17T00:06:48.744Z"
   },
   {
    "duration": 0,
    "start_time": "2024-08-17T00:06:48.746Z"
   },
   {
    "duration": 0,
    "start_time": "2024-08-17T00:06:48.749Z"
   },
   {
    "duration": 1,
    "start_time": "2024-08-17T00:06:48.750Z"
   },
   {
    "duration": 0,
    "start_time": "2024-08-17T00:06:48.753Z"
   },
   {
    "duration": 23,
    "start_time": "2024-08-17T00:07:07.047Z"
   },
   {
    "duration": 3,
    "start_time": "2024-08-17T00:07:22.847Z"
   },
   {
    "duration": 256,
    "start_time": "2024-08-17T00:07:22.854Z"
   },
   {
    "duration": 103,
    "start_time": "2024-08-17T00:07:23.114Z"
   },
   {
    "duration": 20,
    "start_time": "2024-08-17T00:07:23.221Z"
   },
   {
    "duration": 18,
    "start_time": "2024-08-17T00:07:23.246Z"
   },
   {
    "duration": 1310,
    "start_time": "2024-08-17T00:07:23.267Z"
   },
   {
    "duration": 31,
    "start_time": "2024-08-17T00:07:24.582Z"
   },
   {
    "duration": 12,
    "start_time": "2024-08-17T00:07:24.623Z"
   },
   {
    "duration": 9,
    "start_time": "2024-08-17T00:07:24.640Z"
   },
   {
    "duration": 9,
    "start_time": "2024-08-17T00:07:24.652Z"
   },
   {
    "duration": 66,
    "start_time": "2024-08-17T00:07:24.669Z"
   },
   {
    "duration": 38,
    "start_time": "2024-08-17T00:07:24.738Z"
   },
   {
    "duration": 15,
    "start_time": "2024-08-17T00:07:24.811Z"
   },
   {
    "duration": 155,
    "start_time": "2024-08-17T00:07:24.831Z"
   },
   {
    "duration": 19,
    "start_time": "2024-08-17T00:07:24.989Z"
   },
   {
    "duration": 12,
    "start_time": "2024-08-17T00:07:25.012Z"
   },
   {
    "duration": 29,
    "start_time": "2024-08-17T00:07:25.027Z"
   },
   {
    "duration": 178,
    "start_time": "2024-08-17T00:07:25.058Z"
   },
   {
    "duration": 175,
    "start_time": "2024-08-17T00:07:25.238Z"
   },
   {
    "duration": 6,
    "start_time": "2024-08-17T00:07:25.417Z"
   },
   {
    "duration": 313,
    "start_time": "2024-08-17T00:07:25.427Z"
   },
   {
    "duration": 4,
    "start_time": "2024-08-17T00:07:25.744Z"
   },
   {
    "duration": 98,
    "start_time": "2024-08-17T00:07:25.751Z"
   },
   {
    "duration": 96,
    "start_time": "2024-08-17T00:07:25.853Z"
   },
   {
    "duration": 13,
    "start_time": "2024-08-17T00:07:25.951Z"
   },
   {
    "duration": 40,
    "start_time": "2024-08-17T00:07:25.968Z"
   },
   {
    "duration": 8,
    "start_time": "2024-08-17T00:07:26.011Z"
   },
   {
    "duration": 10,
    "start_time": "2024-08-17T00:07:26.022Z"
   },
   {
    "duration": 14,
    "start_time": "2024-08-17T00:07:26.043Z"
   },
   {
    "duration": 84,
    "start_time": "2024-08-17T00:07:26.060Z"
   },
   {
    "duration": 20,
    "start_time": "2024-08-17T00:07:26.147Z"
   },
   {
    "duration": 8,
    "start_time": "2024-08-17T00:07:26.170Z"
   },
   {
    "duration": 25,
    "start_time": "2024-08-17T00:07:26.209Z"
   },
   {
    "duration": 6,
    "start_time": "2024-08-17T00:07:26.237Z"
   },
   {
    "duration": 65,
    "start_time": "2024-08-17T00:07:26.246Z"
   },
   {
    "duration": 24,
    "start_time": "2024-08-17T00:07:26.315Z"
   },
   {
    "duration": 107,
    "start_time": "2024-08-17T00:07:26.343Z"
   },
   {
    "duration": 10,
    "start_time": "2024-08-17T00:07:26.454Z"
   },
   {
    "duration": 43,
    "start_time": "2024-08-17T00:07:26.467Z"
   },
   {
    "duration": 8,
    "start_time": "2024-08-17T00:07:26.513Z"
   },
   {
    "duration": 14,
    "start_time": "2024-08-17T00:07:26.525Z"
   },
   {
    "duration": 6,
    "start_time": "2024-08-17T00:07:26.543Z"
   },
   {
    "duration": 6,
    "start_time": "2024-08-17T00:07:26.552Z"
   },
   {
    "duration": 49,
    "start_time": "2024-08-17T00:07:26.561Z"
   },
   {
    "duration": 13,
    "start_time": "2024-08-17T00:07:26.613Z"
   },
   {
    "duration": 15,
    "start_time": "2024-08-17T00:07:26.628Z"
   },
   {
    "duration": 9,
    "start_time": "2024-08-17T00:07:26.647Z"
   },
   {
    "duration": 52,
    "start_time": "2024-08-17T00:07:26.660Z"
   },
   {
    "duration": 8,
    "start_time": "2024-08-17T00:07:26.715Z"
   },
   {
    "duration": 8,
    "start_time": "2024-08-17T00:07:26.726Z"
   },
   {
    "duration": 7,
    "start_time": "2024-08-17T00:07:26.737Z"
   },
   {
    "duration": 389,
    "start_time": "2024-08-17T00:07:26.747Z"
   },
   {
    "duration": 36,
    "start_time": "2024-08-17T00:07:27.139Z"
   },
   {
    "duration": 49,
    "start_time": "2024-08-17T00:07:27.178Z"
   },
   {
    "duration": 254,
    "start_time": "2024-08-17T00:07:27.232Z"
   },
   {
    "duration": 3513,
    "start_time": "2024-08-17T00:07:27.490Z"
   },
   {
    "duration": 12,
    "start_time": "2024-08-17T00:07:31.006Z"
   },
   {
    "duration": 7,
    "start_time": "2024-08-17T00:07:31.021Z"
   },
   {
    "duration": 1347,
    "start_time": "2024-08-17T00:07:31.031Z"
   },
   {
    "duration": 420,
    "start_time": "2024-08-17T00:07:41.050Z"
   },
   {
    "duration": 225,
    "start_time": "2024-08-17T00:07:46.897Z"
   },
   {
    "duration": 74,
    "start_time": "2024-08-17T00:07:53.096Z"
   },
   {
    "duration": 19,
    "start_time": "2024-08-17T00:07:58.297Z"
   },
   {
    "duration": 19,
    "start_time": "2024-08-17T00:08:01.442Z"
   },
   {
    "duration": 1273,
    "start_time": "2024-08-17T00:08:07.489Z"
   },
   {
    "duration": 11,
    "start_time": "2024-08-17T00:08:17.982Z"
   },
   {
    "duration": 11,
    "start_time": "2024-08-17T00:08:20.328Z"
   },
   {
    "duration": 15,
    "start_time": "2024-08-17T00:08:24.814Z"
   },
   {
    "duration": 9,
    "start_time": "2024-08-17T00:08:27.125Z"
   },
   {
    "duration": 30,
    "start_time": "2024-08-17T00:08:32.513Z"
   },
   {
    "duration": 47,
    "start_time": "2024-08-17T00:08:35.294Z"
   },
   {
    "duration": 9,
    "start_time": "2024-08-17T00:08:40.685Z"
   },
   {
    "duration": 142,
    "start_time": "2024-08-17T00:08:43.280Z"
   },
   {
    "duration": 10,
    "start_time": "2024-08-17T00:08:48.742Z"
   },
   {
    "duration": 10,
    "start_time": "2024-08-17T00:08:51.350Z"
   },
   {
    "duration": 31,
    "start_time": "2024-08-17T00:08:57.852Z"
   },
   {
    "duration": 170,
    "start_time": "2024-08-17T00:09:05.863Z"
   },
   {
    "duration": 173,
    "start_time": "2024-08-17T00:09:08.501Z"
   },
   {
    "duration": 5,
    "start_time": "2024-08-17T00:09:12.213Z"
   },
   {
    "duration": 281,
    "start_time": "2024-08-17T00:09:14.369Z"
   },
   {
    "duration": 3,
    "start_time": "2024-08-17T00:09:20.294Z"
   },
   {
    "duration": 73,
    "start_time": "2024-08-17T00:09:22.514Z"
   },
   {
    "duration": 70,
    "start_time": "2024-08-17T00:09:24.999Z"
   },
   {
    "duration": 13,
    "start_time": "2024-08-17T00:09:30.678Z"
   },
   {
    "duration": 10,
    "start_time": "2024-08-17T00:09:32.713Z"
   },
   {
    "duration": 8,
    "start_time": "2024-08-17T00:09:34.968Z"
   },
   {
    "duration": 9,
    "start_time": "2024-08-17T00:09:40.028Z"
   },
   {
    "duration": 12,
    "start_time": "2024-08-17T00:09:44.356Z"
   },
   {
    "duration": 58,
    "start_time": "2024-08-17T00:09:48.153Z"
   },
   {
    "duration": 23,
    "start_time": "2024-08-17T00:09:50.740Z"
   },
   {
    "duration": 6,
    "start_time": "2024-08-17T00:09:55.841Z"
   },
   {
    "duration": 23,
    "start_time": "2024-08-17T00:09:58.258Z"
   },
   {
    "duration": 6,
    "start_time": "2024-08-17T00:10:00.450Z"
   },
   {
    "duration": 34,
    "start_time": "2024-08-17T00:10:02.973Z"
   },
   {
    "duration": 24,
    "start_time": "2024-08-17T00:10:07.341Z"
   },
   {
    "duration": 73,
    "start_time": "2024-08-17T00:10:12.600Z"
   },
   {
    "duration": 10,
    "start_time": "2024-08-17T00:10:19.765Z"
   },
   {
    "duration": 12,
    "start_time": "2024-08-17T00:10:27.041Z"
   },
   {
    "duration": 8,
    "start_time": "2024-08-17T00:10:32.392Z"
   },
   {
    "duration": 7,
    "start_time": "2024-08-17T00:10:38.550Z"
   },
   {
    "duration": 7,
    "start_time": "2024-08-17T00:10:40.956Z"
   },
   {
    "duration": 5,
    "start_time": "2024-08-17T00:10:46.084Z"
   },
   {
    "duration": 6,
    "start_time": "2024-08-17T00:10:48.108Z"
   },
   {
    "duration": 10,
    "start_time": "2024-08-17T00:10:55.892Z"
   },
   {
    "duration": 13,
    "start_time": "2024-08-17T00:10:58.221Z"
   },
   {
    "duration": 9,
    "start_time": "2024-08-17T00:11:00.337Z"
   },
   {
    "duration": 7,
    "start_time": "2024-08-17T00:11:05.029Z"
   },
   {
    "duration": 7,
    "start_time": "2024-08-17T00:11:06.787Z"
   },
   {
    "duration": 7,
    "start_time": "2024-08-17T00:11:09.209Z"
   },
   {
    "duration": 6,
    "start_time": "2024-08-17T00:11:11.734Z"
   },
   {
    "duration": 289,
    "start_time": "2024-08-17T00:11:31.352Z"
   },
   {
    "duration": 36,
    "start_time": "2024-08-17T00:11:34.843Z"
   },
   {
    "duration": 28,
    "start_time": "2024-08-17T00:11:36.982Z"
   },
   {
    "duration": 3443,
    "start_time": "2024-08-17T00:11:45.552Z"
   },
   {
    "duration": 11,
    "start_time": "2024-08-17T00:11:52.119Z"
   },
   {
    "duration": 7,
    "start_time": "2024-08-17T00:11:54.941Z"
   },
   {
    "duration": 1239,
    "start_time": "2024-08-17T00:12:00.556Z"
   },
   {
    "duration": 1068,
    "start_time": "2024-08-17T00:12:05.841Z"
   },
   {
    "duration": 334,
    "start_time": "2024-08-17T00:12:15.940Z"
   },
   {
    "duration": 23,
    "start_time": "2024-08-17T00:14:52.717Z"
   },
   {
    "duration": 5,
    "start_time": "2024-08-17T00:15:07.452Z"
   },
   {
    "duration": 8,
    "start_time": "2024-08-17T00:15:12.427Z"
   },
   {
    "duration": 5,
    "start_time": "2024-08-17T00:15:14.174Z"
   },
   {
    "duration": 9,
    "start_time": "2024-08-17T00:15:17.653Z"
   },
   {
    "duration": 5,
    "start_time": "2024-08-17T00:15:19.753Z"
   },
   {
    "duration": 7,
    "start_time": "2024-08-17T00:15:24.017Z"
   },
   {
    "duration": 5,
    "start_time": "2024-08-17T00:15:25.765Z"
   },
   {
    "duration": 3,
    "start_time": "2024-08-17T00:15:31.592Z"
   },
   {
    "duration": 17,
    "start_time": "2024-08-17T00:15:34.244Z"
   },
   {
    "duration": 9,
    "start_time": "2024-08-17T00:15:38.964Z"
   },
   {
    "duration": 22,
    "start_time": "2024-08-17T00:15:41.082Z"
   },
   {
    "duration": 278,
    "start_time": "2024-08-17T00:15:51.388Z"
   },
   {
    "duration": 22,
    "start_time": "2024-08-17T00:15:53.546Z"
   },
   {
    "duration": 49,
    "start_time": "2024-08-17T00:15:58.685Z"
   },
   {
    "duration": 18,
    "start_time": "2024-08-17T00:16:02.225Z"
   },
   {
    "duration": 7,
    "start_time": "2024-08-17T00:16:07.148Z"
   },
   {
    "duration": 8,
    "start_time": "2024-08-17T00:16:09.842Z"
   },
   {
    "duration": 194,
    "start_time": "2024-08-17T00:16:12.509Z"
   },
   {
    "duration": 30,
    "start_time": "2024-08-17T00:17:16.279Z"
   },
   {
    "duration": 30,
    "start_time": "2024-08-17T00:17:19.362Z"
   },
   {
    "duration": 31,
    "start_time": "2024-08-17T00:17:28.449Z"
   },
   {
    "duration": 33,
    "start_time": "2024-08-17T00:17:42.481Z"
   },
   {
    "duration": 12,
    "start_time": "2024-08-17T00:18:34.674Z"
   },
   {
    "duration": 4,
    "start_time": "2024-08-17T00:18:56.965Z"
   },
   {
    "duration": 29,
    "start_time": "2024-08-17T00:19:50.624Z"
   },
   {
    "duration": 9,
    "start_time": "2024-08-17T00:19:53.020Z"
   },
   {
    "duration": 9,
    "start_time": "2024-08-17T00:20:31.005Z"
   },
   {
    "duration": 349,
    "start_time": "2024-08-17T00:22:03.404Z"
   },
   {
    "duration": 6,
    "start_time": "2024-08-17T00:22:51.930Z"
   },
   {
    "duration": 268,
    "start_time": "2024-08-17T00:23:03.388Z"
   },
   {
    "duration": 563,
    "start_time": "2024-08-17T00:23:33.512Z"
   },
   {
    "duration": 86,
    "start_time": "2024-08-17T00:26:04.749Z"
   },
   {
    "duration": 4,
    "start_time": "2024-08-17T00:26:07.521Z"
   },
   {
    "duration": 7,
    "start_time": "2024-08-17T00:26:28.450Z"
   },
   {
    "duration": 8,
    "start_time": "2024-08-17T00:26:30.657Z"
   },
   {
    "duration": 11,
    "start_time": "2024-08-17T00:26:42.905Z"
   },
   {
    "duration": 10,
    "start_time": "2024-08-17T00:27:19.845Z"
   },
   {
    "duration": 5,
    "start_time": "2024-08-17T00:27:41.099Z"
   },
   {
    "duration": 431,
    "start_time": "2024-08-19T15:47:08.651Z"
   },
   {
    "duration": 253,
    "start_time": "2024-08-19T15:49:23.551Z"
   },
   {
    "duration": 105,
    "start_time": "2024-08-19T16:17:47.377Z"
   },
   {
    "duration": 19,
    "start_time": "2024-08-19T16:26:37.947Z"
   },
   {
    "duration": 20,
    "start_time": "2024-08-19T16:30:11.590Z"
   },
   {
    "duration": 1423,
    "start_time": "2024-08-19T16:32:14.603Z"
   },
   {
    "duration": 10,
    "start_time": "2024-08-19T16:42:41.877Z"
   },
   {
    "duration": 10,
    "start_time": "2024-08-19T16:44:03.815Z"
   },
   {
    "duration": 10,
    "start_time": "2024-08-19T16:49:09.016Z"
   },
   {
    "duration": 7,
    "start_time": "2024-08-19T16:53:30.902Z"
   },
   {
    "duration": 7,
    "start_time": "2024-08-19T16:57:22.679Z"
   },
   {
    "duration": 29,
    "start_time": "2024-08-19T16:58:27.139Z"
   },
   {
    "duration": 50,
    "start_time": "2024-08-19T17:09:41.867Z"
   },
   {
    "duration": 44,
    "start_time": "2024-08-19T17:14:04.041Z"
   },
   {
    "duration": 52,
    "start_time": "2024-08-19T17:15:13.831Z"
   },
   {
    "duration": 45,
    "start_time": "2024-08-19T17:15:26.489Z"
   },
   {
    "duration": 48,
    "start_time": "2024-08-19T17:34:11.076Z"
   },
   {
    "duration": 17,
    "start_time": "2024-08-19T17:37:44.767Z"
   },
   {
    "duration": 147,
    "start_time": "2024-08-19T17:38:21.046Z"
   },
   {
    "duration": 19,
    "start_time": "2024-08-19T17:40:42.049Z"
   },
   {
    "duration": 29,
    "start_time": "2024-08-19T17:40:50.852Z"
   },
   {
    "duration": 30,
    "start_time": "2024-08-19T17:40:54.885Z"
   },
   {
    "duration": 35,
    "start_time": "2024-08-19T17:41:14.116Z"
   },
   {
    "duration": 158,
    "start_time": "2024-08-19T17:41:18.312Z"
   },
   {
    "duration": 27,
    "start_time": "2024-08-19T17:41:28.588Z"
   },
   {
    "duration": 11,
    "start_time": "2024-08-19T17:47:37.605Z"
   },
   {
    "duration": 10,
    "start_time": "2024-08-19T17:48:11.876Z"
   },
   {
    "duration": 13,
    "start_time": "2024-08-19T17:50:33.113Z"
   },
   {
    "duration": 12,
    "start_time": "2024-08-19T17:51:25.335Z"
   },
   {
    "duration": 339,
    "start_time": "2024-08-19T17:52:06.221Z"
   },
   {
    "duration": 8,
    "start_time": "2024-08-19T17:52:31.364Z"
   },
   {
    "duration": 8,
    "start_time": "2024-08-19T17:52:44.610Z"
   },
   {
    "duration": 12,
    "start_time": "2024-08-19T17:53:04.587Z"
   },
   {
    "duration": 31,
    "start_time": "2024-08-19T17:53:08.829Z"
   },
   {
    "duration": 14,
    "start_time": "2024-08-19T17:53:22.216Z"
   },
   {
    "duration": 28,
    "start_time": "2024-08-19T17:57:26.895Z"
   },
   {
    "duration": 152,
    "start_time": "2024-08-19T18:02:44.265Z"
   },
   {
    "duration": 153,
    "start_time": "2024-08-19T18:03:01.297Z"
   },
   {
    "duration": 6,
    "start_time": "2024-08-19T18:03:17.348Z"
   },
   {
    "duration": 22,
    "start_time": "2024-08-19T18:03:22.362Z"
   },
   {
    "duration": 11,
    "start_time": "2024-08-19T18:03:38.241Z"
   },
   {
    "duration": 173,
    "start_time": "2024-08-19T18:04:06.880Z"
   },
   {
    "duration": 607,
    "start_time": "2024-08-19T18:04:11.825Z"
   },
   {
    "duration": 165,
    "start_time": "2024-08-19T18:04:21.588Z"
   },
   {
    "duration": 160,
    "start_time": "2024-08-19T18:04:51.444Z"
   },
   {
    "duration": 170,
    "start_time": "2024-08-19T18:06:28.794Z"
   },
   {
    "duration": 10,
    "start_time": "2024-08-19T18:07:24.820Z"
   },
   {
    "duration": 6,
    "start_time": "2024-08-19T18:07:42.222Z"
   },
   {
    "duration": 176,
    "start_time": "2024-08-19T18:08:10.509Z"
   },
   {
    "duration": 20,
    "start_time": "2024-08-19T18:08:40.825Z"
   },
   {
    "duration": 165,
    "start_time": "2024-08-19T18:08:47.286Z"
   },
   {
    "duration": 3,
    "start_time": "2024-08-19T18:08:50.248Z"
   },
   {
    "duration": 4,
    "start_time": "2024-08-19T18:09:02.225Z"
   },
   {
    "duration": 22,
    "start_time": "2024-08-19T18:09:21.212Z"
   },
   {
    "duration": 23,
    "start_time": "2024-08-19T18:09:34.745Z"
   },
   {
    "duration": 5,
    "start_time": "2024-08-19T18:10:43.794Z"
   },
   {
    "duration": 19,
    "start_time": "2024-08-19T18:10:53.966Z"
   },
   {
    "duration": 22,
    "start_time": "2024-08-19T18:12:13.671Z"
   },
   {
    "duration": 23,
    "start_time": "2024-08-19T18:13:14.619Z"
   },
   {
    "duration": 40,
    "start_time": "2024-08-19T18:16:10.497Z"
   },
   {
    "duration": 106,
    "start_time": "2024-08-19T18:16:27.770Z"
   },
   {
    "duration": 12,
    "start_time": "2024-08-19T18:16:31.588Z"
   },
   {
    "duration": 322,
    "start_time": "2024-08-19T21:44:23.290Z"
   },
   {
    "duration": 26,
    "start_time": "2024-08-19T21:44:41.336Z"
   },
   {
    "duration": 21,
    "start_time": "2024-08-19T21:45:06.984Z"
   },
   {
    "duration": 23,
    "start_time": "2024-08-19T21:45:37.238Z"
   },
   {
    "duration": 431,
    "start_time": "2024-08-19T21:45:57.755Z"
   },
   {
    "duration": 233,
    "start_time": "2024-08-19T21:45:59.827Z"
   },
   {
    "duration": 69,
    "start_time": "2024-08-19T21:46:08.678Z"
   },
   {
    "duration": 20,
    "start_time": "2024-08-19T21:46:13.603Z"
   },
   {
    "duration": 19,
    "start_time": "2024-08-19T21:46:15.950Z"
   },
   {
    "duration": 1277,
    "start_time": "2024-08-19T21:46:20.683Z"
   },
   {
    "duration": 13,
    "start_time": "2024-08-19T21:46:29.306Z"
   },
   {
    "duration": 16,
    "start_time": "2024-08-19T21:46:32.564Z"
   },
   {
    "duration": 7,
    "start_time": "2024-08-19T21:46:37.895Z"
   },
   {
    "duration": 7,
    "start_time": "2024-08-19T21:46:40.542Z"
   },
   {
    "duration": 29,
    "start_time": "2024-08-19T21:46:43.149Z"
   },
   {
    "duration": 49,
    "start_time": "2024-08-19T21:47:01.270Z"
   },
   {
    "duration": 39,
    "start_time": "2024-08-19T21:47:04.754Z"
   },
   {
    "duration": 128,
    "start_time": "2024-08-19T21:47:10.900Z"
   },
   {
    "duration": 12,
    "start_time": "2024-08-19T21:47:13.134Z"
   },
   {
    "duration": 12,
    "start_time": "2024-08-19T21:47:19.809Z"
   },
   {
    "duration": 41,
    "start_time": "2024-08-19T21:47:34.702Z"
   },
   {
    "duration": 38,
    "start_time": "2024-08-19T21:47:50.099Z"
   },
   {
    "duration": 575,
    "start_time": "2024-08-19T21:47:50.141Z"
   },
   {
    "duration": 0,
    "start_time": "2024-08-19T21:47:50.724Z"
   },
   {
    "duration": 0,
    "start_time": "2024-08-19T21:47:50.727Z"
   },
   {
    "duration": 0,
    "start_time": "2024-08-19T21:47:50.730Z"
   },
   {
    "duration": 0,
    "start_time": "2024-08-19T21:47:50.732Z"
   },
   {
    "duration": 0,
    "start_time": "2024-08-19T21:47:50.735Z"
   },
   {
    "duration": 0,
    "start_time": "2024-08-19T21:47:50.737Z"
   },
   {
    "duration": 0,
    "start_time": "2024-08-19T21:47:50.739Z"
   },
   {
    "duration": 0,
    "start_time": "2024-08-19T21:47:50.742Z"
   },
   {
    "duration": 0,
    "start_time": "2024-08-19T21:47:50.745Z"
   },
   {
    "duration": 0,
    "start_time": "2024-08-19T21:47:50.746Z"
   },
   {
    "duration": 0,
    "start_time": "2024-08-19T21:47:50.749Z"
   },
   {
    "duration": 0,
    "start_time": "2024-08-19T21:47:50.750Z"
   },
   {
    "duration": 0,
    "start_time": "2024-08-19T21:47:50.752Z"
   },
   {
    "duration": 0,
    "start_time": "2024-08-19T21:47:50.754Z"
   },
   {
    "duration": 0,
    "start_time": "2024-08-19T21:47:50.757Z"
   },
   {
    "duration": 0,
    "start_time": "2024-08-19T21:47:50.758Z"
   },
   {
    "duration": 0,
    "start_time": "2024-08-19T21:47:50.759Z"
   },
   {
    "duration": 0,
    "start_time": "2024-08-19T21:47:50.808Z"
   },
   {
    "duration": 0,
    "start_time": "2024-08-19T21:47:50.811Z"
   },
   {
    "duration": 0,
    "start_time": "2024-08-19T21:47:50.813Z"
   },
   {
    "duration": 0,
    "start_time": "2024-08-19T21:47:50.815Z"
   },
   {
    "duration": 0,
    "start_time": "2024-08-19T21:47:50.817Z"
   },
   {
    "duration": 0,
    "start_time": "2024-08-19T21:47:50.819Z"
   },
   {
    "duration": 0,
    "start_time": "2024-08-19T21:47:50.821Z"
   },
   {
    "duration": 0,
    "start_time": "2024-08-19T21:47:50.823Z"
   },
   {
    "duration": 0,
    "start_time": "2024-08-19T21:47:50.825Z"
   },
   {
    "duration": 0,
    "start_time": "2024-08-19T21:47:50.827Z"
   },
   {
    "duration": 0,
    "start_time": "2024-08-19T21:47:50.829Z"
   },
   {
    "duration": 0,
    "start_time": "2024-08-19T21:47:50.831Z"
   },
   {
    "duration": 1,
    "start_time": "2024-08-19T21:47:50.833Z"
   },
   {
    "duration": 0,
    "start_time": "2024-08-19T21:47:50.836Z"
   },
   {
    "duration": 0,
    "start_time": "2024-08-19T21:47:50.838Z"
   },
   {
    "duration": 0,
    "start_time": "2024-08-19T21:47:50.839Z"
   },
   {
    "duration": 0,
    "start_time": "2024-08-19T21:47:50.842Z"
   },
   {
    "duration": 0,
    "start_time": "2024-08-19T21:47:50.844Z"
   },
   {
    "duration": 0,
    "start_time": "2024-08-19T21:47:50.910Z"
   },
   {
    "duration": 0,
    "start_time": "2024-08-19T21:47:50.912Z"
   },
   {
    "duration": 0,
    "start_time": "2024-08-19T21:47:50.914Z"
   },
   {
    "duration": 0,
    "start_time": "2024-08-19T21:47:50.917Z"
   },
   {
    "duration": 0,
    "start_time": "2024-08-19T21:47:50.920Z"
   },
   {
    "duration": 0,
    "start_time": "2024-08-19T21:47:50.922Z"
   },
   {
    "duration": 0,
    "start_time": "2024-08-19T21:47:50.931Z"
   },
   {
    "duration": 0,
    "start_time": "2024-08-19T21:47:50.934Z"
   },
   {
    "duration": 0,
    "start_time": "2024-08-19T21:47:50.935Z"
   },
   {
    "duration": 0,
    "start_time": "2024-08-19T21:47:50.936Z"
   },
   {
    "duration": 0,
    "start_time": "2024-08-19T21:47:50.938Z"
   },
   {
    "duration": 0,
    "start_time": "2024-08-19T21:47:50.939Z"
   },
   {
    "duration": 0,
    "start_time": "2024-08-19T21:47:50.940Z"
   },
   {
    "duration": 0,
    "start_time": "2024-08-19T21:47:50.942Z"
   },
   {
    "duration": 0,
    "start_time": "2024-08-19T21:47:50.944Z"
   },
   {
    "duration": 0,
    "start_time": "2024-08-19T21:47:50.946Z"
   },
   {
    "duration": 0,
    "start_time": "2024-08-19T21:47:50.947Z"
   },
   {
    "duration": 0,
    "start_time": "2024-08-19T21:47:50.948Z"
   },
   {
    "duration": 0,
    "start_time": "2024-08-19T21:47:51.009Z"
   },
   {
    "duration": 0,
    "start_time": "2024-08-19T21:47:51.011Z"
   },
   {
    "duration": 0,
    "start_time": "2024-08-19T21:47:51.012Z"
   },
   {
    "duration": 0,
    "start_time": "2024-08-19T21:47:51.018Z"
   },
   {
    "duration": 0,
    "start_time": "2024-08-19T21:47:51.020Z"
   },
   {
    "duration": 0,
    "start_time": "2024-08-19T21:47:51.022Z"
   },
   {
    "duration": 0,
    "start_time": "2024-08-19T21:47:51.026Z"
   },
   {
    "duration": 0,
    "start_time": "2024-08-19T21:47:51.028Z"
   },
   {
    "duration": 0,
    "start_time": "2024-08-19T21:47:51.030Z"
   },
   {
    "duration": 0,
    "start_time": "2024-08-19T21:47:51.032Z"
   },
   {
    "duration": 0,
    "start_time": "2024-08-19T21:47:51.035Z"
   },
   {
    "duration": 0,
    "start_time": "2024-08-19T21:47:51.038Z"
   },
   {
    "duration": 0,
    "start_time": "2024-08-19T21:47:51.040Z"
   },
   {
    "duration": 0,
    "start_time": "2024-08-19T21:47:51.041Z"
   },
   {
    "duration": 0,
    "start_time": "2024-08-19T21:47:51.044Z"
   },
   {
    "duration": 0,
    "start_time": "2024-08-19T21:47:51.046Z"
   },
   {
    "duration": 0,
    "start_time": "2024-08-19T21:47:51.110Z"
   },
   {
    "duration": 0,
    "start_time": "2024-08-19T21:47:51.112Z"
   },
   {
    "duration": 14,
    "start_time": "2024-08-19T21:48:11.314Z"
   },
   {
    "duration": 164,
    "start_time": "2024-08-19T21:48:41.951Z"
   },
   {
    "duration": 7,
    "start_time": "2024-08-19T21:50:30.600Z"
   },
   {
    "duration": 147,
    "start_time": "2024-08-19T21:50:45.930Z"
   },
   {
    "duration": 150,
    "start_time": "2024-08-19T21:51:15.354Z"
   },
   {
    "duration": 9,
    "start_time": "2024-08-19T21:51:22.618Z"
   },
   {
    "duration": 6,
    "start_time": "2024-08-19T21:51:54.216Z"
   },
   {
    "duration": 22,
    "start_time": "2024-08-19T21:52:13.098Z"
   },
   {
    "duration": 21,
    "start_time": "2024-08-19T21:52:26.137Z"
   },
   {
    "duration": 22,
    "start_time": "2024-08-19T21:53:22.290Z"
   },
   {
    "duration": 24,
    "start_time": "2024-08-19T21:54:42.665Z"
   },
   {
    "duration": 22,
    "start_time": "2024-08-19T21:55:24.739Z"
   },
   {
    "duration": 23,
    "start_time": "2024-08-19T21:56:40.716Z"
   },
   {
    "duration": 30,
    "start_time": "2024-08-19T21:56:58.384Z"
   },
   {
    "duration": 22,
    "start_time": "2024-08-19T21:57:32.851Z"
   },
   {
    "duration": 3,
    "start_time": "2024-08-19T21:59:30.614Z"
   },
   {
    "duration": 4,
    "start_time": "2024-08-19T22:00:39.634Z"
   },
   {
    "duration": 480,
    "start_time": "2024-08-19T22:00:48.454Z"
   },
   {
    "duration": 229,
    "start_time": "2024-08-19T22:00:48.938Z"
   },
   {
    "duration": 82,
    "start_time": "2024-08-19T22:00:49.170Z"
   },
   {
    "duration": 17,
    "start_time": "2024-08-19T22:00:49.256Z"
   },
   {
    "duration": 38,
    "start_time": "2024-08-19T22:00:49.276Z"
   },
   {
    "duration": 1507,
    "start_time": "2024-08-19T22:00:49.317Z"
   },
   {
    "duration": 14,
    "start_time": "2024-08-19T22:00:50.827Z"
   },
   {
    "duration": 12,
    "start_time": "2024-08-19T22:00:50.845Z"
   },
   {
    "duration": 7,
    "start_time": "2024-08-19T22:00:50.860Z"
   },
   {
    "duration": 7,
    "start_time": "2024-08-19T22:00:50.910Z"
   },
   {
    "duration": 31,
    "start_time": "2024-08-19T22:00:50.920Z"
   },
   {
    "duration": 76,
    "start_time": "2024-08-19T22:00:50.954Z"
   },
   {
    "duration": 33,
    "start_time": "2024-08-19T22:00:51.033Z"
   },
   {
    "duration": 152,
    "start_time": "2024-08-19T22:00:51.068Z"
   },
   {
    "duration": 13,
    "start_time": "2024-08-19T22:00:51.224Z"
   },
   {
    "duration": 12,
    "start_time": "2024-08-19T22:00:51.240Z"
   },
   {
    "duration": 65,
    "start_time": "2024-08-19T22:00:51.255Z"
   },
   {
    "duration": 14,
    "start_time": "2024-08-19T22:00:51.325Z"
   },
   {
    "duration": 17,
    "start_time": "2024-08-19T22:00:51.342Z"
   },
   {
    "duration": 183,
    "start_time": "2024-08-19T22:00:51.362Z"
   },
   {
    "duration": 161,
    "start_time": "2024-08-19T22:00:51.548Z"
   },
   {
    "duration": 175,
    "start_time": "2024-08-19T22:00:51.712Z"
   },
   {
    "duration": 175,
    "start_time": "2024-08-19T22:00:51.889Z"
   },
   {
    "duration": 346,
    "start_time": "2024-08-19T22:00:52.067Z"
   },
   {
    "duration": 0,
    "start_time": "2024-08-19T22:00:52.421Z"
   },
   {
    "duration": 0,
    "start_time": "2024-08-19T22:00:52.422Z"
   },
   {
    "duration": 0,
    "start_time": "2024-08-19T22:00:52.424Z"
   },
   {
    "duration": 0,
    "start_time": "2024-08-19T22:00:52.427Z"
   },
   {
    "duration": 0,
    "start_time": "2024-08-19T22:00:52.429Z"
   },
   {
    "duration": 0,
    "start_time": "2024-08-19T22:00:52.431Z"
   },
   {
    "duration": 0,
    "start_time": "2024-08-19T22:00:52.433Z"
   },
   {
    "duration": 0,
    "start_time": "2024-08-19T22:00:52.435Z"
   },
   {
    "duration": 0,
    "start_time": "2024-08-19T22:00:52.437Z"
   },
   {
    "duration": 0,
    "start_time": "2024-08-19T22:00:52.440Z"
   },
   {
    "duration": 0,
    "start_time": "2024-08-19T22:00:52.442Z"
   },
   {
    "duration": 0,
    "start_time": "2024-08-19T22:00:52.444Z"
   },
   {
    "duration": 0,
    "start_time": "2024-08-19T22:00:52.446Z"
   },
   {
    "duration": 0,
    "start_time": "2024-08-19T22:00:52.448Z"
   },
   {
    "duration": 0,
    "start_time": "2024-08-19T22:00:52.454Z"
   },
   {
    "duration": 0,
    "start_time": "2024-08-19T22:00:52.455Z"
   },
   {
    "duration": 0,
    "start_time": "2024-08-19T22:00:52.509Z"
   },
   {
    "duration": 0,
    "start_time": "2024-08-19T22:00:52.510Z"
   },
   {
    "duration": 0,
    "start_time": "2024-08-19T22:00:52.513Z"
   },
   {
    "duration": 0,
    "start_time": "2024-08-19T22:00:52.515Z"
   },
   {
    "duration": 0,
    "start_time": "2024-08-19T22:00:52.517Z"
   },
   {
    "duration": 0,
    "start_time": "2024-08-19T22:00:52.520Z"
   },
   {
    "duration": 0,
    "start_time": "2024-08-19T22:00:52.523Z"
   },
   {
    "duration": 0,
    "start_time": "2024-08-19T22:00:52.525Z"
   },
   {
    "duration": 0,
    "start_time": "2024-08-19T22:00:52.527Z"
   },
   {
    "duration": 0,
    "start_time": "2024-08-19T22:00:52.529Z"
   },
   {
    "duration": 0,
    "start_time": "2024-08-19T22:00:52.530Z"
   },
   {
    "duration": 0,
    "start_time": "2024-08-19T22:00:52.534Z"
   },
   {
    "duration": 0,
    "start_time": "2024-08-19T22:00:52.537Z"
   },
   {
    "duration": 0,
    "start_time": "2024-08-19T22:00:52.539Z"
   },
   {
    "duration": 0,
    "start_time": "2024-08-19T22:00:52.541Z"
   },
   {
    "duration": 0,
    "start_time": "2024-08-19T22:00:52.544Z"
   },
   {
    "duration": 0,
    "start_time": "2024-08-19T22:00:52.546Z"
   },
   {
    "duration": 0,
    "start_time": "2024-08-19T22:00:52.549Z"
   },
   {
    "duration": 0,
    "start_time": "2024-08-19T22:00:52.610Z"
   },
   {
    "duration": 0,
    "start_time": "2024-08-19T22:00:52.613Z"
   },
   {
    "duration": 0,
    "start_time": "2024-08-19T22:00:52.615Z"
   },
   {
    "duration": 0,
    "start_time": "2024-08-19T22:00:52.617Z"
   },
   {
    "duration": 0,
    "start_time": "2024-08-19T22:00:52.620Z"
   },
   {
    "duration": 0,
    "start_time": "2024-08-19T22:00:52.623Z"
   },
   {
    "duration": 0,
    "start_time": "2024-08-19T22:00:52.624Z"
   },
   {
    "duration": 0,
    "start_time": "2024-08-19T22:00:52.628Z"
   },
   {
    "duration": 0,
    "start_time": "2024-08-19T22:00:52.629Z"
   },
   {
    "duration": 0,
    "start_time": "2024-08-19T22:00:52.632Z"
   },
   {
    "duration": 0,
    "start_time": "2024-08-19T22:00:52.634Z"
   },
   {
    "duration": 1,
    "start_time": "2024-08-19T22:00:52.635Z"
   },
   {
    "duration": 0,
    "start_time": "2024-08-19T22:00:52.637Z"
   },
   {
    "duration": 0,
    "start_time": "2024-08-19T22:00:52.639Z"
   },
   {
    "duration": 0,
    "start_time": "2024-08-19T22:00:52.641Z"
   },
   {
    "duration": 0,
    "start_time": "2024-08-19T22:00:52.642Z"
   },
   {
    "duration": 0,
    "start_time": "2024-08-19T22:00:52.645Z"
   },
   {
    "duration": 0,
    "start_time": "2024-08-19T22:00:52.709Z"
   },
   {
    "duration": 0,
    "start_time": "2024-08-19T22:00:52.711Z"
   },
   {
    "duration": 0,
    "start_time": "2024-08-19T22:00:52.713Z"
   },
   {
    "duration": 1,
    "start_time": "2024-08-19T22:00:52.715Z"
   },
   {
    "duration": 0,
    "start_time": "2024-08-19T22:00:52.718Z"
   },
   {
    "duration": 0,
    "start_time": "2024-08-19T22:00:52.720Z"
   },
   {
    "duration": 0,
    "start_time": "2024-08-19T22:00:52.722Z"
   },
   {
    "duration": 0,
    "start_time": "2024-08-19T22:00:52.724Z"
   },
   {
    "duration": 0,
    "start_time": "2024-08-19T22:00:52.726Z"
   },
   {
    "duration": 0,
    "start_time": "2024-08-19T22:00:52.729Z"
   },
   {
    "duration": 0,
    "start_time": "2024-08-19T22:00:52.732Z"
   },
   {
    "duration": 0,
    "start_time": "2024-08-19T22:00:52.734Z"
   },
   {
    "duration": 0,
    "start_time": "2024-08-19T22:00:52.736Z"
   },
   {
    "duration": 0,
    "start_time": "2024-08-19T22:00:52.739Z"
   },
   {
    "duration": 0,
    "start_time": "2024-08-19T22:00:52.741Z"
   },
   {
    "duration": 0,
    "start_time": "2024-08-19T22:00:52.743Z"
   },
   {
    "duration": 0,
    "start_time": "2024-08-19T22:00:52.745Z"
   },
   {
    "duration": 198,
    "start_time": "2024-08-19T22:00:58.924Z"
   },
   {
    "duration": 3,
    "start_time": "2024-08-19T22:02:22.349Z"
   },
   {
    "duration": 193,
    "start_time": "2024-08-19T22:02:25.858Z"
   },
   {
    "duration": 533,
    "start_time": "2024-08-19T22:02:39.000Z"
   },
   {
    "duration": 234,
    "start_time": "2024-08-19T22:02:39.537Z"
   },
   {
    "duration": 77,
    "start_time": "2024-08-19T22:02:39.774Z"
   },
   {
    "duration": 17,
    "start_time": "2024-08-19T22:02:39.858Z"
   },
   {
    "duration": 34,
    "start_time": "2024-08-19T22:02:39.878Z"
   },
   {
    "duration": 1288,
    "start_time": "2024-08-19T22:02:39.915Z"
   },
   {
    "duration": 12,
    "start_time": "2024-08-19T22:02:41.209Z"
   },
   {
    "duration": 10,
    "start_time": "2024-08-19T22:02:41.224Z"
   },
   {
    "duration": 8,
    "start_time": "2024-08-19T22:02:41.237Z"
   },
   {
    "duration": 8,
    "start_time": "2024-08-19T22:02:41.251Z"
   },
   {
    "duration": 31,
    "start_time": "2024-08-19T22:02:41.310Z"
   },
   {
    "duration": 61,
    "start_time": "2024-08-19T22:02:41.347Z"
   },
   {
    "duration": 33,
    "start_time": "2024-08-19T22:02:41.410Z"
   },
   {
    "duration": 151,
    "start_time": "2024-08-19T22:02:41.446Z"
   },
   {
    "duration": 18,
    "start_time": "2024-08-19T22:02:41.600Z"
   },
   {
    "duration": 13,
    "start_time": "2024-08-19T22:02:41.620Z"
   },
   {
    "duration": 28,
    "start_time": "2024-08-19T22:02:41.636Z"
   },
   {
    "duration": 55,
    "start_time": "2024-08-19T22:02:41.666Z"
   },
   {
    "duration": 17,
    "start_time": "2024-08-19T22:02:41.724Z"
   },
   {
    "duration": 176,
    "start_time": "2024-08-19T22:02:41.744Z"
   },
   {
    "duration": 162,
    "start_time": "2024-08-19T22:02:41.924Z"
   },
   {
    "duration": 162,
    "start_time": "2024-08-19T22:02:42.089Z"
   },
   {
    "duration": 177,
    "start_time": "2024-08-19T22:02:42.254Z"
   },
   {
    "duration": 354,
    "start_time": "2024-08-19T22:02:42.433Z"
   },
   {
    "duration": 0,
    "start_time": "2024-08-19T22:02:42.796Z"
   },
   {
    "duration": 0,
    "start_time": "2024-08-19T22:02:42.809Z"
   },
   {
    "duration": 0,
    "start_time": "2024-08-19T22:02:42.811Z"
   },
   {
    "duration": 0,
    "start_time": "2024-08-19T22:02:42.813Z"
   },
   {
    "duration": 0,
    "start_time": "2024-08-19T22:02:42.816Z"
   },
   {
    "duration": 0,
    "start_time": "2024-08-19T22:02:42.818Z"
   },
   {
    "duration": 0,
    "start_time": "2024-08-19T22:02:42.821Z"
   },
   {
    "duration": 0,
    "start_time": "2024-08-19T22:02:42.824Z"
   },
   {
    "duration": 0,
    "start_time": "2024-08-19T22:02:42.826Z"
   },
   {
    "duration": 0,
    "start_time": "2024-08-19T22:02:42.829Z"
   },
   {
    "duration": 0,
    "start_time": "2024-08-19T22:02:42.832Z"
   },
   {
    "duration": 0,
    "start_time": "2024-08-19T22:02:42.834Z"
   },
   {
    "duration": 0,
    "start_time": "2024-08-19T22:02:42.836Z"
   },
   {
    "duration": 0,
    "start_time": "2024-08-19T22:02:42.838Z"
   },
   {
    "duration": 0,
    "start_time": "2024-08-19T22:02:42.841Z"
   },
   {
    "duration": 0,
    "start_time": "2024-08-19T22:02:42.843Z"
   },
   {
    "duration": 0,
    "start_time": "2024-08-19T22:02:42.846Z"
   },
   {
    "duration": 0,
    "start_time": "2024-08-19T22:02:42.849Z"
   },
   {
    "duration": 0,
    "start_time": "2024-08-19T22:02:42.850Z"
   },
   {
    "duration": 0,
    "start_time": "2024-08-19T22:02:42.852Z"
   },
   {
    "duration": 0,
    "start_time": "2024-08-19T22:02:42.853Z"
   },
   {
    "duration": 0,
    "start_time": "2024-08-19T22:02:42.854Z"
   },
   {
    "duration": 0,
    "start_time": "2024-08-19T22:02:42.855Z"
   },
   {
    "duration": 0,
    "start_time": "2024-08-19T22:02:42.908Z"
   },
   {
    "duration": 0,
    "start_time": "2024-08-19T22:02:42.909Z"
   },
   {
    "duration": 0,
    "start_time": "2024-08-19T22:02:42.913Z"
   },
   {
    "duration": 0,
    "start_time": "2024-08-19T22:02:42.915Z"
   },
   {
    "duration": 0,
    "start_time": "2024-08-19T22:02:42.917Z"
   },
   {
    "duration": 0,
    "start_time": "2024-08-19T22:02:42.920Z"
   },
   {
    "duration": 0,
    "start_time": "2024-08-19T22:02:42.922Z"
   },
   {
    "duration": 0,
    "start_time": "2024-08-19T22:02:42.925Z"
   },
   {
    "duration": 0,
    "start_time": "2024-08-19T22:02:42.927Z"
   },
   {
    "duration": 0,
    "start_time": "2024-08-19T22:02:42.928Z"
   },
   {
    "duration": 0,
    "start_time": "2024-08-19T22:02:42.930Z"
   },
   {
    "duration": 0,
    "start_time": "2024-08-19T22:02:42.933Z"
   },
   {
    "duration": 0,
    "start_time": "2024-08-19T22:02:42.935Z"
   },
   {
    "duration": 0,
    "start_time": "2024-08-19T22:02:42.938Z"
   },
   {
    "duration": 0,
    "start_time": "2024-08-19T22:02:42.940Z"
   },
   {
    "duration": 0,
    "start_time": "2024-08-19T22:02:42.942Z"
   },
   {
    "duration": 0,
    "start_time": "2024-08-19T22:02:42.946Z"
   },
   {
    "duration": 0,
    "start_time": "2024-08-19T22:02:42.948Z"
   },
   {
    "duration": 0,
    "start_time": "2024-08-19T22:02:43.008Z"
   },
   {
    "duration": 0,
    "start_time": "2024-08-19T22:02:43.010Z"
   },
   {
    "duration": 0,
    "start_time": "2024-08-19T22:02:43.012Z"
   },
   {
    "duration": 0,
    "start_time": "2024-08-19T22:02:43.019Z"
   },
   {
    "duration": 0,
    "start_time": "2024-08-19T22:02:43.021Z"
   },
   {
    "duration": 0,
    "start_time": "2024-08-19T22:02:43.029Z"
   },
   {
    "duration": 0,
    "start_time": "2024-08-19T22:02:43.031Z"
   },
   {
    "duration": 0,
    "start_time": "2024-08-19T22:02:43.034Z"
   },
   {
    "duration": 0,
    "start_time": "2024-08-19T22:02:43.036Z"
   },
   {
    "duration": 0,
    "start_time": "2024-08-19T22:02:43.038Z"
   },
   {
    "duration": 0,
    "start_time": "2024-08-19T22:02:43.042Z"
   },
   {
    "duration": 0,
    "start_time": "2024-08-19T22:02:43.044Z"
   },
   {
    "duration": 0,
    "start_time": "2024-08-19T22:02:43.046Z"
   },
   {
    "duration": 0,
    "start_time": "2024-08-19T22:02:43.109Z"
   },
   {
    "duration": 0,
    "start_time": "2024-08-19T22:02:43.111Z"
   },
   {
    "duration": 0,
    "start_time": "2024-08-19T22:02:43.114Z"
   },
   {
    "duration": 0,
    "start_time": "2024-08-19T22:02:43.118Z"
   },
   {
    "duration": 0,
    "start_time": "2024-08-19T22:02:43.120Z"
   },
   {
    "duration": 0,
    "start_time": "2024-08-19T22:02:43.122Z"
   },
   {
    "duration": 0,
    "start_time": "2024-08-19T22:02:43.125Z"
   },
   {
    "duration": 0,
    "start_time": "2024-08-19T22:02:43.127Z"
   },
   {
    "duration": 0,
    "start_time": "2024-08-19T22:02:43.130Z"
   },
   {
    "duration": 0,
    "start_time": "2024-08-19T22:02:43.133Z"
   },
   {
    "duration": 0,
    "start_time": "2024-08-19T22:02:43.135Z"
   },
   {
    "duration": 0,
    "start_time": "2024-08-19T22:02:43.137Z"
   },
   {
    "duration": 0,
    "start_time": "2024-08-19T22:02:43.141Z"
   },
   {
    "duration": 0,
    "start_time": "2024-08-19T22:02:43.142Z"
   },
   {
    "duration": 46,
    "start_time": "2024-08-19T22:03:25.189Z"
   },
   {
    "duration": 47,
    "start_time": "2024-08-19T22:04:00.961Z"
   },
   {
    "duration": 23,
    "start_time": "2024-08-19T22:06:19.817Z"
   },
   {
    "duration": 22,
    "start_time": "2024-08-19T22:06:29.404Z"
   },
   {
    "duration": 23,
    "start_time": "2024-08-19T22:07:05.553Z"
   },
   {
    "duration": 23,
    "start_time": "2024-08-19T22:07:13.248Z"
   },
   {
    "duration": 471,
    "start_time": "2024-08-19T22:07:35.671Z"
   },
   {
    "duration": 225,
    "start_time": "2024-08-19T22:07:44.861Z"
   },
   {
    "duration": 81,
    "start_time": "2024-08-19T22:09:52.331Z"
   },
   {
    "duration": 20,
    "start_time": "2024-08-19T22:09:58.453Z"
   },
   {
    "duration": 20,
    "start_time": "2024-08-19T22:10:00.530Z"
   },
   {
    "duration": 1274,
    "start_time": "2024-08-19T22:10:06.952Z"
   },
   {
    "duration": 11,
    "start_time": "2024-08-19T22:10:15.697Z"
   },
   {
    "duration": 10,
    "start_time": "2024-08-19T22:10:18.070Z"
   },
   {
    "duration": 7,
    "start_time": "2024-08-19T22:10:23.060Z"
   },
   {
    "duration": 7,
    "start_time": "2024-08-19T22:10:24.994Z"
   },
   {
    "duration": 29,
    "start_time": "2024-08-19T22:10:30.432Z"
   },
   {
    "duration": 5,
    "start_time": "2024-08-19T22:15:20.453Z"
   },
   {
    "duration": 8,
    "start_time": "2024-08-19T22:16:41.735Z"
   },
   {
    "duration": 32,
    "start_time": "2024-08-19T22:17:07.548Z"
   },
   {
    "duration": 133,
    "start_time": "2024-08-19T22:17:16.010Z"
   },
   {
    "duration": 15,
    "start_time": "2024-08-19T22:17:21.021Z"
   },
   {
    "duration": 12,
    "start_time": "2024-08-19T22:17:23.861Z"
   },
   {
    "duration": 31,
    "start_time": "2024-08-19T22:17:29.675Z"
   },
   {
    "duration": 17,
    "start_time": "2024-08-19T22:17:32.678Z"
   },
   {
    "duration": 17,
    "start_time": "2024-08-19T22:17:38.281Z"
   },
   {
    "duration": 171,
    "start_time": "2024-08-19T22:18:24.430Z"
   },
   {
    "duration": 176,
    "start_time": "2024-08-19T22:18:31.253Z"
   },
   {
    "duration": 363,
    "start_time": "2024-08-19T22:18:54.542Z"
   },
   {
    "duration": 3883,
    "start_time": "2024-08-19T22:19:14.536Z"
   },
   {
    "duration": 0,
    "start_time": "2024-08-19T22:19:18.422Z"
   },
   {
    "duration": 23,
    "start_time": "2024-08-19T22:19:37.770Z"
   },
   {
    "duration": 156,
    "start_time": "2024-08-19T22:20:36.342Z"
   },
   {
    "duration": 198,
    "start_time": "2024-08-19T22:21:27.033Z"
   },
   {
    "duration": 159,
    "start_time": "2024-08-19T22:21:48.760Z"
   },
   {
    "duration": 28,
    "start_time": "2024-08-19T22:21:53.116Z"
   },
   {
    "duration": 158,
    "start_time": "2024-08-19T22:23:53.104Z"
   },
   {
    "duration": 40,
    "start_time": "2024-08-19T22:23:57.771Z"
   },
   {
    "duration": 181,
    "start_time": "2024-08-19T22:25:02.973Z"
   },
   {
    "duration": 12,
    "start_time": "2024-08-19T22:26:25.065Z"
   },
   {
    "duration": 22,
    "start_time": "2024-08-19T22:26:56.433Z"
   },
   {
    "duration": 27,
    "start_time": "2024-08-19T22:27:13.923Z"
   },
   {
    "duration": 285,
    "start_time": "2024-08-19T22:27:19.416Z"
   },
   {
    "duration": 4,
    "start_time": "2024-08-19T22:27:34.180Z"
   },
   {
    "duration": 6,
    "start_time": "2024-08-19T22:38:11.488Z"
   },
   {
    "duration": 6,
    "start_time": "2024-08-19T22:38:22.597Z"
   },
   {
    "duration": 8,
    "start_time": "2024-08-19T22:38:43.604Z"
   },
   {
    "duration": 7,
    "start_time": "2024-08-19T22:39:26.600Z"
   },
   {
    "duration": 6,
    "start_time": "2024-08-19T22:40:06.349Z"
   },
   {
    "duration": 18,
    "start_time": "2024-08-19T22:40:29.865Z"
   },
   {
    "duration": 11,
    "start_time": "2024-08-19T22:42:54.382Z"
   },
   {
    "duration": 463,
    "start_time": "2024-08-19T22:43:52.200Z"
   },
   {
    "duration": 224,
    "start_time": "2024-08-19T22:43:57.025Z"
   },
   {
    "duration": 72,
    "start_time": "2024-08-19T22:44:05.292Z"
   },
   {
    "duration": 18,
    "start_time": "2024-08-19T22:44:10.849Z"
   },
   {
    "duration": 18,
    "start_time": "2024-08-19T22:44:15.580Z"
   },
   {
    "duration": 1288,
    "start_time": "2024-08-19T22:44:18.114Z"
   },
   {
    "duration": 11,
    "start_time": "2024-08-19T22:44:28.272Z"
   },
   {
    "duration": 10,
    "start_time": "2024-08-19T22:44:34.392Z"
   },
   {
    "duration": 8,
    "start_time": "2024-08-19T22:44:37.035Z"
   },
   {
    "duration": 8,
    "start_time": "2024-08-19T22:44:41.884Z"
   },
   {
    "duration": 29,
    "start_time": "2024-08-19T22:44:44.873Z"
   },
   {
    "duration": 5,
    "start_time": "2024-08-19T22:45:00.708Z"
   },
   {
    "duration": 6,
    "start_time": "2024-08-19T22:45:04.205Z"
   },
   {
    "duration": 43,
    "start_time": "2024-08-19T22:45:25.295Z"
   },
   {
    "duration": 130,
    "start_time": "2024-08-19T22:45:31.904Z"
   },
   {
    "duration": 13,
    "start_time": "2024-08-19T22:45:35.494Z"
   },
   {
    "duration": 13,
    "start_time": "2024-08-19T22:45:39.750Z"
   },
   {
    "duration": 722,
    "start_time": "2024-08-19T22:48:41.672Z"
   },
   {
    "duration": 15,
    "start_time": "2024-08-19T22:48:45.185Z"
   },
   {
    "duration": 701,
    "start_time": "2024-08-19T22:48:55.494Z"
   },
   {
    "duration": 13,
    "start_time": "2024-08-19T22:48:58.092Z"
   },
   {
    "duration": 17,
    "start_time": "2024-08-19T22:49:10.344Z"
   },
   {
    "duration": 740,
    "start_time": "2024-08-19T22:49:54.254Z"
   },
   {
    "duration": 20,
    "start_time": "2024-08-19T22:49:59.545Z"
   },
   {
    "duration": 4,
    "start_time": "2024-08-19T22:50:10.930Z"
   },
   {
    "duration": 14,
    "start_time": "2024-08-19T22:50:12.669Z"
   },
   {
    "duration": 18,
    "start_time": "2024-08-19T22:50:16.689Z"
   },
   {
    "duration": 495,
    "start_time": "2024-08-19T22:50:32.049Z"
   },
   {
    "duration": 234,
    "start_time": "2024-08-19T22:50:32.548Z"
   },
   {
    "duration": 77,
    "start_time": "2024-08-19T22:50:32.785Z"
   },
   {
    "duration": 18,
    "start_time": "2024-08-19T22:50:32.866Z"
   },
   {
    "duration": 35,
    "start_time": "2024-08-19T22:50:32.888Z"
   },
   {
    "duration": 1311,
    "start_time": "2024-08-19T22:50:32.930Z"
   },
   {
    "duration": 12,
    "start_time": "2024-08-19T22:50:34.244Z"
   },
   {
    "duration": 11,
    "start_time": "2024-08-19T22:50:34.259Z"
   },
   {
    "duration": 39,
    "start_time": "2024-08-19T22:50:34.273Z"
   },
   {
    "duration": 8,
    "start_time": "2024-08-19T22:50:34.318Z"
   },
   {
    "duration": 30,
    "start_time": "2024-08-19T22:50:34.329Z"
   },
   {
    "duration": 5,
    "start_time": "2024-08-19T22:50:34.362Z"
   },
   {
    "duration": 8,
    "start_time": "2024-08-19T22:50:34.410Z"
   },
   {
    "duration": 34,
    "start_time": "2024-08-19T22:50:34.421Z"
   },
   {
    "duration": 181,
    "start_time": "2024-08-19T22:50:34.458Z"
   },
   {
    "duration": 13,
    "start_time": "2024-08-19T22:50:34.642Z"
   },
   {
    "duration": 12,
    "start_time": "2024-08-19T22:50:34.658Z"
   },
   {
    "duration": 40,
    "start_time": "2024-08-19T22:50:34.673Z"
   },
   {
    "duration": 16,
    "start_time": "2024-08-19T22:50:34.717Z"
   },
   {
    "duration": 23,
    "start_time": "2024-08-19T22:50:34.737Z"
   },
   {
    "duration": 208,
    "start_time": "2024-08-19T22:50:34.765Z"
   },
   {
    "duration": 52,
    "start_time": "2024-08-19T22:50:34.976Z"
   },
   {
    "duration": 193,
    "start_time": "2024-08-19T22:50:35.032Z"
   },
   {
    "duration": 11,
    "start_time": "2024-08-19T22:50:35.228Z"
   },
   {
    "duration": 303,
    "start_time": "2024-08-19T22:50:35.242Z"
   },
   {
    "duration": 4,
    "start_time": "2024-08-19T22:50:35.548Z"
   },
   {
    "duration": 20,
    "start_time": "2024-08-19T22:50:35.555Z"
   },
   {
    "duration": 82,
    "start_time": "2024-08-19T22:50:35.609Z"
   },
   {
    "duration": 18,
    "start_time": "2024-08-19T22:50:35.710Z"
   },
   {
    "duration": 11,
    "start_time": "2024-08-19T22:50:35.732Z"
   },
   {
    "duration": 8,
    "start_time": "2024-08-19T22:50:35.747Z"
   },
   {
    "duration": 51,
    "start_time": "2024-08-19T22:50:35.758Z"
   },
   {
    "duration": 15,
    "start_time": "2024-08-19T22:50:35.813Z"
   },
   {
    "duration": 76,
    "start_time": "2024-08-19T22:50:35.834Z"
   },
   {
    "duration": 20,
    "start_time": "2024-08-19T22:50:35.913Z"
   },
   {
    "duration": 8,
    "start_time": "2024-08-19T22:50:35.935Z"
   },
   {
    "duration": 24,
    "start_time": "2024-08-19T22:50:35.946Z"
   },
   {
    "duration": 38,
    "start_time": "2024-08-19T22:50:35.973Z"
   },
   {
    "duration": 34,
    "start_time": "2024-08-19T22:50:36.013Z"
   },
   {
    "duration": 21,
    "start_time": "2024-08-19T22:50:36.050Z"
   },
   {
    "duration": 98,
    "start_time": "2024-08-19T22:50:36.110Z"
   },
   {
    "duration": 11,
    "start_time": "2024-08-19T22:50:36.211Z"
   },
   {
    "duration": 13,
    "start_time": "2024-08-19T22:50:36.226Z"
   },
   {
    "duration": 8,
    "start_time": "2024-08-19T22:50:36.242Z"
   },
   {
    "duration": 8,
    "start_time": "2024-08-19T22:50:36.254Z"
   },
   {
    "duration": 8,
    "start_time": "2024-08-19T22:50:36.309Z"
   },
   {
    "duration": 7,
    "start_time": "2024-08-19T22:50:36.319Z"
   },
   {
    "duration": 7,
    "start_time": "2024-08-19T22:50:36.329Z"
   },
   {
    "duration": 10,
    "start_time": "2024-08-19T22:50:36.339Z"
   },
   {
    "duration": 60,
    "start_time": "2024-08-19T22:50:36.353Z"
   },
   {
    "duration": 9,
    "start_time": "2024-08-19T22:50:36.416Z"
   },
   {
    "duration": 7,
    "start_time": "2024-08-19T22:50:36.428Z"
   },
   {
    "duration": 7,
    "start_time": "2024-08-19T22:50:36.438Z"
   },
   {
    "duration": 8,
    "start_time": "2024-08-19T22:50:36.448Z"
   },
   {
    "duration": 52,
    "start_time": "2024-08-19T22:50:36.460Z"
   },
   {
    "duration": 320,
    "start_time": "2024-08-19T22:50:36.516Z"
   },
   {
    "duration": 37,
    "start_time": "2024-08-19T22:50:36.840Z"
   },
   {
    "duration": 54,
    "start_time": "2024-08-19T22:50:36.881Z"
   },
   {
    "duration": 244,
    "start_time": "2024-08-19T22:50:36.938Z"
   },
   {
    "duration": 3515,
    "start_time": "2024-08-19T22:50:37.185Z"
   },
   {
    "duration": 15,
    "start_time": "2024-08-19T22:50:40.703Z"
   },
   {
    "duration": 9,
    "start_time": "2024-08-19T22:50:40.721Z"
   },
   {
    "duration": 1360,
    "start_time": "2024-08-19T22:50:40.733Z"
   },
   {
    "duration": 1149,
    "start_time": "2024-08-19T22:50:42.096Z"
   },
   {
    "duration": 232,
    "start_time": "2024-08-19T22:50:43.248Z"
   },
   {
    "duration": 35,
    "start_time": "2024-08-19T22:50:43.483Z"
   },
   {
    "duration": 6,
    "start_time": "2024-08-19T22:50:43.521Z"
   },
   {
    "duration": 10,
    "start_time": "2024-08-19T22:50:43.531Z"
   },
   {
    "duration": 6,
    "start_time": "2024-08-19T22:50:43.545Z"
   },
   {
    "duration": 57,
    "start_time": "2024-08-19T22:50:43.554Z"
   },
   {
    "duration": 6,
    "start_time": "2024-08-19T22:50:43.615Z"
   },
   {
    "duration": 8,
    "start_time": "2024-08-19T22:50:43.624Z"
   },
   {
    "duration": 7,
    "start_time": "2024-08-19T22:50:43.634Z"
   },
   {
    "duration": 4,
    "start_time": "2024-08-19T22:50:43.644Z"
   },
   {
    "duration": 67,
    "start_time": "2024-08-19T22:50:43.650Z"
   },
   {
    "duration": 8,
    "start_time": "2024-08-19T22:50:43.719Z"
   },
   {
    "duration": 25,
    "start_time": "2024-08-19T22:50:43.732Z"
   },
   {
    "duration": 351,
    "start_time": "2024-08-19T22:50:43.760Z"
   },
   {
    "duration": 24,
    "start_time": "2024-08-19T22:50:44.113Z"
   },
   {
    "duration": 17,
    "start_time": "2024-08-19T22:50:44.140Z"
   },
   {
    "duration": 10,
    "start_time": "2024-08-19T22:50:44.160Z"
   },
   {
    "duration": 6,
    "start_time": "2024-08-19T22:50:44.219Z"
   },
   {
    "duration": 8,
    "start_time": "2024-08-19T22:50:44.229Z"
   },
   {
    "duration": 221,
    "start_time": "2024-08-19T22:50:44.240Z"
   },
   {
    "duration": 937,
    "start_time": "2024-08-19T22:50:44.464Z"
   },
   {
    "duration": 0,
    "start_time": "2024-08-19T22:50:45.408Z"
   },
   {
    "duration": 0,
    "start_time": "2024-08-19T22:50:45.410Z"
   },
   {
    "duration": 0,
    "start_time": "2024-08-19T22:50:45.411Z"
   },
   {
    "duration": 0,
    "start_time": "2024-08-19T22:50:45.413Z"
   },
   {
    "duration": 0,
    "start_time": "2024-08-19T22:50:45.417Z"
   },
   {
    "duration": 0,
    "start_time": "2024-08-19T22:50:45.419Z"
   },
   {
    "duration": 0,
    "start_time": "2024-08-19T22:50:45.422Z"
   },
   {
    "duration": 3,
    "start_time": "2024-08-19T22:52:10.106Z"
   },
   {
    "duration": 7,
    "start_time": "2024-08-19T22:53:03.169Z"
   },
   {
    "duration": 7,
    "start_time": "2024-08-19T22:53:39.652Z"
   },
   {
    "duration": 7,
    "start_time": "2024-08-19T22:54:25.913Z"
   },
   {
    "duration": 4,
    "start_time": "2024-08-19T22:55:12.467Z"
   },
   {
    "duration": 711,
    "start_time": "2024-08-19T22:56:19.006Z"
   },
   {
    "duration": 33,
    "start_time": "2024-08-19T22:56:55.041Z"
   },
   {
    "duration": 8,
    "start_time": "2024-08-19T22:56:59.049Z"
   },
   {
    "duration": 7,
    "start_time": "2024-08-19T22:57:09.275Z"
   },
   {
    "duration": 5,
    "start_time": "2024-08-19T22:57:14.536Z"
   },
   {
    "duration": 9,
    "start_time": "2024-08-19T22:58:24.482Z"
   },
   {
    "duration": 11,
    "start_time": "2024-08-19T22:58:32.750Z"
   },
   {
    "duration": 32,
    "start_time": "2024-08-19T22:58:51.978Z"
   },
   {
    "duration": 4018,
    "start_time": "2024-08-19T22:59:11.829Z"
   },
   {
    "duration": 13,
    "start_time": "2024-08-19T22:59:15.850Z"
   },
   {
    "duration": 421,
    "start_time": "2024-08-19T22:59:27.230Z"
   },
   {
    "duration": 27,
    "start_time": "2024-08-19T23:00:38.254Z"
   },
   {
    "duration": 65,
    "start_time": "2024-08-19T23:00:53.717Z"
   },
   {
    "duration": 394,
    "start_time": "2024-08-19T23:01:05.061Z"
   },
   {
    "duration": 5,
    "start_time": "2024-08-19T23:02:28.066Z"
   },
   {
    "duration": 32,
    "start_time": "2024-08-19T23:02:42.902Z"
   },
   {
    "duration": 339,
    "start_time": "2024-08-19T23:02:56.256Z"
   },
   {
    "duration": 42,
    "start_time": "2024-08-19T23:22:55.841Z"
   },
   {
    "duration": 925,
    "start_time": "2024-08-19T23:23:13.592Z"
   },
   {
    "duration": 17,
    "start_time": "2024-08-19T23:24:01.665Z"
   },
   {
    "duration": 11,
    "start_time": "2024-08-19T23:24:20.753Z"
   },
   {
    "duration": 303,
    "start_time": "2024-08-19T23:24:29.037Z"
   },
   {
    "duration": 4,
    "start_time": "2024-08-19T23:24:45.178Z"
   },
   {
    "duration": 8,
    "start_time": "2024-08-19T23:24:47.162Z"
   },
   {
    "duration": 10,
    "start_time": "2024-08-19T23:24:49.777Z"
   },
   {
    "duration": 317,
    "start_time": "2024-08-19T23:24:52.705Z"
   },
   {
    "duration": 709,
    "start_time": "2024-08-19T23:25:30.240Z"
   },
   {
    "duration": 9,
    "start_time": "2024-08-19T23:26:00.997Z"
   },
   {
    "duration": 707,
    "start_time": "2024-08-19T23:26:09.421Z"
   },
   {
    "duration": 12,
    "start_time": "2024-08-19T23:26:35.946Z"
   },
   {
    "duration": 465,
    "start_time": "2024-08-19T23:26:38.989Z"
   },
   {
    "duration": 425,
    "start_time": "2024-08-19T23:26:54.357Z"
   },
   {
    "duration": 310,
    "start_time": "2024-08-19T23:27:08.563Z"
   },
   {
    "duration": 324,
    "start_time": "2024-08-19T23:27:15.590Z"
   },
   {
    "duration": 324,
    "start_time": "2024-08-19T23:27:42.249Z"
   },
   {
    "duration": 440,
    "start_time": "2024-08-19T23:27:49.653Z"
   },
   {
    "duration": 451,
    "start_time": "2024-08-19T23:28:25.968Z"
   },
   {
    "duration": 317,
    "start_time": "2024-08-19T23:28:33.043Z"
   },
   {
    "duration": 315,
    "start_time": "2024-08-19T23:28:40.281Z"
   },
   {
    "duration": 25,
    "start_time": "2024-08-19T23:31:25.883Z"
   },
   {
    "duration": 21,
    "start_time": "2024-08-19T23:31:46.395Z"
   },
   {
    "duration": 379,
    "start_time": "2024-08-19T23:31:54.450Z"
   },
   {
    "duration": 15,
    "start_time": "2024-08-19T23:32:41.608Z"
   },
   {
    "duration": 333,
    "start_time": "2024-08-19T23:32:44.365Z"
   },
   {
    "duration": 317,
    "start_time": "2024-08-19T23:32:52.234Z"
   },
   {
    "duration": 588,
    "start_time": "2024-08-19T23:33:36.677Z"
   },
   {
    "duration": 650,
    "start_time": "2024-08-19T23:34:31.659Z"
   },
   {
    "duration": 446,
    "start_time": "2024-08-19T23:34:38.869Z"
   },
   {
    "duration": 62,
    "start_time": "2024-08-19T23:41:46.192Z"
   },
   {
    "duration": 374,
    "start_time": "2024-08-19T23:41:56.034Z"
   },
   {
    "duration": 156,
    "start_time": "2024-08-19T23:45:27.157Z"
   },
   {
    "duration": 20,
    "start_time": "2024-08-19T23:45:31.841Z"
   },
   {
    "duration": 13,
    "start_time": "2024-08-20T04:02:34.626Z"
   },
   {
    "duration": 14,
    "start_time": "2024-08-20T04:02:37.640Z"
   },
   {
    "duration": 558,
    "start_time": "2024-08-20T04:03:03.903Z"
   },
   {
    "duration": 241,
    "start_time": "2024-08-20T04:03:04.464Z"
   },
   {
    "duration": 72,
    "start_time": "2024-08-20T04:03:04.710Z"
   },
   {
    "duration": 38,
    "start_time": "2024-08-20T04:03:04.787Z"
   },
   {
    "duration": 18,
    "start_time": "2024-08-20T04:03:04.828Z"
   },
   {
    "duration": 1310,
    "start_time": "2024-08-20T04:03:04.849Z"
   },
   {
    "duration": 11,
    "start_time": "2024-08-20T04:03:06.162Z"
   },
   {
    "duration": 32,
    "start_time": "2024-08-20T04:03:06.177Z"
   },
   {
    "duration": 9,
    "start_time": "2024-08-20T04:03:06.211Z"
   },
   {
    "duration": 7,
    "start_time": "2024-08-20T04:03:06.226Z"
   },
   {
    "duration": 29,
    "start_time": "2024-08-20T04:03:06.236Z"
   },
   {
    "duration": 45,
    "start_time": "2024-08-20T04:03:06.267Z"
   },
   {
    "duration": 8,
    "start_time": "2024-08-20T04:03:06.316Z"
   },
   {
    "duration": 40,
    "start_time": "2024-08-20T04:03:06.328Z"
   },
   {
    "duration": 173,
    "start_time": "2024-08-20T04:03:06.371Z"
   },
   {
    "duration": 14,
    "start_time": "2024-08-20T04:03:06.547Z"
   },
   {
    "duration": 13,
    "start_time": "2024-08-20T04:03:06.564Z"
   },
   {
    "duration": 4,
    "start_time": "2024-08-20T04:03:06.608Z"
   },
   {
    "duration": 13,
    "start_time": "2024-08-20T04:03:06.615Z"
   },
   {
    "duration": 15,
    "start_time": "2024-08-20T04:03:06.631Z"
   },
   {
    "duration": 202,
    "start_time": "2024-08-20T04:03:06.650Z"
   },
   {
    "duration": 52,
    "start_time": "2024-08-20T04:03:06.856Z"
   },
   {
    "duration": 198,
    "start_time": "2024-08-20T04:03:06.911Z"
   },
   {
    "duration": 11,
    "start_time": "2024-08-20T04:03:07.112Z"
   },
   {
    "duration": 334,
    "start_time": "2024-08-20T04:03:07.126Z"
   },
   {
    "duration": 4,
    "start_time": "2024-08-20T04:03:07.463Z"
   },
   {
    "duration": 39,
    "start_time": "2024-08-20T04:03:07.471Z"
   },
   {
    "duration": 95,
    "start_time": "2024-08-20T04:03:07.520Z"
   },
   {
    "duration": 13,
    "start_time": "2024-08-20T04:03:07.618Z"
   },
   {
    "duration": 11,
    "start_time": "2024-08-20T04:03:07.633Z"
   },
   {
    "duration": 7,
    "start_time": "2024-08-20T04:03:07.647Z"
   },
   {
    "duration": 52,
    "start_time": "2024-08-20T04:03:07.657Z"
   },
   {
    "duration": 12,
    "start_time": "2024-08-20T04:03:07.712Z"
   },
   {
    "duration": 41,
    "start_time": "2024-08-20T04:03:07.728Z"
   },
   {
    "duration": 50,
    "start_time": "2024-08-20T04:03:07.772Z"
   },
   {
    "duration": 7,
    "start_time": "2024-08-20T04:03:07.825Z"
   },
   {
    "duration": 23,
    "start_time": "2024-08-20T04:03:07.834Z"
   },
   {
    "duration": 5,
    "start_time": "2024-08-20T04:03:07.860Z"
   },
   {
    "duration": 69,
    "start_time": "2024-08-20T04:03:07.869Z"
   },
   {
    "duration": 20,
    "start_time": "2024-08-20T04:03:07.942Z"
   },
   {
    "duration": 114,
    "start_time": "2024-08-20T04:03:07.965Z"
   },
   {
    "duration": 26,
    "start_time": "2024-08-20T04:03:08.083Z"
   },
   {
    "duration": 13,
    "start_time": "2024-08-20T04:03:08.112Z"
   },
   {
    "duration": 8,
    "start_time": "2024-08-20T04:03:08.128Z"
   },
   {
    "duration": 7,
    "start_time": "2024-08-20T04:03:08.139Z"
   },
   {
    "duration": 7,
    "start_time": "2024-08-20T04:03:08.149Z"
   },
   {
    "duration": 51,
    "start_time": "2024-08-20T04:03:08.159Z"
   },
   {
    "duration": 7,
    "start_time": "2024-08-20T04:03:08.213Z"
   },
   {
    "duration": 10,
    "start_time": "2024-08-20T04:03:08.223Z"
   },
   {
    "duration": 13,
    "start_time": "2024-08-20T04:03:08.236Z"
   },
   {
    "duration": 57,
    "start_time": "2024-08-20T04:03:08.253Z"
   },
   {
    "duration": 7,
    "start_time": "2024-08-20T04:03:08.313Z"
   },
   {
    "duration": 8,
    "start_time": "2024-08-20T04:03:08.324Z"
   },
   {
    "duration": 6,
    "start_time": "2024-08-20T04:03:08.335Z"
   },
   {
    "duration": 7,
    "start_time": "2024-08-20T04:03:08.344Z"
   },
   {
    "duration": 360,
    "start_time": "2024-08-20T04:03:08.354Z"
   },
   {
    "duration": 35,
    "start_time": "2024-08-20T04:03:08.718Z"
   },
   {
    "duration": 54,
    "start_time": "2024-08-20T04:03:08.756Z"
   },
   {
    "duration": 249,
    "start_time": "2024-08-20T04:03:08.813Z"
   },
   {
    "duration": 3522,
    "start_time": "2024-08-20T04:03:09.066Z"
   },
   {
    "duration": 22,
    "start_time": "2024-08-20T04:03:12.591Z"
   },
   {
    "duration": 7,
    "start_time": "2024-08-20T04:03:12.617Z"
   },
   {
    "duration": 1359,
    "start_time": "2024-08-20T04:03:12.627Z"
   },
   {
    "duration": 1159,
    "start_time": "2024-08-20T04:03:13.988Z"
   },
   {
    "duration": 226,
    "start_time": "2024-08-20T04:03:15.149Z"
   },
   {
    "duration": 40,
    "start_time": "2024-08-20T04:03:15.378Z"
   },
   {
    "duration": 6,
    "start_time": "2024-08-20T04:03:15.421Z"
   },
   {
    "duration": 8,
    "start_time": "2024-08-20T04:03:15.430Z"
   },
   {
    "duration": 6,
    "start_time": "2024-08-20T04:03:15.441Z"
   },
   {
    "duration": 9,
    "start_time": "2024-08-20T04:03:15.450Z"
   },
   {
    "duration": 50,
    "start_time": "2024-08-20T04:03:15.461Z"
   },
   {
    "duration": 8,
    "start_time": "2024-08-20T04:03:15.514Z"
   },
   {
    "duration": 6,
    "start_time": "2024-08-20T04:03:15.526Z"
   },
   {
    "duration": 3,
    "start_time": "2024-08-20T04:03:15.536Z"
   },
   {
    "duration": 71,
    "start_time": "2024-08-20T04:03:15.543Z"
   },
   {
    "duration": 9,
    "start_time": "2024-08-20T04:03:15.617Z"
   },
   {
    "duration": 25,
    "start_time": "2024-08-20T04:03:15.630Z"
   },
   {
    "duration": 350,
    "start_time": "2024-08-20T04:03:15.658Z"
   },
   {
    "duration": 23,
    "start_time": "2024-08-20T04:03:16.011Z"
   },
   {
    "duration": 17,
    "start_time": "2024-08-20T04:03:16.036Z"
   },
   {
    "duration": 12,
    "start_time": "2024-08-20T04:03:16.056Z"
   },
   {
    "duration": 6,
    "start_time": "2024-08-20T04:03:16.117Z"
   },
   {
    "duration": 7,
    "start_time": "2024-08-20T04:03:16.127Z"
   },
   {
    "duration": 226,
    "start_time": "2024-08-20T04:03:16.136Z"
   },
   {
    "duration": 8,
    "start_time": "2024-08-20T04:03:16.365Z"
   },
   {
    "duration": 7,
    "start_time": "2024-08-20T04:03:16.376Z"
   },
   {
    "duration": 7,
    "start_time": "2024-08-20T04:03:16.410Z"
   },
   {
    "duration": 5,
    "start_time": "2024-08-20T04:03:16.421Z"
   },
   {
    "duration": 734,
    "start_time": "2024-08-20T04:03:16.429Z"
   },
   {
    "duration": 43,
    "start_time": "2024-08-20T04:03:17.167Z"
   },
   {
    "duration": 10,
    "start_time": "2024-08-20T04:03:17.212Z"
   },
   {
    "duration": 6,
    "start_time": "2024-08-20T04:03:17.225Z"
   },
   {
    "duration": 5,
    "start_time": "2024-08-20T04:03:17.235Z"
   },
   {
    "duration": 285,
    "start_time": "2024-08-20T04:03:17.244Z"
   },
   {
    "duration": 12,
    "start_time": "2024-08-20T04:03:17.532Z"
   },
   {
    "duration": 466,
    "start_time": "2024-08-20T04:03:17.547Z"
   },
   {
    "duration": 358,
    "start_time": "2024-08-20T04:03:18.016Z"
   },
   {
    "duration": 364,
    "start_time": "2024-08-20T04:03:18.378Z"
   },
   {
    "duration": 3,
    "start_time": "2024-08-20T04:03:18.746Z"
   },
   {
    "duration": 16,
    "start_time": "2024-08-20T04:03:18.752Z"
   },
   {
    "duration": 448,
    "start_time": "2024-08-20T04:03:18.771Z"
   },
   {
    "duration": 87,
    "start_time": "2024-08-20T04:03:19.222Z"
   },
   {
    "duration": 398,
    "start_time": "2024-08-20T04:03:19.311Z"
   },
   {
    "duration": 20,
    "start_time": "2024-08-20T04:03:19.712Z"
   },
   {
    "duration": 36,
    "start_time": "2024-08-20T04:05:05.328Z"
   },
   {
    "duration": 352,
    "start_time": "2024-08-20T04:05:59.506Z"
   },
   {
    "duration": 9,
    "start_time": "2024-08-20T04:06:17.131Z"
   },
   {
    "duration": 32,
    "start_time": "2024-08-20T04:07:06.813Z"
   },
   {
    "duration": 18,
    "start_time": "2024-08-20T04:07:10.028Z"
   },
   {
    "duration": 95,
    "start_time": "2024-08-20T04:07:15.674Z"
   },
   {
    "duration": 40,
    "start_time": "2024-08-20T04:07:58.440Z"
   },
   {
    "duration": 10,
    "start_time": "2024-08-20T04:08:09.243Z"
   },
   {
    "duration": 75,
    "start_time": "2024-08-20T04:08:16.625Z"
   },
   {
    "duration": 78,
    "start_time": "2024-08-20T04:08:33.482Z"
   },
   {
    "duration": 22,
    "start_time": "2024-08-20T04:09:33.135Z"
   },
   {
    "duration": 5,
    "start_time": "2024-08-20T04:09:55.696Z"
   },
   {
    "duration": 10,
    "start_time": "2024-08-20T04:10:06.927Z"
   },
   {
    "duration": 6,
    "start_time": "2024-08-20T04:10:36.855Z"
   },
   {
    "duration": 9,
    "start_time": "2024-08-20T04:10:44.657Z"
   },
   {
    "duration": 12,
    "start_time": "2024-08-20T04:10:54.604Z"
   },
   {
    "duration": 5,
    "start_time": "2024-08-20T04:11:49.432Z"
   },
   {
    "duration": 15,
    "start_time": "2024-08-20T04:12:10.659Z"
   },
   {
    "duration": 7,
    "start_time": "2024-08-20T04:12:19.159Z"
   },
   {
    "duration": 26,
    "start_time": "2024-08-20T04:12:27.503Z"
   },
   {
    "duration": 18,
    "start_time": "2024-08-20T04:13:36.546Z"
   },
   {
    "duration": 10,
    "start_time": "2024-08-20T04:14:06.247Z"
   },
   {
    "duration": 4,
    "start_time": "2024-08-20T04:15:23.918Z"
   },
   {
    "duration": 11,
    "start_time": "2024-08-20T04:15:36.043Z"
   },
   {
    "duration": 9,
    "start_time": "2024-08-20T04:16:12.706Z"
   },
   {
    "duration": 10,
    "start_time": "2024-08-20T04:16:45.862Z"
   },
   {
    "duration": 14,
    "start_time": "2024-08-20T04:16:51.646Z"
   },
   {
    "duration": 7,
    "start_time": "2024-08-20T04:18:16.427Z"
   },
   {
    "duration": 12,
    "start_time": "2024-08-20T04:18:26.423Z"
   },
   {
    "duration": 8,
    "start_time": "2024-08-20T04:19:05.084Z"
   },
   {
    "duration": 12,
    "start_time": "2024-08-20T04:19:11.235Z"
   },
   {
    "duration": 23,
    "start_time": "2024-08-20T04:19:51.831Z"
   },
   {
    "duration": 33,
    "start_time": "2024-08-20T04:20:15.994Z"
   },
   {
    "duration": 696,
    "start_time": "2024-08-20T04:20:33.287Z"
   },
   {
    "duration": 37,
    "start_time": "2024-08-20T04:20:52.314Z"
   },
   {
    "duration": 8,
    "start_time": "2024-08-20T04:20:59.671Z"
   },
   {
    "duration": 14,
    "start_time": "2024-08-20T04:23:18.767Z"
   },
   {
    "duration": 34,
    "start_time": "2024-08-20T04:23:41.806Z"
   },
   {
    "duration": 219,
    "start_time": "2024-08-20T04:24:34.874Z"
   },
   {
    "duration": 411,
    "start_time": "2024-08-20T04:25:31.282Z"
   },
   {
    "duration": 9,
    "start_time": "2024-08-20T04:25:58.889Z"
   },
   {
    "duration": 12,
    "start_time": "2024-08-20T04:26:10.063Z"
   },
   {
    "duration": 200,
    "start_time": "2024-08-20T04:27:28.631Z"
   },
   {
    "duration": 12,
    "start_time": "2024-08-20T04:27:42.810Z"
   },
   {
    "duration": 14,
    "start_time": "2024-08-20T04:27:52.075Z"
   },
   {
    "duration": 216,
    "start_time": "2024-08-20T04:28:03.192Z"
   },
   {
    "duration": 7,
    "start_time": "2024-08-20T04:29:17.831Z"
   },
   {
    "duration": 14,
    "start_time": "2024-08-20T04:29:33.759Z"
   },
   {
    "duration": 8,
    "start_time": "2024-08-20T04:29:40.178Z"
   },
   {
    "duration": 205,
    "start_time": "2024-08-20T04:29:50.739Z"
   },
   {
    "duration": 7,
    "start_time": "2024-08-20T04:31:06.919Z"
   },
   {
    "duration": 83,
    "start_time": "2024-08-20T04:31:45.622Z"
   },
   {
    "duration": 12,
    "start_time": "2024-08-20T04:32:01.943Z"
   },
   {
    "duration": 7,
    "start_time": "2024-08-20T04:32:15.447Z"
   },
   {
    "duration": 214,
    "start_time": "2024-08-20T04:32:26.874Z"
   },
   {
    "duration": 81,
    "start_time": "2024-08-20T04:33:30.277Z"
   },
   {
    "duration": 79,
    "start_time": "2024-08-20T04:33:57.007Z"
   },
   {
    "duration": 7,
    "start_time": "2024-08-20T04:34:22.450Z"
   },
   {
    "duration": 11,
    "start_time": "2024-08-20T04:34:27.819Z"
   },
   {
    "duration": 7,
    "start_time": "2024-08-20T04:34:30.833Z"
   },
   {
    "duration": 214,
    "start_time": "2024-08-20T04:34:33.430Z"
   },
   {
    "duration": 266,
    "start_time": "2024-08-20T04:35:14.646Z"
   },
   {
    "duration": 227,
    "start_time": "2024-08-20T04:35:25.215Z"
   },
   {
    "duration": 21,
    "start_time": "2024-08-20T04:38:13.682Z"
   },
   {
    "duration": 6,
    "start_time": "2024-08-20T04:38:20.494Z"
   },
   {
    "duration": 6,
    "start_time": "2024-08-20T04:40:43.438Z"
   },
   {
    "duration": 111,
    "start_time": "2024-08-20T04:43:49.603Z"
   },
   {
    "duration": 194,
    "start_time": "2024-08-20T04:44:06.004Z"
   },
   {
    "duration": 25,
    "start_time": "2024-08-20T04:44:24.434Z"
   },
   {
    "duration": 493,
    "start_time": "2024-08-20T04:45:01.330Z"
   },
   {
    "duration": 22,
    "start_time": "2024-08-20T04:45:16.487Z"
   },
   {
    "duration": 10,
    "start_time": "2024-08-20T04:45:24.678Z"
   },
   {
    "duration": 507,
    "start_time": "2024-08-20T04:45:42.215Z"
   },
   {
    "duration": 663,
    "start_time": "2024-08-20T04:47:19.389Z"
   },
   {
    "duration": 112,
    "start_time": "2024-08-20T04:58:47.064Z"
   },
   {
    "duration": 96,
    "start_time": "2024-08-20T04:59:04.912Z"
   },
   {
    "duration": 5,
    "start_time": "2024-08-20T04:59:11.018Z"
   },
   {
    "duration": 8,
    "start_time": "2024-08-20T04:59:22.281Z"
   },
   {
    "duration": 3,
    "start_time": "2024-08-20T04:59:34.384Z"
   },
   {
    "duration": 10,
    "start_time": "2024-08-20T04:59:47.096Z"
   },
   {
    "duration": 124,
    "start_time": "2024-08-20T04:59:59.012Z"
   },
   {
    "duration": 92,
    "start_time": "2024-08-20T05:00:08.153Z"
   },
   {
    "duration": 17,
    "start_time": "2024-08-20T05:00:23.786Z"
   },
   {
    "duration": 17,
    "start_time": "2024-08-20T05:00:35.509Z"
   },
   {
    "duration": 10,
    "start_time": "2024-08-20T05:00:37.841Z"
   },
   {
    "duration": 141,
    "start_time": "2024-08-20T05:01:14.073Z"
   },
   {
    "duration": 174,
    "start_time": "2024-08-20T05:01:21.203Z"
   },
   {
    "duration": 7,
    "start_time": "2024-08-20T05:01:33.273Z"
   },
   {
    "duration": 16,
    "start_time": "2024-08-20T05:01:45.018Z"
   },
   {
    "duration": 5,
    "start_time": "2024-08-20T05:01:51.529Z"
   },
   {
    "duration": 5,
    "start_time": "2024-08-20T05:02:06.021Z"
   },
   {
    "duration": 13,
    "start_time": "2024-08-20T05:02:15.101Z"
   },
   {
    "duration": 35,
    "start_time": "2024-08-20T05:05:03.447Z"
   },
   {
    "duration": 1463,
    "start_time": "2024-08-20T05:06:19.850Z"
   },
   {
    "duration": 8,
    "start_time": "2024-08-20T05:06:33.329Z"
   },
   {
    "duration": 209,
    "start_time": "2024-08-20T05:06:45.448Z"
   },
   {
    "duration": 4,
    "start_time": "2024-08-20T05:07:05.490Z"
   },
   {
    "duration": 6,
    "start_time": "2024-08-20T05:07:13.489Z"
   },
   {
    "duration": 15,
    "start_time": "2024-08-20T05:07:22.744Z"
   },
   {
    "duration": 20,
    "start_time": "2024-08-20T05:07:42.342Z"
   },
   {
    "duration": 16,
    "start_time": "2024-08-20T05:07:55.265Z"
   },
   {
    "duration": 43189,
    "start_time": "2024-08-20T05:08:34.410Z"
   },
   {
    "duration": 20,
    "start_time": "2024-08-20T05:09:17.603Z"
   },
   {
    "duration": 7,
    "start_time": "2024-08-20T05:09:17.625Z"
   },
   {
    "duration": 4,
    "start_time": "2024-08-20T05:09:38.931Z"
   },
   {
    "duration": 9,
    "start_time": "2024-08-20T05:09:51.305Z"
   },
   {
    "duration": 476,
    "start_time": "2024-08-20T05:10:18.666Z"
   },
   {
    "duration": 285,
    "start_time": "2024-08-20T05:10:19.145Z"
   },
   {
    "duration": 81,
    "start_time": "2024-08-20T05:10:19.433Z"
   },
   {
    "duration": 20,
    "start_time": "2024-08-20T05:10:19.519Z"
   },
   {
    "duration": 20,
    "start_time": "2024-08-20T05:10:19.541Z"
   },
   {
    "duration": 1307,
    "start_time": "2024-08-20T05:10:19.564Z"
   },
   {
    "duration": 12,
    "start_time": "2024-08-20T05:10:20.875Z"
   },
   {
    "duration": 24,
    "start_time": "2024-08-20T05:10:20.890Z"
   },
   {
    "duration": 8,
    "start_time": "2024-08-20T05:10:20.917Z"
   },
   {
    "duration": 8,
    "start_time": "2024-08-20T05:10:20.933Z"
   },
   {
    "duration": 70,
    "start_time": "2024-08-20T05:10:20.944Z"
   },
   {
    "duration": 5,
    "start_time": "2024-08-20T05:10:21.016Z"
   },
   {
    "duration": 7,
    "start_time": "2024-08-20T05:10:21.025Z"
   },
   {
    "duration": 34,
    "start_time": "2024-08-20T05:10:21.035Z"
   },
   {
    "duration": 186,
    "start_time": "2024-08-20T05:10:21.072Z"
   },
   {
    "duration": 14,
    "start_time": "2024-08-20T05:10:21.261Z"
   },
   {
    "duration": 32,
    "start_time": "2024-08-20T05:10:21.278Z"
   },
   {
    "duration": 4,
    "start_time": "2024-08-20T05:10:21.314Z"
   },
   {
    "duration": 17,
    "start_time": "2024-08-20T05:10:21.320Z"
   },
   {
    "duration": 18,
    "start_time": "2024-08-20T05:10:21.340Z"
   },
   {
    "duration": 201,
    "start_time": "2024-08-20T05:10:21.362Z"
   },
   {
    "duration": 50,
    "start_time": "2024-08-20T05:10:21.565Z"
   },
   {
    "duration": 190,
    "start_time": "2024-08-20T05:10:21.618Z"
   },
   {
    "duration": 10,
    "start_time": "2024-08-20T05:10:21.811Z"
   },
   {
    "duration": 291,
    "start_time": "2024-08-20T05:10:21.825Z"
   },
   {
    "duration": 4,
    "start_time": "2024-08-20T05:10:22.119Z"
   },
   {
    "duration": 20,
    "start_time": "2024-08-20T05:10:22.126Z"
   },
   {
    "duration": 113,
    "start_time": "2024-08-20T05:10:22.156Z"
   },
   {
    "duration": 13,
    "start_time": "2024-08-20T05:10:22.272Z"
   },
   {
    "duration": 27,
    "start_time": "2024-08-20T05:10:22.289Z"
   },
   {
    "duration": 7,
    "start_time": "2024-08-20T05:10:22.319Z"
   },
   {
    "duration": 9,
    "start_time": "2024-08-20T05:10:22.329Z"
   },
   {
    "duration": 13,
    "start_time": "2024-08-20T05:10:22.341Z"
   },
   {
    "duration": 85,
    "start_time": "2024-08-20T05:10:22.357Z"
   },
   {
    "duration": 19,
    "start_time": "2024-08-20T05:10:22.446Z"
   },
   {
    "duration": 6,
    "start_time": "2024-08-20T05:10:22.468Z"
   },
   {
    "duration": 26,
    "start_time": "2024-08-20T05:10:22.510Z"
   },
   {
    "duration": 11,
    "start_time": "2024-08-20T05:10:22.539Z"
   },
   {
    "duration": 62,
    "start_time": "2024-08-20T05:10:22.552Z"
   },
   {
    "duration": 22,
    "start_time": "2024-08-20T05:10:22.617Z"
   },
   {
    "duration": 69,
    "start_time": "2024-08-20T05:10:22.642Z"
   },
   {
    "duration": 10,
    "start_time": "2024-08-20T05:10:22.714Z"
   },
   {
    "duration": 102,
    "start_time": "2024-08-20T05:10:22.728Z"
   },
   {
    "duration": 10,
    "start_time": "2024-08-20T05:10:22.833Z"
   },
   {
    "duration": 13,
    "start_time": "2024-08-20T05:10:22.846Z"
   },
   {
    "duration": 9,
    "start_time": "2024-08-20T05:10:22.862Z"
   },
   {
    "duration": 40,
    "start_time": "2024-08-20T05:10:22.873Z"
   },
   {
    "duration": 7,
    "start_time": "2024-08-20T05:10:22.917Z"
   },
   {
    "duration": 8,
    "start_time": "2024-08-20T05:10:22.930Z"
   },
   {
    "duration": 7,
    "start_time": "2024-08-20T05:10:22.941Z"
   },
   {
    "duration": 63,
    "start_time": "2024-08-20T05:10:22.952Z"
   },
   {
    "duration": 14,
    "start_time": "2024-08-20T05:10:23.018Z"
   },
   {
    "duration": 9,
    "start_time": "2024-08-20T05:10:23.035Z"
   },
   {
    "duration": 7,
    "start_time": "2024-08-20T05:10:23.047Z"
   },
   {
    "duration": 7,
    "start_time": "2024-08-20T05:10:23.058Z"
   },
   {
    "duration": 6,
    "start_time": "2024-08-20T05:10:23.110Z"
   },
   {
    "duration": 7,
    "start_time": "2024-08-20T05:10:23.120Z"
   },
   {
    "duration": 349,
    "start_time": "2024-08-20T05:10:23.130Z"
   },
   {
    "duration": 46,
    "start_time": "2024-08-20T05:10:23.484Z"
   },
   {
    "duration": 28,
    "start_time": "2024-08-20T05:10:23.533Z"
   },
   {
    "duration": 249,
    "start_time": "2024-08-20T05:10:23.564Z"
   },
   {
    "duration": 3557,
    "start_time": "2024-08-20T05:10:23.816Z"
   },
   {
    "duration": 21,
    "start_time": "2024-08-20T05:10:27.377Z"
   },
   {
    "duration": 7,
    "start_time": "2024-08-20T05:10:27.409Z"
   },
   {
    "duration": 1302,
    "start_time": "2024-08-20T05:10:27.419Z"
   },
   {
    "duration": 1116,
    "start_time": "2024-08-20T05:10:28.724Z"
   },
   {
    "duration": 228,
    "start_time": "2024-08-20T05:10:29.843Z"
   },
   {
    "duration": 39,
    "start_time": "2024-08-20T05:10:30.074Z"
   },
   {
    "duration": 5,
    "start_time": "2024-08-20T05:10:30.116Z"
   },
   {
    "duration": 11,
    "start_time": "2024-08-20T05:10:30.126Z"
   },
   {
    "duration": 5,
    "start_time": "2024-08-20T05:10:30.140Z"
   },
   {
    "duration": 60,
    "start_time": "2024-08-20T05:10:30.148Z"
   },
   {
    "duration": 6,
    "start_time": "2024-08-20T05:10:30.211Z"
   },
   {
    "duration": 10,
    "start_time": "2024-08-20T05:10:30.220Z"
   },
   {
    "duration": 5,
    "start_time": "2024-08-20T05:10:30.233Z"
   },
   {
    "duration": 5,
    "start_time": "2024-08-20T05:10:30.242Z"
   },
   {
    "duration": 68,
    "start_time": "2024-08-20T05:10:30.250Z"
   },
   {
    "duration": 9,
    "start_time": "2024-08-20T05:10:30.321Z"
   },
   {
    "duration": 25,
    "start_time": "2024-08-20T05:10:30.333Z"
   },
   {
    "duration": 339,
    "start_time": "2024-08-20T05:10:30.360Z"
   },
   {
    "duration": 28,
    "start_time": "2024-08-20T05:10:30.702Z"
   },
   {
    "duration": 17,
    "start_time": "2024-08-20T05:10:30.746Z"
   },
   {
    "duration": 42,
    "start_time": "2024-08-20T05:10:30.766Z"
   },
   {
    "duration": 7,
    "start_time": "2024-08-20T05:10:30.811Z"
   },
   {
    "duration": 7,
    "start_time": "2024-08-20T05:10:30.821Z"
   },
   {
    "duration": 269,
    "start_time": "2024-08-20T05:10:30.831Z"
   },
   {
    "duration": 7,
    "start_time": "2024-08-20T05:10:31.104Z"
   },
   {
    "duration": 8,
    "start_time": "2024-08-20T05:10:31.114Z"
   },
   {
    "duration": 7,
    "start_time": "2024-08-20T05:10:31.125Z"
   },
   {
    "duration": 4,
    "start_time": "2024-08-20T05:10:31.136Z"
   },
   {
    "duration": 752,
    "start_time": "2024-08-20T05:10:31.143Z"
   },
   {
    "duration": 42,
    "start_time": "2024-08-20T05:10:31.898Z"
   },
   {
    "duration": 9,
    "start_time": "2024-08-20T05:10:31.943Z"
   },
   {
    "duration": 6,
    "start_time": "2024-08-20T05:10:31.955Z"
   },
   {
    "duration": 4,
    "start_time": "2024-08-20T05:10:31.965Z"
   },
   {
    "duration": 238,
    "start_time": "2024-08-20T05:10:32.008Z"
   },
   {
    "duration": 12,
    "start_time": "2024-08-20T05:10:32.249Z"
   },
   {
    "duration": 457,
    "start_time": "2024-08-20T05:10:32.265Z"
   },
   {
    "duration": 346,
    "start_time": "2024-08-20T05:10:32.725Z"
   },
   {
    "duration": 370,
    "start_time": "2024-08-20T05:10:33.074Z"
   },
   {
    "duration": 4,
    "start_time": "2024-08-20T05:10:33.448Z"
   },
   {
    "duration": 16,
    "start_time": "2024-08-20T05:10:33.455Z"
   },
   {
    "duration": 455,
    "start_time": "2024-08-20T05:10:33.473Z"
   },
   {
    "duration": 84,
    "start_time": "2024-08-20T05:10:33.931Z"
   },
   {
    "duration": 381,
    "start_time": "2024-08-20T05:10:34.018Z"
   },
   {
    "duration": 14,
    "start_time": "2024-08-20T05:10:34.402Z"
   },
   {
    "duration": 13,
    "start_time": "2024-08-20T05:10:34.419Z"
   },
   {
    "duration": 15,
    "start_time": "2024-08-20T05:10:34.435Z"
   },
   {
    "duration": 75,
    "start_time": "2024-08-20T05:10:34.453Z"
   },
   {
    "duration": 8,
    "start_time": "2024-08-20T05:10:34.531Z"
   },
   {
    "duration": 8,
    "start_time": "2024-08-20T05:10:34.543Z"
   },
   {
    "duration": 155,
    "start_time": "2024-08-20T05:10:34.554Z"
   },
   {
    "duration": 216,
    "start_time": "2024-08-20T05:10:34.714Z"
   },
   {
    "duration": 26,
    "start_time": "2024-08-20T05:10:34.933Z"
   },
   {
    "duration": 540,
    "start_time": "2024-08-20T05:10:34.962Z"
   },
   {
    "duration": 24,
    "start_time": "2024-08-20T05:10:35.513Z"
   },
   {
    "duration": 697,
    "start_time": "2024-08-20T05:10:35.540Z"
   },
   {
    "duration": 136,
    "start_time": "2024-08-20T05:10:36.240Z"
   },
   {
    "duration": 113,
    "start_time": "2024-08-20T05:10:36.379Z"
   },
   {
    "duration": 21,
    "start_time": "2024-08-20T05:10:36.496Z"
   },
   {
    "duration": 16,
    "start_time": "2024-08-20T05:10:36.520Z"
   },
   {
    "duration": 10,
    "start_time": "2024-08-20T05:10:36.539Z"
   },
   {
    "duration": 206,
    "start_time": "2024-08-20T05:10:36.552Z"
   },
   {
    "duration": 227,
    "start_time": "2024-08-20T05:10:36.762Z"
   },
   {
    "duration": 19,
    "start_time": "2024-08-20T05:10:36.991Z"
   },
   {
    "duration": 19,
    "start_time": "2024-08-20T05:10:37.012Z"
   },
   {
    "duration": 5,
    "start_time": "2024-08-20T05:10:37.033Z"
   },
   {
    "duration": 6,
    "start_time": "2024-08-20T05:10:37.041Z"
   },
   {
    "duration": 19,
    "start_time": "2024-08-20T05:10:37.049Z"
   },
   {
    "duration": 1558,
    "start_time": "2024-08-20T05:10:37.071Z"
   },
   {
    "duration": 9,
    "start_time": "2024-08-20T05:10:38.632Z"
   },
   {
    "duration": 233,
    "start_time": "2024-08-20T05:10:38.644Z"
   },
   {
    "duration": 6,
    "start_time": "2024-08-20T05:10:38.880Z"
   },
   {
    "duration": 20,
    "start_time": "2024-08-20T05:10:38.889Z"
   },
   {
    "duration": 26,
    "start_time": "2024-08-20T05:10:38.913Z"
   },
   {
    "duration": 7,
    "start_time": "2024-08-20T05:11:22.839Z"
   },
   {
    "duration": 4,
    "start_time": "2024-08-20T05:11:22.849Z"
   },
   {
    "duration": 13,
    "start_time": "2024-08-20T05:12:06.734Z"
   },
   {
    "duration": 10,
    "start_time": "2024-08-20T05:12:06.751Z"
   },
   {
    "duration": 3889,
    "start_time": "2024-08-20T05:13:35.156Z"
   },
   {
    "duration": 279,
    "start_time": "2024-08-20T05:13:39.049Z"
   },
   {
    "duration": 15,
    "start_time": "2024-08-20T05:13:39.331Z"
   },
   {
    "duration": 5,
    "start_time": "2024-08-20T05:13:39.349Z"
   },
   {
    "duration": 10,
    "start_time": "2024-08-20T05:13:39.364Z"
   },
   {
    "duration": 488,
    "start_time": "2024-08-20T06:01:37.136Z"
   },
   {
    "duration": 264,
    "start_time": "2024-08-20T06:01:37.627Z"
   },
   {
    "duration": 102,
    "start_time": "2024-08-20T06:01:37.894Z"
   },
   {
    "duration": 19,
    "start_time": "2024-08-20T06:01:38.002Z"
   },
   {
    "duration": 21,
    "start_time": "2024-08-20T06:01:38.024Z"
   },
   {
    "duration": 1398,
    "start_time": "2024-08-20T06:01:38.048Z"
   },
   {
    "duration": 11,
    "start_time": "2024-08-20T06:01:39.449Z"
   },
   {
    "duration": 28,
    "start_time": "2024-08-20T06:01:39.463Z"
   },
   {
    "duration": 8,
    "start_time": "2024-08-20T06:01:39.495Z"
   },
   {
    "duration": 8,
    "start_time": "2024-08-20T06:01:39.510Z"
   },
   {
    "duration": 73,
    "start_time": "2024-08-20T06:01:39.521Z"
   },
   {
    "duration": 6,
    "start_time": "2024-08-20T06:01:39.597Z"
   },
   {
    "duration": 6,
    "start_time": "2024-08-20T06:01:39.606Z"
   },
   {
    "duration": 36,
    "start_time": "2024-08-20T06:01:39.615Z"
   },
   {
    "duration": 174,
    "start_time": "2024-08-20T06:01:39.653Z"
   },
   {
    "duration": 14,
    "start_time": "2024-08-20T06:01:39.830Z"
   },
   {
    "duration": 14,
    "start_time": "2024-08-20T06:01:39.847Z"
   },
   {
    "duration": 4,
    "start_time": "2024-08-20T06:01:39.892Z"
   },
   {
    "duration": 15,
    "start_time": "2024-08-20T06:01:39.900Z"
   },
   {
    "duration": 17,
    "start_time": "2024-08-20T06:01:39.918Z"
   },
   {
    "duration": 202,
    "start_time": "2024-08-20T06:01:39.938Z"
   },
   {
    "duration": 52,
    "start_time": "2024-08-20T06:01:40.143Z"
   },
   {
    "duration": 201,
    "start_time": "2024-08-20T06:01:40.198Z"
   },
   {
    "duration": 10,
    "start_time": "2024-08-20T06:01:40.402Z"
   },
   {
    "duration": 310,
    "start_time": "2024-08-20T06:01:40.415Z"
   },
   {
    "duration": 4,
    "start_time": "2024-08-20T06:01:40.728Z"
   },
   {
    "duration": 21,
    "start_time": "2024-08-20T06:01:40.735Z"
   },
   {
    "duration": 83,
    "start_time": "2024-08-20T06:01:40.794Z"
   },
   {
    "duration": 13,
    "start_time": "2024-08-20T06:01:40.891Z"
   },
   {
    "duration": 12,
    "start_time": "2024-08-20T06:01:40.907Z"
   },
   {
    "duration": 7,
    "start_time": "2024-08-20T06:01:40.922Z"
   },
   {
    "duration": 11,
    "start_time": "2024-08-20T06:01:40.932Z"
   },
   {
    "duration": 53,
    "start_time": "2024-08-20T06:01:40.947Z"
   },
   {
    "duration": 43,
    "start_time": "2024-08-20T06:01:41.002Z"
   },
   {
    "duration": 54,
    "start_time": "2024-08-20T06:01:41.048Z"
   },
   {
    "duration": 7,
    "start_time": "2024-08-20T06:01:41.105Z"
   },
   {
    "duration": 24,
    "start_time": "2024-08-20T06:01:41.115Z"
   },
   {
    "duration": 11,
    "start_time": "2024-08-20T06:01:41.142Z"
   },
   {
    "duration": 33,
    "start_time": "2024-08-20T06:01:41.189Z"
   },
   {
    "duration": 21,
    "start_time": "2024-08-20T06:01:41.225Z"
   },
   {
    "duration": 69,
    "start_time": "2024-08-20T06:01:41.249Z"
   },
   {
    "duration": 12,
    "start_time": "2024-08-20T06:01:41.321Z"
   },
   {
    "duration": 115,
    "start_time": "2024-08-20T06:01:41.336Z"
   },
   {
    "duration": 10,
    "start_time": "2024-08-20T06:01:41.454Z"
   },
   {
    "duration": 29,
    "start_time": "2024-08-20T06:01:41.468Z"
   },
   {
    "duration": 9,
    "start_time": "2024-08-20T06:01:41.500Z"
   },
   {
    "duration": 10,
    "start_time": "2024-08-20T06:01:41.511Z"
   },
   {
    "duration": 7,
    "start_time": "2024-08-20T06:01:41.524Z"
   },
   {
    "duration": 7,
    "start_time": "2024-08-20T06:01:41.533Z"
   },
   {
    "duration": 51,
    "start_time": "2024-08-20T06:01:41.543Z"
   },
   {
    "duration": 10,
    "start_time": "2024-08-20T06:01:41.597Z"
   },
   {
    "duration": 14,
    "start_time": "2024-08-20T06:01:41.610Z"
   },
   {
    "duration": 10,
    "start_time": "2024-08-20T06:01:41.627Z"
   },
   {
    "duration": 52,
    "start_time": "2024-08-20T06:01:41.640Z"
   },
   {
    "duration": 7,
    "start_time": "2024-08-20T06:01:41.695Z"
   },
   {
    "duration": 7,
    "start_time": "2024-08-20T06:01:41.706Z"
   },
   {
    "duration": 7,
    "start_time": "2024-08-20T06:01:41.716Z"
   },
   {
    "duration": 352,
    "start_time": "2024-08-20T06:01:41.726Z"
   },
   {
    "duration": 40,
    "start_time": "2024-08-20T06:01:42.081Z"
   },
   {
    "duration": 29,
    "start_time": "2024-08-20T06:01:42.123Z"
   },
   {
    "duration": 275,
    "start_time": "2024-08-20T06:01:42.155Z"
   },
   {
    "duration": 3692,
    "start_time": "2024-08-20T06:01:42.434Z"
   },
   {
    "duration": 10,
    "start_time": "2024-08-20T06:01:46.130Z"
   },
   {
    "duration": 7,
    "start_time": "2024-08-20T06:01:46.144Z"
   },
   {
    "duration": 1314,
    "start_time": "2024-08-20T06:01:46.155Z"
   },
   {
    "duration": 1110,
    "start_time": "2024-08-20T06:01:47.472Z"
   },
   {
    "duration": 219,
    "start_time": "2024-08-20T06:01:48.590Z"
   },
   {
    "duration": 22,
    "start_time": "2024-08-20T06:01:48.812Z"
   },
   {
    "duration": 5,
    "start_time": "2024-08-20T06:01:48.837Z"
   },
   {
    "duration": 48,
    "start_time": "2024-08-20T06:01:48.846Z"
   },
   {
    "duration": 6,
    "start_time": "2024-08-20T06:01:48.897Z"
   },
   {
    "duration": 10,
    "start_time": "2024-08-20T06:01:48.906Z"
   },
   {
    "duration": 6,
    "start_time": "2024-08-20T06:01:48.920Z"
   },
   {
    "duration": 61,
    "start_time": "2024-08-20T06:01:48.929Z"
   },
   {
    "duration": 5,
    "start_time": "2024-08-20T06:01:48.994Z"
   },
   {
    "duration": 4,
    "start_time": "2024-08-20T06:01:49.002Z"
   },
   {
    "duration": 17,
    "start_time": "2024-08-20T06:01:49.009Z"
   },
   {
    "duration": 8,
    "start_time": "2024-08-20T06:01:49.028Z"
   },
   {
    "duration": 73,
    "start_time": "2024-08-20T06:01:49.040Z"
   },
   {
    "duration": 324,
    "start_time": "2024-08-20T06:01:49.116Z"
   },
   {
    "duration": 24,
    "start_time": "2024-08-20T06:01:49.443Z"
   },
   {
    "duration": 17,
    "start_time": "2024-08-20T06:01:49.500Z"
   },
   {
    "duration": 10,
    "start_time": "2024-08-20T06:01:49.520Z"
   },
   {
    "duration": 6,
    "start_time": "2024-08-20T06:01:49.533Z"
   },
   {
    "duration": 8,
    "start_time": "2024-08-20T06:01:49.542Z"
   },
   {
    "duration": 208,
    "start_time": "2024-08-20T06:01:49.592Z"
   },
   {
    "duration": 8,
    "start_time": "2024-08-20T06:01:49.802Z"
   },
   {
    "duration": 7,
    "start_time": "2024-08-20T06:01:49.813Z"
   },
   {
    "duration": 7,
    "start_time": "2024-08-20T06:01:49.823Z"
   },
   {
    "duration": 5,
    "start_time": "2024-08-20T06:01:49.833Z"
   },
   {
    "duration": 738,
    "start_time": "2024-08-20T06:01:49.842Z"
   },
   {
    "duration": 35,
    "start_time": "2024-08-20T06:01:50.584Z"
   },
   {
    "duration": 9,
    "start_time": "2024-08-20T06:01:50.622Z"
   },
   {
    "duration": 8,
    "start_time": "2024-08-20T06:01:50.634Z"
   },
   {
    "duration": 4,
    "start_time": "2024-08-20T06:01:50.645Z"
   },
   {
    "duration": 3911,
    "start_time": "2024-08-20T06:01:50.692Z"
   },
   {
    "duration": 12,
    "start_time": "2024-08-20T06:01:54.606Z"
   },
   {
    "duration": 445,
    "start_time": "2024-08-20T06:01:54.621Z"
   },
   {
    "duration": 345,
    "start_time": "2024-08-20T06:01:55.069Z"
   },
   {
    "duration": 361,
    "start_time": "2024-08-20T06:01:55.419Z"
   },
   {
    "duration": 8,
    "start_time": "2024-08-20T06:01:55.783Z"
   },
   {
    "duration": 16,
    "start_time": "2024-08-20T06:01:55.794Z"
   },
   {
    "duration": 501,
    "start_time": "2024-08-20T06:01:55.813Z"
   },
   {
    "duration": 83,
    "start_time": "2024-08-20T06:01:56.317Z"
   },
   {
    "duration": 380,
    "start_time": "2024-08-20T06:01:56.403Z"
   },
   {
    "duration": 8,
    "start_time": "2024-08-20T06:01:56.786Z"
   },
   {
    "duration": 13,
    "start_time": "2024-08-20T06:01:56.797Z"
   },
   {
    "duration": 13,
    "start_time": "2024-08-20T06:01:56.813Z"
   },
   {
    "duration": 83,
    "start_time": "2024-08-20T06:01:56.829Z"
   },
   {
    "duration": 8,
    "start_time": "2024-08-20T06:01:56.915Z"
   },
   {
    "duration": 6,
    "start_time": "2024-08-20T06:01:56.927Z"
   },
   {
    "duration": 148,
    "start_time": "2024-08-20T06:01:56.936Z"
   },
   {
    "duration": 195,
    "start_time": "2024-08-20T06:01:57.086Z"
   },
   {
    "duration": 31,
    "start_time": "2024-08-20T06:01:57.283Z"
   },
   {
    "duration": 527,
    "start_time": "2024-08-20T06:01:57.317Z"
   },
   {
    "duration": 22,
    "start_time": "2024-08-20T06:01:57.847Z"
   },
   {
    "duration": 711,
    "start_time": "2024-08-20T06:01:57.891Z"
   },
   {
    "duration": 133,
    "start_time": "2024-08-20T06:01:58.605Z"
   },
   {
    "duration": 125,
    "start_time": "2024-08-20T06:01:58.741Z"
   },
   {
    "duration": 27,
    "start_time": "2024-08-20T06:01:58.869Z"
   },
   {
    "duration": 17,
    "start_time": "2024-08-20T06:01:58.899Z"
   },
   {
    "duration": 11,
    "start_time": "2024-08-20T06:01:58.919Z"
   },
   {
    "duration": 209,
    "start_time": "2024-08-20T06:01:58.933Z"
   },
   {
    "duration": 215,
    "start_time": "2024-08-20T06:01:59.146Z"
   },
   {
    "duration": 8,
    "start_time": "2024-08-20T06:01:59.363Z"
   },
   {
    "duration": 28,
    "start_time": "2024-08-20T06:01:59.374Z"
   },
   {
    "duration": 5,
    "start_time": "2024-08-20T06:01:59.405Z"
   },
   {
    "duration": 6,
    "start_time": "2024-08-20T06:01:59.413Z"
   },
   {
    "duration": 17,
    "start_time": "2024-08-20T06:01:59.423Z"
   },
   {
    "duration": 1575,
    "start_time": "2024-08-20T06:01:59.443Z"
   },
   {
    "duration": 10,
    "start_time": "2024-08-20T06:02:01.020Z"
   },
   {
    "duration": 230,
    "start_time": "2024-08-20T06:02:01.033Z"
   },
   {
    "duration": 4,
    "start_time": "2024-08-20T06:02:01.266Z"
   },
   {
    "duration": 18,
    "start_time": "2024-08-20T06:02:01.274Z"
   },
   {
    "duration": 23,
    "start_time": "2024-08-20T06:02:01.295Z"
   },
   {
    "duration": 3912,
    "start_time": "2024-08-20T06:02:01.320Z"
   },
   {
    "duration": 249,
    "start_time": "2024-08-20T06:02:05.235Z"
   },
   {
    "duration": 14,
    "start_time": "2024-08-20T06:02:05.489Z"
   },
   {
    "duration": 6,
    "start_time": "2024-08-20T06:02:05.506Z"
   },
   {
    "duration": 10,
    "start_time": "2024-08-20T06:02:05.515Z"
   },
   {
    "duration": 201,
    "start_time": "2024-08-20T06:03:30.429Z"
   },
   {
    "duration": 312,
    "start_time": "2024-08-21T05:03:46.868Z"
   },
   {
    "duration": 467,
    "start_time": "2024-08-21T05:04:20.299Z"
   },
   {
    "duration": 282,
    "start_time": "2024-08-21T05:04:20.771Z"
   },
   {
    "duration": 99,
    "start_time": "2024-08-21T05:04:21.057Z"
   },
   {
    "duration": 19,
    "start_time": "2024-08-21T05:04:21.160Z"
   },
   {
    "duration": 18,
    "start_time": "2024-08-21T05:04:21.182Z"
   },
   {
    "duration": 1360,
    "start_time": "2024-08-21T05:04:21.205Z"
   },
   {
    "duration": 11,
    "start_time": "2024-08-21T05:04:22.568Z"
   },
   {
    "duration": 10,
    "start_time": "2024-08-21T05:04:22.582Z"
   },
   {
    "duration": 40,
    "start_time": "2024-08-21T05:04:22.595Z"
   },
   {
    "duration": 8,
    "start_time": "2024-08-21T05:04:22.642Z"
   },
   {
    "duration": 30,
    "start_time": "2024-08-21T05:04:22.653Z"
   },
   {
    "duration": 6,
    "start_time": "2024-08-21T05:04:22.685Z"
   },
   {
    "duration": 7,
    "start_time": "2024-08-21T05:04:22.733Z"
   },
   {
    "duration": 33,
    "start_time": "2024-08-21T05:04:22.743Z"
   },
   {
    "duration": 165,
    "start_time": "2024-08-21T05:04:22.779Z"
   },
   {
    "duration": 13,
    "start_time": "2024-08-21T05:04:22.947Z"
   },
   {
    "duration": 13,
    "start_time": "2024-08-21T05:04:22.963Z"
   },
   {
    "duration": 3,
    "start_time": "2024-08-21T05:04:22.979Z"
   },
   {
    "duration": 49,
    "start_time": "2024-08-21T05:04:22.986Z"
   },
   {
    "duration": 16,
    "start_time": "2024-08-21T05:04:23.038Z"
   },
   {
    "duration": 184,
    "start_time": "2024-08-21T05:04:23.058Z"
   },
   {
    "duration": 42,
    "start_time": "2024-08-21T05:04:23.245Z"
   },
   {
    "duration": 210,
    "start_time": "2024-08-21T05:04:23.290Z"
   },
   {
    "duration": 9,
    "start_time": "2024-08-21T05:04:23.503Z"
   },
   {
    "duration": 300,
    "start_time": "2024-08-21T05:04:23.515Z"
   },
   {
    "duration": 4,
    "start_time": "2024-08-21T05:04:23.818Z"
   },
   {
    "duration": 28,
    "start_time": "2024-08-21T05:04:23.824Z"
   },
   {
    "duration": 116,
    "start_time": "2024-08-21T05:04:23.863Z"
   },
   {
    "duration": 15,
    "start_time": "2024-08-21T05:04:23.981Z"
   },
   {
    "duration": 36,
    "start_time": "2024-08-21T05:04:23.999Z"
   },
   {
    "duration": 8,
    "start_time": "2024-08-21T05:04:24.038Z"
   },
   {
    "duration": 20,
    "start_time": "2024-08-21T05:04:24.054Z"
   },
   {
    "duration": 14,
    "start_time": "2024-08-21T05:04:24.077Z"
   },
   {
    "duration": 62,
    "start_time": "2024-08-21T05:04:24.095Z"
   },
   {
    "duration": 18,
    "start_time": "2024-08-21T05:04:24.159Z"
   },
   {
    "duration": 7,
    "start_time": "2024-08-21T05:04:24.180Z"
   },
   {
    "duration": 59,
    "start_time": "2024-08-21T05:04:24.190Z"
   },
   {
    "duration": 9,
    "start_time": "2024-08-21T05:04:24.253Z"
   },
   {
    "duration": 32,
    "start_time": "2024-08-21T05:04:24.265Z"
   },
   {
    "duration": 52,
    "start_time": "2024-08-21T05:04:24.300Z"
   },
   {
    "duration": 42,
    "start_time": "2024-08-21T05:04:24.355Z"
   },
   {
    "duration": 38,
    "start_time": "2024-08-21T05:04:24.400Z"
   },
   {
    "duration": 76,
    "start_time": "2024-08-21T05:04:24.442Z"
   },
   {
    "duration": 10,
    "start_time": "2024-08-21T05:04:24.535Z"
   },
   {
    "duration": 14,
    "start_time": "2024-08-21T05:04:24.548Z"
   },
   {
    "duration": 8,
    "start_time": "2024-08-21T05:04:24.565Z"
   },
   {
    "duration": 8,
    "start_time": "2024-08-21T05:04:24.576Z"
   },
   {
    "duration": 7,
    "start_time": "2024-08-21T05:04:24.633Z"
   },
   {
    "duration": 6,
    "start_time": "2024-08-21T05:04:24.643Z"
   },
   {
    "duration": 8,
    "start_time": "2024-08-21T05:04:24.652Z"
   },
   {
    "duration": 11,
    "start_time": "2024-08-21T05:04:24.663Z"
   },
   {
    "duration": 58,
    "start_time": "2024-08-21T05:04:24.677Z"
   },
   {
    "duration": 8,
    "start_time": "2024-08-21T05:04:24.738Z"
   },
   {
    "duration": 7,
    "start_time": "2024-08-21T05:04:24.749Z"
   },
   {
    "duration": 6,
    "start_time": "2024-08-21T05:04:24.759Z"
   },
   {
    "duration": 7,
    "start_time": "2024-08-21T05:04:24.769Z"
   },
   {
    "duration": 56,
    "start_time": "2024-08-21T05:04:24.778Z"
   },
   {
    "duration": 314,
    "start_time": "2024-08-21T05:04:24.838Z"
   },
   {
    "duration": 37,
    "start_time": "2024-08-21T05:04:25.155Z"
   },
   {
    "duration": 52,
    "start_time": "2024-08-21T05:04:25.195Z"
   },
   {
    "duration": 244,
    "start_time": "2024-08-21T05:04:25.249Z"
   },
   {
    "duration": 3566,
    "start_time": "2024-08-21T05:04:25.496Z"
   },
   {
    "duration": 11,
    "start_time": "2024-08-21T05:04:29.065Z"
   },
   {
    "duration": 7,
    "start_time": "2024-08-21T05:04:29.079Z"
   },
   {
    "duration": 1382,
    "start_time": "2024-08-21T05:04:29.089Z"
   },
   {
    "duration": 1165,
    "start_time": "2024-08-21T05:04:30.476Z"
   },
   {
    "duration": 223,
    "start_time": "2024-08-21T05:04:31.644Z"
   },
   {
    "duration": 21,
    "start_time": "2024-08-21T05:04:31.871Z"
   },
   {
    "duration": 37,
    "start_time": "2024-08-21T05:04:31.897Z"
   },
   {
    "duration": 9,
    "start_time": "2024-08-21T05:04:31.937Z"
   },
   {
    "duration": 6,
    "start_time": "2024-08-21T05:04:31.949Z"
   },
   {
    "duration": 10,
    "start_time": "2024-08-21T05:04:31.958Z"
   },
   {
    "duration": 6,
    "start_time": "2024-08-21T05:04:31.971Z"
   },
   {
    "duration": 58,
    "start_time": "2024-08-21T05:04:31.980Z"
   },
   {
    "duration": 6,
    "start_time": "2024-08-21T05:04:32.041Z"
   },
   {
    "duration": 8,
    "start_time": "2024-08-21T05:04:32.050Z"
   },
   {
    "duration": 15,
    "start_time": "2024-08-21T05:04:32.061Z"
   },
   {
    "duration": 8,
    "start_time": "2024-08-21T05:04:32.079Z"
   },
   {
    "duration": 66,
    "start_time": "2024-08-21T05:04:32.090Z"
   },
   {
    "duration": 318,
    "start_time": "2024-08-21T05:04:32.159Z"
   },
   {
    "duration": 20,
    "start_time": "2024-08-21T05:04:32.480Z"
   },
   {
    "duration": 18,
    "start_time": "2024-08-21T05:04:32.533Z"
   },
   {
    "duration": 9,
    "start_time": "2024-08-21T05:04:32.554Z"
   },
   {
    "duration": 6,
    "start_time": "2024-08-21T05:04:32.566Z"
   },
   {
    "duration": 7,
    "start_time": "2024-08-21T05:04:32.575Z"
   },
   {
    "duration": 239,
    "start_time": "2024-08-21T05:04:32.585Z"
   },
   {
    "duration": 12,
    "start_time": "2024-08-21T05:04:32.827Z"
   },
   {
    "duration": 7,
    "start_time": "2024-08-21T05:04:32.842Z"
   },
   {
    "duration": 6,
    "start_time": "2024-08-21T05:04:32.852Z"
   },
   {
    "duration": 5,
    "start_time": "2024-08-21T05:04:32.861Z"
   },
   {
    "duration": 739,
    "start_time": "2024-08-21T05:04:32.869Z"
   },
   {
    "duration": 42,
    "start_time": "2024-08-21T05:04:33.611Z"
   },
   {
    "duration": 9,
    "start_time": "2024-08-21T05:04:33.656Z"
   },
   {
    "duration": 8,
    "start_time": "2024-08-21T05:04:33.668Z"
   },
   {
    "duration": 4,
    "start_time": "2024-08-21T05:04:33.679Z"
   },
   {
    "duration": 3848,
    "start_time": "2024-08-21T05:04:33.686Z"
   },
   {
    "duration": 11,
    "start_time": "2024-08-21T05:04:37.538Z"
   },
   {
    "duration": 423,
    "start_time": "2024-08-21T05:04:37.552Z"
   },
   {
    "duration": 334,
    "start_time": "2024-08-21T05:04:37.978Z"
   },
   {
    "duration": 367,
    "start_time": "2024-08-21T05:04:38.315Z"
   },
   {
    "duration": 4,
    "start_time": "2024-08-21T05:04:38.684Z"
   },
   {
    "duration": 16,
    "start_time": "2024-08-21T05:04:38.691Z"
   },
   {
    "duration": 496,
    "start_time": "2024-08-21T05:04:38.710Z"
   },
   {
    "duration": 77,
    "start_time": "2024-08-21T05:04:39.209Z"
   },
   {
    "duration": 404,
    "start_time": "2024-08-21T05:04:39.289Z"
   },
   {
    "duration": 9,
    "start_time": "2024-08-21T05:04:39.697Z"
   },
   {
    "duration": 29,
    "start_time": "2024-08-21T05:04:39.711Z"
   },
   {
    "duration": 14,
    "start_time": "2024-08-21T05:04:39.742Z"
   },
   {
    "duration": 34,
    "start_time": "2024-08-21T05:04:39.760Z"
   },
   {
    "duration": 9,
    "start_time": "2024-08-21T05:04:39.796Z"
   },
   {
    "duration": 6,
    "start_time": "2024-08-21T05:04:39.836Z"
   },
   {
    "duration": 133,
    "start_time": "2024-08-21T05:04:39.845Z"
   },
   {
    "duration": 189,
    "start_time": "2024-08-21T05:04:39.981Z"
   },
   {
    "duration": 26,
    "start_time": "2024-08-21T05:04:40.173Z"
   },
   {
    "duration": 532,
    "start_time": "2024-08-21T05:04:40.202Z"
   },
   {
    "duration": 23,
    "start_time": "2024-08-21T05:04:40.738Z"
   },
   {
    "duration": 708,
    "start_time": "2024-08-21T05:04:40.765Z"
   },
   {
    "duration": 136,
    "start_time": "2024-08-21T05:04:41.475Z"
   },
   {
    "duration": 115,
    "start_time": "2024-08-21T05:04:41.614Z"
   },
   {
    "duration": 15,
    "start_time": "2024-08-21T05:04:41.735Z"
   },
   {
    "duration": 16,
    "start_time": "2024-08-21T05:04:41.754Z"
   },
   {
    "duration": 10,
    "start_time": "2024-08-21T05:04:41.772Z"
   },
   {
    "duration": 213,
    "start_time": "2024-08-21T05:04:41.787Z"
   },
   {
    "duration": 222,
    "start_time": "2024-08-21T05:04:42.002Z"
   },
   {
    "duration": 11,
    "start_time": "2024-08-21T05:04:42.227Z"
   },
   {
    "duration": 16,
    "start_time": "2024-08-21T05:04:42.242Z"
   },
   {
    "duration": 5,
    "start_time": "2024-08-21T05:04:42.260Z"
   },
   {
    "duration": 7,
    "start_time": "2024-08-21T05:04:42.268Z"
   },
   {
    "duration": 61,
    "start_time": "2024-08-21T05:04:42.278Z"
   },
   {
    "duration": 1508,
    "start_time": "2024-08-21T05:04:42.342Z"
   },
   {
    "duration": 9,
    "start_time": "2024-08-21T05:04:43.853Z"
   },
   {
    "duration": 228,
    "start_time": "2024-08-21T05:04:43.865Z"
   },
   {
    "duration": 5,
    "start_time": "2024-08-21T05:04:44.096Z"
   },
   {
    "duration": 5,
    "start_time": "2024-08-21T05:04:44.104Z"
   },
   {
    "duration": 22,
    "start_time": "2024-08-21T05:04:44.134Z"
   },
   {
    "duration": 3854,
    "start_time": "2024-08-21T05:04:44.158Z"
   },
   {
    "duration": 238,
    "start_time": "2024-08-21T05:04:48.014Z"
   },
   {
    "duration": 14,
    "start_time": "2024-08-21T05:04:48.254Z"
   },
   {
    "duration": 6,
    "start_time": "2024-08-21T05:04:48.271Z"
   },
   {
    "duration": 11,
    "start_time": "2024-08-21T05:04:48.280Z"
   },
   {
    "duration": 9,
    "start_time": "2024-08-21T05:10:37.571Z"
   },
   {
    "duration": 9,
    "start_time": "2024-08-21T05:10:48.018Z"
   },
   {
    "duration": 7,
    "start_time": "2024-08-21T05:10:50.272Z"
   },
   {
    "duration": 3255,
    "start_time": "2024-08-21T05:14:40.247Z"
   },
   {
    "duration": 10,
    "start_time": "2024-08-21T05:19:11.631Z"
   },
   {
    "duration": 513,
    "start_time": "2024-08-21T07:56:34.527Z"
   },
   {
    "duration": 268,
    "start_time": "2024-08-21T07:56:35.043Z"
   },
   {
    "duration": 102,
    "start_time": "2024-08-21T07:56:35.313Z"
   },
   {
    "duration": 20,
    "start_time": "2024-08-21T07:56:35.420Z"
   },
   {
    "duration": 19,
    "start_time": "2024-08-21T07:56:35.443Z"
   },
   {
    "duration": 1424,
    "start_time": "2024-08-21T07:56:35.465Z"
   },
   {
    "duration": 20,
    "start_time": "2024-08-21T07:56:36.892Z"
   },
   {
    "duration": 10,
    "start_time": "2024-08-21T07:56:36.915Z"
   },
   {
    "duration": 7,
    "start_time": "2024-08-21T07:56:36.928Z"
   },
   {
    "duration": 7,
    "start_time": "2024-08-21T07:56:36.942Z"
   },
   {
    "duration": 70,
    "start_time": "2024-08-21T07:56:36.952Z"
   },
   {
    "duration": 5,
    "start_time": "2024-08-21T07:56:37.026Z"
   },
   {
    "duration": 7,
    "start_time": "2024-08-21T07:56:37.034Z"
   },
   {
    "duration": 73,
    "start_time": "2024-08-21T07:56:37.044Z"
   },
   {
    "duration": 143,
    "start_time": "2024-08-21T07:56:37.120Z"
   },
   {
    "duration": 13,
    "start_time": "2024-08-21T07:56:37.266Z"
   },
   {
    "duration": 29,
    "start_time": "2024-08-21T07:56:37.282Z"
   },
   {
    "duration": 4,
    "start_time": "2024-08-21T07:56:37.314Z"
   },
   {
    "duration": 12,
    "start_time": "2024-08-21T07:56:37.322Z"
   },
   {
    "duration": 16,
    "start_time": "2024-08-21T07:56:37.337Z"
   },
   {
    "duration": 169,
    "start_time": "2024-08-21T07:56:37.403Z"
   },
   {
    "duration": 54,
    "start_time": "2024-08-21T07:56:37.575Z"
   },
   {
    "duration": 195,
    "start_time": "2024-08-21T07:56:37.633Z"
   },
   {
    "duration": 9,
    "start_time": "2024-08-21T07:56:37.831Z"
   },
   {
    "duration": 313,
    "start_time": "2024-08-21T07:56:37.843Z"
   },
   {
    "duration": 4,
    "start_time": "2024-08-21T07:56:38.159Z"
   },
   {
    "duration": 44,
    "start_time": "2024-08-21T07:56:38.166Z"
   },
   {
    "duration": 97,
    "start_time": "2024-08-21T07:56:38.224Z"
   },
   {
    "duration": 13,
    "start_time": "2024-08-21T07:56:38.324Z"
   },
   {
    "duration": 11,
    "start_time": "2024-08-21T07:56:38.340Z"
   },
   {
    "duration": 7,
    "start_time": "2024-08-21T07:56:38.354Z"
   },
   {
    "duration": 47,
    "start_time": "2024-08-21T07:56:38.364Z"
   },
   {
    "duration": 13,
    "start_time": "2024-08-21T07:56:38.414Z"
   },
   {
    "duration": 82,
    "start_time": "2024-08-21T07:56:38.430Z"
   },
   {
    "duration": 20,
    "start_time": "2024-08-21T07:56:38.515Z"
   },
   {
    "duration": 8,
    "start_time": "2024-08-21T07:56:38.538Z"
   },
   {
    "duration": 67,
    "start_time": "2024-08-21T07:56:38.550Z"
   },
   {
    "duration": 11,
    "start_time": "2024-08-21T07:56:38.620Z"
   },
   {
    "duration": 34,
    "start_time": "2024-08-21T07:56:38.634Z"
   },
   {
    "duration": 22,
    "start_time": "2024-08-21T07:56:38.703Z"
   },
   {
    "duration": 44,
    "start_time": "2024-08-21T07:56:38.728Z"
   },
   {
    "duration": 10,
    "start_time": "2024-08-21T07:56:38.803Z"
   },
   {
    "duration": 115,
    "start_time": "2024-08-21T07:56:38.816Z"
   },
   {
    "duration": 11,
    "start_time": "2024-08-21T07:56:38.934Z"
   },
   {
    "duration": 13,
    "start_time": "2024-08-21T07:56:38.949Z"
   },
   {
    "duration": 46,
    "start_time": "2024-08-21T07:56:38.965Z"
   },
   {
    "duration": 7,
    "start_time": "2024-08-21T07:56:39.014Z"
   },
   {
    "duration": 7,
    "start_time": "2024-08-21T07:56:39.025Z"
   },
   {
    "duration": 6,
    "start_time": "2024-08-21T07:56:39.035Z"
   },
   {
    "duration": 6,
    "start_time": "2024-08-21T07:56:39.045Z"
   },
   {
    "duration": 11,
    "start_time": "2024-08-21T07:56:39.103Z"
   },
   {
    "duration": 14,
    "start_time": "2024-08-21T07:56:39.116Z"
   },
   {
    "duration": 9,
    "start_time": "2024-08-21T07:56:39.133Z"
   },
   {
    "duration": 7,
    "start_time": "2024-08-21T07:56:39.145Z"
   },
   {
    "duration": 9,
    "start_time": "2024-08-21T07:56:39.203Z"
   },
   {
    "duration": 9,
    "start_time": "2024-08-21T07:56:39.215Z"
   },
   {
    "duration": 8,
    "start_time": "2024-08-21T07:56:39.228Z"
   },
   {
    "duration": 344,
    "start_time": "2024-08-21T07:56:39.239Z"
   },
   {
    "duration": 47,
    "start_time": "2024-08-21T07:56:39.586Z"
   },
   {
    "duration": 28,
    "start_time": "2024-08-21T07:56:39.635Z"
   },
   {
    "duration": 264,
    "start_time": "2024-08-21T07:56:39.666Z"
   },
   {
    "duration": 3683,
    "start_time": "2024-08-21T07:56:39.933Z"
   },
   {
    "duration": 12,
    "start_time": "2024-08-21T07:56:43.619Z"
   },
   {
    "duration": 7,
    "start_time": "2024-08-21T07:56:43.634Z"
   },
   {
    "duration": 1351,
    "start_time": "2024-08-21T07:56:43.645Z"
   },
   {
    "duration": 1170,
    "start_time": "2024-08-21T07:56:45.002Z"
   },
   {
    "duration": 229,
    "start_time": "2024-08-21T07:56:46.175Z"
   },
   {
    "duration": 23,
    "start_time": "2024-08-21T07:56:46.408Z"
   },
   {
    "duration": 6,
    "start_time": "2024-08-21T07:56:46.434Z"
   },
   {
    "duration": 9,
    "start_time": "2024-08-21T07:56:46.444Z"
   },
   {
    "duration": 50,
    "start_time": "2024-08-21T07:56:46.456Z"
   },
   {
    "duration": 10,
    "start_time": "2024-08-21T07:56:46.510Z"
   },
   {
    "duration": 6,
    "start_time": "2024-08-21T07:56:46.522Z"
   },
   {
    "duration": 10,
    "start_time": "2024-08-21T07:56:46.532Z"
   },
   {
    "duration": 56,
    "start_time": "2024-08-21T07:56:46.545Z"
   },
   {
    "duration": 4,
    "start_time": "2024-08-21T07:56:46.604Z"
   },
   {
    "duration": 18,
    "start_time": "2024-08-21T07:56:46.611Z"
   },
   {
    "duration": 9,
    "start_time": "2024-08-21T07:56:46.632Z"
   },
   {
    "duration": 69,
    "start_time": "2024-08-21T07:56:46.645Z"
   },
   {
    "duration": 316,
    "start_time": "2024-08-21T07:56:46.717Z"
   },
   {
    "duration": 20,
    "start_time": "2024-08-21T07:56:47.036Z"
   },
   {
    "duration": 32,
    "start_time": "2024-08-21T07:56:47.073Z"
   },
   {
    "duration": 11,
    "start_time": "2024-08-21T07:56:47.108Z"
   },
   {
    "duration": 7,
    "start_time": "2024-08-21T07:56:47.122Z"
   },
   {
    "duration": 7,
    "start_time": "2024-08-21T07:56:47.132Z"
   },
   {
    "duration": 3329,
    "start_time": "2024-08-21T07:56:47.142Z"
   },
   {
    "duration": 8,
    "start_time": "2024-08-21T07:56:50.475Z"
   },
   {
    "duration": 20,
    "start_time": "2024-08-21T07:56:50.485Z"
   },
   {
    "duration": 7,
    "start_time": "2024-08-21T07:56:50.508Z"
   },
   {
    "duration": 5,
    "start_time": "2024-08-21T07:56:50.518Z"
   },
   {
    "duration": 746,
    "start_time": "2024-08-21T07:56:50.525Z"
   },
   {
    "duration": 43,
    "start_time": "2024-08-21T07:56:51.275Z"
   },
   {
    "duration": 9,
    "start_time": "2024-08-21T07:56:51.320Z"
   },
   {
    "duration": 7,
    "start_time": "2024-08-21T07:56:51.332Z"
   },
   {
    "duration": 5,
    "start_time": "2024-08-21T07:56:51.341Z"
   },
   {
    "duration": 4297,
    "start_time": "2024-08-21T07:56:51.350Z"
   },
   {
    "duration": 14,
    "start_time": "2024-08-21T07:56:55.650Z"
   },
   {
    "duration": 462,
    "start_time": "2024-08-21T07:56:55.667Z"
   },
   {
    "duration": 369,
    "start_time": "2024-08-21T07:56:56.132Z"
   },
   {
    "duration": 364,
    "start_time": "2024-08-21T07:56:56.505Z"
   },
   {
    "duration": 4,
    "start_time": "2024-08-21T07:56:56.873Z"
   },
   {
    "duration": 35,
    "start_time": "2024-08-21T07:56:56.881Z"
   },
   {
    "duration": 450,
    "start_time": "2024-08-21T07:56:56.919Z"
   },
   {
    "duration": 82,
    "start_time": "2024-08-21T07:56:57.373Z"
   },
   {
    "duration": 449,
    "start_time": "2024-08-21T07:56:57.457Z"
   },
   {
    "duration": 9,
    "start_time": "2024-08-21T07:56:57.909Z"
   },
   {
    "duration": 13,
    "start_time": "2024-08-21T07:56:57.921Z"
   },
   {
    "duration": 15,
    "start_time": "2024-08-21T07:56:57.937Z"
   },
   {
    "duration": 79,
    "start_time": "2024-08-21T07:56:57.955Z"
   },
   {
    "duration": 9,
    "start_time": "2024-08-21T07:56:58.036Z"
   },
   {
    "duration": 7,
    "start_time": "2024-08-21T07:56:58.049Z"
   },
   {
    "duration": 165,
    "start_time": "2024-08-21T07:56:58.060Z"
   },
   {
    "duration": 217,
    "start_time": "2024-08-21T07:56:58.227Z"
   },
   {
    "duration": 13,
    "start_time": "2024-08-21T07:56:58.447Z"
   },
   {
    "duration": 538,
    "start_time": "2024-08-21T07:56:58.463Z"
   },
   {
    "duration": 22,
    "start_time": "2024-08-21T07:56:59.004Z"
   },
   {
    "duration": 715,
    "start_time": "2024-08-21T07:56:59.029Z"
   },
   {
    "duration": 192,
    "start_time": "2024-08-21T07:56:59.747Z"
   },
   {
    "duration": 124,
    "start_time": "2024-08-21T07:56:59.942Z"
   },
   {
    "duration": 33,
    "start_time": "2024-08-21T07:57:00.069Z"
   },
   {
    "duration": 17,
    "start_time": "2024-08-21T07:57:00.105Z"
   },
   {
    "duration": 11,
    "start_time": "2024-08-21T07:57:00.125Z"
   },
   {
    "duration": 203,
    "start_time": "2024-08-21T07:57:00.139Z"
   },
   {
    "duration": 220,
    "start_time": "2024-08-21T07:57:00.345Z"
   },
   {
    "duration": 8,
    "start_time": "2024-08-21T07:57:00.569Z"
   },
   {
    "duration": 33,
    "start_time": "2024-08-21T07:57:00.579Z"
   },
   {
    "duration": 6,
    "start_time": "2024-08-21T07:57:00.614Z"
   },
   {
    "duration": 5,
    "start_time": "2024-08-21T07:57:00.623Z"
   },
   {
    "duration": 17,
    "start_time": "2024-08-21T07:57:00.631Z"
   },
   {
    "duration": 1608,
    "start_time": "2024-08-21T07:57:00.651Z"
   },
   {
    "duration": 9,
    "start_time": "2024-08-21T07:57:02.262Z"
   },
   {
    "duration": 223,
    "start_time": "2024-08-21T07:57:02.273Z"
   },
   {
    "duration": 5,
    "start_time": "2024-08-21T07:57:02.498Z"
   },
   {
    "duration": 6,
    "start_time": "2024-08-21T07:57:02.506Z"
   },
   {
    "duration": 22,
    "start_time": "2024-08-21T07:57:02.515Z"
   },
   {
    "duration": 3889,
    "start_time": "2024-08-21T07:57:02.541Z"
   },
   {
    "duration": 237,
    "start_time": "2024-08-21T07:57:06.432Z"
   },
   {
    "duration": 17,
    "start_time": "2024-08-21T07:57:06.673Z"
   },
   {
    "duration": 10,
    "start_time": "2024-08-21T07:57:06.703Z"
   },
   {
    "duration": 10,
    "start_time": "2024-08-21T07:57:06.716Z"
   }
  ],
  "kernelspec": {
   "display_name": "Python 3 (ipykernel)",
   "language": "python",
   "name": "python3"
  },
  "language_info": {
   "codemirror_mode": {
    "name": "ipython",
    "version": 3
   },
   "file_extension": ".py",
   "mimetype": "text/x-python",
   "name": "python",
   "nbconvert_exporter": "python",
   "pygments_lexer": "ipython3",
   "version": "3.12.7"
  },
  "toc": {
   "base_numbering": 1,
   "nav_menu": {},
   "number_sections": true,
   "sideBar": true,
   "skip_h1_title": true,
   "title_cell": "Table of Contents",
   "title_sidebar": "Contents",
   "toc_cell": false,
   "toc_position": {
    "height": "calc(100% - 180px)",
    "left": "10px",
    "top": "150px",
    "width": "257px"
   },
   "toc_section_display": true,
   "toc_window_display": false
  },
  "vscode": {
   "interpreter": {
    "hash": "01a7be9ec63e704a62cefc5fe7a4756944464ee731be31632bdf42a4cb4688cf"
   }
  }
 },
 "nbformat": 4,
 "nbformat_minor": 5
}
