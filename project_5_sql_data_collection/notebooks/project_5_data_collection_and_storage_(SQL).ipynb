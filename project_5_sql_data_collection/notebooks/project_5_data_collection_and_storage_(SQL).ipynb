{
 "cells": [
  {
   "cell_type": "markdown",
   "metadata": {},
   "source": [
    "# Project 5: Data Collection and Storage (SQL)"
   ]
  },
  {
   "cell_type": "markdown",
   "metadata": {},
   "source": [
    "##  Introduction and Project Description"
   ]
  },
  {
   "cell_type": "markdown",
   "metadata": {},
   "source": [
    "This project involves conducting a comprehensive data analysis for Zuber, a new ride-sharing compnay that's launching in Chicago. The overarching goals is to find patterns in the available information in order to understand passenger preferences and the impact of external factors on rides.  Working within multiple datasets from competitors and test a hypothesis about the imapct of weather on ride freuqency. \n",
    "\n",
    "To begin the first step of the porject, the focus will need to be on findings patterns in the available information related to both passenger preferences and the impact of external factors (such as weather) on rides. "
   ]
  },
  {
   "cell_type": "markdown",
   "metadata": {},
   "source": [
    "## Data Quality Evaluation and Analysis Framework"
   ]
  },
  {
   "cell_type": "markdown",
   "metadata": {},
   "source": [
    "The data analysis will rely on two separate datasets and are located in the followings files: **/datasets/project_sql_result_04.csv** and **/datasets/project_sql_result_07.csv**.  The datasets contain information which identifies taxi company names, number of rides for each taxi comapny, Chicago neighborhoods where rides endedthe average number of rides that ended in each neighborhood in November 2017. To support testing the hypotheses the data anlysis relies on the following dataset **/datasets/project_sql_result_07.csv**, which contains data on rides from the Loop to O'Hare International Airport. \n",
    "\n",
    "A preliminary overview of the datasets have been conducted to assess the overall quality of the data, with further exploration planned through detailed exploratory data analysis (EDA). "
   ]
  },
  {
   "cell_type": "markdown",
   "metadata": {},
   "source": [
    "### Description of the Data "
   ]
  },
  {
   "cell_type": "markdown",
   "metadata": {},
   "source": [
    "A dataset with info on taxi rides in Chicago: \n",
    "- **company_name:** taxi company name\n",
    "- **trips_amount:** the number of rides for each taxi company on November 15-16, 2017.\n",
    "- **dropoff_location_name:** Chicago neighborhoods where rides ended\n",
    "- **average_trips:** the average number of rides that ended in each neighborhood in November 2017.\n",
    "\n",
    "A dataset on rides from the Loop to O'Hare International Airport:\n",
    "- **start_ts:** pickup date and time\n",
    "- **weather_conditions:** weather conditions at the moment the ride started\n",
    "- **duration_seconds:** ride duration in seconds"
   ]
  },
  {
   "cell_type": "markdown",
   "metadata": {},
   "source": [
    "The systematic approach to analyze data: \n",
    "\n",
    "Stage 1: Data Overview, General Information Revew and Exploratory Data Analysis \n",
    "Conduct a thorough review to evaluate the quality of the data and identify any significant issues, and understanding the available data.\n",
    "- Data Sources: Access to internal data from Zuber, including information on respective taxi companies, number of reides for each taxi company, Chicago neighborhoods where rides ended, the average number of rides ended in each neighborhood.\n",
    "- External Data: Weather data in an important external factor to analyzing, so obtaining historical weather data is key.\n",
    "\n",
    "  A. Importing the files\n",
    "\n",
    "  B. Data Inspection and Cleaning\n",
    "\n",
    "  C. Idenitfy the Top 10 Neighborhoods by Number of Drop-Offs\n",
    "\n",
    "  D. Visualization: Taxi Companies and Number of Rides\n",
    "\n",
    "  E. Visualization: Top 10 Neighborhoods by Number of Drop-offs\n",
    "\n",
    "\n",
    "Stage 2: Test Hypotheses\n",
    "- Test releveant hypothese to validate assumptions and information decision-making. \n",
    "  \n",
    "  A. Forming the Hypotheses\n",
    "  \n",
    "  B. Importing the files\n",
    "  \n",
    "  C. Data Inspection and Cleaning\n",
    "  \n",
    "  D. Filter for Rainy Saturdays and Other Days\n",
    "  \n",
    "  E. Statistical Test Selection\n",
    "  \n",
    "  F. Conducting the Two-Sample T-Test\n",
    "  \n",
    "  G. Making a Decision Based on the P-Value\n",
    "\n",
    "Stage 3: Combine Summary of Key Findings - Conclusions\n",
    "- Summarize findings and present conclusions."
   ]
  },
  {
   "cell_type": "markdown",
   "metadata": {},
   "source": [
    "# Stage 1: Data Overview and General information Review"
   ]
  },
  {
   "cell_type": "markdown",
   "metadata": {},
   "source": [
    "**A. Importing the files**"
   ]
  },
  {
   "cell_type": "code",
   "execution_count": 1,
   "metadata": {},
   "outputs": [],
   "source": [
    "# imports the necessary libraries and loading CSV files essential for data manipulation and plotting\n",
    "import pandas as pd # data manipulation and analysis\n",
    "import numpy as np # numerical computing\n",
    "\n",
    "import matplotlib.pyplot as plt # data visualization\n",
    "import seaborn as sns # statistical data visualization\n",
    "\n",
    "from scipy import stats # scientific and technical computing"
   ]
  },
  {
   "cell_type": "code",
   "execution_count": 2,
   "metadata": {},
   "outputs": [],
   "source": [
    "# load the dataset - read the CSV file, load and assign to specified dataframe\n",
    "df_taxico_trips = pd.read_csv('/datasets/project_sql_result_01.csv') # assigned to taxico_trips"
   ]
  },
  {
   "cell_type": "code",
   "execution_count": 3,
   "metadata": {},
   "outputs": [],
   "source": [
    "# load the dataset - read the CSV file, load and assign to specified dataframe\n",
    "df_dropoff_avg = pd.read_csv('/datasets/project_sql_result_04.csv') # assigned to dropoff_avg"
   ]
  },
  {
   "cell_type": "code",
   "execution_count": 4,
   "metadata": {},
   "outputs": [
    {
     "name": "stdout",
     "output_type": "stream",
     "text": [
      "\n",
      "First few rows of the TaxiCo_Trips dataset: \n",
      "                       company_name  trips_amount\n",
      "0                        Flash Cab         19558\n",
      "1        Taxi Affiliation Services         11422\n",
      "2                Medallion Leasing         10367\n",
      "3                       Yellow Cab          9888\n",
      "4  Taxi Affiliation Service Yellow          9299\n"
     ]
    }
   ],
   "source": [
    "# taxico_trips - Display the first few rows of each dataset to understand the structure \n",
    "print(\"\\nFirst few rows of the TaxiCo_Trips dataset: \\n\", df_taxico_trips.head())"
   ]
  },
  {
   "cell_type": "code",
   "execution_count": 5,
   "metadata": {
    "scrolled": true
   },
   "outputs": [
    {
     "name": "stdout",
     "output_type": "stream",
     "text": [
      "\n",
      "First few rows of the Dropoff_AVG dataset: \n",
      "   dropoff_location_name  average_trips\n",
      "0                  Loop   10727.466667\n",
      "1           River North    9523.666667\n",
      "2         Streeterville    6664.666667\n",
      "3             West Loop    5163.666667\n",
      "4                O'Hare    2546.900000\n"
     ]
    }
   ],
   "source": [
    "# dropoff_avg - Display the first few rows of each dataset to understand the structure\n",
    "print(\"\\nFirst few rows of the Dropoff_AVG dataset: \\n\", df_dropoff_avg.head())"
   ]
  },
  {
   "cell_type": "markdown",
   "metadata": {},
   "source": [
    "**B. Data Inspection and Cleaning**\n",
    "\n",
    "Ensure the data is clean and the data types are correct. A check for missing values, incorrect data types, and any inconsistencies."
   ]
  },
  {
   "cell_type": "markdown",
   "metadata": {},
   "source": [
    "**TaxiCo_Trips**"
   ]
  },
  {
   "cell_type": "code",
   "execution_count": 6,
   "metadata": {},
   "outputs": [
    {
     "name": "stdout",
     "output_type": "stream",
     "text": [
      "General Information: \n",
      "\n",
      "<class 'pandas.core.frame.DataFrame'>\n",
      "RangeIndex: 64 entries, 0 to 63\n",
      "Data columns (total 2 columns):\n",
      " #   Column        Non-Null Count  Dtype \n",
      "---  ------        --------------  ----- \n",
      " 0   company_name  64 non-null     object\n",
      " 1   trips_amount  64 non-null     int64 \n",
      "dtypes: int64(1), object(1)\n",
      "memory usage: 1.1+ KB\n"
     ]
    }
   ],
   "source": [
    "# Check for missing values and data types\n",
    "print(\"General Information: \\n\")\n",
    "df_taxico_trips.info()"
   ]
  },
  {
   "cell_type": "code",
   "execution_count": 7,
   "metadata": {},
   "outputs": [],
   "source": [
    "# Check for any missing or incorrect data types\n",
    "# Ensure 'trips_amount' is numeric and 'company_name' is a string\n",
    "df_taxico_trips['trips_amount'] = pd.to_numeric(df_taxico_trips['trips_amount'], errors='coerce')"
   ]
  },
  {
   "cell_type": "code",
   "execution_count": 8,
   "metadata": {},
   "outputs": [
    {
     "name": "stdout",
     "output_type": "stream",
     "text": [
      "company_name    0\n",
      "trips_amount    0\n",
      "dtype: int64\n"
     ]
    }
   ],
   "source": [
    "# Check for missing values after conversion\n",
    "print(df_taxico_trips.isnull().sum())"
   ]
  },
  {
   "cell_type": "markdown",
   "metadata": {},
   "source": [
    "**Dropoff_AVG**"
   ]
  },
  {
   "cell_type": "code",
   "execution_count": 9,
   "metadata": {},
   "outputs": [
    {
     "name": "stdout",
     "output_type": "stream",
     "text": [
      "General Information: \n",
      "\n",
      "<class 'pandas.core.frame.DataFrame'>\n",
      "RangeIndex: 94 entries, 0 to 93\n",
      "Data columns (total 2 columns):\n",
      " #   Column                 Non-Null Count  Dtype  \n",
      "---  ------                 --------------  -----  \n",
      " 0   dropoff_location_name  94 non-null     object \n",
      " 1   average_trips          94 non-null     float64\n",
      "dtypes: float64(1), object(1)\n",
      "memory usage: 1.6+ KB\n"
     ]
    }
   ],
   "source": [
    "# Check for missing values and data types \n",
    "print(\"General Information: \\n\")\n",
    "df_dropoff_avg.info()"
   ]
  },
  {
   "cell_type": "code",
   "execution_count": 10,
   "metadata": {},
   "outputs": [],
   "source": [
    "# Ensure 'average_trips' is numeric and 'dropoff_location_name' is a string\n",
    "df_dropoff_avg['average_trips'] = pd.to_numeric(df_dropoff_avg['average_trips'], errors='coerce')"
   ]
  },
  {
   "cell_type": "code",
   "execution_count": 11,
   "metadata": {},
   "outputs": [
    {
     "name": "stdout",
     "output_type": "stream",
     "text": [
      "dropoff_location_name    0\n",
      "average_trips            0\n",
      "dtype: int64\n"
     ]
    }
   ],
   "source": [
    "# Check for missing values after conversion\n",
    "print(df_dropoff_avg.isnull().sum())"
   ]
  },
  {
   "cell_type": "markdown",
   "metadata": {},
   "source": [
    "After data inspection and cleaning, it has been determined there are no missing values. Converting columns to the correct data types has been completed. "
   ]
  },
  {
   "cell_type": "markdown",
   "metadata": {},
   "source": [
    "**C. Idenitfy the Top 10 Neighborhoods by Number of Drop-Offs**"
   ]
  },
  {
   "cell_type": "markdown",
   "metadata": {},
   "source": [
    "The second dataframe (df_dropoff_avg) will be sorected by the average_trips column to find the neighborhoods with the highest average number of rides."
   ]
  },
  {
   "cell_type": "code",
   "execution_count": 12,
   "metadata": {},
   "outputs": [],
   "source": [
    "# Sort the neighborhoods by average trips to find the top 10\n",
    "top_10_neighborhoods = df_dropoff_avg.sort_values(by='average_trips', ascending=False).head(10)"
   ]
  },
  {
   "cell_type": "code",
   "execution_count": 13,
   "metadata": {},
   "outputs": [
    {
     "name": "stdout",
     "output_type": "stream",
     "text": [
      "  dropoff_location_name  average_trips\n",
      "0                  Loop   10727.466667\n",
      "1           River North    9523.666667\n",
      "2         Streeterville    6664.666667\n",
      "3             West Loop    5163.666667\n",
      "4                O'Hare    2546.900000\n",
      "5             Lake View    2420.966667\n",
      "6            Grant Park    2068.533333\n",
      "7         Museum Campus    1510.000000\n",
      "8            Gold Coast    1364.233333\n",
      "9    Sheffield & DePaul    1259.766667\n"
     ]
    }
   ],
   "source": [
    "# Display the top 10 neighborhoods\n",
    "print(top_10_neighborhoods[['dropoff_location_name', 'average_trips']])"
   ]
  },
  {
   "cell_type": "markdown",
   "metadata": {},
   "source": [
    "**D. Visualization: Taxi Companies and Number of Rides**"
   ]
  },
  {
   "cell_type": "markdown",
   "metadata": {},
   "source": [
    "Plot the number of rides for each taxi company to see the distribution of rides across different companies. "
   ]
  },
  {
   "cell_type": "code",
   "execution_count": 14,
   "metadata": {},
   "outputs": [
    {
     "data": {
      "image/png": "[encoded data removed]",
      "text/plain": [
       "<Figure size 1500x800 with 1 Axes>"
      ]
     },
     "metadata": {},
     "output_type": "display_data"
    }
   ],
   "source": [
    "# Plot the number of rides per taxi company with swapped axes\n",
    "plt.figure(figsize=(15, 8))\n",
    "sns.barplot(data=df_taxico_trips, y='company_name', x='trips_amount', palette='viridis')\n",
    "\n",
    "# Add labels and title\n",
    "plt.title('Number of Rides by Taxi Company (November 15-16, 2017)', fontsize=16)\n",
    "plt.xlabel('Number of Rides', fontsize=12)\n",
    "plt.ylabel('Taxi Company', fontsize=12)\n",
    "\n",
    "# Show the plot\n",
    "plt.tight_layout()\n",
    "plt.show()"
   ]
  },
  {
   "cell_type": "markdown",
   "metadata": {},
   "source": [
    "**Summary of Conclusions for Taxi Companies and Number of Rides**\n",
    "\n",
    "*Analysis:* From the bar plot, we are able to identify which taxi companies have the highest number of trips during November 15-16, 2017.\n",
    "*Possible Conclusions:* If Zuber was listed as one of the companies in the dataset, it's performance can be compared to competitors. If Zuber show a low number of rides, it might need to focus on marketing or expanding its coverage to compete with larger companies. \n",
    "\n",
    "Investigating further into marketing strategies or other operational factors that might help increase the number of rides, such as surge pricing or targeting underserved neighborhoods. "
   ]
  },
  {
   "cell_type": "markdown",
   "metadata": {},
   "source": [
    "**E. Visualization: Top 10 Neighborhoods by Number of Drop-offs**"
   ]
  },
  {
   "cell_type": "markdown",
   "metadata": {},
   "source": [
    "Create a bar plot for the top 10 neighborhoods based on the average_trips."
   ]
  },
  {
   "cell_type": "code",
   "execution_count": 15,
   "metadata": {},
   "outputs": [
    {
     "data": {
      "image/png": "[encoded data removed]",
      "text/plain": [
       "<Figure size 1200x600 with 1 Axes>"
      ]
     },
     "metadata": {},
     "output_type": "display_data"
    }
   ],
   "source": [
    "# Plot the top 10 neighborhoods by average number of drop-offs\n",
    "plt.figure(figsize=(12, 6))\n",
    "sns.barplot(data=top_10_neighborhoods, x='dropoff_location_name', y='average_trips', palette='magma')\n",
    "\n",
    "# Add labels and title\n",
    "plt.title('Top 10 Neighborhoods by Number of Drop-offs (November 2017)', fontsize=16)\n",
    "plt.xlabel('Neighborhood', fontsize=12)\n",
    "plt.ylabel('Average Number of Trips', fontsize=12)\n",
    "plt.xticks(rotation=45, ha='right')\n",
    "\n",
    "# Show the plt\n",
    "plt.tight_layout()\n",
    "plt.show()"
   ]
  },
  {
   "cell_type": "markdown",
   "metadata": {},
   "source": [
    "**Summary of Conclusions for the Top 10 Neighborhoods by Number of Drop-offs**\n",
    "\n",
    "*Analysis:* From the bar plot, we are able to identify the neighborhoods with the most ride drop-offs. \n",
    "\n",
    "*Possible Conclusions:* Zuber might want to focus on ensuring coverage in these top neighborhoods to meet demand. If some neighborhoods are underserved by competitors, Zuber could position itself as a preferred service provider.\n",
    "\n",
    "Zuber could create targeted promotions or campaigns in high-demand neighborhoods or look at how to optimize routing for drivers to minimize wait times in these areas."
   ]
  },
  {
   "cell_type": "markdown",
   "metadata": {},
   "source": [
    "# Stage 2: Test Hypotheses"
   ]
  },
  {
   "cell_type": "markdown",
   "metadata": {},
   "source": [
    "**A. Forming the Hypotheses**\n",
    "\n",
    "*Null Hypothesis (H₀):*\n",
    "The average duration of rides from the Loop to O'Hare International Airport **does not change** on rainy Saturdays.\n",
    "\n",
    "In statistical terms, this means **there is no significant difference** in the average ride durations on rainy Saturdays compared to other days."
   ]
  },
  {
   "cell_type": "markdown",
   "metadata": {},
   "source": [
    "*Alternative Hypothesis (H₁):*\n",
    "The average duration of rides from the Loop to O'Hare International Airport **does change** on rainy Saturdays.\n",
    "\n",
    "This implies that rainy Saturdays have a **statistically significant effect** on ride duration."
   ]
  },
  {
   "cell_type": "markdown",
   "metadata": {},
   "source": [
    "**B. Importing the files**"
   ]
  },
  {
   "cell_type": "code",
   "execution_count": 16,
   "metadata": {},
   "outputs": [],
   "source": [
    "# load the dataset - read the CSV file, load and assign to specified dataframe\n",
    "df_weather_records = pd.read_csv('/datasets/project_sql_result_07.csv') # assigned to weather_records"
   ]
  },
  {
   "cell_type": "code",
   "execution_count": 17,
   "metadata": {},
   "outputs": [
    {
     "name": "stdout",
     "output_type": "stream",
     "text": [
      "\n",
      "First few rows of the Weather_Records dataset: \n",
      "               start_ts weather_conditions  duration_seconds\n",
      "0  2017-11-25 16:00:00               Good            2410.0\n",
      "1  2017-11-25 14:00:00               Good            1920.0\n",
      "2  2017-11-25 12:00:00               Good            1543.0\n",
      "3  2017-11-04 10:00:00               Good            2512.0\n",
      "4  2017-11-11 07:00:00               Good            1440.0\n"
     ]
    }
   ],
   "source": [
    "# weather_records view first five rows \n",
    "print(\"\\nFirst few rows of the Weather_Records dataset: \\n\", df_weather_records.head())"
   ]
  },
  {
   "cell_type": "code",
   "execution_count": 18,
   "metadata": {},
   "outputs": [
    {
     "name": "stdout",
     "output_type": "stream",
     "text": [
      "General Information: \n",
      "\n",
      "<class 'pandas.core.frame.DataFrame'>\n",
      "RangeIndex: 1068 entries, 0 to 1067\n",
      "Data columns (total 3 columns):\n",
      " #   Column              Non-Null Count  Dtype  \n",
      "---  ------              --------------  -----  \n",
      " 0   start_ts            1068 non-null   object \n",
      " 1   weather_conditions  1068 non-null   object \n",
      " 2   duration_seconds    1068 non-null   float64\n",
      "dtypes: float64(1), object(2)\n",
      "memory usage: 25.2+ KB\n"
     ]
    }
   ],
   "source": [
    "# Check for missing values and data types\n",
    "print(\"General Information: \\n\")\n",
    "df_weather_records.info()"
   ]
  },
  {
   "cell_type": "code",
   "execution_count": 19,
   "metadata": {},
   "outputs": [
    {
     "name": "stdout",
     "output_type": "stream",
     "text": [
      "['Good' 'Bad']\n"
     ]
    }
   ],
   "source": [
    "# Check unique values in the weather_conditions column\n",
    "print(df_weather_records['weather_conditions'].unique())"
   ]
  },
  {
   "cell_type": "markdown",
   "metadata": {},
   "source": [
    "**C. Data Inspection and Cleaning**\n",
    "\n",
    "Ensure the data is clean and the data types are correct. A check for missing values, incorrect data types, and any inconsistencies."
   ]
  },
  {
   "cell_type": "code",
   "execution_count": 20,
   "metadata": {},
   "outputs": [],
   "source": [
    "# Convert start_ts to datetime\n",
    "df_weather_records['start_ts'] = pd.to_datetime(df_weather_records['start_ts'])"
   ]
  },
  {
   "cell_type": "code",
   "execution_count": 21,
   "metadata": {},
   "outputs": [],
   "source": [
    "# Extract day of the week and create a new column 'is_saturday'\n",
    "df_weather_records['day_of_week'] = df_weather_records['start_ts'].dt.dayofweek\n",
    "df_weather_records['is_saturday'] = df_weather_records['day_of_week'] == 5  # Saturday is represented by 5"
   ]
  },
  {
   "cell_type": "markdown",
   "metadata": {},
   "source": [
    "**D. Filter for Rainy Saturdays and Other Days**"
   ]
  },
  {
   "cell_type": "code",
   "execution_count": 22,
   "metadata": {},
   "outputs": [],
   "source": [
    "# Filter the data for rainy Saturdays and other days\n",
    "rainy_saturdays = df_weather_records[(df_weather_records['weather_conditions'] == 'Bad') & (df_weather_records['is_saturday'])]\n",
    "other_days = df_weather_records[~((df_weather_records['weather_conditions'] == 'Bad') & (df_weather_records['is_saturday']))]"
   ]
  },
  {
   "cell_type": "code",
   "execution_count": 23,
   "metadata": {},
   "outputs": [
    {
     "data": {
      "text/html": [
       "<div>\n",
       "<style scoped>\n",
       "    .dataframe tbody tr th:only-of-type {\n",
       "        vertical-align: middle;\n",
       "    }\n",
       "\n",
       "    .dataframe tbody tr th {\n",
       "        vertical-align: top;\n",
       "    }\n",
       "\n",
       "    .dataframe thead th {\n",
       "        text-align: right;\n",
       "    }\n",
       "</style>\n",
       "<table border=\"1\" class=\"dataframe\">\n",
       "  <thead>\n",
       "    <tr style=\"text-align: right;\">\n",
       "      <th></th>\n",
       "      <th>start_ts</th>\n",
       "      <th>weather_conditions</th>\n",
       "      <th>duration_seconds</th>\n",
       "      <th>day_of_week</th>\n",
       "      <th>is_saturday</th>\n",
       "    </tr>\n",
       "  </thead>\n",
       "  <tbody>\n",
       "    <tr>\n",
       "      <th>6</th>\n",
       "      <td>2017-11-04 16:00:00</td>\n",
       "      <td>Bad</td>\n",
       "      <td>2969.0</td>\n",
       "      <td>5</td>\n",
       "      <td>True</td>\n",
       "    </tr>\n",
       "    <tr>\n",
       "      <th>30</th>\n",
       "      <td>2017-11-18 12:00:00</td>\n",
       "      <td>Bad</td>\n",
       "      <td>1980.0</td>\n",
       "      <td>5</td>\n",
       "      <td>True</td>\n",
       "    </tr>\n",
       "    <tr>\n",
       "      <th>34</th>\n",
       "      <td>2017-11-04 17:00:00</td>\n",
       "      <td>Bad</td>\n",
       "      <td>2460.0</td>\n",
       "      <td>5</td>\n",
       "      <td>True</td>\n",
       "    </tr>\n",
       "    <tr>\n",
       "      <th>51</th>\n",
       "      <td>2017-11-04 16:00:00</td>\n",
       "      <td>Bad</td>\n",
       "      <td>2760.0</td>\n",
       "      <td>5</td>\n",
       "      <td>True</td>\n",
       "    </tr>\n",
       "    <tr>\n",
       "      <th>52</th>\n",
       "      <td>2017-11-18 12:00:00</td>\n",
       "      <td>Bad</td>\n",
       "      <td>2460.0</td>\n",
       "      <td>5</td>\n",
       "      <td>True</td>\n",
       "    </tr>\n",
       "    <tr>\n",
       "      <th>...</th>\n",
       "      <td>...</td>\n",
       "      <td>...</td>\n",
       "      <td>...</td>\n",
       "      <td>...</td>\n",
       "      <td>...</td>\n",
       "    </tr>\n",
       "    <tr>\n",
       "      <th>1031</th>\n",
       "      <td>2017-11-18 12:00:00</td>\n",
       "      <td>Bad</td>\n",
       "      <td>2560.0</td>\n",
       "      <td>5</td>\n",
       "      <td>True</td>\n",
       "    </tr>\n",
       "    <tr>\n",
       "      <th>1032</th>\n",
       "      <td>2017-11-18 10:00:00</td>\n",
       "      <td>Bad</td>\n",
       "      <td>1908.0</td>\n",
       "      <td>5</td>\n",
       "      <td>True</td>\n",
       "    </tr>\n",
       "    <tr>\n",
       "      <th>1053</th>\n",
       "      <td>2017-11-18 12:00:00</td>\n",
       "      <td>Bad</td>\n",
       "      <td>2400.0</td>\n",
       "      <td>5</td>\n",
       "      <td>True</td>\n",
       "    </tr>\n",
       "    <tr>\n",
       "      <th>1061</th>\n",
       "      <td>2017-11-18 16:00:00</td>\n",
       "      <td>Bad</td>\n",
       "      <td>2186.0</td>\n",
       "      <td>5</td>\n",
       "      <td>True</td>\n",
       "    </tr>\n",
       "    <tr>\n",
       "      <th>1067</th>\n",
       "      <td>2017-11-04 16:00:00</td>\n",
       "      <td>Bad</td>\n",
       "      <td>2834.0</td>\n",
       "      <td>5</td>\n",
       "      <td>True</td>\n",
       "    </tr>\n",
       "  </tbody>\n",
       "</table>\n",
       "<p>180 rows × 5 columns</p>\n",
       "</div>"
      ],
      "text/plain": [
       "                start_ts weather_conditions  duration_seconds  day_of_week  \\\n",
       "6    2017-11-04 16:00:00                Bad            2969.0            5   \n",
       "30   2017-11-18 12:00:00                Bad            1980.0            5   \n",
       "34   2017-11-04 17:00:00                Bad            2460.0            5   \n",
       "51   2017-11-04 16:00:00                Bad            2760.0            5   \n",
       "52   2017-11-18 12:00:00                Bad            2460.0            5   \n",
       "...                  ...                ...               ...          ...   \n",
       "1031 2017-11-18 12:00:00                Bad            2560.0            5   \n",
       "1032 2017-11-18 10:00:00                Bad            1908.0            5   \n",
       "1053 2017-11-18 12:00:00                Bad            2400.0            5   \n",
       "1061 2017-11-18 16:00:00                Bad            2186.0            5   \n",
       "1067 2017-11-04 16:00:00                Bad            2834.0            5   \n",
       "\n",
       "      is_saturday  \n",
       "6            True  \n",
       "30           True  \n",
       "34           True  \n",
       "51           True  \n",
       "52           True  \n",
       "...           ...  \n",
       "1031         True  \n",
       "1032         True  \n",
       "1053         True  \n",
       "1061         True  \n",
       "1067         True  \n",
       "\n",
       "[180 rows x 5 columns]"
      ]
     },
     "execution_count": 23,
     "metadata": {},
     "output_type": "execute_result"
    }
   ],
   "source": [
    "rainy_saturdays"
   ]
  },
  {
   "cell_type": "code",
   "execution_count": 24,
   "metadata": {},
   "outputs": [
    {
     "data": {
      "text/html": [
       "<div>\n",
       "<style scoped>\n",
       "    .dataframe tbody tr th:only-of-type {\n",
       "        vertical-align: middle;\n",
       "    }\n",
       "\n",
       "    .dataframe tbody tr th {\n",
       "        vertical-align: top;\n",
       "    }\n",
       "\n",
       "    .dataframe thead th {\n",
       "        text-align: right;\n",
       "    }\n",
       "</style>\n",
       "<table border=\"1\" class=\"dataframe\">\n",
       "  <thead>\n",
       "    <tr style=\"text-align: right;\">\n",
       "      <th></th>\n",
       "      <th>start_ts</th>\n",
       "      <th>weather_conditions</th>\n",
       "      <th>duration_seconds</th>\n",
       "      <th>day_of_week</th>\n",
       "      <th>is_saturday</th>\n",
       "    </tr>\n",
       "  </thead>\n",
       "  <tbody>\n",
       "    <tr>\n",
       "      <th>0</th>\n",
       "      <td>2017-11-25 16:00:00</td>\n",
       "      <td>Good</td>\n",
       "      <td>2410.0</td>\n",
       "      <td>5</td>\n",
       "      <td>True</td>\n",
       "    </tr>\n",
       "    <tr>\n",
       "      <th>1</th>\n",
       "      <td>2017-11-25 14:00:00</td>\n",
       "      <td>Good</td>\n",
       "      <td>1920.0</td>\n",
       "      <td>5</td>\n",
       "      <td>True</td>\n",
       "    </tr>\n",
       "    <tr>\n",
       "      <th>2</th>\n",
       "      <td>2017-11-25 12:00:00</td>\n",
       "      <td>Good</td>\n",
       "      <td>1543.0</td>\n",
       "      <td>5</td>\n",
       "      <td>True</td>\n",
       "    </tr>\n",
       "    <tr>\n",
       "      <th>3</th>\n",
       "      <td>2017-11-04 10:00:00</td>\n",
       "      <td>Good</td>\n",
       "      <td>2512.0</td>\n",
       "      <td>5</td>\n",
       "      <td>True</td>\n",
       "    </tr>\n",
       "    <tr>\n",
       "      <th>4</th>\n",
       "      <td>2017-11-11 07:00:00</td>\n",
       "      <td>Good</td>\n",
       "      <td>1440.0</td>\n",
       "      <td>5</td>\n",
       "      <td>True</td>\n",
       "    </tr>\n",
       "    <tr>\n",
       "      <th>...</th>\n",
       "      <td>...</td>\n",
       "      <td>...</td>\n",
       "      <td>...</td>\n",
       "      <td>...</td>\n",
       "      <td>...</td>\n",
       "    </tr>\n",
       "    <tr>\n",
       "      <th>1062</th>\n",
       "      <td>2017-11-11 06:00:00</td>\n",
       "      <td>Good</td>\n",
       "      <td>1500.0</td>\n",
       "      <td>5</td>\n",
       "      <td>True</td>\n",
       "    </tr>\n",
       "    <tr>\n",
       "      <th>1063</th>\n",
       "      <td>2017-11-25 11:00:00</td>\n",
       "      <td>Good</td>\n",
       "      <td>0.0</td>\n",
       "      <td>5</td>\n",
       "      <td>True</td>\n",
       "    </tr>\n",
       "    <tr>\n",
       "      <th>1064</th>\n",
       "      <td>2017-11-11 10:00:00</td>\n",
       "      <td>Good</td>\n",
       "      <td>1318.0</td>\n",
       "      <td>5</td>\n",
       "      <td>True</td>\n",
       "    </tr>\n",
       "    <tr>\n",
       "      <th>1065</th>\n",
       "      <td>2017-11-11 13:00:00</td>\n",
       "      <td>Good</td>\n",
       "      <td>2100.0</td>\n",
       "      <td>5</td>\n",
       "      <td>True</td>\n",
       "    </tr>\n",
       "    <tr>\n",
       "      <th>1066</th>\n",
       "      <td>2017-11-11 08:00:00</td>\n",
       "      <td>Good</td>\n",
       "      <td>1380.0</td>\n",
       "      <td>5</td>\n",
       "      <td>True</td>\n",
       "    </tr>\n",
       "  </tbody>\n",
       "</table>\n",
       "<p>888 rows × 5 columns</p>\n",
       "</div>"
      ],
      "text/plain": [
       "                start_ts weather_conditions  duration_seconds  day_of_week  \\\n",
       "0    2017-11-25 16:00:00               Good            2410.0            5   \n",
       "1    2017-11-25 14:00:00               Good            1920.0            5   \n",
       "2    2017-11-25 12:00:00               Good            1543.0            5   \n",
       "3    2017-11-04 10:00:00               Good            2512.0            5   \n",
       "4    2017-11-11 07:00:00               Good            1440.0            5   \n",
       "...                  ...                ...               ...          ...   \n",
       "1062 2017-11-11 06:00:00               Good            1500.0            5   \n",
       "1063 2017-11-25 11:00:00               Good               0.0            5   \n",
       "1064 2017-11-11 10:00:00               Good            1318.0            5   \n",
       "1065 2017-11-11 13:00:00               Good            2100.0            5   \n",
       "1066 2017-11-11 08:00:00               Good            1380.0            5   \n",
       "\n",
       "      is_saturday  \n",
       "0            True  \n",
       "1            True  \n",
       "2            True  \n",
       "3            True  \n",
       "4            True  \n",
       "...           ...  \n",
       "1062         True  \n",
       "1063         True  \n",
       "1064         True  \n",
       "1065         True  \n",
       "1066         True  \n",
       "\n",
       "[888 rows x 5 columns]"
      ]
     },
     "execution_count": 24,
     "metadata": {},
     "output_type": "execute_result"
    }
   ],
   "source": [
    "other_days"
   ]
  },
  {
   "cell_type": "markdown",
   "metadata": {},
   "source": [
    "**E. Statistical Test Selection**\n",
    "\n",
    "To test whether rainy Saturdays have a significant impact on ride duration, we'll perform a two-sample t-test. This test will compare the mean ride duration of rainy Saturdays against other days. We’ll use equal variance assumption in this case (though we could check if it’s violated).\n",
    "\n",
    "*Null Hypothesis (H₀):* The average ride duration on rainy Saturdays is equal to the average ride duration on other days.\n",
    "\n",
    "*Alternative Hypothesis (H₁):* The average ride duration on rainy Saturdays differs from the average ride duration on other days."
   ]
  },
  {
   "cell_type": "markdown",
   "metadata": {},
   "source": [
    "**F. Conducting the Two-Sample T-Test**"
   ]
  },
  {
   "cell_type": "code",
   "execution_count": 25,
   "metadata": {},
   "outputs": [],
   "source": [
    "# Perform two-sample t-test (assuming unequal variance)\n",
    "t_stat, p_value = stats.ttest_ind(rainy_saturdays['duration_seconds'], other_days['duration_seconds'], equal_var=False)"
   ]
  },
  {
   "cell_type": "code",
   "execution_count": 26,
   "metadata": {},
   "outputs": [
    {
     "name": "stdout",
     "output_type": "stream",
     "text": [
      "T-statistic: 7.186034288068629\n",
      "P-value: 6.738994326108734e-12\n"
     ]
    }
   ],
   "source": [
    "# Print results\n",
    "print(f\"T-statistic: {t_stat}\")\n",
    "print(f\"P-value: {p_value}\")"
   ]
  },
  {
   "cell_type": "markdown",
   "metadata": {},
   "source": [
    "**G. Making a Decision Based on the P-Value**\n",
    "\n",
    "Significance Level (α): We will use a significance level of 0.05 to test our hypothesis.\n",
    "\n",
    "If the p-value < 0.05, we reject the null hypothesis and conclude that there is a statistically significant difference in ride duration on rainy Saturdays.\n",
    "\n",
    "If the p-value ≥ 0.05, we fail to reject the null hypothesis, meaning that rainy Saturdays do not significantly affect ride duration."
   ]
  },
  {
   "cell_type": "code",
   "execution_count": 27,
   "metadata": {},
   "outputs": [
    {
     "name": "stdout",
     "output_type": "stream",
     "text": [
      "Reject the null hypothesis: The average duration on rainy Saturdays is different from other days.\n"
     ]
    }
   ],
   "source": [
    "# Interpretation of the results\n",
    "alpha = 0.05\n",
    "if p_value < alpha:\n",
    "    print(\"Reject the null hypothesis: The average duration on rainy Saturdays is different from other days.\")\n",
    "else:\n",
    "    print(\"Fail to reject the null hypothesis: There is no significant difference in the average duration.\")"
   ]
  },
  {
   "cell_type": "markdown",
   "metadata": {},
   "source": [
    "**Assumptions of the t-test**\n",
    "\n",
    "Before performing the t-test, ensure the following assumptions hold:\n",
    "\n",
    "The data for the two groups (rainy Saturdays and other days) are independent.\n",
    "The data for each group are approximately normally distributed (though the t-test is quite robust to deviations from normality if the sample size is large).\n",
    "The variance of the two groups should not be too different. We used equal_var=False to account for potentially unequal variances.\n",
    "This approach provides a rigorous test to determine whether rainy Saturdays have a statistically significant effect on ride duration."
   ]
  },
  {
   "cell_type": "markdown",
   "metadata": {},
   "source": [
    "# Stage 3: Combine Summary of Key Findings - Conclusions"
   ]
  },
  {
   "cell_type": "markdown",
   "metadata": {},
   "source": [
    "The analysis of ride data from November 15-16, 2017, highlights opportunitites for Zuber to improve its performance by comparing its ride volume to competitors and focusing on marketing or expanding coverage in underserved areas. Targeting high-demand neighbordhoos, identified through drop-off data, could further increase Zuber's market share, especially if competitors are less active in those areas. Additionally, a t-test comparing ride durations on rainy Saturdays versus other days reveals a statitically signfiicant diffrence, with ride duration being notably longer on rainy Saturdays. This suggests that weather condition impact ride duration, which could influcence Zuber's operational strategies, such as optimizing driver routes and adjusting pricing during adverse weather to improve efficiency and meet demand. "
   ]
  }
 ],
 "metadata": {
  "ExecuteTimeLog": [
   {
    "duration": 8,
    "start_time": "2024-11-07T23:00:43.656Z"
   },
   {
    "duration": 4,
    "start_time": "2024-11-07T23:01:53.015Z"
   },
   {
    "duration": 3,
    "start_time": "2024-11-07T23:04:43.562Z"
   },
   {
    "duration": 8,
    "start_time": "2024-11-07T23:29:46.018Z"
   },
   {
    "duration": 7,
    "start_time": "2024-11-07T23:29:48.894Z"
   },
   {
    "duration": 8,
    "start_time": "2024-11-07T23:29:52.011Z"
   },
   {
    "duration": 6,
    "start_time": "2024-11-07T23:30:15.893Z"
   },
   {
    "duration": 181,
    "start_time": "2024-11-07T23:31:12.119Z"
   },
   {
    "duration": 14,
    "start_time": "2024-11-07T23:31:31.148Z"
   },
   {
    "duration": 32,
    "start_time": "2024-11-07T23:31:58.066Z"
   },
   {
    "duration": 817,
    "start_time": "2024-11-07T23:32:31.490Z"
   },
   {
    "duration": 5,
    "start_time": "2024-11-07T23:32:32.310Z"
   },
   {
    "duration": 4,
    "start_time": "2024-11-07T23:32:32.317Z"
   },
   {
    "duration": 4,
    "start_time": "2024-11-07T23:32:32.323Z"
   },
   {
    "duration": 4,
    "start_time": "2024-11-07T23:36:00.660Z"
   },
   {
    "duration": 3,
    "start_time": "2024-11-07T23:36:15.831Z"
   },
   {
    "duration": 3,
    "start_time": "2024-11-07T23:36:32.315Z"
   },
   {
    "duration": 7,
    "start_time": "2024-11-07T23:38:25.828Z"
   },
   {
    "duration": 236,
    "start_time": "2024-11-07T23:39:35.686Z"
   },
   {
    "duration": 4,
    "start_time": "2024-11-07T23:39:43.059Z"
   },
   {
    "duration": 4,
    "start_time": "2024-11-07T23:40:48.203Z"
   },
   {
    "duration": 3,
    "start_time": "2024-11-07T23:41:59.009Z"
   },
   {
    "duration": 4,
    "start_time": "2024-11-07T23:43:26.719Z"
   },
   {
    "duration": 3,
    "start_time": "2024-11-07T23:43:51.692Z"
   },
   {
    "duration": 26,
    "start_time": "2024-11-07T23:48:23.063Z"
   },
   {
    "duration": 8,
    "start_time": "2024-11-07T23:49:01.122Z"
   },
   {
    "duration": 8,
    "start_time": "2024-11-07T23:49:32.409Z"
   },
   {
    "duration": 11,
    "start_time": "2024-11-07T23:56:05.282Z"
   },
   {
    "duration": 20,
    "start_time": "2024-11-07T23:56:31.665Z"
   },
   {
    "duration": 7,
    "start_time": "2024-11-07T23:56:50.550Z"
   },
   {
    "duration": 7,
    "start_time": "2024-11-07T23:57:05.206Z"
   },
   {
    "duration": 16,
    "start_time": "2024-11-07T23:57:19.269Z"
   },
   {
    "duration": 20,
    "start_time": "2024-11-07T23:57:34.379Z"
   },
   {
    "duration": 6,
    "start_time": "2024-11-07T23:57:41.788Z"
   },
   {
    "duration": 4,
    "start_time": "2024-11-07T23:57:49.257Z"
   },
   {
    "duration": 3,
    "start_time": "2024-11-07T23:58:03.932Z"
   },
   {
    "duration": 7,
    "start_time": "2024-11-07T23:58:43.350Z"
   },
   {
    "duration": 7,
    "start_time": "2024-11-07T23:58:50.207Z"
   },
   {
    "duration": 7,
    "start_time": "2024-11-07T23:59:03.851Z"
   },
   {
    "duration": 8,
    "start_time": "2024-11-07T23:59:32.709Z"
   },
   {
    "duration": 7,
    "start_time": "2024-11-08T00:00:17.518Z"
   },
   {
    "duration": 7,
    "start_time": "2024-11-08T00:00:25.613Z"
   },
   {
    "duration": 6,
    "start_time": "2024-11-08T00:00:32.532Z"
   },
   {
    "duration": 7,
    "start_time": "2024-11-08T00:00:37.610Z"
   },
   {
    "duration": 7,
    "start_time": "2024-11-08T00:00:52.894Z"
   },
   {
    "duration": 877,
    "start_time": "2024-11-08T00:02:01.620Z"
   },
   {
    "duration": 8,
    "start_time": "2024-11-08T00:02:02.499Z"
   },
   {
    "duration": 5,
    "start_time": "2024-11-08T00:02:02.508Z"
   },
   {
    "duration": 5,
    "start_time": "2024-11-08T00:02:02.514Z"
   },
   {
    "duration": 3,
    "start_time": "2024-11-08T00:02:02.522Z"
   },
   {
    "duration": 5,
    "start_time": "2024-11-08T00:02:02.526Z"
   },
   {
    "duration": 4,
    "start_time": "2024-11-08T00:02:02.532Z"
   },
   {
    "duration": 45,
    "start_time": "2024-11-08T00:02:02.538Z"
   },
   {
    "duration": 24,
    "start_time": "2024-11-08T00:02:02.585Z"
   },
   {
    "duration": 5,
    "start_time": "2024-11-08T00:02:02.614Z"
   },
   {
    "duration": 3,
    "start_time": "2024-11-08T00:02:02.621Z"
   },
   {
    "duration": 8,
    "start_time": "2024-11-08T00:02:02.626Z"
   },
   {
    "duration": 3,
    "start_time": "2024-11-08T00:02:02.636Z"
   },
   {
    "duration": 4,
    "start_time": "2024-11-08T00:02:02.641Z"
   },
   {
    "duration": 3,
    "start_time": "2024-11-08T00:02:02.648Z"
   },
   {
    "duration": 8,
    "start_time": "2024-11-08T00:02:02.652Z"
   },
   {
    "duration": 36,
    "start_time": "2024-11-08T00:02:02.661Z"
   },
   {
    "duration": 7,
    "start_time": "2024-11-08T00:07:04.097Z"
   },
   {
    "duration": 5,
    "start_time": "2024-11-08T00:13:43.231Z"
   },
   {
    "duration": 6,
    "start_time": "2024-11-08T00:14:19.242Z"
   },
   {
    "duration": 21,
    "start_time": "2024-11-08T00:15:29.761Z"
   },
   {
    "duration": 7,
    "start_time": "2024-11-08T00:15:42.861Z"
   },
   {
    "duration": 7,
    "start_time": "2024-11-08T00:15:48.953Z"
   },
   {
    "duration": 4,
    "start_time": "2024-11-08T01:40:56.741Z"
   },
   {
    "duration": 15,
    "start_time": "2024-11-08T01:41:10.571Z"
   },
   {
    "duration": 5,
    "start_time": "2024-11-08T01:41:46.703Z"
   },
   {
    "duration": 8,
    "start_time": "2024-11-08T01:42:29.941Z"
   },
   {
    "duration": 2488,
    "start_time": "2024-11-08T05:07:45.570Z"
   },
   {
    "duration": 11,
    "start_time": "2024-11-08T05:07:48.060Z"
   },
   {
    "duration": 8,
    "start_time": "2024-11-08T05:07:48.072Z"
   },
   {
    "duration": 7,
    "start_time": "2024-11-08T05:07:48.086Z"
   },
   {
    "duration": 3,
    "start_time": "2024-11-08T05:07:48.095Z"
   },
   {
    "duration": 5,
    "start_time": "2024-11-08T05:07:48.099Z"
   },
   {
    "duration": 3,
    "start_time": "2024-11-08T05:07:48.106Z"
   },
   {
    "duration": 10,
    "start_time": "2024-11-08T05:07:48.111Z"
   },
   {
    "duration": 8,
    "start_time": "2024-11-08T05:07:48.123Z"
   },
   {
    "duration": 8,
    "start_time": "2024-11-08T05:07:48.135Z"
   },
   {
    "duration": 4,
    "start_time": "2024-11-08T05:07:48.144Z"
   },
   {
    "duration": 38,
    "start_time": "2024-11-08T05:07:48.149Z"
   },
   {
    "duration": 3,
    "start_time": "2024-11-08T05:07:48.188Z"
   },
   {
    "duration": 5,
    "start_time": "2024-11-08T05:07:48.193Z"
   },
   {
    "duration": 4,
    "start_time": "2024-11-08T05:07:48.199Z"
   },
   {
    "duration": 7,
    "start_time": "2024-11-08T05:07:48.205Z"
   },
   {
    "duration": 6,
    "start_time": "2024-11-08T05:07:48.214Z"
   },
   {
    "duration": 5,
    "start_time": "2024-11-08T05:07:48.222Z"
   },
   {
    "duration": 10,
    "start_time": "2024-11-08T05:07:48.229Z"
   },
   {
    "duration": 50,
    "start_time": "2024-11-08T05:07:48.240Z"
   },
   {
    "duration": 849,
    "start_time": "2024-11-08T05:37:37.214Z"
   },
   {
    "duration": 7,
    "start_time": "2024-11-08T05:37:38.065Z"
   },
   {
    "duration": 6,
    "start_time": "2024-11-08T05:37:38.073Z"
   },
   {
    "duration": 6,
    "start_time": "2024-11-08T05:37:38.087Z"
   },
   {
    "duration": 2,
    "start_time": "2024-11-08T05:37:38.095Z"
   },
   {
    "duration": 6,
    "start_time": "2024-11-08T05:37:38.099Z"
   },
   {
    "duration": 3,
    "start_time": "2024-11-08T05:37:38.106Z"
   },
   {
    "duration": 10,
    "start_time": "2024-11-08T05:37:38.111Z"
   },
   {
    "duration": 4,
    "start_time": "2024-11-08T05:37:38.125Z"
   },
   {
    "duration": 7,
    "start_time": "2024-11-08T05:37:38.131Z"
   },
   {
    "duration": 5,
    "start_time": "2024-11-08T05:37:38.139Z"
   },
   {
    "duration": 47,
    "start_time": "2024-11-08T05:37:38.146Z"
   },
   {
    "duration": 3,
    "start_time": "2024-11-08T05:37:38.195Z"
   },
   {
    "duration": 4,
    "start_time": "2024-11-08T05:37:38.201Z"
   },
   {
    "duration": 4,
    "start_time": "2024-11-08T05:37:38.206Z"
   },
   {
    "duration": 8,
    "start_time": "2024-11-08T05:37:38.211Z"
   },
   {
    "duration": 6,
    "start_time": "2024-11-08T05:37:38.222Z"
   },
   {
    "duration": 5,
    "start_time": "2024-11-08T05:37:38.230Z"
   },
   {
    "duration": 311,
    "start_time": "2024-11-08T05:37:38.237Z"
   },
   {
    "duration": 0,
    "start_time": "2024-11-08T05:37:38.550Z"
   },
   {
    "duration": 12,
    "start_time": "2024-11-08T05:38:17.970Z"
   },
   {
    "duration": 5,
    "start_time": "2024-11-08T05:38:26.776Z"
   },
   {
    "duration": 5,
    "start_time": "2024-11-08T05:39:42.027Z"
   },
   {
    "duration": 4,
    "start_time": "2024-11-08T05:40:00.691Z"
   },
   {
    "duration": 5,
    "start_time": "2024-11-08T05:42:10.198Z"
   },
   {
    "duration": 815,
    "start_time": "2024-11-08T05:42:55.657Z"
   },
   {
    "duration": 14,
    "start_time": "2024-11-08T05:42:56.474Z"
   },
   {
    "duration": 5,
    "start_time": "2024-11-08T05:42:56.489Z"
   },
   {
    "duration": 5,
    "start_time": "2024-11-08T05:42:56.495Z"
   },
   {
    "duration": 2,
    "start_time": "2024-11-08T05:42:56.503Z"
   },
   {
    "duration": 6,
    "start_time": "2024-11-08T05:42:56.507Z"
   },
   {
    "duration": 4,
    "start_time": "2024-11-08T05:42:56.514Z"
   },
   {
    "duration": 9,
    "start_time": "2024-11-08T05:42:56.519Z"
   },
   {
    "duration": 3,
    "start_time": "2024-11-08T05:42:56.529Z"
   },
   {
    "duration": 4,
    "start_time": "2024-11-08T05:42:56.534Z"
   },
   {
    "duration": 47,
    "start_time": "2024-11-08T05:42:56.540Z"
   },
   {
    "duration": 7,
    "start_time": "2024-11-08T05:42:56.588Z"
   },
   {
    "duration": 3,
    "start_time": "2024-11-08T05:42:56.597Z"
   },
   {
    "duration": 3,
    "start_time": "2024-11-08T05:42:56.604Z"
   },
   {
    "duration": 4,
    "start_time": "2024-11-08T05:42:56.609Z"
   },
   {
    "duration": 7,
    "start_time": "2024-11-08T05:42:56.615Z"
   },
   {
    "duration": 7,
    "start_time": "2024-11-08T05:42:56.623Z"
   },
   {
    "duration": 6,
    "start_time": "2024-11-08T05:42:56.631Z"
   },
   {
    "duration": 56,
    "start_time": "2024-11-08T05:42:56.639Z"
   },
   {
    "duration": 4,
    "start_time": "2024-11-08T05:42:56.697Z"
   },
   {
    "duration": 3,
    "start_time": "2024-11-08T06:01:32.566Z"
   },
   {
    "duration": 3,
    "start_time": "2024-11-08T06:02:53.052Z"
   },
   {
    "duration": 793,
    "start_time": "2024-11-08T06:03:04.177Z"
   },
   {
    "duration": 16,
    "start_time": "2024-11-08T06:03:04.973Z"
   },
   {
    "duration": 5,
    "start_time": "2024-11-08T06:03:04.990Z"
   },
   {
    "duration": 5,
    "start_time": "2024-11-08T06:03:04.998Z"
   },
   {
    "duration": 5,
    "start_time": "2024-11-08T06:03:05.004Z"
   },
   {
    "duration": 4,
    "start_time": "2024-11-08T06:03:05.011Z"
   },
   {
    "duration": 9,
    "start_time": "2024-11-08T06:03:05.017Z"
   },
   {
    "duration": 3,
    "start_time": "2024-11-08T06:03:05.028Z"
   },
   {
    "duration": 7,
    "start_time": "2024-11-08T06:03:05.033Z"
   },
   {
    "duration": 2,
    "start_time": "2024-11-08T06:03:05.044Z"
   },
   {
    "duration": 45,
    "start_time": "2024-11-08T06:03:05.048Z"
   },
   {
    "duration": 4,
    "start_time": "2024-11-08T06:03:05.095Z"
   },
   {
    "duration": 7,
    "start_time": "2024-11-08T06:03:05.101Z"
   },
   {
    "duration": 6,
    "start_time": "2024-11-08T06:03:05.110Z"
   },
   {
    "duration": 11,
    "start_time": "2024-11-08T06:03:05.118Z"
   },
   {
    "duration": 5,
    "start_time": "2024-11-08T06:03:05.130Z"
   },
   {
    "duration": 4,
    "start_time": "2024-11-08T06:07:44.510Z"
   },
   {
    "duration": 4,
    "start_time": "2024-11-08T06:08:32.883Z"
   },
   {
    "duration": 3,
    "start_time": "2024-11-08T06:17:09.086Z"
   },
   {
    "duration": 5,
    "start_time": "2024-11-08T06:17:11.291Z"
   },
   {
    "duration": 412,
    "start_time": "2024-11-08T06:20:38.437Z"
   },
   {
    "duration": 1014,
    "start_time": "2024-11-08T06:22:19.039Z"
   },
   {
    "duration": 991,
    "start_time": "2024-11-08T06:22:43.970Z"
   },
   {
    "duration": 1701,
    "start_time": "2024-11-08T06:25:28.241Z"
   },
   {
    "duration": 1075,
    "start_time": "2024-11-08T06:25:45.428Z"
   },
   {
    "duration": 169,
    "start_time": "2024-11-08T06:33:52.691Z"
   },
   {
    "duration": 252,
    "start_time": "2024-11-08T06:34:00.602Z"
   },
   {
    "duration": 799,
    "start_time": "2024-11-08T06:35:14.672Z"
   },
   {
    "duration": 7,
    "start_time": "2024-11-08T06:35:15.473Z"
   },
   {
    "duration": 7,
    "start_time": "2024-11-08T06:35:15.481Z"
   },
   {
    "duration": 5,
    "start_time": "2024-11-08T06:35:15.490Z"
   },
   {
    "duration": 4,
    "start_time": "2024-11-08T06:35:15.497Z"
   },
   {
    "duration": 4,
    "start_time": "2024-11-08T06:35:15.503Z"
   },
   {
    "duration": 9,
    "start_time": "2024-11-08T06:35:15.509Z"
   },
   {
    "duration": 4,
    "start_time": "2024-11-08T06:35:15.519Z"
   },
   {
    "duration": 4,
    "start_time": "2024-11-08T06:35:15.524Z"
   },
   {
    "duration": 8,
    "start_time": "2024-11-08T06:35:15.531Z"
   },
   {
    "duration": 3,
    "start_time": "2024-11-08T06:35:15.540Z"
   },
   {
    "duration": 3,
    "start_time": "2024-11-08T06:35:15.587Z"
   },
   {
    "duration": 3,
    "start_time": "2024-11-08T06:35:15.592Z"
   },
   {
    "duration": 4,
    "start_time": "2024-11-08T06:35:15.597Z"
   },
   {
    "duration": 312,
    "start_time": "2024-11-08T06:35:15.603Z"
   },
   {
    "duration": 8,
    "start_time": "2024-11-08T06:35:15.917Z"
   },
   {
    "duration": 5,
    "start_time": "2024-11-08T06:35:15.927Z"
   },
   {
    "duration": 4,
    "start_time": "2024-11-08T06:35:15.934Z"
   },
   {
    "duration": 10,
    "start_time": "2024-11-08T06:35:15.939Z"
   },
   {
    "duration": 4,
    "start_time": "2024-11-08T06:35:15.950Z"
   },
   {
    "duration": 266,
    "start_time": "2024-11-08T06:38:50.407Z"
   },
   {
    "duration": 1285,
    "start_time": "2024-11-08T06:39:24.237Z"
   },
   {
    "duration": 1315,
    "start_time": "2024-11-08T06:43:28.554Z"
   },
   {
    "duration": 1369,
    "start_time": "2024-11-08T06:43:40.771Z"
   },
   {
    "duration": 1270,
    "start_time": "2024-11-08T06:44:19.686Z"
   },
   {
    "duration": 1258,
    "start_time": "2024-11-08T06:44:29.548Z"
   },
   {
    "duration": 1258,
    "start_time": "2024-11-08T06:44:47.452Z"
   },
   {
    "duration": 791,
    "start_time": "2024-11-08T06:46:11.991Z"
   },
   {
    "duration": 7,
    "start_time": "2024-11-08T06:46:12.784Z"
   },
   {
    "duration": 6,
    "start_time": "2024-11-08T06:46:12.792Z"
   },
   {
    "duration": 6,
    "start_time": "2024-11-08T06:46:12.799Z"
   },
   {
    "duration": 5,
    "start_time": "2024-11-08T06:46:12.807Z"
   },
   {
    "duration": 4,
    "start_time": "2024-11-08T06:46:12.814Z"
   },
   {
    "duration": 8,
    "start_time": "2024-11-08T06:46:12.820Z"
   },
   {
    "duration": 3,
    "start_time": "2024-11-08T06:46:12.829Z"
   },
   {
    "duration": 4,
    "start_time": "2024-11-08T06:46:12.834Z"
   },
   {
    "duration": 48,
    "start_time": "2024-11-08T06:46:12.840Z"
   },
   {
    "duration": 3,
    "start_time": "2024-11-08T06:46:12.890Z"
   },
   {
    "duration": 4,
    "start_time": "2024-11-08T06:46:12.895Z"
   },
   {
    "duration": 3,
    "start_time": "2024-11-08T06:46:12.901Z"
   },
   {
    "duration": 5,
    "start_time": "2024-11-08T06:46:12.907Z"
   },
   {
    "duration": 1422,
    "start_time": "2024-11-08T06:46:12.913Z"
   },
   {
    "duration": 282,
    "start_time": "2024-11-08T06:46:14.338Z"
   },
   {
    "duration": 9,
    "start_time": "2024-11-08T06:46:14.622Z"
   },
   {
    "duration": 4,
    "start_time": "2024-11-08T06:46:14.633Z"
   },
   {
    "duration": 4,
    "start_time": "2024-11-08T06:46:14.639Z"
   },
   {
    "duration": 11,
    "start_time": "2024-11-08T06:46:14.645Z"
   },
   {
    "duration": 32,
    "start_time": "2024-11-08T06:46:14.657Z"
   },
   {
    "duration": 814,
    "start_time": "2024-11-08T07:11:49.406Z"
   },
   {
    "duration": 6,
    "start_time": "2024-11-08T07:11:50.223Z"
   },
   {
    "duration": 5,
    "start_time": "2024-11-08T07:11:50.231Z"
   },
   {
    "duration": 5,
    "start_time": "2024-11-08T07:11:50.237Z"
   },
   {
    "duration": 5,
    "start_time": "2024-11-08T07:11:50.245Z"
   },
   {
    "duration": 4,
    "start_time": "2024-11-08T07:11:50.252Z"
   },
   {
    "duration": 29,
    "start_time": "2024-11-08T07:11:50.258Z"
   },
   {
    "duration": 3,
    "start_time": "2024-11-08T07:11:50.289Z"
   },
   {
    "duration": 4,
    "start_time": "2024-11-08T07:11:50.293Z"
   },
   {
    "duration": 7,
    "start_time": "2024-11-08T07:11:50.299Z"
   },
   {
    "duration": 3,
    "start_time": "2024-11-08T07:11:50.308Z"
   },
   {
    "duration": 3,
    "start_time": "2024-11-08T07:11:50.314Z"
   },
   {
    "duration": 3,
    "start_time": "2024-11-08T07:11:50.318Z"
   },
   {
    "duration": 4,
    "start_time": "2024-11-08T07:11:50.325Z"
   },
   {
    "duration": 1384,
    "start_time": "2024-11-08T07:11:50.331Z"
   },
   {
    "duration": 252,
    "start_time": "2024-11-08T07:11:51.716Z"
   },
   {
    "duration": 17,
    "start_time": "2024-11-08T07:11:51.970Z"
   },
   {
    "duration": 5,
    "start_time": "2024-11-08T07:11:51.988Z"
   },
   {
    "duration": 4,
    "start_time": "2024-11-08T07:11:51.994Z"
   },
   {
    "duration": 10,
    "start_time": "2024-11-08T07:11:52.000Z"
   },
   {
    "duration": 4,
    "start_time": "2024-11-08T07:11:52.012Z"
   },
   {
    "duration": 2,
    "start_time": "2024-11-08T07:12:42.079Z"
   },
   {
    "duration": 4,
    "start_time": "2024-11-08T08:02:56.663Z"
   },
   {
    "duration": 793,
    "start_time": "2024-11-08T08:06:59.990Z"
   },
   {
    "duration": 6,
    "start_time": "2024-11-08T08:07:00.785Z"
   },
   {
    "duration": 5,
    "start_time": "2024-11-08T08:07:00.792Z"
   },
   {
    "duration": 5,
    "start_time": "2024-11-08T08:07:00.798Z"
   },
   {
    "duration": 4,
    "start_time": "2024-11-08T08:07:00.805Z"
   },
   {
    "duration": 8,
    "start_time": "2024-11-08T08:07:00.811Z"
   },
   {
    "duration": 2,
    "start_time": "2024-11-08T08:07:00.821Z"
   },
   {
    "duration": 5,
    "start_time": "2024-11-08T08:07:00.825Z"
   },
   {
    "duration": 7,
    "start_time": "2024-11-08T08:07:00.832Z"
   },
   {
    "duration": 2,
    "start_time": "2024-11-08T08:07:00.841Z"
   },
   {
    "duration": 45,
    "start_time": "2024-11-08T08:07:00.845Z"
   },
   {
    "duration": 4,
    "start_time": "2024-11-08T08:07:00.892Z"
   },
   {
    "duration": 5,
    "start_time": "2024-11-08T08:07:00.897Z"
   },
   {
    "duration": 1381,
    "start_time": "2024-11-08T08:07:00.906Z"
   },
   {
    "duration": 279,
    "start_time": "2024-11-08T08:07:02.289Z"
   },
   {
    "duration": 17,
    "start_time": "2024-11-08T08:07:02.570Z"
   },
   {
    "duration": 3,
    "start_time": "2024-11-08T08:07:02.589Z"
   },
   {
    "duration": 8,
    "start_time": "2024-11-08T08:07:02.594Z"
   },
   {
    "duration": 3,
    "start_time": "2024-11-08T08:07:02.604Z"
   },
   {
    "duration": 5,
    "start_time": "2024-11-08T08:18:31.144Z"
   },
   {
    "duration": 3,
    "start_time": "2024-11-08T08:18:53.313Z"
   },
   {
    "duration": 9,
    "start_time": "2024-11-08T08:19:19.885Z"
   },
   {
    "duration": 6,
    "start_time": "2024-11-08T08:19:35.078Z"
   },
   {
    "duration": 11,
    "start_time": "2024-11-08T08:20:33.144Z"
   },
   {
    "duration": 5,
    "start_time": "2024-11-08T08:22:56.643Z"
   },
   {
    "duration": 5,
    "start_time": "2024-11-08T08:23:26.460Z"
   },
   {
    "duration": 4,
    "start_time": "2024-11-08T08:23:52.165Z"
   },
   {
    "duration": 2,
    "start_time": "2024-11-08T08:23:59.855Z"
   },
   {
    "duration": 796,
    "start_time": "2024-11-08T08:24:20.277Z"
   },
   {
    "duration": 7,
    "start_time": "2024-11-08T08:24:21.075Z"
   },
   {
    "duration": 6,
    "start_time": "2024-11-08T08:24:21.083Z"
   },
   {
    "duration": 5,
    "start_time": "2024-11-08T08:24:21.092Z"
   },
   {
    "duration": 4,
    "start_time": "2024-11-08T08:24:21.098Z"
   },
   {
    "duration": 8,
    "start_time": "2024-11-08T08:24:21.105Z"
   },
   {
    "duration": 3,
    "start_time": "2024-11-08T08:24:21.115Z"
   },
   {
    "duration": 4,
    "start_time": "2024-11-08T08:24:21.119Z"
   },
   {
    "duration": 17,
    "start_time": "2024-11-08T08:24:21.126Z"
   },
   {
    "duration": 2,
    "start_time": "2024-11-08T08:24:21.146Z"
   },
   {
    "duration": 37,
    "start_time": "2024-11-08T08:24:21.150Z"
   },
   {
    "duration": 3,
    "start_time": "2024-11-08T08:24:21.189Z"
   },
   {
    "duration": 5,
    "start_time": "2024-11-08T08:24:21.194Z"
   },
   {
    "duration": 1379,
    "start_time": "2024-11-08T08:24:21.200Z"
   },
   {
    "duration": 284,
    "start_time": "2024-11-08T08:24:22.581Z"
   },
   {
    "duration": 6,
    "start_time": "2024-11-08T08:24:22.866Z"
   },
   {
    "duration": 16,
    "start_time": "2024-11-08T08:24:22.873Z"
   },
   {
    "duration": 8,
    "start_time": "2024-11-08T08:24:22.891Z"
   },
   {
    "duration": 4,
    "start_time": "2024-11-08T08:24:22.901Z"
   },
   {
    "duration": 3,
    "start_time": "2024-11-08T08:24:22.907Z"
   },
   {
    "duration": 7,
    "start_time": "2024-11-08T08:24:22.912Z"
   },
   {
    "duration": 9,
    "start_time": "2024-11-08T08:24:22.920Z"
   },
   {
    "duration": 5,
    "start_time": "2024-11-08T08:24:22.930Z"
   },
   {
    "duration": 4,
    "start_time": "2024-11-08T08:24:22.937Z"
   },
   {
    "duration": 2,
    "start_time": "2024-11-08T08:24:22.943Z"
   },
   {
    "duration": 3,
    "start_time": "2024-11-08T08:27:13.849Z"
   },
   {
    "duration": 3,
    "start_time": "2024-11-08T08:27:31.366Z"
   },
   {
    "duration": 214,
    "start_time": "2024-11-08T08:29:00.513Z"
   },
   {
    "duration": 119,
    "start_time": "2024-11-08T08:29:23.074Z"
   },
   {
    "duration": 20,
    "start_time": "2024-11-08T08:29:37.175Z"
   },
   {
    "duration": 742,
    "start_time": "2024-11-08T08:34:29.745Z"
   },
   {
    "duration": 6,
    "start_time": "2024-11-08T08:34:30.490Z"
   },
   {
    "duration": 5,
    "start_time": "2024-11-08T08:34:30.498Z"
   },
   {
    "duration": 5,
    "start_time": "2024-11-08T08:34:30.504Z"
   },
   {
    "duration": 3,
    "start_time": "2024-11-08T08:34:30.512Z"
   },
   {
    "duration": 8,
    "start_time": "2024-11-08T08:34:30.517Z"
   },
   {
    "duration": 3,
    "start_time": "2024-11-08T08:34:30.526Z"
   },
   {
    "duration": 4,
    "start_time": "2024-11-08T08:34:30.531Z"
   },
   {
    "duration": 7,
    "start_time": "2024-11-08T08:34:30.536Z"
   },
   {
    "duration": 42,
    "start_time": "2024-11-08T08:34:30.545Z"
   },
   {
    "duration": 4,
    "start_time": "2024-11-08T08:34:30.589Z"
   },
   {
    "duration": 3,
    "start_time": "2024-11-08T08:34:30.595Z"
   },
   {
    "duration": 4,
    "start_time": "2024-11-08T08:34:30.600Z"
   },
   {
    "duration": 1408,
    "start_time": "2024-11-08T08:34:30.607Z"
   },
   {
    "duration": 253,
    "start_time": "2024-11-08T08:34:32.017Z"
   },
   {
    "duration": 7,
    "start_time": "2024-11-08T08:34:32.271Z"
   },
   {
    "duration": 5,
    "start_time": "2024-11-08T08:34:32.286Z"
   },
   {
    "duration": 9,
    "start_time": "2024-11-08T08:34:32.292Z"
   },
   {
    "duration": 4,
    "start_time": "2024-11-08T08:34:32.302Z"
   },
   {
    "duration": 4,
    "start_time": "2024-11-08T08:34:32.308Z"
   },
   {
    "duration": 4,
    "start_time": "2024-11-08T08:34:32.313Z"
   },
   {
    "duration": 4,
    "start_time": "2024-11-08T08:34:32.319Z"
   },
   {
    "duration": 9,
    "start_time": "2024-11-08T08:34:32.324Z"
   },
   {
    "duration": 4,
    "start_time": "2024-11-08T08:34:32.335Z"
   },
   {
    "duration": 48,
    "start_time": "2024-11-08T08:34:32.341Z"
   },
   {
    "duration": 3,
    "start_time": "2024-11-08T08:34:32.391Z"
   },
   {
    "duration": 3,
    "start_time": "2024-11-08T08:34:32.396Z"
   },
   {
    "duration": 2,
    "start_time": "2024-11-08T08:34:32.402Z"
   },
   {
    "duration": 220,
    "start_time": "2024-11-08T08:38:11.501Z"
   },
   {
    "duration": 4,
    "start_time": "2024-11-08T08:38:23.930Z"
   },
   {
    "duration": 3,
    "start_time": "2024-11-08T08:38:30.645Z"
   },
   {
    "duration": 4,
    "start_time": "2024-11-08T08:39:06.173Z"
   },
   {
    "duration": 3,
    "start_time": "2024-11-08T08:39:07.980Z"
   },
   {
    "duration": 3,
    "start_time": "2024-11-08T08:39:29.341Z"
   },
   {
    "duration": 4,
    "start_time": "2024-11-08T08:39:59.059Z"
   },
   {
    "duration": 2,
    "start_time": "2024-11-08T08:40:08.594Z"
   },
   {
    "duration": 4,
    "start_time": "2024-11-08T08:42:26.232Z"
   },
   {
    "duration": 3,
    "start_time": "2024-11-08T08:42:38.171Z"
   },
   {
    "duration": 5,
    "start_time": "2024-11-08T08:42:48.474Z"
   },
   {
    "duration": 8,
    "start_time": "2024-11-08T08:42:53.405Z"
   },
   {
    "duration": 799,
    "start_time": "2024-11-08T08:43:09.182Z"
   },
   {
    "duration": 7,
    "start_time": "2024-11-08T08:43:09.983Z"
   },
   {
    "duration": 4,
    "start_time": "2024-11-08T08:43:09.992Z"
   },
   {
    "duration": 5,
    "start_time": "2024-11-08T08:43:09.998Z"
   },
   {
    "duration": 4,
    "start_time": "2024-11-08T08:43:10.004Z"
   },
   {
    "duration": 8,
    "start_time": "2024-11-08T08:43:10.010Z"
   },
   {
    "duration": 3,
    "start_time": "2024-11-08T08:43:10.020Z"
   },
   {
    "duration": 4,
    "start_time": "2024-11-08T08:43:10.025Z"
   },
   {
    "duration": 7,
    "start_time": "2024-11-08T08:43:10.031Z"
   },
   {
    "duration": 44,
    "start_time": "2024-11-08T08:43:10.042Z"
   },
   {
    "duration": 5,
    "start_time": "2024-11-08T08:43:10.088Z"
   },
   {
    "duration": 3,
    "start_time": "2024-11-08T08:43:10.095Z"
   },
   {
    "duration": 6,
    "start_time": "2024-11-08T08:43:10.099Z"
   },
   {
    "duration": 1396,
    "start_time": "2024-11-08T08:43:10.107Z"
   },
   {
    "duration": 266,
    "start_time": "2024-11-08T08:43:11.505Z"
   },
   {
    "duration": 14,
    "start_time": "2024-11-08T08:43:11.773Z"
   },
   {
    "duration": 5,
    "start_time": "2024-11-08T08:43:11.788Z"
   },
   {
    "duration": 8,
    "start_time": "2024-11-08T08:43:11.795Z"
   },
   {
    "duration": 3,
    "start_time": "2024-11-08T08:43:11.805Z"
   },
   {
    "duration": 5,
    "start_time": "2024-11-08T08:43:11.809Z"
   },
   {
    "duration": 4,
    "start_time": "2024-11-08T08:43:11.815Z"
   },
   {
    "duration": 4,
    "start_time": "2024-11-08T08:43:11.821Z"
   },
   {
    "duration": 9,
    "start_time": "2024-11-08T08:43:11.826Z"
   },
   {
    "duration": 4,
    "start_time": "2024-11-08T08:43:11.838Z"
   },
   {
    "duration": 45,
    "start_time": "2024-11-08T08:43:11.843Z"
   },
   {
    "duration": 8,
    "start_time": "2024-11-08T08:43:11.890Z"
   },
   {
    "duration": 4,
    "start_time": "2024-11-08T08:43:11.899Z"
   },
   {
    "duration": 3,
    "start_time": "2024-11-08T08:43:11.906Z"
   },
   {
    "duration": 4,
    "start_time": "2024-11-08T08:43:11.910Z"
   },
   {
    "duration": 3,
    "start_time": "2024-11-08T08:43:11.916Z"
   },
   {
    "duration": 249,
    "start_time": "2024-11-08T08:43:11.920Z"
   },
   {
    "duration": 1,
    "start_time": "2024-11-08T08:43:12.170Z"
   },
   {
    "duration": 5,
    "start_time": "2024-11-08T08:49:15.675Z"
   },
   {
    "duration": 3,
    "start_time": "2024-11-08T08:49:38.042Z"
   },
   {
    "duration": 814,
    "start_time": "2024-11-08T08:49:47.573Z"
   },
   {
    "duration": 7,
    "start_time": "2024-11-08T08:49:48.390Z"
   },
   {
    "duration": 5,
    "start_time": "2024-11-08T08:49:48.398Z"
   },
   {
    "duration": 5,
    "start_time": "2024-11-08T08:49:48.405Z"
   },
   {
    "duration": 5,
    "start_time": "2024-11-08T08:49:48.411Z"
   },
   {
    "duration": 8,
    "start_time": "2024-11-08T08:49:48.417Z"
   },
   {
    "duration": 4,
    "start_time": "2024-11-08T08:49:48.427Z"
   },
   {
    "duration": 4,
    "start_time": "2024-11-08T08:49:48.432Z"
   },
   {
    "duration": 49,
    "start_time": "2024-11-08T08:49:48.438Z"
   },
   {
    "duration": 3,
    "start_time": "2024-11-08T08:49:48.492Z"
   },
   {
    "duration": 5,
    "start_time": "2024-11-08T08:49:48.496Z"
   },
   {
    "duration": 3,
    "start_time": "2024-11-08T08:49:48.502Z"
   },
   {
    "duration": 5,
    "start_time": "2024-11-08T08:49:48.507Z"
   },
   {
    "duration": 1413,
    "start_time": "2024-11-08T08:49:48.514Z"
   },
   {
    "duration": 264,
    "start_time": "2024-11-08T08:49:49.930Z"
   },
   {
    "duration": 6,
    "start_time": "2024-11-08T08:49:50.196Z"
   },
   {
    "duration": 5,
    "start_time": "2024-11-08T08:49:50.203Z"
   },
   {
    "duration": 8,
    "start_time": "2024-11-08T08:49:50.209Z"
   },
   {
    "duration": 3,
    "start_time": "2024-11-08T08:49:50.219Z"
   },
   {
    "duration": 4,
    "start_time": "2024-11-08T08:49:50.224Z"
   },
   {
    "duration": 3,
    "start_time": "2024-11-08T08:49:50.230Z"
   },
   {
    "duration": 4,
    "start_time": "2024-11-08T08:49:50.234Z"
   },
   {
    "duration": 48,
    "start_time": "2024-11-08T08:49:50.240Z"
   },
   {
    "duration": 5,
    "start_time": "2024-11-08T08:49:50.290Z"
   },
   {
    "duration": 3,
    "start_time": "2024-11-08T08:49:50.297Z"
   },
   {
    "duration": 8,
    "start_time": "2024-11-08T08:49:50.302Z"
   },
   {
    "duration": 3,
    "start_time": "2024-11-08T08:49:50.312Z"
   },
   {
    "duration": 3,
    "start_time": "2024-11-08T08:49:50.319Z"
   },
   {
    "duration": 4,
    "start_time": "2024-11-08T08:49:50.323Z"
   },
   {
    "duration": 3,
    "start_time": "2024-11-08T08:49:50.329Z"
   },
   {
    "duration": 4,
    "start_time": "2024-11-08T08:49:50.334Z"
   },
   {
    "duration": 46,
    "start_time": "2024-11-08T08:49:50.340Z"
   },
   {
    "duration": 233,
    "start_time": "2024-11-08T08:49:50.388Z"
   },
   {
    "duration": 0,
    "start_time": "2024-11-08T08:49:50.623Z"
   },
   {
    "duration": 755,
    "start_time": "2024-11-08T08:54:47.937Z"
   },
   {
    "duration": 6,
    "start_time": "2024-11-08T08:54:48.694Z"
   },
   {
    "duration": 4,
    "start_time": "2024-11-08T08:54:48.701Z"
   },
   {
    "duration": 5,
    "start_time": "2024-11-08T08:54:48.708Z"
   },
   {
    "duration": 4,
    "start_time": "2024-11-08T08:54:48.714Z"
   },
   {
    "duration": 8,
    "start_time": "2024-11-08T08:54:48.719Z"
   },
   {
    "duration": 3,
    "start_time": "2024-11-08T08:54:48.728Z"
   },
   {
    "duration": 4,
    "start_time": "2024-11-08T08:54:48.733Z"
   },
   {
    "duration": 48,
    "start_time": "2024-11-08T08:54:48.739Z"
   },
   {
    "duration": 3,
    "start_time": "2024-11-08T08:54:48.790Z"
   },
   {
    "duration": 4,
    "start_time": "2024-11-08T08:54:48.794Z"
   },
   {
    "duration": 3,
    "start_time": "2024-11-08T08:54:48.800Z"
   },
   {
    "duration": 4,
    "start_time": "2024-11-08T08:54:48.805Z"
   },
   {
    "duration": 1373,
    "start_time": "2024-11-08T08:54:48.810Z"
   },
   {
    "duration": 271,
    "start_time": "2024-11-08T08:54:50.185Z"
   },
   {
    "duration": 5,
    "start_time": "2024-11-08T08:54:50.458Z"
   },
   {
    "duration": 4,
    "start_time": "2024-11-08T08:54:50.465Z"
   },
   {
    "duration": 9,
    "start_time": "2024-11-08T08:54:50.486Z"
   },
   {
    "duration": 3,
    "start_time": "2024-11-08T08:54:50.497Z"
   },
   {
    "duration": 230,
    "start_time": "2024-11-08T08:54:50.502Z"
   },
   {
    "duration": 0,
    "start_time": "2024-11-08T08:54:50.735Z"
   },
   {
    "duration": 0,
    "start_time": "2024-11-08T08:54:50.736Z"
   },
   {
    "duration": 0,
    "start_time": "2024-11-08T08:54:50.738Z"
   },
   {
    "duration": 0,
    "start_time": "2024-11-08T08:54:50.739Z"
   },
   {
    "duration": 0,
    "start_time": "2024-11-08T08:54:50.741Z"
   },
   {
    "duration": 0,
    "start_time": "2024-11-08T08:54:50.742Z"
   },
   {
    "duration": 0,
    "start_time": "2024-11-08T08:54:50.743Z"
   },
   {
    "duration": 0,
    "start_time": "2024-11-08T08:54:50.744Z"
   },
   {
    "duration": 0,
    "start_time": "2024-11-08T08:54:50.745Z"
   },
   {
    "duration": 0,
    "start_time": "2024-11-08T08:54:50.746Z"
   },
   {
    "duration": 4,
    "start_time": "2024-11-08T08:55:41.711Z"
   },
   {
    "duration": 3,
    "start_time": "2024-11-08T08:55:45.284Z"
   },
   {
    "duration": 298,
    "start_time": "2024-11-08T08:55:48.108Z"
   },
   {
    "duration": 5,
    "start_time": "2024-11-08T08:57:36.554Z"
   },
   {
    "duration": 919,
    "start_time": "2024-11-08T08:58:25.024Z"
   },
   {
    "duration": 7,
    "start_time": "2024-11-08T08:58:25.946Z"
   },
   {
    "duration": 5,
    "start_time": "2024-11-08T08:58:25.955Z"
   },
   {
    "duration": 6,
    "start_time": "2024-11-08T08:58:25.962Z"
   },
   {
    "duration": 17,
    "start_time": "2024-11-08T08:58:25.971Z"
   },
   {
    "duration": 10,
    "start_time": "2024-11-08T08:58:25.990Z"
   },
   {
    "duration": 2,
    "start_time": "2024-11-08T08:58:26.003Z"
   },
   {
    "duration": 3,
    "start_time": "2024-11-08T08:58:26.008Z"
   },
   {
    "duration": 8,
    "start_time": "2024-11-08T08:58:26.013Z"
   },
   {
    "duration": 6,
    "start_time": "2024-11-08T08:58:26.022Z"
   },
   {
    "duration": 6,
    "start_time": "2024-11-08T08:58:26.031Z"
   },
   {
    "duration": 4,
    "start_time": "2024-11-08T08:58:26.040Z"
   },
   {
    "duration": 41,
    "start_time": "2024-11-08T08:58:26.046Z"
   },
   {
    "duration": 1419,
    "start_time": "2024-11-08T08:58:26.092Z"
   },
   {
    "duration": 298,
    "start_time": "2024-11-08T08:58:27.513Z"
   },
   {
    "duration": 6,
    "start_time": "2024-11-08T08:58:27.815Z"
   },
   {
    "duration": 6,
    "start_time": "2024-11-08T08:58:27.825Z"
   },
   {
    "duration": 9,
    "start_time": "2024-11-08T08:58:27.833Z"
   },
   {
    "duration": 12,
    "start_time": "2024-11-08T08:58:27.844Z"
   },
   {
    "duration": 9,
    "start_time": "2024-11-08T08:58:27.858Z"
   },
   {
    "duration": 4,
    "start_time": "2024-11-08T08:58:27.886Z"
   },
   {
    "duration": 5,
    "start_time": "2024-11-08T08:58:27.892Z"
   },
   {
    "duration": 4,
    "start_time": "2024-11-08T08:58:27.899Z"
   },
   {
    "duration": 686,
    "start_time": "2024-11-08T08:58:27.905Z"
   },
   {
    "duration": 0,
    "start_time": "2024-11-08T08:58:28.592Z"
   },
   {
    "duration": 0,
    "start_time": "2024-11-08T08:58:28.593Z"
   },
   {
    "duration": 0,
    "start_time": "2024-11-08T08:58:28.595Z"
   },
   {
    "duration": 0,
    "start_time": "2024-11-08T08:58:28.596Z"
   },
   {
    "duration": 0,
    "start_time": "2024-11-08T08:58:28.597Z"
   },
   {
    "duration": 5,
    "start_time": "2024-11-08T08:59:13.319Z"
   },
   {
    "duration": 15,
    "start_time": "2024-11-08T09:01:52.490Z"
   },
   {
    "duration": 4,
    "start_time": "2024-11-08T09:02:05.760Z"
   },
   {
    "duration": 9,
    "start_time": "2024-11-08T09:03:20.226Z"
   },
   {
    "duration": 15,
    "start_time": "2024-11-08T09:03:45.119Z"
   },
   {
    "duration": 6,
    "start_time": "2024-11-08T09:04:03.690Z"
   },
   {
    "duration": 12,
    "start_time": "2024-11-08T09:04:26.050Z"
   },
   {
    "duration": 12,
    "start_time": "2024-11-08T09:04:51.764Z"
   },
   {
    "duration": 3,
    "start_time": "2024-11-08T09:05:34.388Z"
   },
   {
    "duration": 3,
    "start_time": "2024-11-08T09:05:47.353Z"
   },
   {
    "duration": 3,
    "start_time": "2024-11-08T09:06:11.458Z"
   },
   {
    "duration": 832,
    "start_time": "2024-11-08T09:07:18.820Z"
   },
   {
    "duration": 7,
    "start_time": "2024-11-08T09:07:19.654Z"
   },
   {
    "duration": 5,
    "start_time": "2024-11-08T09:07:19.662Z"
   },
   {
    "duration": 4,
    "start_time": "2024-11-08T09:07:19.669Z"
   },
   {
    "duration": 4,
    "start_time": "2024-11-08T09:07:19.687Z"
   },
   {
    "duration": 8,
    "start_time": "2024-11-08T09:07:19.693Z"
   },
   {
    "duration": 2,
    "start_time": "2024-11-08T09:07:19.703Z"
   },
   {
    "duration": 4,
    "start_time": "2024-11-08T09:07:19.707Z"
   },
   {
    "duration": 7,
    "start_time": "2024-11-08T09:07:19.712Z"
   },
   {
    "duration": 2,
    "start_time": "2024-11-08T09:07:19.723Z"
   },
   {
    "duration": 4,
    "start_time": "2024-11-08T09:07:19.727Z"
   },
   {
    "duration": 3,
    "start_time": "2024-11-08T09:07:19.733Z"
   },
   {
    "duration": 50,
    "start_time": "2024-11-08T09:07:19.738Z"
   },
   {
    "duration": 1345,
    "start_time": "2024-11-08T09:07:19.790Z"
   },
   {
    "duration": 273,
    "start_time": "2024-11-08T09:07:21.137Z"
   },
   {
    "duration": 6,
    "start_time": "2024-11-08T09:07:21.412Z"
   },
   {
    "duration": 4,
    "start_time": "2024-11-08T09:07:21.419Z"
   },
   {
    "duration": 8,
    "start_time": "2024-11-08T09:07:21.425Z"
   },
   {
    "duration": 3,
    "start_time": "2024-11-08T09:07:21.435Z"
   },
   {
    "duration": 3,
    "start_time": "2024-11-08T09:07:21.440Z"
   },
   {
    "duration": 4,
    "start_time": "2024-11-08T09:07:21.445Z"
   },
   {
    "duration": 38,
    "start_time": "2024-11-08T09:07:21.451Z"
   },
   {
    "duration": 11,
    "start_time": "2024-11-08T09:07:21.491Z"
   },
   {
    "duration": 10,
    "start_time": "2024-11-08T09:07:21.503Z"
   },
   {
    "duration": 3,
    "start_time": "2024-11-08T09:07:21.514Z"
   },
   {
    "duration": 3,
    "start_time": "2024-11-08T09:07:21.519Z"
   },
   {
    "duration": 3,
    "start_time": "2024-11-08T09:07:21.524Z"
   },
   {
    "duration": 2541,
    "start_time": "2024-11-08T18:50:37.665Z"
   },
   {
    "duration": 10,
    "start_time": "2024-11-08T18:50:40.208Z"
   },
   {
    "duration": 8,
    "start_time": "2024-11-08T18:50:40.220Z"
   },
   {
    "duration": 6,
    "start_time": "2024-11-08T18:50:40.229Z"
   },
   {
    "duration": 4,
    "start_time": "2024-11-08T18:50:40.237Z"
   },
   {
    "duration": 9,
    "start_time": "2024-11-08T18:50:40.243Z"
   },
   {
    "duration": 3,
    "start_time": "2024-11-08T18:50:40.254Z"
   },
   {
    "duration": 5,
    "start_time": "2024-11-08T18:50:40.258Z"
   },
   {
    "duration": 8,
    "start_time": "2024-11-08T18:50:40.264Z"
   },
   {
    "duration": 4,
    "start_time": "2024-11-08T18:50:40.311Z"
   },
   {
    "duration": 5,
    "start_time": "2024-11-08T18:50:40.317Z"
   },
   {
    "duration": 4,
    "start_time": "2024-11-08T18:50:40.323Z"
   },
   {
    "duration": 5,
    "start_time": "2024-11-08T18:50:40.328Z"
   },
   {
    "duration": 1363,
    "start_time": "2024-11-08T18:50:40.337Z"
   },
   {
    "duration": 338,
    "start_time": "2024-11-08T18:50:41.702Z"
   },
   {
    "duration": 10,
    "start_time": "2024-11-08T18:50:42.042Z"
   },
   {
    "duration": 4,
    "start_time": "2024-11-08T18:50:42.054Z"
   },
   {
    "duration": 9,
    "start_time": "2024-11-08T18:50:42.060Z"
   },
   {
    "duration": 3,
    "start_time": "2024-11-08T18:50:42.071Z"
   },
   {
    "duration": 4,
    "start_time": "2024-11-08T18:50:42.075Z"
   },
   {
    "duration": 35,
    "start_time": "2024-11-08T18:50:42.081Z"
   },
   {
    "duration": 5,
    "start_time": "2024-11-08T18:50:42.118Z"
   },
   {
    "duration": 12,
    "start_time": "2024-11-08T18:50:42.125Z"
   },
   {
    "duration": 11,
    "start_time": "2024-11-08T18:50:42.139Z"
   },
   {
    "duration": 4,
    "start_time": "2024-11-08T18:50:42.152Z"
   },
   {
    "duration": 3,
    "start_time": "2024-11-08T18:50:42.158Z"
   },
   {
    "duration": 3,
    "start_time": "2024-11-08T18:50:42.163Z"
   },
   {
    "duration": 1269,
    "start_time": "2024-11-08T18:55:04.271Z"
   },
   {
    "duration": 1256,
    "start_time": "2024-11-08T19:16:31.498Z"
   },
   {
    "duration": 1274,
    "start_time": "2024-11-08T19:16:55.509Z"
   },
   {
    "duration": 1309,
    "start_time": "2024-11-08T19:17:41.444Z"
   },
   {
    "duration": 1250,
    "start_time": "2024-11-08T19:18:05.936Z"
   },
   {
    "duration": 1261,
    "start_time": "2024-11-08T19:18:17.893Z"
   },
   {
    "duration": 1251,
    "start_time": "2024-11-08T19:18:24.331Z"
   },
   {
    "duration": 1381,
    "start_time": "2024-11-08T19:19:00.090Z"
   },
   {
    "duration": 1253,
    "start_time": "2024-11-08T19:19:21.216Z"
   },
   {
    "duration": 1276,
    "start_time": "2024-11-08T19:19:35.039Z"
   },
   {
    "duration": 1373,
    "start_time": "2024-11-08T19:19:49.458Z"
   },
   {
    "duration": 1303,
    "start_time": "2024-11-08T19:20:06.653Z"
   },
   {
    "duration": 844,
    "start_time": "2024-11-08T20:01:16.656Z"
   },
   {
    "duration": 10,
    "start_time": "2024-11-08T20:01:17.502Z"
   },
   {
    "duration": 6,
    "start_time": "2024-11-08T20:01:17.514Z"
   },
   {
    "duration": 6,
    "start_time": "2024-11-08T20:01:17.521Z"
   },
   {
    "duration": 4,
    "start_time": "2024-11-08T20:01:17.530Z"
   },
   {
    "duration": 9,
    "start_time": "2024-11-08T20:01:17.536Z"
   },
   {
    "duration": 4,
    "start_time": "2024-11-08T20:01:17.546Z"
   },
   {
    "duration": 4,
    "start_time": "2024-11-08T20:01:17.551Z"
   },
   {
    "duration": 8,
    "start_time": "2024-11-08T20:01:17.558Z"
   },
   {
    "duration": 42,
    "start_time": "2024-11-08T20:01:17.569Z"
   },
   {
    "duration": 4,
    "start_time": "2024-11-08T20:01:17.613Z"
   },
   {
    "duration": 4,
    "start_time": "2024-11-08T20:01:17.619Z"
   },
   {
    "duration": 5,
    "start_time": "2024-11-08T20:01:17.625Z"
   },
   {
    "duration": 1435,
    "start_time": "2024-11-08T20:01:17.633Z"
   },
   {
    "duration": 286,
    "start_time": "2024-11-08T20:01:19.070Z"
   },
   {
    "duration": 7,
    "start_time": "2024-11-08T20:01:19.358Z"
   },
   {
    "duration": 5,
    "start_time": "2024-11-08T20:01:19.366Z"
   },
   {
    "duration": 8,
    "start_time": "2024-11-08T20:01:19.373Z"
   },
   {
    "duration": 4,
    "start_time": "2024-11-08T20:01:19.382Z"
   },
   {
    "duration": 28,
    "start_time": "2024-11-08T20:01:19.387Z"
   },
   {
    "duration": 5,
    "start_time": "2024-11-08T20:01:19.417Z"
   },
   {
    "duration": 4,
    "start_time": "2024-11-08T20:01:19.424Z"
   },
   {
    "duration": 10,
    "start_time": "2024-11-08T20:01:19.430Z"
   },
   {
    "duration": 9,
    "start_time": "2024-11-08T20:01:19.442Z"
   },
   {
    "duration": 3,
    "start_time": "2024-11-08T20:01:19.453Z"
   },
   {
    "duration": 3,
    "start_time": "2024-11-08T20:01:19.458Z"
   },
   {
    "duration": 3,
    "start_time": "2024-11-08T20:01:19.463Z"
   }
  ],
  "kernelspec": {
   "display_name": "Python 3 (ipykernel)",
   "language": "python",
   "name": "python3"
  },
  "language_info": {
   "codemirror_mode": {
    "name": "ipython",
    "version": 3
   },
   "file_extension": ".py",
   "mimetype": "text/x-python",
   "name": "python",
   "nbconvert_exporter": "python",
   "pygments_lexer": "ipython3",
   "version": "3.12.7"
  },
  "toc": {
   "base_numbering": 1,
   "nav_menu": {},
   "number_sections": true,
   "sideBar": true,
   "skip_h1_title": true,
   "title_cell": "Table of Contents",
   "title_sidebar": "Contents",
   "toc_cell": false,
   "toc_position": {},
   "toc_section_display": true,
   "toc_window_display": false
  }
 },
 "nbformat": 4,
 "nbformat_minor": 4
}
