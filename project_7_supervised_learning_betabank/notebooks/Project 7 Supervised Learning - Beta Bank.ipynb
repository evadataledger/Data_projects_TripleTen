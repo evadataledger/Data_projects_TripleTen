{
 "cells": [
  {
   "cell_type": "markdown",
   "metadata": {},
   "source": [
    "# Project 7: Supervised Learning - Beta Bank \n"
   ]
  },
  {
   "cell_type": "markdown",
   "metadata": {},
   "source": [
    "# Introduction & Project Description\n",
    "\n",
    "As a Data Scientist for Beta Bank we recently discovered customers are leaving: little by little, chipping away every month. The bankers figured out it’s cheaper to save the existing customers rather than to attract new ones.\n",
    "\n",
    "The data scientist need to predict whether customers will leaving the bank soon. The goal will be to analyze data on clients’ past behavior and termination of contracts with the bank.\n",
    "\n",
    "As part of htis process the goal is to build a model with the maximum possible F1 score, with an F1 score of at least 0.59. Check the F1 for the test set.\n",
    "\n",
    "Additionally, measure the AUC-ROC metric and compare it with the F1.\n",
    "\n",
    "Key Metric: F1 Score >= 0.59 (final evaluation on the test subset).\n",
    "Additional Metric: AUC-ROC (to compare model performance)."
   ]
  },
  {
   "cell_type": "markdown",
   "metadata": {},
   "source": [
    "# Data Quality Evaluation & Description of Data\n",
    "\n",
    "The model construction will rely on the following dataset: '/datasets/Churn.csv'**. Every observation in the dataset contains sensitive information regarding the customers transactional behavior and the number of customers which have left Beta Bank and the number of customers that remain with Beta Bank. What is the anticatpated percentage of customers that may potentially leave Beta Bank in the near future?\n",
    "\n",
    "**Features** *(independent variables)*: \n",
    "\n",
    "    RowNumber — data string index\n",
    "    CustomerId — unique customer identifier\n",
    "    Surname — surname\n",
    "    CreditScore — credit score\n",
    "    Geography — country of residence\n",
    "    Gender — gender\n",
    "    Age — age\n",
    "    Tenure — period of maturation for a customer’s fixed deposit (years)\n",
    "    Balance — account balance\n",
    "    NumOfProducts — number of banking products used by the customer\n",
    "    HasCrCard — customer has a credit card\n",
    "    IsActiveMember — customer’s activeness\n",
    "    EstimatedSalary — estimated salary\n",
    "\n",
    "**Target** *(dependent variables)*:\n",
    "\n",
    "    Exited — сustomer has left"
   ]
  },
  {
   "cell_type": "markdown",
   "metadata": {},
   "source": [
    "**1. DOWNLOAD, PREPARE AND EXPLORE THE DATA.** *Investigate/Exploratory Data Analysis (EDA). Explain the procedure.*"
   ]
  },
  {
   "cell_type": "code",
   "execution_count": 1,
   "metadata": {},
   "outputs": [],
   "source": [
    "# import required libraries \n",
    "import pandas as pd\n",
    "import numpy as np\n",
    "import itertools\n",
    "\n",
    "# model training evaluation\n",
    "from sklearn.preprocessing import StandardScaler\n",
    "from sklearn.linear_model import LogisticRegression\n",
    "from sklearn.tree import DecisionTreeClassifier\n",
    "from sklearn.ensemble import RandomForestClassifier, GradientBoostingClassifier\n",
    "from sklearn.model_selection import train_test_split, StratifiedKFold, GridSearchCV\n",
    "from sklearn.metrics import f1_score, roc_auc_score, classification_report, roc_curve, auc, RocCurveDisplay, precision_recall_curve\n",
    "from sklearn.utils import resample\n",
    "\n",
    "from math import gcd\n",
    "\n",
    "# Matplotlib for visualizations\n",
    "import matplotlib.pyplot as plt\n",
    "import seaborn as sns"
   ]
  },
  {
   "cell_type": "code",
   "execution_count": 2,
   "metadata": {},
   "outputs": [],
   "source": [
    "# Load the data, open, and look through the the data file. Path to the file: '/datasets/Churn.csv'\n",
    "cust_churn = pd.read_csv('/datasets/Churn.csv')"
   ]
  },
  {
   "cell_type": "code",
   "execution_count": 3,
   "metadata": {},
   "outputs": [
    {
     "data": {
      "text/html": [
       "<div>\n",
       "<style scoped>\n",
       "    .dataframe tbody tr th:only-of-type {\n",
       "        vertical-align: middle;\n",
       "    }\n",
       "\n",
       "    .dataframe tbody tr th {\n",
       "        vertical-align: top;\n",
       "    }\n",
       "\n",
       "    .dataframe thead th {\n",
       "        text-align: right;\n",
       "    }\n",
       "</style>\n",
       "<table border=\"1\" class=\"dataframe\">\n",
       "  <thead>\n",
       "    <tr style=\"text-align: right;\">\n",
       "      <th></th>\n",
       "      <th>RowNumber</th>\n",
       "      <th>CustomerId</th>\n",
       "      <th>Surname</th>\n",
       "      <th>CreditScore</th>\n",
       "      <th>Geography</th>\n",
       "      <th>Gender</th>\n",
       "      <th>Age</th>\n",
       "      <th>Tenure</th>\n",
       "      <th>Balance</th>\n",
       "      <th>NumOfProducts</th>\n",
       "      <th>HasCrCard</th>\n",
       "      <th>IsActiveMember</th>\n",
       "      <th>EstimatedSalary</th>\n",
       "      <th>Exited</th>\n",
       "    </tr>\n",
       "  </thead>\n",
       "  <tbody>\n",
       "    <tr>\n",
       "      <th>0</th>\n",
       "      <td>1</td>\n",
       "      <td>15634602</td>\n",
       "      <td>Hargrave</td>\n",
       "      <td>619</td>\n",
       "      <td>France</td>\n",
       "      <td>Female</td>\n",
       "      <td>42</td>\n",
       "      <td>2.0</td>\n",
       "      <td>0.00</td>\n",
       "      <td>1</td>\n",
       "      <td>1</td>\n",
       "      <td>1</td>\n",
       "      <td>101348.88</td>\n",
       "      <td>1</td>\n",
       "    </tr>\n",
       "    <tr>\n",
       "      <th>1</th>\n",
       "      <td>2</td>\n",
       "      <td>15647311</td>\n",
       "      <td>Hill</td>\n",
       "      <td>608</td>\n",
       "      <td>Spain</td>\n",
       "      <td>Female</td>\n",
       "      <td>41</td>\n",
       "      <td>1.0</td>\n",
       "      <td>83807.86</td>\n",
       "      <td>1</td>\n",
       "      <td>0</td>\n",
       "      <td>1</td>\n",
       "      <td>112542.58</td>\n",
       "      <td>0</td>\n",
       "    </tr>\n",
       "    <tr>\n",
       "      <th>2</th>\n",
       "      <td>3</td>\n",
       "      <td>15619304</td>\n",
       "      <td>Onio</td>\n",
       "      <td>502</td>\n",
       "      <td>France</td>\n",
       "      <td>Female</td>\n",
       "      <td>42</td>\n",
       "      <td>8.0</td>\n",
       "      <td>159660.80</td>\n",
       "      <td>3</td>\n",
       "      <td>1</td>\n",
       "      <td>0</td>\n",
       "      <td>113931.57</td>\n",
       "      <td>1</td>\n",
       "    </tr>\n",
       "    <tr>\n",
       "      <th>3</th>\n",
       "      <td>4</td>\n",
       "      <td>15701354</td>\n",
       "      <td>Boni</td>\n",
       "      <td>699</td>\n",
       "      <td>France</td>\n",
       "      <td>Female</td>\n",
       "      <td>39</td>\n",
       "      <td>1.0</td>\n",
       "      <td>0.00</td>\n",
       "      <td>2</td>\n",
       "      <td>0</td>\n",
       "      <td>0</td>\n",
       "      <td>93826.63</td>\n",
       "      <td>0</td>\n",
       "    </tr>\n",
       "    <tr>\n",
       "      <th>4</th>\n",
       "      <td>5</td>\n",
       "      <td>15737888</td>\n",
       "      <td>Mitchell</td>\n",
       "      <td>850</td>\n",
       "      <td>Spain</td>\n",
       "      <td>Female</td>\n",
       "      <td>43</td>\n",
       "      <td>2.0</td>\n",
       "      <td>125510.82</td>\n",
       "      <td>1</td>\n",
       "      <td>1</td>\n",
       "      <td>1</td>\n",
       "      <td>79084.10</td>\n",
       "      <td>0</td>\n",
       "    </tr>\n",
       "  </tbody>\n",
       "</table>\n",
       "</div>"
      ],
      "text/plain": [
       "   RowNumber  CustomerId   Surname  CreditScore Geography  Gender  Age  \\\n",
       "0          1    15634602  Hargrave          619    France  Female   42   \n",
       "1          2    15647311      Hill          608     Spain  Female   41   \n",
       "2          3    15619304      Onio          502    France  Female   42   \n",
       "3          4    15701354      Boni          699    France  Female   39   \n",
       "4          5    15737888  Mitchell          850     Spain  Female   43   \n",
       "\n",
       "   Tenure    Balance  NumOfProducts  HasCrCard  IsActiveMember  \\\n",
       "0     2.0       0.00              1          1               1   \n",
       "1     1.0   83807.86              1          0               1   \n",
       "2     8.0  159660.80              3          1               0   \n",
       "3     1.0       0.00              2          0               0   \n",
       "4     2.0  125510.82              1          1               1   \n",
       "\n",
       "   EstimatedSalary  Exited  \n",
       "0        101348.88       1  \n",
       "1        112542.58       0  \n",
       "2        113931.57       1  \n",
       "3         93826.63       0  \n",
       "4         79084.10       0  "
      ]
     },
     "execution_count": 3,
     "metadata": {},
     "output_type": "execute_result"
    }
   ],
   "source": [
    "# EDA - display the first five rows - dataset structure \n",
    "cust_churn.head()"
   ]
  },
  {
   "cell_type": "code",
   "execution_count": 4,
   "metadata": {},
   "outputs": [
    {
     "data": {
      "text/plain": [
       "Index(['RowNumber', 'CustomerId', 'Surname', 'CreditScore', 'Geography',\n",
       "       'Gender', 'Age', 'Tenure', 'Balance', 'NumOfProducts', 'HasCrCard',\n",
       "       'IsActiveMember', 'EstimatedSalary', 'Exited'],\n",
       "      dtype='object')"
      ]
     },
     "execution_count": 4,
     "metadata": {},
     "output_type": "execute_result"
    }
   ],
   "source": [
    "# EDA\n",
    "cust_churn.columns"
   ]
  },
  {
   "cell_type": "markdown",
   "metadata": {},
   "source": [
    "**Insights**\n",
    "\n",
    "**1. Target Variable Analysis:**\n",
    "- The *'Exited'* column is a binary target variable where either 1 or 0 may indicate the customer has either existed, or is still active. This makes the dataset suitable for binary classification tasks, with potential applications like predicting customer churn. Ideally, the source of the data (such as Beta Bank) would confirm the meaning of 1 and 0 in the 'Exited' column. In the absence of documentation, we rely on patterns and contextual clues. \n",
    "\n",
    "**2. Categorical Features:**\n",
    "- *'Geography'* indicates the customer's location. This feature is categorical and may need to be encoded (ohe or label). \n",
    "- *'Gender'* a binary categorical features, that may influence customer behavior. \n",
    "- *'HasCrCard'* and *'IsActiveMember'* Binary categorical features (1 or 0), representing whether the customer has a credit card and their activty level in the bank.\n",
    "\n",
    "**3. Numerical Features:** \n",
    "- *'CreditScore'* a numerical feature reflecting the creditworthiness of the customer. It might have varying significance based on the region ('Geography') or age. \n",
    "- *'Age'* could play a crucial role in customer churn, as different age groups might exhibit different behaviors. \n",
    "- *'Balance'* the account balance, where 0.00 values might indicate special cases such as no savings, and may warrant exploration. \n",
    "- *'Tenure'* indicates the duration (in years) the customer has been with the bank. This could relate to loyalty and church probability. \n",
    "- *'NumOfProducts'* represents the number of products a customer uses, which might correlate with thei likelihood to churn or stay. \n",
    "- *'EstimatedSalary'* may show trends regarding customer retention, depnding on income levels."
   ]
  },
  {
   "cell_type": "code",
   "execution_count": 5,
   "metadata": {},
   "outputs": [
    {
     "name": "stdout",
     "output_type": "stream",
     "text": [
      "<class 'pandas.core.frame.DataFrame'>\n",
      "RangeIndex: 10000 entries, 0 to 9999\n",
      "Data columns (total 14 columns):\n",
      " #   Column           Non-Null Count  Dtype  \n",
      "---  ------           --------------  -----  \n",
      " 0   RowNumber        10000 non-null  int64  \n",
      " 1   CustomerId       10000 non-null  int64  \n",
      " 2   Surname          10000 non-null  object \n",
      " 3   CreditScore      10000 non-null  int64  \n",
      " 4   Geography        10000 non-null  object \n",
      " 5   Gender           10000 non-null  object \n",
      " 6   Age              10000 non-null  int64  \n",
      " 7   Tenure           9091 non-null   float64\n",
      " 8   Balance          10000 non-null  float64\n",
      " 9   NumOfProducts    10000 non-null  int64  \n",
      " 10  HasCrCard        10000 non-null  int64  \n",
      " 11  IsActiveMember   10000 non-null  int64  \n",
      " 12  EstimatedSalary  10000 non-null  float64\n",
      " 13  Exited           10000 non-null  int64  \n",
      "dtypes: float64(3), int64(8), object(3)\n",
      "memory usage: 1.1+ MB\n"
     ]
    }
   ],
   "source": [
    "# General Info about the dataset\n",
    "cust_churn.info()"
   ]
  },
  {
   "cell_type": "code",
   "execution_count": 6,
   "metadata": {},
   "outputs": [
    {
     "data": {
      "text/plain": [
       "(10000, 14)"
      ]
     },
     "execution_count": 6,
     "metadata": {},
     "output_type": "execute_result"
    }
   ],
   "source": [
    "# EDA - rows, columns\n",
    "cust_churn.shape"
   ]
  },
  {
   "cell_type": "code",
   "execution_count": 7,
   "metadata": {},
   "outputs": [
    {
     "data": {
      "text/plain": [
       "count    10000.000000\n",
       "mean         0.203700\n",
       "std          0.402769\n",
       "min          0.000000\n",
       "25%          0.000000\n",
       "50%          0.000000\n",
       "75%          0.000000\n",
       "max          1.000000\n",
       "Name: Exited, dtype: float64"
      ]
     },
     "execution_count": 7,
     "metadata": {},
     "output_type": "execute_result"
    }
   ],
   "source": [
    "# EDA\n",
    "cust_churn['Exited'].describe()"
   ]
  },
  {
   "cell_type": "code",
   "execution_count": 8,
   "metadata": {},
   "outputs": [
    {
     "data": {
      "text/html": [
       "<div>\n",
       "<style scoped>\n",
       "    .dataframe tbody tr th:only-of-type {\n",
       "        vertical-align: middle;\n",
       "    }\n",
       "\n",
       "    .dataframe tbody tr th {\n",
       "        vertical-align: top;\n",
       "    }\n",
       "\n",
       "    .dataframe thead th {\n",
       "        text-align: right;\n",
       "    }\n",
       "</style>\n",
       "<table border=\"1\" class=\"dataframe\">\n",
       "  <thead>\n",
       "    <tr style=\"text-align: right;\">\n",
       "      <th></th>\n",
       "      <th>RowNumber</th>\n",
       "      <th>CustomerId</th>\n",
       "      <th>CreditScore</th>\n",
       "      <th>Age</th>\n",
       "      <th>Tenure</th>\n",
       "      <th>Balance</th>\n",
       "      <th>NumOfProducts</th>\n",
       "      <th>HasCrCard</th>\n",
       "      <th>IsActiveMember</th>\n",
       "      <th>EstimatedSalary</th>\n",
       "      <th>Exited</th>\n",
       "    </tr>\n",
       "  </thead>\n",
       "  <tbody>\n",
       "    <tr>\n",
       "      <th>count</th>\n",
       "      <td>10000.00000</td>\n",
       "      <td>1.000000e+04</td>\n",
       "      <td>10000.000000</td>\n",
       "      <td>10000.000000</td>\n",
       "      <td>9091.000000</td>\n",
       "      <td>10000.000000</td>\n",
       "      <td>10000.000000</td>\n",
       "      <td>10000.00000</td>\n",
       "      <td>10000.000000</td>\n",
       "      <td>10000.000000</td>\n",
       "      <td>10000.000000</td>\n",
       "    </tr>\n",
       "    <tr>\n",
       "      <th>mean</th>\n",
       "      <td>5000.50000</td>\n",
       "      <td>1.569094e+07</td>\n",
       "      <td>650.528800</td>\n",
       "      <td>38.921800</td>\n",
       "      <td>4.997690</td>\n",
       "      <td>76485.889288</td>\n",
       "      <td>1.530200</td>\n",
       "      <td>0.70550</td>\n",
       "      <td>0.515100</td>\n",
       "      <td>100090.239881</td>\n",
       "      <td>0.203700</td>\n",
       "    </tr>\n",
       "    <tr>\n",
       "      <th>std</th>\n",
       "      <td>2886.89568</td>\n",
       "      <td>7.193619e+04</td>\n",
       "      <td>96.653299</td>\n",
       "      <td>10.487806</td>\n",
       "      <td>2.894723</td>\n",
       "      <td>62397.405202</td>\n",
       "      <td>0.581654</td>\n",
       "      <td>0.45584</td>\n",
       "      <td>0.499797</td>\n",
       "      <td>57510.492818</td>\n",
       "      <td>0.402769</td>\n",
       "    </tr>\n",
       "    <tr>\n",
       "      <th>min</th>\n",
       "      <td>1.00000</td>\n",
       "      <td>1.556570e+07</td>\n",
       "      <td>350.000000</td>\n",
       "      <td>18.000000</td>\n",
       "      <td>0.000000</td>\n",
       "      <td>0.000000</td>\n",
       "      <td>1.000000</td>\n",
       "      <td>0.00000</td>\n",
       "      <td>0.000000</td>\n",
       "      <td>11.580000</td>\n",
       "      <td>0.000000</td>\n",
       "    </tr>\n",
       "    <tr>\n",
       "      <th>25%</th>\n",
       "      <td>2500.75000</td>\n",
       "      <td>1.562853e+07</td>\n",
       "      <td>584.000000</td>\n",
       "      <td>32.000000</td>\n",
       "      <td>2.000000</td>\n",
       "      <td>0.000000</td>\n",
       "      <td>1.000000</td>\n",
       "      <td>0.00000</td>\n",
       "      <td>0.000000</td>\n",
       "      <td>51002.110000</td>\n",
       "      <td>0.000000</td>\n",
       "    </tr>\n",
       "    <tr>\n",
       "      <th>50%</th>\n",
       "      <td>5000.50000</td>\n",
       "      <td>1.569074e+07</td>\n",
       "      <td>652.000000</td>\n",
       "      <td>37.000000</td>\n",
       "      <td>5.000000</td>\n",
       "      <td>97198.540000</td>\n",
       "      <td>1.000000</td>\n",
       "      <td>1.00000</td>\n",
       "      <td>1.000000</td>\n",
       "      <td>100193.915000</td>\n",
       "      <td>0.000000</td>\n",
       "    </tr>\n",
       "    <tr>\n",
       "      <th>75%</th>\n",
       "      <td>7500.25000</td>\n",
       "      <td>1.575323e+07</td>\n",
       "      <td>718.000000</td>\n",
       "      <td>44.000000</td>\n",
       "      <td>7.000000</td>\n",
       "      <td>127644.240000</td>\n",
       "      <td>2.000000</td>\n",
       "      <td>1.00000</td>\n",
       "      <td>1.000000</td>\n",
       "      <td>149388.247500</td>\n",
       "      <td>0.000000</td>\n",
       "    </tr>\n",
       "    <tr>\n",
       "      <th>max</th>\n",
       "      <td>10000.00000</td>\n",
       "      <td>1.581569e+07</td>\n",
       "      <td>850.000000</td>\n",
       "      <td>92.000000</td>\n",
       "      <td>10.000000</td>\n",
       "      <td>250898.090000</td>\n",
       "      <td>4.000000</td>\n",
       "      <td>1.00000</td>\n",
       "      <td>1.000000</td>\n",
       "      <td>199992.480000</td>\n",
       "      <td>1.000000</td>\n",
       "    </tr>\n",
       "  </tbody>\n",
       "</table>\n",
       "</div>"
      ],
      "text/plain": [
       "         RowNumber    CustomerId   CreditScore           Age       Tenure  \\\n",
       "count  10000.00000  1.000000e+04  10000.000000  10000.000000  9091.000000   \n",
       "mean    5000.50000  1.569094e+07    650.528800     38.921800     4.997690   \n",
       "std     2886.89568  7.193619e+04     96.653299     10.487806     2.894723   \n",
       "min        1.00000  1.556570e+07    350.000000     18.000000     0.000000   \n",
       "25%     2500.75000  1.562853e+07    584.000000     32.000000     2.000000   \n",
       "50%     5000.50000  1.569074e+07    652.000000     37.000000     5.000000   \n",
       "75%     7500.25000  1.575323e+07    718.000000     44.000000     7.000000   \n",
       "max    10000.00000  1.581569e+07    850.000000     92.000000    10.000000   \n",
       "\n",
       "             Balance  NumOfProducts    HasCrCard  IsActiveMember  \\\n",
       "count   10000.000000   10000.000000  10000.00000    10000.000000   \n",
       "mean    76485.889288       1.530200      0.70550        0.515100   \n",
       "std     62397.405202       0.581654      0.45584        0.499797   \n",
       "min         0.000000       1.000000      0.00000        0.000000   \n",
       "25%         0.000000       1.000000      0.00000        0.000000   \n",
       "50%     97198.540000       1.000000      1.00000        1.000000   \n",
       "75%    127644.240000       2.000000      1.00000        1.000000   \n",
       "max    250898.090000       4.000000      1.00000        1.000000   \n",
       "\n",
       "       EstimatedSalary        Exited  \n",
       "count     10000.000000  10000.000000  \n",
       "mean     100090.239881      0.203700  \n",
       "std       57510.492818      0.402769  \n",
       "min          11.580000      0.000000  \n",
       "25%       51002.110000      0.000000  \n",
       "50%      100193.915000      0.000000  \n",
       "75%      149388.247500      0.000000  \n",
       "max      199992.480000      1.000000  "
      ]
     },
     "execution_count": 8,
     "metadata": {},
     "output_type": "execute_result"
    }
   ],
   "source": [
    "# EDA\n",
    "cust_churn.describe()"
   ]
  },
  {
   "cell_type": "code",
   "execution_count": 9,
   "metadata": {},
   "outputs": [
    {
     "data": {
      "text/plain": [
       "0    7963\n",
       "1    2037\n",
       "Name: Exited, dtype: int64"
      ]
     },
     "execution_count": 9,
     "metadata": {},
     "output_type": "execute_result"
    }
   ],
   "source": [
    "# EDA - Check the balance of the target variable (Exited).\n",
    "cust_churn['Exited'].value_counts()"
   ]
  },
  {
   "cell_type": "markdown",
   "metadata": {},
   "source": [
    "**Preprocessing:** *Handle missing values if present. Scale or nominalize features if necessary.*"
   ]
  },
  {
   "cell_type": "code",
   "execution_count": 10,
   "metadata": {},
   "outputs": [
    {
     "name": "stdout",
     "output_type": "stream",
     "text": [
      "Checking for missing values:\n",
      "RowNumber            0\n",
      "CustomerId           0\n",
      "Surname              0\n",
      "CreditScore          0\n",
      "Geography            0\n",
      "Gender               0\n",
      "Age                  0\n",
      "Tenure             909\n",
      "Balance              0\n",
      "NumOfProducts        0\n",
      "HasCrCard            0\n",
      "IsActiveMember       0\n",
      "EstimatedSalary      0\n",
      "Exited               0\n",
      "dtype: int64\n"
     ]
    }
   ],
   "source": [
    "# Check for missing values\n",
    "print(\"Checking for missing values:\")\n",
    "print(cust_churn.isnull().sum())"
   ]
  },
  {
   "cell_type": "code",
   "execution_count": 11,
   "metadata": {},
   "outputs": [
    {
     "name": "stdout",
     "output_type": "stream",
     "text": [
      "RowNumber          0.00\n",
      "CustomerId         0.00\n",
      "Surname            0.00\n",
      "CreditScore        0.00\n",
      "Geography          0.00\n",
      "Gender             0.00\n",
      "Age                0.00\n",
      "Tenure             9.09\n",
      "Balance            0.00\n",
      "NumOfProducts      0.00\n",
      "HasCrCard          0.00\n",
      "IsActiveMember     0.00\n",
      "EstimatedSalary    0.00\n",
      "Exited             0.00\n",
      "dtype: float64\n"
     ]
    }
   ],
   "source": [
    "# Calculate percentage of missing values\n",
    "missing_percentage = cust_churn.isnull().mean() * 100\n",
    "print(missing_percentage)"
   ]
  },
  {
   "cell_type": "markdown",
   "metadata": {},
   "source": [
    "**Insights**\n",
    "\n",
    "Missing values in the 'Tenure' column has 9091 non-null values, indicating 909 missing entries. This accounts for approximately 9.1% of the dataset. \n",
    "\n",
    "**Reasonable Assumption**\n",
    "\n",
    "Subsituting missing values in the 'Tenure' column with 0.0 is a reasonable assumption if it aligns with the business context - indicating customer who may not have been with the bank for a full year. To analyze a bit further, if the missing values reflect customers with a tenue of less than one year, using 0.0 makes sense and maintains the integrity of the dataset.  Further, using 0.0 avoid assumptions that might skew the data (e.g., mean or median imputation), which could misrepresent this group of customers. In order to simplify preprocessing, it elminiates the need for complex imputation methods and allows the dataset to remain complete for modeling. "
   ]
  },
  {
   "cell_type": "markdown",
   "metadata": {},
   "source": [
    "**Replace Missing Values with 0.0** Coding updated to reflect a method to replce missing values with median"
   ]
  },
  {
   "cell_type": "code",
   "execution_count": 12,
   "metadata": {},
   "outputs": [],
   "source": [
    "# Add an indicator column for missing 'Tenure' values\n",
    "cust_churn['Tenure_Missing'] = cust_churn['Tenure'].isnull().astype(int)"
   ]
  },
  {
   "cell_type": "code",
   "execution_count": 13,
   "metadata": {},
   "outputs": [],
   "source": [
    "# replace missing 'Tenure' values with the median\n",
    "cust_churn['Tenure'].fillna(cust_churn['Tenure'].median(), inplace=True)"
   ]
  },
  {
   "cell_type": "code",
   "execution_count": 14,
   "metadata": {},
   "outputs": [
    {
     "data": {
      "text/plain": [
       "RowNumber          0\n",
       "CustomerId         0\n",
       "Surname            0\n",
       "CreditScore        0\n",
       "Geography          0\n",
       "Gender             0\n",
       "Age                0\n",
       "Tenure             0\n",
       "Balance            0\n",
       "NumOfProducts      0\n",
       "HasCrCard          0\n",
       "IsActiveMember     0\n",
       "EstimatedSalary    0\n",
       "Exited             0\n",
       "Tenure_Missing     0\n",
       "dtype: int64"
      ]
     },
     "execution_count": 14,
     "metadata": {},
     "output_type": "execute_result"
    }
   ],
   "source": [
    "# check for missing values \n",
    "cust_churn.isnull().sum()"
   ]
  },
  {
   "cell_type": "markdown",
   "metadata": {},
   "source": [
    "**Insights**\n",
    "\n",
    "Missing data can distort analysis and lead to incorrect conclusions if not handled properly. After updating the method from filling missing data with 0.0, to replacing missing values with the median, the dataset does not appear to have missing data at this time. \n",
    "\n",
    "**Using Median**\n",
    "\n",
    "Maintains the central tendency of the data, avoids skewing the distribution toward extreme values (e.g. filling with 0 or mean), and it works well for numerical models without needing additional feature engineering. "
   ]
  },
  {
   "cell_type": "markdown",
   "metadata": {},
   "source": [
    "**2. EXAMINE THE BALANCE OF CLASSES.** *Train the model without taking into account the imbalance. Briefly describe your findings.*"
   ]
  },
  {
   "cell_type": "code",
   "execution_count": 15,
   "metadata": {},
   "outputs": [
    {
     "name": "stdout",
     "output_type": "stream",
     "text": [
      "Number of 0's (Non-exited customers): 7963\n",
      "Number of 1's (Exited customers): 2037\n"
     ]
    }
   ],
   "source": [
    "# Count the number of 0's and 1's in the 'Exited' column\n",
    "class_counts = cust_churn['Exited'].value_counts()\n",
    "\n",
    "# Print the counts\n",
    "print(\"Number of 0's (Non-exited customers):\", class_counts[0])\n",
    "print(\"Number of 1's (Exited customers):\", class_counts[1])"
   ]
  },
  {
   "cell_type": "code",
   "execution_count": 16,
   "metadata": {},
   "outputs": [
    {
     "name": "stdout",
     "output_type": "stream",
     "text": [
      "Percentage of A (0): 79.63%\n",
      "Percentage of B (1): 20.37%\n"
     ]
    }
   ],
   "source": [
    "# Calculate percentages dynamically\n",
    "percentages = cust_churn['Exited'].value_counts(normalize=True) * 100\n",
    "\n",
    "# Display results\n",
    "print(f\"Percentage of A (0): {percentages[0]:.2f}%\")\n",
    "print(f\"Percentage of B (1): {percentages[1]:.2f}%\")"
   ]
  },
  {
   "cell_type": "markdown",
   "metadata": {},
   "source": [
    "**Insights**\n",
    "\n",
    "1. Class Imbalance: The dataset shows a significant class imbalance in the 'Exited' column: \n",
    "\n",
    "**Non-Exited Customers**  (0): 7,963 (79.63%)\n",
    "\n",
    "**Exited Customers**  (1): 2,037 (20.37%)\n",
    "\n",
    "The imbalance suggests the model must be carefully designed to avoid bias toward non-exited customers (0). The ultimate goal is to improve the detection of exited customers (1) without sacrificing performance on the non-exited group. "
   ]
  },
  {
   "cell_type": "markdown",
   "metadata": {},
   "source": [
    "**3. VISUALIZING DISTRIBUTION OF COLUMNS AND DETECTING OUTLIERS**"
   ]
  },
  {
   "cell_type": "code",
   "execution_count": 17,
   "metadata": {},
   "outputs": [],
   "source": [
    "# list of numerical columns to evaluate\n",
    "numerical_columns = [\"Age\", \"EstimatedSalary\", \"Balance\", \"CreditScore\"]"
   ]
  },
  {
   "cell_type": "code",
   "execution_count": 18,
   "metadata": {},
   "outputs": [
    {
     "data": {
      "image/png": "[encoded data removed]",
      "text/plain": [
       "<Figure size 1500x2000 with 8 Axes>"
      ]
     },
     "metadata": {},
     "output_type": "display_data"
    }
   ],
   "source": [
    "# create subplots for histrograms and boxplots\n",
    "\n",
    "fig, axes = plt.subplots(nrows=4, ncols=2, figsize=(15,20))\n",
    "fig.suptitle(\"Distribution and Outlier Detection for Key Features\", fontsize=16)\n",
    "\n",
    "for i, column in enumerate(numerical_columns):\n",
    "    # Histogram\n",
    "    sns.histplot(cust_churn[column], bins=30, kde=True, ax=axes[i, 0], color=\"blue\")\n",
    "    axes[i, 0].set_title(f\"Distribution of {column}\")\n",
    "    axes[i, 0].set_xlabel(column)\n",
    "    axes[i, 0].set_ylabel(\"Frequency\")\n",
    "    \n",
    "    #Boxplot\n",
    "    sns.boxplot(cust_churn[column], ax=axes[i, 1], color=\"orange\")\n",
    "    axes[i, 1].set_title(f\"Boxplot of {column}\")\n",
    "    axes[i, 1].set_xlabel(column)\n",
    "\n",
    "plt.tight_layout(rect=[0, 0, 1, 0.96])\n",
    "plt.show()"
   ]
  },
  {
   "cell_type": "markdown",
   "metadata": {},
   "source": [
    "**Analysis of the Plots:**\n",
    "\n",
    "*Distribution of Age* \n",
    "\n",
    "- *Histogram* The distribution is slightly right-skewed, with most customers failling in the age range of 30-50 years. A smaller group of older customers exists beyond 60 years. Most customers are middle-aged (30-50 years).\n",
    "\n",
    "- *Boxplot* There are a signficant number of outliers beyond the age of 60, indicating some older customers. These outliers could be investigated further or handled approrpriately, depending on their impact on the model. Outliers for older customers (60+) may require careful handling, as they could skew the model results. \n",
    "\n",
    "\n",
    "*Distribution of EstimatedSalary* \n",
    "\n",
    "- *Histogram* The distribution appears to be uniform, indicating that customers are evely spread across the salary range. Estimated Salar does not exhibit skewness or outliers. \n",
    "\n",
    "- *Boxplot* There are no significant outliers; the range of salaries is fairly evenly distributed. No special preprocessing is needed for this feature. \n",
    "\n",
    "\n",
    "*Distribution of Balance* \n",
    "\n",
    "- *Histogram* The distribution is a bimodal, with a large number of customers having a balance of 0 and the rest spread across teh balance range. \n",
    "\n",
    "- *Boxplot* There are no significant outliers, but the large spike at balance = 0 could indicate inactive accounts. The spike at balance = 0 may require additional preprocessing. For instance, introducing a binary indicator (e.g. 'Balance_Zero) for customers with a 0 balance, or analyze if customers with 0 balance exhibit unique behaviors (e.g. higher churn rates)\n",
    "\n",
    "\n",
    "*Distribution of CreditScore* \n",
    "\n",
    "- *Histogram* The distribution is close to normal, centered around 650-700, with a slight skew towards the lower credit score range. CreditScore is fairly normally distributed but has outliers in the lower range. \n",
    "\n",
    "- *Boxplot* Some outliers exist for very lower credit scores (below 400). "
   ]
  },
  {
   "cell_type": "code",
   "execution_count": 19,
   "metadata": {},
   "outputs": [
    {
     "data": {
      "text/html": [
       "<div>\n",
       "<style scoped>\n",
       "    .dataframe tbody tr th:only-of-type {\n",
       "        vertical-align: middle;\n",
       "    }\n",
       "\n",
       "    .dataframe tbody tr th {\n",
       "        vertical-align: top;\n",
       "    }\n",
       "\n",
       "    .dataframe thead th {\n",
       "        text-align: right;\n",
       "    }\n",
       "</style>\n",
       "<table border=\"1\" class=\"dataframe\">\n",
       "  <thead>\n",
       "    <tr style=\"text-align: right;\">\n",
       "      <th></th>\n",
       "      <th>RowNumber</th>\n",
       "      <th>CustomerId</th>\n",
       "      <th>CreditScore</th>\n",
       "      <th>Age</th>\n",
       "      <th>Tenure</th>\n",
       "      <th>Balance</th>\n",
       "      <th>NumOfProducts</th>\n",
       "      <th>HasCrCard</th>\n",
       "      <th>IsActiveMember</th>\n",
       "      <th>EstimatedSalary</th>\n",
       "      <th>Tenure_Missing</th>\n",
       "    </tr>\n",
       "    <tr>\n",
       "      <th>Exited</th>\n",
       "      <th></th>\n",
       "      <th></th>\n",
       "      <th></th>\n",
       "      <th></th>\n",
       "      <th></th>\n",
       "      <th></th>\n",
       "      <th></th>\n",
       "      <th></th>\n",
       "      <th></th>\n",
       "      <th></th>\n",
       "      <th></th>\n",
       "    </tr>\n",
       "  </thead>\n",
       "  <tbody>\n",
       "    <tr>\n",
       "      <th>0</th>\n",
       "      <td>5024.694964</td>\n",
       "      <td>1.569117e+07</td>\n",
       "      <td>651.853196</td>\n",
       "      <td>37.408389</td>\n",
       "      <td>5.020219</td>\n",
       "      <td>72745.296779</td>\n",
       "      <td>1.544267</td>\n",
       "      <td>0.707146</td>\n",
       "      <td>0.554565</td>\n",
       "      <td>99738.391772</td>\n",
       "      <td>0.091172</td>\n",
       "    </tr>\n",
       "    <tr>\n",
       "      <th>1</th>\n",
       "      <td>4905.917526</td>\n",
       "      <td>1.569005e+07</td>\n",
       "      <td>645.351497</td>\n",
       "      <td>44.837997</td>\n",
       "      <td>4.910653</td>\n",
       "      <td>91108.539337</td>\n",
       "      <td>1.475209</td>\n",
       "      <td>0.699067</td>\n",
       "      <td>0.360825</td>\n",
       "      <td>101465.677531</td>\n",
       "      <td>0.089838</td>\n",
       "    </tr>\n",
       "  </tbody>\n",
       "</table>\n",
       "</div>"
      ],
      "text/plain": [
       "          RowNumber    CustomerId  CreditScore        Age    Tenure  \\\n",
       "Exited                                                                \n",
       "0       5024.694964  1.569117e+07   651.853196  37.408389  5.020219   \n",
       "1       4905.917526  1.569005e+07   645.351497  44.837997  4.910653   \n",
       "\n",
       "             Balance  NumOfProducts  HasCrCard  IsActiveMember  \\\n",
       "Exited                                                           \n",
       "0       72745.296779       1.544267   0.707146        0.554565   \n",
       "1       91108.539337       1.475209   0.699067        0.360825   \n",
       "\n",
       "        EstimatedSalary  Tenure_Missing  \n",
       "Exited                                   \n",
       "0          99738.391772        0.091172  \n",
       "1         101465.677531        0.089838  "
      ]
     },
     "metadata": {},
     "output_type": "display_data"
    }
   ],
   "source": [
    "# Group by 'Exited' and calculate mean for numerical features\n",
    "exited_summary = cust_churn.groupby(\"Exited\").mean()\n",
    "display(exited_summary)"
   ]
  },
  {
   "cell_type": "code",
   "execution_count": 20,
   "metadata": {},
   "outputs": [
    {
     "data": {
      "text/plain": [
       "Exited             1.000000\n",
       "Age                0.285323\n",
       "Balance            0.118533\n",
       "EstimatedSalary    0.012097\n",
       "Tenure_Missing    -0.001869\n",
       "CustomerId        -0.006248\n",
       "HasCrCard         -0.007138\n",
       "Tenure            -0.015989\n",
       "RowNumber         -0.016571\n",
       "CreditScore       -0.027094\n",
       "NumOfProducts     -0.047820\n",
       "IsActiveMember    -0.156128\n",
       "Name: Exited, dtype: float64"
      ]
     },
     "metadata": {},
     "output_type": "display_data"
    }
   ],
   "source": [
    "# Compute correlation only for numeric columns\n",
    "numeric_df = cust_churn.select_dtypes(include=[\"number\"])  # Select numeric columns\n",
    "display(numeric_df.corr()[\"Exited\"].sort_values(ascending=False))"
   ]
  },
  {
   "cell_type": "code",
   "execution_count": 21,
   "metadata": {},
   "outputs": [
    {
     "data": {
      "text/html": [
       "<div>\n",
       "<style scoped>\n",
       "    .dataframe tbody tr th:only-of-type {\n",
       "        vertical-align: middle;\n",
       "    }\n",
       "\n",
       "    .dataframe tbody tr th {\n",
       "        vertical-align: top;\n",
       "    }\n",
       "\n",
       "    .dataframe thead th {\n",
       "        text-align: right;\n",
       "    }\n",
       "</style>\n",
       "<table border=\"1\" class=\"dataframe\">\n",
       "  <thead>\n",
       "    <tr style=\"text-align: right;\">\n",
       "      <th></th>\n",
       "      <th>RowNumber</th>\n",
       "      <th>CustomerId</th>\n",
       "      <th>Surname</th>\n",
       "      <th>CreditScore</th>\n",
       "      <th>Geography</th>\n",
       "      <th>Gender</th>\n",
       "      <th>Age</th>\n",
       "      <th>Tenure</th>\n",
       "      <th>Balance</th>\n",
       "      <th>NumOfProducts</th>\n",
       "      <th>HasCrCard</th>\n",
       "      <th>IsActiveMember</th>\n",
       "      <th>EstimatedSalary</th>\n",
       "      <th>Exited</th>\n",
       "      <th>Tenure_Missing</th>\n",
       "    </tr>\n",
       "  </thead>\n",
       "  <tbody>\n",
       "    <tr>\n",
       "      <th>0</th>\n",
       "      <td>1</td>\n",
       "      <td>15634602</td>\n",
       "      <td>Hargrave</td>\n",
       "      <td>619</td>\n",
       "      <td>France</td>\n",
       "      <td>Female</td>\n",
       "      <td>42</td>\n",
       "      <td>2.0</td>\n",
       "      <td>0.00</td>\n",
       "      <td>1</td>\n",
       "      <td>1</td>\n",
       "      <td>1</td>\n",
       "      <td>101348.88</td>\n",
       "      <td>1</td>\n",
       "      <td>0</td>\n",
       "    </tr>\n",
       "    <tr>\n",
       "      <th>2</th>\n",
       "      <td>3</td>\n",
       "      <td>15619304</td>\n",
       "      <td>Onio</td>\n",
       "      <td>502</td>\n",
       "      <td>France</td>\n",
       "      <td>Female</td>\n",
       "      <td>42</td>\n",
       "      <td>8.0</td>\n",
       "      <td>159660.80</td>\n",
       "      <td>3</td>\n",
       "      <td>1</td>\n",
       "      <td>0</td>\n",
       "      <td>113931.57</td>\n",
       "      <td>1</td>\n",
       "      <td>0</td>\n",
       "    </tr>\n",
       "    <tr>\n",
       "      <th>5</th>\n",
       "      <td>6</td>\n",
       "      <td>15574012</td>\n",
       "      <td>Chu</td>\n",
       "      <td>645</td>\n",
       "      <td>Spain</td>\n",
       "      <td>Male</td>\n",
       "      <td>44</td>\n",
       "      <td>8.0</td>\n",
       "      <td>113755.78</td>\n",
       "      <td>2</td>\n",
       "      <td>1</td>\n",
       "      <td>0</td>\n",
       "      <td>149756.71</td>\n",
       "      <td>1</td>\n",
       "      <td>0</td>\n",
       "    </tr>\n",
       "    <tr>\n",
       "      <th>7</th>\n",
       "      <td>8</td>\n",
       "      <td>15656148</td>\n",
       "      <td>Obinna</td>\n",
       "      <td>376</td>\n",
       "      <td>Germany</td>\n",
       "      <td>Female</td>\n",
       "      <td>29</td>\n",
       "      <td>4.0</td>\n",
       "      <td>115046.74</td>\n",
       "      <td>4</td>\n",
       "      <td>1</td>\n",
       "      <td>0</td>\n",
       "      <td>119346.88</td>\n",
       "      <td>1</td>\n",
       "      <td>0</td>\n",
       "    </tr>\n",
       "    <tr>\n",
       "      <th>16</th>\n",
       "      <td>17</td>\n",
       "      <td>15737452</td>\n",
       "      <td>Romeo</td>\n",
       "      <td>653</td>\n",
       "      <td>Germany</td>\n",
       "      <td>Male</td>\n",
       "      <td>58</td>\n",
       "      <td>1.0</td>\n",
       "      <td>132602.88</td>\n",
       "      <td>1</td>\n",
       "      <td>1</td>\n",
       "      <td>0</td>\n",
       "      <td>5097.67</td>\n",
       "      <td>1</td>\n",
       "      <td>0</td>\n",
       "    </tr>\n",
       "  </tbody>\n",
       "</table>\n",
       "</div>"
      ],
      "text/plain": [
       "    RowNumber  CustomerId   Surname  CreditScore Geography  Gender  Age  \\\n",
       "0           1    15634602  Hargrave          619    France  Female   42   \n",
       "2           3    15619304      Onio          502    France  Female   42   \n",
       "5           6    15574012       Chu          645     Spain    Male   44   \n",
       "7           8    15656148    Obinna          376   Germany  Female   29   \n",
       "16         17    15737452     Romeo          653   Germany    Male   58   \n",
       "\n",
       "    Tenure    Balance  NumOfProducts  HasCrCard  IsActiveMember  \\\n",
       "0      2.0       0.00              1          1               1   \n",
       "2      8.0  159660.80              3          1               0   \n",
       "5      8.0  113755.78              2          1               0   \n",
       "7      4.0  115046.74              4          1               0   \n",
       "16     1.0  132602.88              1          1               0   \n",
       "\n",
       "    EstimatedSalary  Exited  Tenure_Missing  \n",
       "0         101348.88       1               0  \n",
       "2         113931.57       1               0  \n",
       "5         149756.71       1               0  \n",
       "7         119346.88       1               0  \n",
       "16          5097.67       1               0  "
      ]
     },
     "metadata": {},
     "output_type": "display_data"
    }
   ],
   "source": [
    "# Inspect rows where 'Exited' is 1 (Exited customers)\n",
    "exited_customers = cust_churn[cust_churn[\"Exited\"] == 1].head()\n",
    "display(exited_customers)"
   ]
  },
  {
   "cell_type": "code",
   "execution_count": 22,
   "metadata": {},
   "outputs": [
    {
     "data": {
      "text/html": [
       "<div>\n",
       "<style scoped>\n",
       "    .dataframe tbody tr th:only-of-type {\n",
       "        vertical-align: middle;\n",
       "    }\n",
       "\n",
       "    .dataframe tbody tr th {\n",
       "        vertical-align: top;\n",
       "    }\n",
       "\n",
       "    .dataframe thead th {\n",
       "        text-align: right;\n",
       "    }\n",
       "</style>\n",
       "<table border=\"1\" class=\"dataframe\">\n",
       "  <thead>\n",
       "    <tr style=\"text-align: right;\">\n",
       "      <th></th>\n",
       "      <th>RowNumber</th>\n",
       "      <th>CustomerId</th>\n",
       "      <th>Surname</th>\n",
       "      <th>CreditScore</th>\n",
       "      <th>Geography</th>\n",
       "      <th>Gender</th>\n",
       "      <th>Age</th>\n",
       "      <th>Tenure</th>\n",
       "      <th>Balance</th>\n",
       "      <th>NumOfProducts</th>\n",
       "      <th>HasCrCard</th>\n",
       "      <th>IsActiveMember</th>\n",
       "      <th>EstimatedSalary</th>\n",
       "      <th>Exited</th>\n",
       "      <th>Tenure_Missing</th>\n",
       "    </tr>\n",
       "  </thead>\n",
       "  <tbody>\n",
       "    <tr>\n",
       "      <th>1</th>\n",
       "      <td>2</td>\n",
       "      <td>15647311</td>\n",
       "      <td>Hill</td>\n",
       "      <td>608</td>\n",
       "      <td>Spain</td>\n",
       "      <td>Female</td>\n",
       "      <td>41</td>\n",
       "      <td>1.0</td>\n",
       "      <td>83807.86</td>\n",
       "      <td>1</td>\n",
       "      <td>0</td>\n",
       "      <td>1</td>\n",
       "      <td>112542.58</td>\n",
       "      <td>0</td>\n",
       "      <td>0</td>\n",
       "    </tr>\n",
       "    <tr>\n",
       "      <th>3</th>\n",
       "      <td>4</td>\n",
       "      <td>15701354</td>\n",
       "      <td>Boni</td>\n",
       "      <td>699</td>\n",
       "      <td>France</td>\n",
       "      <td>Female</td>\n",
       "      <td>39</td>\n",
       "      <td>1.0</td>\n",
       "      <td>0.00</td>\n",
       "      <td>2</td>\n",
       "      <td>0</td>\n",
       "      <td>0</td>\n",
       "      <td>93826.63</td>\n",
       "      <td>0</td>\n",
       "      <td>0</td>\n",
       "    </tr>\n",
       "    <tr>\n",
       "      <th>4</th>\n",
       "      <td>5</td>\n",
       "      <td>15737888</td>\n",
       "      <td>Mitchell</td>\n",
       "      <td>850</td>\n",
       "      <td>Spain</td>\n",
       "      <td>Female</td>\n",
       "      <td>43</td>\n",
       "      <td>2.0</td>\n",
       "      <td>125510.82</td>\n",
       "      <td>1</td>\n",
       "      <td>1</td>\n",
       "      <td>1</td>\n",
       "      <td>79084.10</td>\n",
       "      <td>0</td>\n",
       "      <td>0</td>\n",
       "    </tr>\n",
       "    <tr>\n",
       "      <th>6</th>\n",
       "      <td>7</td>\n",
       "      <td>15592531</td>\n",
       "      <td>Bartlett</td>\n",
       "      <td>822</td>\n",
       "      <td>France</td>\n",
       "      <td>Male</td>\n",
       "      <td>50</td>\n",
       "      <td>7.0</td>\n",
       "      <td>0.00</td>\n",
       "      <td>2</td>\n",
       "      <td>1</td>\n",
       "      <td>1</td>\n",
       "      <td>10062.80</td>\n",
       "      <td>0</td>\n",
       "      <td>0</td>\n",
       "    </tr>\n",
       "    <tr>\n",
       "      <th>8</th>\n",
       "      <td>9</td>\n",
       "      <td>15792365</td>\n",
       "      <td>He</td>\n",
       "      <td>501</td>\n",
       "      <td>France</td>\n",
       "      <td>Male</td>\n",
       "      <td>44</td>\n",
       "      <td>4.0</td>\n",
       "      <td>142051.07</td>\n",
       "      <td>2</td>\n",
       "      <td>0</td>\n",
       "      <td>1</td>\n",
       "      <td>74940.50</td>\n",
       "      <td>0</td>\n",
       "      <td>0</td>\n",
       "    </tr>\n",
       "  </tbody>\n",
       "</table>\n",
       "</div>"
      ],
      "text/plain": [
       "   RowNumber  CustomerId   Surname  CreditScore Geography  Gender  Age  \\\n",
       "1          2    15647311      Hill          608     Spain  Female   41   \n",
       "3          4    15701354      Boni          699    France  Female   39   \n",
       "4          5    15737888  Mitchell          850     Spain  Female   43   \n",
       "6          7    15592531  Bartlett          822    France    Male   50   \n",
       "8          9    15792365        He          501    France    Male   44   \n",
       "\n",
       "   Tenure    Balance  NumOfProducts  HasCrCard  IsActiveMember  \\\n",
       "1     1.0   83807.86              1          0               1   \n",
       "3     1.0       0.00              2          0               0   \n",
       "4     2.0  125510.82              1          1               1   \n",
       "6     7.0       0.00              2          1               1   \n",
       "8     4.0  142051.07              2          0               1   \n",
       "\n",
       "   EstimatedSalary  Exited  Tenure_Missing  \n",
       "1        112542.58       0               0  \n",
       "3         93826.63       0               0  \n",
       "4         79084.10       0               0  \n",
       "6         10062.80       0               0  \n",
       "8         74940.50       0               0  "
      ]
     },
     "metadata": {},
     "output_type": "display_data"
    }
   ],
   "source": [
    "# Inspect rows where 'Exited' is 0 (Non-exited customers)\n",
    "non_exited_customers = cust_churn[cust_churn[\"Exited\"] == 0].head()\n",
    "display(non_exited_customers)"
   ]
  },
  {
   "cell_type": "markdown",
   "metadata": {},
   "source": [
    "**Verifying Whether 1 Means 'Exited':**\n",
    "\n",
    "Ideally, the source of the data (such as Beta Bank) would confirm the meaning of 1 and 0 in the 'Exited' column. In the absence of documentation, there is a heavy reliance on patterns and contextual clues.\n",
    "\n",
    "Given the patterns observed:\n",
    "\n",
    "**Exited = 0**: Non-exited customers (those who stayed with the bank).\n",
    "\n",
    "**Exited = 1**: Exited customers (those who left the bank)."
   ]
  },
  {
   "cell_type": "markdown",
   "metadata": {},
   "source": [
    "**4. IMPROVE THE QUALITY OF THE MODEL** *Make sure you use at least two approaches to fixing class imbalance. Use the training set to pick the best parameters. Train different models on training and validation sets. Find the best one. Briefly describe your findings.*"
   ]
  },
  {
   "cell_type": "markdown",
   "metadata": {},
   "source": [
    "**4.a.** *Data Preprocessing - Preparing Features*"
   ]
  },
  {
   "cell_type": "code",
   "execution_count": 23,
   "metadata": {},
   "outputs": [],
   "source": [
    "# 1. **Drop Unnecessary/Irrelevant Columns**\n",
    "cust_churn = cust_churn.drop(['RowNumber', 'CustomerId', 'Surname'], axis=1)"
   ]
  },
  {
   "cell_type": "markdown",
   "metadata": {},
   "source": [
    "**4.b.** *Data Preprocessing - Split the data into training, validation and test sets. This includes splitting Features and Target variables*"
   ]
  },
  {
   "cell_type": "code",
   "execution_count": 24,
   "metadata": {},
   "outputs": [],
   "source": [
    "# 2. **Split the Data into Features and Target**\n",
    "X = cust_churn.drop('Exited', axis=1)  # Features\n",
    "y = cust_churn['Exited']  # Target variable"
   ]
  },
  {
   "cell_type": "code",
   "execution_count": 25,
   "metadata": {},
   "outputs": [],
   "source": [
    "# 3. **Split Data into Training, Validation, and Test Sets**\n",
    "# First split: Training (80%) and temporary (20%) set\n",
    "X_train, X_temp, y_train, y_temp = train_test_split(X, y, test_size=0.2, random_state=42, stratify=y)"
   ]
  },
  {
   "cell_type": "code",
   "execution_count": 26,
   "metadata": {},
   "outputs": [],
   "source": [
    "# Second split: Validation (10%) and Test (10%) from temporary set\n",
    "X_val, X_test, y_val, y_test = train_test_split(X_temp, y_temp, test_size=0.5, random_state=42, stratify=y_temp)"
   ]
  },
  {
   "cell_type": "code",
   "execution_count": 27,
   "metadata": {},
   "outputs": [],
   "source": [
    "# 4. BEST PRACTICE **Encode Categorical Variables**\n",
    "# Only encode after splitting to avoid data leakage"
   ]
  },
  {
   "cell_type": "code",
   "execution_count": 28,
   "metadata": {},
   "outputs": [],
   "source": [
    "# Encode Training Set\n",
    "X_train = pd.get_dummies(X_train, columns=['Geography', 'Gender'], drop_first=True)"
   ]
  },
  {
   "cell_type": "code",
   "execution_count": 29,
   "metadata": {},
   "outputs": [],
   "source": [
    "# Ensure consistent encoding for Validation and Test Sets\n",
    "X_val = pd.get_dummies(X_val, columns=['Geography', 'Gender'], drop_first=True)\n",
    "X_test = pd.get_dummies(X_test, columns=['Geography', 'Gender'], drop_first=True)"
   ]
  },
  {
   "cell_type": "code",
   "execution_count": 30,
   "metadata": {},
   "outputs": [],
   "source": [
    "# Align the validation and test sets with training set columns\n",
    "X_val = X_val.reindex(columns=X_train.columns, fill_value=0)\n",
    "X_test = X_test.reindex(columns=X_train.columns, fill_value=0)"
   ]
  },
  {
   "cell_type": "code",
   "execution_count": 31,
   "metadata": {},
   "outputs": [
    {
     "data": {
      "text/html": [
       "<div>\n",
       "<style scoped>\n",
       "    .dataframe tbody tr th:only-of-type {\n",
       "        vertical-align: middle;\n",
       "    }\n",
       "\n",
       "    .dataframe tbody tr th {\n",
       "        vertical-align: top;\n",
       "    }\n",
       "\n",
       "    .dataframe thead th {\n",
       "        text-align: right;\n",
       "    }\n",
       "</style>\n",
       "<table border=\"1\" class=\"dataframe\">\n",
       "  <thead>\n",
       "    <tr style=\"text-align: right;\">\n",
       "      <th></th>\n",
       "      <th>CreditScore</th>\n",
       "      <th>Geography</th>\n",
       "      <th>Gender</th>\n",
       "      <th>Age</th>\n",
       "      <th>Tenure</th>\n",
       "      <th>Balance</th>\n",
       "      <th>NumOfProducts</th>\n",
       "      <th>HasCrCard</th>\n",
       "      <th>IsActiveMember</th>\n",
       "      <th>EstimatedSalary</th>\n",
       "      <th>Exited</th>\n",
       "      <th>Tenure_Missing</th>\n",
       "    </tr>\n",
       "  </thead>\n",
       "  <tbody>\n",
       "    <tr>\n",
       "      <th>0</th>\n",
       "      <td>619</td>\n",
       "      <td>France</td>\n",
       "      <td>Female</td>\n",
       "      <td>42</td>\n",
       "      <td>2.0</td>\n",
       "      <td>0.00</td>\n",
       "      <td>1</td>\n",
       "      <td>1</td>\n",
       "      <td>1</td>\n",
       "      <td>101348.88</td>\n",
       "      <td>1</td>\n",
       "      <td>0</td>\n",
       "    </tr>\n",
       "    <tr>\n",
       "      <th>1</th>\n",
       "      <td>608</td>\n",
       "      <td>Spain</td>\n",
       "      <td>Female</td>\n",
       "      <td>41</td>\n",
       "      <td>1.0</td>\n",
       "      <td>83807.86</td>\n",
       "      <td>1</td>\n",
       "      <td>0</td>\n",
       "      <td>1</td>\n",
       "      <td>112542.58</td>\n",
       "      <td>0</td>\n",
       "      <td>0</td>\n",
       "    </tr>\n",
       "    <tr>\n",
       "      <th>2</th>\n",
       "      <td>502</td>\n",
       "      <td>France</td>\n",
       "      <td>Female</td>\n",
       "      <td>42</td>\n",
       "      <td>8.0</td>\n",
       "      <td>159660.80</td>\n",
       "      <td>3</td>\n",
       "      <td>1</td>\n",
       "      <td>0</td>\n",
       "      <td>113931.57</td>\n",
       "      <td>1</td>\n",
       "      <td>0</td>\n",
       "    </tr>\n",
       "    <tr>\n",
       "      <th>3</th>\n",
       "      <td>699</td>\n",
       "      <td>France</td>\n",
       "      <td>Female</td>\n",
       "      <td>39</td>\n",
       "      <td>1.0</td>\n",
       "      <td>0.00</td>\n",
       "      <td>2</td>\n",
       "      <td>0</td>\n",
       "      <td>0</td>\n",
       "      <td>93826.63</td>\n",
       "      <td>0</td>\n",
       "      <td>0</td>\n",
       "    </tr>\n",
       "    <tr>\n",
       "      <th>4</th>\n",
       "      <td>850</td>\n",
       "      <td>Spain</td>\n",
       "      <td>Female</td>\n",
       "      <td>43</td>\n",
       "      <td>2.0</td>\n",
       "      <td>125510.82</td>\n",
       "      <td>1</td>\n",
       "      <td>1</td>\n",
       "      <td>1</td>\n",
       "      <td>79084.10</td>\n",
       "      <td>0</td>\n",
       "      <td>0</td>\n",
       "    </tr>\n",
       "  </tbody>\n",
       "</table>\n",
       "</div>"
      ],
      "text/plain": [
       "   CreditScore Geography  Gender  Age  Tenure    Balance  NumOfProducts  \\\n",
       "0          619    France  Female   42     2.0       0.00              1   \n",
       "1          608     Spain  Female   41     1.0   83807.86              1   \n",
       "2          502    France  Female   42     8.0  159660.80              3   \n",
       "3          699    France  Female   39     1.0       0.00              2   \n",
       "4          850     Spain  Female   43     2.0  125510.82              1   \n",
       "\n",
       "   HasCrCard  IsActiveMember  EstimatedSalary  Exited  Tenure_Missing  \n",
       "0          1               1        101348.88       1               0  \n",
       "1          0               1        112542.58       0               0  \n",
       "2          1               0        113931.57       1               0  \n",
       "3          0               0         93826.63       0               0  \n",
       "4          1               1         79084.10       0               0  "
      ]
     },
     "metadata": {},
     "output_type": "display_data"
    }
   ],
   "source": [
    "# Inspect the dataset to ensure correct encoding\n",
    "display(cust_churn.head())"
   ]
  },
  {
   "cell_type": "code",
   "execution_count": 32,
   "metadata": {},
   "outputs": [
    {
     "data": {
      "text/plain": [
       "(10000,)"
      ]
     },
     "execution_count": 32,
     "metadata": {},
     "output_type": "execute_result"
    }
   ],
   "source": [
    "X.shape\n",
    "y.shape"
   ]
  },
  {
   "cell_type": "code",
   "execution_count": 33,
   "metadata": {},
   "outputs": [
    {
     "data": {
      "text/plain": [
       "'Original class distribution:'"
      ]
     },
     "metadata": {},
     "output_type": "display_data"
    },
    {
     "data": {
      "text/plain": [
       "0    0.7963\n",
       "1    0.2037\n",
       "Name: Exited, dtype: float64"
      ]
     },
     "metadata": {},
     "output_type": "display_data"
    }
   ],
   "source": [
    "display(\"Original class distribution:\")\n",
    "display(y.value_counts(normalize=True))"
   ]
  },
  {
   "cell_type": "code",
   "execution_count": 34,
   "metadata": {},
   "outputs": [
    {
     "data": {
      "text/plain": [
       "'Class distribution in the training set:\\n'"
      ]
     },
     "metadata": {},
     "output_type": "display_data"
    },
    {
     "data": {
      "text/plain": [
       "0    0.79625\n",
       "1    0.20375\n",
       "Name: Exited, dtype: float64"
      ]
     },
     "metadata": {},
     "output_type": "display_data"
    },
    {
     "data": {
      "text/plain": [
       "'Class distribution in the validation set:\\n'"
      ]
     },
     "metadata": {},
     "output_type": "display_data"
    },
    {
     "data": {
      "text/plain": [
       "0    0.796\n",
       "1    0.204\n",
       "Name: Exited, dtype: float64"
      ]
     },
     "metadata": {},
     "output_type": "display_data"
    },
    {
     "data": {
      "text/plain": [
       "'Class distribution in the test set:\\n'"
      ]
     },
     "metadata": {},
     "output_type": "display_data"
    },
    {
     "data": {
      "text/plain": [
       "0    0.797\n",
       "1    0.203\n",
       "Name: Exited, dtype: float64"
      ]
     },
     "metadata": {},
     "output_type": "display_data"
    },
    {
     "name": "stdout",
     "output_type": "stream",
     "text": [
      "Training set shape: (8000, 12)\n",
      "Validation set shape: (1000, 12)\n",
      "Test set shape: (1000, 12)\n"
     ]
    }
   ],
   "source": [
    "# Check class distribution\n",
    "display(\"Class distribution in the training set:\\n\", y_train.value_counts(normalize=True))\n",
    "display(\"Class distribution in the validation set:\\n\", y_val.value_counts(normalize=True))\n",
    "display(\"Class distribution in the test set:\\n\", y_test.value_counts(normalize=True))\n",
    "\n",
    "print(\"Training set shape:\", X_train.shape)\n",
    "print(\"Validation set shape:\", X_val.shape)\n",
    "print(\"Test set shape:\", X_test.shape)"
   ]
  },
  {
   "cell_type": "markdown",
   "metadata": {},
   "source": [
    "**4.c.** *Determine if Sclaing is needed.*"
   ]
  },
  {
   "cell_type": "code",
   "execution_count": 35,
   "metadata": {},
   "outputs": [
    {
     "data": {
      "text/html": [
       "<div>\n",
       "<style scoped>\n",
       "    .dataframe tbody tr th:only-of-type {\n",
       "        vertical-align: middle;\n",
       "    }\n",
       "\n",
       "    .dataframe tbody tr th {\n",
       "        vertical-align: top;\n",
       "    }\n",
       "\n",
       "    .dataframe thead th {\n",
       "        text-align: right;\n",
       "    }\n",
       "</style>\n",
       "<table border=\"1\" class=\"dataframe\">\n",
       "  <thead>\n",
       "    <tr style=\"text-align: right;\">\n",
       "      <th></th>\n",
       "      <th>CreditScore</th>\n",
       "      <th>Age</th>\n",
       "      <th>Tenure</th>\n",
       "      <th>Balance</th>\n",
       "      <th>NumOfProducts</th>\n",
       "      <th>HasCrCard</th>\n",
       "      <th>IsActiveMember</th>\n",
       "      <th>EstimatedSalary</th>\n",
       "      <th>Tenure_Missing</th>\n",
       "      <th>Geography_Germany</th>\n",
       "      <th>Geography_Spain</th>\n",
       "      <th>Gender_Male</th>\n",
       "    </tr>\n",
       "  </thead>\n",
       "  <tbody>\n",
       "    <tr>\n",
       "      <th>count</th>\n",
       "      <td>8000.000000</td>\n",
       "      <td>8000.000000</td>\n",
       "      <td>8000.000000</td>\n",
       "      <td>8000.000000</td>\n",
       "      <td>8000.000000</td>\n",
       "      <td>8000.000000</td>\n",
       "      <td>8000.000000</td>\n",
       "      <td>8000.000000</td>\n",
       "      <td>8000.000000</td>\n",
       "      <td>8000.000000</td>\n",
       "      <td>8000.000000</td>\n",
       "      <td>8000.000000</td>\n",
       "    </tr>\n",
       "    <tr>\n",
       "      <th>mean</th>\n",
       "      <td>650.752500</td>\n",
       "      <td>38.946625</td>\n",
       "      <td>4.996375</td>\n",
       "      <td>76381.207499</td>\n",
       "      <td>1.529500</td>\n",
       "      <td>0.708750</td>\n",
       "      <td>0.514875</td>\n",
       "      <td>99730.811581</td>\n",
       "      <td>0.091125</td>\n",
       "      <td>0.250625</td>\n",
       "      <td>0.250250</td>\n",
       "      <td>0.548375</td>\n",
       "    </tr>\n",
       "    <tr>\n",
       "      <th>std</th>\n",
       "      <td>96.596432</td>\n",
       "      <td>10.526876</td>\n",
       "      <td>2.763796</td>\n",
       "      <td>62302.053597</td>\n",
       "      <td>0.581741</td>\n",
       "      <td>0.454367</td>\n",
       "      <td>0.499810</td>\n",
       "      <td>57335.116540</td>\n",
       "      <td>0.287805</td>\n",
       "      <td>0.433400</td>\n",
       "      <td>0.433184</td>\n",
       "      <td>0.497685</td>\n",
       "    </tr>\n",
       "    <tr>\n",
       "      <th>min</th>\n",
       "      <td>350.000000</td>\n",
       "      <td>18.000000</td>\n",
       "      <td>0.000000</td>\n",
       "      <td>0.000000</td>\n",
       "      <td>1.000000</td>\n",
       "      <td>0.000000</td>\n",
       "      <td>0.000000</td>\n",
       "      <td>11.580000</td>\n",
       "      <td>0.000000</td>\n",
       "      <td>0.000000</td>\n",
       "      <td>0.000000</td>\n",
       "      <td>0.000000</td>\n",
       "    </tr>\n",
       "    <tr>\n",
       "      <th>25%</th>\n",
       "      <td>584.000000</td>\n",
       "      <td>32.000000</td>\n",
       "      <td>3.000000</td>\n",
       "      <td>0.000000</td>\n",
       "      <td>1.000000</td>\n",
       "      <td>0.000000</td>\n",
       "      <td>0.000000</td>\n",
       "      <td>50691.817500</td>\n",
       "      <td>0.000000</td>\n",
       "      <td>0.000000</td>\n",
       "      <td>0.000000</td>\n",
       "      <td>0.000000</td>\n",
       "    </tr>\n",
       "    <tr>\n",
       "      <th>50%</th>\n",
       "      <td>652.000000</td>\n",
       "      <td>37.000000</td>\n",
       "      <td>5.000000</td>\n",
       "      <td>97055.145000</td>\n",
       "      <td>1.000000</td>\n",
       "      <td>1.000000</td>\n",
       "      <td>1.000000</td>\n",
       "      <td>99446.940000</td>\n",
       "      <td>0.000000</td>\n",
       "      <td>0.000000</td>\n",
       "      <td>0.000000</td>\n",
       "      <td>1.000000</td>\n",
       "    </tr>\n",
       "    <tr>\n",
       "      <th>75%</th>\n",
       "      <td>717.000000</td>\n",
       "      <td>44.000000</td>\n",
       "      <td>7.000000</td>\n",
       "      <td>127633.195000</td>\n",
       "      <td>2.000000</td>\n",
       "      <td>1.000000</td>\n",
       "      <td>1.000000</td>\n",
       "      <td>148527.730000</td>\n",
       "      <td>0.000000</td>\n",
       "      <td>1.000000</td>\n",
       "      <td>1.000000</td>\n",
       "      <td>1.000000</td>\n",
       "    </tr>\n",
       "    <tr>\n",
       "      <th>max</th>\n",
       "      <td>850.000000</td>\n",
       "      <td>92.000000</td>\n",
       "      <td>10.000000</td>\n",
       "      <td>238387.560000</td>\n",
       "      <td>4.000000</td>\n",
       "      <td>1.000000</td>\n",
       "      <td>1.000000</td>\n",
       "      <td>199992.480000</td>\n",
       "      <td>1.000000</td>\n",
       "      <td>1.000000</td>\n",
       "      <td>1.000000</td>\n",
       "      <td>1.000000</td>\n",
       "    </tr>\n",
       "  </tbody>\n",
       "</table>\n",
       "</div>"
      ],
      "text/plain": [
       "       CreditScore          Age       Tenure        Balance  NumOfProducts  \\\n",
       "count  8000.000000  8000.000000  8000.000000    8000.000000    8000.000000   \n",
       "mean    650.752500    38.946625     4.996375   76381.207499       1.529500   \n",
       "std      96.596432    10.526876     2.763796   62302.053597       0.581741   \n",
       "min     350.000000    18.000000     0.000000       0.000000       1.000000   \n",
       "25%     584.000000    32.000000     3.000000       0.000000       1.000000   \n",
       "50%     652.000000    37.000000     5.000000   97055.145000       1.000000   \n",
       "75%     717.000000    44.000000     7.000000  127633.195000       2.000000   \n",
       "max     850.000000    92.000000    10.000000  238387.560000       4.000000   \n",
       "\n",
       "         HasCrCard  IsActiveMember  EstimatedSalary  Tenure_Missing  \\\n",
       "count  8000.000000     8000.000000      8000.000000     8000.000000   \n",
       "mean      0.708750        0.514875     99730.811581        0.091125   \n",
       "std       0.454367        0.499810     57335.116540        0.287805   \n",
       "min       0.000000        0.000000        11.580000        0.000000   \n",
       "25%       0.000000        0.000000     50691.817500        0.000000   \n",
       "50%       1.000000        1.000000     99446.940000        0.000000   \n",
       "75%       1.000000        1.000000    148527.730000        0.000000   \n",
       "max       1.000000        1.000000    199992.480000        1.000000   \n",
       "\n",
       "       Geography_Germany  Geography_Spain  Gender_Male  \n",
       "count        8000.000000      8000.000000  8000.000000  \n",
       "mean            0.250625         0.250250     0.548375  \n",
       "std             0.433400         0.433184     0.497685  \n",
       "min             0.000000         0.000000     0.000000  \n",
       "25%             0.000000         0.000000     0.000000  \n",
       "50%             0.000000         0.000000     1.000000  \n",
       "75%             1.000000         1.000000     1.000000  \n",
       "max             1.000000         1.000000     1.000000  "
      ]
     },
     "execution_count": 35,
     "metadata": {},
     "output_type": "execute_result"
    }
   ],
   "source": [
    "X_train.describe()"
   ]
  },
  {
   "cell_type": "code",
   "execution_count": 36,
   "metadata": {},
   "outputs": [
    {
     "data": {
      "text/html": [
       "<div>\n",
       "<style scoped>\n",
       "    .dataframe tbody tr th:only-of-type {\n",
       "        vertical-align: middle;\n",
       "    }\n",
       "\n",
       "    .dataframe tbody tr th {\n",
       "        vertical-align: top;\n",
       "    }\n",
       "\n",
       "    .dataframe thead th {\n",
       "        text-align: right;\n",
       "    }\n",
       "</style>\n",
       "<table border=\"1\" class=\"dataframe\">\n",
       "  <thead>\n",
       "    <tr style=\"text-align: right;\">\n",
       "      <th></th>\n",
       "      <th>CreditScore</th>\n",
       "      <th>Age</th>\n",
       "      <th>Tenure</th>\n",
       "      <th>Balance</th>\n",
       "      <th>NumOfProducts</th>\n",
       "      <th>HasCrCard</th>\n",
       "      <th>IsActiveMember</th>\n",
       "      <th>EstimatedSalary</th>\n",
       "      <th>Tenure_Missing</th>\n",
       "      <th>Geography_Germany</th>\n",
       "      <th>Geography_Spain</th>\n",
       "      <th>Gender_Male</th>\n",
       "    </tr>\n",
       "  </thead>\n",
       "  <tbody>\n",
       "    <tr>\n",
       "      <th>count</th>\n",
       "      <td>1000.000000</td>\n",
       "      <td>1000.00000</td>\n",
       "      <td>1000.000000</td>\n",
       "      <td>1000.000000</td>\n",
       "      <td>1000.000000</td>\n",
       "      <td>1000.000000</td>\n",
       "      <td>1000.000000</td>\n",
       "      <td>1000.000000</td>\n",
       "      <td>1000.000000</td>\n",
       "      <td>1000.000000</td>\n",
       "      <td>1000.000000</td>\n",
       "      <td>1000.000000</td>\n",
       "    </tr>\n",
       "    <tr>\n",
       "      <th>mean</th>\n",
       "      <td>647.114000</td>\n",
       "      <td>39.05600</td>\n",
       "      <td>4.968000</td>\n",
       "      <td>78583.238410</td>\n",
       "      <td>1.520000</td>\n",
       "      <td>0.687000</td>\n",
       "      <td>0.529000</td>\n",
       "      <td>103326.173150</td>\n",
       "      <td>0.090000</td>\n",
       "      <td>0.238000</td>\n",
       "      <td>0.246000</td>\n",
       "      <td>0.533000</td>\n",
       "    </tr>\n",
       "    <tr>\n",
       "      <th>std</th>\n",
       "      <td>96.456326</td>\n",
       "      <td>10.42994</td>\n",
       "      <td>2.702273</td>\n",
       "      <td>62814.051582</td>\n",
       "      <td>0.583044</td>\n",
       "      <td>0.463946</td>\n",
       "      <td>0.499408</td>\n",
       "      <td>58156.972494</td>\n",
       "      <td>0.286325</td>\n",
       "      <td>0.426072</td>\n",
       "      <td>0.430894</td>\n",
       "      <td>0.499159</td>\n",
       "    </tr>\n",
       "    <tr>\n",
       "      <th>min</th>\n",
       "      <td>350.000000</td>\n",
       "      <td>18.00000</td>\n",
       "      <td>0.000000</td>\n",
       "      <td>0.000000</td>\n",
       "      <td>1.000000</td>\n",
       "      <td>0.000000</td>\n",
       "      <td>0.000000</td>\n",
       "      <td>428.230000</td>\n",
       "      <td>0.000000</td>\n",
       "      <td>0.000000</td>\n",
       "      <td>0.000000</td>\n",
       "      <td>0.000000</td>\n",
       "    </tr>\n",
       "    <tr>\n",
       "      <th>25%</th>\n",
       "      <td>578.750000</td>\n",
       "      <td>32.00000</td>\n",
       "      <td>3.000000</td>\n",
       "      <td>0.000000</td>\n",
       "      <td>1.000000</td>\n",
       "      <td>0.000000</td>\n",
       "      <td>0.000000</td>\n",
       "      <td>52410.110000</td>\n",
       "      <td>0.000000</td>\n",
       "      <td>0.000000</td>\n",
       "      <td>0.000000</td>\n",
       "      <td>0.000000</td>\n",
       "    </tr>\n",
       "    <tr>\n",
       "      <th>50%</th>\n",
       "      <td>648.000000</td>\n",
       "      <td>38.00000</td>\n",
       "      <td>5.000000</td>\n",
       "      <td>100665.590000</td>\n",
       "      <td>1.000000</td>\n",
       "      <td>1.000000</td>\n",
       "      <td>1.000000</td>\n",
       "      <td>105043.060000</td>\n",
       "      <td>0.000000</td>\n",
       "      <td>0.000000</td>\n",
       "      <td>0.000000</td>\n",
       "      <td>1.000000</td>\n",
       "    </tr>\n",
       "    <tr>\n",
       "      <th>75%</th>\n",
       "      <td>717.000000</td>\n",
       "      <td>45.00000</td>\n",
       "      <td>7.000000</td>\n",
       "      <td>130162.555000</td>\n",
       "      <td>2.000000</td>\n",
       "      <td>1.000000</td>\n",
       "      <td>1.000000</td>\n",
       "      <td>154050.902500</td>\n",
       "      <td>0.000000</td>\n",
       "      <td>0.000000</td>\n",
       "      <td>0.000000</td>\n",
       "      <td>1.000000</td>\n",
       "    </tr>\n",
       "    <tr>\n",
       "      <th>max</th>\n",
       "      <td>850.000000</td>\n",
       "      <td>85.00000</td>\n",
       "      <td>10.000000</td>\n",
       "      <td>210433.080000</td>\n",
       "      <td>4.000000</td>\n",
       "      <td>1.000000</td>\n",
       "      <td>1.000000</td>\n",
       "      <td>199929.170000</td>\n",
       "      <td>1.000000</td>\n",
       "      <td>1.000000</td>\n",
       "      <td>1.000000</td>\n",
       "      <td>1.000000</td>\n",
       "    </tr>\n",
       "  </tbody>\n",
       "</table>\n",
       "</div>"
      ],
      "text/plain": [
       "       CreditScore         Age       Tenure        Balance  NumOfProducts  \\\n",
       "count  1000.000000  1000.00000  1000.000000    1000.000000    1000.000000   \n",
       "mean    647.114000    39.05600     4.968000   78583.238410       1.520000   \n",
       "std      96.456326    10.42994     2.702273   62814.051582       0.583044   \n",
       "min     350.000000    18.00000     0.000000       0.000000       1.000000   \n",
       "25%     578.750000    32.00000     3.000000       0.000000       1.000000   \n",
       "50%     648.000000    38.00000     5.000000  100665.590000       1.000000   \n",
       "75%     717.000000    45.00000     7.000000  130162.555000       2.000000   \n",
       "max     850.000000    85.00000    10.000000  210433.080000       4.000000   \n",
       "\n",
       "         HasCrCard  IsActiveMember  EstimatedSalary  Tenure_Missing  \\\n",
       "count  1000.000000     1000.000000      1000.000000     1000.000000   \n",
       "mean      0.687000        0.529000    103326.173150        0.090000   \n",
       "std       0.463946        0.499408     58156.972494        0.286325   \n",
       "min       0.000000        0.000000       428.230000        0.000000   \n",
       "25%       0.000000        0.000000     52410.110000        0.000000   \n",
       "50%       1.000000        1.000000    105043.060000        0.000000   \n",
       "75%       1.000000        1.000000    154050.902500        0.000000   \n",
       "max       1.000000        1.000000    199929.170000        1.000000   \n",
       "\n",
       "       Geography_Germany  Geography_Spain  Gender_Male  \n",
       "count        1000.000000      1000.000000  1000.000000  \n",
       "mean            0.238000         0.246000     0.533000  \n",
       "std             0.426072         0.430894     0.499159  \n",
       "min             0.000000         0.000000     0.000000  \n",
       "25%             0.000000         0.000000     0.000000  \n",
       "50%             0.000000         0.000000     1.000000  \n",
       "75%             0.000000         0.000000     1.000000  \n",
       "max             1.000000         1.000000     1.000000  "
      ]
     },
     "execution_count": 36,
     "metadata": {},
     "output_type": "execute_result"
    }
   ],
   "source": [
    "X_val.describe()"
   ]
  },
  {
   "cell_type": "code",
   "execution_count": 37,
   "metadata": {},
   "outputs": [
    {
     "data": {
      "text/html": [
       "<div>\n",
       "<style scoped>\n",
       "    .dataframe tbody tr th:only-of-type {\n",
       "        vertical-align: middle;\n",
       "    }\n",
       "\n",
       "    .dataframe tbody tr th {\n",
       "        vertical-align: top;\n",
       "    }\n",
       "\n",
       "    .dataframe thead th {\n",
       "        text-align: right;\n",
       "    }\n",
       "</style>\n",
       "<table border=\"1\" class=\"dataframe\">\n",
       "  <thead>\n",
       "    <tr style=\"text-align: right;\">\n",
       "      <th></th>\n",
       "      <th>CreditScore</th>\n",
       "      <th>Age</th>\n",
       "      <th>Tenure</th>\n",
       "      <th>Balance</th>\n",
       "      <th>NumOfProducts</th>\n",
       "      <th>HasCrCard</th>\n",
       "      <th>IsActiveMember</th>\n",
       "      <th>EstimatedSalary</th>\n",
       "      <th>Tenure_Missing</th>\n",
       "      <th>Geography_Germany</th>\n",
       "      <th>Geography_Spain</th>\n",
       "      <th>Gender_Male</th>\n",
       "    </tr>\n",
       "  </thead>\n",
       "  <tbody>\n",
       "    <tr>\n",
       "      <th>count</th>\n",
       "      <td>1000.000000</td>\n",
       "      <td>1000.000000</td>\n",
       "      <td>1000.000000</td>\n",
       "      <td>1000.000000</td>\n",
       "      <td>1000.000000</td>\n",
       "      <td>1000.000000</td>\n",
       "      <td>1000.000000</td>\n",
       "      <td>1000.000000</td>\n",
       "      <td>1000.000000</td>\n",
       "      <td>1000.000000</td>\n",
       "      <td>1000.000000</td>\n",
       "      <td>1000.000000</td>\n",
       "    </tr>\n",
       "    <tr>\n",
       "      <th>mean</th>\n",
       "      <td>652.154000</td>\n",
       "      <td>38.589000</td>\n",
       "      <td>5.040000</td>\n",
       "      <td>75225.994480</td>\n",
       "      <td>1.546000</td>\n",
       "      <td>0.698000</td>\n",
       "      <td>0.503000</td>\n",
       "      <td>99729.733010</td>\n",
       "      <td>0.090000</td>\n",
       "      <td>0.266000</td>\n",
       "      <td>0.229000</td>\n",
       "      <td>0.537000</td>\n",
       "    </tr>\n",
       "    <tr>\n",
       "      <th>std</th>\n",
       "      <td>97.323564</td>\n",
       "      <td>10.233122</td>\n",
       "      <td>2.788939</td>\n",
       "      <td>62754.981097</td>\n",
       "      <td>0.579845</td>\n",
       "      <td>0.459355</td>\n",
       "      <td>0.500241</td>\n",
       "      <td>58214.482408</td>\n",
       "      <td>0.286325</td>\n",
       "      <td>0.442085</td>\n",
       "      <td>0.420399</td>\n",
       "      <td>0.498879</td>\n",
       "    </tr>\n",
       "    <tr>\n",
       "      <th>min</th>\n",
       "      <td>395.000000</td>\n",
       "      <td>18.000000</td>\n",
       "      <td>0.000000</td>\n",
       "      <td>0.000000</td>\n",
       "      <td>1.000000</td>\n",
       "      <td>0.000000</td>\n",
       "      <td>0.000000</td>\n",
       "      <td>96.270000</td>\n",
       "      <td>0.000000</td>\n",
       "      <td>0.000000</td>\n",
       "      <td>0.000000</td>\n",
       "      <td>0.000000</td>\n",
       "    </tr>\n",
       "    <tr>\n",
       "      <th>25%</th>\n",
       "      <td>586.000000</td>\n",
       "      <td>32.000000</td>\n",
       "      <td>3.000000</td>\n",
       "      <td>0.000000</td>\n",
       "      <td>1.000000</td>\n",
       "      <td>0.000000</td>\n",
       "      <td>0.000000</td>\n",
       "      <td>51844.515000</td>\n",
       "      <td>0.000000</td>\n",
       "      <td>0.000000</td>\n",
       "      <td>0.000000</td>\n",
       "      <td>0.000000</td>\n",
       "    </tr>\n",
       "    <tr>\n",
       "      <th>50%</th>\n",
       "      <td>652.000000</td>\n",
       "      <td>37.000000</td>\n",
       "      <td>5.000000</td>\n",
       "      <td>94303.885000</td>\n",
       "      <td>2.000000</td>\n",
       "      <td>1.000000</td>\n",
       "      <td>1.000000</td>\n",
       "      <td>98503.070000</td>\n",
       "      <td>0.000000</td>\n",
       "      <td>0.000000</td>\n",
       "      <td>0.000000</td>\n",
       "      <td>1.000000</td>\n",
       "    </tr>\n",
       "    <tr>\n",
       "      <th>75%</th>\n",
       "      <td>718.000000</td>\n",
       "      <td>44.000000</td>\n",
       "      <td>7.000000</td>\n",
       "      <td>125504.117500</td>\n",
       "      <td>2.000000</td>\n",
       "      <td>1.000000</td>\n",
       "      <td>1.000000</td>\n",
       "      <td>150470.047500</td>\n",
       "      <td>0.000000</td>\n",
       "      <td>1.000000</td>\n",
       "      <td>0.000000</td>\n",
       "      <td>1.000000</td>\n",
       "    </tr>\n",
       "    <tr>\n",
       "      <th>max</th>\n",
       "      <td>850.000000</td>\n",
       "      <td>78.000000</td>\n",
       "      <td>10.000000</td>\n",
       "      <td>250898.090000</td>\n",
       "      <td>4.000000</td>\n",
       "      <td>1.000000</td>\n",
       "      <td>1.000000</td>\n",
       "      <td>199841.320000</td>\n",
       "      <td>1.000000</td>\n",
       "      <td>1.000000</td>\n",
       "      <td>1.000000</td>\n",
       "      <td>1.000000</td>\n",
       "    </tr>\n",
       "  </tbody>\n",
       "</table>\n",
       "</div>"
      ],
      "text/plain": [
       "       CreditScore          Age       Tenure        Balance  NumOfProducts  \\\n",
       "count  1000.000000  1000.000000  1000.000000    1000.000000    1000.000000   \n",
       "mean    652.154000    38.589000     5.040000   75225.994480       1.546000   \n",
       "std      97.323564    10.233122     2.788939   62754.981097       0.579845   \n",
       "min     395.000000    18.000000     0.000000       0.000000       1.000000   \n",
       "25%     586.000000    32.000000     3.000000       0.000000       1.000000   \n",
       "50%     652.000000    37.000000     5.000000   94303.885000       2.000000   \n",
       "75%     718.000000    44.000000     7.000000  125504.117500       2.000000   \n",
       "max     850.000000    78.000000    10.000000  250898.090000       4.000000   \n",
       "\n",
       "         HasCrCard  IsActiveMember  EstimatedSalary  Tenure_Missing  \\\n",
       "count  1000.000000     1000.000000      1000.000000     1000.000000   \n",
       "mean      0.698000        0.503000     99729.733010        0.090000   \n",
       "std       0.459355        0.500241     58214.482408        0.286325   \n",
       "min       0.000000        0.000000        96.270000        0.000000   \n",
       "25%       0.000000        0.000000     51844.515000        0.000000   \n",
       "50%       1.000000        1.000000     98503.070000        0.000000   \n",
       "75%       1.000000        1.000000    150470.047500        0.000000   \n",
       "max       1.000000        1.000000    199841.320000        1.000000   \n",
       "\n",
       "       Geography_Germany  Geography_Spain  Gender_Male  \n",
       "count        1000.000000      1000.000000  1000.000000  \n",
       "mean            0.266000         0.229000     0.537000  \n",
       "std             0.442085         0.420399     0.498879  \n",
       "min             0.000000         0.000000     0.000000  \n",
       "25%             0.000000         0.000000     0.000000  \n",
       "50%             0.000000         0.000000     1.000000  \n",
       "75%             1.000000         0.000000     1.000000  \n",
       "max             1.000000         1.000000     1.000000  "
      ]
     },
     "execution_count": 37,
     "metadata": {},
     "output_type": "execute_result"
    }
   ],
   "source": [
    "X_test.describe()"
   ]
  },
  {
   "cell_type": "markdown",
   "metadata": {},
   "source": [
    "**4.d.** *Scale the Data.* "
   ]
  },
  {
   "cell_type": "code",
   "execution_count": 38,
   "metadata": {},
   "outputs": [],
   "source": [
    "# **StandardScaler for Logistic Regression**\n",
    "scaler = StandardScaler()\n",
    "\n",
    "# Fit and transform on the training set\n",
    "X_train_scaled = scaler.fit_transform(X_train)\n",
    "\n",
    "# Transform the validation and test sets using the same scaler\n",
    "X_val_scaled = scaler.transform(X_val)\n",
    "X_test_scaled = scaler.transform(X_test)"
   ]
  },
  {
   "cell_type": "markdown",
   "metadata": {},
   "source": [
    "**5. TRAIN MODELS ON IMBALANCED DATA**\n",
    "\n",
    "- Models: Logistic Regression, Decision Tree, and Random Forest\n",
    "- Hyperparameter Tuning. Used GridSearchCV for hyperparameter tuning. "
   ]
  },
  {
   "cell_type": "code",
   "execution_count": 39,
   "metadata": {},
   "outputs": [
    {
     "name": "stdout",
     "output_type": "stream",
     "text": [
      "Training on imbalanced data:\n",
      "\n",
      "Evaluation on validation set (imbalanced):\n",
      "Logistic Regression F1 Score on Validation Data: 0.3161764705882353\n",
      "Decision Tree F1 Score on Validation Data: 0.5706051873198846\n",
      "Random Forest F1 Score on Validation Data: 0.611111111111111\n"
     ]
    }
   ],
   "source": [
    "# Models to evaluate\n",
    "models = {\n",
    "    'Logistic Regression': LogisticRegression(random_state=42, solver='liblinear'),\n",
    "    'Decision Tree': DecisionTreeClassifier(random_state=42),\n",
    "    'Random Forest': RandomForestClassifier(random_state=42)\n",
    "}\n",
    "\n",
    "# Hyperparameter grids\n",
    "param_grids = {\n",
    "    'Logistic Regression': {'C': [0.01, 0.1, 1, 10, 100]},\n",
    "    'Decision Tree': {'max_depth': [3, 5, 10, None], 'min_samples_leaf': [1, 5, 10, 20]},\n",
    "    'Random Forest': {'n_estimators': [10, 50, 100], 'max_depth': [3, 5, 10, None]}\n",
    "}\n",
    "\n",
    "best_models_imbalanced = {}\n",
    "\n",
    "print(\"Training on imbalanced data:\")\n",
    "for model_name, model in models.items():\n",
    "    grid_search = GridSearchCV(model, param_grids[model_name], scoring='f1', cv=3)\n",
    "    grid_search.fit(X_train_scaled, y_train)\n",
    "    best_models_imbalanced[model_name] = grid_search.best_estimator_\n",
    "\n",
    "# Evaluate models on validation set (imbalanced)\n",
    "print(\"\\nEvaluation on validation set (imbalanced):\")\n",
    "for model_name, model in best_models_imbalanced.items():\n",
    "    y_pred = model.predict(X_val_scaled)\n",
    "    print(f\"{model_name} F1 Score on Validation Data: {f1_score(y_val, y_pred)}\")\n"
   ]
  },
  {
   "cell_type": "markdown",
   "metadata": {},
   "source": [
    "**Analysis**\n",
    "\n",
    "*Logistic Regression* Struggled with imbalanced data, resulting in a low F1 score. This suggests that it may not be well-suited for handling imbalanced datasets without additional techniques. \n",
    "\n",
    "*Decision Tree* Performed better than Logistic Regression, achieving a moderately high F1 score. This indicates its ability to handle imbalanced data to some extent. \n",
    "\n",
    "*Random Forest* Achieved the highest F1 score among the three models, demonstrating a robustness in handling imbalanced datasets. "
   ]
  },
  {
   "cell_type": "markdown",
   "metadata": {},
   "source": [
    "**6. TRAIN MODELS WITH CLASS WEIGHTS**\n",
    "\n",
    "- Models: Decision Tree, and Random Forest\n",
    "- Class weights: Handled class imbalanced using class weights.\n",
    "- Hyperparameter Tuning. Used GridSearchCV for hyperparameter tuning. "
   ]
  },
  {
   "cell_type": "code",
   "execution_count": 40,
   "metadata": {},
   "outputs": [
    {
     "name": "stdout",
     "output_type": "stream",
     "text": [
      "Decision Tree (Balanced) F1 Score on Validation Data: 0.5424954792043399\n",
      "Random Forest (Balanced) F1 Score on Validation Data: 0.6335697399527187\n"
     ]
    }
   ],
   "source": [
    "# Define hyperparameter grids for class-weighted models\n",
    "param_grid_tree = {'max_depth': [3, 5, 10, None], 'min_samples_leaf': [1, 5, 10, 20]}\n",
    "param_grid_forest = {'n_estimators': [10, 50, 100], 'max_depth': [3, 5, 10, None]}\n",
    "\n",
    "# Decision Tree with class weights\n",
    "dec_tree_balanced = DecisionTreeClassifier(class_weight='balanced', random_state=42)\n",
    "grid_search_tree_balanced = GridSearchCV(dec_tree_balanced, param_grid_tree, scoring='f1', cv=3)\n",
    "grid_search_tree_balanced.fit(X_train_scaled, y_train)\n",
    "best_tree_balanced = grid_search_tree_balanced.best_estimator_\n",
    "y_val_pred_tree_balanced = best_tree_balanced.predict(X_val_scaled)\n",
    "print(f\"Decision Tree (Balanced) F1 Score on Validation Data: {f1_score(y_val, y_val_pred_tree_balanced)}\")\n",
    "\n",
    "# Random Forest with class weights\n",
    "rand_forest_balanced = RandomForestClassifier(class_weight='balanced', random_state=42)\n",
    "grid_search_forest_balanced = GridSearchCV(rand_forest_balanced, param_grid_forest, scoring='f1', cv=3)\n",
    "grid_search_forest_balanced.fit(X_train_scaled, y_train)\n",
    "best_forest_balanced = grid_search_forest_balanced.best_estimator_\n",
    "y_val_pred_forest_balanced = best_forest_balanced.predict(X_val_scaled)\n",
    "print(f\"Random Forest (Balanced) F1 Score on Validation Data: {f1_score(y_val, y_val_pred_forest_balanced)}\")\n"
   ]
  },
  {
   "cell_type": "markdown",
   "metadata": {},
   "source": [
    "**Analysis**\n",
    "\n",
    "*Decision Tree (Balanced)* Improved its F1 score compared to the imbalanced data, indicating that class weights helped the model handle the imbalance more effectively.\n",
    "\n",
    "*Random Forest (Balanced)* Showed a significant improvement, achieving the highest F1 score. This demonstrates that applying class weights was particuarly effective for this model.  "
   ]
  },
  {
   "cell_type": "markdown",
   "metadata": {},
   "source": [
    "**7. TRAIN MODELS WITH RANDOM OVER SAMPLING (MANUAL)**"
   ]
  },
  {
   "cell_type": "code",
   "execution_count": 41,
   "metadata": {},
   "outputs": [],
   "source": [
    "# count the instances in each classes. \n",
    "class_counts = y_train.value_counts()\n",
    "max_class = class_counts.idxmax()\n",
    "min_class = class_counts.idxmin()\n",
    "max_count = class_counts.max()"
   ]
  },
  {
   "cell_type": "code",
   "execution_count": 42,
   "metadata": {},
   "outputs": [],
   "source": [
    "# create additional sample from the minority class to balance the classes.\n",
    "X_train_oversampled = X_train_scaled.copy()\n",
    "y_train_oversampled = y_train.copy()\n",
    "num_samples_to_add = max_count - class_counts[min_class]"
   ]
  },
  {
   "cell_type": "code",
   "execution_count": 43,
   "metadata": {},
   "outputs": [],
   "source": [
    "# Randomly sample from the minority class to create additional samples.\n",
    "minority_samples = X_train_scaled[y_train == min_class]\n",
    "additional_samples = minority_samples[np.random.randint(0, len(minority_samples), num_samples_to_add)]"
   ]
  },
  {
   "cell_type": "code",
   "execution_count": 44,
   "metadata": {},
   "outputs": [],
   "source": [
    "# append the additional samples to the training set\n",
    "X_train_oversampled = np.vstack([X_train_oversampled, additional_samples])\n",
    "y_train_oversampled = np.hstack([y_train_oversampled, [min_class] * num_samples_to_add])"
   ]
  },
  {
   "cell_type": "code",
   "execution_count": 45,
   "metadata": {},
   "outputs": [
    {
     "name": "stdout",
     "output_type": "stream",
     "text": [
      "Training with Random Over Sampling:\n",
      "Logistic Regression F1 Score on Validation Data (Random Over Sampling): 0.5199306759098786\n",
      "Decision Tree F1 Score on Validation Data (Random Over Sampling): 0.4747474747474747\n",
      "Random Forest F1 Score on Validation Data (Random Over Sampling): 0.6098901098901098\n"
     ]
    }
   ],
   "source": [
    "# Train models using oversampled data\n",
    "best_models_oversampled = {}\n",
    "\n",
    "print(\"Training with Random Over Sampling:\")\n",
    "for model_name, model in models.items():\n",
    "    grid_search = GridSearchCV(model, param_grids[model_name], scoring='f1', cv=3)\n",
    "    grid_search.fit(X_train_oversampled, y_train_oversampled)\n",
    "    best_models_oversampled[model_name] = grid_search.best_estimator_\n",
    "\n",
    "# Evaluate models on validation set\n",
    "for model_name, model in best_models_oversampled.items():\n",
    "    y_val_pred = model.predict(X_val_scaled)\n",
    "    print(f\"{model_name} F1 Score on Validation Data (Random Over Sampling): {f1_score(y_val, y_val_pred)}\")\n"
   ]
  },
  {
   "cell_type": "markdown",
   "metadata": {},
   "source": [
    "**Analysis**\n",
    "\n",
    "*Random Forest* stands out as the top performer among the three models when trained with Random Over Sampling, achieving an F1 score of approximately 0.62. This suggests that Random Forest can better manage the class imbalance in this context.\n",
    "\n",
    "*Logistic Regression* comes in second with an F1 score of approximately 0.52, which implies it maintains some balance between precision and recall but might not capture the intricacies of the dataset as well as Random Forest.\n",
    "\n",
    "*Decision Tree* has the lowest performance with an F1 score of approximately 0.45, indicating potential struggles with maintaining a balance between precision and recall in the oversampled dataset."
   ]
  },
  {
   "cell_type": "markdown",
   "metadata": {},
   "source": [
    "**8. TRAIN MODELS WITH RANDOM UNDER SAMPLING (MANUAL)**"
   ]
  },
  {
   "cell_type": "code",
   "execution_count": 46,
   "metadata": {},
   "outputs": [],
   "source": [
    "# Count the instances in each class\n",
    "class_counts = y_train.value_counts()\n",
    "max_class = class_counts.idxmax()\n",
    "min_class = class_counts.idxmin()"
   ]
  },
  {
   "cell_type": "code",
   "execution_count": 47,
   "metadata": {},
   "outputs": [],
   "source": [
    "# Extract indices for the majority and minority classes\n",
    "majority_class_indices = np.where(y_train == max_class)[0]\n",
    "minority_class_indices = np.where(y_train == min_class)[0]"
   ]
  },
  {
   "cell_type": "code",
   "execution_count": 48,
   "metadata": {},
   "outputs": [],
   "source": [
    "# Randomly sample from the majority class to match the minority class\n",
    "random_majority_indices = np.random.choice(majority_class_indices, len(minority_class_indices), replace=False)"
   ]
  },
  {
   "cell_type": "code",
   "execution_count": 49,
   "metadata": {},
   "outputs": [],
   "source": [
    "# Combine the minority class indices with the randomly sampled majority class indices\n",
    "undersampled_indices = np.concatenate([minority_class_indices, random_majority_indices])"
   ]
  },
  {
   "cell_type": "code",
   "execution_count": 50,
   "metadata": {},
   "outputs": [],
   "source": [
    "# Convert to arrays for indexing\n",
    "undersampled_indices = np.array(undersampled_indices)\n",
    "\n",
    "# Create the undersampled training set using array indexing\n",
    "X_train_undersampled = X_train_scaled[undersampled_indices]\n",
    "y_train_undersampled = y_train.iloc[undersampled_indices]"
   ]
  },
  {
   "cell_type": "code",
   "execution_count": 51,
   "metadata": {},
   "outputs": [
    {
     "name": "stdout",
     "output_type": "stream",
     "text": [
      "Training with Random Under Sampling:\n",
      "Logistic Regression F1 Score on Validation Data (Random Under Sampling): 0.5163511187607573\n",
      "Decision Tree F1 Score on Validation Data (Random Under Sampling): 0.5745454545454546\n",
      "Random Forest F1 Score on Validation Data (Random Under Sampling): 0.594392523364486\n"
     ]
    }
   ],
   "source": [
    "# Train models using undersampled data\n",
    "best_models_undersampled = {}\n",
    "\n",
    "print(\"Training with Random Under Sampling:\")\n",
    "for model_name, model in models.items():\n",
    "    grid_search = GridSearchCV(model, param_grids[model_name], scoring='f1', cv=3)\n",
    "    grid_search.fit(X_train_undersampled, y_train_undersampled)\n",
    "    best_models_undersampled[model_name] = grid_search.best_estimator_\n",
    "\n",
    "# Evaluate models on validation set\n",
    "for model_name, model in best_models_undersampled.items():\n",
    "    y_val_pred = model.predict(X_val_scaled)\n",
    "    print(f\"{model_name} F1 Score on Validation Data (Random Under Sampling): {f1_score(y_val, y_val_pred)}\")\n"
   ]
  },
  {
   "cell_type": "markdown",
   "metadata": {},
   "source": [
    "**Analysis**\n",
    "\n",
    "*Random Forest* maintains its status as the top performer with an F1 score of approximately 0.59, showing that it handles both oversampling and undersampling well.\n",
    "\n",
    "*Decision Tree* performs better with undersampling than with oversampling, achieving an F1 score of approximately 0.58. This indicates it might be more suited to working with an undersampled dataset in this context.\n",
    "\n",
    "*Logistic Regression* performs consistently across both methods, with an F1 score of approximately 0.51 in undersampling. This suggests it has similar precision and recall balance regardless of the sampling method used.\n"
   ]
  },
  {
   "cell_type": "markdown",
   "metadata": {},
   "source": [
    "**Comparison of Random Over Sampling vs. Random Under Sampling**\n",
    "\n",
    "- Random Forest: 0.620 (Over) vs. 0.591 (Under)\n",
    "- Decision Tree: 0.451 (Over) vs. 0.585 (Under)\n",
    "- Logistic Regression: 0.517 (Over) vs. 0.509 (Under)\n",
    "\n",
    "*Random Forest* and *Decision Tree* generally show better performance with *Random Over Sampling*, while *Logistic Regression* performs consistently across both methods.\n",
    "\n",
    "Based on these results, *Random Forest* stands out as the most effective model for this dataset, with a preference for oversampling. *Decision Tree* also benefits from undersampling, showing an **improved F1 score**."
   ]
  },
  {
   "cell_type": "markdown",
   "metadata": {},
   "source": [
    "**9. EVALUATE GRADIENT BOOSTING**\n",
    "\n",
    "- Models: Gradient Boosting\n",
    "- Hyperparameter Tuning. Used GridSearchCV for hyperparameter tuning. \n",
    "\n",
    "Evaluated Gradient Boosting as an alternative model without resampling or class weighting. "
   ]
  },
  {
   "cell_type": "code",
   "execution_count": 52,
   "metadata": {},
   "outputs": [
    {
     "name": "stdout",
     "output_type": "stream",
     "text": [
      "Gradient Boosting F1 Score on Validation Data: 0.6227544910179641\n"
     ]
    }
   ],
   "source": [
    "# Gradient Boosting\n",
    "grad_boost = GradientBoostingClassifier(random_state=42)\n",
    "param_grid_gb = {'n_estimators': [50, 100, 200], 'learning_rate': [0.01, 0.1, 0.2], 'max_depth': [3, 5, 7]}\n",
    "grid_search_gb = GridSearchCV(grad_boost, param_grid_gb, scoring='f1', cv=3)\n",
    "grid_search_gb.fit(X_train_scaled, y_train)\n",
    "best_gb = grid_search_gb.best_estimator_\n",
    "y_val_pred_gb = best_gb.predict(X_val_scaled)\n",
    "print(f\"Gradient Boosting F1 Score on Validation Data: {f1_score(y_val, y_val_pred_gb)}\")\n"
   ]
  },
  {
   "cell_type": "markdown",
   "metadata": {},
   "source": [
    "**Analysis**\n",
    "\n",
    "*Gradient Boosting* Performed well, achieving a high F1 score. This model's ability to handle imbalanced data without additional techniques makes it a strong contender. "
   ]
  },
  {
   "cell_type": "markdown",
   "metadata": {},
   "source": [
    "**10. FINAL MODEL SELECTED AND EVALUATION**\n",
    "\n",
    "- Selected Model: Random Forest with Class Weights.\n",
    "- Test Evaluation: Evaluated the selected model on the test set. "
   ]
  },
  {
   "cell_type": "code",
   "execution_count": 60,
   "metadata": {
    "scrolled": true
   },
   "outputs": [
    {
     "name": "stdout",
     "output_type": "stream",
     "text": [
      "\n",
      "Selected Model: Random Forest (Balanced)\n",
      "Validation F1 Score: 0.6335697399527187\n",
      "Test F1 Score: 0.5925925925925924\n",
      "Test AUC-ROC Score: 0.8531191475421994\n"
     ]
    }
   ],
   "source": [
    "# Final Model Selection and Evaluation\n",
    "model_scores = {\n",
    "    'Decision Tree (Balanced)': f1_score(y_val, y_val_pred_tree_balanced),\n",
    "    'Random Forest (Balanced)': f1_score(y_val, y_val_pred_forest_balanced),\n",
    "    'Gradient Boosting': f1_score(y_val, y_val_pred_gb),\n",
    "}\n",
    "\n",
    "best_model_name = max(model_scores, key=model_scores.get)\n",
    "best_f1_score = model_scores[best_model_name]\n",
    "\n",
    "print(f\"\\nSelected Model: {best_model_name}\")\n",
    "print(f\"Validation F1 Score: {best_f1_score}\")\n",
    "\n",
    "# Evaluate the selected model on the test set\n",
    "if best_model_name == 'Decision Tree (Balanced)':\n",
    "    best_model = best_tree_balanced\n",
    "elif best_model_name == 'Random Forest (Balanced)':\n",
    "    best_model = best_forest_balanced\n",
    "else:\n",
    "    best_model = best_gb\n",
    "\n",
    "y_test_pred = best_model.predict(X_test_scaled)\n",
    "test_f1_score = f1_score(y_test, y_test_pred)\n",
    "test_auc_score = roc_auc_score(y_test, best_model.predict_proba(X_test_scaled)[:, 1])\n",
    "\n",
    "print(f\"Test F1 Score: {test_f1_score}\")\n",
    "print(f\"Test AUC-ROC Score: {test_auc_score}\")\n"
   ]
  },
  {
   "cell_type": "markdown",
   "metadata": {},
   "source": [
    "**Analysis**\n",
    "\n",
    "*Selected Model* The Random Forest with class weights was chosen for its superior performance. \n",
    "\n",
    "*Test Set Evaluation* The model maintained a high F1 score and AUC-ROC score on the test set, confirming its robustness and reliability. "
   ]
  },
  {
   "cell_type": "markdown",
   "metadata": {},
   "source": [
    "**Analyze feature importance from Random Forest model to gain insights into which factors are most influential in predicting churn.**"
   ]
  },
  {
   "cell_type": "code",
   "execution_count": 61,
   "metadata": {},
   "outputs": [
    {
     "data": {
      "image/png": "[encoded data removed]",
      "text/plain": [
       "<Figure size 1200x800 with 1 Axes>"
      ]
     },
     "metadata": {},
     "output_type": "display_data"
    }
   ],
   "source": [
    "# Get feature importances from the best Random Forest model\n",
    "feature_importances = best_forest_balanced.feature_importances_\n",
    "\n",
    "# Use the original DataFrame for column names\n",
    "features = X_train.columns\n",
    "\n",
    "# Create a DataFrame for feature importances\n",
    "importance_df = pd.DataFrame({'Feature': features, 'Importance': feature_importances})\n",
    "importance_df = importance_df.sort_values(by='Importance', ascending=False)\n",
    "\n",
    "# Plot feature importances\n",
    "plt.figure(figsize=(12, 8))\n",
    "plt.barh(importance_df['Feature'], importance_df['Importance'], color='skyblue')\n",
    "plt.xlabel('Importance')\n",
    "plt.ylabel('Feature')\n",
    "plt.title('Feature Importances from Random Forest (Balanced)')\n",
    "plt.gca().invert_yaxis()\n",
    "plt.show()\n"
   ]
  },
  {
   "cell_type": "markdown",
   "metadata": {},
   "source": [
    "**Analysis**\n",
    "\n",
    "*Feature Importance* The plot provided insights into which features were most influential in predicting customer churn, helping to understand the model's decision-making process. "
   ]
  },
  {
   "cell_type": "code",
   "execution_count": 83,
   "metadata": {},
   "outputs": [],
   "source": [
    "# Calculate the false positive rate, true positive rate, and thresholds for the ROC curve\n",
    "fpr, tpr, thresholds = roc_curve(y_test, best_forest_balanced.predict_proba(X_test_scaled)[:, 1])"
   ]
  },
  {
   "cell_type": "code",
   "execution_count": 84,
   "metadata": {},
   "outputs": [],
   "source": [
    "# Calculate the AUC (Area Under the Curve)\n",
    "roc_auc = auc(fpr, tpr)"
   ]
  },
  {
   "cell_type": "code",
   "execution_count": 85,
   "metadata": {},
   "outputs": [
    {
     "data": {
      "image/png": "[encoded data removed]",
      "text/plain": [
       "<Figure size 1000x600 with 1 Axes>"
      ]
     },
     "metadata": {},
     "output_type": "display_data"
    }
   ],
   "source": [
    "# Plot the ROC curve\n",
    "plt.figure(figsize=(10, 6))\n",
    "plt.plot(fpr, tpr, color='blue', lw=2, label=f'ROC curve (area = {roc_auc:.2f})')\n",
    "plt.plot([0, 1], [0, 1], color='gray', linestyle='--')\n",
    "plt.xlim([0.0, 1.0])\n",
    "plt.ylim([0.0, 1.05])\n",
    "plt.xlabel('False Positive Rate')\n",
    "plt.ylabel('True Positive Rate')\n",
    "plt.title('Receiver Operating Characteristic (ROC) Curve')\n",
    "plt.legend(loc='lower right')\n",
    "plt.grid(alpha=0.3)\n",
    "plt.show()"
   ]
  },
  {
   "cell_type": "markdown",
   "metadata": {},
   "source": [
    "**Analysis**\n",
    "\n",
    "An AUC of 0.85 for the ROC curve signifies that the Random Forest model with class weights is performing very well. It reliably distinguishes between customers who are likely to churn and those who are not, making it a strong candidate for practical implementation."
   ]
  },
  {
   "cell_type": "code",
   "execution_count": 86,
   "metadata": {},
   "outputs": [],
   "source": [
    "# Calculate the probability of churn (1 class) using the best model\n",
    "y_test_prob = best_forest_balanced.predict_proba(X_test_scaled)[:, 1]  # Predicted probabilities for the positive class"
   ]
  },
  {
   "cell_type": "code",
   "execution_count": 87,
   "metadata": {},
   "outputs": [],
   "source": [
    "# Set the threshold for potential churn (commonly 0.5)\n",
    "threshold = 0.5"
   ]
  },
  {
   "cell_type": "code",
   "execution_count": 88,
   "metadata": {},
   "outputs": [],
   "source": [
    "# Determine the number of customers predicted to churn\n",
    "predicted_churn = np.sum(y_test_prob >= threshold)"
   ]
  },
  {
   "cell_type": "code",
   "execution_count": 89,
   "metadata": {},
   "outputs": [],
   "source": [
    "# Calculate the percentage of customers predicted to churn\n",
    "churn_percentage = (predicted_churn / len(y_test_prob)) * 100"
   ]
  },
  {
   "cell_type": "code",
   "execution_count": 90,
   "metadata": {},
   "outputs": [
    {
     "name": "stdout",
     "output_type": "stream",
     "text": [
      "Percentage of potential customer churn: 22.90%\n"
     ]
    }
   ],
   "source": [
    "# Print the result\n",
    "print(f\"Percentage of potential customer churn: {churn_percentage:.2f}%\")"
   ]
  },
  {
   "cell_type": "markdown",
   "metadata": {},
   "source": [
    "**Analysis**\n",
    "\n",
    "This means that, based on the model's predictions and using a threshold of 0.5, approximately 23.10% of the customers in the test dataset are identified as being at risk of leaving the bank."
   ]
  },
  {
   "cell_type": "markdown",
   "metadata": {},
   "source": [
    "# CONCLUSION\n",
    "\n",
    "The Random Forest model with class weights emerged as the best model for predicting customer churn. It demonstrated superior performance across multiple metrics, including validation and test F1 scores, and AUC-ROC score. The model's reliability and interpretability through feature importance analysis make it a strong candidate for practical implementation."
   ]
  }
 ],
 "metadata": {
  "ExecuteTimeLog": [
   {
    "duration": 349,
    "start_time": "2024-12-12T18:00:01.727Z"
   },
   {
    "duration": 2,
    "start_time": "2024-12-12T18:00:13.596Z"
   },
   {
    "duration": 307,
    "start_time": "2024-12-12T18:00:51.054Z"
   },
   {
    "duration": 3,
    "start_time": "2024-12-12T19:30:57.846Z"
   },
   {
    "duration": 3,
    "start_time": "2024-12-12T19:37:54.360Z"
   },
   {
    "duration": 28,
    "start_time": "2024-12-12T19:43:04.412Z"
   },
   {
    "duration": 173,
    "start_time": "2024-12-12T19:43:20.420Z"
   },
   {
    "duration": 13,
    "start_time": "2024-12-12T19:43:25.348Z"
   },
   {
    "duration": 269,
    "start_time": "2024-12-12T21:20:34.002Z"
   },
   {
    "duration": 16,
    "start_time": "2024-12-12T21:20:34.273Z"
   },
   {
    "duration": 13,
    "start_time": "2024-12-12T21:20:34.290Z"
   },
   {
    "duration": 3,
    "start_time": "2024-12-12T21:47:09.133Z"
   },
   {
    "duration": 11,
    "start_time": "2024-12-12T21:58:30.060Z"
   },
   {
    "duration": 175,
    "start_time": "2024-12-12T22:10:29.663Z"
   },
   {
    "duration": 4,
    "start_time": "2024-12-12T22:10:36.496Z"
   },
   {
    "duration": 12,
    "start_time": "2024-12-12T22:10:57.581Z"
   },
   {
    "duration": 29,
    "start_time": "2024-12-12T22:11:05.089Z"
   },
   {
    "duration": 8,
    "start_time": "2024-12-12T22:12:32.692Z"
   },
   {
    "duration": 28,
    "start_time": "2024-12-12T22:15:25.820Z"
   },
   {
    "duration": 5,
    "start_time": "2024-12-12T22:21:29.121Z"
   },
   {
    "duration": 6,
    "start_time": "2024-12-12T22:27:09.234Z"
   },
   {
    "duration": 13,
    "start_time": "2024-12-12T22:27:31.671Z"
   },
   {
    "duration": 3,
    "start_time": "2024-12-13T00:20:25.480Z"
   },
   {
    "duration": 7,
    "start_time": "2024-12-13T00:20:45.074Z"
   },
   {
    "duration": 5,
    "start_time": "2024-12-13T02:39:48.943Z"
   },
   {
    "duration": 5,
    "start_time": "2024-12-13T02:40:54.043Z"
   },
   {
    "duration": 6,
    "start_time": "2024-12-13T02:41:02.110Z"
   },
   {
    "duration": 15,
    "start_time": "2024-12-13T02:46:09.399Z"
   },
   {
    "duration": 4,
    "start_time": "2024-12-13T02:46:18.356Z"
   },
   {
    "duration": 8,
    "start_time": "2024-12-13T03:20:20.887Z"
   },
   {
    "duration": 290,
    "start_time": "2024-12-17T03:34:44.846Z"
   },
   {
    "duration": 34,
    "start_time": "2024-12-17T03:34:45.138Z"
   },
   {
    "duration": 12,
    "start_time": "2024-12-17T03:34:45.174Z"
   },
   {
    "duration": 5,
    "start_time": "2024-12-17T03:34:45.189Z"
   },
   {
    "duration": 10,
    "start_time": "2024-12-17T03:34:45.196Z"
   },
   {
    "duration": 3,
    "start_time": "2024-12-17T03:34:45.207Z"
   },
   {
    "duration": 6,
    "start_time": "2024-12-17T03:34:45.212Z"
   },
   {
    "duration": 59,
    "start_time": "2024-12-17T03:34:45.220Z"
   },
   {
    "duration": 6,
    "start_time": "2024-12-17T03:34:45.280Z"
   },
   {
    "duration": 5,
    "start_time": "2024-12-17T03:34:45.288Z"
   },
   {
    "duration": 6,
    "start_time": "2024-12-17T03:34:45.295Z"
   },
   {
    "duration": 3,
    "start_time": "2024-12-17T03:34:45.302Z"
   },
   {
    "duration": 6,
    "start_time": "2024-12-17T03:34:45.306Z"
   },
   {
    "duration": 4,
    "start_time": "2024-12-17T03:34:45.313Z"
   },
   {
    "duration": 5,
    "start_time": "2024-12-17T03:34:45.318Z"
   },
   {
    "duration": 52,
    "start_time": "2024-12-17T03:34:45.325Z"
   },
   {
    "duration": 15,
    "start_time": "2024-12-17T03:36:33.488Z"
   },
   {
    "duration": 483,
    "start_time": "2024-12-17T04:13:41.859Z"
   },
   {
    "duration": 219,
    "start_time": "2024-12-17T04:14:36.136Z"
   },
   {
    "duration": 16,
    "start_time": "2024-12-17T04:14:51.044Z"
   },
   {
    "duration": 15,
    "start_time": "2024-12-17T04:17:39.947Z"
   },
   {
    "duration": 6,
    "start_time": "2024-12-17T04:20:23.233Z"
   },
   {
    "duration": 6,
    "start_time": "2024-12-17T04:21:30.791Z"
   },
   {
    "duration": 20,
    "start_time": "2024-12-17T04:23:00.261Z"
   },
   {
    "duration": 6,
    "start_time": "2024-12-17T04:23:30.540Z"
   },
   {
    "duration": 4,
    "start_time": "2024-12-17T04:24:27.411Z"
   },
   {
    "duration": 9,
    "start_time": "2024-12-17T04:24:42.747Z"
   },
   {
    "duration": 22,
    "start_time": "2024-12-17T04:34:17.056Z"
   },
   {
    "duration": 9,
    "start_time": "2024-12-17T04:34:24.531Z"
   },
   {
    "duration": 292,
    "start_time": "2024-12-17T04:34:37.459Z"
   },
   {
    "duration": 20,
    "start_time": "2024-12-17T04:34:37.753Z"
   },
   {
    "duration": 13,
    "start_time": "2024-12-17T04:34:37.776Z"
   },
   {
    "duration": 3,
    "start_time": "2024-12-17T04:34:37.791Z"
   },
   {
    "duration": 11,
    "start_time": "2024-12-17T04:34:37.796Z"
   },
   {
    "duration": 3,
    "start_time": "2024-12-17T04:34:37.808Z"
   },
   {
    "duration": 8,
    "start_time": "2024-12-17T04:34:37.813Z"
   },
   {
    "duration": 60,
    "start_time": "2024-12-17T04:34:37.823Z"
   },
   {
    "duration": 5,
    "start_time": "2024-12-17T04:34:37.885Z"
   },
   {
    "duration": 5,
    "start_time": "2024-12-17T04:34:37.893Z"
   },
   {
    "duration": 7,
    "start_time": "2024-12-17T04:34:37.899Z"
   },
   {
    "duration": 3,
    "start_time": "2024-12-17T04:34:37.907Z"
   },
   {
    "duration": 6,
    "start_time": "2024-12-17T04:34:37.911Z"
   },
   {
    "duration": 3,
    "start_time": "2024-12-17T04:34:37.918Z"
   },
   {
    "duration": 5,
    "start_time": "2024-12-17T04:34:37.923Z"
   },
   {
    "duration": 8,
    "start_time": "2024-12-17T04:34:37.970Z"
   },
   {
    "duration": 15,
    "start_time": "2024-12-17T04:34:37.979Z"
   },
   {
    "duration": 474,
    "start_time": "2024-12-17T04:34:37.996Z"
   },
   {
    "duration": 7,
    "start_time": "2024-12-17T04:34:38.472Z"
   },
   {
    "duration": 11,
    "start_time": "2024-12-17T04:34:38.481Z"
   },
   {
    "duration": 242,
    "start_time": "2024-12-17T04:34:38.494Z"
   },
   {
    "duration": 0,
    "start_time": "2024-12-17T04:34:38.738Z"
   },
   {
    "duration": 0,
    "start_time": "2024-12-17T04:34:38.739Z"
   },
   {
    "duration": 0,
    "start_time": "2024-12-17T04:34:38.741Z"
   },
   {
    "duration": 324,
    "start_time": "2024-12-17T04:35:44.987Z"
   },
   {
    "duration": 15,
    "start_time": "2024-12-17T04:35:45.313Z"
   },
   {
    "duration": 13,
    "start_time": "2024-12-17T04:35:45.330Z"
   },
   {
    "duration": 4,
    "start_time": "2024-12-17T04:35:45.345Z"
   },
   {
    "duration": 25,
    "start_time": "2024-12-17T04:35:45.351Z"
   },
   {
    "duration": 3,
    "start_time": "2024-12-17T04:35:45.378Z"
   },
   {
    "duration": 6,
    "start_time": "2024-12-17T04:35:45.383Z"
   },
   {
    "duration": 26,
    "start_time": "2024-12-17T04:35:45.391Z"
   },
   {
    "duration": 5,
    "start_time": "2024-12-17T04:35:45.418Z"
   },
   {
    "duration": 4,
    "start_time": "2024-12-17T04:35:45.426Z"
   },
   {
    "duration": 42,
    "start_time": "2024-12-17T04:35:45.432Z"
   },
   {
    "duration": 3,
    "start_time": "2024-12-17T04:35:45.475Z"
   },
   {
    "duration": 6,
    "start_time": "2024-12-17T04:35:45.480Z"
   },
   {
    "duration": 4,
    "start_time": "2024-12-17T04:35:45.487Z"
   },
   {
    "duration": 5,
    "start_time": "2024-12-17T04:35:45.493Z"
   },
   {
    "duration": 8,
    "start_time": "2024-12-17T04:35:45.499Z"
   },
   {
    "duration": 14,
    "start_time": "2024-12-17T04:35:45.508Z"
   },
   {
    "duration": 504,
    "start_time": "2024-12-17T04:35:45.524Z"
   },
   {
    "duration": 5,
    "start_time": "2024-12-17T04:35:46.030Z"
   },
   {
    "duration": 8,
    "start_time": "2024-12-17T04:35:46.037Z"
   },
   {
    "duration": 8,
    "start_time": "2024-12-17T04:35:46.046Z"
   },
   {
    "duration": 31,
    "start_time": "2024-12-17T04:35:46.055Z"
   },
   {
    "duration": 6,
    "start_time": "2024-12-17T04:35:46.087Z"
   },
   {
    "duration": 9,
    "start_time": "2024-12-17T04:35:46.170Z"
   },
   {
    "duration": 211,
    "start_time": "2024-12-17T04:38:18.227Z"
   },
   {
    "duration": 944,
    "start_time": "2024-12-17T04:38:40.816Z"
   },
   {
    "duration": 50,
    "start_time": "2024-12-17T04:38:44.450Z"
   },
   {
    "duration": 6,
    "start_time": "2024-12-17T04:38:50.529Z"
   },
   {
    "duration": 2,
    "start_time": "2024-12-17T04:42:24.638Z"
   },
   {
    "duration": 18,
    "start_time": "2024-12-17T04:42:33.386Z"
   },
   {
    "duration": 7,
    "start_time": "2024-12-17T04:42:47.222Z"
   },
   {
    "duration": 6,
    "start_time": "2024-12-17T04:43:00.235Z"
   },
   {
    "duration": 7,
    "start_time": "2024-12-17T04:43:09.585Z"
   },
   {
    "duration": 272,
    "start_time": "2024-12-17T05:30:14.938Z"
   },
   {
    "duration": 16,
    "start_time": "2024-12-17T05:30:15.212Z"
   },
   {
    "duration": 14,
    "start_time": "2024-12-17T05:30:15.230Z"
   },
   {
    "duration": 3,
    "start_time": "2024-12-17T05:30:15.245Z"
   },
   {
    "duration": 26,
    "start_time": "2024-12-17T05:30:15.252Z"
   },
   {
    "duration": 3,
    "start_time": "2024-12-17T05:30:15.280Z"
   },
   {
    "duration": 6,
    "start_time": "2024-12-17T05:30:15.285Z"
   },
   {
    "duration": 27,
    "start_time": "2024-12-17T05:30:15.292Z"
   },
   {
    "duration": 4,
    "start_time": "2024-12-17T05:30:15.321Z"
   },
   {
    "duration": 5,
    "start_time": "2024-12-17T05:30:15.327Z"
   },
   {
    "duration": 41,
    "start_time": "2024-12-17T05:30:15.333Z"
   },
   {
    "duration": 3,
    "start_time": "2024-12-17T05:30:15.376Z"
   },
   {
    "duration": 5,
    "start_time": "2024-12-17T05:30:15.381Z"
   },
   {
    "duration": 5,
    "start_time": "2024-12-17T05:30:15.389Z"
   },
   {
    "duration": 4,
    "start_time": "2024-12-17T05:30:15.395Z"
   },
   {
    "duration": 7,
    "start_time": "2024-12-17T05:30:15.401Z"
   },
   {
    "duration": 14,
    "start_time": "2024-12-17T05:30:15.410Z"
   },
   {
    "duration": 518,
    "start_time": "2024-12-17T05:30:15.426Z"
   },
   {
    "duration": 5,
    "start_time": "2024-12-17T05:30:15.946Z"
   },
   {
    "duration": 17,
    "start_time": "2024-12-17T05:30:15.953Z"
   },
   {
    "duration": 9,
    "start_time": "2024-12-17T05:30:15.971Z"
   },
   {
    "duration": 972,
    "start_time": "2024-12-17T05:30:15.981Z"
   },
   {
    "duration": 60,
    "start_time": "2024-12-17T05:30:16.955Z"
   },
   {
    "duration": 7,
    "start_time": "2024-12-17T05:30:17.017Z"
   },
   {
    "duration": 2,
    "start_time": "2024-12-17T05:30:17.026Z"
   },
   {
    "duration": 67,
    "start_time": "2024-12-17T05:30:17.030Z"
   },
   {
    "duration": 81,
    "start_time": "2024-12-17T05:30:17.099Z"
   },
   {
    "duration": 11,
    "start_time": "2024-12-17T05:30:17.182Z"
   },
   {
    "duration": 82,
    "start_time": "2024-12-17T05:30:17.195Z"
   },
   {
    "duration": 2,
    "start_time": "2024-12-17T05:31:34.649Z"
   },
   {
    "duration": 953,
    "start_time": "2024-12-17T05:31:36.538Z"
   },
   {
    "duration": 55,
    "start_time": "2024-12-17T05:31:39.576Z"
   },
   {
    "duration": 6,
    "start_time": "2024-12-17T05:31:45.155Z"
   },
   {
    "duration": 7,
    "start_time": "2024-12-17T05:31:48.152Z"
   },
   {
    "duration": 2,
    "start_time": "2024-12-17T05:33:54.214Z"
   },
   {
    "duration": 19,
    "start_time": "2024-12-17T05:33:58.808Z"
   },
   {
    "duration": 5,
    "start_time": "2024-12-17T05:34:04.710Z"
   },
   {
    "duration": 6,
    "start_time": "2024-12-17T05:34:17.942Z"
   },
   {
    "duration": 8,
    "start_time": "2024-12-17T05:34:27.190Z"
   },
   {
    "duration": 299,
    "start_time": "2024-12-17T05:40:56.466Z"
   },
   {
    "duration": 18,
    "start_time": "2024-12-17T05:40:56.767Z"
   },
   {
    "duration": 13,
    "start_time": "2024-12-17T05:40:56.787Z"
   },
   {
    "duration": 4,
    "start_time": "2024-12-17T05:40:56.801Z"
   },
   {
    "duration": 9,
    "start_time": "2024-12-17T05:40:56.808Z"
   },
   {
    "duration": 3,
    "start_time": "2024-12-17T05:40:56.819Z"
   },
   {
    "duration": 7,
    "start_time": "2024-12-17T05:40:56.824Z"
   },
   {
    "duration": 62,
    "start_time": "2024-12-17T05:40:56.832Z"
   },
   {
    "duration": 5,
    "start_time": "2024-12-17T05:40:56.896Z"
   },
   {
    "duration": 5,
    "start_time": "2024-12-17T05:40:56.903Z"
   },
   {
    "duration": 6,
    "start_time": "2024-12-17T05:40:56.909Z"
   },
   {
    "duration": 3,
    "start_time": "2024-12-17T05:40:56.918Z"
   },
   {
    "duration": 5,
    "start_time": "2024-12-17T05:40:56.923Z"
   },
   {
    "duration": 37,
    "start_time": "2024-12-17T05:40:56.933Z"
   },
   {
    "duration": 6,
    "start_time": "2024-12-17T05:40:56.972Z"
   },
   {
    "duration": 9,
    "start_time": "2024-12-17T05:40:56.980Z"
   },
   {
    "duration": 15,
    "start_time": "2024-12-17T05:40:56.990Z"
   },
   {
    "duration": 471,
    "start_time": "2024-12-17T05:40:57.006Z"
   },
   {
    "duration": 6,
    "start_time": "2024-12-17T05:40:57.479Z"
   },
   {
    "duration": 8,
    "start_time": "2024-12-17T05:40:57.487Z"
   },
   {
    "duration": 9,
    "start_time": "2024-12-17T05:40:57.496Z"
   },
   {
    "duration": 969,
    "start_time": "2024-12-17T05:40:57.506Z"
   },
   {
    "duration": 50,
    "start_time": "2024-12-17T05:40:58.478Z"
   },
   {
    "duration": 6,
    "start_time": "2024-12-17T05:40:58.530Z"
   },
   {
    "duration": 2,
    "start_time": "2024-12-17T05:40:58.538Z"
   },
   {
    "duration": 39,
    "start_time": "2024-12-17T05:40:58.543Z"
   },
   {
    "duration": 7,
    "start_time": "2024-12-17T05:40:58.584Z"
   },
   {
    "duration": 78,
    "start_time": "2024-12-17T05:40:58.593Z"
   },
   {
    "duration": 8,
    "start_time": "2024-12-17T05:40:58.674Z"
   },
   {
    "duration": 3,
    "start_time": "2024-12-17T05:40:58.684Z"
   },
   {
    "duration": 985,
    "start_time": "2024-12-17T05:40:58.689Z"
   },
   {
    "duration": 53,
    "start_time": "2024-12-17T05:40:59.675Z"
   },
   {
    "duration": 5,
    "start_time": "2024-12-17T05:40:59.730Z"
   },
   {
    "duration": 8,
    "start_time": "2024-12-17T05:40:59.736Z"
   },
   {
    "duration": 2,
    "start_time": "2024-12-17T05:40:59.747Z"
   },
   {
    "duration": 29,
    "start_time": "2024-12-17T05:40:59.769Z"
   },
   {
    "duration": 75,
    "start_time": "2024-12-17T05:40:59.800Z"
   },
   {
    "duration": 5,
    "start_time": "2024-12-17T05:40:59.877Z"
   },
   {
    "duration": 8,
    "start_time": "2024-12-17T05:40:59.883Z"
   },
   {
    "duration": 11,
    "start_time": "2024-12-17T18:13:37.416Z"
   },
   {
    "duration": 308,
    "start_time": "2024-12-17T18:39:28.228Z"
   },
   {
    "duration": 24,
    "start_time": "2024-12-17T18:39:29.898Z"
   },
   {
    "duration": 13,
    "start_time": "2024-12-17T18:39:31.618Z"
   },
   {
    "duration": 4,
    "start_time": "2024-12-17T18:39:37.244Z"
   },
   {
    "duration": 11,
    "start_time": "2024-12-17T18:39:42.318Z"
   },
   {
    "duration": 4,
    "start_time": "2024-12-17T18:39:46.416Z"
   },
   {
    "duration": 7,
    "start_time": "2024-12-17T18:39:48.111Z"
   },
   {
    "duration": 29,
    "start_time": "2024-12-17T18:39:50.020Z"
   },
   {
    "duration": 6,
    "start_time": "2024-12-17T18:39:55.647Z"
   },
   {
    "duration": 5,
    "start_time": "2024-12-17T18:39:58.895Z"
   },
   {
    "duration": 14,
    "start_time": "2024-12-17T18:40:05.268Z"
   },
   {
    "duration": 4,
    "start_time": "2024-12-17T18:41:29.360Z"
   },
   {
    "duration": 7,
    "start_time": "2024-12-17T18:41:43.153Z"
   },
   {
    "duration": 5,
    "start_time": "2024-12-17T18:50:16.039Z"
   },
   {
    "duration": 5,
    "start_time": "2024-12-17T18:50:21.693Z"
   },
   {
    "duration": 311,
    "start_time": "2024-12-17T19:27:26.731Z"
   },
   {
    "duration": 16,
    "start_time": "2024-12-17T19:27:28.298Z"
   },
   {
    "duration": 16,
    "start_time": "2024-12-17T19:27:30.015Z"
   },
   {
    "duration": 5,
    "start_time": "2024-12-17T19:27:35.502Z"
   },
   {
    "duration": 12,
    "start_time": "2024-12-17T19:27:40.971Z"
   },
   {
    "duration": 4,
    "start_time": "2024-12-17T19:27:45.031Z"
   },
   {
    "duration": 6,
    "start_time": "2024-12-17T19:27:47.155Z"
   },
   {
    "duration": 40,
    "start_time": "2024-12-17T19:27:49.206Z"
   },
   {
    "duration": 4,
    "start_time": "2024-12-17T19:27:54.292Z"
   },
   {
    "duration": 6,
    "start_time": "2024-12-17T19:27:57.334Z"
   },
   {
    "duration": 12,
    "start_time": "2024-12-17T19:28:02.429Z"
   },
   {
    "duration": 2,
    "start_time": "2024-12-17T19:28:08.291Z"
   },
   {
    "duration": 180,
    "start_time": "2024-12-17T19:28:10.206Z"
   },
   {
    "duration": 3,
    "start_time": "2024-12-17T19:28:21.906Z"
   },
   {
    "duration": 5,
    "start_time": "2024-12-17T19:28:26.339Z"
   },
   {
    "duration": 7,
    "start_time": "2024-12-17T19:28:28.816Z"
   },
   {
    "duration": 4,
    "start_time": "2024-12-17T19:28:48.639Z"
   },
   {
    "duration": 9,
    "start_time": "2024-12-17T19:28:50.689Z"
   },
   {
    "duration": 2320,
    "start_time": "2024-12-17T19:31:35.674Z"
   },
   {
    "duration": 3,
    "start_time": "2024-12-17T19:31:59.923Z"
   },
   {
    "duration": 3,
    "start_time": "2024-12-17T19:32:26.126Z"
   },
   {
    "duration": 569,
    "start_time": "2024-12-17T19:33:52.057Z"
   },
   {
    "duration": 6,
    "start_time": "2024-12-17T19:36:10.364Z"
   },
   {
    "duration": 1567,
    "start_time": "2024-12-17T19:36:35.728Z"
   },
   {
    "duration": 1795,
    "start_time": "2024-12-17T19:39:19.898Z"
   },
   {
    "duration": 10,
    "start_time": "2024-12-17T20:13:06.501Z"
   },
   {
    "duration": 16,
    "start_time": "2024-12-17T20:13:12.236Z"
   },
   {
    "duration": 241,
    "start_time": "2024-12-17T20:13:52.731Z"
   },
   {
    "duration": 5,
    "start_time": "2024-12-17T20:13:54.504Z"
   },
   {
    "duration": 9,
    "start_time": "2024-12-17T20:13:56.490Z"
   },
   {
    "duration": 9,
    "start_time": "2024-12-17T20:13:58.191Z"
   },
   {
    "duration": 4,
    "start_time": "2024-12-17T20:32:43.022Z"
   },
   {
    "duration": 8,
    "start_time": "2024-12-17T20:32:45.424Z"
   },
   {
    "duration": 7,
    "start_time": "2024-12-17T20:32:47.480Z"
   },
   {
    "duration": 7,
    "start_time": "2024-12-17T20:32:49.443Z"
   },
   {
    "duration": 69,
    "start_time": "2024-12-17T20:35:59.978Z"
   },
   {
    "duration": 8,
    "start_time": "2024-12-17T20:36:06.290Z"
   },
   {
    "duration": 7,
    "start_time": "2024-12-17T20:36:41.834Z"
   },
   {
    "duration": 3,
    "start_time": "2024-12-17T20:36:53.399Z"
   },
   {
    "duration": 5,
    "start_time": "2024-12-17T20:37:05.088Z"
   },
   {
    "duration": 18,
    "start_time": "2024-12-17T20:37:16.215Z"
   },
   {
    "duration": 8,
    "start_time": "2024-12-17T20:37:36.800Z"
   },
   {
    "duration": 16,
    "start_time": "2024-12-17T20:38:20.671Z"
   },
   {
    "duration": 317,
    "start_time": "2024-12-17T20:39:41.714Z"
   },
   {
    "duration": 17,
    "start_time": "2024-12-17T20:39:43.463Z"
   },
   {
    "duration": 15,
    "start_time": "2024-12-17T20:39:45.292Z"
   },
   {
    "duration": 4,
    "start_time": "2024-12-17T20:39:49.796Z"
   },
   {
    "duration": 11,
    "start_time": "2024-12-17T20:39:54.662Z"
   },
   {
    "duration": 3,
    "start_time": "2024-12-17T20:39:56.926Z"
   },
   {
    "duration": 7,
    "start_time": "2024-12-17T20:40:01.300Z"
   },
   {
    "duration": 28,
    "start_time": "2024-12-17T20:40:03.529Z"
   },
   {
    "duration": 5,
    "start_time": "2024-12-17T20:40:08.728Z"
   },
   {
    "duration": 5,
    "start_time": "2024-12-17T20:40:11.080Z"
   },
   {
    "duration": 7,
    "start_time": "2024-12-17T20:40:16.486Z"
   },
   {
    "duration": 2,
    "start_time": "2024-12-17T20:40:22.291Z"
   },
   {
    "duration": 3,
    "start_time": "2024-12-17T20:40:23.837Z"
   },
   {
    "duration": 4,
    "start_time": "2024-12-17T20:40:25.674Z"
   },
   {
    "duration": 7,
    "start_time": "2024-12-17T20:40:28.283Z"
   },
   {
    "duration": 4,
    "start_time": "2024-12-17T20:40:32.770Z"
   },
   {
    "duration": 5,
    "start_time": "2024-12-17T20:40:34.730Z"
   },
   {
    "duration": 507,
    "start_time": "2024-12-17T20:40:40.367Z"
   },
   {
    "duration": 2,
    "start_time": "2024-12-17T20:40:41.727Z"
   },
   {
    "duration": 1922,
    "start_time": "2024-12-17T20:40:43.143Z"
   },
   {
    "duration": 11,
    "start_time": "2024-12-17T20:40:48.067Z"
   },
   {
    "duration": 17,
    "start_time": "2024-12-17T20:40:52.780Z"
   },
   {
    "duration": 136,
    "start_time": "2024-12-17T20:41:00.237Z"
   },
   {
    "duration": 4,
    "start_time": "2024-12-17T20:41:05.132Z"
   },
   {
    "duration": 9,
    "start_time": "2024-12-17T20:41:06.967Z"
   },
   {
    "duration": 7,
    "start_time": "2024-12-17T20:41:08.636Z"
   },
   {
    "duration": 6,
    "start_time": "2024-12-17T20:41:10.920Z"
   },
   {
    "duration": 245,
    "start_time": "2024-12-17T20:41:16.011Z"
   },
   {
    "duration": 19,
    "start_time": "2024-12-17T20:41:24.538Z"
   },
   {
    "duration": 8,
    "start_time": "2024-12-17T20:41:38.337Z"
   },
   {
    "duration": 7,
    "start_time": "2024-12-17T20:41:41.241Z"
   },
   {
    "duration": 2,
    "start_time": "2024-12-17T20:41:43.758Z"
   },
   {
    "duration": 2,
    "start_time": "2024-12-17T20:41:50.762Z"
   },
   {
    "duration": 18,
    "start_time": "2024-12-17T20:41:53.445Z"
   },
   {
    "duration": 3,
    "start_time": "2024-12-17T20:42:58.465Z"
   },
   {
    "duration": 16,
    "start_time": "2024-12-17T20:43:06.033Z"
   },
   {
    "duration": 7,
    "start_time": "2024-12-17T20:43:08.647Z"
   },
   {
    "duration": 4,
    "start_time": "2024-12-17T21:09:37.886Z"
   },
   {
    "duration": 5,
    "start_time": "2024-12-17T21:09:59.955Z"
   },
   {
    "duration": 20,
    "start_time": "2024-12-17T21:15:54.261Z"
   },
   {
    "duration": 18,
    "start_time": "2024-12-17T21:15:56.101Z"
   },
   {
    "duration": 10,
    "start_time": "2024-12-17T21:15:59.036Z"
   },
   {
    "duration": 767,
    "start_time": "2024-12-17T21:16:03.834Z"
   },
   {
    "duration": 9,
    "start_time": "2024-12-17T21:16:05.309Z"
   },
   {
    "duration": 3,
    "start_time": "2024-12-18T04:30:10.832Z"
   },
   {
    "duration": 17,
    "start_time": "2024-12-18T04:30:13.237Z"
   },
   {
    "duration": 5,
    "start_time": "2024-12-18T04:30:15.175Z"
   },
   {
    "duration": 7,
    "start_time": "2024-12-18T04:30:17.022Z"
   },
   {
    "duration": 7,
    "start_time": "2024-12-18T04:30:19.305Z"
   },
   {
    "duration": 329,
    "start_time": "2024-12-19T21:48:47.891Z"
   },
   {
    "duration": 21,
    "start_time": "2024-12-19T21:49:00.573Z"
   },
   {
    "duration": 13,
    "start_time": "2024-12-19T21:49:02.982Z"
   },
   {
    "duration": 3,
    "start_time": "2024-12-19T21:49:07.592Z"
   },
   {
    "duration": 12,
    "start_time": "2024-12-19T21:50:36.932Z"
   },
   {
    "duration": 4,
    "start_time": "2024-12-19T21:50:42.093Z"
   },
   {
    "duration": 6,
    "start_time": "2024-12-19T21:50:43.500Z"
   },
   {
    "duration": 28,
    "start_time": "2024-12-19T21:50:45.545Z"
   },
   {
    "duration": 6,
    "start_time": "2024-12-19T21:50:50.346Z"
   },
   {
    "duration": 6,
    "start_time": "2024-12-19T21:50:52.722Z"
   },
   {
    "duration": 11,
    "start_time": "2024-12-19T21:50:57.916Z"
   },
   {
    "duration": 2,
    "start_time": "2024-12-19T21:51:03.737Z"
   },
   {
    "duration": 4,
    "start_time": "2024-12-19T21:51:06.495Z"
   },
   {
    "duration": 4,
    "start_time": "2024-12-19T21:51:14.171Z"
   },
   {
    "duration": 6,
    "start_time": "2024-12-19T21:51:16.317Z"
   },
   {
    "duration": 4,
    "start_time": "2024-12-19T21:51:23.563Z"
   },
   {
    "duration": 4,
    "start_time": "2024-12-19T21:51:26.080Z"
   },
   {
    "duration": 2236,
    "start_time": "2024-12-19T21:51:31.334Z"
   },
   {
    "duration": 3,
    "start_time": "2024-12-19T21:51:33.572Z"
   },
   {
    "duration": 1830,
    "start_time": "2024-12-19T21:51:41.029Z"
   },
   {
    "duration": 10,
    "start_time": "2024-12-19T21:51:48.098Z"
   },
   {
    "duration": 17,
    "start_time": "2024-12-19T21:51:53.200Z"
   },
   {
    "duration": 202,
    "start_time": "2024-12-19T21:52:02.862Z"
   },
   {
    "duration": 3,
    "start_time": "2024-12-19T21:52:08.282Z"
   },
   {
    "duration": 8,
    "start_time": "2024-12-19T21:52:10.996Z"
   },
   {
    "duration": 8,
    "start_time": "2024-12-19T21:52:26.145Z"
   },
   {
    "duration": 6,
    "start_time": "2024-12-19T21:52:30.372Z"
   },
   {
    "duration": 10,
    "start_time": "2024-12-19T21:52:36.616Z"
   },
   {
    "duration": 8,
    "start_time": "2024-12-19T21:52:40.285Z"
   },
   {
    "duration": 2,
    "start_time": "2024-12-19T21:52:42.035Z"
   },
   {
    "duration": 3,
    "start_time": "2024-12-19T21:52:43.830Z"
   },
   {
    "duration": 3,
    "start_time": "2024-12-19T21:52:48.418Z"
   },
   {
    "duration": 16,
    "start_time": "2024-12-19T21:52:50.601Z"
   },
   {
    "duration": 8,
    "start_time": "2024-12-19T21:52:52.352Z"
   },
   {
    "duration": 6,
    "start_time": "2024-12-19T21:52:56.732Z"
   },
   {
    "duration": 5,
    "start_time": "2024-12-19T21:53:02.328Z"
   },
   {
    "duration": 21,
    "start_time": "2024-12-19T21:55:37.549Z"
   },
   {
    "duration": 20,
    "start_time": "2024-12-19T21:55:39.962Z"
   },
   {
    "duration": 9,
    "start_time": "2024-12-19T21:55:43.027Z"
   },
   {
    "duration": 232,
    "start_time": "2024-12-19T21:55:46.373Z"
   },
   {
    "duration": 747,
    "start_time": "2024-12-19T21:57:03.292Z"
   },
   {
    "duration": 24,
    "start_time": "2024-12-19T21:58:01.928Z"
   },
   {
    "duration": 733,
    "start_time": "2024-12-19T21:58:05.938Z"
   },
   {
    "duration": 18,
    "start_time": "2024-12-19T21:59:16.107Z"
   },
   {
    "duration": 9037,
    "start_time": "2024-12-19T21:59:50.865Z"
   },
   {
    "duration": 20,
    "start_time": "2024-12-19T22:00:04.427Z"
   },
   {
    "duration": 1346,
    "start_time": "2024-12-19T22:00:10.959Z"
   },
   {
    "duration": 17,
    "start_time": "2024-12-19T22:00:14.891Z"
   },
   {
    "duration": 2444,
    "start_time": "2024-12-19T22:00:33.584Z"
   },
   {
    "duration": 2,
    "start_time": "2024-12-19T22:02:01.906Z"
   },
   {
    "duration": 6,
    "start_time": "2024-12-19T22:02:12.027Z"
   },
   {
    "duration": 6,
    "start_time": "2024-12-19T22:02:30.362Z"
   },
   {
    "duration": 4,
    "start_time": "2024-12-19T22:02:31.931Z"
   },
   {
    "duration": 6,
    "start_time": "2024-12-19T22:02:42.102Z"
   },
   {
    "duration": 5,
    "start_time": "2024-12-19T22:02:47.703Z"
   },
   {
    "duration": 6,
    "start_time": "2024-12-19T22:03:51.232Z"
   },
   {
    "duration": 2,
    "start_time": "2024-12-19T22:05:12.185Z"
   },
   {
    "duration": 3,
    "start_time": "2024-12-19T22:05:17.250Z"
   },
   {
    "duration": 17,
    "start_time": "2024-12-19T22:05:23.917Z"
   },
   {
    "duration": 3,
    "start_time": "2024-12-19T22:06:29.793Z"
   },
   {
    "duration": 4,
    "start_time": "2024-12-19T22:06:34.116Z"
   },
   {
    "duration": 2,
    "start_time": "2024-12-19T22:06:43.731Z"
   },
   {
    "duration": 304,
    "start_time": "2024-12-19T22:07:53.343Z"
   },
   {
    "duration": 18,
    "start_time": "2024-12-19T22:07:53.649Z"
   },
   {
    "duration": 32,
    "start_time": "2024-12-19T22:07:53.668Z"
   },
   {
    "duration": 3,
    "start_time": "2024-12-19T22:07:53.702Z"
   },
   {
    "duration": 9,
    "start_time": "2024-12-19T22:07:53.709Z"
   },
   {
    "duration": 4,
    "start_time": "2024-12-19T22:07:53.719Z"
   },
   {
    "duration": 6,
    "start_time": "2024-12-19T22:07:53.725Z"
   },
   {
    "duration": 70,
    "start_time": "2024-12-19T22:07:53.733Z"
   },
   {
    "duration": 5,
    "start_time": "2024-12-19T22:07:53.806Z"
   },
   {
    "duration": 4,
    "start_time": "2024-12-19T22:07:53.813Z"
   },
   {
    "duration": 6,
    "start_time": "2024-12-19T22:07:53.819Z"
   },
   {
    "duration": 2,
    "start_time": "2024-12-19T22:07:53.826Z"
   },
   {
    "duration": 4,
    "start_time": "2024-12-19T22:07:53.830Z"
   },
   {
    "duration": 4,
    "start_time": "2024-12-19T22:07:53.839Z"
   },
   {
    "duration": 42,
    "start_time": "2024-12-19T22:07:53.845Z"
   },
   {
    "duration": 4,
    "start_time": "2024-12-19T22:07:53.889Z"
   },
   {
    "duration": 4,
    "start_time": "2024-12-19T22:07:53.895Z"
   },
   {
    "duration": 541,
    "start_time": "2024-12-19T22:07:53.901Z"
   },
   {
    "duration": 2,
    "start_time": "2024-12-19T22:07:54.444Z"
   },
   {
    "duration": 1891,
    "start_time": "2024-12-19T22:07:54.448Z"
   },
   {
    "duration": 10,
    "start_time": "2024-12-19T22:07:56.341Z"
   },
   {
    "duration": 17,
    "start_time": "2024-12-19T22:07:56.353Z"
   },
   {
    "duration": 150,
    "start_time": "2024-12-19T22:07:56.372Z"
   },
   {
    "duration": 5,
    "start_time": "2024-12-19T22:07:56.524Z"
   },
   {
    "duration": 9,
    "start_time": "2024-12-19T22:07:56.531Z"
   },
   {
    "duration": 9,
    "start_time": "2024-12-19T22:07:56.542Z"
   },
   {
    "duration": 8,
    "start_time": "2024-12-19T22:07:56.552Z"
   },
   {
    "duration": 33,
    "start_time": "2024-12-19T22:07:56.562Z"
   },
   {
    "duration": 7,
    "start_time": "2024-12-19T22:07:56.597Z"
   },
   {
    "duration": 3,
    "start_time": "2024-12-19T22:07:56.606Z"
   },
   {
    "duration": 3,
    "start_time": "2024-12-19T22:07:56.611Z"
   },
   {
    "duration": 3,
    "start_time": "2024-12-19T22:07:56.616Z"
   },
   {
    "duration": 17,
    "start_time": "2024-12-19T22:07:56.621Z"
   },
   {
    "duration": 8,
    "start_time": "2024-12-19T22:07:56.639Z"
   },
   {
    "duration": 5,
    "start_time": "2024-12-19T22:07:56.687Z"
   },
   {
    "duration": 5,
    "start_time": "2024-12-19T22:07:56.694Z"
   },
   {
    "duration": 20,
    "start_time": "2024-12-19T22:07:56.701Z"
   },
   {
    "duration": 71,
    "start_time": "2024-12-19T22:07:56.723Z"
   },
   {
    "duration": 13,
    "start_time": "2024-12-19T22:07:56.798Z"
   },
   {
    "duration": 852,
    "start_time": "2024-12-19T22:07:56.812Z"
   },
   {
    "duration": 34,
    "start_time": "2024-12-19T22:07:57.670Z"
   },
   {
    "duration": 871,
    "start_time": "2024-12-19T22:07:57.707Z"
   },
   {
    "duration": 6,
    "start_time": "2024-12-19T22:07:58.580Z"
   },
   {
    "duration": 6,
    "start_time": "2024-12-19T22:07:58.588Z"
   },
   {
    "duration": 6,
    "start_time": "2024-12-19T22:07:58.596Z"
   },
   {
    "duration": 5,
    "start_time": "2024-12-19T22:07:58.603Z"
   },
   {
    "duration": 5,
    "start_time": "2024-12-19T22:07:58.610Z"
   },
   {
    "duration": 5,
    "start_time": "2024-12-19T22:07:58.617Z"
   },
   {
    "duration": 6,
    "start_time": "2024-12-19T22:07:58.623Z"
   },
   {
    "duration": 2,
    "start_time": "2024-12-19T22:07:58.631Z"
   },
   {
    "duration": 2,
    "start_time": "2024-12-19T22:07:58.635Z"
   },
   {
    "duration": 49,
    "start_time": "2024-12-19T22:07:58.639Z"
   },
   {
    "duration": 4,
    "start_time": "2024-12-19T22:07:58.690Z"
   },
   {
    "duration": 319,
    "start_time": "2024-12-19T22:14:14.935Z"
   },
   {
    "duration": 17,
    "start_time": "2024-12-19T22:14:15.256Z"
   },
   {
    "duration": 21,
    "start_time": "2024-12-19T22:14:15.275Z"
   },
   {
    "duration": 4,
    "start_time": "2024-12-19T22:14:15.298Z"
   },
   {
    "duration": 10,
    "start_time": "2024-12-19T22:14:15.304Z"
   },
   {
    "duration": 4,
    "start_time": "2024-12-19T22:14:15.315Z"
   },
   {
    "duration": 6,
    "start_time": "2024-12-19T22:14:15.321Z"
   },
   {
    "duration": 59,
    "start_time": "2024-12-19T22:14:15.328Z"
   },
   {
    "duration": 5,
    "start_time": "2024-12-19T22:14:15.389Z"
   },
   {
    "duration": 5,
    "start_time": "2024-12-19T22:14:15.397Z"
   },
   {
    "duration": 7,
    "start_time": "2024-12-19T22:14:15.404Z"
   },
   {
    "duration": 2,
    "start_time": "2024-12-19T22:14:15.413Z"
   },
   {
    "duration": 3,
    "start_time": "2024-12-19T22:14:15.416Z"
   },
   {
    "duration": 3,
    "start_time": "2024-12-19T22:14:15.421Z"
   },
   {
    "duration": 6,
    "start_time": "2024-12-19T22:14:15.426Z"
   },
   {
    "duration": 4,
    "start_time": "2024-12-19T22:14:15.433Z"
   },
   {
    "duration": 52,
    "start_time": "2024-12-19T22:14:15.438Z"
   },
   {
    "duration": 485,
    "start_time": "2024-12-19T22:14:15.491Z"
   },
   {
    "duration": 10,
    "start_time": "2024-12-19T22:14:15.977Z"
   },
   {
    "duration": 1881,
    "start_time": "2024-12-19T22:14:15.990Z"
   },
   {
    "duration": 10,
    "start_time": "2024-12-19T22:14:17.873Z"
   },
   {
    "duration": 17,
    "start_time": "2024-12-19T22:14:17.885Z"
   },
   {
    "duration": 147,
    "start_time": "2024-12-19T22:14:17.904Z"
   },
   {
    "duration": 4,
    "start_time": "2024-12-19T22:14:18.053Z"
   },
   {
    "duration": 8,
    "start_time": "2024-12-19T22:14:18.059Z"
   },
   {
    "duration": 7,
    "start_time": "2024-12-19T22:14:18.069Z"
   },
   {
    "duration": 14,
    "start_time": "2024-12-19T22:14:18.077Z"
   },
   {
    "duration": 9,
    "start_time": "2024-12-19T22:14:18.097Z"
   },
   {
    "duration": 7,
    "start_time": "2024-12-19T22:14:18.107Z"
   },
   {
    "duration": 4,
    "start_time": "2024-12-19T22:14:18.115Z"
   },
   {
    "duration": 3,
    "start_time": "2024-12-19T22:14:18.120Z"
   },
   {
    "duration": 3,
    "start_time": "2024-12-19T22:14:18.125Z"
   },
   {
    "duration": 20,
    "start_time": "2024-12-19T22:14:18.130Z"
   },
   {
    "duration": 41,
    "start_time": "2024-12-19T22:14:18.151Z"
   },
   {
    "duration": 6,
    "start_time": "2024-12-19T22:14:18.193Z"
   },
   {
    "duration": 4,
    "start_time": "2024-12-19T22:14:18.201Z"
   },
   {
    "duration": 19,
    "start_time": "2024-12-19T22:14:18.207Z"
   },
   {
    "duration": 66,
    "start_time": "2024-12-19T22:14:18.227Z"
   },
   {
    "duration": 11,
    "start_time": "2024-12-19T22:14:18.295Z"
   },
   {
    "duration": 843,
    "start_time": "2024-12-19T22:14:18.309Z"
   },
   {
    "duration": 46,
    "start_time": "2024-12-19T22:14:19.155Z"
   },
   {
    "duration": 838,
    "start_time": "2024-12-19T22:14:19.203Z"
   },
   {
    "duration": 3,
    "start_time": "2024-12-19T22:14:20.043Z"
   },
   {
    "duration": 4,
    "start_time": "2024-12-19T22:14:20.047Z"
   },
   {
    "duration": 5,
    "start_time": "2024-12-19T22:14:20.053Z"
   },
   {
    "duration": 4,
    "start_time": "2024-12-19T22:14:20.060Z"
   },
   {
    "duration": 25,
    "start_time": "2024-12-19T22:14:20.066Z"
   },
   {
    "duration": 5,
    "start_time": "2024-12-19T22:14:20.092Z"
   },
   {
    "duration": 5,
    "start_time": "2024-12-19T22:14:20.098Z"
   },
   {
    "duration": 2,
    "start_time": "2024-12-19T22:14:20.105Z"
   },
   {
    "duration": 3,
    "start_time": "2024-12-19T22:14:20.109Z"
   },
   {
    "duration": 4,
    "start_time": "2024-12-19T22:14:20.113Z"
   },
   {
    "duration": 4,
    "start_time": "2024-12-19T22:14:20.118Z"
   },
   {
    "duration": 796,
    "start_time": "2024-12-19T22:21:28.396Z"
   },
   {
    "duration": 15,
    "start_time": "2024-12-19T22:21:59.600Z"
   },
   {
    "duration": 16,
    "start_time": "2024-12-19T22:22:01.153Z"
   },
   {
    "duration": 4,
    "start_time": "2024-12-19T22:22:03.421Z"
   },
   {
    "duration": 11,
    "start_time": "2024-12-19T22:22:22.996Z"
   },
   {
    "duration": 4,
    "start_time": "2024-12-19T22:22:25.821Z"
   },
   {
    "duration": 7,
    "start_time": "2024-12-19T22:22:29.170Z"
   },
   {
    "duration": 27,
    "start_time": "2024-12-19T22:22:31.873Z"
   },
   {
    "duration": 5,
    "start_time": "2024-12-19T22:22:48.730Z"
   },
   {
    "duration": 6,
    "start_time": "2024-12-19T22:23:04.313Z"
   },
   {
    "duration": 12,
    "start_time": "2024-12-19T22:23:09.356Z"
   },
   {
    "duration": 2,
    "start_time": "2024-12-19T22:24:49.442Z"
   },
   {
    "duration": 4,
    "start_time": "2024-12-19T22:25:08.996Z"
   },
   {
    "duration": 4,
    "start_time": "2024-12-19T22:25:26.468Z"
   },
   {
    "duration": 7,
    "start_time": "2024-12-19T22:25:28.782Z"
   },
   {
    "duration": 4,
    "start_time": "2024-12-19T22:28:22.716Z"
   },
   {
    "duration": 6,
    "start_time": "2024-12-19T22:28:25.235Z"
   },
   {
    "duration": 757,
    "start_time": "2024-12-19T22:28:56.342Z"
   },
   {
    "duration": 16,
    "start_time": "2024-12-19T22:28:57.710Z"
   },
   {
    "duration": 14,
    "start_time": "2024-12-19T22:28:59.433Z"
   },
   {
    "duration": 4,
    "start_time": "2024-12-19T22:29:04.121Z"
   },
   {
    "duration": 11,
    "start_time": "2024-12-19T22:29:11.937Z"
   },
   {
    "duration": 4,
    "start_time": "2024-12-19T22:29:16.837Z"
   },
   {
    "duration": 7,
    "start_time": "2024-12-19T22:29:19.756Z"
   },
   {
    "duration": 29,
    "start_time": "2024-12-19T22:29:22.796Z"
   },
   {
    "duration": 4,
    "start_time": "2024-12-19T22:29:35.219Z"
   },
   {
    "duration": 5,
    "start_time": "2024-12-19T22:29:38.982Z"
   },
   {
    "duration": 8,
    "start_time": "2024-12-19T22:29:43.851Z"
   },
   {
    "duration": 5,
    "start_time": "2024-12-19T22:29:54.801Z"
   },
   {
    "duration": 4,
    "start_time": "2024-12-19T22:30:02.504Z"
   },
   {
    "duration": 8,
    "start_time": "2024-12-19T22:30:05.391Z"
   },
   {
    "duration": 5,
    "start_time": "2024-12-19T22:30:21.502Z"
   },
   {
    "duration": 4,
    "start_time": "2024-12-19T22:30:23.848Z"
   },
   {
    "duration": 241,
    "start_time": "2024-12-19T22:30:44.736Z"
   },
   {
    "duration": 2,
    "start_time": "2024-12-19T22:30:46.214Z"
   },
   {
    "duration": 1830,
    "start_time": "2024-12-19T22:30:48.545Z"
   },
   {
    "duration": 9,
    "start_time": "2024-12-19T22:31:11.789Z"
   },
   {
    "duration": 16,
    "start_time": "2024-12-19T22:31:18.458Z"
   },
   {
    "duration": 16,
    "start_time": "2024-12-19T22:31:38.758Z"
   },
   {
    "duration": 230,
    "start_time": "2024-12-19T22:33:39.028Z"
   },
   {
    "duration": 14,
    "start_time": "2024-12-19T22:35:00.877Z"
   },
   {
    "duration": 7,
    "start_time": "2024-12-19T22:35:07.936Z"
   },
   {
    "duration": 5,
    "start_time": "2024-12-19T22:35:12.876Z"
   },
   {
    "duration": 6,
    "start_time": "2024-12-19T22:35:17.756Z"
   },
   {
    "duration": 6,
    "start_time": "2024-12-19T22:35:22.529Z"
   },
   {
    "duration": 8,
    "start_time": "2024-12-19T22:35:29.245Z"
   },
   {
    "duration": 32,
    "start_time": "2024-12-19T22:36:41.011Z"
   },
   {
    "duration": 19,
    "start_time": "2024-12-19T22:37:48.422Z"
   },
   {
    "duration": 15,
    "start_time": "2024-12-19T22:37:54.480Z"
   },
   {
    "duration": 15,
    "start_time": "2024-12-19T22:40:18.551Z"
   },
   {
    "duration": 770,
    "start_time": "2024-12-19T22:40:23.315Z"
   },
   {
    "duration": 4,
    "start_time": "2024-12-19T22:41:46.929Z"
   },
   {
    "duration": 5,
    "start_time": "2024-12-19T22:41:55.528Z"
   },
   {
    "duration": 6,
    "start_time": "2024-12-19T22:42:03.870Z"
   },
   {
    "duration": 6,
    "start_time": "2024-12-19T22:42:15.430Z"
   },
   {
    "duration": 4,
    "start_time": "2024-12-19T22:42:22.889Z"
   },
   {
    "duration": 1147,
    "start_time": "2024-12-19T22:42:37.898Z"
   },
   {
    "duration": 5,
    "start_time": "2024-12-19T22:43:10.428Z"
   },
   {
    "duration": 3,
    "start_time": "2024-12-19T22:43:11.614Z"
   },
   {
    "duration": 4,
    "start_time": "2024-12-19T22:43:17.350Z"
   },
   {
    "duration": 370,
    "start_time": "2024-12-19T22:43:28.602Z"
   },
   {
    "duration": 4,
    "start_time": "2024-12-19T22:55:32.836Z"
   },
   {
    "duration": 18,
    "start_time": "2024-12-19T22:55:43.529Z"
   },
   {
    "duration": 2,
    "start_time": "2024-12-19T22:57:39.881Z"
   },
   {
    "duration": 708,
    "start_time": "2024-12-19T22:57:50.024Z"
   },
   {
    "duration": 68,
    "start_time": "2024-12-19T22:58:02.261Z"
   },
   {
    "duration": 6,
    "start_time": "2024-12-19T22:58:14.274Z"
   },
   {
    "duration": 8,
    "start_time": "2024-12-19T22:58:23.088Z"
   },
   {
    "duration": 130,
    "start_time": "2024-12-19T22:58:33.665Z"
   },
   {
    "duration": 122,
    "start_time": "2024-12-19T23:09:35.924Z"
   },
   {
    "duration": 2718,
    "start_time": "2024-12-21T04:44:08.836Z"
   },
   {
    "duration": 24,
    "start_time": "2024-12-21T04:44:11.557Z"
   },
   {
    "duration": 12,
    "start_time": "2024-12-21T04:44:11.583Z"
   },
   {
    "duration": 12,
    "start_time": "2024-12-21T04:44:11.598Z"
   },
   {
    "duration": 11,
    "start_time": "2024-12-21T04:44:11.611Z"
   },
   {
    "duration": 3,
    "start_time": "2024-12-21T04:44:11.623Z"
   },
   {
    "duration": 6,
    "start_time": "2024-12-21T04:44:11.628Z"
   },
   {
    "duration": 27,
    "start_time": "2024-12-21T04:44:11.635Z"
   },
   {
    "duration": 4,
    "start_time": "2024-12-21T04:44:11.664Z"
   },
   {
    "duration": 40,
    "start_time": "2024-12-21T04:44:11.672Z"
   },
   {
    "duration": 6,
    "start_time": "2024-12-21T04:44:11.714Z"
   },
   {
    "duration": 2,
    "start_time": "2024-12-21T04:44:11.722Z"
   },
   {
    "duration": 3,
    "start_time": "2024-12-21T04:44:11.726Z"
   },
   {
    "duration": 4,
    "start_time": "2024-12-21T04:44:11.730Z"
   },
   {
    "duration": 7,
    "start_time": "2024-12-21T04:44:11.735Z"
   },
   {
    "duration": 3,
    "start_time": "2024-12-21T04:44:11.744Z"
   },
   {
    "duration": 4,
    "start_time": "2024-12-21T04:44:11.749Z"
   },
   {
    "duration": 4,
    "start_time": "2024-12-21T04:44:11.754Z"
   },
   {
    "duration": 49,
    "start_time": "2024-12-21T04:44:11.760Z"
   },
   {
    "duration": 1874,
    "start_time": "2024-12-21T04:44:11.811Z"
   },
   {
    "duration": 10,
    "start_time": "2024-12-21T04:44:13.688Z"
   },
   {
    "duration": 16,
    "start_time": "2024-12-21T04:44:13.699Z"
   },
   {
    "duration": 2,
    "start_time": "2024-12-21T04:44:13.717Z"
   },
   {
    "duration": 8,
    "start_time": "2024-12-21T04:44:13.721Z"
   },
   {
    "duration": 4,
    "start_time": "2024-12-21T04:44:13.731Z"
   },
   {
    "duration": 7,
    "start_time": "2024-12-21T04:44:13.736Z"
   },
   {
    "duration": 5,
    "start_time": "2024-12-21T04:44:13.744Z"
   },
   {
    "duration": 263,
    "start_time": "2024-12-21T04:44:13.754Z"
   },
   {
    "duration": 0,
    "start_time": "2024-12-21T04:44:14.018Z"
   },
   {
    "duration": 0,
    "start_time": "2024-12-21T04:44:14.020Z"
   },
   {
    "duration": 0,
    "start_time": "2024-12-21T04:44:14.021Z"
   },
   {
    "duration": 0,
    "start_time": "2024-12-21T04:44:14.023Z"
   },
   {
    "duration": 0,
    "start_time": "2024-12-21T04:44:14.024Z"
   },
   {
    "duration": 0,
    "start_time": "2024-12-21T04:44:14.026Z"
   },
   {
    "duration": 0,
    "start_time": "2024-12-21T04:44:14.027Z"
   },
   {
    "duration": 0,
    "start_time": "2024-12-21T04:44:14.029Z"
   },
   {
    "duration": 0,
    "start_time": "2024-12-21T04:44:14.030Z"
   },
   {
    "duration": 0,
    "start_time": "2024-12-21T04:44:14.031Z"
   },
   {
    "duration": 1,
    "start_time": "2024-12-21T04:44:14.032Z"
   },
   {
    "duration": 0,
    "start_time": "2024-12-21T04:44:14.034Z"
   },
   {
    "duration": 0,
    "start_time": "2024-12-21T04:44:14.036Z"
   },
   {
    "duration": 0,
    "start_time": "2024-12-21T04:44:14.037Z"
   },
   {
    "duration": 0,
    "start_time": "2024-12-21T04:44:14.039Z"
   },
   {
    "duration": 0,
    "start_time": "2024-12-21T04:44:14.040Z"
   },
   {
    "duration": 0,
    "start_time": "2024-12-21T04:44:14.041Z"
   },
   {
    "duration": 0,
    "start_time": "2024-12-21T04:44:14.043Z"
   },
   {
    "duration": 0,
    "start_time": "2024-12-21T04:44:14.044Z"
   },
   {
    "duration": 0,
    "start_time": "2024-12-21T04:44:14.045Z"
   },
   {
    "duration": 3,
    "start_time": "2024-12-21T04:49:41.792Z"
   },
   {
    "duration": 1011,
    "start_time": "2024-12-21T05:02:44.057Z"
   },
   {
    "duration": 15,
    "start_time": "2024-12-21T05:02:45.071Z"
   },
   {
    "duration": 12,
    "start_time": "2024-12-21T05:02:45.087Z"
   },
   {
    "duration": 4,
    "start_time": "2024-12-21T05:02:45.110Z"
   },
   {
    "duration": 10,
    "start_time": "2024-12-21T05:02:45.116Z"
   },
   {
    "duration": 4,
    "start_time": "2024-12-21T05:02:45.127Z"
   },
   {
    "duration": 7,
    "start_time": "2024-12-21T05:02:45.133Z"
   },
   {
    "duration": 27,
    "start_time": "2024-12-21T05:02:45.141Z"
   },
   {
    "duration": 40,
    "start_time": "2024-12-21T05:02:45.169Z"
   },
   {
    "duration": 5,
    "start_time": "2024-12-21T05:02:45.212Z"
   },
   {
    "duration": 6,
    "start_time": "2024-12-21T05:02:45.218Z"
   },
   {
    "duration": 2,
    "start_time": "2024-12-21T05:02:45.226Z"
   },
   {
    "duration": 4,
    "start_time": "2024-12-21T05:02:45.229Z"
   },
   {
    "duration": 4,
    "start_time": "2024-12-21T05:02:45.235Z"
   },
   {
    "duration": 6,
    "start_time": "2024-12-21T05:02:45.241Z"
   },
   {
    "duration": 4,
    "start_time": "2024-12-21T05:02:45.248Z"
   },
   {
    "duration": 4,
    "start_time": "2024-12-21T05:02:45.253Z"
   },
   {
    "duration": 50,
    "start_time": "2024-12-21T05:02:45.259Z"
   },
   {
    "duration": 2,
    "start_time": "2024-12-21T05:02:45.311Z"
   },
   {
    "duration": 1803,
    "start_time": "2024-12-21T05:02:45.314Z"
   },
   {
    "duration": 10,
    "start_time": "2024-12-21T05:02:47.119Z"
   },
   {
    "duration": 15,
    "start_time": "2024-12-21T05:02:47.131Z"
   },
   {
    "duration": 2,
    "start_time": "2024-12-21T05:02:47.148Z"
   },
   {
    "duration": 9,
    "start_time": "2024-12-21T05:02:47.151Z"
   },
   {
    "duration": 278,
    "start_time": "2024-12-21T05:02:47.161Z"
   },
   {
    "duration": 0,
    "start_time": "2024-12-21T05:02:47.441Z"
   },
   {
    "duration": 0,
    "start_time": "2024-12-21T05:02:47.442Z"
   },
   {
    "duration": 0,
    "start_time": "2024-12-21T05:02:47.444Z"
   },
   {
    "duration": 0,
    "start_time": "2024-12-21T05:02:47.444Z"
   },
   {
    "duration": 0,
    "start_time": "2024-12-21T05:02:47.446Z"
   },
   {
    "duration": 0,
    "start_time": "2024-12-21T05:02:47.447Z"
   },
   {
    "duration": 0,
    "start_time": "2024-12-21T05:02:47.449Z"
   },
   {
    "duration": 0,
    "start_time": "2024-12-21T05:02:47.450Z"
   },
   {
    "duration": 0,
    "start_time": "2024-12-21T05:02:47.452Z"
   },
   {
    "duration": 0,
    "start_time": "2024-12-21T05:02:47.454Z"
   },
   {
    "duration": 0,
    "start_time": "2024-12-21T05:02:47.455Z"
   },
   {
    "duration": 0,
    "start_time": "2024-12-21T05:02:47.456Z"
   },
   {
    "duration": 0,
    "start_time": "2024-12-21T05:02:47.457Z"
   },
   {
    "duration": 0,
    "start_time": "2024-12-21T05:02:47.458Z"
   },
   {
    "duration": 0,
    "start_time": "2024-12-21T05:02:47.459Z"
   },
   {
    "duration": 0,
    "start_time": "2024-12-21T05:02:47.460Z"
   },
   {
    "duration": 0,
    "start_time": "2024-12-21T05:02:47.462Z"
   },
   {
    "duration": 0,
    "start_time": "2024-12-21T05:02:47.462Z"
   },
   {
    "duration": 0,
    "start_time": "2024-12-21T05:02:47.463Z"
   },
   {
    "duration": 0,
    "start_time": "2024-12-21T05:02:47.464Z"
   },
   {
    "duration": 0,
    "start_time": "2024-12-21T05:02:47.465Z"
   },
   {
    "duration": 0,
    "start_time": "2024-12-21T05:02:47.466Z"
   },
   {
    "duration": 0,
    "start_time": "2024-12-21T05:02:47.467Z"
   },
   {
    "duration": 0,
    "start_time": "2024-12-21T05:02:47.511Z"
   },
   {
    "duration": 0,
    "start_time": "2024-12-21T05:02:47.512Z"
   },
   {
    "duration": 0,
    "start_time": "2024-12-21T05:02:47.513Z"
   },
   {
    "duration": 0,
    "start_time": "2024-12-21T05:02:47.514Z"
   },
   {
    "duration": 0,
    "start_time": "2024-12-21T05:02:47.515Z"
   },
   {
    "duration": 0,
    "start_time": "2024-12-21T05:02:47.517Z"
   },
   {
    "duration": 0,
    "start_time": "2024-12-21T05:02:47.518Z"
   },
   {
    "duration": 5,
    "start_time": "2024-12-21T05:03:36.422Z"
   },
   {
    "duration": 7,
    "start_time": "2024-12-21T05:03:40.332Z"
   },
   {
    "duration": 3,
    "start_time": "2024-12-21T05:03:44.607Z"
   },
   {
    "duration": 2,
    "start_time": "2024-12-21T05:03:51.684Z"
   },
   {
    "duration": 330,
    "start_time": "2024-12-21T05:03:54.867Z"
   },
   {
    "duration": 32,
    "start_time": "2024-12-21T05:06:24.761Z"
   },
   {
    "duration": 988,
    "start_time": "2024-12-21T05:06:40.973Z"
   },
   {
    "duration": 16,
    "start_time": "2024-12-21T05:06:41.964Z"
   },
   {
    "duration": 12,
    "start_time": "2024-12-21T05:06:41.981Z"
   },
   {
    "duration": 4,
    "start_time": "2024-12-21T05:06:42.008Z"
   },
   {
    "duration": 10,
    "start_time": "2024-12-21T05:06:42.013Z"
   },
   {
    "duration": 3,
    "start_time": "2024-12-21T05:06:42.025Z"
   },
   {
    "duration": 7,
    "start_time": "2024-12-21T05:06:42.029Z"
   },
   {
    "duration": 27,
    "start_time": "2024-12-21T05:06:42.038Z"
   },
   {
    "duration": 5,
    "start_time": "2024-12-21T05:06:42.066Z"
   },
   {
    "duration": 38,
    "start_time": "2024-12-21T05:06:42.074Z"
   },
   {
    "duration": 7,
    "start_time": "2024-12-21T05:06:42.113Z"
   },
   {
    "duration": 2,
    "start_time": "2024-12-21T05:06:42.122Z"
   },
   {
    "duration": 3,
    "start_time": "2024-12-21T05:06:42.126Z"
   },
   {
    "duration": 3,
    "start_time": "2024-12-21T05:06:42.131Z"
   },
   {
    "duration": 6,
    "start_time": "2024-12-21T05:06:42.135Z"
   },
   {
    "duration": 5,
    "start_time": "2024-12-21T05:06:42.143Z"
   },
   {
    "duration": 4,
    "start_time": "2024-12-21T05:06:42.150Z"
   },
   {
    "duration": 3,
    "start_time": "2024-12-21T05:06:42.155Z"
   },
   {
    "duration": 50,
    "start_time": "2024-12-21T05:06:42.159Z"
   },
   {
    "duration": 1811,
    "start_time": "2024-12-21T05:06:42.211Z"
   },
   {
    "duration": 10,
    "start_time": "2024-12-21T05:06:44.023Z"
   },
   {
    "duration": 16,
    "start_time": "2024-12-21T05:06:44.034Z"
   },
   {
    "duration": 2,
    "start_time": "2024-12-21T05:06:44.052Z"
   },
   {
    "duration": 7,
    "start_time": "2024-12-21T05:06:44.056Z"
   },
   {
    "duration": 5,
    "start_time": "2024-12-21T05:06:44.065Z"
   },
   {
    "duration": 5,
    "start_time": "2024-12-21T05:06:44.071Z"
   },
   {
    "duration": 2,
    "start_time": "2024-12-21T05:06:44.078Z"
   },
   {
    "duration": 3,
    "start_time": "2024-12-21T05:06:44.110Z"
   },
   {
    "duration": 560,
    "start_time": "2024-12-21T05:06:44.115Z"
   },
   {
    "duration": 0,
    "start_time": "2024-12-21T05:06:44.677Z"
   },
   {
    "duration": 0,
    "start_time": "2024-12-21T05:06:44.678Z"
   },
   {
    "duration": 0,
    "start_time": "2024-12-21T05:06:44.680Z"
   },
   {
    "duration": 0,
    "start_time": "2024-12-21T05:06:44.680Z"
   },
   {
    "duration": 0,
    "start_time": "2024-12-21T05:06:44.681Z"
   },
   {
    "duration": 0,
    "start_time": "2024-12-21T05:06:44.683Z"
   },
   {
    "duration": 0,
    "start_time": "2024-12-21T05:06:44.684Z"
   },
   {
    "duration": 0,
    "start_time": "2024-12-21T05:06:44.685Z"
   },
   {
    "duration": 0,
    "start_time": "2024-12-21T05:06:44.686Z"
   },
   {
    "duration": 0,
    "start_time": "2024-12-21T05:06:44.687Z"
   },
   {
    "duration": 0,
    "start_time": "2024-12-21T05:06:44.688Z"
   },
   {
    "duration": 0,
    "start_time": "2024-12-21T05:06:44.709Z"
   },
   {
    "duration": 0,
    "start_time": "2024-12-21T05:06:44.710Z"
   },
   {
    "duration": 0,
    "start_time": "2024-12-21T05:06:44.711Z"
   },
   {
    "duration": 0,
    "start_time": "2024-12-21T05:06:44.712Z"
   },
   {
    "duration": 0,
    "start_time": "2024-12-21T05:06:44.714Z"
   },
   {
    "duration": 0,
    "start_time": "2024-12-21T05:06:44.715Z"
   },
   {
    "duration": 0,
    "start_time": "2024-12-21T05:06:44.716Z"
   },
   {
    "duration": 0,
    "start_time": "2024-12-21T05:06:44.717Z"
   },
   {
    "duration": 0,
    "start_time": "2024-12-21T05:06:44.718Z"
   },
   {
    "duration": 0,
    "start_time": "2024-12-21T05:06:44.719Z"
   },
   {
    "duration": 0,
    "start_time": "2024-12-21T05:06:44.720Z"
   },
   {
    "duration": 0,
    "start_time": "2024-12-21T05:06:44.721Z"
   },
   {
    "duration": 0,
    "start_time": "2024-12-21T05:06:44.722Z"
   },
   {
    "duration": 0,
    "start_time": "2024-12-21T05:06:44.723Z"
   },
   {
    "duration": 0,
    "start_time": "2024-12-21T05:06:44.724Z"
   },
   {
    "duration": 2,
    "start_time": "2024-12-21T05:08:55.921Z"
   },
   {
    "duration": 31,
    "start_time": "2024-12-21T05:09:01.521Z"
   },
   {
    "duration": 80,
    "start_time": "2024-12-21T05:09:15.551Z"
   },
   {
    "duration": 1002,
    "start_time": "2024-12-21T05:10:08.255Z"
   },
   {
    "duration": 16,
    "start_time": "2024-12-21T05:10:10.390Z"
   },
   {
    "duration": 13,
    "start_time": "2024-12-21T05:10:11.372Z"
   },
   {
    "duration": 4,
    "start_time": "2024-12-21T05:10:12.095Z"
   },
   {
    "duration": 11,
    "start_time": "2024-12-21T05:10:14.645Z"
   },
   {
    "duration": 4,
    "start_time": "2024-12-21T05:10:15.448Z"
   },
   {
    "duration": 8,
    "start_time": "2024-12-21T05:10:16.070Z"
   },
   {
    "duration": 29,
    "start_time": "2024-12-21T05:10:16.608Z"
   },
   {
    "duration": 5,
    "start_time": "2024-12-21T05:10:17.946Z"
   },
   {
    "duration": 5,
    "start_time": "2024-12-21T05:10:19.321Z"
   },
   {
    "duration": 7,
    "start_time": "2024-12-21T05:10:20.027Z"
   },
   {
    "duration": 3,
    "start_time": "2024-12-21T05:10:28.377Z"
   },
   {
    "duration": 3,
    "start_time": "2024-12-21T05:10:28.847Z"
   },
   {
    "duration": 4,
    "start_time": "2024-12-21T05:10:29.500Z"
   },
   {
    "duration": 7,
    "start_time": "2024-12-21T05:10:30.558Z"
   },
   {
    "duration": 5,
    "start_time": "2024-12-21T05:10:37.070Z"
   },
   {
    "duration": 4,
    "start_time": "2024-12-21T05:10:38.783Z"
   },
   {
    "duration": 2,
    "start_time": "2024-12-21T05:10:48.453Z"
   },
   {
    "duration": 1859,
    "start_time": "2024-12-21T05:11:00.771Z"
   },
   {
    "duration": 11,
    "start_time": "2024-12-21T05:11:12.995Z"
   },
   {
    "duration": 16,
    "start_time": "2024-12-21T05:11:14.915Z"
   },
   {
    "duration": 3,
    "start_time": "2024-12-21T05:11:33.555Z"
   },
   {
    "duration": 4,
    "start_time": "2024-12-21T05:11:38.832Z"
   },
   {
    "duration": 6,
    "start_time": "2024-12-21T05:11:39.646Z"
   },
   {
    "duration": 3,
    "start_time": "2024-12-21T05:12:10.960Z"
   },
   {
    "duration": 3,
    "start_time": "2024-12-21T05:12:21.871Z"
   },
   {
    "duration": 9,
    "start_time": "2024-12-21T05:12:26.266Z"
   },
   {
    "duration": 230,
    "start_time": "2024-12-21T05:12:32.928Z"
   },
   {
    "duration": 16,
    "start_time": "2024-12-21T05:12:50.306Z"
   },
   {
    "duration": 15,
    "start_time": "2024-12-21T05:15:16.729Z"
   },
   {
    "duration": 978,
    "start_time": "2024-12-21T05:19:01.183Z"
   },
   {
    "duration": 16,
    "start_time": "2024-12-21T05:19:02.163Z"
   },
   {
    "duration": 15,
    "start_time": "2024-12-21T05:19:02.180Z"
   },
   {
    "duration": 4,
    "start_time": "2024-12-21T05:19:02.209Z"
   },
   {
    "duration": 10,
    "start_time": "2024-12-21T05:19:02.215Z"
   },
   {
    "duration": 3,
    "start_time": "2024-12-21T05:19:02.227Z"
   },
   {
    "duration": 7,
    "start_time": "2024-12-21T05:19:02.232Z"
   },
   {
    "duration": 27,
    "start_time": "2024-12-21T05:19:02.241Z"
   },
   {
    "duration": 5,
    "start_time": "2024-12-21T05:19:02.269Z"
   },
   {
    "duration": 5,
    "start_time": "2024-12-21T05:19:02.308Z"
   },
   {
    "duration": 6,
    "start_time": "2024-12-21T05:19:02.315Z"
   },
   {
    "duration": 2,
    "start_time": "2024-12-21T05:19:02.323Z"
   },
   {
    "duration": 4,
    "start_time": "2024-12-21T05:19:02.326Z"
   },
   {
    "duration": 4,
    "start_time": "2024-12-21T05:19:02.331Z"
   },
   {
    "duration": 6,
    "start_time": "2024-12-21T05:19:02.337Z"
   },
   {
    "duration": 3,
    "start_time": "2024-12-21T05:19:02.345Z"
   },
   {
    "duration": 5,
    "start_time": "2024-12-21T05:19:02.349Z"
   },
   {
    "duration": 3,
    "start_time": "2024-12-21T05:19:02.355Z"
   },
   {
    "duration": 1814,
    "start_time": "2024-12-21T05:19:02.359Z"
   },
   {
    "duration": 10,
    "start_time": "2024-12-21T05:19:04.176Z"
   },
   {
    "duration": 15,
    "start_time": "2024-12-21T05:19:04.188Z"
   },
   {
    "duration": 3,
    "start_time": "2024-12-21T05:19:04.205Z"
   },
   {
    "duration": 2,
    "start_time": "2024-12-21T05:19:04.210Z"
   },
   {
    "duration": 4,
    "start_time": "2024-12-21T05:19:04.214Z"
   },
   {
    "duration": 6,
    "start_time": "2024-12-21T05:19:04.219Z"
   },
   {
    "duration": 3,
    "start_time": "2024-12-21T05:19:04.226Z"
   },
   {
    "duration": 3,
    "start_time": "2024-12-21T05:19:04.230Z"
   },
   {
    "duration": 9,
    "start_time": "2024-12-21T05:19:04.237Z"
   },
   {
    "duration": 5,
    "start_time": "2024-12-21T05:19:04.247Z"
   },
   {
    "duration": 0,
    "start_time": "2024-12-21T05:19:04.253Z"
   },
   {
    "duration": 0,
    "start_time": "2024-12-21T05:19:04.255Z"
   },
   {
    "duration": 0,
    "start_time": "2024-12-21T05:19:04.256Z"
   },
   {
    "duration": 0,
    "start_time": "2024-12-21T05:19:04.257Z"
   },
   {
    "duration": 0,
    "start_time": "2024-12-21T05:19:04.258Z"
   },
   {
    "duration": 0,
    "start_time": "2024-12-21T05:19:04.259Z"
   },
   {
    "duration": 0,
    "start_time": "2024-12-21T05:19:04.260Z"
   },
   {
    "duration": 0,
    "start_time": "2024-12-21T05:19:04.261Z"
   },
   {
    "duration": 0,
    "start_time": "2024-12-21T05:19:04.262Z"
   },
   {
    "duration": 0,
    "start_time": "2024-12-21T05:19:04.263Z"
   },
   {
    "duration": 0,
    "start_time": "2024-12-21T05:19:04.264Z"
   },
   {
    "duration": 0,
    "start_time": "2024-12-21T05:19:04.309Z"
   },
   {
    "duration": 0,
    "start_time": "2024-12-21T05:19:04.311Z"
   },
   {
    "duration": 0,
    "start_time": "2024-12-21T05:19:04.312Z"
   },
   {
    "duration": 0,
    "start_time": "2024-12-21T05:19:04.313Z"
   },
   {
    "duration": 0,
    "start_time": "2024-12-21T05:19:04.314Z"
   },
   {
    "duration": 0,
    "start_time": "2024-12-21T05:19:04.315Z"
   },
   {
    "duration": 0,
    "start_time": "2024-12-21T05:19:04.316Z"
   },
   {
    "duration": 0,
    "start_time": "2024-12-21T05:19:04.317Z"
   },
   {
    "duration": 0,
    "start_time": "2024-12-21T05:19:04.319Z"
   },
   {
    "duration": 0,
    "start_time": "2024-12-21T05:19:04.320Z"
   },
   {
    "duration": 0,
    "start_time": "2024-12-21T05:19:04.321Z"
   },
   {
    "duration": 0,
    "start_time": "2024-12-21T05:19:04.321Z"
   },
   {
    "duration": 0,
    "start_time": "2024-12-21T05:19:04.323Z"
   },
   {
    "duration": 0,
    "start_time": "2024-12-21T05:19:04.324Z"
   },
   {
    "duration": 0,
    "start_time": "2024-12-21T05:19:04.325Z"
   },
   {
    "duration": 3,
    "start_time": "2024-12-21T05:19:21.015Z"
   },
   {
    "duration": 15,
    "start_time": "2024-12-21T05:19:21.020Z"
   },
   {
    "duration": 10,
    "start_time": "2024-12-21T05:19:21.037Z"
   },
   {
    "duration": 3,
    "start_time": "2024-12-21T05:19:21.050Z"
   },
   {
    "duration": 10,
    "start_time": "2024-12-21T05:19:21.056Z"
   },
   {
    "duration": 3,
    "start_time": "2024-12-21T05:19:21.067Z"
   },
   {
    "duration": 40,
    "start_time": "2024-12-21T05:19:21.072Z"
   },
   {
    "duration": 29,
    "start_time": "2024-12-21T05:19:21.113Z"
   },
   {
    "duration": 5,
    "start_time": "2024-12-21T05:19:21.143Z"
   },
   {
    "duration": 4,
    "start_time": "2024-12-21T05:19:21.150Z"
   },
   {
    "duration": 5,
    "start_time": "2024-12-21T05:19:21.157Z"
   },
   {
    "duration": 2,
    "start_time": "2024-12-21T05:19:21.164Z"
   },
   {
    "duration": 4,
    "start_time": "2024-12-21T05:19:21.208Z"
   },
   {
    "duration": 4,
    "start_time": "2024-12-21T05:19:21.213Z"
   },
   {
    "duration": 6,
    "start_time": "2024-12-21T05:19:21.218Z"
   },
   {
    "duration": 4,
    "start_time": "2024-12-21T05:19:21.226Z"
   },
   {
    "duration": 4,
    "start_time": "2024-12-21T05:19:21.232Z"
   },
   {
    "duration": 2,
    "start_time": "2024-12-21T05:19:21.238Z"
   },
   {
    "duration": 1897,
    "start_time": "2024-12-21T05:19:21.242Z"
   },
   {
    "duration": 11,
    "start_time": "2024-12-21T05:19:23.141Z"
   },
   {
    "duration": 16,
    "start_time": "2024-12-21T05:19:23.153Z"
   },
   {
    "duration": 2,
    "start_time": "2024-12-21T05:19:23.170Z"
   },
   {
    "duration": 2,
    "start_time": "2024-12-21T05:19:23.174Z"
   },
   {
    "duration": 31,
    "start_time": "2024-12-21T05:19:23.178Z"
   },
   {
    "duration": 5,
    "start_time": "2024-12-21T05:19:23.210Z"
   },
   {
    "duration": 3,
    "start_time": "2024-12-21T05:19:23.216Z"
   },
   {
    "duration": 4,
    "start_time": "2024-12-21T05:19:23.220Z"
   },
   {
    "duration": 16,
    "start_time": "2024-12-21T05:19:23.228Z"
   },
   {
    "duration": 3,
    "start_time": "2024-12-21T05:19:23.246Z"
   },
   {
    "duration": 0,
    "start_time": "2024-12-21T05:19:23.251Z"
   },
   {
    "duration": 0,
    "start_time": "2024-12-21T05:19:23.253Z"
   },
   {
    "duration": 0,
    "start_time": "2024-12-21T05:19:23.254Z"
   },
   {
    "duration": 0,
    "start_time": "2024-12-21T05:19:23.256Z"
   },
   {
    "duration": 0,
    "start_time": "2024-12-21T05:19:23.256Z"
   },
   {
    "duration": 0,
    "start_time": "2024-12-21T05:19:23.257Z"
   },
   {
    "duration": 0,
    "start_time": "2024-12-21T05:19:23.258Z"
   },
   {
    "duration": 0,
    "start_time": "2024-12-21T05:19:23.259Z"
   },
   {
    "duration": 0,
    "start_time": "2024-12-21T05:19:23.262Z"
   },
   {
    "duration": 0,
    "start_time": "2024-12-21T05:19:23.263Z"
   },
   {
    "duration": 0,
    "start_time": "2024-12-21T05:19:23.264Z"
   },
   {
    "duration": 0,
    "start_time": "2024-12-21T05:19:23.265Z"
   },
   {
    "duration": 0,
    "start_time": "2024-12-21T05:19:23.266Z"
   },
   {
    "duration": 0,
    "start_time": "2024-12-21T05:19:23.267Z"
   },
   {
    "duration": 0,
    "start_time": "2024-12-21T05:19:23.309Z"
   },
   {
    "duration": 0,
    "start_time": "2024-12-21T05:19:23.310Z"
   },
   {
    "duration": 0,
    "start_time": "2024-12-21T05:19:23.312Z"
   },
   {
    "duration": 0,
    "start_time": "2024-12-21T05:19:23.314Z"
   },
   {
    "duration": 0,
    "start_time": "2024-12-21T05:19:23.315Z"
   },
   {
    "duration": 0,
    "start_time": "2024-12-21T05:19:23.318Z"
   },
   {
    "duration": 0,
    "start_time": "2024-12-21T05:19:23.319Z"
   },
   {
    "duration": 0,
    "start_time": "2024-12-21T05:19:23.320Z"
   },
   {
    "duration": 0,
    "start_time": "2024-12-21T05:19:23.321Z"
   },
   {
    "duration": 0,
    "start_time": "2024-12-21T05:19:23.323Z"
   },
   {
    "duration": 0,
    "start_time": "2024-12-21T05:19:23.324Z"
   },
   {
    "duration": 0,
    "start_time": "2024-12-21T05:19:23.325Z"
   },
   {
    "duration": 3,
    "start_time": "2024-12-21T05:20:19.806Z"
   },
   {
    "duration": 3,
    "start_time": "2024-12-21T05:20:22.599Z"
   },
   {
    "duration": 10,
    "start_time": "2024-12-21T05:20:24.433Z"
   },
   {
    "duration": 3,
    "start_time": "2024-12-21T05:20:26.042Z"
   },
   {
    "duration": 2,
    "start_time": "2024-12-21T05:20:27.687Z"
   },
   {
    "duration": 16,
    "start_time": "2024-12-21T05:20:31.653Z"
   },
   {
    "duration": 7,
    "start_time": "2024-12-21T05:20:33.467Z"
   },
   {
    "duration": 1005,
    "start_time": "2024-12-21T05:32:13.458Z"
   },
   {
    "duration": 17,
    "start_time": "2024-12-21T05:32:14.465Z"
   },
   {
    "duration": 12,
    "start_time": "2024-12-21T05:32:14.483Z"
   },
   {
    "duration": 12,
    "start_time": "2024-12-21T05:32:14.497Z"
   },
   {
    "duration": 9,
    "start_time": "2024-12-21T05:32:14.511Z"
   },
   {
    "duration": 3,
    "start_time": "2024-12-21T05:32:14.522Z"
   },
   {
    "duration": 6,
    "start_time": "2024-12-21T05:32:14.527Z"
   },
   {
    "duration": 27,
    "start_time": "2024-12-21T05:32:14.534Z"
   },
   {
    "duration": 5,
    "start_time": "2024-12-21T05:32:14.562Z"
   },
   {
    "duration": 38,
    "start_time": "2024-12-21T05:32:14.571Z"
   },
   {
    "duration": 6,
    "start_time": "2024-12-21T05:32:14.611Z"
   },
   {
    "duration": 2,
    "start_time": "2024-12-21T05:32:14.618Z"
   },
   {
    "duration": 3,
    "start_time": "2024-12-21T05:32:14.622Z"
   },
   {
    "duration": 5,
    "start_time": "2024-12-21T05:32:14.626Z"
   },
   {
    "duration": 6,
    "start_time": "2024-12-21T05:32:14.632Z"
   },
   {
    "duration": 4,
    "start_time": "2024-12-21T05:32:14.639Z"
   },
   {
    "duration": 5,
    "start_time": "2024-12-21T05:32:14.644Z"
   },
   {
    "duration": 3,
    "start_time": "2024-12-21T05:32:14.650Z"
   },
   {
    "duration": 1854,
    "start_time": "2024-12-21T05:32:14.655Z"
   },
   {
    "duration": 10,
    "start_time": "2024-12-21T05:32:16.511Z"
   },
   {
    "duration": 16,
    "start_time": "2024-12-21T05:32:16.522Z"
   },
   {
    "duration": 2,
    "start_time": "2024-12-21T05:32:16.540Z"
   },
   {
    "duration": 4,
    "start_time": "2024-12-21T05:32:16.544Z"
   },
   {
    "duration": 4,
    "start_time": "2024-12-21T05:32:16.550Z"
   },
   {
    "duration": 5,
    "start_time": "2024-12-21T05:32:16.555Z"
   },
   {
    "duration": 3,
    "start_time": "2024-12-21T05:32:16.561Z"
   },
   {
    "duration": 3,
    "start_time": "2024-12-21T05:32:16.565Z"
   },
   {
    "duration": 40,
    "start_time": "2024-12-21T05:32:16.574Z"
   },
   {
    "duration": 3,
    "start_time": "2024-12-21T05:32:16.616Z"
   },
   {
    "duration": 3,
    "start_time": "2024-12-21T05:32:16.621Z"
   },
   {
    "duration": 8,
    "start_time": "2024-12-21T05:32:16.625Z"
   },
   {
    "duration": 3,
    "start_time": "2024-12-21T05:32:16.634Z"
   },
   {
    "duration": 3,
    "start_time": "2024-12-21T05:32:16.639Z"
   },
   {
    "duration": 17,
    "start_time": "2024-12-21T05:32:16.643Z"
   },
   {
    "duration": 8,
    "start_time": "2024-12-21T05:32:16.661Z"
   },
   {
    "duration": 38,
    "start_time": "2024-12-21T05:32:16.670Z"
   },
   {
    "duration": 238,
    "start_time": "2024-12-21T05:32:16.710Z"
   },
   {
    "duration": 0,
    "start_time": "2024-12-21T05:32:16.950Z"
   },
   {
    "duration": 0,
    "start_time": "2024-12-21T05:32:16.951Z"
   },
   {
    "duration": 0,
    "start_time": "2024-12-21T05:32:16.952Z"
   },
   {
    "duration": 0,
    "start_time": "2024-12-21T05:32:16.954Z"
   },
   {
    "duration": 0,
    "start_time": "2024-12-21T05:32:16.955Z"
   },
   {
    "duration": 0,
    "start_time": "2024-12-21T05:32:16.956Z"
   },
   {
    "duration": 0,
    "start_time": "2024-12-21T05:32:16.958Z"
   },
   {
    "duration": 0,
    "start_time": "2024-12-21T05:32:16.959Z"
   },
   {
    "duration": 0,
    "start_time": "2024-12-21T05:32:16.960Z"
   },
   {
    "duration": 0,
    "start_time": "2024-12-21T05:32:16.960Z"
   },
   {
    "duration": 0,
    "start_time": "2024-12-21T05:32:16.961Z"
   },
   {
    "duration": 0,
    "start_time": "2024-12-21T05:32:16.962Z"
   },
   {
    "duration": 0,
    "start_time": "2024-12-21T05:32:16.963Z"
   },
   {
    "duration": 0,
    "start_time": "2024-12-21T05:32:16.964Z"
   },
   {
    "duration": 1,
    "start_time": "2024-12-21T05:32:16.964Z"
   },
   {
    "duration": 0,
    "start_time": "2024-12-21T05:32:16.966Z"
   },
   {
    "duration": 0,
    "start_time": "2024-12-21T05:32:16.967Z"
   },
   {
    "duration": 0,
    "start_time": "2024-12-21T05:32:16.968Z"
   },
   {
    "duration": 32,
    "start_time": "2024-12-21T05:34:19.616Z"
   },
   {
    "duration": 29,
    "start_time": "2024-12-21T05:34:56.369Z"
   },
   {
    "duration": 1029,
    "start_time": "2024-12-21T05:38:04.229Z"
   },
   {
    "duration": 16,
    "start_time": "2024-12-21T05:38:05.260Z"
   },
   {
    "duration": 11,
    "start_time": "2024-12-21T05:38:05.278Z"
   },
   {
    "duration": 18,
    "start_time": "2024-12-21T05:38:05.292Z"
   },
   {
    "duration": 10,
    "start_time": "2024-12-21T05:38:05.311Z"
   },
   {
    "duration": 3,
    "start_time": "2024-12-21T05:38:05.323Z"
   },
   {
    "duration": 6,
    "start_time": "2024-12-21T05:38:05.327Z"
   },
   {
    "duration": 28,
    "start_time": "2024-12-21T05:38:05.334Z"
   },
   {
    "duration": 5,
    "start_time": "2024-12-21T05:38:05.364Z"
   },
   {
    "duration": 36,
    "start_time": "2024-12-21T05:38:05.373Z"
   },
   {
    "duration": 7,
    "start_time": "2024-12-21T05:38:05.411Z"
   },
   {
    "duration": 4,
    "start_time": "2024-12-21T05:38:05.419Z"
   },
   {
    "duration": 4,
    "start_time": "2024-12-21T05:38:05.424Z"
   },
   {
    "duration": 4,
    "start_time": "2024-12-21T05:38:05.431Z"
   },
   {
    "duration": 8,
    "start_time": "2024-12-21T05:38:05.438Z"
   },
   {
    "duration": 5,
    "start_time": "2024-12-21T05:38:05.448Z"
   },
   {
    "duration": 4,
    "start_time": "2024-12-21T05:38:05.454Z"
   },
   {
    "duration": 2,
    "start_time": "2024-12-21T05:38:05.460Z"
   },
   {
    "duration": 1829,
    "start_time": "2024-12-21T05:38:05.464Z"
   },
   {
    "duration": 10,
    "start_time": "2024-12-21T05:38:07.296Z"
   },
   {
    "duration": 17,
    "start_time": "2024-12-21T05:38:07.308Z"
   },
   {
    "duration": 2,
    "start_time": "2024-12-21T05:38:07.328Z"
   },
   {
    "duration": 2,
    "start_time": "2024-12-21T05:38:07.332Z"
   },
   {
    "duration": 5,
    "start_time": "2024-12-21T05:38:07.336Z"
   },
   {
    "duration": 6,
    "start_time": "2024-12-21T05:38:07.342Z"
   },
   {
    "duration": 3,
    "start_time": "2024-12-21T05:38:07.350Z"
   },
   {
    "duration": 278,
    "start_time": "2024-12-21T05:38:07.355Z"
   },
   {
    "duration": 0,
    "start_time": "2024-12-21T05:38:07.636Z"
   },
   {
    "duration": 0,
    "start_time": "2024-12-21T05:38:07.637Z"
   },
   {
    "duration": 0,
    "start_time": "2024-12-21T05:38:07.638Z"
   },
   {
    "duration": 0,
    "start_time": "2024-12-21T05:38:07.640Z"
   },
   {
    "duration": 0,
    "start_time": "2024-12-21T05:38:07.641Z"
   },
   {
    "duration": 0,
    "start_time": "2024-12-21T05:38:07.643Z"
   },
   {
    "duration": 0,
    "start_time": "2024-12-21T05:38:07.644Z"
   },
   {
    "duration": 0,
    "start_time": "2024-12-21T05:38:07.645Z"
   },
   {
    "duration": 0,
    "start_time": "2024-12-21T05:38:07.647Z"
   },
   {
    "duration": 0,
    "start_time": "2024-12-21T05:38:07.648Z"
   },
   {
    "duration": 0,
    "start_time": "2024-12-21T05:38:07.650Z"
   },
   {
    "duration": 0,
    "start_time": "2024-12-21T05:38:07.651Z"
   },
   {
    "duration": 0,
    "start_time": "2024-12-21T05:38:07.652Z"
   },
   {
    "duration": 0,
    "start_time": "2024-12-21T05:38:07.653Z"
   },
   {
    "duration": 0,
    "start_time": "2024-12-21T05:38:07.654Z"
   },
   {
    "duration": 0,
    "start_time": "2024-12-21T05:38:07.655Z"
   },
   {
    "duration": 0,
    "start_time": "2024-12-21T05:38:07.656Z"
   },
   {
    "duration": 0,
    "start_time": "2024-12-21T05:38:07.658Z"
   },
   {
    "duration": 0,
    "start_time": "2024-12-21T05:38:07.659Z"
   },
   {
    "duration": 1,
    "start_time": "2024-12-21T05:38:07.659Z"
   },
   {
    "duration": 0,
    "start_time": "2024-12-21T05:38:07.660Z"
   },
   {
    "duration": 0,
    "start_time": "2024-12-21T05:38:07.662Z"
   },
   {
    "duration": 0,
    "start_time": "2024-12-21T05:38:07.663Z"
   },
   {
    "duration": 0,
    "start_time": "2024-12-21T05:38:07.708Z"
   },
   {
    "duration": 0,
    "start_time": "2024-12-21T05:38:07.709Z"
   },
   {
    "duration": 0,
    "start_time": "2024-12-21T05:38:07.711Z"
   },
   {
    "duration": 0,
    "start_time": "2024-12-21T05:38:07.714Z"
   },
   {
    "duration": 0,
    "start_time": "2024-12-21T05:38:07.716Z"
   },
   {
    "duration": 0,
    "start_time": "2024-12-21T05:38:07.717Z"
   },
   {
    "duration": 96,
    "start_time": "2024-12-21T05:39:49.107Z"
   },
   {
    "duration": 984,
    "start_time": "2024-12-21T05:49:31.273Z"
   },
   {
    "duration": 17,
    "start_time": "2024-12-21T05:49:32.259Z"
   },
   {
    "duration": 13,
    "start_time": "2024-12-21T05:49:32.993Z"
   },
   {
    "duration": 4,
    "start_time": "2024-12-21T05:49:34.086Z"
   },
   {
    "duration": 11,
    "start_time": "2024-12-21T05:49:36.892Z"
   },
   {
    "duration": 4,
    "start_time": "2024-12-21T05:49:37.375Z"
   },
   {
    "duration": 7,
    "start_time": "2024-12-21T05:49:38.242Z"
   },
   {
    "duration": 29,
    "start_time": "2024-12-21T05:49:39.045Z"
   },
   {
    "duration": 5,
    "start_time": "2024-12-21T05:49:41.529Z"
   },
   {
    "duration": 6,
    "start_time": "2024-12-21T05:49:43.047Z"
   },
   {
    "duration": 7,
    "start_time": "2024-12-21T05:49:43.734Z"
   },
   {
    "duration": 3,
    "start_time": "2024-12-21T05:49:47.933Z"
   },
   {
    "duration": 3,
    "start_time": "2024-12-21T05:49:48.740Z"
   },
   {
    "duration": 4,
    "start_time": "2024-12-21T05:49:49.531Z"
   },
   {
    "duration": 7,
    "start_time": "2024-12-21T05:49:50.294Z"
   },
   {
    "duration": 4,
    "start_time": "2024-12-21T05:49:53.394Z"
   },
   {
    "duration": 4,
    "start_time": "2024-12-21T05:49:54.191Z"
   },
   {
    "duration": 3,
    "start_time": "2024-12-21T05:50:01.022Z"
   },
   {
    "duration": 1784,
    "start_time": "2024-12-21T05:50:02.073Z"
   },
   {
    "duration": 10,
    "start_time": "2024-12-21T05:50:09.422Z"
   },
   {
    "duration": 16,
    "start_time": "2024-12-21T05:50:14.441Z"
   },
   {
    "duration": 3,
    "start_time": "2024-12-21T05:50:23.896Z"
   },
   {
    "duration": 2,
    "start_time": "2024-12-21T05:50:26.045Z"
   },
   {
    "duration": 5,
    "start_time": "2024-12-21T05:50:32.749Z"
   },
   {
    "duration": 9,
    "start_time": "2024-12-21T05:50:33.773Z"
   },
   {
    "duration": 3,
    "start_time": "2024-12-21T05:50:34.559Z"
   },
   {
    "duration": 11,
    "start_time": "2024-12-21T05:50:35.344Z"
   },
   {
    "duration": 238,
    "start_time": "2024-12-21T05:50:36.136Z"
   },
   {
    "duration": 3,
    "start_time": "2024-12-21T05:51:46.889Z"
   },
   {
    "duration": 15,
    "start_time": "2024-12-21T05:51:48.723Z"
   },
   {
    "duration": 2308,
    "start_time": "2024-12-21T05:52:39.470Z"
   },
   {
    "duration": 2741,
    "start_time": "2024-12-22T06:37:06.957Z"
   },
   {
    "duration": 19,
    "start_time": "2024-12-22T06:37:09.713Z"
   },
   {
    "duration": 13,
    "start_time": "2024-12-22T06:37:12.504Z"
   },
   {
    "duration": 3,
    "start_time": "2024-12-22T06:37:18.526Z"
   },
   {
    "duration": 10,
    "start_time": "2024-12-22T06:37:27.043Z"
   },
   {
    "duration": 4,
    "start_time": "2024-12-22T06:37:32.034Z"
   },
   {
    "duration": 7,
    "start_time": "2024-12-22T06:37:34.543Z"
   },
   {
    "duration": 27,
    "start_time": "2024-12-22T06:37:47.780Z"
   },
   {
    "duration": 5,
    "start_time": "2024-12-22T06:37:56.938Z"
   },
   {
    "duration": 6,
    "start_time": "2024-12-22T06:37:59.453Z"
   },
   {
    "duration": 13,
    "start_time": "2024-12-22T06:42:40.523Z"
   },
   {
    "duration": 1017,
    "start_time": "2024-12-22T06:49:58.653Z"
   },
   {
    "duration": 15,
    "start_time": "2024-12-22T06:50:21.240Z"
   },
   {
    "duration": 12,
    "start_time": "2024-12-22T06:50:21.972Z"
   },
   {
    "duration": 3,
    "start_time": "2024-12-22T06:50:23.400Z"
   },
   {
    "duration": 12,
    "start_time": "2024-12-22T06:50:49.949Z"
   },
   {
    "duration": 3,
    "start_time": "2024-12-22T06:50:56.066Z"
   },
   {
    "duration": 7,
    "start_time": "2024-12-22T06:51:24.239Z"
   },
   {
    "duration": 29,
    "start_time": "2024-12-22T06:52:10.097Z"
   },
   {
    "duration": 5,
    "start_time": "2024-12-22T06:52:56.573Z"
   },
   {
    "duration": 5,
    "start_time": "2024-12-22T06:55:36.537Z"
   },
   {
    "duration": 14,
    "start_time": "2024-12-22T06:57:48.082Z"
   },
   {
    "duration": 3,
    "start_time": "2024-12-22T07:02:10.820Z"
   },
   {
    "duration": 3,
    "start_time": "2024-12-22T07:04:33.489Z"
   },
   {
    "duration": 1009,
    "start_time": "2024-12-22T07:04:45.961Z"
   },
   {
    "duration": 16,
    "start_time": "2024-12-22T07:04:47.543Z"
   },
   {
    "duration": 12,
    "start_time": "2024-12-22T07:04:48.409Z"
   },
   {
    "duration": 4,
    "start_time": "2024-12-22T07:04:49.401Z"
   },
   {
    "duration": 11,
    "start_time": "2024-12-22T07:04:51.692Z"
   },
   {
    "duration": 3,
    "start_time": "2024-12-22T07:04:52.742Z"
   },
   {
    "duration": 7,
    "start_time": "2024-12-22T07:04:53.695Z"
   },
   {
    "duration": 27,
    "start_time": "2024-12-22T07:04:54.480Z"
   },
   {
    "duration": 5,
    "start_time": "2024-12-22T07:04:56.305Z"
   },
   {
    "duration": 6,
    "start_time": "2024-12-22T07:04:57.965Z"
   },
   {
    "duration": 7,
    "start_time": "2024-12-22T07:04:58.828Z"
   },
   {
    "duration": 3,
    "start_time": "2024-12-22T07:05:06.711Z"
   },
   {
    "duration": 5,
    "start_time": "2024-12-22T07:05:12.983Z"
   },
   {
    "duration": 6,
    "start_time": "2024-12-22T07:05:15.482Z"
   },
   {
    "duration": 5,
    "start_time": "2024-12-22T07:11:58.886Z"
   },
   {
    "duration": 4,
    "start_time": "2024-12-22T07:12:33.128Z"
   },
   {
    "duration": 2,
    "start_time": "2024-12-22T07:14:35.477Z"
   },
   {
    "duration": 1798,
    "start_time": "2024-12-22T07:14:37.579Z"
   },
   {
    "duration": 9,
    "start_time": "2024-12-22T07:16:44.711Z"
   },
   {
    "duration": 229,
    "start_time": "2024-12-22T07:18:12.934Z"
   },
   {
    "duration": 16,
    "start_time": "2024-12-22T07:18:20.151Z"
   },
   {
    "duration": 2717,
    "start_time": "2024-12-23T03:23:37.691Z"
   },
   {
    "duration": 27,
    "start_time": "2024-12-23T03:23:40.410Z"
   },
   {
    "duration": 13,
    "start_time": "2024-12-23T03:23:42.034Z"
   },
   {
    "duration": 3,
    "start_time": "2024-12-23T03:23:47.790Z"
   },
   {
    "duration": 18,
    "start_time": "2024-12-23T03:24:18.301Z"
   },
   {
    "duration": 4,
    "start_time": "2024-12-23T03:24:31.997Z"
   },
   {
    "duration": 8,
    "start_time": "2024-12-23T03:24:32.845Z"
   },
   {
    "duration": 28,
    "start_time": "2024-12-23T03:24:37.424Z"
   },
   {
    "duration": 6,
    "start_time": "2024-12-23T03:24:43.034Z"
   },
   {
    "duration": 6,
    "start_time": "2024-12-23T03:24:45.756Z"
   },
   {
    "duration": 12,
    "start_time": "2024-12-23T03:24:52.883Z"
   },
   {
    "duration": 4,
    "start_time": "2024-12-23T03:25:34.867Z"
   },
   {
    "duration": 4,
    "start_time": "2024-12-23T03:25:38.308Z"
   },
   {
    "duration": 7,
    "start_time": "2024-12-23T03:25:41.164Z"
   },
   {
    "duration": 4,
    "start_time": "2024-12-23T03:25:46.311Z"
   },
   {
    "duration": 5,
    "start_time": "2024-12-23T03:25:48.582Z"
   },
   {
    "duration": 2,
    "start_time": "2024-12-23T03:26:08.945Z"
   },
   {
    "duration": 2001,
    "start_time": "2024-12-23T03:26:10.494Z"
   },
   {
    "duration": 9,
    "start_time": "2024-12-23T03:26:29.296Z"
   },
   {
    "duration": 16,
    "start_time": "2024-12-23T03:26:36.701Z"
   },
   {
    "duration": 3,
    "start_time": "2024-12-23T03:36:03.375Z"
   },
   {
    "duration": 7,
    "start_time": "2024-12-23T03:36:30.587Z"
   },
   {
    "duration": 4,
    "start_time": "2024-12-23T03:42:00.415Z"
   },
   {
    "duration": 7,
    "start_time": "2024-12-23T03:43:02.921Z"
   },
   {
    "duration": 8,
    "start_time": "2024-12-23T03:44:16.530Z"
   },
   {
    "duration": 879,
    "start_time": "2024-12-23T03:45:37.990Z"
   },
   {
    "duration": 39,
    "start_time": "2024-12-23T03:46:19.822Z"
   },
   {
    "duration": 160,
    "start_time": "2024-12-23T03:47:32.809Z"
   },
   {
    "duration": 161,
    "start_time": "2024-12-23T03:59:20.291Z"
   },
   {
    "duration": 968,
    "start_time": "2024-12-23T03:59:34.924Z"
   },
   {
    "duration": 17,
    "start_time": "2024-12-23T03:59:35.894Z"
   },
   {
    "duration": 13,
    "start_time": "2024-12-23T03:59:35.912Z"
   },
   {
    "duration": 17,
    "start_time": "2024-12-23T03:59:35.927Z"
   },
   {
    "duration": 10,
    "start_time": "2024-12-23T03:59:35.945Z"
   },
   {
    "duration": 3,
    "start_time": "2024-12-23T03:59:35.957Z"
   },
   {
    "duration": 6,
    "start_time": "2024-12-23T03:59:35.962Z"
   },
   {
    "duration": 27,
    "start_time": "2024-12-23T03:59:35.969Z"
   },
   {
    "duration": 4,
    "start_time": "2024-12-23T03:59:35.997Z"
   },
   {
    "duration": 39,
    "start_time": "2024-12-23T03:59:36.004Z"
   },
   {
    "duration": 7,
    "start_time": "2024-12-23T03:59:36.044Z"
   },
   {
    "duration": 3,
    "start_time": "2024-12-23T03:59:36.053Z"
   },
   {
    "duration": 4,
    "start_time": "2024-12-23T03:59:36.058Z"
   },
   {
    "duration": 5,
    "start_time": "2024-12-23T03:59:36.064Z"
   },
   {
    "duration": 3,
    "start_time": "2024-12-23T03:59:36.071Z"
   },
   {
    "duration": 4,
    "start_time": "2024-12-23T03:59:36.076Z"
   },
   {
    "duration": 2,
    "start_time": "2024-12-23T03:59:36.082Z"
   },
   {
    "duration": 1785,
    "start_time": "2024-12-23T03:59:36.086Z"
   },
   {
    "duration": 10,
    "start_time": "2024-12-23T03:59:37.873Z"
   },
   {
    "duration": 15,
    "start_time": "2024-12-23T03:59:37.884Z"
   },
   {
    "duration": 3,
    "start_time": "2024-12-23T03:59:37.901Z"
   },
   {
    "duration": 7,
    "start_time": "2024-12-23T03:59:37.905Z"
   },
   {
    "duration": 3,
    "start_time": "2024-12-23T03:59:37.914Z"
   },
   {
    "duration": 24,
    "start_time": "2024-12-23T03:59:37.919Z"
   },
   {
    "duration": 8,
    "start_time": "2024-12-23T03:59:37.944Z"
   },
   {
    "duration": 917,
    "start_time": "2024-12-23T03:59:37.953Z"
   },
   {
    "duration": 38,
    "start_time": "2024-12-23T03:59:38.872Z"
   },
   {
    "duration": 963,
    "start_time": "2024-12-23T04:02:37.820Z"
   },
   {
    "duration": 15,
    "start_time": "2024-12-23T04:02:41.503Z"
   },
   {
    "duration": 13,
    "start_time": "2024-12-23T04:02:46.876Z"
   },
   {
    "duration": 4,
    "start_time": "2024-12-23T04:02:48.896Z"
   },
   {
    "duration": 11,
    "start_time": "2024-12-23T04:03:06.917Z"
   },
   {
    "duration": 4,
    "start_time": "2024-12-23T04:03:11.755Z"
   },
   {
    "duration": 8,
    "start_time": "2024-12-23T04:03:16.615Z"
   },
   {
    "duration": 35,
    "start_time": "2024-12-23T04:03:18.688Z"
   },
   {
    "duration": 5,
    "start_time": "2024-12-23T04:04:19.841Z"
   },
   {
    "duration": 6,
    "start_time": "2024-12-23T04:04:25.146Z"
   },
   {
    "duration": 13,
    "start_time": "2024-12-23T04:04:30.251Z"
   },
   {
    "duration": 3,
    "start_time": "2024-12-23T04:04:35.754Z"
   },
   {
    "duration": 4,
    "start_time": "2024-12-23T04:04:41.889Z"
   },
   {
    "duration": 7,
    "start_time": "2024-12-23T04:04:44.173Z"
   },
   {
    "duration": 4,
    "start_time": "2024-12-23T04:04:49.547Z"
   },
   {
    "duration": 4,
    "start_time": "2024-12-23T04:04:51.134Z"
   },
   {
    "duration": 3,
    "start_time": "2024-12-23T04:04:56.719Z"
   },
   {
    "duration": 1855,
    "start_time": "2024-12-23T04:04:58.539Z"
   },
   {
    "duration": 10,
    "start_time": "2024-12-23T04:05:12.350Z"
   },
   {
    "duration": 18,
    "start_time": "2024-12-23T04:05:18.527Z"
   },
   {
    "duration": 4,
    "start_time": "2024-12-23T04:05:34.033Z"
   },
   {
    "duration": 9,
    "start_time": "2024-12-23T04:05:35.825Z"
   },
   {
    "duration": 4,
    "start_time": "2024-12-23T04:06:19.655Z"
   },
   {
    "duration": 6,
    "start_time": "2024-12-23T04:06:20.919Z"
   },
   {
    "duration": 8,
    "start_time": "2024-12-23T04:06:22.397Z"
   },
   {
    "duration": 919,
    "start_time": "2024-12-23T04:06:25.084Z"
   },
   {
    "duration": 40,
    "start_time": "2024-12-23T04:06:42.010Z"
   },
   {
    "duration": 43939,
    "start_time": "2024-12-23T04:07:03.038Z"
   },
   {
    "duration": 951,
    "start_time": "2024-12-23T04:12:27.726Z"
   },
   {
    "duration": 15,
    "start_time": "2024-12-23T04:12:28.679Z"
   },
   {
    "duration": 12,
    "start_time": "2024-12-23T04:12:28.695Z"
   },
   {
    "duration": 4,
    "start_time": "2024-12-23T04:12:28.709Z"
   },
   {
    "duration": 34,
    "start_time": "2024-12-23T04:12:28.715Z"
   },
   {
    "duration": 3,
    "start_time": "2024-12-23T04:12:28.752Z"
   },
   {
    "duration": 6,
    "start_time": "2024-12-23T04:12:28.757Z"
   },
   {
    "duration": 26,
    "start_time": "2024-12-23T04:12:28.764Z"
   },
   {
    "duration": 4,
    "start_time": "2024-12-23T04:12:28.792Z"
   },
   {
    "duration": 4,
    "start_time": "2024-12-23T04:12:28.801Z"
   },
   {
    "duration": 39,
    "start_time": "2024-12-23T04:12:28.807Z"
   },
   {
    "duration": 3,
    "start_time": "2024-12-23T04:12:28.848Z"
   },
   {
    "duration": 4,
    "start_time": "2024-12-23T04:12:28.853Z"
   },
   {
    "duration": 7,
    "start_time": "2024-12-23T04:12:28.860Z"
   },
   {
    "duration": 4,
    "start_time": "2024-12-23T04:12:28.869Z"
   },
   {
    "duration": 4,
    "start_time": "2024-12-23T04:12:28.874Z"
   },
   {
    "duration": 2,
    "start_time": "2024-12-23T04:12:28.880Z"
   },
   {
    "duration": 1944,
    "start_time": "2024-12-23T04:12:28.884Z"
   },
   {
    "duration": 9,
    "start_time": "2024-12-23T04:12:30.829Z"
   },
   {
    "duration": 19,
    "start_time": "2024-12-23T04:12:30.840Z"
   },
   {
    "duration": 4,
    "start_time": "2024-12-23T04:12:30.861Z"
   },
   {
    "duration": 7,
    "start_time": "2024-12-23T04:12:30.866Z"
   },
   {
    "duration": 4,
    "start_time": "2024-12-23T04:12:30.875Z"
   },
   {
    "duration": 8,
    "start_time": "2024-12-23T04:12:30.880Z"
   },
   {
    "duration": 7,
    "start_time": "2024-12-23T04:12:30.890Z"
   },
   {
    "duration": 925,
    "start_time": "2024-12-23T04:12:30.899Z"
   },
   {
    "duration": 46,
    "start_time": "2024-12-23T04:12:31.826Z"
   },
   {
    "duration": 979,
    "start_time": "2024-12-23T04:17:47.801Z"
   },
   {
    "duration": 16,
    "start_time": "2024-12-23T04:17:49.033Z"
   },
   {
    "duration": 12,
    "start_time": "2024-12-23T04:17:50.710Z"
   },
   {
    "duration": 5,
    "start_time": "2024-12-23T04:17:56.856Z"
   },
   {
    "duration": 10,
    "start_time": "2024-12-23T04:18:01.604Z"
   },
   {
    "duration": 4,
    "start_time": "2024-12-23T04:18:02.543Z"
   },
   {
    "duration": 6,
    "start_time": "2024-12-23T04:18:03.078Z"
   },
   {
    "duration": 28,
    "start_time": "2024-12-23T04:18:03.990Z"
   },
   {
    "duration": 5,
    "start_time": "2024-12-23T04:18:04.659Z"
   },
   {
    "duration": 6,
    "start_time": "2024-12-23T04:18:06.595Z"
   },
   {
    "duration": 8,
    "start_time": "2024-12-23T04:18:07.280Z"
   },
   {
    "duration": 3,
    "start_time": "2024-12-23T04:18:15.940Z"
   },
   {
    "duration": 5,
    "start_time": "2024-12-23T04:18:19.503Z"
   },
   {
    "duration": 6,
    "start_time": "2024-12-23T04:18:20.104Z"
   },
   {
    "duration": 3,
    "start_time": "2024-12-23T04:18:26.394Z"
   },
   {
    "duration": 4,
    "start_time": "2024-12-23T04:18:27.103Z"
   },
   {
    "duration": 2,
    "start_time": "2024-12-23T04:18:41.379Z"
   },
   {
    "duration": 1791,
    "start_time": "2024-12-23T04:18:42.104Z"
   },
   {
    "duration": 9,
    "start_time": "2024-12-23T04:18:52.629Z"
   },
   {
    "duration": 17,
    "start_time": "2024-12-23T04:18:53.451Z"
   },
   {
    "duration": 4,
    "start_time": "2024-12-23T04:19:26.551Z"
   },
   {
    "duration": 8,
    "start_time": "2024-12-23T04:19:28.168Z"
   },
   {
    "duration": 4,
    "start_time": "2024-12-23T04:19:44.766Z"
   },
   {
    "duration": 7,
    "start_time": "2024-12-23T04:19:58.688Z"
   },
   {
    "duration": 9,
    "start_time": "2024-12-23T04:20:11.217Z"
   },
   {
    "duration": 916,
    "start_time": "2024-12-23T04:21:03.439Z"
   },
   {
    "duration": 39,
    "start_time": "2024-12-23T04:21:07.702Z"
   },
   {
    "duration": 56742,
    "start_time": "2024-12-23T04:21:19.783Z"
   },
   {
    "duration": 170,
    "start_time": "2024-12-23T04:23:35.328Z"
   },
   {
    "duration": 3,
    "start_time": "2024-12-23T04:23:41.495Z"
   },
   {
    "duration": 7,
    "start_time": "2024-12-23T04:23:46.916Z"
   },
   {
    "duration": 210,
    "start_time": "2024-12-23T04:23:52.004Z"
   },
   {
    "duration": 2723,
    "start_time": "2024-12-27T03:18:57.028Z"
   },
   {
    "duration": 22,
    "start_time": "2024-12-27T03:18:59.754Z"
   },
   {
    "duration": 13,
    "start_time": "2024-12-27T03:18:59.777Z"
   },
   {
    "duration": 4,
    "start_time": "2024-12-27T03:19:00.170Z"
   },
   {
    "duration": 11,
    "start_time": "2024-12-27T03:19:10.935Z"
   },
   {
    "duration": 3,
    "start_time": "2024-12-27T03:19:11.914Z"
   },
   {
    "duration": 8,
    "start_time": "2024-12-27T03:19:12.690Z"
   },
   {
    "duration": 43,
    "start_time": "2024-12-27T03:19:13.427Z"
   },
   {
    "duration": 6,
    "start_time": "2024-12-27T03:19:14.387Z"
   },
   {
    "duration": 6,
    "start_time": "2024-12-27T03:19:18.637Z"
   },
   {
    "duration": 7,
    "start_time": "2024-12-27T03:19:19.299Z"
   },
   {
    "duration": 4,
    "start_time": "2024-12-27T03:19:58.717Z"
   },
   {
    "duration": 4,
    "start_time": "2024-12-27T03:20:00.595Z"
   },
   {
    "duration": 6,
    "start_time": "2024-12-27T03:20:05.796Z"
   },
   {
    "duration": 4,
    "start_time": "2024-12-27T03:20:12.086Z"
   },
   {
    "duration": 4,
    "start_time": "2024-12-27T03:20:13.877Z"
   },
   {
    "duration": 2,
    "start_time": "2024-12-27T03:20:23.153Z"
   },
   {
    "duration": 1888,
    "start_time": "2024-12-27T03:20:24.542Z"
   },
   {
    "duration": 10,
    "start_time": "2024-12-27T03:20:30.470Z"
   },
   {
    "duration": 15,
    "start_time": "2024-12-27T03:20:32.299Z"
   },
   {
    "duration": 949,
    "start_time": "2024-12-27T04:29:57.098Z"
   },
   {
    "duration": 17,
    "start_time": "2024-12-27T04:30:00.552Z"
   },
   {
    "duration": 13,
    "start_time": "2024-12-27T04:30:03.712Z"
   },
   {
    "duration": 977,
    "start_time": "2024-12-27T04:39:47.891Z"
   },
   {
    "duration": 17,
    "start_time": "2024-12-27T04:39:50.341Z"
   },
   {
    "duration": 12,
    "start_time": "2024-12-27T04:39:52.370Z"
   },
   {
    "duration": 4,
    "start_time": "2024-12-27T04:40:04.278Z"
   },
   {
    "duration": 10,
    "start_time": "2024-12-27T04:40:15.555Z"
   },
   {
    "duration": 3,
    "start_time": "2024-12-27T04:40:22.851Z"
   },
   {
    "duration": 7,
    "start_time": "2024-12-27T04:40:29.381Z"
   },
   {
    "duration": 28,
    "start_time": "2024-12-27T04:40:36.529Z"
   },
   {
    "duration": 5,
    "start_time": "2024-12-27T04:40:40.661Z"
   },
   {
    "duration": 5,
    "start_time": "2024-12-27T04:42:37.063Z"
   },
   {
    "duration": 11,
    "start_time": "2024-12-27T04:42:43.266Z"
   },
   {
    "duration": 4,
    "start_time": "2024-12-27T04:47:22.167Z"
   },
   {
    "duration": 4,
    "start_time": "2024-12-27T04:47:28.773Z"
   },
   {
    "duration": 9,
    "start_time": "2024-12-27T04:47:33.148Z"
   },
   {
    "duration": 4,
    "start_time": "2024-12-27T04:47:41.146Z"
   },
   {
    "duration": 5,
    "start_time": "2024-12-27T04:47:42.671Z"
   },
   {
    "duration": 2,
    "start_time": "2024-12-27T04:55:40.269Z"
   },
   {
    "duration": 1870,
    "start_time": "2024-12-27T04:55:58.259Z"
   },
   {
    "duration": 10,
    "start_time": "2024-12-27T04:56:20.518Z"
   },
   {
    "duration": 16,
    "start_time": "2024-12-27T04:56:24.731Z"
   },
   {
    "duration": 4,
    "start_time": "2024-12-27T05:12:34.578Z"
   },
   {
    "duration": 9,
    "start_time": "2024-12-27T05:12:36.166Z"
   },
   {
    "duration": 4,
    "start_time": "2024-12-27T06:00:53.953Z"
   },
   {
    "duration": 6,
    "start_time": "2024-12-27T06:01:05.227Z"
   },
   {
    "duration": 230,
    "start_time": "2024-12-27T06:01:08.220Z"
   },
   {
    "duration": 5,
    "start_time": "2024-12-27T06:01:55.537Z"
   },
   {
    "duration": 7,
    "start_time": "2024-12-27T06:01:57.417Z"
   },
   {
    "duration": 666,
    "start_time": "2024-12-27T06:02:00.465Z"
   },
   {
    "duration": 13,
    "start_time": "2024-12-27T06:02:09.520Z"
   },
   {
    "duration": 11,
    "start_time": "2024-12-27T06:02:24.747Z"
   },
   {
    "duration": 41983,
    "start_time": "2024-12-27T06:03:07.260Z"
   },
   {
    "duration": 79,
    "start_time": "2024-12-27T06:05:53.036Z"
   },
   {
    "duration": 14,
    "start_time": "2024-12-27T06:06:15.184Z"
   },
   {
    "duration": 4,
    "start_time": "2024-12-27T06:06:59.579Z"
   },
   {
    "duration": 4,
    "start_time": "2024-12-27T06:10:14.888Z"
   },
   {
    "duration": 17,
    "start_time": "2024-12-27T06:10:21.627Z"
   },
   {
    "duration": 2461,
    "start_time": "2024-12-27T06:10:51.871Z"
   },
   {
    "duration": 3679,
    "start_time": "2024-12-27T06:11:28.830Z"
   },
   {
    "duration": 4,
    "start_time": "2024-12-27T06:11:48.228Z"
   },
   {
    "duration": 17,
    "start_time": "2024-12-27T06:11:55.643Z"
   },
   {
    "duration": 4,
    "start_time": "2024-12-27T06:12:25.990Z"
   },
   {
    "duration": 17,
    "start_time": "2024-12-27T06:16:34.998Z"
   },
   {
    "duration": 16,
    "start_time": "2024-12-27T06:18:49.045Z"
   },
   {
    "duration": 6,
    "start_time": "2024-12-27T06:22:30.474Z"
   },
   {
    "duration": 13,
    "start_time": "2024-12-27T06:23:12.847Z"
   },
   {
    "duration": 3,
    "start_time": "2024-12-27T06:23:51.428Z"
   },
   {
    "duration": 985,
    "start_time": "2024-12-27T06:29:30.825Z"
   },
   {
    "duration": 16,
    "start_time": "2024-12-27T06:29:31.812Z"
   },
   {
    "duration": 13,
    "start_time": "2024-12-27T06:29:31.829Z"
   },
   {
    "duration": 4,
    "start_time": "2024-12-27T06:29:31.843Z"
   },
   {
    "duration": 9,
    "start_time": "2024-12-27T06:29:31.849Z"
   },
   {
    "duration": 3,
    "start_time": "2024-12-27T06:29:31.860Z"
   },
   {
    "duration": 7,
    "start_time": "2024-12-27T06:29:31.865Z"
   },
   {
    "duration": 57,
    "start_time": "2024-12-27T06:29:31.874Z"
   },
   {
    "duration": 4,
    "start_time": "2024-12-27T06:29:31.933Z"
   },
   {
    "duration": 5,
    "start_time": "2024-12-27T06:29:31.941Z"
   },
   {
    "duration": 6,
    "start_time": "2024-12-27T06:29:31.947Z"
   },
   {
    "duration": 3,
    "start_time": "2024-12-27T06:29:31.954Z"
   },
   {
    "duration": 3,
    "start_time": "2024-12-27T06:29:31.959Z"
   },
   {
    "duration": 42,
    "start_time": "2024-12-27T06:29:31.964Z"
   },
   {
    "duration": 3,
    "start_time": "2024-12-27T06:29:32.008Z"
   },
   {
    "duration": 4,
    "start_time": "2024-12-27T06:29:32.013Z"
   },
   {
    "duration": 9,
    "start_time": "2024-12-27T06:29:32.021Z"
   },
   {
    "duration": 1931,
    "start_time": "2024-12-27T06:29:32.031Z"
   },
   {
    "duration": 9,
    "start_time": "2024-12-27T06:29:33.964Z"
   },
   {
    "duration": 15,
    "start_time": "2024-12-27T06:29:33.975Z"
   },
   {
    "duration": 3,
    "start_time": "2024-12-27T06:29:33.992Z"
   },
   {
    "duration": 12,
    "start_time": "2024-12-27T06:29:33.997Z"
   },
   {
    "duration": 5,
    "start_time": "2024-12-27T06:29:34.011Z"
   },
   {
    "duration": 9,
    "start_time": "2024-12-27T06:29:34.018Z"
   },
   {
    "duration": 7,
    "start_time": "2024-12-27T06:29:34.028Z"
   },
   {
    "duration": 10,
    "start_time": "2024-12-27T06:29:34.036Z"
   },
   {
    "duration": 781,
    "start_time": "2024-12-27T06:29:34.047Z"
   },
   {
    "duration": 58,
    "start_time": "2024-12-27T06:29:34.833Z"
   },
   {
    "duration": 47,
    "start_time": "2024-12-27T06:29:34.893Z"
   },
   {
    "duration": 46554,
    "start_time": "2024-12-27T06:29:34.942Z"
   },
   {
    "duration": 94,
    "start_time": "2024-12-27T06:30:21.497Z"
   },
   {
    "duration": 2,
    "start_time": "2024-12-27T06:30:21.593Z"
   },
   {
    "duration": 3,
    "start_time": "2024-12-27T06:30:21.606Z"
   },
   {
    "duration": 5,
    "start_time": "2024-12-27T06:30:21.611Z"
   },
   {
    "duration": 4,
    "start_time": "2024-12-27T06:30:21.617Z"
   },
   {
    "duration": 5,
    "start_time": "2024-12-27T06:30:21.623Z"
   },
   {
    "duration": 4,
    "start_time": "2024-12-27T06:30:21.629Z"
   },
   {
    "duration": 714,
    "start_time": "2024-12-27T06:30:21.635Z"
   },
   {
    "duration": 4,
    "start_time": "2024-12-27T06:30:22.351Z"
   },
   {
    "duration": 4,
    "start_time": "2024-12-27T06:30:22.357Z"
   },
   {
    "duration": 4,
    "start_time": "2024-12-27T06:30:22.363Z"
   },
   {
    "duration": 4,
    "start_time": "2024-12-27T06:30:22.369Z"
   },
   {
    "duration": 32,
    "start_time": "2024-12-27T06:30:22.374Z"
   },
   {
    "duration": 6,
    "start_time": "2024-12-27T06:30:22.408Z"
   },
   {
    "duration": 12,
    "start_time": "2024-12-27T06:30:22.416Z"
   },
   {
    "duration": 1106,
    "start_time": "2024-12-27T06:30:22.430Z"
   },
   {
    "duration": 3,
    "start_time": "2024-12-27T06:30:23.538Z"
   },
   {
    "duration": 102,
    "start_time": "2024-12-27T06:30:23.543Z"
   },
   {
    "duration": 3,
    "start_time": "2024-12-27T06:30:23.647Z"
   },
   {
    "duration": 302,
    "start_time": "2024-12-27T06:30:23.652Z"
   },
   {
    "duration": 0,
    "start_time": "2024-12-27T06:30:23.956Z"
   },
   {
    "duration": 157,
    "start_time": "2024-12-27T06:31:48.263Z"
   },
   {
    "duration": 2724,
    "start_time": "2024-12-27T06:49:53.216Z"
   },
   {
    "duration": 27,
    "start_time": "2024-12-27T06:49:55.942Z"
   },
   {
    "duration": 12,
    "start_time": "2024-12-27T06:49:55.970Z"
   },
   {
    "duration": 3,
    "start_time": "2024-12-27T06:49:55.984Z"
   },
   {
    "duration": 9,
    "start_time": "2024-12-27T06:49:55.990Z"
   },
   {
    "duration": 3,
    "start_time": "2024-12-27T06:49:56.001Z"
   },
   {
    "duration": 7,
    "start_time": "2024-12-27T06:49:56.006Z"
   },
   {
    "duration": 28,
    "start_time": "2024-12-27T06:49:56.014Z"
   },
   {
    "duration": 4,
    "start_time": "2024-12-27T06:49:56.044Z"
   },
   {
    "duration": 41,
    "start_time": "2024-12-27T06:49:56.049Z"
   },
   {
    "duration": 6,
    "start_time": "2024-12-27T06:49:56.092Z"
   },
   {
    "duration": 4,
    "start_time": "2024-12-27T06:49:56.099Z"
   },
   {
    "duration": 4,
    "start_time": "2024-12-27T06:49:56.104Z"
   },
   {
    "duration": 6,
    "start_time": "2024-12-27T06:49:56.112Z"
   },
   {
    "duration": 4,
    "start_time": "2024-12-27T06:49:56.120Z"
   },
   {
    "duration": 4,
    "start_time": "2024-12-27T06:49:56.125Z"
   },
   {
    "duration": 2,
    "start_time": "2024-12-27T06:49:56.131Z"
   },
   {
    "duration": 1932,
    "start_time": "2024-12-27T06:49:56.135Z"
   },
   {
    "duration": 9,
    "start_time": "2024-12-27T06:49:58.069Z"
   },
   {
    "duration": 16,
    "start_time": "2024-12-27T06:49:58.079Z"
   },
   {
    "duration": 3,
    "start_time": "2024-12-27T06:49:58.097Z"
   },
   {
    "duration": 15,
    "start_time": "2024-12-27T06:49:58.103Z"
   },
   {
    "duration": 4,
    "start_time": "2024-12-27T06:49:58.121Z"
   },
   {
    "duration": 8,
    "start_time": "2024-12-27T06:49:58.128Z"
   },
   {
    "duration": 7,
    "start_time": "2024-12-27T06:49:58.138Z"
   },
   {
    "duration": 9,
    "start_time": "2024-12-27T06:49:58.147Z"
   },
   {
    "duration": 722,
    "start_time": "2024-12-27T06:49:58.158Z"
   },
   {
    "duration": 64,
    "start_time": "2024-12-27T06:49:58.887Z"
   },
   {
    "duration": 45,
    "start_time": "2024-12-27T06:49:58.953Z"
   },
   {
    "duration": 41914,
    "start_time": "2024-12-27T06:49:58.999Z"
   },
   {
    "duration": 106,
    "start_time": "2024-12-27T06:50:40.915Z"
   },
   {
    "duration": 3,
    "start_time": "2024-12-27T06:50:41.023Z"
   },
   {
    "duration": 2,
    "start_time": "2024-12-27T06:50:41.028Z"
   },
   {
    "duration": 4,
    "start_time": "2024-12-27T06:50:41.032Z"
   },
   {
    "duration": 3,
    "start_time": "2024-12-27T06:50:41.038Z"
   },
   {
    "duration": 4,
    "start_time": "2024-12-27T06:50:41.043Z"
   },
   {
    "duration": 3,
    "start_time": "2024-12-27T06:50:41.049Z"
   },
   {
    "duration": 652,
    "start_time": "2024-12-27T06:50:41.054Z"
   },
   {
    "duration": 4,
    "start_time": "2024-12-27T06:50:41.708Z"
   },
   {
    "duration": 4,
    "start_time": "2024-12-27T06:50:41.714Z"
   },
   {
    "duration": 4,
    "start_time": "2024-12-27T06:50:41.723Z"
   },
   {
    "duration": 4,
    "start_time": "2024-12-27T06:50:41.729Z"
   },
   {
    "duration": 8,
    "start_time": "2024-12-27T06:50:41.735Z"
   },
   {
    "duration": 7,
    "start_time": "2024-12-27T06:50:41.744Z"
   },
   {
    "duration": 42,
    "start_time": "2024-12-27T06:50:41.753Z"
   },
   {
    "duration": 1048,
    "start_time": "2024-12-27T06:50:41.797Z"
   },
   {
    "duration": 3,
    "start_time": "2024-12-27T06:50:42.847Z"
   },
   {
    "duration": 112,
    "start_time": "2024-12-27T06:50:42.852Z"
   },
   {
    "duration": 3,
    "start_time": "2024-12-27T06:50:42.966Z"
   },
   {
    "duration": 191,
    "start_time": "2024-12-27T06:50:42.971Z"
   },
   {
    "duration": 2706,
    "start_time": "2024-12-27T22:58:10.474Z"
   },
   {
    "duration": 27,
    "start_time": "2024-12-27T22:58:13.183Z"
   },
   {
    "duration": 12,
    "start_time": "2024-12-27T22:58:13.212Z"
   },
   {
    "duration": 3,
    "start_time": "2024-12-27T22:58:13.226Z"
   },
   {
    "duration": 19,
    "start_time": "2024-12-27T22:58:13.231Z"
   },
   {
    "duration": 5,
    "start_time": "2024-12-27T22:58:13.251Z"
   },
   {
    "duration": 8,
    "start_time": "2024-12-27T22:58:13.257Z"
   },
   {
    "duration": 27,
    "start_time": "2024-12-27T22:58:13.267Z"
   },
   {
    "duration": 5,
    "start_time": "2024-12-27T22:58:13.295Z"
   },
   {
    "duration": 4,
    "start_time": "2024-12-27T22:58:13.304Z"
   },
   {
    "duration": 6,
    "start_time": "2024-12-27T22:58:13.342Z"
   },
   {
    "duration": 3,
    "start_time": "2024-12-27T22:58:13.350Z"
   },
   {
    "duration": 4,
    "start_time": "2024-12-27T22:58:13.354Z"
   },
   {
    "duration": 6,
    "start_time": "2024-12-27T22:58:13.359Z"
   },
   {
    "duration": 5,
    "start_time": "2024-12-27T22:58:13.366Z"
   },
   {
    "duration": 4,
    "start_time": "2024-12-27T22:58:13.372Z"
   },
   {
    "duration": 2,
    "start_time": "2024-12-27T22:58:13.378Z"
   },
   {
    "duration": 1946,
    "start_time": "2024-12-27T22:58:13.381Z"
   },
   {
    "duration": 10,
    "start_time": "2024-12-27T22:58:15.329Z"
   },
   {
    "duration": 18,
    "start_time": "2024-12-27T22:58:15.342Z"
   },
   {
    "duration": 4,
    "start_time": "2024-12-27T22:58:15.362Z"
   },
   {
    "duration": 9,
    "start_time": "2024-12-27T22:58:15.367Z"
   },
   {
    "duration": 5,
    "start_time": "2024-12-27T22:58:15.378Z"
   },
   {
    "duration": 9,
    "start_time": "2024-12-27T22:58:15.386Z"
   },
   {
    "duration": 12,
    "start_time": "2024-12-27T22:58:15.397Z"
   },
   {
    "duration": 271,
    "start_time": "2024-12-27T22:58:15.411Z"
   },
   {
    "duration": 0,
    "start_time": "2024-12-27T22:58:15.684Z"
   },
   {
    "duration": 0,
    "start_time": "2024-12-27T22:58:15.686Z"
   },
   {
    "duration": 0,
    "start_time": "2024-12-27T22:58:15.687Z"
   },
   {
    "duration": 0,
    "start_time": "2024-12-27T22:58:15.688Z"
   },
   {
    "duration": 0,
    "start_time": "2024-12-27T22:58:15.689Z"
   },
   {
    "duration": 0,
    "start_time": "2024-12-27T22:58:15.690Z"
   },
   {
    "duration": 9,
    "start_time": "2024-12-27T22:59:59.998Z"
   },
   {
    "duration": 949,
    "start_time": "2024-12-27T23:00:01.359Z"
   },
   {
    "duration": 37444,
    "start_time": "2024-12-27T23:00:09.563Z"
   },
   {
    "duration": 199,
    "start_time": "2024-12-27T23:00:47.009Z"
   },
   {
    "duration": 68,
    "start_time": "2024-12-27T23:01:18.940Z"
   },
   {
    "duration": 3,
    "start_time": "2024-12-27T23:01:21.253Z"
   },
   {
    "duration": 177,
    "start_time": "2024-12-27T23:01:30.496Z"
   },
   {
    "duration": 989,
    "start_time": "2024-12-27T23:03:03.000Z"
   },
   {
    "duration": 16,
    "start_time": "2024-12-27T23:05:09.270Z"
   },
   {
    "duration": 18,
    "start_time": "2024-12-27T23:05:10.654Z"
   },
   {
    "duration": 4,
    "start_time": "2024-12-27T23:05:12.780Z"
   },
   {
    "duration": 10,
    "start_time": "2024-12-27T23:05:16.028Z"
   },
   {
    "duration": 3,
    "start_time": "2024-12-27T23:05:19.283Z"
   },
   {
    "duration": 7,
    "start_time": "2024-12-27T23:05:20.004Z"
   },
   {
    "duration": 27,
    "start_time": "2024-12-27T23:05:20.409Z"
   },
   {
    "duration": 5,
    "start_time": "2024-12-27T23:05:21.393Z"
   },
   {
    "duration": 6,
    "start_time": "2024-12-27T23:05:22.969Z"
   },
   {
    "duration": 11,
    "start_time": "2024-12-27T23:05:23.616Z"
   },
   {
    "duration": 4,
    "start_time": "2024-12-27T23:05:29.503Z"
   },
   {
    "duration": 3,
    "start_time": "2024-12-27T23:05:30.563Z"
   },
   {
    "duration": 7,
    "start_time": "2024-12-27T23:05:31.216Z"
   },
   {
    "duration": 4,
    "start_time": "2024-12-27T23:05:36.265Z"
   },
   {
    "duration": 4,
    "start_time": "2024-12-27T23:05:38.063Z"
   },
   {
    "duration": 3,
    "start_time": "2024-12-27T23:05:43.190Z"
   },
   {
    "duration": 1728,
    "start_time": "2024-12-27T23:05:44.152Z"
   },
   {
    "duration": 9,
    "start_time": "2024-12-27T23:05:49.264Z"
   },
   {
    "duration": 18,
    "start_time": "2024-12-27T23:05:54.100Z"
   },
   {
    "duration": 5,
    "start_time": "2024-12-27T23:06:03.764Z"
   },
   {
    "duration": 7,
    "start_time": "2024-12-27T23:06:04.319Z"
   },
   {
    "duration": 5,
    "start_time": "2024-12-27T23:06:16.765Z"
   },
   {
    "duration": 8,
    "start_time": "2024-12-27T23:06:17.927Z"
   },
   {
    "duration": 12,
    "start_time": "2024-12-27T23:07:00.310Z"
   },
   {
    "duration": 9,
    "start_time": "2024-12-27T23:08:53.475Z"
   },
   {
    "duration": 927,
    "start_time": "2024-12-27T23:08:58.948Z"
   },
   {
    "duration": 37529,
    "start_time": "2024-12-27T23:11:26.346Z"
   },
   {
    "duration": 196,
    "start_time": "2024-12-27T23:12:45.095Z"
   },
   {
    "duration": 70,
    "start_time": "2024-12-27T23:13:04.020Z"
   },
   {
    "duration": 3,
    "start_time": "2024-12-27T23:13:18.948Z"
   },
   {
    "duration": 171,
    "start_time": "2024-12-27T23:13:44.986Z"
   },
   {
    "duration": 990,
    "start_time": "2024-12-27T23:29:06.909Z"
   },
   {
    "duration": 1059,
    "start_time": "2024-12-28T01:57:32.447Z"
   },
   {
    "duration": 16,
    "start_time": "2024-12-28T01:57:33.509Z"
   },
   {
    "duration": 17,
    "start_time": "2024-12-28T01:57:33.526Z"
   },
   {
    "duration": 3,
    "start_time": "2024-12-28T01:57:33.545Z"
   },
   {
    "duration": 9,
    "start_time": "2024-12-28T01:57:33.550Z"
   },
   {
    "duration": 3,
    "start_time": "2024-12-28T01:57:33.561Z"
   },
   {
    "duration": 6,
    "start_time": "2024-12-28T01:57:33.566Z"
   },
   {
    "duration": 27,
    "start_time": "2024-12-28T01:57:33.574Z"
   },
   {
    "duration": 4,
    "start_time": "2024-12-28T01:57:33.602Z"
   },
   {
    "duration": 5,
    "start_time": "2024-12-28T01:57:33.643Z"
   },
   {
    "duration": 6,
    "start_time": "2024-12-28T01:57:33.650Z"
   },
   {
    "duration": 3,
    "start_time": "2024-12-28T01:57:33.658Z"
   },
   {
    "duration": 4,
    "start_time": "2024-12-28T01:57:33.663Z"
   },
   {
    "duration": 6,
    "start_time": "2024-12-28T01:57:33.671Z"
   },
   {
    "duration": 4,
    "start_time": "2024-12-28T01:57:33.679Z"
   },
   {
    "duration": 4,
    "start_time": "2024-12-28T01:57:33.684Z"
   },
   {
    "duration": 4,
    "start_time": "2024-12-28T01:57:33.690Z"
   },
   {
    "duration": 1786,
    "start_time": "2024-12-28T01:57:33.695Z"
   },
   {
    "duration": 9,
    "start_time": "2024-12-28T01:57:35.483Z"
   },
   {
    "duration": 15,
    "start_time": "2024-12-28T01:57:35.494Z"
   },
   {
    "duration": 4,
    "start_time": "2024-12-28T01:57:35.511Z"
   },
   {
    "duration": 7,
    "start_time": "2024-12-28T01:57:35.516Z"
   },
   {
    "duration": 4,
    "start_time": "2024-12-28T01:57:35.525Z"
   },
   {
    "duration": 6,
    "start_time": "2024-12-28T01:57:35.542Z"
   },
   {
    "duration": 6,
    "start_time": "2024-12-28T01:57:35.549Z"
   },
   {
    "duration": 302,
    "start_time": "2024-12-28T01:57:35.556Z"
   },
   {
    "duration": 0,
    "start_time": "2024-12-28T01:57:35.859Z"
   },
   {
    "duration": 0,
    "start_time": "2024-12-28T01:57:35.861Z"
   },
   {
    "duration": 0,
    "start_time": "2024-12-28T01:57:35.863Z"
   },
   {
    "duration": 0,
    "start_time": "2024-12-28T01:57:35.865Z"
   },
   {
    "duration": 0,
    "start_time": "2024-12-28T01:57:35.866Z"
   },
   {
    "duration": 0,
    "start_time": "2024-12-28T01:57:35.868Z"
   },
   {
    "duration": 0,
    "start_time": "2024-12-28T01:57:35.869Z"
   },
   {
    "duration": 0,
    "start_time": "2024-12-28T01:57:35.870Z"
   },
   {
    "duration": 16,
    "start_time": "2024-12-28T02:01:48.876Z"
   },
   {
    "duration": 1058,
    "start_time": "2024-12-28T02:15:58.054Z"
   },
   {
    "duration": 17,
    "start_time": "2024-12-28T02:15:59.114Z"
   },
   {
    "duration": 16,
    "start_time": "2024-12-28T02:15:59.132Z"
   },
   {
    "duration": 3,
    "start_time": "2024-12-28T02:15:59.151Z"
   },
   {
    "duration": 10,
    "start_time": "2024-12-28T02:15:59.156Z"
   },
   {
    "duration": 4,
    "start_time": "2024-12-28T02:15:59.167Z"
   },
   {
    "duration": 6,
    "start_time": "2024-12-28T02:15:59.173Z"
   },
   {
    "duration": 27,
    "start_time": "2024-12-28T02:15:59.180Z"
   },
   {
    "duration": 37,
    "start_time": "2024-12-28T02:15:59.209Z"
   },
   {
    "duration": 4,
    "start_time": "2024-12-28T02:15:59.249Z"
   },
   {
    "duration": 6,
    "start_time": "2024-12-28T02:15:59.255Z"
   },
   {
    "duration": 4,
    "start_time": "2024-12-28T02:15:59.267Z"
   },
   {
    "duration": 4,
    "start_time": "2024-12-28T02:15:59.273Z"
   },
   {
    "duration": 6,
    "start_time": "2024-12-28T02:15:59.278Z"
   },
   {
    "duration": 4,
    "start_time": "2024-12-28T02:15:59.286Z"
   },
   {
    "duration": 4,
    "start_time": "2024-12-28T02:15:59.292Z"
   },
   {
    "duration": 3,
    "start_time": "2024-12-28T02:15:59.297Z"
   },
   {
    "duration": 1841,
    "start_time": "2024-12-28T02:15:59.342Z"
   },
   {
    "duration": 9,
    "start_time": "2024-12-28T02:16:01.185Z"
   },
   {
    "duration": 15,
    "start_time": "2024-12-28T02:16:01.195Z"
   },
   {
    "duration": 3,
    "start_time": "2024-12-28T02:16:01.212Z"
   },
   {
    "duration": 8,
    "start_time": "2024-12-28T02:16:01.216Z"
   },
   {
    "duration": 3,
    "start_time": "2024-12-28T02:16:01.226Z"
   },
   {
    "duration": 7,
    "start_time": "2024-12-28T02:16:01.244Z"
   },
   {
    "duration": 6,
    "start_time": "2024-12-28T02:16:01.253Z"
   },
   {
    "duration": 329,
    "start_time": "2024-12-28T02:16:01.260Z"
   },
   {
    "duration": 0,
    "start_time": "2024-12-28T02:16:01.591Z"
   },
   {
    "duration": 0,
    "start_time": "2024-12-28T02:16:01.593Z"
   },
   {
    "duration": 0,
    "start_time": "2024-12-28T02:16:01.594Z"
   },
   {
    "duration": 0,
    "start_time": "2024-12-28T02:16:01.595Z"
   },
   {
    "duration": 0,
    "start_time": "2024-12-28T02:16:01.597Z"
   },
   {
    "duration": 0,
    "start_time": "2024-12-28T02:16:01.598Z"
   },
   {
    "duration": 0,
    "start_time": "2024-12-28T02:16:01.600Z"
   },
   {
    "duration": 0,
    "start_time": "2024-12-28T02:16:01.602Z"
   },
   {
    "duration": 1005,
    "start_time": "2024-12-28T02:18:47.314Z"
   },
   {
    "duration": 21,
    "start_time": "2024-12-28T02:18:48.322Z"
   },
   {
    "duration": 12,
    "start_time": "2024-12-28T02:18:48.344Z"
   },
   {
    "duration": 4,
    "start_time": "2024-12-28T02:18:48.358Z"
   },
   {
    "duration": 9,
    "start_time": "2024-12-28T02:18:48.363Z"
   },
   {
    "duration": 3,
    "start_time": "2024-12-28T02:18:48.373Z"
   },
   {
    "duration": 6,
    "start_time": "2024-12-28T02:18:48.378Z"
   },
   {
    "duration": 57,
    "start_time": "2024-12-28T02:18:48.386Z"
   },
   {
    "duration": 4,
    "start_time": "2024-12-28T02:18:48.445Z"
   },
   {
    "duration": 4,
    "start_time": "2024-12-28T02:18:48.452Z"
   },
   {
    "duration": 6,
    "start_time": "2024-12-28T02:18:48.459Z"
   },
   {
    "duration": 3,
    "start_time": "2024-12-28T02:18:48.466Z"
   },
   {
    "duration": 3,
    "start_time": "2024-12-28T02:18:48.471Z"
   },
   {
    "duration": 5,
    "start_time": "2024-12-28T02:18:48.476Z"
   },
   {
    "duration": 4,
    "start_time": "2024-12-28T02:18:48.483Z"
   },
   {
    "duration": 4,
    "start_time": "2024-12-28T02:18:48.489Z"
   },
   {
    "duration": 3,
    "start_time": "2024-12-28T02:18:48.494Z"
   },
   {
    "duration": 1748,
    "start_time": "2024-12-28T02:18:48.543Z"
   },
   {
    "duration": 9,
    "start_time": "2024-12-28T02:18:50.293Z"
   },
   {
    "duration": 15,
    "start_time": "2024-12-28T02:18:50.304Z"
   },
   {
    "duration": 4,
    "start_time": "2024-12-28T02:18:50.320Z"
   },
   {
    "duration": 17,
    "start_time": "2024-12-28T02:18:50.326Z"
   },
   {
    "duration": 3,
    "start_time": "2024-12-28T02:18:50.345Z"
   },
   {
    "duration": 6,
    "start_time": "2024-12-28T02:18:50.350Z"
   },
   {
    "duration": 5,
    "start_time": "2024-12-28T02:18:50.357Z"
   },
   {
    "duration": 5,
    "start_time": "2024-12-28T02:18:50.364Z"
   },
   {
    "duration": 11,
    "start_time": "2024-12-28T02:18:50.370Z"
   },
   {
    "duration": 5,
    "start_time": "2024-12-28T02:18:50.384Z"
   },
   {
    "duration": 6,
    "start_time": "2024-12-28T02:18:50.390Z"
   },
   {
    "duration": 1072,
    "start_time": "2024-12-28T02:18:50.397Z"
   },
   {
    "duration": 43361,
    "start_time": "2024-12-28T02:18:51.471Z"
   },
   {
    "duration": 203,
    "start_time": "2024-12-28T02:19:34.834Z"
   },
   {
    "duration": 195,
    "start_time": "2024-12-28T02:19:35.039Z"
   },
   {
    "duration": 206,
    "start_time": "2024-12-28T02:19:35.236Z"
   },
   {
    "duration": 1002,
    "start_time": "2024-12-28T02:28:47.511Z"
   },
   {
    "duration": 16,
    "start_time": "2024-12-28T02:28:53.110Z"
   },
   {
    "duration": 13,
    "start_time": "2024-12-28T02:28:53.929Z"
   },
   {
    "duration": 4,
    "start_time": "2024-12-28T02:28:54.870Z"
   },
   {
    "duration": 9,
    "start_time": "2024-12-28T02:29:52.980Z"
   },
   {
    "duration": 3,
    "start_time": "2024-12-28T02:30:00.872Z"
   },
   {
    "duration": 7,
    "start_time": "2024-12-28T02:30:01.513Z"
   },
   {
    "duration": 28,
    "start_time": "2024-12-28T02:30:02.238Z"
   },
   {
    "duration": 5,
    "start_time": "2024-12-28T02:30:07.341Z"
   },
   {
    "duration": 6,
    "start_time": "2024-12-28T02:30:09.275Z"
   },
   {
    "duration": 13,
    "start_time": "2024-12-28T02:30:13.915Z"
   },
   {
    "duration": 3,
    "start_time": "2024-12-28T02:30:20.049Z"
   },
   {
    "duration": 4,
    "start_time": "2024-12-28T02:30:21.396Z"
   },
   {
    "duration": 7,
    "start_time": "2024-12-28T02:30:26.445Z"
   },
   {
    "duration": 4,
    "start_time": "2024-12-28T02:30:35.039Z"
   },
   {
    "duration": 5,
    "start_time": "2024-12-28T02:30:36.809Z"
   },
   {
    "duration": 2,
    "start_time": "2024-12-28T02:30:49.516Z"
   },
   {
    "duration": 1766,
    "start_time": "2024-12-28T02:30:51.529Z"
   },
   {
    "duration": 10,
    "start_time": "2024-12-28T02:31:00.443Z"
   },
   {
    "duration": 16,
    "start_time": "2024-12-28T02:31:05.521Z"
   },
   {
    "duration": 4,
    "start_time": "2024-12-28T02:31:16.223Z"
   },
   {
    "duration": 8,
    "start_time": "2024-12-28T02:31:18.028Z"
   },
   {
    "duration": 1017,
    "start_time": "2024-12-28T05:07:02.113Z"
   },
   {
    "duration": 15,
    "start_time": "2024-12-28T05:07:04.364Z"
   },
   {
    "duration": 12,
    "start_time": "2024-12-28T05:07:04.980Z"
   },
   {
    "duration": 4,
    "start_time": "2024-12-28T05:07:05.857Z"
   },
   {
    "duration": 12,
    "start_time": "2024-12-28T05:07:07.253Z"
   },
   {
    "duration": 3,
    "start_time": "2024-12-28T05:07:07.441Z"
   },
   {
    "duration": 7,
    "start_time": "2024-12-28T05:07:07.661Z"
   },
   {
    "duration": 27,
    "start_time": "2024-12-28T05:07:08.264Z"
   },
   {
    "duration": 6,
    "start_time": "2024-12-28T05:07:08.845Z"
   },
   {
    "duration": 6,
    "start_time": "2024-12-28T05:07:10.017Z"
   },
   {
    "duration": 7,
    "start_time": "2024-12-28T05:07:10.571Z"
   },
   {
    "duration": 5,
    "start_time": "2024-12-28T05:07:13.340Z"
   },
   {
    "duration": 4,
    "start_time": "2024-12-28T05:07:14.329Z"
   },
   {
    "duration": 6,
    "start_time": "2024-12-28T05:07:15.117Z"
   },
   {
    "duration": 4,
    "start_time": "2024-12-28T05:07:17.278Z"
   },
   {
    "duration": 4,
    "start_time": "2024-12-28T05:07:17.815Z"
   },
   {
    "duration": 3,
    "start_time": "2024-12-28T05:07:21.473Z"
   },
   {
    "duration": 1720,
    "start_time": "2024-12-28T05:07:22.267Z"
   },
   {
    "duration": 10,
    "start_time": "2024-12-28T05:07:33.633Z"
   },
   {
    "duration": 17,
    "start_time": "2024-12-28T05:07:34.689Z"
   },
   {
    "duration": 4,
    "start_time": "2024-12-28T05:08:34.945Z"
   },
   {
    "duration": 8,
    "start_time": "2024-12-28T05:08:35.515Z"
   },
   {
    "duration": 4,
    "start_time": "2024-12-28T05:08:52.315Z"
   },
   {
    "duration": 4,
    "start_time": "2024-12-28T05:09:05.663Z"
   },
   {
    "duration": 3,
    "start_time": "2024-12-28T05:09:09.184Z"
   },
   {
    "duration": 9,
    "start_time": "2024-12-28T05:09:51.601Z"
   },
   {
    "duration": 293,
    "start_time": "2024-12-28T05:09:55.139Z"
   },
   {
    "duration": 12,
    "start_time": "2024-12-28T05:12:10.268Z"
   },
   {
    "duration": 14,
    "start_time": "2024-12-28T05:12:22.774Z"
   },
   {
    "duration": 22,
    "start_time": "2024-12-28T05:12:59.088Z"
   },
   {
    "duration": 3,
    "start_time": "2024-12-28T05:14:53.053Z"
   },
   {
    "duration": 12,
    "start_time": "2024-12-28T05:15:40.650Z"
   },
   {
    "duration": 755,
    "start_time": "2024-12-28T05:15:51.309Z"
   },
   {
    "duration": 191,
    "start_time": "2024-12-28T05:15:56.640Z"
   },
   {
    "duration": 1038,
    "start_time": "2024-12-28T05:40:52.465Z"
   },
   {
    "duration": 16,
    "start_time": "2024-12-28T05:40:53.877Z"
   },
   {
    "duration": 13,
    "start_time": "2024-12-28T05:40:54.651Z"
   },
   {
    "duration": 3,
    "start_time": "2024-12-28T05:40:55.706Z"
   },
   {
    "duration": 9,
    "start_time": "2024-12-28T05:40:58.830Z"
   },
   {
    "duration": 4,
    "start_time": "2024-12-28T05:40:59.534Z"
   },
   {
    "duration": 6,
    "start_time": "2024-12-28T05:41:00.243Z"
   },
   {
    "duration": 28,
    "start_time": "2024-12-28T05:41:00.977Z"
   },
   {
    "duration": 5,
    "start_time": "2024-12-28T05:41:01.856Z"
   },
   {
    "duration": 6,
    "start_time": "2024-12-28T05:41:03.498Z"
   },
   {
    "duration": 7,
    "start_time": "2024-12-28T05:41:08.842Z"
   },
   {
    "duration": 6,
    "start_time": "2024-12-28T05:41:16.765Z"
   },
   {
    "duration": 19,
    "start_time": "2024-12-28T05:41:24.257Z"
   },
   {
    "duration": 3,
    "start_time": "2024-12-28T05:41:40.044Z"
   },
   {
    "duration": 4,
    "start_time": "2024-12-28T05:41:41.095Z"
   },
   {
    "duration": 6,
    "start_time": "2024-12-28T05:41:42.143Z"
   },
   {
    "duration": 4,
    "start_time": "2024-12-28T05:41:47.364Z"
   },
   {
    "duration": 5,
    "start_time": "2024-12-28T05:41:48.558Z"
   },
   {
    "duration": 3,
    "start_time": "2024-12-28T05:42:01.799Z"
   },
   {
    "duration": 1856,
    "start_time": "2024-12-28T05:42:03.195Z"
   },
   {
    "duration": 9,
    "start_time": "2024-12-28T05:42:11.801Z"
   },
   {
    "duration": 15,
    "start_time": "2024-12-28T05:42:13.868Z"
   },
   {
    "duration": 4,
    "start_time": "2024-12-28T05:42:23.919Z"
   },
   {
    "duration": 7,
    "start_time": "2024-12-28T05:42:27.408Z"
   },
   {
    "duration": 5,
    "start_time": "2024-12-28T05:43:16.642Z"
   },
   {
    "duration": 5,
    "start_time": "2024-12-28T05:43:17.772Z"
   },
   {
    "duration": 11,
    "start_time": "2024-12-28T05:43:18.852Z"
   },
   {
    "duration": 547,
    "start_time": "2024-12-28T05:43:19.611Z"
   },
   {
    "duration": 2748,
    "start_time": "2024-12-28T17:45:16.264Z"
   },
   {
    "duration": 25,
    "start_time": "2024-12-28T17:47:36.045Z"
   },
   {
    "duration": 13,
    "start_time": "2024-12-28T17:47:38.574Z"
   },
   {
    "duration": 1045,
    "start_time": "2024-12-28T18:14:35.344Z"
   },
   {
    "duration": 15,
    "start_time": "2024-12-28T18:14:36.455Z"
   },
   {
    "duration": 13,
    "start_time": "2024-12-28T18:14:37.101Z"
   },
   {
    "duration": 4,
    "start_time": "2024-12-28T18:14:38.555Z"
   },
   {
    "duration": 10,
    "start_time": "2024-12-28T18:14:46.649Z"
   },
   {
    "duration": 3,
    "start_time": "2024-12-28T18:14:57.023Z"
   },
   {
    "duration": 7,
    "start_time": "2024-12-28T18:14:57.659Z"
   },
   {
    "duration": 27,
    "start_time": "2024-12-28T18:14:58.587Z"
   },
   {
    "duration": 1066,
    "start_time": "2024-12-28T18:18:23.531Z"
   },
   {
    "duration": 15,
    "start_time": "2024-12-28T18:18:24.876Z"
   },
   {
    "duration": 13,
    "start_time": "2024-12-28T18:18:25.598Z"
   },
   {
    "duration": 3,
    "start_time": "2024-12-28T18:18:30.101Z"
   },
   {
    "duration": 10,
    "start_time": "2024-12-28T18:18:34.794Z"
   },
   {
    "duration": 3,
    "start_time": "2024-12-28T18:18:36.436Z"
   },
   {
    "duration": 7,
    "start_time": "2024-12-28T18:18:37.238Z"
   },
   {
    "duration": 28,
    "start_time": "2024-12-28T18:18:43.226Z"
   },
   {
    "duration": 5,
    "start_time": "2024-12-28T18:18:47.719Z"
   },
   {
    "duration": 6,
    "start_time": "2024-12-28T18:18:56.526Z"
   },
   {
    "duration": 7,
    "start_time": "2024-12-28T18:19:02.222Z"
   },
   {
    "duration": 4,
    "start_time": "2024-12-28T18:19:24.839Z"
   },
   {
    "duration": 5,
    "start_time": "2024-12-28T18:19:26.694Z"
   },
   {
    "duration": 2,
    "start_time": "2024-12-28T18:19:33.192Z"
   },
   {
    "duration": 1796,
    "start_time": "2024-12-28T18:19:34.029Z"
   },
   {
    "duration": 9,
    "start_time": "2024-12-28T18:20:19.351Z"
   },
   {
    "duration": 16,
    "start_time": "2024-12-28T18:20:20.291Z"
   },
   {
    "duration": 1001,
    "start_time": "2024-12-28T18:44:16.678Z"
   },
   {
    "duration": 16,
    "start_time": "2024-12-28T18:44:17.682Z"
   },
   {
    "duration": 12,
    "start_time": "2024-12-28T18:44:17.843Z"
   },
   {
    "duration": 4,
    "start_time": "2024-12-28T18:44:18.835Z"
   },
   {
    "duration": 11,
    "start_time": "2024-12-28T18:44:26.053Z"
   },
   {
    "duration": 4,
    "start_time": "2024-12-28T18:44:30.351Z"
   },
   {
    "duration": 7,
    "start_time": "2024-12-28T18:44:31.011Z"
   },
   {
    "duration": 28,
    "start_time": "2024-12-28T18:44:31.832Z"
   },
   {
    "duration": 4,
    "start_time": "2024-12-28T18:44:37.468Z"
   },
   {
    "duration": 5,
    "start_time": "2024-12-28T18:44:39.921Z"
   },
   {
    "duration": 6,
    "start_time": "2024-12-28T18:44:43.847Z"
   },
   {
    "duration": 3,
    "start_time": "2024-12-28T18:44:50.103Z"
   },
   {
    "duration": 4,
    "start_time": "2024-12-28T18:44:51.051Z"
   },
   {
    "duration": 7,
    "start_time": "2024-12-28T18:44:52.820Z"
   },
   {
    "duration": 4,
    "start_time": "2024-12-28T18:44:58.094Z"
   },
   {
    "duration": 5,
    "start_time": "2024-12-28T18:44:58.668Z"
   },
   {
    "duration": 3,
    "start_time": "2024-12-28T18:45:04.153Z"
   },
   {
    "duration": 1802,
    "start_time": "2024-12-28T18:45:07.808Z"
   },
   {
    "duration": 9,
    "start_time": "2024-12-28T18:45:17.288Z"
   },
   {
    "duration": 17,
    "start_time": "2024-12-28T18:45:19.077Z"
   },
   {
    "duration": 4,
    "start_time": "2024-12-28T18:45:26.387Z"
   },
   {
    "duration": 7,
    "start_time": "2024-12-28T18:45:26.979Z"
   },
   {
    "duration": 4,
    "start_time": "2024-12-28T18:45:32.207Z"
   },
   {
    "duration": 9,
    "start_time": "2024-12-28T18:45:33.559Z"
   },
   {
    "duration": 10,
    "start_time": "2024-12-28T18:45:39.152Z"
   },
   {
    "duration": 26,
    "start_time": "2024-12-28T18:45:44.255Z"
   },
   {
    "duration": 24,
    "start_time": "2024-12-28T18:46:46.488Z"
   },
   {
    "duration": 1047,
    "start_time": "2024-12-28T18:55:28.203Z"
   },
   {
    "duration": 16,
    "start_time": "2024-12-28T18:55:29.252Z"
   },
   {
    "duration": 13,
    "start_time": "2024-12-28T18:55:29.324Z"
   },
   {
    "duration": 4,
    "start_time": "2024-12-28T18:55:30.682Z"
   },
   {
    "duration": 11,
    "start_time": "2024-12-28T18:55:33.534Z"
   },
   {
    "duration": 6,
    "start_time": "2024-12-28T18:55:34.102Z"
   },
   {
    "duration": 7,
    "start_time": "2024-12-28T18:55:34.853Z"
   },
   {
    "duration": 27,
    "start_time": "2024-12-28T18:55:35.359Z"
   },
   {
    "duration": 5,
    "start_time": "2024-12-28T18:55:36.115Z"
   },
   {
    "duration": 6,
    "start_time": "2024-12-28T18:55:37.694Z"
   },
   {
    "duration": 8,
    "start_time": "2024-12-28T18:55:38.434Z"
   },
   {
    "duration": 4,
    "start_time": "2024-12-28T18:55:42.642Z"
   },
   {
    "duration": 4,
    "start_time": "2024-12-28T18:55:43.542Z"
   },
   {
    "duration": 7,
    "start_time": "2024-12-28T18:55:44.449Z"
   },
   {
    "duration": 4,
    "start_time": "2024-12-28T18:55:46.450Z"
   },
   {
    "duration": 4,
    "start_time": "2024-12-28T18:55:47.061Z"
   },
   {
    "duration": 2,
    "start_time": "2024-12-28T18:55:50.370Z"
   },
   {
    "duration": 1770,
    "start_time": "2024-12-28T18:55:51.807Z"
   },
   {
    "duration": 10,
    "start_time": "2024-12-28T18:55:54.104Z"
   },
   {
    "duration": 17,
    "start_time": "2024-12-28T18:55:54.789Z"
   },
   {
    "duration": 4,
    "start_time": "2024-12-28T18:56:05.306Z"
   },
   {
    "duration": 7,
    "start_time": "2024-12-28T18:56:06.122Z"
   },
   {
    "duration": 5,
    "start_time": "2024-12-28T18:56:52.414Z"
   },
   {
    "duration": 10,
    "start_time": "2024-12-28T18:56:55.249Z"
   },
   {
    "duration": 5,
    "start_time": "2024-12-28T18:56:56.860Z"
   },
   {
    "duration": 6,
    "start_time": "2024-12-28T18:56:59.584Z"
   },
   {
    "duration": 7,
    "start_time": "2024-12-28T18:57:00.839Z"
   },
   {
    "duration": 3,
    "start_time": "2024-12-28T18:57:02.738Z"
   },
   {
    "duration": 3,
    "start_time": "2024-12-28T18:57:03.280Z"
   },
   {
    "duration": 17,
    "start_time": "2024-12-28T18:57:04.675Z"
   },
   {
    "duration": 12,
    "start_time": "2024-12-28T18:57:06.117Z"
   },
   {
    "duration": 3,
    "start_time": "2024-12-28T18:57:08.532Z"
   },
   {
    "duration": 4480,
    "start_time": "2024-12-28T18:57:10.354Z"
   },
   {
    "duration": 6,
    "start_time": "2024-12-28T18:57:14.836Z"
   },
   {
    "duration": 3,
    "start_time": "2024-12-28T18:57:38.295Z"
   },
   {
    "duration": 1143,
    "start_time": "2024-12-28T18:57:38.890Z"
   },
   {
    "duration": 14,
    "start_time": "2024-12-28T18:57:40.035Z"
   },
   {
    "duration": 1146,
    "start_time": "2024-12-28T18:57:49.780Z"
   },
   {
    "duration": 8,
    "start_time": "2024-12-28T18:57:59.692Z"
   },
   {
    "duration": 128,
    "start_time": "2024-12-28T18:58:01.126Z"
   },
   {
    "duration": 285,
    "start_time": "2024-12-28T18:58:13.722Z"
   },
   {
    "duration": 3,
    "start_time": "2024-12-28T18:58:54.849Z"
   },
   {
    "duration": 1105,
    "start_time": "2024-12-28T19:46:12.511Z"
   },
   {
    "duration": 1057,
    "start_time": "2024-12-28T20:02:19.941Z"
   },
   {
    "duration": 16,
    "start_time": "2024-12-28T20:02:21.005Z"
   },
   {
    "duration": 12,
    "start_time": "2024-12-28T20:02:21.022Z"
   },
   {
    "duration": 5,
    "start_time": "2024-12-28T20:02:21.036Z"
   },
   {
    "duration": 9,
    "start_time": "2024-12-28T20:02:21.043Z"
   },
   {
    "duration": 4,
    "start_time": "2024-12-28T20:02:21.054Z"
   },
   {
    "duration": 6,
    "start_time": "2024-12-28T20:02:21.059Z"
   },
   {
    "duration": 56,
    "start_time": "2024-12-28T20:02:21.067Z"
   },
   {
    "duration": 5,
    "start_time": "2024-12-28T20:02:21.125Z"
   },
   {
    "duration": 5,
    "start_time": "2024-12-28T20:02:21.134Z"
   },
   {
    "duration": 8,
    "start_time": "2024-12-28T20:02:21.140Z"
   },
   {
    "duration": 3,
    "start_time": "2024-12-28T20:02:21.150Z"
   },
   {
    "duration": 4,
    "start_time": "2024-12-28T20:02:21.155Z"
   },
   {
    "duration": 6,
    "start_time": "2024-12-28T20:02:21.160Z"
   },
   {
    "duration": 40,
    "start_time": "2024-12-28T20:02:21.167Z"
   },
   {
    "duration": 4,
    "start_time": "2024-12-28T20:02:21.209Z"
   },
   {
    "duration": 2,
    "start_time": "2024-12-28T20:02:21.215Z"
   },
   {
    "duration": 1910,
    "start_time": "2024-12-28T20:02:21.219Z"
   },
   {
    "duration": 11,
    "start_time": "2024-12-28T20:02:23.131Z"
   },
   {
    "duration": 17,
    "start_time": "2024-12-28T20:02:23.143Z"
   },
   {
    "duration": 3,
    "start_time": "2024-12-28T20:02:23.162Z"
   },
   {
    "duration": 8,
    "start_time": "2024-12-28T20:02:23.166Z"
   },
   {
    "duration": 4,
    "start_time": "2024-12-28T20:02:23.175Z"
   },
   {
    "duration": 25,
    "start_time": "2024-12-28T20:02:23.181Z"
   },
   {
    "duration": 3,
    "start_time": "2024-12-28T20:02:23.208Z"
   },
   {
    "duration": 4,
    "start_time": "2024-12-28T20:02:23.213Z"
   },
   {
    "duration": 7,
    "start_time": "2024-12-28T20:02:23.219Z"
   },
   {
    "duration": 2,
    "start_time": "2024-12-28T20:02:23.230Z"
   },
   {
    "duration": 2,
    "start_time": "2024-12-28T20:02:23.234Z"
   },
   {
    "duration": 17,
    "start_time": "2024-12-28T20:02:23.238Z"
   },
   {
    "duration": 49,
    "start_time": "2024-12-28T20:02:23.256Z"
   },
   {
    "duration": 3,
    "start_time": "2024-12-28T20:02:23.307Z"
   },
   {
    "duration": 4421,
    "start_time": "2024-12-28T20:02:23.312Z"
   },
   {
    "duration": 5,
    "start_time": "2024-12-28T20:02:27.737Z"
   },
   {
    "duration": 2,
    "start_time": "2024-12-28T20:02:27.805Z"
   },
   {
    "duration": 1138,
    "start_time": "2024-12-28T20:02:27.809Z"
   },
   {
    "duration": 15,
    "start_time": "2024-12-28T20:02:28.948Z"
   },
   {
    "duration": 1161,
    "start_time": "2024-12-28T20:02:28.964Z"
   },
   {
    "duration": 6,
    "start_time": "2024-12-28T20:02:30.127Z"
   },
   {
    "duration": 137,
    "start_time": "2024-12-28T20:02:30.135Z"
   },
   {
    "duration": 3,
    "start_time": "2024-12-28T20:02:30.274Z"
   },
   {
    "duration": 1123,
    "start_time": "2024-12-28T20:35:51.525Z"
   },
   {
    "duration": 16,
    "start_time": "2024-12-28T20:35:52.651Z"
   },
   {
    "duration": 11,
    "start_time": "2024-12-28T20:35:52.669Z"
   },
   {
    "duration": 3,
    "start_time": "2024-12-28T20:35:52.682Z"
   },
   {
    "duration": 39,
    "start_time": "2024-12-28T20:35:52.687Z"
   },
   {
    "duration": 3,
    "start_time": "2024-12-28T20:35:52.734Z"
   },
   {
    "duration": 7,
    "start_time": "2024-12-28T20:35:52.740Z"
   },
   {
    "duration": 27,
    "start_time": "2024-12-28T20:35:52.748Z"
   },
   {
    "duration": 4,
    "start_time": "2024-12-28T20:35:52.777Z"
   },
   {
    "duration": 5,
    "start_time": "2024-12-28T20:35:52.783Z"
   },
   {
    "duration": 19,
    "start_time": "2024-12-28T20:35:52.790Z"
   },
   {
    "duration": 8,
    "start_time": "2024-12-28T20:35:52.829Z"
   },
   {
    "duration": 4,
    "start_time": "2024-12-28T20:35:52.841Z"
   },
   {
    "duration": 6,
    "start_time": "2024-12-28T20:35:52.850Z"
   },
   {
    "duration": 4,
    "start_time": "2024-12-28T20:35:52.857Z"
   },
   {
    "duration": 4,
    "start_time": "2024-12-28T20:35:52.863Z"
   },
   {
    "duration": 2,
    "start_time": "2024-12-28T20:35:52.869Z"
   },
   {
    "duration": 1773,
    "start_time": "2024-12-28T20:35:52.873Z"
   },
   {
    "duration": 9,
    "start_time": "2024-12-28T20:35:54.648Z"
   },
   {
    "duration": 19,
    "start_time": "2024-12-28T20:35:54.659Z"
   },
   {
    "duration": 4,
    "start_time": "2024-12-28T20:35:54.680Z"
   },
   {
    "duration": 7,
    "start_time": "2024-12-28T20:35:54.685Z"
   },
   {
    "duration": 5,
    "start_time": "2024-12-28T20:35:54.693Z"
   },
   {
    "duration": 22,
    "start_time": "2024-12-28T20:35:54.699Z"
   },
   {
    "duration": 2,
    "start_time": "2024-12-28T20:35:54.722Z"
   },
   {
    "duration": 8,
    "start_time": "2024-12-28T20:35:54.725Z"
   },
   {
    "duration": 22,
    "start_time": "2024-12-28T20:35:54.735Z"
   },
   {
    "duration": 612,
    "start_time": "2024-12-28T20:35:54.759Z"
   },
   {
    "duration": 43,
    "start_time": "2024-12-28T20:35:55.373Z"
   },
   {
    "duration": 15,
    "start_time": "2024-12-28T20:35:55.417Z"
   },
   {
    "duration": 319,
    "start_time": "2024-12-28T20:35:55.434Z"
   },
   {
    "duration": 0,
    "start_time": "2024-12-28T20:35:55.755Z"
   },
   {
    "duration": 0,
    "start_time": "2024-12-28T20:35:55.756Z"
   },
   {
    "duration": 0,
    "start_time": "2024-12-28T20:35:55.758Z"
   },
   {
    "duration": 0,
    "start_time": "2024-12-28T20:35:55.759Z"
   },
   {
    "duration": 0,
    "start_time": "2024-12-28T20:35:55.761Z"
   },
   {
    "duration": 0,
    "start_time": "2024-12-28T20:35:55.763Z"
   },
   {
    "duration": 20,
    "start_time": "2024-12-28T20:37:58.274Z"
   },
   {
    "duration": 30,
    "start_time": "2024-12-28T20:38:34.045Z"
   },
   {
    "duration": 1034,
    "start_time": "2024-12-28T20:39:00.185Z"
   },
   {
    "duration": 16,
    "start_time": "2024-12-28T20:39:01.221Z"
   },
   {
    "duration": 17,
    "start_time": "2024-12-28T20:39:01.239Z"
   },
   {
    "duration": 7,
    "start_time": "2024-12-28T20:39:01.260Z"
   },
   {
    "duration": 18,
    "start_time": "2024-12-28T20:39:01.271Z"
   },
   {
    "duration": 4,
    "start_time": "2024-12-28T20:39:01.305Z"
   },
   {
    "duration": 7,
    "start_time": "2024-12-28T20:39:01.311Z"
   },
   {
    "duration": 35,
    "start_time": "2024-12-28T20:39:01.320Z"
   },
   {
    "duration": 5,
    "start_time": "2024-12-28T20:39:01.358Z"
   },
   {
    "duration": 6,
    "start_time": "2024-12-28T20:39:01.367Z"
   },
   {
    "duration": 33,
    "start_time": "2024-12-28T20:39:01.375Z"
   },
   {
    "duration": 3,
    "start_time": "2024-12-28T20:39:01.410Z"
   },
   {
    "duration": 5,
    "start_time": "2024-12-28T20:39:01.414Z"
   },
   {
    "duration": 5,
    "start_time": "2024-12-28T20:39:01.421Z"
   },
   {
    "duration": 3,
    "start_time": "2024-12-28T20:39:01.428Z"
   },
   {
    "duration": 4,
    "start_time": "2024-12-28T20:39:01.433Z"
   },
   {
    "duration": 3,
    "start_time": "2024-12-28T20:39:01.438Z"
   },
   {
    "duration": 2087,
    "start_time": "2024-12-28T20:39:01.443Z"
   },
   {
    "duration": 11,
    "start_time": "2024-12-28T20:39:03.531Z"
   },
   {
    "duration": 16,
    "start_time": "2024-12-28T20:39:03.543Z"
   },
   {
    "duration": 4,
    "start_time": "2024-12-28T20:39:03.561Z"
   },
   {
    "duration": 7,
    "start_time": "2024-12-28T20:39:03.567Z"
   },
   {
    "duration": 4,
    "start_time": "2024-12-28T20:39:03.576Z"
   },
   {
    "duration": 8,
    "start_time": "2024-12-28T20:39:03.581Z"
   },
   {
    "duration": 2,
    "start_time": "2024-12-28T20:39:03.604Z"
   },
   {
    "duration": 2,
    "start_time": "2024-12-28T20:39:03.608Z"
   },
   {
    "duration": 22,
    "start_time": "2024-12-28T20:39:03.612Z"
   },
   {
    "duration": 620,
    "start_time": "2024-12-28T20:39:03.637Z"
   },
   {
    "duration": 31,
    "start_time": "2024-12-28T20:39:04.259Z"
   },
   {
    "duration": 16,
    "start_time": "2024-12-28T20:39:04.291Z"
   },
   {
    "duration": 324,
    "start_time": "2024-12-28T20:39:04.309Z"
   },
   {
    "duration": 0,
    "start_time": "2024-12-28T20:39:04.635Z"
   },
   {
    "duration": 0,
    "start_time": "2024-12-28T20:39:04.637Z"
   },
   {
    "duration": 0,
    "start_time": "2024-12-28T20:39:04.638Z"
   },
   {
    "duration": 0,
    "start_time": "2024-12-28T20:39:04.640Z"
   },
   {
    "duration": 0,
    "start_time": "2024-12-28T20:39:04.641Z"
   },
   {
    "duration": 0,
    "start_time": "2024-12-28T20:39:04.642Z"
   },
   {
    "duration": 1038,
    "start_time": "2024-12-28T20:46:41.356Z"
   },
   {
    "duration": 15,
    "start_time": "2024-12-28T20:46:42.396Z"
   },
   {
    "duration": 17,
    "start_time": "2024-12-28T20:46:42.412Z"
   },
   {
    "duration": 8,
    "start_time": "2024-12-28T20:46:42.439Z"
   },
   {
    "duration": 10,
    "start_time": "2024-12-28T20:46:42.448Z"
   },
   {
    "duration": 3,
    "start_time": "2024-12-28T20:46:42.460Z"
   },
   {
    "duration": 6,
    "start_time": "2024-12-28T20:46:42.465Z"
   },
   {
    "duration": 48,
    "start_time": "2024-12-28T20:46:42.472Z"
   },
   {
    "duration": 5,
    "start_time": "2024-12-28T20:46:42.522Z"
   },
   {
    "duration": 4,
    "start_time": "2024-12-28T20:46:42.531Z"
   },
   {
    "duration": 6,
    "start_time": "2024-12-28T20:46:42.537Z"
   },
   {
    "duration": 4,
    "start_time": "2024-12-28T20:46:42.544Z"
   },
   {
    "duration": 5,
    "start_time": "2024-12-28T20:46:42.549Z"
   },
   {
    "duration": 6,
    "start_time": "2024-12-28T20:46:42.555Z"
   },
   {
    "duration": 42,
    "start_time": "2024-12-28T20:46:42.563Z"
   },
   {
    "duration": 4,
    "start_time": "2024-12-28T20:46:42.607Z"
   },
   {
    "duration": 2,
    "start_time": "2024-12-28T20:46:42.613Z"
   },
   {
    "duration": 1849,
    "start_time": "2024-12-28T20:46:42.617Z"
   },
   {
    "duration": 10,
    "start_time": "2024-12-28T20:46:44.467Z"
   },
   {
    "duration": 15,
    "start_time": "2024-12-28T20:46:44.478Z"
   },
   {
    "duration": 4,
    "start_time": "2024-12-28T20:46:44.495Z"
   },
   {
    "duration": 8,
    "start_time": "2024-12-28T20:46:44.500Z"
   },
   {
    "duration": 4,
    "start_time": "2024-12-28T20:46:44.509Z"
   },
   {
    "duration": 9,
    "start_time": "2024-12-28T20:46:44.515Z"
   },
   {
    "duration": 535,
    "start_time": "2024-12-28T20:46:44.525Z"
   },
   {
    "duration": 2,
    "start_time": "2024-12-28T20:46:45.062Z"
   },
   {
    "duration": 31,
    "start_time": "2024-12-28T20:48:00.950Z"
   },
   {
    "duration": 6,
    "start_time": "2024-12-28T20:48:00.986Z"
   },
   {
    "duration": 12,
    "start_time": "2024-12-28T20:48:00.993Z"
   },
   {
    "duration": 3,
    "start_time": "2024-12-28T20:48:01.006Z"
   },
   {
    "duration": 31,
    "start_time": "2024-12-28T20:48:01.011Z"
   },
   {
    "duration": 569,
    "start_time": "2024-12-28T20:48:01.045Z"
   },
   {
    "duration": 45,
    "start_time": "2024-12-28T20:48:01.616Z"
   },
   {
    "duration": 3,
    "start_time": "2024-12-28T20:48:01.663Z"
   },
   {
    "duration": 268,
    "start_time": "2024-12-28T20:48:01.667Z"
   },
   {
    "duration": 0,
    "start_time": "2024-12-28T20:48:01.937Z"
   },
   {
    "duration": 0,
    "start_time": "2024-12-28T20:48:01.938Z"
   },
   {
    "duration": 0,
    "start_time": "2024-12-28T20:48:01.939Z"
   },
   {
    "duration": 0,
    "start_time": "2024-12-28T20:48:01.940Z"
   },
   {
    "duration": 0,
    "start_time": "2024-12-28T20:48:01.942Z"
   },
   {
    "duration": 0,
    "start_time": "2024-12-28T20:48:01.944Z"
   },
   {
    "duration": 0,
    "start_time": "2024-12-28T20:48:01.944Z"
   },
   {
    "duration": 93639,
    "start_time": "2024-12-28T20:48:17.018Z"
   },
   {
    "duration": 1023,
    "start_time": "2024-12-28T20:49:55.142Z"
   },
   {
    "duration": 15,
    "start_time": "2024-12-28T20:49:56.168Z"
   },
   {
    "duration": 12,
    "start_time": "2024-12-28T20:49:56.185Z"
   },
   {
    "duration": 3,
    "start_time": "2024-12-28T20:49:56.206Z"
   },
   {
    "duration": 11,
    "start_time": "2024-12-28T20:49:56.211Z"
   },
   {
    "duration": 3,
    "start_time": "2024-12-28T20:49:56.223Z"
   },
   {
    "duration": 5,
    "start_time": "2024-12-28T20:49:56.228Z"
   },
   {
    "duration": 27,
    "start_time": "2024-12-28T20:49:56.235Z"
   },
   {
    "duration": 4,
    "start_time": "2024-12-28T20:49:56.263Z"
   },
   {
    "duration": 4,
    "start_time": "2024-12-28T20:49:56.306Z"
   },
   {
    "duration": 6,
    "start_time": "2024-12-28T20:49:56.312Z"
   },
   {
    "duration": 3,
    "start_time": "2024-12-28T20:49:56.319Z"
   },
   {
    "duration": 3,
    "start_time": "2024-12-28T20:49:56.324Z"
   },
   {
    "duration": 6,
    "start_time": "2024-12-28T20:49:56.329Z"
   },
   {
    "duration": 3,
    "start_time": "2024-12-28T20:49:56.336Z"
   },
   {
    "duration": 3,
    "start_time": "2024-12-28T20:49:56.341Z"
   },
   {
    "duration": 2,
    "start_time": "2024-12-28T20:49:56.346Z"
   },
   {
    "duration": 1796,
    "start_time": "2024-12-28T20:49:56.349Z"
   },
   {
    "duration": 9,
    "start_time": "2024-12-28T20:49:58.148Z"
   },
   {
    "duration": 15,
    "start_time": "2024-12-28T20:49:58.159Z"
   },
   {
    "duration": 3,
    "start_time": "2024-12-28T20:49:58.176Z"
   },
   {
    "duration": 7,
    "start_time": "2024-12-28T20:49:58.181Z"
   },
   {
    "duration": 4,
    "start_time": "2024-12-28T20:49:58.205Z"
   },
   {
    "duration": 8,
    "start_time": "2024-12-28T20:49:58.211Z"
   },
   {
    "duration": 527,
    "start_time": "2024-12-28T20:49:58.221Z"
   },
   {
    "duration": 3,
    "start_time": "2024-12-28T20:49:58.750Z"
   },
   {
    "duration": 62363,
    "start_time": "2024-12-28T20:49:58.754Z"
   },
   {
    "duration": 27,
    "start_time": "2024-12-28T20:51:01.121Z"
   },
   {
    "duration": 5,
    "start_time": "2024-12-28T20:51:01.149Z"
   },
   {
    "duration": 2,
    "start_time": "2024-12-28T20:51:01.155Z"
   },
   {
    "duration": 3,
    "start_time": "2024-12-28T20:51:01.159Z"
   },
   {
    "duration": 46,
    "start_time": "2024-12-28T20:51:01.163Z"
   },
   {
    "duration": 531,
    "start_time": "2024-12-28T20:51:01.210Z"
   },
   {
    "duration": 36,
    "start_time": "2024-12-28T20:51:01.743Z"
   },
   {
    "duration": 3,
    "start_time": "2024-12-28T20:51:01.782Z"
   },
   {
    "duration": 3,
    "start_time": "2024-12-28T20:51:01.806Z"
   },
   {
    "duration": 29,
    "start_time": "2024-12-28T20:51:01.811Z"
   },
   {
    "duration": 67,
    "start_time": "2024-12-28T20:51:01.841Z"
   },
   {
    "duration": 237,
    "start_time": "2024-12-28T20:51:01.910Z"
   },
   {
    "duration": 0,
    "start_time": "2024-12-28T20:51:02.149Z"
   },
   {
    "duration": 0,
    "start_time": "2024-12-28T20:51:02.150Z"
   },
   {
    "duration": 1106,
    "start_time": "2024-12-28T21:18:52.486Z"
   },
   {
    "duration": 17,
    "start_time": "2024-12-28T21:18:53.594Z"
   },
   {
    "duration": 31,
    "start_time": "2024-12-28T21:18:53.613Z"
   },
   {
    "duration": 5,
    "start_time": "2024-12-28T21:18:53.649Z"
   },
   {
    "duration": 10,
    "start_time": "2024-12-28T21:18:53.656Z"
   },
   {
    "duration": 4,
    "start_time": "2024-12-28T21:18:53.668Z"
   },
   {
    "duration": 6,
    "start_time": "2024-12-28T21:18:53.673Z"
   },
   {
    "duration": 47,
    "start_time": "2024-12-28T21:18:53.680Z"
   },
   {
    "duration": 8,
    "start_time": "2024-12-28T21:18:53.729Z"
   },
   {
    "duration": 7,
    "start_time": "2024-12-28T21:18:53.744Z"
   },
   {
    "duration": 7,
    "start_time": "2024-12-28T21:18:53.754Z"
   },
   {
    "duration": 3,
    "start_time": "2024-12-28T21:18:53.762Z"
   },
   {
    "duration": 3,
    "start_time": "2024-12-28T21:18:53.767Z"
   },
   {
    "duration": 5,
    "start_time": "2024-12-28T21:18:53.772Z"
   },
   {
    "duration": 26,
    "start_time": "2024-12-28T21:18:53.779Z"
   },
   {
    "duration": 5,
    "start_time": "2024-12-28T21:18:53.807Z"
   },
   {
    "duration": 3,
    "start_time": "2024-12-28T21:18:53.814Z"
   },
   {
    "duration": 2001,
    "start_time": "2024-12-28T21:18:53.820Z"
   },
   {
    "duration": 10,
    "start_time": "2024-12-28T21:18:55.823Z"
   },
   {
    "duration": 23,
    "start_time": "2024-12-28T21:18:55.835Z"
   },
   {
    "duration": 4,
    "start_time": "2024-12-28T21:18:55.860Z"
   },
   {
    "duration": 9,
    "start_time": "2024-12-28T21:18:55.865Z"
   },
   {
    "duration": 4,
    "start_time": "2024-12-28T21:18:55.875Z"
   },
   {
    "duration": 7,
    "start_time": "2024-12-28T21:18:55.881Z"
   },
   {
    "duration": 23,
    "start_time": "2024-12-28T21:18:55.890Z"
   },
   {
    "duration": 7,
    "start_time": "2024-12-28T21:18:55.915Z"
   },
   {
    "duration": 5,
    "start_time": "2024-12-28T21:18:55.924Z"
   },
   {
    "duration": 5,
    "start_time": "2024-12-28T21:18:55.933Z"
   },
   {
    "duration": 2,
    "start_time": "2024-12-28T21:18:55.940Z"
   },
   {
    "duration": 3,
    "start_time": "2024-12-28T21:18:55.944Z"
   },
   {
    "duration": 393,
    "start_time": "2024-12-28T21:18:55.948Z"
   },
   {
    "duration": 0,
    "start_time": "2024-12-28T21:18:56.343Z"
   },
   {
    "duration": 0,
    "start_time": "2024-12-28T21:18:56.344Z"
   },
   {
    "duration": 0,
    "start_time": "2024-12-28T21:18:56.346Z"
   },
   {
    "duration": 0,
    "start_time": "2024-12-28T21:18:56.347Z"
   },
   {
    "duration": 0,
    "start_time": "2024-12-28T21:18:56.348Z"
   },
   {
    "duration": 0,
    "start_time": "2024-12-28T21:18:56.349Z"
   },
   {
    "duration": 0,
    "start_time": "2024-12-28T21:18:56.351Z"
   },
   {
    "duration": 0,
    "start_time": "2024-12-28T21:18:56.352Z"
   },
   {
    "duration": 0,
    "start_time": "2024-12-28T21:18:56.354Z"
   },
   {
    "duration": 15,
    "start_time": "2024-12-28T21:24:41.145Z"
   },
   {
    "duration": 2,
    "start_time": "2024-12-28T21:25:43.898Z"
   },
   {
    "duration": 14,
    "start_time": "2024-12-28T21:25:45.405Z"
   },
   {
    "duration": 4,
    "start_time": "2024-12-28T21:25:56.907Z"
   },
   {
    "duration": 3,
    "start_time": "2024-12-28T21:26:04.309Z"
   },
   {
    "duration": 1187,
    "start_time": "2024-12-28T21:29:11.502Z"
   },
   {
    "duration": 22,
    "start_time": "2024-12-28T21:29:12.692Z"
   },
   {
    "duration": 18,
    "start_time": "2024-12-28T21:29:12.718Z"
   },
   {
    "duration": 5,
    "start_time": "2024-12-28T21:29:12.741Z"
   },
   {
    "duration": 12,
    "start_time": "2024-12-28T21:29:12.748Z"
   },
   {
    "duration": 3,
    "start_time": "2024-12-28T21:29:12.763Z"
   },
   {
    "duration": 6,
    "start_time": "2024-12-28T21:29:12.768Z"
   },
   {
    "duration": 52,
    "start_time": "2024-12-28T21:29:12.776Z"
   },
   {
    "duration": 6,
    "start_time": "2024-12-28T21:29:12.830Z"
   },
   {
    "duration": 4,
    "start_time": "2024-12-28T21:29:12.840Z"
   },
   {
    "duration": 8,
    "start_time": "2024-12-28T21:29:12.846Z"
   },
   {
    "duration": 3,
    "start_time": "2024-12-28T21:29:12.856Z"
   },
   {
    "duration": 4,
    "start_time": "2024-12-28T21:29:12.860Z"
   },
   {
    "duration": 40,
    "start_time": "2024-12-28T21:29:12.866Z"
   },
   {
    "duration": 5,
    "start_time": "2024-12-28T21:29:12.908Z"
   },
   {
    "duration": 4,
    "start_time": "2024-12-28T21:29:12.915Z"
   },
   {
    "duration": 3,
    "start_time": "2024-12-28T21:29:12.921Z"
   },
   {
    "duration": 1847,
    "start_time": "2024-12-28T21:29:12.925Z"
   },
   {
    "duration": 9,
    "start_time": "2024-12-28T21:29:14.774Z"
   },
   {
    "duration": 19,
    "start_time": "2024-12-28T21:29:14.785Z"
   },
   {
    "duration": 3,
    "start_time": "2024-12-28T21:29:14.807Z"
   },
   {
    "duration": 9,
    "start_time": "2024-12-28T21:29:14.812Z"
   },
   {
    "duration": 5,
    "start_time": "2024-12-28T21:29:14.822Z"
   },
   {
    "duration": 8,
    "start_time": "2024-12-28T21:29:14.828Z"
   },
   {
    "duration": 9,
    "start_time": "2024-12-28T21:29:14.838Z"
   },
   {
    "duration": 6,
    "start_time": "2024-12-28T21:29:14.849Z"
   },
   {
    "duration": 5,
    "start_time": "2024-12-28T21:29:14.857Z"
   },
   {
    "duration": 40,
    "start_time": "2024-12-28T21:29:14.867Z"
   },
   {
    "duration": 3,
    "start_time": "2024-12-28T21:29:14.910Z"
   },
   {
    "duration": 4,
    "start_time": "2024-12-28T21:29:14.915Z"
   },
   {
    "duration": 3,
    "start_time": "2024-12-28T21:29:14.921Z"
   },
   {
    "duration": 189832,
    "start_time": "2024-12-28T21:29:14.926Z"
   },
   {
    "duration": 3,
    "start_time": "2024-12-28T21:32:24.760Z"
   },
   {
    "duration": 291,
    "start_time": "2024-12-28T21:32:24.765Z"
   },
   {
    "duration": 33,
    "start_time": "2024-12-28T21:32:25.058Z"
   },
   {
    "duration": 8,
    "start_time": "2024-12-28T21:32:25.092Z"
   },
   {
    "duration": 52,
    "start_time": "2024-12-28T21:32:25.102Z"
   },
   {
    "duration": 297,
    "start_time": "2024-12-28T21:32:25.156Z"
   },
   {
    "duration": 0,
    "start_time": "2024-12-28T21:32:25.455Z"
   },
   {
    "duration": 0,
    "start_time": "2024-12-28T21:32:25.455Z"
   },
   {
    "duration": 153,
    "start_time": "2024-12-28T21:34:55.626Z"
   },
   {
    "duration": 26,
    "start_time": "2024-12-28T21:35:04.203Z"
   },
   {
    "duration": 1038,
    "start_time": "2024-12-28T21:52:44.046Z"
   },
   {
    "duration": 20,
    "start_time": "2024-12-28T21:52:45.086Z"
   },
   {
    "duration": 13,
    "start_time": "2024-12-28T21:52:45.107Z"
   },
   {
    "duration": 3,
    "start_time": "2024-12-28T21:52:45.123Z"
   },
   {
    "duration": 10,
    "start_time": "2024-12-28T21:52:45.128Z"
   },
   {
    "duration": 3,
    "start_time": "2024-12-28T21:52:45.139Z"
   },
   {
    "duration": 6,
    "start_time": "2024-12-28T21:52:45.143Z"
   },
   {
    "duration": 59,
    "start_time": "2024-12-28T21:52:45.152Z"
   },
   {
    "duration": 6,
    "start_time": "2024-12-28T21:52:45.213Z"
   },
   {
    "duration": 5,
    "start_time": "2024-12-28T21:52:45.223Z"
   },
   {
    "duration": 6,
    "start_time": "2024-12-28T21:52:45.229Z"
   },
   {
    "duration": 3,
    "start_time": "2024-12-28T21:52:45.237Z"
   },
   {
    "duration": 4,
    "start_time": "2024-12-28T21:52:45.241Z"
   },
   {
    "duration": 6,
    "start_time": "2024-12-28T21:52:45.246Z"
   },
   {
    "duration": 5,
    "start_time": "2024-12-28T21:52:45.253Z"
   },
   {
    "duration": 46,
    "start_time": "2024-12-28T21:52:45.259Z"
   },
   {
    "duration": 2,
    "start_time": "2024-12-28T21:52:45.307Z"
   },
   {
    "duration": 1831,
    "start_time": "2024-12-28T21:52:45.311Z"
   },
   {
    "duration": 9,
    "start_time": "2024-12-28T21:52:47.144Z"
   },
   {
    "duration": 15,
    "start_time": "2024-12-28T21:52:47.155Z"
   },
   {
    "duration": 4,
    "start_time": "2024-12-28T21:52:47.171Z"
   },
   {
    "duration": 3,
    "start_time": "2024-12-28T21:52:47.176Z"
   },
   {
    "duration": 4,
    "start_time": "2024-12-28T21:52:47.181Z"
   },
   {
    "duration": 19,
    "start_time": "2024-12-28T21:52:47.186Z"
   },
   {
    "duration": 13,
    "start_time": "2024-12-28T21:52:47.206Z"
   },
   {
    "duration": 10,
    "start_time": "2024-12-28T21:52:47.221Z"
   },
   {
    "duration": 12,
    "start_time": "2024-12-28T21:52:47.232Z"
   },
   {
    "duration": 2,
    "start_time": "2024-12-28T21:52:47.248Z"
   },
   {
    "duration": 3,
    "start_time": "2024-12-28T21:52:47.252Z"
   },
   {
    "duration": 4,
    "start_time": "2024-12-28T21:52:47.256Z"
   },
   {
    "duration": 261496,
    "start_time": "2024-12-28T21:52:47.262Z"
   },
   {
    "duration": 2,
    "start_time": "2024-12-28T21:57:08.761Z"
   },
   {
    "duration": 731,
    "start_time": "2024-12-28T21:57:08.765Z"
   },
   {
    "duration": 76,
    "start_time": "2024-12-28T21:57:09.498Z"
   },
   {
    "duration": 7,
    "start_time": "2024-12-28T21:57:09.576Z"
   },
   {
    "duration": 82,
    "start_time": "2024-12-28T21:57:09.585Z"
   },
   {
    "duration": 164,
    "start_time": "2024-12-28T21:57:09.668Z"
   },
   {
    "duration": 3,
    "start_time": "2024-12-28T21:57:09.833Z"
   },
   {
    "duration": 170,
    "start_time": "2024-12-28T22:26:57.594Z"
   },
   {
    "duration": 1172,
    "start_time": "2024-12-28T22:27:08.010Z"
   },
   {
    "duration": 16,
    "start_time": "2024-12-28T22:27:09.185Z"
   },
   {
    "duration": 14,
    "start_time": "2024-12-28T22:27:09.202Z"
   },
   {
    "duration": 3,
    "start_time": "2024-12-28T22:27:09.220Z"
   },
   {
    "duration": 10,
    "start_time": "2024-12-28T22:27:09.225Z"
   },
   {
    "duration": 3,
    "start_time": "2024-12-28T22:27:09.237Z"
   },
   {
    "duration": 7,
    "start_time": "2024-12-28T22:27:09.241Z"
   },
   {
    "duration": 58,
    "start_time": "2024-12-28T22:27:09.250Z"
   },
   {
    "duration": 6,
    "start_time": "2024-12-28T22:27:09.310Z"
   },
   {
    "duration": 6,
    "start_time": "2024-12-28T22:27:09.318Z"
   },
   {
    "duration": 7,
    "start_time": "2024-12-28T22:27:09.325Z"
   },
   {
    "duration": 4,
    "start_time": "2024-12-28T22:27:09.333Z"
   },
   {
    "duration": 4,
    "start_time": "2024-12-28T22:27:09.339Z"
   },
   {
    "duration": 7,
    "start_time": "2024-12-28T22:27:09.347Z"
   },
   {
    "duration": 4,
    "start_time": "2024-12-28T22:27:09.355Z"
   },
   {
    "duration": 4,
    "start_time": "2024-12-28T22:27:09.405Z"
   },
   {
    "duration": 2,
    "start_time": "2024-12-28T22:27:09.411Z"
   },
   {
    "duration": 1839,
    "start_time": "2024-12-28T22:27:09.415Z"
   },
   {
    "duration": 10,
    "start_time": "2024-12-28T22:27:11.257Z"
   },
   {
    "duration": 19,
    "start_time": "2024-12-28T22:27:11.269Z"
   },
   {
    "duration": 4,
    "start_time": "2024-12-28T22:27:11.289Z"
   },
   {
    "duration": 10,
    "start_time": "2024-12-28T22:27:11.296Z"
   },
   {
    "duration": 3,
    "start_time": "2024-12-28T22:27:11.308Z"
   },
   {
    "duration": 10,
    "start_time": "2024-12-28T22:27:11.313Z"
   },
   {
    "duration": 12,
    "start_time": "2024-12-28T22:27:11.324Z"
   },
   {
    "duration": 9,
    "start_time": "2024-12-28T22:27:11.337Z"
   },
   {
    "duration": 4,
    "start_time": "2024-12-28T22:27:11.347Z"
   },
   {
    "duration": 3,
    "start_time": "2024-12-28T22:27:11.352Z"
   },
   {
    "duration": 4,
    "start_time": "2024-12-28T22:27:11.357Z"
   },
   {
    "duration": 3,
    "start_time": "2024-12-28T22:27:11.363Z"
   },
   {
    "duration": 2,
    "start_time": "2024-12-28T22:27:11.406Z"
   },
   {
    "duration": 2,
    "start_time": "2024-12-28T22:27:11.410Z"
   },
   {
    "duration": 261955,
    "start_time": "2024-12-28T22:27:11.414Z"
   },
   {
    "duration": 246,
    "start_time": "2024-12-28T22:31:33.371Z"
   },
   {
    "duration": 0,
    "start_time": "2024-12-28T22:31:33.619Z"
   },
   {
    "duration": 0,
    "start_time": "2024-12-28T22:31:33.620Z"
   },
   {
    "duration": 0,
    "start_time": "2024-12-28T22:31:33.622Z"
   },
   {
    "duration": 0,
    "start_time": "2024-12-28T22:31:33.623Z"
   },
   {
    "duration": 0,
    "start_time": "2024-12-28T22:31:33.624Z"
   },
   {
    "duration": 2,
    "start_time": "2024-12-28T22:33:45.635Z"
   },
   {
    "duration": 72,
    "start_time": "2024-12-28T22:33:45.639Z"
   },
   {
    "duration": 65,
    "start_time": "2024-12-28T22:33:45.713Z"
   },
   {
    "duration": 157,
    "start_time": "2024-12-28T22:33:45.780Z"
   },
   {
    "duration": 3,
    "start_time": "2024-12-28T22:33:45.940Z"
   },
   {
    "duration": 1069,
    "start_time": "2024-12-28T22:34:20.214Z"
   },
   {
    "duration": 33,
    "start_time": "2024-12-28T22:34:21.285Z"
   },
   {
    "duration": 12,
    "start_time": "2024-12-28T22:34:21.320Z"
   },
   {
    "duration": 4,
    "start_time": "2024-12-28T22:34:21.334Z"
   },
   {
    "duration": 10,
    "start_time": "2024-12-28T22:34:21.339Z"
   },
   {
    "duration": 5,
    "start_time": "2024-12-28T22:34:21.351Z"
   },
   {
    "duration": 7,
    "start_time": "2024-12-28T22:34:21.357Z"
   },
   {
    "duration": 56,
    "start_time": "2024-12-28T22:34:21.366Z"
   },
   {
    "duration": 6,
    "start_time": "2024-12-28T22:34:21.424Z"
   },
   {
    "duration": 5,
    "start_time": "2024-12-28T22:34:21.434Z"
   },
   {
    "duration": 6,
    "start_time": "2024-12-28T22:34:21.440Z"
   },
   {
    "duration": 2,
    "start_time": "2024-12-28T22:34:21.448Z"
   },
   {
    "duration": 3,
    "start_time": "2024-12-28T22:34:21.453Z"
   },
   {
    "duration": 6,
    "start_time": "2024-12-28T22:34:21.458Z"
   },
   {
    "duration": 42,
    "start_time": "2024-12-28T22:34:21.465Z"
   },
   {
    "duration": 5,
    "start_time": "2024-12-28T22:34:21.509Z"
   },
   {
    "duration": 4,
    "start_time": "2024-12-28T22:34:21.515Z"
   },
   {
    "duration": 1845,
    "start_time": "2024-12-28T22:34:21.521Z"
   },
   {
    "duration": 9,
    "start_time": "2024-12-28T22:34:23.368Z"
   },
   {
    "duration": 16,
    "start_time": "2024-12-28T22:34:23.378Z"
   },
   {
    "duration": 4,
    "start_time": "2024-12-28T22:34:23.396Z"
   },
   {
    "duration": 4,
    "start_time": "2024-12-28T22:34:23.406Z"
   },
   {
    "duration": 4,
    "start_time": "2024-12-28T22:34:23.412Z"
   },
   {
    "duration": 11,
    "start_time": "2024-12-28T22:34:23.417Z"
   },
   {
    "duration": 13,
    "start_time": "2024-12-28T22:34:23.430Z"
   },
   {
    "duration": 11,
    "start_time": "2024-12-28T22:34:23.445Z"
   },
   {
    "duration": 3,
    "start_time": "2024-12-28T22:34:23.458Z"
   },
   {
    "duration": 3,
    "start_time": "2024-12-28T22:34:23.465Z"
   },
   {
    "duration": 39,
    "start_time": "2024-12-28T22:34:23.469Z"
   },
   {
    "duration": 5,
    "start_time": "2024-12-28T22:34:23.511Z"
   },
   {
    "duration": 4,
    "start_time": "2024-12-28T22:34:23.518Z"
   },
   {
    "duration": 3,
    "start_time": "2024-12-28T22:34:23.524Z"
   },
   {
    "duration": 1052,
    "start_time": "2024-12-28T22:43:46.104Z"
   },
   {
    "duration": 16,
    "start_time": "2024-12-28T22:43:47.159Z"
   },
   {
    "duration": 11,
    "start_time": "2024-12-28T22:43:47.176Z"
   },
   {
    "duration": 17,
    "start_time": "2024-12-28T22:43:47.189Z"
   },
   {
    "duration": 10,
    "start_time": "2024-12-28T22:43:47.208Z"
   },
   {
    "duration": 3,
    "start_time": "2024-12-28T22:43:47.220Z"
   },
   {
    "duration": 6,
    "start_time": "2024-12-28T22:43:47.225Z"
   },
   {
    "duration": 29,
    "start_time": "2024-12-28T22:43:47.232Z"
   },
   {
    "duration": 4,
    "start_time": "2024-12-28T22:43:47.263Z"
   },
   {
    "duration": 38,
    "start_time": "2024-12-28T22:43:47.271Z"
   },
   {
    "duration": 6,
    "start_time": "2024-12-28T22:43:47.311Z"
   },
   {
    "duration": 3,
    "start_time": "2024-12-28T22:43:47.318Z"
   },
   {
    "duration": 4,
    "start_time": "2024-12-28T22:43:47.323Z"
   },
   {
    "duration": 6,
    "start_time": "2024-12-28T22:43:47.329Z"
   },
   {
    "duration": 4,
    "start_time": "2024-12-28T22:43:47.336Z"
   },
   {
    "duration": 4,
    "start_time": "2024-12-28T22:43:47.341Z"
   },
   {
    "duration": 3,
    "start_time": "2024-12-28T22:43:47.346Z"
   },
   {
    "duration": 1863,
    "start_time": "2024-12-28T22:43:47.351Z"
   },
   {
    "duration": 10,
    "start_time": "2024-12-28T22:43:49.216Z"
   },
   {
    "duration": 16,
    "start_time": "2024-12-28T22:43:49.228Z"
   },
   {
    "duration": 4,
    "start_time": "2024-12-28T22:43:49.245Z"
   },
   {
    "duration": 2,
    "start_time": "2024-12-28T22:43:49.251Z"
   },
   {
    "duration": 4,
    "start_time": "2024-12-28T22:43:49.254Z"
   },
   {
    "duration": 10,
    "start_time": "2024-12-28T22:43:49.259Z"
   },
   {
    "duration": 41,
    "start_time": "2024-12-28T22:43:49.270Z"
   },
   {
    "duration": 11,
    "start_time": "2024-12-28T22:43:49.313Z"
   },
   {
    "duration": 3,
    "start_time": "2024-12-28T22:43:49.326Z"
   },
   {
    "duration": 3,
    "start_time": "2024-12-28T22:43:49.335Z"
   },
   {
    "duration": 4,
    "start_time": "2024-12-28T22:43:49.340Z"
   },
   {
    "duration": 3,
    "start_time": "2024-12-28T22:43:49.345Z"
   },
   {
    "duration": 3,
    "start_time": "2024-12-28T22:43:49.350Z"
   },
   {
    "duration": 3,
    "start_time": "2024-12-28T22:43:49.355Z"
   },
   {
    "duration": 3,
    "start_time": "2024-12-28T22:43:49.359Z"
   },
   {
    "duration": 262548,
    "start_time": "2024-12-28T22:43:49.363Z"
   },
   {
    "duration": 89748,
    "start_time": "2024-12-28T22:48:11.913Z"
   },
   {
    "duration": 82,
    "start_time": "2024-12-28T22:49:41.663Z"
   },
   {
    "duration": 59,
    "start_time": "2024-12-28T22:49:41.746Z"
   },
   {
    "duration": 3,
    "start_time": "2024-12-28T22:49:41.807Z"
   },
   {
    "duration": 49,
    "start_time": "2024-12-28T22:49:41.811Z"
   },
   {
    "duration": 25,
    "start_time": "2024-12-28T22:49:41.862Z"
   },
   {
    "duration": 130,
    "start_time": "2024-12-28T22:49:41.905Z"
   },
   {
    "duration": 3,
    "start_time": "2024-12-28T22:49:42.037Z"
   },
   {
    "duration": 2838,
    "start_time": "2024-12-30T18:00:35.804Z"
   },
   {
    "duration": 26,
    "start_time": "2024-12-30T18:00:41.874Z"
   },
   {
    "duration": 13,
    "start_time": "2024-12-30T18:00:44.057Z"
   },
   {
    "duration": 4,
    "start_time": "2024-12-30T18:00:48.536Z"
   },
   {
    "duration": 10,
    "start_time": "2024-12-30T18:00:54.667Z"
   },
   {
    "duration": 3,
    "start_time": "2024-12-30T18:01:00.477Z"
   },
   {
    "duration": 7,
    "start_time": "2024-12-30T18:01:03.095Z"
   },
   {
    "duration": 28,
    "start_time": "2024-12-30T18:01:05.341Z"
   },
   {
    "duration": 6,
    "start_time": "2024-12-30T18:01:10.427Z"
   },
   {
    "duration": 5,
    "start_time": "2024-12-30T18:01:23.400Z"
   },
   {
    "duration": 15,
    "start_time": "2024-12-30T18:01:27.801Z"
   },
   {
    "duration": 4,
    "start_time": "2024-12-30T18:01:32.942Z"
   },
   {
    "duration": 5,
    "start_time": "2024-12-30T18:01:34.673Z"
   },
   {
    "duration": 7,
    "start_time": "2024-12-30T18:01:36.921Z"
   },
   {
    "duration": 4,
    "start_time": "2024-12-30T18:01:42.081Z"
   },
   {
    "duration": 5,
    "start_time": "2024-12-30T18:01:43.450Z"
   },
   {
    "duration": 2,
    "start_time": "2024-12-30T18:01:50.173Z"
   },
   {
    "duration": 1885,
    "start_time": "2024-12-30T18:01:52.984Z"
   },
   {
    "duration": 10,
    "start_time": "2024-12-30T18:02:03.124Z"
   },
   {
    "duration": 16,
    "start_time": "2024-12-30T18:02:08.789Z"
   },
   {
    "duration": 4,
    "start_time": "2024-12-30T18:03:00.428Z"
   },
   {
    "duration": 7,
    "start_time": "2024-12-30T18:03:01.756Z"
   },
   {
    "duration": 5,
    "start_time": "2024-12-30T18:03:12.490Z"
   },
   {
    "duration": 4,
    "start_time": "2024-12-30T18:04:57.236Z"
   },
   {
    "duration": 8,
    "start_time": "2024-12-30T18:05:08.285Z"
   },
   {
    "duration": 6,
    "start_time": "2024-12-30T18:05:10.359Z"
   },
   {
    "duration": 3,
    "start_time": "2024-12-30T18:06:14.859Z"
   },
   {
    "duration": 1059,
    "start_time": "2024-12-30T18:41:47.176Z"
   },
   {
    "duration": 15,
    "start_time": "2024-12-30T18:41:48.237Z"
   },
   {
    "duration": 13,
    "start_time": "2024-12-30T18:41:48.253Z"
   },
   {
    "duration": 4,
    "start_time": "2024-12-30T18:41:48.267Z"
   },
   {
    "duration": 10,
    "start_time": "2024-12-30T18:41:48.272Z"
   },
   {
    "duration": 3,
    "start_time": "2024-12-30T18:41:48.283Z"
   },
   {
    "duration": 40,
    "start_time": "2024-12-30T18:41:48.288Z"
   },
   {
    "duration": 28,
    "start_time": "2024-12-30T18:41:48.329Z"
   },
   {
    "duration": 5,
    "start_time": "2024-12-30T18:41:48.359Z"
   },
   {
    "duration": 4,
    "start_time": "2024-12-30T18:41:48.367Z"
   },
   {
    "duration": 6,
    "start_time": "2024-12-30T18:41:48.373Z"
   },
   {
    "duration": 3,
    "start_time": "2024-12-30T18:41:48.380Z"
   },
   {
    "duration": 39,
    "start_time": "2024-12-30T18:41:48.385Z"
   },
   {
    "duration": 7,
    "start_time": "2024-12-30T18:41:48.425Z"
   },
   {
    "duration": 4,
    "start_time": "2024-12-30T18:41:48.433Z"
   },
   {
    "duration": 3,
    "start_time": "2024-12-30T18:41:48.439Z"
   },
   {
    "duration": 2,
    "start_time": "2024-12-30T18:41:48.444Z"
   },
   {
    "duration": 1905,
    "start_time": "2024-12-30T18:41:48.448Z"
   },
   {
    "duration": 9,
    "start_time": "2024-12-30T18:41:50.355Z"
   },
   {
    "duration": 16,
    "start_time": "2024-12-30T18:41:50.366Z"
   },
   {
    "duration": 4,
    "start_time": "2024-12-30T18:41:50.383Z"
   },
   {
    "duration": 8,
    "start_time": "2024-12-30T18:41:50.388Z"
   },
   {
    "duration": 3,
    "start_time": "2024-12-30T18:41:50.397Z"
   },
   {
    "duration": 25,
    "start_time": "2024-12-30T18:41:50.402Z"
   },
   {
    "duration": 9,
    "start_time": "2024-12-30T18:41:50.429Z"
   },
   {
    "duration": 6,
    "start_time": "2024-12-30T18:41:50.439Z"
   },
   {
    "duration": 4,
    "start_time": "2024-12-30T18:41:50.446Z"
   },
   {
    "duration": 9,
    "start_time": "2024-12-30T18:41:50.456Z"
   },
   {
    "duration": 60,
    "start_time": "2024-12-30T18:41:50.466Z"
   },
   {
    "duration": 609,
    "start_time": "2024-12-30T18:41:50.529Z"
   },
   {
    "duration": 1916,
    "start_time": "2024-12-30T18:41:51.139Z"
   },
   {
    "duration": 72,
    "start_time": "2024-12-30T18:41:53.058Z"
   },
   {
    "duration": 626,
    "start_time": "2024-12-30T18:41:53.133Z"
   },
   {
    "duration": 1790,
    "start_time": "2024-12-30T18:41:53.761Z"
   },
   {
    "duration": 6,
    "start_time": "2024-12-30T18:41:55.553Z"
   },
   {
    "duration": 86,
    "start_time": "2024-12-30T18:41:55.560Z"
   },
   {
    "duration": 11,
    "start_time": "2024-12-30T18:41:55.725Z"
   },
   {
    "duration": 6,
    "start_time": "2024-12-30T18:41:55.737Z"
   },
   {
    "duration": 105,
    "start_time": "2024-12-30T18:41:55.745Z"
   },
   {
    "duration": 76,
    "start_time": "2024-12-30T18:41:55.851Z"
   },
   {
    "duration": 4,
    "start_time": "2024-12-30T18:41:55.928Z"
   },
   {
    "duration": 3,
    "start_time": "2024-12-30T18:41:55.934Z"
   },
   {
    "duration": 4,
    "start_time": "2024-12-30T18:41:55.938Z"
   },
   {
    "duration": 721,
    "start_time": "2024-12-30T18:41:55.943Z"
   },
   {
    "duration": 36,
    "start_time": "2024-12-30T18:41:56.666Z"
   },
   {
    "duration": 8,
    "start_time": "2024-12-30T18:41:56.703Z"
   },
   {
    "duration": 115,
    "start_time": "2024-12-30T18:41:56.725Z"
   },
   {
    "duration": 182,
    "start_time": "2024-12-30T18:41:56.842Z"
   },
   {
    "duration": 7,
    "start_time": "2024-12-30T18:41:57.026Z"
   },
   {
    "duration": 5,
    "start_time": "2024-12-30T18:41:57.035Z"
   },
   {
    "duration": 131,
    "start_time": "2024-12-30T18:41:57.042Z"
   },
   {
    "duration": 101,
    "start_time": "2024-12-30T18:41:57.174Z"
   },
   {
    "duration": 162,
    "start_time": "2024-12-30T18:41:57.276Z"
   },
   {
    "duration": 111,
    "start_time": "2024-12-30T18:41:57.440Z"
   },
   {
    "duration": 3,
    "start_time": "2024-12-30T18:41:57.552Z"
   },
   {
    "duration": 3,
    "start_time": "2024-12-30T18:41:57.557Z"
   },
   {
    "duration": 1737,
    "start_time": "2024-12-30T18:54:31.013Z"
   },
   {
    "duration": 1734,
    "start_time": "2024-12-30T18:54:53.402Z"
   },
   {
    "duration": 1980,
    "start_time": "2024-12-30T18:56:47.368Z"
   },
   {
    "duration": 997,
    "start_time": "2024-12-30T18:56:55.708Z"
   },
   {
    "duration": 19,
    "start_time": "2024-12-30T18:56:56.707Z"
   },
   {
    "duration": 12,
    "start_time": "2024-12-30T18:56:56.727Z"
   },
   {
    "duration": 4,
    "start_time": "2024-12-30T18:56:56.741Z"
   },
   {
    "duration": 10,
    "start_time": "2024-12-30T18:56:56.746Z"
   },
   {
    "duration": 3,
    "start_time": "2024-12-30T18:56:56.757Z"
   },
   {
    "duration": 6,
    "start_time": "2024-12-30T18:56:56.762Z"
   },
   {
    "duration": 59,
    "start_time": "2024-12-30T18:56:56.770Z"
   },
   {
    "duration": 5,
    "start_time": "2024-12-30T18:56:56.830Z"
   },
   {
    "duration": 5,
    "start_time": "2024-12-30T18:56:56.838Z"
   },
   {
    "duration": 7,
    "start_time": "2024-12-30T18:56:56.844Z"
   },
   {
    "duration": 3,
    "start_time": "2024-12-30T18:56:56.852Z"
   },
   {
    "duration": 3,
    "start_time": "2024-12-30T18:56:56.857Z"
   },
   {
    "duration": 5,
    "start_time": "2024-12-30T18:56:56.862Z"
   },
   {
    "duration": 3,
    "start_time": "2024-12-30T18:56:56.869Z"
   },
   {
    "duration": 4,
    "start_time": "2024-12-30T18:56:56.874Z"
   },
   {
    "duration": 45,
    "start_time": "2024-12-30T18:56:56.880Z"
   },
   {
    "duration": 1777,
    "start_time": "2024-12-30T18:56:56.927Z"
   },
   {
    "duration": 10,
    "start_time": "2024-12-30T18:56:58.706Z"
   },
   {
    "duration": 15,
    "start_time": "2024-12-30T18:56:58.717Z"
   },
   {
    "duration": 3,
    "start_time": "2024-12-30T18:56:58.734Z"
   },
   {
    "duration": 7,
    "start_time": "2024-12-30T18:56:58.739Z"
   },
   {
    "duration": 4,
    "start_time": "2024-12-30T18:56:58.748Z"
   },
   {
    "duration": 4,
    "start_time": "2024-12-30T18:56:58.753Z"
   },
   {
    "duration": 9,
    "start_time": "2024-12-30T18:56:58.758Z"
   },
   {
    "duration": 5,
    "start_time": "2024-12-30T18:56:58.770Z"
   },
   {
    "duration": 3,
    "start_time": "2024-12-30T18:56:58.777Z"
   },
   {
    "duration": 9,
    "start_time": "2024-12-30T18:56:58.823Z"
   },
   {
    "duration": 17,
    "start_time": "2024-12-30T18:56:58.833Z"
   },
   {
    "duration": 675,
    "start_time": "2024-12-30T18:56:58.853Z"
   },
   {
    "duration": 1723,
    "start_time": "2024-12-30T18:56:59.530Z"
   },
   {
    "duration": 75,
    "start_time": "2024-12-30T18:57:01.255Z"
   },
   {
    "duration": 612,
    "start_time": "2024-12-30T18:57:01.332Z"
   },
   {
    "duration": 1807,
    "start_time": "2024-12-30T18:57:01.946Z"
   },
   {
    "duration": 70,
    "start_time": "2024-12-30T18:57:03.755Z"
   },
   {
    "duration": 105,
    "start_time": "2024-12-30T18:57:03.827Z"
   },
   {
    "duration": 14,
    "start_time": "2024-12-30T18:57:03.934Z"
   },
   {
    "duration": 5,
    "start_time": "2024-12-30T18:57:03.950Z"
   },
   {
    "duration": 174,
    "start_time": "2024-12-30T18:57:03.957Z"
   },
   {
    "duration": 25,
    "start_time": "2024-12-30T18:57:04.132Z"
   },
   {
    "duration": 3,
    "start_time": "2024-12-30T18:57:04.159Z"
   },
   {
    "duration": 2,
    "start_time": "2024-12-30T18:57:04.224Z"
   },
   {
    "duration": 3,
    "start_time": "2024-12-30T18:57:04.228Z"
   },
   {
    "duration": 696,
    "start_time": "2024-12-30T18:57:04.233Z"
   },
   {
    "duration": 35,
    "start_time": "2024-12-30T18:57:04.932Z"
   },
   {
    "duration": 9,
    "start_time": "2024-12-30T18:57:04.969Z"
   },
   {
    "duration": 153,
    "start_time": "2024-12-30T18:57:04.979Z"
   },
   {
    "duration": 115,
    "start_time": "2024-12-30T18:57:05.133Z"
   },
   {
    "duration": 76,
    "start_time": "2024-12-30T18:57:05.250Z"
   },
   {
    "duration": 6,
    "start_time": "2024-12-30T18:57:05.328Z"
   },
   {
    "duration": 120,
    "start_time": "2024-12-30T18:57:05.336Z"
   },
   {
    "duration": 108,
    "start_time": "2024-12-30T18:57:05.458Z"
   },
   {
    "duration": 161,
    "start_time": "2024-12-30T18:57:05.568Z"
   },
   {
    "duration": 107,
    "start_time": "2024-12-30T18:57:05.730Z"
   },
   {
    "duration": 3,
    "start_time": "2024-12-30T18:57:05.839Z"
   },
   {
    "duration": 4,
    "start_time": "2024-12-30T18:57:05.843Z"
   },
   {
    "duration": 189,
    "start_time": "2024-12-30T18:59:39.991Z"
   },
   {
    "duration": 1060,
    "start_time": "2024-12-30T19:00:30.833Z"
   },
   {
    "duration": 15,
    "start_time": "2024-12-30T19:00:31.895Z"
   },
   {
    "duration": 17,
    "start_time": "2024-12-30T19:00:31.911Z"
   },
   {
    "duration": 4,
    "start_time": "2024-12-30T19:00:31.930Z"
   },
   {
    "duration": 10,
    "start_time": "2024-12-30T19:00:31.935Z"
   },
   {
    "duration": 5,
    "start_time": "2024-12-30T19:00:31.946Z"
   },
   {
    "duration": 5,
    "start_time": "2024-12-30T19:00:31.953Z"
   },
   {
    "duration": 26,
    "start_time": "2024-12-30T19:00:31.960Z"
   },
   {
    "duration": 37,
    "start_time": "2024-12-30T19:00:31.988Z"
   },
   {
    "duration": 5,
    "start_time": "2024-12-30T19:00:32.028Z"
   },
   {
    "duration": 6,
    "start_time": "2024-12-30T19:00:32.034Z"
   },
   {
    "duration": 4,
    "start_time": "2024-12-30T19:00:32.042Z"
   },
   {
    "duration": 3,
    "start_time": "2024-12-30T19:00:32.048Z"
   },
   {
    "duration": 7,
    "start_time": "2024-12-30T19:00:32.053Z"
   },
   {
    "duration": 4,
    "start_time": "2024-12-30T19:00:32.061Z"
   },
   {
    "duration": 5,
    "start_time": "2024-12-30T19:00:32.066Z"
   },
   {
    "duration": 3,
    "start_time": "2024-12-30T19:00:32.072Z"
   },
   {
    "duration": 1796,
    "start_time": "2024-12-30T19:00:32.077Z"
   },
   {
    "duration": 9,
    "start_time": "2024-12-30T19:00:33.875Z"
   },
   {
    "duration": 15,
    "start_time": "2024-12-30T19:00:33.886Z"
   },
   {
    "duration": 3,
    "start_time": "2024-12-30T19:00:33.903Z"
   },
   {
    "duration": 7,
    "start_time": "2024-12-30T19:00:33.908Z"
   },
   {
    "duration": 10,
    "start_time": "2024-12-30T19:00:33.916Z"
   },
   {
    "duration": 4,
    "start_time": "2024-12-30T19:00:33.928Z"
   },
   {
    "duration": 8,
    "start_time": "2024-12-30T19:00:33.935Z"
   },
   {
    "duration": 6,
    "start_time": "2024-12-30T19:00:33.945Z"
   },
   {
    "duration": 6,
    "start_time": "2024-12-30T19:00:33.953Z"
   },
   {
    "duration": 10,
    "start_time": "2024-12-30T19:00:33.963Z"
   },
   {
    "duration": 54,
    "start_time": "2024-12-30T19:00:33.974Z"
   },
   {
    "duration": 620,
    "start_time": "2024-12-30T19:00:34.030Z"
   },
   {
    "duration": 1699,
    "start_time": "2024-12-30T19:00:34.652Z"
   },
   {
    "duration": 72,
    "start_time": "2024-12-30T19:00:36.353Z"
   },
   {
    "duration": 599,
    "start_time": "2024-12-30T19:00:36.430Z"
   },
   {
    "duration": 1925,
    "start_time": "2024-12-30T19:00:37.031Z"
   },
   {
    "duration": 68,
    "start_time": "2024-12-30T19:00:38.958Z"
   },
   {
    "duration": 107,
    "start_time": "2024-12-30T19:00:39.028Z"
   },
   {
    "duration": 13,
    "start_time": "2024-12-30T19:00:39.138Z"
   },
   {
    "duration": 8,
    "start_time": "2024-12-30T19:00:39.152Z"
   },
   {
    "duration": 169,
    "start_time": "2024-12-30T19:00:39.161Z"
   },
   {
    "duration": 7,
    "start_time": "2024-12-30T19:00:39.331Z"
   },
   {
    "duration": 4,
    "start_time": "2024-12-30T19:00:39.342Z"
   },
   {
    "duration": 3,
    "start_time": "2024-12-30T19:00:39.347Z"
   },
   {
    "duration": 3,
    "start_time": "2024-12-30T19:00:39.352Z"
   },
   {
    "duration": 731,
    "start_time": "2024-12-30T19:00:39.356Z"
   },
   {
    "duration": 45,
    "start_time": "2024-12-30T19:00:40.089Z"
   },
   {
    "duration": 8,
    "start_time": "2024-12-30T19:00:40.136Z"
   },
   {
    "duration": 180,
    "start_time": "2024-12-30T19:00:40.146Z"
   },
   {
    "duration": 114,
    "start_time": "2024-12-30T19:00:40.331Z"
   },
   {
    "duration": 7,
    "start_time": "2024-12-30T19:00:40.447Z"
   },
   {
    "duration": 262,
    "start_time": "2024-12-30T19:00:40.455Z"
   },
   {
    "duration": 6,
    "start_time": "2024-12-30T19:00:40.718Z"
   },
   {
    "duration": 1034,
    "start_time": "2024-12-30T19:14:13.821Z"
   },
   {
    "duration": 16,
    "start_time": "2024-12-30T19:14:14.856Z"
   },
   {
    "duration": 12,
    "start_time": "2024-12-30T19:14:14.874Z"
   },
   {
    "duration": 3,
    "start_time": "2024-12-30T19:14:14.889Z"
   },
   {
    "duration": 10,
    "start_time": "2024-12-30T19:14:14.893Z"
   },
   {
    "duration": 21,
    "start_time": "2024-12-30T19:14:14.904Z"
   },
   {
    "duration": 7,
    "start_time": "2024-12-30T19:14:14.927Z"
   },
   {
    "duration": 30,
    "start_time": "2024-12-30T19:14:14.936Z"
   },
   {
    "duration": 4,
    "start_time": "2024-12-30T19:14:14.968Z"
   },
   {
    "duration": 5,
    "start_time": "2024-12-30T19:14:14.975Z"
   },
   {
    "duration": 6,
    "start_time": "2024-12-30T19:14:14.983Z"
   },
   {
    "duration": 34,
    "start_time": "2024-12-30T19:14:14.991Z"
   },
   {
    "duration": 4,
    "start_time": "2024-12-30T19:14:15.026Z"
   },
   {
    "duration": 5,
    "start_time": "2024-12-30T19:14:15.032Z"
   },
   {
    "duration": 4,
    "start_time": "2024-12-30T19:14:15.039Z"
   },
   {
    "duration": 4,
    "start_time": "2024-12-30T19:14:15.044Z"
   },
   {
    "duration": 2,
    "start_time": "2024-12-30T19:14:15.050Z"
   },
   {
    "duration": 1818,
    "start_time": "2024-12-30T19:14:15.054Z"
   },
   {
    "duration": 10,
    "start_time": "2024-12-30T19:14:16.874Z"
   },
   {
    "duration": 16,
    "start_time": "2024-12-30T19:14:16.885Z"
   },
   {
    "duration": 4,
    "start_time": "2024-12-30T19:14:16.902Z"
   },
   {
    "duration": 18,
    "start_time": "2024-12-30T19:14:16.907Z"
   },
   {
    "duration": 4,
    "start_time": "2024-12-30T19:14:16.927Z"
   },
   {
    "duration": 3,
    "start_time": "2024-12-30T19:14:16.933Z"
   },
   {
    "duration": 9,
    "start_time": "2024-12-30T19:14:16.938Z"
   },
   {
    "duration": 6,
    "start_time": "2024-12-30T19:14:16.948Z"
   },
   {
    "duration": 3,
    "start_time": "2024-12-30T19:14:16.955Z"
   },
   {
    "duration": 8,
    "start_time": "2024-12-30T19:14:16.964Z"
   },
   {
    "duration": 59,
    "start_time": "2024-12-30T19:14:16.974Z"
   },
   {
    "duration": 625,
    "start_time": "2024-12-30T19:14:17.034Z"
   },
   {
    "duration": 1781,
    "start_time": "2024-12-30T19:14:17.661Z"
   },
   {
    "duration": 10,
    "start_time": "2024-12-30T19:14:19.444Z"
   },
   {
    "duration": 668,
    "start_time": "2024-12-30T19:14:19.456Z"
   },
   {
    "duration": 1732,
    "start_time": "2024-12-30T19:14:20.126Z"
   },
   {
    "duration": 3,
    "start_time": "2024-12-30T19:14:21.925Z"
   },
   {
    "duration": 10,
    "start_time": "2024-12-30T19:14:21.930Z"
   },
   {
    "duration": 4,
    "start_time": "2024-12-30T19:14:21.941Z"
   },
   {
    "duration": 103,
    "start_time": "2024-12-30T19:14:21.947Z"
   },
   {
    "duration": 2,
    "start_time": "2024-12-30T19:14:22.052Z"
   },
   {
    "duration": 71,
    "start_time": "2024-12-30T19:14:22.056Z"
   },
   {
    "duration": 2,
    "start_time": "2024-12-30T19:14:22.130Z"
   },
   {
    "duration": 5,
    "start_time": "2024-12-30T19:14:22.134Z"
   },
   {
    "duration": 105,
    "start_time": "2024-12-30T19:14:22.141Z"
   },
   {
    "duration": 78,
    "start_time": "2024-12-30T19:14:22.248Z"
   },
   {
    "duration": 3,
    "start_time": "2024-12-30T19:14:22.328Z"
   },
   {
    "duration": 3,
    "start_time": "2024-12-30T19:14:22.333Z"
   },
   {
    "duration": 101223,
    "start_time": "2024-12-30T19:14:22.337Z"
   },
   {
    "duration": 3,
    "start_time": "2024-12-30T19:16:03.562Z"
   },
   {
    "duration": 2,
    "start_time": "2024-12-30T19:16:03.568Z"
   },
   {
    "duration": 4,
    "start_time": "2024-12-30T19:16:03.572Z"
   },
   {
    "duration": 703,
    "start_time": "2024-12-30T19:16:03.577Z"
   },
   {
    "duration": 44,
    "start_time": "2024-12-30T19:16:04.281Z"
   },
   {
    "duration": 7,
    "start_time": "2024-12-30T19:16:04.327Z"
   },
   {
    "duration": 105,
    "start_time": "2024-12-30T19:16:04.336Z"
   },
   {
    "duration": 185,
    "start_time": "2024-12-30T19:16:04.443Z"
   },
   {
    "duration": 7,
    "start_time": "2024-12-30T19:16:04.630Z"
   },
   {
    "duration": 225,
    "start_time": "2024-12-30T19:16:04.638Z"
   },
   {
    "duration": 3,
    "start_time": "2024-12-30T19:16:04.865Z"
   },
   {
    "duration": 512,
    "start_time": "2024-12-30T19:16:54.049Z"
   },
   {
    "duration": 35,
    "start_time": "2024-12-30T19:16:56.375Z"
   },
   {
    "duration": 35,
    "start_time": "2024-12-30T19:16:58.167Z"
   },
   {
    "duration": 7,
    "start_time": "2024-12-30T19:17:00.628Z"
   },
   {
    "duration": 1075,
    "start_time": "2024-12-30T19:18:45.286Z"
   },
   {
    "duration": 16,
    "start_time": "2024-12-30T19:18:46.363Z"
   },
   {
    "duration": 13,
    "start_time": "2024-12-30T19:18:46.381Z"
   },
   {
    "duration": 4,
    "start_time": "2024-12-30T19:18:46.396Z"
   },
   {
    "duration": 30,
    "start_time": "2024-12-30T19:18:46.401Z"
   },
   {
    "duration": 4,
    "start_time": "2024-12-30T19:18:46.433Z"
   },
   {
    "duration": 9,
    "start_time": "2024-12-30T19:18:46.439Z"
   },
   {
    "duration": 29,
    "start_time": "2024-12-30T19:18:46.449Z"
   },
   {
    "duration": 5,
    "start_time": "2024-12-30T19:18:46.480Z"
   },
   {
    "duration": 39,
    "start_time": "2024-12-30T19:18:46.488Z"
   },
   {
    "duration": 6,
    "start_time": "2024-12-30T19:18:46.529Z"
   },
   {
    "duration": 4,
    "start_time": "2024-12-30T19:18:46.536Z"
   },
   {
    "duration": 4,
    "start_time": "2024-12-30T19:18:46.542Z"
   },
   {
    "duration": 6,
    "start_time": "2024-12-30T19:18:46.548Z"
   },
   {
    "duration": 4,
    "start_time": "2024-12-30T19:18:46.555Z"
   },
   {
    "duration": 4,
    "start_time": "2024-12-30T19:18:46.561Z"
   },
   {
    "duration": 3,
    "start_time": "2024-12-30T19:18:46.567Z"
   },
   {
    "duration": 1892,
    "start_time": "2024-12-30T19:18:46.572Z"
   },
   {
    "duration": 9,
    "start_time": "2024-12-30T19:18:48.466Z"
   },
   {
    "duration": 15,
    "start_time": "2024-12-30T19:18:48.477Z"
   },
   {
    "duration": 5,
    "start_time": "2024-12-30T19:18:48.494Z"
   },
   {
    "duration": 7,
    "start_time": "2024-12-30T19:18:48.500Z"
   },
   {
    "duration": 17,
    "start_time": "2024-12-30T19:18:48.508Z"
   },
   {
    "duration": 5,
    "start_time": "2024-12-30T19:18:48.527Z"
   },
   {
    "duration": 9,
    "start_time": "2024-12-30T19:18:48.533Z"
   },
   {
    "duration": 5,
    "start_time": "2024-12-30T19:18:48.543Z"
   },
   {
    "duration": 3,
    "start_time": "2024-12-30T19:18:48.550Z"
   },
   {
    "duration": 9,
    "start_time": "2024-12-30T19:18:48.558Z"
   },
   {
    "duration": 58,
    "start_time": "2024-12-30T19:18:48.569Z"
   },
   {
    "duration": 621,
    "start_time": "2024-12-30T19:18:48.629Z"
   },
   {
    "duration": 1897,
    "start_time": "2024-12-30T19:18:49.253Z"
   },
   {
    "duration": 10,
    "start_time": "2024-12-30T19:18:51.152Z"
   },
   {
    "duration": 603,
    "start_time": "2024-12-30T19:18:51.225Z"
   },
   {
    "duration": 1995,
    "start_time": "2024-12-30T19:18:51.830Z"
   },
   {
    "duration": 2,
    "start_time": "2024-12-30T19:18:53.827Z"
   },
   {
    "duration": 11,
    "start_time": "2024-12-30T19:18:53.831Z"
   },
   {
    "duration": 2,
    "start_time": "2024-12-30T19:18:53.843Z"
   },
   {
    "duration": 100,
    "start_time": "2024-12-30T19:18:53.847Z"
   },
   {
    "duration": 3,
    "start_time": "2024-12-30T19:18:53.949Z"
   },
   {
    "duration": 72,
    "start_time": "2024-12-30T19:18:53.954Z"
   },
   {
    "duration": 3,
    "start_time": "2024-12-30T19:18:54.028Z"
   },
   {
    "duration": 11,
    "start_time": "2024-12-30T19:18:54.032Z"
   },
   {
    "duration": 102,
    "start_time": "2024-12-30T19:18:54.044Z"
   },
   {
    "duration": 76,
    "start_time": "2024-12-30T19:18:54.148Z"
   },
   {
    "duration": 4,
    "start_time": "2024-12-30T19:18:54.226Z"
   },
   {
    "duration": 3,
    "start_time": "2024-12-30T19:18:54.232Z"
   },
   {
    "duration": 102139,
    "start_time": "2024-12-30T19:18:54.236Z"
   },
   {
    "duration": 3,
    "start_time": "2024-12-30T19:20:36.378Z"
   },
   {
    "duration": 4393,
    "start_time": "2024-12-30T19:20:36.383Z"
   },
   {
    "duration": 47,
    "start_time": "2024-12-30T19:20:40.778Z"
   },
   {
    "duration": 15,
    "start_time": "2024-12-30T19:20:40.826Z"
   },
   {
    "duration": 7,
    "start_time": "2024-12-30T19:20:40.844Z"
   },
   {
    "duration": 3,
    "start_time": "2024-12-30T19:20:40.852Z"
   },
   {
    "duration": 69,
    "start_time": "2024-12-30T19:20:40.856Z"
   },
   {
    "duration": 695,
    "start_time": "2024-12-30T19:20:40.926Z"
   },
   {
    "duration": 35,
    "start_time": "2024-12-30T19:20:41.624Z"
   },
   {
    "duration": 9,
    "start_time": "2024-12-30T19:20:41.661Z"
   },
   {
    "duration": 155,
    "start_time": "2024-12-30T19:20:41.671Z"
   },
   {
    "duration": 118,
    "start_time": "2024-12-30T19:20:41.828Z"
   },
   {
    "duration": 7,
    "start_time": "2024-12-30T19:20:41.950Z"
   },
   {
    "duration": 243,
    "start_time": "2024-12-30T19:20:41.959Z"
   },
   {
    "duration": 3,
    "start_time": "2024-12-30T19:20:42.204Z"
   },
   {
    "duration": 162,
    "start_time": "2024-12-31T04:18:57.240Z"
   },
   {
    "duration": 3076,
    "start_time": "2025-01-01T01:56:11.234Z"
   },
   {
    "duration": 34,
    "start_time": "2025-01-01T01:56:14.313Z"
   },
   {
    "duration": 14,
    "start_time": "2025-01-01T01:56:15.923Z"
   },
   {
    "duration": 10,
    "start_time": "2025-01-01T01:58:03.010Z"
   },
   {
    "duration": 4,
    "start_time": "2025-01-01T01:58:07.470Z"
   },
   {
    "duration": 7,
    "start_time": "2025-01-01T01:58:08.047Z"
   },
   {
    "duration": 34,
    "start_time": "2025-01-01T01:58:08.906Z"
   },
   {
    "duration": 5,
    "start_time": "2025-01-01T01:58:13.839Z"
   },
   {
    "duration": 6,
    "start_time": "2025-01-01T01:58:16.581Z"
   },
   {
    "duration": 12,
    "start_time": "2025-01-01T01:58:21.315Z"
   },
   {
    "duration": 3,
    "start_time": "2025-01-01T02:00:58.653Z"
   },
   {
    "duration": 4,
    "start_time": "2025-01-01T02:01:00.106Z"
   },
   {
    "duration": 8,
    "start_time": "2025-01-01T02:01:01.129Z"
   },
   {
    "duration": 7,
    "start_time": "2025-01-01T02:01:06.537Z"
   },
   {
    "duration": 5,
    "start_time": "2025-01-01T02:01:08.261Z"
   },
   {
    "duration": 3,
    "start_time": "2025-01-01T02:01:16.818Z"
   },
   {
    "duration": 1964,
    "start_time": "2025-01-01T02:01:17.832Z"
   },
   {
    "duration": 10,
    "start_time": "2025-01-01T02:01:54.522Z"
   },
   {
    "duration": 16,
    "start_time": "2025-01-01T02:02:04.028Z"
   },
   {
    "duration": 5,
    "start_time": "2025-01-01T02:21:30.939Z"
   },
   {
    "duration": 5,
    "start_time": "2025-01-01T02:21:37.421Z"
   },
   {
    "duration": 8,
    "start_time": "2025-01-01T02:21:39.081Z"
   },
   {
    "duration": 6,
    "start_time": "2025-01-01T02:21:39.992Z"
   },
   {
    "duration": 2,
    "start_time": "2025-01-01T02:21:44.834Z"
   },
   {
    "duration": 10,
    "start_time": "2025-01-01T02:22:22.616Z"
   },
   {
    "duration": 10,
    "start_time": "2025-01-01T02:24:28.394Z"
   },
   {
    "duration": 6,
    "start_time": "2025-01-01T02:24:34.644Z"
   },
   {
    "duration": 4,
    "start_time": "2025-01-01T02:24:36.912Z"
   },
   {
    "duration": 7,
    "start_time": "2025-01-01T02:24:42.426Z"
   },
   {
    "duration": 4,
    "start_time": "2025-01-01T02:24:55.380Z"
   },
   {
    "duration": 5,
    "start_time": "2025-01-01T02:24:58.990Z"
   },
   {
    "duration": 7,
    "start_time": "2025-01-01T02:25:02.320Z"
   },
   {
    "duration": 4,
    "start_time": "2025-01-01T02:25:11.477Z"
   },
   {
    "duration": 34,
    "start_time": "2025-01-01T02:42:27.192Z"
   },
   {
    "duration": 29,
    "start_time": "2025-01-01T02:43:36.932Z"
   },
   {
    "duration": 30,
    "start_time": "2025-01-01T02:44:01.982Z"
   },
   {
    "duration": 17,
    "start_time": "2025-01-01T03:04:17.095Z"
   },
   {
    "duration": 72,
    "start_time": "2025-01-01T03:04:21.217Z"
   },
   {
    "duration": 343,
    "start_time": "2025-01-01T03:04:26.993Z"
   },
   {
    "duration": 4,
    "start_time": "2025-01-01T03:05:26.994Z"
   },
   {
    "duration": 43,
    "start_time": "2025-01-01T03:05:38.958Z"
   },
   {
    "duration": 15,
    "start_time": "2025-01-01T03:05:42.612Z"
   },
   {
    "duration": 1069,
    "start_time": "2025-01-01T03:07:49.035Z"
   },
   {
    "duration": 16,
    "start_time": "2025-01-01T03:07:50.107Z"
   },
   {
    "duration": 16,
    "start_time": "2025-01-01T03:07:51.246Z"
   },
   {
    "duration": 4,
    "start_time": "2025-01-01T03:07:51.874Z"
   },
   {
    "duration": 10,
    "start_time": "2025-01-01T03:07:53.929Z"
   },
   {
    "duration": 6,
    "start_time": "2025-01-01T03:07:54.451Z"
   },
   {
    "duration": 7,
    "start_time": "2025-01-01T03:07:55.040Z"
   },
   {
    "duration": 42,
    "start_time": "2025-01-01T03:07:55.416Z"
   },
   {
    "duration": 7,
    "start_time": "2025-01-01T03:07:55.854Z"
   },
   {
    "duration": 6,
    "start_time": "2025-01-01T03:07:56.891Z"
   },
   {
    "duration": 8,
    "start_time": "2025-01-01T03:07:57.274Z"
   },
   {
    "duration": 4,
    "start_time": "2025-01-01T03:07:59.314Z"
   },
   {
    "duration": 7,
    "start_time": "2025-01-01T03:07:59.881Z"
   },
   {
    "duration": 7,
    "start_time": "2025-01-01T03:08:00.421Z"
   },
   {
    "duration": 6,
    "start_time": "2025-01-01T03:08:02.247Z"
   },
   {
    "duration": 5,
    "start_time": "2025-01-01T03:08:02.597Z"
   },
   {
    "duration": 3,
    "start_time": "2025-01-01T03:08:03.564Z"
   },
   {
    "duration": 1904,
    "start_time": "2025-01-01T03:08:03.867Z"
   },
   {
    "duration": 13,
    "start_time": "2025-01-01T03:08:05.982Z"
   },
   {
    "duration": 17,
    "start_time": "2025-01-01T03:08:06.254Z"
   },
   {
    "duration": 3,
    "start_time": "2025-01-01T03:08:16.328Z"
   },
   {
    "duration": 4,
    "start_time": "2025-01-01T03:08:17.548Z"
   },
   {
    "duration": 8,
    "start_time": "2025-01-01T03:08:18.054Z"
   },
   {
    "duration": 5,
    "start_time": "2025-01-01T03:08:18.544Z"
   },
   {
    "duration": 2,
    "start_time": "2025-01-01T03:08:19.162Z"
   },
   {
    "duration": 10,
    "start_time": "2025-01-01T03:08:19.893Z"
   },
   {
    "duration": 10,
    "start_time": "2025-01-01T03:08:20.519Z"
   },
   {
    "duration": 5,
    "start_time": "2025-01-01T03:08:22.079Z"
   },
   {
    "duration": 3,
    "start_time": "2025-01-01T03:08:22.638Z"
   },
   {
    "duration": 6,
    "start_time": "2025-01-01T03:08:23.457Z"
   },
   {
    "duration": 4,
    "start_time": "2025-01-01T03:08:30.179Z"
   },
   {
    "duration": 5,
    "start_time": "2025-01-01T03:08:30.902Z"
   },
   {
    "duration": 6,
    "start_time": "2025-01-01T03:08:32.468Z"
   },
   {
    "duration": 4,
    "start_time": "2025-01-01T03:08:33.395Z"
   },
   {
    "duration": 29,
    "start_time": "2025-01-01T03:08:34.971Z"
   },
   {
    "duration": 29,
    "start_time": "2025-01-01T03:08:35.519Z"
   },
   {
    "duration": 28,
    "start_time": "2025-01-01T03:08:36.115Z"
   },
   {
    "duration": 8,
    "start_time": "2025-01-01T03:08:38.766Z"
   },
   {
    "duration": 4,
    "start_time": "2025-01-01T03:08:42.061Z"
   },
   {
    "duration": 4,
    "start_time": "2025-01-01T03:08:45.171Z"
   },
   {
    "duration": 13,
    "start_time": "2025-01-01T03:09:02.531Z"
   },
   {
    "duration": 39,
    "start_time": "2025-01-01T03:09:03.437Z"
   },
   {
    "duration": 13,
    "start_time": "2025-01-01T03:09:04.203Z"
   },
   {
    "duration": 14,
    "start_time": "2025-01-01T03:09:04.980Z"
   },
   {
    "duration": 46,
    "start_time": "2025-01-01T03:09:05.679Z"
   },
   {
    "duration": 10,
    "start_time": "2025-01-01T03:09:06.379Z"
   },
   {
    "duration": 9,
    "start_time": "2025-01-01T03:09:07.154Z"
   },
   {
    "duration": 15,
    "start_time": "2025-01-01T03:09:08.173Z"
   },
   {
    "duration": 48,
    "start_time": "2025-01-01T03:09:12.851Z"
   },
   {
    "duration": 3,
    "start_time": "2025-01-01T03:42:38.743Z"
   },
   {
    "duration": 2,
    "start_time": "2025-01-01T03:48:05.661Z"
   },
   {
    "duration": 3,
    "start_time": "2025-01-01T03:48:06.678Z"
   },
   {
    "duration": 3,
    "start_time": "2025-01-01T03:48:07.972Z"
   },
   {
    "duration": 12,
    "start_time": "2025-01-01T03:48:09.986Z"
   },
   {
    "duration": 95620,
    "start_time": "2025-01-01T03:48:11.459Z"
   },
   {
    "duration": 3,
    "start_time": "2025-01-01T03:49:47.087Z"
   },
   {
    "duration": 7,
    "start_time": "2025-01-01T03:54:33.979Z"
   },
   {
    "duration": 2,
    "start_time": "2025-01-01T03:54:34.579Z"
   },
   {
    "duration": 3,
    "start_time": "2025-01-01T03:54:35.072Z"
   },
   {
    "duration": 3,
    "start_time": "2025-01-01T03:54:35.870Z"
   },
   {
    "duration": 7221,
    "start_time": "2025-01-01T03:54:36.901Z"
   },
   {
    "duration": 60,
    "start_time": "2025-01-01T03:54:44.126Z"
   },
   {
    "duration": 3,
    "start_time": "2025-01-01T03:54:44.188Z"
   },
   {
    "duration": 4,
    "start_time": "2025-01-01T03:54:44.194Z"
   },
   {
    "duration": 8,
    "start_time": "2025-01-01T03:54:44.200Z"
   },
   {
    "duration": 2726,
    "start_time": "2025-01-01T20:54:48.575Z"
   },
   {
    "duration": 25,
    "start_time": "2025-01-01T20:54:51.303Z"
   },
   {
    "duration": 12,
    "start_time": "2025-01-01T20:54:51.329Z"
   },
   {
    "duration": 3,
    "start_time": "2025-01-01T20:54:51.343Z"
   },
   {
    "duration": 10,
    "start_time": "2025-01-01T20:54:51.348Z"
   },
   {
    "duration": 12,
    "start_time": "2025-01-01T20:54:51.359Z"
   },
   {
    "duration": 8,
    "start_time": "2025-01-01T20:54:51.374Z"
   },
   {
    "duration": 28,
    "start_time": "2025-01-01T20:54:51.384Z"
   },
   {
    "duration": 4,
    "start_time": "2025-01-01T20:54:51.414Z"
   },
   {
    "duration": 5,
    "start_time": "2025-01-01T20:54:51.421Z"
   },
   {
    "duration": 6,
    "start_time": "2025-01-01T20:54:51.427Z"
   },
   {
    "duration": 7,
    "start_time": "2025-01-01T20:54:51.470Z"
   },
   {
    "duration": 4,
    "start_time": "2025-01-01T20:54:51.480Z"
   },
   {
    "duration": 6,
    "start_time": "2025-01-01T20:54:51.486Z"
   },
   {
    "duration": 3,
    "start_time": "2025-01-01T20:54:51.494Z"
   },
   {
    "duration": 5,
    "start_time": "2025-01-01T20:54:51.499Z"
   },
   {
    "duration": 3,
    "start_time": "2025-01-01T20:54:51.505Z"
   },
   {
    "duration": 1917,
    "start_time": "2025-01-01T20:54:51.510Z"
   },
   {
    "duration": 9,
    "start_time": "2025-01-01T20:54:53.429Z"
   },
   {
    "duration": 16,
    "start_time": "2025-01-01T20:54:53.440Z"
   },
   {
    "duration": 3,
    "start_time": "2025-01-01T20:54:53.458Z"
   },
   {
    "duration": 4,
    "start_time": "2025-01-01T20:54:53.463Z"
   },
   {
    "duration": 7,
    "start_time": "2025-01-01T20:54:53.469Z"
   },
   {
    "duration": 6,
    "start_time": "2025-01-01T20:54:53.477Z"
   },
   {
    "duration": 2,
    "start_time": "2025-01-01T20:54:53.484Z"
   },
   {
    "duration": 7,
    "start_time": "2025-01-01T20:54:53.488Z"
   },
   {
    "duration": 9,
    "start_time": "2025-01-01T20:54:53.496Z"
   },
   {
    "duration": 4,
    "start_time": "2025-01-01T20:54:53.510Z"
   },
   {
    "duration": 3,
    "start_time": "2025-01-01T20:54:53.516Z"
   },
   {
    "duration": 7,
    "start_time": "2025-01-01T20:54:53.521Z"
   },
   {
    "duration": 42,
    "start_time": "2025-01-01T20:54:53.530Z"
   },
   {
    "duration": 4,
    "start_time": "2025-01-01T20:54:53.574Z"
   },
   {
    "duration": 6,
    "start_time": "2025-01-01T20:54:53.580Z"
   },
   {
    "duration": 3,
    "start_time": "2025-01-01T20:54:53.587Z"
   },
   {
    "duration": 28,
    "start_time": "2025-01-01T20:54:53.592Z"
   },
   {
    "duration": 60,
    "start_time": "2025-01-01T20:54:53.622Z"
   },
   {
    "duration": 27,
    "start_time": "2025-01-01T20:54:53.683Z"
   },
   {
    "duration": 8,
    "start_time": "2025-01-01T20:54:53.711Z"
   },
   {
    "duration": 4,
    "start_time": "2025-01-01T20:54:53.720Z"
   },
   {
    "duration": 4,
    "start_time": "2025-01-01T20:54:53.726Z"
   },
   {
    "duration": 44,
    "start_time": "2025-01-01T20:54:53.732Z"
   },
   {
    "duration": 113,
    "start_time": "2025-01-01T20:54:53.778Z"
   },
   {
    "duration": 12,
    "start_time": "2025-01-01T20:54:53.893Z"
   },
   {
    "duration": 71,
    "start_time": "2025-01-01T20:54:53.906Z"
   },
   {
    "duration": 122,
    "start_time": "2025-01-01T20:54:53.979Z"
   },
   {
    "duration": 9,
    "start_time": "2025-01-01T20:54:54.103Z"
   },
   {
    "duration": 7,
    "start_time": "2025-01-01T20:54:54.114Z"
   },
   {
    "duration": 18,
    "start_time": "2025-01-01T20:54:54.171Z"
   },
   {
    "duration": 193,
    "start_time": "2025-01-01T20:54:54.190Z"
   },
   {
    "duration": 6,
    "start_time": "2025-01-01T20:54:54.386Z"
   },
   {
    "duration": 79,
    "start_time": "2025-01-01T20:54:54.394Z"
   },
   {
    "duration": 3,
    "start_time": "2025-01-01T20:54:54.475Z"
   },
   {
    "duration": 2,
    "start_time": "2025-01-01T20:54:54.480Z"
   },
   {
    "duration": 7406,
    "start_time": "2025-01-01T20:54:54.484Z"
   },
   {
    "duration": 3,
    "start_time": "2025-01-01T20:55:01.893Z"
   },
   {
    "duration": 3,
    "start_time": "2025-01-01T20:55:01.897Z"
   },
   {
    "duration": 5,
    "start_time": "2025-01-01T20:55:01.901Z"
   },
   {
    "duration": 8,
    "start_time": "2025-01-01T20:55:01.908Z"
   },
   {
    "duration": 2,
    "start_time": "2025-01-01T20:55:01.971Z"
   },
   {
    "duration": 155,
    "start_time": "2025-01-02T04:12:52.983Z"
   },
   {
    "duration": 2702,
    "start_time": "2025-01-02T04:15:25.757Z"
   },
   {
    "duration": 22,
    "start_time": "2025-01-02T04:15:28.462Z"
   },
   {
    "duration": 11,
    "start_time": "2025-01-02T04:15:28.486Z"
   },
   {
    "duration": 3,
    "start_time": "2025-01-02T04:15:28.499Z"
   },
   {
    "duration": 10,
    "start_time": "2025-01-02T04:15:28.512Z"
   },
   {
    "duration": 3,
    "start_time": "2025-01-02T04:15:28.524Z"
   },
   {
    "duration": 6,
    "start_time": "2025-01-02T04:15:28.529Z"
   },
   {
    "duration": 27,
    "start_time": "2025-01-02T04:15:28.537Z"
   },
   {
    "duration": 5,
    "start_time": "2025-01-02T04:15:28.565Z"
   },
   {
    "duration": 39,
    "start_time": "2025-01-02T04:15:28.573Z"
   },
   {
    "duration": 7,
    "start_time": "2025-01-02T04:15:28.613Z"
   },
   {
    "duration": 3,
    "start_time": "2025-01-02T04:15:28.621Z"
   },
   {
    "duration": 3,
    "start_time": "2025-01-02T04:15:28.626Z"
   },
   {
    "duration": 5,
    "start_time": "2025-01-02T04:15:28.631Z"
   },
   {
    "duration": 4,
    "start_time": "2025-01-02T04:15:28.638Z"
   },
   {
    "duration": 4,
    "start_time": "2025-01-02T04:15:28.643Z"
   },
   {
    "duration": 3,
    "start_time": "2025-01-02T04:15:28.649Z"
   },
   {
    "duration": 1827,
    "start_time": "2025-01-02T04:15:28.654Z"
   },
   {
    "duration": 9,
    "start_time": "2025-01-02T04:15:30.483Z"
   },
   {
    "duration": 15,
    "start_time": "2025-01-02T04:15:30.494Z"
   },
   {
    "duration": 3,
    "start_time": "2025-01-02T04:15:30.511Z"
   },
   {
    "duration": 4,
    "start_time": "2025-01-02T04:15:30.516Z"
   },
   {
    "duration": 7,
    "start_time": "2025-01-02T04:15:30.522Z"
   },
   {
    "duration": 64,
    "start_time": "2025-01-02T04:15:30.530Z"
   },
   {
    "duration": 3,
    "start_time": "2025-01-02T04:15:30.612Z"
   },
   {
    "duration": 7,
    "start_time": "2025-01-02T04:15:30.617Z"
   },
   {
    "duration": 8,
    "start_time": "2025-01-02T04:15:30.625Z"
   },
   {
    "duration": 4,
    "start_time": "2025-01-02T04:15:30.638Z"
   },
   {
    "duration": 4,
    "start_time": "2025-01-02T04:15:30.643Z"
   },
   {
    "duration": 7,
    "start_time": "2025-01-02T04:15:30.648Z"
   },
   {
    "duration": 4,
    "start_time": "2025-01-02T04:15:30.656Z"
   },
   {
    "duration": 4,
    "start_time": "2025-01-02T04:15:30.661Z"
   },
   {
    "duration": 46,
    "start_time": "2025-01-02T04:15:30.667Z"
   },
   {
    "duration": 3,
    "start_time": "2025-01-02T04:15:30.715Z"
   },
   {
    "duration": 28,
    "start_time": "2025-01-02T04:15:30.719Z"
   },
   {
    "duration": 30,
    "start_time": "2025-01-02T04:15:30.749Z"
   },
   {
    "duration": 52,
    "start_time": "2025-01-02T04:15:30.780Z"
   },
   {
    "duration": 7,
    "start_time": "2025-01-02T04:15:30.833Z"
   },
   {
    "duration": 4,
    "start_time": "2025-01-02T04:15:30.842Z"
   },
   {
    "duration": 4,
    "start_time": "2025-01-02T04:15:30.847Z"
   },
   {
    "duration": 13,
    "start_time": "2025-01-02T04:15:30.852Z"
   },
   {
    "duration": 116,
    "start_time": "2025-01-02T04:15:30.912Z"
   },
   {
    "duration": 12,
    "start_time": "2025-01-02T04:15:31.029Z"
   },
   {
    "duration": 13,
    "start_time": "2025-01-02T04:15:31.042Z"
   },
   {
    "duration": 122,
    "start_time": "2025-01-02T04:15:31.113Z"
   },
   {
    "duration": 10,
    "start_time": "2025-01-02T04:15:31.236Z"
   },
   {
    "duration": 9,
    "start_time": "2025-01-02T04:15:31.248Z"
   },
   {
    "duration": 69,
    "start_time": "2025-01-02T04:15:31.260Z"
   },
   {
    "duration": 194,
    "start_time": "2025-01-02T04:15:31.332Z"
   },
   {
    "duration": 82,
    "start_time": "2025-01-02T04:15:31.532Z"
   },
   {
    "duration": 3,
    "start_time": "2025-01-02T04:15:31.616Z"
   },
   {
    "duration": 7405,
    "start_time": "2025-01-02T04:15:31.621Z"
   },
   {
    "duration": 3,
    "start_time": "2025-01-02T04:15:39.028Z"
   },
   {
    "duration": 3,
    "start_time": "2025-01-02T04:15:39.033Z"
   },
   {
    "duration": 9,
    "start_time": "2025-01-02T04:15:39.038Z"
   },
   {
    "duration": 4,
    "start_time": "2025-01-02T04:15:39.049Z"
   },
   {
    "duration": 181,
    "start_time": "2025-01-02T04:15:39.112Z"
   },
   {
    "duration": 3,
    "start_time": "2025-01-02T04:15:39.294Z"
   },
   {
    "duration": 3,
    "start_time": "2025-01-02T04:18:25.450Z"
   },
   {
    "duration": 4,
    "start_time": "2025-01-02T04:18:30.778Z"
   },
   {
    "duration": 3,
    "start_time": "2025-01-02T04:18:35.261Z"
   },
   {
    "duration": 226,
    "start_time": "2025-01-02T04:19:43.828Z"
   },
   {
    "duration": 14,
    "start_time": "2025-01-02T04:21:12.415Z"
   },
   {
    "duration": 15,
    "start_time": "2025-01-02T04:21:13.919Z"
   },
   {
    "duration": 15,
    "start_time": "2025-01-02T04:21:14.901Z"
   },
   {
    "duration": 15,
    "start_time": "2025-01-02T04:21:15.574Z"
   },
   {
    "duration": 7,
    "start_time": "2025-01-02T04:22:33.898Z"
   },
   {
    "duration": 1369,
    "start_time": "2025-01-02T04:22:44.461Z"
   },
   {
    "duration": 7,
    "start_time": "2025-01-02T04:22:55.734Z"
   },
   {
    "duration": 1167,
    "start_time": "2025-01-02T04:23:05.923Z"
   },
   {
    "duration": 5,
    "start_time": "2025-01-02T04:23:22.605Z"
   },
   {
    "duration": 3,
    "start_time": "2025-01-02T04:23:29.825Z"
   },
   {
    "duration": 16,
    "start_time": "2025-01-02T04:23:53.833Z"
   },
   {
    "duration": 3,
    "start_time": "2025-01-02T04:23:54.617Z"
   },
   {
    "duration": 1007,
    "start_time": "2025-01-02T05:25:07.542Z"
   },
   {
    "duration": 18,
    "start_time": "2025-01-02T05:25:08.551Z"
   },
   {
    "duration": 12,
    "start_time": "2025-01-02T05:25:08.570Z"
   },
   {
    "duration": 3,
    "start_time": "2025-01-02T05:25:08.585Z"
   },
   {
    "duration": 22,
    "start_time": "2025-01-02T05:25:08.590Z"
   },
   {
    "duration": 4,
    "start_time": "2025-01-02T05:25:08.614Z"
   },
   {
    "duration": 6,
    "start_time": "2025-01-02T05:25:08.619Z"
   },
   {
    "duration": 26,
    "start_time": "2025-01-02T05:25:08.627Z"
   },
   {
    "duration": 4,
    "start_time": "2025-01-02T05:25:08.656Z"
   },
   {
    "duration": 5,
    "start_time": "2025-01-02T05:25:08.663Z"
   },
   {
    "duration": 43,
    "start_time": "2025-01-02T05:25:08.669Z"
   },
   {
    "duration": 3,
    "start_time": "2025-01-02T05:25:08.713Z"
   },
   {
    "duration": 3,
    "start_time": "2025-01-02T05:25:08.719Z"
   },
   {
    "duration": 7,
    "start_time": "2025-01-02T05:25:08.723Z"
   },
   {
    "duration": 3,
    "start_time": "2025-01-02T05:25:08.732Z"
   },
   {
    "duration": 3,
    "start_time": "2025-01-02T05:25:08.737Z"
   },
   {
    "duration": 2,
    "start_time": "2025-01-02T05:25:08.742Z"
   },
   {
    "duration": 1826,
    "start_time": "2025-01-02T05:25:08.746Z"
   },
   {
    "duration": 9,
    "start_time": "2025-01-02T05:25:10.574Z"
   },
   {
    "duration": 16,
    "start_time": "2025-01-02T05:25:10.585Z"
   },
   {
    "duration": 12,
    "start_time": "2025-01-02T05:25:10.602Z"
   },
   {
    "duration": 3,
    "start_time": "2025-01-02T05:25:10.616Z"
   },
   {
    "duration": 7,
    "start_time": "2025-01-02T05:25:10.620Z"
   },
   {
    "duration": 5,
    "start_time": "2025-01-02T05:25:10.629Z"
   },
   {
    "duration": 3,
    "start_time": "2025-01-02T05:25:10.635Z"
   },
   {
    "duration": 7,
    "start_time": "2025-01-02T05:25:10.639Z"
   },
   {
    "duration": 9,
    "start_time": "2025-01-02T05:25:10.647Z"
   },
   {
    "duration": 4,
    "start_time": "2025-01-02T05:25:10.660Z"
   },
   {
    "duration": 3,
    "start_time": "2025-01-02T05:25:10.665Z"
   },
   {
    "duration": 46,
    "start_time": "2025-01-02T05:25:10.670Z"
   },
   {
    "duration": 5,
    "start_time": "2025-01-02T05:25:10.717Z"
   },
   {
    "duration": 4,
    "start_time": "2025-01-02T05:25:10.723Z"
   },
   {
    "duration": 6,
    "start_time": "2025-01-02T05:25:10.729Z"
   },
   {
    "duration": 3,
    "start_time": "2025-01-02T05:25:10.737Z"
   },
   {
    "duration": 27,
    "start_time": "2025-01-02T05:25:10.742Z"
   },
   {
    "duration": 59,
    "start_time": "2025-01-02T05:25:10.771Z"
   },
   {
    "duration": 25,
    "start_time": "2025-01-02T05:25:10.831Z"
   },
   {
    "duration": 7,
    "start_time": "2025-01-02T05:25:10.858Z"
   },
   {
    "duration": 4,
    "start_time": "2025-01-02T05:25:10.866Z"
   },
   {
    "duration": 4,
    "start_time": "2025-01-02T05:25:10.871Z"
   },
   {
    "duration": 10,
    "start_time": "2025-01-02T05:25:10.876Z"
   },
   {
    "duration": 3,
    "start_time": "2025-01-02T05:25:10.911Z"
   },
   {
    "duration": 3,
    "start_time": "2025-01-02T05:25:10.916Z"
   },
   {
    "duration": 2042,
    "start_time": "2025-01-02T05:25:10.920Z"
   },
   {
    "duration": 10,
    "start_time": "2025-01-02T05:25:12.964Z"
   },
   {
    "duration": 10,
    "start_time": "2025-01-02T05:25:13.012Z"
   },
   {
    "duration": 9,
    "start_time": "2025-01-02T05:25:13.027Z"
   },
   {
    "duration": 2,
    "start_time": "2025-01-02T05:25:13.112Z"
   },
   {
    "duration": 3611,
    "start_time": "2025-01-02T05:45:57.208Z"
   },
   {
    "duration": 4,
    "start_time": "2025-01-02T05:46:18.906Z"
   },
   {
    "duration": 8,
    "start_time": "2025-01-02T05:46:22.183Z"
   },
   {
    "duration": 229,
    "start_time": "2025-01-02T05:46:29.533Z"
   },
   {
    "duration": 74,
    "start_time": "2025-01-02T05:47:01.017Z"
   },
   {
    "duration": 239859,
    "start_time": "2025-01-02T05:47:09.215Z"
   },
   {
    "duration": 12,
    "start_time": "2025-01-02T05:51:37.572Z"
   },
   {
    "duration": 15,
    "start_time": "2025-01-02T05:51:39.631Z"
   },
   {
    "duration": 20,
    "start_time": "2025-01-02T05:51:42.754Z"
   },
   {
    "duration": 6,
    "start_time": "2025-01-02T05:51:45.866Z"
   },
   {
    "duration": 8,
    "start_time": "2025-01-02T05:56:48.987Z"
   },
   {
    "duration": 17,
    "start_time": "2025-01-02T05:56:54.526Z"
   },
   {
    "duration": 4,
    "start_time": "2025-01-02T05:57:40.801Z"
   },
   {
    "duration": 14,
    "start_time": "2025-01-02T05:57:50.345Z"
   },
   {
    "duration": 3,
    "start_time": "2025-01-02T05:58:26.804Z"
   },
   {
    "duration": 15,
    "start_time": "2025-01-02T05:58:54.239Z"
   },
   {
    "duration": 4,
    "start_time": "2025-01-02T06:00:42.070Z"
   },
   {
    "duration": 3,
    "start_time": "2025-01-02T06:00:53.338Z"
   },
   {
    "duration": 130,
    "start_time": "2025-01-02T06:00:53.989Z"
   },
   {
    "duration": 1024,
    "start_time": "2025-01-02T06:01:53.842Z"
   },
   {
    "duration": 16,
    "start_time": "2025-01-02T06:01:54.868Z"
   },
   {
    "duration": 12,
    "start_time": "2025-01-02T06:01:54.886Z"
   },
   {
    "duration": 14,
    "start_time": "2025-01-02T06:01:54.900Z"
   },
   {
    "duration": 10,
    "start_time": "2025-01-02T06:01:54.918Z"
   },
   {
    "duration": 4,
    "start_time": "2025-01-02T06:01:54.931Z"
   },
   {
    "duration": 7,
    "start_time": "2025-01-02T06:01:54.937Z"
   },
   {
    "duration": 28,
    "start_time": "2025-01-02T06:01:54.945Z"
   },
   {
    "duration": 4,
    "start_time": "2025-01-02T06:01:54.975Z"
   },
   {
    "duration": 33,
    "start_time": "2025-01-02T06:01:54.980Z"
   },
   {
    "duration": 6,
    "start_time": "2025-01-02T06:01:55.015Z"
   },
   {
    "duration": 3,
    "start_time": "2025-01-02T06:01:55.023Z"
   },
   {
    "duration": 4,
    "start_time": "2025-01-02T06:01:55.027Z"
   },
   {
    "duration": 5,
    "start_time": "2025-01-02T06:01:55.035Z"
   },
   {
    "duration": 3,
    "start_time": "2025-01-02T06:01:55.042Z"
   },
   {
    "duration": 5,
    "start_time": "2025-01-02T06:01:55.046Z"
   },
   {
    "duration": 2,
    "start_time": "2025-01-02T06:01:55.053Z"
   },
   {
    "duration": 1779,
    "start_time": "2025-01-02T06:01:55.057Z"
   },
   {
    "duration": 9,
    "start_time": "2025-01-02T06:01:56.838Z"
   },
   {
    "duration": 15,
    "start_time": "2025-01-02T06:01:56.849Z"
   },
   {
    "duration": 3,
    "start_time": "2025-01-02T06:01:56.866Z"
   },
   {
    "duration": 5,
    "start_time": "2025-01-02T06:01:56.871Z"
   },
   {
    "duration": 7,
    "start_time": "2025-01-02T06:01:56.877Z"
   },
   {
    "duration": 26,
    "start_time": "2025-01-02T06:01:56.885Z"
   },
   {
    "duration": 2,
    "start_time": "2025-01-02T06:01:56.913Z"
   },
   {
    "duration": 7,
    "start_time": "2025-01-02T06:01:56.917Z"
   },
   {
    "duration": 9,
    "start_time": "2025-01-02T06:01:56.926Z"
   },
   {
    "duration": 4,
    "start_time": "2025-01-02T06:01:56.936Z"
   },
   {
    "duration": 3,
    "start_time": "2025-01-02T06:01:56.942Z"
   },
   {
    "duration": 5,
    "start_time": "2025-01-02T06:01:56.947Z"
   },
   {
    "duration": 4,
    "start_time": "2025-01-02T06:01:56.954Z"
   },
   {
    "duration": 4,
    "start_time": "2025-01-02T06:01:56.959Z"
   },
   {
    "duration": 6,
    "start_time": "2025-01-02T06:01:56.964Z"
   },
   {
    "duration": 3,
    "start_time": "2025-01-02T06:01:57.011Z"
   },
   {
    "duration": 30,
    "start_time": "2025-01-02T06:01:57.015Z"
   },
   {
    "duration": 27,
    "start_time": "2025-01-02T06:01:57.046Z"
   },
   {
    "duration": 47,
    "start_time": "2025-01-02T06:01:57.075Z"
   },
   {
    "duration": 8,
    "start_time": "2025-01-02T06:01:57.123Z"
   },
   {
    "duration": 4,
    "start_time": "2025-01-02T06:01:57.132Z"
   },
   {
    "duration": 4,
    "start_time": "2025-01-02T06:01:57.138Z"
   },
   {
    "duration": 8,
    "start_time": "2025-01-02T06:01:57.147Z"
   },
   {
    "duration": 2,
    "start_time": "2025-01-02T06:01:57.157Z"
   },
   {
    "duration": 3,
    "start_time": "2025-01-02T06:01:57.161Z"
   },
   {
    "duration": 2060,
    "start_time": "2025-01-02T06:01:57.165Z"
   },
   {
    "duration": 11,
    "start_time": "2025-01-02T06:01:59.227Z"
   },
   {
    "duration": 71,
    "start_time": "2025-01-02T06:01:59.241Z"
   },
   {
    "duration": 11,
    "start_time": "2025-01-02T06:01:59.316Z"
   },
   {
    "duration": 3682,
    "start_time": "2025-01-02T06:01:59.330Z"
   },
   {
    "duration": 4,
    "start_time": "2025-01-02T06:02:03.014Z"
   },
   {
    "duration": 7,
    "start_time": "2025-01-02T06:02:03.021Z"
   },
   {
    "duration": 240070,
    "start_time": "2025-01-02T06:02:03.029Z"
   },
   {
    "duration": 17,
    "start_time": "2025-01-02T06:06:03.101Z"
   },
   {
    "duration": 13,
    "start_time": "2025-01-02T06:06:03.119Z"
   },
   {
    "duration": 19,
    "start_time": "2025-01-02T06:06:03.134Z"
   },
   {
    "duration": 6,
    "start_time": "2025-01-02T06:06:03.154Z"
   },
   {
    "duration": 7,
    "start_time": "2025-01-02T06:06:03.161Z"
   },
   {
    "duration": 3,
    "start_time": "2025-01-02T06:06:03.169Z"
   },
   {
    "duration": 172,
    "start_time": "2025-01-02T06:06:03.174Z"
   },
   {
    "duration": 12,
    "start_time": "2025-01-02T06:14:06.486Z"
   },
   {
    "duration": 2,
    "start_time": "2025-01-02T06:14:07.105Z"
   },
   {
    "duration": 3,
    "start_time": "2025-01-02T06:14:07.615Z"
   },
   {
    "duration": 2,
    "start_time": "2025-01-02T06:14:08.172Z"
   },
   {
    "duration": 2,
    "start_time": "2025-01-02T06:14:08.657Z"
   },
   {
    "duration": 9,
    "start_time": "2025-01-02T19:50:36.860Z"
   },
   {
    "duration": 154,
    "start_time": "2025-01-02T19:51:22.608Z"
   },
   {
    "duration": 11,
    "start_time": "2025-01-02T19:51:27.968Z"
   },
   {
    "duration": 2762,
    "start_time": "2025-01-02T19:52:10.260Z"
   },
   {
    "duration": 26,
    "start_time": "2025-01-02T19:52:13.025Z"
   },
   {
    "duration": 13,
    "start_time": "2025-01-02T19:52:13.053Z"
   },
   {
    "duration": 4,
    "start_time": "2025-01-02T19:52:13.068Z"
   },
   {
    "duration": 11,
    "start_time": "2025-01-02T19:52:15.437Z"
   },
   {
    "duration": 3,
    "start_time": "2025-01-02T19:52:16.498Z"
   },
   {
    "duration": 6,
    "start_time": "2025-01-02T19:52:17.444Z"
   },
   {
    "duration": 28,
    "start_time": "2025-01-02T19:52:17.992Z"
   },
   {
    "duration": 6,
    "start_time": "2025-01-02T19:52:18.955Z"
   },
   {
    "duration": 6,
    "start_time": "2025-01-02T19:52:22.393Z"
   },
   {
    "duration": 7,
    "start_time": "2025-01-02T19:52:24.465Z"
   },
   {
    "duration": 4,
    "start_time": "2025-01-02T19:52:29.247Z"
   },
   {
    "duration": 4,
    "start_time": "2025-01-02T19:52:29.969Z"
   },
   {
    "duration": 6,
    "start_time": "2025-01-02T19:52:30.577Z"
   },
   {
    "duration": 3,
    "start_time": "2025-01-02T19:52:37.497Z"
   },
   {
    "duration": 4,
    "start_time": "2025-01-02T19:52:38.440Z"
   },
   {
    "duration": 3,
    "start_time": "2025-01-02T19:52:47.036Z"
   },
   {
    "duration": 1853,
    "start_time": "2025-01-02T19:52:47.634Z"
   },
   {
    "duration": 12,
    "start_time": "2025-01-02T19:52:49.782Z"
   },
   {
    "duration": 9,
    "start_time": "2025-01-02T19:52:51.302Z"
   },
   {
    "duration": 12,
    "start_time": "2025-01-02T19:52:56.634Z"
   },
   {
    "duration": 14,
    "start_time": "2025-01-02T19:52:58.007Z"
   },
   {
    "duration": 4,
    "start_time": "2025-01-02T19:57:04.638Z"
   },
   {
    "duration": 4,
    "start_time": "2025-01-02T19:57:06.321Z"
   },
   {
    "duration": 7,
    "start_time": "2025-01-02T19:57:07.108Z"
   },
   {
    "duration": 5,
    "start_time": "2025-01-02T19:57:07.769Z"
   },
   {
    "duration": 2,
    "start_time": "2025-01-02T19:57:08.916Z"
   },
   {
    "duration": 8,
    "start_time": "2025-01-02T19:57:10.023Z"
   },
   {
    "duration": 9,
    "start_time": "2025-01-02T19:57:10.901Z"
   },
   {
    "duration": 5,
    "start_time": "2025-01-02T19:57:11.605Z"
   },
   {
    "duration": 3,
    "start_time": "2025-01-02T19:57:12.841Z"
   },
   {
    "duration": 9,
    "start_time": "2025-01-02T19:57:15.241Z"
   },
   {
    "duration": 4,
    "start_time": "2025-01-02T19:58:20.876Z"
   },
   {
    "duration": 4,
    "start_time": "2025-01-02T19:58:21.535Z"
   },
   {
    "duration": 6,
    "start_time": "2025-01-02T19:58:22.129Z"
   },
   {
    "duration": 3,
    "start_time": "2025-01-02T19:58:23.016Z"
   },
   {
    "duration": 28,
    "start_time": "2025-01-02T19:58:41.205Z"
   },
   {
    "duration": 26,
    "start_time": "2025-01-02T19:58:42.324Z"
   },
   {
    "duration": 26,
    "start_time": "2025-01-02T19:58:47.003Z"
   },
   {
    "duration": 8,
    "start_time": "2025-01-02T20:10:44.317Z"
   },
   {
    "duration": 14,
    "start_time": "2025-01-02T20:42:25.249Z"
   },
   {
    "duration": 7,
    "start_time": "2025-01-02T20:42:38.466Z"
   },
   {
    "duration": 987,
    "start_time": "2025-01-02T20:52:02.516Z"
   },
   {
    "duration": 17,
    "start_time": "2025-01-02T20:52:03.505Z"
   },
   {
    "duration": 13,
    "start_time": "2025-01-02T20:52:03.854Z"
   },
   {
    "duration": 5,
    "start_time": "2025-01-02T20:52:04.057Z"
   },
   {
    "duration": 10,
    "start_time": "2025-01-02T20:52:04.903Z"
   },
   {
    "duration": 3,
    "start_time": "2025-01-02T20:52:05.132Z"
   },
   {
    "duration": 7,
    "start_time": "2025-01-02T20:52:05.355Z"
   },
   {
    "duration": 28,
    "start_time": "2025-01-02T20:52:05.556Z"
   },
   {
    "duration": 5,
    "start_time": "2025-01-02T20:52:05.758Z"
   },
   {
    "duration": 6,
    "start_time": "2025-01-02T20:52:06.193Z"
   },
   {
    "duration": 7,
    "start_time": "2025-01-02T20:52:06.409Z"
   },
   {
    "duration": 3,
    "start_time": "2025-01-02T20:52:07.949Z"
   },
   {
    "duration": 3,
    "start_time": "2025-01-02T20:52:08.195Z"
   },
   {
    "duration": 6,
    "start_time": "2025-01-02T20:52:08.403Z"
   },
   {
    "duration": 4,
    "start_time": "2025-01-02T20:52:09.072Z"
   },
   {
    "duration": 5,
    "start_time": "2025-01-02T20:52:09.280Z"
   },
   {
    "duration": 2,
    "start_time": "2025-01-02T20:52:10.917Z"
   },
   {
    "duration": 1829,
    "start_time": "2025-01-02T20:52:12.371Z"
   },
   {
    "duration": 12,
    "start_time": "2025-01-02T20:52:14.202Z"
   },
   {
    "duration": 9,
    "start_time": "2025-01-02T20:52:14.496Z"
   },
   {
    "duration": 12,
    "start_time": "2025-01-02T20:52:18.254Z"
   },
   {
    "duration": 14,
    "start_time": "2025-01-02T20:52:19.108Z"
   },
   {
    "duration": 5,
    "start_time": "2025-01-02T20:52:36.568Z"
   },
   {
    "duration": 3,
    "start_time": "2025-01-02T20:52:37.873Z"
   },
   {
    "duration": 7,
    "start_time": "2025-01-02T20:52:38.527Z"
   },
   {
    "duration": 5,
    "start_time": "2025-01-02T20:52:39.791Z"
   },
   {
    "duration": 2,
    "start_time": "2025-01-02T20:52:40.888Z"
   },
   {
    "duration": 7,
    "start_time": "2025-01-02T20:52:41.406Z"
   },
   {
    "duration": 9,
    "start_time": "2025-01-02T20:52:42.292Z"
   },
   {
    "duration": 5,
    "start_time": "2025-01-02T20:52:43.061Z"
   },
   {
    "duration": 3,
    "start_time": "2025-01-02T20:52:44.625Z"
   },
   {
    "duration": 10,
    "start_time": "2025-01-02T20:52:45.486Z"
   },
   {
    "duration": 3,
    "start_time": "2025-01-02T20:52:54.466Z"
   },
   {
    "duration": 6,
    "start_time": "2025-01-02T20:52:55.014Z"
   },
   {
    "duration": 13,
    "start_time": "2025-01-02T20:52:56.031Z"
   },
   {
    "duration": 3,
    "start_time": "2025-01-02T20:52:56.579Z"
   },
   {
    "duration": 28,
    "start_time": "2025-01-02T20:52:59.951Z"
   },
   {
    "duration": 28,
    "start_time": "2025-01-02T20:53:00.504Z"
   },
   {
    "duration": 29,
    "start_time": "2025-01-02T20:53:01.300Z"
   },
   {
    "duration": 4,
    "start_time": "2025-01-02T20:53:20.165Z"
   },
   {
    "duration": 3,
    "start_time": "2025-01-02T20:53:21.007Z"
   },
   {
    "duration": 9,
    "start_time": "2025-01-02T20:53:29.860Z"
   },
   {
    "duration": 4,
    "start_time": "2025-01-02T20:53:35.437Z"
   },
   {
    "duration": 238,
    "start_time": "2025-01-02T20:54:23.367Z"
   },
   {
    "duration": 9,
    "start_time": "2025-01-02T20:55:03.310Z"
   },
   {
    "duration": 4,
    "start_time": "2025-01-02T20:55:07.408Z"
   },
   {
    "duration": 3,
    "start_time": "2025-01-02T20:55:08.095Z"
   },
   {
    "duration": 9,
    "start_time": "2025-01-02T20:55:09.242Z"
   },
   {
    "duration": 347,
    "start_time": "2025-01-02T20:55:13.606Z"
   },
   {
    "duration": 4,
    "start_time": "2025-01-02T20:58:20.407Z"
   },
   {
    "duration": 9,
    "start_time": "2025-01-02T20:58:30.690Z"
   },
   {
    "duration": 38,
    "start_time": "2025-01-02T20:58:36.267Z"
   },
   {
    "duration": 983,
    "start_time": "2025-01-02T20:58:55.191Z"
   },
   {
    "duration": 14,
    "start_time": "2025-01-02T20:58:56.176Z"
   },
   {
    "duration": 11,
    "start_time": "2025-01-02T20:58:56.214Z"
   },
   {
    "duration": 3,
    "start_time": "2025-01-02T20:58:56.483Z"
   },
   {
    "duration": 10,
    "start_time": "2025-01-02T20:58:57.023Z"
   },
   {
    "duration": 3,
    "start_time": "2025-01-02T20:58:57.219Z"
   },
   {
    "duration": 6,
    "start_time": "2025-01-02T20:58:57.400Z"
   },
   {
    "duration": 26,
    "start_time": "2025-01-02T20:58:57.579Z"
   },
   {
    "duration": 5,
    "start_time": "2025-01-02T20:58:57.968Z"
   },
   {
    "duration": 5,
    "start_time": "2025-01-02T20:58:58.548Z"
   },
   {
    "duration": 6,
    "start_time": "2025-01-02T20:58:58.738Z"
   },
   {
    "duration": 4,
    "start_time": "2025-01-02T20:58:59.956Z"
   },
   {
    "duration": 4,
    "start_time": "2025-01-02T20:59:00.153Z"
   },
   {
    "duration": 7,
    "start_time": "2025-01-02T20:59:00.359Z"
   },
   {
    "duration": 4,
    "start_time": "2025-01-02T20:59:01.182Z"
   },
   {
    "duration": 4,
    "start_time": "2025-01-02T20:59:01.382Z"
   },
   {
    "duration": 3,
    "start_time": "2025-01-02T20:59:02.868Z"
   },
   {
    "duration": 1841,
    "start_time": "2025-01-02T20:59:03.282Z"
   },
   {
    "duration": 16,
    "start_time": "2025-01-02T20:59:05.156Z"
   },
   {
    "duration": 9,
    "start_time": "2025-01-02T20:59:05.491Z"
   },
   {
    "duration": 12,
    "start_time": "2025-01-02T20:59:05.683Z"
   },
   {
    "duration": 11,
    "start_time": "2025-01-02T20:59:05.915Z"
   },
   {
    "duration": 5,
    "start_time": "2025-01-02T20:59:42.500Z"
   },
   {
    "duration": 4,
    "start_time": "2025-01-02T20:59:43.568Z"
   },
   {
    "duration": 9,
    "start_time": "2025-01-02T20:59:44.036Z"
   },
   {
    "duration": 5,
    "start_time": "2025-01-02T20:59:44.602Z"
   },
   {
    "duration": 2,
    "start_time": "2025-01-02T20:59:45.230Z"
   },
   {
    "duration": 9,
    "start_time": "2025-01-02T20:59:45.784Z"
   },
   {
    "duration": 10,
    "start_time": "2025-01-02T20:59:46.270Z"
   },
   {
    "duration": 5,
    "start_time": "2025-01-02T20:59:46.786Z"
   },
   {
    "duration": 4,
    "start_time": "2025-01-02T20:59:47.401Z"
   },
   {
    "duration": 3,
    "start_time": "2025-01-02T20:59:48.351Z"
   },
   {
    "duration": 9,
    "start_time": "2025-01-02T20:59:49.516Z"
   },
   {
    "duration": 3,
    "start_time": "2025-01-02T20:59:52.142Z"
   },
   {
    "duration": 6,
    "start_time": "2025-01-02T20:59:52.715Z"
   },
   {
    "duration": 13,
    "start_time": "2025-01-02T20:59:53.524Z"
   },
   {
    "duration": 3,
    "start_time": "2025-01-02T20:59:54.102Z"
   },
   {
    "duration": 27,
    "start_time": "2025-01-02T20:59:55.054Z"
   },
   {
    "duration": 26,
    "start_time": "2025-01-02T20:59:55.285Z"
   },
   {
    "duration": 26,
    "start_time": "2025-01-02T20:59:55.593Z"
   },
   {
    "duration": 9,
    "start_time": "2025-01-02T20:59:57.724Z"
   },
   {
    "duration": 5,
    "start_time": "2025-01-02T21:00:00.464Z"
   },
   {
    "duration": 3,
    "start_time": "2025-01-02T21:00:01.792Z"
   },
   {
    "duration": 10,
    "start_time": "2025-01-02T21:00:02.611Z"
   },
   {
    "duration": 569,
    "start_time": "2025-01-02T21:00:04.635Z"
   },
   {
    "duration": 5,
    "start_time": "2025-01-02T21:07:03.336Z"
   },
   {
    "duration": 8728,
    "start_time": "2025-01-02T21:07:05.835Z"
   },
   {
    "duration": 11860,
    "start_time": "2025-01-02T21:07:14.565Z"
   },
   {
    "duration": 4979,
    "start_time": "2025-01-02T21:07:26.427Z"
   },
   {
    "duration": 134,
    "start_time": "2025-01-02T21:07:31.409Z"
   },
   {
    "duration": 6,
    "start_time": "2025-01-02T21:07:31.545Z"
   },
   {
    "duration": 0,
    "start_time": "2025-01-02T21:07:31.552Z"
   },
   {
    "duration": 105,
    "start_time": "2025-01-02T21:07:55.450Z"
   },
   {
    "duration": 75,
    "start_time": "2025-01-02T21:08:03.783Z"
   },
   {
    "duration": 3,
    "start_time": "2025-01-02T21:08:35.334Z"
   },
   {
    "duration": 14,
    "start_time": "2025-01-02T21:08:36.368Z"
   },
   {
    "duration": 2,
    "start_time": "2025-01-02T21:08:38.541Z"
   },
   {
    "duration": 3,
    "start_time": "2025-01-02T21:08:39.106Z"
   },
   {
    "duration": 1171,
    "start_time": "2025-01-02T21:08:39.660Z"
   },
   {
    "duration": 12,
    "start_time": "2025-01-02T21:08:45.081Z"
   },
   {
    "duration": 11,
    "start_time": "2025-01-02T21:08:58.652Z"
   },
   {
    "duration": 9,
    "start_time": "2025-01-02T21:08:59.698Z"
   },
   {
    "duration": 3679,
    "start_time": "2025-01-02T21:09:03.872Z"
   },
   {
    "duration": 5,
    "start_time": "2025-01-02T21:09:13.342Z"
   },
   {
    "duration": 8,
    "start_time": "2025-01-02T21:09:13.965Z"
   },
   {
    "duration": 242956,
    "start_time": "2025-01-02T21:09:14.704Z"
   },
   {
    "duration": 11,
    "start_time": "2025-01-02T21:13:17.662Z"
   },
   {
    "duration": 14,
    "start_time": "2025-01-02T21:13:17.674Z"
   },
   {
    "duration": 18,
    "start_time": "2025-01-02T21:13:17.690Z"
   },
   {
    "duration": 5,
    "start_time": "2025-01-02T21:13:17.710Z"
   },
   {
    "duration": 3675,
    "start_time": "2025-01-02T21:40:51.290Z"
   },
   {
    "duration": 5,
    "start_time": "2025-01-02T22:04:15.114Z"
   },
   {
    "duration": 5,
    "start_time": "2025-01-02T22:10:24.576Z"
   },
   {
    "duration": 6,
    "start_time": "2025-01-02T22:19:35.004Z"
   },
   {
    "duration": 20,
    "start_time": "2025-01-02T22:19:35.532Z"
   },
   {
    "duration": 5,
    "start_time": "2025-01-02T22:20:17.109Z"
   },
   {
    "duration": 18,
    "start_time": "2025-01-02T22:20:35.088Z"
   },
   {
    "duration": 6,
    "start_time": "2025-01-02T22:20:46.375Z"
   },
   {
    "duration": 159,
    "start_time": "2025-01-02T22:20:46.785Z"
   },
   {
    "duration": 10,
    "start_time": "2025-01-02T22:20:46.975Z"
   },
   {
    "duration": 11,
    "start_time": "2025-01-02T22:20:47.185Z"
   },
   {
    "duration": 11,
    "start_time": "2025-01-02T22:20:47.724Z"
   },
   {
    "duration": 11,
    "start_time": "2025-01-02T22:20:47.927Z"
   },
   {
    "duration": 10,
    "start_time": "2025-01-02T22:20:48.127Z"
   },
   {
    "duration": 12,
    "start_time": "2025-01-02T22:20:48.489Z"
   },
   {
    "duration": 8,
    "start_time": "2025-01-02T22:21:03.178Z"
   },
   {
    "duration": 151,
    "start_time": "2025-01-02T22:21:03.883Z"
   },
   {
    "duration": 1031,
    "start_time": "2025-01-02T22:21:23.570Z"
   },
   {
    "duration": 17,
    "start_time": "2025-01-02T22:21:24.944Z"
   },
   {
    "duration": 13,
    "start_time": "2025-01-02T22:21:25.777Z"
   },
   {
    "duration": 5,
    "start_time": "2025-01-02T22:21:25.976Z"
   },
   {
    "duration": 10,
    "start_time": "2025-01-02T22:21:26.537Z"
   },
   {
    "duration": 3,
    "start_time": "2025-01-02T22:21:26.723Z"
   },
   {
    "duration": 7,
    "start_time": "2025-01-02T22:21:26.920Z"
   },
   {
    "duration": 28,
    "start_time": "2025-01-02T22:21:27.119Z"
   },
   {
    "duration": 5,
    "start_time": "2025-01-02T22:21:27.337Z"
   },
   {
    "duration": 5,
    "start_time": "2025-01-02T22:21:27.693Z"
   },
   {
    "duration": 7,
    "start_time": "2025-01-02T22:21:28.077Z"
   },
   {
    "duration": 4,
    "start_time": "2025-01-02T22:21:29.419Z"
   },
   {
    "duration": 5,
    "start_time": "2025-01-02T22:21:29.615Z"
   },
   {
    "duration": 8,
    "start_time": "2025-01-02T22:21:29.804Z"
   },
   {
    "duration": 4,
    "start_time": "2025-01-02T22:21:30.397Z"
   },
   {
    "duration": 5,
    "start_time": "2025-01-02T22:21:30.608Z"
   },
   {
    "duration": 3,
    "start_time": "2025-01-02T22:21:31.436Z"
   },
   {
    "duration": 1890,
    "start_time": "2025-01-02T22:21:31.637Z"
   },
   {
    "duration": 13,
    "start_time": "2025-01-02T22:21:33.529Z"
   },
   {
    "duration": 9,
    "start_time": "2025-01-02T22:21:33.544Z"
   },
   {
    "duration": 11,
    "start_time": "2025-01-02T22:21:33.554Z"
   },
   {
    "duration": 11,
    "start_time": "2025-01-02T22:21:33.566Z"
   },
   {
    "duration": 4,
    "start_time": "2025-01-02T22:21:38.097Z"
   },
   {
    "duration": 4,
    "start_time": "2025-01-02T22:21:39.335Z"
   },
   {
    "duration": 7,
    "start_time": "2025-01-02T22:22:43.872Z"
   },
   {
    "duration": 5,
    "start_time": "2025-01-02T22:22:44.395Z"
   },
   {
    "duration": 2,
    "start_time": "2025-01-02T22:22:45.774Z"
   },
   {
    "duration": 8,
    "start_time": "2025-01-02T22:22:46.278Z"
   },
   {
    "duration": 10,
    "start_time": "2025-01-02T22:22:46.902Z"
   },
   {
    "duration": 5,
    "start_time": "2025-01-02T22:22:47.525Z"
   },
   {
    "duration": 3,
    "start_time": "2025-01-02T22:22:48.307Z"
   },
   {
    "duration": 10,
    "start_time": "2025-01-02T22:22:49.403Z"
   },
   {
    "duration": 4,
    "start_time": "2025-01-02T22:22:52.237Z"
   },
   {
    "duration": 8,
    "start_time": "2025-01-02T22:22:52.900Z"
   },
   {
    "duration": 13,
    "start_time": "2025-01-02T22:22:53.352Z"
   },
   {
    "duration": 3,
    "start_time": "2025-01-02T22:22:53.794Z"
   },
   {
    "duration": 28,
    "start_time": "2025-01-02T22:22:56.467Z"
   },
   {
    "duration": 28,
    "start_time": "2025-01-02T22:22:56.756Z"
   },
   {
    "duration": 27,
    "start_time": "2025-01-02T22:22:57.083Z"
   },
   {
    "duration": 9,
    "start_time": "2025-01-02T22:46:48.720Z"
   },
   {
    "duration": 4,
    "start_time": "2025-01-02T22:46:51.571Z"
   },
   {
    "duration": 3,
    "start_time": "2025-01-02T22:46:52.992Z"
   },
   {
    "duration": 6,
    "start_time": "2025-01-02T22:46:53.921Z"
   },
   {
    "duration": 7,
    "start_time": "2025-01-02T22:46:54.603Z"
   },
   {
    "duration": 16525,
    "start_time": "2025-01-02T22:46:57.143Z"
   },
   {
    "duration": 81,
    "start_time": "2025-01-02T22:47:13.670Z"
   },
   {
    "duration": 373,
    "start_time": "2025-01-02T22:47:13.753Z"
   },
   {
    "duration": 0,
    "start_time": "2025-01-02T22:47:14.128Z"
   },
   {
    "duration": 0,
    "start_time": "2025-01-02T22:47:14.129Z"
   },
   {
    "duration": 0,
    "start_time": "2025-01-02T22:47:14.130Z"
   },
   {
    "duration": 0,
    "start_time": "2025-01-02T22:47:14.131Z"
   },
   {
    "duration": 0,
    "start_time": "2025-01-02T22:47:14.131Z"
   },
   {
    "duration": 0,
    "start_time": "2025-01-02T22:47:14.132Z"
   },
   {
    "duration": 0,
    "start_time": "2025-01-02T22:47:14.132Z"
   },
   {
    "duration": 4,
    "start_time": "2025-01-02T22:48:48.862Z"
   },
   {
    "duration": 3,
    "start_time": "2025-01-02T22:48:49.651Z"
   },
   {
    "duration": 2,
    "start_time": "2025-01-02T22:48:50.326Z"
   },
   {
    "duration": 2,
    "start_time": "2025-01-02T22:48:53.760Z"
   },
   {
    "duration": 16,
    "start_time": "2025-01-02T22:48:55.623Z"
   },
   {
    "duration": 15,
    "start_time": "2025-01-02T22:49:06.810Z"
   },
   {
    "duration": 2,
    "start_time": "2025-01-02T22:49:19.986Z"
   },
   {
    "duration": 2,
    "start_time": "2025-01-02T22:49:23.276Z"
   },
   {
    "duration": 14,
    "start_time": "2025-01-02T22:49:30.201Z"
   },
   {
    "duration": 2,
    "start_time": "2025-01-02T22:49:41.088Z"
   },
   {
    "duration": 14,
    "start_time": "2025-01-02T22:49:45.523Z"
   },
   {
    "duration": 1065,
    "start_time": "2025-01-02T23:24:52.544Z"
   },
   {
    "duration": 16,
    "start_time": "2025-01-02T23:24:53.611Z"
   },
   {
    "duration": 21,
    "start_time": "2025-01-02T23:24:53.628Z"
   },
   {
    "duration": 4,
    "start_time": "2025-01-02T23:24:53.651Z"
   },
   {
    "duration": 10,
    "start_time": "2025-01-02T23:24:53.657Z"
   },
   {
    "duration": 5,
    "start_time": "2025-01-02T23:24:53.668Z"
   },
   {
    "duration": 6,
    "start_time": "2025-01-02T23:24:53.675Z"
   },
   {
    "duration": 60,
    "start_time": "2025-01-02T23:24:53.683Z"
   },
   {
    "duration": 5,
    "start_time": "2025-01-02T23:24:53.744Z"
   },
   {
    "duration": 6,
    "start_time": "2025-01-02T23:24:53.753Z"
   },
   {
    "duration": 7,
    "start_time": "2025-01-02T23:24:53.761Z"
   },
   {
    "duration": 3,
    "start_time": "2025-01-02T23:24:53.770Z"
   },
   {
    "duration": 4,
    "start_time": "2025-01-02T23:24:53.775Z"
   },
   {
    "duration": 9,
    "start_time": "2025-01-02T23:24:53.781Z"
   },
   {
    "duration": 3,
    "start_time": "2025-01-02T23:24:53.792Z"
   },
   {
    "duration": 4,
    "start_time": "2025-01-02T23:24:53.797Z"
   },
   {
    "duration": 2,
    "start_time": "2025-01-02T23:24:53.843Z"
   },
   {
    "duration": 1792,
    "start_time": "2025-01-02T23:24:53.847Z"
   },
   {
    "duration": 13,
    "start_time": "2025-01-02T23:24:55.641Z"
   },
   {
    "duration": 10,
    "start_time": "2025-01-02T23:24:55.655Z"
   },
   {
    "duration": 11,
    "start_time": "2025-01-02T23:24:55.666Z"
   },
   {
    "duration": 11,
    "start_time": "2025-01-02T23:24:55.679Z"
   },
   {
    "duration": 6,
    "start_time": "2025-01-02T23:24:55.692Z"
   },
   {
    "duration": 4,
    "start_time": "2025-01-02T23:24:55.701Z"
   },
   {
    "duration": 38,
    "start_time": "2025-01-02T23:24:55.707Z"
   },
   {
    "duration": 5,
    "start_time": "2025-01-02T23:24:55.747Z"
   },
   {
    "duration": 3,
    "start_time": "2025-01-02T23:24:55.753Z"
   },
   {
    "duration": 7,
    "start_time": "2025-01-02T23:24:55.761Z"
   },
   {
    "duration": 8,
    "start_time": "2025-01-02T23:24:55.770Z"
   },
   {
    "duration": 5,
    "start_time": "2025-01-02T23:24:55.780Z"
   },
   {
    "duration": 4,
    "start_time": "2025-01-02T23:24:55.786Z"
   },
   {
    "duration": 10,
    "start_time": "2025-01-02T23:24:55.791Z"
   },
   {
    "duration": 3,
    "start_time": "2025-01-02T23:24:55.803Z"
   },
   {
    "duration": 7,
    "start_time": "2025-01-02T23:24:55.842Z"
   },
   {
    "duration": 14,
    "start_time": "2025-01-02T23:24:55.850Z"
   },
   {
    "duration": 3,
    "start_time": "2025-01-02T23:24:55.865Z"
   },
   {
    "duration": 28,
    "start_time": "2025-01-02T23:24:55.870Z"
   },
   {
    "duration": 66,
    "start_time": "2025-01-02T23:24:55.901Z"
   },
   {
    "duration": 26,
    "start_time": "2025-01-02T23:24:55.969Z"
   },
   {
    "duration": 8,
    "start_time": "2025-01-02T23:24:55.997Z"
   },
   {
    "duration": 5,
    "start_time": "2025-01-02T23:24:56.007Z"
   },
   {
    "duration": 32,
    "start_time": "2025-01-02T23:24:56.013Z"
   },
   {
    "duration": 6,
    "start_time": "2025-01-02T23:24:56.047Z"
   },
   {
    "duration": 6,
    "start_time": "2025-01-02T23:24:56.055Z"
   },
   {
    "duration": 16510,
    "start_time": "2025-01-02T23:24:56.062Z"
   },
   {
    "duration": 69,
    "start_time": "2025-01-02T23:25:12.574Z"
   },
   {
    "duration": 2,
    "start_time": "2025-01-02T23:25:12.645Z"
   },
   {
    "duration": 3,
    "start_time": "2025-01-02T23:25:12.649Z"
   },
   {
    "duration": 2,
    "start_time": "2025-01-02T23:25:12.653Z"
   },
   {
    "duration": 2,
    "start_time": "2025-01-02T23:25:12.657Z"
   },
   {
    "duration": 2,
    "start_time": "2025-01-02T23:25:12.661Z"
   },
   {
    "duration": 78,
    "start_time": "2025-01-02T23:25:12.665Z"
   },
   {
    "duration": 2,
    "start_time": "2025-01-02T23:25:12.745Z"
   },
   {
    "duration": 2,
    "start_time": "2025-01-02T23:25:12.749Z"
   },
   {
    "duration": 3,
    "start_time": "2025-01-02T23:25:12.752Z"
   },
   {
    "duration": 326,
    "start_time": "2025-01-02T23:25:12.759Z"
   },
   {
    "duration": 0,
    "start_time": "2025-01-02T23:25:13.087Z"
   },
   {
    "duration": 0,
    "start_time": "2025-01-02T23:25:13.088Z"
   },
   {
    "duration": 0,
    "start_time": "2025-01-02T23:25:13.089Z"
   },
   {
    "duration": 0,
    "start_time": "2025-01-02T23:25:13.090Z"
   },
   {
    "duration": 0,
    "start_time": "2025-01-02T23:25:13.091Z"
   },
   {
    "duration": 0,
    "start_time": "2025-01-02T23:25:13.092Z"
   },
   {
    "duration": 0,
    "start_time": "2025-01-02T23:25:13.093Z"
   },
   {
    "duration": 0,
    "start_time": "2025-01-02T23:25:13.094Z"
   },
   {
    "duration": 0,
    "start_time": "2025-01-02T23:25:13.095Z"
   },
   {
    "duration": 0,
    "start_time": "2025-01-02T23:25:13.096Z"
   },
   {
    "duration": 0,
    "start_time": "2025-01-02T23:25:13.098Z"
   },
   {
    "duration": 0,
    "start_time": "2025-01-02T23:25:13.099Z"
   },
   {
    "duration": 0,
    "start_time": "2025-01-02T23:25:13.100Z"
   },
   {
    "duration": 0,
    "start_time": "2025-01-02T23:25:13.101Z"
   },
   {
    "duration": 0,
    "start_time": "2025-01-02T23:25:13.102Z"
   },
   {
    "duration": 0,
    "start_time": "2025-01-02T23:25:13.103Z"
   },
   {
    "duration": 0,
    "start_time": "2025-01-02T23:25:13.104Z"
   },
   {
    "duration": 2,
    "start_time": "2025-01-02T23:25:52.042Z"
   },
   {
    "duration": 1032,
    "start_time": "2025-01-02T23:35:42.064Z"
   },
   {
    "duration": 17,
    "start_time": "2025-01-02T23:35:43.894Z"
   },
   {
    "duration": 13,
    "start_time": "2025-01-02T23:35:44.479Z"
   },
   {
    "duration": 3,
    "start_time": "2025-01-02T23:35:45.135Z"
   },
   {
    "duration": 10,
    "start_time": "2025-01-02T23:35:45.932Z"
   },
   {
    "duration": 3,
    "start_time": "2025-01-02T23:35:46.157Z"
   },
   {
    "duration": 7,
    "start_time": "2025-01-02T23:35:46.487Z"
   },
   {
    "duration": 28,
    "start_time": "2025-01-02T23:35:46.703Z"
   },
   {
    "duration": 5,
    "start_time": "2025-01-02T23:35:46.909Z"
   },
   {
    "duration": 6,
    "start_time": "2025-01-02T23:35:47.306Z"
   },
   {
    "duration": 7,
    "start_time": "2025-01-02T23:35:47.484Z"
   },
   {
    "duration": 3,
    "start_time": "2025-01-02T23:35:48.475Z"
   },
   {
    "duration": 4,
    "start_time": "2025-01-02T23:35:48.692Z"
   },
   {
    "duration": 9,
    "start_time": "2025-01-02T23:35:48.883Z"
   },
   {
    "duration": 4,
    "start_time": "2025-01-02T23:35:49.495Z"
   },
   {
    "duration": 4,
    "start_time": "2025-01-02T23:35:49.721Z"
   },
   {
    "duration": 3,
    "start_time": "2025-01-02T23:35:50.546Z"
   },
   {
    "duration": 1832,
    "start_time": "2025-01-02T23:35:50.759Z"
   },
   {
    "duration": 13,
    "start_time": "2025-01-02T23:35:52.593Z"
   },
   {
    "duration": 9,
    "start_time": "2025-01-02T23:35:53.991Z"
   },
   {
    "duration": 11,
    "start_time": "2025-01-02T23:35:54.972Z"
   },
   {
    "duration": 11,
    "start_time": "2025-01-02T23:35:55.987Z"
   },
   {
    "duration": 5,
    "start_time": "2025-01-02T23:36:04.837Z"
   },
   {
    "duration": 4,
    "start_time": "2025-01-02T23:36:05.971Z"
   },
   {
    "duration": 7,
    "start_time": "2025-01-02T23:36:06.804Z"
   },
   {
    "duration": 6,
    "start_time": "2025-01-02T23:36:08.689Z"
   },
   {
    "duration": 3,
    "start_time": "2025-01-02T23:36:09.887Z"
   },
   {
    "duration": 8,
    "start_time": "2025-01-02T23:36:11.165Z"
   },
   {
    "duration": 10,
    "start_time": "2025-01-02T23:36:12.575Z"
   },
   {
    "duration": 4,
    "start_time": "2025-01-02T23:36:13.261Z"
   },
   {
    "duration": 4,
    "start_time": "2025-01-02T23:36:14.077Z"
   },
   {
    "duration": 9,
    "start_time": "2025-01-02T23:36:14.763Z"
   },
   {
    "duration": 3,
    "start_time": "2025-01-02T23:36:18.412Z"
   },
   {
    "duration": 6,
    "start_time": "2025-01-02T23:36:19.505Z"
   },
   {
    "duration": 13,
    "start_time": "2025-01-02T23:36:20.158Z"
   },
   {
    "duration": 3,
    "start_time": "2025-01-02T23:36:20.831Z"
   },
   {
    "duration": 28,
    "start_time": "2025-01-02T23:36:22.336Z"
   },
   {
    "duration": 27,
    "start_time": "2025-01-02T23:36:22.788Z"
   },
   {
    "duration": 27,
    "start_time": "2025-01-02T23:36:23.423Z"
   },
   {
    "duration": 8,
    "start_time": "2025-01-02T23:36:25.479Z"
   },
   {
    "duration": 4,
    "start_time": "2025-01-02T23:36:29.030Z"
   },
   {
    "duration": 3,
    "start_time": "2025-01-02T23:36:32.205Z"
   },
   {
    "duration": 2,
    "start_time": "2025-01-02T23:36:33.546Z"
   },
   {
    "duration": 2,
    "start_time": "2025-01-02T23:36:34.290Z"
   },
   {
    "duration": 4,
    "start_time": "2025-01-02T23:36:35.217Z"
   },
   {
    "duration": 5,
    "start_time": "2025-01-02T23:36:38.811Z"
   },
   {
    "duration": 682,
    "start_time": "2025-01-02T23:36:39.825Z"
   },
   {
    "duration": 15,
    "start_time": "2025-01-02T23:36:40.874Z"
   },
   {
    "duration": 102,
    "start_time": "2025-01-02T23:38:16.404Z"
   },
   {
    "duration": 1022,
    "start_time": "2025-01-02T23:43:24.173Z"
   },
   {
    "duration": 16,
    "start_time": "2025-01-02T23:43:25.197Z"
   },
   {
    "duration": 11,
    "start_time": "2025-01-02T23:43:25.216Z"
   },
   {
    "duration": 3,
    "start_time": "2025-01-02T23:43:25.229Z"
   },
   {
    "duration": 10,
    "start_time": "2025-01-02T23:43:25.772Z"
   },
   {
    "duration": 3,
    "start_time": "2025-01-02T23:43:25.965Z"
   },
   {
    "duration": 6,
    "start_time": "2025-01-02T23:43:26.158Z"
   },
   {
    "duration": 28,
    "start_time": "2025-01-02T23:43:26.508Z"
   },
   {
    "duration": 6,
    "start_time": "2025-01-02T23:43:26.729Z"
   },
   {
    "duration": 6,
    "start_time": "2025-01-02T23:43:27.289Z"
   },
   {
    "duration": 8,
    "start_time": "2025-01-02T23:43:27.521Z"
   },
   {
    "duration": 3,
    "start_time": "2025-01-02T23:43:28.541Z"
   },
   {
    "duration": 4,
    "start_time": "2025-01-02T23:43:29.026Z"
   },
   {
    "duration": 6,
    "start_time": "2025-01-02T23:43:29.164Z"
   },
   {
    "duration": 4,
    "start_time": "2025-01-02T23:43:29.776Z"
   },
   {
    "duration": 5,
    "start_time": "2025-01-02T23:43:30.003Z"
   },
   {
    "duration": 2,
    "start_time": "2025-01-02T23:43:30.979Z"
   },
   {
    "duration": 1810,
    "start_time": "2025-01-02T23:43:31.202Z"
   },
   {
    "duration": 13,
    "start_time": "2025-01-02T23:43:33.014Z"
   },
   {
    "duration": 9,
    "start_time": "2025-01-02T23:43:33.029Z"
   },
   {
    "duration": 11,
    "start_time": "2025-01-02T23:43:33.040Z"
   },
   {
    "duration": 10,
    "start_time": "2025-01-02T23:43:33.052Z"
   },
   {
    "duration": 4,
    "start_time": "2025-01-02T23:43:39.081Z"
   },
   {
    "duration": 3,
    "start_time": "2025-01-02T23:43:40.417Z"
   },
   {
    "duration": 8,
    "start_time": "2025-01-02T23:43:40.941Z"
   },
   {
    "duration": 4,
    "start_time": "2025-01-02T23:43:41.586Z"
   },
   {
    "duration": 2,
    "start_time": "2025-01-02T23:43:42.144Z"
   },
   {
    "duration": 7,
    "start_time": "2025-01-02T23:43:42.746Z"
   },
   {
    "duration": 13,
    "start_time": "2025-01-02T23:43:43.462Z"
   },
   {
    "duration": 7,
    "start_time": "2025-01-02T23:43:43.909Z"
   },
   {
    "duration": 3,
    "start_time": "2025-01-02T23:43:44.404Z"
   },
   {
    "duration": 13,
    "start_time": "2025-01-02T23:43:45.026Z"
   },
   {
    "duration": 8,
    "start_time": "2025-01-02T23:43:47.465Z"
   },
   {
    "duration": 8,
    "start_time": "2025-01-02T23:43:47.729Z"
   },
   {
    "duration": 14,
    "start_time": "2025-01-02T23:43:47.927Z"
   },
   {
    "duration": 3,
    "start_time": "2025-01-02T23:43:48.135Z"
   },
   {
    "duration": 37,
    "start_time": "2025-01-02T23:43:48.883Z"
   },
   {
    "duration": 33,
    "start_time": "2025-01-02T23:43:49.133Z"
   },
   {
    "duration": 28,
    "start_time": "2025-01-02T23:43:49.354Z"
   },
   {
    "duration": 9,
    "start_time": "2025-01-02T23:43:50.176Z"
   },
   {
    "duration": 3,
    "start_time": "2025-01-02T23:43:56.707Z"
   },
   {
    "duration": 4,
    "start_time": "2025-01-02T23:43:58.552Z"
   },
   {
    "duration": 3,
    "start_time": "2025-01-02T23:43:59.822Z"
   },
   {
    "duration": 2,
    "start_time": "2025-01-02T23:44:00.309Z"
   },
   {
    "duration": 3,
    "start_time": "2025-01-02T23:44:01.012Z"
   },
   {
    "duration": 664,
    "start_time": "2025-01-02T23:44:03.660Z"
   },
   {
    "duration": 4,
    "start_time": "2025-01-02T23:44:56.479Z"
   },
   {
    "duration": 96,
    "start_time": "2025-01-02T23:44:59.049Z"
   },
   {
    "duration": 5,
    "start_time": "2025-01-03T01:36:19.334Z"
   },
   {
    "duration": 3,
    "start_time": "2025-01-03T01:36:24.480Z"
   },
   {
    "duration": 178,
    "start_time": "2025-01-03T01:36:28.184Z"
   },
   {
    "duration": 5,
    "start_time": "2025-01-03T01:38:27.026Z"
   },
   {
    "duration": 6,
    "start_time": "2025-01-03T01:39:04.950Z"
   },
   {
    "duration": 4,
    "start_time": "2025-01-03T01:40:00.115Z"
   },
   {
    "duration": 89,
    "start_time": "2025-01-03T01:41:07.464Z"
   },
   {
    "duration": 7,
    "start_time": "2025-01-03T01:43:07.552Z"
   },
   {
    "duration": 88,
    "start_time": "2025-01-03T01:43:14.825Z"
   },
   {
    "duration": 1012,
    "start_time": "2025-01-03T01:49:54.368Z"
   },
   {
    "duration": 16,
    "start_time": "2025-01-03T01:49:55.407Z"
   },
   {
    "duration": 13,
    "start_time": "2025-01-03T01:49:55.708Z"
   },
   {
    "duration": 4,
    "start_time": "2025-01-03T01:49:56.112Z"
   },
   {
    "duration": 11,
    "start_time": "2025-01-03T01:49:56.953Z"
   },
   {
    "duration": 4,
    "start_time": "2025-01-03T01:49:57.233Z"
   },
   {
    "duration": 6,
    "start_time": "2025-01-03T01:49:57.439Z"
   },
   {
    "duration": 27,
    "start_time": "2025-01-03T01:49:57.627Z"
   },
   {
    "duration": 4,
    "start_time": "2025-01-03T01:49:57.825Z"
   },
   {
    "duration": 5,
    "start_time": "2025-01-03T01:49:58.238Z"
   },
   {
    "duration": 6,
    "start_time": "2025-01-03T01:49:58.445Z"
   },
   {
    "duration": 4,
    "start_time": "2025-01-03T01:49:59.573Z"
   },
   {
    "duration": 4,
    "start_time": "2025-01-03T01:50:00.010Z"
   },
   {
    "duration": 7,
    "start_time": "2025-01-03T01:50:00.233Z"
   },
   {
    "duration": 4,
    "start_time": "2025-01-03T01:50:02.345Z"
   },
   {
    "duration": 6,
    "start_time": "2025-01-03T01:50:02.479Z"
   },
   {
    "duration": 2,
    "start_time": "2025-01-03T01:50:04.017Z"
   },
   {
    "duration": 1814,
    "start_time": "2025-01-03T01:50:04.297Z"
   },
   {
    "duration": 13,
    "start_time": "2025-01-03T01:50:06.113Z"
   },
   {
    "duration": 9,
    "start_time": "2025-01-03T01:50:06.128Z"
   },
   {
    "duration": 10,
    "start_time": "2025-01-03T01:50:06.142Z"
   },
   {
    "duration": 11,
    "start_time": "2025-01-03T01:50:06.154Z"
   },
   {
    "duration": 3,
    "start_time": "2025-01-03T01:50:11.995Z"
   },
   {
    "duration": 4,
    "start_time": "2025-01-03T01:50:13.311Z"
   },
   {
    "duration": 7,
    "start_time": "2025-01-03T01:50:13.890Z"
   },
   {
    "duration": 5,
    "start_time": "2025-01-03T01:50:14.631Z"
   },
   {
    "duration": 2,
    "start_time": "2025-01-03T01:50:15.111Z"
   },
   {
    "duration": 7,
    "start_time": "2025-01-03T01:50:15.676Z"
   },
   {
    "duration": 9,
    "start_time": "2025-01-03T01:50:16.323Z"
   },
   {
    "duration": 5,
    "start_time": "2025-01-03T01:50:17.039Z"
   },
   {
    "duration": 3,
    "start_time": "2025-01-03T01:50:17.731Z"
   },
   {
    "duration": 9,
    "start_time": "2025-01-03T01:50:18.498Z"
   },
   {
    "duration": 3,
    "start_time": "2025-01-03T01:50:21.200Z"
   },
   {
    "duration": 6,
    "start_time": "2025-01-03T01:50:21.638Z"
   },
   {
    "duration": 13,
    "start_time": "2025-01-03T01:50:22.507Z"
   },
   {
    "duration": 3,
    "start_time": "2025-01-03T01:50:23.140Z"
   },
   {
    "duration": 30,
    "start_time": "2025-01-03T01:50:24.561Z"
   },
   {
    "duration": 25,
    "start_time": "2025-01-03T01:50:24.795Z"
   },
   {
    "duration": 26,
    "start_time": "2025-01-03T01:50:25.030Z"
   },
   {
    "duration": 9,
    "start_time": "2025-01-03T01:50:26.290Z"
   },
   {
    "duration": 5,
    "start_time": "2025-01-03T01:50:45.353Z"
   },
   {
    "duration": 4,
    "start_time": "2025-01-03T01:50:47.280Z"
   },
   {
    "duration": 2,
    "start_time": "2025-01-03T01:50:48.152Z"
   },
   {
    "duration": 2,
    "start_time": "2025-01-03T01:50:48.649Z"
   },
   {
    "duration": 3,
    "start_time": "2025-01-03T01:50:49.974Z"
   },
   {
    "duration": 3,
    "start_time": "2025-01-03T01:50:50.883Z"
   },
   {
    "duration": 3,
    "start_time": "2025-01-03T01:50:52.405Z"
   },
   {
    "duration": 653,
    "start_time": "2025-01-03T01:50:53.534Z"
   },
   {
    "duration": 18,
    "start_time": "2025-01-03T01:50:54.520Z"
   },
   {
    "duration": 4,
    "start_time": "2025-01-03T01:56:34.273Z"
   },
   {
    "duration": 1007,
    "start_time": "2025-01-03T01:58:16.784Z"
   },
   {
    "duration": 15,
    "start_time": "2025-01-03T01:58:17.793Z"
   },
   {
    "duration": 12,
    "start_time": "2025-01-03T01:58:17.959Z"
   },
   {
    "duration": 3,
    "start_time": "2025-01-03T01:58:18.260Z"
   },
   {
    "duration": 10,
    "start_time": "2025-01-03T01:58:18.961Z"
   },
   {
    "duration": 4,
    "start_time": "2025-01-03T01:58:19.191Z"
   },
   {
    "duration": 7,
    "start_time": "2025-01-03T01:58:19.783Z"
   },
   {
    "duration": 28,
    "start_time": "2025-01-03T01:58:20.007Z"
   },
   {
    "duration": 5,
    "start_time": "2025-01-03T01:58:20.229Z"
   },
   {
    "duration": 6,
    "start_time": "2025-01-03T01:58:20.668Z"
   },
   {
    "duration": 7,
    "start_time": "2025-01-03T01:58:20.900Z"
   },
   {
    "duration": 4,
    "start_time": "2025-01-03T01:58:25.144Z"
   },
   {
    "duration": 4,
    "start_time": "2025-01-03T01:58:25.378Z"
   },
   {
    "duration": 7,
    "start_time": "2025-01-03T01:58:25.664Z"
   },
   {
    "duration": 4,
    "start_time": "2025-01-03T01:58:26.789Z"
   },
   {
    "duration": 4,
    "start_time": "2025-01-03T01:58:27.014Z"
   },
   {
    "duration": 3,
    "start_time": "2025-01-03T01:58:28.080Z"
   },
   {
    "duration": 1884,
    "start_time": "2025-01-03T01:58:28.303Z"
   },
   {
    "duration": 12,
    "start_time": "2025-01-03T01:58:30.189Z"
   },
   {
    "duration": 9,
    "start_time": "2025-01-03T01:58:30.203Z"
   },
   {
    "duration": 11,
    "start_time": "2025-01-03T01:58:30.213Z"
   },
   {
    "duration": 17,
    "start_time": "2025-01-03T01:58:30.225Z"
   },
   {
    "duration": 4,
    "start_time": "2025-01-03T01:58:33.608Z"
   },
   {
    "duration": 4,
    "start_time": "2025-01-03T01:58:33.933Z"
   },
   {
    "duration": 7,
    "start_time": "2025-01-03T01:58:34.170Z"
   },
   {
    "duration": 6,
    "start_time": "2025-01-03T01:58:34.377Z"
   },
   {
    "duration": 2,
    "start_time": "2025-01-03T01:58:34.592Z"
   },
   {
    "duration": 7,
    "start_time": "2025-01-03T01:58:34.764Z"
   },
   {
    "duration": 10,
    "start_time": "2025-01-03T01:58:35.114Z"
   },
   {
    "duration": 6,
    "start_time": "2025-01-03T01:58:35.548Z"
   },
   {
    "duration": 3,
    "start_time": "2025-01-03T01:58:35.892Z"
   },
   {
    "duration": 9,
    "start_time": "2025-01-03T01:58:36.080Z"
   },
   {
    "duration": 4,
    "start_time": "2025-01-03T01:58:36.962Z"
   },
   {
    "duration": 8,
    "start_time": "2025-01-03T01:58:37.422Z"
   },
   {
    "duration": 13,
    "start_time": "2025-01-03T01:58:37.659Z"
   },
   {
    "duration": 3,
    "start_time": "2025-01-03T01:58:37.893Z"
   },
   {
    "duration": 29,
    "start_time": "2025-01-03T01:58:38.290Z"
   },
   {
    "duration": 27,
    "start_time": "2025-01-03T01:58:38.505Z"
   },
   {
    "duration": 28,
    "start_time": "2025-01-03T01:58:38.710Z"
   },
   {
    "duration": 9,
    "start_time": "2025-01-03T01:58:39.115Z"
   },
   {
    "duration": 4,
    "start_time": "2025-01-03T01:58:40.997Z"
   },
   {
    "duration": 4,
    "start_time": "2025-01-03T01:58:41.540Z"
   },
   {
    "duration": 2,
    "start_time": "2025-01-03T01:58:42.485Z"
   },
   {
    "duration": 2,
    "start_time": "2025-01-03T01:58:42.813Z"
   },
   {
    "duration": 4,
    "start_time": "2025-01-03T01:58:43.540Z"
   },
   {
    "duration": 229,
    "start_time": "2025-01-03T01:58:44.295Z"
   },
   {
    "duration": 17,
    "start_time": "2025-01-03T01:59:30.324Z"
   },
   {
    "duration": 961,
    "start_time": "2025-01-03T02:05:08.510Z"
   },
   {
    "duration": 15,
    "start_time": "2025-01-03T02:05:09.473Z"
   },
   {
    "duration": 12,
    "start_time": "2025-01-03T02:05:09.489Z"
   },
   {
    "duration": 3,
    "start_time": "2025-01-03T02:05:09.506Z"
   },
   {
    "duration": 10,
    "start_time": "2025-01-03T02:05:10.060Z"
   },
   {
    "duration": 4,
    "start_time": "2025-01-03T02:05:10.255Z"
   },
   {
    "duration": 8,
    "start_time": "2025-01-03T02:05:10.460Z"
   },
   {
    "duration": 28,
    "start_time": "2025-01-03T02:05:10.663Z"
   },
   {
    "duration": 5,
    "start_time": "2025-01-03T02:05:10.858Z"
   },
   {
    "duration": 6,
    "start_time": "2025-01-03T02:05:11.259Z"
   },
   {
    "duration": 7,
    "start_time": "2025-01-03T02:05:11.659Z"
   },
   {
    "duration": 3,
    "start_time": "2025-01-03T02:05:12.685Z"
   },
   {
    "duration": 4,
    "start_time": "2025-01-03T02:05:12.917Z"
   },
   {
    "duration": 6,
    "start_time": "2025-01-03T02:05:13.111Z"
   },
   {
    "duration": 5,
    "start_time": "2025-01-03T02:05:13.727Z"
   },
   {
    "duration": 4,
    "start_time": "2025-01-03T02:05:13.941Z"
   },
   {
    "duration": 2,
    "start_time": "2025-01-03T02:05:14.955Z"
   },
   {
    "duration": 1838,
    "start_time": "2025-01-03T02:05:15.161Z"
   },
   {
    "duration": 13,
    "start_time": "2025-01-03T02:05:17.001Z"
   },
   {
    "duration": 8,
    "start_time": "2025-01-03T02:05:17.016Z"
   },
   {
    "duration": 19,
    "start_time": "2025-01-03T02:05:17.026Z"
   },
   {
    "duration": 11,
    "start_time": "2025-01-03T02:05:17.046Z"
   },
   {
    "duration": 5,
    "start_time": "2025-01-03T02:05:23.292Z"
   },
   {
    "duration": 4,
    "start_time": "2025-01-03T02:05:24.687Z"
   },
   {
    "duration": 7,
    "start_time": "2025-01-03T02:05:25.431Z"
   },
   {
    "duration": 5,
    "start_time": "2025-01-03T02:05:25.880Z"
   },
   {
    "duration": 2,
    "start_time": "2025-01-03T02:05:26.524Z"
   },
   {
    "duration": 8,
    "start_time": "2025-01-03T02:05:27.503Z"
   },
   {
    "duration": 9,
    "start_time": "2025-01-03T02:05:28.302Z"
   },
   {
    "duration": 4,
    "start_time": "2025-01-03T02:05:29.122Z"
   },
   {
    "duration": 4,
    "start_time": "2025-01-03T02:05:30.366Z"
   },
   {
    "duration": 8,
    "start_time": "2025-01-03T02:05:31.272Z"
   },
   {
    "duration": 3,
    "start_time": "2025-01-03T02:05:34.496Z"
   },
   {
    "duration": 7,
    "start_time": "2025-01-03T02:05:35.036Z"
   },
   {
    "duration": 13,
    "start_time": "2025-01-03T02:05:35.740Z"
   },
   {
    "duration": 3,
    "start_time": "2025-01-03T02:05:36.240Z"
   },
   {
    "duration": 30,
    "start_time": "2025-01-03T02:05:37.150Z"
   },
   {
    "duration": 26,
    "start_time": "2025-01-03T02:05:37.369Z"
   },
   {
    "duration": 26,
    "start_time": "2025-01-03T02:05:37.574Z"
   },
   {
    "duration": 9,
    "start_time": "2025-01-03T02:05:38.869Z"
   },
   {
    "duration": 4,
    "start_time": "2025-01-03T02:05:42.516Z"
   },
   {
    "duration": 4,
    "start_time": "2025-01-03T02:05:45.271Z"
   },
   {
    "duration": 2,
    "start_time": "2025-01-03T02:05:46.497Z"
   },
   {
    "duration": 2,
    "start_time": "2025-01-03T02:05:46.845Z"
   },
   {
    "duration": 227,
    "start_time": "2025-01-03T02:05:48.443Z"
   },
   {
    "duration": 4,
    "start_time": "2025-01-03T02:07:10.722Z"
   },
   {
    "duration": 2,
    "start_time": "2025-01-03T02:07:53.674Z"
   },
   {
    "duration": 24,
    "start_time": "2025-01-03T02:13:20.832Z"
   },
   {
    "duration": 458,
    "start_time": "2025-01-03T02:13:54.841Z"
   },
   {
    "duration": 4,
    "start_time": "2025-01-03T02:17:23.490Z"
   },
   {
    "duration": 4,
    "start_time": "2025-01-03T02:17:25.681Z"
   },
   {
    "duration": 2,
    "start_time": "2025-01-03T02:17:26.722Z"
   },
   {
    "duration": 2,
    "start_time": "2025-01-03T02:17:27.163Z"
   },
   {
    "duration": 4,
    "start_time": "2025-01-03T02:17:28.376Z"
   },
   {
    "duration": 101,
    "start_time": "2025-01-03T02:17:31.913Z"
   },
   {
    "duration": 18,
    "start_time": "2025-01-03T02:17:33.829Z"
   },
   {
    "duration": 1051,
    "start_time": "2025-01-03T02:19:33.354Z"
   },
   {
    "duration": 16,
    "start_time": "2025-01-03T02:19:34.407Z"
   },
   {
    "duration": 11,
    "start_time": "2025-01-03T02:19:34.424Z"
   },
   {
    "duration": 7,
    "start_time": "2025-01-03T02:19:34.437Z"
   },
   {
    "duration": 11,
    "start_time": "2025-01-03T02:19:34.446Z"
   },
   {
    "duration": 4,
    "start_time": "2025-01-03T02:19:34.459Z"
   },
   {
    "duration": 6,
    "start_time": "2025-01-03T02:19:34.464Z"
   },
   {
    "duration": 26,
    "start_time": "2025-01-03T02:19:34.471Z"
   },
   {
    "duration": 5,
    "start_time": "2025-01-03T02:19:34.499Z"
   },
   {
    "duration": 38,
    "start_time": "2025-01-03T02:19:34.507Z"
   },
   {
    "duration": 5,
    "start_time": "2025-01-03T02:19:34.547Z"
   },
   {
    "duration": 3,
    "start_time": "2025-01-03T02:19:34.554Z"
   },
   {
    "duration": 4,
    "start_time": "2025-01-03T02:19:34.558Z"
   },
   {
    "duration": 6,
    "start_time": "2025-01-03T02:19:34.563Z"
   },
   {
    "duration": 4,
    "start_time": "2025-01-03T02:19:34.572Z"
   },
   {
    "duration": 4,
    "start_time": "2025-01-03T02:19:34.578Z"
   },
   {
    "duration": 3,
    "start_time": "2025-01-03T02:19:34.584Z"
   },
   {
    "duration": 1803,
    "start_time": "2025-01-03T02:19:34.588Z"
   },
   {
    "duration": 14,
    "start_time": "2025-01-03T02:19:36.393Z"
   },
   {
    "duration": 9,
    "start_time": "2025-01-03T02:19:36.408Z"
   },
   {
    "duration": 11,
    "start_time": "2025-01-03T02:19:36.419Z"
   },
   {
    "duration": 12,
    "start_time": "2025-01-03T02:19:36.431Z"
   },
   {
    "duration": 3,
    "start_time": "2025-01-03T02:19:36.445Z"
   },
   {
    "duration": 3,
    "start_time": "2025-01-03T02:19:36.450Z"
   },
   {
    "duration": 8,
    "start_time": "2025-01-03T02:19:36.454Z"
   },
   {
    "duration": 4,
    "start_time": "2025-01-03T02:19:36.464Z"
   },
   {
    "duration": 3,
    "start_time": "2025-01-03T02:19:36.469Z"
   },
   {
    "duration": 8,
    "start_time": "2025-01-03T02:19:36.477Z"
   },
   {
    "duration": 8,
    "start_time": "2025-01-03T02:19:36.486Z"
   },
   {
    "duration": 4,
    "start_time": "2025-01-03T02:19:36.495Z"
   },
   {
    "duration": 43,
    "start_time": "2025-01-03T02:19:36.501Z"
   },
   {
    "duration": 8,
    "start_time": "2025-01-03T02:19:36.546Z"
   },
   {
    "duration": 3,
    "start_time": "2025-01-03T02:19:36.557Z"
   },
   {
    "duration": 6,
    "start_time": "2025-01-03T02:19:36.562Z"
   },
   {
    "duration": 14,
    "start_time": "2025-01-03T02:19:36.569Z"
   },
   {
    "duration": 3,
    "start_time": "2025-01-03T02:19:36.585Z"
   },
   {
    "duration": 69,
    "start_time": "2025-01-03T02:19:36.589Z"
   },
   {
    "duration": 25,
    "start_time": "2025-01-03T02:19:36.660Z"
   },
   {
    "duration": 25,
    "start_time": "2025-01-03T02:19:36.687Z"
   },
   {
    "duration": 9,
    "start_time": "2025-01-03T02:19:36.714Z"
   },
   {
    "duration": 3,
    "start_time": "2025-01-03T02:19:36.743Z"
   },
   {
    "duration": 8,
    "start_time": "2025-01-03T02:19:36.748Z"
   },
   {
    "duration": 4,
    "start_time": "2025-01-03T02:19:36.757Z"
   },
   {
    "duration": 3,
    "start_time": "2025-01-03T02:19:36.762Z"
   },
   {
    "duration": 4,
    "start_time": "2025-01-03T02:19:36.766Z"
   },
   {
    "duration": 685,
    "start_time": "2025-01-03T02:19:36.772Z"
   },
   {
    "duration": 0,
    "start_time": "2025-01-03T02:19:37.459Z"
   },
   {
    "duration": 0,
    "start_time": "2025-01-03T02:19:37.460Z"
   },
   {
    "duration": 0,
    "start_time": "2025-01-03T02:19:37.462Z"
   },
   {
    "duration": 1,
    "start_time": "2025-01-03T02:19:37.462Z"
   },
   {
    "duration": 0,
    "start_time": "2025-01-03T02:19:37.464Z"
   },
   {
    "duration": 0,
    "start_time": "2025-01-03T02:19:37.465Z"
   },
   {
    "duration": 0,
    "start_time": "2025-01-03T02:19:37.466Z"
   },
   {
    "duration": 0,
    "start_time": "2025-01-03T02:19:37.467Z"
   },
   {
    "duration": 0,
    "start_time": "2025-01-03T02:19:37.468Z"
   },
   {
    "duration": 0,
    "start_time": "2025-01-03T02:19:37.469Z"
   },
   {
    "duration": 0,
    "start_time": "2025-01-03T02:19:37.470Z"
   },
   {
    "duration": 0,
    "start_time": "2025-01-03T02:19:37.471Z"
   },
   {
    "duration": 0,
    "start_time": "2025-01-03T02:19:37.474Z"
   },
   {
    "duration": 0,
    "start_time": "2025-01-03T02:19:37.475Z"
   },
   {
    "duration": 0,
    "start_time": "2025-01-03T02:19:37.476Z"
   },
   {
    "duration": 0,
    "start_time": "2025-01-03T02:19:37.478Z"
   },
   {
    "duration": 0,
    "start_time": "2025-01-03T02:19:37.479Z"
   },
   {
    "duration": 0,
    "start_time": "2025-01-03T02:19:37.480Z"
   },
   {
    "duration": 0,
    "start_time": "2025-01-03T02:19:37.481Z"
   },
   {
    "duration": 0,
    "start_time": "2025-01-03T02:19:37.482Z"
   },
   {
    "duration": 0,
    "start_time": "2025-01-03T02:19:37.483Z"
   },
   {
    "duration": 0,
    "start_time": "2025-01-03T02:19:37.484Z"
   },
   {
    "duration": 0,
    "start_time": "2025-01-03T02:19:37.485Z"
   },
   {
    "duration": 0,
    "start_time": "2025-01-03T02:19:37.487Z"
   },
   {
    "duration": 0,
    "start_time": "2025-01-03T02:19:37.489Z"
   },
   {
    "duration": 0,
    "start_time": "2025-01-03T02:19:37.490Z"
   },
   {
    "duration": 0,
    "start_time": "2025-01-03T02:19:37.491Z"
   },
   {
    "duration": 0,
    "start_time": "2025-01-03T02:19:37.543Z"
   },
   {
    "duration": 0,
    "start_time": "2025-01-03T02:19:37.545Z"
   },
   {
    "duration": 1,
    "start_time": "2025-01-03T02:19:37.546Z"
   },
   {
    "duration": 976,
    "start_time": "2025-01-03T02:20:04.311Z"
   },
   {
    "duration": 15,
    "start_time": "2025-01-03T02:20:05.289Z"
   },
   {
    "duration": 13,
    "start_time": "2025-01-03T02:20:05.719Z"
   },
   {
    "duration": 4,
    "start_time": "2025-01-03T02:20:06.633Z"
   },
   {
    "duration": 10,
    "start_time": "2025-01-03T02:20:09.054Z"
   },
   {
    "duration": 3,
    "start_time": "2025-01-03T02:20:09.708Z"
   },
   {
    "duration": 13,
    "start_time": "2025-01-03T02:20:10.486Z"
   },
   {
    "duration": 29,
    "start_time": "2025-01-03T02:20:11.035Z"
   },
   {
    "duration": 4,
    "start_time": "2025-01-03T02:20:11.912Z"
   },
   {
    "duration": 6,
    "start_time": "2025-01-03T02:20:13.328Z"
   },
   {
    "duration": 6,
    "start_time": "2025-01-03T02:20:14.753Z"
   },
   {
    "duration": 5,
    "start_time": "2025-01-03T02:20:19.446Z"
   },
   {
    "duration": 4,
    "start_time": "2025-01-03T02:20:20.000Z"
   },
   {
    "duration": 7,
    "start_time": "2025-01-03T02:20:20.556Z"
   },
   {
    "duration": 4,
    "start_time": "2025-01-03T02:20:22.933Z"
   },
   {
    "duration": 5,
    "start_time": "2025-01-03T02:20:23.671Z"
   },
   {
    "duration": 2,
    "start_time": "2025-01-03T02:20:26.767Z"
   },
   {
    "duration": 1777,
    "start_time": "2025-01-03T02:20:27.662Z"
   },
   {
    "duration": 14,
    "start_time": "2025-01-03T02:20:29.986Z"
   },
   {
    "duration": 9,
    "start_time": "2025-01-03T02:20:31.084Z"
   },
   {
    "duration": 13,
    "start_time": "2025-01-03T02:20:32.375Z"
   },
   {
    "duration": 12,
    "start_time": "2025-01-03T02:20:33.399Z"
   },
   {
    "duration": 3,
    "start_time": "2025-01-03T02:26:08.869Z"
   },
   {
    "duration": 974,
    "start_time": "2025-01-03T02:26:18.628Z"
   },
   {
    "duration": 18,
    "start_time": "2025-01-03T02:26:20.651Z"
   },
   {
    "duration": 13,
    "start_time": "2025-01-03T02:26:21.547Z"
   },
   {
    "duration": 3,
    "start_time": "2025-01-03T02:26:21.844Z"
   },
   {
    "duration": 10,
    "start_time": "2025-01-03T02:26:22.581Z"
   },
   {
    "duration": 3,
    "start_time": "2025-01-03T02:26:22.839Z"
   },
   {
    "duration": 7,
    "start_time": "2025-01-03T02:26:23.085Z"
   },
   {
    "duration": 27,
    "start_time": "2025-01-03T02:26:23.286Z"
   },
   {
    "duration": 4,
    "start_time": "2025-01-03T02:26:23.494Z"
   },
   {
    "duration": 5,
    "start_time": "2025-01-03T02:26:23.885Z"
   },
   {
    "duration": 7,
    "start_time": "2025-01-03T02:26:24.350Z"
   },
   {
    "duration": 3,
    "start_time": "2025-01-03T02:26:25.415Z"
   },
   {
    "duration": 4,
    "start_time": "2025-01-03T02:26:25.653Z"
   },
   {
    "duration": 7,
    "start_time": "2025-01-03T02:26:25.859Z"
   },
   {
    "duration": 4,
    "start_time": "2025-01-03T02:26:26.507Z"
   },
   {
    "duration": 4,
    "start_time": "2025-01-03T02:26:26.731Z"
   },
   {
    "duration": 2,
    "start_time": "2025-01-03T02:26:27.637Z"
   },
   {
    "duration": 1780,
    "start_time": "2025-01-03T02:26:27.875Z"
   },
   {
    "duration": 13,
    "start_time": "2025-01-03T02:26:29.657Z"
   },
   {
    "duration": 9,
    "start_time": "2025-01-03T02:26:29.671Z"
   },
   {
    "duration": 11,
    "start_time": "2025-01-03T02:26:29.682Z"
   },
   {
    "duration": 10,
    "start_time": "2025-01-03T02:26:29.695Z"
   },
   {
    "duration": 4,
    "start_time": "2025-01-03T02:26:32.016Z"
   },
   {
    "duration": 4,
    "start_time": "2025-01-03T02:26:32.513Z"
   },
   {
    "duration": 7,
    "start_time": "2025-01-03T02:26:32.764Z"
   },
   {
    "duration": 5,
    "start_time": "2025-01-03T02:26:33.017Z"
   },
   {
    "duration": 2,
    "start_time": "2025-01-03T02:26:33.271Z"
   },
   {
    "duration": 7,
    "start_time": "2025-01-03T02:26:33.535Z"
   },
   {
    "duration": 10,
    "start_time": "2025-01-03T02:26:33.790Z"
   },
   {
    "duration": 4,
    "start_time": "2025-01-03T02:26:34.039Z"
   },
   {
    "duration": 3,
    "start_time": "2025-01-03T02:26:34.283Z"
   },
   {
    "duration": 9,
    "start_time": "2025-01-03T02:26:34.528Z"
   },
   {
    "duration": 5,
    "start_time": "2025-01-03T02:26:35.702Z"
   },
   {
    "duration": 6,
    "start_time": "2025-01-03T02:26:35.975Z"
   },
   {
    "duration": 13,
    "start_time": "2025-01-03T02:26:36.282Z"
   },
   {
    "duration": 3,
    "start_time": "2025-01-03T02:26:36.536Z"
   },
   {
    "duration": 27,
    "start_time": "2025-01-03T02:26:37.027Z"
   },
   {
    "duration": 26,
    "start_time": "2025-01-03T02:26:37.273Z"
   },
   {
    "duration": 27,
    "start_time": "2025-01-03T02:26:37.534Z"
   },
   {
    "duration": 3,
    "start_time": "2025-01-03T02:26:38.028Z"
   },
   {
    "duration": 9,
    "start_time": "2025-01-03T02:27:00.111Z"
   },
   {
    "duration": 3,
    "start_time": "2025-01-03T02:27:03.959Z"
   },
   {
    "duration": 3,
    "start_time": "2025-01-03T02:27:05.745Z"
   },
   {
    "duration": 2,
    "start_time": "2025-01-03T02:27:06.552Z"
   },
   {
    "duration": 3,
    "start_time": "2025-01-03T02:27:07.157Z"
   },
   {
    "duration": 4,
    "start_time": "2025-01-03T02:27:08.463Z"
   },
   {
    "duration": 17,
    "start_time": "2025-01-03T02:27:12.209Z"
   },
   {
    "duration": 1016,
    "start_time": "2025-01-03T02:44:23.157Z"
   },
   {
    "duration": 16,
    "start_time": "2025-01-03T02:44:24.855Z"
   },
   {
    "duration": 15,
    "start_time": "2025-01-03T02:44:25.450Z"
   },
   {
    "duration": 4,
    "start_time": "2025-01-03T02:44:26.209Z"
   },
   {
    "duration": 11,
    "start_time": "2025-01-03T02:44:27.699Z"
   },
   {
    "duration": 3,
    "start_time": "2025-01-03T02:44:27.918Z"
   },
   {
    "duration": 7,
    "start_time": "2025-01-03T02:44:28.132Z"
   },
   {
    "duration": 27,
    "start_time": "2025-01-03T02:44:28.361Z"
   },
   {
    "duration": 5,
    "start_time": "2025-01-03T02:44:28.568Z"
   },
   {
    "duration": 6,
    "start_time": "2025-01-03T02:44:29.293Z"
   },
   {
    "duration": 7,
    "start_time": "2025-01-03T02:44:29.853Z"
   },
   {
    "duration": 5,
    "start_time": "2025-01-03T02:44:34.101Z"
   },
   {
    "duration": 4,
    "start_time": "2025-01-03T02:44:34.477Z"
   },
   {
    "duration": 7,
    "start_time": "2025-01-03T02:44:35.355Z"
   },
   {
    "duration": 4,
    "start_time": "2025-01-03T02:44:37.105Z"
   },
   {
    "duration": 5,
    "start_time": "2025-01-03T02:44:37.681Z"
   },
   {
    "duration": 3,
    "start_time": "2025-01-03T02:44:39.911Z"
   },
   {
    "duration": 1883,
    "start_time": "2025-01-03T02:44:40.504Z"
   },
   {
    "duration": 12,
    "start_time": "2025-01-03T02:44:43.002Z"
   },
   {
    "duration": 9,
    "start_time": "2025-01-03T02:44:43.590Z"
   },
   {
    "duration": 12,
    "start_time": "2025-01-03T02:44:44.228Z"
   },
   {
    "duration": 11,
    "start_time": "2025-01-03T02:44:44.891Z"
   },
   {
    "duration": 4,
    "start_time": "2025-01-03T02:44:51.071Z"
   },
   {
    "duration": 3,
    "start_time": "2025-01-03T02:44:52.243Z"
   },
   {
    "duration": 7,
    "start_time": "2025-01-03T02:44:52.931Z"
   },
   {
    "duration": 6,
    "start_time": "2025-01-03T02:44:53.783Z"
   },
   {
    "duration": 2,
    "start_time": "2025-01-03T02:44:54.353Z"
   },
   {
    "duration": 4,
    "start_time": "2025-01-03T02:44:54.849Z"
   },
   {
    "duration": 8,
    "start_time": "2025-01-03T02:45:01.992Z"
   },
   {
    "duration": 10,
    "start_time": "2025-01-03T02:45:02.897Z"
   },
   {
    "duration": 6,
    "start_time": "2025-01-03T02:45:03.698Z"
   },
   {
    "duration": 4,
    "start_time": "2025-01-03T02:45:04.533Z"
   },
   {
    "duration": 3,
    "start_time": "2025-01-03T02:45:05.729Z"
   },
   {
    "duration": 9,
    "start_time": "2025-01-03T02:45:06.871Z"
   },
   {
    "duration": 4,
    "start_time": "2025-01-03T02:45:09.609Z"
   },
   {
    "duration": 6,
    "start_time": "2025-01-03T02:45:10.148Z"
   },
   {
    "duration": 222,
    "start_time": "2025-01-03T02:45:11.219Z"
   },
   {
    "duration": 3,
    "start_time": "2025-01-03T02:45:11.847Z"
   },
   {
    "duration": 1028,
    "start_time": "2025-01-03T02:46:57.960Z"
   },
   {
    "duration": 15,
    "start_time": "2025-01-03T02:46:58.990Z"
   },
   {
    "duration": 11,
    "start_time": "2025-01-03T02:46:59.007Z"
   },
   {
    "duration": 3,
    "start_time": "2025-01-03T02:46:59.020Z"
   },
   {
    "duration": 10,
    "start_time": "2025-01-03T02:46:59.419Z"
   },
   {
    "duration": 4,
    "start_time": "2025-01-03T02:46:59.601Z"
   },
   {
    "duration": 7,
    "start_time": "2025-01-03T02:46:59.788Z"
   },
   {
    "duration": 26,
    "start_time": "2025-01-03T02:46:59.983Z"
   },
   {
    "duration": 5,
    "start_time": "2025-01-03T02:47:00.197Z"
   },
   {
    "duration": 6,
    "start_time": "2025-01-03T02:47:00.595Z"
   },
   {
    "duration": 6,
    "start_time": "2025-01-03T02:47:00.792Z"
   },
   {
    "duration": 4,
    "start_time": "2025-01-03T02:47:01.836Z"
   },
   {
    "duration": 3,
    "start_time": "2025-01-03T02:47:02.044Z"
   },
   {
    "duration": 8,
    "start_time": "2025-01-03T02:47:02.259Z"
   },
   {
    "duration": 4,
    "start_time": "2025-01-03T02:47:03.651Z"
   },
   {
    "duration": 5,
    "start_time": "2025-01-03T02:47:04.182Z"
   },
   {
    "duration": 2,
    "start_time": "2025-01-03T02:47:06.422Z"
   },
   {
    "duration": 1770,
    "start_time": "2025-01-03T02:47:06.649Z"
   },
   {
    "duration": 12,
    "start_time": "2025-01-03T02:47:08.422Z"
   },
   {
    "duration": 9,
    "start_time": "2025-01-03T02:47:08.436Z"
   },
   {
    "duration": 12,
    "start_time": "2025-01-03T02:47:08.625Z"
   },
   {
    "duration": 12,
    "start_time": "2025-01-03T02:47:09.337Z"
   },
   {
    "duration": 3,
    "start_time": "2025-01-03T02:47:15.790Z"
   },
   {
    "duration": 4,
    "start_time": "2025-01-03T02:47:17.270Z"
   },
   {
    "duration": 8,
    "start_time": "2025-01-03T02:47:18.267Z"
   },
   {
    "duration": 6,
    "start_time": "2025-01-03T02:47:20.883Z"
   },
   {
    "duration": 2,
    "start_time": "2025-01-03T02:47:21.691Z"
   },
   {
    "duration": 8,
    "start_time": "2025-01-03T02:47:22.243Z"
   },
   {
    "duration": 9,
    "start_time": "2025-01-03T02:47:22.820Z"
   },
   {
    "duration": 4,
    "start_time": "2025-01-03T02:47:23.478Z"
   },
   {
    "duration": 3,
    "start_time": "2025-01-03T02:47:24.574Z"
   },
   {
    "duration": 9,
    "start_time": "2025-01-03T02:47:25.729Z"
   },
   {
    "duration": 3,
    "start_time": "2025-01-03T02:47:29.220Z"
   },
   {
    "duration": 5,
    "start_time": "2025-01-03T02:47:30.083Z"
   },
   {
    "duration": 14,
    "start_time": "2025-01-03T02:47:30.931Z"
   },
   {
    "duration": 4,
    "start_time": "2025-01-03T02:47:36.575Z"
   },
   {
    "duration": 28,
    "start_time": "2025-01-03T02:47:39.561Z"
   },
   {
    "duration": 27,
    "start_time": "2025-01-03T02:47:44.566Z"
   },
   {
    "duration": 27,
    "start_time": "2025-01-03T02:47:45.843Z"
   },
   {
    "duration": 4,
    "start_time": "2025-01-03T02:47:50.901Z"
   },
   {
    "duration": 4,
    "start_time": "2025-01-03T02:47:51.767Z"
   },
   {
    "duration": 4,
    "start_time": "2025-01-03T02:47:58.389Z"
   },
   {
    "duration": 3,
    "start_time": "2025-01-03T02:48:00.297Z"
   },
   {
    "duration": 2,
    "start_time": "2025-01-03T02:48:01.273Z"
   },
   {
    "duration": 2,
    "start_time": "2025-01-03T02:48:02.024Z"
   },
   {
    "duration": 4,
    "start_time": "2025-01-03T02:48:03.282Z"
   },
   {
    "duration": 5071,
    "start_time": "2025-01-03T02:48:07.585Z"
   },
   {
    "duration": 4,
    "start_time": "2025-01-03T02:48:26.758Z"
   },
   {
    "duration": 7,
    "start_time": "2025-01-03T02:48:40.642Z"
   },
   {
    "duration": 166,
    "start_time": "2025-01-03T02:49:34.096Z"
   },
   {
    "duration": 977,
    "start_time": "2025-01-03T03:40:44.936Z"
   },
   {
    "duration": 16,
    "start_time": "2025-01-03T03:40:45.915Z"
   },
   {
    "duration": 13,
    "start_time": "2025-01-03T03:40:46.676Z"
   },
   {
    "duration": 4,
    "start_time": "2025-01-03T03:40:47.130Z"
   },
   {
    "duration": 10,
    "start_time": "2025-01-03T03:40:47.952Z"
   },
   {
    "duration": 3,
    "start_time": "2025-01-03T03:40:48.147Z"
   },
   {
    "duration": 7,
    "start_time": "2025-01-03T03:40:48.340Z"
   },
   {
    "duration": 29,
    "start_time": "2025-01-03T03:40:48.553Z"
   },
   {
    "duration": 5,
    "start_time": "2025-01-03T03:40:48.722Z"
   },
   {
    "duration": 7,
    "start_time": "2025-01-03T03:40:49.120Z"
   },
   {
    "duration": 6,
    "start_time": "2025-01-03T03:40:49.320Z"
   },
   {
    "duration": 3,
    "start_time": "2025-01-03T03:40:50.388Z"
   },
   {
    "duration": 4,
    "start_time": "2025-01-03T03:40:50.616Z"
   },
   {
    "duration": 7,
    "start_time": "2025-01-03T03:40:50.825Z"
   },
   {
    "duration": 4,
    "start_time": "2025-01-03T03:40:51.461Z"
   },
   {
    "duration": 5,
    "start_time": "2025-01-03T03:40:51.864Z"
   },
   {
    "duration": 3,
    "start_time": "2025-01-03T03:40:52.874Z"
   },
   {
    "duration": 1762,
    "start_time": "2025-01-03T03:40:53.121Z"
   },
   {
    "duration": 13,
    "start_time": "2025-01-03T03:40:54.885Z"
   },
   {
    "duration": 8,
    "start_time": "2025-01-03T03:40:54.900Z"
   },
   {
    "duration": 11,
    "start_time": "2025-01-03T03:40:54.910Z"
   },
   {
    "duration": 26,
    "start_time": "2025-01-03T03:40:54.923Z"
   },
   {
    "duration": 4,
    "start_time": "2025-01-03T03:41:03.057Z"
   },
   {
    "duration": 4,
    "start_time": "2025-01-03T03:41:04.755Z"
   },
   {
    "duration": 7,
    "start_time": "2025-01-03T03:41:05.334Z"
   },
   {
    "duration": 6,
    "start_time": "2025-01-03T03:41:05.932Z"
   },
   {
    "duration": 2,
    "start_time": "2025-01-03T03:41:06.823Z"
   },
   {
    "duration": 8,
    "start_time": "2025-01-03T03:41:07.096Z"
   },
   {
    "duration": 9,
    "start_time": "2025-01-03T03:41:07.450Z"
   },
   {
    "duration": 6,
    "start_time": "2025-01-03T03:41:08.278Z"
   },
   {
    "duration": 9,
    "start_time": "2025-01-03T03:41:09.183Z"
   },
   {
    "duration": 4,
    "start_time": "2025-01-03T03:41:12.934Z"
   },
   {
    "duration": 6,
    "start_time": "2025-01-03T03:41:13.571Z"
   },
   {
    "duration": 13,
    "start_time": "2025-01-03T03:41:14.542Z"
   },
   {
    "duration": 27,
    "start_time": "2025-01-03T03:41:21.519Z"
   },
   {
    "duration": 26,
    "start_time": "2025-01-03T03:41:22.066Z"
   },
   {
    "duration": 27,
    "start_time": "2025-01-03T03:41:22.673Z"
   },
   {
    "duration": 4,
    "start_time": "2025-01-03T03:41:28.715Z"
   },
   {
    "duration": 4,
    "start_time": "2025-01-03T03:41:32.483Z"
   },
   {
    "duration": 5,
    "start_time": "2025-01-03T04:06:27.431Z"
   },
   {
    "duration": 8658,
    "start_time": "2025-01-03T04:14:52.189Z"
   },
   {
    "duration": 508,
    "start_time": "2025-01-03T04:15:00.850Z"
   },
   {
    "duration": 438,
    "start_time": "2025-01-03T04:15:01.360Z"
   },
   {
    "duration": 3,
    "start_time": "2025-01-03T04:19:35.821Z"
   },
   {
    "duration": 1055,
    "start_time": "2025-01-03T04:28:56.846Z"
   },
   {
    "duration": 16,
    "start_time": "2025-01-03T04:28:57.903Z"
   },
   {
    "duration": 22,
    "start_time": "2025-01-03T04:28:57.921Z"
   },
   {
    "duration": 4,
    "start_time": "2025-01-03T04:28:58.015Z"
   },
   {
    "duration": 10,
    "start_time": "2025-01-03T04:28:58.693Z"
   },
   {
    "duration": 3,
    "start_time": "2025-01-03T04:28:58.957Z"
   },
   {
    "duration": 6,
    "start_time": "2025-01-03T04:28:59.148Z"
   },
   {
    "duration": 28,
    "start_time": "2025-01-03T04:28:59.341Z"
   },
   {
    "duration": 5,
    "start_time": "2025-01-03T04:28:59.543Z"
   },
   {
    "duration": 6,
    "start_time": "2025-01-03T04:29:00.091Z"
   },
   {
    "duration": 6,
    "start_time": "2025-01-03T04:33:03.903Z"
   },
   {
    "duration": 13,
    "start_time": "2025-01-03T04:33:04.430Z"
   },
   {
    "duration": 4,
    "start_time": "2025-01-03T04:33:06.202Z"
   },
   {
    "duration": 4,
    "start_time": "2025-01-03T04:33:06.392Z"
   },
   {
    "duration": 6,
    "start_time": "2025-01-03T04:33:06.623Z"
   },
   {
    "duration": 4,
    "start_time": "2025-01-03T04:33:07.810Z"
   },
   {
    "duration": 4,
    "start_time": "2025-01-03T04:33:08.330Z"
   },
   {
    "duration": 3,
    "start_time": "2025-01-03T04:33:10.257Z"
   },
   {
    "duration": 1836,
    "start_time": "2025-01-03T04:33:10.459Z"
   },
   {
    "duration": 14,
    "start_time": "2025-01-03T04:33:12.297Z"
   },
   {
    "duration": 9,
    "start_time": "2025-01-03T04:33:12.313Z"
   },
   {
    "duration": 12,
    "start_time": "2025-01-03T04:33:12.800Z"
   },
   {
    "duration": 11,
    "start_time": "2025-01-03T04:33:13.493Z"
   },
   {
    "duration": 3,
    "start_time": "2025-01-03T04:33:17.982Z"
   },
   {
    "duration": 3,
    "start_time": "2025-01-03T04:33:18.991Z"
   },
   {
    "duration": 7,
    "start_time": "2025-01-03T04:33:19.510Z"
   },
   {
    "duration": 4,
    "start_time": "2025-01-03T04:33:19.926Z"
   },
   {
    "duration": 3,
    "start_time": "2025-01-03T04:33:20.491Z"
   },
   {
    "duration": 7,
    "start_time": "2025-01-03T04:33:21.085Z"
   },
   {
    "duration": 9,
    "start_time": "2025-01-03T04:33:21.631Z"
   },
   {
    "duration": 4,
    "start_time": "2025-01-03T04:33:22.428Z"
   },
   {
    "duration": 10,
    "start_time": "2025-01-03T04:34:11.581Z"
   },
   {
    "duration": 3,
    "start_time": "2025-01-03T04:34:13.821Z"
   },
   {
    "duration": 6,
    "start_time": "2025-01-03T04:34:14.362Z"
   },
   {
    "duration": 13,
    "start_time": "2025-01-03T04:34:14.891Z"
   },
   {
    "duration": 28,
    "start_time": "2025-01-03T04:34:16.301Z"
   },
   {
    "duration": 27,
    "start_time": "2025-01-03T04:34:16.692Z"
   },
   {
    "duration": 28,
    "start_time": "2025-01-03T04:34:17.207Z"
   },
   {
    "duration": 3,
    "start_time": "2025-01-03T04:34:20.552Z"
   },
   {
    "duration": 5,
    "start_time": "2025-01-03T04:34:21.069Z"
   },
   {
    "duration": 3,
    "start_time": "2025-01-03T04:34:23.554Z"
   },
   {
    "duration": 5,
    "start_time": "2025-01-03T04:34:27.292Z"
   },
   {
    "duration": 8711,
    "start_time": "2025-01-03T04:34:29.745Z"
   },
   {
    "duration": 14,
    "start_time": "2025-01-03T04:34:43.971Z"
   },
   {
    "duration": 423,
    "start_time": "2025-01-03T04:34:50.446Z"
   },
   {
    "duration": 970,
    "start_time": "2025-01-03T04:45:21.211Z"
   },
   {
    "duration": 16,
    "start_time": "2025-01-03T04:45:22.183Z"
   },
   {
    "duration": 13,
    "start_time": "2025-01-03T04:45:22.841Z"
   },
   {
    "duration": 3,
    "start_time": "2025-01-03T04:45:23.377Z"
   },
   {
    "duration": 10,
    "start_time": "2025-01-03T04:45:24.776Z"
   },
   {
    "duration": 3,
    "start_time": "2025-01-03T04:45:24.965Z"
   },
   {
    "duration": 7,
    "start_time": "2025-01-03T04:45:25.166Z"
   },
   {
    "duration": 28,
    "start_time": "2025-01-03T04:45:25.354Z"
   },
   {
    "duration": 5,
    "start_time": "2025-01-03T04:45:25.545Z"
   },
   {
    "duration": 5,
    "start_time": "2025-01-03T04:45:26.160Z"
   },
   {
    "duration": 7,
    "start_time": "2025-01-03T04:45:26.395Z"
   },
   {
    "duration": 3,
    "start_time": "2025-01-03T04:45:27.393Z"
   },
   {
    "duration": 4,
    "start_time": "2025-01-03T04:45:27.791Z"
   },
   {
    "duration": 7,
    "start_time": "2025-01-03T04:45:27.997Z"
   },
   {
    "duration": 3,
    "start_time": "2025-01-03T04:45:28.601Z"
   },
   {
    "duration": 6,
    "start_time": "2025-01-03T04:45:29.063Z"
   },
   {
    "duration": 2,
    "start_time": "2025-01-03T04:45:30.926Z"
   },
   {
    "duration": 1739,
    "start_time": "2025-01-03T04:45:31.144Z"
   },
   {
    "duration": 13,
    "start_time": "2025-01-03T04:45:32.885Z"
   },
   {
    "duration": 8,
    "start_time": "2025-01-03T04:45:32.900Z"
   },
   {
    "duration": 10,
    "start_time": "2025-01-03T04:45:33.046Z"
   },
   {
    "duration": 13,
    "start_time": "2025-01-03T04:45:33.961Z"
   },
   {
    "duration": 4,
    "start_time": "2025-01-03T04:45:40.394Z"
   },
   {
    "duration": 4,
    "start_time": "2025-01-03T04:45:41.358Z"
   },
   {
    "duration": 8,
    "start_time": "2025-01-03T04:45:41.944Z"
   },
   {
    "duration": 4,
    "start_time": "2025-01-03T04:45:42.279Z"
   },
   {
    "duration": 2,
    "start_time": "2025-01-03T04:45:42.674Z"
   },
   {
    "duration": 8,
    "start_time": "2025-01-03T04:45:42.933Z"
   },
   {
    "duration": 10,
    "start_time": "2025-01-03T04:45:43.365Z"
   },
   {
    "duration": 4,
    "start_time": "2025-01-03T04:45:44.065Z"
   },
   {
    "duration": 9,
    "start_time": "2025-01-03T04:45:44.786Z"
   },
   {
    "duration": 4,
    "start_time": "2025-01-03T04:45:47.199Z"
   },
   {
    "duration": 5,
    "start_time": "2025-01-03T04:45:47.450Z"
   },
   {
    "duration": 14,
    "start_time": "2025-01-03T04:45:47.683Z"
   },
   {
    "duration": 28,
    "start_time": "2025-01-03T04:45:48.980Z"
   },
   {
    "duration": 27,
    "start_time": "2025-01-03T04:45:49.229Z"
   },
   {
    "duration": 26,
    "start_time": "2025-01-03T04:45:49.898Z"
   },
   {
    "duration": 4,
    "start_time": "2025-01-03T04:45:51.562Z"
   },
   {
    "duration": 4,
    "start_time": "2025-01-03T04:45:52.362Z"
   },
   {
    "duration": 3,
    "start_time": "2025-01-03T04:45:54.648Z"
   },
   {
    "duration": 4,
    "start_time": "2025-01-03T04:45:56.966Z"
   },
   {
    "duration": 4,
    "start_time": "2025-01-03T04:46:01.387Z"
   },
   {
    "duration": 15,
    "start_time": "2025-01-03T04:46:02.813Z"
   },
   {
    "duration": 8719,
    "start_time": "2025-01-03T04:46:08.631Z"
   },
   {
    "duration": 504,
    "start_time": "2025-01-03T04:46:17.352Z"
   },
   {
    "duration": 1011,
    "start_time": "2025-01-03T04:53:21.573Z"
   },
   {
    "duration": 15,
    "start_time": "2025-01-03T04:53:26.448Z"
   },
   {
    "duration": 13,
    "start_time": "2025-01-03T04:53:27.347Z"
   },
   {
    "duration": 3,
    "start_time": "2025-01-03T04:53:28.149Z"
   },
   {
    "duration": 9,
    "start_time": "2025-01-03T04:53:30.290Z"
   },
   {
    "duration": 3,
    "start_time": "2025-01-03T04:53:31.229Z"
   },
   {
    "duration": 8,
    "start_time": "2025-01-03T04:53:31.961Z"
   },
   {
    "duration": 28,
    "start_time": "2025-01-03T04:53:32.668Z"
   },
   {
    "duration": 5,
    "start_time": "2025-01-03T04:53:33.924Z"
   },
   {
    "duration": 5,
    "start_time": "2025-01-03T04:53:35.023Z"
   },
   {
    "duration": 13,
    "start_time": "2025-01-03T04:53:35.252Z"
   },
   {
    "duration": 3,
    "start_time": "2025-01-03T04:53:36.254Z"
   },
   {
    "duration": 4,
    "start_time": "2025-01-03T04:53:36.476Z"
   },
   {
    "duration": 9,
    "start_time": "2025-01-03T04:53:36.661Z"
   },
   {
    "duration": 5,
    "start_time": "2025-01-03T04:53:37.273Z"
   },
   {
    "duration": 4,
    "start_time": "2025-01-03T04:53:37.486Z"
   },
   {
    "duration": 2,
    "start_time": "2025-01-03T04:53:38.340Z"
   },
   {
    "duration": 1831,
    "start_time": "2025-01-03T04:53:38.726Z"
   },
   {
    "duration": 14,
    "start_time": "2025-01-03T04:53:40.559Z"
   },
   {
    "duration": 9,
    "start_time": "2025-01-03T04:53:40.688Z"
   },
   {
    "duration": 12,
    "start_time": "2025-01-03T04:53:40.894Z"
   },
   {
    "duration": 11,
    "start_time": "2025-01-03T04:53:41.475Z"
   },
   {
    "duration": 4,
    "start_time": "2025-01-03T04:53:47.582Z"
   },
   {
    "duration": 4,
    "start_time": "2025-01-03T04:53:49.273Z"
   },
   {
    "duration": 8,
    "start_time": "2025-01-03T04:53:50.033Z"
   },
   {
    "duration": 5,
    "start_time": "2025-01-03T04:53:50.815Z"
   },
   {
    "duration": 2,
    "start_time": "2025-01-03T04:53:51.234Z"
   },
   {
    "duration": 8,
    "start_time": "2025-01-03T04:53:51.701Z"
   },
   {
    "duration": 13,
    "start_time": "2025-01-03T04:53:52.222Z"
   },
   {
    "duration": 5,
    "start_time": "2025-01-03T04:53:52.847Z"
   },
   {
    "duration": 10,
    "start_time": "2025-01-03T04:53:53.568Z"
   },
   {
    "duration": 4,
    "start_time": "2025-01-03T04:53:56.454Z"
   },
   {
    "duration": 6,
    "start_time": "2025-01-03T04:53:56.955Z"
   },
   {
    "duration": 14,
    "start_time": "2025-01-03T04:53:57.694Z"
   },
   {
    "duration": 28,
    "start_time": "2025-01-03T04:54:02.920Z"
   },
   {
    "duration": 27,
    "start_time": "2025-01-03T04:54:03.776Z"
   },
   {
    "duration": 25,
    "start_time": "2025-01-03T04:54:04.415Z"
   },
   {
    "duration": 3,
    "start_time": "2025-01-03T04:54:14.480Z"
   },
   {
    "duration": 5,
    "start_time": "2025-01-03T04:54:15.317Z"
   },
   {
    "duration": 3,
    "start_time": "2025-01-03T04:54:18.065Z"
   },
   {
    "duration": 4,
    "start_time": "2025-01-03T04:54:31.461Z"
   },
   {
    "duration": 8639,
    "start_time": "2025-01-03T04:54:39.319Z"
   },
   {
    "duration": 431,
    "start_time": "2025-01-03T04:54:55.418Z"
   },
   {
    "duration": 13,
    "start_time": "2025-01-03T04:55:00.444Z"
   },
   {
    "duration": 2,
    "start_time": "2025-01-03T04:55:24.598Z"
   },
   {
    "duration": 157,
    "start_time": "2025-01-03T04:55:25.704Z"
   },
   {
    "duration": 980,
    "start_time": "2025-01-03T05:04:54.900Z"
   },
   {
    "duration": 16,
    "start_time": "2025-01-03T05:04:55.882Z"
   },
   {
    "duration": 14,
    "start_time": "2025-01-03T05:04:55.900Z"
   },
   {
    "duration": 4,
    "start_time": "2025-01-03T05:04:55.917Z"
   },
   {
    "duration": 26,
    "start_time": "2025-01-03T05:04:55.922Z"
   },
   {
    "duration": 3,
    "start_time": "2025-01-03T05:04:55.950Z"
   },
   {
    "duration": 6,
    "start_time": "2025-01-03T05:04:55.955Z"
   },
   {
    "duration": 27,
    "start_time": "2025-01-03T05:04:55.962Z"
   },
   {
    "duration": 5,
    "start_time": "2025-01-03T05:04:55.990Z"
   },
   {
    "duration": 5,
    "start_time": "2025-01-03T05:04:55.999Z"
   },
   {
    "duration": 43,
    "start_time": "2025-01-03T05:04:56.005Z"
   },
   {
    "duration": 3,
    "start_time": "2025-01-03T05:04:56.049Z"
   },
   {
    "duration": 4,
    "start_time": "2025-01-03T05:04:56.054Z"
   },
   {
    "duration": 6,
    "start_time": "2025-01-03T05:04:56.060Z"
   },
   {
    "duration": 3,
    "start_time": "2025-01-03T05:04:56.067Z"
   },
   {
    "duration": 4,
    "start_time": "2025-01-03T05:04:56.072Z"
   },
   {
    "duration": 3,
    "start_time": "2025-01-03T05:04:56.077Z"
   },
   {
    "duration": 1787,
    "start_time": "2025-01-03T05:04:56.081Z"
   },
   {
    "duration": 12,
    "start_time": "2025-01-03T05:04:57.870Z"
   },
   {
    "duration": 9,
    "start_time": "2025-01-03T05:04:57.884Z"
   },
   {
    "duration": 11,
    "start_time": "2025-01-03T05:04:57.894Z"
   },
   {
    "duration": 11,
    "start_time": "2025-01-03T05:04:57.906Z"
   },
   {
    "duration": 3,
    "start_time": "2025-01-03T05:04:57.919Z"
   },
   {
    "duration": 3,
    "start_time": "2025-01-03T05:04:57.943Z"
   },
   {
    "duration": 6,
    "start_time": "2025-01-03T05:04:57.948Z"
   },
   {
    "duration": 4,
    "start_time": "2025-01-03T05:04:57.956Z"
   },
   {
    "duration": 2,
    "start_time": "2025-01-03T05:04:57.961Z"
   },
   {
    "duration": 6,
    "start_time": "2025-01-03T05:04:57.969Z"
   },
   {
    "duration": 10,
    "start_time": "2025-01-03T05:04:57.977Z"
   },
   {
    "duration": 6,
    "start_time": "2025-01-03T05:04:57.989Z"
   },
   {
    "duration": 47,
    "start_time": "2025-01-03T05:04:57.997Z"
   },
   {
    "duration": 3,
    "start_time": "2025-01-03T05:04:58.046Z"
   },
   {
    "duration": 5,
    "start_time": "2025-01-03T05:04:58.051Z"
   },
   {
    "duration": 14,
    "start_time": "2025-01-03T05:04:58.058Z"
   },
   {
    "duration": 28,
    "start_time": "2025-01-03T05:04:58.074Z"
   },
   {
    "duration": 61,
    "start_time": "2025-01-03T05:04:58.104Z"
   },
   {
    "duration": 26,
    "start_time": "2025-01-03T05:04:58.166Z"
   },
   {
    "duration": 3,
    "start_time": "2025-01-03T05:04:58.193Z"
   },
   {
    "duration": 5,
    "start_time": "2025-01-03T05:04:58.198Z"
   },
   {
    "duration": 4,
    "start_time": "2025-01-03T05:04:58.204Z"
   },
   {
    "duration": 32,
    "start_time": "2025-01-03T05:04:58.210Z"
   },
   {
    "duration": 8713,
    "start_time": "2025-01-03T05:04:58.244Z"
   },
   {
    "duration": 585,
    "start_time": "2025-01-03T05:05:06.961Z"
   },
   {
    "duration": 17,
    "start_time": "2025-01-03T05:05:07.548Z"
   },
   {
    "duration": 76,
    "start_time": "2025-01-03T05:05:07.567Z"
   },
   {
    "duration": 3,
    "start_time": "2025-01-03T05:05:07.645Z"
   },
   {
    "duration": 3,
    "start_time": "2025-01-03T05:05:07.649Z"
   },
   {
    "duration": 3,
    "start_time": "2025-01-03T05:05:07.653Z"
   },
   {
    "duration": 4,
    "start_time": "2025-01-03T05:05:07.658Z"
   },
   {
    "duration": 3,
    "start_time": "2025-01-03T05:05:07.664Z"
   },
   {
    "duration": 3,
    "start_time": "2025-01-03T05:05:07.668Z"
   },
   {
    "duration": 203,
    "start_time": "2025-01-03T05:05:07.672Z"
   },
   {
    "duration": 2,
    "start_time": "2025-01-03T05:05:07.877Z"
   },
   {
    "duration": 2,
    "start_time": "2025-01-03T05:05:07.881Z"
   },
   {
    "duration": 4,
    "start_time": "2025-01-03T05:05:07.884Z"
   },
   {
    "duration": 3,
    "start_time": "2025-01-03T05:05:07.889Z"
   },
   {
    "duration": 4,
    "start_time": "2025-01-03T05:05:07.893Z"
   },
   {
    "duration": 3,
    "start_time": "2025-01-03T05:05:07.898Z"
   },
   {
    "duration": 3,
    "start_time": "2025-01-03T05:05:07.903Z"
   },
   {
    "duration": 3,
    "start_time": "2025-01-03T05:05:07.907Z"
   },
   {
    "duration": 2,
    "start_time": "2025-01-03T05:05:07.944Z"
   },
   {
    "duration": 3,
    "start_time": "2025-01-03T05:05:07.947Z"
   },
   {
    "duration": 2,
    "start_time": "2025-01-03T05:05:07.952Z"
   },
   {
    "duration": 3,
    "start_time": "2025-01-03T05:05:07.956Z"
   },
   {
    "duration": 3,
    "start_time": "2025-01-03T05:05:07.960Z"
   },
   {
    "duration": 3,
    "start_time": "2025-01-03T05:05:07.964Z"
   },
   {
    "duration": 3,
    "start_time": "2025-01-03T05:05:07.968Z"
   },
   {
    "duration": 2,
    "start_time": "2025-01-03T05:05:07.972Z"
   },
   {
    "duration": 3,
    "start_time": "2025-01-03T05:05:07.976Z"
   },
   {
    "duration": 3,
    "start_time": "2025-01-03T05:05:07.980Z"
   },
   {
    "duration": 2,
    "start_time": "2025-01-03T05:05:07.985Z"
   },
   {
    "duration": 54,
    "start_time": "2025-01-03T05:05:07.989Z"
   },
   {
    "duration": 4,
    "start_time": "2025-01-03T05:05:08.045Z"
   },
   {
    "duration": 2,
    "start_time": "2025-01-03T05:05:08.050Z"
   },
   {
    "duration": 2,
    "start_time": "2025-01-03T05:05:08.054Z"
   },
   {
    "duration": 2,
    "start_time": "2025-01-03T05:05:08.061Z"
   },
   {
    "duration": 3,
    "start_time": "2025-01-03T05:05:08.064Z"
   },
   {
    "duration": 4,
    "start_time": "2025-01-03T05:05:08.068Z"
   },
   {
    "duration": 2,
    "start_time": "2025-01-03T05:05:08.074Z"
   },
   {
    "duration": 2,
    "start_time": "2025-01-03T05:05:08.078Z"
   },
   {
    "duration": 2,
    "start_time": "2025-01-03T05:05:08.082Z"
   },
   {
    "duration": 991,
    "start_time": "2025-01-03T05:09:15.099Z"
   },
   {
    "duration": 19,
    "start_time": "2025-01-03T05:09:16.093Z"
   },
   {
    "duration": 12,
    "start_time": "2025-01-03T05:09:16.114Z"
   },
   {
    "duration": 16,
    "start_time": "2025-01-03T05:09:16.128Z"
   },
   {
    "duration": 10,
    "start_time": "2025-01-03T05:09:16.146Z"
   },
   {
    "duration": 3,
    "start_time": "2025-01-03T05:09:16.158Z"
   },
   {
    "duration": 6,
    "start_time": "2025-01-03T05:09:16.162Z"
   },
   {
    "duration": 27,
    "start_time": "2025-01-03T05:09:16.169Z"
   },
   {
    "duration": 5,
    "start_time": "2025-01-03T05:09:16.198Z"
   },
   {
    "duration": 38,
    "start_time": "2025-01-03T05:09:16.206Z"
   },
   {
    "duration": 6,
    "start_time": "2025-01-03T05:09:16.246Z"
   },
   {
    "duration": 3,
    "start_time": "2025-01-03T05:09:16.253Z"
   },
   {
    "duration": 5,
    "start_time": "2025-01-03T05:09:16.258Z"
   },
   {
    "duration": 6,
    "start_time": "2025-01-03T05:09:16.265Z"
   },
   {
    "duration": 3,
    "start_time": "2025-01-03T05:09:16.274Z"
   },
   {
    "duration": 4,
    "start_time": "2025-01-03T05:09:16.278Z"
   },
   {
    "duration": 3,
    "start_time": "2025-01-03T05:09:16.283Z"
   },
   {
    "duration": 1847,
    "start_time": "2025-01-03T05:09:16.288Z"
   },
   {
    "duration": 11,
    "start_time": "2025-01-03T05:09:18.137Z"
   },
   {
    "duration": 9,
    "start_time": "2025-01-03T05:09:18.150Z"
   },
   {
    "duration": 13,
    "start_time": "2025-01-03T05:09:18.161Z"
   },
   {
    "duration": 13,
    "start_time": "2025-01-03T05:09:18.175Z"
   },
   {
    "duration": 4,
    "start_time": "2025-01-03T05:09:18.190Z"
   },
   {
    "duration": 4,
    "start_time": "2025-01-03T05:09:18.195Z"
   },
   {
    "duration": 7,
    "start_time": "2025-01-03T05:09:18.201Z"
   },
   {
    "duration": 4,
    "start_time": "2025-01-03T05:09:18.242Z"
   },
   {
    "duration": 2,
    "start_time": "2025-01-03T05:09:18.248Z"
   },
   {
    "duration": 7,
    "start_time": "2025-01-03T05:09:18.255Z"
   },
   {
    "duration": 12,
    "start_time": "2025-01-03T05:09:18.263Z"
   },
   {
    "duration": 4,
    "start_time": "2025-01-03T05:09:18.277Z"
   },
   {
    "duration": 9,
    "start_time": "2025-01-03T05:09:18.282Z"
   },
   {
    "duration": 4,
    "start_time": "2025-01-03T05:09:18.292Z"
   },
   {
    "duration": 46,
    "start_time": "2025-01-03T05:09:18.297Z"
   },
   {
    "duration": 13,
    "start_time": "2025-01-03T05:09:18.345Z"
   },
   {
    "duration": 28,
    "start_time": "2025-01-03T05:09:18.360Z"
   },
   {
    "duration": 54,
    "start_time": "2025-01-03T05:09:18.390Z"
   },
   {
    "duration": 26,
    "start_time": "2025-01-03T05:09:18.446Z"
   },
   {
    "duration": 4,
    "start_time": "2025-01-03T05:09:18.473Z"
   },
   {
    "duration": 4,
    "start_time": "2025-01-03T05:09:18.478Z"
   },
   {
    "duration": 4,
    "start_time": "2025-01-03T05:09:18.483Z"
   },
   {
    "duration": 5,
    "start_time": "2025-01-03T05:09:18.489Z"
   },
   {
    "duration": 4,
    "start_time": "2025-01-03T05:09:18.496Z"
   },
   {
    "duration": 8857,
    "start_time": "2025-01-03T05:09:18.502Z"
   },
   {
    "duration": 492,
    "start_time": "2025-01-03T05:09:27.361Z"
   },
   {
    "duration": 90,
    "start_time": "2025-01-03T05:09:27.861Z"
   },
   {
    "duration": 3,
    "start_time": "2025-01-03T05:09:27.953Z"
   },
   {
    "duration": 3,
    "start_time": "2025-01-03T05:09:27.957Z"
   },
   {
    "duration": 2,
    "start_time": "2025-01-03T05:09:27.962Z"
   },
   {
    "duration": 2,
    "start_time": "2025-01-03T05:09:27.966Z"
   },
   {
    "duration": 2,
    "start_time": "2025-01-03T05:09:27.970Z"
   },
   {
    "duration": 2,
    "start_time": "2025-01-03T05:09:27.974Z"
   },
   {
    "duration": 3,
    "start_time": "2025-01-03T05:09:27.977Z"
   },
   {
    "duration": 206,
    "start_time": "2025-01-03T05:09:27.981Z"
   },
   {
    "duration": 2,
    "start_time": "2025-01-03T05:09:28.190Z"
   },
   {
    "duration": 3,
    "start_time": "2025-01-03T05:09:28.194Z"
   },
   {
    "duration": 3,
    "start_time": "2025-01-03T05:09:28.199Z"
   },
   {
    "duration": 3,
    "start_time": "2025-01-03T05:09:28.203Z"
   },
   {
    "duration": 4,
    "start_time": "2025-01-03T05:09:28.208Z"
   },
   {
    "duration": 29,
    "start_time": "2025-01-03T05:09:28.214Z"
   },
   {
    "duration": 3,
    "start_time": "2025-01-03T05:09:28.245Z"
   },
   {
    "duration": 2,
    "start_time": "2025-01-03T05:09:28.250Z"
   },
   {
    "duration": 2,
    "start_time": "2025-01-03T05:09:28.254Z"
   },
   {
    "duration": 5,
    "start_time": "2025-01-03T05:09:28.257Z"
   },
   {
    "duration": 2,
    "start_time": "2025-01-03T05:09:28.263Z"
   },
   {
    "duration": 2,
    "start_time": "2025-01-03T05:09:28.267Z"
   },
   {
    "duration": 3,
    "start_time": "2025-01-03T05:09:28.271Z"
   },
   {
    "duration": 3,
    "start_time": "2025-01-03T05:09:28.277Z"
   },
   {
    "duration": 2,
    "start_time": "2025-01-03T05:09:28.282Z"
   },
   {
    "duration": 3,
    "start_time": "2025-01-03T05:09:28.286Z"
   },
   {
    "duration": 3,
    "start_time": "2025-01-03T05:09:28.290Z"
   },
   {
    "duration": 2,
    "start_time": "2025-01-03T05:09:28.343Z"
   },
   {
    "duration": 2,
    "start_time": "2025-01-03T05:09:28.347Z"
   },
   {
    "duration": 2,
    "start_time": "2025-01-03T05:09:28.351Z"
   },
   {
    "duration": 4,
    "start_time": "2025-01-03T05:09:28.355Z"
   },
   {
    "duration": 2,
    "start_time": "2025-01-03T05:09:28.361Z"
   },
   {
    "duration": 3,
    "start_time": "2025-01-03T05:09:28.364Z"
   },
   {
    "duration": 3,
    "start_time": "2025-01-03T05:09:28.368Z"
   },
   {
    "duration": 2,
    "start_time": "2025-01-03T05:09:28.372Z"
   },
   {
    "duration": 3,
    "start_time": "2025-01-03T05:09:28.376Z"
   },
   {
    "duration": 2,
    "start_time": "2025-01-03T05:09:28.380Z"
   },
   {
    "duration": 4,
    "start_time": "2025-01-03T05:09:28.383Z"
   },
   {
    "duration": 19,
    "start_time": "2025-01-03T05:09:28.394Z"
   },
   {
    "duration": 1027,
    "start_time": "2025-01-03T05:15:32.069Z"
   },
   {
    "duration": 15,
    "start_time": "2025-01-03T05:15:33.098Z"
   },
   {
    "duration": 12,
    "start_time": "2025-01-03T05:15:33.114Z"
   },
   {
    "duration": 14,
    "start_time": "2025-01-03T05:15:33.129Z"
   },
   {
    "duration": 9,
    "start_time": "2025-01-03T05:15:33.145Z"
   },
   {
    "duration": 3,
    "start_time": "2025-01-03T05:15:33.156Z"
   },
   {
    "duration": 5,
    "start_time": "2025-01-03T05:15:33.161Z"
   },
   {
    "duration": 26,
    "start_time": "2025-01-03T05:15:33.168Z"
   },
   {
    "duration": 3,
    "start_time": "2025-01-03T05:15:33.196Z"
   },
   {
    "duration": 40,
    "start_time": "2025-01-03T05:15:33.203Z"
   },
   {
    "duration": 7,
    "start_time": "2025-01-03T05:15:33.244Z"
   },
   {
    "duration": 3,
    "start_time": "2025-01-03T05:15:33.253Z"
   },
   {
    "duration": 4,
    "start_time": "2025-01-03T05:15:33.257Z"
   },
   {
    "duration": 7,
    "start_time": "2025-01-03T05:15:33.263Z"
   },
   {
    "duration": 4,
    "start_time": "2025-01-03T05:15:33.272Z"
   },
   {
    "duration": 4,
    "start_time": "2025-01-03T05:15:33.277Z"
   },
   {
    "duration": 3,
    "start_time": "2025-01-03T05:15:33.282Z"
   },
   {
    "duration": 1856,
    "start_time": "2025-01-03T05:15:33.287Z"
   },
   {
    "duration": 12,
    "start_time": "2025-01-03T05:15:35.145Z"
   },
   {
    "duration": 9,
    "start_time": "2025-01-03T05:15:35.159Z"
   },
   {
    "duration": 16,
    "start_time": "2025-01-03T05:15:35.170Z"
   },
   {
    "duration": 12,
    "start_time": "2025-01-03T05:15:35.188Z"
   },
   {
    "duration": 3,
    "start_time": "2025-01-03T05:15:35.202Z"
   },
   {
    "duration": 4,
    "start_time": "2025-01-03T05:15:35.206Z"
   },
   {
    "duration": 37,
    "start_time": "2025-01-03T05:15:35.211Z"
   },
   {
    "duration": 5,
    "start_time": "2025-01-03T05:15:35.249Z"
   },
   {
    "duration": 2,
    "start_time": "2025-01-03T05:15:35.256Z"
   },
   {
    "duration": 8,
    "start_time": "2025-01-03T05:15:35.264Z"
   },
   {
    "duration": 9,
    "start_time": "2025-01-03T05:15:35.274Z"
   },
   {
    "duration": 3,
    "start_time": "2025-01-03T05:15:35.285Z"
   },
   {
    "duration": 10,
    "start_time": "2025-01-03T05:15:35.289Z"
   },
   {
    "duration": 3,
    "start_time": "2025-01-03T05:15:35.301Z"
   },
   {
    "duration": 41,
    "start_time": "2025-01-03T05:15:35.306Z"
   },
   {
    "duration": 13,
    "start_time": "2025-01-03T05:15:35.348Z"
   },
   {
    "duration": 27,
    "start_time": "2025-01-03T05:15:35.363Z"
   },
   {
    "duration": 54,
    "start_time": "2025-01-03T05:15:35.392Z"
   },
   {
    "duration": 27,
    "start_time": "2025-01-03T05:15:35.447Z"
   },
   {
    "duration": 3,
    "start_time": "2025-01-03T05:15:35.476Z"
   },
   {
    "duration": 4,
    "start_time": "2025-01-03T05:15:35.480Z"
   },
   {
    "duration": 3,
    "start_time": "2025-01-03T05:15:35.486Z"
   },
   {
    "duration": 4,
    "start_time": "2025-01-03T05:15:35.491Z"
   },
   {
    "duration": 4,
    "start_time": "2025-01-03T05:15:35.496Z"
   },
   {
    "duration": 4,
    "start_time": "2025-01-03T05:15:35.502Z"
   },
   {
    "duration": 8655,
    "start_time": "2025-01-03T05:15:35.508Z"
   },
   {
    "duration": 500,
    "start_time": "2025-01-03T05:15:44.165Z"
   },
   {
    "duration": 16,
    "start_time": "2025-01-03T05:15:44.744Z"
   },
   {
    "duration": 2,
    "start_time": "2025-01-03T05:15:44.762Z"
   },
   {
    "duration": 3,
    "start_time": "2025-01-03T05:15:44.766Z"
   },
   {
    "duration": 4,
    "start_time": "2025-01-03T05:15:44.770Z"
   },
   {
    "duration": 2,
    "start_time": "2025-01-03T05:15:44.843Z"
   },
   {
    "duration": 3,
    "start_time": "2025-01-03T05:15:44.847Z"
   },
   {
    "duration": 4,
    "start_time": "2025-01-03T05:15:44.851Z"
   },
   {
    "duration": 4,
    "start_time": "2025-01-03T05:15:44.856Z"
   },
   {
    "duration": 205,
    "start_time": "2025-01-03T05:15:44.861Z"
   },
   {
    "duration": 2,
    "start_time": "2025-01-03T05:15:45.068Z"
   },
   {
    "duration": 2,
    "start_time": "2025-01-03T05:15:45.073Z"
   },
   {
    "duration": 2,
    "start_time": "2025-01-03T05:15:45.076Z"
   },
   {
    "duration": 2,
    "start_time": "2025-01-03T05:15:45.080Z"
   },
   {
    "duration": 3,
    "start_time": "2025-01-03T05:15:45.084Z"
   },
   {
    "duration": 3,
    "start_time": "2025-01-03T05:15:45.088Z"
   },
   {
    "duration": 2,
    "start_time": "2025-01-03T05:15:45.093Z"
   },
   {
    "duration": 2,
    "start_time": "2025-01-03T05:15:45.097Z"
   },
   {
    "duration": 2,
    "start_time": "2025-01-03T05:15:45.144Z"
   },
   {
    "duration": 3,
    "start_time": "2025-01-03T05:15:45.148Z"
   },
   {
    "duration": 3,
    "start_time": "2025-01-03T05:15:45.153Z"
   },
   {
    "duration": 3,
    "start_time": "2025-01-03T05:15:45.160Z"
   },
   {
    "duration": 3,
    "start_time": "2025-01-03T05:15:45.165Z"
   },
   {
    "duration": 3,
    "start_time": "2025-01-03T05:15:45.171Z"
   },
   {
    "duration": 3,
    "start_time": "2025-01-03T05:15:45.176Z"
   },
   {
    "duration": 3,
    "start_time": "2025-01-03T05:15:45.180Z"
   },
   {
    "duration": 9,
    "start_time": "2025-01-03T05:15:45.185Z"
   },
   {
    "duration": 3,
    "start_time": "2025-01-03T05:15:45.196Z"
   },
   {
    "duration": 3,
    "start_time": "2025-01-03T05:15:45.201Z"
   },
   {
    "duration": 3,
    "start_time": "2025-01-03T05:15:45.205Z"
   },
   {
    "duration": 35,
    "start_time": "2025-01-03T05:15:45.210Z"
   },
   {
    "duration": 2,
    "start_time": "2025-01-03T05:15:45.247Z"
   },
   {
    "duration": 2,
    "start_time": "2025-01-03T05:15:45.251Z"
   },
   {
    "duration": 2,
    "start_time": "2025-01-03T05:15:45.255Z"
   },
   {
    "duration": 2,
    "start_time": "2025-01-03T05:15:45.259Z"
   },
   {
    "duration": 3,
    "start_time": "2025-01-03T05:15:45.263Z"
   },
   {
    "duration": 2,
    "start_time": "2025-01-03T05:15:45.268Z"
   },
   {
    "duration": 1,
    "start_time": "2025-01-03T05:15:45.277Z"
   },
   {
    "duration": 2,
    "start_time": "2025-01-03T05:15:45.280Z"
   },
   {
    "duration": 992,
    "start_time": "2025-01-03T05:27:37.911Z"
   },
   {
    "duration": 16,
    "start_time": "2025-01-03T05:27:38.906Z"
   },
   {
    "duration": 21,
    "start_time": "2025-01-03T05:27:38.923Z"
   },
   {
    "duration": 4,
    "start_time": "2025-01-03T05:27:38.946Z"
   },
   {
    "duration": 9,
    "start_time": "2025-01-03T05:27:38.951Z"
   },
   {
    "duration": 4,
    "start_time": "2025-01-03T05:27:38.962Z"
   },
   {
    "duration": 9,
    "start_time": "2025-01-03T05:27:38.968Z"
   },
   {
    "duration": 64,
    "start_time": "2025-01-03T05:27:38.979Z"
   },
   {
    "duration": 5,
    "start_time": "2025-01-03T05:27:39.045Z"
   },
   {
    "duration": 5,
    "start_time": "2025-01-03T05:27:39.053Z"
   },
   {
    "duration": 6,
    "start_time": "2025-01-03T05:27:39.060Z"
   },
   {
    "duration": 3,
    "start_time": "2025-01-03T05:27:39.068Z"
   },
   {
    "duration": 4,
    "start_time": "2025-01-03T05:27:39.073Z"
   },
   {
    "duration": 5,
    "start_time": "2025-01-03T05:27:39.079Z"
   },
   {
    "duration": 3,
    "start_time": "2025-01-03T05:27:39.086Z"
   },
   {
    "duration": 4,
    "start_time": "2025-01-03T05:27:39.091Z"
   },
   {
    "duration": 45,
    "start_time": "2025-01-03T05:27:39.097Z"
   },
   {
    "duration": 1861,
    "start_time": "2025-01-03T05:27:39.144Z"
   },
   {
    "duration": 13,
    "start_time": "2025-01-03T05:27:41.007Z"
   },
   {
    "duration": 8,
    "start_time": "2025-01-03T05:27:41.022Z"
   },
   {
    "duration": 15,
    "start_time": "2025-01-03T05:27:41.032Z"
   },
   {
    "duration": 11,
    "start_time": "2025-01-03T05:27:41.048Z"
   },
   {
    "duration": 3,
    "start_time": "2025-01-03T05:27:41.062Z"
   },
   {
    "duration": 4,
    "start_time": "2025-01-03T05:27:41.066Z"
   },
   {
    "duration": 7,
    "start_time": "2025-01-03T05:27:41.071Z"
   },
   {
    "duration": 5,
    "start_time": "2025-01-03T05:27:41.079Z"
   },
   {
    "duration": 2,
    "start_time": "2025-01-03T05:27:41.085Z"
   },
   {
    "duration": 7,
    "start_time": "2025-01-03T05:27:41.093Z"
   },
   {
    "duration": 43,
    "start_time": "2025-01-03T05:27:41.101Z"
   },
   {
    "duration": 6,
    "start_time": "2025-01-03T05:27:41.146Z"
   },
   {
    "duration": 10,
    "start_time": "2025-01-03T05:27:41.153Z"
   },
   {
    "duration": 5,
    "start_time": "2025-01-03T05:27:41.165Z"
   },
   {
    "duration": 6,
    "start_time": "2025-01-03T05:27:41.171Z"
   },
   {
    "duration": 13,
    "start_time": "2025-01-03T05:27:41.179Z"
   },
   {
    "duration": 69,
    "start_time": "2025-01-03T05:27:41.194Z"
   },
   {
    "duration": 26,
    "start_time": "2025-01-03T05:27:41.265Z"
   },
   {
    "duration": 25,
    "start_time": "2025-01-03T05:27:41.292Z"
   },
   {
    "duration": 3,
    "start_time": "2025-01-03T05:27:41.319Z"
   },
   {
    "duration": 5,
    "start_time": "2025-01-03T05:27:41.343Z"
   },
   {
    "duration": 8701,
    "start_time": "2025-01-03T05:27:41.350Z"
   },
   {
    "duration": 379,
    "start_time": "2025-01-03T05:27:50.053Z"
   },
   {
    "duration": 0,
    "start_time": "2025-01-03T05:27:50.433Z"
   },
   {
    "duration": 0,
    "start_time": "2025-01-03T05:27:50.434Z"
   },
   {
    "duration": 0,
    "start_time": "2025-01-03T05:27:50.435Z"
   },
   {
    "duration": 0,
    "start_time": "2025-01-03T05:27:50.436Z"
   },
   {
    "duration": 0,
    "start_time": "2025-01-03T05:27:50.437Z"
   },
   {
    "duration": 0,
    "start_time": "2025-01-03T05:27:50.438Z"
   },
   {
    "duration": 0,
    "start_time": "2025-01-03T05:27:50.443Z"
   },
   {
    "duration": 0,
    "start_time": "2025-01-03T05:27:50.444Z"
   },
   {
    "duration": 0,
    "start_time": "2025-01-03T05:27:50.444Z"
   },
   {
    "duration": 0,
    "start_time": "2025-01-03T05:27:50.445Z"
   },
   {
    "duration": 0,
    "start_time": "2025-01-03T05:27:50.447Z"
   },
   {
    "duration": 0,
    "start_time": "2025-01-03T05:27:50.448Z"
   },
   {
    "duration": 0,
    "start_time": "2025-01-03T05:27:50.450Z"
   },
   {
    "duration": 0,
    "start_time": "2025-01-03T05:27:50.451Z"
   },
   {
    "duration": 0,
    "start_time": "2025-01-03T05:27:50.452Z"
   },
   {
    "duration": 0,
    "start_time": "2025-01-03T05:27:50.454Z"
   },
   {
    "duration": 0,
    "start_time": "2025-01-03T05:27:50.456Z"
   },
   {
    "duration": 0,
    "start_time": "2025-01-03T05:27:50.457Z"
   },
   {
    "duration": 0,
    "start_time": "2025-01-03T05:27:50.458Z"
   },
   {
    "duration": 0,
    "start_time": "2025-01-03T05:27:50.459Z"
   },
   {
    "duration": 0,
    "start_time": "2025-01-03T05:27:50.461Z"
   },
   {
    "duration": 0,
    "start_time": "2025-01-03T05:27:50.462Z"
   },
   {
    "duration": 0,
    "start_time": "2025-01-03T05:27:50.464Z"
   },
   {
    "duration": 0,
    "start_time": "2025-01-03T05:27:50.466Z"
   },
   {
    "duration": 0,
    "start_time": "2025-01-03T05:27:50.467Z"
   },
   {
    "duration": 0,
    "start_time": "2025-01-03T05:27:50.469Z"
   },
   {
    "duration": 0,
    "start_time": "2025-01-03T05:27:50.470Z"
   },
   {
    "duration": 0,
    "start_time": "2025-01-03T05:27:50.472Z"
   },
   {
    "duration": 0,
    "start_time": "2025-01-03T05:27:50.476Z"
   },
   {
    "duration": 0,
    "start_time": "2025-01-03T05:27:50.477Z"
   },
   {
    "duration": 0,
    "start_time": "2025-01-03T05:27:50.478Z"
   },
   {
    "duration": 0,
    "start_time": "2025-01-03T05:27:50.481Z"
   },
   {
    "duration": 0,
    "start_time": "2025-01-03T05:27:50.482Z"
   },
   {
    "duration": 0,
    "start_time": "2025-01-03T05:27:50.483Z"
   },
   {
    "duration": 0,
    "start_time": "2025-01-03T05:27:50.483Z"
   },
   {
    "duration": 0,
    "start_time": "2025-01-03T05:27:50.484Z"
   },
   {
    "duration": 0,
    "start_time": "2025-01-03T05:27:50.485Z"
   },
   {
    "duration": 0,
    "start_time": "2025-01-03T05:27:50.543Z"
   },
   {
    "duration": 7703,
    "start_time": "2025-01-03T05:29:57.111Z"
   },
   {
    "duration": 93844,
    "start_time": "2025-01-03T05:30:06.671Z"
   },
   {
    "duration": 23,
    "start_time": "2025-01-03T05:34:37.408Z"
   },
   {
    "duration": 18,
    "start_time": "2025-01-03T05:54:49.723Z"
   },
   {
    "duration": 260,
    "start_time": "2025-01-03T05:56:40.507Z"
   },
   {
    "duration": 19,
    "start_time": "2025-01-03T05:57:52.068Z"
   },
   {
    "duration": 40,
    "start_time": "2025-01-03T06:00:16.878Z"
   },
   {
    "duration": 1006,
    "start_time": "2025-01-03T06:01:51.706Z"
   },
   {
    "duration": 16,
    "start_time": "2025-01-03T06:01:52.715Z"
   },
   {
    "duration": 17,
    "start_time": "2025-01-03T06:01:52.732Z"
   },
   {
    "duration": 4,
    "start_time": "2025-01-03T06:01:52.751Z"
   },
   {
    "duration": 10,
    "start_time": "2025-01-03T06:01:52.756Z"
   },
   {
    "duration": 4,
    "start_time": "2025-01-03T06:01:52.768Z"
   },
   {
    "duration": 7,
    "start_time": "2025-01-03T06:01:52.774Z"
   },
   {
    "duration": 63,
    "start_time": "2025-01-03T06:01:52.783Z"
   },
   {
    "duration": 5,
    "start_time": "2025-01-03T06:01:52.848Z"
   },
   {
    "duration": 6,
    "start_time": "2025-01-03T06:01:52.856Z"
   },
   {
    "duration": 6,
    "start_time": "2025-01-03T06:01:52.863Z"
   },
   {
    "duration": 3,
    "start_time": "2025-01-03T06:01:52.871Z"
   },
   {
    "duration": 5,
    "start_time": "2025-01-03T06:01:52.875Z"
   },
   {
    "duration": 6,
    "start_time": "2025-01-03T06:01:52.882Z"
   },
   {
    "duration": 5,
    "start_time": "2025-01-03T06:01:52.889Z"
   },
   {
    "duration": 4,
    "start_time": "2025-01-03T06:01:52.895Z"
   },
   {
    "duration": 3,
    "start_time": "2025-01-03T06:01:52.942Z"
   },
   {
    "duration": 1804,
    "start_time": "2025-01-03T06:01:52.947Z"
   },
   {
    "duration": 13,
    "start_time": "2025-01-03T06:01:54.753Z"
   },
   {
    "duration": 9,
    "start_time": "2025-01-03T06:01:54.767Z"
   },
   {
    "duration": 11,
    "start_time": "2025-01-03T06:01:54.778Z"
   },
   {
    "duration": 11,
    "start_time": "2025-01-03T06:01:54.790Z"
   },
   {
    "duration": 3,
    "start_time": "2025-01-03T06:01:54.803Z"
   },
   {
    "duration": 3,
    "start_time": "2025-01-03T06:01:54.808Z"
   },
   {
    "duration": 7,
    "start_time": "2025-01-03T06:01:54.842Z"
   },
   {
    "duration": 6,
    "start_time": "2025-01-03T06:01:54.851Z"
   },
   {
    "duration": 2,
    "start_time": "2025-01-03T06:01:54.859Z"
   },
   {
    "duration": 7,
    "start_time": "2025-01-03T06:01:54.868Z"
   },
   {
    "duration": 9,
    "start_time": "2025-01-03T06:01:54.877Z"
   },
   {
    "duration": 3,
    "start_time": "2025-01-03T06:01:54.888Z"
   },
   {
    "duration": 9,
    "start_time": "2025-01-03T06:01:54.893Z"
   },
   {
    "duration": 4,
    "start_time": "2025-01-03T06:01:54.903Z"
   },
   {
    "duration": 6,
    "start_time": "2025-01-03T06:01:54.943Z"
   },
   {
    "duration": 13,
    "start_time": "2025-01-03T06:01:54.950Z"
   },
   {
    "duration": 28,
    "start_time": "2025-01-03T06:01:54.965Z"
   },
   {
    "duration": 58,
    "start_time": "2025-01-03T06:01:54.995Z"
   },
   {
    "duration": 27,
    "start_time": "2025-01-03T06:01:55.055Z"
   },
   {
    "duration": 8,
    "start_time": "2025-01-03T06:01:55.083Z"
   },
   {
    "duration": 8759,
    "start_time": "2025-01-03T06:01:55.093Z"
   },
   {
    "duration": 7760,
    "start_time": "2025-01-03T06:02:03.855Z"
   },
   {
    "duration": 93362,
    "start_time": "2025-01-03T06:02:11.617Z"
   },
   {
    "duration": 2,
    "start_time": "2025-01-03T06:03:44.981Z"
   },
   {
    "duration": 3,
    "start_time": "2025-01-03T06:03:44.985Z"
   },
   {
    "duration": 3,
    "start_time": "2025-01-03T06:03:44.990Z"
   },
   {
    "duration": 4,
    "start_time": "2025-01-03T06:03:44.994Z"
   },
   {
    "duration": 2,
    "start_time": "2025-01-03T06:03:45.000Z"
   },
   {
    "duration": 2,
    "start_time": "2025-01-03T06:03:45.004Z"
   },
   {
    "duration": 2,
    "start_time": "2025-01-03T06:03:45.008Z"
   },
   {
    "duration": 25,
    "start_time": "2025-01-03T06:03:45.043Z"
   },
   {
    "duration": 6,
    "start_time": "2025-01-03T06:03:45.070Z"
   },
   {
    "duration": 2,
    "start_time": "2025-01-03T06:03:45.078Z"
   },
   {
    "duration": 3,
    "start_time": "2025-01-03T06:03:45.082Z"
   },
   {
    "duration": 2,
    "start_time": "2025-01-03T06:03:45.088Z"
   },
   {
    "duration": 3,
    "start_time": "2025-01-03T06:03:45.092Z"
   },
   {
    "duration": 3,
    "start_time": "2025-01-03T06:03:45.097Z"
   },
   {
    "duration": 3,
    "start_time": "2025-01-03T06:03:45.102Z"
   },
   {
    "duration": 2,
    "start_time": "2025-01-03T06:03:45.107Z"
   },
   {
    "duration": 35,
    "start_time": "2025-01-03T06:03:45.110Z"
   },
   {
    "duration": 3,
    "start_time": "2025-01-03T06:03:45.146Z"
   },
   {
    "duration": 4,
    "start_time": "2025-01-03T06:03:45.150Z"
   },
   {
    "duration": 3,
    "start_time": "2025-01-03T06:03:45.155Z"
   },
   {
    "duration": 2,
    "start_time": "2025-01-03T06:03:45.160Z"
   },
   {
    "duration": 3,
    "start_time": "2025-01-03T06:03:45.164Z"
   },
   {
    "duration": 4,
    "start_time": "2025-01-03T06:03:45.168Z"
   },
   {
    "duration": 3,
    "start_time": "2025-01-03T06:03:45.173Z"
   },
   {
    "duration": 6,
    "start_time": "2025-01-03T06:03:45.178Z"
   },
   {
    "duration": 4,
    "start_time": "2025-01-03T06:03:45.186Z"
   },
   {
    "duration": 2,
    "start_time": "2025-01-03T06:03:45.194Z"
   },
   {
    "duration": 3,
    "start_time": "2025-01-03T06:03:45.197Z"
   },
   {
    "duration": 43,
    "start_time": "2025-01-03T06:03:45.201Z"
   },
   {
    "duration": 3,
    "start_time": "2025-01-03T06:03:45.245Z"
   },
   {
    "duration": 3,
    "start_time": "2025-01-03T06:03:45.249Z"
   },
   {
    "duration": 3,
    "start_time": "2025-01-03T06:03:45.253Z"
   },
   {
    "duration": 2,
    "start_time": "2025-01-03T06:03:45.258Z"
   },
   {
    "duration": 3,
    "start_time": "2025-01-03T06:03:45.262Z"
   },
   {
    "duration": 3,
    "start_time": "2025-01-03T06:03:45.266Z"
   },
   {
    "duration": 2,
    "start_time": "2025-01-03T06:03:45.271Z"
   },
   {
    "duration": 2,
    "start_time": "2025-01-03T06:03:45.275Z"
   },
   {
    "duration": 164,
    "start_time": "2025-01-03T06:04:38.331Z"
   },
   {
    "duration": 13,
    "start_time": "2025-01-03T06:07:02.717Z"
   },
   {
    "duration": 2,
    "start_time": "2025-01-03T06:07:03.779Z"
   },
   {
    "duration": 127,
    "start_time": "2025-01-03T06:07:04.402Z"
   },
   {
    "duration": 11,
    "start_time": "2025-01-03T06:10:52.654Z"
   },
   {
    "duration": 2,
    "start_time": "2025-01-03T06:10:53.403Z"
   },
   {
    "duration": 3,
    "start_time": "2025-01-03T06:10:54.154Z"
   },
   {
    "duration": 2,
    "start_time": "2025-01-03T06:10:54.733Z"
   },
   {
    "duration": 3,
    "start_time": "2025-01-03T06:10:55.301Z"
   },
   {
    "duration": 947,
    "start_time": "2025-01-03T06:15:11.131Z"
   },
   {
    "duration": 15,
    "start_time": "2025-01-03T06:15:12.080Z"
   },
   {
    "duration": 12,
    "start_time": "2025-01-03T06:15:12.097Z"
   },
   {
    "duration": 4,
    "start_time": "2025-01-03T06:15:12.111Z"
   },
   {
    "duration": 10,
    "start_time": "2025-01-03T06:15:12.641Z"
   },
   {
    "duration": 3,
    "start_time": "2025-01-03T06:15:12.804Z"
   },
   {
    "duration": 7,
    "start_time": "2025-01-03T06:15:13.021Z"
   },
   {
    "duration": 28,
    "start_time": "2025-01-03T06:15:13.710Z"
   },
   {
    "duration": 5,
    "start_time": "2025-01-03T06:15:13.912Z"
   },
   {
    "duration": 5,
    "start_time": "2025-01-03T06:15:14.632Z"
   },
   {
    "duration": 7,
    "start_time": "2025-01-03T06:15:14.936Z"
   },
   {
    "duration": 4,
    "start_time": "2025-01-03T06:15:17.484Z"
   },
   {
    "duration": 4,
    "start_time": "2025-01-03T06:15:17.977Z"
   },
   {
    "duration": 6,
    "start_time": "2025-01-03T06:15:18.707Z"
   },
   {
    "duration": 4,
    "start_time": "2025-01-03T06:15:22.021Z"
   },
   {
    "duration": 5,
    "start_time": "2025-01-03T06:15:22.442Z"
   },
   {
    "duration": 2,
    "start_time": "2025-01-03T06:15:24.898Z"
   },
   {
    "duration": 1777,
    "start_time": "2025-01-03T06:15:25.357Z"
   },
   {
    "duration": 13,
    "start_time": "2025-01-03T06:15:27.135Z"
   },
   {
    "duration": 8,
    "start_time": "2025-01-03T06:15:27.150Z"
   },
   {
    "duration": 11,
    "start_time": "2025-01-03T06:15:27.160Z"
   },
   {
    "duration": 11,
    "start_time": "2025-01-03T06:15:27.372Z"
   },
   {
    "duration": 4,
    "start_time": "2025-01-03T06:15:50.451Z"
   },
   {
    "duration": 4,
    "start_time": "2025-01-03T06:15:52.756Z"
   },
   {
    "duration": 7,
    "start_time": "2025-01-03T06:15:53.402Z"
   },
   {
    "duration": 5,
    "start_time": "2025-01-03T06:15:54.096Z"
   },
   {
    "duration": 2,
    "start_time": "2025-01-03T06:15:54.699Z"
   },
   {
    "duration": 8,
    "start_time": "2025-01-03T06:15:55.535Z"
   },
   {
    "duration": 9,
    "start_time": "2025-01-03T06:15:56.102Z"
   },
   {
    "duration": 4,
    "start_time": "2025-01-03T06:15:56.674Z"
   },
   {
    "duration": 9,
    "start_time": "2025-01-03T06:15:57.223Z"
   },
   {
    "duration": 4,
    "start_time": "2025-01-03T06:16:00.380Z"
   },
   {
    "duration": 7,
    "start_time": "2025-01-03T06:16:00.792Z"
   },
   {
    "duration": 15,
    "start_time": "2025-01-03T06:16:01.317Z"
   },
   {
    "duration": 28,
    "start_time": "2025-01-03T06:16:03.005Z"
   },
   {
    "duration": 27,
    "start_time": "2025-01-03T06:16:03.371Z"
   },
   {
    "duration": 26,
    "start_time": "2025-01-03T06:16:03.979Z"
   },
   {
    "duration": 9,
    "start_time": "2025-01-03T06:16:09.441Z"
   },
   {
    "duration": 8726,
    "start_time": "2025-01-03T06:16:16.717Z"
   },
   {
    "duration": 7707,
    "start_time": "2025-01-03T06:26:40.313Z"
   },
   {
    "duration": 93256,
    "start_time": "2025-01-03T06:29:59.135Z"
   },
   {
    "duration": 23,
    "start_time": "2025-01-03T06:35:17.714Z"
   },
   {
    "duration": 170,
    "start_time": "2025-01-03T06:36:50.521Z"
   },
   {
    "duration": 11,
    "start_time": "2025-01-03T06:38:10.181Z"
   },
   {
    "duration": 2,
    "start_time": "2025-01-03T06:38:10.704Z"
   },
   {
    "duration": 129,
    "start_time": "2025-01-03T06:38:11.278Z"
   },
   {
    "duration": 1006,
    "start_time": "2025-01-03T06:44:04.801Z"
   },
   {
    "duration": 16,
    "start_time": "2025-01-03T06:44:05.809Z"
   },
   {
    "duration": 21,
    "start_time": "2025-01-03T06:44:05.826Z"
   },
   {
    "duration": 4,
    "start_time": "2025-01-03T06:44:05.849Z"
   },
   {
    "duration": 9,
    "start_time": "2025-01-03T06:44:05.856Z"
   },
   {
    "duration": 3,
    "start_time": "2025-01-03T06:44:05.867Z"
   },
   {
    "duration": 6,
    "start_time": "2025-01-03T06:44:05.871Z"
   },
   {
    "duration": 25,
    "start_time": "2025-01-03T06:44:05.880Z"
   },
   {
    "duration": 36,
    "start_time": "2025-01-03T06:44:05.907Z"
   },
   {
    "duration": 5,
    "start_time": "2025-01-03T06:44:05.945Z"
   },
   {
    "duration": 6,
    "start_time": "2025-01-03T06:44:05.951Z"
   },
   {
    "duration": 3,
    "start_time": "2025-01-03T06:44:05.959Z"
   },
   {
    "duration": 4,
    "start_time": "2025-01-03T06:44:05.964Z"
   },
   {
    "duration": 6,
    "start_time": "2025-01-03T06:44:05.969Z"
   },
   {
    "duration": 4,
    "start_time": "2025-01-03T06:44:05.976Z"
   },
   {
    "duration": 4,
    "start_time": "2025-01-03T06:44:05.982Z"
   },
   {
    "duration": 3,
    "start_time": "2025-01-03T06:44:05.988Z"
   },
   {
    "duration": 1822,
    "start_time": "2025-01-03T06:44:05.993Z"
   },
   {
    "duration": 13,
    "start_time": "2025-01-03T06:44:07.817Z"
   },
   {
    "duration": 10,
    "start_time": "2025-01-03T06:44:07.833Z"
   },
   {
    "duration": 12,
    "start_time": "2025-01-03T06:44:07.845Z"
   },
   {
    "duration": 11,
    "start_time": "2025-01-03T06:44:07.859Z"
   },
   {
    "duration": 3,
    "start_time": "2025-01-03T06:44:07.871Z"
   },
   {
    "duration": 4,
    "start_time": "2025-01-03T06:44:07.876Z"
   },
   {
    "duration": 7,
    "start_time": "2025-01-03T06:44:07.881Z"
   },
   {
    "duration": 5,
    "start_time": "2025-01-03T06:44:07.889Z"
   },
   {
    "duration": 2,
    "start_time": "2025-01-03T06:44:07.896Z"
   },
   {
    "duration": 44,
    "start_time": "2025-01-03T06:44:07.903Z"
   },
   {
    "duration": 10,
    "start_time": "2025-01-03T06:44:07.949Z"
   },
   {
    "duration": 5,
    "start_time": "2025-01-03T06:44:07.961Z"
   },
   {
    "duration": 9,
    "start_time": "2025-01-03T06:44:07.968Z"
   },
   {
    "duration": 4,
    "start_time": "2025-01-03T06:44:07.979Z"
   },
   {
    "duration": 5,
    "start_time": "2025-01-03T06:44:07.985Z"
   },
   {
    "duration": 14,
    "start_time": "2025-01-03T06:44:07.992Z"
   },
   {
    "duration": 29,
    "start_time": "2025-01-03T06:44:08.043Z"
   },
   {
    "duration": 26,
    "start_time": "2025-01-03T06:44:08.074Z"
   },
   {
    "duration": 46,
    "start_time": "2025-01-03T06:44:08.102Z"
   },
   {
    "duration": 8,
    "start_time": "2025-01-03T06:44:08.149Z"
   },
   {
    "duration": 8786,
    "start_time": "2025-01-03T06:44:08.159Z"
   },
   {
    "duration": 7735,
    "start_time": "2025-01-03T06:44:16.949Z"
   },
   {
    "duration": 93172,
    "start_time": "2025-01-03T06:44:24.686Z"
   },
   {
    "duration": 2,
    "start_time": "2025-01-03T06:45:57.861Z"
   },
   {
    "duration": 2,
    "start_time": "2025-01-03T06:45:57.865Z"
   },
   {
    "duration": 2,
    "start_time": "2025-01-03T06:45:57.869Z"
   },
   {
    "duration": 2,
    "start_time": "2025-01-03T06:45:57.873Z"
   },
   {
    "duration": 2,
    "start_time": "2025-01-03T06:45:57.877Z"
   },
   {
    "duration": 2,
    "start_time": "2025-01-03T06:45:57.881Z"
   },
   {
    "duration": 2,
    "start_time": "2025-01-03T06:45:57.885Z"
   },
   {
    "duration": 59,
    "start_time": "2025-01-03T06:45:57.889Z"
   },
   {
    "duration": 174,
    "start_time": "2025-01-03T06:45:57.950Z"
   },
   {
    "duration": 3,
    "start_time": "2025-01-03T06:45:58.126Z"
   },
   {
    "duration": 2,
    "start_time": "2025-01-03T06:45:58.131Z"
   },
   {
    "duration": 3,
    "start_time": "2025-01-03T06:45:58.144Z"
   },
   {
    "duration": 2,
    "start_time": "2025-01-03T06:45:58.148Z"
   },
   {
    "duration": 2,
    "start_time": "2025-01-03T06:45:58.152Z"
   },
   {
    "duration": 2,
    "start_time": "2025-01-03T06:45:58.156Z"
   },
   {
    "duration": 2,
    "start_time": "2025-01-03T06:45:58.160Z"
   },
   {
    "duration": 2,
    "start_time": "2025-01-03T06:45:58.165Z"
   },
   {
    "duration": 2,
    "start_time": "2025-01-03T06:45:58.169Z"
   },
   {
    "duration": 3,
    "start_time": "2025-01-03T06:45:58.173Z"
   },
   {
    "duration": 2,
    "start_time": "2025-01-03T06:45:58.177Z"
   },
   {
    "duration": 2,
    "start_time": "2025-01-03T06:45:58.181Z"
   },
   {
    "duration": 3,
    "start_time": "2025-01-03T06:45:58.184Z"
   },
   {
    "duration": 2,
    "start_time": "2025-01-03T06:45:58.189Z"
   },
   {
    "duration": 50,
    "start_time": "2025-01-03T06:45:58.193Z"
   },
   {
    "duration": 3,
    "start_time": "2025-01-03T06:45:58.244Z"
   },
   {
    "duration": 3,
    "start_time": "2025-01-03T06:45:58.248Z"
   },
   {
    "duration": 4,
    "start_time": "2025-01-03T06:45:58.252Z"
   },
   {
    "duration": 4,
    "start_time": "2025-01-03T06:45:58.257Z"
   },
   {
    "duration": 3,
    "start_time": "2025-01-03T06:45:58.263Z"
   },
   {
    "duration": 2,
    "start_time": "2025-01-03T06:45:58.268Z"
   },
   {
    "duration": 11,
    "start_time": "2025-01-03T06:45:58.271Z"
   },
   {
    "duration": 2,
    "start_time": "2025-01-03T06:45:58.284Z"
   },
   {
    "duration": 166,
    "start_time": "2025-01-03T06:45:58.288Z"
   },
   {
    "duration": 11,
    "start_time": "2025-01-03T06:45:58.456Z"
   },
   {
    "duration": 2,
    "start_time": "2025-01-03T06:45:58.468Z"
   },
   {
    "duration": 2,
    "start_time": "2025-01-03T06:45:58.473Z"
   },
   {
    "duration": 3,
    "start_time": "2025-01-03T06:45:58.477Z"
   },
   {
    "duration": 3,
    "start_time": "2025-01-03T06:45:58.481Z"
   },
   {
    "duration": 9,
    "start_time": "2025-01-03T18:47:57.091Z"
   },
   {
    "duration": 165,
    "start_time": "2025-01-03T20:25:07.870Z"
   },
   {
    "duration": 2873,
    "start_time": "2025-01-03T20:25:25.715Z"
   },
   {
    "duration": 29,
    "start_time": "2025-01-03T20:25:28.591Z"
   },
   {
    "duration": 13,
    "start_time": "2025-01-03T20:25:28.621Z"
   },
   {
    "duration": 3,
    "start_time": "2025-01-03T20:25:28.636Z"
   },
   {
    "duration": 10,
    "start_time": "2025-01-03T20:25:28.641Z"
   },
   {
    "duration": 3,
    "start_time": "2025-01-03T20:25:28.652Z"
   },
   {
    "duration": 7,
    "start_time": "2025-01-03T20:25:28.657Z"
   },
   {
    "duration": 28,
    "start_time": "2025-01-03T20:25:28.665Z"
   },
   {
    "duration": 38,
    "start_time": "2025-01-03T20:25:28.695Z"
   },
   {
    "duration": 5,
    "start_time": "2025-01-03T20:25:28.736Z"
   },
   {
    "duration": 6,
    "start_time": "2025-01-03T20:25:28.742Z"
   },
   {
    "duration": 3,
    "start_time": "2025-01-03T20:25:29.638Z"
   },
   {
    "duration": 4,
    "start_time": "2025-01-03T20:25:29.838Z"
   },
   {
    "duration": 8,
    "start_time": "2025-01-03T20:25:30.052Z"
   },
   {
    "duration": 3,
    "start_time": "2025-01-03T20:25:30.653Z"
   },
   {
    "duration": 4,
    "start_time": "2025-01-03T20:25:30.863Z"
   },
   {
    "duration": 2,
    "start_time": "2025-01-03T20:25:31.684Z"
   },
   {
    "duration": 1916,
    "start_time": "2025-01-03T20:25:31.912Z"
   },
   {
    "duration": 12,
    "start_time": "2025-01-03T20:25:33.830Z"
   },
   {
    "duration": 24,
    "start_time": "2025-01-03T20:25:33.843Z"
   },
   {
    "duration": 11,
    "start_time": "2025-01-03T20:25:33.869Z"
   },
   {
    "duration": 11,
    "start_time": "2025-01-03T20:25:33.881Z"
   },
   {
    "duration": 4,
    "start_time": "2025-01-03T20:25:36.778Z"
   },
   {
    "duration": 4,
    "start_time": "2025-01-03T20:25:37.329Z"
   },
   {
    "duration": 8,
    "start_time": "2025-01-03T20:25:39.021Z"
   },
   {
    "duration": 6,
    "start_time": "2025-01-03T20:25:40.108Z"
   },
   {
    "duration": 2,
    "start_time": "2025-01-03T20:25:40.588Z"
   },
   {
    "duration": 8,
    "start_time": "2025-01-03T20:25:41.174Z"
   },
   {
    "duration": 9,
    "start_time": "2025-01-03T20:25:41.699Z"
   },
   {
    "duration": 5,
    "start_time": "2025-01-03T20:25:42.291Z"
   },
   {
    "duration": 11,
    "start_time": "2025-01-03T20:25:52.147Z"
   },
   {
    "duration": 3,
    "start_time": "2025-01-03T20:25:55.309Z"
   },
   {
    "duration": 7,
    "start_time": "2025-01-03T20:25:55.671Z"
   },
   {
    "duration": 13,
    "start_time": "2025-01-03T20:25:56.208Z"
   },
   {
    "duration": 29,
    "start_time": "2025-01-03T20:25:57.834Z"
   },
   {
    "duration": 28,
    "start_time": "2025-01-03T20:25:58.056Z"
   },
   {
    "duration": 28,
    "start_time": "2025-01-03T20:25:58.318Z"
   },
   {
    "duration": 9,
    "start_time": "2025-01-03T20:26:02.467Z"
   },
   {
    "duration": 8935,
    "start_time": "2025-01-03T20:26:07.409Z"
   },
   {
    "duration": 7952,
    "start_time": "2025-01-03T20:26:16.347Z"
   },
   {
    "duration": 3,
    "start_time": "2025-01-03T20:26:24.301Z"
   },
   {
    "duration": 3,
    "start_time": "2025-01-03T20:26:26.488Z"
   },
   {
    "duration": 4,
    "start_time": "2025-01-03T20:26:30.195Z"
   },
   {
    "duration": 3,
    "start_time": "2025-01-03T20:27:16.744Z"
   },
   {
    "duration": 4,
    "start_time": "2025-01-03T20:27:20.891Z"
   },
   {
    "duration": 12496,
    "start_time": "2025-01-03T20:27:23.332Z"
   },
   {
    "duration": 12723,
    "start_time": "2025-01-03T20:27:37.913Z"
   },
   {
    "duration": 3,
    "start_time": "2025-01-03T20:59:19.133Z"
   },
   {
    "duration": 3,
    "start_time": "2025-01-03T20:59:20.149Z"
   },
   {
    "duration": 540,
    "start_time": "2025-01-03T20:59:20.821Z"
   },
   {
    "duration": 4,
    "start_time": "2025-01-03T21:09:45.374Z"
   },
   {
    "duration": 3,
    "start_time": "2025-01-03T21:09:46.105Z"
   },
   {
    "duration": 3,
    "start_time": "2025-01-03T21:09:46.883Z"
   },
   {
    "duration": 1102,
    "start_time": "2025-01-03T21:10:14.346Z"
   },
   {
    "duration": 16,
    "start_time": "2025-01-03T21:10:15.451Z"
   },
   {
    "duration": 12,
    "start_time": "2025-01-03T21:10:15.469Z"
   },
   {
    "duration": 4,
    "start_time": "2025-01-03T21:10:15.483Z"
   },
   {
    "duration": 10,
    "start_time": "2025-01-03T21:10:15.489Z"
   },
   {
    "duration": 4,
    "start_time": "2025-01-03T21:10:15.500Z"
   },
   {
    "duration": 7,
    "start_time": "2025-01-03T21:10:15.532Z"
   },
   {
    "duration": 28,
    "start_time": "2025-01-03T21:10:15.540Z"
   },
   {
    "duration": 5,
    "start_time": "2025-01-03T21:10:15.570Z"
   },
   {
    "duration": 5,
    "start_time": "2025-01-03T21:10:15.578Z"
   },
   {
    "duration": 6,
    "start_time": "2025-01-03T21:10:15.585Z"
   },
   {
    "duration": 41,
    "start_time": "2025-01-03T21:10:15.593Z"
   },
   {
    "duration": 4,
    "start_time": "2025-01-03T21:10:15.636Z"
   },
   {
    "duration": 7,
    "start_time": "2025-01-03T21:10:15.641Z"
   },
   {
    "duration": 4,
    "start_time": "2025-01-03T21:10:15.649Z"
   },
   {
    "duration": 4,
    "start_time": "2025-01-03T21:10:15.655Z"
   },
   {
    "duration": 3,
    "start_time": "2025-01-03T21:10:15.660Z"
   },
   {
    "duration": 1911,
    "start_time": "2025-01-03T21:10:15.664Z"
   },
   {
    "duration": 13,
    "start_time": "2025-01-03T21:10:17.577Z"
   },
   {
    "duration": 9,
    "start_time": "2025-01-03T21:10:17.592Z"
   },
   {
    "duration": 11,
    "start_time": "2025-01-03T21:10:17.603Z"
   },
   {
    "duration": 25,
    "start_time": "2025-01-03T21:10:17.616Z"
   },
   {
    "duration": 7,
    "start_time": "2025-01-03T21:10:17.642Z"
   },
   {
    "duration": 6,
    "start_time": "2025-01-03T21:10:17.651Z"
   },
   {
    "duration": 12,
    "start_time": "2025-01-03T21:10:17.660Z"
   },
   {
    "duration": 5,
    "start_time": "2025-01-03T21:10:17.676Z"
   },
   {
    "duration": 3,
    "start_time": "2025-01-03T21:10:17.683Z"
   },
   {
    "duration": 8,
    "start_time": "2025-01-03T21:10:17.691Z"
   },
   {
    "duration": 35,
    "start_time": "2025-01-03T21:10:17.700Z"
   },
   {
    "duration": 4,
    "start_time": "2025-01-03T21:10:17.737Z"
   },
   {
    "duration": 10,
    "start_time": "2025-01-03T21:10:17.743Z"
   },
   {
    "duration": 4,
    "start_time": "2025-01-03T21:10:17.754Z"
   },
   {
    "duration": 6,
    "start_time": "2025-01-03T21:10:17.760Z"
   },
   {
    "duration": 14,
    "start_time": "2025-01-03T21:10:17.768Z"
   },
   {
    "duration": 72,
    "start_time": "2025-01-03T21:10:17.783Z"
   },
   {
    "duration": 28,
    "start_time": "2025-01-03T21:10:17.857Z"
   },
   {
    "duration": 50,
    "start_time": "2025-01-03T21:10:17.886Z"
   },
   {
    "duration": 12,
    "start_time": "2025-01-03T21:10:17.938Z"
   },
   {
    "duration": 8895,
    "start_time": "2025-01-03T21:10:17.952Z"
   },
   {
    "duration": 7954,
    "start_time": "2025-01-03T21:10:26.849Z"
   },
   {
    "duration": 4,
    "start_time": "2025-01-03T21:10:34.804Z"
   },
   {
    "duration": 3,
    "start_time": "2025-01-03T21:10:34.811Z"
   },
   {
    "duration": 17,
    "start_time": "2025-01-03T21:10:34.816Z"
   },
   {
    "duration": 3,
    "start_time": "2025-01-03T21:10:34.835Z"
   },
   {
    "duration": 12026,
    "start_time": "2025-01-03T21:10:34.840Z"
   },
   {
    "duration": 64,
    "start_time": "2025-01-03T21:10:46.867Z"
   },
   {
    "duration": 4,
    "start_time": "2025-01-03T21:10:46.937Z"
   },
   {
    "duration": 3,
    "start_time": "2025-01-03T21:10:46.946Z"
   },
   {
    "duration": 2,
    "start_time": "2025-01-03T21:10:46.951Z"
   },
   {
    "duration": 383,
    "start_time": "2025-01-03T21:10:46.955Z"
   },
   {
    "duration": 0,
    "start_time": "2025-01-03T21:10:47.340Z"
   },
   {
    "duration": 0,
    "start_time": "2025-01-03T21:10:47.342Z"
   },
   {
    "duration": 0,
    "start_time": "2025-01-03T21:10:47.343Z"
   },
   {
    "duration": 0,
    "start_time": "2025-01-03T21:10:47.344Z"
   },
   {
    "duration": 0,
    "start_time": "2025-01-03T21:10:47.346Z"
   },
   {
    "duration": 0,
    "start_time": "2025-01-03T21:10:47.348Z"
   },
   {
    "duration": 0,
    "start_time": "2025-01-03T21:10:47.349Z"
   },
   {
    "duration": 0,
    "start_time": "2025-01-03T21:10:47.351Z"
   },
   {
    "duration": 0,
    "start_time": "2025-01-03T21:10:47.352Z"
   },
   {
    "duration": 0,
    "start_time": "2025-01-03T21:10:47.353Z"
   },
   {
    "duration": 0,
    "start_time": "2025-01-03T21:10:47.354Z"
   },
   {
    "duration": 0,
    "start_time": "2025-01-03T21:10:47.355Z"
   },
   {
    "duration": 0,
    "start_time": "2025-01-03T21:10:47.357Z"
   },
   {
    "duration": 0,
    "start_time": "2025-01-03T21:10:47.358Z"
   },
   {
    "duration": 0,
    "start_time": "2025-01-03T21:10:47.359Z"
   },
   {
    "duration": 0,
    "start_time": "2025-01-03T21:10:47.360Z"
   },
   {
    "duration": 0,
    "start_time": "2025-01-03T21:10:47.361Z"
   },
   {
    "duration": 0,
    "start_time": "2025-01-03T21:10:47.363Z"
   },
   {
    "duration": 0,
    "start_time": "2025-01-03T21:10:47.364Z"
   },
   {
    "duration": 0,
    "start_time": "2025-01-03T21:10:47.366Z"
   },
   {
    "duration": 0,
    "start_time": "2025-01-03T21:10:47.367Z"
   },
   {
    "duration": 0,
    "start_time": "2025-01-03T21:10:47.368Z"
   },
   {
    "duration": 0,
    "start_time": "2025-01-03T21:10:47.370Z"
   },
   {
    "duration": 0,
    "start_time": "2025-01-03T21:10:47.371Z"
   },
   {
    "duration": 0,
    "start_time": "2025-01-03T21:10:47.373Z"
   },
   {
    "duration": 0,
    "start_time": "2025-01-03T21:10:47.374Z"
   },
   {
    "duration": 0,
    "start_time": "2025-01-03T21:10:47.376Z"
   },
   {
    "duration": 0,
    "start_time": "2025-01-03T21:10:47.377Z"
   },
   {
    "duration": 0,
    "start_time": "2025-01-03T21:10:47.430Z"
   },
   {
    "duration": 0,
    "start_time": "2025-01-03T21:10:47.432Z"
   },
   {
    "duration": 0,
    "start_time": "2025-01-03T21:10:47.432Z"
   },
   {
    "duration": 0,
    "start_time": "2025-01-03T21:10:47.434Z"
   },
   {
    "duration": 0,
    "start_time": "2025-01-03T21:10:47.435Z"
   },
   {
    "duration": 0,
    "start_time": "2025-01-03T21:10:47.436Z"
   },
   {
    "duration": 0,
    "start_time": "2025-01-03T21:10:47.437Z"
   },
   {
    "duration": 0,
    "start_time": "2025-01-03T21:10:47.439Z"
   },
   {
    "duration": 0,
    "start_time": "2025-01-03T21:10:47.440Z"
   },
   {
    "duration": 0,
    "start_time": "2025-01-03T21:10:47.442Z"
   },
   {
    "duration": 0,
    "start_time": "2025-01-03T21:10:47.443Z"
   },
   {
    "duration": 0,
    "start_time": "2025-01-03T21:10:47.445Z"
   },
   {
    "duration": 992,
    "start_time": "2025-01-03T21:13:08.016Z"
   },
   {
    "duration": 21,
    "start_time": "2025-01-03T21:13:09.010Z"
   },
   {
    "duration": 13,
    "start_time": "2025-01-03T21:13:09.133Z"
   },
   {
    "duration": 4,
    "start_time": "2025-01-03T21:13:09.566Z"
   },
   {
    "duration": 11,
    "start_time": "2025-01-03T21:13:10.214Z"
   },
   {
    "duration": 7,
    "start_time": "2025-01-03T21:13:10.395Z"
   },
   {
    "duration": 7,
    "start_time": "2025-01-03T21:13:10.565Z"
   },
   {
    "duration": 31,
    "start_time": "2025-01-03T21:13:10.754Z"
   },
   {
    "duration": 4,
    "start_time": "2025-01-03T21:13:10.948Z"
   },
   {
    "duration": 6,
    "start_time": "2025-01-03T21:13:11.466Z"
   },
   {
    "duration": 7,
    "start_time": "2025-01-03T21:13:11.829Z"
   },
   {
    "duration": 3,
    "start_time": "2025-01-03T21:13:16.424Z"
   },
   {
    "duration": 4,
    "start_time": "2025-01-03T21:13:16.630Z"
   },
   {
    "duration": 7,
    "start_time": "2025-01-03T21:13:16.827Z"
   },
   {
    "duration": 4,
    "start_time": "2025-01-03T21:13:18.662Z"
   },
   {
    "duration": 5,
    "start_time": "2025-01-03T21:13:18.885Z"
   },
   {
    "duration": 2,
    "start_time": "2025-01-03T21:13:20.472Z"
   },
   {
    "duration": 1880,
    "start_time": "2025-01-03T21:13:21.228Z"
   },
   {
    "duration": 14,
    "start_time": "2025-01-03T21:13:23.794Z"
   },
   {
    "duration": 9,
    "start_time": "2025-01-03T21:13:24.276Z"
   },
   {
    "duration": 11,
    "start_time": "2025-01-03T21:13:24.857Z"
   },
   {
    "duration": 12,
    "start_time": "2025-01-03T21:13:25.217Z"
   },
   {
    "duration": 4,
    "start_time": "2025-01-03T21:13:35.958Z"
   },
   {
    "duration": 3,
    "start_time": "2025-01-03T21:13:37.201Z"
   },
   {
    "duration": 7,
    "start_time": "2025-01-03T21:13:37.901Z"
   },
   {
    "duration": 7,
    "start_time": "2025-01-03T21:13:38.334Z"
   },
   {
    "duration": 3,
    "start_time": "2025-01-03T21:13:38.547Z"
   },
   {
    "duration": 8,
    "start_time": "2025-01-03T21:13:38.745Z"
   },
   {
    "duration": 10,
    "start_time": "2025-01-03T21:13:38.950Z"
   },
   {
    "duration": 4,
    "start_time": "2025-01-03T21:13:39.170Z"
   },
   {
    "duration": 10,
    "start_time": "2025-01-03T21:13:39.371Z"
   },
   {
    "duration": 3,
    "start_time": "2025-01-03T21:13:40.837Z"
   },
   {
    "duration": 6,
    "start_time": "2025-01-03T21:13:41.074Z"
   },
   {
    "duration": 14,
    "start_time": "2025-01-03T21:13:41.292Z"
   },
   {
    "duration": 32,
    "start_time": "2025-01-03T21:13:42.131Z"
   },
   {
    "duration": 29,
    "start_time": "2025-01-03T21:13:42.358Z"
   },
   {
    "duration": 30,
    "start_time": "2025-01-03T21:13:42.580Z"
   },
   {
    "duration": 10,
    "start_time": "2025-01-03T21:13:43.662Z"
   },
   {
    "duration": 8974,
    "start_time": "2025-01-03T21:13:45.569Z"
   },
   {
    "duration": 7841,
    "start_time": "2025-01-03T21:14:03.934Z"
   },
   {
    "duration": 5,
    "start_time": "2025-01-03T21:14:11.891Z"
   },
   {
    "duration": 2,
    "start_time": "2025-01-03T21:14:13.259Z"
   },
   {
    "duration": 3,
    "start_time": "2025-01-03T21:14:13.794Z"
   },
   {
    "duration": 3,
    "start_time": "2025-01-03T21:14:14.303Z"
   },
   {
    "duration": 12195,
    "start_time": "2025-01-03T21:14:15.246Z"
   },
   {
    "duration": 4,
    "start_time": "2025-01-03T21:14:33.082Z"
   },
   {
    "duration": 4,
    "start_time": "2025-01-03T21:14:33.647Z"
   },
   {
    "duration": 3,
    "start_time": "2025-01-03T21:14:34.978Z"
   },
   {
    "duration": 2,
    "start_time": "2025-01-03T21:14:35.819Z"
   },
   {
    "duration": 334,
    "start_time": "2025-01-03T21:14:36.701Z"
   },
   {
    "duration": 4,
    "start_time": "2025-01-03T21:16:28.561Z"
   },
   {
    "duration": 4,
    "start_time": "2025-01-03T21:16:29.135Z"
   },
   {
    "duration": 3,
    "start_time": "2025-01-03T21:16:29.664Z"
   },
   {
    "duration": 4,
    "start_time": "2025-01-03T21:16:30.359Z"
   },
   {
    "duration": 3,
    "start_time": "2025-01-03T21:16:31.153Z"
   },
   {
    "duration": 13,
    "start_time": "2025-01-03T21:16:45.760Z"
   },
   {
    "duration": 1039,
    "start_time": "2025-01-03T21:17:08.671Z"
   },
   {
    "duration": 22,
    "start_time": "2025-01-03T21:17:09.712Z"
   },
   {
    "duration": 13,
    "start_time": "2025-01-03T21:17:09.736Z"
   },
   {
    "duration": 3,
    "start_time": "2025-01-03T21:17:09.751Z"
   },
   {
    "duration": 10,
    "start_time": "2025-01-03T21:17:09.765Z"
   },
   {
    "duration": 5,
    "start_time": "2025-01-03T21:17:09.979Z"
   },
   {
    "duration": 7,
    "start_time": "2025-01-03T21:17:10.164Z"
   },
   {
    "duration": 35,
    "start_time": "2025-01-03T21:17:10.355Z"
   },
   {
    "duration": 5,
    "start_time": "2025-01-03T21:17:10.563Z"
   },
   {
    "duration": 6,
    "start_time": "2025-01-03T21:17:10.962Z"
   },
   {
    "duration": 7,
    "start_time": "2025-01-03T21:17:11.152Z"
   },
   {
    "duration": 3,
    "start_time": "2025-01-03T21:17:12.410Z"
   },
   {
    "duration": 4,
    "start_time": "2025-01-03T21:17:12.625Z"
   },
   {
    "duration": 7,
    "start_time": "2025-01-03T21:17:12.828Z"
   },
   {
    "duration": 5,
    "start_time": "2025-01-03T21:17:14.037Z"
   },
   {
    "duration": 4,
    "start_time": "2025-01-03T21:17:14.234Z"
   },
   {
    "duration": 2,
    "start_time": "2025-01-03T21:17:15.068Z"
   },
   {
    "duration": 1880,
    "start_time": "2025-01-03T21:17:15.296Z"
   },
   {
    "duration": 13,
    "start_time": "2025-01-03T21:17:17.178Z"
   },
   {
    "duration": 8,
    "start_time": "2025-01-03T21:17:17.193Z"
   },
   {
    "duration": 11,
    "start_time": "2025-01-03T21:17:17.203Z"
   },
   {
    "duration": 23,
    "start_time": "2025-01-03T21:17:17.216Z"
   },
   {
    "duration": 6,
    "start_time": "2025-01-03T21:17:19.844Z"
   },
   {
    "duration": 4,
    "start_time": "2025-01-03T21:17:20.312Z"
   },
   {
    "duration": 7,
    "start_time": "2025-01-03T21:17:20.539Z"
   },
   {
    "duration": 6,
    "start_time": "2025-01-03T21:17:20.767Z"
   },
   {
    "duration": 2,
    "start_time": "2025-01-03T21:17:21.002Z"
   },
   {
    "duration": 9,
    "start_time": "2025-01-03T21:17:21.258Z"
   },
   {
    "duration": 9,
    "start_time": "2025-01-03T21:17:21.475Z"
   },
   {
    "duration": 4,
    "start_time": "2025-01-03T21:17:21.684Z"
   },
   {
    "duration": 10,
    "start_time": "2025-01-03T21:17:21.982Z"
   },
   {
    "duration": 4,
    "start_time": "2025-01-03T21:17:25.835Z"
   },
   {
    "duration": 8,
    "start_time": "2025-01-03T21:17:26.177Z"
   },
   {
    "duration": 13,
    "start_time": "2025-01-03T21:17:26.397Z"
   },
   {
    "duration": 28,
    "start_time": "2025-01-03T21:17:26.826Z"
   },
   {
    "duration": 29,
    "start_time": "2025-01-03T21:17:27.318Z"
   },
   {
    "duration": 29,
    "start_time": "2025-01-03T21:17:27.557Z"
   },
   {
    "duration": 9,
    "start_time": "2025-01-03T21:17:28.005Z"
   },
   {
    "duration": 9124,
    "start_time": "2025-01-03T21:17:30.116Z"
   },
   {
    "duration": 7904,
    "start_time": "2025-01-03T21:17:44.844Z"
   },
   {
    "duration": 5,
    "start_time": "2025-01-03T21:17:52.749Z"
   },
   {
    "duration": 3,
    "start_time": "2025-01-03T21:17:52.756Z"
   },
   {
    "duration": 3,
    "start_time": "2025-01-03T21:17:52.761Z"
   },
   {
    "duration": 3,
    "start_time": "2025-01-03T21:17:52.766Z"
   },
   {
    "duration": 12682,
    "start_time": "2025-01-03T21:17:54.365Z"
   },
   {
    "duration": 3,
    "start_time": "2025-01-03T21:18:10.336Z"
   },
   {
    "duration": 4,
    "start_time": "2025-01-03T21:18:11.239Z"
   },
   {
    "duration": 3,
    "start_time": "2025-01-03T21:18:12.481Z"
   },
   {
    "duration": 3,
    "start_time": "2025-01-03T21:18:13.957Z"
   },
   {
    "duration": 311,
    "start_time": "2025-01-03T21:18:16.294Z"
   },
   {
    "duration": 1026,
    "start_time": "2025-01-03T21:23:20.568Z"
   },
   {
    "duration": 17,
    "start_time": "2025-01-03T21:23:21.596Z"
   },
   {
    "duration": 12,
    "start_time": "2025-01-03T21:23:21.685Z"
   },
   {
    "duration": 3,
    "start_time": "2025-01-03T21:23:21.894Z"
   },
   {
    "duration": 11,
    "start_time": "2025-01-03T21:23:22.483Z"
   },
   {
    "duration": 4,
    "start_time": "2025-01-03T21:23:22.682Z"
   },
   {
    "duration": 7,
    "start_time": "2025-01-03T21:23:22.890Z"
   },
   {
    "duration": 28,
    "start_time": "2025-01-03T21:23:23.265Z"
   },
   {
    "duration": 5,
    "start_time": "2025-01-03T21:23:23.481Z"
   },
   {
    "duration": 6,
    "start_time": "2025-01-03T21:23:23.897Z"
   },
   {
    "duration": 6,
    "start_time": "2025-01-03T21:23:24.102Z"
   },
   {
    "duration": 3,
    "start_time": "2025-01-03T21:23:26.739Z"
   },
   {
    "duration": 4,
    "start_time": "2025-01-03T21:23:26.956Z"
   },
   {
    "duration": 6,
    "start_time": "2025-01-03T21:23:27.149Z"
   },
   {
    "duration": 4,
    "start_time": "2025-01-03T21:23:27.980Z"
   },
   {
    "duration": 5,
    "start_time": "2025-01-03T21:23:28.204Z"
   },
   {
    "duration": 2,
    "start_time": "2025-01-03T21:23:29.037Z"
   },
   {
    "duration": 1846,
    "start_time": "2025-01-03T21:23:31.938Z"
   },
   {
    "duration": 13,
    "start_time": "2025-01-03T21:23:35.770Z"
   },
   {
    "duration": 9,
    "start_time": "2025-01-03T21:23:36.359Z"
   },
   {
    "duration": 12,
    "start_time": "2025-01-03T21:23:36.883Z"
   },
   {
    "duration": 12,
    "start_time": "2025-01-03T21:23:37.494Z"
   },
   {
    "duration": 4,
    "start_time": "2025-01-03T21:23:43.521Z"
   },
   {
    "duration": 4,
    "start_time": "2025-01-03T21:23:43.920Z"
   },
   {
    "duration": 10,
    "start_time": "2025-01-03T21:23:44.134Z"
   },
   {
    "duration": 5,
    "start_time": "2025-01-03T21:23:44.339Z"
   },
   {
    "duration": 2,
    "start_time": "2025-01-03T21:23:44.543Z"
   },
   {
    "duration": 7,
    "start_time": "2025-01-03T21:23:44.754Z"
   },
   {
    "duration": 9,
    "start_time": "2025-01-03T21:23:44.955Z"
   },
   {
    "duration": 5,
    "start_time": "2025-01-03T21:23:45.165Z"
   },
   {
    "duration": 10,
    "start_time": "2025-01-03T21:23:45.383Z"
   },
   {
    "duration": 3,
    "start_time": "2025-01-03T21:23:46.624Z"
   },
   {
    "duration": 6,
    "start_time": "2025-01-03T21:23:47.227Z"
   },
   {
    "duration": 14,
    "start_time": "2025-01-03T21:23:47.533Z"
   },
   {
    "duration": 30,
    "start_time": "2025-01-03T21:23:48.436Z"
   },
   {
    "duration": 27,
    "start_time": "2025-01-03T21:23:48.778Z"
   },
   {
    "duration": 27,
    "start_time": "2025-01-03T21:23:48.997Z"
   },
   {
    "duration": 10,
    "start_time": "2025-01-03T21:23:49.975Z"
   },
   {
    "duration": 8846,
    "start_time": "2025-01-03T21:23:53.202Z"
   },
   {
    "duration": 7870,
    "start_time": "2025-01-03T21:24:06.087Z"
   },
   {
    "duration": 4,
    "start_time": "2025-01-03T21:24:18.440Z"
   },
   {
    "duration": 3,
    "start_time": "2025-01-03T21:24:19.145Z"
   },
   {
    "duration": 3,
    "start_time": "2025-01-03T21:24:20.247Z"
   },
   {
    "duration": 3,
    "start_time": "2025-01-03T21:24:21.523Z"
   },
   {
    "duration": 12089,
    "start_time": "2025-01-03T21:24:23.054Z"
   },
   {
    "duration": 3,
    "start_time": "2025-01-03T21:25:11.028Z"
   },
   {
    "duration": 4,
    "start_time": "2025-01-03T21:25:11.597Z"
   },
   {
    "duration": 3,
    "start_time": "2025-01-03T21:25:12.155Z"
   },
   {
    "duration": 3,
    "start_time": "2025-01-03T21:25:13.315Z"
   },
   {
    "duration": 3,
    "start_time": "2025-01-03T21:25:16.541Z"
   },
   {
    "duration": 4322,
    "start_time": "2025-01-03T21:25:19.822Z"
   },
   {
    "duration": 95744,
    "start_time": "2025-01-03T21:25:40.002Z"
   },
   {
    "duration": 25,
    "start_time": "2025-01-03T21:33:05.158Z"
   },
   {
    "duration": 177,
    "start_time": "2025-01-03T21:33:09.430Z"
   },
   {
    "duration": 12,
    "start_time": "2025-01-03T21:33:27.027Z"
   },
   {
    "duration": 3,
    "start_time": "2025-01-03T21:33:28.186Z"
   },
   {
    "duration": 133,
    "start_time": "2025-01-03T21:33:28.755Z"
   },
   {
    "duration": 1071,
    "start_time": "2025-01-03T21:45:13.592Z"
   },
   {
    "duration": 17,
    "start_time": "2025-01-03T21:45:14.665Z"
   },
   {
    "duration": 13,
    "start_time": "2025-01-03T21:45:14.684Z"
   },
   {
    "duration": 5,
    "start_time": "2025-01-03T21:45:14.700Z"
   },
   {
    "duration": 28,
    "start_time": "2025-01-03T21:45:14.707Z"
   },
   {
    "duration": 3,
    "start_time": "2025-01-03T21:45:14.737Z"
   },
   {
    "duration": 6,
    "start_time": "2025-01-03T21:45:14.742Z"
   },
   {
    "duration": 28,
    "start_time": "2025-01-03T21:45:14.750Z"
   },
   {
    "duration": 6,
    "start_time": "2025-01-03T21:45:14.780Z"
   },
   {
    "duration": 5,
    "start_time": "2025-01-03T21:45:14.789Z"
   },
   {
    "duration": 41,
    "start_time": "2025-01-03T21:45:14.795Z"
   },
   {
    "duration": 3,
    "start_time": "2025-01-03T21:45:14.838Z"
   },
   {
    "duration": 4,
    "start_time": "2025-01-03T21:45:14.842Z"
   },
   {
    "duration": 5,
    "start_time": "2025-01-03T21:45:14.848Z"
   },
   {
    "duration": 4,
    "start_time": "2025-01-03T21:45:14.855Z"
   },
   {
    "duration": 4,
    "start_time": "2025-01-03T21:45:14.861Z"
   },
   {
    "duration": 2,
    "start_time": "2025-01-03T21:45:14.868Z"
   },
   {
    "duration": 1892,
    "start_time": "2025-01-03T21:45:14.872Z"
   },
   {
    "duration": 15,
    "start_time": "2025-01-03T21:45:16.765Z"
   },
   {
    "duration": 9,
    "start_time": "2025-01-03T21:45:16.782Z"
   },
   {
    "duration": 11,
    "start_time": "2025-01-03T21:45:16.793Z"
   },
   {
    "duration": 25,
    "start_time": "2025-01-03T21:45:16.806Z"
   },
   {
    "duration": 4,
    "start_time": "2025-01-03T21:45:16.833Z"
   },
   {
    "duration": 4,
    "start_time": "2025-01-03T21:45:16.839Z"
   },
   {
    "duration": 7,
    "start_time": "2025-01-03T21:45:16.845Z"
   },
   {
    "duration": 5,
    "start_time": "2025-01-03T21:45:16.854Z"
   },
   {
    "duration": 2,
    "start_time": "2025-01-03T21:45:16.860Z"
   },
   {
    "duration": 7,
    "start_time": "2025-01-03T21:45:16.869Z"
   },
   {
    "duration": 10,
    "start_time": "2025-01-03T21:45:16.878Z"
   },
   {
    "duration": 43,
    "start_time": "2025-01-03T21:45:16.890Z"
   },
   {
    "duration": 10,
    "start_time": "2025-01-03T21:45:16.935Z"
   },
   {
    "duration": 4,
    "start_time": "2025-01-03T21:45:16.946Z"
   },
   {
    "duration": 7,
    "start_time": "2025-01-03T21:45:16.951Z"
   },
   {
    "duration": 14,
    "start_time": "2025-01-03T21:45:16.960Z"
   },
   {
    "duration": 67,
    "start_time": "2025-01-03T21:45:16.976Z"
   },
   {
    "duration": 26,
    "start_time": "2025-01-03T21:45:17.045Z"
   },
   {
    "duration": 29,
    "start_time": "2025-01-03T21:45:17.073Z"
   },
   {
    "duration": 31,
    "start_time": "2025-01-03T21:45:17.104Z"
   },
   {
    "duration": 8902,
    "start_time": "2025-01-03T21:45:17.137Z"
   },
   {
    "duration": 8269,
    "start_time": "2025-01-03T21:45:26.041Z"
   },
   {
    "duration": 4,
    "start_time": "2025-01-03T21:45:34.311Z"
   },
   {
    "duration": 14,
    "start_time": "2025-01-03T21:45:34.317Z"
   },
   {
    "duration": 7,
    "start_time": "2025-01-03T21:45:34.333Z"
   },
   {
    "duration": 3,
    "start_time": "2025-01-03T21:45:34.342Z"
   },
   {
    "duration": 12700,
    "start_time": "2025-01-03T21:45:34.346Z"
   },
   {
    "duration": 4,
    "start_time": "2025-01-03T21:45:47.048Z"
   },
   {
    "duration": 79,
    "start_time": "2025-01-03T21:45:47.053Z"
   },
   {
    "duration": 3,
    "start_time": "2025-01-03T21:45:47.134Z"
   },
   {
    "duration": 3,
    "start_time": "2025-01-03T21:45:47.139Z"
   },
   {
    "duration": 3,
    "start_time": "2025-01-03T21:45:47.144Z"
   },
   {
    "duration": 4588,
    "start_time": "2025-01-03T21:45:47.149Z"
   },
   {
    "duration": 95962,
    "start_time": "2025-01-03T21:45:51.740Z"
   },
   {
    "duration": 2,
    "start_time": "2025-01-03T21:47:27.704Z"
   },
   {
    "duration": 2,
    "start_time": "2025-01-03T21:47:27.708Z"
   },
   {
    "duration": 2,
    "start_time": "2025-01-03T21:47:27.712Z"
   },
   {
    "duration": 17,
    "start_time": "2025-01-03T21:47:27.715Z"
   },
   {
    "duration": 5,
    "start_time": "2025-01-03T21:47:27.735Z"
   },
   {
    "duration": 3,
    "start_time": "2025-01-03T21:47:27.742Z"
   },
   {
    "duration": 2,
    "start_time": "2025-01-03T21:47:27.747Z"
   },
   {
    "duration": 24,
    "start_time": "2025-01-03T21:47:27.751Z"
   },
   {
    "duration": 202,
    "start_time": "2025-01-03T21:47:27.777Z"
   },
   {
    "duration": 2,
    "start_time": "2025-01-03T21:47:27.981Z"
   },
   {
    "duration": 2,
    "start_time": "2025-01-03T21:47:27.985Z"
   },
   {
    "duration": 2,
    "start_time": "2025-01-03T21:47:27.989Z"
   },
   {
    "duration": 3,
    "start_time": "2025-01-03T21:47:27.993Z"
   },
   {
    "duration": 3,
    "start_time": "2025-01-03T21:47:27.997Z"
   },
   {
    "duration": 29,
    "start_time": "2025-01-03T21:47:28.002Z"
   },
   {
    "duration": 4,
    "start_time": "2025-01-03T21:47:28.033Z"
   },
   {
    "duration": 6,
    "start_time": "2025-01-03T21:47:28.039Z"
   },
   {
    "duration": 2,
    "start_time": "2025-01-03T21:47:28.046Z"
   },
   {
    "duration": 3,
    "start_time": "2025-01-03T21:47:28.050Z"
   },
   {
    "duration": 2,
    "start_time": "2025-01-03T21:47:28.055Z"
   },
   {
    "duration": 2,
    "start_time": "2025-01-03T21:47:28.059Z"
   },
   {
    "duration": 2,
    "start_time": "2025-01-03T21:47:28.063Z"
   },
   {
    "duration": 2,
    "start_time": "2025-01-03T21:47:28.067Z"
   },
   {
    "duration": 3,
    "start_time": "2025-01-03T21:47:28.071Z"
   },
   {
    "duration": 3,
    "start_time": "2025-01-03T21:47:28.075Z"
   },
   {
    "duration": 3,
    "start_time": "2025-01-03T21:47:28.079Z"
   },
   {
    "duration": 2,
    "start_time": "2025-01-03T21:47:28.084Z"
   },
   {
    "duration": 3,
    "start_time": "2025-01-03T21:47:28.132Z"
   },
   {
    "duration": 3,
    "start_time": "2025-01-03T21:47:28.138Z"
   },
   {
    "duration": 2,
    "start_time": "2025-01-03T21:47:28.148Z"
   },
   {
    "duration": 11,
    "start_time": "2025-01-03T21:47:28.152Z"
   },
   {
    "duration": 3,
    "start_time": "2025-01-03T21:47:28.164Z"
   },
   {
    "duration": 157,
    "start_time": "2025-01-03T21:47:28.169Z"
   },
   {
    "duration": 12,
    "start_time": "2025-01-03T21:47:28.328Z"
   },
   {
    "duration": 2,
    "start_time": "2025-01-03T21:47:28.342Z"
   },
   {
    "duration": 3,
    "start_time": "2025-01-03T21:47:28.346Z"
   },
   {
    "duration": 2,
    "start_time": "2025-01-03T21:47:28.351Z"
   },
   {
    "duration": 4,
    "start_time": "2025-01-03T21:47:28.354Z"
   },
   {
    "duration": 1075,
    "start_time": "2025-01-03T21:56:00.724Z"
   },
   {
    "duration": 17,
    "start_time": "2025-01-03T21:56:01.802Z"
   },
   {
    "duration": 17,
    "start_time": "2025-01-03T21:56:01.822Z"
   },
   {
    "duration": 4,
    "start_time": "2025-01-03T21:56:01.841Z"
   },
   {
    "duration": 10,
    "start_time": "2025-01-03T21:56:01.847Z"
   },
   {
    "duration": 5,
    "start_time": "2025-01-03T21:56:01.859Z"
   },
   {
    "duration": 6,
    "start_time": "2025-01-03T21:56:01.867Z"
   },
   {
    "duration": 57,
    "start_time": "2025-01-03T21:56:01.875Z"
   },
   {
    "duration": 5,
    "start_time": "2025-01-03T21:56:01.934Z"
   },
   {
    "duration": 6,
    "start_time": "2025-01-03T21:56:01.943Z"
   },
   {
    "duration": 10,
    "start_time": "2025-01-03T21:56:01.951Z"
   },
   {
    "duration": 4,
    "start_time": "2025-01-03T21:56:01.963Z"
   },
   {
    "duration": 4,
    "start_time": "2025-01-03T21:56:01.970Z"
   },
   {
    "duration": 8,
    "start_time": "2025-01-03T21:56:01.976Z"
   },
   {
    "duration": 5,
    "start_time": "2025-01-03T21:56:01.985Z"
   },
   {
    "duration": 43,
    "start_time": "2025-01-03T21:56:01.991Z"
   },
   {
    "duration": 4,
    "start_time": "2025-01-03T21:56:02.038Z"
   },
   {
    "duration": 1860,
    "start_time": "2025-01-03T21:56:02.044Z"
   },
   {
    "duration": 12,
    "start_time": "2025-01-03T21:56:03.906Z"
   },
   {
    "duration": 12,
    "start_time": "2025-01-03T21:56:03.920Z"
   },
   {
    "duration": 11,
    "start_time": "2025-01-03T21:56:03.934Z"
   },
   {
    "duration": 11,
    "start_time": "2025-01-03T21:56:03.946Z"
   },
   {
    "duration": 4,
    "start_time": "2025-01-03T21:56:03.958Z"
   },
   {
    "duration": 4,
    "start_time": "2025-01-03T21:56:03.964Z"
   },
   {
    "duration": 8,
    "start_time": "2025-01-03T21:56:03.969Z"
   },
   {
    "duration": 5,
    "start_time": "2025-01-03T21:56:03.978Z"
   },
   {
    "duration": 2,
    "start_time": "2025-01-03T21:56:03.985Z"
   },
   {
    "duration": 9,
    "start_time": "2025-01-03T21:56:04.034Z"
   },
   {
    "duration": 10,
    "start_time": "2025-01-03T21:56:04.045Z"
   },
   {
    "duration": 4,
    "start_time": "2025-01-03T21:56:04.056Z"
   },
   {
    "duration": 10,
    "start_time": "2025-01-03T21:56:04.062Z"
   },
   {
    "duration": 6,
    "start_time": "2025-01-03T21:56:04.073Z"
   },
   {
    "duration": 7,
    "start_time": "2025-01-03T21:56:04.080Z"
   },
   {
    "duration": 49,
    "start_time": "2025-01-03T21:56:04.089Z"
   },
   {
    "duration": 28,
    "start_time": "2025-01-03T21:56:04.140Z"
   },
   {
    "duration": 27,
    "start_time": "2025-01-03T21:56:04.170Z"
   },
   {
    "duration": 51,
    "start_time": "2025-01-03T21:56:04.198Z"
   },
   {
    "duration": 9,
    "start_time": "2025-01-03T21:56:04.251Z"
   },
   {
    "duration": 8988,
    "start_time": "2025-01-03T21:56:04.261Z"
   },
   {
    "duration": 7948,
    "start_time": "2025-01-03T21:56:13.252Z"
   },
   {
    "duration": 4,
    "start_time": "2025-01-03T21:56:21.202Z"
   },
   {
    "duration": 4,
    "start_time": "2025-01-03T21:56:21.207Z"
   },
   {
    "duration": 20,
    "start_time": "2025-01-03T21:56:21.212Z"
   },
   {
    "duration": 3,
    "start_time": "2025-01-03T21:56:21.235Z"
   },
   {
    "duration": 13008,
    "start_time": "2025-01-03T21:56:21.240Z"
   },
   {
    "duration": 81,
    "start_time": "2025-01-03T21:56:34.250Z"
   },
   {
    "duration": 4,
    "start_time": "2025-01-03T21:56:34.333Z"
   },
   {
    "duration": 3,
    "start_time": "2025-01-03T21:56:34.338Z"
   },
   {
    "duration": 3,
    "start_time": "2025-01-03T21:56:34.343Z"
   },
   {
    "duration": 4,
    "start_time": "2025-01-03T21:56:34.347Z"
   },
   {
    "duration": 4787,
    "start_time": "2025-01-03T21:56:34.353Z"
   },
   {
    "duration": 97099,
    "start_time": "2025-01-03T21:56:39.143Z"
   },
   {
    "duration": 4,
    "start_time": "2025-01-03T21:58:16.243Z"
   },
   {
    "duration": 3,
    "start_time": "2025-01-03T21:58:16.249Z"
   },
   {
    "duration": 3,
    "start_time": "2025-01-03T21:58:16.253Z"
   },
   {
    "duration": 3,
    "start_time": "2025-01-03T21:58:16.257Z"
   },
   {
    "duration": 4,
    "start_time": "2025-01-03T21:58:16.261Z"
   },
   {
    "duration": 3,
    "start_time": "2025-01-03T21:58:16.267Z"
   },
   {
    "duration": 2,
    "start_time": "2025-01-03T21:58:16.271Z"
   },
   {
    "duration": 58,
    "start_time": "2025-01-03T21:58:16.275Z"
   },
   {
    "duration": 189,
    "start_time": "2025-01-03T21:58:16.335Z"
   },
   {
    "duration": 6,
    "start_time": "2025-01-03T21:58:16.526Z"
   },
   {
    "duration": 2,
    "start_time": "2025-01-03T21:58:16.534Z"
   },
   {
    "duration": 2,
    "start_time": "2025-01-03T21:58:16.538Z"
   },
   {
    "duration": 3,
    "start_time": "2025-01-03T21:58:16.542Z"
   },
   {
    "duration": 2,
    "start_time": "2025-01-03T21:58:16.547Z"
   },
   {
    "duration": 3,
    "start_time": "2025-01-03T21:58:16.550Z"
   },
   {
    "duration": 2,
    "start_time": "2025-01-03T21:58:16.555Z"
   },
   {
    "duration": 2,
    "start_time": "2025-01-03T21:58:16.559Z"
   },
   {
    "duration": 2,
    "start_time": "2025-01-03T21:58:16.563Z"
   },
   {
    "duration": 3,
    "start_time": "2025-01-03T21:58:16.567Z"
   },
   {
    "duration": 2,
    "start_time": "2025-01-03T21:58:16.572Z"
   },
   {
    "duration": 3,
    "start_time": "2025-01-03T21:58:16.576Z"
   },
   {
    "duration": 51,
    "start_time": "2025-01-03T21:58:16.581Z"
   },
   {
    "duration": 3,
    "start_time": "2025-01-03T21:58:16.634Z"
   },
   {
    "duration": 3,
    "start_time": "2025-01-03T21:58:16.638Z"
   },
   {
    "duration": 3,
    "start_time": "2025-01-03T21:58:16.642Z"
   },
   {
    "duration": 2,
    "start_time": "2025-01-03T21:58:16.647Z"
   },
   {
    "duration": 4,
    "start_time": "2025-01-03T21:58:16.650Z"
   },
   {
    "duration": 2,
    "start_time": "2025-01-03T21:58:16.656Z"
   },
   {
    "duration": 2,
    "start_time": "2025-01-03T21:58:16.660Z"
   },
   {
    "duration": 4,
    "start_time": "2025-01-03T21:58:16.669Z"
   },
   {
    "duration": 11,
    "start_time": "2025-01-03T21:58:16.674Z"
   },
   {
    "duration": 2,
    "start_time": "2025-01-03T21:58:16.687Z"
   },
   {
    "duration": 182,
    "start_time": "2025-01-03T21:58:16.691Z"
   },
   {
    "duration": 13,
    "start_time": "2025-01-03T21:58:16.875Z"
   },
   {
    "duration": 3,
    "start_time": "2025-01-03T21:58:16.890Z"
   },
   {
    "duration": 2,
    "start_time": "2025-01-03T21:58:16.895Z"
   },
   {
    "duration": 3,
    "start_time": "2025-01-03T21:58:16.899Z"
   },
   {
    "duration": 26,
    "start_time": "2025-01-03T21:58:16.904Z"
   }
  ],
  "kernelspec": {
   "display_name": "Python 3 (ipykernel)",
   "language": "python",
   "name": "python3"
  },
  "language_info": {
   "codemirror_mode": {
    "name": "ipython",
    "version": 3
   },
   "file_extension": ".py",
   "mimetype": "text/x-python",
   "name": "python",
   "nbconvert_exporter": "python",
   "pygments_lexer": "ipython3",
   "version": "3.12.7"
  },
  "toc": {
   "base_numbering": 1,
   "nav_menu": {},
   "number_sections": true,
   "sideBar": true,
   "skip_h1_title": true,
   "title_cell": "Table of Contents",
   "title_sidebar": "Contents",
   "toc_cell": false,
   "toc_position": {
    "height": "calc(100% - 180px)",
    "left": "10px",
    "top": "150px",
    "width": "225.6px"
   },
   "toc_section_display": true,
   "toc_window_display": false
  }
 },
 "nbformat": 4,
 "nbformat_minor": 4
}
