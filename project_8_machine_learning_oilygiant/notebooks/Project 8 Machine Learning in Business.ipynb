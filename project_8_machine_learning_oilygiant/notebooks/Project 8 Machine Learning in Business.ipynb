{
 "cells": [
  {
   "cell_type": "markdown",
   "id": "f69345cc-f83f-4ba6-a9f2-bb1a70726493",
   "metadata": {},
   "source": [
    "# Project 8: Machine Learning in Business"
   ]
  },
  {
   "cell_type": "markdown",
   "id": "790097b8-4135-49f2-bbaf-5ab778c10fa4",
   "metadata": {},
   "source": [
    "# Project Objective\n",
    "\n",
    "The objective of this project was to analyze different regions for the development of oil wells and identify the most profitable region, while minimizing the risk of losses. We followed a detailed step-by-step approach, using linear regression for model predictions, and applied bootstrapping to evalute risks and potenital profits. "
   ]
  },
  {
   "cell_type": "markdown",
   "id": "9304bde2-5d71-490f-aed5-0437f29fc8c6",
   "metadata": {},
   "source": [
    "# Project Description\n",
    "You work for the OilyGiant mining company. Your task is to find the best place for a new well.\n",
    "Steps to choose the location:\n",
    "* Collect the oil well parameters in the selected region: oil quality and volume of reserves;\n",
    "* Build a model for predicting the volume of reserves in the new wells;\n",
    "* Pick the oil wells with the highest estimated values;\n",
    "* Pick the region with the highest total profit for the selected oil wells.\n",
    "You have data on oil samples from three regions. Parameters of each oil well in the region are already known. Build a model that will help to pick the region with the highest profit margin. Analyze potential profit and risks using the Bootstrapping technique."
   ]
  },
  {
   "cell_type": "markdown",
   "id": "079ee962-221a-4353-a506-15464618f9a4",
   "metadata": {},
   "source": [
    "# Key Steps\n",
    "\n",
    "1. Data Preparation and Exploration. \n",
    "2. Model Training and Evaluation.\n",
    "3. Profit Calculation.\n",
    "4. Risk and profit Evaluation. "
   ]
  },
  {
   "cell_type": "markdown",
   "id": "1945aa66-0629-4b02-b12a-3d4d22e0949b",
   "metadata": {},
   "source": [
    "# Data Description\n",
    "Geological exploration data for the three regions are stored in files:\n",
    "* *geo_data_0.csv* \n",
    "* *geo_data_1.csv* \n",
    "* *geo_data_2.csv* \n",
    "* *id* — unique oil well identifier\n",
    "* *f0, f1, f2* — three features of points (their specific meaning is unimportant, but the features themselves are significant)\n",
    "product — volume of reserves in the oil well (thousand barrels)."
   ]
  },
  {
   "cell_type": "code",
   "execution_count": 8,
   "id": "d2e72098-a351-4570-b2cb-80ef3fa5b935",
   "metadata": {},
   "outputs": [],
   "source": [
    "import pandas as pd\n",
    "import numpy as np\n",
    "\n",
    "import matplotlib.pyplot as plt\n",
    "import seaborn as sns\n",
    "\n",
    "from sklearn.preprocessing import StandardScaler\n",
    "\n",
    "from sklearn.model_selection import train_test_split \n",
    "from sklearn.linear_model import LinearRegression \n",
    "from sklearn.metrics import mean_squared_error"
   ]
  },
  {
   "cell_type": "code",
   "execution_count": 9,
   "id": "11ad4c44-bd89-42b4-b8c9-a5555fd0122a",
   "metadata": {},
   "outputs": [],
   "source": [
    "# Provide the path to the CVS file: Relative Path \n",
    "# import the first dataset\n",
    "geo_data_0_path = ('Downloads/geo_data_0.csv')\n",
    "# import the second dataset\n",
    "geo_data_1_path = ('Downloads/geo_data_1.csv')\n",
    "# import the third dataset\n",
    "geo_data_2_path = ('Downloads/geo_data_2.csv')"
   ]
  },
  {
   "cell_type": "markdown",
   "id": "caf092fd-1685-4114-a418-370fb46f8ea7",
   "metadata": {},
   "source": [
    "# 1 Download and prepare the data. Explain the procedure."
   ]
  },
  {
   "cell_type": "code",
   "execution_count": 11,
   "id": "e6b9b480-f54d-4a76-b950-e71d45101ee1",
   "metadata": {},
   "outputs": [],
   "source": [
    "# Load the first dataset\n",
    "geo_data_0 = pd.read_csv(geo_data_0_path)\n",
    "# Load the second dataset\n",
    "geo_data_1 = pd.read_csv(geo_data_1_path)\n",
    "# Load the third dataset\n",
    "geo_data_2 = pd.read_csv(geo_data_2_path)"
   ]
  },
  {
   "cell_type": "code",
   "execution_count": 12,
   "id": "04824948-07f6-409e-9f9d-2f9c2955dc87",
   "metadata": {},
   "outputs": [
    {
     "data": {
      "text/html": [
       "<div>\n",
       "<style scoped>\n",
       "    .dataframe tbody tr th:only-of-type {\n",
       "        vertical-align: middle;\n",
       "    }\n",
       "\n",
       "    .dataframe tbody tr th {\n",
       "        vertical-align: top;\n",
       "    }\n",
       "\n",
       "    .dataframe thead th {\n",
       "        text-align: right;\n",
       "    }\n",
       "</style>\n",
       "<table border=\"1\" class=\"dataframe\">\n",
       "  <thead>\n",
       "    <tr style=\"text-align: right;\">\n",
       "      <th></th>\n",
       "      <th>id</th>\n",
       "      <th>f0</th>\n",
       "      <th>f1</th>\n",
       "      <th>f2</th>\n",
       "      <th>product</th>\n",
       "    </tr>\n",
       "  </thead>\n",
       "  <tbody>\n",
       "    <tr>\n",
       "      <th>0</th>\n",
       "      <td>txEyH</td>\n",
       "      <td>0.705745</td>\n",
       "      <td>-0.497823</td>\n",
       "      <td>1.221170</td>\n",
       "      <td>105.280062</td>\n",
       "    </tr>\n",
       "    <tr>\n",
       "      <th>1</th>\n",
       "      <td>2acmU</td>\n",
       "      <td>1.334711</td>\n",
       "      <td>-0.340164</td>\n",
       "      <td>4.365080</td>\n",
       "      <td>73.037750</td>\n",
       "    </tr>\n",
       "    <tr>\n",
       "      <th>2</th>\n",
       "      <td>409Wp</td>\n",
       "      <td>1.022732</td>\n",
       "      <td>0.151990</td>\n",
       "      <td>1.419926</td>\n",
       "      <td>85.265647</td>\n",
       "    </tr>\n",
       "    <tr>\n",
       "      <th>3</th>\n",
       "      <td>iJLyR</td>\n",
       "      <td>-0.032172</td>\n",
       "      <td>0.139033</td>\n",
       "      <td>2.978566</td>\n",
       "      <td>168.620776</td>\n",
       "    </tr>\n",
       "    <tr>\n",
       "      <th>4</th>\n",
       "      <td>Xdl7t</td>\n",
       "      <td>1.988431</td>\n",
       "      <td>0.155413</td>\n",
       "      <td>4.751769</td>\n",
       "      <td>154.036647</td>\n",
       "    </tr>\n",
       "    <tr>\n",
       "      <th>5</th>\n",
       "      <td>wX4Hy</td>\n",
       "      <td>0.969570</td>\n",
       "      <td>0.489775</td>\n",
       "      <td>-0.735383</td>\n",
       "      <td>64.741541</td>\n",
       "    </tr>\n",
       "    <tr>\n",
       "      <th>6</th>\n",
       "      <td>tL6pL</td>\n",
       "      <td>0.645075</td>\n",
       "      <td>0.530656</td>\n",
       "      <td>1.780266</td>\n",
       "      <td>49.055285</td>\n",
       "    </tr>\n",
       "    <tr>\n",
       "      <th>7</th>\n",
       "      <td>BYPU6</td>\n",
       "      <td>-0.400648</td>\n",
       "      <td>0.808337</td>\n",
       "      <td>-5.624670</td>\n",
       "      <td>72.943292</td>\n",
       "    </tr>\n",
       "    <tr>\n",
       "      <th>8</th>\n",
       "      <td>j9Oui</td>\n",
       "      <td>0.643105</td>\n",
       "      <td>-0.551583</td>\n",
       "      <td>2.372141</td>\n",
       "      <td>113.356160</td>\n",
       "    </tr>\n",
       "    <tr>\n",
       "      <th>9</th>\n",
       "      <td>OLuZU</td>\n",
       "      <td>2.173381</td>\n",
       "      <td>0.563698</td>\n",
       "      <td>9.441852</td>\n",
       "      <td>127.910945</td>\n",
       "    </tr>\n",
       "    <tr>\n",
       "      <th>10</th>\n",
       "      <td>b8WQ6</td>\n",
       "      <td>0.371066</td>\n",
       "      <td>-0.036585</td>\n",
       "      <td>0.009208</td>\n",
       "      <td>70.326617</td>\n",
       "    </tr>\n",
       "    <tr>\n",
       "      <th>11</th>\n",
       "      <td>1YYm1</td>\n",
       "      <td>0.015920</td>\n",
       "      <td>1.062729</td>\n",
       "      <td>-0.722248</td>\n",
       "      <td>45.110381</td>\n",
       "    </tr>\n",
       "    <tr>\n",
       "      <th>12</th>\n",
       "      <td>zIYPq</td>\n",
       "      <td>-0.276476</td>\n",
       "      <td>0.924865</td>\n",
       "      <td>0.095584</td>\n",
       "      <td>89.158678</td>\n",
       "    </tr>\n",
       "    <tr>\n",
       "      <th>13</th>\n",
       "      <td>iqTqq</td>\n",
       "      <td>0.212696</td>\n",
       "      <td>-0.111147</td>\n",
       "      <td>5.770095</td>\n",
       "      <td>164.298520</td>\n",
       "    </tr>\n",
       "    <tr>\n",
       "      <th>14</th>\n",
       "      <td>Ct5yY</td>\n",
       "      <td>-0.018578</td>\n",
       "      <td>0.187516</td>\n",
       "      <td>2.944683</td>\n",
       "      <td>158.633720</td>\n",
       "    </tr>\n",
       "    <tr>\n",
       "      <th>15</th>\n",
       "      <td>Q77WQ</td>\n",
       "      <td>1.324566</td>\n",
       "      <td>-0.419149</td>\n",
       "      <td>-4.097429</td>\n",
       "      <td>60.677876</td>\n",
       "    </tr>\n",
       "    <tr>\n",
       "      <th>16</th>\n",
       "      <td>6vJcD</td>\n",
       "      <td>-0.000247</td>\n",
       "      <td>0.360146</td>\n",
       "      <td>0.794115</td>\n",
       "      <td>163.143987</td>\n",
       "    </tr>\n",
       "    <tr>\n",
       "      <th>17</th>\n",
       "      <td>AgRR6</td>\n",
       "      <td>0.380913</td>\n",
       "      <td>1.114558</td>\n",
       "      <td>0.992377</td>\n",
       "      <td>125.942543</td>\n",
       "    </tr>\n",
       "    <tr>\n",
       "      <th>18</th>\n",
       "      <td>tgSSC</td>\n",
       "      <td>0.160021</td>\n",
       "      <td>0.788151</td>\n",
       "      <td>7.629164</td>\n",
       "      <td>113.793566</td>\n",
       "    </tr>\n",
       "    <tr>\n",
       "      <th>19</th>\n",
       "      <td>s2g8E</td>\n",
       "      <td>0.593078</td>\n",
       "      <td>-0.414964</td>\n",
       "      <td>-0.715774</td>\n",
       "      <td>28.207978</td>\n",
       "    </tr>\n",
       "  </tbody>\n",
       "</table>\n",
       "</div>"
      ],
      "text/plain": [
       "       id        f0        f1        f2     product\n",
       "0   txEyH  0.705745 -0.497823  1.221170  105.280062\n",
       "1   2acmU  1.334711 -0.340164  4.365080   73.037750\n",
       "2   409Wp  1.022732  0.151990  1.419926   85.265647\n",
       "3   iJLyR -0.032172  0.139033  2.978566  168.620776\n",
       "4   Xdl7t  1.988431  0.155413  4.751769  154.036647\n",
       "5   wX4Hy  0.969570  0.489775 -0.735383   64.741541\n",
       "6   tL6pL  0.645075  0.530656  1.780266   49.055285\n",
       "7   BYPU6 -0.400648  0.808337 -5.624670   72.943292\n",
       "8   j9Oui  0.643105 -0.551583  2.372141  113.356160\n",
       "9   OLuZU  2.173381  0.563698  9.441852  127.910945\n",
       "10  b8WQ6  0.371066 -0.036585  0.009208   70.326617\n",
       "11  1YYm1  0.015920  1.062729 -0.722248   45.110381\n",
       "12  zIYPq -0.276476  0.924865  0.095584   89.158678\n",
       "13  iqTqq  0.212696 -0.111147  5.770095  164.298520\n",
       "14  Ct5yY -0.018578  0.187516  2.944683  158.633720\n",
       "15  Q77WQ  1.324566 -0.419149 -4.097429   60.677876\n",
       "16  6vJcD -0.000247  0.360146  0.794115  163.143987\n",
       "17  AgRR6  0.380913  1.114558  0.992377  125.942543\n",
       "18  tgSSC  0.160021  0.788151  7.629164  113.793566\n",
       "19  s2g8E  0.593078 -0.414964 -0.715774   28.207978"
      ]
     },
     "metadata": {},
     "output_type": "display_data"
    }
   ],
   "source": [
    "# Preview the Data. Get a quick look at the first five rows of each dataset to understand its structure. \n",
    "# display the first dataset\n",
    "display(geo_data_0.head(20))"
   ]
  },
  {
   "cell_type": "code",
   "execution_count": 13,
   "id": "e18d1cb0-41df-4584-bad3-c8b4011ae597",
   "metadata": {},
   "outputs": [
    {
     "data": {
      "text/html": [
       "<div>\n",
       "<style scoped>\n",
       "    .dataframe tbody tr th:only-of-type {\n",
       "        vertical-align: middle;\n",
       "    }\n",
       "\n",
       "    .dataframe tbody tr th {\n",
       "        vertical-align: top;\n",
       "    }\n",
       "\n",
       "    .dataframe thead th {\n",
       "        text-align: right;\n",
       "    }\n",
       "</style>\n",
       "<table border=\"1\" class=\"dataframe\">\n",
       "  <thead>\n",
       "    <tr style=\"text-align: right;\">\n",
       "      <th></th>\n",
       "      <th>id</th>\n",
       "      <th>f0</th>\n",
       "      <th>f1</th>\n",
       "      <th>f2</th>\n",
       "      <th>product</th>\n",
       "    </tr>\n",
       "  </thead>\n",
       "  <tbody>\n",
       "    <tr>\n",
       "      <th>0</th>\n",
       "      <td>kBEdx</td>\n",
       "      <td>-15.001348</td>\n",
       "      <td>-8.276000</td>\n",
       "      <td>-0.005876</td>\n",
       "      <td>3.179103</td>\n",
       "    </tr>\n",
       "    <tr>\n",
       "      <th>1</th>\n",
       "      <td>62mP7</td>\n",
       "      <td>14.272088</td>\n",
       "      <td>-3.475083</td>\n",
       "      <td>0.999183</td>\n",
       "      <td>26.953261</td>\n",
       "    </tr>\n",
       "    <tr>\n",
       "      <th>2</th>\n",
       "      <td>vyE1P</td>\n",
       "      <td>6.263187</td>\n",
       "      <td>-5.948386</td>\n",
       "      <td>5.001160</td>\n",
       "      <td>134.766305</td>\n",
       "    </tr>\n",
       "    <tr>\n",
       "      <th>3</th>\n",
       "      <td>KcrkZ</td>\n",
       "      <td>-13.081196</td>\n",
       "      <td>-11.506057</td>\n",
       "      <td>4.999415</td>\n",
       "      <td>137.945408</td>\n",
       "    </tr>\n",
       "    <tr>\n",
       "      <th>4</th>\n",
       "      <td>AHL4O</td>\n",
       "      <td>12.702195</td>\n",
       "      <td>-8.147433</td>\n",
       "      <td>5.004363</td>\n",
       "      <td>134.766305</td>\n",
       "    </tr>\n",
       "    <tr>\n",
       "      <th>5</th>\n",
       "      <td>HHckp</td>\n",
       "      <td>-3.327590</td>\n",
       "      <td>-2.205276</td>\n",
       "      <td>3.003647</td>\n",
       "      <td>84.038886</td>\n",
       "    </tr>\n",
       "    <tr>\n",
       "      <th>6</th>\n",
       "      <td>h5Ujo</td>\n",
       "      <td>-11.142655</td>\n",
       "      <td>-10.133399</td>\n",
       "      <td>4.002382</td>\n",
       "      <td>110.992147</td>\n",
       "    </tr>\n",
       "    <tr>\n",
       "      <th>7</th>\n",
       "      <td>muH9x</td>\n",
       "      <td>4.234715</td>\n",
       "      <td>-0.001354</td>\n",
       "      <td>2.004588</td>\n",
       "      <td>53.906522</td>\n",
       "    </tr>\n",
       "    <tr>\n",
       "      <th>8</th>\n",
       "      <td>YiRkx</td>\n",
       "      <td>13.355129</td>\n",
       "      <td>-0.332068</td>\n",
       "      <td>4.998647</td>\n",
       "      <td>134.766305</td>\n",
       "    </tr>\n",
       "    <tr>\n",
       "      <th>9</th>\n",
       "      <td>jG6Gi</td>\n",
       "      <td>1.069227</td>\n",
       "      <td>-11.025667</td>\n",
       "      <td>4.997844</td>\n",
       "      <td>137.945408</td>\n",
       "    </tr>\n",
       "    <tr>\n",
       "      <th>10</th>\n",
       "      <td>7uHUe</td>\n",
       "      <td>11.777049</td>\n",
       "      <td>-5.334084</td>\n",
       "      <td>2.003033</td>\n",
       "      <td>53.906522</td>\n",
       "    </tr>\n",
       "    <tr>\n",
       "      <th>11</th>\n",
       "      <td>OXyvW</td>\n",
       "      <td>16.320755</td>\n",
       "      <td>-0.562946</td>\n",
       "      <td>-0.001783</td>\n",
       "      <td>0.000000</td>\n",
       "    </tr>\n",
       "    <tr>\n",
       "      <th>12</th>\n",
       "      <td>cB8re</td>\n",
       "      <td>7.736313</td>\n",
       "      <td>-6.093374</td>\n",
       "      <td>3.982531</td>\n",
       "      <td>107.813044</td>\n",
       "    </tr>\n",
       "    <tr>\n",
       "      <th>13</th>\n",
       "      <td>igmai</td>\n",
       "      <td>6.695604</td>\n",
       "      <td>-0.749449</td>\n",
       "      <td>-0.007630</td>\n",
       "      <td>0.000000</td>\n",
       "    </tr>\n",
       "    <tr>\n",
       "      <th>14</th>\n",
       "      <td>3OdkE</td>\n",
       "      <td>-10.985487</td>\n",
       "      <td>-5.605994</td>\n",
       "      <td>2.991130</td>\n",
       "      <td>84.038886</td>\n",
       "    </tr>\n",
       "    <tr>\n",
       "      <th>15</th>\n",
       "      <td>3tVUO</td>\n",
       "      <td>-0.347599</td>\n",
       "      <td>-6.275884</td>\n",
       "      <td>-0.003448</td>\n",
       "      <td>3.179103</td>\n",
       "    </tr>\n",
       "    <tr>\n",
       "      <th>16</th>\n",
       "      <td>siveY</td>\n",
       "      <td>12.300570</td>\n",
       "      <td>2.944454</td>\n",
       "      <td>2.005541</td>\n",
       "      <td>53.906522</td>\n",
       "    </tr>\n",
       "    <tr>\n",
       "      <th>17</th>\n",
       "      <td>gIqzq</td>\n",
       "      <td>8.900460</td>\n",
       "      <td>-5.632857</td>\n",
       "      <td>4.994324</td>\n",
       "      <td>134.766305</td>\n",
       "    </tr>\n",
       "    <tr>\n",
       "      <th>18</th>\n",
       "      <td>zO5EU</td>\n",
       "      <td>-13.412826</td>\n",
       "      <td>-4.729495</td>\n",
       "      <td>2.998590</td>\n",
       "      <td>84.038886</td>\n",
       "    </tr>\n",
       "    <tr>\n",
       "      <th>19</th>\n",
       "      <td>dkcEb</td>\n",
       "      <td>-4.373526</td>\n",
       "      <td>-8.590017</td>\n",
       "      <td>2.995379</td>\n",
       "      <td>84.038886</td>\n",
       "    </tr>\n",
       "  </tbody>\n",
       "</table>\n",
       "</div>"
      ],
      "text/plain": [
       "       id         f0         f1        f2     product\n",
       "0   kBEdx -15.001348  -8.276000 -0.005876    3.179103\n",
       "1   62mP7  14.272088  -3.475083  0.999183   26.953261\n",
       "2   vyE1P   6.263187  -5.948386  5.001160  134.766305\n",
       "3   KcrkZ -13.081196 -11.506057  4.999415  137.945408\n",
       "4   AHL4O  12.702195  -8.147433  5.004363  134.766305\n",
       "5   HHckp  -3.327590  -2.205276  3.003647   84.038886\n",
       "6   h5Ujo -11.142655 -10.133399  4.002382  110.992147\n",
       "7   muH9x   4.234715  -0.001354  2.004588   53.906522\n",
       "8   YiRkx  13.355129  -0.332068  4.998647  134.766305\n",
       "9   jG6Gi   1.069227 -11.025667  4.997844  137.945408\n",
       "10  7uHUe  11.777049  -5.334084  2.003033   53.906522\n",
       "11  OXyvW  16.320755  -0.562946 -0.001783    0.000000\n",
       "12  cB8re   7.736313  -6.093374  3.982531  107.813044\n",
       "13  igmai   6.695604  -0.749449 -0.007630    0.000000\n",
       "14  3OdkE -10.985487  -5.605994  2.991130   84.038886\n",
       "15  3tVUO  -0.347599  -6.275884 -0.003448    3.179103\n",
       "16  siveY  12.300570   2.944454  2.005541   53.906522\n",
       "17  gIqzq   8.900460  -5.632857  4.994324  134.766305\n",
       "18  zO5EU -13.412826  -4.729495  2.998590   84.038886\n",
       "19  dkcEb  -4.373526  -8.590017  2.995379   84.038886"
      ]
     },
     "metadata": {},
     "output_type": "display_data"
    }
   ],
   "source": [
    "# Preview the Data. Get a quick look at the first five rows of each dataset to understand its structure. \n",
    "# display the third dataset\n",
    "display(geo_data_1.head(20)) "
   ]
  },
  {
   "cell_type": "code",
   "execution_count": 14,
   "id": "b25856f4-154c-4ae8-ade7-9c9112ebeb1d",
   "metadata": {},
   "outputs": [
    {
     "data": {
      "text/html": [
       "<div>\n",
       "<style scoped>\n",
       "    .dataframe tbody tr th:only-of-type {\n",
       "        vertical-align: middle;\n",
       "    }\n",
       "\n",
       "    .dataframe tbody tr th {\n",
       "        vertical-align: top;\n",
       "    }\n",
       "\n",
       "    .dataframe thead th {\n",
       "        text-align: right;\n",
       "    }\n",
       "</style>\n",
       "<table border=\"1\" class=\"dataframe\">\n",
       "  <thead>\n",
       "    <tr style=\"text-align: right;\">\n",
       "      <th></th>\n",
       "      <th>id</th>\n",
       "      <th>f0</th>\n",
       "      <th>f1</th>\n",
       "      <th>f2</th>\n",
       "      <th>product</th>\n",
       "    </tr>\n",
       "  </thead>\n",
       "  <tbody>\n",
       "    <tr>\n",
       "      <th>0</th>\n",
       "      <td>fwXo0</td>\n",
       "      <td>-1.146987</td>\n",
       "      <td>0.963328</td>\n",
       "      <td>-0.828965</td>\n",
       "      <td>27.758673</td>\n",
       "    </tr>\n",
       "    <tr>\n",
       "      <th>1</th>\n",
       "      <td>WJtFt</td>\n",
       "      <td>0.262778</td>\n",
       "      <td>0.269839</td>\n",
       "      <td>-2.530187</td>\n",
       "      <td>56.069697</td>\n",
       "    </tr>\n",
       "    <tr>\n",
       "      <th>2</th>\n",
       "      <td>ovLUW</td>\n",
       "      <td>0.194587</td>\n",
       "      <td>0.289035</td>\n",
       "      <td>-5.586433</td>\n",
       "      <td>62.871910</td>\n",
       "    </tr>\n",
       "    <tr>\n",
       "      <th>3</th>\n",
       "      <td>q6cA6</td>\n",
       "      <td>2.236060</td>\n",
       "      <td>-0.553760</td>\n",
       "      <td>0.930038</td>\n",
       "      <td>114.572842</td>\n",
       "    </tr>\n",
       "    <tr>\n",
       "      <th>4</th>\n",
       "      <td>WPMUX</td>\n",
       "      <td>-0.515993</td>\n",
       "      <td>1.716266</td>\n",
       "      <td>5.899011</td>\n",
       "      <td>149.600746</td>\n",
       "    </tr>\n",
       "    <tr>\n",
       "      <th>5</th>\n",
       "      <td>LzZXx</td>\n",
       "      <td>-0.758092</td>\n",
       "      <td>0.710691</td>\n",
       "      <td>2.585887</td>\n",
       "      <td>90.222465</td>\n",
       "    </tr>\n",
       "    <tr>\n",
       "      <th>6</th>\n",
       "      <td>WBHRv</td>\n",
       "      <td>-0.574891</td>\n",
       "      <td>0.317727</td>\n",
       "      <td>1.773745</td>\n",
       "      <td>45.641478</td>\n",
       "    </tr>\n",
       "    <tr>\n",
       "      <th>7</th>\n",
       "      <td>XO8fn</td>\n",
       "      <td>-1.906649</td>\n",
       "      <td>-2.458350</td>\n",
       "      <td>-0.177097</td>\n",
       "      <td>72.480640</td>\n",
       "    </tr>\n",
       "    <tr>\n",
       "      <th>8</th>\n",
       "      <td>ybmQ5</td>\n",
       "      <td>1.776292</td>\n",
       "      <td>-0.279356</td>\n",
       "      <td>3.004156</td>\n",
       "      <td>106.616832</td>\n",
       "    </tr>\n",
       "    <tr>\n",
       "      <th>9</th>\n",
       "      <td>OilcN</td>\n",
       "      <td>-1.214452</td>\n",
       "      <td>-0.439314</td>\n",
       "      <td>5.922514</td>\n",
       "      <td>52.954532</td>\n",
       "    </tr>\n",
       "    <tr>\n",
       "      <th>10</th>\n",
       "      <td>myq2g</td>\n",
       "      <td>0.628659</td>\n",
       "      <td>-2.120049</td>\n",
       "      <td>5.362437</td>\n",
       "      <td>166.799132</td>\n",
       "    </tr>\n",
       "    <tr>\n",
       "      <th>11</th>\n",
       "      <td>V9R1y</td>\n",
       "      <td>-0.544565</td>\n",
       "      <td>0.039088</td>\n",
       "      <td>8.635293</td>\n",
       "      <td>150.859435</td>\n",
       "    </tr>\n",
       "    <tr>\n",
       "      <th>12</th>\n",
       "      <td>bKDo0</td>\n",
       "      <td>-0.960453</td>\n",
       "      <td>-0.127113</td>\n",
       "      <td>7.764734</td>\n",
       "      <td>96.910855</td>\n",
       "    </tr>\n",
       "    <tr>\n",
       "      <th>13</th>\n",
       "      <td>eXvhs</td>\n",
       "      <td>1.432891</td>\n",
       "      <td>-1.242074</td>\n",
       "      <td>3.557168</td>\n",
       "      <td>8.704162</td>\n",
       "    </tr>\n",
       "    <tr>\n",
       "      <th>14</th>\n",
       "      <td>wI4j3</td>\n",
       "      <td>-0.935464</td>\n",
       "      <td>2.420523</td>\n",
       "      <td>1.150536</td>\n",
       "      <td>116.829811</td>\n",
       "    </tr>\n",
       "    <tr>\n",
       "      <th>15</th>\n",
       "      <td>XOWTx</td>\n",
       "      <td>-2.628353</td>\n",
       "      <td>0.937303</td>\n",
       "      <td>0.057847</td>\n",
       "      <td>68.655498</td>\n",
       "    </tr>\n",
       "    <tr>\n",
       "      <th>16</th>\n",
       "      <td>2oVFv</td>\n",
       "      <td>-0.428050</td>\n",
       "      <td>-2.246556</td>\n",
       "      <td>6.970420</td>\n",
       "      <td>84.500464</td>\n",
       "    </tr>\n",
       "    <tr>\n",
       "      <th>17</th>\n",
       "      <td>0wbDA</td>\n",
       "      <td>0.735307</td>\n",
       "      <td>0.913124</td>\n",
       "      <td>7.899539</td>\n",
       "      <td>96.284701</td>\n",
       "    </tr>\n",
       "    <tr>\n",
       "      <th>18</th>\n",
       "      <td>NhHaR</td>\n",
       "      <td>0.706261</td>\n",
       "      <td>-0.993553</td>\n",
       "      <td>3.155582</td>\n",
       "      <td>48.052268</td>\n",
       "    </tr>\n",
       "    <tr>\n",
       "      <th>19</th>\n",
       "      <td>DMNMZ</td>\n",
       "      <td>-1.867846</td>\n",
       "      <td>2.744144</td>\n",
       "      <td>5.918278</td>\n",
       "      <td>153.815137</td>\n",
       "    </tr>\n",
       "  </tbody>\n",
       "</table>\n",
       "</div>"
      ],
      "text/plain": [
       "       id        f0        f1        f2     product\n",
       "0   fwXo0 -1.146987  0.963328 -0.828965   27.758673\n",
       "1   WJtFt  0.262778  0.269839 -2.530187   56.069697\n",
       "2   ovLUW  0.194587  0.289035 -5.586433   62.871910\n",
       "3   q6cA6  2.236060 -0.553760  0.930038  114.572842\n",
       "4   WPMUX -0.515993  1.716266  5.899011  149.600746\n",
       "5   LzZXx -0.758092  0.710691  2.585887   90.222465\n",
       "6   WBHRv -0.574891  0.317727  1.773745   45.641478\n",
       "7   XO8fn -1.906649 -2.458350 -0.177097   72.480640\n",
       "8   ybmQ5  1.776292 -0.279356  3.004156  106.616832\n",
       "9   OilcN -1.214452 -0.439314  5.922514   52.954532\n",
       "10  myq2g  0.628659 -2.120049  5.362437  166.799132\n",
       "11  V9R1y -0.544565  0.039088  8.635293  150.859435\n",
       "12  bKDo0 -0.960453 -0.127113  7.764734   96.910855\n",
       "13  eXvhs  1.432891 -1.242074  3.557168    8.704162\n",
       "14  wI4j3 -0.935464  2.420523  1.150536  116.829811\n",
       "15  XOWTx -2.628353  0.937303  0.057847   68.655498\n",
       "16  2oVFv -0.428050 -2.246556  6.970420   84.500464\n",
       "17  0wbDA  0.735307  0.913124  7.899539   96.284701\n",
       "18  NhHaR  0.706261 -0.993553  3.155582   48.052268\n",
       "19  DMNMZ -1.867846  2.744144  5.918278  153.815137"
      ]
     },
     "metadata": {},
     "output_type": "display_data"
    }
   ],
   "source": [
    "# Preview the Data. Get a quick look at the first five rows of each dataset to understand its structure. \n",
    "# display the third dataset\n",
    "display(geo_data_2.head(20)) "
   ]
  },
  {
   "cell_type": "code",
   "execution_count": 15,
   "id": "c9f41e41-e40b-4cea-8b5e-4937eb0ac7c3",
   "metadata": {},
   "outputs": [
    {
     "data": {
      "text/html": [
       "<div>\n",
       "<style scoped>\n",
       "    .dataframe tbody tr th:only-of-type {\n",
       "        vertical-align: middle;\n",
       "    }\n",
       "\n",
       "    .dataframe tbody tr th {\n",
       "        vertical-align: top;\n",
       "    }\n",
       "\n",
       "    .dataframe thead th {\n",
       "        text-align: right;\n",
       "    }\n",
       "</style>\n",
       "<table border=\"1\" class=\"dataframe\">\n",
       "  <thead>\n",
       "    <tr style=\"text-align: right;\">\n",
       "      <th></th>\n",
       "      <th>f0</th>\n",
       "      <th>f1</th>\n",
       "      <th>f2</th>\n",
       "      <th>product</th>\n",
       "    </tr>\n",
       "  </thead>\n",
       "  <tbody>\n",
       "    <tr>\n",
       "      <th>count</th>\n",
       "      <td>100000.000000</td>\n",
       "      <td>100000.000000</td>\n",
       "      <td>100000.000000</td>\n",
       "      <td>100000.000000</td>\n",
       "    </tr>\n",
       "    <tr>\n",
       "      <th>mean</th>\n",
       "      <td>0.500419</td>\n",
       "      <td>0.250143</td>\n",
       "      <td>2.502647</td>\n",
       "      <td>92.500000</td>\n",
       "    </tr>\n",
       "    <tr>\n",
       "      <th>std</th>\n",
       "      <td>0.871832</td>\n",
       "      <td>0.504433</td>\n",
       "      <td>3.248248</td>\n",
       "      <td>44.288691</td>\n",
       "    </tr>\n",
       "    <tr>\n",
       "      <th>min</th>\n",
       "      <td>-1.408605</td>\n",
       "      <td>-0.848218</td>\n",
       "      <td>-12.088328</td>\n",
       "      <td>0.000000</td>\n",
       "    </tr>\n",
       "    <tr>\n",
       "      <th>25%</th>\n",
       "      <td>-0.072580</td>\n",
       "      <td>-0.200881</td>\n",
       "      <td>0.287748</td>\n",
       "      <td>56.497507</td>\n",
       "    </tr>\n",
       "    <tr>\n",
       "      <th>50%</th>\n",
       "      <td>0.502360</td>\n",
       "      <td>0.250252</td>\n",
       "      <td>2.515969</td>\n",
       "      <td>91.849972</td>\n",
       "    </tr>\n",
       "    <tr>\n",
       "      <th>75%</th>\n",
       "      <td>1.073581</td>\n",
       "      <td>0.700646</td>\n",
       "      <td>4.715088</td>\n",
       "      <td>128.564089</td>\n",
       "    </tr>\n",
       "    <tr>\n",
       "      <th>max</th>\n",
       "      <td>2.362331</td>\n",
       "      <td>1.343769</td>\n",
       "      <td>16.003790</td>\n",
       "      <td>185.364347</td>\n",
       "    </tr>\n",
       "  </tbody>\n",
       "</table>\n",
       "</div>"
      ],
      "text/plain": [
       "                  f0             f1             f2        product\n",
       "count  100000.000000  100000.000000  100000.000000  100000.000000\n",
       "mean        0.500419       0.250143       2.502647      92.500000\n",
       "std         0.871832       0.504433       3.248248      44.288691\n",
       "min        -1.408605      -0.848218     -12.088328       0.000000\n",
       "25%        -0.072580      -0.200881       0.287748      56.497507\n",
       "50%         0.502360       0.250252       2.515969      91.849972\n",
       "75%         1.073581       0.700646       4.715088     128.564089\n",
       "max         2.362331       1.343769      16.003790     185.364347"
      ]
     },
     "metadata": {},
     "output_type": "display_data"
    }
   ],
   "source": [
    "# Summary Statistics. Get a summary of each dataset to understand the distribution of the data. \n",
    "# display the first dataset\n",
    "display(geo_data_0.describe())"
   ]
  },
  {
   "cell_type": "code",
   "execution_count": 16,
   "id": "7637130b-1942-4fa2-b0f2-7858d14b722d",
   "metadata": {},
   "outputs": [
    {
     "name": "stdout",
     "output_type": "stream",
     "text": [
      "Median of product in geo_data_0: 91.84997204396296\n"
     ]
    }
   ],
   "source": [
    "median_product_0 = np.median(geo_data_0['product'])\n",
    "print(\"Median of product in geo_data_0:\", median_product_0)"
   ]
  },
  {
   "cell_type": "markdown",
   "id": "357cd2a2-e4d0-47ef-a030-8c7099ff61d2",
   "metadata": {},
   "source": [
    "**Region 0:**\n",
    "- Mean product volume: 92.5 thousand barrels, higher than the median, indicating a slightly right-skewed distribution.\n",
    "- Standard Devitation: shows some variability in the product values. \n",
    "- Median product volume: 91.85 thousand barrels\n",
    "- Product volume ranges from 0 to 185.36 thousand barrels"
   ]
  },
  {
   "cell_type": "code",
   "execution_count": 18,
   "id": "e0f6a998",
   "metadata": {},
   "outputs": [
    {
     "data": {
      "text/html": [
       "<div>\n",
       "<style scoped>\n",
       "    .dataframe tbody tr th:only-of-type {\n",
       "        vertical-align: middle;\n",
       "    }\n",
       "\n",
       "    .dataframe tbody tr th {\n",
       "        vertical-align: top;\n",
       "    }\n",
       "\n",
       "    .dataframe thead th {\n",
       "        text-align: right;\n",
       "    }\n",
       "</style>\n",
       "<table border=\"1\" class=\"dataframe\">\n",
       "  <thead>\n",
       "    <tr style=\"text-align: right;\">\n",
       "      <th></th>\n",
       "      <th>f0</th>\n",
       "      <th>f1</th>\n",
       "      <th>f2</th>\n",
       "      <th>product</th>\n",
       "    </tr>\n",
       "  </thead>\n",
       "  <tbody>\n",
       "    <tr>\n",
       "      <th>count</th>\n",
       "      <td>100000.000000</td>\n",
       "      <td>100000.000000</td>\n",
       "      <td>100000.000000</td>\n",
       "      <td>100000.000000</td>\n",
       "    </tr>\n",
       "    <tr>\n",
       "      <th>mean</th>\n",
       "      <td>1.141296</td>\n",
       "      <td>-4.796579</td>\n",
       "      <td>2.494541</td>\n",
       "      <td>68.825000</td>\n",
       "    </tr>\n",
       "    <tr>\n",
       "      <th>std</th>\n",
       "      <td>8.965932</td>\n",
       "      <td>5.119872</td>\n",
       "      <td>1.703572</td>\n",
       "      <td>45.944423</td>\n",
       "    </tr>\n",
       "    <tr>\n",
       "      <th>min</th>\n",
       "      <td>-31.609576</td>\n",
       "      <td>-26.358598</td>\n",
       "      <td>-0.018144</td>\n",
       "      <td>0.000000</td>\n",
       "    </tr>\n",
       "    <tr>\n",
       "      <th>25%</th>\n",
       "      <td>-6.298551</td>\n",
       "      <td>-8.267985</td>\n",
       "      <td>1.000021</td>\n",
       "      <td>26.953261</td>\n",
       "    </tr>\n",
       "    <tr>\n",
       "      <th>50%</th>\n",
       "      <td>1.153055</td>\n",
       "      <td>-4.813172</td>\n",
       "      <td>2.011479</td>\n",
       "      <td>57.085625</td>\n",
       "    </tr>\n",
       "    <tr>\n",
       "      <th>75%</th>\n",
       "      <td>8.621015</td>\n",
       "      <td>-1.332816</td>\n",
       "      <td>3.999904</td>\n",
       "      <td>107.813044</td>\n",
       "    </tr>\n",
       "    <tr>\n",
       "      <th>max</th>\n",
       "      <td>29.421755</td>\n",
       "      <td>18.734063</td>\n",
       "      <td>5.019721</td>\n",
       "      <td>137.945408</td>\n",
       "    </tr>\n",
       "  </tbody>\n",
       "</table>\n",
       "</div>"
      ],
      "text/plain": [
       "                  f0             f1             f2        product\n",
       "count  100000.000000  100000.000000  100000.000000  100000.000000\n",
       "mean        1.141296      -4.796579       2.494541      68.825000\n",
       "std         8.965932       5.119872       1.703572      45.944423\n",
       "min       -31.609576     -26.358598      -0.018144       0.000000\n",
       "25%        -6.298551      -8.267985       1.000021      26.953261\n",
       "50%         1.153055      -4.813172       2.011479      57.085625\n",
       "75%         8.621015      -1.332816       3.999904     107.813044\n",
       "max        29.421755      18.734063       5.019721     137.945408"
      ]
     },
     "metadata": {},
     "output_type": "display_data"
    }
   ],
   "source": [
    "# Summary Statistics. Get a summary of each dataset to understand the distribution of the data. \n",
    "# display the second dataset\n",
    "display(geo_data_1.describe())"
   ]
  },
  {
   "cell_type": "code",
   "execution_count": 19,
   "id": "a2c28aa9-3e3e-4fe1-8732-8716280f1475",
   "metadata": {},
   "outputs": [
    {
     "name": "stdout",
     "output_type": "stream",
     "text": [
      "Median of product in geo_data_1: 57.08562464628662\n"
     ]
    }
   ],
   "source": [
    "median_product_1 = np.median(geo_data_1['product'])\n",
    "print(\"Median of product in geo_data_1:\", median_product_1)"
   ]
  },
  {
   "cell_type": "markdown",
   "id": "05012ede-7a5d-4705-9a2e-22f195b8c708",
   "metadata": {},
   "source": [
    "**Region 1:**\n",
    "- Mean product volume: 68.83 thousand barrels, higher than the median, indicating a right-skewed distribution.\n",
    "- Standard Deviation: indicates considerable variablity in the product values. \n",
    "- Median product volume: 57.09 thousand barrels\n",
    "- Product volume ranges from 0 to 137.95 thousand barrels"
   ]
  },
  {
   "cell_type": "code",
   "execution_count": 21,
   "id": "bc71594e",
   "metadata": {},
   "outputs": [
    {
     "data": {
      "text/html": [
       "<div>\n",
       "<style scoped>\n",
       "    .dataframe tbody tr th:only-of-type {\n",
       "        vertical-align: middle;\n",
       "    }\n",
       "\n",
       "    .dataframe tbody tr th {\n",
       "        vertical-align: top;\n",
       "    }\n",
       "\n",
       "    .dataframe thead th {\n",
       "        text-align: right;\n",
       "    }\n",
       "</style>\n",
       "<table border=\"1\" class=\"dataframe\">\n",
       "  <thead>\n",
       "    <tr style=\"text-align: right;\">\n",
       "      <th></th>\n",
       "      <th>f0</th>\n",
       "      <th>f1</th>\n",
       "      <th>f2</th>\n",
       "      <th>product</th>\n",
       "    </tr>\n",
       "  </thead>\n",
       "  <tbody>\n",
       "    <tr>\n",
       "      <th>count</th>\n",
       "      <td>100000.000000</td>\n",
       "      <td>100000.000000</td>\n",
       "      <td>100000.000000</td>\n",
       "      <td>100000.000000</td>\n",
       "    </tr>\n",
       "    <tr>\n",
       "      <th>mean</th>\n",
       "      <td>0.002023</td>\n",
       "      <td>-0.002081</td>\n",
       "      <td>2.495128</td>\n",
       "      <td>95.000000</td>\n",
       "    </tr>\n",
       "    <tr>\n",
       "      <th>std</th>\n",
       "      <td>1.732045</td>\n",
       "      <td>1.730417</td>\n",
       "      <td>3.473445</td>\n",
       "      <td>44.749921</td>\n",
       "    </tr>\n",
       "    <tr>\n",
       "      <th>min</th>\n",
       "      <td>-8.760004</td>\n",
       "      <td>-7.084020</td>\n",
       "      <td>-11.970335</td>\n",
       "      <td>0.000000</td>\n",
       "    </tr>\n",
       "    <tr>\n",
       "      <th>25%</th>\n",
       "      <td>-1.162288</td>\n",
       "      <td>-1.174820</td>\n",
       "      <td>0.130359</td>\n",
       "      <td>59.450441</td>\n",
       "    </tr>\n",
       "    <tr>\n",
       "      <th>50%</th>\n",
       "      <td>0.009424</td>\n",
       "      <td>-0.009482</td>\n",
       "      <td>2.484236</td>\n",
       "      <td>94.925613</td>\n",
       "    </tr>\n",
       "    <tr>\n",
       "      <th>75%</th>\n",
       "      <td>1.158535</td>\n",
       "      <td>1.163678</td>\n",
       "      <td>4.858794</td>\n",
       "      <td>130.595027</td>\n",
       "    </tr>\n",
       "    <tr>\n",
       "      <th>max</th>\n",
       "      <td>7.238262</td>\n",
       "      <td>7.844801</td>\n",
       "      <td>16.739402</td>\n",
       "      <td>190.029838</td>\n",
       "    </tr>\n",
       "  </tbody>\n",
       "</table>\n",
       "</div>"
      ],
      "text/plain": [
       "                  f0             f1             f2        product\n",
       "count  100000.000000  100000.000000  100000.000000  100000.000000\n",
       "mean        0.002023      -0.002081       2.495128      95.000000\n",
       "std         1.732045       1.730417       3.473445      44.749921\n",
       "min        -8.760004      -7.084020     -11.970335       0.000000\n",
       "25%        -1.162288      -1.174820       0.130359      59.450441\n",
       "50%         0.009424      -0.009482       2.484236      94.925613\n",
       "75%         1.158535       1.163678       4.858794     130.595027\n",
       "max         7.238262       7.844801      16.739402     190.029838"
      ]
     },
     "metadata": {},
     "output_type": "display_data"
    }
   ],
   "source": [
    "# Summary Statistics. Get a summary of each dataset to understand the distribution of the data. \n",
    "# display the third dataset\n",
    "display(geo_data_2.describe())"
   ]
  },
  {
   "cell_type": "code",
   "execution_count": 22,
   "id": "5b18c441-9360-4bfa-88c8-3abc7a572598",
   "metadata": {},
   "outputs": [
    {
     "name": "stdout",
     "output_type": "stream",
     "text": [
      "Median of product in geo_data_2: 94.92561258990247\n"
     ]
    }
   ],
   "source": [
    "median_product_2 = np.median(geo_data_2['product'])\n",
    "print(\"Median of product in geo_data_2:\", median_product_2)"
   ]
  },
  {
   "cell_type": "markdown",
   "id": "19b448ad-9c83-473a-b420-5d704caf988e",
   "metadata": {},
   "source": [
    "**Region 2:** \n",
    "- Mean product volume: 95.0 thousand barrels and is close to the median, indicating a roughly symmetric distribution.\n",
    "- Standard devitation: shows some variability in the product values. \n",
    "- Median product volume: 94.93 thousand barrels\n",
    "- Product volume ranges from 0 to 190.03 thousand barrels"
   ]
  },
  {
   "cell_type": "markdown",
   "id": "53b27120-32e5-467f-a957-2e727900c840",
   "metadata": {},
   "source": [
    "**Summary of Findings**\n",
    "*The mean values represents the average volume of reserves in the oil wells for each region. In geo_data_0, the average volume of reserves is approximately 92.50 thousand barrels. This analysis of the mean value is crucial for gauging the central tendency of the data.*\n",
    "\n",
    "- **geo_data_2** has the highest mean value, suggesting it might be the most promising region in terms of average reserves.\n",
    "- **geo_data_1** has the lowset mean value, indicating it might be less promising on average compared to the other regions.\n",
    "- \n",
    "*The minimum values indicates the lowest volume of reserves found in the oil wells for each region. A value of 0.00 means there are wells with no reserves at all in each dataset.*\n",
    "\n",
    "*The maximum value indicates the highest volume of reserves found in the oil wells for each region. This shows the potential upper limit of reserves.*"
   ]
  },
  {
   "cell_type": "markdown",
   "id": "b3bb0ebb-cf08-4add-8873-4ab63e7c51fa",
   "metadata": {},
   "source": [
    "**Note:** The wide range between the minimum and maximum values in all datasets shows significant variability in the volume of reserves within each region.  The high maximum values in **geo_data_0** and **geo_data_2** suggest the potential for some wells to have very high reserves."
   ]
  },
  {
   "cell_type": "code",
   "execution_count": 26,
   "id": "e4e1be85-557f-4453-b9e2-da61458d8bf6",
   "metadata": {},
   "outputs": [
    {
     "data": {
      "text/plain": [
       "id         0\n",
       "f0         0\n",
       "f1         0\n",
       "f2         0\n",
       "product    0\n",
       "dtype: int64"
      ]
     },
     "metadata": {},
     "output_type": "display_data"
    }
   ],
   "source": [
    "# Check for Missing Values: Identify if there are any missing values that might need to be handled\n",
    "# display the first dataset\n",
    "display(geo_data_0.isnull().sum())"
   ]
  },
  {
   "cell_type": "code",
   "execution_count": 27,
   "id": "71784b4f-8584-4c1b-a5d5-c467d5aa32de",
   "metadata": {},
   "outputs": [
    {
     "data": {
      "text/plain": [
       "id         0\n",
       "f0         0\n",
       "f1         0\n",
       "f2         0\n",
       "product    0\n",
       "dtype: int64"
      ]
     },
     "metadata": {},
     "output_type": "display_data"
    }
   ],
   "source": [
    "# Check for Missing Values: Identify if there are any missing values that might need to be handled\n",
    "# display the second dataset\n",
    "display(geo_data_1.isnull().sum())"
   ]
  },
  {
   "cell_type": "code",
   "execution_count": 28,
   "id": "998f01b7-df6c-4664-9f7e-6d745fe0f804",
   "metadata": {},
   "outputs": [
    {
     "data": {
      "text/plain": [
       "id         0\n",
       "f0         0\n",
       "f1         0\n",
       "f2         0\n",
       "product    0\n",
       "dtype: int64"
      ]
     },
     "metadata": {},
     "output_type": "display_data"
    }
   ],
   "source": [
    "# Check for Missing Values: Identify if there are any missing values that might need to be handled\n",
    "# display the third dataset\n",
    "display(geo_data_2.isnull().sum())"
   ]
  },
  {
   "cell_type": "markdown",
   "id": "b2f298b6-add6-4561-aab0-fe5fdb62f6fb",
   "metadata": {},
   "source": [
    "**Missing Values - Summary of Findings:**\n",
    "- Dataset 1 (geo_data_0): No missing values.\n",
    "- Dataset 2 (geo_data_1): No missing values.\n",
    "- Dataset 3 (geo_data_2): No missing values."
   ]
  },
  {
   "cell_type": "code",
   "execution_count": 30,
   "id": "1406a16d-0272-4e9d-8db5-332931dfd6d2",
   "metadata": {},
   "outputs": [
    {
     "data": {
      "text/plain": [
       "Index(['id', 'f0', 'f1', 'f2', 'product'], dtype='object')"
      ]
     },
     "metadata": {},
     "output_type": "display_data"
    }
   ],
   "source": [
    "# Column Names. Check the column names to ensure they are what is expected f0, f1, f2\n",
    "# display the first dataset\n",
    "display(geo_data_0.columns)"
   ]
  },
  {
   "cell_type": "code",
   "execution_count": 31,
   "id": "c0f2a158-a8e6-4eda-bac5-4f7d75e46600",
   "metadata": {},
   "outputs": [
    {
     "data": {
      "text/plain": [
       "Index(['id', 'f0', 'f1', 'f2', 'product'], dtype='object')"
      ]
     },
     "metadata": {},
     "output_type": "display_data"
    }
   ],
   "source": [
    "# Column Names. Check the column names to ensure they are what is expected f0, f1, f2\n",
    "# display the second dataset\n",
    "display(geo_data_1.columns)"
   ]
  },
  {
   "cell_type": "code",
   "execution_count": 32,
   "id": "61cb52d7-a469-4f4d-a16c-72ee79dfef5f",
   "metadata": {},
   "outputs": [
    {
     "data": {
      "text/plain": [
       "Index(['id', 'f0', 'f1', 'f2', 'product'], dtype='object')"
      ]
     },
     "metadata": {},
     "output_type": "display_data"
    }
   ],
   "source": [
    "# Column Names. Check the column names to ensure they are what is expected f0, f1, f2\n",
    "# display the third dataset\n",
    "display(geo_data_2.columns)"
   ]
  },
  {
   "cell_type": "code",
   "execution_count": 33,
   "id": "0a8427ae-2323-411b-98e3-afc1807e9560",
   "metadata": {},
   "outputs": [],
   "source": [
    "# Features Scaling\n",
    "# Drop the 'id' column\n",
    "geo_data_0 = geo_data_0.drop(columns=['id']) \n",
    "geo_data_1 = geo_data_1.drop(columns=['id']) \n",
    "geo_data_2 = geo_data_2.drop(columns=['id'])\n",
    "\n",
    "# Initialize the StandardScaler\n",
    "scaler = StandardScaler()\n",
    "\n",
    "# Scale features for geo_data_0\n",
    "geo_data_0[['f0', 'f1', 'f2']] = scaler.fit_transform(geo_data_0[['f0', 'f1', 'f2']])\n",
    "\n",
    "# Scale features for geo_data_1\n",
    "geo_data_1[['f0', 'f1', 'f2']] = scaler.fit_transform(geo_data_1[['f0', 'f1', 'f2']])\n",
    "\n",
    "# Scale features for geo_data_2\n",
    "geo_data_2[['f0', 'f1', 'f2']] = scaler.fit_transform(geo_data_2[['f0', 'f1', 'f2']])\n"
   ]
  },
  {
   "cell_type": "markdown",
   "id": "9064a1ba-a825-4cf9-987e-6a9e1dac0ff4",
   "metadata": {},
   "source": [
    "**Handling Outliers and Analysis**\n",
    "\n",
    "Identifying and visualizing outliers.  Outliers can significantly impact the analysis and model performance, let's proceed to detection and handling any outliers, if any.  Data visualization of boxplots to compare the distribution of oil reserves across multiple regions and identify outliers. "
   ]
  },
  {
   "cell_type": "code",
   "execution_count": 35,
   "id": "c2ef73c5-acd2-4262-85e7-95e0023b0767",
   "metadata": {},
   "outputs": [
    {
     "data": {
      "image/png": "[encoded data removed]",
      "text/plain": [
       "<Figure size 1200x1000 with 4 Axes>"
      ]
     },
     "metadata": {},
     "output_type": "display_data"
    }
   ],
   "source": [
    "# Visualize the distributions of features in geo_data_0\n",
    "fig, axes = plt.subplots(2,2, figsize=(12, 10))\n",
    "\n",
    "sns.histplot(geo_data_0['f0'], ax=axes[0, 0])\n",
    "axes[0, 0].set_title('Distribution of f0 in geo_data_0')\n",
    "\n",
    "sns.histplot(geo_data_0['f1'], ax=axes[0, 1])\n",
    "axes[0, 1].set_title('Distribution of f1 in geo_data_0')\n",
    "\n",
    "sns.histplot(geo_data_0['f2'], ax=axes[1, 0])\n",
    "axes[1, 0].set_title('Distribution of f2 in geo_data_0')\n",
    "\n",
    "sns.histplot(geo_data_0['product'], ax=axes[1, 1])\n",
    "axes[1, 1].set_title('Distribution of product in geo_data_0')\n",
    "\n",
    "plt.tight_layout()\n",
    "plt.show()\n",
    "                    "
   ]
  },
  {
   "cell_type": "markdown",
   "id": "fc47416e-0dbf-4197-94cc-72afcb2d04c4",
   "metadata": {},
   "source": [
    "**Distribution of f0 in geo_data_0:** Range from approximatey -2.5 to 2.5. It appears to be multimodal (multiple peaks) with several peaks, indicating that there may be multiple underlying distributions or clusters within this feature. \n",
    "\n",
    "**Distribution of f1 in geo_data_0:** Range from approximatey -2.5 to 2.5. Similar to f0, it shows a multimodal pattern with several peaks, suggesting possible mutliple clusters or groups in the data. \n",
    "\n",
    "**Distribution of f2 in geo_data_0:** Range from approximatey -4 to 4. The distribution is unimodal and resembles a normal distribution, indicating that this feature is likely to have a more consistent and central tendency compared to f0 and f1. \n",
    "\n",
    "**Distribution of 'product' in geo_data_0:** The distribution of 'product' (volume of reserves) ranges from approximately 0 to 175. The distribution is multimodal with several peaks, suggesting that there might be different groups or types of oil wells with varying volumes of reserves. "
   ]
  },
  {
   "cell_type": "code",
   "execution_count": 37,
   "id": "4bd7e165-5572-4ced-8c82-f98d0d7f907b",
   "metadata": {},
   "outputs": [
    {
     "data": {
      "image/png": "[encoded data removed]",
      "text/plain": [
       "<Figure size 1000x800 with 2 Axes>"
      ]
     },
     "metadata": {},
     "output_type": "display_data"
    }
   ],
   "source": [
    "# Feature Exploration\n",
    "# Correlation heatmap for geo_data_0\n",
    "plt.figure(figsize=(10, 8))\n",
    "sns.heatmap(geo_data_0.corr(), annot=True, cmap='coolwarm', fmt=\".2f\")\n",
    "plt.title('Correlation Heatmap for geo_data_0')\n",
    "plt.show()\n"
   ]
  },
  {
   "cell_type": "markdown",
   "id": "8e10f637-4070-40f9-a9a9-e1a3b484ec43",
   "metadata": {},
   "source": [
    "**Correlation Heatmap in geo_data_0 - Key Takeaways**\n",
    "\n",
    "- The strongest relationship with 'product' is observed with f2. This feature will likely play an important role in predicting the volume of reserves.\n",
    "- The features f0 and f1 have weaker relationships with 'product', suggesting they might be less influential in the prediction model.\n",
    "- There is a moderate negative correlation between f0 and f1, which might indicate some level of redundancy or inverse relationship between these features. "
   ]
  },
  {
   "cell_type": "code",
   "execution_count": 39,
   "id": "4c960dc3-515f-4ce5-8b15-9a7ae8c0b9aa",
   "metadata": {},
   "outputs": [
    {
     "data": {
      "image/png": "[encoded data removed]",
      "text/plain": [
       "<Figure size 1200x1000 with 4 Axes>"
      ]
     },
     "metadata": {},
     "output_type": "display_data"
    }
   ],
   "source": [
    "# Visualize the distributions of features in geo_data_1\n",
    "fig, axes = plt.subplots(2, 2, figsize=(12, 10))\n",
    "\n",
    "sns.histplot(geo_data_1['f0'], ax=axes[0, 0])\n",
    "axes[0, 0].set_title('Distribution of f0 in geo_data_1')\n",
    "\n",
    "sns.histplot(geo_data_1['f1'], ax=axes[0, 1])\n",
    "axes[0, 1].set_title('Distribution of f1 in geo_data_1')\n",
    "\n",
    "sns.histplot(geo_data_1['f2'], ax=axes[1, 0])\n",
    "axes[1, 0].set_title('Distribution of f2 in geo_data_1')\n",
    "\n",
    "sns.histplot(geo_data_1['product'], ax=axes[1, 1])\n",
    "axes[1, 1].set_title('Distribution of product in geo_data_1')\n",
    "\n",
    "plt.tight_layout()\n",
    "plt.show()\n"
   ]
  },
  {
   "cell_type": "markdown",
   "id": "53a11eee-13ac-49a5-93ce-2491d7042fc7",
   "metadata": {},
   "source": [
    "**Distribution of f0 in geo_data_1:** Range from approximatey -1 to 1. The distribution appears to be bimodal, with two peaks, this indicates that there may be two underlying groups or clusters within this feature.\n",
    "\n",
    "**Distribution of f1 in geo_data_1:** Range from approximatey normal, centered around 0. This suggests that f1 follows a more consistent pattern with a central tendency. \n",
    "\n",
    "**Distribution of f2 in geo_data_1:** Range from approximatey -1.5 to 1.5. TThe distribution is uniform, with equal counts for values at regular intervals. This indicates a more even spread of values for f2 without a clear central tendency. \n",
    "\n",
    "**Distribution of 'product' in geo_data_1:** The distribution of 'product' (volume of reserves) is also uniform, with equal counts for values at regular intervals between 0 and 140. This suggests that the volume of reserves is evenly distributed across different values. "
   ]
  },
  {
   "cell_type": "code",
   "execution_count": 41,
   "id": "eaea1588-19f3-453f-90c4-b9a23c81ea81",
   "metadata": {},
   "outputs": [
    {
     "data": {
      "image/png": "[encoded data removed]",
      "text/plain": [
       "<Figure size 1000x800 with 2 Axes>"
      ]
     },
     "metadata": {},
     "output_type": "display_data"
    }
   ],
   "source": [
    "# Correlation heatmap for geo_data_1\n",
    "plt.figure(figsize=(10, 8))\n",
    "sns.heatmap(geo_data_1.corr(), annot=True, cmap='coolwarm', fmt=\".2f\")\n",
    "plt.title('Correlation Heatmap for geo_data_1')\n",
    "plt.show()\n"
   ]
  },
  {
   "cell_type": "markdown",
   "id": "32fc61cd-4d0d-4a92-bf66-aa39e95dd201",
   "metadata": {},
   "source": [
    "**Correlation Heatmap in geo_data_1 - Key Takeaways**\n",
    "\n",
    "- The feature f2 is the most significant feature for predicting the volume of reserves (product), with a perfect positive correlation. \n",
    "- The features f0 and f1 have very weak correlations with product, suggesting they may have limited predictive poewr for the target variable. "
   ]
  },
  {
   "cell_type": "code",
   "execution_count": 43,
   "id": "2b4bb664-ebc0-4002-b55f-67b89b11ac32",
   "metadata": {},
   "outputs": [
    {
     "data": {
      "image/png": "[encoded data removed]",
      "text/plain": [
       "<Figure size 1200x1000 with 4 Axes>"
      ]
     },
     "metadata": {},
     "output_type": "display_data"
    }
   ],
   "source": [
    "# Visualize the distributions of features in geo_data_2\n",
    "fig, axes = plt.subplots(2, 2, figsize=(12, 10))\n",
    "\n",
    "sns.histplot(geo_data_2['f0'], ax=axes[0, 0])\n",
    "axes[0, 0].set_title('Distribution of f0 in geo_data_2')\n",
    "\n",
    "sns.histplot(geo_data_2['f1'], ax=axes[0, 1])\n",
    "axes[0, 1].set_title('Distribution of f1 in geo_data_2')\n",
    "\n",
    "sns.histplot(geo_data_2['f2'], ax=axes[1, 0])\n",
    "axes[1, 0].set_title('Distribution of f2 in geo_data_2')\n",
    "\n",
    "sns.histplot(geo_data_2['product'], ax=axes[1, 1])\n",
    "axes[1, 1].set_title('Distribution of product in geo_data_2')\n",
    "\n",
    "plt.tight_layout()\n",
    "plt.show()\n"
   ]
  },
  {
   "cell_type": "markdown",
   "id": "043abf2a-d257-4641-971d-8e60fa361b80",
   "metadata": {},
   "source": [
    "**Distribution of f0 in geo_data_2:** Range from approximatey -4 to 4, indicating a balanced spread around the mean.  The distribution appears to be approximately normal, centered around 0. \n",
    "\n",
    "**Distribution of f1 in geo_data_2:** Range from approximatey -4 to 4. Similiar to f0, the distribution of f1 is approximately normal and centered around 0. \n",
    "\n",
    "**Distribution of f2 in geo_data_2:** Range from approximatey -4 to 4.  The distribution of f2 is also approximately normal and centered around 0. The majority of the values lies between -4 to 4 suggesting a consistent pattern. \n",
    "\n",
    "**Distribution of 'product' in geo_data_2:** The distribution of product (volume of reserves) is more irregular compared to the other features. It has multiple peaks and ranges from 0 to around 175, indicating variability in the volume of reserves. "
   ]
  },
  {
   "cell_type": "code",
   "execution_count": 45,
   "id": "95f73191-e0df-44ff-bce3-7204638fe3a8",
   "metadata": {},
   "outputs": [
    {
     "data": {
      "image/png": "[encoded data removed]",
      "text/plain": [
       "<Figure size 1000x800 with 2 Axes>"
      ]
     },
     "metadata": {},
     "output_type": "display_data"
    }
   ],
   "source": [
    "# Correlation heatmap for geo_data_2\n",
    "plt.figure(figsize=(10, 8))\n",
    "sns.heatmap(geo_data_2.corr(), annot=True, cmap='coolwarm', fmt=\".2f\")\n",
    "plt.title('Correlation Heatmap for geo_data_2')\n",
    "plt.show()\n"
   ]
  },
  {
   "cell_type": "markdown",
   "id": "e831343b-2736-4afc-b9b3-ef15901c6865",
   "metadata": {},
   "source": [
    "**Correlation Heatmap in geo_data_2 - Key Takeaways**\n",
    "\n",
    "- The feature f2 is the most significant feature for predicting the volume of reserves (product), with a moderate positive correlation. \n",
    "- The features f0 and f1 have no significant correlations with product, suggesting they may have limited predictive power for the target variable. "
   ]
  },
  {
   "cell_type": "markdown",
   "id": "a3b54dfd-77a0-435a-9be4-3075a6fb5c7e",
   "metadata": {},
   "source": [
    "# 2. Train and Test the Model for Each Region"
   ]
  },
  {
   "cell_type": "code",
   "execution_count": 49,
   "id": "3e55f970-e027-497a-a54e-9f4a5534a5fe",
   "metadata": {},
   "outputs": [],
   "source": [
    "def root_mean_squared_error(y_true, y_pred):\n",
    "    return np.sqrt(mean_squared_error(y_true, y_pred))"
   ]
  },
  {
   "cell_type": "code",
   "execution_count": 50,
   "id": "280bf0ff-1c24-4704-bc18-3542011d8aa4",
   "metadata": {},
   "outputs": [],
   "source": [
    "def train_and_evaluate(data): \n",
    "    X = data[['f0', 'f1', 'f2']] \n",
    "    y = data['product']\n",
    "    # 2.1. Split the data into a training set and validation set at a ratio of 75:25.\n",
    "    # Split the data \n",
    "    X_train, X_val, y_train, y_val = train_test_split(X, y, test_size=0.25, random_state=42)\n",
    "    # 2.2. Train the model and make predictions for the validation set.\n",
    "    # Train the model \n",
    "    model = LinearRegression() \n",
    "    model.fit(X_train, y_train) \n",
    "    # Make predictions \n",
    "    y_pred = model.predict(X_val)\n",
    "    # 2.3. Save the predictions and correct answers for the validation set.\n",
    "    # Save predictions and correct answers \n",
    "    predictions = pd.DataFrame({'Actual': y_val, 'Predicted': y_pred})\n",
    "    # Calculate the average volume of predicted reserves \n",
    "    avg_predicted_reserves = y_pred.mean()\n",
    "    # 2.4. Print the average volume of predicted reserves and model RMSE.\n",
    "    # Calculate the RMSE \n",
    "    rmse = root_mean_squared_error(y_val, y_pred)\n",
    "    \n",
    "    return avg_predicted_reserves, rmse, predictions"
   ]
  },
  {
   "cell_type": "code",
   "execution_count": 51,
   "id": "103bfdf2-838c-4ef6-9ba3-a3e8d545bbc9",
   "metadata": {},
   "outputs": [],
   "source": [
    "# constants"
   ]
  },
  {
   "cell_type": "code",
   "execution_count": 52,
   "id": "080f892a-8da8-4cb4-b8a7-12bafea2e975",
   "metadata": {},
   "outputs": [],
   "source": [
    "# Train and evaluate models for each region\n",
    "avg_predicted_0, rmse_0, predictions_0 = train_and_evaluate(geo_data_0)\n",
    "avg_predicted_1, rmse_1, predictions_1 = train_and_evaluate(geo_data_1)\n",
    "avg_predicted_2, rmse_2, predictions_2 = train_and_evaluate(geo_data_2)"
   ]
  },
  {
   "cell_type": "code",
   "execution_count": 53,
   "id": "9230d564-8a9e-4398-a0a1-f7f0fa5601c4",
   "metadata": {},
   "outputs": [
    {
     "data": {
      "text/plain": [
       "'Region 0 - Average Predicted Reserves: 92.40, RMSE: 37.76'"
      ]
     },
     "metadata": {},
     "output_type": "display_data"
    },
    {
     "data": {
      "text/plain": [
       "'Region 1 - Average Predicted Reserves: 68.71, RMSE: 0.89'"
      ]
     },
     "metadata": {},
     "output_type": "display_data"
    },
    {
     "data": {
      "text/plain": [
       "'Region 2 - Average Predicted Reserves: 94.77, RMSE: 40.15'"
      ]
     },
     "metadata": {},
     "output_type": "display_data"
    }
   ],
   "source": [
    "# Display results\n",
    "display(f'Region 0 - Average Predicted Reserves: {avg_predicted_0:.2f}, RMSE: {rmse_0:.2f}') \n",
    "display(f'Region 1 - Average Predicted Reserves: {avg_predicted_1:.2f}, RMSE: {rmse_1:.2f}') \n",
    "display(f'Region 2 - Average Predicted Reserves: {avg_predicted_2:.2f}, RMSE: {rmse_2:.2f}')"
   ]
  },
  {
   "cell_type": "markdown",
   "id": "d5267126-ac15-4508-97e1-724cdd301f30",
   "metadata": {},
   "source": [
    "##### 2.5. Analyze the results.\n",
    "\n",
    "**Region 0:**\n",
    "- **Average Predicted Reserves:** 92.40 thousand barrels.\n",
    "- **RMSE:** 37.76\n",
    "This indicates a good prediction with some variation, as indicated by the RMSE value. The Root Mean Square Error of 37.76 suggests that, on average, the model's predictions deviate from the actual reserves by a significant margin. This is a relativly high error, indicating the model may not be very accurate in this region. \n",
    "\n",
    "**Region 1:**\n",
    "- **Average Predicted Reserves:** 68.71 thousand barrels.\n",
    "- **RMSE:** 0.89\n",
    "The model predictions are very close to the actual values, given the low RMSE value. However, the average predicted reserves are lower compared to other regions. An RMSE of 0.89 is extremely low, indicating that the model performs well in Region 1, with minimal prediction errors. This suggest high confidence in the model's accuracy for this region.  *The model performs exceptionally well in Region 1 (low RMSE), but struggles in Region 0 and Region 2 (high RMSE).*\n",
    "\n",
    "**Region 2:**\n",
    "- **Average Predicted Reserves:** 94.77 thousand barrels.\n",
    "- **RMSE:** 40.15\n",
    "The highest average predicted reserves among the three regions, but a with a higher RMSE indicating more variability. The RMSE of 40.15 is relatively high, indicating substantial devitations between predicted and actual reserves. Simliar to Region 0, this suggests the model is not performing well in Region 2."
   ]
  },
  {
   "cell_type": "markdown",
   "id": "e86b4df4-843a-4a2c-970d-f1665c8cbe7a",
   "metadata": {},
   "source": [
    "# 3. Prepare for profit calculation:"
   ]
  },
  {
   "cell_type": "code",
   "execution_count": 57,
   "id": "ddc0e6c6-0bb4-4dc7-ab4a-112bffa3ec97",
   "metadata": {},
   "outputs": [],
   "source": [
    "# 3.1. Store all key values for calculations in separate variables.\n",
    "# Constants\n",
    "budget = 100_000_000 # 100 million USD\n",
    "cost_per_well = budget / 200 # Cost per well\n",
    "revenue_per_barrel = 4.5 # Revenue per barrel\n",
    "num_wells = 200 # number of wells\n",
    "cost_per_barrel = cost_per_well / revenue_per_barrel # Cost per barrel\n",
    "n_bootstraps = 1000 # number of boostrap samples"
   ]
  },
  {
   "cell_type": "code",
   "execution_count": 58,
   "id": "b4fe81b9-4c61-4081-8ba3-600c0c5a4802",
   "metadata": {},
   "outputs": [
    {
     "name": "stdout",
     "output_type": "stream",
     "text": [
      "Budget: 100000000 USD\n",
      "Cost per well: 500000.0 USD\n",
      "Revenue per barrel: 4.5 USD\n",
      "Number of wells: 200 \n",
      "Number of boostrap samples: 1000\n"
     ]
    }
   ],
   "source": [
    "# Print key values\n",
    "print(f'Budget: {budget} USD')\n",
    "print(f'Cost per well: {cost_per_well} USD')\n",
    "print(f'Revenue per barrel: {revenue_per_barrel} USD')\n",
    "print(f'Number of wells: {num_wells} ')\n",
    "print(f'Number of boostrap samples: {n_bootstraps}')"
   ]
  },
  {
   "cell_type": "markdown",
   "id": "c2d00dcd-794a-4bcd-97db-957376fee3dd",
   "metadata": {},
   "source": [
    "##### 3.2. Calculate the volume of reserves sufficient for developing a new well without losses. Compare the obtained value with the average volume of reserves in each region."
   ]
  },
  {
   "cell_type": "code",
   "execution_count": 61,
   "id": "71044f43-a7d5-4fb9-bdfc-2d7283479f84",
   "metadata": {},
   "outputs": [],
   "source": [
    "# calculate the volume of reserves sufficient for no losses\n",
    "volume_for_no_losses = cost_per_well / (revenue_per_barrel * 1000) # in thousand barrels"
   ]
  },
  {
   "cell_type": "code",
   "execution_count": 62,
   "id": "0b1468a7-e403-4067-bb45-f3f1ed13727a",
   "metadata": {},
   "outputs": [
    {
     "name": "stdout",
     "output_type": "stream",
     "text": [
      "Volume of reserves sufficient for no losses: 111.11 thousand barrels\n"
     ]
    }
   ],
   "source": [
    "# print the calculated volume\n",
    "print(f'Volume of reserves sufficient for no losses: {volume_for_no_losses:.2f} thousand barrels')"
   ]
  },
  {
   "cell_type": "code",
   "execution_count": 63,
   "id": "11c955c6-32e6-4338-911e-8fb81e1adc35",
   "metadata": {},
   "outputs": [],
   "source": [
    "# Average predicted reserves for each region. \n",
    "avg_predicted_reserves_0 = 92.40\n",
    "avg_predicted_reserves_1 = 68.71\n",
    "avg_predicted_reserves_2 = 94.77"
   ]
  },
  {
   "cell_type": "code",
   "execution_count": 64,
   "id": "2dc758c6-0e3a-44ed-8734-a2fdbbe29760",
   "metadata": {},
   "outputs": [
    {
     "name": "stdout",
     "output_type": "stream",
     "text": [
      "Region 0 - Average Predicted Reserves: 92.40 thousand barrels\n",
      "Region 1 - Average Predicted Reserves: 68.71 thousand barrels\n",
      "Region 2 - Average Predicted Reserves: 94.77 thousand barrels\n"
     ]
    }
   ],
   "source": [
    "# print comparisons\n",
    "print(f'Region 0 - Average Predicted Reserves: {avg_predicted_reserves_0:.2f} thousand barrels') \n",
    "print(f'Region 1 - Average Predicted Reserves: {avg_predicted_reserves_1:.2f} thousand barrels') \n",
    "print(f'Region 2 - Average Predicted Reserves: {avg_predicted_reserves_2:.2f} thousand barrels')"
   ]
  },
  {
   "cell_type": "code",
   "execution_count": 65,
   "id": "5548b382-a70b-47b2-bd94-42a33b5f3e1a",
   "metadata": {},
   "outputs": [
    {
     "name": "stdout",
     "output_type": "stream",
     "text": [
      "Region 0 - Exceeds break-even volume: False\n",
      "Region 1 - Exceeds break-even volume: False\n",
      "Region 2 - Exceeds break-even volume: False\n"
     ]
    }
   ],
   "source": [
    "# check if average reserves exceed the break-even volume\n",
    "print(f'Region 0 - Exceeds break-even volume: {avg_predicted_reserves_0 > volume_for_no_losses}')\n",
    "print(f'Region 1 - Exceeds break-even volume: {avg_predicted_reserves_1 > volume_for_no_losses}')\n",
    "print(f'Region 2 - Exceeds break-even volume: {avg_predicted_reserves_2 > volume_for_no_losses}')"
   ]
  },
  {
   "cell_type": "markdown",
   "id": "fc3dce64-593b-4b44-8e6a-754d93a6a753",
   "metadata": {},
   "source": [
    "##### 3.3. Provide the findings about the preparation for profit calculation step."
   ]
  },
  {
   "cell_type": "markdown",
   "id": "181fc69a-2166-4d00-bf14-63661b08f969",
   "metadata": {},
   "source": [
    "**Volume of Reserves Sufficient for No Losses**\n",
    "The calculated volume of reserves sufficient for no losses is: **111.11 thousand barrels**.\n",
    "This value represents the break-even point where the revenue from the reserves equals the cost of developing a new well. \n",
    "\n",
    "**Average Predicted Reserves for Each Region**\n",
    "- **Region 0**: 92.40 thousand barrels\n",
    "- **Region 1**: 68.71 thousand barrels\n",
    "- **Region 2**: 94.77 thousand barrels\n",
    "\n",
    "**Comparison with the Break-Even Volume**\n",
    "- **Region 0**: The average predicted reserves (92.40) do not exceed the break-even volume (111.11). Therefore, the development of new wells in Region 0 is not profitable under the given conditions. \n",
    "- **Region 1**: The average predicted reserves (68.71) do not exceed the break-even volume (111.11). Therefore, the development of new wells in Region 1 is also not profitable under the given conditions. \n",
    "- **Region 2**: The average predicted reserves (94.77) do not exceed the break-even volume (111.11). Therefore, the development of new wells in Region 2 is not profitable under the given conditions.\n",
    "\n",
    "**Findings**\n",
    "None of the regions have average predicted reserves that exceed the volume required for no losses. This suggests that under the current conditions, developing new wells in any of the these regions may not be profitable. "
   ]
  },
  {
   "cell_type": "markdown",
   "id": "4cf96029-742e-46b2-aee3-52f1df5bb9fc",
   "metadata": {},
   "source": [
    "# 4. Write a function to calculate profit from a set of selected oil wells and model predictions:"
   ]
  },
  {
   "cell_type": "markdown",
   "id": "3eea53f1-c9a8-42a9-95fc-5d243c823cc0",
   "metadata": {},
   "source": [
    "##### 4.1. Pick the wells with the highest values of predictions."
   ]
  },
  {
   "cell_type": "code",
   "execution_count": 71,
   "id": "dbacffb1-d17a-4647-8ffb-e0350d3f7a85",
   "metadata": {},
   "outputs": [],
   "source": [
    "# Store the actual target values and predictions from the validation set\n",
    "validation_target_0 = predictions_0['Actual']\n",
    "validation_target_1 = predictions_1['Actual']\n",
    "validation_target_2 = predictions_2['Actual']"
   ]
  },
  {
   "cell_type": "code",
   "execution_count": 72,
   "id": "8afdc186-5eaf-4bec-b519-a0cf391dc589",
   "metadata": {},
   "outputs": [
    {
     "data": {
      "text/plain": [
       "75721    122.073350\n",
       "80184     48.738540\n",
       "19864    131.338088\n",
       "76699     88.327757\n",
       "92991     36.959266\n",
       "            ...    \n",
       "21271    148.821520\n",
       "34014    123.454003\n",
       "81355     91.945213\n",
       "65720    149.295563\n",
       "11627     57.244039\n",
       "Name: Actual, Length: 25000, dtype: float64"
      ]
     },
     "metadata": {},
     "output_type": "display_data"
    }
   ],
   "source": [
    "display(validation_target_0)"
   ]
  },
  {
   "cell_type": "code",
   "execution_count": 73,
   "id": "d1918914-42ae-4d7c-a84b-137298aab66d",
   "metadata": {},
   "outputs": [
    {
     "data": {
      "text/plain": [
       "75721      0.000000\n",
       "80184     53.906522\n",
       "19864    134.766305\n",
       "76699    107.813044\n",
       "92991      0.000000\n",
       "            ...    \n",
       "21271    107.813044\n",
       "34014     53.906522\n",
       "81355     26.953261\n",
       "65720    110.992147\n",
       "11627    134.766305\n",
       "Name: Actual, Length: 25000, dtype: float64"
      ]
     },
     "metadata": {},
     "output_type": "display_data"
    }
   ],
   "source": [
    "display(validation_target_1)"
   ]
  },
  {
   "cell_type": "code",
   "execution_count": 74,
   "id": "4090c80d-6870-479d-962f-e5fce5199bcd",
   "metadata": {},
   "outputs": [
    {
     "data": {
      "text/plain": [
       "75721    117.441301\n",
       "80184     47.841249\n",
       "19864     45.883483\n",
       "76699    139.014608\n",
       "92991     84.004276\n",
       "            ...    \n",
       "21271     40.797226\n",
       "34014     87.144239\n",
       "81355     52.039812\n",
       "65720    136.961454\n",
       "11627    109.173206\n",
       "Name: Actual, Length: 25000, dtype: float64"
      ]
     },
     "metadata": {},
     "output_type": "display_data"
    }
   ],
   "source": [
    "display(validation_target_2)"
   ]
  },
  {
   "cell_type": "code",
   "execution_count": 75,
   "id": "935e390a-6ac8-4ead-928d-42b1be4acdd8",
   "metadata": {},
   "outputs": [],
   "source": [
    "# Define the calculate_profit function\n",
    "def calculate_profit(target, predictions, budget, cost_per_well, revenue_per_barrel, num_wells):\n",
    "    # sort the predictions in descending order\n",
    "    predictions_sorted = predictions.sort_values(by='Predicted', ascending=False)\n",
    "    # select the top 'num_wells' wells using predictions\n",
    "    selected_indices = predictions_sorted.index[:num_wells]\n",
    "    selected_targets = target.loc[selected_indices]\n",
    "    # calculate total volume of reserves based on the corresponding target values\n",
    "    total_volume_of_reserves = selected_targets.sum()\n",
    "    # calculate total revenue\n",
    "    total_revenue = total_volume_of_reserves * revenue_per_barrel * 1000  # Converting to barrels\n",
    "    # calculate total cost\n",
    "    total_cost = cost_per_well * num_wells\n",
    "   # calculate profit\n",
    "    profit = total_revenue - total_cost    \n",
    "    return total_volume_of_reserves, profit"
   ]
  },
  {
   "cell_type": "code",
   "execution_count": 76,
   "id": "a681eb0b-97bb-4ce7-9451-8c365b70725b",
   "metadata": {},
   "outputs": [],
   "source": [
    "# Train and evaluate models for each region\n",
    "avg_predicted_0, rmse_0, predictions_0 = train_and_evaluate(geo_data_0)\n",
    "avg_predicted_1, rmse_1, predictions_1 = train_and_evaluate(geo_data_1)\n",
    "avg_predicted_2, rmse_2, predictions_2 = train_and_evaluate(geo_data_2)"
   ]
  },
  {
   "cell_type": "code",
   "execution_count": 77,
   "id": "18695937-69ca-4bb7-a178-2bdf60d0052a",
   "metadata": {},
   "outputs": [
    {
     "name": "stdout",
     "output_type": "stream",
     "text": [
      "Region 0 - Average Predicted Reserves: 92.40, RMSE: 37.76\n",
      "Region 1 - Average Predicted Reserves: 68.71, RMSE: 0.89\n",
      "Region 2 - Average Predicted Reserves: 94.77, RMSE: 40.15\n"
     ]
    }
   ],
   "source": [
    "# Display training and evaluation results\n",
    "print(f'Region 0 - Average Predicted Reserves: {avg_predicted_0:.2f}, RMSE: {rmse_0:.2f}') \n",
    "print(f'Region 1 - Average Predicted Reserves: {avg_predicted_1:.2f}, RMSE: {rmse_1:.2f}') \n",
    "print(f'Region 2 - Average Predicted Reserves: {avg_predicted_2:.2f}, RMSE: {rmse_2:.2f}')"
   ]
  },
  {
   "cell_type": "code",
   "execution_count": 78,
   "id": "2764b5ce-3631-4e98-b551-4e8ba01c5b7f",
   "metadata": {},
   "outputs": [],
   "source": [
    "# Calculate profit for each region\n",
    "total_volume_0, profit_0 = calculate_profit(validation_target_0, predictions_0, budget, cost_per_well, revenue_per_barrel, num_wells)\n",
    "total_volume_1, profit_1 = calculate_profit(validation_target_1, predictions_1, budget, cost_per_well, revenue_per_barrel, num_wells)\n",
    "total_volume_2, profit_2 = calculate_profit(validation_target_2, predictions_2, budget, cost_per_well, revenue_per_barrel, num_wells)"
   ]
  },
  {
   "cell_type": "code",
   "execution_count": 79,
   "id": "0e04349e-bbc0-47fd-94bc-0df38a969615",
   "metadata": {},
   "outputs": [
    {
     "name": "stdout",
     "output_type": "stream",
     "text": [
      "Region 0 - Total Volume of Reserves: 29686.98 thousand barrels, Profit: 33591411.14 USD\n",
      "Region 1 - Total Volume of Reserves: 27589.08 thousand barrels, Profit: 24150866.97 USD\n",
      "Region 2 - Total Volume of Reserves: 27996.83 thousand barrels, Profit: 25985717.59 USD\n"
     ]
    }
   ],
   "source": [
    "# Display profit calculation results\n",
    "print(f'Region 0 - Total Volume of Reserves: {total_volume_0:.2f} thousand barrels, Profit: {profit_0:.2f} USD')\n",
    "print(f'Region 1 - Total Volume of Reserves: {total_volume_1:.2f} thousand barrels, Profit: {profit_1:.2f} USD')\n",
    "print(f'Region 2 - Total Volume of Reserves: {total_volume_2:.2f} thousand barrels, Profit: {profit_2:.2f} USD')"
   ]
  },
  {
   "cell_type": "markdown",
   "id": "c70da2ed-7639-44b9-b78d-c8ea327a5959",
   "metadata": {},
   "source": [
    "##### 4.2. Summarize the target volume of reserves in accordance with these predictions"
   ]
  },
  {
   "cell_type": "markdown",
   "id": "eb630df4-26a4-4a84-94ca-4803b13c3039",
   "metadata": {},
   "source": [
    "**Findings and Analysis**\n",
    "\n",
    "**Training and evaluation results:**\n",
    "- **Region 0**: The RMSE is approximately 40.9% of the average predicted reserves (37.76 / 92.40).  This indicates significant variabliity or error in the predictions. The predicted reserves might not be very reliable. \n",
    "- **Region 1**: The RMSE is approximately 1.3% of the average predicted reserves (0.89 / 68.71).  This implies very accurate predictions for Region 1, with minimal errors. The model performs excellently for this region.\n",
    "- **Region 2**: The RMSE is approximately 42.4% of the average predicted reserves (40.15 / 94.77).  This suggests that the model struggles to make accurate predictions for this region, simliar to Region 0.\n",
    "\n",
    "**Display profit calculation results:**\n",
    "- **Region 0**: This region has the *highest profit* among the three. The *total volume of reserves* is substantial, contributing to a significant profit.  \n",
    "- **Region 1**: Although this region has the *lowest average* predicted reserves, it still generates a notable profit. However, the *profit is lower* compared to Regions 0 and 2. \n",
    "- **Region 2**: This region has a *total volume of reserves* and *profit* slightly *higher* than Region 1 but lower than Region 0."
   ]
  },
  {
   "cell_type": "markdown",
   "id": "537ed2b8-756b-48f7-aef5-2c10eade3e59",
   "metadata": {},
   "source": [
    "##### 4.3. Provide findings: suggest a region for oil wells' development and justify the choice. Calculate the profit for the obtained volume of reserves."
   ]
  },
  {
   "cell_type": "markdown",
   "id": "5ab49d52-bdc9-4160-a9e5-fb934f0ae8da",
   "metadata": {},
   "source": [
    "**Suggested Region for Oil Wells' Development and Justification for Choice**\n",
    "**Region 0:** is recommended for the development of oil wells based on the following key points: \n",
    "\n",
    "**Justification of the Choice**\n",
    "**Highest Average Profit:**\n",
    "- Region 0: Average Profit: 33,591,411.14\n",
    "- Region 1: Average Profit: 24,150,866.97\n",
    "- Region 2: Average Profit: $25,985,717.59\n",
    "\n",
    "*Region 0 has the highest average profit among the three regions.*\n",
    "\n",
    "\n",
    "**Volume of Reserves:**\n",
    "- Region 0: Total Volume of Reserves: 29,686.98 thousand barrels\n",
    "- Region 1: Total Volume of Reserves: 27,589.08 thousand barrels\n",
    "- Region 2: Total Volume of Reserves: 27,996.83 thousand barrels\n",
    "\n",
    "*Region 0 also leads in the total volume of reserves, which is a crucial metric for long-term viability.*\n"
   ]
  },
  {
   "cell_type": "markdown",
   "id": "3d0b8ab3-2c22-4b8d-a3a7-e19db6e45558",
   "metadata": {},
   "source": [
    "# 5. Calculate risks and profit for each region:"
   ]
  },
  {
   "cell_type": "markdown",
   "id": "a2046dcc-d51f-4866-829e-ac5a81b7de90",
   "metadata": {},
   "source": [
    "##### 5.1. Use the bootstrapping technique with 1000 samples to find the distribution of profit."
   ]
  },
  {
   "cell_type": "code",
   "execution_count": 95,
   "id": "6959c786-5839-4b13-a41c-fe1e269fe378",
   "metadata": {},
   "outputs": [],
   "source": [
    "# Define the bootstrap_profit function\n",
    "def bootstrap_profit(target, predictions, budget, cost_per_well, revenue_per_barrel, num_wells, n_bootstraps=1000):\n",
    "    profits = []\n",
    "    for _ in range(n_bootstraps):\n",
    "        sample_indices = np.random.choice(predictions.index, size=500, replace=True)\n",
    "        sample_predictions = predictions.loc[sample_indices]\n",
    "        sample_target = target.loc[sample_indices]\n",
    "        _, profit = calculate_profit(sample_target, sample_predictions, budget, cost_per_well, revenue_per_barrel, num_wells)\n",
    "        profits.append(profit)\n",
    "    return np.array(profits)"
   ]
  },
  {
   "cell_type": "code",
   "execution_count": 96,
   "id": "e15a4294-8bd7-4e93-a950-ce16330e41fc",
   "metadata": {},
   "outputs": [],
   "source": [
    "# Bootstrap profit distributions for each region\n",
    "profits_0 = bootstrap_profit(validation_target_0, predictions_0, budget, cost_per_well, revenue_per_barrel, num_wells, n_bootstraps)\n",
    "profits_1 = bootstrap_profit(validation_target_1, predictions_1, budget, cost_per_well, revenue_per_barrel, num_wells, n_bootstraps)\n",
    "profits_2 = bootstrap_profit(validation_target_2, predictions_2, budget, cost_per_well, revenue_per_barrel, num_wells, n_bootstraps)"
   ]
  },
  {
   "cell_type": "markdown",
   "id": "12f46567-3dbe-4476-823e-8d9b479a92b2",
   "metadata": {},
   "source": [
    "##### 5.2. Find average profit, 95% confidence interval and risk of losses. Loss is negative profit, calculate it as a probability and then express as a percentage."
   ]
  },
  {
   "cell_type": "code",
   "execution_count": 99,
   "id": "490c1c42-2269-43af-bf3b-cb4dc0f301af",
   "metadata": {},
   "outputs": [],
   "source": [
    "# Define the calculate_statistics function\n",
    "def calculate_statistics(profits):\n",
    "    average_profit = np.mean(profits)\n",
    "    confidence_interval = np.percentile(profits, [2.5, 97.5])\n",
    "    risk_of_losses = (profits < 0).mean() * 100  # Convert to percentage\n",
    "    return average_profit, confidence_interval, risk_of_losses"
   ]
  },
  {
   "cell_type": "code",
   "execution_count": 100,
   "id": "922e07d4-1837-4bea-8abf-f60be7ef4220",
   "metadata": {},
   "outputs": [],
   "source": [
    "# Calculate statistics for each region\n",
    "avg_profit_0, ci_0, risk_0 = calculate_statistics(profits_0)\n",
    "avg_profit_1, ci_1, risk_1 = calculate_statistics(profits_1)\n",
    "avg_profit_2, ci_2, risk_2 = calculate_statistics(profits_2)"
   ]
  },
  {
   "cell_type": "code",
   "execution_count": 101,
   "id": "9a3dd05d-66dd-48a4-9d26-93201d9c5f9a",
   "metadata": {},
   "outputs": [
    {
     "name": "stdout",
     "output_type": "stream",
     "text": [
      "Region 0 - Average Profit: 6082585.72 USD, 95% Confidence Interval: [   19082.27457335 12330631.35637574], Risk of Losses: 2.50%\n",
      "Region 1 - Average Profit: 6496381.68 USD, 95% Confidence Interval: [ 1605822.14362257 11719343.9642238 ], Risk of Losses: 0.50%\n",
      "Region 2 - Average Profit: 5963199.56 USD, 95% Confidence Interval: [  -12627.57243336 12588244.51221147], Risk of Losses: 2.60%\n"
     ]
    }
   ],
   "source": [
    "# Print results \n",
    "print(f'Region 0 - Average Profit: {avg_profit_0:.2f} USD, 95% Confidence Interval: {ci_0}, Risk of Losses: {risk_0:.2f}%') \n",
    "print(f'Region 1 - Average Profit: {avg_profit_1:.2f} USD, 95% Confidence Interval: {ci_1}, Risk of Losses: {risk_1:.2f}%') \n",
    "print(f'Region 2 - Average Profit: {avg_profit_2:.2f} USD, 95% Confidence Interval: {ci_2}, Risk of Losses: {risk_2:.2f}%')"
   ]
  },
  {
   "cell_type": "code",
   "execution_count": 102,
   "id": "586c9bf2-c732-4f2e-95cf-b791427418bb",
   "metadata": {},
   "outputs": [],
   "source": [
    "def suggest_region(avg_profit_0, avg_profit_1, avg_profit_2, risk_0, risk_1, risk_2, threshold=2.5):\n",
    "    results = []\n",
    "    if risk_0 < threshold:\n",
    "        results.append((0, avg_profit_0, risk_0))\n",
    "    if risk_1 < threshold:\n",
    "        results.append((1, avg_profit_1, risk_1))\n",
    "    if risk_2 < threshold:\n",
    "        results.append((2, avg_profit_2, risk_2))\n",
    "    \n",
    "    if results:\n",
    "        selected_region = max(results, key=lambda x: x[1])\n",
    "        return f\"Region {selected_region[0]} is suggested for development of oil wells with an average profit of {selected_region[1]:.2f} USD and a risk of losses of {selected_region[2]:.2f}%\"\n",
    "    else:\n",
    "        return \"None of the regions meet the criteria with a risk of losses lower than the threshold.\""
   ]
  },
  {
   "cell_type": "code",
   "execution_count": 103,
   "id": "0266cf60-2e56-4377-be06-ac287f1d93e2",
   "metadata": {},
   "outputs": [
    {
     "name": "stdout",
     "output_type": "stream",
     "text": [
      "Region 1 is suggested for development of oil wells with an average profit of 6496381.68 USD and a risk of losses of 0.50%\n"
     ]
    }
   ],
   "source": [
    "# Suggest region based on the calculated statistics\n",
    "suggestion = suggest_region(avg_profit_0, avg_profit_1, avg_profit_2, risk_0, risk_1, risk_2)\n",
    "print(suggestion)"
   ]
  },
  {
   "cell_type": "markdown",
   "id": "32f1322d-f868-4956-9de3-a40da8eacb2c",
   "metadata": {},
   "source": [
    "##### 5.3. Provide findings: suggest a region for development of oil wells and justify the choice."
   ]
  },
  {
   "cell_type": "markdown",
   "id": "3e660753-c732-482e-885e-b6a53ec459a1",
   "metadata": {},
   "source": [
    "**Analysis of Bootstrapping Results**\n",
    "\n",
    "**Region 1:**\n",
    "- Average Profit: $6,470,076.13\n",
    "- Risk of Losses: 0.20%\n",
    "\n",
    "*Observation:* Region 1 has a solid average profit and an impressively low risk of losses. This makes it a highly reliable option for oil well development."
   ]
  },
  {
   "cell_type": "markdown",
   "id": "5a10de8a-c6c8-4fa4-a5c5-33fd0348d187",
   "metadata": {},
   "source": [
    "# 6. Conclusion\n",
    "\n",
    "Region 1 is suggested for the development of oil wells based on:*\n",
    "\n",
    "**Highest Average Profit:** Among the regions evaluated, Region 1 stands out with an average profit of $6,470,076.13.\n",
    "\n",
    "**Least Risk of Losses:** Region 1 boasts the lowest risk of losses at only 0.20%, indicating a very low probability of incurring losses. This significantly enhances its attractiveness as a development site.\n",
    "\n",
    "**Overall Feasibility:** The combination of high profit potential and low risk makes Region 1 the optimal choice for oil well development.\n",
    "\n",
    "This recommendation is based on a thorough analysis of both the profitability and risk metrics. Developing wells in Region 1 offers the best balance of profitability and security, providing a robust opportunity for returns on investment."
   ]
  }
 ],
 "metadata": {
  "ExecuteTimeLog": [
   {
    "duration": 8,
    "start_time": "2025-01-22T09:07:25.114Z"
   }
  ],
  "kernelspec": {
   "display_name": "Python 3 (ipykernel)",
   "language": "python",
   "name": "python3"
  },
  "language_info": {
   "codemirror_mode": {
    "name": "ipython",
    "version": 3
   },
   "file_extension": ".py",
   "mimetype": "text/x-python",
   "name": "python",
   "nbconvert_exporter": "python",
   "pygments_lexer": "ipython3",
   "version": "3.12.7"
  },
  "toc": {
   "base_numbering": 1,
   "nav_menu": {},
   "number_sections": true,
   "sideBar": true,
   "skip_h1_title": true,
   "title_cell": "Table of Contents",
   "title_sidebar": "Contents",
   "toc_cell": false,
   "toc_position": {},
   "toc_section_display": true,
   "toc_window_display": false
  }
 },
 "nbformat": 4,
 "nbformat_minor": 5
}
